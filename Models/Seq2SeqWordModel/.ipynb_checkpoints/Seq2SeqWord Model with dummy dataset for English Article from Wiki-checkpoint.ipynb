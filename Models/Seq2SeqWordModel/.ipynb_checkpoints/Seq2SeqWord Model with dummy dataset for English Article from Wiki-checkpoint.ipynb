{
 "cells": [
  {
   "cell_type": "markdown",
   "metadata": {},
   "source": [
    "# Seq2Seq Chatbot\n",
    "# How to implement Seq2Seq LSTM Model in Keras #ShortcutNLP"
   ]
  },
  {
   "cell_type": "code",
   "execution_count": 1,
   "metadata": {},
   "outputs": [],
   "source": [
    "# https://towardsdatascience.com/how-to-implement-seq2seq-lstm-model-in-keras-shortcutnlp-6f355f3e5639"
   ]
  },
  {
   "cell_type": "code",
   "execution_count": 2,
   "metadata": {},
   "outputs": [
    {
     "name": "stderr",
     "output_type": "stream",
     "text": [
      "Using TensorFlow backend.\n",
      "/home/ifte/amiebot_project/lib/python3.6/site-packages/tensorflow/python/framework/dtypes.py:516: FutureWarning: Passing (type, 1) or '1type' as a synonym of type is deprecated; in a future version of numpy, it will be understood as (type, (1,)) / '(1,)type'.\n",
      "  _np_qint8 = np.dtype([(\"qint8\", np.int8, 1)])\n",
      "/home/ifte/amiebot_project/lib/python3.6/site-packages/tensorflow/python/framework/dtypes.py:517: FutureWarning: Passing (type, 1) or '1type' as a synonym of type is deprecated; in a future version of numpy, it will be understood as (type, (1,)) / '(1,)type'.\n",
      "  _np_quint8 = np.dtype([(\"quint8\", np.uint8, 1)])\n",
      "/home/ifte/amiebot_project/lib/python3.6/site-packages/tensorflow/python/framework/dtypes.py:518: FutureWarning: Passing (type, 1) or '1type' as a synonym of type is deprecated; in a future version of numpy, it will be understood as (type, (1,)) / '(1,)type'.\n",
      "  _np_qint16 = np.dtype([(\"qint16\", np.int16, 1)])\n",
      "/home/ifte/amiebot_project/lib/python3.6/site-packages/tensorflow/python/framework/dtypes.py:519: FutureWarning: Passing (type, 1) or '1type' as a synonym of type is deprecated; in a future version of numpy, it will be understood as (type, (1,)) / '(1,)type'.\n",
      "  _np_quint16 = np.dtype([(\"quint16\", np.uint16, 1)])\n",
      "/home/ifte/amiebot_project/lib/python3.6/site-packages/tensorflow/python/framework/dtypes.py:520: FutureWarning: Passing (type, 1) or '1type' as a synonym of type is deprecated; in a future version of numpy, it will be understood as (type, (1,)) / '(1,)type'.\n",
      "  _np_qint32 = np.dtype([(\"qint32\", np.int32, 1)])\n",
      "/home/ifte/amiebot_project/lib/python3.6/site-packages/tensorflow/python/framework/dtypes.py:525: FutureWarning: Passing (type, 1) or '1type' as a synonym of type is deprecated; in a future version of numpy, it will be understood as (type, (1,)) / '(1,)type'.\n",
      "  np_resource = np.dtype([(\"resource\", np.ubyte, 1)])\n",
      "/home/ifte/amiebot_project/lib/python3.6/site-packages/tensorboard/compat/tensorflow_stub/dtypes.py:541: FutureWarning: Passing (type, 1) or '1type' as a synonym of type is deprecated; in a future version of numpy, it will be understood as (type, (1,)) / '(1,)type'.\n",
      "  _np_qint8 = np.dtype([(\"qint8\", np.int8, 1)])\n",
      "/home/ifte/amiebot_project/lib/python3.6/site-packages/tensorboard/compat/tensorflow_stub/dtypes.py:542: FutureWarning: Passing (type, 1) or '1type' as a synonym of type is deprecated; in a future version of numpy, it will be understood as (type, (1,)) / '(1,)type'.\n",
      "  _np_quint8 = np.dtype([(\"quint8\", np.uint8, 1)])\n",
      "/home/ifte/amiebot_project/lib/python3.6/site-packages/tensorboard/compat/tensorflow_stub/dtypes.py:543: FutureWarning: Passing (type, 1) or '1type' as a synonym of type is deprecated; in a future version of numpy, it will be understood as (type, (1,)) / '(1,)type'.\n",
      "  _np_qint16 = np.dtype([(\"qint16\", np.int16, 1)])\n",
      "/home/ifte/amiebot_project/lib/python3.6/site-packages/tensorboard/compat/tensorflow_stub/dtypes.py:544: FutureWarning: Passing (type, 1) or '1type' as a synonym of type is deprecated; in a future version of numpy, it will be understood as (type, (1,)) / '(1,)type'.\n",
      "  _np_quint16 = np.dtype([(\"quint16\", np.uint16, 1)])\n",
      "/home/ifte/amiebot_project/lib/python3.6/site-packages/tensorboard/compat/tensorflow_stub/dtypes.py:545: FutureWarning: Passing (type, 1) or '1type' as a synonym of type is deprecated; in a future version of numpy, it will be understood as (type, (1,)) / '(1,)type'.\n",
      "  _np_qint32 = np.dtype([(\"qint32\", np.int32, 1)])\n",
      "/home/ifte/amiebot_project/lib/python3.6/site-packages/tensorboard/compat/tensorflow_stub/dtypes.py:550: FutureWarning: Passing (type, 1) or '1type' as a synonym of type is deprecated; in a future version of numpy, it will be understood as (type, (1,)) / '(1,)type'.\n",
      "  np_resource = np.dtype([(\"resource\", np.ubyte, 1)])\n"
     ]
    }
   ],
   "source": [
    "import string\n",
    "from string import digits\n",
    "import matplotlib.pyplot as plt\n",
    "%matplotlib inline\n",
    "import re\n",
    "from sklearn.utils import shuffle\n",
    "from sklearn.model_selection import train_test_split\n",
    "from keras.layers import Input, LSTM, Embedding, Dense\n",
    "from keras.models import Model"
   ]
  },
  {
   "cell_type": "code",
   "execution_count": 3,
   "metadata": {},
   "outputs": [],
   "source": [
    "from nltk.tokenize import sent_tokenize\n",
    "import numpy as np\n",
    "import re\n",
    "\n",
    "#lines= pd.read_table('jpn.txt', names=['eng', 'prediction'])\n",
    "data_path = '../../Dataset/Bangladesh Dummy dataset from wikipedia.txt'\n",
    "\n",
    "with open(data_path,'r', encoding='utf-8') as f:\n",
    "    lines = f.read()\n",
    "\n",
    "lines = \" \".join(lines.split())\n",
    "lines = re.sub(r\"\\s+\", \" \", lines)\n",
    "\n",
    "sentences = sent_tokenize(lines)\n",
    "sent = np.asarray(sentences)\n",
    "sentTwo = sent.reshape(len(sent)//2,2)\n"
   ]
  },
  {
   "cell_type": "code",
   "execution_count": 4,
   "metadata": {},
   "outputs": [
    {
     "data": {
      "text/plain": [
       "'Bangladesh officially the People\\'s Republic of Bangladesh (গণপ্রজাতন্ত্রী বাংলাদেশ Gônoprojatontri Bangladesh), is a country in South Asia. While it is the 92nd-largest country, spanning 147,570 square kilometres (56,980 sq mi), it is the world\\'s 8th-most populous country with a population nearing 163 million, making it one of the most densely populated countries in the world. Bangladesh shares land borders with India to the west, north and the east and Myanmar to the east, whereas the Bay of Bengal lies to its south. Dhaka, its capital and largest city, is also the economic, political and the cultural hub of the country. Chittagong, the largest sea port, is the second largest city. The country\\'s geography is dominated by the Ganges delta which empties into the Bay of Bengal the combined waters of several river systems, including those of the Brahmaputra and the Ganges. As a result, the country is criss-crossed by numerous rivers and inland water ways. Highlands with evergreen forests cover the landscape in the northeastern and southeastern regions of the country. The country also features the longest natural sea beach and most of the largest mangrove forest in the world. The country\\'s biodiversity includes a vast array of plants and wildlife, including the endangered Bengal tiger, the national animal. Bangladesh forms the largest and eastern part of the Bengal region. According to the ancient Indian epics, Ramayana and Mahabharata, the Vanga Kingdom, one of the namesakes of the Bengal region, was known as an ally of the legendary Ayodhya and was notable for its strong navy. In the ancient and classical period of the Indian subcontinent, the territory of Bangladesh was home to many principalities, including the Pundra, the Gangaridai, Gauda, Samatata and Harikela. It was also a Mauryan province under the reign of Ashoka. The principalities were notable for their overseas trade, their contacts with the Roman world, the export of fine muslin and silk to the Middle East, and spreading of philosophy and art to Southeast Asia. The Pala Empire, the Chandra dynasty and the Sena dynasty were the last pre-Islamic Bengali middle kingdoms. Islam was introduced during the Pala Empire, through trade with the Abbasid Caliphate, but following the early conquest of Bakhtiyar Khalji and the subsequent establishment of the Delhi Sultanate and preaching of Shah Jalal in East Bengal, it fully spread across the entire region. Later, it was absorbed into the Mughal Empire in 1576, although part of the region was overrun by the Suri Empire. Following the decline of the Mughal Empire in the early 1700s, Bengal became a semi-independent state under the Nawabs of Bengal, ultimately led by Siraj ud-Daulah. It was later conquered by the British East India Company at the Battle of Plassey in 1757. The borders of modern Bangladesh were established with the separation of Bengal and India in August 1947, when the region became East Pakistan as a part of the newly formed State of Pakistan following the Boundary of the Partition of India. Later the rise of the Bengali nationalist and self-determination movement led to the Liberation War and eventually resulted in the emergence of Bangladesh as an independent sovereign in 1971. Bengalis, who speak the official Bengali language, make up 98% of the population of Bangladesh. The politically dominant Bengali Muslims make the nation the world\\'s fourth largest Muslim-majority country. While recognising Islam as the country\\'s established religion, the constitution grants freedom of religion to non-Muslims. A middle power, Bangladesh is a unitary parliamentary democracy and constitutional republic in the Westminster tradition. The country is divided into eight administrative divisions and sixty-four districts. It is one of the emerging and growth-leading economies of the world, and is listed among the Next Eleven countries. It has one of the fastest real GDP growth rates in the world. Its gross domestic product ranks 39th largest in the world in terms of market exchange rates and 29th in purchasing power parity. Its per capita income ranks 143th and 136th in two measures. While in the recent years Bangladesh has registered notable success in using Microcredit as a tool for poverty alleviation, women empowerment, generation of income through export of RMG, population control, reducing child mortality and combating natural disasters; the country continues to face the challenges of Rohingya refugee, terrorism, corruption, and erratic climate change. The etymology of Bangladesh (Country of Bengal) can be traced to the early 20th century, when Bengali patriotic songs, such as Namo Namo Namo Bangladesh Momo by Kazi Nazrul Islam and Aaji Bangladesher Hridoy by Rabindranath Tagore, used the term. The term Bangladesh was often written as two words, Bangla Desh, in the past. Starting in the 1950s, Bengali nationalists used the term in political rallies in East Pakistan. The exact origin of the word Bangla is unknown, though it is believed to come from \"Vanga\", an ancient kingdom and geopolitical division on the Ganges delta in the Indian subcontinent. It was located in southern Bengal, with the core region including present-day southern West Bengal (India) and southwestern Bangladesh. The suffix \"al\" came to be added to it from the fact that the ancient rajahs of this land raised mounds of earth 10 feet high and 20 in breadth in lowlands at the foot of the hills which were called \"al\". From this suffix added to the Bung, the name Bengal arose and gained currency\". Support to this view is found in Ghulam Husain Salim\\'s Riyaz-us-Salatin. Other theories point to a Bronze Age proto-Dravidian tribe, the Austric word \"Bonga\" (Sun god), and the Iron Age Vanga Kingdom. The Indo-Aryan suffix Desh is derived from the Sanskrit word deśha, which means \"land\" or \"country\". Hence, the name Bangladesh means \"Land of Bengal\" or \"Country of Bengal\". The term Bangla denotes both the Bengal region and the Bengali language. The earliest known usage of the term is the Nesari plate in 805 AD. The term Vangaladesa is found in 11th-century South Indian records. The term gained official status during the Sultanate of Bengal in the 14th century. Shamsuddin Ilyas Shah proclaimed himself as the first \"Shah of Bangala\" in 1342. The word Bangla became the most common name for the region during the Islamic period. The Portuguese referred to the region as Bengala in the 16th century. History Main articles: History of Bengal and History of Bangladesh Early and medieval periods The 9th-century ruins of Somapura Mahavihara. The ruins hosted the largest monastery in pre-Islamic Bangladesh and is a UNESCO World Heritage Site The 15th-century Sixty Dome Mosque is the largest mosque in Bangladesh that was built during the period of the Bengal Sultanate The 17th-century incomplete Lalbagh Fort is the largest fort in Bangladesh from the period of the Mughal Empire, when the country formed part of Bengal Subah Stone Age tools found in Bangladesh indicate human habitation for over 20,000 years, and remnants of Copper Age settlements date back 4,000 years. Ancient Bengal was settled by Austroasiatics, Tibeto-Burmans, Dravidians and Indo-Aryans in consecutive waves of migration. Archaeological evidence confirms that by the second millennium BCE, rice-cultivating communities inhabited the region. By the 11th century people lived in systemically-aligned housing, buried their dead, and manufactured copper ornaments and black and red pottery. The Ganges, Brahmaputra and Meghna rivers were natural arteries for communication and transportation, and estuaries on the Bay of Bengal permitted maritime trade. The early Iron Age saw the development of metal weaponry, coinage, agriculture and irrigation. Major urban settlements formed during the late Iron Age, in the mid-first millennium BCE, when the Northern Black Polished Ware culture developed. In 1879, Alexander Cunningham identified Mahasthangarh as the capital of the Pundra Kingdom mentioned in the Rigveda. The oldest inscription in Bangladesh was found in Mahasthangarh and dates from the 3rd century BCE. It is written in the Brahmi script. Greek and Roman records of the ancient Gangaridai Kingdom, which (according to legend) deterred the invasion of Alexander the Great, are linked to the fort city in Wari-Bateshwar. The site is also identified with the prosperous trading center of Souanagoura listed on Ptolemy\\'s world map. Roman geographers noted a large seaport in southeastern Bengal, corresponding to the present-day Chittagong region. Ancient Buddhist and Hindu states which ruled Bangladesh included the Vanga, Samatata and Pundra kingdoms, the Mauryan and Gupta Empires, the Varman dynasty, Shashanka\\'s kingdom, the Khadga and Candra dynasties, the Pala Empire, the Sena dynasty, the Harikela kingdom and the Deva dynasty. These states had well-developed currencies, banking, shipping, architecture and art, and the ancient universities of Bikrampur and Mainamati hosted scholars and students from other parts of Asia. Xuanzang of China was a noted scholar who resided at the Somapura Mahavihara (the largest monastery in ancient India), and Atisa travelled from Bengal to Tibet to preach Buddhism. The earliest form of the Bengali language began to the emerge during the eighth century. Early Muslim explorers and missionaries arrived in Bengal late in the first millennium CE. The Islamic conquest of Bengal began with the 1204 invasion by Muhammad bin Bakhtiyar Khalji; after annexing Bengal to the Delhi Sultanate, Khilji waged a military campaign in Tibet. Bengal was ruled by the Delhi Sultanate for a century by governors from the Mamluk, Balban and Tughluq dynasties. Subsequently the independent Bengal Sultanate was established by the rabel governors in 1352. During their rule Bengal was transformed into a cosmopolitan Islamic superpower and became a major trading nation in the world, often referred by the Europeans as the richest country to trade with. The sultanate\\'s ruling houses included the Ilyas Shahi, Jalaluddin Muhammad Shah, Hussain Shahi, Suri and Karrani dynasties, and the era saw the introduction of a distinct mosque architecture and the tangka currency. The Arakan region was brought under Bengali hegemony. The Bengal Sultanate was visited by explorers Ibn Battuta, Admiral Zheng He and Niccolo De Conti. The Khorasanis referred to the land as an \"inferno full of gifts\", due to its unbearable climate but abundance of wealth. During the late 16th century, the Baro-Bhuyan (a confederation of Muslim and Hindu aristocrats) ruled eastern Bengal; its leader was the Mansad-e-Ala, a title held by Isa Khan and his son Musa Khan. The Khan dynasty are considered local heroes for resisting North Indian invasions with their river navies. The Mughal Empire controlled Bengal by the 17th century. During the reign of Emperor Akbar, the Bengali agrarian calendar was reformed to facilitate tax collection. The Mughals established Dhaka as a fort city and commercial metropolis, and it was the capital of Mughal Bengal for 75 years. In 1666, the Mughals expelled the Arakanese from Chittagong. Mughal Bengal attracted foreign traders for its muslin and silk goods, and the Armenians were a notable merchant community. A Portuguese settlement in Chittagong flourished in the southeast, and a Dutch settlement in Rajshahi existed in the north. Bengal accounted for 40% of overall Dutch imports from Asia; including more than 50% of textiles and around 80% of silks. The Bengal Subah, described as the Paradise of the Nations, was the empire\\'s wealthiest province, and a major global exporter, a notable center of worldwide industries such as muslin, cotton textiles, silk, and shipbuilding,. Its citizens also enjoyed one of the world\\'s most superior living standards. Map of Bengal and Bihar, dated 1776 During the 18th century, the Nawabs of Bengal became the region\\'s de facto rulers. The title of the ruler is popularly known as the Nawab of Bengal, Bihar and Orissa, given that the Bengali Nawab\\'s realm encompassed much of the eastern subcontinent. The Nawabs forged alliances with European colonial companies, which made the region relatively prosperous early in the century. Bengal accounted for 50% of the gross domestic product of the empire. The Bengali economy relied on textile manufacturing, shipbuilding, saltpetre production, craftsmanship and agricultural produce. Bengal was a major hub for international trade - silk and cotton textiles from Bengal were worn in Europe, Japan, Indonesia and Central Asia. Annual Bengali shipbuilding output was 223,250 tons, compared to an output of 23,061 tons in the nineteen colonies of North America. Bengali shipbuilding proved to be more advanced than European shipbuilding prior to the Industrial Revolution. The flush deck of Bengali rice ships was later replicated in European shipbuilding to replace the stepped deck design for ship hulls. The Bengali Muslim population was a product of conversion and religious evolution, and their pre-Islamic beliefs included elements of Buddhism and Hinduism. The construction of mosques, Islamic academies (madrasas) and Sufi monasteries (khanqahs) facilitated conversion, and Islamic cosmology played a significant role in developing Bengali Muslim society. Scholars have theorised that Bengalis were attracted to Islam by its egalitarian social order, which contrasted with the Hindu caste system. One of the notable Muslim preachers was Shah Jalal who arrived in the region of Sylhet in 1303 with many other disciples to preach the religion to the people. By the 15th century, Muslim poets were writing in the Bengali language. Notable medieval Bengali Muslim poets included Daulat Qazi, Abdul Hakim and Alaol. Syncretic cults, such as the Baul movement, emerged on the fringes of Bengali Muslim society. The Persianate culture was significant in Bengal, where cities like Sonargaon became the easternmost centers of Persian influence. The Mughals had aided France during the Seven Years\\' War to avoid loosing the Bengal region to the British. However, in the Battle of Plassey the British East India Company registered a decisive victory over the Nawab of Bengal and his French allies on 22 June 1757, under the leadership of Robert Clive. The battle followed the order of Siraj-ud-Daulah, the last independent Nawab of Bengal, to the English to stop the extension of their fortification. Robert Clive bribed Mir Jafar, the commander-in-chief of the Nawab\\'s army, and also promised him to make him Nawab of Bengal which helped him to defeat Siraj-ud-Daulah and capture Calcutta. The battle consolidated the Company\\'s presence in Bengal, which later expanded to cover much of India over the next hundred years. Although they had lost control of Bengal Subah, Shah Alam II was involved in the Bengal War which ended once more in their defeat at the Battle of Buxar. Colonial period Main articles: Bengal Presidency and Eastern Bengal and Assam Panam Road, Narayanganj during British rule in 1875 After the 1757 Battle of Plassey, Bengal was the first region of the Indian subcontinent conquered by the British East India Company. The company formed the Presidency of Fort William, which administered the region until 1858. A notable aspect of company rule was the Permanent Settlement, which established the feudal zamindari system. The plunder of Bengal directly contributed to the Industrial Revolution in Britain, with the capital amassed from Bengal used to invest in British industries such as textile and greatly increase British wealth, while at the same time leading to deindustrialisation of Bengal\\'s traditional textile industry. The economic mismanagement directly led to the Great Bengal famine of 1770, which is estimated to have caused the deaths of about 10 million people, as a third of the population in the affected region starved to death. Several rebellions broke out during the early 19th century (including one led by Titumir), but British rule displaced the Muslim ruling class. A conservative Islamic cleric, Haji Shariatullah, sought to overthrow the British by propagating Islamic revivalism. Several towns in Bangladesh participated in the Indian Rebellion of 1857 and pledged allegiance to the last Mughal emperor, Bahadur Shah Zafar, who was later exiled to neighbouring Burma. The challenge posed to company rule by the failed Indian Mutiny led to the creation of the British Indian Empire as a crown colony. The British established several schools, colleges and a university in what is now Bangladesh. Syed Ahmed Khan and Ram Mohan Roy promoted modern and liberal education in the subcontinent, inspiring the Aligarh movement and the Bengal Renaissance. During the late 19th century, novelists, social reformers and feminists emerged from Muslim Bengali society. Electricity and municipal water systems were introduced in the 1890s; cinemas opened in many towns during the early 20th century. East Bengal\\'s plantation economy was important to the British Empire, particularly its jute and tea. The British established tax-free river ports, such as the Port of Narayanganj, and large seaports like the Port of Chittagong. Bengal had the highest gross domestic product in British India. Bengal was one of the first regions in Asia to have a railway. The first railway in what is now Bangladesh began operating in 1862. In comparison, Japan saw its first railway in 1872. The main railway companies in the region were the Eastern Bengal Railway and Assam Bengal Railway. Railways competed with waterborne transport to become one of the main mediums of transport. Image of the completion of Hardinge Railway Bridge over the Padma River. Bangladesh was one of the first regions in Asia to have rail transport. Railway development saw many rail brides built over rivers Social tensions also increased under British rule, particularly between wealthy Hindus and the Muslim-majority population. The Permanent Settlement made millions of Muslim peasants tenants of Hindu estates, and resentment of the Hindu landed gentry grew. Supported by the Muslim aristocracy, the British government created the province of Eastern Bengal and Assam in 1905; the new province received increased investment in education, transport and industry. However, the first partition of Bengal created an uproar in Calcutta and the Indian National Congress. In response to growing Hindu nationalism, the All India Muslim League was formed in Dhaka during the 1906 All India Muhammadan Educational Conference. The British government reorganised the provinces in 1912, reuniting East and West Bengal and making Assam a second province. The Raj was slow to allow self-rule in the colonial subcontinent. It established the Bengal Legislative Council in 1862, and the council\\'s native Bengali representation increased during the early 20th century. The Bengal Provincial Muslim League was formed in 1913 to advocate civil rights for Bengali Muslims within a constitutional framework. During the 1920s, the league was divided into factions supporting the Khilafat movement and favouring co-operation with the British to achieve self-rule. Segments of the Bengali elite supported Mustafa Kemal Ataturk\\'s secularist forces. In 1929, the All Bengal Tenants Association was formed in the Bengal Legislative Council to counter the influence of the Hindu landed gentry, and the Indian Independence and Pakistan Movements strengthened during the early 20th century. After the Morley-Minto Reforms and the diarchy era in the legislatures of British India, the British government promised limited provincial autonomy in 1935. The Bengal Legislative Assembly, British India\\'s largest legislature, was established in 1937. Although it won a majority of seats in 1937, the Bengal Congress boycotted the legislature. A. K. Fazlul Huq of the Krishak Praja Party was elected as the first Prime Minister of Bengal. In 1940 Huq supported the Lahore Resolution, which envisaged independent states in the northwestern and eastern Muslim-majority regions of the subcontinent. The first Huq ministry, a coalition with the Bengal Provincial Muslim League, lasted until 1941; it was followed by a Huq coalition with the Hindu Mahasabha which lasted until 1943. Huq was succeeded by Khawaja Nazimuddin, who grappled with the effects of the Burma Campaign, the Bengal famine of 1943, which killed up to 3 million people, and the Quit India movement. In 1946, the Bengal Provincial Muslim League won the provincial election, taking 113 of the 250-seat assembly (the largest Muslim League mandate in British India). H. S. Suhrawardy, who made a final futile effort for a United Bengal in 1946, was the last premier of Bengal. Partition of Bengal (1947) Main article: Partition of Bengal (1947) Three Bengali Prime Ministers Prime Ministers of Bengal A. K. Fazlul Huq, Khawaja Nazimuddin and H. S. Suhrawardy. One of them, Suhrawardy, proposed an independent Bengal in 1947 On 3 June 1947 Mountbatten Plan outlined the partition of British India. On 20 June, the Bengal Legislative Assembly met to decide on the partition of Bengal. At the preliminary joint meeting, it was decided (120 votes to 90) that if the province remained united it should join the Constituent Assembly of Pakistan. At a separate meeting of legislators from West Bengal, it was decided (58 votes to 21) that the province should be partitioned and West Bengal should join the Constituent Assembly of India. At another meeting of legislators from East Bengal, it was decided (106 votes to 35) that the province should not be partitioned and (107 votes to 34) that East Bengal should join the Constituent Assembly of Pakistan if Bengal was partitioned. On 6 July, the Sylhet region of Assam voted in a referendum to join East Bengal. Cyril Radcliffe was tasked with drawing the borders of Pakistan and India, and the Radcliffe Line established the borders of present-day Bangladesh. Union with Pakistan Main articles: East Bengal and East Pakistan Map of the world, with Pakistan in 1947 highlighted The Dominion of Pakistan in 1947, with East Bengal its eastern part The Dominion of Pakistan was created on 14 August 1947. East Bengal, with Dhaka as its capital, was the most populous province of the 1947 Pakistani federation (led by Governor General Muhammad Ali Jinnah, who promised freedom of religion and secular democracy in the new state). East Bengal was also Pakistan\\'s most cosmopolitan province, home to peoples of different faiths, cultures and ethnic groups. Partition gave increased economic opportunity to East Bengalis, producing an urban population during the 1950s. Khawaja Nazimuddin was East Bengal\\'s first chief minister with Frederick Chalmers Bourne its governor. The All Pakistan Awami Muslim League was formed in 1949. In 1950, the East Bengal Legislative Assembly enacted land reform, abolishing the Permanent Settlement and the zamindari system. The 1952 Bengali Language Movement was the first sign of friction between the country\\'s geographically-separated wings. The Awami Muslim League was renamed the more-secular Awami League in 1953. The first constituent assembly was dissolved in 1954; this was challenged by its East Bengali speaker, Maulvi Tamizuddin Khan. The United Front coalition swept aside the Muslim League in a landslide victory in the 1954 East Bengali legislative election. The following year, East Bengal was renamed East Pakistan as part of the One Unit program and the province became a vital part of the Southeast Asia Treaty Organization. Female students, dressed in white, march down a street. Female students march in defiance of the Section 144 prohibition on assembly during the Bengali Language Movement in early 1953 Pakistan adopted its first constitution in 1956. Three Bengalis were its Prime Minister until 1957: Nazimuddin, Mohammad Ali of Bogra and Suhrawardy. None of the three completed their terms, and resigned from office. The Pakistan Army imposed military rule in 1958, and Ayub Khan was the country\\'s strongman for 11 years. Political repression increased after the coup. Khan introduced a new constitution in 1962, replacing Pakistan\\'s parliamentary system with a presidential and gubernatorial system (based on electoral college selection) known as Basic Democracy. In 1962 Dhaka became the seat of the National Assembly of Pakistan, a move seen as appeasing increased Bengali nationalism. The Pakistani government built the controversial Kaptai Dam, displacing the Chakma people from their indigenous homeland in the Chittagong Hill Tracts. During the 1965 presidential election, Fatima Jinnah lost to Ayub Khan despite support from the Combined Opposition alliance (which included the Awami League). The Indo-Pakistani War of 1965 blocked cross-border transport links with neighbouring India in what is described as a second partition. In 1966, Awami League leader Sheikh Mujibur Rahman announced a six point movement for a federal parliamentary democracy. Earl Warren and Maulvi Tamizuddin Khan shake hands as a third man looks on U.S. Chief Justice Earl Warren meets Maulvi Tamizuddin Khan, the plaintiff in Federation of Pakistan v. Maulvi Tamizuddin Khan According to senior World Bank officials, Pakistan practised extensive economic discrimination against East Pakistan: greater government spending on West Pakistan, financial transfers from East to West Pakistan, the use of East Pakistan\\'s foreign-exchange surpluses to finance West Pakistani imports, and refusal by the central government to release funds allocated to East Pakistan because previous spending had been under budget; though East Pakistan generated 70 percent of Pakistan\\'s export revenue with its jute and tea. Sheikh Mujibur Rahman was arrested for treason in the Agartala Conspiracy Case, and was released during the 1969 uprising in East Pakistan which resulted in Ayub Khan\\'s resignation. General Yahya Khan assumed power, reintroducing martial law. Ethnic and linguistic discrimination was common in Pakistan\\'s civil and military services, in which Bengalis were under-represented. Fifteen percent of Pakistani central-government offices were occupied by East Pakistanis, who formed 10 percent of the military. Cultural discrimination also prevailed, making East Pakistan forge a distinct political identity. Pakistan banned Bengali literature and music in state media, including the works of Nobel laureate Rabindranath Tagore. A cyclone devastated the coast of East Pakistan in 1970, killing an estimated 500,000 people, and the central government was criticised for its poor response. After the December 1970 elections, calls for the independence of East Bengal became louder; the Bengali-nationalist Awami League won 167 of 169 East Pakistani seats in the National Assembly. The League claimed the right to form a government and develop a new constitution, but was strongly opposed by the Pakistani military and the Pakistan Peoples Party (led by Zulfikar Ali Bhutto). War of Independence Main article: Bangladesh Liberation War Surrender of Pakistan on 16 December 1971, bringing the Bangladesh Liberation War to an end National Martyrs\\' Memorial, in memory of the freedom fighters The Bengali population was angered when Prime Minister-elect Sheikh Mujibur Rahman was prevented from taking the office. Civil disobedience erupted across East Pakistan, with calls for independence. Mujib addressed a pro-independence rally of nearly 2 million people in Dacca on 7 March 1971, where he said, \"This time the struggle is for our freedom. This time the struggle is for our independence.\" The flag of Bangladesh was raised for the first time on 23 March, Pakistan\\'s Republic Day. Later, on 25 March late evening, the Pakistani military junta led by Yahya Khan launched a sustained military assault on East Pakistan under the code name of Operation Searchlight. The Pakistan Army arrested Sheikh Mujibur Rahman and flew him away to Karachi. However, before his arrest Mujib proclaimed the Independence of Bangladesh at midnight on 26 March which led the Bangladesh Liberation War to break out within hours. The Pakistan Army continued to massacre Bengali students, intellectuals, politicians, civil servants and military defectors in the 1971 Bangladesh genocide, while the Mukti Bahini and other Bengali guerrilla forces created strong resistance throughout the country. During the war, an estimated 300,000 to three million people were killed and several million people took shelter in neighbouring India. Global public opinion turned against Pakistan as news of the atrocities spread; the Bangladesh movement was supported by prominent political and cultural figures in the West, including Ted Kennedy, George Harrison, Bob Dylan, Joan Baez, Victoria Ocampo and André Malraux. The Concert for Bangladesh was held at Madison Square Garden in New York City to raise funds for Bangladeshi refugees. The first major benefit concert in history, it was organised by Harrison and Indian Bengali sitarist Ravi Shankar. During the Bangladesh Liberation War, Bengali nationalists declared independence and formed the Mukti Bahini (the Bangladeshi National Liberation Army). The Provisional Government of Bangladesh was established on 17 April 1971, converting the 469 elected members of the Pakistani national assembly and East Pakistani provincial assembly into the Constituent Assembly of Bangladesh. The provisional government issued a proclamation that became the country\\'s interim constitution and declared \"equality, human dignity and social justice\" as its fundamental principles. Due to Mujib\\'s detention, Syed Nazrul Islam took over the role of Acting President, while Tajuddin Ahmad was named Bangladesh\\'s first Prime Minister. The Mukti Bahini and other Bengali guerrilla forces formed the Bangladesh Forces which became the military wing of the provisional government. Led by General M. A. G. Osmani and eleven sector commanders, the forces held the countryside during the war and conducted wide-ranging guerrilla operations against Pakistani forces. As a result, almost the entire country except the capital Dacca was liberated by Bangladesh Forces by late November. This led the Pakistan Army to attack neighbouring India\\'s western front on 2 December. India retaliated in both the western and eastern fronts. With a joint ground advance by Bangladeshi and Indian forces, coupled with air strikes by both India and the small Bengali air contingent, the capital Dacca was liberated from Pakistani occupation in mid-December. During the last phase of the war, the Soviet Union and the United States dispatched naval forces to the Bay of Bengal in a Cold War standoff. The nine-months long war ended with the surrender of Pakistani armed forces to the Bangladesh-India Allied Forces on 16 December 1971. Under international pressure, Pakistan released Rahman from imprisonment on 8 January 1972 and he was flown by the British Royal Air Force to a million-strong homecoming in Dacca. Remaining Indian troops were withdrawn by 12 March 1972, three months after the war ended. The cause of Bangladeshi self-determination was recognised around the world. By August 1972, the new state was recognised by 86 countries. Pakistan recognised Bangladesh in 1974 after pressure from most of the Muslim countries. People\\'s Republic of Bangladesh First parliamentary era A seated Sheikh Mujibur Rahman and Gerald Ford, smiling and talking Prime Minister Sheikh Mujibur Rahman and U.S. president Gerald Ford in 1974 The constituent assembly adopted the constitution of Bangladesh on 4 November 1972, establishing a secular, multiparty parliamentary democracy. The new constitution included references to socialism, and Prime Minister Sheikh Mujibur Rahman nationalised major industries in 1972. A major reconstruction and rehabilitation program was launched. The Awami League won the country\\'s first general election in 1973, securing a large majority in the \"Jatiyo Sangshad\", the national parliament. Bangladesh joined the Commonwealth of Nations, the UN, the OIC and the Non-Aligned Movement, and Rahman strengthened ties with India. Amid growing agitation by the opposition National Awami Party and National Socialist Party, he became increasingly authoritarian. Rahman amended the constitution, giving himself more emergency powers (including the suspension of fundamental rights). The Bangladesh famine of 1974 also worsened the political situation. Presidential era and coups (1975–1991) See also: Military coups in Bangladesh Ziaur Rahman Ziaur Rahman Hussain Muhammad Ershad H. M. Ershad Zia and Ershad were the country\\'s strongmen between 1975–1981 and 1982–1990 respectively In January 1975, Sheikh Mujibur Rahman introduced one-party socialist rule under BAKSAL. Rahman banned all newspapers except four state-owned publications, and amended the constitution to increase his power. He was assassinated during a coup on 15 August 1975. Martial law was declared, and the presidency passed to the usurper Khondaker Mostaq Ahmad for four months. Ahmad is widely regarded as a quisling by Bangladeshis. Tajuddin Ahmad, the nation\\'s first prime minister, and four other independence leaders were assassinated on 4 November 1975. Chief Justice Abu Sadat Mohammad Sayem was installed as president by the military on 6 November 1975. Bangladesh was governed by a military junta led by the Chief Martial Law Administrator for three years. In 1977, the army chief Ziaur Rahman became president. Rahman reinstated multiparty politics, privatised industries and newspapers, established BEPZA and held the country\\'s second general election in 1979. A semi-presidential system evolved, with the Bangladesh Nationalist Party (BNP) governing until 1982. Rahman was assassinated in 1981, and was succeeded by Vice-President Abdus Sattar. Sattar received 65.5 percent of the vote in the 1981 presidential election. After a year in office, Sattar was overthrown in the 1982 Bangladesh coup d\\'état. Chief Justice A. F. M. Ahsanuddin Chowdhury was installed as president, but army chief Hussain Muhammad Ershad became the country\\'s de facto leader and assumed the presidency in 1983. Ershad lifted martial law in 1986. He governed with four successive prime ministers (Ataur Rahman Khan, Mizanur Rahman Chowdhury, Moudud Ahmed and Kazi Zafar Ahmed) and a parliament dominated by his Jatiyo Party. General elections were held in 1986 and 1988, although the latter was boycotted by the opposition BNP and Awami League. Ershad pursued administrative decentralisation, dividing the country into 64 districts, and pushed Parliament to make Islam the state religion in 1988. A 1990 mass uprising forced him to resign, and Chief Justice Shahabuddin Ahmed led the country\\'s first caretaker government as part of the transition to parliamentary rule. Current parliamentary era (1991–present) See also: 2006-2008 Bangladeshi political crisis Sheikh Hasina Sheikh Hasina Khaleda Zia Khaleda Zia The rivalry between Hasina and Zia has been dubbed the Battle of the Begums Rohingya refugees entering Bangladesh from Myanmar After the 1991 general election, the twelfth amendment to the constitution restored the parliamentary republic and Begum Khaleda Zia became Bangladesh\\'s first female prime minister. Zia, a former first lady, led a BNP government from 1990 to 1996. In 1991 her finance minister, Saifur Rahman, began a major program to liberalise the Bangladeshi economy. In February 1996, a general election was held which was boycotted by all opposition parties giving a 300 (of 300) seat victory for BNP. This election was deemed illegitimate, so a system of a caretaker government was introduced to oversee the transfer of power and a new election was held in June 1996, overseen by Justice Muhammad Habibur Rahman, the first Chief Adviser of Bangladesh. The Awami League won the seventh general election, marking its leader Sheikh Hasina\\'s first term as Prime Minister. Hasina\\'s first term was highlighted by the Chittagong Hill Tracts Peace Accord and a Ganges water-sharing treaty with India. The second caretaker government, led by Chief Adviser Justice Latifur Rahman, oversaw the 2001 Bangladeshi general election which returned Begum Zia and the BNP to power. The second Zia administration saw improved economic growth, but political turmoil gripped the country between 2004 and 2006. A radical Islamist militant group, the JMB, carried out a series of terror attacks. The evidence of staging these attacks by these extremist groups have been found in the investigation, and hundreds of suspected members were detained in numerous security operations in 2006, including the two chiefs of the JMB, Shaykh Abdur Rahman and Bangla Bhai, who were executed with other top leaders in March 2007, bringing the militant group to an end. In 2006, at the end of the term of the BNP administration, there was widespread political unrest related to the handover of power to a caretaker government. As such, the Bangladeshi military urged President Iajuddin Ahmed to impose a state of emergency and a caretaker government, led by technocrat Fakhruddin Ahmed, was installed. Emergency rule lasted for two years, during which time investigations into members of both Awami League and BNP were conducted, including their leaders Sheikh Hasina and Khaleda Zia. In 2008 the ninth general election saw a return to power for Sheikh Hasina and the Awami League led Grand Alliance in a landslide victory. In 2010, the Supreme Court ruled martial law illegal and affirmed secular principles in the constitution. The following year, the Awami League abolished the caretaker-government system. Citing the lack of caretaker government the 2014 general election was boycotted by the BNP and other opposition parties, giving the Awami League a decisive victory. The election was controversial with reports of violence and an alleged crackdown on the opposition in the run-up to the election and 153 seats (of 300) went uncontested in the election. Despite the controversy Hasina went on to form a government which saw her return for a third term as Prime Minister. Due to strong domestic demand, Bangladesh emerged as one of the fastest-growing economies in the world. However, human rights abuses increased under the Hasina administration, particularly enforced disappearances. Between 2016 and 2017, an estimated 1 million Rohingya refugees took shelter in southeastern Bangladesh amid a military crackdown in neighbouring Rakhine State, Myanmar. In 2018, the country saw major movements for government quota reforms and road-safety. The 2018 Bangladeshi general election was marred by allegations of widespread vote rigging. The Awami League won 259 out of 300 seats and the main opposition alliance Jatiya Oikya Front secured only 8 seats, with Sheikh Hasina becoming the longest serving prime minister in Bangladeshi history. Pro-democracy leader Dr. Kamal Hossain called for an annulment of the election result and for a new election to be held in a free and fair manner. The election was also criticised by the observers from the European Union. Geography Main article: Geography of Bangladesh A satellite image showing the topography of Bangladesh One of the highest peaks in the country, Keokradong The geography of Bangladesh is divided between three regions. Most of the country is dominated by the fertile Ganges-Brahmaputra delta, the largest delta in the world,. The northwest and central parts of the country are formed by the Madhupur and the Barind plateaus. The northeast and southeast are home to evergreen hill ranges. The Ganges delta is formed by the confluence of the Ganges (local name Padma or Pôdda), Brahmaputra (Jamuna or Jomuna), and Meghna rivers and their respective tributaries. The Ganges unites with the Jamuna (main channel of the Brahmaputra) and later joins the Meghna, finally flowing into the Bay of Bengal. Bangladesh has 57 trans-boundary rivers, making the resolution of water issues politically complicated, in most cases, as the country is a lower riparian state to India. Bangladesh is predominantly rich fertile flat land. Most of it is less than 12 m (39.4 ft) above sea level, and it is estimated that about 10% of its land would be flooded if the sea level were to rise by 1 m (3.28 ft). 17% of the country is covered by forests and 12% is covered by hill systems. The country\\'s haor wetlands are of significance to global environmental science. In southeastern Bangladesh, experiments have been done since the 1960s to \\'build with nature\\'. Construction of cross dams has induced a natural accretion of silt, creating new land. With Dutch funding, the Bangladeshi government began promoting the development of this new land in the late 1970s. The effort has become a multi-agency endeavour, building roads, culverts, embankments, cyclone shelters, toilets and ponds, as well as distributing land to settlers. It was expected that by fall 2010, the program would have allotted some 27,000 acres (10,927 ha) to 21,000 families. With an elevation of 1,064 m (3,491 ft), the highest peak of Bangladesh is Saka Haphong, near the border with Myanmar. Administrative geography Main article: Administrative geography of Bangladesh Further information: Divisions of Bangladesh, Districts of Bangladesh, and Upazilas of Bangladesh A clickable map of Bangladesh exhibiting its divisions. About this image Bangladesh is divided into eight administrative divisions, each named after their respective divisional headquarters: Barisal, Chittagong, Dhaka, Khulna, Mymensingh, Rajshahi, Rangpur, and Sylhet. Divisions are subdivided into districts (zila). There are 64 districts in Bangladesh, each further subdivided into upazila (subdistricts) or thana. The area within each police station, except for those in metropolitan areas, is divided into several unions, with each union consisting of multiple villages. In the metropolitan areas, police stations are divided into wards, which are further divided into mahallas. There are no elected officials at the divisional or district levels, and the administration is composed only of government officials. Direct elections are held in each union (or ward) for a chairperson and a number of members. In 1997, a parliamentary act was passed to reserve three seats (out of 12) in every union for female candidates. Administrative Divisions of Bangladesh Division Capital Established Area (km2) Population Density Barisal Division Barisal 1 January 1993 13,297 8,325,666 626 Chittagong Division Chittagong 1 January 1829 33,771 28,423,019 841 Dhaka Division Dhaka 1 January 1829 20,593 36,054,418 1,751 Khulna Division Khulna 1 October 1960 22,272 15,687,759 704 Mymensingh Division Mymensingh 14 September 2015 10,584 11,370,000 1,074 Rajshahi Division Rajshahi 1 January 1829 18,197 18,484,858 1,015 Rangpur Division Rangpur 25 January 2010 16,317 15,787,758 960 Sylhet Division Sylhet 1 August 1995 12,596 9,910,219 780 Climate Main article: Climate of Bangladesh Köppen-Geiger climate classification map for Bangladesh Bangladesh has a tropical monsoon climate Flooding after the 1991 Bangladesh cyclone, which killed around 140,000 people. Straddling the Tropic of Cancer, Bangladesh\\'s climate is tropical with a mild winter from October to March, and a hot, humid summer from March to June. The country has never recorded an air temperature below 0 °C (32 °F), with a record low of 1.1 °C (34.0 °F) in the north west city of Dinajpur on 3 February 1905. A warm and humid monsoon season lasts from June to October and supplies most of the country\\'s rainfall. Natural calamities, such as floods, tropical cyclones, tornadoes, and tidal bores occur almost every year, combined with the effects of deforestation, soil degradation and erosion. The cyclones of 1970 and 1991 were particularly devastating, the latter killing some 140,000 people. In September 1998, Bangladesh saw the most severe flooding in modern world history. As the Brahmaputra, the Ganges and Meghna spilt over and swallowed 300,000 houses, 9,700 km (6,000 mi) of road and 2,700 km (1,700 mi) of embankment, 1,000 people were killed and 30 million more were made homeless; 135,000 cattle were killed; 50 km2 (19 sq mi) of land were destroyed; and 11,000 km (6,800 mi) of roads were damaged or destroyed. Effectively, two-thirds of the country was underwater. The severity of the flooding was attributed to unusually high monsoon rains, the shedding of equally unusually large amounts of melt water from the Himalayas, and the widespread cutting down of trees (that would have intercepted rain water) for firewood or animal husbandry. Bangladesh is now widely recognised to be one of the countries most vulnerable to climate change. Over the course of a century, 508 cyclones have affected the Bay of Bengal region, 17 percent of which are believed to have caused landfall in Bangladesh. Natural hazards that come from increased rainfall, rising sea levels, and tropical cyclones are expected to increase as the climate changes, each seriously affecting agriculture, water and food security, human health, and shelter. It is estimated that by 2050, a 3 feet rise in sea levels will inundate some 20 percent of the land and displace more than 30 million people. There is evidence that earthquakes pose a threat to the country and that plate tectonics have caused rivers to shift course suddenly and dramatically. It has been shown that rainy-season flooding in Bangladesh, on the world\\'s largest river delta, can push the underlying crust down by as much as 6 centimetres, and possibly perturb faults. Bangladeshi water is frequently contaminated with arsenic because of the high arsenic content of the soil—up to 77 million people are exposed to toxic arsenic from drinking water. Biodiversity Main articles: Wildlife of Bangladesh and Fauna of Bangladesh A Bengal tiger, the national animal, in the Sundarbans Bangladesh ratified the Rio Convention on Biological Diversity on 3 May 1994. As of 2014, the country was set to revise its National Biodiversity Strategy and Action Plan. Bangladesh is located in the Indomalaya ecozone. Its ecology includes a long sea coastline, numerous rivers and tributaries, lakes, wetlands, evergreen forests, semi evergreen forests, hill forests, moist deciduous forests, freshwater swamp forests and flat land with tall grass. The Bangladesh Plain is famous for its fertile alluvial soil which supports extensive cultivation. The country is dominated by lush vegetation, with villages often buried in groves of mango, jackfruit, bamboo, betel nut, coconut and date palm. The country has up to 6000 species of plant life, including 5000 flowering plants. Water bodies and wetland systems provide a habitat for many aquatic plants. Water lilies and lotuses grow vividly during the monsoon season. The country has 50 wildlife sanctuaries. Bangladesh is home to much of the Sundarbans, the world\\'s largest mangrove forest, covering an area of 6,000 km2 in the southwest littoral region. It is divided into three protected sanctuaries–the South, East and West zones. The forest is a UNESCO World Heritage Site. The northeastern Sylhet region is home to haor wetlands, which is a unique ecosystem. It also includes tropical and subtropical coniferous forests, a freshwater swamp forest and mixed deciduous forests. The southeastern Chittagong region covers evergreen and semi evergreen hilly jungles. Central Bangladesh includes the plainland Sal forest running along the districts of Gazipur, Tangail and Mymensingh. St. Martin\\'s Island is the only coral reef in the country. Bangladesh has an abundance of wildlife in its forests, marshes, woodlands and hills. The vast majority of animals dwell within a habitat of 150,000 km2. The Bengal tiger, clouded leopard, saltwater crocodile, black panther and fishing cat are among the chief predators in the Sundarbans. Northern and eastern Bangladesh is home to the Asian elephant, hoolock gibbon, Asian black bear and oriental pied hornbill. The Chital deer are widely seen in southwestern woodlands. Other animals include the black giant squirrel, capped langur, Bengal fox, sambar deer, jungle cat, king cobra, wild boar, mongooses, pangolins, pythons and water monitors. Bangladesh has one of the largest population of Irrawaddy dolphins and Ganges dolphins. A 2009 census found 6,000 Irrawaddy dolphins inhabiting the littoral rivers of Bangladesh. The country has numerous species of amphibians (53), reptiles (139), marine reptiles (19) and marine mammals (5). It also has 628 species of birds. Several animals became extinct in Bangladesh during the last century, including the one horned and two horned rhinoceros and common peafowl. The human population is concentrated in urban areas, hence limiting deforestation to a certain extent. Rapid urban growth has threatened natural habitats. Although many areas are protected under law, a large portion of Bangladeshi wildlife is threatened by this growth. The Bangladesh Environment Conservation Act was enacted in 1995. The government has designated several regions as Ecologically Critical Areas, including wetlands, forests and rivers. The Sundarbans tiger project and the Bangladesh Bear Project are among the key initiatives to strengthen conservation. Politics and government Main article: Politics of Bangladesh Bangabhaban, the residence of the President of Bangladesh Bangladesh is a de jure representative democracy under its constitution, with a Westminster-style unitary parliamentary republic that has universal suffrage. The head of government is the Prime Minister, who is invited to form a government every five years by the President. The President invites the leader of the largest party in parliament to become Prime Minister. Once the world\\'s fifth largest democracy, Bangladesh experienced a two party system between 1990 and 2014, when the Awami League and the Bangladesh Nationalist Party (BNP) alternated in power. During this period, elections were managed by a neutral caretaker government. But the caretaker government was abolished by the Awami League government in 2011. The BNP boycotted the next election in 2014, arguing that it would not be fair without a caretaker government. The BNP-led Jatiya Oikya Front participated in the 2018 election and lost. The election saw many allegations of irregularities. Bangladesh is increasingly classified as an autocracy due to the authoritarian practices of its government. The democratic wave which ushered parliamentary democracy in 1990 has been reversed by an illiberal electoral autocracy which features a dominant party state led by the Awami League. Bangladesh has a prominent civil society since the colonial period. There are various interest groups, including non-governmental organisations, human rights organisations, professional associations, chambers of commerce, employers\\' associations and trade unions. One of the key aspects of Bangladeshi politics is the so-called \"spirit of the liberation war\", which refers to the ideals of the liberation movement. For example, the Proclamation of Independence enunciated the values of \"equality, human dignity and social justice\". In 1972, the constitution included a bill of rights and declared \"nationalism, socialism, democracy and secularity\" as the principles of government policy. Socialism was later de-emphasised and neglected by successive governments; Bangladesh has a market-based economy. To many Bangladeshis, especially in the younger generation, the spirit of the liberation war is a vision for a society based on civil liberties, human rights, the rule of law and good governance. Executive branch The Government of Bangladesh is overseen by a cabinet headed by the Prime Minister of Bangladesh. The tenure of a parliamentary government is five years. The Bangladesh Civil Service assists the cabinet in running the government. Recruitment for the civil service is based on a public examination. In theory, the civil service should be a meritocracy. But politicisation and preference for seniority have affected the civil service\\'s meritocracy. The President of Bangladesh is the ceremonial head of state whose powers include signing bills passed by parliament into law. The President is elected by the parliament and has a five-year term. Under the constitution, the president acts on the advice of the prime minister. The President is the Supreme Commander of the Bangladesh Armed Forces and the chancellor of all universities. Legislative branch The National Assembly of Bangladesh The Jatiya Sangshad (National Assembly) is the unicameral parliament. It has 350 Members of Parliament (MPs), including 300 MPs elected on the first past the post system and 50 MPs appointed to reserved seats for women\\'s empowerment. Article 70 of the Constitution of Bangladesh forbids MPs from voting against their party, thereby rendering the Jatiya Sangshad a largely rubber-stamp parliament. However, several laws proposed independently by MPs have been transformed into legislation, including the anti-torture law. A bill proposing to declare Bangladesh as a nuclear weapons free zone remains pending. The parliament is presided over by the Speaker of the Jatiya Sangsad, who is second in line to the president as per the constitution. There is also a Deputy Speaker. When a president is incapable of performing duties (i.e. due to illness), the Speaker steps in as Acting President and the Deputy Speaker becomes Acting Speaker. A recurring proposal suggests that the Deputy Speaker should be a member of the opposition. Legal system Main article: Laws in Bangladesh Long, white, domed building Supreme Court of Bangladesh The Supreme Court of Bangladesh, including its High Court and Appellate Divisions, is the high court of the land. The head of the judiciary is the Chief Justice of Bangladesh, who sits on the Supreme Court. The courts have wide latitude in judicial review, and judicial precedent is supported by the Article 111 of the constitution. The judiciary includes district and metropolitan courts, which are divided into civil and criminal courts. Due to a shortage of judges, the judiciary has a large backlog. The Bangladesh Judicial Service Commission is an independent body responsible for judicial appointments, salaries and discipline. Bangladesh\\'s legal system is based on common law, and its principal source of laws are acts of Parliament. The Bangladesh Code includes a list of all laws in force in the country. The code begins in 1836, and most of its listed laws were crafted under the British Raj by the Bengal Legislative Council, the Bengal Legislative Assembly, the Eastern Bengal and Assam Legislative Council, the Imperial Legislative Council and the Parliament of the United Kingdom; one example is the 1860 Penal Code. From 1947 to 1971, laws were enacted by Pakistan\\'s national assembly and the East Pakistani legislature. The Constituent Assembly of Bangladesh was the country\\'s provisional parliament until 1973, when the first elected Jatiyo Sangshad was sworn in. Although most of Bangladesh\\'s laws were compiled in English, after a 1987 government directive laws are now primarily written in Bengali. While most of Bangladeshi law is secular; marriage, divorce and inheritance are governed by Islamic, Hindu and Christian family law. The judiciary is often influenced by legal developments in the Commonwealth of Nations, such as the doctrine of legitimate expectation. Military Main article: Bangladesh Armed Forces World map, indicating where the Bangladeshi UN peacekeeping force is stationed Map of Bangladesh UN Peacekeeping Force deployments The Bangladesh Armed Forces have inherited the institutional framework of the British military and the British Indian Army. It was formed in 1971 from the military regiments of East Pakistan. In 2012 the army strength was around 300,000, including reservists, the Air Force (22,000) and the Navy (24,000). In addition to traditional defence roles, the military has supported civil authorities in disaster relief and provided internal security during periods of political unrest. For many years, Bangladesh has been the world\\'s largest contributor to UN peacekeeping forces. In February 2015, the country made major deployments to Côte d\\'Ivoire, Cyprus, Darfur, the Democratic Republic of Congo, the Golan Heights, Haiti, Lebanon, Liberia and South Sudan. The Bangladesh Navy has the third-largest fleet (after India and Thailand) of countries dependent on the Bay of Bengal, including guided-missile frigates, submarines, cutters and aircraft. The Bangladesh Air Force is equipped with several Russian multi-role fighter jets. Bangladesh cooperates defensively with the United States Armed Forces, participating in the Cooperation Afloat Readiness and Training (CARAT) exercises. Ties between the Bangladeshi and the Indian military have increased, with high-level visits by the military chiefs of both countries. Eighty percent of Bangladesh\\'s military equipment comes from China. Foreign relations Main article: Foreign relations of Bangladesh Leaders seated at a dais First South Asian Association for Regional Cooperation (SAARC) meeting in 1985 in Dhaka (l-r, top row: the presidents of Pakistan and the Maldives, the king of Bhutan, the president of Bangladesh, the prime minister of India, the king of Nepal and the president of Sri Lanka) The first major intergovernmental organisation joined by Bangladesh was the Commonwealth of Nations in 1972. The country joined the United Nations in 1974, and has been elected twice to the UN Security Council. Ambassador Humayun Rashid Choudhury was elected president of the UN General Assembly in 1986. Bangladesh relies on multilateral diplomacy in the World Trade Organization. It is a major contributor to UN peacekeeping, providing 113,000 personnel to 54 UN missions in the Middle East, the Balkans, Africa and the Caribbean in 2014. In addition to membership in the Commonwealth of Nations and the United Nations, Bangladesh pioneered regional co-operation in South Asia. Bangladesh is a founding member of the South Asian Association for Regional Cooperation (SAARC), an organisation designed to strengthen relations and promote economic and cultural growth among its members. It has hosted several summits, and two Bangladeshi diplomats were the organisation\\'s secretary-general. Bangladesh joined the Organization of Islamic Cooperation (OIC) in 1973. It has hosted the summit of OIC foreign ministers, which addresses issues, conflicts and disputes affecting Muslim-majority countries. Bangladesh is a founding member of the Developing 8 Countries, a bloc of eight Muslim-majority republics. Japan is Bangladesh\\'s largest economic-aid provider, and the countries have common political goals. The United Kingdom has longstanding economic, cultural and military links with Bangladesh. The United States is a major economic and security partner, including its largest export market and foreign investor. Seventy-six percent of Bangladeshis viewed the United States favourably in 2014, one of the highest ratings among Asian countries. The United States views Bangladesh as a key partner in the Indo-Pacific. The European Union is Bangladesh\\'s largest regional market, conducting public diplomacy and providing development assistance. Relations with other countries are generally positive. Shared democratic values ease relations with Western countries, and similar economic concerns forge ties to other developing countries. Despite poor working conditions and war affecting overseas Bangladeshi workers, relations with Middle Eastern countries are friendly and bounded by religion and culture; more than a million Bangladeshis are employed in the region. In 2016, the king of Saudi Arabia called Bangladesh \"one of the most important Muslim countries\". PM Sheikh Hasina with US President Bill Clinton at the Prime Minister\\'s Office in Dhaka, 2000. Bangladesh\\'s most politically-important bilateral relationship is with neighbouring India. In 2015, major Indian newspapers called Bangladesh a \"trusted friend\". Bangladesh and India are South Asia\\'s largest trading partners. The countries are forging regional economic and infrastructure projects, such as a regional motor-vehicle agreement in eastern South Asia and a coastal shipping agreement in the Bay of Bengal. Indo-Bangladesh relations often emphasise a shared cultural heritage, democratic values and a history of support for Bangladeshi independence. Despite political goodwill, border killings of Bangladeshi civilians and the lack of a comprehensive water-sharing agreement for 54 trans-boundary rivers are major issues. In 2017, India joined Russia and China in refusing to condemn Myanmar\\'s atrocities against the Rohingya, which contradicted with Bangladesh\\'s demand for recognising Rohingya human rights. However, the Indian air force delivered aid shipments for Rohingya refugees in Bangladesh. The rise of Hindu extremism and Islamophobia in India has also affected Bangladesh. The Bangladeshi beef and leather industries have seen increased prices due to the Indian BJP government\\'s Hindu nationalist campaign against the export of beef and cattle skin. Sino-Bangladesh relations date to the 1950s and are relatively warm, despite the Chinese leadership siding with Pakistan during Bangladesh\\'s war of independence. China and Bangladesh established bilateral relations in 1976 which have significantly strengthened, and the country is considered a cost-effective source of arms for the Bangladeshi military. Since the 1980s 80 percent of Bangladesh\\'s military equipment has been supplied by China (often with generous credit terms), and China is Bangladesh\\'s largest trading partner. Both countries are part of the BCIM Forum. Bangladeshi Prime Minister Sheikh Hasina (second from left on back row) with leaders of the G7 industrialised countries and other invitees during the 44th G7 summit in La Malbaie, Canada The neighbouring country of Myanmar was one of first countries to recognise Bangladesh. Despite common regional interests, Bangladesh-Myanmar relations have been strained by the Rohingya refugee issue and the isolationist policies of the Myanmar military. In 2012, the countries came to terms at the International Tribunal for the Law of the Sea over maritime disputes in the Bay of Bengal. In 2016 and 2017, relations with Myanmar again strained as over 400,000 Rohingya refugees entered Bangladesh after atrocities. The parliament, government and civil society of Bangladesh have been at the forefront of international criticism against Myanmar for military operations against the Rohingya, which the United Nations has described as ethnic cleansing. Pakistan and Bangladesh have a US$550 million trade relationship, particularly in Pakistani cotton imports for the Bangladeshi textile industry. Although Bangladeshi and Pakistani businesses have invested in each other, diplomatic relations are strained because of Pakistani denial of the 1971 Bangladesh genocide. Bangladeshi aid agencies work in many developing countries. An example is BRAC in Afghanistan, which benefits 12 million people in that country. Bangladesh has a record of nuclear nonproliferation as a party to the Nuclear Nonproliferation Treaty (NPT) and the Comprehensive Test Ban Treaty (CTBT). It is a state party to the Rome Statute of the International Criminal Court. Bangladeshi foreign policy is influenced by the principle of \"friendship to all and malice to none\", first articulated by Bengali statesman H. S. Suhrawardy in 1957. Suhrawardy led East and West Pakistan to join the Southeast Asia Treaty Organization, CENTO and the Regional Cooperation for Development. Human rights Main article: Human rights in Bangladesh 2013 Shahbag protests demanding the death penalty for the war criminals of the 1971 war A list of fundamental rights is enshrined in the country\\'s constitution. The drafter of the constitution in 1972, Dr. Kamal Hossain, was influenced by the Universal Declaration of Human Rights. Bangladesh also recognises the third gender. Homosexuality is illegal in Bangladesh. Judicial activism has often upheld human rights. In the 1970s, judges invalidated detentions under the Special Powers Act, 1974 through cases such as Aruna Sen v. Government of Bangladesh and Abdul Latif Mirza v. Government of Bangladesh. In 2008, the Supreme Court paved the way for citizenship for the Stranded Pakistanis, who were an estimated 300,000 stateless people. Despite being a non-signatory of the UN Refugee Convention, Bangladesh has taken in Rohingya refugees since 1978 and the country is now home to a million refugees. Bangladesh is an active member of the International Labour Organization (ILO) since 1972. It has ratified 33 ILO conventions, including the seven fundamental ILO conventions. Bangladesh has ratified the International Covenant on Civil and Political Rights and the International Covenant on Economic, Social and Cultural Rights. In 2018, Bangladesh came under heavy criticism for its repressive Digital Security Act which threatened freedom of speech. The photojournalist Shahidul Alam was jailed and tortured for criticising the government. Alam was featured in the 2018 Time Person of the Year issue. The National Human Rights Commission of Bangladesh was set up in 2007. Notable human rights organisations and initiatives include the Centre for Law and Mediation, Odhikar, the Alliance for Bangladesh Worker Safety, the Bangladesh Environmental Lawyers Association, the Bangladesh Hindu Buddhist Christian Unity Council and the War Crimes Fact Finding Committee. Successive governments and their security forces have flouted constitutional principles and have been accused of human rights abuses. Bangladesh is ranked \"partly free\" in Freedom House\\'s Freedom in the World report, but its press is ranked \"not free\". According to the British Economist Intelligence Unit, the country has a hybrid regime: the third of four rankings in its Democracy Index. Bangladesh was the third-most-peaceful South Asian country in the 2015 Global Peace Index. Civil society and media in Bangladesh have been attacked by the ruling Awami League government and Islamic extremists. Armed men in black uniforms on a street Bangladeshi law-enforcement agencies, including the Rapid Action Battalion (pictured), have been accused of human-rights abuses According to National Human Rights Commission, 70% of alleged human-rights violations are committed by law-enforcement agencies. Targets have included Nobel Peace Prize winner Muhammad Yunus and the Grameen Bank, secularist bloggers and independent and pro-opposition newspapers and television networks. The United Nations is concerned about government \"measures that restrict freedom of expression and democratic space\". Bangladeshi security forces, particularly the Rapid Action Battalion (RAB), have received international condemnation for human-rights abuses (including enforced disappearances, torture and extrajudicial killings). Over 1,000 people have been said to have been victims of extrajudicial killings by RAB since its inception under the last Bangladesh Nationalist Party government. The RAB has been called a \"death squad\" by Human Rights Watch and Amnesty International, which have called for the force to be disbanded. The British and American governments have been criticised for funding and engaging the force in counter-terrorism operations. The Bangladeshi government has not fully implemented the Chittagong Hill Tracts Peace Accord. The Hill Tracts region remains heavily militarized, despite a peace treaty with indigenous people forged by the United People\\'s Party of the Chittagong Hill Tracts. Secularism is protected by the constitution of Bangladesh and religious parties are barred from contesting elections; however, the government is accused of courting religious extremist groups. Islam\\'s ambiguous position as the de facto state religion has been criticised by the United Nations. Despite relative harmony, religious minorities have faced occasional persecution. The Hindu and Buddhist communities have experienced religious violence from Islamic groups, notably the Bangladesh Jamaat-e-Islami and its student wing (Shibir). Islamic far-right candidates peaked at 12 percent of the vote in 2001, falling to four percent in 2008. Homosexuality is outlawed by section 377 of the criminal code (a legacy of the colonial period), and is punishable by a maximum of life imprisonment. According to the 2016 Global Slavery Index, an estimated 1,531,300 people are enslaved in modern-day Bangladesh, or 0.95% of the population. A number of slaves in Bangladesh are forced to work in the fish and shrimp industries. Corruption Main article: Corruption in Bangladesh Bangladesh was 14th on Transparency International\\'s 2014 Corruption Perceptions Index. In 2015, bribes made up 3.7 percent of the national budget. The country\\'s Anti-Corruption Commission was active during the 2006–08 Bangladeshi political crisis, indicting many leading politicians, bureaucrats and businessmen for graft. After it assumed power in 2009, the Awami League government reduced the commission\\'s independent power to investigate and prosecute. Land administration was the sector with the most bribery in 2015, followed by education, police and water supply. Economy Main articles: Economy of Bangladesh and List of companies of Bangladesh Dhaka, the commercial and financial hub of the country, is a major business center in South Asia and the largest economic centre in Eastern South Asia Bangladesh has the world\\'s 39th largest economy in terms of market exchange rates and 29th largest in terms of purchasing power parity, which ranks second in South Asia after India. Bangladesh is also one of the world\\'s fastest-growing economies and one of the fastest growing middle-income countries. The country has a market-based mixed economy. A developing nation, Bangladesh is one of the Next Eleven emerging markets. According to the IMF, its per-capita income was US$1,888 in 2018, with a GDP of $314 billion. Bangladesh has the second-highest foreign-exchange reserves in South Asia (after India). The Bangladeshi diaspora contributed $15.31 billion in remittances in 2015. Bangladesh\\'s largest trading partners are the European Union, the United States, Japan, India, Australia, China and ASEAN. Expat workers in the Middle East and Southeast Asia send back a large chunk of remittances. The economy is driven by strong domestic demand. During its first five years of independence Bangladesh adopted socialist policies. The subsequent military regime and BNP and Jatiya Party governments restored free markets and promoted the country\\'s private sector. In 1991, finance minister Saifur Rahman introduced a programme of economic liberalisation. The Bangladeshi private sector has rapidly expanded, with a number of conglomerates driving the economy. Major industries include textiles, pharmaceuticals, shipbuilding, steel, electronics, energy, construction materials, chemicals, ceramics, food processing and leather goods. Export-oriented industrialisation has increased, with fiscal year 2014–15 exports increasing by 3.3% over the previous year to $30 billion, although Bangladesh\\'s trade deficit ballooned by over 45% in this same time period. Most export earnings are from the garment-manufacturing industry. Share of world GDP (PPP) Year Share 1980 0.31% 1990 0.33% 2000 0.36% 2010 0.44% 2019 0.58% Bangabandhu Bridge, commonly called the Jamuna Multi-purpose Bridge, was the 11th longest bridge in the world and the 6th longest bridge in South Asia when constructed in 1998. However, an insufficient power supply is a significant obstacle to Bangladesh\\'s economic development. According to the World Bank, poor governance, corruption and weak public institutions are also major challenges. In April 2010, Standard & Poor\\'s gave Bangladesh a BB- long-term credit rating, below India\\'s but above those of Pakistan and Sri Lanka. The country is notable for its soil fertility land, including the Ganges Delta, Sylhet Division and the Chittagong Hill Tracts. Agriculture is the largest sector of the economy, making up 18.6 percent of Bangladesh\\'s GDP in November 2010 and employing about 45 percent of the workforce. The agricultural sector impacts employment generation, poverty alleviation, human resources development and food security. More Bangladeshis earn their living from agriculture than from any other sector. The country is among the top producers of rice (fourth), potatoes (seventh), tropical fruits (sixth), jute (second), and farmed fish (fifth). Bangladesh is the seventh-largest natural gas producer in Asia, ahead of neighbouring Myanmar, and 56 percent of the country\\'s electricity is generated by natural gas. Major gas fields are located in the northeastern (particularly Sylhet) and southern (including Barisal and Chittagong) regions. Petrobangla is the national energy company. The American multinational corporation Chevron produces 50 percent of Bangladesh\\'s natural gas. According to geologists, the Bay of Bengal contains large, untapped gas reserves in Bangladesh\\'s exclusive economic zone. Bangladesh has substantial coal reserves, with several coal mines operating in the northwest. Jute exports remain significant, although the global jute trade has shrunk considerably since its World War II peak. Bangladesh has one of the world\\'s oldest tea industries, and is a major exporter of fish and seafood. Noble-laurate Yunus at the 2009 meeting of the World Economic Forum in Davos, Switzerland Bangladesh\\'s textile and ready-made garment industries are the country\\'s largest manufacturing sector, with 2014 exports of $25 billion. Leather-goods manufacturing, particularly footwear, is the second-largest export sector. The pharmaceutical industry meets 97 percent of domestic demand, and exports to many countries. Shipbuilding has grown rapidly, with exports to Europe. Steel is concentrated in the port city of Chittagong, and the ceramics industry is prominent in international trade. In 2005 Bangladesh was the world\\'s 20th-largest cement producer, an industry dependent on limestone imports from northeast India. Food processing is a major sector, with local brands such as PRAN increasing their international market share. The electronics industry is growing rapidly, particularly the Walton Group. Bangladesh\\'s defence industry includes the Bangladesh Ordnance Factories and the Khulna Shipyard. The service sector accounts for 51 percent of the country\\'s GDP. Bangladesh ranks with Pakistan as South Asia\\'s second-largest banking sector. The Dhaka and Chittagong Stock Exchanges are the country\\'s twin financial markets. Bangladesh\\'s telecommunications industry is one of the world\\'s fastest-growing, with 114 million cellphone subscribers in December 2013, and Grameenphone, Banglalink, Robi and BTTB are major companies. Tourism is developing, with the beach resort of Cox\\'s Bazar the center of the industry. The Sylhet region, home to Bangladesh\\'s tea country, also hosts a large number of visitors. The country has three UNESCO World Heritage Sites (the Mosque City, the Buddhist Vihara and the Sundarbans) and five tentative-list sites. Following the pioneering work of Akhter Hameed Khan on rural development at Bangladesh Academy for Rural Development, several NGOs in Bangladesh including BRAC (the world\\'s largest NGO), and Grameen Bank, focused on rural development and poverty alleviation in the country. Muhammad Yunus successfully pioneered microfinance as a sustainable tool for provery alleviation and others followed suit. As of 2015, the country had over 35 million microcredit borrowers. In recognition of their tangible contribution to proverty alleviation, Muhammad Yunus and Grameen Bank were jointly awarded the Nobel Peace Prize in 2006. Transport Main article: Transport in Bangladesh A Boeing 777 of the national flag carrier Biman Bangladesh Airlines Transport is a major sector of the economy. Aviation has grown rapidly, and includes the flag carrier Biman Bangladesh Airlines and other privately owned airlines. Bangladesh has a number of airports: three international and several domestic and STOL (short takeoff and landing) airports. The busiest, Shahjalal International Airport connects Dhaka with major destinations. Bangladesh has a 2,706-kilometre (1,681-mile) rail network operated by state-owned Bangladesh Railway. The total length of the country\\'s road and highway network is nearly 21,000-kilometre (13,000-mile). It has one of the largest inland waterway networks in the world, with 8,046 kilometres (5,000 miles) of navigable waters. The southeastern port of Chittagong is its busiest seaport, handling over $60 billion in annual trade (more than 80 percent of the country\\'s export-import commerce). The second-busiest seaport is Mongla. Bangladesh has three seaports and 22 river ports. Top maritime and inland ports Port of Chittagong Chittagong Port of Dhaka Dhaka Rank Port Type TEU traffic Mongla Mongla Aricha Aricha 1 Port of Chittagong Seaport 2.3 million 2 Port of Pangaon River port 116,000 3 Port of Mongla Seaport 70,000 4 Port of Dhaka River port 5 Port of Narayanganj River port 6 Port of Ashuganj River port 7 Port of Payra Seaport 8 Aricha Ghat River port 9 Goalondo River port Energy and infrastructure Main articles: Energy in Bangladesh, Natural gas and petroleum in Bangladesh, Telecommunications in Bangladesh, and Water supply and sanitation in Bangladesh Map of Bangladesh, illustrating coal and gas deposits Coal and natural-gas fields in Bangladesh, 2011 Bangladesh had an installed electrical capacity of 10,289 MW in January 2014. About 56 percent of the country\\'s commercial energy is generated by natural gas, followed by oil, hydropower and coal. Bangladesh has planned to import hydropower from Bhutan and Nepal. Nuclear energy is being developed with Russian support in the Ruppur Nuclear Power Plant project. The country ranks fifth worldwide in the number of renewable energy green jobs, and solar panels are increasingly used to power urban and off-grid rural areas. An estimated 98 percent of the country\\'s population had access to improved water sources in 2004 (a high percentage for a low-income country), achieved largely through the construction of hand pumps with support from external donors. However, in 1993 it was discovered that much of Bangladesh\\'s groundwater (the source of drinking water for 97 percent of the rural population and a significant share of the urban population) is naturally contaminated with arsenic. Another challenge is low cost recovery due to low tariffs and poor economic efficiency, especially in urban areas (where water revenue does not cover operating costs). An estimated 56 percent of the population had access to adequate sanitation facilities in 2010. Community-led total sanitation, addressing the problem of open defecation in rural areas, is credited with improving public health since its introduction in 2000. Science and technology Main article: Science and technology in Bangladesh See also: Information technology in Bangladesh and Biotechnology and genetic engineering in Bangladesh In 2018, the first payload of SpaceX\\'s Falcon 9 Block 5 rocket was the Bangabandhu-1 satellite built by Thales Alenia Space The Bangladesh Council of Scientific and Industrial Research, founded in 1973, traces its roots to the East Pakistan Regional Laboratories established in Dhaka (1955), Rajshahi (1965) and Chittagong (1967). Bangladesh\\'s space agency, SPARRSO, was founded in 1983 with assistance from the United States. The country\\'s first communications satellite, Bangabandhu-1, was launched from the United States in 2018. The Bangladesh Atomic Energy Commission operates a TRIGA research reactor at its atomic-energy facility in Savar. In 2015, Bangladesh was ranked the 26th global IT outsourcing destination. Tourism Main article: Tourism in Bangladesh The beach in Cox\\'s Bazar, with an unbroken length of 120 km (75 mi), it is the longest natural sea beach in the world Mountain trekking is a popular activity in the Bandarban District Bangladesh\\'s tourist attractions include historical and monuments, resorts, beaches, picnic spots, forests and tribal people, wildlife of various species. Activities for tourists include angling, water skiing, river cruising, hiking, rowing, yachting, and sea bathing. The World Travel and Tourism Council (WTTC) reported in 2013 that the travel and tourism industry in Bangladesh directly generated 1,281,500 jobs in 2012 or 1.8 percent of the country\\'s total employment, which ranked Bangladesh 157 out of 178 countries worldwide. Direct and indirect employment in the industry totalled 2,714,500 jobs, or 3.7 percent of the country\\'s total employment. The WTTC predicted that by 2023, travel and tourism will directly generate 1,785,000 jobs and support an overall total of 3,891,000 jobs, or 4.2 percent of the country\\'s total employment. This would represent an annual growth rate in direct jobs of 2.9 percent. Domestic spending generated 97.7 percent of direct travel and tourism gross domestic product (GDP) in 2012. Bangladesh\\'s world ranking in 2012 for travel and tourism\\'s direct contribution to GDP, as a percentage of GDP, was 142 out of 176. Demographics Main articles: Demographics of Bangladesh and Bengalis Population (millions) Year Pop. ±% p.a. 1971 67.8 — 1980 80.6 +1.94% 1990 105.3 +2.71% 2000 129.6 +2.10% 2010 148.7 +1.38% 2012 161.1 +4.09% Source: OECD/World Bank Estimates of the Bangladeshi population vary, but UN data suggests 162,951,560 (162.9 million). The 2011 census estimated 142.3 million, much less than 2007–2010 estimates of Bangladesh\\'s population (150–170 million). Bangladesh is the world\\'s eighth-most-populous nation. In 1951, its population was 44 million. Bangladesh is the most densely-populated large country in the world, ranking 7th in population density when small countries and city-states are included. The country\\'s population-growth rate was among the highest in the world in the 1960s and 1970s, when its population grew from 65 to 110 million. With the promotion of birth control in the 1980s, Bangladesh\\'s growth rate began to slow. Its total fertility rate is now 2.05, lower than India\\'s (2.58) and Pakistan\\'s (3.07). The population is relatively young, with 34 percent aged 15 or younger and five percent 65 or older. Life expectancy at birth was estimated at 72.49 years in 2016. According to the World Bank, as of 2016 14.8% of the country lives below the international poverty line on less than $1.90 per day. Bengalis are 98 percent of the population. Of Bengalis, Muslims are the majority, followed by Hindus, Christians and Buddhists. The Adivasi population includes the Chakma, Marma, Tanchangya, Tripuri, Kuki, Khiang, Khumi, Murang, Mru, Chak, Lushei, Bawm, Bishnupriya Manipuri, Khasi, Jaintia, Garo, Santal, Munda and Oraon tribes. The Chittagong Hill Tracts region experienced unrest and an insurgency from 1975 to 1997 in an autonomy movement by its indigenous people. Although a peace accord was signed in 1997, the region remains militarised. Bangladesh is home to a significant Ismaili community. It hosts many Urdu-speaking immigrants, who migrated there after the partition of India. Stranded Pakistanis were given citizenship by the Supreme Court in 2008. Rohingya refugees in Bangladesh number at around 1 million, making Bangladesh one of the countries with the largest refugee populations in the world. Urban centres Further information: List of cities and towns in Bangladesh vte Largest cities or towns in Bangladesh Population and Housing Census 2011 Rank Name Division Pop. Rank Name Division Pop. Dhaka Dhaka Chittagong Chittagong 1 Dhaka Dhaka 8,906,039 11 Savar Dhaka 296,851 Khulna Khulna Sylhet Sylhet 2 Chittagong Chittagong 2,592,439 12 Comilla Chittagong 296,010 3 Khulna Khulna 664,728 13 Narayanganj Dhaka 286,330 4 Sylhet Sylhet 526,412 14 Siddhirganj Dhaka 256,760 5 Rajshahi Rajshahi 451,425 15 Jessore Khulna 237,478 6 Tongi Dhaka 406,420 16 Cox\\'s Bazar Chittagong 223,522 7 Bogra Rajshahi 400,983 17 Gazipur Dhaka 213,061 8 Mymensingh Mymensingh 389,918 18 Brahmanbaria Chittagong 193,814 9 Barisal Barisal 339,308 19 Dinajpur Rangpur 191,329 10 Rangpur Rangpur 307,053 20 Narsingdi Dhaka 185,128 Dhaka is Bangladesh\\'s capital and largest city. There are 12 city corporations which hold mayoral elections: Dhaka South, Dhaka North, Chittagong, Comilla, Khulna, Mymensingh, Sylhet, Rajshahi, Barisal, Rangpur, Gazipur and Narayanganj. Mayors are elected for five-year terms. Altogether there are 506 urban centres in Bangladesh among which 43 cities have a population of more than 100000. Language Main article: Languages of Bangladesh The Charyapada scrolls are the oldest surviving text of the Bengali language. The photograph was taken at the Rajshahi College Library The predominant language of Bangladesh is Bengali (also known as Bangla). Bengali is the one of the easternmost branches of the Indo-European language family. It is a part of the Eastern Indo-Aryan languages in South Asia, which developed between the 10th and 13th centuries. Bengali is written using the Bengali script. In ancient Bengal, Sanskrit was the language of written communication, especially by priests. During the Islamic period, Sanskrit was replaced by Bengali as the vernacular language. The Sultans of Bengal promoted the production of Bengali literature instead of Sanskrit. Bengali also received Persian and Arabic loanwords during the Sultanate of Bengal. Under British rule, Bengali was significantly modernised by Europeans. Modern Standard Bengali emerged as the lingua franca of the region. A heavily Sanskritized version of Bengali was employed by Hindu scholars during the Bengali Renaissance. Muslim writers such as Kazi Nazrul Islam gave attention to the Persian and Arabic vocabulary of the language. Today, the Bengali language is regulated by the Bangla Academy in Bangladesh. Bengali is a symbol of secular Bangladeshi identity. More than 98 percent of people in Bangladesh speak Bengali as their native language. Dialects of Bengali are spoken in some parts of the country, which include non-standard dialects (sometimes viewed as separate languages) such as Chatgaiya, Sylheti and Rangpuri. Bengali Language Implementation Act, 1987 made it mandatory to use Bengali in all government affairs in Bangladesh. Although laws were historically written in English, they were not translated into Bengali until the Bengali Language Implementation Act of 1987. All subsequent acts, ordinances and laws have been promulgated in Bengali since 1987. English is often used in the verdicts delivered by the Supreme Court of Bangladesh, and is also used in higher education. The Chakma language is another native Eastern Indo-Aryan language of Bangladesh. It is written using the Chakma script. The unique aspect of the language is that it is used by the Chakma people, who are a population with similarities to the people of East Asia, rather than the Indian subcontinent. The Chakma language is endangered due to its decreasing use in schools and institutions. Other tribal languages include Garo, Manipuri, Kokborok and Rakhine. Among the Austroasiatic languages, the Santali language is spoken by the Santali tribe. Many of these languages are written in the Bengali script; while there is also some usage of the Latin script. Urdu has a significant heritage in Bangladesh. The language was introduced to Bengal in the 17th-century. Traders from North India often spoke the language in Bengal, as did sections of the Bengali upper class. Urdu poets lived in many parts of Bangladesh. The use of Urdu became controversial during the Bengali Language Movement, when the people of East Bengal resisted attempts to impose Urdu as the main official language. In modern Bangladesh, the Urdu-speaking community is today restricted to the country\\'s Bihari community (formerly Stranded Pakistanis); and some sections of the non-Bengali upper class. The University of Dhaka operates a Department of Urdu. Religion Main article: Religion in Bangladesh Religions in Bangladesh in 2011 Religion Percent Islam 90% Hinduism 9.5% Buddhism 0.6% Christianity 0.4% Islam is the largest and the official state religion of Bangladesh, followed by 90 percent of the population. Most Bangladeshis are Bengali Muslims, who form the largest Muslim ethnoreligious group in South Asia and the second largest in the world after the Arabs. There is also a minority of non-Bengali Muslims. The vast majority of Bangladeshi Muslims are Sunni, followed by minorities of Shia and Ahmadiya. About four percent are non-denominational Muslims. Bangladesh has the fourth-largest Muslim population in the world, and is the third-largest Muslim-majority country (after Indonesia and Pakistan). Sufism has an extensive heritage in the region. Liberal Bengali Islam sometimes clashes with orthodox movements. The largest gathering of Muslims in Bangladesh is the apolitical Bishwa Ijtema, held annually by the orthodox Tablighi Jamaat. The Ijtema is the second-largest Muslim congregation in the world, after the Hajj. The Islamic Foundation is an autonomous government agency responsible for some Muslim religious matters, including sighting the moon in accordance with the lunar Islamic calendar in order to set festival dates; as well as the charitable tradition of zakat. Public holidays include the Islamic observances of Eid-ul-Fitr, Eid-al-Adha, the Prophet\\'s Birthday, Ashura and Shab-e-Barat. Montage of religions of Bangladesh. Clockwise from top left: Muslims praying in Baitul Mukarram; a Hindu monk in Dhakeshwari Temple; a Buddhist monk in Buddha Dhatu Jadi; a Bangladeshi Christian cardinal with other cardinals at the Vatican Hinduism is followed by 9.5 percent of the population; most are Bengali Hindus, and some are members of ethnic minority groups. Bangladeshi Hindus are the country\\'s second-largest religious group and the third-largest Hindu community in the world, after those in India and Nepal. Hindus in Bangladesh are evenly distributed, with concentrations in Gopalganj, Dinajpur, Sylhet, Sunamganj, Mymensingh, Khulna, Jessore, Chittagong and parts of the Chittagong Hill Tracts. Hindus are the second largest religious community in Bangladeshi cities. The festivals of Durga\\'s Return and Krishna\\'s Birthday are public holidays. Buddhism is the third-largest religion, at 0.6 percent. Bangladeshi Buddhists are concentrated among ethnic groups in the Chittagong Hill Tracts (particularly the Chakma, Marma and Tanchangya peoples), and coastal Chittagong is home to a large number of Bengali Buddhists. While the Mahayana school of Buddhism was historically prevalent in the region, Bangladeshi Buddhists today adhere to the Theravada school. Buddha\\'s Birthday is a public holiday. The chief Buddhist priests are based at a monastery in Chittagong. Eid prayers for Muslims at Barashalghar, Debidwar, Comilla Christianity is the fourth-largest religion, at 0.4 percent. Roman Catholicism is the largest denomination among Bangladeshi Christians. Bengali Christians are spread across the country; while there are many Christians among minority ethnic groups in the Chittagong Hill Tracts (southeastern Bangladesh) and within the Garo tribe of Mymensingh (north-central Bangladesh). The country also has Protestant, Baptist and Oriental Orthodox churches. Christmas is a public holiday. The Constitution of Bangladesh declares Islam the state religion, but bans religion-based politics. It proclaims equal recognition of Hindus, Buddhists, Christians and people of all faiths. In 1972, Bangladesh was South Asia\\'s first constitutionally-secular country. Article 12 of the constitution continues to call for secularism, the elimination of interfaith tensions and prohibits the abuse of religion for political purposes and any discrimination against, or persecution of, persons practising a particular religion. Article 41 of the constitution subjects religious freedom to public order, law and morality; it gives every citizen the right to profess, practice or propagate any religion; every religious community or denomination the right to establish, maintain and manage its religious institutions; and states that no person attending any educational institution shall be required to receive religious instruction, or to take part in or to attend any religious ceremony or worship, if that instruction, ceremony or worship relates to a religion other than his own. Education Main article: Education in Bangladesh Bangladesh has a literacy rate of 72.9 percent as of 2018. 75.7% percent for males and 70.09% percent for females. The country\\'s educational system is three-tiered and heavily subsidised, with the government operating many schools at the primary, secondary and higher-secondary levels and subsidising many private schools. In the tertiary-education sector, the Bangladeshi government funds over 15 state universities through the University Grants Commission. Literacy rates in Bangladesh districts The education system is divided into five levels: primary (first to fifth grade), junior secondary (sixth to eighth grade), secondary (ninth and tenth grade), higher secondary (11th and 12th grade) and tertiary. Five years of secondary education end with a Secondary School Certificate (SSC) examination; since 2009, the Primary Education Closing (PEC) examination has also been given. Students who pass the PEC examination proceed to four years of secondary or matriculation training, culminating in the SSC examination. Students who pass the PEC examination proceed to three years of junior-secondary education, culminating in the Junior School Certificate (JSC) examination. Students who pass this examination proceed to two years of secondary education, culminating in the SSC examination. Students who pass this examination proceed to two years of higher-secondary education, culminating in the Higher Secondary School Certificate (HSC) examination. Education is primarily in Bengali, but English is commonly taught and used. Many Muslim families send their children to part-time courses or full-time religious education in Bengali and Arabic in madrasas. Bangladesh conforms with the Education For All (EFA) objectives, the Millennium Development Goals (MDG) and international declarations. Article 17 of the Bangladesh Constitution provides that all children between the ages of six and ten years receive a basic education free of charge. University of Dhaka, is the oldest university in Bangladesh Universities in Bangladesh are of three general types: public (government-owned and -subsidized), private (privately owned universities) and international (operated and funded by international organisations). Bangladesh has 34 public, 64 private and two international universities; Bangladesh National University has the largest enrolment, and the University of Dhaka (established in 1921) is the oldest.University of Chittagong (established in 1966) is the largest University (Campus: Rural, 2,100 acres (8.5 km2)) . Islamic University of Technology, commonly known as IUT, is a subsidiary of the Organisation of the Islamic Cooperation (OIC, representing 57 countries in Asia, Africa, Europe and South America). Asian University for Women in Chittagong is the preeminent South Asian liberal-arts university for women, representing 14 Asian countries; its faculty hails from notable academic institutions in North America, Europe, Asia, Australia and the Middle East. BUET, CUET, KUET and RUET are Bangladesh\\'s four public engineering universities. BUTex and DUET are two specialised engineering universities; BUTex specialises in textile engineering, and DUET offers higher education to diploma engineers. The NITER is a specialised public-private partnership institute which provides higher education in textile engineering. Science and technology universities include SUST, PUST, JUST and NSTU. Bangladeshi universities are accredited by and affiliated with the University Grants Commission (UGC), created by Presidential Order 10 in 1973. Medical education is provided by 29 government and private medical colleges. All medical colleges are affiliated with the Ministry of Health and Family Welfare. Bangladesh\\'s 2015 literacy rate rose to 71 percent due to education modernisation and improved funding, with 16,087 schools and 2,363 colleges receiving Monthly Pay Order (MPO) facilities. According to education minister Nurul Islam Nahid, 27,558 madrasas and technical and vocational institutions were enlisted for the facility. 6,036 educational institutions were outside MPO coverage, and the government enlisted 1,624 private schools for MPO in 2010. Health Main article: Health in Bangladesh Bangabandhu Sheikh Mujib Medical University, the first public medical university in Bangladesh established in 1998 Health and education levels remain relatively low, although they have improved as poverty levels have decreased significantly. In rural areas, village doctors with little or no formal training constitute 62 percent of healthcare providers practising \"modern medicine\"; formally-trained providers make up four percent of the total health workforce. A Future Health Systems survey indicated significant deficiencies in the treatment practices of village doctors, with widespread harmful and inappropriate drug prescribing. Receiving health care from informal providers is encouraged. A 2007 study of 1,000 households in rural Bangladesh found that direct payments to formal and informal healthcare providers and indirect costs (loss of earnings because of illness) associated with illness were deterrents to accessing healthcare from qualified providers. A community survey of 6,183 individuals in rural Bangladesh found a gender difference in treatment-seeking behaviour, with women less likely to seek treatment than to men. The use of skilled birth attendant (SBA) services, however, rose from 2005 to 2007 among women from all socioeconomic quintiles except the highest. A health watch, a pilot community-empowerment tool, was successfully developed and implemented in south-eastern Bangladesh to improve the uptake and monitoring of public-health services. Bangladesh\\'s poor health conditions are attributed to the lack of healthcare provision by the government. According to a 2010 World Bank report, 2009 healthcare spending was 3.35 percent of the country\\'s GDP. The number of hospital beds is 3 per 10,000 population. Government spending on healthcare that year was 7.9 percent of the total budget; out-of-pocket expenditures totalled 96.5 percent. Malnutrition has been a persistent problem in Bangladesh, with the World Bank ranking the country first in the number of malnourished children worldwide. Twenty-six percent of the population (two-thirds of children under the age of five) are undernourished, and 46 percent of children are moderately or severely underweight. Forty-three to 60 percent of children under five are smaller than normal; one in five preschool children are vitamin-A deficient, and one in two are anaemic. More than 45 percent of rural families and 76 percent of urban families were below the acceptable caloric-intake level. Culture Main articles: Culture of Bangladesh, Culture of Bengal, and Bengali Renaissance Visual arts Main article: Bangladeshi art A sculpture at the Faculty of Fine Arts, University of Dhaka The recorded history of art in Bangladesh can be traced to the 3rd century BCE, when terracotta sculptures were made in the region. In classical antiquity, a notable school of sculptural Hindu, Jain and Buddhist art developed in the Pala Empire and the Sena dynasty. Islamic art evolved since the 14th century. The architecture of the Bengal Sultanate saw a distinct style of domed mosques with complex niche pillars that had no minarets. Mughal Bengal\\'s most celebrated artistic tradition was the weaving of Jamdani motifs on fine muslin, which is now classified by UNESCO as an intangible cultural heritage. Jamdani motifs were similar to Iranian textile art (buta motifs) and Western textile art (paisley). The Jamdani weavers in Dhaka received imperial patronage. Ivory and brass were also widely used in Mughal art. Pottery is widely used in Bengali culture. The modern art movement in Bangladesh took shape during the 1950s, particularly with the pioneering works of Zainul Abedin. East Bengal developed its own modernist painting and sculpture traditions, which were distinct from the art movements in West Bengal. The Art Institute Dhaka has been an important center for visual art in the region. Its annual Bengali New Year parade was enlisted as an intangible cultural heritage by UNESCO in 2016. Modern Bangladesh has produced many of South Asia\\'s leading painters, including SM Sultan, Mohammad Kibria, Shahabuddin Ahmed, Kanak Chanpa Chakma, Kafil Ahmed, Saifuddin Ahmed, Qayyum Chowdhury, Rashid Choudhury, Quamrul Hassan, Rafiqun Nabi and Syed Jahangir, among others. Novera Ahmed and Nitun Kundu were the country\\'s pioneers of modernist sculpture. The Chobi Mela is the largest photography festival in Asia. Literature See also: Bangladeshi literature Rabindranath Tagore, author of the national anthem, and Kazi Nazrul Islam, the National Poet The Bangla Academy The oldest evidence of writing in Bangladesh is the Mahasthan Brahmi Inscription, which dates back to the 3rd century BCE. In the Gupta Empire, Sanskrit literature thrived in the region. Bengali developed from Sanskrit and Magadhi Prakrit in the from the 8th to 10th century. Bengali literature is a millennium-old tradition; the Charyapadas are the earliest examples of Bengali poetry. Sufi spiritualism inspired many Bengali Muslim writers. During the Bengal Sultanate, medieval Bengali writers were influenced by Arabic and Persian works. The Chandidas are the notable lyric poets from the early Medieval Age. Syed Alaol was a noted secular poet and translator from the Arakan region. The Bengal Renaissance shaped the emergence of modern Bengali literature, including novels, short stories and science fiction. Rabindranath Tagore was the first non-European laureate of the Nobel Prize in Literature and is described as the Bengali Shakespeare. Kazi Nazrul Islam was a revolutionary poet who espoused political rebellion against colonialism and fascism. Begum Rokeya is regarded as the pioneer feminist writer of Bangladesh. Other renaissance icons included Michael Madhusudan Dutt and Sarat Chandra Chattopadhyay. The writer Syed Mujtaba Ali is noted for his cosmopolitan Bengali worldview. Jasimuddin was a renowned pastoral poet. Shamsur Rahman was the poet laureate of Bangladesh for many years. Al Mahmud is considered one of the greatest Bengali poets to have emerged in the 20th century. Farrukh Ahmed, Sufia Kamal, and Nirmalendu Goon are important figures of modern Bangladeshi poetry. Ahmed Sofa is regarded as the most important Bangladeshi intellectual in the post-independence era. Humayun Ahmed was a popular writer of modern Bangladeshi magical realism and science fiction. Notable writers of Bangladeshi fictions include Mir Mosharraf Hossain, Akhteruzzaman Elias, Syed Waliullah, Shahidullah Kaiser, Shawkat Osman, Selina Hossain, Taslima Nasreen, Haripada Datta, Razia Khan, Anisul Hoque, and Bipradash Barua. Many Bangladeshi writers, such as Muhammad Zafar Iqbal, and Farah Ghuznavi are acclaimed for their short stories. The annual Ekushey Book Fair and Dhaka Literature Festival, organised by the Bangla Academy, are among the largest literary festivals in South Asia. Women in Bangladesh Women make up most of the workforce of Bangladesh\\'s export oriented garment industry that makes the highest contribution to the country\\'s economic growth. Main article: Women in Bangladesh Although, as of 2015, several women occupied major political office in Bangladesh, its women continue to live under a patriarchal social regime where violence is common. Whereas in India and Pakistan women participate less in the workforce as their education increases, the reverse is the case in Bangladesh. Bengal has a long history of feminist activism dating back to the 19th century. Begum Rokeya and Faizunnessa Chowdhurani played an important role in emancipating Bengali Muslim women from purdah, prior to the country\\'s division, as well as promoting girls\\' education. Several women were elected to the Bengal Legislative Assembly in the British Raj. The first women\\'s magazine, Begum, was published in 1948. In 2008, Bangladeshi female workforce participation stood at 26%. Women dominate blue collar jobs in the Bangladeshi garment industry. Agriculture, social services, healthcare and education are also major occupations for Bangladeshi women, while their employment in white collar positions has steadily increased. Architecture Main article: Architecture of Bangladesh The Ahsan Manzil is one of the largest residences in Old Dhaka, where there are many Indo-Saracenic buildings The architectural traditions of Bangladesh have a 2,500-year-old heritage. Terracotta architecture is a distinct feature of Bengal. Pre-Islamic Bengali architecture reached its pinnacle in the Pala Empire, when the Pala School of Sculptural Art established grand structures such as the Somapura Mahavihara. Islamic architecture began developing under the Bengal Sultanate, when local terracotta styles influenced medieval mosque construction. The Adina Mosque of United Bengal was the largest mosque built on the Indian subcontinent. The Sixty Dome Mosque was the largest medieval mosque built in Bangladesh, and is a fine example of Turkic-Bengali architecture. The Mughal style replaced indigenous architecture when Bengal became a province of the Mughal Empire and influenced the development of urban housing. The Kantajew Temple and Dhakeshwari Temple are excellent examples of late medieval Hindu temple architecture. Indo-Saracenic Revival architecture, based on Indo-Islamic styles, flourished during the British period. The zamindar gentry in Bangladesh built numerous Indo-Saracenic palaces and country mansions, such as the Ahsan Manzil, Tajhat Palace, Dighapatia Palace, Puthia Rajbari and Natore Rajbari. The bungalow, which originated in Bengal, is a common sight. The roof style seen in the picture is common in the hilly areas of Sylhet and Chittagong Bengali vernacular architecture is noted for pioneering the bungalow. Bangladeshi villages consist of thatched roofed houses made of natural materials like mud, straw, wood and bamboo. In modern times, village bungalows are increasingly made of tin. Muzharul Islam was the pioneer of Bangladeshi modern architecture. His varied works set the course of modern architectural practice in the country. Islam brought leading global architects, including Louis Kahn, Richard Neutra, Stanley Tigerman, Paul Rudolph, Robert Boughey and Konstantinos Doxiadis, to work in erstwhile East Pakistan. Louis Kahn was chosen to design the National Parliament Complex in Sher-e-Bangla Nagar. Kahn\\'s monumental designs, combining regional red brick aesthetics, his own concrete and marble brutalism and the use of lakes to represent Bengali geography, are regarded as one of the masterpieces of the 20th century. In more recent times, award-winning architects like Rafiq Azam have set the course of contemporary architecture by adopting influences from the works of Islam and Kahn. Performing arts A Baul from Lalon Shah\\'s shrine in Kushtia Theatre in Bangladesh includes various forms with a history dating back to the 4th century CE. It includes narrative forms, song and dance forms, supra-personae forms, performances with scroll paintings, puppet theatre and processional forms. The Jatra is the most popular form of Bengali folk theatre. The dance traditions of Bangladesh include indigenous tribal and Bengali dance forms, as well as classical Indian dances, including the Kathak, Odissi and Manipuri dances. The music of Bangladesh features the Baul mystical tradition, listed by UNESCO as a Masterpiece of Intangible Cultural Heritage. Numerous lyric-based musical traditions, varying from one region to the next, exist, including Gombhira, Bhatiali and Bhawaiya. Folk music is accompanied by a one-stringed instrument known as the ektara. Other instruments include the dotara, dhol, flute, and tabla. Bengali classical music includes Tagore songs and Nazrul Sangeet. Bangladesh has a rich tradition of Indian classical music, which uses instruments like the sitar, tabla, sarod and santoor. Musician Ayub Bachchu is credited with popularising Bengali rock music in Bangladesh. Textiles See also: Textile arts of Bangladesh and Muslin trade in Bengal Embroidery on Nakshi kantha (embroidered quilt), centuries-old Bengali art tradition The Nakshi Kantha is a centuries-old embroidery tradition for quilts, said to be indigenous to eastern Bengal (i.e. Bangladesh). The sari is the national dress for Bangladeshi women. Mughal Dhaka was renowned for producing the finest Muslin saris, including the famed Dhakai and Jamdani, the weaving of which is listed by UNESCO as one of the masterpieces of humanity\\'s intangible cultural heritage. Bangladesh also produces the Rajshahi silk. The shalwar kameez is also widely worn by Bangladeshi women. In urban areas some women can be seen in western clothing. The kurta and sherwani are the national dress of Bangladeshi men; the lungi and dhoti are worn by them in informal settings. Aside from ethnic wear, domestically tailored suits and neckties are customarily worn by the country\\'s men in offices, in schools and at social events. The handloom industry supplies 60–65% of the country\\'s clothing demand. The Bengali ethnic fashion industry has flourished in the changing environment of the fashion world. The retailer Aarong is one of the most successful ethnic wear brands in South Asia. The development of the Bangladesh textile industry, which supplies leading international brands, has promoted the production and retail of modern Western attire locally, with the country now having a number of expanding local brands like Westecs and Yellow. Bangladesh is the world\\'s second largest garments exporter. Among Bangladesh\\'s fashion designers, Bibi Russell has received international acclaim for her \"Fashion for Development\" shows. Cuisine Main articles: Bengali cuisine and Bangladeshi cuisine Traditional Bangladeshi Meal: Mustard seed Ilish Curry, Dhakai Biryani and Pitha White rice is the staple of Bangladeshi cuisine, along with many vegetables and lentils. Rice preparations also include Bengali biryanis, pulaos, and khichuris. Mustard sauce, ghee, sunflower oil and fruit chutneys are widely used in Bangladeshi cooking. Fish is the main source of protein in Bengali cuisine. The Hilsa is the national fish and immensely popular across Bangladesh. Other kinds of fish eaten include rohu, butterfish, catfish, tilapia and barramundi. Fish eggs are a gourmet delicacy. Seafood holds an important place in Bengali cuisine, especially lobsters, shrimps and dried fish. Meat consumption includes chicken, beef, mutton, venison, duck and squab. In Chittagong, Mezban feasts are a popular tradition featuring the serving of hot beef curry. In Sylhet, the shatkora lemons are used to marinate dishes. In the tribal Hill Tracts, bamboo shoot cooking is prevalent. Bangladesh has a vast spread of desserts, including distinctive sweets like Rôshogolla, Rôshomalai, Chomchom, Mishti Doi and Kalojaam. Pithas are traditional boiled desserts made with rice or fruits. Halwa is served during religious festivities. Naan, paratha, luchi and bakarkhani are the main local breads. Black tea is offered to guests as a gesture of welcome. Kebabs are widely popular across Bangladesh, particularly seekh kebabs, chicken tikka and shashliks. Bangladesh shares its culinary heritage with the neighbouring Indian state of West Bengal. The two regions have several differences, however. In Muslim-majority Bangladesh, meat consumption is greater; whereas in Hindu-majority West Bengal, vegetarianism is more prevalent. The Bangladeshi diaspora dominates the South Asian restaurant industry in many Western countries, particularly in the United Kingdom. Festivals Main articles: Public holidays in Bangladesh and List of festivals in Bangladesh The annual Bengali New Year parade Pahela Baishakh, the Bengali new year, is the major festival of Bengali culture and sees widespread festivities. Of the major holidays celebrated in Bangladesh, only Pahela Baishakh comes without any preexisting expectations (specific religious identity, culture of gift-giving, etc.). Unlike holidays like Eid al-Fitr, where dressing up in lavish clothes has become a norm, or Christmas where exchanging gifts has become an integral part of the holiday, Pahela Baishakh is really about celebrating the simpler, rural roots of the Bengal. As a result, more people can participate in the festivities together without the burden of having to reveal one\\'s class, religion, or financial capacity. Other cultural festivals include Nabonno, and Poush Parbon both of which are Bengali harvest festivals. The Muslim festivals of Eid al-Fitr, Eid al-Adha, Milad un Nabi, Muharram, Chand Raat, Shab-e-Barat; the Hindu festivals of Durga Puja, Janmashtami and Rath Yatra; the Buddhist festival of Buddha Purnima, which marks the birth of Gautama Buddha, and Christian festival of Christmas are national holidays in Bangladesh and see the most widespread celebrations in the country. Alongside are national days like the remembrance of 21 February 1952 Language Movement Day (International Mother Language Day created by UNESCO in 1999), Independence Day and Victory Day. On Language Movement Day, people congregate at the Shaheed Minar in Dhaka to remember the national heroes of the Bengali Language Movement, and at the National Martyrs’ Memorial on Independence Day and Victory Day to remember the national heroes of the Bangladesh Liberation War. These occasions are observed with public ceremonies, parades, rallies by citizens, political speeches, fairs, concerts, and various other public and private events, celebrating the history and traditions of Bangladesh. TV and radio stations broadcast special programs and patriotic songs, and many schools and colleges organise fairs, festivals, and concerts that draw the participation of citizens from all levels of Bangladeshi society. Sports Main article: Sports in Bangladesh The national cricket team playing against Zimbabwe in 2009. Fans can be seen in the background waving a Bangladesh flag. Cricket is one of the most popular sports in Bangladesh, followed by football. The national cricket team participated in their first Cricket World Cup in 1999, and the following year was granted elite Test cricket status. They have however struggled, recording only ten test match victories: one against Australia, one against England, one against Sri Lanka in Sri Lanka, five against Zimbabwe (one in 2005, one in 2013 in Zimbabwe, and three in 2014), two in a 2–0 series victory over the West Indies in the West Indies in 2009. Six of Bangladesh\\'s ten test match victories came in between the years 2014 to 2017. The team has been more successful in One Day International cricket (ODI). They reached the quarter-final of the 2015 Cricket World Cup. They also reached the semi-final of the 2017 ICC Champions Trophy. They whitewashed Pakistan in a home ODI series in 2015 followed by home ODI series wins against India and South Africa. They also won home ODI series by 4–0 in 2010 against New Zealand and whitewashed them in the home ODI series in 2013. In July 2010, they celebrated their first-ever win over England in England. In late 2012, they won a five-match home ODI series 3-2 against a full-strength West Indies National team. In 2011, Bangladesh successfully co-hosted the ICC Cricket World Cup 2011 with India and Sri Lanka. They also hosted the 2014 ICC World Twenty20 championship. Bangladesh hosted the Asia Cup on four occasions in 2000, 2012, 2014, and 2016. In 2012 Asia Cup, Bangladesh beat India and Sri Lanka but lost the final game against Pakistan. However, it was the first time Bangladesh had advanced to the final of any top-class international cricket tournament. They reached the final again at the 2016 Asia Cup and 2018 Asia Cup. They participated at the 2010 Asian Games in Guangzhou, defeating Afghanistan to claim their Gold Medal in the first-ever cricket tournament held in the Asian Games. Bangladeshi cricketer Sakib Al Hasan is No.1 on the ICC\\'s all-rounder rankings in all three formats of the cricket. Women\\'s sports saw tremendous progress in the 2010s decade in Bangladesh. In 2018 the Bangladesh women\\'s national cricket team the 2018 Women\\'s Twenty20 Asia Cup defeating India women\\'s national cricket team in the final. Kabaddi—very popular in Bangladesh—is the national game. Other popular sports include field hockey, tennis, badminton, handball, football, chess, shooting, angling. The National Sports Council regulates 42 different sporting federations. On 4 November 2018, Bangladesh national under-15 football team won the 2018 SAFF U-15 Championship, defeating Pakistan national under-15 football team in the final. Bangladesh has five grandmasters in chess. Among them, Niaz Murshed was the first grandmaster in South Asia. In another achievement, Margarita Mamun, a Russian rhythmic gymnast of Bangladeshi origin, was the world champion in 2013 and 2014 before winning the gold medal at the 2016 Summer Olympics. Media and cinema Main articles: Media of Bangladesh and Cinema of Bangladesh Anwar Hossain playing Siraj-ud-Daulah, the last independent Nawab of Bengal, in the 1967 film Nawab Sirajuddaulah The Bangladeshi press is diverse, outspoken and privately owned. Over 200 newspapers are published in the country. Bangladesh Betar is the state-run radio service. The British Broadcasting Corporation operates the popular BBC Bangla news and current affairs service. Bengali broadcasts from Voice of America are also very popular. Bangladesh Television (BTV) is the state-owned television network. There more than 20 privately owned television networks, including several news channels. Freedom of the media remains a major concern, due to government attempts at censorship and the harassment of journalists. The cinema of Bangladesh dates back to 1898, when films began screening at the Crown Theatre in Dhaka. The first bioscope on the subcontinent was established in Dhaka that year. The Dhaka Nawab Family patronised the production of several silent films in the 1920s and 30s. In 1931, the East Bengal Cinematograph Society released the first full-length feature film in Bangladesh, titled the Last Kiss. The first feature film in East Pakistan, Mukh O Mukhosh, was released in 1956. During the 1960s, 25–30 films were produced annually in Dhaka. By the 2000s, Bangladesh produced 80–100 films a year. While the Bangladeshi film industry has achieved limited commercial success, the country has produced notable independent filmmakers. Zahir Raihan was a prominent documentary-maker who was assassinated in 1971. The late Tareque Masud is regarded as one of Bangladesh\\'s outstanding directors due to his numerous productions on historical and social issues. Masud was honoured by FIPRESCI at the 2002 Cannes Film Festival for his film The Clay Bird. Tanvir Mokammel, Mostofa Sarwar Farooki, Humayun Ahmed, Alamgir Kabir, and Chashi Nazrul Islam are some of the prominent directors of Bangladeshi cinema. Bangladesh have very active film society culture. its started in 1963 at Dhaka. Now around 40 Film Society active in all over Bangladesh. Federation of Film Societies of Bangladesh is the parent organisation of the film society movement of Bangladesh. Active film societies include the Rainbow Film Society, Children\\'s Film Society, Moviyana Film Society & Dhaka University Film Society. Museums and libraries Main articles: Museums in Bangladesh and List of libraries in Bangladesh Bangladesh National Museum Northbrook Hall, a public library opened in 1882 with rare book collections from the British Raj The Varendra Research Museum is the oldest museum in Bangladesh. It houses important collections from both the pre-Islamic and Islamic periods, including the sculptures of the Pala-Sena School of Art and the Indus Valley Civilization; as well as Sanskrit, Arabic and Persian manuscripts and inscriptions. The Ahsan Manzil, the former residence of the Nawab of Dhaka, is a national museum housing collections from the British Raj. It was the site of the founding conference of the All India Muslim League and hosted many British Viceroys in Dhaka. The Tajhat Palace Museum preserves artefacts of the rich cultural heritage of North Bengal, including Hindu-Buddhist sculptures and Islamic manuscripts. The Mymensingh Museum houses the personal antique collections of Bengali aristocrats in central Bengal. The Ethnological Museum of Chittagong showcases the lifestyle of various tribes in Bangladesh. The Bangladesh National Museum is located in Ramna, Dhaka and has a rich collection of antiquities. The Liberation War Museum documents the Bangladeshi struggle for independence and the 1971 genocide. In ancient times, manuscripts were written on palm leaves, tree barks, parchment vellum and terracotta plates and preserved at monasteries known as viharas. The Hussain Shahi dynasty established royal libraries during the Bengal Sultanate. Libraries were established in each district of Bengal by the zamindar gentry during the Bengal Renaissance in the 19th century. The trend of establishing libraries continued until the beginning of World War II. In 1854, four major public libraries were opened, including the Bogra Woodburn Library, the Rangpur Public Library, the Jessore Institute Public Library and the Barisal Public Library. The Northbrook Hall Public Library was established in Dhaka in 1882 in honour of Lord Northbrook, the Governor-General. Other libraries established in the British period included the Victoria Public Library, Natore (1901), the Sirajganj Public Library (1882), the Rajshahi Public Library (1884), the Comilla Birchandra Library (1885), the Shah Makhdum Institute Public Library, Rajshahi (1891), the Noakhali Town Hall Public Library (1896), the Prize Memorial Library, Sylhet (1897), the Chittagong Municipality Public Library (1904) and the Varendra Research Library (1910). The Great Bengal Library Association was formed in 1925. The Central Public Library of Dhaka was established in 1959. The National Library of Bangladesh was established in 1972. The World Literature Center, founded by Ramon Magsaysay Award winner Abdullah Abu Sayeed, is noted for operating numerous mobile libraries across Bangladesh and was awarded the UNESCO Jon Amos Comenius Medal.'"
      ]
     },
     "execution_count": 4,
     "metadata": {},
     "output_type": "execute_result"
    }
   ],
   "source": [
    "lines = lines.replace('\\n', ' ')\n",
    "lines"
   ]
  },
  {
   "cell_type": "code",
   "execution_count": 5,
   "metadata": {},
   "outputs": [],
   "source": [
    "def create_dataset(dataset, look_back=1):\n",
    "\tdataX, dataY = [], []\n",
    "\tfor i in range(len(dataset)-look_back-1):\n",
    "\t\ta = dataset[i:(i+look_back), 0]\n",
    "\t\tdataX.append(a)\n",
    "\t\tdataY.append(dataset[i + look_back, 0])\n",
    "\treturn np.array(dataX), np.array(dataY)"
   ]
  },
  {
   "cell_type": "code",
   "execution_count": 6,
   "metadata": {},
   "outputs": [],
   "source": [
    "col1, col2 = create_dataset(sentTwo)\n",
    "#col1 = col1.reshape(-1)\n",
    "col2 = col2.reshape(-1,1)\n",
    "#col2.shape\n",
    "dt = np.concatenate((col1,col2), axis=1)\n"
   ]
  },
  {
   "cell_type": "code",
   "execution_count": 7,
   "metadata": {},
   "outputs": [],
   "source": [
    "import pandas as pd\n",
    "\n",
    "lines = pd.DataFrame(dt, columns=['eng','prediction'])"
   ]
  },
  {
   "cell_type": "code",
   "execution_count": 8,
   "metadata": {},
   "outputs": [
    {
     "data": {
      "text/html": [
       "<div>\n",
       "<style scoped>\n",
       "    .dataframe tbody tr th:only-of-type {\n",
       "        vertical-align: middle;\n",
       "    }\n",
       "\n",
       "    .dataframe tbody tr th {\n",
       "        vertical-align: top;\n",
       "    }\n",
       "\n",
       "    .dataframe thead th {\n",
       "        text-align: right;\n",
       "    }\n",
       "</style>\n",
       "<table border=\"1\" class=\"dataframe\">\n",
       "  <thead>\n",
       "    <tr style=\"text-align: right;\">\n",
       "      <th></th>\n",
       "      <th>eng</th>\n",
       "      <th>prediction</th>\n",
       "    </tr>\n",
       "  </thead>\n",
       "  <tbody>\n",
       "    <tr>\n",
       "      <td>460</td>\n",
       "      <td>its started in 1963 at Dhaka.</td>\n",
       "      <td>Federation of Film Societies of Bangladesh is ...</td>\n",
       "    </tr>\n",
       "    <tr>\n",
       "      <td>461</td>\n",
       "      <td>Federation of Film Societies of Bangladesh is ...</td>\n",
       "      <td>Museums and libraries Main articles: Museums i...</td>\n",
       "    </tr>\n",
       "    <tr>\n",
       "      <td>462</td>\n",
       "      <td>Museums and libraries Main articles: Museums i...</td>\n",
       "      <td>The Ahsan Manzil, the former residence of the ...</td>\n",
       "    </tr>\n",
       "    <tr>\n",
       "      <td>463</td>\n",
       "      <td>The Ahsan Manzil, the former residence of the ...</td>\n",
       "      <td>The Tajhat Palace Museum preserves artefacts o...</td>\n",
       "    </tr>\n",
       "    <tr>\n",
       "      <td>464</td>\n",
       "      <td>The Tajhat Palace Museum preserves artefacts o...</td>\n",
       "      <td>The Ethnological Museum of Chittagong showcase...</td>\n",
       "    </tr>\n",
       "    <tr>\n",
       "      <td>465</td>\n",
       "      <td>The Ethnological Museum of Chittagong showcase...</td>\n",
       "      <td>The Liberation War Museum documents the Bangla...</td>\n",
       "    </tr>\n",
       "    <tr>\n",
       "      <td>466</td>\n",
       "      <td>The Liberation War Museum documents the Bangla...</td>\n",
       "      <td>The Hussain Shahi dynasty established royal li...</td>\n",
       "    </tr>\n",
       "    <tr>\n",
       "      <td>467</td>\n",
       "      <td>The Hussain Shahi dynasty established royal li...</td>\n",
       "      <td>The trend of establishing libraries continued ...</td>\n",
       "    </tr>\n",
       "    <tr>\n",
       "      <td>468</td>\n",
       "      <td>The trend of establishing libraries continued ...</td>\n",
       "      <td>The Northbrook Hall Public Library was establi...</td>\n",
       "    </tr>\n",
       "    <tr>\n",
       "      <td>469</td>\n",
       "      <td>The Northbrook Hall Public Library was establi...</td>\n",
       "      <td>The Great Bengal Library Association was forme...</td>\n",
       "    </tr>\n",
       "  </tbody>\n",
       "</table>\n",
       "</div>"
      ],
      "text/plain": [
       "                                                   eng  \\\n",
       "460                      its started in 1963 at Dhaka.   \n",
       "461  Federation of Film Societies of Bangladesh is ...   \n",
       "462  Museums and libraries Main articles: Museums i...   \n",
       "463  The Ahsan Manzil, the former residence of the ...   \n",
       "464  The Tajhat Palace Museum preserves artefacts o...   \n",
       "465  The Ethnological Museum of Chittagong showcase...   \n",
       "466  The Liberation War Museum documents the Bangla...   \n",
       "467  The Hussain Shahi dynasty established royal li...   \n",
       "468  The trend of establishing libraries continued ...   \n",
       "469  The Northbrook Hall Public Library was establi...   \n",
       "\n",
       "                                            prediction  \n",
       "460  Federation of Film Societies of Bangladesh is ...  \n",
       "461  Museums and libraries Main articles: Museums i...  \n",
       "462  The Ahsan Manzil, the former residence of the ...  \n",
       "463  The Tajhat Palace Museum preserves artefacts o...  \n",
       "464  The Ethnological Museum of Chittagong showcase...  \n",
       "465  The Liberation War Museum documents the Bangla...  \n",
       "466  The Hussain Shahi dynasty established royal li...  \n",
       "467  The trend of establishing libraries continued ...  \n",
       "468  The Northbrook Hall Public Library was establi...  \n",
       "469  The Great Bengal Library Association was forme...  "
      ]
     },
     "execution_count": 8,
     "metadata": {},
     "output_type": "execute_result"
    }
   ],
   "source": [
    "lines.tail(10)\n",
    "#lines.prediction.tail(5)"
   ]
  },
  {
   "cell_type": "code",
   "execution_count": 9,
   "metadata": {},
   "outputs": [
    {
     "data": {
      "text/html": [
       "<div>\n",
       "<style scoped>\n",
       "    .dataframe tbody tr th:only-of-type {\n",
       "        vertical-align: middle;\n",
       "    }\n",
       "\n",
       "    .dataframe tbody tr th {\n",
       "        vertical-align: top;\n",
       "    }\n",
       "\n",
       "    .dataframe thead th {\n",
       "        text-align: right;\n",
       "    }\n",
       "</style>\n",
       "<table border=\"1\" class=\"dataframe\">\n",
       "  <thead>\n",
       "    <tr style=\"text-align: right;\">\n",
       "      <th></th>\n",
       "      <th>eng</th>\n",
       "      <th>prediction</th>\n",
       "    </tr>\n",
       "  </thead>\n",
       "  <tbody>\n",
       "    <tr>\n",
       "      <td>460</td>\n",
       "      <td>its started in 1963 at dhaka</td>\n",
       "      <td>START_ federation of film societies of banglad...</td>\n",
       "    </tr>\n",
       "    <tr>\n",
       "      <td>461</td>\n",
       "      <td>federation of film societies of bangladesh is ...</td>\n",
       "      <td>START_ museums and libraries main articles mus...</td>\n",
       "    </tr>\n",
       "    <tr>\n",
       "      <td>462</td>\n",
       "      <td>museums and libraries main articles museums in...</td>\n",
       "      <td>START_ the ahsan manzil the former residence o...</td>\n",
       "    </tr>\n",
       "    <tr>\n",
       "      <td>463</td>\n",
       "      <td>the ahsan manzil the former residence of the n...</td>\n",
       "      <td>START_ the tajhat palace museum preserves arte...</td>\n",
       "    </tr>\n",
       "    <tr>\n",
       "      <td>464</td>\n",
       "      <td>the tajhat palace museum preserves artefacts o...</td>\n",
       "      <td>START_ the ethnological museum of chittagong s...</td>\n",
       "    </tr>\n",
       "    <tr>\n",
       "      <td>465</td>\n",
       "      <td>the ethnological museum of chittagong showcase...</td>\n",
       "      <td>START_ the liberation war museum documents the...</td>\n",
       "    </tr>\n",
       "    <tr>\n",
       "      <td>466</td>\n",
       "      <td>the liberation war museum documents the bangla...</td>\n",
       "      <td>START_ the hussain shahi dynasty established r...</td>\n",
       "    </tr>\n",
       "    <tr>\n",
       "      <td>467</td>\n",
       "      <td>the hussain shahi dynasty established royal li...</td>\n",
       "      <td>START_ the trend of establishing libraries con...</td>\n",
       "    </tr>\n",
       "    <tr>\n",
       "      <td>468</td>\n",
       "      <td>the trend of establishing libraries continued ...</td>\n",
       "      <td>START_ the northbrook hall public library was ...</td>\n",
       "    </tr>\n",
       "    <tr>\n",
       "      <td>469</td>\n",
       "      <td>the northbrook hall public library was establi...</td>\n",
       "      <td>START_ the great bengal library association wa...</td>\n",
       "    </tr>\n",
       "  </tbody>\n",
       "</table>\n",
       "</div>"
      ],
      "text/plain": [
       "                                                   eng  \\\n",
       "460                       its started in 1963 at dhaka   \n",
       "461  federation of film societies of bangladesh is ...   \n",
       "462  museums and libraries main articles museums in...   \n",
       "463  the ahsan manzil the former residence of the n...   \n",
       "464  the tajhat palace museum preserves artefacts o...   \n",
       "465  the ethnological museum of chittagong showcase...   \n",
       "466  the liberation war museum documents the bangla...   \n",
       "467  the hussain shahi dynasty established royal li...   \n",
       "468  the trend of establishing libraries continued ...   \n",
       "469  the northbrook hall public library was establi...   \n",
       "\n",
       "                                            prediction  \n",
       "460  START_ federation of film societies of banglad...  \n",
       "461  START_ museums and libraries main articles mus...  \n",
       "462  START_ the ahsan manzil the former residence o...  \n",
       "463  START_ the tajhat palace museum preserves arte...  \n",
       "464  START_ the ethnological museum of chittagong s...  \n",
       "465  START_ the liberation war museum documents the...  \n",
       "466  START_ the hussain shahi dynasty established r...  \n",
       "467  START_ the trend of establishing libraries con...  \n",
       "468  START_ the northbrook hall public library was ...  \n",
       "469  START_ the great bengal library association wa...  "
      ]
     },
     "execution_count": 9,
     "metadata": {},
     "output_type": "execute_result"
    }
   ],
   "source": [
    "# Lowercase all characters\n",
    "lines.eng=lines.eng.apply(lambda x: x.lower())\n",
    "lines.prediction=lines.prediction.apply(lambda x: x.lower())\n",
    "\n",
    "# to install mecab\n",
    "# sudo apt install mecab mecab-ipadic-utf8\n",
    "#import MeCab\n",
    "#wakati = MeCab.Tagger(\"-Owakati\")\n",
    "#lines.prediction = lines.prediction.apply(lambda x: wakati.parse(x).strip(\"\\n\"))\n",
    "\n",
    "# Remove quotes\n",
    "lines.eng=lines.eng.apply(lambda x: re.sub(\"'\", '', x))\n",
    "lines.prediction=lines.prediction.apply(lambda x: re.sub(\"'\", '', x))\n",
    "exclude = set(string.punctuation) # Set of all special characters\n",
    "\n",
    "# Remove all the special characters\n",
    "lines.eng=lines.eng.apply(lambda x: ''.join(ch for ch in x if ch not in exclude))\n",
    "lines.prediction=lines.prediction.apply(lambda x: ''.join(ch for ch in x if ch not in exclude))\n",
    "\n",
    "# Remove all numbers from text\n",
    "#remove_digits = str.maketrans('', '', digits)\n",
    "#lines.eng=lines.eng.apply(lambda x: x.translate(remove_digits))\n",
    "#lines.prediction = lines.prediction.apply(lambda x: re.sub(\"[123456789]\", \"\", x))\n",
    "# Remove extra spaces\n",
    "\n",
    "lines.eng=lines.eng.apply(lambda x: x.strip())\n",
    "lines.prediction=lines.prediction.apply(lambda x: x.strip())\n",
    "lines.eng=lines.eng.apply(lambda x: re.sub(\" +\", \" \", x))\n",
    "lines.prediction=lines.prediction.apply(lambda x: re.sub(\" +\", \" \", x))\n",
    "\n",
    "# Add start and end tokens to target sequences\n",
    "lines.prediction = lines.prediction.apply(lambda x : 'START_ '+ x + ' _END')\n",
    "lines.head(10)\n",
    "lines.tail(10)"
   ]
  },
  {
   "cell_type": "code",
   "execution_count": 10,
   "metadata": {},
   "outputs": [],
   "source": [
    "# Vocabulary of English\n",
    "all_eng_words=set()\n",
    "for eng in lines.eng:\n",
    "    for word in eng.split():\n",
    "        if word not in all_eng_words:\n",
    "            all_eng_words.add(word)\n",
    "\n",
    "# Vocabulary of prediction \n",
    "all_prediction_words=set()\n",
    "for prediction in lines.prediction:\n",
    "    for word in prediction.split():\n",
    "        if word not in all_prediction_words:\n",
    "            all_prediction_words.add(word)"
   ]
  },
  {
   "cell_type": "code",
   "execution_count": 11,
   "metadata": {},
   "outputs": [
    {
     "data": {
      "text/plain": [
       "96"
      ]
     },
     "execution_count": 11,
     "metadata": {},
     "output_type": "execute_result"
    }
   ],
   "source": [
    "# Max Length of source sequence\n",
    "lenght_list=[]\n",
    "for l in lines.eng:\n",
    "    lenght_list.append(len(l.split(' ')))\n",
    "max_length_src = np.max(lenght_list)\n",
    "max_length_src"
   ]
  },
  {
   "cell_type": "code",
   "execution_count": 12,
   "metadata": {},
   "outputs": [
    {
     "data": {
      "text/plain": [
       "98"
      ]
     },
     "execution_count": 12,
     "metadata": {},
     "output_type": "execute_result"
    }
   ],
   "source": [
    "# Max Length of target sequence\n",
    "lenght_list=[]\n",
    "for l in lines.prediction:\n",
    "    lenght_list.append(len(l.split(' ')))\n",
    "max_length_tar = np.max(lenght_list)\n",
    "max_length_tar"
   ]
  },
  {
   "cell_type": "code",
   "execution_count": 13,
   "metadata": {},
   "outputs": [
    {
     "data": {
      "text/plain": [
       "(2777, 2777)"
      ]
     },
     "execution_count": 13,
     "metadata": {},
     "output_type": "execute_result"
    }
   ],
   "source": [
    "input_words = sorted(list(all_eng_words))\n",
    "target_words = sorted(list(all_prediction_words))\n",
    "num_encoder_tokens = len(all_eng_words)\n",
    "num_decoder_tokens = len(all_prediction_words)\n",
    "num_encoder_tokens, num_decoder_tokens"
   ]
  },
  {
   "cell_type": "code",
   "execution_count": 14,
   "metadata": {},
   "outputs": [
    {
     "data": {
      "text/plain": [
       "2778"
      ]
     },
     "execution_count": 14,
     "metadata": {},
     "output_type": "execute_result"
    }
   ],
   "source": [
    "num_decoder_tokens += 1 # For zero padding\n",
    "num_decoder_tokens"
   ]
  },
  {
   "cell_type": "code",
   "execution_count": 15,
   "metadata": {},
   "outputs": [],
   "source": [
    "input_token_index = dict([(word, i+1) for i, word in enumerate(input_words)])\n",
    "target_token_index = dict([(word, i+1) for i, word in enumerate(target_words)])"
   ]
  },
  {
   "cell_type": "code",
   "execution_count": 16,
   "metadata": {},
   "outputs": [],
   "source": [
    "reverse_input_char_index = dict((i, word) for word, i in input_token_index.items())\n",
    "reverse_target_char_index = dict((i, word) for word, i in target_token_index.items())"
   ]
  },
  {
   "cell_type": "code",
   "execution_count": 17,
   "metadata": {},
   "outputs": [
    {
     "data": {
      "text/html": [
       "<div>\n",
       "<style scoped>\n",
       "    .dataframe tbody tr th:only-of-type {\n",
       "        vertical-align: middle;\n",
       "    }\n",
       "\n",
       "    .dataframe tbody tr th {\n",
       "        vertical-align: top;\n",
       "    }\n",
       "\n",
       "    .dataframe thead th {\n",
       "        text-align: right;\n",
       "    }\n",
       "</style>\n",
       "<table border=\"1\" class=\"dataframe\">\n",
       "  <thead>\n",
       "    <tr style=\"text-align: right;\">\n",
       "      <th></th>\n",
       "      <th>eng</th>\n",
       "      <th>prediction</th>\n",
       "    </tr>\n",
       "  </thead>\n",
       "  <tbody>\n",
       "    <tr>\n",
       "      <td>207</td>\n",
       "      <td>it was formed in 1971 from the military regime...</td>\n",
       "      <td>START_ in addition to traditional defence role...</td>\n",
       "    </tr>\n",
       "    <tr>\n",
       "      <td>165</td>\n",
       "      <td>the bangladesh plain is famous for its fertile...</td>\n",
       "      <td>START_ the country has up to 6000 species of p...</td>\n",
       "    </tr>\n",
       "    <tr>\n",
       "      <td>375</td>\n",
       "      <td>pottery is widely used in bengali culture</td>\n",
       "      <td>START_ east bengal developed its own modernist...</td>\n",
       "    </tr>\n",
       "    <tr>\n",
       "      <td>282</td>\n",
       "      <td>the country has three unesco world heritage si...</td>\n",
       "      <td>START_ muhammad yunus successfully pioneered m...</td>\n",
       "    </tr>\n",
       "    <tr>\n",
       "      <td>222</td>\n",
       "      <td>in 2016 the king of saudi arabia called bangla...</td>\n",
       "      <td>START_ bangladeshs most politicallyimportant b...</td>\n",
       "    </tr>\n",
       "    <tr>\n",
       "      <td>278</td>\n",
       "      <td>the electronics industry is growing rapidly pa...</td>\n",
       "      <td>START_ the service sector accounts for 51 perc...</td>\n",
       "    </tr>\n",
       "    <tr>\n",
       "      <td>425</td>\n",
       "      <td>pithas are traditional boiled desserts made wi...</td>\n",
       "      <td>START_ naan paratha luchi and bakarkhani are t...</td>\n",
       "    </tr>\n",
       "    <tr>\n",
       "      <td>204</td>\n",
       "      <td>from 1947 to 1971 laws were enacted by pakista...</td>\n",
       "      <td>START_ although most of bangladeshs laws were ...</td>\n",
       "    </tr>\n",
       "    <tr>\n",
       "      <td>248</td>\n",
       "      <td>bangladeshi security forces particularly the r...</td>\n",
       "      <td>START_ the rab has been called a death squad b...</td>\n",
       "    </tr>\n",
       "    <tr>\n",
       "      <td>369</td>\n",
       "      <td>malnutrition has been a persistent problem in ...</td>\n",
       "      <td>START_ fortythree to 60 percent of children un...</td>\n",
       "    </tr>\n",
       "  </tbody>\n",
       "</table>\n",
       "</div>"
      ],
      "text/plain": [
       "                                                   eng  \\\n",
       "207  it was formed in 1971 from the military regime...   \n",
       "165  the bangladesh plain is famous for its fertile...   \n",
       "375          pottery is widely used in bengali culture   \n",
       "282  the country has three unesco world heritage si...   \n",
       "222  in 2016 the king of saudi arabia called bangla...   \n",
       "278  the electronics industry is growing rapidly pa...   \n",
       "425  pithas are traditional boiled desserts made wi...   \n",
       "204  from 1947 to 1971 laws were enacted by pakista...   \n",
       "248  bangladeshi security forces particularly the r...   \n",
       "369  malnutrition has been a persistent problem in ...   \n",
       "\n",
       "                                            prediction  \n",
       "207  START_ in addition to traditional defence role...  \n",
       "165  START_ the country has up to 6000 species of p...  \n",
       "375  START_ east bengal developed its own modernist...  \n",
       "282  START_ muhammad yunus successfully pioneered m...  \n",
       "222  START_ bangladeshs most politicallyimportant b...  \n",
       "278  START_ the service sector accounts for 51 perc...  \n",
       "425  START_ naan paratha luchi and bakarkhani are t...  \n",
       "204  START_ although most of bangladeshs laws were ...  \n",
       "248  START_ the rab has been called a death squad b...  \n",
       "369  START_ fortythree to 60 percent of children un...  "
      ]
     },
     "execution_count": 17,
     "metadata": {},
     "output_type": "execute_result"
    }
   ],
   "source": [
    "lines = shuffle(lines)\n",
    "lines.head(10)"
   ]
  },
  {
   "cell_type": "code",
   "execution_count": 18,
   "metadata": {},
   "outputs": [
    {
     "data": {
      "text/plain": [
       "((423,), (47,))"
      ]
     },
     "execution_count": 18,
     "metadata": {},
     "output_type": "execute_result"
    }
   ],
   "source": [
    "# Train - Test Split\n",
    "X, y = lines.eng, lines.prediction\n",
    "X_train, X_test, y_train, y_test = train_test_split(X, y, test_size = 0.1)\n",
    "X_train.shape, X_test.shape"
   ]
  },
  {
   "cell_type": "markdown",
   "metadata": {},
   "source": [
    "#### Save the train and test dataframes for reproducing the results later, as they are shuffled."
   ]
  },
  {
   "cell_type": "code",
   "execution_count": 19,
   "metadata": {},
   "outputs": [],
   "source": [
    "X_train.to_pickle('Weights/X_train.pkl')\n",
    "X_test.to_pickle('Weights/X_test.pkl')"
   ]
  },
  {
   "cell_type": "code",
   "execution_count": 20,
   "metadata": {},
   "outputs": [],
   "source": [
    "def generate_batch(X = X_train, y = y_train, batch_size = 128):\n",
    "    ''' Generate a batch of data '''\n",
    "    while True:\n",
    "        for j in range(0, len(X), batch_size):\n",
    "            encoder_input_data = np.zeros((batch_size, max_length_src),dtype='float32')\n",
    "            decoder_input_data = np.zeros((batch_size, max_length_tar),dtype='float32')\n",
    "            decoder_target_data = np.zeros((batch_size, max_length_tar, num_decoder_tokens),dtype='float32')\n",
    "            for i, (input_text, target_text) in enumerate(zip(X[j:j+batch_size], y[j:j+batch_size])):\n",
    "                for t, word in enumerate(input_text.split()):\n",
    "                    encoder_input_data[i, t] = input_token_index[word] # encoder input seq\n",
    "                for t, word in enumerate(target_text.split()):\n",
    "                    if t<len(target_text.split())-1:\n",
    "                        decoder_input_data[i, t] = target_token_index[word] # decoder input seq\n",
    "                    if t>0:\n",
    "                        # decoder target sequence (one hot encoded)\n",
    "                        # does not include the START_ token\n",
    "                        # Offset by one timestep\n",
    "                        decoder_target_data[i, t - 1, target_token_index[word]] = 1.\n",
    "            yield([encoder_input_data, decoder_input_data], decoder_target_data)"
   ]
  },
  {
   "cell_type": "markdown",
   "metadata": {},
   "source": [
    "### Encoder - Decoder Model Architecture"
   ]
  },
  {
   "cell_type": "code",
   "execution_count": 21,
   "metadata": {},
   "outputs": [],
   "source": [
    "latent_dim = 50"
   ]
  },
  {
   "cell_type": "code",
   "execution_count": 22,
   "metadata": {},
   "outputs": [
    {
     "name": "stdout",
     "output_type": "stream",
     "text": [
      "WARNING:tensorflow:From /home/ifte/amiebot_project/lib/python3.6/site-packages/tensorflow/python/keras/backend.py:3794: add_dispatch_support.<locals>.wrapper (from tensorflow.python.ops.array_ops) is deprecated and will be removed in a future version.\n",
      "Instructions for updating:\n",
      "Use tf.where in 2.0, which has the same broadcast rule as np.where\n"
     ]
    }
   ],
   "source": [
    "# Encoder\n",
    "encoder_inputs = Input(shape=(None,))\n",
    "enc_emb =  Embedding(num_encoder_tokens, latent_dim, mask_zero = True)(encoder_inputs)\n",
    "encoder_lstm = LSTM(latent_dim, return_state=True)\n",
    "encoder_outputs, state_h, state_c = encoder_lstm(enc_emb)\n",
    "# We discard `encoder_outputs` and only keep the states.\n",
    "encoder_states = [state_h, state_c]"
   ]
  },
  {
   "cell_type": "code",
   "execution_count": 23,
   "metadata": {},
   "outputs": [],
   "source": [
    "# Set up the decoder, using `encoder_states` as initial state.\n",
    "decoder_inputs = Input(shape=(None,))\n",
    "dec_emb_layer = Embedding(num_decoder_tokens, latent_dim, mask_zero = True)\n",
    "dec_emb = dec_emb_layer(decoder_inputs)\n",
    "# We set up our decoder to return full output sequences,\n",
    "# and to return internal states as well. We don't use the\n",
    "# return states in the training model, but we will use them in inference.\n",
    "decoder_lstm = LSTM(latent_dim, return_sequences=True, return_state=True)\n",
    "decoder_outputs, _, _ = decoder_lstm(dec_emb,\n",
    "                                     initial_state=encoder_states)\n",
    "decoder_dense = Dense(num_decoder_tokens, activation='softmax')\n",
    "decoder_outputs = decoder_dense(decoder_outputs)\n",
    "\n",
    "# Define the model that will turn\n",
    "# `encoder_input_data` & `decoder_input_data` into `decoder_target_data`\n",
    "model = Model([encoder_inputs, decoder_inputs], decoder_outputs)"
   ]
  },
  {
   "cell_type": "code",
   "execution_count": 25,
   "metadata": {},
   "outputs": [
    {
     "ename": "NameError",
     "evalue": "name 'math_ops' is not defined",
     "output_type": "error",
     "traceback": [
      "\u001b[0;31m---------------------------------------------------------------------------\u001b[0m",
      "\u001b[0;31mNameError\u001b[0m                                 Traceback (most recent call last)",
      "\u001b[0;32m<ipython-input-25-716550b7d134>\u001b[0m in \u001b[0;36m<module>\u001b[0;34m\u001b[0m\n\u001b[0;32m----> 1\u001b[0;31m \u001b[0mmodel\u001b[0m\u001b[0;34m.\u001b[0m\u001b[0mcompile\u001b[0m\u001b[0;34m(\u001b[0m\u001b[0moptimizer\u001b[0m\u001b[0;34m=\u001b[0m\u001b[0;34m'rmsprop'\u001b[0m\u001b[0;34m,\u001b[0m \u001b[0mloss\u001b[0m\u001b[0;34m=\u001b[0m\u001b[0;34m'categorical_crossentropy'\u001b[0m\u001b[0;34m,\u001b[0m \u001b[0mmetrics\u001b[0m\u001b[0;34m=\u001b[0m\u001b[0;34m[\u001b[0m\u001b[0;34m'acc'\u001b[0m\u001b[0;34m]\u001b[0m\u001b[0;34m)\u001b[0m\u001b[0;34m\u001b[0m\u001b[0;34m\u001b[0m\u001b[0m\n\u001b[0m",
      "\u001b[0;32m~/amiebot_project/lib/python3.6/site-packages/keras/engine/training.py\u001b[0m in \u001b[0;36mcompile\u001b[0;34m(self, optimizer, loss, metrics, loss_weights, sample_weight_mode, weighted_metrics, target_tensors, **kwargs)\u001b[0m\n\u001b[1;32m    220\u001b[0m             \u001b[0mskip_target_masks\u001b[0m\u001b[0;34m=\u001b[0m\u001b[0;34m[\u001b[0m\u001b[0ml\u001b[0m \u001b[0;32mis\u001b[0m \u001b[0;32mNone\u001b[0m \u001b[0;32mfor\u001b[0m \u001b[0ml\u001b[0m \u001b[0;32min\u001b[0m \u001b[0mself\u001b[0m\u001b[0;34m.\u001b[0m\u001b[0mloss_functions\u001b[0m\u001b[0;34m]\u001b[0m\u001b[0;34m,\u001b[0m\u001b[0;34m\u001b[0m\u001b[0;34m\u001b[0m\u001b[0m\n\u001b[1;32m    221\u001b[0m             \u001b[0msample_weights\u001b[0m\u001b[0;34m=\u001b[0m\u001b[0mself\u001b[0m\u001b[0;34m.\u001b[0m\u001b[0msample_weights\u001b[0m\u001b[0;34m,\u001b[0m\u001b[0;34m\u001b[0m\u001b[0;34m\u001b[0m\u001b[0m\n\u001b[0;32m--> 222\u001b[0;31m             masks=masks)\n\u001b[0m\u001b[1;32m    223\u001b[0m \u001b[0;34m\u001b[0m\u001b[0m\n\u001b[1;32m    224\u001b[0m         \u001b[0;31m# Compute total loss.\u001b[0m\u001b[0;34m\u001b[0m\u001b[0;34m\u001b[0m\u001b[0;34m\u001b[0m\u001b[0m\n",
      "\u001b[0;32m~/amiebot_project/lib/python3.6/site-packages/keras/engine/training.py\u001b[0m in \u001b[0;36m_handle_metrics\u001b[0;34m(self, outputs, targets, skip_target_masks, sample_weights, masks)\u001b[0m\n\u001b[1;32m    869\u001b[0m \u001b[0;34m\u001b[0m\u001b[0m\n\u001b[1;32m    870\u001b[0m                 self._handle_per_output_metrics(\n\u001b[0;32m--> 871\u001b[0;31m                     self._per_output_metrics[i], target, output, output_mask)\n\u001b[0m\u001b[1;32m    872\u001b[0m                 self._handle_per_output_metrics(\n\u001b[1;32m    873\u001b[0m                     \u001b[0mself\u001b[0m\u001b[0;34m.\u001b[0m\u001b[0m_per_output_weighted_metrics\u001b[0m\u001b[0;34m[\u001b[0m\u001b[0mi\u001b[0m\u001b[0;34m]\u001b[0m\u001b[0;34m,\u001b[0m\u001b[0;34m\u001b[0m\u001b[0;34m\u001b[0m\u001b[0m\n",
      "\u001b[0;32m~/amiebot_project/lib/python3.6/site-packages/keras/engine/training.py\u001b[0m in \u001b[0;36m_handle_per_output_metrics\u001b[0;34m(self, metrics_dict, y_true, y_pred, mask, weights)\u001b[0m\n\u001b[1;32m    840\u001b[0m             \u001b[0;32mwith\u001b[0m \u001b[0mK\u001b[0m\u001b[0;34m.\u001b[0m\u001b[0mname_scope\u001b[0m\u001b[0;34m(\u001b[0m\u001b[0mmetric_name\u001b[0m\u001b[0;34m)\u001b[0m\u001b[0;34m:\u001b[0m\u001b[0;34m\u001b[0m\u001b[0;34m\u001b[0m\u001b[0m\n\u001b[1;32m    841\u001b[0m                 training_utils.call_metric_function(\n\u001b[0;32m--> 842\u001b[0;31m                     metric_fn, y_true, y_pred, weights=weights, mask=mask)\n\u001b[0m\u001b[1;32m    843\u001b[0m \u001b[0;34m\u001b[0m\u001b[0m\n\u001b[1;32m    844\u001b[0m     def _handle_metrics(self,\n",
      "\u001b[0;32m~/amiebot_project/lib/python3.6/site-packages/keras/engine/training_utils.py\u001b[0m in \u001b[0;36mcall_metric_function\u001b[0;34m(metric_fn, y_true, y_pred, weights, mask)\u001b[0m\n\u001b[1;32m   1020\u001b[0m     \u001b[0;34m\"\"\"Invokes metric function and returns the metric result tensor.\"\"\"\u001b[0m\u001b[0;34m\u001b[0m\u001b[0;34m\u001b[0m\u001b[0m\n\u001b[1;32m   1021\u001b[0m     \u001b[0;32mif\u001b[0m \u001b[0mmask\u001b[0m \u001b[0;32mis\u001b[0m \u001b[0;32mnot\u001b[0m \u001b[0;32mNone\u001b[0m\u001b[0;34m:\u001b[0m\u001b[0;34m\u001b[0m\u001b[0;34m\u001b[0m\u001b[0m\n\u001b[0;32m-> 1022\u001b[0;31m         \u001b[0mmask\u001b[0m \u001b[0;34m=\u001b[0m \u001b[0mmath_ops\u001b[0m\u001b[0;34m.\u001b[0m\u001b[0mcast\u001b[0m\u001b[0;34m(\u001b[0m\u001b[0mmask\u001b[0m\u001b[0;34m,\u001b[0m \u001b[0my_pred\u001b[0m\u001b[0;34m.\u001b[0m\u001b[0mdtype\u001b[0m\u001b[0;34m)\u001b[0m\u001b[0;34m\u001b[0m\u001b[0;34m\u001b[0m\u001b[0m\n\u001b[0m\u001b[1;32m   1023\u001b[0m         \u001b[0;32mif\u001b[0m \u001b[0mweights\u001b[0m \u001b[0;32mis\u001b[0m \u001b[0;32mNone\u001b[0m\u001b[0;34m:\u001b[0m\u001b[0;34m\u001b[0m\u001b[0;34m\u001b[0m\u001b[0m\n\u001b[1;32m   1024\u001b[0m             \u001b[0;31m# Use mask as sample weight.\u001b[0m\u001b[0;34m\u001b[0m\u001b[0;34m\u001b[0m\u001b[0;34m\u001b[0m\u001b[0m\n",
      "\u001b[0;31mNameError\u001b[0m: name 'math_ops' is not defined"
     ]
    }
   ],
   "source": [
    "model.compile(optimizer='rmsprop', loss='categorical_crossentropy', metrics=['acc'])"
   ]
  },
  {
   "cell_type": "code",
   "execution_count": null,
   "metadata": {},
   "outputs": [],
   "source": [
    "#from IPython.display import Image\n",
    "#Image(retina=True, filename='train_model.png')"
   ]
  },
  {
   "cell_type": "code",
   "execution_count": null,
   "metadata": {},
   "outputs": [],
   "source": [
    "train_samples = len(X_train)\n",
    "val_samples = len(X_test)\n",
    "batch_size = 128\n",
    "epochs = 50"
   ]
  },
  {
   "cell_type": "code",
   "execution_count": null,
   "metadata": {},
   "outputs": [],
   "source": [
    "model.fit_generator(generator = generate_batch(X_train, y_train, batch_size = batch_size),\n",
    "                    steps_per_epoch = train_samples//batch_size,\n",
    "                    epochs=epochs,\n",
    "                    validation_data = generate_batch(X_test, y_test, batch_size = batch_size),\n",
    "                    validation_steps = val_samples//batch_size)"
   ]
  },
  {
   "cell_type": "markdown",
   "metadata": {},
   "source": [
    "### Always remember to save the weights"
   ]
  },
  {
   "cell_type": "code",
   "execution_count": null,
   "metadata": {},
   "outputs": [],
   "source": [
    "model.save_weights('nmt_weights.h5')"
   ]
  },
  {
   "cell_type": "markdown",
   "metadata": {},
   "source": [
    "### Load the weights, if you close the application"
   ]
  },
  {
   "cell_type": "code",
   "execution_count": null,
   "metadata": {},
   "outputs": [],
   "source": [
    "model.load_weights('nmt_weights.h5')"
   ]
  },
  {
   "cell_type": "markdown",
   "metadata": {},
   "source": [
    "### Inference Setup"
   ]
  },
  {
   "cell_type": "code",
   "execution_count": null,
   "metadata": {},
   "outputs": [],
   "source": [
    "# Encode the input sequence to get the \"thought vectors\"\n",
    "encoder_model = Model(encoder_inputs, encoder_states)\n",
    "\n",
    "# Decoder setup\n",
    "# Below tensors will hold the states of the previous time step\n",
    "decoder_state_input_h = Input(shape=(latent_dim,))\n",
    "decoder_state_input_c = Input(shape=(latent_dim,))\n",
    "decoder_states_inputs = [decoder_state_input_h, decoder_state_input_c]\n",
    "\n",
    "dec_emb2= dec_emb_layer(decoder_inputs) # Get the embeddings of the decoder sequence\n",
    "\n",
    "# To predict the next word in the sequence, set the initial states to the states from the previous time step\n",
    "decoder_outputs2, state_h2, state_c2 = decoder_lstm(dec_emb2, initial_state=decoder_states_inputs)\n",
    "decoder_states2 = [state_h2, state_c2]\n",
    "decoder_outputs2 = decoder_dense(decoder_outputs2) # A dense softmax layer to generate prob dist. over the target vocabulary\n",
    "\n",
    "# Final decoder model\n",
    "decoder_model = Model(\n",
    "    [decoder_inputs] + decoder_states_inputs,\n",
    "    [decoder_outputs2] + decoder_states2)"
   ]
  },
  {
   "cell_type": "code",
   "execution_count": null,
   "metadata": {},
   "outputs": [],
   "source": [
    "Image(retina=True, filename='encoder_model.png')"
   ]
  },
  {
   "cell_type": "code",
   "execution_count": null,
   "metadata": {},
   "outputs": [],
   "source": [
    "Image(retina=True, filename='decoder_model.png')"
   ]
  },
  {
   "cell_type": "markdown",
   "metadata": {},
   "source": [
    "### Decode sample sequeces"
   ]
  },
  {
   "cell_type": "code",
   "execution_count": null,
   "metadata": {},
   "outputs": [],
   "source": [
    "def decode_sequence(input_seq):\n",
    "    # Encode the input as state vectors.\n",
    "    states_value = encoder_model.predict(input_seq)\n",
    "    # Generate empty target sequence of length 1.\n",
    "    target_seq = np.zeros((1,1))\n",
    "    # Populate the first character of target sequence with the start character.\n",
    "    target_seq[0, 0] = target_token_index['START_']\n",
    "\n",
    "    # Sampling loop for a batch of sequences\n",
    "    # (to simplify, here we assume a batch of size 1).\n",
    "    stop_condition = False\n",
    "    decoded_sentence = ''\n",
    "    while not stop_condition:\n",
    "        output_tokens, h, c = decoder_model.predict([target_seq] + states_value)\n",
    "\n",
    "        # Sample a token\n",
    "        sampled_token_index = np.argmax(output_tokens[0, -1, :])\n",
    "        sampled_char = reverse_target_char_index[sampled_token_index]\n",
    "        decoded_sentence += ' '+sampled_char\n",
    "\n",
    "        # Exit condition: either hit max length\n",
    "        # or find stop character.\n",
    "        if (sampled_char == '_END' or\n",
    "           len(decoded_sentence) > 50):\n",
    "            stop_condition = True\n",
    "\n",
    "        # Update the target sequence (of length 1).\n",
    "        target_seq = np.zeros((1,1))\n",
    "        target_seq[0, 0] = sampled_token_index\n",
    "\n",
    "        # Update states\n",
    "        states_value = [h, c]\n",
    "\n",
    "    return decoded_sentence"
   ]
  },
  {
   "cell_type": "markdown",
   "metadata": {},
   "source": [
    "### Evaluation on Train Dataset"
   ]
  },
  {
   "cell_type": "code",
   "execution_count": null,
   "metadata": {},
   "outputs": [],
   "source": [
    "train_gen = generate_batch(X_train, y_train, batch_size = 1)\n",
    "k=-1"
   ]
  },
  {
   "cell_type": "code",
   "execution_count": null,
   "metadata": {},
   "outputs": [],
   "source": [
    "k+=1\n",
    "(input_seq, actual_output), _ = next(train_gen)\n",
    "decoded_sentence = decode_sequence(input_seq)\n",
    "print('Input English sentence:', X_train[k:k+1].values[0])\n",
    "print('Actual prediction Sentence:', y_train[k:k+1].values[0][6:-4])\n",
    "print('Predicted prediction Sentence:', decoded_sentence[:-4])"
   ]
  },
  {
   "cell_type": "code",
   "execution_count": null,
   "metadata": {},
   "outputs": [],
   "source": [
    "k+=1\n",
    "(input_seq, actual_output), _ = next(train_gen)\n",
    "decoded_sentence = decode_sequence(input_seq)\n",
    "print('Input English sentence:', X_train[k:k+1].values[0])\n",
    "print('Actual prediction Sentence:', y_train[k:k+1].values[0][6:-4])\n",
    "print('Predicted prediction Sentence:', decoded_sentence[:-4])"
   ]
  },
  {
   "cell_type": "code",
   "execution_count": null,
   "metadata": {},
   "outputs": [],
   "source": [
    "k+=1\n",
    "(input_seq, actual_output), _ = next(train_gen)\n",
    "decoded_sentence = decode_sequence(input_seq)\n",
    "print('Input English sentence:', X_train[k:k+1].values[0])\n",
    "print('Actual prediction Sentence:', y_train[k:k+1].values[0][6:-4])\n",
    "print('Predicted prediction Sentence:', decoded_sentence[:-4])"
   ]
  },
  {
   "cell_type": "code",
   "execution_count": null,
   "metadata": {},
   "outputs": [],
   "source": [
    "k+=1\n",
    "(input_seq, actual_output), _ = next(train_gen)\n",
    "decoded_sentence = decode_sequence(input_seq)\n",
    "print('Input English sentence:', X_train[k:k+1].values[0])\n",
    "print('Actual prediction Sentence:', y_train[k:k+1].values[0][6:-4])\n",
    "print('Predicted prediction Sentence:', decoded_sentence[:-4])"
   ]
  },
  {
   "cell_type": "code",
   "execution_count": null,
   "metadata": {},
   "outputs": [],
   "source": [
    "k+=1\n",
    "(input_seq, actual_output), _ = next(train_gen)\n",
    "decoded_sentence = decode_sequence(input_seq)\n",
    "print('Input English sentence:', X_train[k:k+1].values[0])\n",
    "print('Actual prediction Sentence:', y_train[k:k+1].values[0][6:-4])\n",
    "print('Predicted prediction Sentence:', decoded_sentence[:-4])"
   ]
  },
  {
   "cell_type": "code",
   "execution_count": null,
   "metadata": {},
   "outputs": [],
   "source": [
    "k+=1\n",
    "(input_seq, actual_output), _ = next(train_gen)\n",
    "decoded_sentence = decode_sequence(input_seq)\n",
    "print('Input English sentence:', X_train[k:k+1].values[0])\n",
    "print('Actual prediction Sentence:', y_train[k:k+1].values[0][6:-4])\n",
    "print('Predicted prediction Sentence:', decoded_sentence[:-4])"
   ]
  },
  {
   "cell_type": "code",
   "execution_count": null,
   "metadata": {},
   "outputs": [],
   "source": [
    "k+=1\n",
    "(input_seq, actual_output), _ = next(train_gen)\n",
    "decoded_sentence = decode_sequence(input_seq)\n",
    "print('Input English sentence:', X_train[k:k+1].values[0])\n",
    "print('Actual prediction Sentence:', y_train[k:k+1].values[0][6:-4])\n",
    "print('Predicted prediction Sentence:', decoded_sentence[:-4])"
   ]
  },
  {
   "cell_type": "code",
   "execution_count": null,
   "metadata": {},
   "outputs": [],
   "source": [
    "k+=1\n",
    "(input_seq, actual_output), _ = next(train_gen)\n",
    "decoded_sentence = decode_sequence(input_seq)\n",
    "print('Input English sentence:', X_train[k:k+1].values[0])\n",
    "print('Actual prediction Sentence:', y_train[k:k+1].values[0][6:-4])\n",
    "print('Predicted prediction Sentence:', decoded_sentence[:-4])"
   ]
  },
  {
   "cell_type": "code",
   "execution_count": null,
   "metadata": {},
   "outputs": [],
   "source": [
    "k+=1\n",
    "(input_seq, actual_output), _ = next(train_gen)\n",
    "decoded_sentence = decode_sequence(input_seq)\n",
    "print('Input English sentence:', X_train[k:k+1].values[0])\n",
    "print('Actual prediction Sentence:', y_train[k:k+1].values[0][6:-4])\n",
    "print('Predicted prediction Sentence:', decoded_sentence[:-4])"
   ]
  },
  {
   "cell_type": "code",
   "execution_count": null,
   "metadata": {},
   "outputs": [],
   "source": [
    "k+=1\n",
    "(input_seq, actual_output), _ = next(train_gen)\n",
    "decoded_sentence = decode_sequence(input_seq)\n",
    "print('Input English sentence:', X_train[k:k+1].values[0])\n",
    "print('Actual prediction Sentence:', y_train[k:k+1].values[0][6:-4])\n",
    "print('Predicted prediction Sentence:', decoded_sentence[:-4])"
   ]
  },
  {
   "cell_type": "code",
   "execution_count": null,
   "metadata": {},
   "outputs": [],
   "source": [
    "k+=1\n",
    "(input_seq, actual_output), _ = next(train_gen)\n",
    "decoded_sentence = decode_sequence(input_seq)\n",
    "print('Input English sentence:', X_train[k:k+1].values[0])\n",
    "print('Actual prediction Sentence:', y_train[k:k+1].values[0][6:-4])\n",
    "print('Predicted prediction Sentence:', decoded_sentence[:-4])"
   ]
  },
  {
   "cell_type": "code",
   "execution_count": null,
   "metadata": {},
   "outputs": [],
   "source": [
    "k+=1\n",
    "(input_seq, actual_output), _ = next(train_gen)\n",
    "decoded_sentence = decode_sequence(input_seq)\n",
    "print('Input English sentence:', X_train[k:k+1].values[0])\n",
    "print('Actual prediction Sentence:', y_train[k:k+1].values[0][6:-4])\n",
    "print('Predicted prediction Sentence:', decoded_sentence[:-4])"
   ]
  },
  {
   "cell_type": "code",
   "execution_count": null,
   "metadata": {},
   "outputs": [],
   "source": [
    "k+=1\n",
    "(input_seq, actual_output), _ = next(train_gen)\n",
    "decoded_sentence = decode_sequence(input_seq)\n",
    "print('Input English sentence:', X_train[k:k+1].values[0])\n",
    "print('Actual prediction Sentence:', y_train[k:k+1].values[0][6:-4])\n",
    "print('Predicted prediction Sentence:', decoded_sentence[:-4])"
   ]
  },
  {
   "cell_type": "code",
   "execution_count": null,
   "metadata": {},
   "outputs": [],
   "source": [
    "k+=1\n",
    "(input_seq, actual_output), _ = next(train_gen)\n",
    "decoded_sentence = decode_sequence(input_seq)\n",
    "print('Input English sentence:', X_train[k:k+1].values[0])\n",
    "print('Actual prediction Sentence:', y_train[k:k+1].values[0][6:-4])\n",
    "print('Predicted prediction Sentence:', decoded_sentence[:-4])"
   ]
  },
  {
   "cell_type": "code",
   "execution_count": null,
   "metadata": {},
   "outputs": [],
   "source": [
    "k+=1\n",
    "(input_seq, actual_output), _ = next(train_gen)\n",
    "decoded_sentence = decode_sequence(input_seq)\n",
    "print('Input English sentence:', X_train[k:k+1].values[0])\n",
    "print('Actual prediction Sentence:', y_train[k:k+1].values[0][6:-4])\n",
    "print('Predicted prediction Sentence:', decoded_sentence[:-4])"
   ]
  },
  {
   "cell_type": "code",
   "execution_count": null,
   "metadata": {},
   "outputs": [],
   "source": [
    "k+=1\n",
    "(input_seq, actual_output), _ = next(train_gen)\n",
    "decoded_sentence = decode_sequence(input_seq)\n",
    "print('Input English sentence:', X_train[k:k+1].values[0])\n",
    "print('Actual prediction Sentence:', y_train[k:k+1].values[0][6:-4])\n",
    "print('Predicted prediction Sentence:', decoded_sentence[:-4])"
   ]
  },
  {
   "cell_type": "code",
   "execution_count": null,
   "metadata": {},
   "outputs": [],
   "source": [
    "k+=1\n",
    "(input_seq, actual_output), _ = next(train_gen)\n",
    "decoded_sentence = decode_sequence(input_seq)\n",
    "print('Input English sentence:', X_train[k:k+1].values[0])\n",
    "print('Actual prediction Sentence:', y_train[k:k+1].values[0][6:-4])\n",
    "print('Predicted prediction Sentence:', decoded_sentence[:-4])"
   ]
  },
  {
   "cell_type": "code",
   "execution_count": null,
   "metadata": {},
   "outputs": [],
   "source": [
    "k+=1\n",
    "(input_seq, actual_output), _ = next(train_gen)\n",
    "decoded_sentence = decode_sequence(input_seq)\n",
    "print('Input English sentence:', X_train[k:k+1].values[0])\n",
    "print('Actual prediction Sentence:', y_train[k:k+1].values[0][6:-4])\n",
    "print('Predicted prediction Sentence:', decoded_sentence[:-4])"
   ]
  },
  {
   "cell_type": "code",
   "execution_count": null,
   "metadata": {},
   "outputs": [],
   "source": [
    "k+=1\n",
    "(input_seq, actual_output), _ = next(train_gen)\n",
    "decoded_sentence = decode_sequence(input_seq)\n",
    "print('Input English sentence:', X_train[k:k+1].values[0])\n",
    "print('Actual prediction Sentence:', y_train[k:k+1].values[0][6:-4])\n",
    "print('Predicted prediction Sentence:', decoded_sentence[:-4])"
   ]
  },
  {
   "cell_type": "code",
   "execution_count": null,
   "metadata": {},
   "outputs": [],
   "source": [
    "k+=1\n",
    "(input_seq, actual_output), _ = next(train_gen)\n",
    "decoded_sentence = decode_sequence(input_seq)\n",
    "print('Input English sentence:', X_train[k:k+1].values[0])\n",
    "print('Actual prediction Sentence:', y_train[k:k+1].values[0][6:-4])\n",
    "print('Predicted prediction Sentence:', decoded_sentence[:-4])"
   ]
  },
  {
   "cell_type": "code",
   "execution_count": null,
   "metadata": {},
   "outputs": [],
   "source": [
    "k+=1\n",
    "(input_seq, actual_output), _ = next(train_gen)\n",
    "decoded_sentence = decode_sequence(input_seq)\n",
    "print('Input English sentence:', X_train[k:k+1].values[0])\n",
    "print('Actual prediction Sentence:', y_train[k:k+1].values[0][6:-4])\n",
    "print('Predicted prediction Sentence:', decoded_sentence[:-4])"
   ]
  },
  {
   "cell_type": "code",
   "execution_count": null,
   "metadata": {},
   "outputs": [],
   "source": [
    "k+=1\n",
    "(input_seq, actual_output), _ = next(train_gen)\n",
    "decoded_sentence = decode_sequence(input_seq)\n",
    "print('Input English sentence:', X_train[k:k+1].values[0])\n",
    "print('Actual prediction Sentence:', y_train[k:k+1].values[0][6:-4])\n",
    "print('Predicted prediction Sentence:', decoded_sentence[:-4])"
   ]
  },
  {
   "cell_type": "code",
   "execution_count": null,
   "metadata": {},
   "outputs": [],
   "source": [
    "k+=1\n",
    "(input_seq, actual_output), _ = next(train_gen)\n",
    "decoded_sentence = decode_sequence(input_seq)\n",
    "print('Input English sentence:', X_train[k:k+1].values[0])\n",
    "print('Actual prediction Sentence:', y_train[k:k+1].values[0][6:-4])\n",
    "print('Predicted prediction Sentence:', decoded_sentence[:-4])"
   ]
  },
  {
   "cell_type": "code",
   "execution_count": null,
   "metadata": {},
   "outputs": [],
   "source": [
    "k+=1\n",
    "(input_seq, actual_output), _ = next(train_gen)\n",
    "decoded_sentence = decode_sequence(input_seq)\n",
    "print('Input English sentence:', X_train[k:k+1].values[0])\n",
    "print('Actual prediction Sentence:', y_train[k:k+1].values[0][6:-4])\n",
    "print('Predicted prediction Sentence:', decoded_sentence[:-4])"
   ]
  },
  {
   "cell_type": "code",
   "execution_count": null,
   "metadata": {},
   "outputs": [],
   "source": [
    "k+=1\n",
    "(input_seq, actual_output), _ = next(train_gen)\n",
    "decoded_sentence = decode_sequence(input_seq)\n",
    "print('Input English sentence:', X_train[k:k+1].values[0])\n",
    "print('Actual prediction Sentence:', y_train[k:k+1].values[0][6:-4])\n",
    "print('Predicted prediction Sentence:', decoded_sentence[:-4])"
   ]
  },
  {
   "cell_type": "code",
   "execution_count": null,
   "metadata": {},
   "outputs": [],
   "source": [
    "k+=1\n",
    "(input_seq, actual_output), _ = next(train_gen)\n",
    "decoded_sentence = decode_sequence(input_seq)\n",
    "print('Input English sentence:', X_train[k:k+1].values[0])\n",
    "print('Actual prediction Sentence:', y_train[k:k+1].values[0][6:-4])\n",
    "print('Predicted prediction Sentence:', decoded_sentence[:-4])"
   ]
  },
  {
   "cell_type": "code",
   "execution_count": null,
   "metadata": {},
   "outputs": [],
   "source": [
    "k+=1\n",
    "(input_seq, actual_output), _ = next(train_gen)\n",
    "decoded_sentence = decode_sequence(input_seq)\n",
    "print('Input English sentence:', X_train[k:k+1].values[0])\n",
    "print('Actual prediction Sentence:', y_train[k:k+1].values[0][6:-4])\n",
    "print('Predicted prediction Sentence:', decoded_sentence[:-4])"
   ]
  },
  {
   "cell_type": "code",
   "execution_count": null,
   "metadata": {},
   "outputs": [],
   "source": [
    "k+=1\n",
    "(input_seq, actual_output), _ = next(train_gen)\n",
    "decoded_sentence = decode_sequence(input_seq)\n",
    "print('Input English sentence:', X_train[k:k+1].values[0])\n",
    "print('Actual prediction Sentence:', y_train[k:k+1].values[0][6:-4])\n",
    "print('Predicted prediction Sentence:', decoded_sentence[:-4])"
   ]
  },
  {
   "cell_type": "code",
   "execution_count": null,
   "metadata": {},
   "outputs": [],
   "source": [
    "k+=1\n",
    "(input_seq, actual_output), _ = next(train_gen)\n",
    "decoded_sentence = decode_sequence(input_seq)\n",
    "print('Input English sentence:', X_train[k:k+1].values[0])\n",
    "print('Actual prediction Sentence:', y_train[k:k+1].values[0][6:-4])\n",
    "print('Predicted prediction Sentence:', decoded_sentence[:-4])"
   ]
  },
  {
   "cell_type": "code",
   "execution_count": null,
   "metadata": {},
   "outputs": [],
   "source": [
    "k+=1\n",
    "(input_seq, actual_output), _ = next(train_gen)\n",
    "decoded_sentence = decode_sequence(input_seq)\n",
    "print('Input English sentence:', X_train[k:k+1].values[0])\n",
    "print('Actual prediction Sentence:', y_train[k:k+1].values[0][6:-4])\n",
    "print('Predicted prediction Sentence:', decoded_sentence[:-4])"
   ]
  },
  {
   "cell_type": "code",
   "execution_count": null,
   "metadata": {},
   "outputs": [],
   "source": [
    "k+=1\n",
    "(input_seq, actual_output), _ = next(train_gen)\n",
    "decoded_sentence = decode_sequence(input_seq)\n",
    "print('Input English sentence:', X_train[k:k+1].values[0])\n",
    "print('Actual prediction Sentence:', y_train[k:k+1].values[0][6:-4])\n",
    "print('Predicted prediction Sentence:', decoded_sentence[:-4])"
   ]
  },
  {
   "cell_type": "code",
   "execution_count": null,
   "metadata": {},
   "outputs": [],
   "source": [
    "k+=1\n",
    "(input_seq, actual_output), _ = next(train_gen)\n",
    "decoded_sentence = decode_sequence(input_seq)\n",
    "print('Input English sentence:', X_train[k:k+1].values[0])\n",
    "print('Actual prediction Sentence:', y_train[k:k+1].values[0][6:-4])\n",
    "print('Predicted prediction Sentence:', decoded_sentence[:-4])"
   ]
  },
  {
   "cell_type": "code",
   "execution_count": null,
   "metadata": {},
   "outputs": [],
   "source": [
    "k+=1\n",
    "(input_seq, actual_output), _ = next(train_gen)\n",
    "decoded_sentence = decode_sequence(input_seq)\n",
    "print('Input English sentence:', X_train[k:k+1].values[0])\n",
    "print('Actual prediction Sentence:', y_train[k:k+1].values[0][6:-4])\n",
    "print('Predicted prediction Sentence:', decoded_sentence[:-4])"
   ]
  },
  {
   "cell_type": "code",
   "execution_count": null,
   "metadata": {},
   "outputs": [],
   "source": [
    "k+=1\n",
    "(input_seq, actual_output), _ = next(train_gen)\n",
    "decoded_sentence = decode_sequence(input_seq)\n",
    "print('Input English sentence:', X_train[k:k+1].values[0])\n",
    "print('Actual prediction Sentence:', y_train[k:k+1].values[0][6:-4])\n",
    "print('Predicted prediction Sentence:', decoded_sentence[:-4])"
   ]
  },
  {
   "cell_type": "code",
   "execution_count": null,
   "metadata": {},
   "outputs": [],
   "source": [
    "k+=1\n",
    "(input_seq, actual_output), _ = next(train_gen)\n",
    "decoded_sentence = decode_sequence(input_seq)\n",
    "print('Input English sentence:', X_train[k:k+1].values[0])\n",
    "print('Actual prediction Sentence:', y_train[k:k+1].values[0][6:-4])\n",
    "print('Predicted prediction Sentence:', decoded_sentence[:-4])"
   ]
  },
  {
   "cell_type": "code",
   "execution_count": null,
   "metadata": {},
   "outputs": [],
   "source": [
    "k+=1\n",
    "(input_seq, actual_output), _ = next(train_gen)\n",
    "decoded_sentence = decode_sequence(input_seq)\n",
    "print('Input English sentence:', X_train[k:k+1].values[0])\n",
    "print('Actual prediction Sentence:', y_train[k:k+1].values[0][6:-4])\n",
    "print('Predicted prediction Sentence:', decoded_sentence[:-4])"
   ]
  },
  {
   "cell_type": "code",
   "execution_count": null,
   "metadata": {},
   "outputs": [],
   "source": [
    "k+=1\n",
    "(input_seq, actual_output), _ = next(train_gen)\n",
    "decoded_sentence = decode_sequence(input_seq)\n",
    "print('Input English sentence:', X_train[k:k+1].values[0])\n",
    "print('Actual prediction Sentence:', y_train[k:k+1].values[0][6:-4])\n",
    "print('Predicted prediction Sentence:', decoded_sentence[:-4])"
   ]
  },
  {
   "cell_type": "code",
   "execution_count": null,
   "metadata": {},
   "outputs": [],
   "source": [
    "k+=1\n",
    "(input_seq, actual_output), _ = next(train_gen)\n",
    "decoded_sentence = decode_sequence(input_seq)\n",
    "print('Input English sentence:', X_train[k:k+1].values[0])\n",
    "print('Actual prediction Sentence:', y_train[k:k+1].values[0][6:-4])\n",
    "print('Predicted prediction Sentence:', decoded_sentence[:-4])"
   ]
  },
  {
   "cell_type": "code",
   "execution_count": null,
   "metadata": {},
   "outputs": [],
   "source": [
    "k+=1\n",
    "(input_seq, actual_output), _ = next(train_gen)\n",
    "decoded_sentence = decode_sequence(input_seq)\n",
    "print('Input English sentence:', X_train[k:k+1].values[0])\n",
    "print('Actual prediction Sentence:', y_train[k:k+1].values[0][6:-4])\n",
    "print('Predicted prediction Sentence:', decoded_sentence[:-4])"
   ]
  },
  {
   "cell_type": "code",
   "execution_count": null,
   "metadata": {},
   "outputs": [],
   "source": [
    "k+=1\n",
    "(input_seq, actual_output), _ = next(train_gen)\n",
    "decoded_sentence = decode_sequence(input_seq)\n",
    "print('Input English sentence:', X_train[k:k+1].values[0])\n",
    "print('Actual prediction Sentence:', y_train[k:k+1].values[0][6:-4])\n",
    "print('Predicted prediction Sentence:', decoded_sentence[:-4])"
   ]
  },
  {
   "cell_type": "code",
   "execution_count": null,
   "metadata": {},
   "outputs": [],
   "source": [
    "k+=1\n",
    "(input_seq, actual_output), _ = next(train_gen)\n",
    "decoded_sentence = decode_sequence(input_seq)\n",
    "print('Input English sentence:', X_train[k:k+1].values[0])\n",
    "print('Actual prediction Sentence:', y_train[k:k+1].values[0][6:-4])\n",
    "print('Predicted prediction Sentence:', decoded_sentence[:-4])"
   ]
  },
  {
   "cell_type": "code",
   "execution_count": null,
   "metadata": {},
   "outputs": [],
   "source": [
    "k+=1\n",
    "(input_seq, actual_output), _ = next(train_gen)\n",
    "decoded_sentence = decode_sequence(input_seq)\n",
    "print('Input English sentence:', X_train[k:k+1].values[0])\n",
    "print('Actual prediction Sentence:', y_train[k:k+1].values[0][6:-4])\n",
    "print('Predicted prediction Sentence:', decoded_sentence[:-4])"
   ]
  },
  {
   "cell_type": "code",
   "execution_count": null,
   "metadata": {},
   "outputs": [],
   "source": [
    "k+=1\n",
    "(input_seq, actual_output), _ = next(train_gen)\n",
    "decoded_sentence = decode_sequence(input_seq)\n",
    "print('Input English sentence:', X_train[k:k+1].values[0])\n",
    "print('Actual prediction Sentence:', y_train[k:k+1].values[0][6:-4])\n",
    "print('Predicted prediction Sentence:', decoded_sentence[:-4])"
   ]
  },
  {
   "cell_type": "code",
   "execution_count": null,
   "metadata": {},
   "outputs": [],
   "source": [
    "k+=1\n",
    "(input_seq, actual_output), _ = next(train_gen)\n",
    "decoded_sentence = decode_sequence(input_seq)\n",
    "print('Input English sentence:', X_train[k:k+1].values[0])\n",
    "print('Actual prediction Sentence:', y_train[k:k+1].values[0][6:-4])\n",
    "print('Predicted prediction Sentence:', decoded_sentence[:-4])"
   ]
  },
  {
   "cell_type": "code",
   "execution_count": null,
   "metadata": {},
   "outputs": [],
   "source": [
    "k+=1\n",
    "(input_seq, actual_output), _ = next(train_gen)\n",
    "decoded_sentence = decode_sequence(input_seq)\n",
    "print('Input English sentence:', X_train[k:k+1].values[0])\n",
    "print('Actual prediction Sentence:', y_train[k:k+1].values[0][6:-4])\n",
    "print('Predicted prediction Sentence:', decoded_sentence[:-4])"
   ]
  },
  {
   "cell_type": "code",
   "execution_count": null,
   "metadata": {},
   "outputs": [],
   "source": [
    "k+=1\n",
    "(input_seq, actual_output), _ = next(train_gen)\n",
    "decoded_sentence = decode_sequence(input_seq)\n",
    "print('Input English sentence:', X_train[k:k+1].values[0])\n",
    "print('Actual prediction Sentence:', y_train[k:k+1].values[0][6:-4])\n",
    "print('Predicted prediction Sentence:', decoded_sentence[:-4])"
   ]
  },
  {
   "cell_type": "code",
   "execution_count": null,
   "metadata": {},
   "outputs": [],
   "source": [
    "k+=1\n",
    "(input_seq, actual_output), _ = next(train_gen)\n",
    "decoded_sentence = decode_sequence(input_seq)\n",
    "print('Input English sentence:', X_train[k:k+1].values[0])\n",
    "print('Actual prediction Sentence:', y_train[k:k+1].values[0][6:-4])\n",
    "print('Predicted prediction Sentence:', decoded_sentence[:-4])"
   ]
  },
  {
   "cell_type": "code",
   "execution_count": null,
   "metadata": {},
   "outputs": [],
   "source": [
    "k+=1\n",
    "(input_seq, actual_output), _ = next(train_gen)\n",
    "decoded_sentence = decode_sequence(input_seq)\n",
    "print('Input English sentence:', X_train[k:k+1].values[0])\n",
    "print('Actual prediction Sentence:', y_train[k:k+1].values[0][6:-4])\n",
    "print('Predicted prediction Sentence:', decoded_sentence[:-4])"
   ]
  },
  {
   "cell_type": "code",
   "execution_count": null,
   "metadata": {},
   "outputs": [],
   "source": [
    "k+=1\n",
    "(input_seq, actual_output), _ = next(train_gen)\n",
    "decoded_sentence = decode_sequence(input_seq)\n",
    "print('Input English sentence:', X_train[k:k+1].values[0])\n",
    "print('Actual prediction Sentence:', y_train[k:k+1].values[0][6:-4])\n",
    "print('Predicted prediction Sentence:', decoded_sentence[:-4])"
   ]
  },
  {
   "cell_type": "code",
   "execution_count": null,
   "metadata": {},
   "outputs": [],
   "source": [
    "k+=1\n",
    "(input_seq, actual_output), _ = next(train_gen)\n",
    "decoded_sentence = decode_sequence(input_seq)\n",
    "print('Input English sentence:', X_train[k:k+1].values[0])\n",
    "print('Actual prediction Sentence:', y_train[k:k+1].values[0][6:-4])\n",
    "print('Predicted prediction Sentence:', decoded_sentence[:-4])"
   ]
  },
  {
   "cell_type": "code",
   "execution_count": null,
   "metadata": {},
   "outputs": [],
   "source": [
    "k+=1\n",
    "(input_seq, actual_output), _ = next(train_gen)\n",
    "decoded_sentence = decode_sequence(input_seq)\n",
    "print('Input English sentence:', X_train[k:k+1].values[0])\n",
    "print('Actual prediction Sentence:', y_train[k:k+1].values[0][6:-4])\n",
    "print('Predicted prediction Sentence:', decoded_sentence[:-4])"
   ]
  },
  {
   "cell_type": "code",
   "execution_count": null,
   "metadata": {},
   "outputs": [],
   "source": [
    "k+=1\n",
    "(input_seq, actual_output), _ = next(train_gen)\n",
    "decoded_sentence = decode_sequence(input_seq)\n",
    "print('Input English sentence:', X_train[k:k+1].values[0])\n",
    "print('Actual prediction Sentence:', y_train[k:k+1].values[0][6:-4])\n",
    "print('Predicted prediction Sentence:', decoded_sentence[:-4])"
   ]
  },
  {
   "cell_type": "code",
   "execution_count": null,
   "metadata": {},
   "outputs": [],
   "source": []
  },
  {
   "cell_type": "markdown",
   "metadata": {},
   "source": [
    "### Evaluation on Validation Dataset"
   ]
  },
  {
   "cell_type": "code",
   "execution_count": null,
   "metadata": {},
   "outputs": [],
   "source": [
    "val_gen = generate_batch(X_test, y_test, batch_size = 1)\n",
    "k=-1"
   ]
  },
  {
   "cell_type": "code",
   "execution_count": null,
   "metadata": {},
   "outputs": [],
   "source": [
    "k+=1\n",
    "(input_seq, actual_output), _ = next(val_gen)\n",
    "decoded_sentence = decode_sequence(input_seq)\n",
    "print('Input English sentence:', X_test[k:k+1].values[0])\n",
    "print('Actual prediction Sentence:', y_test[k:k+1].values[0][6:-4])\n",
    "print('Predicted prediction Sentence:', decoded_sentence[:-4])"
   ]
  },
  {
   "cell_type": "code",
   "execution_count": null,
   "metadata": {},
   "outputs": [],
   "source": [
    "k+=1\n",
    "(input_seq, actual_output), _ = next(val_gen)\n",
    "decoded_sentence = decode_sequence(input_seq)\n",
    "print('Input English sentence:', X_test[k:k+1].values[0])\n",
    "print('Actual prediction Sentence:', y_test[k:k+1].values[0][6:-4])\n",
    "print('Predicted prediction Sentence:', decoded_sentence[:-4])"
   ]
  },
  {
   "cell_type": "code",
   "execution_count": null,
   "metadata": {},
   "outputs": [],
   "source": [
    "k+=1\n",
    "(input_seq, actual_output), _ = next(val_gen)\n",
    "decoded_sentence = decode_sequence(input_seq)\n",
    "print('Input English sentence:', X_test[k:k+1].values[0])\n",
    "print('Actual prediction Sentence:', y_test[k:k+1].values[0][6:-4])\n",
    "print('Predicted prediction Sentence:', decoded_sentence[:-4])"
   ]
  },
  {
   "cell_type": "code",
   "execution_count": null,
   "metadata": {},
   "outputs": [],
   "source": [
    "k+=1\n",
    "(input_seq, actual_output), _ = next(val_gen)\n",
    "decoded_sentence = decode_sequence(input_seq)\n",
    "print('Input English sentence:', X_test[k:k+1].values[0])\n",
    "print('Actual prediction Sentence:', y_test[k:k+1].values[0][6:-4])\n",
    "print('Predicted prediction Sentence:', decoded_sentence[:-4])"
   ]
  },
  {
   "cell_type": "code",
   "execution_count": null,
   "metadata": {},
   "outputs": [],
   "source": [
    "k+=1\n",
    "(input_seq, actual_output), _ = next(val_gen)\n",
    "decoded_sentence = decode_sequence(input_seq)\n",
    "print('Input English sentence:', X_test[k:k+1].values[0])\n",
    "print('Actual prediction Sentence:', y_test[k:k+1].values[0][6:-4])\n",
    "print('Predicted prediction Sentence:', decoded_sentence[:-4])"
   ]
  },
  {
   "cell_type": "code",
   "execution_count": null,
   "metadata": {},
   "outputs": [],
   "source": [
    "k+=1\n",
    "(input_seq, actual_output), _ = next(val_gen)\n",
    "decoded_sentence = decode_sequence(input_seq)\n",
    "print('Input English sentence:', X_test[k:k+1].values[0])\n",
    "print('Actual prediction Sentence:', y_test[k:k+1].values[0][6:-4])\n",
    "print('Predicted prediction Sentence:', decoded_sentence[:-4])"
   ]
  },
  {
   "cell_type": "code",
   "execution_count": null,
   "metadata": {},
   "outputs": [],
   "source": [
    "k+=1\n",
    "(input_seq, actual_output), _ = next(val_gen)\n",
    "decoded_sentence = decode_sequence(input_seq)\n",
    "print('Input English sentence:', X_test[k:k+1].values[0])\n",
    "print('Actual prediction Sentence:', y_test[k:k+1].values[0][6:-4])\n",
    "print('Predicted prediction Sentence:', decoded_sentence[:-4])"
   ]
  },
  {
   "cell_type": "code",
   "execution_count": null,
   "metadata": {},
   "outputs": [],
   "source": [
    "k+=1\n",
    "(input_seq, actual_output), _ = next(val_gen)\n",
    "decoded_sentence = decode_sequence(input_seq)\n",
    "print('Input English sentence:', X_test[k:k+1].values[0])\n",
    "print('Actual prediction Sentence:', y_test[k:k+1].values[0][6:-4])\n",
    "print('Predicted prediction Sentence:', decoded_sentence[:-4])"
   ]
  },
  {
   "cell_type": "code",
   "execution_count": null,
   "metadata": {},
   "outputs": [],
   "source": [
    "k+=1\n",
    "(input_seq, actual_output), _ = next(val_gen)\n",
    "decoded_sentence = decode_sequence(input_seq)\n",
    "print('Input English sentence:', X_test[k:k+1].values[0])\n",
    "print('Actual prediction Sentence:', y_test[k:k+1].values[0][6:-4])\n",
    "print('Predicted prediction Sentence:', decoded_sentence[:-4])"
   ]
  },
  {
   "cell_type": "code",
   "execution_count": null,
   "metadata": {},
   "outputs": [],
   "source": [
    "k+=1\n",
    "(input_seq, actual_output), _ = next(val_gen)\n",
    "decoded_sentence = decode_sequence(input_seq)\n",
    "print('Input English sentence:', X_test[k:k+1].values[0])\n",
    "print('Actual prediction Sentence:', y_test[k:k+1].values[0][6:-4])\n",
    "print('Predicted prediction Sentence:', decoded_sentence[:-4])"
   ]
  },
  {
   "cell_type": "code",
   "execution_count": null,
   "metadata": {},
   "outputs": [],
   "source": [
    "k+=1\n",
    "(input_seq, actual_output), _ = next(val_gen)\n",
    "decoded_sentence = decode_sequence(input_seq)\n",
    "print('Input English sentence:', X_test[k:k+1].values[0])\n",
    "print('Actual prediction Sentence:', y_test[k:k+1].values[0][6:-4])\n",
    "print('Predicted prediction Sentence:', decoded_sentence[:-4])"
   ]
  },
  {
   "cell_type": "code",
   "execution_count": null,
   "metadata": {},
   "outputs": [],
   "source": [
    "k+=1\n",
    "(input_seq, actual_output), _ = next(val_gen)\n",
    "decoded_sentence = decode_sequence(input_seq)\n",
    "print('Input English sentence:', X_test[k:k+1].values[0])\n",
    "print('Actual prediction Sentence:', y_test[k:k+1].values[0][6:-4])\n",
    "print('Predicted prediction Sentence:', decoded_sentence[:-4])"
   ]
  },
  {
   "cell_type": "code",
   "execution_count": null,
   "metadata": {},
   "outputs": [],
   "source": [
    "k+=1\n",
    "(input_seq, actual_output), _ = next(val_gen)\n",
    "decoded_sentence = decode_sequence(input_seq)\n",
    "print('Input English sentence:', X_test[k:k+1].values[0])\n",
    "print('Actual prediction Sentence:', y_test[k:k+1].values[0][6:-4])\n",
    "print('Predicted prediction Sentence:', decoded_sentence[:-4])"
   ]
  },
  {
   "cell_type": "code",
   "execution_count": null,
   "metadata": {},
   "outputs": [],
   "source": [
    "k+=1\n",
    "(input_seq, actual_output), _ = next(val_gen)\n",
    "decoded_sentence = decode_sequence(input_seq)\n",
    "print('Input English sentence:', X_test[k:k+1].values[0])\n",
    "print('Actual prediction Sentence:', y_test[k:k+1].values[0][6:-4])\n",
    "print('Predicted prediction Sentence:', decoded_sentence[:-4])"
   ]
  },
  {
   "cell_type": "code",
   "execution_count": null,
   "metadata": {},
   "outputs": [],
   "source": [
    "k+=1\n",
    "(input_seq, actual_output), _ = next(val_gen)\n",
    "decoded_sentence = decode_sequence(input_seq)\n",
    "print('Input English sentence:', X_test[k:k+1].values[0])\n",
    "print('Actual prediction Sentence:', y_test[k:k+1].values[0][6:-4])\n",
    "print('Predicted prediction Sentence:', decoded_sentence[:-4])"
   ]
  },
  {
   "cell_type": "code",
   "execution_count": null,
   "metadata": {},
   "outputs": [],
   "source": [
    "k+=1\n",
    "(input_seq, actual_output), _ = next(val_gen)\n",
    "decoded_sentence = decode_sequence(input_seq)\n",
    "print('Input English sentence:', X_test[k:k+1].values[0])\n",
    "print('Actual prediction Sentence:', y_test[k:k+1].values[0][6:-4])\n",
    "print('Predicted prediction Sentence:', decoded_sentence[:-4])"
   ]
  },
  {
   "cell_type": "code",
   "execution_count": null,
   "metadata": {},
   "outputs": [],
   "source": [
    "k+=1\n",
    "(input_seq, actual_output), _ = next(val_gen)\n",
    "decoded_sentence = decode_sequence(input_seq)\n",
    "print('Input English sentence:', X_test[k:k+1].values[0])\n",
    "print('Actual prediction Sentence:', y_test[k:k+1].values[0][6:-4])\n",
    "print('Predicted prediction Sentence:', decoded_sentence[:-4])"
   ]
  },
  {
   "cell_type": "code",
   "execution_count": null,
   "metadata": {},
   "outputs": [],
   "source": [
    "k+=1\n",
    "(input_seq, actual_output), _ = next(val_gen)\n",
    "decoded_sentence = decode_sequence(input_seq)\n",
    "print('Input English sentence:', X_test[k:k+1].values[0])\n",
    "print('Actual prediction Sentence:', y_test[k:k+1].values[0][6:-4])\n",
    "print('Predicted prediction Sentence:', decoded_sentence[:-4])"
   ]
  },
  {
   "cell_type": "code",
   "execution_count": null,
   "metadata": {},
   "outputs": [],
   "source": [
    "k+=1\n",
    "(input_seq, actual_output), _ = next(val_gen)\n",
    "decoded_sentence = decode_sequence(input_seq)\n",
    "print('Input English sentence:', X_test[k:k+1].values[0])\n",
    "print('Actual prediction Sentence:', y_test[k:k+1].values[0][6:-4])\n",
    "print('Predicted prediction Sentence:', decoded_sentence[:-4])"
   ]
  },
  {
   "cell_type": "code",
   "execution_count": null,
   "metadata": {},
   "outputs": [],
   "source": [
    "k+=1\n",
    "(input_seq, actual_output), _ = next(val_gen)\n",
    "decoded_sentence = decode_sequence(input_seq)\n",
    "print('Input English sentence:', X_test[k:k+1].values[0])\n",
    "print('Actual prediction Sentence:', y_test[k:k+1].values[0][6:-4])\n",
    "print('Predicted prediction Sentence:', decoded_sentence[:-4])"
   ]
  },
  {
   "cell_type": "code",
   "execution_count": null,
   "metadata": {},
   "outputs": [],
   "source": [
    "k+=1\n",
    "(input_seq, actual_output), _ = next(val_gen)\n",
    "decoded_sentence = decode_sequence(input_seq)\n",
    "print('Input English sentence:', X_test[k:k+1].values[0])\n",
    "print('Actual prediction Sentence:', y_test[k:k+1].values[0][6:-4])\n",
    "print('Predicted prediction Sentence:', decoded_sentence[:-4])"
   ]
  },
  {
   "cell_type": "code",
   "execution_count": null,
   "metadata": {},
   "outputs": [],
   "source": [
    "k+=1\n",
    "(input_seq, actual_output), _ = next(val_gen)\n",
    "decoded_sentence = decode_sequence(input_seq)\n",
    "print('Input English sentence:', X_test[k:k+1].values[0])\n",
    "print('Actual prediction Sentence:', y_test[k:k+1].values[0][6:-4])\n",
    "print('Predicted prediction Sentence:', decoded_sentence[:-4])"
   ]
  },
  {
   "cell_type": "code",
   "execution_count": null,
   "metadata": {},
   "outputs": [],
   "source": [
    "k+=1\n",
    "(input_seq, actual_output), _ = next(val_gen)\n",
    "decoded_sentence = decode_sequence(input_seq)\n",
    "print('Input English sentence:', X_test[k:k+1].values[0])\n",
    "print('Actual prediction Sentence:', y_test[k:k+1].values[0][6:-4])\n",
    "print('Predicted prediction Sentence:', decoded_sentence[:-4])"
   ]
  },
  {
   "cell_type": "code",
   "execution_count": null,
   "metadata": {},
   "outputs": [],
   "source": [
    "k+=1\n",
    "(input_seq, actual_output), _ = next(val_gen)\n",
    "decoded_sentence = decode_sequence(input_seq)\n",
    "print('Input English sentence:', X_test[k:k+1].values[0])\n",
    "print('Actual prediction Sentence:', y_test[k:k+1].values[0][6:-4])\n",
    "print('Predicted prediction Sentence:', decoded_sentence[:-4])"
   ]
  },
  {
   "cell_type": "code",
   "execution_count": null,
   "metadata": {},
   "outputs": [],
   "source": [
    "k+=1\n",
    "(input_seq, actual_output), _ = next(val_gen)\n",
    "decoded_sentence = decode_sequence(input_seq)\n",
    "print('Input English sentence:', X_test[k:k+1].values[0])\n",
    "print('Actual prediction Sentence:', y_test[k:k+1].values[0][6:-4])\n",
    "print('Predicted prediction Sentence:', decoded_sentence[:-4])"
   ]
  },
  {
   "cell_type": "code",
   "execution_count": null,
   "metadata": {},
   "outputs": [],
   "source": [
    "k+=1\n",
    "(input_seq, actual_output), _ = next(val_gen)\n",
    "decoded_sentence = decode_sequence(input_seq)\n",
    "print('Input English sentence:', X_test[k:k+1].values[0])\n",
    "print('Actual prediction Sentence:', y_test[k:k+1].values[0][6:-4])\n",
    "print('Predicted prediction Sentence:', decoded_sentence[:-4])"
   ]
  },
  {
   "cell_type": "code",
   "execution_count": null,
   "metadata": {},
   "outputs": [],
   "source": [
    "k+=1\n",
    "(input_seq, actual_output), _ = next(val_gen)\n",
    "decoded_sentence = decode_sequence(input_seq)\n",
    "print('Input English sentence:', X_test[k:k+1].values[0])\n",
    "print('Actual prediction Sentence:', y_test[k:k+1].values[0][6:-4])\n",
    "print('Predicted prediction Sentence:', decoded_sentence[:-4])"
   ]
  },
  {
   "cell_type": "code",
   "execution_count": null,
   "metadata": {},
   "outputs": [],
   "source": [
    "k+=1\n",
    "(input_seq, actual_output), _ = next(val_gen)\n",
    "decoded_sentence = decode_sequence(input_seq)\n",
    "print('Input English sentence:', X_test[k:k+1].values[0])\n",
    "print('Actual prediction Sentence:', y_test[k:k+1].values[0][6:-4])\n",
    "print('Predicted prediction Sentence:', decoded_sentence[:-4])"
   ]
  },
  {
   "cell_type": "code",
   "execution_count": null,
   "metadata": {},
   "outputs": [],
   "source": [
    "k+=1\n",
    "(input_seq, actual_output), _ = next(val_gen)\n",
    "decoded_sentence = decode_sequence(input_seq)\n",
    "print('Input English sentence:', X_test[k:k+1].values[0])\n",
    "print('Actual prediction Sentence:', y_test[k:k+1].values[0][6:-4])\n",
    "print('Predicted prediction Sentence:', decoded_sentence[:-4])"
   ]
  },
  {
   "cell_type": "code",
   "execution_count": null,
   "metadata": {},
   "outputs": [],
   "source": [
    "k+=1\n",
    "(input_seq, actual_output), _ = next(val_gen)\n",
    "decoded_sentence = decode_sequence(input_seq)\n",
    "print('Input English sentence:', X_test[k:k+1].values[0])\n",
    "print('Actual prediction Sentence:', y_test[k:k+1].values[0][6:-4])\n",
    "print('Predicted prediction Sentence:', decoded_sentence[:-4])"
   ]
  },
  {
   "cell_type": "code",
   "execution_count": null,
   "metadata": {},
   "outputs": [],
   "source": [
    "k+=1\n",
    "(input_seq, actual_output), _ = next(val_gen)\n",
    "decoded_sentence = decode_sequence(input_seq)\n",
    "print('Input English sentence:', X_test[k:k+1].values[0])\n",
    "print('Actual prediction Sentence:', y_test[k:k+1].values[0][6:-4])\n",
    "print('Predicted prediction Sentence:', decoded_sentence[:-4])"
   ]
  },
  {
   "cell_type": "code",
   "execution_count": null,
   "metadata": {},
   "outputs": [],
   "source": [
    "k+=1\n",
    "(input_seq, actual_output), _ = next(val_gen)\n",
    "decoded_sentence = decode_sequence(input_seq)\n",
    "print('Input English sentence:', X_test[k:k+1].values[0])\n",
    "print('Actual prediction Sentence:', y_test[k:k+1].values[0][6:-4])\n",
    "print('Predicted prediction Sentence:', decoded_sentence[:-4])"
   ]
  },
  {
   "cell_type": "code",
   "execution_count": null,
   "metadata": {},
   "outputs": [],
   "source": [
    "k+=1\n",
    "(input_seq, actual_output), _ = next(val_gen)\n",
    "decoded_sentence = decode_sequence(input_seq)\n",
    "print('Input English sentence:', X_test[k:k+1].values[0])\n",
    "print('Actual prediction Sentence:', y_test[k:k+1].values[0][6:-4])\n",
    "print('Predicted prediction Sentence:', decoded_sentence[:-4])"
   ]
  },
  {
   "cell_type": "code",
   "execution_count": null,
   "metadata": {},
   "outputs": [],
   "source": [
    "k+=1\n",
    "(input_seq, actual_output), _ = next(val_gen)\n",
    "decoded_sentence = decode_sequence(input_seq)\n",
    "print('Input English sentence:', X_test[k:k+1].values[0])\n",
    "print('Actual prediction Sentence:', y_test[k:k+1].values[0][6:-4])\n",
    "print('Predicted prediction Sentence:', decoded_sentence[:-4])"
   ]
  },
  {
   "cell_type": "code",
   "execution_count": null,
   "metadata": {},
   "outputs": [],
   "source": [
    "k+=1\n",
    "(input_seq, actual_output), _ = next(val_gen)\n",
    "decoded_sentence = decode_sequence(input_seq)\n",
    "print('Input English sentence:', X_test[k:k+1].values[0])\n",
    "print('Actual prediction Sentence:', y_test[k:k+1].values[0][6:-4])\n",
    "print('Predicted prediction Sentence:', decoded_sentence[:-4])"
   ]
  },
  {
   "cell_type": "code",
   "execution_count": null,
   "metadata": {},
   "outputs": [],
   "source": [
    "k+=1\n",
    "(input_seq, actual_output), _ = next(val_gen)\n",
    "decoded_sentence = decode_sequence(input_seq)\n",
    "print('Input English sentence:', X_test[k:k+1].values[0])\n",
    "print('Actual prediction Sentence:', y_test[k:k+1].values[0][6:-4])\n",
    "print('Predicted prediction Sentence:', decoded_sentence[:-4])"
   ]
  },
  {
   "cell_type": "code",
   "execution_count": null,
   "metadata": {},
   "outputs": [],
   "source": [
    "k+=1\n",
    "(input_seq, actual_output), _ = next(val_gen)\n",
    "decoded_sentence = decode_sequence(input_seq)\n",
    "print('Input English sentence:', X_test[k:k+1].values[0])\n",
    "print('Actual prediction Sentence:', y_test[k:k+1].values[0][6:-4])\n",
    "print('Predicted prediction Sentence:', decoded_sentence[:-4])"
   ]
  },
  {
   "cell_type": "code",
   "execution_count": null,
   "metadata": {},
   "outputs": [],
   "source": [
    "k+=1\n",
    "(input_seq, actual_output), _ = next(val_gen)\n",
    "decoded_sentence = decode_sequence(input_seq)\n",
    "print('Input English sentence:', X_test[k:k+1].values[0])\n",
    "print('Actual prediction Sentence:', y_test[k:k+1].values[0][6:-4])\n",
    "print('Predicted prediction Sentence:', decoded_sentence[:-4])"
   ]
  },
  {
   "cell_type": "code",
   "execution_count": null,
   "metadata": {},
   "outputs": [],
   "source": [
    "k+=1\n",
    "(input_seq, actual_output), _ = next(val_gen)\n",
    "decoded_sentence = decode_sequence(input_seq)\n",
    "print('Input English sentence:', X_test[k:k+1].values[0])\n",
    "print('Actual prediction Sentence:', y_test[k:k+1].values[0][6:-4])\n",
    "print('Predicted prediction Sentence:', decoded_sentence[:-4])"
   ]
  },
  {
   "cell_type": "code",
   "execution_count": null,
   "metadata": {},
   "outputs": [],
   "source": [
    "k+=1\n",
    "(input_seq, actual_output), _ = next(val_gen)\n",
    "decoded_sentence = decode_sequence(input_seq)\n",
    "print('Input English sentence:', X_test[k:k+1].values[0])\n",
    "print('Actual prediction Sentence:', y_test[k:k+1].values[0][6:-4])\n",
    "print('Predicted prediction Sentence:', decoded_sentence[:-4])"
   ]
  },
  {
   "cell_type": "code",
   "execution_count": null,
   "metadata": {},
   "outputs": [],
   "source": [
    "k+=1\n",
    "(input_seq, actual_output), _ = next(val_gen)\n",
    "decoded_sentence = decode_sequence(input_seq)\n",
    "print('Input English sentence:', X_test[k:k+1].values[0])\n",
    "print('Actual prediction Sentence:', y_test[k:k+1].values[0][6:-4])\n",
    "print('Predicted prediction Sentence:', decoded_sentence[:-4])"
   ]
  },
  {
   "cell_type": "code",
   "execution_count": null,
   "metadata": {},
   "outputs": [],
   "source": [
    "k+=1\n",
    "(input_seq, actual_output), _ = next(val_gen)\n",
    "decoded_sentence = decode_sequence(input_seq)\n",
    "print('Input English sentence:', X_test[k:k+1].values[0])\n",
    "print('Actual prediction Sentence:', y_test[k:k+1].values[0][6:-4])\n",
    "print('Predicted prediction Sentence:', decoded_sentence[:-4])"
   ]
  },
  {
   "cell_type": "code",
   "execution_count": null,
   "metadata": {},
   "outputs": [],
   "source": [
    "k+=1\n",
    "(input_seq, actual_output), _ = next(val_gen)\n",
    "decoded_sentence = decode_sequence(input_seq)\n",
    "print('Input English sentence:', X_test[k:k+1].values[0])\n",
    "print('Actual prediction Sentence:', y_test[k:k+1].values[0][6:-4])\n",
    "print('Predicted prediction Sentence:', decoded_sentence[:-4])"
   ]
  },
  {
   "cell_type": "code",
   "execution_count": null,
   "metadata": {},
   "outputs": [],
   "source": [
    "k+=1\n",
    "(input_seq, actual_output), _ = next(val_gen)\n",
    "decoded_sentence = decode_sequence(input_seq)\n",
    "print('Input English sentence:', X_test[k:k+1].values[0])\n",
    "print('Actual prediction Sentence:', y_test[k:k+1].values[0][6:-4])\n",
    "print('Predicted prediction Sentence:', decoded_sentence[:-4])"
   ]
  },
  {
   "cell_type": "code",
   "execution_count": null,
   "metadata": {},
   "outputs": [],
   "source": [
    "k+=1\n",
    "(input_seq, actual_output), _ = next(val_gen)\n",
    "decoded_sentence = decode_sequence(input_seq)\n",
    "print('Input English sentence:', X_test[k:k+1].values[0])\n",
    "print('Actual prediction Sentence:', y_test[k:k+1].values[0][6:-4])\n",
    "print('Predicted prediction Sentence:', decoded_sentence[:-4])"
   ]
  },
  {
   "cell_type": "code",
   "execution_count": null,
   "metadata": {},
   "outputs": [],
   "source": [
    "k+=1\n",
    "(input_seq, actual_output), _ = next(val_gen)\n",
    "decoded_sentence = decode_sequence(input_seq)\n",
    "print('Input English sentence:', X_test[k:k+1].values[0])\n",
    "print('Actual prediction Sentence:', y_test[k:k+1].values[0][6:-4])\n",
    "print('Predicted prediction Sentence:', decoded_sentence[:-4])"
   ]
  },
  {
   "cell_type": "code",
   "execution_count": null,
   "metadata": {},
   "outputs": [],
   "source": [
    "k+=1\n",
    "(input_seq, actual_output), _ = next(val_gen)\n",
    "decoded_sentence = decode_sequence(input_seq)\n",
    "print('Input English sentence:', X_test[k:k+1].values[0])\n",
    "print('Actual prediction Sentence:', y_test[k:k+1].values[0][6:-4])\n",
    "print('Predicted prediction Sentence:', decoded_sentence[:-4])"
   ]
  },
  {
   "cell_type": "code",
   "execution_count": null,
   "metadata": {},
   "outputs": [],
   "source": [
    "k+=1\n",
    "(input_seq, actual_output), _ = next(val_gen)\n",
    "decoded_sentence = decode_sequence(input_seq)\n",
    "print('Input English sentence:', X_test[k:k+1].values[0])\n",
    "print('Actual prediction Sentence:', y_test[k:k+1].values[0][6:-4])\n",
    "print('Predicted prediction Sentence:', decoded_sentence[:-4])"
   ]
  },
  {
   "cell_type": "code",
   "execution_count": null,
   "metadata": {},
   "outputs": [],
   "source": [
    "k+=1\n",
    "(input_seq, actual_output), _ = next(val_gen)\n",
    "decoded_sentence = decode_sequence(input_seq)\n",
    "print('Input English sentence:', X_test[k:k+1].values[0])\n",
    "print('Actual prediction Sentence:', y_test[k:k+1].values[0][6:-4])\n",
    "print('Predicted prediction Sentence:', decoded_sentence[:-4])"
   ]
  },
  {
   "cell_type": "code",
   "execution_count": null,
   "metadata": {},
   "outputs": [],
   "source": []
  }
 ],
 "metadata": {
  "kernelspec": {
   "display_name": "Python 3",
   "language": "python",
   "name": "python3"
  },
  "language_info": {
   "codemirror_mode": {
    "name": "ipython",
    "version": 3
   },
   "file_extension": ".py",
   "mimetype": "text/x-python",
   "name": "python",
   "nbconvert_exporter": "python",
   "pygments_lexer": "ipython3",
   "version": "3.6.8"
  }
 },
 "nbformat": 4,
 "nbformat_minor": 2
}
