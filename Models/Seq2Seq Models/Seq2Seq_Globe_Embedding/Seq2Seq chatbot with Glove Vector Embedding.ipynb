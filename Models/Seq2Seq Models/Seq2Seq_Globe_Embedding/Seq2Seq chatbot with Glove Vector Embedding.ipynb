{
 "cells": [
  {
   "cell_type": "markdown",
   "metadata": {
    "colab_type": "text",
    "id": "A_pjoByYRMTv"
   },
   "source": [
    "# Seq2Seq: Encoder-Decoder Chatbot "
   ]
  },
  {
   "cell_type": "markdown",
   "metadata": {
    "colab_type": "text",
    "id": "4n0pEEarRMTx"
   },
   "source": [
    "![](https://cdn-images-1.medium.com/max/2560/1*1I2tTjCkMHlQ-r73eRn4ZQ.png)"
   ]
  },
  {
   "cell_type": "code",
   "execution_count": 38,
   "metadata": {},
   "outputs": [
    {
     "ename": "ImportError",
     "evalue": "cannot import name 'Embedding'",
     "output_type": "error",
     "traceback": [
      "\u001b[0;31m---------------------------------------------------------------------------\u001b[0m",
      "\u001b[0;31mImportError\u001b[0m                               Traceback (most recent call last)",
      "\u001b[0;32m<ipython-input-38-99666893a591>\u001b[0m in \u001b[0;36m<module>\u001b[0;34m\u001b[0m\n\u001b[1;32m      8\u001b[0m \u001b[0;32mimport\u001b[0m \u001b[0mtensorflow\u001b[0m \u001b[0;32mas\u001b[0m \u001b[0mtf\u001b[0m\u001b[0;34m\u001b[0m\u001b[0;34m\u001b[0m\u001b[0m\n\u001b[1;32m      9\u001b[0m \u001b[0;32mimport\u001b[0m \u001b[0mpickle\u001b[0m\u001b[0;34m\u001b[0m\u001b[0;34m\u001b[0m\u001b[0m\n\u001b[0;32m---> 10\u001b[0;31m \u001b[0;32mfrom\u001b[0m \u001b[0mtensorflow\u001b[0m\u001b[0;34m.\u001b[0m\u001b[0mkeras\u001b[0m \u001b[0;32mimport\u001b[0m \u001b[0mEmbedding\u001b[0m\u001b[0;34m,\u001b[0m \u001b[0mlayers\u001b[0m\u001b[0;34m,\u001b[0m \u001b[0mactivations\u001b[0m\u001b[0;34m,\u001b[0m \u001b[0mmodels\u001b[0m\u001b[0;34m,\u001b[0m \u001b[0mpreprocessing\u001b[0m\u001b[0;34m,\u001b[0m \u001b[0mutils\u001b[0m\u001b[0;34m\u001b[0m\u001b[0;34m\u001b[0m\u001b[0m\n\u001b[0m\u001b[1;32m     11\u001b[0m \u001b[0;34m\u001b[0m\u001b[0m\n\u001b[1;32m     12\u001b[0m \u001b[0mprint\u001b[0m\u001b[0;34m(\u001b[0m \u001b[0mtf\u001b[0m\u001b[0;34m.\u001b[0m\u001b[0mVERSION\u001b[0m \u001b[0;34m)\u001b[0m\u001b[0;34m\u001b[0m\u001b[0;34m\u001b[0m\u001b[0m\n",
      "\u001b[0;31mImportError\u001b[0m: cannot import name 'Embedding'"
     ]
    }
   ],
   "source": [
    "from nltk.tokenize import sent_tokenize\n",
    "import numpy as np\n",
    "import re\n",
    "import pandas as pd\n",
    "import string\n",
    "from string import digits\n",
    "import numpy as np\n",
    "import tensorflow as tf\n",
    "import pickle\n",
    "from tensorflow.keras import layers, activations, models, preprocessing, utils\n",
    "\n",
    "print( tf.VERSION )\n",
    "\n",
    "\n",
    "#lines= pd.read_table('jpn.txt', names=['questions', 'answers'])\n",
    "#data_path = '../../Dataset/Bangladesh Dummy dataset from wikipedia.txt'\n",
    "data_path = '../../Dataset/Dummy data from wikipedia short.txt'\n",
    "\n",
    "\n",
    "with open(data_path,'r', encoding='utf-8') as f:\n",
    "    lines = f.read()\n",
    "\n",
    "lines = \" \".join(lines.split())\n",
    "lines = re.sub(r\"\\s+\", \" \", lines)\n",
    "lines = lines.replace('\\n', ' ')\n",
    "\n",
    "sentences = sent_tokenize(lines)\n",
    "sent = np.asarray(sentences)\n",
    "sentTwo = sent[:-1].reshape(len(sent)//2,2)"
   ]
  },
  {
   "cell_type": "markdown",
   "metadata": {
    "colab_type": "text",
    "id": "dHaiKoheRMT5"
   },
   "source": [
    "## Step 1. Import Data"
   ]
  },
  {
   "cell_type": "code",
   "execution_count": 11,
   "metadata": {},
   "outputs": [
    {
     "name": "stdout",
     "output_type": "stream",
     "text": [
      "VOCAB SIZE : 562\n"
     ]
    }
   ],
   "source": [
    "def create_dataset(dataset, look_back=1):\n",
    "\tdataX, dataY = [], []\n",
    "\tfor i in range(len(dataset)-look_back-1):\n",
    "\t\ta = dataset[i:(i+look_back), 0]\n",
    "\t\tdataX.append(a)\n",
    "\t\tdataY.append(dataset[i + look_back, 0])\n",
    "\treturn np.array(dataX), np.array(dataY)\n",
    "\n",
    "col1, col2 = create_dataset(sentTwo)\n",
    "#col1 = col1.reshape(-1)\n",
    "col2 = col2.reshape(-1,1)\n",
    "#col2.shape\n",
    "dt = np.concatenate((col1,col2), axis=1)\n",
    "\n",
    "lines = pd.DataFrame(dt, columns=['questions','answers'])\n",
    "# Lowercase all characters\n",
    "lines.questions=lines.questions.apply(lambda x: x.lower())\n",
    "lines.answers=lines.answers.apply(lambda x: x.lower())\n",
    "\n",
    "# to install mecab\n",
    "# sudo apt install mecab mecab-ipadic-utf8\n",
    "#import MeCab\n",
    "#wakati = MeCab.Tagger(\"-Owakati\")\n",
    "#lines.answers = lines.answers.apply(lambda x: wakati.parse(x).strip(\"\\n\"))\n",
    "\n",
    "# Remove quotes\n",
    "lines.questions=lines.questions.apply(lambda x: re.sub(\"'\", '', x))\n",
    "lines.answers=lines.answers.apply(lambda x: re.sub(\"'\", '', x))\n",
    "exclude = set(string.punctuation) # Set of all special characters\n",
    "\n",
    "# Remove all the special characters\n",
    "lines.questions=lines.questions.apply(lambda x: ''.join(ch for ch in x if ch not in exclude))\n",
    "lines.answers=lines.answers.apply(lambda x: ''.join(ch for ch in x if ch not in exclude))\n",
    "\n",
    "# Remove all numbers from text\n",
    "#remove_digits = str.maketrans('', '', digits)\n",
    "#lines.questions=lines.questions.apply(lambda x: x.translate(remove_digits))\n",
    "#lines.answers = lines.answers.apply(lambda x: re.sub(\"[123456789]\", \"\", x))\n",
    "# Remove extra spaces\n",
    "\n",
    "lines.questions=lines.questions.apply(lambda x: x.strip())\n",
    "lines.answers=lines.answers.apply(lambda x: x.strip())\n",
    "lines.questions=lines.questions.apply(lambda x: re.sub(\" +\", \" \", x))\n",
    "lines.answers=lines.answers.apply(lambda x: re.sub(\" +\", \" \", x))\n",
    "\n",
    "# Add start and end tokens to target sequences\n",
    "lines.answers = lines.answers.apply(lambda x : '<START> ' + x + ' <END>')\n",
    "lines.head(10)\n",
    "#lines.answers.tail(10)\n",
    "\n",
    "tokenizer = preprocessing.text.Tokenizer()\n",
    "tokenizer.fit_on_texts( lines.questions + lines.answers )\n",
    "VOCAB_SIZE = len( tokenizer.word_index )+1\n",
    "print( 'VOCAB SIZE : {}'.format( VOCAB_SIZE ))"
   ]
  },
  {
   "cell_type": "code",
   "execution_count": 0,
   "metadata": {
    "colab": {},
    "colab_type": "code",
    "id": "jh3QLAlCRMT6"
   },
   "outputs": [],
   "source": [
    "# .txtから会話データを取得する\n",
    "import codecs\n",
    "\n",
    "with codecs.open(\"movie_lines.txt\", \"rb\", encoding=\"utf-8\", errors=\"ignore\") as f:\n",
    "    lines = f.read().split(\"\\n\")\n",
    "    conversations = []\n",
    "    for line in lines:\n",
    "        data = line.split(\" +++$+++ \")\n",
    "        conversations.append(data)"
   ]
  },
  {
   "cell_type": "code",
   "execution_count": 7,
   "metadata": {
    "colab": {
     "base_uri": "https://localhost:8080/",
     "height": 119
    },
    "colab_type": "code",
    "id": "6M3eZnuPRMT9",
    "outputId": "c7420e45-8e12-4feb-bf58-7c208d14e842"
   },
   "outputs": [
    {
     "data": {
      "text/plain": [
       "[['L1045', 'u0', 'm0', 'BIANCA', 'They do not!'],\n",
       " ['L1044', 'u2', 'm0', 'CAMERON', 'They do to!'],\n",
       " ['L985', 'u0', 'm0', 'BIANCA', 'I hope so.'],\n",
       " ['L984', 'u2', 'm0', 'CAMERON', 'She okay?'],\n",
       " ['L925', 'u0', 'm0', 'BIANCA', \"Let's go.\"],\n",
       " ['L924', 'u2', 'm0', 'CAMERON', 'Wow']]"
      ]
     },
     "execution_count": 7,
     "metadata": {
      "tags": []
     },
     "output_type": "execute_result"
    }
   ],
   "source": [
    "conversations[:6]"
   ]
  },
  {
   "cell_type": "code",
   "execution_count": 0,
   "metadata": {
    "colab": {},
    "colab_type": "code",
    "id": "4hRs6j-vRMUE"
   },
   "outputs": [],
   "source": [
    "# idと会話だけ取り出す\n",
    "chats = {}\n",
    "for tokens in conversations:\n",
    "    if len(tokens) > 4:\n",
    "        idx = tokens[0][1:]\n",
    "        chat = tokens[4]\n",
    "        chats[int(idx)] = chat"
   ]
  },
  {
   "cell_type": "code",
   "execution_count": null,
   "metadata": {
    "colab": {
     "base_uri": "https://localhost:8080/",
     "height": 20454
    },
    "colab_type": "code",
    "id": "Q5DrAY8PRMUN",
    "outputId": "35500f14-06a6-4eda-f163-397f0320a4c1"
   },
   "outputs": [],
   "source": [
    "# idと会話をセットにする\n",
    "sorted_chats = sorted(chats.items(), key = lambda x: x[0])\n",
    "sorted_chats"
   ]
  },
  {
   "cell_type": "code",
   "execution_count": 0,
   "metadata": {
    "colab": {},
    "colab_type": "code",
    "id": "azB8ddZcRMUS"
   },
   "outputs": [],
   "source": [
    "# 会話のペアごとに辞書を作る { 会話セットid: [会話リスト] }\n",
    "conves_dict = {}\n",
    "counter = 1\n",
    "conves_ids = []\n",
    "for i in range(1, len(sorted_chats)+1):\n",
    "    if i < len(sorted_chats):\n",
    "        if (sorted_chats[i][0] - sorted_chats[i-1][0]) == 1:\n",
    "            # 1つ前の会話の頭の文字がないのを確認\n",
    "            if sorted_chats[i-1][1] not in conves_ids:\n",
    "                conves_ids.append(sorted_chats[i-1][1])\n",
    "            conves_ids.append(sorted_chats[i][1])\n",
    "        elif (sorted_chats[i][0] - sorted_chats[i-1][0]) > 1:            \n",
    "            conves_dict[counter] = conves_ids\n",
    "            conves_ids = []\n",
    "        counter += 1\n",
    "    else:\n",
    "        pass"
   ]
  },
  {
   "cell_type": "code",
   "execution_count": null,
   "metadata": {
    "colab": {
     "base_uri": "https://localhost:8080/",
     "height": 117184
    },
    "colab_type": "code",
    "id": "siMFeqSuRMUV",
    "outputId": "8a84cd2e-1da3-4a1a-ac69-39b96489c07c"
   },
   "outputs": [],
   "source": [
    "conves_dict"
   ]
  },
  {
   "cell_type": "code",
   "execution_count": 0,
   "metadata": {
    "colab": {},
    "colab_type": "code",
    "id": "vLbT8fzGRMUa"
   },
   "outputs": [],
   "source": [
    "context_and_target = []\n",
    "for conves in conves_dict.values():\n",
    "    # ペアがない会話は捨てる\n",
    "    if len(conves) % 2 != 0:\n",
    "        conves = conves[:-1]\n",
    "    for i in range(0, len(conves), 2):\n",
    "        context_and_target.append((conves[i], conves[i+1]))"
   ]
  },
  {
   "cell_type": "code",
   "execution_count": 14,
   "metadata": {
    "colab": {
     "base_uri": "https://localhost:8080/",
     "height": 153
    },
    "colab_type": "code",
    "id": "wBJDX_kLRMUd",
    "outputId": "faf0d417-4f01-4296-9381-1e7ed10ca469"
   },
   "outputs": [
    {
     "data": {
      "text/plain": [
       "[('Did you change your hair?', 'No.'),\n",
       " ('I missed you.',\n",
       "  'It says here you exposed yourself to a group of freshmen girls.'),\n",
       " ('It was a bratwurst.  I was eating lunch.',\n",
       "  'With the teeth of your zipper?'),\n",
       " ('You the new guy?', 'So they tell me...'),\n",
       " (\"C'mon.  I'm supposed to give you the tour.\",\n",
       "  'So -- which Dakota you from?')]"
      ]
     },
     "execution_count": 14,
     "metadata": {
      "tags": []
     },
     "output_type": "execute_result"
    }
   ],
   "source": [
    "# ペア完成\n",
    "context_and_target[:5]"
   ]
  },
  {
   "cell_type": "code",
   "execution_count": 0,
   "metadata": {
    "colab": {},
    "colab_type": "code",
    "id": "nqBGBxadRMUi"
   },
   "outputs": [],
   "source": [
    "context, target = zip(*context_and_target)"
   ]
  },
  {
   "cell_type": "code",
   "execution_count": 0,
   "metadata": {
    "colab": {},
    "colab_type": "code",
    "id": "20Wf7yq3RMUl"
   },
   "outputs": [],
   "source": [
    "context = list(context)\n",
    "target = list(target)"
   ]
  },
  {
   "cell_type": "code",
   "execution_count": 17,
   "metadata": {
    "colab": {
     "base_uri": "https://localhost:8080/",
     "height": 102
    },
    "colab_type": "code",
    "id": "ANNT_oibRMUp",
    "outputId": "20198454-ce47-44bd-df38-9a68a782347b"
   },
   "outputs": [
    {
     "data": {
      "text/plain": [
       "['Did you change your hair?',\n",
       " 'I missed you.',\n",
       " 'It was a bratwurst.  I was eating lunch.',\n",
       " 'You the new guy?',\n",
       " \"C'mon.  I'm supposed to give you the tour.\"]"
      ]
     },
     "execution_count": 17,
     "metadata": {
      "tags": []
     },
     "output_type": "execute_result"
    }
   ],
   "source": [
    "context[:5]"
   ]
  },
  {
   "cell_type": "code",
   "execution_count": 18,
   "metadata": {
    "colab": {
     "base_uri": "https://localhost:8080/",
     "height": 357
    },
    "colab_type": "code",
    "id": "kDb0GTENRMUw",
    "outputId": "0f72dffa-69f8-46a2-c2b8-257b02c7bfc6"
   },
   "outputs": [
    {
     "data": {
      "text/plain": [
       "['No.',\n",
       " 'It says here you exposed yourself to a group of freshmen girls.',\n",
       " 'With the teeth of your zipper?',\n",
       " 'So they tell me...',\n",
       " 'So -- which Dakota you from?',\n",
       " 'I was kidding. People actually live there?',\n",
       " 'How many people were in your old school?',\n",
       " 'Get out!',\n",
       " 'Couple thousand. Most of them evil',\n",
       " 'Yeah, but these guys have never seen a horse.  They just jack off to Clint Eastwood.',\n",
       " 'You burn, you pine, you perish?',\n",
       " \"Bianca Stratford.  Sophomore. Don't even think about it\",\n",
       " \"I could start with your haircut, but it doesn't matter.  She's not allowed to date until her older sister does.  And that's an impossibility.\",\n",
       " 'Expressing my opinion is not a terrorist action.',\n",
       " 'I still maintain that he kicked himself in the balls.  I was merely a spectator.',\n",
       " 'Tempestuous?',\n",
       " 'Patrick Verona   Random skid.',\n",
       " \"I'm sure he's completely incapable of doing anything that interesting.\",\n",
       " 'Block E?',\n",
       " 'Just a little.']"
      ]
     },
     "execution_count": 18,
     "metadata": {
      "tags": []
     },
     "output_type": "execute_result"
    }
   ],
   "source": [
    "target[:20]"
   ]
  },
  {
   "cell_type": "markdown",
   "metadata": {
    "colab_type": "text",
    "id": "bl2kl5WTRMU3"
   },
   "source": [
    "## Step 2. Preprocessing for text data"
   ]
  },
  {
   "cell_type": "code",
   "execution_count": 14,
   "metadata": {
    "colab": {},
    "colab_type": "code",
    "id": "pqqjGJsGRMU5"
   },
   "outputs": [],
   "source": [
    "# from my_seq2seq_text_cleanear import text_modifier, nonalpha_remover\n",
    "import re\n",
    "MAX_LEN = 12"
   ]
  },
  {
   "cell_type": "code",
   "execution_count": 15,
   "metadata": {
    "colab": {},
    "colab_type": "code",
    "id": "kXCK1rHRRMU-"
   },
   "outputs": [],
   "source": [
    "def clean_text(text):\n",
    "    '''Clean text by removing unnecessary characters and altering the format of words.'''\n",
    "\n",
    "    text = text.lower()\n",
    "    \n",
    "    text = re.sub(r\"i'm\", \"i am\", text)\n",
    "    text = re.sub(r\"he's\", \"he is\", text)\n",
    "    text = re.sub(r\"she's\", \"she is\", text)\n",
    "    text = re.sub(r\"it's\", \"it is\", text)\n",
    "    text = re.sub(r\"that's\", \"that is\", text)\n",
    "    text = re.sub(r\"what's\", \"that is\", text)\n",
    "    text = re.sub(r\"where's\", \"where is\", text)\n",
    "    text = re.sub(r\"how's\", \"how is\", text)\n",
    "    text = re.sub(r\"\\'ll\", \" will\", text)\n",
    "    text = re.sub(r\"\\'ve\", \" have\", text)\n",
    "    text = re.sub(r\"\\'re\", \" are\", text)\n",
    "    text = re.sub(r\"\\'d\", \" would\", text)\n",
    "    text = re.sub(r\"\\'re\", \" are\", text)\n",
    "    text = re.sub(r\"won't\", \"will not\", text)\n",
    "    text = re.sub(r\"can't\", \"cannot\", text)\n",
    "    text = re.sub(r\"n't\", \" not\", text)\n",
    "    text = re.sub(r\"n'\", \"ng\", text)\n",
    "    text = re.sub(r\"'bout\", \"about\", text)\n",
    "    text = re.sub(r\"'til\", \"until\", text)\n",
    "    text = re.sub(r\"[-()\\\"#/@;:<>{}`+=~|.!?,]\", \"\", text)\n",
    "    \n",
    "    return text"
   ]
  },
  {
   "cell_type": "markdown",
   "metadata": {
    "colab_type": "text",
    "id": "iv5ggyQhRMVF"
   },
   "source": [
    "### 2-1. Clean Text"
   ]
  },
  {
   "cell_type": "code",
   "execution_count": 0,
   "metadata": {
    "colab": {},
    "colab_type": "code",
    "id": "5WG930lmRMVH"
   },
   "outputs": [],
   "source": [
    "tidy_target = []\n",
    "for conve in target:\n",
    "    text = clean_text(conve)\n",
    "    tidy_target.append(text)"
   ]
  },
  {
   "cell_type": "code",
   "execution_count": 17,
   "metadata": {
    "colab": {
     "base_uri": "https://localhost:8080/",
     "height": 357
    },
    "colab_type": "code",
    "id": "lil1q_dlRMVK",
    "outputId": "c9b3559d-ea48-4105-88ed-e99d911b02e6"
   },
   "outputs": [],
   "source": [
    "#tidy_target[:20]\n",
    "questions = lines.questions \n",
    "answers = lines.answers"
   ]
  },
  {
   "cell_type": "code",
   "execution_count": 0,
   "metadata": {
    "colab": {},
    "colab_type": "code",
    "id": "1u7QXY-TRMVN"
   },
   "outputs": [],
   "source": [
    "tidy_context = []\n",
    "for conve in context:\n",
    "    text = clean_text(conve)\n",
    "    tidy_context.append(text)"
   ]
  },
  {
   "cell_type": "code",
   "execution_count": 20,
   "metadata": {
    "colab": {
     "base_uri": "https://localhost:8080/",
     "height": 377
    },
    "colab_type": "code",
    "id": "hUfGBwOqRMVP",
    "outputId": "60e91895-6e3b-434d-e9b4-ee0b624deb80"
   },
   "outputs": [
    {
     "name": "stdout",
     "output_type": "stream",
     "text": [
      "(57, 44) 44\n",
      "(57, 47) 47\n",
      "(57, 47, 562)\n"
     ]
    },
    {
     "ename": "FileNotFoundError",
     "evalue": "[Errno 2] No such file or directory: 'Saved Arrays/enc_in_data.npy'",
     "output_type": "error",
     "traceback": [
      "\u001b[0;31m---------------------------------------------------------------------------\u001b[0m",
      "\u001b[0;31mFileNotFoundError\u001b[0m                         Traceback (most recent call last)",
      "\u001b[0;32m<ipython-input-20-2e8963df5f95>\u001b[0m in \u001b[0;36m<module>\u001b[0;34m\u001b[0m\n\u001b[1;32m     26\u001b[0m \u001b[0;34m\u001b[0m\u001b[0m\n\u001b[1;32m     27\u001b[0m \u001b[0;31m# Saving all the arrays to storage\u001b[0m\u001b[0;34m\u001b[0m\u001b[0;34m\u001b[0m\u001b[0;34m\u001b[0m\u001b[0m\n\u001b[0;32m---> 28\u001b[0;31m \u001b[0mnp\u001b[0m\u001b[0;34m.\u001b[0m\u001b[0msave\u001b[0m\u001b[0;34m(\u001b[0m \u001b[0;34m'Saved Arrays/enc_in_data.npy'\u001b[0m \u001b[0;34m,\u001b[0m \u001b[0mencoder_input_data\u001b[0m \u001b[0;34m)\u001b[0m\u001b[0;34m\u001b[0m\u001b[0;34m\u001b[0m\u001b[0m\n\u001b[0m\u001b[1;32m     29\u001b[0m \u001b[0mnp\u001b[0m\u001b[0;34m.\u001b[0m\u001b[0msave\u001b[0m\u001b[0;34m(\u001b[0m \u001b[0;34m'Saved Arrays/dec_in_data.npy'\u001b[0m \u001b[0;34m,\u001b[0m \u001b[0mdecoder_input_data\u001b[0m \u001b[0;34m)\u001b[0m\u001b[0;34m\u001b[0m\u001b[0;34m\u001b[0m\u001b[0m\n\u001b[1;32m     30\u001b[0m \u001b[0mnp\u001b[0m\u001b[0;34m.\u001b[0m\u001b[0msave\u001b[0m\u001b[0;34m(\u001b[0m \u001b[0;34m'Saved Arrays/dec_tar_data.npy'\u001b[0m \u001b[0;34m,\u001b[0m \u001b[0mdecoder_output_data\u001b[0m \u001b[0;34m)\u001b[0m\u001b[0;34m\u001b[0m\u001b[0;34m\u001b[0m\u001b[0m\n",
      "\u001b[0;32m<__array_function__ internals>\u001b[0m in \u001b[0;36msave\u001b[0;34m(*args, **kwargs)\u001b[0m\n",
      "\u001b[0;32m~/amiebot_project/lib/python3.6/site-packages/numpy/lib/npyio.py\u001b[0m in \u001b[0;36msave\u001b[0;34m(file, arr, allow_pickle, fix_imports)\u001b[0m\n\u001b[1;32m    528\u001b[0m         \u001b[0;32mif\u001b[0m \u001b[0;32mnot\u001b[0m \u001b[0mfile\u001b[0m\u001b[0;34m.\u001b[0m\u001b[0mendswith\u001b[0m\u001b[0;34m(\u001b[0m\u001b[0;34m'.npy'\u001b[0m\u001b[0;34m)\u001b[0m\u001b[0;34m:\u001b[0m\u001b[0;34m\u001b[0m\u001b[0;34m\u001b[0m\u001b[0m\n\u001b[1;32m    529\u001b[0m             \u001b[0mfile\u001b[0m \u001b[0;34m=\u001b[0m \u001b[0mfile\u001b[0m \u001b[0;34m+\u001b[0m \u001b[0;34m'.npy'\u001b[0m\u001b[0;34m\u001b[0m\u001b[0;34m\u001b[0m\u001b[0m\n\u001b[0;32m--> 530\u001b[0;31m         \u001b[0mfid\u001b[0m \u001b[0;34m=\u001b[0m \u001b[0mopen\u001b[0m\u001b[0;34m(\u001b[0m\u001b[0mfile\u001b[0m\u001b[0;34m,\u001b[0m \u001b[0;34m\"wb\"\u001b[0m\u001b[0;34m)\u001b[0m\u001b[0;34m\u001b[0m\u001b[0;34m\u001b[0m\u001b[0m\n\u001b[0m\u001b[1;32m    531\u001b[0m         \u001b[0mown_fid\u001b[0m \u001b[0;34m=\u001b[0m \u001b[0;32mTrue\u001b[0m\u001b[0;34m\u001b[0m\u001b[0;34m\u001b[0m\u001b[0m\n\u001b[1;32m    532\u001b[0m \u001b[0;34m\u001b[0m\u001b[0m\n",
      "\u001b[0;31mFileNotFoundError\u001b[0m: [Errno 2] No such file or directory: 'Saved Arrays/enc_in_data.npy'"
     ]
    }
   ],
   "source": [
    "#tidy_context[:20]\n",
    "answers[:20]\n",
    "\n",
    "# encoder_input_data\n",
    "tokenized_questions = tokenizer.texts_to_sequences( questions )\n",
    "maxlen_questions = max( [ len(x) for x in tokenized_questions ] )\n",
    "padded_questions = preprocessing.sequence.pad_sequences( tokenized_questions , maxlen=maxlen_questions , padding='post' )\n",
    "encoder_input_data = np.array( padded_questions )\n",
    "print( encoder_input_data.shape , maxlen_questions )\n",
    "\n",
    "# decoder_input_data\n",
    "tokenized_answers = tokenizer.texts_to_sequences( answers )\n",
    "maxlen_answers = max([ len(x) for x in tokenized_answers ])\n",
    "padded_answers = preprocessing.sequence.pad_sequences( tokenized_answers , maxlen=maxlen_answers , padding='post' )\n",
    "decoder_input_data = np.array( padded_answers )\n",
    "print( decoder_input_data.shape , maxlen_answers )\n",
    "\n",
    "# decoder_output_data\n",
    "tokenized_answers = tokenizer.texts_to_sequences( answers )\n",
    "for i in range(len(tokenized_answers)) :\n",
    "    tokenized_answers[i] = tokenized_answers[i][1:]\n",
    "padded_answers = preprocessing.sequence.pad_sequences( tokenized_answers , maxlen=maxlen_answers , padding='post' )\n",
    "onehot_answers = utils.to_categorical( padded_answers , VOCAB_SIZE )\n",
    "decoder_output_data = np.array( onehot_answers )\n",
    "print( decoder_output_data.shape )\n",
    "\n",
    "# Saving all the arrays to storage\n",
    "#np.save( 'Saved Arrays/enc_in_data.npy' , encoder_input_data )\n",
    "#np.save( 'Saved Arrays/dec_in_data.npy' , decoder_input_data )\n",
    "#np.save( 'Saved Arrays/dec_tar_data.npy' , decoder_output_data )"
   ]
  },
  {
   "cell_type": "code",
   "execution_count": 0,
   "metadata": {
    "colab": {},
    "colab_type": "code",
    "id": "TMRuuv8ZRMVX"
   },
   "outputs": [],
   "source": [
    "# decoderのinputには<BOS>と<EOS>タグ\n",
    "bos = \"<BOS> \"\n",
    "eos = \" <EOS>\"\n",
    "final_target = [bos + conve + eos for conve in tidy_target] \n",
    "encoder_inputs = tidy_context\n",
    "decoder_inputs = final_target"
   ]
  },
  {
   "cell_type": "code",
   "execution_count": 4,
   "metadata": {
    "colab": {},
    "colab_type": "code",
    "id": "Rwj5qO6-RMVS"
   },
   "outputs": [],
   "source": [
    "import codecs\n",
    "with codecs.open(\"encoder_inputs.txt\", \"rb\", encoding=\"utf-8\", errors=\"ignore\") as f:\n",
    "    lines = f.read().split(\"\\n\")\n",
    "    encoder_text = []\n",
    "    for line in lines:\n",
    "        data = line.split(\"\\n\")[0]\n",
    "        encoder_text.append(data)"
   ]
  },
  {
   "cell_type": "code",
   "execution_count": 51,
   "metadata": {},
   "outputs": [
    {
     "data": {
      "text/plain": [
       "143865"
      ]
     },
     "execution_count": 51,
     "metadata": {},
     "output_type": "execute_result"
    }
   ],
   "source": [
    "len(encoder_text)"
   ]
  },
  {
   "cell_type": "code",
   "execution_count": null,
   "metadata": {
    "colab": {},
    "colab_type": "code",
    "id": "pgjJwZnYRMVU"
   },
   "outputs": [],
   "source": [
    "encoder_text"
   ]
  },
  {
   "cell_type": "code",
   "execution_count": 6,
   "metadata": {},
   "outputs": [],
   "source": [
    "with codecs.open(\"decoder_inputs.txt\", \"rb\", encoding=\"utf-8\", errors=\"ignore\") as f:\n",
    "    lines = f.read().split(\"\\n\")\n",
    "    decoder_text = []\n",
    "    for line in lines:\n",
    "        data = line.split(\"\\n\")[0]\n",
    "        decoder_text.append(data)"
   ]
  },
  {
   "cell_type": "code",
   "execution_count": null,
   "metadata": {},
   "outputs": [],
   "source": [
    "decoder_text"
   ]
  },
  {
   "cell_type": "markdown",
   "metadata": {
    "colab_type": "text",
    "id": "UMXtB9i6RMVa"
   },
   "source": [
    "### 2-2. MAKE VOCABRALY"
   ]
  },
  {
   "cell_type": "code",
   "execution_count": 0,
   "metadata": {
    "colab": {},
    "colab_type": "code",
    "id": "BQWanckCRMVb"
   },
   "outputs": [],
   "source": [
    "# 一旦もともと辞書サイズを調べる\n",
    "dictionary = []\n",
    "for text in full_text:\n",
    "    words = text.split()\n",
    "    for i in range(0, len(words)):\n",
    "        if words[i] not in dictionary:\n",
    "            dictionary.append(words[i])"
   ]
  },
  {
   "cell_type": "code",
   "execution_count": 8,
   "metadata": {
    "colab": {},
    "colab_type": "code",
    "id": "DR7nq44URMVf",
    "scrolled": true
   },
   "outputs": [
    {
     "name": "stderr",
     "output_type": "stream",
     "text": [
      "Using TensorFlow backend.\n"
     ]
    }
   ],
   "source": [
    "from keras.preprocessing.text import Tokenizer\n",
    "VOCAB_SIZE = 14999\n",
    "tokenizer = Tokenizer(num_words=VOCAB_SIZE)"
   ]
  },
  {
   "cell_type": "code",
   "execution_count": 9,
   "metadata": {},
   "outputs": [],
   "source": [
    "full_text = encoder_text + decoder_text"
   ]
  },
  {
   "cell_type": "code",
   "execution_count": 10,
   "metadata": {
    "colab": {
     "base_uri": "https://localhost:8080/",
     "height": 34
    },
    "colab_type": "code",
    "id": "Q0RgA9ssRMVj",
    "outputId": "4ab16108-1ce4-4c32-d2f4-a9f4d7c66b80"
   },
   "outputs": [
    {
     "data": {
      "text/plain": [
       "65283"
      ]
     },
     "execution_count": 10,
     "metadata": {},
     "output_type": "execute_result"
    }
   ],
   "source": [
    "# 辞書を作る\n",
    "tokenizer.fit_on_texts(full_text)\n",
    "word_index = tokenizer.word_index\n",
    "len(word_index)"
   ]
  },
  {
   "cell_type": "code",
   "execution_count": 21,
   "metadata": {},
   "outputs": [
    {
     "data": {
      "text/plain": [
       "561"
      ]
     },
     "execution_count": 21,
     "metadata": {},
     "output_type": "execute_result"
    }
   ],
   "source": [
    "word_index = tokenizer.word_index\n",
    "len(word_index)"
   ]
  },
  {
   "cell_type": "code",
   "execution_count": 22,
   "metadata": {
    "colab": {},
    "colab_type": "code",
    "id": "wIT8hFwjRMVn"
   },
   "outputs": [],
   "source": [
    "# リバースした辞書を用意\n",
    "index2word = {}\n",
    "for k, v in word_index.items():\n",
    "    if v < 15000:\n",
    "        index2word[v] = k\n",
    "    if v > 15000:\n",
    "        continue"
   ]
  },
  {
   "cell_type": "code",
   "execution_count": 23,
   "metadata": {},
   "outputs": [
    {
     "data": {
      "text/plain": [
       "{1: 'the',\n",
       " 2: 'of',\n",
       " 3: 'and',\n",
       " 4: 'in',\n",
       " 5: 'start',\n",
       " 6: 'end',\n",
       " 7: 'bengal',\n",
       " 8: 'to',\n",
       " 9: 'was',\n",
       " 10: 'a',\n",
       " 11: 'bangladesh',\n",
       " 12: 'with',\n",
       " 13: 'bengali',\n",
       " 14: 'as',\n",
       " 15: 'by',\n",
       " 16: 'region',\n",
       " 17: 'east',\n",
       " 18: 'early',\n",
       " 19: 'is',\n",
       " 20: 'country',\n",
       " 21: 'india',\n",
       " 22: 'their',\n",
       " 23: 'during',\n",
       " 24: 'became',\n",
       " 25: 'century',\n",
       " 26: 'largest',\n",
       " 27: 'world',\n",
       " 28: 'for',\n",
       " 29: 'which',\n",
       " 30: 'from',\n",
       " 31: 'north',\n",
       " 32: 'ancient',\n",
       " 33: 'notable',\n",
       " 34: 'it',\n",
       " 35: 'nawabs',\n",
       " 36: 'term',\n",
       " 37: 'kingdom',\n",
       " 38: 'islamic',\n",
       " 39: 'dynasty',\n",
       " 40: 'muslim',\n",
       " 41: 'shipbuilding',\n",
       " 42: 'land',\n",
       " 43: 'its',\n",
       " 44: 'chittagong',\n",
       " 45: 'also',\n",
       " 46: 'pundra',\n",
       " 47: 'trade',\n",
       " 48: 'islam',\n",
       " 49: 'empire',\n",
       " 50: 'following',\n",
       " 51: 'sultanate',\n",
       " 52: 'shah',\n",
       " 53: 'under',\n",
       " 54: 'pakistan',\n",
       " 55: 'who',\n",
       " 56: 'religion',\n",
       " 57: 'namo',\n",
       " 58: 'name',\n",
       " 59: 'age',\n",
       " 60: 'history',\n",
       " 61: 'on',\n",
       " 62: 'him',\n",
       " 63: 'such',\n",
       " 64: 'used',\n",
       " 65: 'at',\n",
       " 66: 'borders',\n",
       " 67: 'west',\n",
       " 68: 'sea',\n",
       " 69: 'most',\n",
       " 70: 'part',\n",
       " 71: 'period',\n",
       " 72: 'indian',\n",
       " 73: 'many',\n",
       " 74: 'principalities',\n",
       " 75: 'including',\n",
       " 76: 'samatata',\n",
       " 77: 'harikela',\n",
       " 78: 'were',\n",
       " 79: 'muslin',\n",
       " 80: 'silk',\n",
       " 81: 'southeast',\n",
       " 82: 'pala',\n",
       " 83: 'but',\n",
       " 84: 'delhi',\n",
       " 85: 'jalal',\n",
       " 86: 'state',\n",
       " 87: 'established',\n",
       " 88: 'when',\n",
       " 89: 'formed',\n",
       " 90: 'official',\n",
       " 91: 'make',\n",
       " 92: 'into',\n",
       " 93: 'one',\n",
       " 94: 'southern',\n",
       " 95: 'gained',\n",
       " 96: 'other',\n",
       " 97: 'word',\n",
       " 98: 'iron',\n",
       " 99: 'vanga',\n",
       " 100: 'medieval',\n",
       " 101: 'somapura',\n",
       " 102: 'mahavihara',\n",
       " 103: 'people',\n",
       " 104: 'identified',\n",
       " 105: 'prosperous',\n",
       " 106: 'trading',\n",
       " 107: 'center',\n",
       " 108: 'map',\n",
       " 109: 'ruled',\n",
       " 110: 'included',\n",
       " 111: 'empires',\n",
       " 112: 'dynasties',\n",
       " 113: 'preach',\n",
       " 114: 'arrived',\n",
       " 115: 'major',\n",
       " 116: 'referred',\n",
       " 117: 'an',\n",
       " 118: 'settlement',\n",
       " 119: 'subah',\n",
       " 120: 'european',\n",
       " 121: 'textile',\n",
       " 122: 'output',\n",
       " 123: 'tons',\n",
       " 124: 'deck',\n",
       " 125: 'significant',\n",
       " 126: 'battle',\n",
       " 127: 'british',\n",
       " 128: 'company',\n",
       " 129: 'nawab',\n",
       " 130: 'robert',\n",
       " 131: 'clive',\n",
       " 132: 'defeat',\n",
       " 133: 'south',\n",
       " 134: 'asia',\n",
       " 135: 'while',\n",
       " 136: 'capital',\n",
       " 137: 'wealth',\n",
       " 138: 'industries',\n",
       " 139: 'shares',\n",
       " 140: 'myanmar',\n",
       " 141: 'whereas',\n",
       " 142: 'bay',\n",
       " 143: 'lies',\n",
       " 144: 'port',\n",
       " 145: 'second',\n",
       " 146: 'city',\n",
       " 147: 'result',\n",
       " 148: 'crisscrossed',\n",
       " 149: 'numerous',\n",
       " 150: 'rivers',\n",
       " 151: 'inland',\n",
       " 152: 'water',\n",
       " 153: 'ways',\n",
       " 154: 'features',\n",
       " 155: 'longest',\n",
       " 156: 'natural',\n",
       " 157: 'beach',\n",
       " 158: 'mangrove',\n",
       " 159: 'forest',\n",
       " 160: 'forms',\n",
       " 161: 'eastern',\n",
       " 162: 'classical',\n",
       " 163: 'subcontinent',\n",
       " 164: 'territory',\n",
       " 165: 'home',\n",
       " 166: 'gangaridai',\n",
       " 167: 'gauda',\n",
       " 168: 'overseas',\n",
       " 169: 'contacts',\n",
       " 170: 'roman',\n",
       " 171: 'export',\n",
       " 172: 'fine',\n",
       " 173: 'middle',\n",
       " 174: 'spreading',\n",
       " 175: 'philosophy',\n",
       " 176: 'art',\n",
       " 177: 'introduced',\n",
       " 178: 'through',\n",
       " 179: 'abbasid',\n",
       " 180: 'caliphate',\n",
       " 181: 'conquest',\n",
       " 182: 'bakhtiyar',\n",
       " 183: 'khalji',\n",
       " 184: 'subsequent',\n",
       " 185: 'establishment',\n",
       " 186: 'preaching',\n",
       " 187: 'fully',\n",
       " 188: 'spread',\n",
       " 189: 'across',\n",
       " 190: 'entire',\n",
       " 191: 'decline',\n",
       " 192: 'mughal',\n",
       " 193: '1700s',\n",
       " 194: 'semiindependent',\n",
       " 195: 'ultimately',\n",
       " 196: 'led',\n",
       " 197: 'siraj',\n",
       " 198: 'uddaulah',\n",
       " 199: 'modern',\n",
       " 200: 'separation',\n",
       " 201: 'august',\n",
       " 202: '1947',\n",
       " 203: 'newly',\n",
       " 204: 'boundary',\n",
       " 205: 'partition',\n",
       " 206: 'bengalis',\n",
       " 207: 'speak',\n",
       " 208: 'language',\n",
       " 209: 'up',\n",
       " 210: '98',\n",
       " 211: 'population',\n",
       " 212: 'recognising',\n",
       " 213: 'countrys',\n",
       " 214: 'constitution',\n",
       " 215: 'grants',\n",
       " 216: 'freedom',\n",
       " 217: 'nonmuslims',\n",
       " 218: 'divided',\n",
       " 219: 'eight',\n",
       " 220: 'administrative',\n",
       " 221: 'divisions',\n",
       " 222: 'sixtyfour',\n",
       " 223: 'districts',\n",
       " 224: 'has',\n",
       " 225: 'fastest',\n",
       " 226: 'real',\n",
       " 227: 'gdp',\n",
       " 228: 'growth',\n",
       " 229: 'rates',\n",
       " 230: 'per',\n",
       " 231: 'capita',\n",
       " 232: 'income',\n",
       " 233: 'ranks',\n",
       " 234: '143th',\n",
       " 235: '136th',\n",
       " 236: 'two',\n",
       " 237: 'measures',\n",
       " 238: 'etymology',\n",
       " 239: 'can',\n",
       " 240: 'be',\n",
       " 241: 'traced',\n",
       " 242: '20th',\n",
       " 243: 'patriotic',\n",
       " 244: 'songs',\n",
       " 245: 'momo',\n",
       " 246: 'kazi',\n",
       " 247: 'nazrul',\n",
       " 248: 'aaji',\n",
       " 249: 'bangladesher',\n",
       " 250: 'hridoy',\n",
       " 251: 'rabindranath',\n",
       " 252: 'tagore',\n",
       " 253: 'starting',\n",
       " 254: '1950s',\n",
       " 255: 'nationalists',\n",
       " 256: 'political',\n",
       " 257: 'rallies',\n",
       " 258: 'located',\n",
       " 259: 'core',\n",
       " 260: 'presentday',\n",
       " 261: 'southwestern',\n",
       " 262: 'this',\n",
       " 263: 'suffix',\n",
       " 264: 'added',\n",
       " 265: 'bung',\n",
       " 266: 'arose',\n",
       " 267: 'currency',\n",
       " 268: 'theories',\n",
       " 269: 'point',\n",
       " 270: 'bronze',\n",
       " 271: 'protodravidian',\n",
       " 272: 'tribe',\n",
       " 273: 'austric',\n",
       " 274: 'bonga',\n",
       " 275: 'sun',\n",
       " 276: 'god',\n",
       " 277: 'hence',\n",
       " 278: 'means',\n",
       " 279: 'or',\n",
       " 280: 'earliest',\n",
       " 281: 'known',\n",
       " 282: 'usage',\n",
       " 283: 'nesari',\n",
       " 284: 'plate',\n",
       " 285: '805',\n",
       " 286: 'ad',\n",
       " 287: 'status',\n",
       " 288: '14th',\n",
       " 289: 'bangla',\n",
       " 290: 'common',\n",
       " 291: 'main',\n",
       " 292: 'articles',\n",
       " 293: 'periods',\n",
       " 294: '9thcentury',\n",
       " 295: 'ruins',\n",
       " 296: 'settled',\n",
       " 297: 'austroasiatics',\n",
       " 298: 'tibetoburmans',\n",
       " 299: 'dravidians',\n",
       " 300: 'indoaryans',\n",
       " 301: 'consecutive',\n",
       " 302: 'waves',\n",
       " 303: 'migration',\n",
       " 304: '11th',\n",
       " 305: 'lived',\n",
       " 306: 'systemicallyaligned',\n",
       " 307: 'housing',\n",
       " 308: 'buried',\n",
       " 309: 'dead',\n",
       " 310: 'manufactured',\n",
       " 311: 'copper',\n",
       " 312: 'ornaments',\n",
       " 313: 'black',\n",
       " 314: 'red',\n",
       " 315: 'pottery',\n",
       " 316: 'saw',\n",
       " 317: 'development',\n",
       " 318: 'metal',\n",
       " 319: 'weaponry',\n",
       " 320: 'coinage',\n",
       " 321: 'agriculture',\n",
       " 322: 'irrigation',\n",
       " 323: '1879',\n",
       " 324: 'alexander',\n",
       " 325: 'cunningham',\n",
       " 326: 'mahasthangarh',\n",
       " 327: 'mentioned',\n",
       " 328: 'rigveda',\n",
       " 329: 'written',\n",
       " 330: 'brahmi',\n",
       " 331: 'script',\n",
       " 332: 'site',\n",
       " 333: 'souanagoura',\n",
       " 334: 'listed',\n",
       " 335: 'ptolemys',\n",
       " 336: 'buddhist',\n",
       " 337: 'hindu',\n",
       " 338: 'states',\n",
       " 339: 'kingdoms',\n",
       " 340: 'mauryan',\n",
       " 341: 'gupta',\n",
       " 342: 'varman',\n",
       " 343: 'shashankas',\n",
       " 344: 'khadga',\n",
       " 345: 'candra',\n",
       " 346: 'sena',\n",
       " 347: 'deva',\n",
       " 348: 'xuanzang',\n",
       " 349: 'china',\n",
       " 350: 'noted',\n",
       " 351: 'scholar',\n",
       " 352: 'resided',\n",
       " 353: 'monastery',\n",
       " 354: 'atisa',\n",
       " 355: 'travelled',\n",
       " 356: 'tibet',\n",
       " 357: 'buddhism',\n",
       " 358: 'explorers',\n",
       " 359: 'missionaries',\n",
       " 360: 'late',\n",
       " 361: 'first',\n",
       " 362: 'millennium',\n",
       " 363: 'ce',\n",
       " 364: 'governors',\n",
       " 365: 'mamluk',\n",
       " 366: 'balban',\n",
       " 367: 'tughluq',\n",
       " 368: 'rule',\n",
       " 369: 'transformed',\n",
       " 370: 'cosmopolitan',\n",
       " 371: 'superpower',\n",
       " 372: 'nation',\n",
       " 373: 'often',\n",
       " 374: 'europeans',\n",
       " 375: 'richest',\n",
       " 376: 'arakan',\n",
       " 377: 'brought',\n",
       " 378: 'hegemony',\n",
       " 379: 'khorasanis',\n",
       " 380: 'inferno',\n",
       " 381: 'full',\n",
       " 382: 'gifts',\n",
       " 383: 'due',\n",
       " 384: 'unbearable',\n",
       " 385: 'climate',\n",
       " 386: 'abundance',\n",
       " 387: 'khan',\n",
       " 388: 'are',\n",
       " 389: 'considered',\n",
       " 390: 'local',\n",
       " 391: 'heroes',\n",
       " 392: 'resisting',\n",
       " 393: 'invasions',\n",
       " 394: 'river',\n",
       " 395: 'navies',\n",
       " 396: 'reign',\n",
       " 397: 'emperor',\n",
       " 398: 'akbar',\n",
       " 399: 'agrarian',\n",
       " 400: 'calendar',\n",
       " 401: 'reformed',\n",
       " 402: 'facilitate',\n",
       " 403: 'tax',\n",
       " 404: 'collection',\n",
       " 405: '1666',\n",
       " 406: 'mughals',\n",
       " 407: 'expelled',\n",
       " 408: 'arakanese',\n",
       " 409: 'portuguese',\n",
       " 410: 'flourished',\n",
       " 411: 'dutch',\n",
       " 412: 'rajshahi',\n",
       " 413: 'existed',\n",
       " 414: 'described',\n",
       " 415: 'paradise',\n",
       " 416: 'nations',\n",
       " 417: 'wealthiest',\n",
       " 418: 'province',\n",
       " 419: 'global',\n",
       " 420: 'exporter',\n",
       " 421: 'worldwide',\n",
       " 422: 'cotton',\n",
       " 423: 'textiles',\n",
       " 424: 'bihar',\n",
       " 425: 'dated',\n",
       " 426: '1776',\n",
       " 427: '18th',\n",
       " 428: 'regions',\n",
       " 429: 'de',\n",
       " 430: 'facto',\n",
       " 431: 'rulers',\n",
       " 432: 'forged',\n",
       " 433: 'alliances',\n",
       " 434: 'colonial',\n",
       " 435: 'companies',\n",
       " 436: 'made',\n",
       " 437: 'relatively',\n",
       " 438: 'economy',\n",
       " 439: 'relied',\n",
       " 440: 'manufacturing',\n",
       " 441: 'saltpetre',\n",
       " 442: 'production',\n",
       " 443: 'craftsmanship',\n",
       " 444: 'agricultural',\n",
       " 445: 'produce',\n",
       " 446: 'annual',\n",
       " 447: '223250',\n",
       " 448: 'compared',\n",
       " 449: '23061',\n",
       " 450: 'nineteen',\n",
       " 451: 'colonies',\n",
       " 452: 'america',\n",
       " 453: 'flush',\n",
       " 454: 'rice',\n",
       " 455: 'ships',\n",
       " 456: 'later',\n",
       " 457: 'replicated',\n",
       " 458: 'replace',\n",
       " 459: 'stepped',\n",
       " 460: 'design',\n",
       " 461: 'ship',\n",
       " 462: 'hulls',\n",
       " 463: 'construction',\n",
       " 464: 'mosques',\n",
       " 465: 'academies',\n",
       " 466: 'madrasas',\n",
       " 467: 'sufi',\n",
       " 468: 'monasteries',\n",
       " 469: 'khanqahs',\n",
       " 470: 'facilitated',\n",
       " 471: 'conversion',\n",
       " 472: 'cosmology',\n",
       " 473: 'played',\n",
       " 474: 'role',\n",
       " 475: 'developing',\n",
       " 476: 'society',\n",
       " 477: 'preachers',\n",
       " 478: 'sylhet',\n",
       " 479: '1303',\n",
       " 480: 'disciples',\n",
       " 481: 'poets',\n",
       " 482: 'daulat',\n",
       " 483: 'qazi',\n",
       " 484: 'abdul',\n",
       " 485: 'hakim',\n",
       " 486: 'alaol',\n",
       " 487: 'persianate',\n",
       " 488: 'culture',\n",
       " 489: 'where',\n",
       " 490: 'cities',\n",
       " 491: 'like',\n",
       " 492: 'sonargaon',\n",
       " 493: 'easternmost',\n",
       " 494: 'centers',\n",
       " 495: 'persian',\n",
       " 496: 'influence',\n",
       " 497: 'however',\n",
       " 498: 'plassey',\n",
       " 499: 'registered',\n",
       " 500: 'decisive',\n",
       " 501: 'victory',\n",
       " 502: 'over',\n",
       " 503: 'his',\n",
       " 504: 'french',\n",
       " 505: 'allies',\n",
       " 506: '22',\n",
       " 507: 'june',\n",
       " 508: '1757',\n",
       " 509: 'leadership',\n",
       " 510: 'bribed',\n",
       " 511: 'mir',\n",
       " 512: 'jafar',\n",
       " 513: 'commanderinchief',\n",
       " 514: 'army',\n",
       " 515: 'promised',\n",
       " 516: 'helped',\n",
       " 517: 'sirajuddaulah',\n",
       " 518: 'capture',\n",
       " 519: 'calcutta',\n",
       " 520: 'although',\n",
       " 521: 'they',\n",
       " 522: 'had',\n",
       " 523: 'lost',\n",
       " 524: 'control',\n",
       " 525: 'alam',\n",
       " 526: 'ii',\n",
       " 527: 'involved',\n",
       " 528: 'war',\n",
       " 529: 'ended',\n",
       " 530: 'once',\n",
       " 531: 'more',\n",
       " 532: 'buxar',\n",
       " 533: 'presidency',\n",
       " 534: 'fort',\n",
       " 535: 'william',\n",
       " 536: 'administered',\n",
       " 537: 'until',\n",
       " 538: '1858',\n",
       " 539: 'officially',\n",
       " 540: 'peoples',\n",
       " 541: 'republic',\n",
       " 542: 'গণপ্রজাতন্ত্রী',\n",
       " 543: 'বাংলাদেশ',\n",
       " 544: 'gônoprojatontri',\n",
       " 545: 'plunder',\n",
       " 546: 'directly',\n",
       " 547: 'contributed',\n",
       " 548: 'industrial',\n",
       " 549: 'revolution',\n",
       " 550: 'britain',\n",
       " 551: 'amassed',\n",
       " 552: 'invest',\n",
       " 553: 'greatly',\n",
       " 554: 'increase',\n",
       " 555: 'same',\n",
       " 556: 'time',\n",
       " 557: 'leading',\n",
       " 558: 'deindustrialisation',\n",
       " 559: 'bengals',\n",
       " 560: 'traditional',\n",
       " 561: 'industry'}"
      ]
     },
     "execution_count": 23,
     "metadata": {},
     "output_type": "execute_result"
    }
   ],
   "source": [
    "index2word"
   ]
  },
  {
   "cell_type": "code",
   "execution_count": 24,
   "metadata": {},
   "outputs": [],
   "source": [
    "word2index = {}\n",
    "for k, v in index2word.items():\n",
    "    word2index[v] = k"
   ]
  },
  {
   "cell_type": "code",
   "execution_count": 25,
   "metadata": {},
   "outputs": [
    {
     "data": {
      "text/plain": [
       "{'the': 1,\n",
       " 'of': 2,\n",
       " 'and': 3,\n",
       " 'in': 4,\n",
       " 'start': 5,\n",
       " 'end': 6,\n",
       " 'bengal': 7,\n",
       " 'to': 8,\n",
       " 'was': 9,\n",
       " 'a': 10,\n",
       " 'bangladesh': 11,\n",
       " 'with': 12,\n",
       " 'bengali': 13,\n",
       " 'as': 14,\n",
       " 'by': 15,\n",
       " 'region': 16,\n",
       " 'east': 17,\n",
       " 'early': 18,\n",
       " 'is': 19,\n",
       " 'country': 20,\n",
       " 'india': 21,\n",
       " 'their': 22,\n",
       " 'during': 23,\n",
       " 'became': 24,\n",
       " 'century': 25,\n",
       " 'largest': 26,\n",
       " 'world': 27,\n",
       " 'for': 28,\n",
       " 'which': 29,\n",
       " 'from': 30,\n",
       " 'north': 31,\n",
       " 'ancient': 32,\n",
       " 'notable': 33,\n",
       " 'it': 34,\n",
       " 'nawabs': 35,\n",
       " 'term': 36,\n",
       " 'kingdom': 37,\n",
       " 'islamic': 38,\n",
       " 'dynasty': 39,\n",
       " 'muslim': 40,\n",
       " 'shipbuilding': 41,\n",
       " 'land': 42,\n",
       " 'its': 43,\n",
       " 'chittagong': 44,\n",
       " 'also': 45,\n",
       " 'pundra': 46,\n",
       " 'trade': 47,\n",
       " 'islam': 48,\n",
       " 'empire': 49,\n",
       " 'following': 50,\n",
       " 'sultanate': 51,\n",
       " 'shah': 52,\n",
       " 'under': 53,\n",
       " 'pakistan': 54,\n",
       " 'who': 55,\n",
       " 'religion': 56,\n",
       " 'namo': 57,\n",
       " 'name': 58,\n",
       " 'age': 59,\n",
       " 'history': 60,\n",
       " 'on': 61,\n",
       " 'him': 62,\n",
       " 'such': 63,\n",
       " 'used': 64,\n",
       " 'at': 65,\n",
       " 'borders': 66,\n",
       " 'west': 67,\n",
       " 'sea': 68,\n",
       " 'most': 69,\n",
       " 'part': 70,\n",
       " 'period': 71,\n",
       " 'indian': 72,\n",
       " 'many': 73,\n",
       " 'principalities': 74,\n",
       " 'including': 75,\n",
       " 'samatata': 76,\n",
       " 'harikela': 77,\n",
       " 'were': 78,\n",
       " 'muslin': 79,\n",
       " 'silk': 80,\n",
       " 'southeast': 81,\n",
       " 'pala': 82,\n",
       " 'but': 83,\n",
       " 'delhi': 84,\n",
       " 'jalal': 85,\n",
       " 'state': 86,\n",
       " 'established': 87,\n",
       " 'when': 88,\n",
       " 'formed': 89,\n",
       " 'official': 90,\n",
       " 'make': 91,\n",
       " 'into': 92,\n",
       " 'one': 93,\n",
       " 'southern': 94,\n",
       " 'gained': 95,\n",
       " 'other': 96,\n",
       " 'word': 97,\n",
       " 'iron': 98,\n",
       " 'vanga': 99,\n",
       " 'medieval': 100,\n",
       " 'somapura': 101,\n",
       " 'mahavihara': 102,\n",
       " 'people': 103,\n",
       " 'identified': 104,\n",
       " 'prosperous': 105,\n",
       " 'trading': 106,\n",
       " 'center': 107,\n",
       " 'map': 108,\n",
       " 'ruled': 109,\n",
       " 'included': 110,\n",
       " 'empires': 111,\n",
       " 'dynasties': 112,\n",
       " 'preach': 113,\n",
       " 'arrived': 114,\n",
       " 'major': 115,\n",
       " 'referred': 116,\n",
       " 'an': 117,\n",
       " 'settlement': 118,\n",
       " 'subah': 119,\n",
       " 'european': 120,\n",
       " 'textile': 121,\n",
       " 'output': 122,\n",
       " 'tons': 123,\n",
       " 'deck': 124,\n",
       " 'significant': 125,\n",
       " 'battle': 126,\n",
       " 'british': 127,\n",
       " 'company': 128,\n",
       " 'nawab': 129,\n",
       " 'robert': 130,\n",
       " 'clive': 131,\n",
       " 'defeat': 132,\n",
       " 'south': 133,\n",
       " 'asia': 134,\n",
       " 'while': 135,\n",
       " 'capital': 136,\n",
       " 'wealth': 137,\n",
       " 'industries': 138,\n",
       " 'shares': 139,\n",
       " 'myanmar': 140,\n",
       " 'whereas': 141,\n",
       " 'bay': 142,\n",
       " 'lies': 143,\n",
       " 'port': 144,\n",
       " 'second': 145,\n",
       " 'city': 146,\n",
       " 'result': 147,\n",
       " 'crisscrossed': 148,\n",
       " 'numerous': 149,\n",
       " 'rivers': 150,\n",
       " 'inland': 151,\n",
       " 'water': 152,\n",
       " 'ways': 153,\n",
       " 'features': 154,\n",
       " 'longest': 155,\n",
       " 'natural': 156,\n",
       " 'beach': 157,\n",
       " 'mangrove': 158,\n",
       " 'forest': 159,\n",
       " 'forms': 160,\n",
       " 'eastern': 161,\n",
       " 'classical': 162,\n",
       " 'subcontinent': 163,\n",
       " 'territory': 164,\n",
       " 'home': 165,\n",
       " 'gangaridai': 166,\n",
       " 'gauda': 167,\n",
       " 'overseas': 168,\n",
       " 'contacts': 169,\n",
       " 'roman': 170,\n",
       " 'export': 171,\n",
       " 'fine': 172,\n",
       " 'middle': 173,\n",
       " 'spreading': 174,\n",
       " 'philosophy': 175,\n",
       " 'art': 176,\n",
       " 'introduced': 177,\n",
       " 'through': 178,\n",
       " 'abbasid': 179,\n",
       " 'caliphate': 180,\n",
       " 'conquest': 181,\n",
       " 'bakhtiyar': 182,\n",
       " 'khalji': 183,\n",
       " 'subsequent': 184,\n",
       " 'establishment': 185,\n",
       " 'preaching': 186,\n",
       " 'fully': 187,\n",
       " 'spread': 188,\n",
       " 'across': 189,\n",
       " 'entire': 190,\n",
       " 'decline': 191,\n",
       " 'mughal': 192,\n",
       " '1700s': 193,\n",
       " 'semiindependent': 194,\n",
       " 'ultimately': 195,\n",
       " 'led': 196,\n",
       " 'siraj': 197,\n",
       " 'uddaulah': 198,\n",
       " 'modern': 199,\n",
       " 'separation': 200,\n",
       " 'august': 201,\n",
       " '1947': 202,\n",
       " 'newly': 203,\n",
       " 'boundary': 204,\n",
       " 'partition': 205,\n",
       " 'bengalis': 206,\n",
       " 'speak': 207,\n",
       " 'language': 208,\n",
       " 'up': 209,\n",
       " '98': 210,\n",
       " 'population': 211,\n",
       " 'recognising': 212,\n",
       " 'countrys': 213,\n",
       " 'constitution': 214,\n",
       " 'grants': 215,\n",
       " 'freedom': 216,\n",
       " 'nonmuslims': 217,\n",
       " 'divided': 218,\n",
       " 'eight': 219,\n",
       " 'administrative': 220,\n",
       " 'divisions': 221,\n",
       " 'sixtyfour': 222,\n",
       " 'districts': 223,\n",
       " 'has': 224,\n",
       " 'fastest': 225,\n",
       " 'real': 226,\n",
       " 'gdp': 227,\n",
       " 'growth': 228,\n",
       " 'rates': 229,\n",
       " 'per': 230,\n",
       " 'capita': 231,\n",
       " 'income': 232,\n",
       " 'ranks': 233,\n",
       " '143th': 234,\n",
       " '136th': 235,\n",
       " 'two': 236,\n",
       " 'measures': 237,\n",
       " 'etymology': 238,\n",
       " 'can': 239,\n",
       " 'be': 240,\n",
       " 'traced': 241,\n",
       " '20th': 242,\n",
       " 'patriotic': 243,\n",
       " 'songs': 244,\n",
       " 'momo': 245,\n",
       " 'kazi': 246,\n",
       " 'nazrul': 247,\n",
       " 'aaji': 248,\n",
       " 'bangladesher': 249,\n",
       " 'hridoy': 250,\n",
       " 'rabindranath': 251,\n",
       " 'tagore': 252,\n",
       " 'starting': 253,\n",
       " '1950s': 254,\n",
       " 'nationalists': 255,\n",
       " 'political': 256,\n",
       " 'rallies': 257,\n",
       " 'located': 258,\n",
       " 'core': 259,\n",
       " 'presentday': 260,\n",
       " 'southwestern': 261,\n",
       " 'this': 262,\n",
       " 'suffix': 263,\n",
       " 'added': 264,\n",
       " 'bung': 265,\n",
       " 'arose': 266,\n",
       " 'currency': 267,\n",
       " 'theories': 268,\n",
       " 'point': 269,\n",
       " 'bronze': 270,\n",
       " 'protodravidian': 271,\n",
       " 'tribe': 272,\n",
       " 'austric': 273,\n",
       " 'bonga': 274,\n",
       " 'sun': 275,\n",
       " 'god': 276,\n",
       " 'hence': 277,\n",
       " 'means': 278,\n",
       " 'or': 279,\n",
       " 'earliest': 280,\n",
       " 'known': 281,\n",
       " 'usage': 282,\n",
       " 'nesari': 283,\n",
       " 'plate': 284,\n",
       " '805': 285,\n",
       " 'ad': 286,\n",
       " 'status': 287,\n",
       " '14th': 288,\n",
       " 'bangla': 289,\n",
       " 'common': 290,\n",
       " 'main': 291,\n",
       " 'articles': 292,\n",
       " 'periods': 293,\n",
       " '9thcentury': 294,\n",
       " 'ruins': 295,\n",
       " 'settled': 296,\n",
       " 'austroasiatics': 297,\n",
       " 'tibetoburmans': 298,\n",
       " 'dravidians': 299,\n",
       " 'indoaryans': 300,\n",
       " 'consecutive': 301,\n",
       " 'waves': 302,\n",
       " 'migration': 303,\n",
       " '11th': 304,\n",
       " 'lived': 305,\n",
       " 'systemicallyaligned': 306,\n",
       " 'housing': 307,\n",
       " 'buried': 308,\n",
       " 'dead': 309,\n",
       " 'manufactured': 310,\n",
       " 'copper': 311,\n",
       " 'ornaments': 312,\n",
       " 'black': 313,\n",
       " 'red': 314,\n",
       " 'pottery': 315,\n",
       " 'saw': 316,\n",
       " 'development': 317,\n",
       " 'metal': 318,\n",
       " 'weaponry': 319,\n",
       " 'coinage': 320,\n",
       " 'agriculture': 321,\n",
       " 'irrigation': 322,\n",
       " '1879': 323,\n",
       " 'alexander': 324,\n",
       " 'cunningham': 325,\n",
       " 'mahasthangarh': 326,\n",
       " 'mentioned': 327,\n",
       " 'rigveda': 328,\n",
       " 'written': 329,\n",
       " 'brahmi': 330,\n",
       " 'script': 331,\n",
       " 'site': 332,\n",
       " 'souanagoura': 333,\n",
       " 'listed': 334,\n",
       " 'ptolemys': 335,\n",
       " 'buddhist': 336,\n",
       " 'hindu': 337,\n",
       " 'states': 338,\n",
       " 'kingdoms': 339,\n",
       " 'mauryan': 340,\n",
       " 'gupta': 341,\n",
       " 'varman': 342,\n",
       " 'shashankas': 343,\n",
       " 'khadga': 344,\n",
       " 'candra': 345,\n",
       " 'sena': 346,\n",
       " 'deva': 347,\n",
       " 'xuanzang': 348,\n",
       " 'china': 349,\n",
       " 'noted': 350,\n",
       " 'scholar': 351,\n",
       " 'resided': 352,\n",
       " 'monastery': 353,\n",
       " 'atisa': 354,\n",
       " 'travelled': 355,\n",
       " 'tibet': 356,\n",
       " 'buddhism': 357,\n",
       " 'explorers': 358,\n",
       " 'missionaries': 359,\n",
       " 'late': 360,\n",
       " 'first': 361,\n",
       " 'millennium': 362,\n",
       " 'ce': 363,\n",
       " 'governors': 364,\n",
       " 'mamluk': 365,\n",
       " 'balban': 366,\n",
       " 'tughluq': 367,\n",
       " 'rule': 368,\n",
       " 'transformed': 369,\n",
       " 'cosmopolitan': 370,\n",
       " 'superpower': 371,\n",
       " 'nation': 372,\n",
       " 'often': 373,\n",
       " 'europeans': 374,\n",
       " 'richest': 375,\n",
       " 'arakan': 376,\n",
       " 'brought': 377,\n",
       " 'hegemony': 378,\n",
       " 'khorasanis': 379,\n",
       " 'inferno': 380,\n",
       " 'full': 381,\n",
       " 'gifts': 382,\n",
       " 'due': 383,\n",
       " 'unbearable': 384,\n",
       " 'climate': 385,\n",
       " 'abundance': 386,\n",
       " 'khan': 387,\n",
       " 'are': 388,\n",
       " 'considered': 389,\n",
       " 'local': 390,\n",
       " 'heroes': 391,\n",
       " 'resisting': 392,\n",
       " 'invasions': 393,\n",
       " 'river': 394,\n",
       " 'navies': 395,\n",
       " 'reign': 396,\n",
       " 'emperor': 397,\n",
       " 'akbar': 398,\n",
       " 'agrarian': 399,\n",
       " 'calendar': 400,\n",
       " 'reformed': 401,\n",
       " 'facilitate': 402,\n",
       " 'tax': 403,\n",
       " 'collection': 404,\n",
       " '1666': 405,\n",
       " 'mughals': 406,\n",
       " 'expelled': 407,\n",
       " 'arakanese': 408,\n",
       " 'portuguese': 409,\n",
       " 'flourished': 410,\n",
       " 'dutch': 411,\n",
       " 'rajshahi': 412,\n",
       " 'existed': 413,\n",
       " 'described': 414,\n",
       " 'paradise': 415,\n",
       " 'nations': 416,\n",
       " 'wealthiest': 417,\n",
       " 'province': 418,\n",
       " 'global': 419,\n",
       " 'exporter': 420,\n",
       " 'worldwide': 421,\n",
       " 'cotton': 422,\n",
       " 'textiles': 423,\n",
       " 'bihar': 424,\n",
       " 'dated': 425,\n",
       " '1776': 426,\n",
       " '18th': 427,\n",
       " 'regions': 428,\n",
       " 'de': 429,\n",
       " 'facto': 430,\n",
       " 'rulers': 431,\n",
       " 'forged': 432,\n",
       " 'alliances': 433,\n",
       " 'colonial': 434,\n",
       " 'companies': 435,\n",
       " 'made': 436,\n",
       " 'relatively': 437,\n",
       " 'economy': 438,\n",
       " 'relied': 439,\n",
       " 'manufacturing': 440,\n",
       " 'saltpetre': 441,\n",
       " 'production': 442,\n",
       " 'craftsmanship': 443,\n",
       " 'agricultural': 444,\n",
       " 'produce': 445,\n",
       " 'annual': 446,\n",
       " '223250': 447,\n",
       " 'compared': 448,\n",
       " '23061': 449,\n",
       " 'nineteen': 450,\n",
       " 'colonies': 451,\n",
       " 'america': 452,\n",
       " 'flush': 453,\n",
       " 'rice': 454,\n",
       " 'ships': 455,\n",
       " 'later': 456,\n",
       " 'replicated': 457,\n",
       " 'replace': 458,\n",
       " 'stepped': 459,\n",
       " 'design': 460,\n",
       " 'ship': 461,\n",
       " 'hulls': 462,\n",
       " 'construction': 463,\n",
       " 'mosques': 464,\n",
       " 'academies': 465,\n",
       " 'madrasas': 466,\n",
       " 'sufi': 467,\n",
       " 'monasteries': 468,\n",
       " 'khanqahs': 469,\n",
       " 'facilitated': 470,\n",
       " 'conversion': 471,\n",
       " 'cosmology': 472,\n",
       " 'played': 473,\n",
       " 'role': 474,\n",
       " 'developing': 475,\n",
       " 'society': 476,\n",
       " 'preachers': 477,\n",
       " 'sylhet': 478,\n",
       " '1303': 479,\n",
       " 'disciples': 480,\n",
       " 'poets': 481,\n",
       " 'daulat': 482,\n",
       " 'qazi': 483,\n",
       " 'abdul': 484,\n",
       " 'hakim': 485,\n",
       " 'alaol': 486,\n",
       " 'persianate': 487,\n",
       " 'culture': 488,\n",
       " 'where': 489,\n",
       " 'cities': 490,\n",
       " 'like': 491,\n",
       " 'sonargaon': 492,\n",
       " 'easternmost': 493,\n",
       " 'centers': 494,\n",
       " 'persian': 495,\n",
       " 'influence': 496,\n",
       " 'however': 497,\n",
       " 'plassey': 498,\n",
       " 'registered': 499,\n",
       " 'decisive': 500,\n",
       " 'victory': 501,\n",
       " 'over': 502,\n",
       " 'his': 503,\n",
       " 'french': 504,\n",
       " 'allies': 505,\n",
       " '22': 506,\n",
       " 'june': 507,\n",
       " '1757': 508,\n",
       " 'leadership': 509,\n",
       " 'bribed': 510,\n",
       " 'mir': 511,\n",
       " 'jafar': 512,\n",
       " 'commanderinchief': 513,\n",
       " 'army': 514,\n",
       " 'promised': 515,\n",
       " 'helped': 516,\n",
       " 'sirajuddaulah': 517,\n",
       " 'capture': 518,\n",
       " 'calcutta': 519,\n",
       " 'although': 520,\n",
       " 'they': 521,\n",
       " 'had': 522,\n",
       " 'lost': 523,\n",
       " 'control': 524,\n",
       " 'alam': 525,\n",
       " 'ii': 526,\n",
       " 'involved': 527,\n",
       " 'war': 528,\n",
       " 'ended': 529,\n",
       " 'once': 530,\n",
       " 'more': 531,\n",
       " 'buxar': 532,\n",
       " 'presidency': 533,\n",
       " 'fort': 534,\n",
       " 'william': 535,\n",
       " 'administered': 536,\n",
       " 'until': 537,\n",
       " '1858': 538,\n",
       " 'officially': 539,\n",
       " 'peoples': 540,\n",
       " 'republic': 541,\n",
       " 'গণপ্রজাতন্ত্রী': 542,\n",
       " 'বাংলাদেশ': 543,\n",
       " 'gônoprojatontri': 544,\n",
       " 'plunder': 545,\n",
       " 'directly': 546,\n",
       " 'contributed': 547,\n",
       " 'industrial': 548,\n",
       " 'revolution': 549,\n",
       " 'britain': 550,\n",
       " 'amassed': 551,\n",
       " 'invest': 552,\n",
       " 'greatly': 553,\n",
       " 'increase': 554,\n",
       " 'same': 555,\n",
       " 'time': 556,\n",
       " 'leading': 557,\n",
       " 'deindustrialisation': 558,\n",
       " 'bengals': 559,\n",
       " 'traditional': 560,\n",
       " 'industry': 561}"
      ]
     },
     "execution_count": 25,
     "metadata": {},
     "output_type": "execute_result"
    }
   ],
   "source": [
    "word2index"
   ]
  },
  {
   "cell_type": "code",
   "execution_count": 26,
   "metadata": {
    "colab": {},
    "colab_type": "code",
    "id": "Vi5Zp56PZwWy"
   },
   "outputs": [
    {
     "data": {
      "text/plain": [
       "True"
      ]
     },
     "execution_count": 26,
     "metadata": {},
     "output_type": "execute_result"
    }
   ],
   "source": [
    "len(word2index) == len(index2word)"
   ]
  },
  {
   "cell_type": "code",
   "execution_count": 27,
   "metadata": {},
   "outputs": [
    {
     "data": {
      "text/plain": [
       "561"
      ]
     },
     "execution_count": 27,
     "metadata": {},
     "output_type": "execute_result"
    }
   ],
   "source": [
    "len(index2word)"
   ]
  },
  {
   "cell_type": "markdown",
   "metadata": {
    "colab_type": "text",
    "id": "0ErckVpJRMVp"
   },
   "source": [
    "### 2-3. ONE-HOT VECTORIZER"
   ]
  },
  {
   "cell_type": "code",
   "execution_count": 13,
   "metadata": {
    "colab": {},
    "colab_type": "code",
    "id": "Dc9GMlYdRMVq"
   },
   "outputs": [],
   "source": [
    "# 単語のシーケンスを作る np.arrayにする\n",
    "encoder_sequences = tokenizer.texts_to_sequences(encoder_text)\n",
    "# encider_sequences = np.array(encider_sequences)"
   ]
  },
  {
   "cell_type": "code",
   "execution_count": 14,
   "metadata": {
    "colab": {},
    "colab_type": "code",
    "id": "EB6wvoIFRMVs"
   },
   "outputs": [],
   "source": [
    "# デコーダーデータ\n",
    "decoder_sequences = tokenizer.texts_to_sequences(decoder_text)\n",
    "# decoder_sequences = np.array(decoder_sequences)"
   ]
  },
  {
   "cell_type": "code",
   "execution_count": null,
   "metadata": {},
   "outputs": [],
   "source": [
    "encoder_sequences"
   ]
  },
  {
   "cell_type": "code",
   "execution_count": 16,
   "metadata": {},
   "outputs": [],
   "source": [
    "for seqs in encoder_sequences:\n",
    "    for seq in seqs:\n",
    "        if seq > 14999:\n",
    "            print(seq)\n",
    "            break"
   ]
  },
  {
   "cell_type": "code",
   "execution_count": 139,
   "metadata": {},
   "outputs": [
    {
     "data": {
      "text/plain": [
       "15000"
      ]
     },
     "execution_count": 139,
     "metadata": {},
     "output_type": "execute_result"
    }
   ],
   "source": [
    "VOCAB_SIZE = len(index2word) + 1\n",
    "VOCAB_SIZE"
   ]
  },
  {
   "cell_type": "code",
   "execution_count": 28,
   "metadata": {},
   "outputs": [
    {
     "data": {
      "text/plain": [
       "(57, 47, 562)"
      ]
     },
     "execution_count": 28,
     "metadata": {},
     "output_type": "execute_result"
    }
   ],
   "source": [
    "decoder_output_data.shape"
   ]
  },
  {
   "cell_type": "code",
   "execution_count": 29,
   "metadata": {},
   "outputs": [
    {
     "ename": "NameError",
     "evalue": "name 'decoder_sequences' is not defined",
     "output_type": "error",
     "traceback": [
      "\u001b[0;31m---------------------------------------------------------------------------\u001b[0m",
      "\u001b[0;31mNameError\u001b[0m                                 Traceback (most recent call last)",
      "\u001b[0;32m<ipython-input-29-585134616343>\u001b[0m in \u001b[0;36m<module>\u001b[0;34m\u001b[0m\n\u001b[0;32m----> 1\u001b[0;31m \u001b[0mdecoder_sequences\u001b[0m\u001b[0;34m\u001b[0m\u001b[0;34m\u001b[0m\u001b[0m\n\u001b[0m",
      "\u001b[0;31mNameError\u001b[0m: name 'decoder_sequences' is not defined"
     ]
    }
   ],
   "source": [
    "decoder_sequences"
   ]
  },
  {
   "cell_type": "code",
   "execution_count": 98,
   "metadata": {
    "colab": {},
    "colab_type": "code",
    "id": "KkUuN7EdRMVz"
   },
   "outputs": [],
   "source": [
    "import numpy as np\n",
    "MAX_LEN = 20\n",
    "num_samples = len(encoder_sequences)\n",
    "decoder_output_data = np.zeros((num_samples, MAX_LEN, VOCAB_SIZE), dtype=\"float32\")"
   ]
  },
  {
   "cell_type": "code",
   "execution_count": 130,
   "metadata": {
    "colab": {},
    "colab_type": "code",
    "id": "LTGqtHmlRMV4"
   },
   "outputs": [],
   "source": [
    "# outputの３Dテンソル\n",
    "for i, seqs in enumerate(decoder_input_data):\n",
    "    for j, seq in enumerate(seqs):\n",
    "        if j > 0:\n",
    "            decoder_output_data[i][j][seq] = 1."
   ]
  },
  {
   "cell_type": "code",
   "execution_count": 134,
   "metadata": {},
   "outputs": [
    {
     "data": {
      "text/plain": [
       "(143865, 20, 15000)"
      ]
     },
     "execution_count": 134,
     "metadata": {},
     "output_type": "execute_result"
    }
   ],
   "source": [
    "decoder_output_data.shape"
   ]
  },
  {
   "cell_type": "markdown",
   "metadata": {
    "colab_type": "text",
    "id": "VXYJEes1RMV9"
   },
   "source": [
    "### 2-4. PADDING"
   ]
  },
  {
   "cell_type": "code",
   "execution_count": 128,
   "metadata": {
    "colab": {
     "base_uri": "https://localhost:8080/",
     "height": 215
    },
    "colab_type": "code",
    "id": "d_qBdh0eRMV-",
    "outputId": "fcfb794d-4945-4d18-f1ec-5c4e42712bbb"
   },
   "outputs": [],
   "source": [
    "from keras.preprocessing.sequence import pad_sequences\n",
    "encoder_input_data = pad_sequences(encoder_sequences, maxlen=MAX_LEN, dtype='int32', padding='post', truncating='post')\n",
    "decoder_input_data = pad_sequences(decoder_sequences, maxlen=MAX_LEN, dtype='int32', padding='post', truncating='post')"
   ]
  },
  {
   "cell_type": "code",
   "execution_count": 30,
   "metadata": {},
   "outputs": [
    {
     "data": {
      "text/plain": [
       "array([  5,  11, 139,  42,  66,  12,  21,   8,   1,  67,  31,   3,   1,\n",
       "        17,   3, 140,   8,   1,  17, 141,   1, 142,   2,   7, 143,   8,\n",
       "        43, 133,   6,   0,   0,   0,   0,   0,   0,   0,   0,   0,   0,\n",
       "         0,   0,   0,   0,   0,   0,   0,   0], dtype=int32)"
      ]
     },
     "execution_count": 30,
     "metadata": {},
     "output_type": "execute_result"
    }
   ],
   "source": [
    "decoder_input_data[0]"
   ]
  },
  {
   "cell_type": "markdown",
   "metadata": {
    "colab_type": "text",
    "id": "1IvPATnlRMWB"
   },
   "source": [
    "### 2-5. Word2Vec: pretrained glove vector"
   ]
  },
  {
   "cell_type": "code",
   "execution_count": 57,
   "metadata": {
    "colab": {},
    "colab_type": "code",
    "id": "lbEykxwmRMWC"
   },
   "outputs": [
    {
     "name": "stdout",
     "output_type": "stream",
     "text": [
      "Glove Loded!\n"
     ]
    }
   ],
   "source": [
    "#embeddings_index = {}\n",
    "#with open('glove.6B.50d.txt', encoding='utf-8') as f:\n",
    "#    for line in f:\n",
    "#        values = line.split()\n",
    "#        word = values[0]\n",
    "#        coefs = np.asarray(values[1:], dtype='float32')\n",
    "#        embeddings_index[word] = coefs\n",
    "#    f.close()\n",
    "#\n",
    "#print(\"Glove Loded!\")"
   ]
  },
  {
   "cell_type": "code",
   "execution_count": 6,
   "metadata": {},
   "outputs": [
    {
     "name": "stdout",
     "output_type": "stream",
     "text": [
      "Glove Loaded\n"
     ]
    }
   ],
   "source": [
    "import numpy as np\n",
    "\n",
    "embeddings_index = {}\n",
    "with open('../../Dataset/glove.6B.50d.txt', encoding='utf-8') as f:\n",
    "    for line in f:\n",
    "        values = line.split()\n",
    "        word = values[0]\n",
    "        #print(word)\n",
    "        coefs = np.asarray(values[1:], dtype='float32')\n",
    "        #print(coefs)\n",
    "        embeddings_index[word] = coefs\n",
    "    f.close()\n",
    "print(\"Glove Loaded\")    "
   ]
  },
  {
   "cell_type": "code",
   "execution_count": 31,
   "metadata": {
    "colab": {},
    "colab_type": "code",
    "id": "HUXce9sDRMWI"
   },
   "outputs": [],
   "source": [
    "embedding_dimention = 50\n",
    "def embedding_matrix_creater(embedding_dimention, word_index):\n",
    "    embedding_matrix = np.zeros((len(word_index) + 1, embedding_dimention))\n",
    "    for word, i in word_index.items():\n",
    "        embedding_vector = embeddings_index.get(word)\n",
    "        if embedding_vector is not None:\n",
    "          # words not found in embedding index will be all-zeros.\n",
    "            embedding_matrix[i] = embedding_vector\n",
    "    return embedding_matrix"
   ]
  },
  {
   "cell_type": "code",
   "execution_count": 35,
   "metadata": {},
   "outputs": [],
   "source": [
    "embedding_matrix = embedding_matrix_creater(50, word_index=word2index)"
   ]
  },
  {
   "cell_type": "code",
   "execution_count": 39,
   "metadata": {},
   "outputs": [],
   "source": [
    "from keras.layers import Embedding\n",
    "\n",
    "embed_layer = Embedding(input_dim=VOCAB_SIZE, output_dim=50, trainable=True,)\n",
    "embed_layer.build((None,))\n",
    "embed_layer.set_weights([embedding_matrix])"
   ]
  },
  {
   "cell_type": "markdown",
   "metadata": {
    "colab_type": "text",
    "id": "HBLzb6z0RMWM"
   },
   "source": [
    "## Step 3. Build Seq2Seq Model"
   ]
  },
  {
   "cell_type": "code",
   "execution_count": 40,
   "metadata": {
    "colab": {},
    "colab_type": "code",
    "id": "YW3imyr0RMWX"
   },
   "outputs": [],
   "source": [
    "from keras.layers import Embedding\n",
    "from keras.layers import Input, Dense, LSTM, TimeDistributed\n",
    "from keras.models import Model"
   ]
  },
  {
   "cell_type": "code",
   "execution_count": 41,
   "metadata": {},
   "outputs": [],
   "source": [
    "def seq2seq_model_builder(HIDDEN_DIM=300):\n",
    "    \n",
    "    encoder_inputs = Input(shape=(MAX_LEN, ), dtype='int32',)\n",
    "    encoder_embedding = embed_layer(encoder_inputs)\n",
    "    encoder_LSTM = LSTM(HIDDEN_DIM, return_state=True)\n",
    "    encoder_outputs, state_h, state_c = encoder_LSTM(encoder_embedding)\n",
    "    \n",
    "    decoder_inputs = Input(shape=(MAX_LEN, ), dtype='int32',)\n",
    "    decoder_embedding = embed_layer(decoder_inputs)\n",
    "    decoder_LSTM = LSTM(HIDDEN_DIM, return_state=True, return_sequences=True)\n",
    "    decoder_outputs, _, _ = decoder_LSTM(decoder_embedding, initial_state=[state_h, state_c])\n",
    "    \n",
    "    # dense_layer = Dense(VOCAB_SIZE, activation='softmax')\n",
    "    outputs = TimeDistributed(Dense(VOCAB_SIZE, activation='softmax'))(decoder_outputs)\n",
    "    model = Model([encoder_inputs, decoder_inputs], outputs)\n",
    "    \n",
    "    return model"
   ]
  },
  {
   "cell_type": "code",
   "execution_count": 42,
   "metadata": {},
   "outputs": [],
   "source": [
    "model = seq2seq_model_builder(HIDDEN_DIM=300)"
   ]
  },
  {
   "cell_type": "code",
   "execution_count": 43,
   "metadata": {},
   "outputs": [
    {
     "name": "stdout",
     "output_type": "stream",
     "text": [
      "Model: \"model_1\"\n",
      "__________________________________________________________________________________________________\n",
      "Layer (type)                    Output Shape         Param #     Connected to                     \n",
      "==================================================================================================\n",
      "input_2 (InputLayer)            (None, 12)           0                                            \n",
      "__________________________________________________________________________________________________\n",
      "input_1 (InputLayer)            (None, 12)           0                                            \n",
      "__________________________________________________________________________________________________\n",
      "embedding_1 (Embedding)         (None, 12, 50)       28100       input_1[0][0]                    \n",
      "                                                                 input_2[0][0]                    \n",
      "__________________________________________________________________________________________________\n",
      "lstm_1 (LSTM)                   [(None, 300), (None, 421200      embedding_1[0][0]                \n",
      "__________________________________________________________________________________________________\n",
      "lstm_2 (LSTM)                   [(None, 12, 300), (N 421200      embedding_1[1][0]                \n",
      "                                                                 lstm_1[0][1]                     \n",
      "                                                                 lstm_1[0][2]                     \n",
      "__________________________________________________________________________________________________\n",
      "time_distributed_1 (TimeDistrib (None, 12, 562)      169162      lstm_2[0][0]                     \n",
      "==================================================================================================\n",
      "Total params: 1,039,662\n",
      "Trainable params: 1,039,662\n",
      "Non-trainable params: 0\n",
      "__________________________________________________________________________________________________\n"
     ]
    }
   ],
   "source": [
    "model.summary()"
   ]
  },
  {
   "cell_type": "code",
   "execution_count": 44,
   "metadata": {},
   "outputs": [
    {
     "data": {
      "text/plain": [
       "'/home/ifte/amiebot_project/MyAI/AI-system/Models/Seq2Seq_Globe_Embedding'"
      ]
     },
     "execution_count": 44,
     "metadata": {},
     "output_type": "execute_result"
    }
   ],
   "source": [
    "pwd"
   ]
  },
  {
   "cell_type": "code",
   "execution_count": 53,
   "metadata": {},
   "outputs": [
    {
     "data": {
      "image/png": "[encoded data removed]",
      "text/plain": [
       "<IPython.core.display.Image object>"
      ]
     },
     "execution_count": 53,
     "metadata": {},
     "output_type": "execute_result"
    }
   ],
   "source": [
    "from keras.utils import plot_model\n",
    "plot_model(model, to_file='/home/ifte/amiebot_project/MyAI/AI-system/Models/Seq2Seq_Globe_Embedding/seq2seq.png')"
   ]
  },
  {
   "cell_type": "code",
   "execution_count": 54,
   "metadata": {
    "colab": {},
    "colab_type": "code",
    "id": "rIFru1mFRMWd"
   },
   "outputs": [],
   "source": [
    "model.compile(optimizer='adam', loss ='categorical_crossentropy', metrics = ['accuracy'])"
   ]
  },
  {
   "cell_type": "markdown",
   "metadata": {
    "colab_type": "text",
    "id": "g8jouTFzRMWh"
   },
   "source": [
    "## Step 4. Training Model"
   ]
  },
  {
   "cell_type": "code",
   "execution_count": 58,
   "metadata": {},
   "outputs": [],
   "source": [
    "BATCH_SIZE = 54\n",
    "EPOCHS = 5"
   ]
  },
  {
   "cell_type": "code",
   "execution_count": 63,
   "metadata": {
    "colab": {},
    "colab_type": "code",
    "id": "qGVVQvhFRMWq"
   },
   "outputs": [
    {
     "data": {
      "text/plain": [
       "(57, 47, 562)"
      ]
     },
     "execution_count": 63,
     "metadata": {},
     "output_type": "execute_result"
    }
   ],
   "source": [
    "encoder_input_data.shape\n",
    "decoder_input_data.shape\n",
    "decoder_output_data.shape"
   ]
  },
  {
   "cell_type": "code",
   "execution_count": 60,
   "metadata": {
    "colab": {},
    "colab_type": "code",
    "id": "p4i_CsA4RMWk"
   },
   "outputs": [
    {
     "ename": "ValueError",
     "evalue": "Error when checking input: expected input_1 to have shape (12,) but got array with shape (44,)",
     "output_type": "error",
     "traceback": [
      "\u001b[0;31m---------------------------------------------------------------------------\u001b[0m",
      "\u001b[0;31mValueError\u001b[0m                                Traceback (most recent call last)",
      "\u001b[0;32m<ipython-input-60-4f15548fa3a1>\u001b[0m in \u001b[0;36m<module>\u001b[0;34m\u001b[0m\n\u001b[1;32m      2\u001b[0m                      \u001b[0mdecoder_output_data\u001b[0m\u001b[0;34m,\u001b[0m\u001b[0;34m\u001b[0m\u001b[0;34m\u001b[0m\u001b[0m\n\u001b[1;32m      3\u001b[0m                      \u001b[0mepochs\u001b[0m\u001b[0;34m=\u001b[0m\u001b[0mEPOCHS\u001b[0m\u001b[0;34m,\u001b[0m\u001b[0;34m\u001b[0m\u001b[0;34m\u001b[0m\u001b[0m\n\u001b[0;32m----> 4\u001b[0;31m                      batch_size=BATCH_SIZE)\n\u001b[0m",
      "\u001b[0;32m~/amiebot_project/lib/python3.6/site-packages/keras/engine/training.py\u001b[0m in \u001b[0;36mfit\u001b[0;34m(self, x, y, batch_size, epochs, verbose, callbacks, validation_split, validation_data, shuffle, class_weight, sample_weight, initial_epoch, steps_per_epoch, validation_steps, validation_freq, max_queue_size, workers, use_multiprocessing, **kwargs)\u001b[0m\n\u001b[1;32m   1152\u001b[0m             \u001b[0msample_weight\u001b[0m\u001b[0;34m=\u001b[0m\u001b[0msample_weight\u001b[0m\u001b[0;34m,\u001b[0m\u001b[0;34m\u001b[0m\u001b[0;34m\u001b[0m\u001b[0m\n\u001b[1;32m   1153\u001b[0m             \u001b[0mclass_weight\u001b[0m\u001b[0;34m=\u001b[0m\u001b[0mclass_weight\u001b[0m\u001b[0;34m,\u001b[0m\u001b[0;34m\u001b[0m\u001b[0;34m\u001b[0m\u001b[0m\n\u001b[0;32m-> 1154\u001b[0;31m             batch_size=batch_size)\n\u001b[0m\u001b[1;32m   1155\u001b[0m \u001b[0;34m\u001b[0m\u001b[0m\n\u001b[1;32m   1156\u001b[0m         \u001b[0;31m# Prepare validation data.\u001b[0m\u001b[0;34m\u001b[0m\u001b[0;34m\u001b[0m\u001b[0;34m\u001b[0m\u001b[0m\n",
      "\u001b[0;32m~/amiebot_project/lib/python3.6/site-packages/keras/engine/training.py\u001b[0m in \u001b[0;36m_standardize_user_data\u001b[0;34m(self, x, y, sample_weight, class_weight, check_array_lengths, batch_size)\u001b[0m\n\u001b[1;32m    577\u001b[0m             \u001b[0mfeed_input_shapes\u001b[0m\u001b[0;34m,\u001b[0m\u001b[0;34m\u001b[0m\u001b[0;34m\u001b[0m\u001b[0m\n\u001b[1;32m    578\u001b[0m             \u001b[0mcheck_batch_axis\u001b[0m\u001b[0;34m=\u001b[0m\u001b[0;32mFalse\u001b[0m\u001b[0;34m,\u001b[0m  \u001b[0;31m# Don't enforce the batch size.\u001b[0m\u001b[0;34m\u001b[0m\u001b[0;34m\u001b[0m\u001b[0m\n\u001b[0;32m--> 579\u001b[0;31m             exception_prefix='input')\n\u001b[0m\u001b[1;32m    580\u001b[0m \u001b[0;34m\u001b[0m\u001b[0m\n\u001b[1;32m    581\u001b[0m         \u001b[0;32mif\u001b[0m \u001b[0my\u001b[0m \u001b[0;32mis\u001b[0m \u001b[0;32mnot\u001b[0m \u001b[0;32mNone\u001b[0m\u001b[0;34m:\u001b[0m\u001b[0;34m\u001b[0m\u001b[0;34m\u001b[0m\u001b[0m\n",
      "\u001b[0;32m~/amiebot_project/lib/python3.6/site-packages/keras/engine/training_utils.py\u001b[0m in \u001b[0;36mstandardize_input_data\u001b[0;34m(data, names, shapes, check_batch_axis, exception_prefix)\u001b[0m\n\u001b[1;32m    143\u001b[0m                             \u001b[0;34m': expected '\u001b[0m \u001b[0;34m+\u001b[0m \u001b[0mnames\u001b[0m\u001b[0;34m[\u001b[0m\u001b[0mi\u001b[0m\u001b[0;34m]\u001b[0m \u001b[0;34m+\u001b[0m \u001b[0;34m' to have shape '\u001b[0m \u001b[0;34m+\u001b[0m\u001b[0;34m\u001b[0m\u001b[0;34m\u001b[0m\u001b[0m\n\u001b[1;32m    144\u001b[0m                             \u001b[0mstr\u001b[0m\u001b[0;34m(\u001b[0m\u001b[0mshape\u001b[0m\u001b[0;34m)\u001b[0m \u001b[0;34m+\u001b[0m \u001b[0;34m' but got array with shape '\u001b[0m \u001b[0;34m+\u001b[0m\u001b[0;34m\u001b[0m\u001b[0;34m\u001b[0m\u001b[0m\n\u001b[0;32m--> 145\u001b[0;31m                             str(data_shape))\n\u001b[0m\u001b[1;32m    146\u001b[0m     \u001b[0;32mreturn\u001b[0m \u001b[0mdata\u001b[0m\u001b[0;34m\u001b[0m\u001b[0;34m\u001b[0m\u001b[0m\n\u001b[1;32m    147\u001b[0m \u001b[0;34m\u001b[0m\u001b[0m\n",
      "\u001b[0;31mValueError\u001b[0m: Error when checking input: expected input_1 to have shape (12,) but got array with shape (44,)"
     ]
    }
   ],
   "source": [
    "history = model.fit([encoder_input_data, decoder_input_data], \n",
    "                     decoder_output_data, \n",
    "                     epochs=EPOCHS, \n",
    "                     batch_size=BATCH_SIZE)"
   ]
  },
  {
   "cell_type": "markdown",
   "metadata": {},
   "source": [
    "#### Visualize Learning History"
   ]
  },
  {
   "cell_type": "code",
   "execution_count": 183,
   "metadata": {
    "colab": {},
    "colab_type": "code",
    "id": "Mj9pi9UGRMWn"
   },
   "outputs": [
    {
     "data": {
      "image/png": "[encoded data removed]",
      "text/plain": [
       "<Figure size 720x432 with 1 Axes>"
      ]
     },
     "metadata": {
      "needs_background": "light"
     },
     "output_type": "display_data"
    }
   ],
   "source": [
    "# 正確性の可視化\n",
    "import matplotlib.pyplot as plt\n",
    "%matplotlib inline\n",
    "\n",
    "plt.figure(figsize=(10, 6))\n",
    "plt.plot(history.history['acc'])\n",
    "#plt.plot(history.history['val_acc'])\n",
    "plt.title('model accuracy')\n",
    "plt.ylabel('accuracy')\n",
    "plt.xlabel('epoch')\n",
    "# plt.legend(['train', 'test'], loc='upper left')\n",
    "plt.show()"
   ]
  },
  {
   "cell_type": "code",
   "execution_count": 184,
   "metadata": {},
   "outputs": [
    {
     "data": {
      "image/png": "[encoded data removed]",
      "text/plain": [
       "<Figure size 720x432 with 1 Axes>"
      ]
     },
     "metadata": {
      "needs_background": "light"
     },
     "output_type": "display_data"
    }
   ],
   "source": [
    "# 損失関数の可視化\n",
    "plt.figure(figsize=(10, 6))\n",
    "plt.plot(history.history['loss'])\n",
    "# plt.plot(history.history['val_loss'])\n",
    "plt.title('model loss')\n",
    "plt.ylabel('loss')\n",
    "plt.xlabel('epoch')\n",
    "# plt.legend(['train', 'test'], loc='upper left')\n",
    "plt.show()"
   ]
  },
  {
   "cell_type": "code",
   "execution_count": null,
   "metadata": {},
   "outputs": [],
   "source": [
    "# モデルの読み込み\n",
    "with open('seq2seq.json',\"w\").write(model.to_json())\n",
    "\n",
    "# 重みの読み込み\n",
    "model.load_weights('seq2seq.h5')\n",
    "print(\"Saved Model!\")"
   ]
  },
  {
   "cell_type": "code",
   "execution_count": 187,
   "metadata": {
    "colab": {},
    "colab_type": "code",
    "id": "4nigsv81RMXA"
   },
   "outputs": [
    {
     "name": "stdout",
     "output_type": "stream",
     "text": [
      "Saved Model!\n"
     ]
    }
   ],
   "source": [
    "# 重みを保存する\n",
    "model_json = model.to_json()\n",
    "with open(\"model.json\", \"w\") as json_file:\n",
    "    json_file.write(model_json)\n",
    "\n",
    "model.save_weights(\"chatbot_model.h5\")\n",
    "print(\"Saved Model!\")"
   ]
  },
  {
   "cell_type": "code",
   "execution_count": 191,
   "metadata": {},
   "outputs": [],
   "source": [
    "json_string = model.to_json()\n",
    "open('seq2seq.json', 'w').write(json_string)\n",
    "model.save_weights('seq2seq_weights.h5')"
   ]
  },
  {
   "cell_type": "code",
   "execution_count": 192,
   "metadata": {},
   "outputs": [
    {
     "name": "stdout",
     "output_type": "stream",
     "text": [
      "1_0306_chatobot3.ipynb        glove.6B.50d.txt\r\n",
      "1_0306_chatobot4.ipynb        model.json\r\n",
      "apple_orange_model.json       movie_lines.txt\r\n",
      "apple_orange_weights.h5       padded_decoder_sequences.txt\r\n",
      "chatbot_model.h5              padded_encoder_sequences.txt\r\n",
      "decoder_inputs.txt            seq2seq.json\r\n",
      "encoder_inputs.txt            seq2seq_weights.h5\r\n"
     ]
    }
   ],
   "source": [
    "%ls"
   ]
  },
  {
   "cell_type": "code",
   "execution_count": 190,
   "metadata": {},
   "outputs": [
    {
     "data": {
      "text/plain": [
       "'/Users/akr712/Desktop/CHATBOT'"
      ]
     },
     "execution_count": 190,
     "metadata": {},
     "output_type": "execute_result"
    }
   ],
   "source": [
    "pwd"
   ]
  }
 ],
 "metadata": {
  "colab": {
   "name": "1. 0306_chatobot3.ipynb",
   "provenance": [],
   "version": "0.3.2"
  },
  "kernelspec": {
   "display_name": "Python 3",
   "language": "python",
   "name": "python3"
  },
  "language_info": {
   "codemirror_mode": {
    "name": "ipython",
    "version": 3
   },
   "file_extension": ".py",
   "mimetype": "text/x-python",
   "name": "python",
   "nbconvert_exporter": "python",
   "pygments_lexer": "ipython3",
   "version": "3.6.8"
  }
 },
 "nbformat": 4,
 "nbformat_minor": 1
}
