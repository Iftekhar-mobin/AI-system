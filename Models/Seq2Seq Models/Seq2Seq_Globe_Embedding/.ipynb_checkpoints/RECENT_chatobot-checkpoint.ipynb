{
 "cells": [
  {
   "cell_type": "markdown",
   "metadata": {
    "colab_type": "text",
    "id": "A_pjoByYRMTv"
   },
   "source": [
    "# Seq2Seq: Encoder-Decoder Chatbot "
   ]
  },
  {
   "cell_type": "markdown",
   "metadata": {
    "colab_type": "text",
    "id": "4n0pEEarRMTx"
   },
   "source": [
    "![](https://cdn-images-1.medium.com/max/2560/1*1I2tTjCkMHlQ-r73eRn4ZQ.png)"
   ]
  },
  {
   "cell_type": "code",
   "execution_count": 0,
   "metadata": {
    "colab": {},
    "colab_type": "code",
    "id": "XgAIoL02RMTy"
   },
   "outputs": [],
   "source": [
    "import numpy as np\n",
    "import pandas as pd\n",
    "import string\n",
    "import pickle\n",
    "import operator\n",
    "import matplotlib.pyplot as plt\n",
    "%matplotlib inline"
   ]
  },
  {
   "cell_type": "markdown",
   "metadata": {
    "colab_type": "text",
    "id": "dHaiKoheRMT5"
   },
   "source": [
    "## Step 1. Import Data"
   ]
  },
  {
   "cell_type": "code",
   "execution_count": 0,
   "metadata": {
    "colab": {},
    "colab_type": "code",
    "id": "jh3QLAlCRMT6"
   },
   "outputs": [],
   "source": [
    "# .txtから会話データを取得する\n",
    "import codecs\n",
    "\n",
    "with codecs.open(\"movie_lines.txt\", \"rb\", encoding=\"utf-8\", errors=\"ignore\") as f:\n",
    "    lines = f.read().split(\"\\n\")\n",
    "    conversations = []\n",
    "    for line in lines:\n",
    "        data = line.split(\" +++$+++ \")\n",
    "        conversations.append(data)"
   ]
  },
  {
   "cell_type": "code",
   "execution_count": 7,
   "metadata": {
    "colab": {
     "base_uri": "https://localhost:8080/",
     "height": 119
    },
    "colab_type": "code",
    "id": "6M3eZnuPRMT9",
    "outputId": "c7420e45-8e12-4feb-bf58-7c208d14e842"
   },
   "outputs": [
    {
     "data": {
      "text/plain": [
       "[['L1045', 'u0', 'm0', 'BIANCA', 'They do not!'],\n",
       " ['L1044', 'u2', 'm0', 'CAMERON', 'They do to!'],\n",
       " ['L985', 'u0', 'm0', 'BIANCA', 'I hope so.'],\n",
       " ['L984', 'u2', 'm0', 'CAMERON', 'She okay?'],\n",
       " ['L925', 'u0', 'm0', 'BIANCA', \"Let's go.\"],\n",
       " ['L924', 'u2', 'm0', 'CAMERON', 'Wow']]"
      ]
     },
     "execution_count": 7,
     "metadata": {
      "tags": []
     },
     "output_type": "execute_result"
    }
   ],
   "source": [
    "conversations[:6]"
   ]
  },
  {
   "cell_type": "code",
   "execution_count": 0,
   "metadata": {
    "colab": {},
    "colab_type": "code",
    "id": "4hRs6j-vRMUE"
   },
   "outputs": [],
   "source": [
    "# idと会話だけ取り出す\n",
    "chats = {}\n",
    "for tokens in conversations:\n",
    "    if len(tokens) > 4:\n",
    "        idx = tokens[0][1:]\n",
    "        chat = tokens[4]\n",
    "        chats[int(idx)] = chat"
   ]
  },
  {
   "cell_type": "code",
   "execution_count": null,
   "metadata": {
    "colab": {
     "base_uri": "https://localhost:8080/",
     "height": 20454
    },
    "colab_type": "code",
    "id": "Q5DrAY8PRMUN",
    "outputId": "35500f14-06a6-4eda-f163-397f0320a4c1"
   },
   "outputs": [],
   "source": [
    "# idと会話をセットにする\n",
    "sorted_chats = sorted(chats.items(), key = lambda x: x[0])\n",
    "sorted_chats"
   ]
  },
  {
   "cell_type": "code",
   "execution_count": 0,
   "metadata": {
    "colab": {},
    "colab_type": "code",
    "id": "azB8ddZcRMUS"
   },
   "outputs": [],
   "source": [
    "# 会話のペアごとに辞書を作る { 会話セットid: [会話リスト] }\n",
    "conves_dict = {}\n",
    "counter = 1\n",
    "conves_ids = []\n",
    "for i in range(1, len(sorted_chats)+1):\n",
    "    if i < len(sorted_chats):\n",
    "        if (sorted_chats[i][0] - sorted_chats[i-1][0]) == 1:\n",
    "            # 1つ前の会話の頭の文字がないのを確認\n",
    "            if sorted_chats[i-1][1] not in conves_ids:\n",
    "                conves_ids.append(sorted_chats[i-1][1])\n",
    "            conves_ids.append(sorted_chats[i][1])\n",
    "        elif (sorted_chats[i][0] - sorted_chats[i-1][0]) > 1:            \n",
    "            conves_dict[counter] = conves_ids\n",
    "            conves_ids = []\n",
    "        counter += 1\n",
    "    else:\n",
    "        pass"
   ]
  },
  {
   "cell_type": "code",
   "execution_count": null,
   "metadata": {
    "colab": {
     "base_uri": "https://localhost:8080/",
     "height": 117184
    },
    "colab_type": "code",
    "id": "siMFeqSuRMUV",
    "outputId": "8a84cd2e-1da3-4a1a-ac69-39b96489c07c"
   },
   "outputs": [],
   "source": [
    "conves_dict"
   ]
  },
  {
   "cell_type": "code",
   "execution_count": 0,
   "metadata": {
    "colab": {},
    "colab_type": "code",
    "id": "vLbT8fzGRMUa"
   },
   "outputs": [],
   "source": [
    "context_and_target = []\n",
    "for conves in conves_dict.values():\n",
    "    # ペアがない会話は捨てる\n",
    "    if len(conves) % 2 != 0:\n",
    "        conves = conves[:-1]\n",
    "    for i in range(0, len(conves), 2):\n",
    "        context_and_target.append((conves[i], conves[i+1]))"
   ]
  },
  {
   "cell_type": "code",
   "execution_count": 14,
   "metadata": {
    "colab": {
     "base_uri": "https://localhost:8080/",
     "height": 153
    },
    "colab_type": "code",
    "id": "wBJDX_kLRMUd",
    "outputId": "faf0d417-4f01-4296-9381-1e7ed10ca469"
   },
   "outputs": [
    {
     "data": {
      "text/plain": [
       "[('Did you change your hair?', 'No.'),\n",
       " ('I missed you.',\n",
       "  'It says here you exposed yourself to a group of freshmen girls.'),\n",
       " ('It was a bratwurst.  I was eating lunch.',\n",
       "  'With the teeth of your zipper?'),\n",
       " ('You the new guy?', 'So they tell me...'),\n",
       " (\"C'mon.  I'm supposed to give you the tour.\",\n",
       "  'So -- which Dakota you from?')]"
      ]
     },
     "execution_count": 14,
     "metadata": {
      "tags": []
     },
     "output_type": "execute_result"
    }
   ],
   "source": [
    "# ペア完成\n",
    "context_and_target[:5]"
   ]
  },
  {
   "cell_type": "code",
   "execution_count": 0,
   "metadata": {
    "colab": {},
    "colab_type": "code",
    "id": "nqBGBxadRMUi"
   },
   "outputs": [],
   "source": [
    "context, target = zip(*context_and_target)"
   ]
  },
  {
   "cell_type": "code",
   "execution_count": 0,
   "metadata": {
    "colab": {},
    "colab_type": "code",
    "id": "20Wf7yq3RMUl"
   },
   "outputs": [],
   "source": [
    "context = list(context)\n",
    "target = list(target)"
   ]
  },
  {
   "cell_type": "code",
   "execution_count": 17,
   "metadata": {
    "colab": {
     "base_uri": "https://localhost:8080/",
     "height": 102
    },
    "colab_type": "code",
    "id": "ANNT_oibRMUp",
    "outputId": "20198454-ce47-44bd-df38-9a68a782347b"
   },
   "outputs": [
    {
     "data": {
      "text/plain": [
       "['Did you change your hair?',\n",
       " 'I missed you.',\n",
       " 'It was a bratwurst.  I was eating lunch.',\n",
       " 'You the new guy?',\n",
       " \"C'mon.  I'm supposed to give you the tour.\"]"
      ]
     },
     "execution_count": 17,
     "metadata": {
      "tags": []
     },
     "output_type": "execute_result"
    }
   ],
   "source": [
    "context[:5]"
   ]
  },
  {
   "cell_type": "code",
   "execution_count": 18,
   "metadata": {
    "colab": {
     "base_uri": "https://localhost:8080/",
     "height": 357
    },
    "colab_type": "code",
    "id": "kDb0GTENRMUw",
    "outputId": "0f72dffa-69f8-46a2-c2b8-257b02c7bfc6"
   },
   "outputs": [
    {
     "data": {
      "text/plain": [
       "['No.',\n",
       " 'It says here you exposed yourself to a group of freshmen girls.',\n",
       " 'With the teeth of your zipper?',\n",
       " 'So they tell me...',\n",
       " 'So -- which Dakota you from?',\n",
       " 'I was kidding. People actually live there?',\n",
       " 'How many people were in your old school?',\n",
       " 'Get out!',\n",
       " 'Couple thousand. Most of them evil',\n",
       " 'Yeah, but these guys have never seen a horse.  They just jack off to Clint Eastwood.',\n",
       " 'You burn, you pine, you perish?',\n",
       " \"Bianca Stratford.  Sophomore. Don't even think about it\",\n",
       " \"I could start with your haircut, but it doesn't matter.  She's not allowed to date until her older sister does.  And that's an impossibility.\",\n",
       " 'Expressing my opinion is not a terrorist action.',\n",
       " 'I still maintain that he kicked himself in the balls.  I was merely a spectator.',\n",
       " 'Tempestuous?',\n",
       " 'Patrick Verona   Random skid.',\n",
       " \"I'm sure he's completely incapable of doing anything that interesting.\",\n",
       " 'Block E?',\n",
       " 'Just a little.']"
      ]
     },
     "execution_count": 18,
     "metadata": {
      "tags": []
     },
     "output_type": "execute_result"
    }
   ],
   "source": [
    "target[:20]"
   ]
  },
  {
   "cell_type": "markdown",
   "metadata": {
    "colab_type": "text",
    "id": "bl2kl5WTRMU3"
   },
   "source": [
    "## Step 2. Preprocessing for text data"
   ]
  },
  {
   "cell_type": "code",
   "execution_count": 0,
   "metadata": {
    "colab": {},
    "colab_type": "code",
    "id": "pqqjGJsGRMU5"
   },
   "outputs": [],
   "source": [
    "# from my_seq2seq_text_cleanear import text_modifier, nonalpha_remover\n",
    "import re\n",
    "MAX_LEN = 12"
   ]
  },
  {
   "cell_type": "code",
   "execution_count": 173,
   "metadata": {
    "colab": {},
    "colab_type": "code",
    "id": "kXCK1rHRRMU-"
   },
   "outputs": [],
   "source": [
    "def clean_text(text):\n",
    "    '''Clean text by removing unnecessary characters and altering the format of words.'''\n",
    "\n",
    "    text = text.lower()\n",
    "    \n",
    "    text = re.sub(r\"i'm\", \"i am\", text)\n",
    "    text = re.sub(r\"he's\", \"he is\", text)\n",
    "    text = re.sub(r\"she's\", \"she is\", text)\n",
    "    text = re.sub(r\"it's\", \"it is\", text)\n",
    "    text = re.sub(r\"that's\", \"that is\", text)\n",
    "    text = re.sub(r\"what's\", \"that is\", text)\n",
    "    text = re.sub(r\"where's\", \"where is\", text)\n",
    "    text = re.sub(r\"how's\", \"how is\", text)\n",
    "    text = re.sub(r\"\\'ll\", \" will\", text)\n",
    "    text = re.sub(r\"\\'ve\", \" have\", text)\n",
    "    text = re.sub(r\"\\'re\", \" are\", text)\n",
    "    text = re.sub(r\"\\'d\", \" would\", text)\n",
    "    text = re.sub(r\"\\'re\", \" are\", text)\n",
    "    text = re.sub(r\"won't\", \"will not\", text)\n",
    "    text = re.sub(r\"can't\", \"cannot\", text)\n",
    "    text = re.sub(r\"n't\", \" not\", text)\n",
    "    text = re.sub(r\"n'\", \"ng\", text)\n",
    "    text = re.sub(r\"'bout\", \"about\", text)\n",
    "    text = re.sub(r\"'til\", \"until\", text)\n",
    "    text = re.sub(r\"[-()\\\"#/@;:<>{}`+=~|.!?,]\", \"\", text)\n",
    "    \n",
    "    return text"
   ]
  },
  {
   "cell_type": "markdown",
   "metadata": {
    "colab_type": "text",
    "id": "iv5ggyQhRMVF"
   },
   "source": [
    "### 2-1. Clean Text"
   ]
  },
  {
   "cell_type": "code",
   "execution_count": 0,
   "metadata": {
    "colab": {},
    "colab_type": "code",
    "id": "5WG930lmRMVH"
   },
   "outputs": [],
   "source": [
    "tidy_target = []\n",
    "for conve in target:\n",
    "    text = clean_text(conve)\n",
    "    tidy_target.append(text)"
   ]
  },
  {
   "cell_type": "code",
   "execution_count": 22,
   "metadata": {
    "colab": {
     "base_uri": "https://localhost:8080/",
     "height": 357
    },
    "colab_type": "code",
    "id": "lil1q_dlRMVK",
    "outputId": "c9b3559d-ea48-4105-88ed-e99d911b02e6"
   },
   "outputs": [
    {
     "data": {
      "text/plain": [
       "['no',\n",
       " 'it says here you exposed yourself to a group of freshmen girls',\n",
       " 'with the teeth of your zipper',\n",
       " 'so they tell me',\n",
       " 'so  which dakota you from',\n",
       " 'i was kidding people actually live there',\n",
       " 'how many people were in your old school',\n",
       " 'get out',\n",
       " 'couple thousand most of them evil',\n",
       " 'yeah but these guys have never seen a horse  they just jack off to clint eastwood',\n",
       " 'you burn you pine you perish',\n",
       " 'bianca stratford  sophomore do not even think about it',\n",
       " 'i could start with your haircut but it does not matter  she is not allowed to date until her older sister does  and that is an impossibility',\n",
       " 'expressing my opinion is not a terrorist action',\n",
       " 'i still maintain that he kicked himself in the balls  i was merely a spectator',\n",
       " 'tempestuous',\n",
       " 'patrick verona   random skid',\n",
       " 'i am sure he is completely incapable of doing anything that interesting',\n",
       " 'block e',\n",
       " 'just a little']"
      ]
     },
     "execution_count": 22,
     "metadata": {
      "tags": []
     },
     "output_type": "execute_result"
    }
   ],
   "source": [
    "tidy_target[:20]"
   ]
  },
  {
   "cell_type": "code",
   "execution_count": 0,
   "metadata": {
    "colab": {},
    "colab_type": "code",
    "id": "1u7QXY-TRMVN"
   },
   "outputs": [],
   "source": [
    "tidy_context = []\n",
    "for conve in context:\n",
    "    text = clean_text(conve)\n",
    "    tidy_context.append(text)"
   ]
  },
  {
   "cell_type": "code",
   "execution_count": 24,
   "metadata": {
    "colab": {
     "base_uri": "https://localhost:8080/",
     "height": 377
    },
    "colab_type": "code",
    "id": "hUfGBwOqRMVP",
    "outputId": "60e91895-6e3b-434d-e9b4-ee0b624deb80"
   },
   "outputs": [
    {
     "data": {
      "text/plain": [
       "['did you change your hair',\n",
       " 'i missed you',\n",
       " 'it was a bratwurst  i was eating lunch',\n",
       " 'you the new guy',\n",
       " \"c'mon  i am supposed to give you the tour\",\n",
       " 'north actually  how would you   ',\n",
       " 'yeah  a couple  we are outnumbered by the cows though',\n",
       " 'thirtytwo',\n",
       " 'how many people go here',\n",
       " 'that i am used to',\n",
       " 'that girl  i ',\n",
       " 'who is she',\n",
       " 'why not',\n",
       " 'katarina stratford  my my  you have been terrorizing ms blaise again',\n",
       " \"well yes compared to your other choices of expression this year today's events are quite mild  by the way bobby rictor's gonad retrieval operation went quite well in case you are interested\",\n",
       " 'the point is kat  people perceive you as somewhat ',\n",
       " \"who's that\",\n",
       " 'that is pat verona the one who was gone for a year i heard he was doing porn movies',\n",
       " 'he always look so',\n",
       " 'mandella eat  starving yourself is a very slow way to die']"
      ]
     },
     "execution_count": 24,
     "metadata": {
      "tags": []
     },
     "output_type": "execute_result"
    }
   ],
   "source": [
    "tidy_context[:20]"
   ]
  },
  {
   "cell_type": "code",
   "execution_count": 0,
   "metadata": {
    "colab": {},
    "colab_type": "code",
    "id": "TMRuuv8ZRMVX"
   },
   "outputs": [],
   "source": [
    "# decoderのinputには<BOS>と<EOS>タグ\n",
    "bos = \"<BOS> \"\n",
    "eos = \" <EOS>\"\n",
    "final_target = [bos + conve + eos for conve in tidy_target] \n",
    "encoder_inputs = tidy_context\n",
    "decoder_inputs = final_target"
   ]
  },
  {
   "cell_type": "code",
   "execution_count": 4,
   "metadata": {
    "colab": {},
    "colab_type": "code",
    "id": "Rwj5qO6-RMVS"
   },
   "outputs": [],
   "source": [
    "import codecs\n",
    "with codecs.open(\"encoder_inputs.txt\", \"rb\", encoding=\"utf-8\", errors=\"ignore\") as f:\n",
    "    lines = f.read().split(\"\\n\")\n",
    "    encoder_text = []\n",
    "    for line in lines:\n",
    "        data = line.split(\"\\n\")[0]\n",
    "        encoder_text.append(data)"
   ]
  },
  {
   "cell_type": "code",
   "execution_count": 51,
   "metadata": {},
   "outputs": [
    {
     "data": {
      "text/plain": [
       "143865"
      ]
     },
     "execution_count": 51,
     "metadata": {},
     "output_type": "execute_result"
    }
   ],
   "source": [
    "len(encoder_text)"
   ]
  },
  {
   "cell_type": "code",
   "execution_count": null,
   "metadata": {
    "colab": {},
    "colab_type": "code",
    "id": "pgjJwZnYRMVU"
   },
   "outputs": [],
   "source": [
    "encoder_text"
   ]
  },
  {
   "cell_type": "code",
   "execution_count": 6,
   "metadata": {},
   "outputs": [],
   "source": [
    "with codecs.open(\"decoder_inputs.txt\", \"rb\", encoding=\"utf-8\", errors=\"ignore\") as f:\n",
    "    lines = f.read().split(\"\\n\")\n",
    "    decoder_text = []\n",
    "    for line in lines:\n",
    "        data = line.split(\"\\n\")[0]\n",
    "        decoder_text.append(data)"
   ]
  },
  {
   "cell_type": "code",
   "execution_count": null,
   "metadata": {},
   "outputs": [],
   "source": [
    "decoder_text"
   ]
  },
  {
   "cell_type": "markdown",
   "metadata": {
    "colab_type": "text",
    "id": "UMXtB9i6RMVa"
   },
   "source": [
    "### 2-2. MAKE VOCABRALY"
   ]
  },
  {
   "cell_type": "code",
   "execution_count": 0,
   "metadata": {
    "colab": {},
    "colab_type": "code",
    "id": "BQWanckCRMVb"
   },
   "outputs": [],
   "source": [
    "# 一旦もともと辞書サイズを調べる\n",
    "dictionary = []\n",
    "for text in full_text:\n",
    "    words = text.split()\n",
    "    for i in range(0, len(words)):\n",
    "        if words[i] not in dictionary:\n",
    "            dictionary.append(words[i])"
   ]
  },
  {
   "cell_type": "code",
   "execution_count": 8,
   "metadata": {
    "colab": {},
    "colab_type": "code",
    "id": "DR7nq44URMVf",
    "scrolled": true
   },
   "outputs": [
    {
     "name": "stderr",
     "output_type": "stream",
     "text": [
      "Using TensorFlow backend.\n"
     ]
    }
   ],
   "source": [
    "from keras.preprocessing.text import Tokenizer\n",
    "VOCAB_SIZE = 14999\n",
    "tokenizer = Tokenizer(num_words=VOCAB_SIZE)"
   ]
  },
  {
   "cell_type": "code",
   "execution_count": 9,
   "metadata": {},
   "outputs": [],
   "source": [
    "full_text = encoder_text + decoder_text"
   ]
  },
  {
   "cell_type": "code",
   "execution_count": 10,
   "metadata": {
    "colab": {
     "base_uri": "https://localhost:8080/",
     "height": 34
    },
    "colab_type": "code",
    "id": "Q0RgA9ssRMVj",
    "outputId": "4ab16108-1ce4-4c32-d2f4-a9f4d7c66b80"
   },
   "outputs": [
    {
     "data": {
      "text/plain": [
       "65283"
      ]
     },
     "execution_count": 10,
     "metadata": {},
     "output_type": "execute_result"
    }
   ],
   "source": [
    "# 辞書を作る\n",
    "tokenizer.fit_on_texts(full_text)\n",
    "word_index = tokenizer.word_index\n",
    "len(word_index)"
   ]
  },
  {
   "cell_type": "code",
   "execution_count": 66,
   "metadata": {
    "colab": {},
    "colab_type": "code",
    "id": "wIT8hFwjRMVn"
   },
   "outputs": [],
   "source": [
    "# リバースした辞書を用意\n",
    "index2word = {}\n",
    "for k, v in word_index.items():\n",
    "    if v < 15000:\n",
    "        index2word[v] = k\n",
    "    if v > 15000:\n",
    "        continue"
   ]
  },
  {
   "cell_type": "code",
   "execution_count": null,
   "metadata": {},
   "outputs": [],
   "source": [
    "index2word"
   ]
  },
  {
   "cell_type": "code",
   "execution_count": 68,
   "metadata": {},
   "outputs": [],
   "source": [
    "word2index = {}\n",
    "for k, v in index2word.items():\n",
    "    word2index[v] = k"
   ]
  },
  {
   "cell_type": "code",
   "execution_count": null,
   "metadata": {},
   "outputs": [],
   "source": [
    "word2index"
   ]
  },
  {
   "cell_type": "code",
   "execution_count": 71,
   "metadata": {
    "colab": {},
    "colab_type": "code",
    "id": "Vi5Zp56PZwWy"
   },
   "outputs": [
    {
     "data": {
      "text/plain": [
       "True"
      ]
     },
     "execution_count": 71,
     "metadata": {},
     "output_type": "execute_result"
    }
   ],
   "source": [
    "len(word2index) == len(index2word)"
   ]
  },
  {
   "cell_type": "code",
   "execution_count": 70,
   "metadata": {},
   "outputs": [
    {
     "data": {
      "text/plain": [
       "14999"
      ]
     },
     "execution_count": 70,
     "metadata": {},
     "output_type": "execute_result"
    }
   ],
   "source": [
    "len(index2word)"
   ]
  },
  {
   "cell_type": "markdown",
   "metadata": {
    "colab_type": "text",
    "id": "0ErckVpJRMVp"
   },
   "source": [
    "### 2-3. ONE-HOT VECTORIZER"
   ]
  },
  {
   "cell_type": "code",
   "execution_count": 13,
   "metadata": {
    "colab": {},
    "colab_type": "code",
    "id": "Dc9GMlYdRMVq"
   },
   "outputs": [],
   "source": [
    "# 単語のシーケンスを作る np.arrayにする\n",
    "encoder_sequences = tokenizer.texts_to_sequences(encoder_text)\n",
    "# encider_sequences = np.array(encider_sequences)"
   ]
  },
  {
   "cell_type": "code",
   "execution_count": 14,
   "metadata": {
    "colab": {},
    "colab_type": "code",
    "id": "EB6wvoIFRMVs"
   },
   "outputs": [],
   "source": [
    "# デコーダーデータ\n",
    "decoder_sequences = tokenizer.texts_to_sequences(decoder_text)\n",
    "# decoder_sequences = np.array(decoder_sequences)"
   ]
  },
  {
   "cell_type": "code",
   "execution_count": null,
   "metadata": {},
   "outputs": [],
   "source": [
    "encoder_sequences"
   ]
  },
  {
   "cell_type": "code",
   "execution_count": 16,
   "metadata": {},
   "outputs": [],
   "source": [
    "for seqs in encoder_sequences:\n",
    "    for seq in seqs:\n",
    "        if seq > 14999:\n",
    "            print(seq)\n",
    "            break"
   ]
  },
  {
   "cell_type": "code",
   "execution_count": 139,
   "metadata": {},
   "outputs": [
    {
     "data": {
      "text/plain": [
       "15000"
      ]
     },
     "execution_count": 139,
     "metadata": {},
     "output_type": "execute_result"
    }
   ],
   "source": [
    "VOCAB_SIZE = len(index2word) + 1\n",
    "VOCAB_SIZE"
   ]
  },
  {
   "cell_type": "code",
   "execution_count": 53,
   "metadata": {},
   "outputs": [
    {
     "data": {
      "text/plain": [
       "(143865, 20, 15000)"
      ]
     },
     "execution_count": 53,
     "metadata": {},
     "output_type": "execute_result"
    }
   ],
   "source": [
    "decoder_output_data.shape"
   ]
  },
  {
   "cell_type": "code",
   "execution_count": null,
   "metadata": {},
   "outputs": [],
   "source": [
    "decoder_sequences"
   ]
  },
  {
   "cell_type": "code",
   "execution_count": 98,
   "metadata": {
    "colab": {},
    "colab_type": "code",
    "id": "KkUuN7EdRMVz"
   },
   "outputs": [],
   "source": [
    "import numpy as np\n",
    "MAX_LEN = 20\n",
    "num_samples = len(encoder_sequences)\n",
    "decoder_output_data = np.zeros((num_samples, MAX_LEN, VOCAB_SIZE), dtype=\"float32\")"
   ]
  },
  {
   "cell_type": "code",
   "execution_count": 130,
   "metadata": {
    "colab": {},
    "colab_type": "code",
    "id": "LTGqtHmlRMV4"
   },
   "outputs": [],
   "source": [
    "# outputの３Dテンソル\n",
    "for i, seqs in enumerate(decoder_input_data):\n",
    "    for j, seq in enumerate(seqs):\n",
    "        if j > 0:\n",
    "            decoder_output_data[i][j][seq] = 1."
   ]
  },
  {
   "cell_type": "code",
   "execution_count": 134,
   "metadata": {},
   "outputs": [
    {
     "data": {
      "text/plain": [
       "(143865, 20, 15000)"
      ]
     },
     "execution_count": 134,
     "metadata": {},
     "output_type": "execute_result"
    }
   ],
   "source": [
    "decoder_output_data.shape"
   ]
  },
  {
   "cell_type": "markdown",
   "metadata": {
    "colab_type": "text",
    "id": "VXYJEes1RMV9"
   },
   "source": [
    "### 2-4. PADDING"
   ]
  },
  {
   "cell_type": "code",
   "execution_count": 128,
   "metadata": {
    "colab": {
     "base_uri": "https://localhost:8080/",
     "height": 215
    },
    "colab_type": "code",
    "id": "d_qBdh0eRMV-",
    "outputId": "fcfb794d-4945-4d18-f1ec-5c4e42712bbb"
   },
   "outputs": [],
   "source": [
    "from keras.preprocessing.sequence import pad_sequences\n",
    "encoder_input_data = pad_sequences(encoder_sequences, maxlen=MAX_LEN, dtype='int32', padding='post', truncating='post')\n",
    "decoder_input_data = pad_sequences(decoder_sequences, maxlen=MAX_LEN, dtype='int32', padding='post', truncating='post')"
   ]
  },
  {
   "cell_type": "code",
   "execution_count": 129,
   "metadata": {},
   "outputs": [
    {
     "data": {
      "text/plain": [
       "array([ 1, 32,  2,  0,  0,  0,  0,  0,  0,  0,  0,  0,  0,  0,  0,  0,  0,\n",
       "        0,  0,  0], dtype=int32)"
      ]
     },
     "execution_count": 129,
     "metadata": {},
     "output_type": "execute_result"
    }
   ],
   "source": [
    "decoder_input_data[0]"
   ]
  },
  {
   "cell_type": "markdown",
   "metadata": {
    "colab_type": "text",
    "id": "1IvPATnlRMWB"
   },
   "source": [
    "### 2-5. Word2Vec: pretrained glove vector"
   ]
  },
  {
   "cell_type": "code",
   "execution_count": 57,
   "metadata": {
    "colab": {},
    "colab_type": "code",
    "id": "lbEykxwmRMWC"
   },
   "outputs": [
    {
     "name": "stdout",
     "output_type": "stream",
     "text": [
      "Glove Loded!\n"
     ]
    }
   ],
   "source": [
    "embeddings_index = {}\n",
    "with open('glove.6B.50d.txt', encoding='utf-8') as f:\n",
    "    for line in f:\n",
    "        values = line.split()\n",
    "        word = values[0]\n",
    "        coefs = np.asarray(values[1:], dtype='float32')\n",
    "        embeddings_index[word] = coefs\n",
    "    f.close()\n",
    "\n",
    "print(\"Glove Loded!\")"
   ]
  },
  {
   "cell_type": "code",
   "execution_count": 59,
   "metadata": {
    "colab": {},
    "colab_type": "code",
    "id": "HUXce9sDRMWI"
   },
   "outputs": [],
   "source": [
    "embedding_dimention = 50\n",
    "def embedding_matrix_creater(embedding_dimention, word_index):\n",
    "    embedding_matrix = np.zeros((len(word_index) + 1, embedding_dimention))\n",
    "    for word, i in word_index.items():\n",
    "        embedding_vector = embeddings_index.get(word)\n",
    "        if embedding_vector is not None:\n",
    "          # words not found in embedding index will be all-zeros.\n",
    "            embedding_matrix[i] = embedding_vector\n",
    "    return embedding_matrix"
   ]
  },
  {
   "cell_type": "code",
   "execution_count": 137,
   "metadata": {},
   "outputs": [],
   "source": [
    "embedding_matrix = embedding_matrix_creater(50, word_index=word2index)"
   ]
  },
  {
   "cell_type": "code",
   "execution_count": 140,
   "metadata": {},
   "outputs": [],
   "source": [
    "embed_layer = Embedding(input_dim=VOCAB_SIZE, output_dim=50, trainable=True,)\n",
    "embed_layer.build((None,))\n",
    "embed_layer.set_weights([embedding_matrix])"
   ]
  },
  {
   "cell_type": "markdown",
   "metadata": {
    "colab_type": "text",
    "id": "HBLzb6z0RMWM"
   },
   "source": [
    "## Step 3. Build Seq2Seq Model"
   ]
  },
  {
   "cell_type": "code",
   "execution_count": 60,
   "metadata": {
    "colab": {},
    "colab_type": "code",
    "id": "YW3imyr0RMWX"
   },
   "outputs": [],
   "source": [
    "from keras.layers import Embedding\n",
    "from keras.layers import Input, Dense, LSTM, TimeDistributed\n",
    "from keras.models import Model"
   ]
  },
  {
   "cell_type": "code",
   "execution_count": 149,
   "metadata": {},
   "outputs": [],
   "source": [
    "def seq2seq_model_builder(HIDDEN_DIM=300):\n",
    "    \n",
    "    encoder_inputs = Input(shape=(MAX_LEN, ), dtype='int32',)\n",
    "    encoder_embedding = embed_layer(encoder_inputs)\n",
    "    encoder_LSTM = LSTM(HIDDEN_DIM, return_state=True)\n",
    "    encoder_outputs, state_h, state_c = encoder_LSTM(encoder_embedding)\n",
    "    \n",
    "    decoder_inputs = Input(shape=(MAX_LEN, ), dtype='int32',)\n",
    "    decoder_embedding = embed_layer(decoder_inputs)\n",
    "    decoder_LSTM = LSTM(HIDDEN_DIM, return_state=True, return_sequences=True)\n",
    "    decoder_outputs, _, _ = decoder_LSTM(decoder_embedding, initial_state=[state_h, state_c])\n",
    "    \n",
    "    # dense_layer = Dense(VOCAB_SIZE, activation='softmax')\n",
    "    outputs = TimeDistributed(Dense(VOCAB_SIZE, activation='softmax'))(decoder_outputs)\n",
    "    model = Model([encoder_inputs, decoder_inputs], outputs)\n",
    "    \n",
    "    return model"
   ]
  },
  {
   "cell_type": "code",
   "execution_count": 150,
   "metadata": {},
   "outputs": [],
   "source": [
    "model = seq2seq_model_builder(HIDDEN_DIM=300)"
   ]
  },
  {
   "cell_type": "code",
   "execution_count": 151,
   "metadata": {},
   "outputs": [
    {
     "name": "stdout",
     "output_type": "stream",
     "text": [
      "__________________________________________________________________________________________________\n",
      "Layer (type)                    Output Shape         Param #     Connected to                     \n",
      "==================================================================================================\n",
      "input_10 (InputLayer)           (None, 20)           0                                            \n",
      "__________________________________________________________________________________________________\n",
      "input_9 (InputLayer)            (None, 20)           0                                            \n",
      "__________________________________________________________________________________________________\n",
      "embedding_3 (Embedding)         (None, 20, 50)       750000      input_9[0][0]                    \n",
      "                                                                 input_10[0][0]                   \n",
      "__________________________________________________________________________________________________\n",
      "lstm_11 (LSTM)                  [(None, 300), (None, 421200      embedding_3[8][0]                \n",
      "__________________________________________________________________________________________________\n",
      "lstm_12 (LSTM)                  [(None, 20, 300), (N 421200      embedding_3[9][0]                \n",
      "                                                                 lstm_11[0][1]                    \n",
      "                                                                 lstm_11[0][2]                    \n",
      "__________________________________________________________________________________________________\n",
      "time_distributed_4 (TimeDistrib (None, 20, 15000)    4515000     lstm_12[0][0]                    \n",
      "==================================================================================================\n",
      "Total params: 6,107,400\n",
      "Trainable params: 6,107,400\n",
      "Non-trainable params: 0\n",
      "__________________________________________________________________________________________________\n"
     ]
    }
   ],
   "source": [
    "model.summary()"
   ]
  },
  {
   "cell_type": "code",
   "execution_count": 155,
   "metadata": {},
   "outputs": [
    {
     "data": {
      "text/plain": [
       "'/Users/akr712/Desktop/CHATBOT'"
      ]
     },
     "execution_count": 155,
     "metadata": {},
     "output_type": "execute_result"
    }
   ],
   "source": [
    "pwd"
   ]
  },
  {
   "cell_type": "code",
   "execution_count": null,
   "metadata": {},
   "outputs": [],
   "source": [
    "from keras.utils import plot_model\n",
    "plot_model(model, to_file='/Users/akr712/Desktop/CHATBOT/seq2seq.png')"
   ]
  },
  {
   "cell_type": "code",
   "execution_count": 154,
   "metadata": {
    "colab": {},
    "colab_type": "code",
    "id": "rIFru1mFRMWd"
   },
   "outputs": [],
   "source": [
    "model.compile(optimizer='adam', loss ='categorical_crossentropy', metrics = ['accuracy'])"
   ]
  },
  {
   "cell_type": "markdown",
   "metadata": {
    "colab_type": "text",
    "id": "g8jouTFzRMWh"
   },
   "source": [
    "## Step 4. Training Model"
   ]
  },
  {
   "cell_type": "code",
   "execution_count": 164,
   "metadata": {},
   "outputs": [],
   "source": [
    "BATCH_SIZE = 32\n",
    "EPOCHS = 5"
   ]
  },
  {
   "cell_type": "code",
   "execution_count": 163,
   "metadata": {
    "colab": {},
    "colab_type": "code",
    "id": "qGVVQvhFRMWq"
   },
   "outputs": [
    {
     "data": {
      "text/plain": [
       "(143865, 20)"
      ]
     },
     "execution_count": 163,
     "metadata": {},
     "output_type": "execute_result"
    }
   ],
   "source": [
    "encoder_input_data.shape"
   ]
  },
  {
   "cell_type": "code",
   "execution_count": 165,
   "metadata": {
    "colab": {},
    "colab_type": "code",
    "id": "p4i_CsA4RMWk"
   },
   "outputs": [
    {
     "name": "stdout",
     "output_type": "stream",
     "text": [
      "Epoch 1/5\n",
      "143865/143865 [==============================] - 5913s 41ms/step - loss: 0.9308 - acc: 0.8280\n",
      "Epoch 2/5\n",
      "143865/143865 [==============================] - 5848s 41ms/step - loss: 0.0447 - acc: 0.9449\n",
      "Epoch 3/5\n",
      "143865/143865 [==============================] - 5494s 38ms/step - loss: 0.0052 - acc: 0.9493\n",
      "Epoch 4/5\n",
      "143865/143865 [==============================] - 5753s 40ms/step - loss: 0.0016 - acc: 0.9498\n",
      "Epoch 5/5\n",
      "143865/143865 [==============================] - 4970s 35ms/step - loss: 8.2432e-04 - acc: 0.9499\n"
     ]
    }
   ],
   "source": [
    "history = model.fit([encoder_input_data, decoder_input_data], \n",
    "                     decoder_output_data, \n",
    "                     epochs=EPOCHS, \n",
    "                     batch_size=BATCH_SIZE)"
   ]
  },
  {
   "cell_type": "markdown",
   "metadata": {},
   "source": [
    "#### Visualize Learning History"
   ]
  },
  {
   "cell_type": "code",
   "execution_count": 183,
   "metadata": {
    "colab": {},
    "colab_type": "code",
    "id": "Mj9pi9UGRMWn"
   },
   "outputs": [
    {
     "data": {
      "image/png": "[encoded data removed]",
      "text/plain": [
       "<Figure size 720x432 with 1 Axes>"
      ]
     },
     "metadata": {
      "needs_background": "light"
     },
     "output_type": "display_data"
    }
   ],
   "source": [
    "# 正確性の可視化\n",
    "import matplotlib.pyplot as plt\n",
    "%matplotlib inline\n",
    "\n",
    "plt.figure(figsize=(10, 6))\n",
    "plt.plot(history.history['acc'])\n",
    "#plt.plot(history.history['val_acc'])\n",
    "plt.title('model accuracy')\n",
    "plt.ylabel('accuracy')\n",
    "plt.xlabel('epoch')\n",
    "# plt.legend(['train', 'test'], loc='upper left')\n",
    "plt.show()"
   ]
  },
  {
   "cell_type": "code",
   "execution_count": 184,
   "metadata": {},
   "outputs": [
    {
     "data": {
      "image/png": "[encoded data removed]",
      "text/plain": [
       "<Figure size 720x432 with 1 Axes>"
      ]
     },
     "metadata": {
      "needs_background": "light"
     },
     "output_type": "display_data"
    }
   ],
   "source": [
    "# 損失関数の可視化\n",
    "plt.figure(figsize=(10, 6))\n",
    "plt.plot(history.history['loss'])\n",
    "# plt.plot(history.history['val_loss'])\n",
    "plt.title('model loss')\n",
    "plt.ylabel('loss')\n",
    "plt.xlabel('epoch')\n",
    "# plt.legend(['train', 'test'], loc='upper left')\n",
    "plt.show()"
   ]
  },
  {
   "cell_type": "code",
   "execution_count": null,
   "metadata": {},
   "outputs": [],
   "source": [
    "# モデルの読み込み\n",
    "with open('seq2seq.json',\"w\").write(model.to_json())\n",
    "\n",
    "# 重みの読み込み\n",
    "model.load_weights('seq2seq.h5')\n",
    "print(\"Saved Model!\")"
   ]
  },
  {
   "cell_type": "code",
   "execution_count": 187,
   "metadata": {
    "colab": {},
    "colab_type": "code",
    "id": "4nigsv81RMXA"
   },
   "outputs": [
    {
     "name": "stdout",
     "output_type": "stream",
     "text": [
      "Saved Model!\n"
     ]
    }
   ],
   "source": [
    "# 重みを保存する\n",
    "model_json = model.to_json()\n",
    "with open(\"model.json\", \"w\") as json_file:\n",
    "    json_file.write(model_json)\n",
    "\n",
    "model.save_weights(\"chatbot_model.h5\")\n",
    "print(\"Saved Model!\")"
   ]
  },
  {
   "cell_type": "code",
   "execution_count": 191,
   "metadata": {},
   "outputs": [],
   "source": [
    "json_string = model.to_json()\n",
    "open('seq2seq.json', 'w').write(json_string)\n",
    "model.save_weights('seq2seq_weights.h5')"
   ]
  },
  {
   "cell_type": "code",
   "execution_count": 192,
   "metadata": {},
   "outputs": [
    {
     "name": "stdout",
     "output_type": "stream",
     "text": [
      "1_0306_chatobot3.ipynb        glove.6B.50d.txt\r\n",
      "1_0306_chatobot4.ipynb        model.json\r\n",
      "apple_orange_model.json       movie_lines.txt\r\n",
      "apple_orange_weights.h5       padded_decoder_sequences.txt\r\n",
      "chatbot_model.h5              padded_encoder_sequences.txt\r\n",
      "decoder_inputs.txt            seq2seq.json\r\n",
      "encoder_inputs.txt            seq2seq_weights.h5\r\n"
     ]
    }
   ],
   "source": [
    "%ls"
   ]
  },
  {
   "cell_type": "code",
   "execution_count": 190,
   "metadata": {},
   "outputs": [
    {
     "data": {
      "text/plain": [
       "'/Users/akr712/Desktop/CHATBOT'"
      ]
     },
     "execution_count": 190,
     "metadata": {},
     "output_type": "execute_result"
    }
   ],
   "source": [
    "pwd"
   ]
  }
 ],
 "metadata": {
  "colab": {
   "name": "1. 0306_chatobot3.ipynb",
   "provenance": [],
   "version": "0.3.2"
  },
  "kernelspec": {
   "display_name": "Python 3",
   "language": "python",
   "name": "python3"
  },
  "language_info": {
   "codemirror_mode": {
    "name": "ipython",
    "version": 3
   },
   "file_extension": ".py",
   "mimetype": "text/x-python",
   "name": "python",
   "nbconvert_exporter": "python",
   "pygments_lexer": "ipython3",
   "version": "3.6.8"
  }
 },
 "nbformat": 4,
 "nbformat_minor": 1
}
