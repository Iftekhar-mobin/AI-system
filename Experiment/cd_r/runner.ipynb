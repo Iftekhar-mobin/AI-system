{
 "cells": [
  {
   "cell_type": "code",
   "execution_count": 9,
   "metadata": {},
   "outputs": [],
   "source": [
    "import sys\n",
    "sys.path.insert(0, '/home/iftekhar/AI-system/Experiment/cd_r')"
   ]
  },
  {
   "cell_type": "code",
   "execution_count": 13,
   "metadata": {},
   "outputs": [],
   "source": [
    "from retriever_sklearn import BM25Retriever\n",
    "    \n",
    "retriever = BM25Retriever(max_df=0.85)\n"
   ]
  },
  {
   "cell_type": "code",
   "execution_count": 14,
   "metadata": {},
   "outputs": [
    {
     "data": {
      "text/html": [
       "<div>\n",
       "<style scoped>\n",
       "    .dataframe tbody tr th:only-of-type {\n",
       "        vertical-align: middle;\n",
       "    }\n",
       "\n",
       "    .dataframe tbody tr th {\n",
       "        vertical-align: top;\n",
       "    }\n",
       "\n",
       "    .dataframe thead th {\n",
       "        text-align: right;\n",
       "    }\n",
       "</style>\n",
       "<table border=\"1\" class=\"dataframe\">\n",
       "  <thead>\n",
       "    <tr style=\"text-align: right;\">\n",
       "      <th></th>\n",
       "      <th>Unnamed: 0</th>\n",
       "      <th>Unnamed: 0.1</th>\n",
       "      <th>Article</th>\n",
       "      <th>Summary</th>\n",
       "      <th>PageID</th>\n",
       "      <th>content</th>\n",
       "    </tr>\n",
       "  </thead>\n",
       "  <tbody>\n",
       "    <tr>\n",
       "      <th>0</th>\n",
       "      <td>0</td>\n",
       "      <td>0</td>\n",
       "      <td>カスタマイザー から サブタイトル 設定 MobiControl 設定 順序 MobiCon...</td>\n",
       "      <td>MobiControl v14 Manual – MobiControl v14 Manual</td>\n",
       "      <td>0</td>\n",
       "      <td>カスタマイザー から サブタイトル 設定 MobiControl 設定 順序 MobiCon...</td>\n",
       "    </tr>\n",
       "    <tr>\n",
       "      <th>1</th>\n",
       "      <td>1</td>\n",
       "      <td>1</td>\n",
       "      <td>MobiControl v Manual Apple 製品 MobiControl 管理 i...</td>\n",
       "      <td>Apple製品 – MobiControl v14 Manual ios overall</td>\n",
       "      <td>1</td>\n",
       "      <td>MobiControl v Manual Apple 製品 MobiControl 管理 i...</td>\n",
       "    </tr>\n",
       "    <tr>\n",
       "      <th>2</th>\n",
       "      <td>2</td>\n",
       "      <td>2</td>\n",
       "      <td>MobiControl v Manual Android 設定 モード A MobiCont...</td>\n",
       "      <td>Android端末 – MobiControl v14 Manual plus overall</td>\n",
       "      <td>2</td>\n",
       "      <td>MobiControl v Manual Android 設定 モード A MobiCont...</td>\n",
       "    </tr>\n",
       "    <tr>\n",
       "      <th>3</th>\n",
       "      <td>3</td>\n",
       "      <td>3</td>\n",
       "      <td>MobiControl v Manual Windows PC 根本 セキュリティ 対策 リ...</td>\n",
       "      <td>Windows PC – MobiControl v14 Manual wpc overall</td>\n",
       "      <td>3</td>\n",
       "      <td>MobiControl v Manual Windows PC 根本 セキュリティ 対策 リ...</td>\n",
       "    </tr>\n",
       "    <tr>\n",
       "      <th>4</th>\n",
       "      <td>4</td>\n",
       "      <td>4</td>\n",
       "      <td>MobiControl v Manual Windows Embedded 端末 Windo...</td>\n",
       "      <td>Windows Embedded – MobiControl v14 Manual wm o...</td>\n",
       "      <td>4</td>\n",
       "      <td>MobiControl v Manual Windows Embedded 端末 Windo...</td>\n",
       "    </tr>\n",
       "  </tbody>\n",
       "</table>\n",
       "</div>"
      ],
      "text/plain": [
       "   Unnamed: 0  Unnamed: 0.1  \\\n",
       "0           0             0   \n",
       "1           1             1   \n",
       "2           2             2   \n",
       "3           3             3   \n",
       "4           4             4   \n",
       "\n",
       "                                             Article  \\\n",
       "0  カスタマイザー から サブタイトル 設定 MobiControl 設定 順序 MobiCon...   \n",
       "1  MobiControl v Manual Apple 製品 MobiControl 管理 i...   \n",
       "2  MobiControl v Manual Android 設定 モード A MobiCont...   \n",
       "3  MobiControl v Manual Windows PC 根本 セキュリティ 対策 リ...   \n",
       "4  MobiControl v Manual Windows Embedded 端末 Windo...   \n",
       "\n",
       "                                             Summary  PageID  \\\n",
       "0   MobiControl v14 Manual – MobiControl v14 Manual        0   \n",
       "1      Apple製品 – MobiControl v14 Manual ios overall        1   \n",
       "2   Android端末 – MobiControl v14 Manual plus overall        2   \n",
       "3   Windows PC – MobiControl v14 Manual wpc overall        3   \n",
       "4  Windows Embedded – MobiControl v14 Manual wm o...       4   \n",
       "\n",
       "                                             content  \n",
       "0  カスタマイザー から サブタイトル 設定 MobiControl 設定 順序 MobiCon...  \n",
       "1  MobiControl v Manual Apple 製品 MobiControl 管理 i...  \n",
       "2  MobiControl v Manual Android 設定 モード A MobiCont...  \n",
       "3  MobiControl v Manual Windows PC 根本 セキュリティ 対策 リ...  \n",
       "4  MobiControl v Manual Windows Embedded 端末 Windo...  "
      ]
     },
     "execution_count": 14,
     "metadata": {},
     "output_type": "execute_result"
    }
   ],
   "source": [
    "import pandas as pd\n",
    "df = pd.read_csv('/home/iftekhar/AI-system/Helpers/Title_link_merged_corpus.csv')\n",
    "\n",
    "df['content'] = df.Article\n",
    "df.head()\n"
   ]
  },
  {
   "cell_type": "code",
   "execution_count": 15,
   "metadata": {},
   "outputs": [
    {
     "data": {
      "text/plain": [
       "BM25Retriever(b=0.9, floor=None, k1=3, lowercase=True, max_df=0.85, min_df=1,\n",
       "              ngram_range=(1, 1), preprocessor=None, stop_words='english',\n",
       "              token_pattern='(?u)\\\\b\\\\w\\\\w+\\\\b', tokenizer=None, top_n=25,\n",
       "              verbose=False, vocabulary=None)"
      ]
     },
     "execution_count": 15,
     "metadata": {},
     "output_type": "execute_result"
    }
   ],
   "source": [
    "retriever.fit(df)\n",
    "\n",
    "best_idx_scores = retriever.predict(query='VPP')\n",
    "best_idx_scores"
   ]
  },
  {
   "cell_type": "code",
   "execution_count": 19,
   "metadata": {},
   "outputs": [
    {
     "data": {
      "text/html": [
       "<div>\n",
       "<style scoped>\n",
       "    .dataframe tbody tr th:only-of-type {\n",
       "        vertical-align: middle;\n",
       "    }\n",
       "\n",
       "    .dataframe tbody tr th {\n",
       "        vertical-align: top;\n",
       "    }\n",
       "\n",
       "    .dataframe thead th {\n",
       "        text-align: right;\n",
       "    }\n",
       "</style>\n",
       "<table border=\"1\" class=\"dataframe\">\n",
       "  <thead>\n",
       "    <tr style=\"text-align: right;\">\n",
       "      <th></th>\n",
       "      <th>Unnamed: 0</th>\n",
       "      <th>Unnamed: 0.1</th>\n",
       "      <th>Article</th>\n",
       "      <th>Summary</th>\n",
       "      <th>PageID</th>\n",
       "      <th>content</th>\n",
       "    </tr>\n",
       "  </thead>\n",
       "  <tbody>\n",
       "    <tr>\n",
       "      <th>440</th>\n",
       "      <td>440</td>\n",
       "      <td>440</td>\n",
       "      <td>MobiControl v Manual MobiControl SDK iOS MobiC...</td>\n",
       "      <td>SDK for iOS – MobiControl v14 Manual SDK for iOS</td>\n",
       "      <td>440</td>\n",
       "      <td>MobiControl v Manual MobiControl SDK iOS MobiC...</td>\n",
       "    </tr>\n",
       "    <tr>\n",
       "      <th>441</th>\n",
       "      <td>441</td>\n",
       "      <td>441</td>\n",
       "      <td>MobiControl v Manual MobiControl パッケージ スタジオ 概要...</td>\n",
       "      <td>パッケージ・スタジオ – MobiControl v14 Manual PSOverview</td>\n",
       "      <td>441</td>\n",
       "      <td>MobiControl v Manual MobiControl パッケージ スタジオ 概要...</td>\n",
       "    </tr>\n",
       "    <tr>\n",
       "      <th>442</th>\n",
       "      <td>442</td>\n",
       "      <td>442</td>\n",
       "      <td>MobiControl v Manual セルフサービスポータル 端末 ユーザ ご 自身 紛...</td>\n",
       "      <td>セルフサービスポータル – MobiControl v14 Manual SelfServi...</td>\n",
       "      <td>442</td>\n",
       "      <td>MobiControl v Manual セルフサービスポータル 端末 ユーザ ご 自身 紛...</td>\n",
       "    </tr>\n",
       "    <tr>\n",
       "      <th>443</th>\n",
       "      <td>443</td>\n",
       "      <td>443</td>\n",
       "      <td>MobiControl v Manual MS Exchange ActiveSync アク...</td>\n",
       "      <td>Exchangeへの不法アクセス防止 – MobiControl v14 Manual Se...</td>\n",
       "      <td>443</td>\n",
       "      <td>MobiControl v Manual MS Exchange ActiveSync アク...</td>\n",
       "    </tr>\n",
       "    <tr>\n",
       "      <th>444</th>\n",
       "      <td>444</td>\n",
       "      <td>444</td>\n",
       "      <td>MobiControl v Manual 端末 OS 共通 設定 項目 MobiContro...</td>\n",
       "      <td>端末OS共通の設定項目 – MobiControl v14 Manual CommonSet...</td>\n",
       "      <td>444</td>\n",
       "      <td>MobiControl v Manual 端末 OS 共通 設定 項目 MobiContro...</td>\n",
       "    </tr>\n",
       "  </tbody>\n",
       "</table>\n",
       "</div>"
      ],
      "text/plain": [
       "     Unnamed: 0  Unnamed: 0.1  \\\n",
       "440         440           440   \n",
       "441         441           441   \n",
       "442         442           442   \n",
       "443         443           443   \n",
       "444         444           444   \n",
       "\n",
       "                                               Article  \\\n",
       "440  MobiControl v Manual MobiControl SDK iOS MobiC...   \n",
       "441  MobiControl v Manual MobiControl パッケージ スタジオ 概要...   \n",
       "442  MobiControl v Manual セルフサービスポータル 端末 ユーザ ご 自身 紛...   \n",
       "443  MobiControl v Manual MS Exchange ActiveSync アク...   \n",
       "444  MobiControl v Manual 端末 OS 共通 設定 項目 MobiContro...   \n",
       "\n",
       "                                               Summary  PageID  \\\n",
       "440  SDK for iOS – MobiControl v14 Manual SDK for iOS      440   \n",
       "441    パッケージ・スタジオ – MobiControl v14 Manual PSOverview      441   \n",
       "442  セルフサービスポータル – MobiControl v14 Manual SelfServi...     442   \n",
       "443  Exchangeへの不法アクセス防止 – MobiControl v14 Manual Se...     443   \n",
       "444  端末OS共通の設定項目 – MobiControl v14 Manual CommonSet...     444   \n",
       "\n",
       "                                               content  \n",
       "440  MobiControl v Manual MobiControl SDK iOS MobiC...  \n",
       "441  MobiControl v Manual MobiControl パッケージ スタジオ 概要...  \n",
       "442  MobiControl v Manual セルフサービスポータル 端末 ユーザ ご 自身 紛...  \n",
       "443  MobiControl v Manual MS Exchange ActiveSync アク...  \n",
       "444  MobiControl v Manual 端末 OS 共通 設定 項目 MobiContro...  "
      ]
     },
     "execution_count": 19,
     "metadata": {},
     "output_type": "execute_result"
    }
   ],
   "source": [
    "df.tail()"
   ]
  },
  {
   "cell_type": "code",
   "execution_count": 23,
   "metadata": {},
   "outputs": [],
   "source": [
    "import ast\n",
    "from os import path\n",
    "\n",
    "def loading_processed_data(CORPUS_DIR, NLU_DICT):\n",
    "    file = open(path.join(CORPUS_DIR, NLU_DICT), \"r\")\n",
    "    contents = file.read()\n",
    "    corpus_dict = ast.literal_eval(contents)\n",
    "    file.close()\n",
    "    return corpus_dict"
   ]
  },
  {
   "cell_type": "code",
   "execution_count": 24,
   "metadata": {},
   "outputs": [],
   "source": [
    "nlu_dict = loading_processed_data('/home/iftekhar/AI-system/Experiment/data', 'nlu_dict.json')"
   ]
  },
  {
   "cell_type": "code",
   "execution_count": 25,
   "metadata": {},
   "outputs": [
    {
     "data": {
      "text/plain": [
       "dict_keys(['priceInfo', 'affirm', 'ask_builder', 'ask_howbuilt', 'ask_howdoing', 'ask_howold', 'ask_isbot', 'ask_languagesbot', 'ask_question_in_forum', 'ask_time', 'ask_whatisamie', 'ask_whatspossible', 'ask_wherefrom', 'ask_whoami', 'ask_whoisit', 'bye', 'canthelp', 'contact_staffs', 'deny', 'explain', 'good_work', 'greet', 'how_to_get_started', 'thank', 'handleinsult', 'praise', 'synonym:intent classification', 'synonym:entity recognition'])"
      ]
     },
     "execution_count": 25,
     "metadata": {},
     "output_type": "execute_result"
    }
   ],
   "source": [
    "nlu_dict.keys()"
   ]
  },
  {
   "cell_type": "code",
   "execution_count": 43,
   "metadata": {},
   "outputs": [],
   "source": [
    "last_index = len(df)-1"
   ]
  },
  {
   "cell_type": "code",
   "execution_count": 44,
   "metadata": {},
   "outputs": [],
   "source": [
    "collector = {}\n",
    "reply = []\n",
    "for keys, items in nlu_dict.items():\n",
    "    last_index += 1\n",
    "    collector[last_index] = ' '.join(items)\n",
    "    reply.append([last_index, keys])\n",
    "    "
   ]
  },
  {
   "cell_type": "code",
   "execution_count": 50,
   "metadata": {},
   "outputs": [],
   "source": [
    "intent = pd.DataFrame(collector.values(), index=collector.keys(), columns=['content'])"
   ]
  },
  {
   "cell_type": "code",
   "execution_count": 52,
   "metadata": {},
   "outputs": [],
   "source": [
    "merged = df.append(intent, sort=False)"
   ]
  },
  {
   "cell_type": "code",
   "execution_count": 53,
   "metadata": {},
   "outputs": [
    {
     "data": {
      "text/html": [
       "<div>\n",
       "<style scoped>\n",
       "    .dataframe tbody tr th:only-of-type {\n",
       "        vertical-align: middle;\n",
       "    }\n",
       "\n",
       "    .dataframe tbody tr th {\n",
       "        vertical-align: top;\n",
       "    }\n",
       "\n",
       "    .dataframe thead th {\n",
       "        text-align: right;\n",
       "    }\n",
       "</style>\n",
       "<table border=\"1\" class=\"dataframe\">\n",
       "  <thead>\n",
       "    <tr style=\"text-align: right;\">\n",
       "      <th></th>\n",
       "      <th>Unnamed: 0</th>\n",
       "      <th>Unnamed: 0.1</th>\n",
       "      <th>Article</th>\n",
       "      <th>Summary</th>\n",
       "      <th>PageID</th>\n",
       "      <th>content</th>\n",
       "    </tr>\n",
       "  </thead>\n",
       "  <tbody>\n",
       "    <tr>\n",
       "      <th>468</th>\n",
       "      <td>NaN</td>\n",
       "      <td>NaN</td>\n",
       "      <td>NaN</td>\n",
       "      <td>NaN</td>\n",
       "      <td>NaN</td>\n",
       "      <td>thanks thank thank much thanks bot thanks chee...</td>\n",
       "    </tr>\n",
       "    <tr>\n",
       "      <th>469</th>\n",
       "      <td>NaN</td>\n",
       "      <td>NaN</td>\n",
       "      <td>NaN</td>\n",
       "      <td>NaN</td>\n",
       "      <td>NaN</td>\n",
       "      <td>stupid silly idiot foolish dumb</td>\n",
       "    </tr>\n",
       "    <tr>\n",
       "      <th>470</th>\n",
       "      <td>NaN</td>\n",
       "      <td>NaN</td>\n",
       "      <td>NaN</td>\n",
       "      <td>NaN</td>\n",
       "      <td>NaN</td>\n",
       "      <td>you intelligent  you good brain  you genius  y...</td>\n",
       "    </tr>\n",
       "    <tr>\n",
       "      <th>471</th>\n",
       "      <td>NaN</td>\n",
       "      <td>NaN</td>\n",
       "      <td>NaN</td>\n",
       "      <td>NaN</td>\n",
       "      <td>NaN</td>\n",
       "      <td>intent intent</td>\n",
       "    </tr>\n",
       "    <tr>\n",
       "      <th>472</th>\n",
       "      <td>NaN</td>\n",
       "      <td>NaN</td>\n",
       "      <td>NaN</td>\n",
       "      <td>NaN</td>\n",
       "      <td>NaN</td>\n",
       "      <td>entity extraction</td>\n",
       "    </tr>\n",
       "  </tbody>\n",
       "</table>\n",
       "</div>"
      ],
      "text/plain": [
       "     Unnamed: 0  Unnamed: 0.1 Article Summary  PageID  \\\n",
       "468         NaN           NaN     NaN     NaN     NaN   \n",
       "469         NaN           NaN     NaN     NaN     NaN   \n",
       "470         NaN           NaN     NaN     NaN     NaN   \n",
       "471         NaN           NaN     NaN     NaN     NaN   \n",
       "472         NaN           NaN     NaN     NaN     NaN   \n",
       "\n",
       "                                               content  \n",
       "468  thanks thank thank much thanks bot thanks chee...  \n",
       "469                    stupid silly idiot foolish dumb  \n",
       "470  you intelligent  you good brain  you genius  y...  \n",
       "471                                      intent intent  \n",
       "472                                  entity extraction  "
      ]
     },
     "execution_count": 53,
     "metadata": {},
     "output_type": "execute_result"
    }
   ],
   "source": [
    "merged.tail()"
   ]
  },
  {
   "cell_type": "code",
   "execution_count": 54,
   "metadata": {},
   "outputs": [
    {
     "data": {
      "text/plain": [
       "OrderedDict([(445, array([21.94230768])),\n",
       "             (0, array([0.])),\n",
       "             (1, array([0.])),\n",
       "             (2, array([0.])),\n",
       "             (3, array([0.])),\n",
       "             (4, array([0.])),\n",
       "             (5, array([0.])),\n",
       "             (6, array([0.])),\n",
       "             (7, array([0.])),\n",
       "             (8, array([0.])),\n",
       "             (9, array([0.])),\n",
       "             (10, array([0.])),\n",
       "             (11, array([0.])),\n",
       "             (12, array([0.])),\n",
       "             (13, array([0.])),\n",
       "             (14, array([0.])),\n",
       "             (15, array([0.])),\n",
       "             (16, array([0.])),\n",
       "             (17, array([0.])),\n",
       "             (18, array([0.])),\n",
       "             (19, array([0.])),\n",
       "             (20, array([0.])),\n",
       "             (21, array([0.])),\n",
       "             (22, array([0.])),\n",
       "             (23, array([0.]))])"
      ]
     },
     "execution_count": 54,
     "metadata": {},
     "output_type": "execute_result"
    }
   ],
   "source": [
    "retriever.fit(merged)\n",
    "\n",
    "best_idx_scores = retriever.predict(query='please price details')\n",
    "best_idx_scores"
   ]
  }
 ],
 "metadata": {
  "kernelspec": {
   "display_name": "Python 3",
   "language": "python",
   "name": "python3"
  },
  "language_info": {
   "codemirror_mode": {
    "name": "ipython",
    "version": 3
   },
   "file_extension": ".py",
   "mimetype": "text/x-python",
   "name": "python",
   "nbconvert_exporter": "python",
   "pygments_lexer": "ipython3",
   "version": "3.6.9"
  }
 },
 "nbformat": 4,
 "nbformat_minor": 4
}
