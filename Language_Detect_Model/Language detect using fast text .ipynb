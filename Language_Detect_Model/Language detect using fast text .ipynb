{
 "cells": [
  {
   "cell_type": "code",
   "execution_count": 12,
   "metadata": {},
   "outputs": [],
   "source": [
    "import fasttext\n"
   ]
  },
  {
   "cell_type": "code",
   "execution_count": 19,
   "metadata": {},
   "outputs": [
    {
     "name": "stdout",
     "output_type": "stream",
     "text": [
      "CPU times: user 3.56 s, sys: 156 ms, total: 3.71 s\n",
      "Wall time: 3.7 s\n"
     ]
    },
    {
     "name": "stderr",
     "output_type": "stream",
     "text": [
      "\n"
     ]
    }
   ],
   "source": [
    "%%time \n",
    "model_min1_max5 = fasttext.load_model('/home/iftekhar/AI-system/Language_Detect_Model/langdetect_min1_max5.bin')\n",
    "#model_min1_max5 = fasttext.load_model('/home/iftekhar/AI-system/Language_Detect_Model/langdetect_min1_max5.ftz')\n"
   ]
  },
  {
   "cell_type": "code",
   "execution_count": 20,
   "metadata": {},
   "outputs": [
    {
     "name": "stdout",
     "output_type": "stream",
     "text": [
      "56\n"
     ]
    }
   ],
   "source": [
    "from sys import getsizeof\n",
    "print(getsizeof(model_min1_max5))"
   ]
  },
  {
   "cell_type": "code",
   "execution_count": 21,
   "metadata": {},
   "outputs": [
    {
     "name": "stdout",
     "output_type": "stream",
     "text": [
      "(('__label__ber', '__label__ile', '__label__kab', '__label__thv', '__label__cor'), array([0.78748757, 0.19076616, 0.01478161, 0.00399866, 0.0022978 ]))\n",
      "(('__label__cmn', '__label__jpn', '__label__lzh', '__label__wuu', '__label__jbo'), array([0.42245665, 0.36330348, 0.14405584, 0.03895558, 0.01402353]))\n",
      "(('__label__jpn', '__label__lzh', '__label__rus', '__label__cmn', '__label__wuu'), array([1.00000203e+00, 1.38948753e-05, 1.17459267e-05, 1.08372651e-05,\n",
      "       1.05867548e-05]))\n"
     ]
    }
   ],
   "source": [
    "eng=\"Yes\"\n",
    "traditional_chinese = '有薪假期'\n",
    "japanese=\"地方議会\"\n",
    "print(model_min1_max5.predict(eng, k=5))  \n",
    "print(model_min1_max5.predict(traditional_chinese, k=5))\n",
    "print(model_min1_max5.predict(japanese, k=5))"
   ]
  },
  {
   "cell_type": "code",
   "execution_count": 24,
   "metadata": {},
   "outputs": [
    {
     "name": "stdout",
     "output_type": "stream",
     "text": [
      "(('__label__jpn', '__label__lzh', '__label__cmn', '__label__yue', '__label__wuu'), array([1.00000942e+00, 1.03455077e-05, 1.02072372e-05, 1.00017005e-05,\n",
      "       1.00011384e-05]))\n",
      "CPU times: user 1.69 ms, sys: 0 ns, total: 1.69 ms\n",
      "Wall time: 1.62 ms\n"
     ]
    }
   ],
   "source": [
    "%%time\n",
    "print(model_min1_max5.predict(japanese, k=5))"
   ]
  },
  {
   "cell_type": "code",
   "execution_count": 2,
   "metadata": {},
   "outputs": [],
   "source": [
    "import re\n",
    "\n",
    "def clean_text(text):\n",
    "    text = re.sub(r'\\d+', '', text) \n",
    "    text = re.sub(r'[a-zA-Z]+', '', text)\n",
    "    text = re.sub(r'\\n', '', text)\n",
    "    text = re.sub(r'[ぁ-ん]', '', text)\n",
    "    text = re.sub(r'[ア-ン]', '', text)\n",
    "    text = re.sub(r'「」', '', text)\n",
    "    text = re.sub(r'・', '', text)\n",
    "    return text"
   ]
  },
  {
   "cell_type": "code",
   "execution_count": 4,
   "metadata": {},
   "outputs": [],
   "source": [
    "cleaned = []\n",
    "日制\n",
    "with open('/home/iftekhar/AI-system/Language Detect Model/processed_splitted_withoutspace.txt', 'r') as f: \n",
    "    for line in f:\n",
    "        if not line.isspace():\n",
    "            cleaned.append(clean_text(line))"
   ]
  },
  {
   "cell_type": "code",
   "execution_count": 19,
   "metadata": {},
   "outputs": [
    {
     "data": {
      "text/plain": [
       "[' ーー地方議会ー地方議会合併、ーー地方議会誕生',\n",
       " ' ーー評議会ー評議会統合、ーー 評議会設立',\n",
       " ' ー夫ーー (ーーー) 経済的安定',\n",
       " ' ー夫ーーー (ーー) 経済的安定',\n",
       " ' ー科一種']"
      ]
     },
     "execution_count": 19,
     "metadata": {},
     "output_type": "execute_result"
    }
   ],
   "source": [
    "deep_clean = []\n",
    "\n",
    "def clean(text):\n",
    "    text = re.sub(r'\\d+', '', text) \n",
    "    text = re.sub(r'「 」', '', text)\n",
    "    return text\n",
    "\n",
    "for line in cleaned:\n",
    "    if not line.isspace():\n",
    "        deep_clean.append(clean(line))\n",
    "\n",
    "deep_clean[0:5]"
   ]
  },
  {
   "cell_type": "code",
   "execution_count": 25,
   "metadata": {},
   "outputs": [],
   "source": [
    "s = \"__label__jpn \"\n",
    "my_new_list = [s + x for x in deep_clean]\n",
    "\n",
    "f=open('f1.txt','w')\n",
    "for ele in my_new_list:\n",
    "    f.write(ele+'\\n')\n",
    "\n",
    "f.close()\n",
    "\n",
    "import fasttext\n",
    "model1_old = fasttext.load_model('/home/iftekhar/AI-system/Language Detect Model/langdetect_mydataset.bin')\n",
    "model2_new = fasttext.load_model('/home/iftekhar/AI-system/Language Detect Model/langdetect.bin')\n",
    "model3_new_extended = fasttext.load_model('/home/iftekhar/AI-system/Language Detect Model/langdetect_min2.bin')"
   ]
  },
  {
   "cell_type": "code",
   "execution_count": 5,
   "metadata": {},
   "outputs": [
    {
     "name": "stdout",
     "output_type": "stream",
     "text": [
      "(('__label__eng', '__label__pms', '__label__mri', '__label__bar', '__label__cym'), array([9.98627901e-01, 3.21360247e-04, 2.10186772e-04, 9.59785611e-05,\n",
      "       9.41110411e-05]))\n",
      "(('__label__eng', '__label__ber', '__label__ile', '__label__cym', '__label__swg'), array([0.42654631, 0.19711608, 0.18867485, 0.14588346, 0.00886442]))\n",
      "(('__label__ber', '__label__eng', '__label__kab', '__label__ile', '__label__cym'), array([0.51141524, 0.4452436 , 0.02776957, 0.00720527, 0.00472691]))\n"
     ]
    }
   ],
   "source": [
    "#t= \"有給休暇、週休二日制、週休二日制の概念\"\n",
    "t=\"Yes I\"\n",
    "#t=\"有給休暇\"\n",
    "#t = '防水層'\n",
    "print(model1_old.predict(t, k=5))  \n",
    "print(model2_new.predict(t, k=5))  \n",
    "print(model3_new_extended.predict(t, k=5)) "
   ]
  },
  {
   "cell_type": "code",
   "execution_count": 3,
   "metadata": {},
   "outputs": [
    {
     "name": "stdout",
     "output_type": "stream",
     "text": [
      "(('__label__jpn', '__label__cmn', '__label__wuu', '__label__yue', '__label__lzh'), array([9.98516977e-01, 1.49845856e-03, 1.17835916e-05, 1.13944589e-05,\n",
      "       1.08890126e-05]))\n",
      "(('__label__cmn', '__label__lzh', '__label__wuu', '__label__ben', '__label__yue'), array([0.89933902, 0.060191  , 0.03353246, 0.00148638, 0.00131868]))\n",
      "(('__label__cmn', '__label__jpn', '__label__lzh', '__label__tha', '__label__eus'), array([0.34475949, 0.09965256, 0.05019731, 0.04182576, 0.03504111]))\n"
     ]
    }
   ],
   "source": [
    "sim_chinese = '有薪假期，一周两天，一周两天'\n",
    "print(model1_old.predict(sim_chinese, k=5))  \n",
    "print(model2_new.predict(sim_chinese, k=5))  \n",
    "print(model3_new_extended.predict(sim_chinese, k=5)) "
   ]
  },
  {
   "cell_type": "code",
   "execution_count": 4,
   "metadata": {},
   "outputs": [
    {
     "name": "stdout",
     "output_type": "stream",
     "text": [
      "(('__label__jpn', '__label__cmn', '__label__wuu', '__label__yue', '__label__lzh'), array([9.98516977e-01, 1.49845856e-03, 1.17835916e-05, 1.13944589e-05,\n",
      "       1.08890126e-05]))\n",
      "(('__label__cmn', '__label__lzh', '__label__wuu', '__label__yue', '__label__kor'), array([0.80557799, 0.14231391, 0.03649312, 0.00468151, 0.0023581 ]))\n",
      "(('__label__cmn', '__label__lzh', '__label__jpn', '__label__tha', '__label__wuu'), array([0.33690766, 0.08904406, 0.08760452, 0.05642204, 0.04475663]))\n"
     ]
    }
   ],
   "source": [
    "traditional_chinese = '有薪假期，一周兩天，一周兩天'\n",
    "print(model1_old.predict(traditional_chinese, k=5))  \n",
    "print(model2_new.predict(traditional_chinese, k=5))  \n",
    "print(model3_new_extended.predict(traditional_chinese, k=5)) "
   ]
  },
  {
   "cell_type": "code",
   "execution_count": null,
   "metadata": {},
   "outputs": [],
   "source": []
  }
 ],
 "metadata": {
  "kernelspec": {
   "display_name": "Python 3",
   "language": "python",
   "name": "python3"
  },
  "language_info": {
   "codemirror_mode": {
    "name": "ipython",
    "version": 3
   },
   "file_extension": ".py",
   "mimetype": "text/x-python",
   "name": "python",
   "nbconvert_exporter": "python",
   "pygments_lexer": "ipython3",
   "version": "3.6.9"
  }
 },
 "nbformat": 4,
 "nbformat_minor": 4
}
