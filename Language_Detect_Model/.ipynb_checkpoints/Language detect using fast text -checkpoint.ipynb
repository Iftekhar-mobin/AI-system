{
 "cells": [
  {
   "cell_type": "code",
   "execution_count": null,
   "metadata": {},
   "outputs": [],
   "source": [
    "f = open(@)"
   ]
  },
  {
   "cell_type": "code",
   "execution_count": 12,
   "metadata": {},
   "outputs": [
    {
     "name": "stderr",
     "output_type": "stream",
     "text": [
      "\n"
     ]
    }
   ],
   "source": [
    "import fasttext\n",
    "model = fasttext.load_model('/home/iftekhar/amiebot/Myworkplace/langdetect.bin')"
   ]
  },
  {
   "cell_type": "code",
   "execution_count": 24,
   "metadata": {},
   "outputs": [
    {
     "name": "stdout",
     "output_type": "stream",
     "text": [
      "(('__label__lzh', '__label__jpn', '__label__cmn', '__label__yue', '__label__wuu'), array([0.14613131, 0.14101475, 0.14010416, 0.08763195, 0.05973336]))\n"
     ]
    }
   ],
   "source": [
    "text = \"新 あたら しい 記事 きじ を 書 か こうという 気持 きも ちになるまで 長 なが い 時間 じかん が\"\n",
    "#t= \"有給休暇、週休二日制、週休二日制の概念\"\n",
    "t=\"有給休暇、週休二日制、週休\"\n",
    "print(model.predict(t, k=5))  # top 2 matching languages"
   ]
  },
  {
   "cell_type": "code",
   "execution_count": null,
   "metadata": {},
   "outputs": [],
   "source": [
    "def trainWithParameters(minn, maxn)\n",
    "    ./fasttext supervised -input train.txt -output langdetect -dim 16 -minn 2 -maxn 4\n",
    "    "
   ]
  }
 ],
 "metadata": {
  "kernelspec": {
   "display_name": "Python 3",
   "language": "python",
   "name": "python3"
  },
  "language_info": {
   "codemirror_mode": {
    "name": "ipython",
    "version": 3
   },
   "file_extension": ".py",
   "mimetype": "text/x-python",
   "name": "python",
   "nbconvert_exporter": "python",
   "pygments_lexer": "ipython3",
   "version": "3.6.9"
  }
 },
 "nbformat": 4,
 "nbformat_minor": 4
}
