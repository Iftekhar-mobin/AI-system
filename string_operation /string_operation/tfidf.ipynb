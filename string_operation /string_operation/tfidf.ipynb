{
 "cells": [
  {
   "cell_type": "code",
   "execution_count": 9,
   "metadata": {},
   "outputs": [],
   "source": [
    "import pandas as pd\n",
    "import numpy as np\n",
    "import re\n",
    "import multiprocessing\n",
    "from sklearn.feature_extraction.text import TfidfVectorizer\n",
    "from scipy.sparse.csr import csr_matrix\n",
    "from typing import Tuple, NamedTuple, List, Optional\n",
    "from sparse_dot_topn import awesome_cossim_topn\n",
    "from functools import wraps"
   ]
  },
  {
   "cell_type": "code",
   "execution_count": 57,
   "metadata": {},
   "outputs": [],
   "source": [
    "def get_top_n_match(row, n_top=5):\n",
    "    \"\"\"\n",
    "    :param row:\n",
    "    :param n_top: number of results to be determined\n",
    "    :return: list of tuples with index of the match and the cosine similarity score\n",
    "    \"\"\"\n",
    "\n",
    "    row_count = row.getnnz()\n",
    "    if row_count == 0:\n",
    "        return None\n",
    "    elif row_count <= n_top:\n",
    "        result = zip(row.indices, row.data)\n",
    "    else:\n",
    "        arg_idx = np.argpartition(row.data, -n_top)[-n_top:]\n",
    "        result = zip(row.indices[arg_idx], row.data[arg_idx])\n",
    "    return sorted(result, key=(lambda x: -x[1]))\n",
    "\n",
    "\n",
    "def match_company_name(input_name, vectorizer, comp_name_vectors, comp_name_df):\n",
    "    \"\"\"\n",
    "    :param input_name: input company name whose matches need to be found\n",
    "    :param vectorizer: TFIDF vectorizer which was initialized earlier\n",
    "    :param comp_name_vectors: the company names' vectors of the whole data set\n",
    "    :param comp_name_df: the company names dataframe\n",
    "    :return: a dataframe with top N matching names with match score\n",
    "    \"\"\"\n",
    "\n",
    "    input_name_vector = vectorizer.transform([input_name])\n",
    "    result_vector = input_name_vector.dot(comp_name_vectors.T)\n",
    "    matched_data = [get_top_n_match(row) for row in result_vector]\n",
    "    flat_matched_data = [tup for data_row in matched_data for tup in data_row]\n",
    "    lkp_idx, lkp_sim = zip(*flat_matched_data)\n",
    "    nr_matches = len(lkp_idx)\n",
    "    matched_names = np.empty([nr_matches], dtype=object)\n",
    "    sim = np.zeros(nr_matches)\n",
    "    for i in range(nr_matches):\n",
    "        matched_names[i] = comp_name_df['Que'][lkp_idx[i]]\n",
    "        sim[i] = lkp_sim[i]\n",
    "    return pd.DataFrame({\"Matching company name\": matched_names,\n",
    "                         \"Match Score (%)\": sim*100})\n",
    "  \n",
    "  # Example\n"
   ]
  },
  {
   "cell_type": "code",
   "execution_count": 2,
   "metadata": {},
   "outputs": [],
   "source": [
    "f = '/home/ifte/alechat_core/assets/dataset/general_conversation.csv'"
   ]
  },
  {
   "cell_type": "code",
   "execution_count": 59,
   "metadata": {},
   "outputs": [],
   "source": [
    "frame1 = pd.read_csv(f)"
   ]
  },
  {
   "cell_type": "code",
   "execution_count": 60,
   "metadata": {},
   "outputs": [
    {
     "data": {
      "text/plain": [
       "'Both are excellent technology they are helpful in many ways. For the security purpose both are super.'"
      ]
     },
     "execution_count": 60,
     "metadata": {},
     "output_type": "execute_result"
    }
   ],
   "source": [
    "frame1['Ans'][0]"
   ]
  },
  {
   "cell_type": "code",
   "execution_count": 23,
   "metadata": {},
   "outputs": [],
   "source": [
    "frame2 = '/home/ifte/alechat_core/assets/dataset/wiki_QA.csv'"
   ]
  },
  {
   "cell_type": "code",
   "execution_count": 24,
   "metadata": {},
   "outputs": [],
   "source": [
    "frame2 = pd.read_csv(frame2)"
   ]
  },
  {
   "cell_type": "code",
   "execution_count": 46,
   "metadata": {},
   "outputs": [],
   "source": [
    "merged = pd.concat([frame1, frame2], axis=0, ignore_index=True)"
   ]
  },
  {
   "cell_type": "code",
   "execution_count": 61,
   "metadata": {},
   "outputs": [
    {
     "data": {
      "text/html": [
       "<div>\n",
       "<style scoped>\n",
       "    .dataframe tbody tr th:only-of-type {\n",
       "        vertical-align: middle;\n",
       "    }\n",
       "\n",
       "    .dataframe tbody tr th {\n",
       "        vertical-align: top;\n",
       "    }\n",
       "\n",
       "    .dataframe thead th {\n",
       "        text-align: right;\n",
       "    }\n",
       "</style>\n",
       "<table border=\"1\" class=\"dataframe\">\n",
       "  <thead>\n",
       "    <tr style=\"text-align: right;\">\n",
       "      <th></th>\n",
       "      <th>Unnamed: 0</th>\n",
       "      <th>Que</th>\n",
       "      <th>Ans</th>\n",
       "      <th>Sent</th>\n",
       "    </tr>\n",
       "  </thead>\n",
       "  <tbody>\n",
       "    <tr>\n",
       "      <th>0</th>\n",
       "      <td>0</td>\n",
       "      <td>Are you a fan of Google or Microsoft?</td>\n",
       "      <td>Both are excellent technology they are helpful...</td>\n",
       "      <td>Curious to dive deeper</td>\n",
       "    </tr>\n",
       "    <tr>\n",
       "      <th>1</th>\n",
       "      <td>1</td>\n",
       "      <td>Both are excellent technology they are helpful...</td>\n",
       "      <td>I'm not  a huge fan of Google, but I use it a ...</td>\n",
       "      <td>Curious to dive deeper</td>\n",
       "    </tr>\n",
       "    <tr>\n",
       "      <th>2</th>\n",
       "      <td>2</td>\n",
       "      <td>I'm not  a huge fan of Google, but I use it a ...</td>\n",
       "      <td>Google provides online related services and pr...</td>\n",
       "      <td>Curious to dive deeper</td>\n",
       "    </tr>\n",
       "    <tr>\n",
       "      <th>3</th>\n",
       "      <td>3</td>\n",
       "      <td>Google provides online related services and pr...</td>\n",
       "      <td>Yeah, their services are good. I'm just not a ...</td>\n",
       "      <td>Curious to dive deeper</td>\n",
       "    </tr>\n",
       "    <tr>\n",
       "      <th>4</th>\n",
       "      <td>4</td>\n",
       "      <td>Yeah, their services are good. I'm just not a ...</td>\n",
       "      <td>Google is leading the alphabet subsidiary and ...</td>\n",
       "      <td>Curious to dive deeper</td>\n",
       "    </tr>\n",
       "  </tbody>\n",
       "</table>\n",
       "</div>"
      ],
      "text/plain": [
       "   Unnamed: 0                                                Que  \\\n",
       "0           0              Are you a fan of Google or Microsoft?   \n",
       "1           1  Both are excellent technology they are helpful...   \n",
       "2           2  I'm not  a huge fan of Google, but I use it a ...   \n",
       "3           3  Google provides online related services and pr...   \n",
       "4           4  Yeah, their services are good. I'm just not a ...   \n",
       "\n",
       "                                                 Ans                    Sent  \n",
       "0  Both are excellent technology they are helpful...  Curious to dive deeper  \n",
       "1  I'm not  a huge fan of Google, but I use it a ...  Curious to dive deeper  \n",
       "2  Google provides online related services and pr...  Curious to dive deeper  \n",
       "3  Yeah, their services are good. I'm just not a ...  Curious to dive deeper  \n",
       "4  Google is leading the alphabet subsidiary and ...  Curious to dive deeper  "
      ]
     },
     "execution_count": 61,
     "metadata": {},
     "output_type": "execute_result"
    }
   ],
   "source": [
    "merged.head()"
   ]
  },
  {
   "cell_type": "code",
   "execution_count": 1,
   "metadata": {},
   "outputs": [],
   "source": [
    "x = {}"
   ]
  },
  {
   "cell_type": "code",
   "execution_count": 2,
   "metadata": {},
   "outputs": [],
   "source": [
    "if x:\n",
    "    print('ok')"
   ]
  },
  {
   "cell_type": "code",
   "execution_count": 48,
   "metadata": {},
   "outputs": [],
   "source": [
    "corpus = merged.Que.values.tolist()"
   ]
  },
  {
   "cell_type": "code",
   "execution_count": 11,
   "metadata": {},
   "outputs": [
    {
     "data": {
      "text/plain": [
       "'Are you a fan of Google or Microsoft?'"
      ]
     },
     "execution_count": 11,
     "metadata": {},
     "output_type": "execute_result"
    }
   ],
   "source": [
    "corpus[0]"
   ]
  },
  {
   "cell_type": "code",
   "execution_count": 49,
   "metadata": {},
   "outputs": [],
   "source": [
    "vectorizer = TfidfVectorizer(max_df=0.2, analyzer='word', stop_words='english')\n",
    "\n",
    "vectors = vectorizer.fit_transform(corpus)"
   ]
  },
  {
   "cell_type": "code",
   "execution_count": 58,
   "metadata": {},
   "outputs": [
    {
     "ename": "TypeError",
     "evalue": "list indices must be integers or slices, not str",
     "output_type": "error",
     "traceback": [
      "\u001b[0;31m---------------------------------------------------------------------------\u001b[0m",
      "\u001b[0;31mTypeError\u001b[0m                                 Traceback (most recent call last)",
      "\u001b[0;32m<ipython-input-58-2e8b5c4a22f7>\u001b[0m in \u001b[0;36m<module>\u001b[0;34m\u001b[0m\n\u001b[0;32m----> 1\u001b[0;31m \u001b[0mresult_df\u001b[0m \u001b[0;34m=\u001b[0m \u001b[0mmatch_company_name\u001b[0m\u001b[0;34m(\u001b[0m\u001b[0;34m\"ADVISORY U S EQUITY MARKET\"\u001b[0m\u001b[0;34m,\u001b[0m \u001b[0mvectorizer\u001b[0m\u001b[0;34m,\u001b[0m \u001b[0mvectors\u001b[0m\u001b[0;34m,\u001b[0m \u001b[0mcorpus\u001b[0m\u001b[0;34m)\u001b[0m\u001b[0;34m\u001b[0m\u001b[0;34m\u001b[0m\u001b[0m\n\u001b[0m\u001b[1;32m      2\u001b[0m \u001b[0mprint\u001b[0m\u001b[0;34m(\u001b[0m\u001b[0mresult_df\u001b[0m\u001b[0;34m)\u001b[0m\u001b[0;34m\u001b[0m\u001b[0;34m\u001b[0m\u001b[0m\n",
      "\u001b[0;32m<ipython-input-57-da95f18664fa>\u001b[0m in \u001b[0;36mmatch_company_name\u001b[0;34m(input_name, vectorizer, comp_name_vectors, comp_name_df)\u001b[0m\n\u001b[1;32m     35\u001b[0m     \u001b[0msim\u001b[0m \u001b[0;34m=\u001b[0m \u001b[0mnp\u001b[0m\u001b[0;34m.\u001b[0m\u001b[0mzeros\u001b[0m\u001b[0;34m(\u001b[0m\u001b[0mnr_matches\u001b[0m\u001b[0;34m)\u001b[0m\u001b[0;34m\u001b[0m\u001b[0;34m\u001b[0m\u001b[0m\n\u001b[1;32m     36\u001b[0m     \u001b[0;32mfor\u001b[0m \u001b[0mi\u001b[0m \u001b[0;32min\u001b[0m \u001b[0mrange\u001b[0m\u001b[0;34m(\u001b[0m\u001b[0mnr_matches\u001b[0m\u001b[0;34m)\u001b[0m\u001b[0;34m:\u001b[0m\u001b[0;34m\u001b[0m\u001b[0;34m\u001b[0m\u001b[0m\n\u001b[0;32m---> 37\u001b[0;31m         \u001b[0mmatched_names\u001b[0m\u001b[0;34m[\u001b[0m\u001b[0mi\u001b[0m\u001b[0;34m]\u001b[0m \u001b[0;34m=\u001b[0m \u001b[0mcomp_name_df\u001b[0m\u001b[0;34m[\u001b[0m\u001b[0;34m'Que'\u001b[0m\u001b[0;34m]\u001b[0m\u001b[0;34m[\u001b[0m\u001b[0mlkp_idx\u001b[0m\u001b[0;34m[\u001b[0m\u001b[0mi\u001b[0m\u001b[0;34m]\u001b[0m\u001b[0;34m]\u001b[0m\u001b[0;34m\u001b[0m\u001b[0;34m\u001b[0m\u001b[0m\n\u001b[0m\u001b[1;32m     38\u001b[0m         \u001b[0msim\u001b[0m\u001b[0;34m[\u001b[0m\u001b[0mi\u001b[0m\u001b[0;34m]\u001b[0m \u001b[0;34m=\u001b[0m \u001b[0mlkp_sim\u001b[0m\u001b[0;34m[\u001b[0m\u001b[0mi\u001b[0m\u001b[0;34m]\u001b[0m\u001b[0;34m\u001b[0m\u001b[0;34m\u001b[0m\u001b[0m\n\u001b[1;32m     39\u001b[0m     return pd.DataFrame({\"Matching company name\": matched_names,\n",
      "\u001b[0;31mTypeError\u001b[0m: list indices must be integers or slices, not str"
     ]
    }
   ],
   "source": [
    "result_df = match_company_name(\"ADVISORY U S EQUITY MARKET\", vectorizer, vectors, corpus)\n",
    "print(result_df)"
   ]
  },
  {
   "cell_type": "code",
   "execution_count": 4,
   "metadata": {},
   "outputs": [],
   "source": [
    "search = 'Do you like Microsoft?'"
   ]
  },
  {
   "cell_type": "code",
   "execution_count": 51,
   "metadata": {},
   "outputs": [],
   "source": [
    "    input_name_vector = vectorizer.transform([search])\n",
    "    result_vector = input_name_vector.dot(vectors.T)\n",
    "    matched_data = [get_top_n_match(row) for row in result_vector]\n",
    "    flat_matched_data = [tup for data_row in matched_data for tup in data_row]\n",
    "    lkp_idx, lkp_sim = zip(*flat_matched_data)\n",
    "    nr_matches = len(lkp_idx)\n",
    "    matched_names = np.empty([nr_matches], dtype=object)\n",
    "    sim = np.zeros(nr_matches)"
   ]
  },
  {
   "cell_type": "code",
   "execution_count": 52,
   "metadata": {},
   "outputs": [],
   "source": [
    "    for i in range(nr_matches):\n",
    "        matched_names[i] = merged['Que'][lkp_idx[i]]\n",
    "        sim[i] = lkp_sim[i]"
   ]
  },
  {
   "cell_type": "code",
   "execution_count": null,
   "metadata": {},
   "outputs": [],
   "source": [
    "df['Que'][lkp_idx[i]]"
   ]
  },
  {
   "cell_type": "code",
   "execution_count": null,
   "metadata": {},
   "outputs": [],
   "source": [
    "df['Que'][188378]"
   ]
  },
  {
   "cell_type": "code",
   "execution_count": 38,
   "metadata": {},
   "outputs": [
    {
     "data": {
      "text/plain": [
       "188797"
      ]
     },
     "execution_count": 38,
     "metadata": {},
     "output_type": "execute_result"
    }
   ],
   "source": [
    "lkp_idx[i]"
   ]
  },
  {
   "cell_type": "code",
   "execution_count": 24,
   "metadata": {},
   "outputs": [
    {
     "data": {
      "text/plain": [
       "'Are you a fan of Google or Microsoft?'"
      ]
     },
     "execution_count": 24,
     "metadata": {},
     "output_type": "execute_result"
    }
   ],
   "source": [
    "df['Que'][lkp_idx[0]]"
   ]
  },
  {
   "cell_type": "code",
   "execution_count": 26,
   "metadata": {},
   "outputs": [
    {
     "data": {
      "text/plain": [
       "6773"
      ]
     },
     "execution_count": 26,
     "metadata": {},
     "output_type": "execute_result"
    }
   ],
   "source": [
    "lkp_idx[1]"
   ]
  },
  {
   "cell_type": "code",
   "execution_count": 54,
   "metadata": {},
   "outputs": [
    {
     "data": {
      "text/plain": [
       "array(['Are you a fan of Google or Microsoft?',\n",
       "       'what kind of company is Microsoft?',\n",
       "       'Actually I read that they are behind Apple and Microsoft.',\n",
       "       \"No I don't. I use a cheap phone. Microsoft once held a funeral to mark the death of the iPhone when it launched its own line of phones. Microsoft really can't beat Apple at that game. \",\n",
       "       'Yeah, do you use Cortana? The microsoft thing? '], dtype=object)"
      ]
     },
     "execution_count": 54,
     "metadata": {},
     "output_type": "execute_result"
    }
   ],
   "source": [
    "matched_names"
   ]
  },
  {
   "cell_type": "markdown",
   "metadata": {},
   "source": [
    "### awesome cossin top"
   ]
  },
  {
   "cell_type": "code",
   "execution_count": 49,
   "metadata": {},
   "outputs": [],
   "source": [
    "import pandas as pd"
   ]
  },
  {
   "cell_type": "code",
   "execution_count": 88,
   "metadata": {},
   "outputs": [],
   "source": [
    "main = pd.read_pickle('/home/ifte/alechat_core/corpus/raw/combined_raw_corpus.pkl')"
   ]
  },
  {
   "cell_type": "code",
   "execution_count": 52,
   "metadata": {},
   "outputs": [],
   "source": [
    "df = pd.read_pickle('/home/ifte/alechat_core/corpus/nlu/raw/nlu_raw_data_frame.pkl')"
   ]
  },
  {
   "cell_type": "code",
   "execution_count": 70,
   "metadata": {},
   "outputs": [
    {
     "data": {
      "text/html": [
       "<div>\n",
       "<style scoped>\n",
       "    .dataframe tbody tr th:only-of-type {\n",
       "        vertical-align: middle;\n",
       "    }\n",
       "\n",
       "    .dataframe tbody tr th {\n",
       "        vertical-align: top;\n",
       "    }\n",
       "\n",
       "    .dataframe thead th {\n",
       "        text-align: right;\n",
       "    }\n",
       "</style>\n",
       "<table border=\"1\" class=\"dataframe\">\n",
       "  <thead>\n",
       "    <tr style=\"text-align: right;\">\n",
       "      <th></th>\n",
       "      <th>intent</th>\n",
       "      <th>text</th>\n",
       "    </tr>\n",
       "  </thead>\n",
       "  <tbody>\n",
       "    <tr>\n",
       "      <th>0</th>\n",
       "      <td>talking_weather</td>\n",
       "      <td>What is the weather forecast tomorrow? Is it h...</td>\n",
       "    </tr>\n",
       "    <tr>\n",
       "      <th>1</th>\n",
       "      <td>affirm</td>\n",
       "      <td>yes of course sure yeah ok cool yep yep will d...</td>\n",
       "    </tr>\n",
       "    <tr>\n",
       "      <th>2</th>\n",
       "      <td>ask_builder</td>\n",
       "      <td>can you share your boss with me? i want to get...</td>\n",
       "    </tr>\n",
       "    <tr>\n",
       "      <th>3</th>\n",
       "      <td>ask_howbuilt</td>\n",
       "      <td>How were you built? Tell me how you were made?...</td>\n",
       "    </tr>\n",
       "    <tr>\n",
       "      <th>4</th>\n",
       "      <td>ask_howdoing</td>\n",
       "      <td>Ahoy matey how are you? are you alright are yo...</td>\n",
       "    </tr>\n",
       "  </tbody>\n",
       "</table>\n",
       "</div>"
      ],
      "text/plain": [
       "            intent                                               text\n",
       "0  talking_weather  What is the weather forecast tomorrow? Is it h...\n",
       "1           affirm  yes of course sure yeah ok cool yep yep will d...\n",
       "2      ask_builder  can you share your boss with me? i want to get...\n",
       "3     ask_howbuilt  How were you built? Tell me how you were made?...\n",
       "4     ask_howdoing  Ahoy matey how are you? are you alright are yo..."
      ]
     },
     "execution_count": 70,
     "metadata": {},
     "output_type": "execute_result"
    }
   ],
   "source": [
    "main.head()"
   ]
  },
  {
   "cell_type": "code",
   "execution_count": 36,
   "metadata": {},
   "outputs": [
    {
     "data": {
      "text/html": [
       "<div>\n",
       "<style scoped>\n",
       "    .dataframe tbody tr th:only-of-type {\n",
       "        vertical-align: middle;\n",
       "    }\n",
       "\n",
       "    .dataframe tbody tr th {\n",
       "        vertical-align: top;\n",
       "    }\n",
       "\n",
       "    .dataframe thead th {\n",
       "        text-align: right;\n",
       "    }\n",
       "</style>\n",
       "<table border=\"1\" class=\"dataframe\">\n",
       "  <thead>\n",
       "    <tr style=\"text-align: right;\">\n",
       "      <th></th>\n",
       "      <th>text</th>\n",
       "      <th>intent</th>\n",
       "    </tr>\n",
       "  </thead>\n",
       "  <tbody>\n",
       "    <tr>\n",
       "      <th>763</th>\n",
       "      <td>nah thanks</td>\n",
       "      <td>deny</td>\n",
       "    </tr>\n",
       "    <tr>\n",
       "      <th>650</th>\n",
       "      <td>we started working with chatbot but now we nee...</td>\n",
       "      <td>contact_staffs</td>\n",
       "    </tr>\n",
       "    <tr>\n",
       "      <th>718</th>\n",
       "      <td>lets talk to sales</td>\n",
       "      <td>contact_staffs</td>\n",
       "    </tr>\n",
       "    <tr>\n",
       "      <th>485</th>\n",
       "      <td>What is your birthplace?</td>\n",
       "      <td>ask_wherefrom</td>\n",
       "    </tr>\n",
       "    <tr>\n",
       "      <th>1206</th>\n",
       "      <td>Do you charge one time price</td>\n",
       "      <td>priceInfo</td>\n",
       "    </tr>\n",
       "    <tr>\n",
       "      <th>...</th>\n",
       "      <td>...</td>\n",
       "      <td>...</td>\n",
       "    </tr>\n",
       "    <tr>\n",
       "      <th>143</th>\n",
       "      <td>who made you?</td>\n",
       "      <td>ask_builder</td>\n",
       "    </tr>\n",
       "    <tr>\n",
       "      <th>607</th>\n",
       "      <td>and that is it?</td>\n",
       "      <td>canthelp</td>\n",
       "    </tr>\n",
       "    <tr>\n",
       "      <th>562</th>\n",
       "      <td>ciao</td>\n",
       "      <td>bye</td>\n",
       "    </tr>\n",
       "    <tr>\n",
       "      <th>707</th>\n",
       "      <td>I would like to contact your sales team please</td>\n",
       "      <td>contact_staffs</td>\n",
       "    </tr>\n",
       "    <tr>\n",
       "      <th>157</th>\n",
       "      <td>Specify how you were created?</td>\n",
       "      <td>ask_howbuilt</td>\n",
       "    </tr>\n",
       "  </tbody>\n",
       "</table>\n",
       "<p>1211 rows × 2 columns</p>\n",
       "</div>"
      ],
      "text/plain": [
       "                                                   text          intent\n",
       "763                                          nah thanks            deny\n",
       "650   we started working with chatbot but now we nee...  contact_staffs\n",
       "718                                  lets talk to sales  contact_staffs\n",
       "485                            What is your birthplace?   ask_wherefrom\n",
       "1206                       Do you charge one time price       priceInfo\n",
       "...                                                 ...             ...\n",
       "143                                       who made you?     ask_builder\n",
       "607                                     and that is it?        canthelp\n",
       "562                                                ciao             bye\n",
       "707      I would like to contact your sales team please  contact_staffs\n",
       "157                       Specify how you were created?    ask_howbuilt\n",
       "\n",
       "[1211 rows x 2 columns]"
      ]
     },
     "execution_count": 36,
     "metadata": {},
     "output_type": "execute_result"
    }
   ],
   "source": [
    "df"
   ]
  },
  {
   "cell_type": "code",
   "execution_count": 54,
   "metadata": {},
   "outputs": [],
   "source": [
    "from sklearn.feature_extraction.text import CountVectorizer"
   ]
  },
  {
   "cell_type": "code",
   "execution_count": 55,
   "metadata": {},
   "outputs": [],
   "source": [
    "corpus = df.text.values.tolist()"
   ]
  },
  {
   "cell_type": "code",
   "execution_count": 56,
   "metadata": {},
   "outputs": [],
   "source": [
    "count_vectorizer = CountVectorizer()\n",
    "# Learn a vocabulary dictionary of all tokens in the raw documents.\n",
    "vocabulary = count_vectorizer.fit(corpus).vocabulary_"
   ]
  },
  {
   "cell_type": "code",
   "execution_count": null,
   "metadata": {},
   "outputs": [],
   "source": [
    "dict(sorted(vocabulary.items(), key=lambda item: item[1], reverse=True))"
   ]
  },
  {
   "cell_type": "code",
   "execution_count": 57,
   "metadata": {},
   "outputs": [],
   "source": [
    "search ='how are you'"
   ]
  },
  {
   "cell_type": "code",
   "execution_count": 58,
   "metadata": {},
   "outputs": [],
   "source": [
    "vectorizer = TfidfVectorizer(vocabulary=vocabulary)\n",
    "\n",
    "tfidf_spend_vendor = vectorizer.fit_transform([search])\n",
    "\n",
    "tfidf_vendor = vectorizer.fit_transform(corpus).transpose()\n",
    "\n",
    "results = awesome_cossim_topn(tfidf_spend_vendor, tfidf_vendor, 30, 0)"
   ]
  },
  {
   "cell_type": "code",
   "execution_count": 59,
   "metadata": {},
   "outputs": [
    {
     "data": {
      "text/plain": [
       "'how are you'"
      ]
     },
     "execution_count": 59,
     "metadata": {},
     "output_type": "execute_result"
    }
   ],
   "source": [
    "search"
   ]
  },
  {
   "cell_type": "code",
   "execution_count": 62,
   "metadata": {},
   "outputs": [
    {
     "data": {
      "text/plain": [
       "236"
      ]
     },
     "execution_count": 62,
     "metadata": {},
     "output_type": "execute_result"
    }
   ],
   "source": [
    "df.index[i]"
   ]
  },
  {
   "cell_type": "code",
   "execution_count": 66,
   "metadata": {},
   "outputs": [],
   "source": [
    "collector = []\n",
    "for index, i in enumerate(results.indices):\n",
    "#     print('{}: {} '.format(corpus[i], results.data[index]), df['intent'][i])\n",
    "    collector.append((results.data[index], df['intent'][i]))"
   ]
  },
  {
   "cell_type": "code",
   "execution_count": 90,
   "metadata": {},
   "outputs": [],
   "source": [
    "sync = []\n",
    "save = 1\n",
    "for score, intent in collector:\n",
    "    sync.append((main[main['intent'] == intent].index.values[0], score))\n",
    "    save = intent\n",
    "    "
   ]
  },
  {
   "cell_type": "code",
   "execution_count": 94,
   "metadata": {},
   "outputs": [
    {
     "data": {
      "text/plain": [
       "[(32, 0.9837066467635389),\n",
       " (32, 0.9837066467635389),\n",
       " (32, 0.9837066467635389),\n",
       " (32, 0.9837066467635389),\n",
       " (32, 0.8164766225589803),\n",
       " (32, 0.6537221290201787),\n",
       " (32, 0.6537221290201787),\n",
       " (32, 0.6537221290201787),\n",
       " (34, 0.6307362077170526),\n",
       " (32, 0.6280127516074062),\n",
       " (33, 0.6007800850716278),\n",
       " (32, 0.5712156055114965),\n",
       " (32, 0.5712156055114965),\n",
       " (40, 0.568975198508233),\n",
       " (40, 0.568975198508233),\n",
       " (34, 0.5594742981902705),\n",
       " (34, 0.5594742981902705),\n",
       " (32, 0.5359731144772885),\n",
       " (34, 0.5287974241727714),\n",
       " (31, 0.5212182166965337),\n",
       " (34, 0.5201725628917543),\n",
       " (34, 0.5201725628917543),\n",
       " (34, 0.5201725628917543),\n",
       " (34, 0.5201725628917543),\n",
       " (34, 0.5201725628917543),\n",
       " (34, 0.5201725628917543),\n",
       " (34, 0.5201725628917543),\n",
       " (40, 0.5201725628917543),\n",
       " (38, 0.49967714818589715),\n",
       " (32, 0.4839472839072857)]"
      ]
     },
     "execution_count": 94,
     "metadata": {},
     "output_type": "execute_result"
    }
   ],
   "source": [
    "sorted(sync, key = lambda x: x[1], reverse=True)"
   ]
  },
  {
   "cell_type": "code",
   "execution_count": 93,
   "metadata": {},
   "outputs": [
    {
     "data": {
      "text/plain": [
       "[(0.5212182166965337, 'ask_howbuilt'),\n",
       " (0.9837066467635389, 'ask_howdoing'),\n",
       " (0.9837066467635389, 'ask_howdoing'),\n",
       " (0.9837066467635389, 'ask_howdoing'),\n",
       " (0.9837066467635389, 'ask_howdoing'),\n",
       " (0.8164766225589803, 'ask_howdoing'),\n",
       " (0.6537221290201787, 'ask_howdoing'),\n",
       " (0.6537221290201787, 'ask_howdoing'),\n",
       " (0.6537221290201787, 'ask_howdoing'),\n",
       " (0.6280127516074062, 'ask_howdoing'),\n",
       " (0.5712156055114965, 'ask_howdoing'),\n",
       " (0.5712156055114965, 'ask_howdoing'),\n",
       " (0.5359731144772885, 'ask_howdoing'),\n",
       " (0.4839472839072857, 'ask_howdoing'),\n",
       " (0.6007800850716278, 'ask_howold'),\n",
       " (0.6307362077170526, 'ask_isbot'),\n",
       " (0.5594742981902705, 'ask_isbot'),\n",
       " (0.5594742981902705, 'ask_isbot'),\n",
       " (0.5287974241727714, 'ask_isbot'),\n",
       " (0.5201725628917543, 'ask_isbot'),\n",
       " (0.5201725628917543, 'ask_isbot'),\n",
       " (0.5201725628917543, 'ask_isbot'),\n",
       " (0.5201725628917543, 'ask_isbot'),\n",
       " (0.5201725628917543, 'ask_isbot'),\n",
       " (0.5201725628917543, 'ask_isbot'),\n",
       " (0.5201725628917543, 'ask_isbot'),\n",
       " (0.49967714818589715, 'ask_wherefrom'),\n",
       " (0.568975198508233, 'ask_whoisit'),\n",
       " (0.568975198508233, 'ask_whoisit'),\n",
       " (0.5201725628917543, 'ask_whoisit')]"
      ]
     },
     "execution_count": 93,
     "metadata": {},
     "output_type": "execute_result"
    }
   ],
   "source": [
    "sorted(collector, key = lambda x: x[1])"
   ]
  },
  {
   "cell_type": "code",
   "execution_count": 47,
   "metadata": {},
   "outputs": [
    {
     "ename": "IndexError",
     "evalue": "tuple index out of range",
     "output_type": "error",
     "traceback": [
      "\u001b[0;31m---------------------------------------------------------------------------\u001b[0m",
      "\u001b[0;31mIndexError\u001b[0m                                Traceback (most recent call last)",
      "\u001b[0;32m<ipython-input-47-5d7a2e7cd717>\u001b[0m in \u001b[0;36m<module>\u001b[0;34m\u001b[0m\n\u001b[1;32m      1\u001b[0m \u001b[0;32mfor\u001b[0m \u001b[0mindex\u001b[0m\u001b[0;34m,\u001b[0m \u001b[0mi\u001b[0m \u001b[0;32min\u001b[0m \u001b[0menumerate\u001b[0m\u001b[0;34m(\u001b[0m\u001b[0mresults\u001b[0m\u001b[0;34m.\u001b[0m\u001b[0mindices\u001b[0m\u001b[0;34m)\u001b[0m\u001b[0;34m:\u001b[0m\u001b[0;34m\u001b[0m\u001b[0;34m\u001b[0m\u001b[0m\n\u001b[0;32m----> 2\u001b[0;31m     \u001b[0mprint\u001b[0m\u001b[0;34m(\u001b[0m\u001b[0;34m'{}: {} {}'\u001b[0m\u001b[0;34m.\u001b[0m\u001b[0mformat\u001b[0m\u001b[0;34m(\u001b[0m\u001b[0mcorpus\u001b[0m\u001b[0;34m[\u001b[0m\u001b[0mi\u001b[0m\u001b[0;34m]\u001b[0m\u001b[0;34m,\u001b[0m \u001b[0mresults\u001b[0m\u001b[0;34m.\u001b[0m\u001b[0mdata\u001b[0m\u001b[0;34m[\u001b[0m\u001b[0mindex\u001b[0m\u001b[0;34m]\u001b[0m\u001b[0;34m)\u001b[0m\u001b[0;34m,\u001b[0m \u001b[0mcorpus\u001b[0m\u001b[0;34m[\u001b[0m\u001b[0;34m'text'\u001b[0m\u001b[0;34m]\u001b[0m\u001b[0;34m[\u001b[0m\u001b[0mi\u001b[0m\u001b[0;34m]\u001b[0m\u001b[0;34m)\u001b[0m\u001b[0;34m\u001b[0m\u001b[0;34m\u001b[0m\u001b[0m\n\u001b[0m",
      "\u001b[0;31mIndexError\u001b[0m: tuple index out of range"
     ]
    }
   ],
   "source": [
    "for index, i in enumerate(results.indices):\n",
    "    print('{}: {} '.format(corpus[i], results.data[index]), corpus['text'][i])"
   ]
  },
  {
   "cell_type": "code",
   "execution_count": 51,
   "metadata": {},
   "outputs": [],
   "source": [
    "x = [(1, 2.662512538434358)]"
   ]
  },
  {
   "cell_type": "code",
   "execution_count": 53,
   "metadata": {},
   "outputs": [],
   "source": [
    "p=[]"
   ]
  },
  {
   "cell_type": "code",
   "execution_count": 54,
   "metadata": {},
   "outputs": [],
   "source": [
    "p.append((2,3))"
   ]
  },
  {
   "cell_type": "code",
   "execution_count": 56,
   "metadata": {},
   "outputs": [],
   "source": [
    "p.append((4,5))"
   ]
  },
  {
   "cell_type": "code",
   "execution_count": 59,
   "metadata": {},
   "outputs": [],
   "source": [
    "p = {'page_relevance': [{'doc_id': 32, 'doc_index': 32, 'score': 0.6388156550707736, 'keywords': [], 'positions': [], 'snippet': 'Ahoy matey how are you? are you alright are you having a good day Are you ok? are you okay Do you feel good? how are things going how are things with you? How are things? how are you doing this morning how are you feeling how are you today how is it going how is your day how is your day going how is...'}, {'doc_id': 34, 'doc_index': 34, 'score': 0.6309240716123865, 'keywords': [], 'positions': [], 'snippet': 'are you a bot? are you a real bot? are you a bot are you really a bot are you a robot are you a robot are you a chatbot bot? are you a chatbot bot? what are you a bot? tell me are you a bot? are you a Skynet ? are you a chatbot are you ai are you artificial intelligence are you artificial i guess yo...'}, {'doc_id': 31, 'doc_index': 31, 'score': 0.4973787650072693, 'keywords': [], 'positions': [], 'snippet': \"How were you built? Tell me how you were made? Let me know how you were made exactly I'd like to know how you were created Can you give me an idea as to how you were created? I want to know how you were formed What was the process for making you? Can you explain how you were created? Specify how you...\"}], 'NLU-Reply': ['It was nice meeting you!', \"Yep, I'm a bot!\", 'I was built with a lot of love and patience.'], 'WEB-Reply': {}, 'Imp-Phrases': [], 'status_code': 1}"
   ]
  },
  {
   "cell_type": "code",
   "execution_count": 58,
   "metadata": {},
   "outputs": [],
   "source": [
    "import json"
   ]
  },
  {
   "cell_type": "code",
   "execution_count": 61,
   "metadata": {},
   "outputs": [
    {
     "data": {
      "text/plain": [
       "'{\"page_relevance\": [{\"doc_id\": 32, \"doc_index\": 32, \"score\": 0.6388156550707736, \"keywords\": [], \"positions\": [], \"snippet\": \"Ahoy matey how are you? are you alright are you having a good day Are you ok? are you okay Do you feel good? how are things going how are things with you? How are things? how are you doing this morning how are you feeling how are you today how is it going how is your day how is your day going how is...\"}, {\"doc_id\": 34, \"doc_index\": 34, \"score\": 0.6309240716123865, \"keywords\": [], \"positions\": [], \"snippet\": \"are you a bot? are you a real bot? are you a bot are you really a bot are you a robot are you a robot are you a chatbot bot? are you a chatbot bot? what are you a bot? tell me are you a bot? are you a Skynet ? are you a chatbot are you ai are you artificial intelligence are you artificial i guess yo...\"}, {\"doc_id\": 31, \"doc_index\": 31, \"score\": 0.4973787650072693, \"keywords\": [], \"positions\": [], \"snippet\": \"How were you built? Tell me how you were made? Let me know how you were made exactly I\\'d like to know how you were created Can you give me an idea as to how you were created? I want to know how you were formed What was the process for making you? Can you explain how you were created? Specify how you...\"}], \"NLU-Reply\": [\"It was nice meeting you!\", \"Yep, I\\'m a bot!\", \"I was built with a lot of love and patience.\"], \"WEB-Reply\": {}, \"Imp-Phrases\": [], \"status_code\": 1}'"
      ]
     },
     "execution_count": 61,
     "metadata": {},
     "output_type": "execute_result"
    }
   ],
   "source": [
    "json.dumps(p)"
   ]
  }
 ],
 "metadata": {
  "kernelspec": {
   "display_name": "Python 3 (ipykernel)",
   "language": "python",
   "name": "python3"
  },
  "language_info": {
   "codemirror_mode": {
    "name": "ipython",
    "version": 3
   },
   "file_extension": ".py",
   "mimetype": "text/x-python",
   "name": "python",
   "nbconvert_exporter": "python",
   "pygments_lexer": "ipython3",
   "version": "3.7.15"
  }
 },
 "nbformat": 4,
 "nbformat_minor": 4
}
