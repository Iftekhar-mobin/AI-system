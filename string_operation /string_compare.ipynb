{
 "cells": [
  {
   "cell_type": "code",
   "execution_count": 2,
   "metadata": {},
   "outputs": [],
   "source": [
    "import sys\n",
    "from os import path\n",
    "import pandas as pd\n",
    "sys.path.insert(0, '/home/iftekhar/AI-system/string_operation/')\n",
    "from sequence_finder import CaptureSequence"
   ]
  },
  {
   "cell_type": "code",
   "execution_count": 3,
   "metadata": {},
   "outputs": [],
   "source": [
    "df = pd.read_csv('/home/ifte/Downloads/chat_history.csv')"
   ]
  },
  {
   "cell_type": "code",
   "execution_count": 5,
   "metadata": {},
   "outputs": [],
   "source": [
    "corpus = df.query_cleaning.values.tolist()"
   ]
  },
  {
   "cell_type": "code",
   "execution_count": 27,
   "metadata": {},
   "outputs": [],
   "source": [
    "search = 'docomo 電話'\n",
    "\n",
    "seq = CaptureSequence()"
   ]
  },
  {
   "cell_type": "code",
   "execution_count": 28,
   "metadata": {},
   "outputs": [],
   "source": [
    "match = []\n",
    "for sentence in corpus:\n",
    "    collect = []\n",
    "    [collect.append(item) for key, item in\n",
    "     seq.seq_main(search, sentence) if key == 0]\n",
    "    if collect:\n",
    "        match.append((sorted(collect, key=len)[-1], sentence))"
   ]
  },
  {
   "cell_type": "code",
   "execution_count": 30,
   "metadata": {},
   "outputs": [],
   "source": [
    "matched = sorted(match, key=lambda x: len(x[0]), reverse=True)[:30]"
   ]
  },
  {
   "cell_type": "code",
   "execution_count": null,
   "metadata": {},
   "outputs": [],
   "source": [
    "collector = []\n",
    "[collector.append(sents) for chunks, sents in matched if len(sents) < 100]\n"
   ]
  },
  {
   "cell_type": "code",
   "execution_count": 33,
   "metadata": {},
   "outputs": [
    {
     "data": {
      "text/plain": [
       "['docomo 電話番号 なん ログイン dアカウント 違い',\n",
       " 'docomo ケータイ回線契約 退会 ポイント 利用 できる',\n",
       " '使用 チケット ある docomo 携帯電話 電話 解約',\n",
       " 'docomo ケータイ回線契約 退会 ポイント 利用 できる',\n",
       " '使用 チケット ある docomo 携帯電話 電話 解約',\n",
       " '退会 docomo ポイント ケータイ回線契約 できる 利用',\n",
       " 'docomo 携帯電話 ある 解約 電話 使用 チケット',\n",
       " '契約者 docomo 回線 できる 利用',\n",
       " '提供 支払い docomo サービス',\n",
       " '使う dポイント 合算 可能 docomo ポイント',\n",
       " '退会 docomo 引き継ぐ 回線 できる 情報 利用 契約',\n",
       " 'イン docomo 会社 いい 情報 引き継ぐ ポート 利用',\n",
       " 'ユーザー docomo ない 利用可能',\n",
       " 'ユーザー docomo ない 利用可能',\n",
       " 'docomo ない ユーザー 利用可能',\n",
       " 'docomo ポイント 獲得 なる',\n",
       " '宿泊 docomo 携帯電話 予約 ある 解約 電話',\n",
       " '獲得 なる ポイント docomo',\n",
       " 'ない ユーザー 利用可能 docomo',\n",
       " '使う ポイント dポイント 合算 可能 docomo',\n",
       " 'https drive google com drive folders iuioukhvte jgqrwdcfnowjzxoq',\n",
       " '会員登録 正しい 電話番号 入力 た かかわる ぬ 電話番号 認証 sms 届く ない 良い です',\n",
       " '予約 宿泊施設 電話番号 教える',\n",
       " '携帯電話 電話 パソコン チケット 購入 利用 できる',\n",
       " 'dトラベル カスタマーサポート 電話番号 教える 国内宿泊',\n",
       " 'dトラベル 電子チケット カスタマーサポート 電話番号 教える',\n",
       " '携帯電話 電話 パソコン チケット 購入 利用 できる',\n",
       " 'dトラベル カスタマーサポート 電話番号 教える 国内宿泊',\n",
       " 'dトラベル 電子チケット カスタマーサポート 電話番号 教える',\n",
       " 'できる 電話 予約']"
      ]
     },
     "execution_count": 33,
     "metadata": {},
     "output_type": "execute_result"
    }
   ],
   "source": [
    "collector"
   ]
  },
  {
   "cell_type": "code",
   "execution_count": null,
   "metadata": {},
   "outputs": [],
   "source": []
  },
  {
   "cell_type": "code",
   "execution_count": null,
   "metadata": {},
   "outputs": [],
   "source": []
  }
 ],
 "metadata": {
  "kernelspec": {
   "display_name": "Python 3",
   "language": "python",
   "name": "python3"
  },
  "language_info": {
   "codemirror_mode": {
    "name": "ipython",
    "version": 3
   },
   "file_extension": ".py",
   "mimetype": "text/x-python",
   "name": "python",
   "nbconvert_exporter": "python",
   "pygments_lexer": "ipython3",
   "version": "3.6.9"
  }
 },
 "nbformat": 4,
 "nbformat_minor": 4
}
