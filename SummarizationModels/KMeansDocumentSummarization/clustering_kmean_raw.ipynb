{
 "cells": [
  {
   "cell_type": "code",
   "execution_count": 2,
   "metadata": {},
   "outputs": [],
   "source": [
    "import numpy as np\n",
    "import matplotlib.pyplot as plt\n",
    "from matplotlib import style\n",
    "import pandas as pd\n",
    "\n",
    "style.use('ggplot')"
   ]
  },
  {
   "cell_type": "code",
   "execution_count": 1,
   "metadata": {},
   "outputs": [],
   "source": [
    "# ================================================================================================================\n",
    "# ----------------------------------------------------------------------------------------------------------------\n",
    "#\t\t\t\t\t\t\t\t\tCLUSTERING\n",
    "# ----------------------------------------------------------------------------------------------------------------\n",
    "# ================================================================================================================\n",
    "\n",
    "# K means clustering is applied to normalized ipl player data\n",
    "\n",
    "class K_Means:\n",
    "    def __init__(self, k=3, tolerance=0.0001, max_iterations=500):\n",
    "        self.k = k\n",
    "        self.tolerance = tolerance\n",
    "        self.max_iterations = max_iterations\n",
    "\n",
    "    def fit(self, data):\n",
    "\n",
    "        self.centroids = {}\n",
    "\n",
    "        # initialize the centroids, the first 'k' elements in the dataset will be our initial centroids\n",
    "        for i in range(self.k):\n",
    "            self.centroids[i] = data[i]\n",
    "\n",
    "        # begin iterations\n",
    "        for i in range(self.max_iterations):\n",
    "            self.classes = {}\n",
    "            for j in range(self.k):\n",
    "                self.classes[j] = []\n",
    "\n",
    "            # find the distance between the point and cluster; choose the nearest centroid\n",
    "            for features in data:\n",
    "                distances = [np.linalg.norm(features - self.centroids[centroid]) for centroid in self.centroids]\n",
    "                classification = distances.index(min(distances))\n",
    "                self.classes[classification].append(features)\n",
    "\n",
    "            previous = dict(self.centroids)\n",
    "\n",
    "            # average the cluster datapoints to re-calculate the centroids\n",
    "            for classification in self.classes:\n",
    "                self.centroids[classification] = np.average(self.classes[classification], axis=0)\n",
    "\n",
    "            isOptimal = True\n",
    "\n",
    "            for centroid in self.centroids:\n",
    "\n",
    "                original_centroid = previous[centroid]\n",
    "                curr = self.centroids[centroid]\n",
    "\n",
    "                if np.sum((curr - original_centroid) / original_centroid * 100.0) > self.tolerance:\n",
    "                    isOptimal = False\n",
    "\n",
    "            # break out of the main loop if the results are optimal, ie. the centroids don't change their positions much(more than our tolerance)\n",
    "            if isOptimal:\n",
    "                break\n",
    "\n",
    "    def pred(self, data):\n",
    "        distances = [np.linalg.norm(data - self.centroids[centroid]) for centroid in self.centroids]\n",
    "        classification = distances.index(min(distances))\n",
    "        return classification\n",
    "\n",
    "\n",
    "def main():\n",
    "    df = pd.read_csv('/home/ifte/Downloads/ipl.csv')\n",
    "    df = df[['one']]\n",
    "    print(df.head())\n",
    "    dataset = df.astype(float).values.tolist()\n",
    "\n",
    "    X = df.values  # returns a numpy array\n",
    "    print(X)\n",
    "    km = K_Means(3)\n",
    "    km.fit(X)\n",
    "\n",
    "    # Plotting starts here\n",
    "    colors = 10 * [\"r\", \"g\", \"c\", \"b\", \"k\"]\n",
    "\n",
    "    for centroid in km.centroids:\n",
    "        plt.scatter(km.centroids[centroid][0], km.centroids[centroid][1], s=130, marker=\"x\")\n",
    "\n",
    "    for classification in km.classes:\n",
    "        color = colors[classification]\n",
    "        for features in km.classes[classification]:\n",
    "            plt.scatter(features[0], features[1], color=color, s=30)\n",
    "\n",
    "    plt.show()\n",
    "\n",
    "\n",
    "# if __name__ == \"__main__\":\n",
    "#     main()"
   ]
  },
  {
   "cell_type": "code",
   "execution_count": 4,
   "metadata": {},
   "outputs": [
    {
     "name": "stdout",
     "output_type": "stream",
     "text": [
      "        one\n",
      "0  0.227680\n",
      "1  0.979188\n",
      "2  0.504577\n",
      "3  0.058132\n",
      "4  0.775343\n"
     ]
    }
   ],
   "source": [
    "df = pd.read_csv('/home/ifte/Downloads/ipl.csv')\n",
    "df = df[['one']]\n",
    "print(df.head())\n",
    "dataset = df.astype(float).values.tolist()\n",
    "\n",
    "X = df.values  # returns a numpy array\n",
    "# print(X)\n",
    "km = K_Means(10)\n",
    "km.fit(X)\n"
   ]
  },
  {
   "cell_type": "code",
   "execution_count": 11,
   "metadata": {},
   "outputs": [
    {
     "data": {
      "text/plain": [
       "1"
      ]
     },
     "execution_count": 11,
     "metadata": {},
     "output_type": "execute_result"
    }
   ],
   "source": [
    "km.pred(0.9)"
   ]
  },
  {
   "cell_type": "code",
   "execution_count": 14,
   "metadata": {},
   "outputs": [
    {
     "data": {
      "text/plain": [
       "{0: array([0.2587777]),\n",
       " 1: array([0.90913727]),\n",
       " 2: array([0.50308975]),\n",
       " 3: array([0.15295676]),\n",
       " 4: array([0.79406684]),\n",
       " 5: array([0.56007846]),\n",
       " 6: array([0.06808672]),\n",
       " 7: array([0.62449962]),\n",
       " 8: array([0.70119194]),\n",
       " 9: array([0.01367519])}"
      ]
     },
     "execution_count": 14,
     "metadata": {},
     "output_type": "execute_result"
    }
   ],
   "source": [
    "km."
   ]
  },
  {
   "cell_type": "code",
   "execution_count": 6,
   "metadata": {},
   "outputs": [
    {
     "data": {
      "text/plain": [
       "{0: [array([0.22767982]),\n",
       "  array([0.29440819]),\n",
       "  array([0.3078315]),\n",
       "  array([0.28369001]),\n",
       "  array([0.21885608]),\n",
       "  array([0.21326108]),\n",
       "  array([0.25948656]),\n",
       "  array([0.26500836])],\n",
       " 1: [array([0.97918822]),\n",
       "  array([0.88606507]),\n",
       "  array([0.92022078]),\n",
       "  array([0.86314456]),\n",
       "  array([0.93502506]),\n",
       "  array([0.87117996])],\n",
       " 2: [array([0.5045766]),\n",
       "  array([0.50777585]),\n",
       "  array([0.46750149]),\n",
       "  array([0.52603056]),\n",
       "  array([0.50327806]),\n",
       "  array([0.51188718]),\n",
       "  array([0.46927064]),\n",
       "  array([0.491552]),\n",
       "  array([0.5231896]),\n",
       "  array([0.52210466]),\n",
       "  array([0.50682057])],\n",
       " 3: [array([0.18676782]),\n",
       "  array([0.1434226]),\n",
       "  array([0.15755852]),\n",
       "  array([0.11119696]),\n",
       "  array([0.16583791])],\n",
       " 4: [array([0.77534302]),\n",
       "  array([0.75898912]),\n",
       "  array([0.77913749]),\n",
       "  array([0.758129]),\n",
       "  array([0.84201324]),\n",
       "  array([0.81483483]),\n",
       "  array([0.80922928]),\n",
       "  array([0.83377219]),\n",
       "  array([0.77515337])],\n",
       " 5: [array([0.55042383]),\n",
       "  array([0.58576994]),\n",
       "  array([0.54860594]),\n",
       "  array([0.53311287]),\n",
       "  array([0.57100431]),\n",
       "  array([0.56164201]),\n",
       "  array([0.54631815]),\n",
       "  array([0.56254379]),\n",
       "  array([0.58128534])],\n",
       " 6: [array([0.0581324]),\n",
       "  array([0.04578654]),\n",
       "  array([0.06942298]),\n",
       "  array([0.08497508]),\n",
       "  array([0.07527233]),\n",
       "  array([0.05200194]),\n",
       "  array([0.06508554]),\n",
       "  array([0.09883778]),\n",
       "  array([0.06012137]),\n",
       "  array([0.07123126])],\n",
       " 7: [array([0.60363873]),\n",
       "  array([0.60473874]),\n",
       "  array([0.64428586]),\n",
       "  array([0.60331259]),\n",
       "  array([0.60071795]),\n",
       "  array([0.64343051]),\n",
       "  array([0.65750045]),\n",
       "  array([0.61190566]),\n",
       "  array([0.6464662]),\n",
       "  array([0.60867954]),\n",
       "  array([0.64215443]),\n",
       "  array([0.62945838]),\n",
       "  array([0.62220603])],\n",
       " 8: [array([0.70907217]),\n",
       "  array([0.74352735]),\n",
       "  array([0.69437997]),\n",
       "  array([0.66409905]),\n",
       "  array([0.70993462]),\n",
       "  array([0.69900126]),\n",
       "  array([0.71190988]),\n",
       "  array([0.68932078]),\n",
       "  array([0.70447078]),\n",
       "  array([0.68620349])],\n",
       " 9: [array([0.01850393]),\n",
       "  array([0.03563268]),\n",
       "  array([0.00559106]),\n",
       "  array([0.0134452]),\n",
       "  array([0.00175186]),\n",
       "  array([0.00712644])]}"
      ]
     },
     "execution_count": 6,
     "metadata": {},
     "output_type": "execute_result"
    }
   ],
   "source": [
    "km.classes"
   ]
  }
 ],
 "metadata": {
  "kernelspec": {
   "display_name": "Python 3",
   "language": "python",
   "name": "python3"
  },
  "language_info": {
   "codemirror_mode": {
    "name": "ipython",
    "version": 3
   },
   "file_extension": ".py",
   "mimetype": "text/x-python",
   "name": "python",
   "nbconvert_exporter": "python",
   "pygments_lexer": "ipython3",
   "version": "3.6.9"
  }
 },
 "nbformat": 4,
 "nbformat_minor": 4
}
