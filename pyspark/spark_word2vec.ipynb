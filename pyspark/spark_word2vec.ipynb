{
 "cells": [
  {
   "cell_type": "code",
   "execution_count": 1,
   "metadata": {},
   "outputs": [],
   "source": [
    "from pyspark.sql import SparkSession\n",
    "import os\n",
    "\n",
    "MAX_MEMORY = \"5g\"\n",
    "spark = SparkSession.builder \\\n",
    "                    .appName('multi_class_text_classifiter')\\\n",
    "                    .config(\"spark.executor.memory\", MAX_MEMORY) \\\n",
    "                    .config(\"spark.driver.memory\", MAX_MEMORY) \\\n",
    "                    .getOrCreate()"
   ]
  },
  {
   "cell_type": "code",
   "execution_count": 2,
   "metadata": {},
   "outputs": [],
   "source": [
    "from pyspark.sql.types import StructType, StructField, StringType\n",
    "\n",
    "schema = StructType([\n",
    "    StructField(\"value\", StringType(), True)\n",
    "])\n",
    "total_df = spark.createDataFrame([], schema)\n"
   ]
  },
  {
   "cell_type": "code",
   "execution_count": null,
   "metadata": {},
   "outputs": [],
   "source": [
    "for file_name in os.listdir(\"../data\"):\n",
    "    df = spark.read.option(\"header\", \"true\").text('../data/' + file_name)\n",
    "    total_df = total_df.union(df)"
   ]
  },
  {
   "cell_type": "code",
   "execution_count": null,
   "metadata": {},
   "outputs": [],
   "source": [
    "from pyspark import SparkContext\n",
    "from pyspark.mllib.feature import Word2Vec\n",
    "\n",
    "sc = SparkContext()\n",
    "\n",
    "inp = sc.textFile(\"file:///home/iftekhar/myworkplace/AI-system/2VECs_models/word2vec/combined_models/combined.seg\").map(lambda row: row.split(\" \"))\n",
    "\n",
    "k = 200         # vector dimensionality\n",
    "word2vec = Word2Vec().setVectorSize(k)\n",
    "\n",
    "model = word2vec.fit(inp)\n",
    "\n",
    "model.save(\"path\")\n",
    "\n",
    "model = Word2Vec() \\\n",
    "    .setVectorSize(2) \\\n",
    "    .setLearningRate(0.01) \\\n",
    "    .setNumIterations(10) \\\n",
    "    .setSeed(1024) \\\n",
    "    .setWindowSize(5)"
   ]
  },
  {
   "cell_type": "code",
   "execution_count": 5,
   "metadata": {},
   "outputs": [],
   "source": [
    "from pyspark import SparkContext"
   ]
  }
 ],
 "metadata": {
  "kernelspec": {
   "display_name": "Python 3",
   "language": "python",
   "name": "python3"
  },
  "language_info": {
   "codemirror_mode": {
    "name": "ipython",
    "version": 3
   },
   "file_extension": ".py",
   "mimetype": "text/x-python",
   "name": "python",
   "nbconvert_exporter": "python",
   "pygments_lexer": "ipython3",
   "version": "3.6.9"
  }
 },
 "nbformat": 4,
 "nbformat_minor": 4
}
