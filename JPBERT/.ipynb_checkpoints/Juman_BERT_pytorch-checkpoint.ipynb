{
 "cells": [
  {
   "cell_type": "markdown",
   "metadata": {},
   "source": [
    "# BERT Japanese Pretrained model \n",
    "#### The multilingual pretrained model includes Japanese, so it is possible to use the multilingual pretrained model for Japanese tasks, but it is not appropriate that the basic unit is almost a letter. Therefore, morphological analysis was performed on the input text, and the basic unit was obtained by dividing the morpheme into subwords, and pretraining was performed using only Japanese text (using Wikipedia)."
   ]
  },
  {
   "cell_type": "markdown",
   "metadata": {},
   "source": [
    "# The details of the Japanese pretrained model are shown below.\n",
    "#### Input text: All Japanese Wikipedia (about 18 million sentences, normalized to half-width)\n",
    "Perform morphological analysis on the input text with Juman ++ (v2.0.0-rc2), and further apply Unsupervised Word Segmentation for Neural Machine Translation and Text Generation (BPE) https://github.com/rsennrich/subword-nmt to divide into subwords\n",
    "Same setting as BERT_ {BASE} (12-layer, 768-hidden, 12-heads)\n",
    "30 epoch (1GPU (using GeForce GTX 1080 Ti) takes about 1 day for 1epoch, so about 30 days for pretraining)\n",
    "Use the latest GPU or use a program that can use Multi-GPU.\n",
    "Number of vocabularies: 32,000 (including morphemes and subwords)\n",
    "max_seq_length: 128"
   ]
  },
  {
   "cell_type": "code",
   "execution_count": 2,
   "metadata": {},
   "outputs": [],
   "source": [
    "from bert_juman import BertWithJumanModel\n",
    "bert = BertWithJumanModel (\"/home/ifte/Downloads/L12_H768_A12_E30_BPE_WWM_Transformers-Model/\" )"
   ]
  },
  {
   "cell_type": "code",
   "execution_count": 1,
   "metadata": {},
   "outputs": [
    {
     "data": {
      "text/html": [
       "<div>\n",
       "<style scoped>\n",
       "    .dataframe tbody tr th:only-of-type {\n",
       "        vertical-align: middle;\n",
       "    }\n",
       "\n",
       "    .dataframe tbody tr th {\n",
       "        vertical-align: top;\n",
       "    }\n",
       "\n",
       "    .dataframe thead th {\n",
       "        text-align: right;\n",
       "    }\n",
       "</style>\n",
       "<table border=\"1\" class=\"dataframe\">\n",
       "  <thead>\n",
       "    <tr style=\"text-align: right;\">\n",
       "      <th></th>\n",
       "      <th>Unnamed: 0</th>\n",
       "      <th>Article</th>\n",
       "      <th>Summary</th>\n",
       "    </tr>\n",
       "  </thead>\n",
       "  <tbody>\n",
       "    <tr>\n",
       "      <th>0</th>\n",
       "      <td>1</td>\n",
       "      <td>help version</td>\n",
       "      <td>banner</td>\n",
       "    </tr>\n",
       "    <tr>\n",
       "      <th>1</th>\n",
       "      <td>3</td>\n",
       "      <td>find page containing match case match whole wo...</td>\n",
       "      <td>search</td>\n",
       "    </tr>\n",
       "    <tr>\n",
       "      <th>2</th>\n",
       "      <td>4</td>\n",
       "      <td>soti mobicontrol help soti mobicontrol enterpr...</td>\n",
       "      <td>welcome soti mobicontrol help start</td>\n",
       "    </tr>\n",
       "    <tr>\n",
       "      <th>3</th>\n",
       "      <td>5</td>\n",
       "      <td>soti mobicontrol this section provides instruc...</td>\n",
       "      <td>setting up soti mobicontrol setup setupindex</td>\n",
       "    </tr>\n",
       "    <tr>\n",
       "      <th>4</th>\n",
       "      <td>6</td>\n",
       "      <td>soti mobicontrol each soti mobicontrol install...</td>\n",
       "      <td>setting up soti mobicontrol setup installing i...</td>\n",
       "    </tr>\n",
       "  </tbody>\n",
       "</table>\n",
       "</div>"
      ],
      "text/plain": [
       "   Unnamed: 0                                            Article  \\\n",
       "0           1                                       help version   \n",
       "1           3  find page containing match case match whole wo...   \n",
       "2           4  soti mobicontrol help soti mobicontrol enterpr...   \n",
       "3           5  soti mobicontrol this section provides instruc...   \n",
       "4           6  soti mobicontrol each soti mobicontrol install...   \n",
       "\n",
       "                                             Summary  \n",
       "0                                             banner  \n",
       "1                                             search  \n",
       "2                welcome soti mobicontrol help start  \n",
       "3       setting up soti mobicontrol setup setupindex  \n",
       "4  setting up soti mobicontrol setup installing i...  "
      ]
     },
     "execution_count": 1,
     "metadata": {},
     "output_type": "execute_result"
    }
   ],
   "source": [
    "import pandas as pd\n",
    "df = pd.read_csv(\"/home/ifte/amiebot_project/MyAI/AI-system/Helpers/processed_dataset.csv\")\n",
    "df.head()"
   ]
  },
  {
   "cell_type": "code",
   "execution_count": 13,
   "metadata": {},
   "outputs": [
    {
     "name": "stderr",
     "output_type": "stream",
     "text": [
      "IOPub data rate exceeded.\n",
      "The notebook server will temporarily stop sending output\n",
      "to the client in order to avoid crashing it.\n",
      "To change this limit, set the config variable\n",
      "`--NotebookApp.iopub_data_rate_limit`.\n",
      "\n",
      "Current values:\n",
      "NotebookApp.iopub_data_rate_limit=1000000.0 (bytes/sec)\n",
      "NotebookApp.rate_limit_window=3.0 (secs)\n",
      "\n"
     ]
    }
   ],
   "source": [
    "for index, row in df.iterrows():\n",
    "    print(row.Data)"
   ]
  },
  {
   "cell_type": "code",
   "execution_count": null,
   "metadata": {},
   "outputs": [],
   "source": [
    "bert.get_sentence_embedding (\"吾輩は猫である。\")"
   ]
  },
  {
   "cell_type": "code",
   "execution_count": 1,
   "metadata": {},
   "outputs": [],
   "source": [
    "from bert_juman import JumanTokenizer\n",
    "import torch\n",
    "from pytorch_pretrained_bert import BertTokenizer, BertModel\n",
    "\n",
    "mod = \"/home/ifte/Downloads/L12_H768_A12_E30_BPE_WWM_Transformers-Model/\" \n",
    "mod_txt = \"/home/ifte/Downloads/L12_H768_A12_E30_BPE_WWM_Transformers-Model/vocab.txt\"\n",
    "\n",
    "model = BertModel.from_pretrained(mod)\n",
    "bert_tokenizer = BertTokenizer(mod_txt, do_lower_case=False, do_basic_tokenize=False)\n",
    "\n",
    "juman_tokenizer = JumanTokenizer()\n",
    "text = \"吾輩は猫である。\"\n",
    "tokens = juman_tokenizer.tokenize(text)\n",
    "bert_tokens = bert_tokenizer.tokenize(\" \".join(tokens))\n",
    "ids = bert_tokenizer.convert_tokens_to_ids([\"[CLS]\"] + bert_tokens + [\"[SEP]\"])\n",
    "tokens_tensor = torch.tensor(ids).reshape(1, -1)"
   ]
  },
  {
   "cell_type": "code",
   "execution_count": 2,
   "metadata": {},
   "outputs": [
    {
     "data": {
      "text/plain": [
       "['吾輩', 'は', '猫', 'である', '。']"
      ]
     },
     "execution_count": 2,
     "metadata": {},
     "output_type": "execute_result"
    }
   ],
   "source": [
    "tokens"
   ]
  },
  {
   "cell_type": "code",
   "execution_count": 3,
   "metadata": {},
   "outputs": [
    {
     "data": {
      "text/plain": [
       "['[UNK]', 'は', '猫', 'である', '。']"
      ]
     },
     "execution_count": 3,
     "metadata": {},
     "output_type": "execute_result"
    }
   ],
   "source": [
    "bert_tokens"
   ]
  },
  {
   "cell_type": "code",
   "execution_count": 4,
   "metadata": {},
   "outputs": [
    {
     "data": {
      "text/plain": [
       "[2, 1, 9, 4816, 32, 7, 3]"
      ]
     },
     "execution_count": 4,
     "metadata": {},
     "output_type": "execute_result"
    }
   ],
   "source": [
    "ids"
   ]
  },
  {
   "cell_type": "code",
   "execution_count": 15,
   "metadata": {},
   "outputs": [
    {
     "data": {
      "text/plain": [
       "tensor([[   2,    1,    9, 4816,   32,    7,    3]])"
      ]
     },
     "execution_count": 15,
     "metadata": {},
     "output_type": "execute_result"
    }
   ],
   "source": [
    "tokens_tensor"
   ]
  },
  {
   "cell_type": "code",
   "execution_count": null,
   "metadata": {},
   "outputs": [],
   "source": []
  }
 ],
 "metadata": {
  "kernelspec": {
   "display_name": "Python 3",
   "language": "python",
   "name": "python3"
  },
  "language_info": {
   "codemirror_mode": {
    "name": "ipython",
    "version": 3
   },
   "file_extension": ".py",
   "mimetype": "text/x-python",
   "name": "python",
   "nbconvert_exporter": "python",
   "pygments_lexer": "ipython3",
   "version": "3.6.8"
  }
 },
 "nbformat": 4,
 "nbformat_minor": 2
}
