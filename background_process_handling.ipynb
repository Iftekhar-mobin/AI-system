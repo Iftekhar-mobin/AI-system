{
 "cells": [
  {
   "cell_type": "code",
   "execution_count": 8,
   "metadata": {},
   "outputs": [],
   "source": [
    "import subprocess"
   ]
  },
  {
   "cell_type": "code",
   "execution_count": 16,
   "metadata": {},
   "outputs": [
    {
     "data": {
      "text/plain": [
       "<subprocess.Popen at 0x7f3af81b0e80>"
      ]
     },
     "execution_count": 16,
     "metadata": {},
     "output_type": "execute_result"
    }
   ],
   "source": [
    "subprocess.Popen(['python3', 'test.py', 'ssd1351'])"
   ]
  },
  {
   "cell_type": "code",
   "execution_count": 1,
   "metadata": {},
   "outputs": [],
   "source": [
    "import _pickle as pickle\n",
    "\n",
    "def load_from_file(file_path):\n",
    "    with open(file_path, \"rb\") as input_file:\n",
    "        data = pickle.load(input_file)\n",
    "    return data"
   ]
  },
  {
   "cell_type": "code",
   "execution_count": 5,
   "metadata": {},
   "outputs": [],
   "source": [
    "import multiprocessing\n",
    "from time import sleep"
   ]
  },
  {
   "cell_type": "code",
   "execution_count": 4,
   "metadata": {},
   "outputs": [],
   "source": [
    "# define worker function\n",
    "def calculate(process_name, tasks, results):\n",
    "    print('[%s] evaluation routine starts' % process_name)\n",
    "\n",
    "    while True:\n",
    "        new_value = tasks.get()\n",
    "        if new_value < 0:\n",
    "            print('[%s] evaluation routine quits' % process_name)\n",
    "\n",
    "            # Indicate finished\n",
    "            results.put(-1)\n",
    "            break\n",
    "        else:\n",
    "            # Compute result and mimic a long-running task\n",
    "            compute = new_value * new_value\n",
    "            sleep(0.02*new_value)\n",
    "\n",
    "            # Output which process received the value\n",
    "            # and the calculation result\n",
    "            print('[%s] received value: %i' % (process_name, new_value))\n",
    "            print('[%s] calculated value: %i' % (process_name, compute))\n",
    "\n",
    "            # Add result to the queue\n",
    "            results.put(compute)\n",
    "\n",
    "    return"
   ]
  },
  {
   "cell_type": "code",
   "execution_count": 6,
   "metadata": {},
   "outputs": [
    {
     "name": "stdout",
     "output_type": "stream",
     "text": [
      "[P0] evaluation routine starts\n",
      "[P1] evaluation routine starts\n",
      "[P2] evaluation routine starts\n",
      "[P3] evaluation routine starts\n",
      "[P1] received value: 1\n",
      "[P1] calculated value: 1\n",
      "[P0] received value: 43\n",
      "[P0] calculated value: 1849\n",
      "[P0] received value: 68\n",
      "[P0] calculated value: 4624\n",
      "[P1] received value: 142\n",
      "[P1] calculated value: 20164\n",
      "[P3] received value: 256\n",
      "[P3] calculated value: 65536\n",
      "[P0] received value: 183\n",
      "[P0] calculated value: 33489\n",
      "[P0] received value: 3\n",
      "[P0] calculated value: 9\n",
      "[P1] received value: 334\n",
      "[P1] calculated value: 111556\n",
      "[P3] received value: 325\n",
      "[P3] calculated value: 105625\n",
      "[P2] received value: 780\n",
      "[P2] calculated value: 608400\n",
      "[P0] evaluation routine quits\n",
      "[P1] evaluation routine quits\n",
      "[P3] evaluation routine quits\n",
      "[P2] evaluation routine quits\n"
     ]
    }
   ],
   "source": [
    "# Define IPC manager\n",
    "manager = multiprocessing.Manager()\n",
    "\n",
    "# Define a list (queue) for tasks and computation results\n",
    "tasks = manager.Queue()\n",
    "results = manager.Queue()\n",
    "# Create process pool with four processes\n",
    "num_processes = 4\n",
    "pool = multiprocessing.Pool(processes=num_processes)\n",
    "processes = []\n",
    "# Initiate the worker processes\n",
    "for i in range(num_processes):\n",
    "\n",
    "    # Set process name\n",
    "    process_name = 'P%i' % i\n",
    "\n",
    "    # Create the process, and connect it to the worker function\n",
    "    new_process = multiprocessing.Process(target=calculate, args=(process_name,tasks,results))\n",
    "\n",
    "    # Add new process to the list of processes\n",
    "    processes.append(new_process)\n",
    "\n",
    "    # Start the process\n",
    "    new_process.start()\n",
    "    # Fill task queue\n",
    "task_list = [43, 1, 780, 256, 142, 68, 183, 334, 325, 3]\n",
    "for single_task in task_list:\n",
    "    tasks.put(single_task)\n",
    "\n",
    "# Wait while the workers process\n",
    "sleep(5)"
   ]
  },
  {
   "cell_type": "code",
   "execution_count": 7,
   "metadata": {},
   "outputs": [
    {
     "name": "stdout",
     "output_type": "stream",
     "text": [
      "Result:1\n",
      "Result:1849\n",
      "Result:4624\n",
      "Result:20164\n",
      "Result:65536\n",
      "Result:33489\n",
      "Result:9\n",
      "Result:111556\n",
      "Result:105625\n",
      "Result:608400\n"
     ]
    }
   ],
   "source": [
    "# Quit the worker processes by sending them -1\n",
    "for i in range(num_processes):\n",
    "    tasks.put(-1)\n",
    "\n",
    "# Read calculation results\n",
    "num_finished_processes = 0\n",
    "while True:\n",
    "    # Read result\n",
    "    new_result = results.get()\n",
    "\n",
    "    # Have a look at the results\n",
    "    if new_result == -1:\n",
    "        # Process has finished\n",
    "        num_finished_processes += 1\n",
    "\n",
    "        if num_finished_processes == num_processes:\n",
    "            break\n",
    "    else:\n",
    "        # Output result\n",
    "        print('Result:' + str(new_result))"
   ]
  }
 ],
 "metadata": {
  "kernelspec": {
   "display_name": "Python 3",
   "language": "python",
   "name": "python3"
  },
  "language_info": {
   "codemirror_mode": {
    "name": "ipython",
    "version": 3
   },
   "file_extension": ".py",
   "mimetype": "text/x-python",
   "name": "python",
   "nbconvert_exporter": "python",
   "pygments_lexer": "ipython3",
   "version": "3.6.9"
  }
 },
 "nbformat": 4,
 "nbformat_minor": 4
}
