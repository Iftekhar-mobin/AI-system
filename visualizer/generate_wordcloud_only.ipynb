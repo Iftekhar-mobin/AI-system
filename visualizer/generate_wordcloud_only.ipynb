{
 "cells": [
  {
   "cell_type": "code",
   "execution_count": 26,
   "metadata": {},
   "outputs": [],
   "source": [
    "import pandas as pd\n",
    "from wordcloud import WordCloud\n",
    "import itertools\n",
    "from PIL import Image\n",
    "from os import path\n",
    "import gc"
   ]
  },
  {
   "cell_type": "code",
   "execution_count": 6,
   "metadata": {},
   "outputs": [],
   "source": [
    "df = pd.read_csv('/home/ifte/Downloads/chat_history.csv')"
   ]
  },
  {
   "cell_type": "code",
   "execution_count": 4,
   "metadata": {},
   "outputs": [
    {
     "data": {
      "text/plain": [
       "5130"
      ]
     },
     "execution_count": 4,
     "metadata": {},
     "output_type": "execute_result"
    }
   ],
   "source": [
    "len(df)"
   ]
  },
  {
   "cell_type": "code",
   "execution_count": 7,
   "metadata": {},
   "outputs": [],
   "source": [
    "target_col = 'query_cleaning'"
   ]
  },
  {
   "cell_type": "code",
   "execution_count": 8,
   "metadata": {},
   "outputs": [],
   "source": [
    "df = df.copy()\n",
    "target_col = target_col\n",
    "df.dropna(subset=[target_col], inplace=True)\n",
    "if type(df[target_col].iloc[0]) is not list:\n",
    "    df.loc[:, target_col] = df[target_col].map(lambda x: x.split())\n",
    "df.loc[:, target_col + '_length'] = df[target_col].map(lambda x: len(x))\n",
    "output_file_path = ''\n"
   ]
  },
  {
   "cell_type": "code",
   "execution_count": 11,
   "metadata": {},
   "outputs": [],
   "source": [
    "FONT_FILE ='/home/ifte/fresh/amieCore/amie_core/apis/corpus_dashboard/font/japanese.ttf'"
   ]
  },
  {
   "cell_type": "code",
   "execution_count": 14,
   "metadata": {},
   "outputs": [],
   "source": [
    "def cloud(width=800, height=500, max_words=100, max_font_size=80,\n",
    "          colormap=None, mask_file=None, save=False) -> None:\n",
    "\n",
    "    f_path = FONT_FILE\n",
    "    if mask_file is not None:\n",
    "        mask = np.array(Image.open(mask_file))\n",
    "    else:\n",
    "        mask = None\n",
    "\n",
    "    _df = df.copy()\n",
    "    text = _df[target_col]\n",
    "\n",
    "    cloud = WordCloud(background_color='white', font_step=1, contour_width=0, contour_color='steelblue',\n",
    "                      font_path=f_path, max_words=max_words, max_font_size=max_font_size, random_state=42,\n",
    "                      width=width, height=height, mask=mask, collocations=False, prefer_horizontal=1,\n",
    "                      colormap=colormap)\n",
    "    cloud.generate(' '.join(list(itertools.chain(*list(text)))))\n",
    "\n",
    "    def show_array(img):\n",
    "        if save:\n",
    "            Image.fromarray(img).save(path.join(output_file_path, 'wordcloud.png'))\n",
    "\n",
    "    img = cloud.to_array()\n",
    "    show_array(img)\n",
    "\n",
    "    del _df\n",
    "    gc.collect()\n",
    "    return None"
   ]
  },
  {
   "cell_type": "code",
   "execution_count": 27,
   "metadata": {},
   "outputs": [],
   "source": [
    "cloud(colormap='tab20_r', save=True)"
   ]
  }
 ],
 "metadata": {
  "kernelspec": {
   "display_name": "Python 3",
   "language": "python",
   "name": "python3"
  },
  "language_info": {
   "codemirror_mode": {
    "name": "ipython",
    "version": 3
   },
   "file_extension": ".py",
   "mimetype": "text/x-python",
   "name": "python",
   "nbconvert_exporter": "python",
   "pygments_lexer": "ipython3",
   "version": "3.6.9"
  }
 },
 "nbformat": 4,
 "nbformat_minor": 4
}
