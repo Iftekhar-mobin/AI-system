{
 "cells": [
  {
   "cell_type": "code",
   "execution_count": 13,
   "metadata": {},
   "outputs": [],
   "source": [
    "import sys\n",
    "import ast\n",
    "from os import path\n",
    "import pandas as pd\n",
    "sys.path.insert(0, '/home/iftekhar/AI-system/visualizer/nlplot/')"
   ]
  },
  {
   "cell_type": "code",
   "execution_count": 3,
   "metadata": {},
   "outputs": [],
   "source": [
    "from nlplot import NLPlot"
   ]
  },
  {
   "cell_type": "code",
   "execution_count": 9,
   "metadata": {},
   "outputs": [],
   "source": [
    "file = open(path.join('/home/iftekhar/amiebot/Resources/876/data/', \"tokenized_dict.json\"), \"r\")\n",
    "contents = file.read()\n",
    "features_dict = ast.literal_eval(contents)\n",
    "file.close()"
   ]
  },
  {
   "cell_type": "code",
   "execution_count": 19,
   "metadata": {},
   "outputs": [],
   "source": [
    "df = pd.DataFrame(enumerate(features_dict['0']), columns=['page_id', 'text'])"
   ]
  },
  {
   "cell_type": "code",
   "execution_count": null,
   "metadata": {},
   "outputs": [],
   "source": [
    "df.head(25)"
   ]
  },
  {
   "cell_type": "code",
   "execution_count": 44,
   "metadata": {},
   "outputs": [],
   "source": [
    "df = df[df['text']!='']"
   ]
  },
  {
   "cell_type": "code",
   "execution_count": 50,
   "metadata": {},
   "outputs": [
    {
     "data": {
      "text/html": [
       "<div>\n",
       "<style scoped>\n",
       "    .dataframe tbody tr th:only-of-type {\n",
       "        vertical-align: middle;\n",
       "    }\n",
       "\n",
       "    .dataframe tbody tr th {\n",
       "        vertical-align: top;\n",
       "    }\n",
       "\n",
       "    .dataframe thead th {\n",
       "        text-align: right;\n",
       "    }\n",
       "</style>\n",
       "<table border=\"1\" class=\"dataframe\">\n",
       "  <thead>\n",
       "    <tr style=\"text-align: right;\">\n",
       "      <th></th>\n",
       "      <th>index</th>\n",
       "      <th>page_id</th>\n",
       "      <th>text</th>\n",
       "    </tr>\n",
       "  </thead>\n",
       "  <tbody>\n",
       "    <tr>\n",
       "      <th>0</th>\n",
       "      <td>0</td>\n",
       "      <td>0</td>\n",
       "      <td>カスタマイザー この タイトル  設定 できる ます</td>\n",
       "    </tr>\n",
       "    <tr>\n",
       "      <th>1</th>\n",
       "      <td>1</td>\n",
       "      <td>1</td>\n",
       "      <td>カスタマイザー この サブタイトル  設定 できる ます</td>\n",
       "    </tr>\n",
       "    <tr>\n",
       "      <th>2</th>\n",
       "      <td>2</td>\n",
       "      <td>2</td>\n",
       "      <td>MobiControl  設定 順序 MobiControl  設定 順序 MobiCont...</td>\n",
       "    </tr>\n",
       "    <tr>\n",
       "      <th>3</th>\n",
       "      <td>6</td>\n",
       "      <td>6</td>\n",
       "      <td>端末 OS  対象 オンプレミス  MobiControl サーバ   必要  設定 事項...</td>\n",
       "    </tr>\n",
       "    <tr>\n",
       "      <th>4</th>\n",
       "      <td>7</td>\n",
       "      <td>7</td>\n",
       "      <td>会社 支給 端末 iOS Android  複数  従業員  共用  必須</td>\n",
       "    </tr>\n",
       "  </tbody>\n",
       "</table>\n",
       "</div>"
      ],
      "text/plain": [
       "   index  page_id                                               text\n",
       "0      0        0                         カスタマイザー この タイトル  設定 できる ます\n",
       "1      1        1                       カスタマイザー この サブタイトル  設定 できる ます\n",
       "2      2        2  MobiControl  設定 順序 MobiControl  設定 順序 MobiCont...\n",
       "3      6        6   端末 OS  対象 オンプレミス  MobiControl サーバ   必要  設定 事項...\n",
       "4      7        7              会社 支給 端末 iOS Android  複数  従業員  共用  必須"
      ]
     },
     "execution_count": 50,
     "metadata": {},
     "output_type": "execute_result"
    }
   ],
   "source": [
    "df = df.reset_index()\n",
    "df.head()"
   ]
  },
  {
   "cell_type": "code",
   "execution_count": 66,
   "metadata": {},
   "outputs": [],
   "source": [
    "# target_col as a list type or a string separated by a space.\n",
    "npt = NLPlot(df, target_col='text')"
   ]
  },
  {
   "cell_type": "code",
   "execution_count": 70,
   "metadata": {},
   "outputs": [
    {
     "name": "stderr",
     "output_type": "stream",
     "text": [
      "100%|██████████| 126/126 [00:00<00:00, 165928.51it/s]\n"
     ]
    },
    {
     "data": {
      "application/vnd.plotly.v1+json": {
       "config": {
        "plotlyServerURL": "https://plot.ly"
       },
       "data": [
        {
         "alignmentgroup": "True",
         "hovertemplate": "word_count=%{text}<br>word=%{y}<extra></extra>",
         "legendgroup": "",
         "marker": {},
         "name": "",
         "offsetgroup": "",
         "orientation": "h",
         "showlegend": false,
         "text": [
          6,
          6,
          6,
          6,
          6,
          6,
          6,
          6,
          6,
          6,
          7,
          7,
          8,
          8,
          8,
          8,
          8,
          8,
          8,
          8,
          9,
          10,
          10,
          10,
          10,
          11,
          11,
          11,
          12,
          13,
          13,
          13,
          13,
          13,
          15,
          16,
          16,
          16,
          17,
          18,
          20,
          22,
          23,
          24,
          24,
          35,
          44,
          44,
          46,
          126
         ],
         "textposition": "auto",
         "texttemplate": "%{text:.2s}",
         "type": "bar",
         "x": [
          6,
          6,
          6,
          6,
          6,
          6,
          6,
          6,
          6,
          6,
          7,
          7,
          8,
          8,
          8,
          8,
          8,
          8,
          8,
          8,
          9,
          10,
          10,
          10,
          10,
          11,
          11,
          11,
          12,
          13,
          13,
          13,
          13,
          13,
          15,
          16,
          16,
          16,
          17,
          18,
          20,
          22,
          23,
          24,
          24,
          35,
          44,
          44,
          46,
          126
         ],
         "xaxis": "x",
         "y": [
          "順序",
          "ファイルサーバ",
          "おく",
          "ファイル",
          "ini",
          "プロファイル",
          "id",
          "動画",
          "apple",
          "setup",
          "所定",
          "データ",
          "アクセス",
          "url",
          "ユーザ",
          "pc",
          "アカウント",
          "間",
          "使う",
          "google",
          "folder",
          "配布",
          "必須",
          "ad",
          "アプリカタログ",
          "できる",
          "社内",
          "可能",
          "必要",
          "作成",
          "グループ",
          "です",
          "インストール",
          "ダウンロード",
          "ある",
          "ios",
          "または",
          "windows",
          "コンテンツ",
          "android",
          "サーバ",
          "os",
          "mobicontrol",
          "対象",
          "ルール",
          "アプリ",
          "設定",
          "登録",
          "ます",
          "端末"
         ],
         "yaxis": "y"
        }
       ],
       "layout": {
        "barmode": "relative",
        "height": 1100,
        "legend": {
         "tracegroupgap": 0
        },
        "margin": {
         "t": 60
        },
        "template": {
         "data": {
          "bar": [
           {
            "error_x": {
             "color": "#2a3f5f"
            },
            "error_y": {
             "color": "#2a3f5f"
            },
            "marker": {
             "line": {
              "color": "#E5ECF6",
              "width": 0.5
             }
            },
            "type": "bar"
           }
          ],
          "barpolar": [
           {
            "marker": {
             "line": {
              "color": "#E5ECF6",
              "width": 0.5
             }
            },
            "type": "barpolar"
           }
          ],
          "carpet": [
           {
            "aaxis": {
             "endlinecolor": "#2a3f5f",
             "gridcolor": "white",
             "linecolor": "white",
             "minorgridcolor": "white",
             "startlinecolor": "#2a3f5f"
            },
            "baxis": {
             "endlinecolor": "#2a3f5f",
             "gridcolor": "white",
             "linecolor": "white",
             "minorgridcolor": "white",
             "startlinecolor": "#2a3f5f"
            },
            "type": "carpet"
           }
          ],
          "choropleth": [
           {
            "colorbar": {
             "outlinewidth": 0,
             "ticks": ""
            },
            "type": "choropleth"
           }
          ],
          "contour": [
           {
            "colorbar": {
             "outlinewidth": 0,
             "ticks": ""
            },
            "colorscale": [
             [
              0,
              "#0d0887"
             ],
             [
              0.1111111111111111,
              "#46039f"
             ],
             [
              0.2222222222222222,
              "#7201a8"
             ],
             [
              0.3333333333333333,
              "#9c179e"
             ],
             [
              0.4444444444444444,
              "#bd3786"
             ],
             [
              0.5555555555555556,
              "#d8576b"
             ],
             [
              0.6666666666666666,
              "#ed7953"
             ],
             [
              0.7777777777777778,
              "#fb9f3a"
             ],
             [
              0.8888888888888888,
              "#fdca26"
             ],
             [
              1,
              "#f0f921"
             ]
            ],
            "type": "contour"
           }
          ],
          "contourcarpet": [
           {
            "colorbar": {
             "outlinewidth": 0,
             "ticks": ""
            },
            "type": "contourcarpet"
           }
          ],
          "heatmap": [
           {
            "colorbar": {
             "outlinewidth": 0,
             "ticks": ""
            },
            "colorscale": [
             [
              0,
              "#0d0887"
             ],
             [
              0.1111111111111111,
              "#46039f"
             ],
             [
              0.2222222222222222,
              "#7201a8"
             ],
             [
              0.3333333333333333,
              "#9c179e"
             ],
             [
              0.4444444444444444,
              "#bd3786"
             ],
             [
              0.5555555555555556,
              "#d8576b"
             ],
             [
              0.6666666666666666,
              "#ed7953"
             ],
             [
              0.7777777777777778,
              "#fb9f3a"
             ],
             [
              0.8888888888888888,
              "#fdca26"
             ],
             [
              1,
              "#f0f921"
             ]
            ],
            "type": "heatmap"
           }
          ],
          "heatmapgl": [
           {
            "colorbar": {
             "outlinewidth": 0,
             "ticks": ""
            },
            "colorscale": [
             [
              0,
              "#0d0887"
             ],
             [
              0.1111111111111111,
              "#46039f"
             ],
             [
              0.2222222222222222,
              "#7201a8"
             ],
             [
              0.3333333333333333,
              "#9c179e"
             ],
             [
              0.4444444444444444,
              "#bd3786"
             ],
             [
              0.5555555555555556,
              "#d8576b"
             ],
             [
              0.6666666666666666,
              "#ed7953"
             ],
             [
              0.7777777777777778,
              "#fb9f3a"
             ],
             [
              0.8888888888888888,
              "#fdca26"
             ],
             [
              1,
              "#f0f921"
             ]
            ],
            "type": "heatmapgl"
           }
          ],
          "histogram": [
           {
            "marker": {
             "colorbar": {
              "outlinewidth": 0,
              "ticks": ""
             }
            },
            "type": "histogram"
           }
          ],
          "histogram2d": [
           {
            "colorbar": {
             "outlinewidth": 0,
             "ticks": ""
            },
            "colorscale": [
             [
              0,
              "#0d0887"
             ],
             [
              0.1111111111111111,
              "#46039f"
             ],
             [
              0.2222222222222222,
              "#7201a8"
             ],
             [
              0.3333333333333333,
              "#9c179e"
             ],
             [
              0.4444444444444444,
              "#bd3786"
             ],
             [
              0.5555555555555556,
              "#d8576b"
             ],
             [
              0.6666666666666666,
              "#ed7953"
             ],
             [
              0.7777777777777778,
              "#fb9f3a"
             ],
             [
              0.8888888888888888,
              "#fdca26"
             ],
             [
              1,
              "#f0f921"
             ]
            ],
            "type": "histogram2d"
           }
          ],
          "histogram2dcontour": [
           {
            "colorbar": {
             "outlinewidth": 0,
             "ticks": ""
            },
            "colorscale": [
             [
              0,
              "#0d0887"
             ],
             [
              0.1111111111111111,
              "#46039f"
             ],
             [
              0.2222222222222222,
              "#7201a8"
             ],
             [
              0.3333333333333333,
              "#9c179e"
             ],
             [
              0.4444444444444444,
              "#bd3786"
             ],
             [
              0.5555555555555556,
              "#d8576b"
             ],
             [
              0.6666666666666666,
              "#ed7953"
             ],
             [
              0.7777777777777778,
              "#fb9f3a"
             ],
             [
              0.8888888888888888,
              "#fdca26"
             ],
             [
              1,
              "#f0f921"
             ]
            ],
            "type": "histogram2dcontour"
           }
          ],
          "mesh3d": [
           {
            "colorbar": {
             "outlinewidth": 0,
             "ticks": ""
            },
            "type": "mesh3d"
           }
          ],
          "parcoords": [
           {
            "line": {
             "colorbar": {
              "outlinewidth": 0,
              "ticks": ""
             }
            },
            "type": "parcoords"
           }
          ],
          "pie": [
           {
            "automargin": true,
            "type": "pie"
           }
          ],
          "scatter": [
           {
            "marker": {
             "colorbar": {
              "outlinewidth": 0,
              "ticks": ""
             }
            },
            "type": "scatter"
           }
          ],
          "scatter3d": [
           {
            "line": {
             "colorbar": {
              "outlinewidth": 0,
              "ticks": ""
             }
            },
            "marker": {
             "colorbar": {
              "outlinewidth": 0,
              "ticks": ""
             }
            },
            "type": "scatter3d"
           }
          ],
          "scattercarpet": [
           {
            "marker": {
             "colorbar": {
              "outlinewidth": 0,
              "ticks": ""
             }
            },
            "type": "scattercarpet"
           }
          ],
          "scattergeo": [
           {
            "marker": {
             "colorbar": {
              "outlinewidth": 0,
              "ticks": ""
             }
            },
            "type": "scattergeo"
           }
          ],
          "scattergl": [
           {
            "marker": {
             "colorbar": {
              "outlinewidth": 0,
              "ticks": ""
             }
            },
            "type": "scattergl"
           }
          ],
          "scattermapbox": [
           {
            "marker": {
             "colorbar": {
              "outlinewidth": 0,
              "ticks": ""
             }
            },
            "type": "scattermapbox"
           }
          ],
          "scatterpolar": [
           {
            "marker": {
             "colorbar": {
              "outlinewidth": 0,
              "ticks": ""
             }
            },
            "type": "scatterpolar"
           }
          ],
          "scatterpolargl": [
           {
            "marker": {
             "colorbar": {
              "outlinewidth": 0,
              "ticks": ""
             }
            },
            "type": "scatterpolargl"
           }
          ],
          "scatterternary": [
           {
            "marker": {
             "colorbar": {
              "outlinewidth": 0,
              "ticks": ""
             }
            },
            "type": "scatterternary"
           }
          ],
          "surface": [
           {
            "colorbar": {
             "outlinewidth": 0,
             "ticks": ""
            },
            "colorscale": [
             [
              0,
              "#0d0887"
             ],
             [
              0.1111111111111111,
              "#46039f"
             ],
             [
              0.2222222222222222,
              "#7201a8"
             ],
             [
              0.3333333333333333,
              "#9c179e"
             ],
             [
              0.4444444444444444,
              "#bd3786"
             ],
             [
              0.5555555555555556,
              "#d8576b"
             ],
             [
              0.6666666666666666,
              "#ed7953"
             ],
             [
              0.7777777777777778,
              "#fb9f3a"
             ],
             [
              0.8888888888888888,
              "#fdca26"
             ],
             [
              1,
              "#f0f921"
             ]
            ],
            "type": "surface"
           }
          ],
          "table": [
           {
            "cells": {
             "fill": {
              "color": "#EBF0F8"
             },
             "line": {
              "color": "white"
             }
            },
            "header": {
             "fill": {
              "color": "#C8D4E3"
             },
             "line": {
              "color": "white"
             }
            },
            "type": "table"
           }
          ]
         },
         "layout": {
          "annotationdefaults": {
           "arrowcolor": "#2a3f5f",
           "arrowhead": 0,
           "arrowwidth": 1
          },
          "coloraxis": {
           "colorbar": {
            "outlinewidth": 0,
            "ticks": ""
           }
          },
          "colorscale": {
           "diverging": [
            [
             0,
             "#8e0152"
            ],
            [
             0.1,
             "#c51b7d"
            ],
            [
             0.2,
             "#de77ae"
            ],
            [
             0.3,
             "#f1b6da"
            ],
            [
             0.4,
             "#fde0ef"
            ],
            [
             0.5,
             "#f7f7f7"
            ],
            [
             0.6,
             "#e6f5d0"
            ],
            [
             0.7,
             "#b8e186"
            ],
            [
             0.8,
             "#7fbc41"
            ],
            [
             0.9,
             "#4d9221"
            ],
            [
             1,
             "#276419"
            ]
           ],
           "sequential": [
            [
             0,
             "#0d0887"
            ],
            [
             0.1111111111111111,
             "#46039f"
            ],
            [
             0.2222222222222222,
             "#7201a8"
            ],
            [
             0.3333333333333333,
             "#9c179e"
            ],
            [
             0.4444444444444444,
             "#bd3786"
            ],
            [
             0.5555555555555556,
             "#d8576b"
            ],
            [
             0.6666666666666666,
             "#ed7953"
            ],
            [
             0.7777777777777778,
             "#fb9f3a"
            ],
            [
             0.8888888888888888,
             "#fdca26"
            ],
            [
             1,
             "#f0f921"
            ]
           ],
           "sequentialminus": [
            [
             0,
             "#0d0887"
            ],
            [
             0.1111111111111111,
             "#46039f"
            ],
            [
             0.2222222222222222,
             "#7201a8"
            ],
            [
             0.3333333333333333,
             "#9c179e"
            ],
            [
             0.4444444444444444,
             "#bd3786"
            ],
            [
             0.5555555555555556,
             "#d8576b"
            ],
            [
             0.6666666666666666,
             "#ed7953"
            ],
            [
             0.7777777777777778,
             "#fb9f3a"
            ],
            [
             0.8888888888888888,
             "#fdca26"
            ],
            [
             1,
             "#f0f921"
            ]
           ]
          },
          "colorway": [
           "#636efa",
           "#EF553B",
           "#00cc96",
           "#ab63fa",
           "#FFA15A",
           "#19d3f3",
           "#FF6692",
           "#B6E880",
           "#FF97FF",
           "#FECB52"
          ],
          "font": {
           "color": "#2a3f5f"
          },
          "geo": {
           "bgcolor": "white",
           "lakecolor": "white",
           "landcolor": "#E5ECF6",
           "showlakes": true,
           "showland": true,
           "subunitcolor": "white"
          },
          "hoverlabel": {
           "align": "left"
          },
          "hovermode": "closest",
          "mapbox": {
           "style": "light"
          },
          "paper_bgcolor": "white",
          "plot_bgcolor": "#E5ECF6",
          "polar": {
           "angularaxis": {
            "gridcolor": "white",
            "linecolor": "white",
            "ticks": ""
           },
           "bgcolor": "#E5ECF6",
           "radialaxis": {
            "gridcolor": "white",
            "linecolor": "white",
            "ticks": ""
           }
          },
          "scene": {
           "xaxis": {
            "backgroundcolor": "#E5ECF6",
            "gridcolor": "white",
            "gridwidth": 2,
            "linecolor": "white",
            "showbackground": true,
            "ticks": "",
            "zerolinecolor": "white"
           },
           "yaxis": {
            "backgroundcolor": "#E5ECF6",
            "gridcolor": "white",
            "gridwidth": 2,
            "linecolor": "white",
            "showbackground": true,
            "ticks": "",
            "zerolinecolor": "white"
           },
           "zaxis": {
            "backgroundcolor": "#E5ECF6",
            "gridcolor": "white",
            "gridwidth": 2,
            "linecolor": "white",
            "showbackground": true,
            "ticks": "",
            "zerolinecolor": "white"
           }
          },
          "shapedefaults": {
           "line": {
            "color": "#2a3f5f"
           }
          },
          "ternary": {
           "aaxis": {
            "gridcolor": "white",
            "linecolor": "white",
            "ticks": ""
           },
           "baxis": {
            "gridcolor": "white",
            "linecolor": "white",
            "ticks": ""
           },
           "bgcolor": "#E5ECF6",
           "caxis": {
            "gridcolor": "white",
            "linecolor": "white",
            "ticks": ""
           }
          },
          "title": {
           "x": 0.05
          },
          "xaxis": {
           "automargin": true,
           "gridcolor": "white",
           "linecolor": "white",
           "ticks": "",
           "title": {
            "standoff": 15
           },
           "zerolinecolor": "white",
           "zerolinewidth": 2
          },
          "yaxis": {
           "automargin": true,
           "gridcolor": "white",
           "linecolor": "white",
           "ticks": "",
           "title": {
            "standoff": 15
           },
           "zerolinecolor": "white",
           "zerolinewidth": 2
          }
         }
        },
        "title": {
         "text": "uni-gram"
        },
        "width": 800,
        "xaxis": {
         "anchor": "y",
         "domain": [
          0,
          1
         ],
         "title": {
          "text": ""
         }
        },
        "yaxis": {
         "anchor": "x",
         "domain": [
          0,
          1
         ],
         "title": {
          "text": ""
         }
        }
       }
      },
      "text/html": [
       "<div>\n",
       "        \n",
       "        \n",
       "            <div id=\"4b59e4ea-6b72-48dc-87ea-49d11fc5867d\" class=\"plotly-graph-div\" style=\"height:1100px; width:800px;\"></div>\n",
       "            <script type=\"text/javascript\">\n",
       "                require([\"plotly\"], function(Plotly) {\n",
       "                    window.PLOTLYENV=window.PLOTLYENV || {};\n",
       "                    \n",
       "                if (document.getElementById(\"4b59e4ea-6b72-48dc-87ea-49d11fc5867d\")) {\n",
       "                    Plotly.newPlot(\n",
       "                        '4b59e4ea-6b72-48dc-87ea-49d11fc5867d',\n",
       "                        [{\"alignmentgroup\": \"True\", \"hovertemplate\": \"word_count=%{text}<br>word=%{y}<extra></extra>\", \"legendgroup\": \"\", \"marker\": {}, \"name\": \"\", \"offsetgroup\": \"\", \"orientation\": \"h\", \"showlegend\": false, \"text\": [6.0, 6.0, 6.0, 6.0, 6.0, 6.0, 6.0, 6.0, 6.0, 6.0, 7.0, 7.0, 8.0, 8.0, 8.0, 8.0, 8.0, 8.0, 8.0, 8.0, 9.0, 10.0, 10.0, 10.0, 10.0, 11.0, 11.0, 11.0, 12.0, 13.0, 13.0, 13.0, 13.0, 13.0, 15.0, 16.0, 16.0, 16.0, 17.0, 18.0, 20.0, 22.0, 23.0, 24.0, 24.0, 35.0, 44.0, 44.0, 46.0, 126.0], \"textposition\": \"auto\", \"texttemplate\": \"%{text:.2s}\", \"type\": \"bar\", \"x\": [6, 6, 6, 6, 6, 6, 6, 6, 6, 6, 7, 7, 8, 8, 8, 8, 8, 8, 8, 8, 9, 10, 10, 10, 10, 11, 11, 11, 12, 13, 13, 13, 13, 13, 15, 16, 16, 16, 17, 18, 20, 22, 23, 24, 24, 35, 44, 44, 46, 126], \"xaxis\": \"x\", \"y\": [\"\\u9806\\u5e8f\", \"\\u30d5\\u30a1\\u30a4\\u30eb\\u30b5\\u30fc\\u30d0\", \"\\u304a\\u304f\", \"\\u30d5\\u30a1\\u30a4\\u30eb\", \"ini\", \"\\u30d7\\u30ed\\u30d5\\u30a1\\u30a4\\u30eb\", \"id\", \"\\u52d5\\u753b\", \"apple\", \"setup\", \"\\u6240\\u5b9a\", \"\\u30c7\\u30fc\\u30bf\", \"\\u30a2\\u30af\\u30bb\\u30b9\", \"url\", \"\\u30e6\\u30fc\\u30b6\", \"pc\", \"\\u30a2\\u30ab\\u30a6\\u30f3\\u30c8\", \"\\u9593\", \"\\u4f7f\\u3046\", \"google\", \"folder\", \"\\u914d\\u5e03\", \"\\u5fc5\\u9808\", \"ad\", \"\\u30a2\\u30d7\\u30ea\\u30ab\\u30bf\\u30ed\\u30b0\", \"\\u3067\\u304d\\u308b\", \"\\u793e\\u5185\", \"\\u53ef\\u80fd\", \"\\u5fc5\\u8981\", \"\\u4f5c\\u6210\", \"\\u30b0\\u30eb\\u30fc\\u30d7\", \"\\u3067\\u3059\", \"\\u30a4\\u30f3\\u30b9\\u30c8\\u30fc\\u30eb\", \"\\u30c0\\u30a6\\u30f3\\u30ed\\u30fc\\u30c9\", \"\\u3042\\u308b\", \"ios\", \"\\u307e\\u305f\\u306f\", \"windows\", \"\\u30b3\\u30f3\\u30c6\\u30f3\\u30c4\", \"android\", \"\\u30b5\\u30fc\\u30d0\", \"os\", \"mobicontrol\", \"\\u5bfe\\u8c61\", \"\\u30eb\\u30fc\\u30eb\", \"\\u30a2\\u30d7\\u30ea\", \"\\u8a2d\\u5b9a\", \"\\u767b\\u9332\", \"\\u307e\\u3059\", \"\\u7aef\\u672b\"], \"yaxis\": \"y\"}],\n",
       "                        {\"barmode\": \"relative\", \"height\": 1100, \"legend\": {\"tracegroupgap\": 0}, \"margin\": {\"t\": 60}, \"template\": {\"data\": {\"bar\": [{\"error_x\": {\"color\": \"#2a3f5f\"}, \"error_y\": {\"color\": \"#2a3f5f\"}, \"marker\": {\"line\": {\"color\": \"#E5ECF6\", \"width\": 0.5}}, \"type\": \"bar\"}], \"barpolar\": [{\"marker\": {\"line\": {\"color\": \"#E5ECF6\", \"width\": 0.5}}, \"type\": \"barpolar\"}], \"carpet\": [{\"aaxis\": {\"endlinecolor\": \"#2a3f5f\", \"gridcolor\": \"white\", \"linecolor\": \"white\", \"minorgridcolor\": \"white\", \"startlinecolor\": \"#2a3f5f\"}, \"baxis\": {\"endlinecolor\": \"#2a3f5f\", \"gridcolor\": \"white\", \"linecolor\": \"white\", \"minorgridcolor\": \"white\", \"startlinecolor\": \"#2a3f5f\"}, \"type\": \"carpet\"}], \"choropleth\": [{\"colorbar\": {\"outlinewidth\": 0, \"ticks\": \"\"}, \"type\": \"choropleth\"}], \"contour\": [{\"colorbar\": {\"outlinewidth\": 0, \"ticks\": \"\"}, \"colorscale\": [[0.0, \"#0d0887\"], [0.1111111111111111, \"#46039f\"], [0.2222222222222222, \"#7201a8\"], [0.3333333333333333, \"#9c179e\"], [0.4444444444444444, \"#bd3786\"], [0.5555555555555556, \"#d8576b\"], [0.6666666666666666, \"#ed7953\"], [0.7777777777777778, \"#fb9f3a\"], [0.8888888888888888, \"#fdca26\"], [1.0, \"#f0f921\"]], \"type\": \"contour\"}], \"contourcarpet\": [{\"colorbar\": {\"outlinewidth\": 0, \"ticks\": \"\"}, \"type\": \"contourcarpet\"}], \"heatmap\": [{\"colorbar\": {\"outlinewidth\": 0, \"ticks\": \"\"}, \"colorscale\": [[0.0, \"#0d0887\"], [0.1111111111111111, \"#46039f\"], [0.2222222222222222, \"#7201a8\"], [0.3333333333333333, \"#9c179e\"], [0.4444444444444444, \"#bd3786\"], [0.5555555555555556, \"#d8576b\"], [0.6666666666666666, \"#ed7953\"], [0.7777777777777778, \"#fb9f3a\"], [0.8888888888888888, \"#fdca26\"], [1.0, \"#f0f921\"]], \"type\": \"heatmap\"}], \"heatmapgl\": [{\"colorbar\": {\"outlinewidth\": 0, \"ticks\": \"\"}, \"colorscale\": [[0.0, \"#0d0887\"], [0.1111111111111111, \"#46039f\"], [0.2222222222222222, \"#7201a8\"], [0.3333333333333333, \"#9c179e\"], [0.4444444444444444, \"#bd3786\"], [0.5555555555555556, \"#d8576b\"], [0.6666666666666666, \"#ed7953\"], [0.7777777777777778, \"#fb9f3a\"], [0.8888888888888888, \"#fdca26\"], [1.0, \"#f0f921\"]], \"type\": \"heatmapgl\"}], \"histogram\": [{\"marker\": {\"colorbar\": {\"outlinewidth\": 0, \"ticks\": \"\"}}, \"type\": \"histogram\"}], \"histogram2d\": [{\"colorbar\": {\"outlinewidth\": 0, \"ticks\": \"\"}, \"colorscale\": [[0.0, \"#0d0887\"], [0.1111111111111111, \"#46039f\"], [0.2222222222222222, \"#7201a8\"], [0.3333333333333333, \"#9c179e\"], [0.4444444444444444, \"#bd3786\"], [0.5555555555555556, \"#d8576b\"], [0.6666666666666666, \"#ed7953\"], [0.7777777777777778, \"#fb9f3a\"], [0.8888888888888888, \"#fdca26\"], [1.0, \"#f0f921\"]], \"type\": \"histogram2d\"}], \"histogram2dcontour\": [{\"colorbar\": {\"outlinewidth\": 0, \"ticks\": \"\"}, \"colorscale\": [[0.0, \"#0d0887\"], [0.1111111111111111, \"#46039f\"], [0.2222222222222222, \"#7201a8\"], [0.3333333333333333, \"#9c179e\"], [0.4444444444444444, \"#bd3786\"], [0.5555555555555556, \"#d8576b\"], [0.6666666666666666, \"#ed7953\"], [0.7777777777777778, \"#fb9f3a\"], [0.8888888888888888, \"#fdca26\"], [1.0, \"#f0f921\"]], \"type\": \"histogram2dcontour\"}], \"mesh3d\": [{\"colorbar\": {\"outlinewidth\": 0, \"ticks\": \"\"}, \"type\": \"mesh3d\"}], \"parcoords\": [{\"line\": {\"colorbar\": {\"outlinewidth\": 0, \"ticks\": \"\"}}, \"type\": \"parcoords\"}], \"pie\": [{\"automargin\": true, \"type\": \"pie\"}], \"scatter\": [{\"marker\": {\"colorbar\": {\"outlinewidth\": 0, \"ticks\": \"\"}}, \"type\": \"scatter\"}], \"scatter3d\": [{\"line\": {\"colorbar\": {\"outlinewidth\": 0, \"ticks\": \"\"}}, \"marker\": {\"colorbar\": {\"outlinewidth\": 0, \"ticks\": \"\"}}, \"type\": \"scatter3d\"}], \"scattercarpet\": [{\"marker\": {\"colorbar\": {\"outlinewidth\": 0, \"ticks\": \"\"}}, \"type\": \"scattercarpet\"}], \"scattergeo\": [{\"marker\": {\"colorbar\": {\"outlinewidth\": 0, \"ticks\": \"\"}}, \"type\": \"scattergeo\"}], \"scattergl\": [{\"marker\": {\"colorbar\": {\"outlinewidth\": 0, \"ticks\": \"\"}}, \"type\": \"scattergl\"}], \"scattermapbox\": [{\"marker\": {\"colorbar\": {\"outlinewidth\": 0, \"ticks\": \"\"}}, \"type\": \"scattermapbox\"}], \"scatterpolar\": [{\"marker\": {\"colorbar\": {\"outlinewidth\": 0, \"ticks\": \"\"}}, \"type\": \"scatterpolar\"}], \"scatterpolargl\": [{\"marker\": {\"colorbar\": {\"outlinewidth\": 0, \"ticks\": \"\"}}, \"type\": \"scatterpolargl\"}], \"scatterternary\": [{\"marker\": {\"colorbar\": {\"outlinewidth\": 0, \"ticks\": \"\"}}, \"type\": \"scatterternary\"}], \"surface\": [{\"colorbar\": {\"outlinewidth\": 0, \"ticks\": \"\"}, \"colorscale\": [[0.0, \"#0d0887\"], [0.1111111111111111, \"#46039f\"], [0.2222222222222222, \"#7201a8\"], [0.3333333333333333, \"#9c179e\"], [0.4444444444444444, \"#bd3786\"], [0.5555555555555556, \"#d8576b\"], [0.6666666666666666, \"#ed7953\"], [0.7777777777777778, \"#fb9f3a\"], [0.8888888888888888, \"#fdca26\"], [1.0, \"#f0f921\"]], \"type\": \"surface\"}], \"table\": [{\"cells\": {\"fill\": {\"color\": \"#EBF0F8\"}, \"line\": {\"color\": \"white\"}}, \"header\": {\"fill\": {\"color\": \"#C8D4E3\"}, \"line\": {\"color\": \"white\"}}, \"type\": \"table\"}]}, \"layout\": {\"annotationdefaults\": {\"arrowcolor\": \"#2a3f5f\", \"arrowhead\": 0, \"arrowwidth\": 1}, \"coloraxis\": {\"colorbar\": {\"outlinewidth\": 0, \"ticks\": \"\"}}, \"colorscale\": {\"diverging\": [[0, \"#8e0152\"], [0.1, \"#c51b7d\"], [0.2, \"#de77ae\"], [0.3, \"#f1b6da\"], [0.4, \"#fde0ef\"], [0.5, \"#f7f7f7\"], [0.6, \"#e6f5d0\"], [0.7, \"#b8e186\"], [0.8, \"#7fbc41\"], [0.9, \"#4d9221\"], [1, \"#276419\"]], \"sequential\": [[0.0, \"#0d0887\"], [0.1111111111111111, \"#46039f\"], [0.2222222222222222, \"#7201a8\"], [0.3333333333333333, \"#9c179e\"], [0.4444444444444444, \"#bd3786\"], [0.5555555555555556, \"#d8576b\"], [0.6666666666666666, \"#ed7953\"], [0.7777777777777778, \"#fb9f3a\"], [0.8888888888888888, \"#fdca26\"], [1.0, \"#f0f921\"]], \"sequentialminus\": [[0.0, \"#0d0887\"], [0.1111111111111111, \"#46039f\"], [0.2222222222222222, \"#7201a8\"], [0.3333333333333333, \"#9c179e\"], [0.4444444444444444, \"#bd3786\"], [0.5555555555555556, \"#d8576b\"], [0.6666666666666666, \"#ed7953\"], [0.7777777777777778, \"#fb9f3a\"], [0.8888888888888888, \"#fdca26\"], [1.0, \"#f0f921\"]]}, \"colorway\": [\"#636efa\", \"#EF553B\", \"#00cc96\", \"#ab63fa\", \"#FFA15A\", \"#19d3f3\", \"#FF6692\", \"#B6E880\", \"#FF97FF\", \"#FECB52\"], \"font\": {\"color\": \"#2a3f5f\"}, \"geo\": {\"bgcolor\": \"white\", \"lakecolor\": \"white\", \"landcolor\": \"#E5ECF6\", \"showlakes\": true, \"showland\": true, \"subunitcolor\": \"white\"}, \"hoverlabel\": {\"align\": \"left\"}, \"hovermode\": \"closest\", \"mapbox\": {\"style\": \"light\"}, \"paper_bgcolor\": \"white\", \"plot_bgcolor\": \"#E5ECF6\", \"polar\": {\"angularaxis\": {\"gridcolor\": \"white\", \"linecolor\": \"white\", \"ticks\": \"\"}, \"bgcolor\": \"#E5ECF6\", \"radialaxis\": {\"gridcolor\": \"white\", \"linecolor\": \"white\", \"ticks\": \"\"}}, \"scene\": {\"xaxis\": {\"backgroundcolor\": \"#E5ECF6\", \"gridcolor\": \"white\", \"gridwidth\": 2, \"linecolor\": \"white\", \"showbackground\": true, \"ticks\": \"\", \"zerolinecolor\": \"white\"}, \"yaxis\": {\"backgroundcolor\": \"#E5ECF6\", \"gridcolor\": \"white\", \"gridwidth\": 2, \"linecolor\": \"white\", \"showbackground\": true, \"ticks\": \"\", \"zerolinecolor\": \"white\"}, \"zaxis\": {\"backgroundcolor\": \"#E5ECF6\", \"gridcolor\": \"white\", \"gridwidth\": 2, \"linecolor\": \"white\", \"showbackground\": true, \"ticks\": \"\", \"zerolinecolor\": \"white\"}}, \"shapedefaults\": {\"line\": {\"color\": \"#2a3f5f\"}}, \"ternary\": {\"aaxis\": {\"gridcolor\": \"white\", \"linecolor\": \"white\", \"ticks\": \"\"}, \"baxis\": {\"gridcolor\": \"white\", \"linecolor\": \"white\", \"ticks\": \"\"}, \"bgcolor\": \"#E5ECF6\", \"caxis\": {\"gridcolor\": \"white\", \"linecolor\": \"white\", \"ticks\": \"\"}}, \"title\": {\"x\": 0.05}, \"xaxis\": {\"automargin\": true, \"gridcolor\": \"white\", \"linecolor\": \"white\", \"ticks\": \"\", \"title\": {\"standoff\": 15}, \"zerolinecolor\": \"white\", \"zerolinewidth\": 2}, \"yaxis\": {\"automargin\": true, \"gridcolor\": \"white\", \"linecolor\": \"white\", \"ticks\": \"\", \"title\": {\"standoff\": 15}, \"zerolinecolor\": \"white\", \"zerolinewidth\": 2}}}, \"title\": {\"text\": \"uni-gram\"}, \"width\": 800, \"xaxis\": {\"anchor\": \"y\", \"domain\": [0.0, 1.0], \"title\": {\"text\": \"\"}}, \"yaxis\": {\"anchor\": \"x\", \"domain\": [0.0, 1.0], \"title\": {\"text\": \"\"}}},\n",
       "                        {\"responsive\": true}\n",
       "                    ).then(function(){\n",
       "                            \n",
       "var gd = document.getElementById('4b59e4ea-6b72-48dc-87ea-49d11fc5867d');\n",
       "var x = new MutationObserver(function (mutations, observer) {{\n",
       "        var display = window.getComputedStyle(gd).display;\n",
       "        if (!display || display === 'none') {{\n",
       "            console.log([gd, 'removed!']);\n",
       "            Plotly.purge(gd);\n",
       "            observer.disconnect();\n",
       "        }}\n",
       "}});\n",
       "\n",
       "// Listen for the removal of the full notebook cells\n",
       "var notebookContainer = gd.closest('#notebook-container');\n",
       "if (notebookContainer) {{\n",
       "    x.observe(notebookContainer, {childList: true});\n",
       "}}\n",
       "\n",
       "// Listen for the clearing of the current output cell\n",
       "var outputEl = gd.closest('.output');\n",
       "if (outputEl) {{\n",
       "    x.observe(outputEl, {childList: true});\n",
       "}}\n",
       "\n",
       "                        })\n",
       "                };\n",
       "                });\n",
       "            </script>\n",
       "        </div>"
      ]
     },
     "metadata": {},
     "output_type": "display_data"
    }
   ],
   "source": [
    "# Stopword calculations can be performed.\n",
    "stopwords = npt.get_stopword(top_n=30, min_freq=0)\n",
    "\n",
    "# 1. N-gram bar chart\n",
    "npt.bar_ngram(title='uni-gram', ngram=1, top_n=50)"
   ]
  },
  {
   "cell_type": "code",
   "execution_count": 71,
   "metadata": {},
   "outputs": [
    {
     "name": "stderr",
     "output_type": "stream",
     "text": [
      "100%|██████████| 126/126 [00:00<00:00, 142948.96it/s]\n"
     ]
    },
    {
     "data": {
      "application/vnd.plotly.v1+json": {
       "config": {
        "plotlyServerURL": "https://plot.ly"
       },
       "data": [
        {
         "alignmentgroup": "True",
         "hovertemplate": "word_count=%{text}<br>word=%{y}<extra></extra>",
         "legendgroup": "",
         "marker": {},
         "name": "",
         "offsetgroup": "",
         "orientation": "h",
         "showlegend": false,
         "text": [
          4,
          4,
          4,
          4,
          4,
          4,
          4,
          4,
          4,
          4,
          5,
          5,
          5,
          5,
          5,
          5,
          6,
          7,
          15,
          16
         ],
         "textposition": "auto",
         "texttemplate": "%{text:.2s}",
         "type": "bar",
         "x": [
          4,
          4,
          4,
          4,
          4,
          4,
          4,
          4,
          4,
          4,
          5,
          5,
          5,
          5,
          5,
          5,
          6,
          7,
          15,
          16
         ],
         "xaxis": "x",
         "y": [
          "os 対象 端末",
          "登録 url または",
          "url または setup",
          "または setup ini",
          "文書 写真 動画",
          "写真 動画 コンテンツ",
          "モバイル端末 向け 意図",
          "おく 必要 ある",
          "社内 限り アプリ",
          "クリック 説明 ページ",
          "端末 グループ 登録",
          "端末 android 端末",
          "登録 id 登録",
          "id 登録 url",
          "必要 ある ます",
          "ios 端末 android",
          "setup ini ファイル",
          "所定 端末 グループ",
          "端末 登録 ルール",
          "端末 os 対象"
         ],
         "yaxis": "y"
        }
       ],
       "layout": {
        "barmode": "relative",
        "height": 1100,
        "legend": {
         "tracegroupgap": 0
        },
        "margin": {
         "t": 60
        },
        "template": {
         "data": {
          "bar": [
           {
            "error_x": {
             "color": "#2a3f5f"
            },
            "error_y": {
             "color": "#2a3f5f"
            },
            "marker": {
             "line": {
              "color": "#E5ECF6",
              "width": 0.5
             }
            },
            "type": "bar"
           }
          ],
          "barpolar": [
           {
            "marker": {
             "line": {
              "color": "#E5ECF6",
              "width": 0.5
             }
            },
            "type": "barpolar"
           }
          ],
          "carpet": [
           {
            "aaxis": {
             "endlinecolor": "#2a3f5f",
             "gridcolor": "white",
             "linecolor": "white",
             "minorgridcolor": "white",
             "startlinecolor": "#2a3f5f"
            },
            "baxis": {
             "endlinecolor": "#2a3f5f",
             "gridcolor": "white",
             "linecolor": "white",
             "minorgridcolor": "white",
             "startlinecolor": "#2a3f5f"
            },
            "type": "carpet"
           }
          ],
          "choropleth": [
           {
            "colorbar": {
             "outlinewidth": 0,
             "ticks": ""
            },
            "type": "choropleth"
           }
          ],
          "contour": [
           {
            "colorbar": {
             "outlinewidth": 0,
             "ticks": ""
            },
            "colorscale": [
             [
              0,
              "#0d0887"
             ],
             [
              0.1111111111111111,
              "#46039f"
             ],
             [
              0.2222222222222222,
              "#7201a8"
             ],
             [
              0.3333333333333333,
              "#9c179e"
             ],
             [
              0.4444444444444444,
              "#bd3786"
             ],
             [
              0.5555555555555556,
              "#d8576b"
             ],
             [
              0.6666666666666666,
              "#ed7953"
             ],
             [
              0.7777777777777778,
              "#fb9f3a"
             ],
             [
              0.8888888888888888,
              "#fdca26"
             ],
             [
              1,
              "#f0f921"
             ]
            ],
            "type": "contour"
           }
          ],
          "contourcarpet": [
           {
            "colorbar": {
             "outlinewidth": 0,
             "ticks": ""
            },
            "type": "contourcarpet"
           }
          ],
          "heatmap": [
           {
            "colorbar": {
             "outlinewidth": 0,
             "ticks": ""
            },
            "colorscale": [
             [
              0,
              "#0d0887"
             ],
             [
              0.1111111111111111,
              "#46039f"
             ],
             [
              0.2222222222222222,
              "#7201a8"
             ],
             [
              0.3333333333333333,
              "#9c179e"
             ],
             [
              0.4444444444444444,
              "#bd3786"
             ],
             [
              0.5555555555555556,
              "#d8576b"
             ],
             [
              0.6666666666666666,
              "#ed7953"
             ],
             [
              0.7777777777777778,
              "#fb9f3a"
             ],
             [
              0.8888888888888888,
              "#fdca26"
             ],
             [
              1,
              "#f0f921"
             ]
            ],
            "type": "heatmap"
           }
          ],
          "heatmapgl": [
           {
            "colorbar": {
             "outlinewidth": 0,
             "ticks": ""
            },
            "colorscale": [
             [
              0,
              "#0d0887"
             ],
             [
              0.1111111111111111,
              "#46039f"
             ],
             [
              0.2222222222222222,
              "#7201a8"
             ],
             [
              0.3333333333333333,
              "#9c179e"
             ],
             [
              0.4444444444444444,
              "#bd3786"
             ],
             [
              0.5555555555555556,
              "#d8576b"
             ],
             [
              0.6666666666666666,
              "#ed7953"
             ],
             [
              0.7777777777777778,
              "#fb9f3a"
             ],
             [
              0.8888888888888888,
              "#fdca26"
             ],
             [
              1,
              "#f0f921"
             ]
            ],
            "type": "heatmapgl"
           }
          ],
          "histogram": [
           {
            "marker": {
             "colorbar": {
              "outlinewidth": 0,
              "ticks": ""
             }
            },
            "type": "histogram"
           }
          ],
          "histogram2d": [
           {
            "colorbar": {
             "outlinewidth": 0,
             "ticks": ""
            },
            "colorscale": [
             [
              0,
              "#0d0887"
             ],
             [
              0.1111111111111111,
              "#46039f"
             ],
             [
              0.2222222222222222,
              "#7201a8"
             ],
             [
              0.3333333333333333,
              "#9c179e"
             ],
             [
              0.4444444444444444,
              "#bd3786"
             ],
             [
              0.5555555555555556,
              "#d8576b"
             ],
             [
              0.6666666666666666,
              "#ed7953"
             ],
             [
              0.7777777777777778,
              "#fb9f3a"
             ],
             [
              0.8888888888888888,
              "#fdca26"
             ],
             [
              1,
              "#f0f921"
             ]
            ],
            "type": "histogram2d"
           }
          ],
          "histogram2dcontour": [
           {
            "colorbar": {
             "outlinewidth": 0,
             "ticks": ""
            },
            "colorscale": [
             [
              0,
              "#0d0887"
             ],
             [
              0.1111111111111111,
              "#46039f"
             ],
             [
              0.2222222222222222,
              "#7201a8"
             ],
             [
              0.3333333333333333,
              "#9c179e"
             ],
             [
              0.4444444444444444,
              "#bd3786"
             ],
             [
              0.5555555555555556,
              "#d8576b"
             ],
             [
              0.6666666666666666,
              "#ed7953"
             ],
             [
              0.7777777777777778,
              "#fb9f3a"
             ],
             [
              0.8888888888888888,
              "#fdca26"
             ],
             [
              1,
              "#f0f921"
             ]
            ],
            "type": "histogram2dcontour"
           }
          ],
          "mesh3d": [
           {
            "colorbar": {
             "outlinewidth": 0,
             "ticks": ""
            },
            "type": "mesh3d"
           }
          ],
          "parcoords": [
           {
            "line": {
             "colorbar": {
              "outlinewidth": 0,
              "ticks": ""
             }
            },
            "type": "parcoords"
           }
          ],
          "pie": [
           {
            "automargin": true,
            "type": "pie"
           }
          ],
          "scatter": [
           {
            "marker": {
             "colorbar": {
              "outlinewidth": 0,
              "ticks": ""
             }
            },
            "type": "scatter"
           }
          ],
          "scatter3d": [
           {
            "line": {
             "colorbar": {
              "outlinewidth": 0,
              "ticks": ""
             }
            },
            "marker": {
             "colorbar": {
              "outlinewidth": 0,
              "ticks": ""
             }
            },
            "type": "scatter3d"
           }
          ],
          "scattercarpet": [
           {
            "marker": {
             "colorbar": {
              "outlinewidth": 0,
              "ticks": ""
             }
            },
            "type": "scattercarpet"
           }
          ],
          "scattergeo": [
           {
            "marker": {
             "colorbar": {
              "outlinewidth": 0,
              "ticks": ""
             }
            },
            "type": "scattergeo"
           }
          ],
          "scattergl": [
           {
            "marker": {
             "colorbar": {
              "outlinewidth": 0,
              "ticks": ""
             }
            },
            "type": "scattergl"
           }
          ],
          "scattermapbox": [
           {
            "marker": {
             "colorbar": {
              "outlinewidth": 0,
              "ticks": ""
             }
            },
            "type": "scattermapbox"
           }
          ],
          "scatterpolar": [
           {
            "marker": {
             "colorbar": {
              "outlinewidth": 0,
              "ticks": ""
             }
            },
            "type": "scatterpolar"
           }
          ],
          "scatterpolargl": [
           {
            "marker": {
             "colorbar": {
              "outlinewidth": 0,
              "ticks": ""
             }
            },
            "type": "scatterpolargl"
           }
          ],
          "scatterternary": [
           {
            "marker": {
             "colorbar": {
              "outlinewidth": 0,
              "ticks": ""
             }
            },
            "type": "scatterternary"
           }
          ],
          "surface": [
           {
            "colorbar": {
             "outlinewidth": 0,
             "ticks": ""
            },
            "colorscale": [
             [
              0,
              "#0d0887"
             ],
             [
              0.1111111111111111,
              "#46039f"
             ],
             [
              0.2222222222222222,
              "#7201a8"
             ],
             [
              0.3333333333333333,
              "#9c179e"
             ],
             [
              0.4444444444444444,
              "#bd3786"
             ],
             [
              0.5555555555555556,
              "#d8576b"
             ],
             [
              0.6666666666666666,
              "#ed7953"
             ],
             [
              0.7777777777777778,
              "#fb9f3a"
             ],
             [
              0.8888888888888888,
              "#fdca26"
             ],
             [
              1,
              "#f0f921"
             ]
            ],
            "type": "surface"
           }
          ],
          "table": [
           {
            "cells": {
             "fill": {
              "color": "#EBF0F8"
             },
             "line": {
              "color": "white"
             }
            },
            "header": {
             "fill": {
              "color": "#C8D4E3"
             },
             "line": {
              "color": "white"
             }
            },
            "type": "table"
           }
          ]
         },
         "layout": {
          "annotationdefaults": {
           "arrowcolor": "#2a3f5f",
           "arrowhead": 0,
           "arrowwidth": 1
          },
          "coloraxis": {
           "colorbar": {
            "outlinewidth": 0,
            "ticks": ""
           }
          },
          "colorscale": {
           "diverging": [
            [
             0,
             "#8e0152"
            ],
            [
             0.1,
             "#c51b7d"
            ],
            [
             0.2,
             "#de77ae"
            ],
            [
             0.3,
             "#f1b6da"
            ],
            [
             0.4,
             "#fde0ef"
            ],
            [
             0.5,
             "#f7f7f7"
            ],
            [
             0.6,
             "#e6f5d0"
            ],
            [
             0.7,
             "#b8e186"
            ],
            [
             0.8,
             "#7fbc41"
            ],
            [
             0.9,
             "#4d9221"
            ],
            [
             1,
             "#276419"
            ]
           ],
           "sequential": [
            [
             0,
             "#0d0887"
            ],
            [
             0.1111111111111111,
             "#46039f"
            ],
            [
             0.2222222222222222,
             "#7201a8"
            ],
            [
             0.3333333333333333,
             "#9c179e"
            ],
            [
             0.4444444444444444,
             "#bd3786"
            ],
            [
             0.5555555555555556,
             "#d8576b"
            ],
            [
             0.6666666666666666,
             "#ed7953"
            ],
            [
             0.7777777777777778,
             "#fb9f3a"
            ],
            [
             0.8888888888888888,
             "#fdca26"
            ],
            [
             1,
             "#f0f921"
            ]
           ],
           "sequentialminus": [
            [
             0,
             "#0d0887"
            ],
            [
             0.1111111111111111,
             "#46039f"
            ],
            [
             0.2222222222222222,
             "#7201a8"
            ],
            [
             0.3333333333333333,
             "#9c179e"
            ],
            [
             0.4444444444444444,
             "#bd3786"
            ],
            [
             0.5555555555555556,
             "#d8576b"
            ],
            [
             0.6666666666666666,
             "#ed7953"
            ],
            [
             0.7777777777777778,
             "#fb9f3a"
            ],
            [
             0.8888888888888888,
             "#fdca26"
            ],
            [
             1,
             "#f0f921"
            ]
           ]
          },
          "colorway": [
           "#636efa",
           "#EF553B",
           "#00cc96",
           "#ab63fa",
           "#FFA15A",
           "#19d3f3",
           "#FF6692",
           "#B6E880",
           "#FF97FF",
           "#FECB52"
          ],
          "font": {
           "color": "#2a3f5f"
          },
          "geo": {
           "bgcolor": "white",
           "lakecolor": "white",
           "landcolor": "#E5ECF6",
           "showlakes": true,
           "showland": true,
           "subunitcolor": "white"
          },
          "hoverlabel": {
           "align": "left"
          },
          "hovermode": "closest",
          "mapbox": {
           "style": "light"
          },
          "paper_bgcolor": "white",
          "plot_bgcolor": "#E5ECF6",
          "polar": {
           "angularaxis": {
            "gridcolor": "white",
            "linecolor": "white",
            "ticks": ""
           },
           "bgcolor": "#E5ECF6",
           "radialaxis": {
            "gridcolor": "white",
            "linecolor": "white",
            "ticks": ""
           }
          },
          "scene": {
           "xaxis": {
            "backgroundcolor": "#E5ECF6",
            "gridcolor": "white",
            "gridwidth": 2,
            "linecolor": "white",
            "showbackground": true,
            "ticks": "",
            "zerolinecolor": "white"
           },
           "yaxis": {
            "backgroundcolor": "#E5ECF6",
            "gridcolor": "white",
            "gridwidth": 2,
            "linecolor": "white",
            "showbackground": true,
            "ticks": "",
            "zerolinecolor": "white"
           },
           "zaxis": {
            "backgroundcolor": "#E5ECF6",
            "gridcolor": "white",
            "gridwidth": 2,
            "linecolor": "white",
            "showbackground": true,
            "ticks": "",
            "zerolinecolor": "white"
           }
          },
          "shapedefaults": {
           "line": {
            "color": "#2a3f5f"
           }
          },
          "ternary": {
           "aaxis": {
            "gridcolor": "white",
            "linecolor": "white",
            "ticks": ""
           },
           "baxis": {
            "gridcolor": "white",
            "linecolor": "white",
            "ticks": ""
           },
           "bgcolor": "#E5ECF6",
           "caxis": {
            "gridcolor": "white",
            "linecolor": "white",
            "ticks": ""
           }
          },
          "title": {
           "x": 0.05
          },
          "xaxis": {
           "automargin": true,
           "gridcolor": "white",
           "linecolor": "white",
           "ticks": "",
           "title": {
            "standoff": 15
           },
           "zerolinecolor": "white",
           "zerolinewidth": 2
          },
          "yaxis": {
           "automargin": true,
           "gridcolor": "white",
           "linecolor": "white",
           "ticks": "",
           "title": {
            "standoff": 15
           },
           "zerolinecolor": "white",
           "zerolinewidth": 2
          }
         }
        },
        "title": {
         "text": "bi-gram"
        },
        "width": 800,
        "xaxis": {
         "anchor": "y",
         "domain": [
          0,
          1
         ],
         "title": {
          "text": ""
         }
        },
        "yaxis": {
         "anchor": "x",
         "domain": [
          0,
          1
         ],
         "title": {
          "text": ""
         }
        }
       }
      },
      "text/html": [
       "<div>\n",
       "        \n",
       "        \n",
       "            <div id=\"24efe05e-af57-4ebc-a1b6-672a73b07966\" class=\"plotly-graph-div\" style=\"height:1100px; width:800px;\"></div>\n",
       "            <script type=\"text/javascript\">\n",
       "                require([\"plotly\"], function(Plotly) {\n",
       "                    window.PLOTLYENV=window.PLOTLYENV || {};\n",
       "                    \n",
       "                if (document.getElementById(\"24efe05e-af57-4ebc-a1b6-672a73b07966\")) {\n",
       "                    Plotly.newPlot(\n",
       "                        '24efe05e-af57-4ebc-a1b6-672a73b07966',\n",
       "                        [{\"alignmentgroup\": \"True\", \"hovertemplate\": \"word_count=%{text}<br>word=%{y}<extra></extra>\", \"legendgroup\": \"\", \"marker\": {}, \"name\": \"\", \"offsetgroup\": \"\", \"orientation\": \"h\", \"showlegend\": false, \"text\": [4.0, 4.0, 4.0, 4.0, 4.0, 4.0, 4.0, 4.0, 4.0, 4.0, 5.0, 5.0, 5.0, 5.0, 5.0, 5.0, 6.0, 7.0, 15.0, 16.0], \"textposition\": \"auto\", \"texttemplate\": \"%{text:.2s}\", \"type\": \"bar\", \"x\": [4, 4, 4, 4, 4, 4, 4, 4, 4, 4, 5, 5, 5, 5, 5, 5, 6, 7, 15, 16], \"xaxis\": \"x\", \"y\": [\"os \\u5bfe\\u8c61 \\u7aef\\u672b\", \"\\u767b\\u9332 url \\u307e\\u305f\\u306f\", \"url \\u307e\\u305f\\u306f setup\", \"\\u307e\\u305f\\u306f setup ini\", \"\\u6587\\u66f8 \\u5199\\u771f \\u52d5\\u753b\", \"\\u5199\\u771f \\u52d5\\u753b \\u30b3\\u30f3\\u30c6\\u30f3\\u30c4\", \"\\u30e2\\u30d0\\u30a4\\u30eb\\u7aef\\u672b \\u5411\\u3051 \\u610f\\u56f3\", \"\\u304a\\u304f \\u5fc5\\u8981 \\u3042\\u308b\", \"\\u793e\\u5185 \\u9650\\u308a \\u30a2\\u30d7\\u30ea\", \"\\u30af\\u30ea\\u30c3\\u30af \\u8aac\\u660e \\u30da\\u30fc\\u30b8\", \"\\u7aef\\u672b \\u30b0\\u30eb\\u30fc\\u30d7 \\u767b\\u9332\", \"\\u7aef\\u672b android \\u7aef\\u672b\", \"\\u767b\\u9332 id \\u767b\\u9332\", \"id \\u767b\\u9332 url\", \"\\u5fc5\\u8981 \\u3042\\u308b \\u307e\\u3059\", \"ios \\u7aef\\u672b android\", \"setup ini \\u30d5\\u30a1\\u30a4\\u30eb\", \"\\u6240\\u5b9a \\u7aef\\u672b \\u30b0\\u30eb\\u30fc\\u30d7\", \"\\u7aef\\u672b \\u767b\\u9332 \\u30eb\\u30fc\\u30eb\", \"\\u7aef\\u672b os \\u5bfe\\u8c61\"], \"yaxis\": \"y\"}],\n",
       "                        {\"barmode\": \"relative\", \"height\": 1100, \"legend\": {\"tracegroupgap\": 0}, \"margin\": {\"t\": 60}, \"template\": {\"data\": {\"bar\": [{\"error_x\": {\"color\": \"#2a3f5f\"}, \"error_y\": {\"color\": \"#2a3f5f\"}, \"marker\": {\"line\": {\"color\": \"#E5ECF6\", \"width\": 0.5}}, \"type\": \"bar\"}], \"barpolar\": [{\"marker\": {\"line\": {\"color\": \"#E5ECF6\", \"width\": 0.5}}, \"type\": \"barpolar\"}], \"carpet\": [{\"aaxis\": {\"endlinecolor\": \"#2a3f5f\", \"gridcolor\": \"white\", \"linecolor\": \"white\", \"minorgridcolor\": \"white\", \"startlinecolor\": \"#2a3f5f\"}, \"baxis\": {\"endlinecolor\": \"#2a3f5f\", \"gridcolor\": \"white\", \"linecolor\": \"white\", \"minorgridcolor\": \"white\", \"startlinecolor\": \"#2a3f5f\"}, \"type\": \"carpet\"}], \"choropleth\": [{\"colorbar\": {\"outlinewidth\": 0, \"ticks\": \"\"}, \"type\": \"choropleth\"}], \"contour\": [{\"colorbar\": {\"outlinewidth\": 0, \"ticks\": \"\"}, \"colorscale\": [[0.0, \"#0d0887\"], [0.1111111111111111, \"#46039f\"], [0.2222222222222222, \"#7201a8\"], [0.3333333333333333, \"#9c179e\"], [0.4444444444444444, \"#bd3786\"], [0.5555555555555556, \"#d8576b\"], [0.6666666666666666, \"#ed7953\"], [0.7777777777777778, \"#fb9f3a\"], [0.8888888888888888, \"#fdca26\"], [1.0, \"#f0f921\"]], \"type\": \"contour\"}], \"contourcarpet\": [{\"colorbar\": {\"outlinewidth\": 0, \"ticks\": \"\"}, \"type\": \"contourcarpet\"}], \"heatmap\": [{\"colorbar\": {\"outlinewidth\": 0, \"ticks\": \"\"}, \"colorscale\": [[0.0, \"#0d0887\"], [0.1111111111111111, \"#46039f\"], [0.2222222222222222, \"#7201a8\"], [0.3333333333333333, \"#9c179e\"], [0.4444444444444444, \"#bd3786\"], [0.5555555555555556, \"#d8576b\"], [0.6666666666666666, \"#ed7953\"], [0.7777777777777778, \"#fb9f3a\"], [0.8888888888888888, \"#fdca26\"], [1.0, \"#f0f921\"]], \"type\": \"heatmap\"}], \"heatmapgl\": [{\"colorbar\": {\"outlinewidth\": 0, \"ticks\": \"\"}, \"colorscale\": [[0.0, \"#0d0887\"], [0.1111111111111111, \"#46039f\"], [0.2222222222222222, \"#7201a8\"], [0.3333333333333333, \"#9c179e\"], [0.4444444444444444, \"#bd3786\"], [0.5555555555555556, \"#d8576b\"], [0.6666666666666666, \"#ed7953\"], [0.7777777777777778, \"#fb9f3a\"], [0.8888888888888888, \"#fdca26\"], [1.0, \"#f0f921\"]], \"type\": \"heatmapgl\"}], \"histogram\": [{\"marker\": {\"colorbar\": {\"outlinewidth\": 0, \"ticks\": \"\"}}, \"type\": \"histogram\"}], \"histogram2d\": [{\"colorbar\": {\"outlinewidth\": 0, \"ticks\": \"\"}, \"colorscale\": [[0.0, \"#0d0887\"], [0.1111111111111111, \"#46039f\"], [0.2222222222222222, \"#7201a8\"], [0.3333333333333333, \"#9c179e\"], [0.4444444444444444, \"#bd3786\"], [0.5555555555555556, \"#d8576b\"], [0.6666666666666666, \"#ed7953\"], [0.7777777777777778, \"#fb9f3a\"], [0.8888888888888888, \"#fdca26\"], [1.0, \"#f0f921\"]], \"type\": \"histogram2d\"}], \"histogram2dcontour\": [{\"colorbar\": {\"outlinewidth\": 0, \"ticks\": \"\"}, \"colorscale\": [[0.0, \"#0d0887\"], [0.1111111111111111, \"#46039f\"], [0.2222222222222222, \"#7201a8\"], [0.3333333333333333, \"#9c179e\"], [0.4444444444444444, \"#bd3786\"], [0.5555555555555556, \"#d8576b\"], [0.6666666666666666, \"#ed7953\"], [0.7777777777777778, \"#fb9f3a\"], [0.8888888888888888, \"#fdca26\"], [1.0, \"#f0f921\"]], \"type\": \"histogram2dcontour\"}], \"mesh3d\": [{\"colorbar\": {\"outlinewidth\": 0, \"ticks\": \"\"}, \"type\": \"mesh3d\"}], \"parcoords\": [{\"line\": {\"colorbar\": {\"outlinewidth\": 0, \"ticks\": \"\"}}, \"type\": \"parcoords\"}], \"pie\": [{\"automargin\": true, \"type\": \"pie\"}], \"scatter\": [{\"marker\": {\"colorbar\": {\"outlinewidth\": 0, \"ticks\": \"\"}}, \"type\": \"scatter\"}], \"scatter3d\": [{\"line\": {\"colorbar\": {\"outlinewidth\": 0, \"ticks\": \"\"}}, \"marker\": {\"colorbar\": {\"outlinewidth\": 0, \"ticks\": \"\"}}, \"type\": \"scatter3d\"}], \"scattercarpet\": [{\"marker\": {\"colorbar\": {\"outlinewidth\": 0, \"ticks\": \"\"}}, \"type\": \"scattercarpet\"}], \"scattergeo\": [{\"marker\": {\"colorbar\": {\"outlinewidth\": 0, \"ticks\": \"\"}}, \"type\": \"scattergeo\"}], \"scattergl\": [{\"marker\": {\"colorbar\": {\"outlinewidth\": 0, \"ticks\": \"\"}}, \"type\": \"scattergl\"}], \"scattermapbox\": [{\"marker\": {\"colorbar\": {\"outlinewidth\": 0, \"ticks\": \"\"}}, \"type\": \"scattermapbox\"}], \"scatterpolar\": [{\"marker\": {\"colorbar\": {\"outlinewidth\": 0, \"ticks\": \"\"}}, \"type\": \"scatterpolar\"}], \"scatterpolargl\": [{\"marker\": {\"colorbar\": {\"outlinewidth\": 0, \"ticks\": \"\"}}, \"type\": \"scatterpolargl\"}], \"scatterternary\": [{\"marker\": {\"colorbar\": {\"outlinewidth\": 0, \"ticks\": \"\"}}, \"type\": \"scatterternary\"}], \"surface\": [{\"colorbar\": {\"outlinewidth\": 0, \"ticks\": \"\"}, \"colorscale\": [[0.0, \"#0d0887\"], [0.1111111111111111, \"#46039f\"], [0.2222222222222222, \"#7201a8\"], [0.3333333333333333, \"#9c179e\"], [0.4444444444444444, \"#bd3786\"], [0.5555555555555556, \"#d8576b\"], [0.6666666666666666, \"#ed7953\"], [0.7777777777777778, \"#fb9f3a\"], [0.8888888888888888, \"#fdca26\"], [1.0, \"#f0f921\"]], \"type\": \"surface\"}], \"table\": [{\"cells\": {\"fill\": {\"color\": \"#EBF0F8\"}, \"line\": {\"color\": \"white\"}}, \"header\": {\"fill\": {\"color\": \"#C8D4E3\"}, \"line\": {\"color\": \"white\"}}, \"type\": \"table\"}]}, \"layout\": {\"annotationdefaults\": {\"arrowcolor\": \"#2a3f5f\", \"arrowhead\": 0, \"arrowwidth\": 1}, \"coloraxis\": {\"colorbar\": {\"outlinewidth\": 0, \"ticks\": \"\"}}, \"colorscale\": {\"diverging\": [[0, \"#8e0152\"], [0.1, \"#c51b7d\"], [0.2, \"#de77ae\"], [0.3, \"#f1b6da\"], [0.4, \"#fde0ef\"], [0.5, \"#f7f7f7\"], [0.6, \"#e6f5d0\"], [0.7, \"#b8e186\"], [0.8, \"#7fbc41\"], [0.9, \"#4d9221\"], [1, \"#276419\"]], \"sequential\": [[0.0, \"#0d0887\"], [0.1111111111111111, \"#46039f\"], [0.2222222222222222, \"#7201a8\"], [0.3333333333333333, \"#9c179e\"], [0.4444444444444444, \"#bd3786\"], [0.5555555555555556, \"#d8576b\"], [0.6666666666666666, \"#ed7953\"], [0.7777777777777778, \"#fb9f3a\"], [0.8888888888888888, \"#fdca26\"], [1.0, \"#f0f921\"]], \"sequentialminus\": [[0.0, \"#0d0887\"], [0.1111111111111111, \"#46039f\"], [0.2222222222222222, \"#7201a8\"], [0.3333333333333333, \"#9c179e\"], [0.4444444444444444, \"#bd3786\"], [0.5555555555555556, \"#d8576b\"], [0.6666666666666666, \"#ed7953\"], [0.7777777777777778, \"#fb9f3a\"], [0.8888888888888888, \"#fdca26\"], [1.0, \"#f0f921\"]]}, \"colorway\": [\"#636efa\", \"#EF553B\", \"#00cc96\", \"#ab63fa\", \"#FFA15A\", \"#19d3f3\", \"#FF6692\", \"#B6E880\", \"#FF97FF\", \"#FECB52\"], \"font\": {\"color\": \"#2a3f5f\"}, \"geo\": {\"bgcolor\": \"white\", \"lakecolor\": \"white\", \"landcolor\": \"#E5ECF6\", \"showlakes\": true, \"showland\": true, \"subunitcolor\": \"white\"}, \"hoverlabel\": {\"align\": \"left\"}, \"hovermode\": \"closest\", \"mapbox\": {\"style\": \"light\"}, \"paper_bgcolor\": \"white\", \"plot_bgcolor\": \"#E5ECF6\", \"polar\": {\"angularaxis\": {\"gridcolor\": \"white\", \"linecolor\": \"white\", \"ticks\": \"\"}, \"bgcolor\": \"#E5ECF6\", \"radialaxis\": {\"gridcolor\": \"white\", \"linecolor\": \"white\", \"ticks\": \"\"}}, \"scene\": {\"xaxis\": {\"backgroundcolor\": \"#E5ECF6\", \"gridcolor\": \"white\", \"gridwidth\": 2, \"linecolor\": \"white\", \"showbackground\": true, \"ticks\": \"\", \"zerolinecolor\": \"white\"}, \"yaxis\": {\"backgroundcolor\": \"#E5ECF6\", \"gridcolor\": \"white\", \"gridwidth\": 2, \"linecolor\": \"white\", \"showbackground\": true, \"ticks\": \"\", \"zerolinecolor\": \"white\"}, \"zaxis\": {\"backgroundcolor\": \"#E5ECF6\", \"gridcolor\": \"white\", \"gridwidth\": 2, \"linecolor\": \"white\", \"showbackground\": true, \"ticks\": \"\", \"zerolinecolor\": \"white\"}}, \"shapedefaults\": {\"line\": {\"color\": \"#2a3f5f\"}}, \"ternary\": {\"aaxis\": {\"gridcolor\": \"white\", \"linecolor\": \"white\", \"ticks\": \"\"}, \"baxis\": {\"gridcolor\": \"white\", \"linecolor\": \"white\", \"ticks\": \"\"}, \"bgcolor\": \"#E5ECF6\", \"caxis\": {\"gridcolor\": \"white\", \"linecolor\": \"white\", \"ticks\": \"\"}}, \"title\": {\"x\": 0.05}, \"xaxis\": {\"automargin\": true, \"gridcolor\": \"white\", \"linecolor\": \"white\", \"ticks\": \"\", \"title\": {\"standoff\": 15}, \"zerolinecolor\": \"white\", \"zerolinewidth\": 2}, \"yaxis\": {\"automargin\": true, \"gridcolor\": \"white\", \"linecolor\": \"white\", \"ticks\": \"\", \"title\": {\"standoff\": 15}, \"zerolinecolor\": \"white\", \"zerolinewidth\": 2}}}, \"title\": {\"text\": \"bi-gram\"}, \"width\": 800, \"xaxis\": {\"anchor\": \"y\", \"domain\": [0.0, 1.0], \"title\": {\"text\": \"\"}}, \"yaxis\": {\"anchor\": \"x\", \"domain\": [0.0, 1.0], \"title\": {\"text\": \"\"}}},\n",
       "                        {\"responsive\": true}\n",
       "                    ).then(function(){\n",
       "                            \n",
       "var gd = document.getElementById('24efe05e-af57-4ebc-a1b6-672a73b07966');\n",
       "var x = new MutationObserver(function (mutations, observer) {{\n",
       "        var display = window.getComputedStyle(gd).display;\n",
       "        if (!display || display === 'none') {{\n",
       "            console.log([gd, 'removed!']);\n",
       "            Plotly.purge(gd);\n",
       "            observer.disconnect();\n",
       "        }}\n",
       "}});\n",
       "\n",
       "// Listen for the removal of the full notebook cells\n",
       "var notebookContainer = gd.closest('#notebook-container');\n",
       "if (notebookContainer) {{\n",
       "    x.observe(notebookContainer, {childList: true});\n",
       "}}\n",
       "\n",
       "// Listen for the clearing of the current output cell\n",
       "var outputEl = gd.closest('.output');\n",
       "if (outputEl) {{\n",
       "    x.observe(outputEl, {childList: true});\n",
       "}}\n",
       "\n",
       "                        })\n",
       "                };\n",
       "                });\n",
       "            </script>\n",
       "        </div>"
      ]
     },
     "metadata": {},
     "output_type": "display_data"
    }
   ],
   "source": [
    "npt.bar_ngram(title='bi-gram', ngram=3, top_n=20)"
   ]
  },
  {
   "cell_type": "code",
   "execution_count": 55,
   "metadata": {},
   "outputs": [
    {
     "name": "stderr",
     "output_type": "stream",
     "text": [
      "100%|██████████| 126/126 [00:00<00:00, 99059.48it/s]\n"
     ]
    },
    {
     "data": {
      "application/vnd.plotly.v1+json": {
       "config": {
        "plotlyServerURL": "https://plot.ly"
       },
       "data": [
        {
         "alignmentgroup": "True",
         "hovertemplate": "word_count=%{text}<br>word=%{y}<extra></extra>",
         "legendgroup": "",
         "marker": {},
         "name": "",
         "offsetgroup": "",
         "orientation": "h",
         "showlegend": false,
         "text": [
          2,
          2,
          2,
          2,
          2,
          2,
          2,
          2,
          2,
          2,
          2,
          2,
          3,
          3,
          4,
          4,
          4,
          4,
          4,
          6
         ],
         "textposition": "auto",
         "texttemplate": "%{text:.2s}",
         "type": "bar",
         "x": [
          2,
          2,
          2,
          2,
          2,
          2,
          2,
          2,
          2,
          2,
          2,
          2,
          3,
          3,
          4,
          4,
          4,
          4,
          4,
          6
         ],
         "xaxis": "x",
         "y": [
          "pc windows embedded",
          "パッケージ 公開 限り",
          "公開 限り ios",
          "限り ios android",
          "ios android plus",
          "android plus android",
          "plus android enterprise",
          "android enterprise windows",
          "enterprise windows pc",
          "形式 問う ない",
          "windows embedded linux",
          "mobicontrol パッケージ 公開",
          "managed google play",
          "windows pc windows",
          "クリック 説明 ページ",
          "id url setup",
          "url setup ini",
          "文書 写真 動画",
          "モバイル端末 向け 意図",
          "setup ini ファイル"
         ],
         "yaxis": "y"
        }
       ],
       "layout": {
        "barmode": "relative",
        "height": 1100,
        "legend": {
         "tracegroupgap": 0
        },
        "margin": {
         "t": 60
        },
        "template": {
         "data": {
          "bar": [
           {
            "error_x": {
             "color": "#2a3f5f"
            },
            "error_y": {
             "color": "#2a3f5f"
            },
            "marker": {
             "line": {
              "color": "#E5ECF6",
              "width": 0.5
             }
            },
            "type": "bar"
           }
          ],
          "barpolar": [
           {
            "marker": {
             "line": {
              "color": "#E5ECF6",
              "width": 0.5
             }
            },
            "type": "barpolar"
           }
          ],
          "carpet": [
           {
            "aaxis": {
             "endlinecolor": "#2a3f5f",
             "gridcolor": "white",
             "linecolor": "white",
             "minorgridcolor": "white",
             "startlinecolor": "#2a3f5f"
            },
            "baxis": {
             "endlinecolor": "#2a3f5f",
             "gridcolor": "white",
             "linecolor": "white",
             "minorgridcolor": "white",
             "startlinecolor": "#2a3f5f"
            },
            "type": "carpet"
           }
          ],
          "choropleth": [
           {
            "colorbar": {
             "outlinewidth": 0,
             "ticks": ""
            },
            "type": "choropleth"
           }
          ],
          "contour": [
           {
            "colorbar": {
             "outlinewidth": 0,
             "ticks": ""
            },
            "colorscale": [
             [
              0,
              "#0d0887"
             ],
             [
              0.1111111111111111,
              "#46039f"
             ],
             [
              0.2222222222222222,
              "#7201a8"
             ],
             [
              0.3333333333333333,
              "#9c179e"
             ],
             [
              0.4444444444444444,
              "#bd3786"
             ],
             [
              0.5555555555555556,
              "#d8576b"
             ],
             [
              0.6666666666666666,
              "#ed7953"
             ],
             [
              0.7777777777777778,
              "#fb9f3a"
             ],
             [
              0.8888888888888888,
              "#fdca26"
             ],
             [
              1,
              "#f0f921"
             ]
            ],
            "type": "contour"
           }
          ],
          "contourcarpet": [
           {
            "colorbar": {
             "outlinewidth": 0,
             "ticks": ""
            },
            "type": "contourcarpet"
           }
          ],
          "heatmap": [
           {
            "colorbar": {
             "outlinewidth": 0,
             "ticks": ""
            },
            "colorscale": [
             [
              0,
              "#0d0887"
             ],
             [
              0.1111111111111111,
              "#46039f"
             ],
             [
              0.2222222222222222,
              "#7201a8"
             ],
             [
              0.3333333333333333,
              "#9c179e"
             ],
             [
              0.4444444444444444,
              "#bd3786"
             ],
             [
              0.5555555555555556,
              "#d8576b"
             ],
             [
              0.6666666666666666,
              "#ed7953"
             ],
             [
              0.7777777777777778,
              "#fb9f3a"
             ],
             [
              0.8888888888888888,
              "#fdca26"
             ],
             [
              1,
              "#f0f921"
             ]
            ],
            "type": "heatmap"
           }
          ],
          "heatmapgl": [
           {
            "colorbar": {
             "outlinewidth": 0,
             "ticks": ""
            },
            "colorscale": [
             [
              0,
              "#0d0887"
             ],
             [
              0.1111111111111111,
              "#46039f"
             ],
             [
              0.2222222222222222,
              "#7201a8"
             ],
             [
              0.3333333333333333,
              "#9c179e"
             ],
             [
              0.4444444444444444,
              "#bd3786"
             ],
             [
              0.5555555555555556,
              "#d8576b"
             ],
             [
              0.6666666666666666,
              "#ed7953"
             ],
             [
              0.7777777777777778,
              "#fb9f3a"
             ],
             [
              0.8888888888888888,
              "#fdca26"
             ],
             [
              1,
              "#f0f921"
             ]
            ],
            "type": "heatmapgl"
           }
          ],
          "histogram": [
           {
            "marker": {
             "colorbar": {
              "outlinewidth": 0,
              "ticks": ""
             }
            },
            "type": "histogram"
           }
          ],
          "histogram2d": [
           {
            "colorbar": {
             "outlinewidth": 0,
             "ticks": ""
            },
            "colorscale": [
             [
              0,
              "#0d0887"
             ],
             [
              0.1111111111111111,
              "#46039f"
             ],
             [
              0.2222222222222222,
              "#7201a8"
             ],
             [
              0.3333333333333333,
              "#9c179e"
             ],
             [
              0.4444444444444444,
              "#bd3786"
             ],
             [
              0.5555555555555556,
              "#d8576b"
             ],
             [
              0.6666666666666666,
              "#ed7953"
             ],
             [
              0.7777777777777778,
              "#fb9f3a"
             ],
             [
              0.8888888888888888,
              "#fdca26"
             ],
             [
              1,
              "#f0f921"
             ]
            ],
            "type": "histogram2d"
           }
          ],
          "histogram2dcontour": [
           {
            "colorbar": {
             "outlinewidth": 0,
             "ticks": ""
            },
            "colorscale": [
             [
              0,
              "#0d0887"
             ],
             [
              0.1111111111111111,
              "#46039f"
             ],
             [
              0.2222222222222222,
              "#7201a8"
             ],
             [
              0.3333333333333333,
              "#9c179e"
             ],
             [
              0.4444444444444444,
              "#bd3786"
             ],
             [
              0.5555555555555556,
              "#d8576b"
             ],
             [
              0.6666666666666666,
              "#ed7953"
             ],
             [
              0.7777777777777778,
              "#fb9f3a"
             ],
             [
              0.8888888888888888,
              "#fdca26"
             ],
             [
              1,
              "#f0f921"
             ]
            ],
            "type": "histogram2dcontour"
           }
          ],
          "mesh3d": [
           {
            "colorbar": {
             "outlinewidth": 0,
             "ticks": ""
            },
            "type": "mesh3d"
           }
          ],
          "parcoords": [
           {
            "line": {
             "colorbar": {
              "outlinewidth": 0,
              "ticks": ""
             }
            },
            "type": "parcoords"
           }
          ],
          "pie": [
           {
            "automargin": true,
            "type": "pie"
           }
          ],
          "scatter": [
           {
            "marker": {
             "colorbar": {
              "outlinewidth": 0,
              "ticks": ""
             }
            },
            "type": "scatter"
           }
          ],
          "scatter3d": [
           {
            "line": {
             "colorbar": {
              "outlinewidth": 0,
              "ticks": ""
             }
            },
            "marker": {
             "colorbar": {
              "outlinewidth": 0,
              "ticks": ""
             }
            },
            "type": "scatter3d"
           }
          ],
          "scattercarpet": [
           {
            "marker": {
             "colorbar": {
              "outlinewidth": 0,
              "ticks": ""
             }
            },
            "type": "scattercarpet"
           }
          ],
          "scattergeo": [
           {
            "marker": {
             "colorbar": {
              "outlinewidth": 0,
              "ticks": ""
             }
            },
            "type": "scattergeo"
           }
          ],
          "scattergl": [
           {
            "marker": {
             "colorbar": {
              "outlinewidth": 0,
              "ticks": ""
             }
            },
            "type": "scattergl"
           }
          ],
          "scattermapbox": [
           {
            "marker": {
             "colorbar": {
              "outlinewidth": 0,
              "ticks": ""
             }
            },
            "type": "scattermapbox"
           }
          ],
          "scatterpolar": [
           {
            "marker": {
             "colorbar": {
              "outlinewidth": 0,
              "ticks": ""
             }
            },
            "type": "scatterpolar"
           }
          ],
          "scatterpolargl": [
           {
            "marker": {
             "colorbar": {
              "outlinewidth": 0,
              "ticks": ""
             }
            },
            "type": "scatterpolargl"
           }
          ],
          "scatterternary": [
           {
            "marker": {
             "colorbar": {
              "outlinewidth": 0,
              "ticks": ""
             }
            },
            "type": "scatterternary"
           }
          ],
          "surface": [
           {
            "colorbar": {
             "outlinewidth": 0,
             "ticks": ""
            },
            "colorscale": [
             [
              0,
              "#0d0887"
             ],
             [
              0.1111111111111111,
              "#46039f"
             ],
             [
              0.2222222222222222,
              "#7201a8"
             ],
             [
              0.3333333333333333,
              "#9c179e"
             ],
             [
              0.4444444444444444,
              "#bd3786"
             ],
             [
              0.5555555555555556,
              "#d8576b"
             ],
             [
              0.6666666666666666,
              "#ed7953"
             ],
             [
              0.7777777777777778,
              "#fb9f3a"
             ],
             [
              0.8888888888888888,
              "#fdca26"
             ],
             [
              1,
              "#f0f921"
             ]
            ],
            "type": "surface"
           }
          ],
          "table": [
           {
            "cells": {
             "fill": {
              "color": "#EBF0F8"
             },
             "line": {
              "color": "white"
             }
            },
            "header": {
             "fill": {
              "color": "#C8D4E3"
             },
             "line": {
              "color": "white"
             }
            },
            "type": "table"
           }
          ]
         },
         "layout": {
          "annotationdefaults": {
           "arrowcolor": "#2a3f5f",
           "arrowhead": 0,
           "arrowwidth": 1
          },
          "coloraxis": {
           "colorbar": {
            "outlinewidth": 0,
            "ticks": ""
           }
          },
          "colorscale": {
           "diverging": [
            [
             0,
             "#8e0152"
            ],
            [
             0.1,
             "#c51b7d"
            ],
            [
             0.2,
             "#de77ae"
            ],
            [
             0.3,
             "#f1b6da"
            ],
            [
             0.4,
             "#fde0ef"
            ],
            [
             0.5,
             "#f7f7f7"
            ],
            [
             0.6,
             "#e6f5d0"
            ],
            [
             0.7,
             "#b8e186"
            ],
            [
             0.8,
             "#7fbc41"
            ],
            [
             0.9,
             "#4d9221"
            ],
            [
             1,
             "#276419"
            ]
           ],
           "sequential": [
            [
             0,
             "#0d0887"
            ],
            [
             0.1111111111111111,
             "#46039f"
            ],
            [
             0.2222222222222222,
             "#7201a8"
            ],
            [
             0.3333333333333333,
             "#9c179e"
            ],
            [
             0.4444444444444444,
             "#bd3786"
            ],
            [
             0.5555555555555556,
             "#d8576b"
            ],
            [
             0.6666666666666666,
             "#ed7953"
            ],
            [
             0.7777777777777778,
             "#fb9f3a"
            ],
            [
             0.8888888888888888,
             "#fdca26"
            ],
            [
             1,
             "#f0f921"
            ]
           ],
           "sequentialminus": [
            [
             0,
             "#0d0887"
            ],
            [
             0.1111111111111111,
             "#46039f"
            ],
            [
             0.2222222222222222,
             "#7201a8"
            ],
            [
             0.3333333333333333,
             "#9c179e"
            ],
            [
             0.4444444444444444,
             "#bd3786"
            ],
            [
             0.5555555555555556,
             "#d8576b"
            ],
            [
             0.6666666666666666,
             "#ed7953"
            ],
            [
             0.7777777777777778,
             "#fb9f3a"
            ],
            [
             0.8888888888888888,
             "#fdca26"
            ],
            [
             1,
             "#f0f921"
            ]
           ]
          },
          "colorway": [
           "#636efa",
           "#EF553B",
           "#00cc96",
           "#ab63fa",
           "#FFA15A",
           "#19d3f3",
           "#FF6692",
           "#B6E880",
           "#FF97FF",
           "#FECB52"
          ],
          "font": {
           "color": "#2a3f5f"
          },
          "geo": {
           "bgcolor": "white",
           "lakecolor": "white",
           "landcolor": "#E5ECF6",
           "showlakes": true,
           "showland": true,
           "subunitcolor": "white"
          },
          "hoverlabel": {
           "align": "left"
          },
          "hovermode": "closest",
          "mapbox": {
           "style": "light"
          },
          "paper_bgcolor": "white",
          "plot_bgcolor": "#E5ECF6",
          "polar": {
           "angularaxis": {
            "gridcolor": "white",
            "linecolor": "white",
            "ticks": ""
           },
           "bgcolor": "#E5ECF6",
           "radialaxis": {
            "gridcolor": "white",
            "linecolor": "white",
            "ticks": ""
           }
          },
          "scene": {
           "xaxis": {
            "backgroundcolor": "#E5ECF6",
            "gridcolor": "white",
            "gridwidth": 2,
            "linecolor": "white",
            "showbackground": true,
            "ticks": "",
            "zerolinecolor": "white"
           },
           "yaxis": {
            "backgroundcolor": "#E5ECF6",
            "gridcolor": "white",
            "gridwidth": 2,
            "linecolor": "white",
            "showbackground": true,
            "ticks": "",
            "zerolinecolor": "white"
           },
           "zaxis": {
            "backgroundcolor": "#E5ECF6",
            "gridcolor": "white",
            "gridwidth": 2,
            "linecolor": "white",
            "showbackground": true,
            "ticks": "",
            "zerolinecolor": "white"
           }
          },
          "shapedefaults": {
           "line": {
            "color": "#2a3f5f"
           }
          },
          "ternary": {
           "aaxis": {
            "gridcolor": "white",
            "linecolor": "white",
            "ticks": ""
           },
           "baxis": {
            "gridcolor": "white",
            "linecolor": "white",
            "ticks": ""
           },
           "bgcolor": "#E5ECF6",
           "caxis": {
            "gridcolor": "white",
            "linecolor": "white",
            "ticks": ""
           }
          },
          "title": {
           "x": 0.05
          },
          "xaxis": {
           "automargin": true,
           "gridcolor": "white",
           "linecolor": "white",
           "ticks": "",
           "title": {
            "standoff": 15
           },
           "zerolinecolor": "white",
           "zerolinewidth": 2
          },
          "yaxis": {
           "automargin": true,
           "gridcolor": "white",
           "linecolor": "white",
           "ticks": "",
           "title": {
            "standoff": 15
           },
           "zerolinecolor": "white",
           "zerolinewidth": 2
          }
         }
        },
        "title": {
         "text": "bi-gram"
        },
        "width": 800,
        "xaxis": {
         "anchor": "y",
         "domain": [
          0,
          1
         ],
         "title": {
          "text": ""
         }
        },
        "yaxis": {
         "anchor": "x",
         "domain": [
          0,
          1
         ],
         "title": {
          "text": ""
         }
        }
       }
      },
      "text/html": [
       "<div>\n",
       "        \n",
       "        \n",
       "            <div id=\"c280ab98-ea23-4af2-b86e-412f0786e2d7\" class=\"plotly-graph-div\" style=\"height:1100px; width:800px;\"></div>\n",
       "            <script type=\"text/javascript\">\n",
       "                require([\"plotly\"], function(Plotly) {\n",
       "                    window.PLOTLYENV=window.PLOTLYENV || {};\n",
       "                    \n",
       "                if (document.getElementById(\"c280ab98-ea23-4af2-b86e-412f0786e2d7\")) {\n",
       "                    Plotly.newPlot(\n",
       "                        'c280ab98-ea23-4af2-b86e-412f0786e2d7',\n",
       "                        [{\"alignmentgroup\": \"True\", \"hovertemplate\": \"word_count=%{text}<br>word=%{y}<extra></extra>\", \"legendgroup\": \"\", \"marker\": {}, \"name\": \"\", \"offsetgroup\": \"\", \"orientation\": \"h\", \"showlegend\": false, \"text\": [2.0, 2.0, 2.0, 2.0, 2.0, 2.0, 2.0, 2.0, 2.0, 2.0, 2.0, 2.0, 3.0, 3.0, 4.0, 4.0, 4.0, 4.0, 4.0, 6.0], \"textposition\": \"auto\", \"texttemplate\": \"%{text:.2s}\", \"type\": \"bar\", \"x\": [2, 2, 2, 2, 2, 2, 2, 2, 2, 2, 2, 2, 3, 3, 4, 4, 4, 4, 4, 6], \"xaxis\": \"x\", \"y\": [\"pc windows embedded\", \"\\u30d1\\u30c3\\u30b1\\u30fc\\u30b8 \\u516c\\u958b \\u9650\\u308a\", \"\\u516c\\u958b \\u9650\\u308a ios\", \"\\u9650\\u308a ios android\", \"ios android plus\", \"android plus android\", \"plus android enterprise\", \"android enterprise windows\", \"enterprise windows pc\", \"\\u5f62\\u5f0f \\u554f\\u3046 \\u306a\\u3044\", \"windows embedded linux\", \"mobicontrol \\u30d1\\u30c3\\u30b1\\u30fc\\u30b8 \\u516c\\u958b\", \"managed google play\", \"windows pc windows\", \"\\u30af\\u30ea\\u30c3\\u30af \\u8aac\\u660e \\u30da\\u30fc\\u30b8\", \"id url setup\", \"url setup ini\", \"\\u6587\\u66f8 \\u5199\\u771f \\u52d5\\u753b\", \"\\u30e2\\u30d0\\u30a4\\u30eb\\u7aef\\u672b \\u5411\\u3051 \\u610f\\u56f3\", \"setup ini \\u30d5\\u30a1\\u30a4\\u30eb\"], \"yaxis\": \"y\"}],\n",
       "                        {\"barmode\": \"relative\", \"height\": 1100, \"legend\": {\"tracegroupgap\": 0}, \"margin\": {\"t\": 60}, \"template\": {\"data\": {\"bar\": [{\"error_x\": {\"color\": \"#2a3f5f\"}, \"error_y\": {\"color\": \"#2a3f5f\"}, \"marker\": {\"line\": {\"color\": \"#E5ECF6\", \"width\": 0.5}}, \"type\": \"bar\"}], \"barpolar\": [{\"marker\": {\"line\": {\"color\": \"#E5ECF6\", \"width\": 0.5}}, \"type\": \"barpolar\"}], \"carpet\": [{\"aaxis\": {\"endlinecolor\": \"#2a3f5f\", \"gridcolor\": \"white\", \"linecolor\": \"white\", \"minorgridcolor\": \"white\", \"startlinecolor\": \"#2a3f5f\"}, \"baxis\": {\"endlinecolor\": \"#2a3f5f\", \"gridcolor\": \"white\", \"linecolor\": \"white\", \"minorgridcolor\": \"white\", \"startlinecolor\": \"#2a3f5f\"}, \"type\": \"carpet\"}], \"choropleth\": [{\"colorbar\": {\"outlinewidth\": 0, \"ticks\": \"\"}, \"type\": \"choropleth\"}], \"contour\": [{\"colorbar\": {\"outlinewidth\": 0, \"ticks\": \"\"}, \"colorscale\": [[0.0, \"#0d0887\"], [0.1111111111111111, \"#46039f\"], [0.2222222222222222, \"#7201a8\"], [0.3333333333333333, \"#9c179e\"], [0.4444444444444444, \"#bd3786\"], [0.5555555555555556, \"#d8576b\"], [0.6666666666666666, \"#ed7953\"], [0.7777777777777778, \"#fb9f3a\"], [0.8888888888888888, \"#fdca26\"], [1.0, \"#f0f921\"]], \"type\": \"contour\"}], \"contourcarpet\": [{\"colorbar\": {\"outlinewidth\": 0, \"ticks\": \"\"}, \"type\": \"contourcarpet\"}], \"heatmap\": [{\"colorbar\": {\"outlinewidth\": 0, \"ticks\": \"\"}, \"colorscale\": [[0.0, \"#0d0887\"], [0.1111111111111111, \"#46039f\"], [0.2222222222222222, \"#7201a8\"], [0.3333333333333333, \"#9c179e\"], [0.4444444444444444, \"#bd3786\"], [0.5555555555555556, \"#d8576b\"], [0.6666666666666666, \"#ed7953\"], [0.7777777777777778, \"#fb9f3a\"], [0.8888888888888888, \"#fdca26\"], [1.0, \"#f0f921\"]], \"type\": \"heatmap\"}], \"heatmapgl\": [{\"colorbar\": {\"outlinewidth\": 0, \"ticks\": \"\"}, \"colorscale\": [[0.0, \"#0d0887\"], [0.1111111111111111, \"#46039f\"], [0.2222222222222222, \"#7201a8\"], [0.3333333333333333, \"#9c179e\"], [0.4444444444444444, \"#bd3786\"], [0.5555555555555556, \"#d8576b\"], [0.6666666666666666, \"#ed7953\"], [0.7777777777777778, \"#fb9f3a\"], [0.8888888888888888, \"#fdca26\"], [1.0, \"#f0f921\"]], \"type\": \"heatmapgl\"}], \"histogram\": [{\"marker\": {\"colorbar\": {\"outlinewidth\": 0, \"ticks\": \"\"}}, \"type\": \"histogram\"}], \"histogram2d\": [{\"colorbar\": {\"outlinewidth\": 0, \"ticks\": \"\"}, \"colorscale\": [[0.0, \"#0d0887\"], [0.1111111111111111, \"#46039f\"], [0.2222222222222222, \"#7201a8\"], [0.3333333333333333, \"#9c179e\"], [0.4444444444444444, \"#bd3786\"], [0.5555555555555556, \"#d8576b\"], [0.6666666666666666, \"#ed7953\"], [0.7777777777777778, \"#fb9f3a\"], [0.8888888888888888, \"#fdca26\"], [1.0, \"#f0f921\"]], \"type\": \"histogram2d\"}], \"histogram2dcontour\": [{\"colorbar\": {\"outlinewidth\": 0, \"ticks\": \"\"}, \"colorscale\": [[0.0, \"#0d0887\"], [0.1111111111111111, \"#46039f\"], [0.2222222222222222, \"#7201a8\"], [0.3333333333333333, \"#9c179e\"], [0.4444444444444444, \"#bd3786\"], [0.5555555555555556, \"#d8576b\"], [0.6666666666666666, \"#ed7953\"], [0.7777777777777778, \"#fb9f3a\"], [0.8888888888888888, \"#fdca26\"], [1.0, \"#f0f921\"]], \"type\": \"histogram2dcontour\"}], \"mesh3d\": [{\"colorbar\": {\"outlinewidth\": 0, \"ticks\": \"\"}, \"type\": \"mesh3d\"}], \"parcoords\": [{\"line\": {\"colorbar\": {\"outlinewidth\": 0, \"ticks\": \"\"}}, \"type\": \"parcoords\"}], \"pie\": [{\"automargin\": true, \"type\": \"pie\"}], \"scatter\": [{\"marker\": {\"colorbar\": {\"outlinewidth\": 0, \"ticks\": \"\"}}, \"type\": \"scatter\"}], \"scatter3d\": [{\"line\": {\"colorbar\": {\"outlinewidth\": 0, \"ticks\": \"\"}}, \"marker\": {\"colorbar\": {\"outlinewidth\": 0, \"ticks\": \"\"}}, \"type\": \"scatter3d\"}], \"scattercarpet\": [{\"marker\": {\"colorbar\": {\"outlinewidth\": 0, \"ticks\": \"\"}}, \"type\": \"scattercarpet\"}], \"scattergeo\": [{\"marker\": {\"colorbar\": {\"outlinewidth\": 0, \"ticks\": \"\"}}, \"type\": \"scattergeo\"}], \"scattergl\": [{\"marker\": {\"colorbar\": {\"outlinewidth\": 0, \"ticks\": \"\"}}, \"type\": \"scattergl\"}], \"scattermapbox\": [{\"marker\": {\"colorbar\": {\"outlinewidth\": 0, \"ticks\": \"\"}}, \"type\": \"scattermapbox\"}], \"scatterpolar\": [{\"marker\": {\"colorbar\": {\"outlinewidth\": 0, \"ticks\": \"\"}}, \"type\": \"scatterpolar\"}], \"scatterpolargl\": [{\"marker\": {\"colorbar\": {\"outlinewidth\": 0, \"ticks\": \"\"}}, \"type\": \"scatterpolargl\"}], \"scatterternary\": [{\"marker\": {\"colorbar\": {\"outlinewidth\": 0, \"ticks\": \"\"}}, \"type\": \"scatterternary\"}], \"surface\": [{\"colorbar\": {\"outlinewidth\": 0, \"ticks\": \"\"}, \"colorscale\": [[0.0, \"#0d0887\"], [0.1111111111111111, \"#46039f\"], [0.2222222222222222, \"#7201a8\"], [0.3333333333333333, \"#9c179e\"], [0.4444444444444444, \"#bd3786\"], [0.5555555555555556, \"#d8576b\"], [0.6666666666666666, \"#ed7953\"], [0.7777777777777778, \"#fb9f3a\"], [0.8888888888888888, \"#fdca26\"], [1.0, \"#f0f921\"]], \"type\": \"surface\"}], \"table\": [{\"cells\": {\"fill\": {\"color\": \"#EBF0F8\"}, \"line\": {\"color\": \"white\"}}, \"header\": {\"fill\": {\"color\": \"#C8D4E3\"}, \"line\": {\"color\": \"white\"}}, \"type\": \"table\"}]}, \"layout\": {\"annotationdefaults\": {\"arrowcolor\": \"#2a3f5f\", \"arrowhead\": 0, \"arrowwidth\": 1}, \"coloraxis\": {\"colorbar\": {\"outlinewidth\": 0, \"ticks\": \"\"}}, \"colorscale\": {\"diverging\": [[0, \"#8e0152\"], [0.1, \"#c51b7d\"], [0.2, \"#de77ae\"], [0.3, \"#f1b6da\"], [0.4, \"#fde0ef\"], [0.5, \"#f7f7f7\"], [0.6, \"#e6f5d0\"], [0.7, \"#b8e186\"], [0.8, \"#7fbc41\"], [0.9, \"#4d9221\"], [1, \"#276419\"]], \"sequential\": [[0.0, \"#0d0887\"], [0.1111111111111111, \"#46039f\"], [0.2222222222222222, \"#7201a8\"], [0.3333333333333333, \"#9c179e\"], [0.4444444444444444, \"#bd3786\"], [0.5555555555555556, \"#d8576b\"], [0.6666666666666666, \"#ed7953\"], [0.7777777777777778, \"#fb9f3a\"], [0.8888888888888888, \"#fdca26\"], [1.0, \"#f0f921\"]], \"sequentialminus\": [[0.0, \"#0d0887\"], [0.1111111111111111, \"#46039f\"], [0.2222222222222222, \"#7201a8\"], [0.3333333333333333, \"#9c179e\"], [0.4444444444444444, \"#bd3786\"], [0.5555555555555556, \"#d8576b\"], [0.6666666666666666, \"#ed7953\"], [0.7777777777777778, \"#fb9f3a\"], [0.8888888888888888, \"#fdca26\"], [1.0, \"#f0f921\"]]}, \"colorway\": [\"#636efa\", \"#EF553B\", \"#00cc96\", \"#ab63fa\", \"#FFA15A\", \"#19d3f3\", \"#FF6692\", \"#B6E880\", \"#FF97FF\", \"#FECB52\"], \"font\": {\"color\": \"#2a3f5f\"}, \"geo\": {\"bgcolor\": \"white\", \"lakecolor\": \"white\", \"landcolor\": \"#E5ECF6\", \"showlakes\": true, \"showland\": true, \"subunitcolor\": \"white\"}, \"hoverlabel\": {\"align\": \"left\"}, \"hovermode\": \"closest\", \"mapbox\": {\"style\": \"light\"}, \"paper_bgcolor\": \"white\", \"plot_bgcolor\": \"#E5ECF6\", \"polar\": {\"angularaxis\": {\"gridcolor\": \"white\", \"linecolor\": \"white\", \"ticks\": \"\"}, \"bgcolor\": \"#E5ECF6\", \"radialaxis\": {\"gridcolor\": \"white\", \"linecolor\": \"white\", \"ticks\": \"\"}}, \"scene\": {\"xaxis\": {\"backgroundcolor\": \"#E5ECF6\", \"gridcolor\": \"white\", \"gridwidth\": 2, \"linecolor\": \"white\", \"showbackground\": true, \"ticks\": \"\", \"zerolinecolor\": \"white\"}, \"yaxis\": {\"backgroundcolor\": \"#E5ECF6\", \"gridcolor\": \"white\", \"gridwidth\": 2, \"linecolor\": \"white\", \"showbackground\": true, \"ticks\": \"\", \"zerolinecolor\": \"white\"}, \"zaxis\": {\"backgroundcolor\": \"#E5ECF6\", \"gridcolor\": \"white\", \"gridwidth\": 2, \"linecolor\": \"white\", \"showbackground\": true, \"ticks\": \"\", \"zerolinecolor\": \"white\"}}, \"shapedefaults\": {\"line\": {\"color\": \"#2a3f5f\"}}, \"ternary\": {\"aaxis\": {\"gridcolor\": \"white\", \"linecolor\": \"white\", \"ticks\": \"\"}, \"baxis\": {\"gridcolor\": \"white\", \"linecolor\": \"white\", \"ticks\": \"\"}, \"bgcolor\": \"#E5ECF6\", \"caxis\": {\"gridcolor\": \"white\", \"linecolor\": \"white\", \"ticks\": \"\"}}, \"title\": {\"x\": 0.05}, \"xaxis\": {\"automargin\": true, \"gridcolor\": \"white\", \"linecolor\": \"white\", \"ticks\": \"\", \"title\": {\"standoff\": 15}, \"zerolinecolor\": \"white\", \"zerolinewidth\": 2}, \"yaxis\": {\"automargin\": true, \"gridcolor\": \"white\", \"linecolor\": \"white\", \"ticks\": \"\", \"title\": {\"standoff\": 15}, \"zerolinecolor\": \"white\", \"zerolinewidth\": 2}}}, \"title\": {\"text\": \"bi-gram\"}, \"width\": 800, \"xaxis\": {\"anchor\": \"y\", \"domain\": [0.0, 1.0], \"title\": {\"text\": \"\"}}, \"yaxis\": {\"anchor\": \"x\", \"domain\": [0.0, 1.0], \"title\": {\"text\": \"\"}}},\n",
       "                        {\"responsive\": true}\n",
       "                    ).then(function(){\n",
       "                            \n",
       "var gd = document.getElementById('c280ab98-ea23-4af2-b86e-412f0786e2d7');\n",
       "var x = new MutationObserver(function (mutations, observer) {{\n",
       "        var display = window.getComputedStyle(gd).display;\n",
       "        if (!display || display === 'none') {{\n",
       "            console.log([gd, 'removed!']);\n",
       "            Plotly.purge(gd);\n",
       "            observer.disconnect();\n",
       "        }}\n",
       "}});\n",
       "\n",
       "// Listen for the removal of the full notebook cells\n",
       "var notebookContainer = gd.closest('#notebook-container');\n",
       "if (notebookContainer) {{\n",
       "    x.observe(notebookContainer, {childList: true});\n",
       "}}\n",
       "\n",
       "// Listen for the clearing of the current output cell\n",
       "var outputEl = gd.closest('.output');\n",
       "if (outputEl) {{\n",
       "    x.observe(outputEl, {childList: true});\n",
       "}}\n",
       "\n",
       "                        })\n",
       "                };\n",
       "                });\n",
       "            </script>\n",
       "        </div>"
      ]
     },
     "metadata": {},
     "output_type": "display_data"
    }
   ],
   "source": [
    "npt.bar_ngram(title='bi-gram', ngram=3, top_n=20, stopwords=stopwords)"
   ]
  },
  {
   "cell_type": "code",
   "execution_count": 56,
   "metadata": {},
   "outputs": [
    {
     "name": "stderr",
     "output_type": "stream",
     "text": [
      "100%|██████████| 126/126 [00:00<00:00, 58544.62it/s]\n"
     ]
    },
    {
     "data": {
      "application/vnd.plotly.v1+json": {
       "config": {
        "plotlyServerURL": "https://plot.ly"
       },
       "data": [
        {
         "branchvalues": "total",
         "domain": {
          "x": [
           0,
           1
          ],
          "y": [
           0,
           1
          ]
         },
         "hovertemplate": "labels=%{label}<br>word_count=%{value}<br>parent=%{parent}<br>id=%{id}<extra></extra>",
         "ids": [
          "active directory",
          "android plus",
          "app ストア",
          "apple 製品",
          "id url",
          "ini ファイル",
          "ios android",
          "managed google",
          "mobicontrol パッケージ",
          "setup ini",
          "url setup",
          "windows pc",
          "クリック 説明",
          "モバイル端末 向け",
          "写真 動画",
          "参照 くださる",
          "向け 意図",
          "文書 写真",
          "構成 プロファイル",
          "説明 ページ"
         ],
         "labels": [
          "active directory",
          "android plus",
          "app ストア",
          "apple 製品",
          "id url",
          "ini ファイル",
          "ios android",
          "managed google",
          "mobicontrol パッケージ",
          "setup ini",
          "url setup",
          "windows pc",
          "クリック 説明",
          "モバイル端末 向け",
          "写真 動画",
          "参照 くださる",
          "向け 意図",
          "文書 写真",
          "構成 プロファイル",
          "説明 ページ"
         ],
         "name": "",
         "parents": [
          "",
          "",
          "",
          "",
          "",
          "",
          "",
          "",
          "",
          "",
          "",
          "",
          "",
          "",
          "",
          "",
          "",
          "",
          "",
          ""
         ],
         "type": "treemap",
         "values": [
          4,
          4,
          4,
          4,
          5,
          6,
          9,
          4,
          4,
          6,
          4,
          5,
          4,
          4,
          4,
          5,
          4,
          4,
          4,
          4
         ]
        }
       ],
       "layout": {
        "height": 600,
        "legend": {
         "tracegroupgap": 0
        },
        "margin": {
         "t": 60
        },
        "template": {
         "data": {
          "bar": [
           {
            "error_x": {
             "color": "#2a3f5f"
            },
            "error_y": {
             "color": "#2a3f5f"
            },
            "marker": {
             "line": {
              "color": "#E5ECF6",
              "width": 0.5
             }
            },
            "type": "bar"
           }
          ],
          "barpolar": [
           {
            "marker": {
             "line": {
              "color": "#E5ECF6",
              "width": 0.5
             }
            },
            "type": "barpolar"
           }
          ],
          "carpet": [
           {
            "aaxis": {
             "endlinecolor": "#2a3f5f",
             "gridcolor": "white",
             "linecolor": "white",
             "minorgridcolor": "white",
             "startlinecolor": "#2a3f5f"
            },
            "baxis": {
             "endlinecolor": "#2a3f5f",
             "gridcolor": "white",
             "linecolor": "white",
             "minorgridcolor": "white",
             "startlinecolor": "#2a3f5f"
            },
            "type": "carpet"
           }
          ],
          "choropleth": [
           {
            "colorbar": {
             "outlinewidth": 0,
             "ticks": ""
            },
            "type": "choropleth"
           }
          ],
          "contour": [
           {
            "colorbar": {
             "outlinewidth": 0,
             "ticks": ""
            },
            "colorscale": [
             [
              0,
              "#0d0887"
             ],
             [
              0.1111111111111111,
              "#46039f"
             ],
             [
              0.2222222222222222,
              "#7201a8"
             ],
             [
              0.3333333333333333,
              "#9c179e"
             ],
             [
              0.4444444444444444,
              "#bd3786"
             ],
             [
              0.5555555555555556,
              "#d8576b"
             ],
             [
              0.6666666666666666,
              "#ed7953"
             ],
             [
              0.7777777777777778,
              "#fb9f3a"
             ],
             [
              0.8888888888888888,
              "#fdca26"
             ],
             [
              1,
              "#f0f921"
             ]
            ],
            "type": "contour"
           }
          ],
          "contourcarpet": [
           {
            "colorbar": {
             "outlinewidth": 0,
             "ticks": ""
            },
            "type": "contourcarpet"
           }
          ],
          "heatmap": [
           {
            "colorbar": {
             "outlinewidth": 0,
             "ticks": ""
            },
            "colorscale": [
             [
              0,
              "#0d0887"
             ],
             [
              0.1111111111111111,
              "#46039f"
             ],
             [
              0.2222222222222222,
              "#7201a8"
             ],
             [
              0.3333333333333333,
              "#9c179e"
             ],
             [
              0.4444444444444444,
              "#bd3786"
             ],
             [
              0.5555555555555556,
              "#d8576b"
             ],
             [
              0.6666666666666666,
              "#ed7953"
             ],
             [
              0.7777777777777778,
              "#fb9f3a"
             ],
             [
              0.8888888888888888,
              "#fdca26"
             ],
             [
              1,
              "#f0f921"
             ]
            ],
            "type": "heatmap"
           }
          ],
          "heatmapgl": [
           {
            "colorbar": {
             "outlinewidth": 0,
             "ticks": ""
            },
            "colorscale": [
             [
              0,
              "#0d0887"
             ],
             [
              0.1111111111111111,
              "#46039f"
             ],
             [
              0.2222222222222222,
              "#7201a8"
             ],
             [
              0.3333333333333333,
              "#9c179e"
             ],
             [
              0.4444444444444444,
              "#bd3786"
             ],
             [
              0.5555555555555556,
              "#d8576b"
             ],
             [
              0.6666666666666666,
              "#ed7953"
             ],
             [
              0.7777777777777778,
              "#fb9f3a"
             ],
             [
              0.8888888888888888,
              "#fdca26"
             ],
             [
              1,
              "#f0f921"
             ]
            ],
            "type": "heatmapgl"
           }
          ],
          "histogram": [
           {
            "marker": {
             "colorbar": {
              "outlinewidth": 0,
              "ticks": ""
             }
            },
            "type": "histogram"
           }
          ],
          "histogram2d": [
           {
            "colorbar": {
             "outlinewidth": 0,
             "ticks": ""
            },
            "colorscale": [
             [
              0,
              "#0d0887"
             ],
             [
              0.1111111111111111,
              "#46039f"
             ],
             [
              0.2222222222222222,
              "#7201a8"
             ],
             [
              0.3333333333333333,
              "#9c179e"
             ],
             [
              0.4444444444444444,
              "#bd3786"
             ],
             [
              0.5555555555555556,
              "#d8576b"
             ],
             [
              0.6666666666666666,
              "#ed7953"
             ],
             [
              0.7777777777777778,
              "#fb9f3a"
             ],
             [
              0.8888888888888888,
              "#fdca26"
             ],
             [
              1,
              "#f0f921"
             ]
            ],
            "type": "histogram2d"
           }
          ],
          "histogram2dcontour": [
           {
            "colorbar": {
             "outlinewidth": 0,
             "ticks": ""
            },
            "colorscale": [
             [
              0,
              "#0d0887"
             ],
             [
              0.1111111111111111,
              "#46039f"
             ],
             [
              0.2222222222222222,
              "#7201a8"
             ],
             [
              0.3333333333333333,
              "#9c179e"
             ],
             [
              0.4444444444444444,
              "#bd3786"
             ],
             [
              0.5555555555555556,
              "#d8576b"
             ],
             [
              0.6666666666666666,
              "#ed7953"
             ],
             [
              0.7777777777777778,
              "#fb9f3a"
             ],
             [
              0.8888888888888888,
              "#fdca26"
             ],
             [
              1,
              "#f0f921"
             ]
            ],
            "type": "histogram2dcontour"
           }
          ],
          "mesh3d": [
           {
            "colorbar": {
             "outlinewidth": 0,
             "ticks": ""
            },
            "type": "mesh3d"
           }
          ],
          "parcoords": [
           {
            "line": {
             "colorbar": {
              "outlinewidth": 0,
              "ticks": ""
             }
            },
            "type": "parcoords"
           }
          ],
          "pie": [
           {
            "automargin": true,
            "type": "pie"
           }
          ],
          "scatter": [
           {
            "marker": {
             "colorbar": {
              "outlinewidth": 0,
              "ticks": ""
             }
            },
            "type": "scatter"
           }
          ],
          "scatter3d": [
           {
            "line": {
             "colorbar": {
              "outlinewidth": 0,
              "ticks": ""
             }
            },
            "marker": {
             "colorbar": {
              "outlinewidth": 0,
              "ticks": ""
             }
            },
            "type": "scatter3d"
           }
          ],
          "scattercarpet": [
           {
            "marker": {
             "colorbar": {
              "outlinewidth": 0,
              "ticks": ""
             }
            },
            "type": "scattercarpet"
           }
          ],
          "scattergeo": [
           {
            "marker": {
             "colorbar": {
              "outlinewidth": 0,
              "ticks": ""
             }
            },
            "type": "scattergeo"
           }
          ],
          "scattergl": [
           {
            "marker": {
             "colorbar": {
              "outlinewidth": 0,
              "ticks": ""
             }
            },
            "type": "scattergl"
           }
          ],
          "scattermapbox": [
           {
            "marker": {
             "colorbar": {
              "outlinewidth": 0,
              "ticks": ""
             }
            },
            "type": "scattermapbox"
           }
          ],
          "scatterpolar": [
           {
            "marker": {
             "colorbar": {
              "outlinewidth": 0,
              "ticks": ""
             }
            },
            "type": "scatterpolar"
           }
          ],
          "scatterpolargl": [
           {
            "marker": {
             "colorbar": {
              "outlinewidth": 0,
              "ticks": ""
             }
            },
            "type": "scatterpolargl"
           }
          ],
          "scatterternary": [
           {
            "marker": {
             "colorbar": {
              "outlinewidth": 0,
              "ticks": ""
             }
            },
            "type": "scatterternary"
           }
          ],
          "surface": [
           {
            "colorbar": {
             "outlinewidth": 0,
             "ticks": ""
            },
            "colorscale": [
             [
              0,
              "#0d0887"
             ],
             [
              0.1111111111111111,
              "#46039f"
             ],
             [
              0.2222222222222222,
              "#7201a8"
             ],
             [
              0.3333333333333333,
              "#9c179e"
             ],
             [
              0.4444444444444444,
              "#bd3786"
             ],
             [
              0.5555555555555556,
              "#d8576b"
             ],
             [
              0.6666666666666666,
              "#ed7953"
             ],
             [
              0.7777777777777778,
              "#fb9f3a"
             ],
             [
              0.8888888888888888,
              "#fdca26"
             ],
             [
              1,
              "#f0f921"
             ]
            ],
            "type": "surface"
           }
          ],
          "table": [
           {
            "cells": {
             "fill": {
              "color": "#EBF0F8"
             },
             "line": {
              "color": "white"
             }
            },
            "header": {
             "fill": {
              "color": "#C8D4E3"
             },
             "line": {
              "color": "white"
             }
            },
            "type": "table"
           }
          ]
         },
         "layout": {
          "annotationdefaults": {
           "arrowcolor": "#2a3f5f",
           "arrowhead": 0,
           "arrowwidth": 1
          },
          "coloraxis": {
           "colorbar": {
            "outlinewidth": 0,
            "ticks": ""
           }
          },
          "colorscale": {
           "diverging": [
            [
             0,
             "#8e0152"
            ],
            [
             0.1,
             "#c51b7d"
            ],
            [
             0.2,
             "#de77ae"
            ],
            [
             0.3,
             "#f1b6da"
            ],
            [
             0.4,
             "#fde0ef"
            ],
            [
             0.5,
             "#f7f7f7"
            ],
            [
             0.6,
             "#e6f5d0"
            ],
            [
             0.7,
             "#b8e186"
            ],
            [
             0.8,
             "#7fbc41"
            ],
            [
             0.9,
             "#4d9221"
            ],
            [
             1,
             "#276419"
            ]
           ],
           "sequential": [
            [
             0,
             "#0d0887"
            ],
            [
             0.1111111111111111,
             "#46039f"
            ],
            [
             0.2222222222222222,
             "#7201a8"
            ],
            [
             0.3333333333333333,
             "#9c179e"
            ],
            [
             0.4444444444444444,
             "#bd3786"
            ],
            [
             0.5555555555555556,
             "#d8576b"
            ],
            [
             0.6666666666666666,
             "#ed7953"
            ],
            [
             0.7777777777777778,
             "#fb9f3a"
            ],
            [
             0.8888888888888888,
             "#fdca26"
            ],
            [
             1,
             "#f0f921"
            ]
           ],
           "sequentialminus": [
            [
             0,
             "#0d0887"
            ],
            [
             0.1111111111111111,
             "#46039f"
            ],
            [
             0.2222222222222222,
             "#7201a8"
            ],
            [
             0.3333333333333333,
             "#9c179e"
            ],
            [
             0.4444444444444444,
             "#bd3786"
            ],
            [
             0.5555555555555556,
             "#d8576b"
            ],
            [
             0.6666666666666666,
             "#ed7953"
            ],
            [
             0.7777777777777778,
             "#fb9f3a"
            ],
            [
             0.8888888888888888,
             "#fdca26"
            ],
            [
             1,
             "#f0f921"
            ]
           ]
          },
          "colorway": [
           "#636efa",
           "#EF553B",
           "#00cc96",
           "#ab63fa",
           "#FFA15A",
           "#19d3f3",
           "#FF6692",
           "#B6E880",
           "#FF97FF",
           "#FECB52"
          ],
          "font": {
           "color": "#2a3f5f"
          },
          "geo": {
           "bgcolor": "white",
           "lakecolor": "white",
           "landcolor": "#E5ECF6",
           "showlakes": true,
           "showland": true,
           "subunitcolor": "white"
          },
          "hoverlabel": {
           "align": "left"
          },
          "hovermode": "closest",
          "mapbox": {
           "style": "light"
          },
          "paper_bgcolor": "white",
          "plot_bgcolor": "#E5ECF6",
          "polar": {
           "angularaxis": {
            "gridcolor": "white",
            "linecolor": "white",
            "ticks": ""
           },
           "bgcolor": "#E5ECF6",
           "radialaxis": {
            "gridcolor": "white",
            "linecolor": "white",
            "ticks": ""
           }
          },
          "scene": {
           "xaxis": {
            "backgroundcolor": "#E5ECF6",
            "gridcolor": "white",
            "gridwidth": 2,
            "linecolor": "white",
            "showbackground": true,
            "ticks": "",
            "zerolinecolor": "white"
           },
           "yaxis": {
            "backgroundcolor": "#E5ECF6",
            "gridcolor": "white",
            "gridwidth": 2,
            "linecolor": "white",
            "showbackground": true,
            "ticks": "",
            "zerolinecolor": "white"
           },
           "zaxis": {
            "backgroundcolor": "#E5ECF6",
            "gridcolor": "white",
            "gridwidth": 2,
            "linecolor": "white",
            "showbackground": true,
            "ticks": "",
            "zerolinecolor": "white"
           }
          },
          "shapedefaults": {
           "line": {
            "color": "#2a3f5f"
           }
          },
          "ternary": {
           "aaxis": {
            "gridcolor": "white",
            "linecolor": "white",
            "ticks": ""
           },
           "baxis": {
            "gridcolor": "white",
            "linecolor": "white",
            "ticks": ""
           },
           "bgcolor": "#E5ECF6",
           "caxis": {
            "gridcolor": "white",
            "linecolor": "white",
            "ticks": ""
           }
          },
          "title": {
           "x": 0.05
          },
          "xaxis": {
           "automargin": true,
           "gridcolor": "white",
           "linecolor": "white",
           "ticks": "",
           "title": {
            "standoff": 15
           },
           "zerolinecolor": "white",
           "zerolinewidth": 2
          },
          "yaxis": {
           "automargin": true,
           "gridcolor": "white",
           "linecolor": "white",
           "ticks": "",
           "title": {
            "standoff": 15
           },
           "zerolinecolor": "white",
           "zerolinewidth": 2
          }
         }
        },
        "title": {
         "text": "Tree of Most Common Words"
        },
        "width": 1300
       }
      },
      "text/html": [
       "<div>\n",
       "        \n",
       "        \n",
       "            <div id=\"7df34627-bab0-47f5-9ffe-b8178d5de221\" class=\"plotly-graph-div\" style=\"height:600px; width:1300px;\"></div>\n",
       "            <script type=\"text/javascript\">\n",
       "                require([\"plotly\"], function(Plotly) {\n",
       "                    window.PLOTLYENV=window.PLOTLYENV || {};\n",
       "                    \n",
       "                if (document.getElementById(\"7df34627-bab0-47f5-9ffe-b8178d5de221\")) {\n",
       "                    Plotly.newPlot(\n",
       "                        '7df34627-bab0-47f5-9ffe-b8178d5de221',\n",
       "                        [{\"branchvalues\": \"total\", \"domain\": {\"x\": [0.0, 1.0], \"y\": [0.0, 1.0]}, \"hovertemplate\": \"labels=%{label}<br>word_count=%{value}<br>parent=%{parent}<br>id=%{id}<extra></extra>\", \"ids\": [\"active directory\", \"android plus\", \"app \\u30b9\\u30c8\\u30a2\", \"apple \\u88fd\\u54c1\", \"id url\", \"ini \\u30d5\\u30a1\\u30a4\\u30eb\", \"ios android\", \"managed google\", \"mobicontrol \\u30d1\\u30c3\\u30b1\\u30fc\\u30b8\", \"setup ini\", \"url setup\", \"windows pc\", \"\\u30af\\u30ea\\u30c3\\u30af \\u8aac\\u660e\", \"\\u30e2\\u30d0\\u30a4\\u30eb\\u7aef\\u672b \\u5411\\u3051\", \"\\u5199\\u771f \\u52d5\\u753b\", \"\\u53c2\\u7167 \\u304f\\u3060\\u3055\\u308b\", \"\\u5411\\u3051 \\u610f\\u56f3\", \"\\u6587\\u66f8 \\u5199\\u771f\", \"\\u69cb\\u6210 \\u30d7\\u30ed\\u30d5\\u30a1\\u30a4\\u30eb\", \"\\u8aac\\u660e \\u30da\\u30fc\\u30b8\"], \"labels\": [\"active directory\", \"android plus\", \"app \\u30b9\\u30c8\\u30a2\", \"apple \\u88fd\\u54c1\", \"id url\", \"ini \\u30d5\\u30a1\\u30a4\\u30eb\", \"ios android\", \"managed google\", \"mobicontrol \\u30d1\\u30c3\\u30b1\\u30fc\\u30b8\", \"setup ini\", \"url setup\", \"windows pc\", \"\\u30af\\u30ea\\u30c3\\u30af \\u8aac\\u660e\", \"\\u30e2\\u30d0\\u30a4\\u30eb\\u7aef\\u672b \\u5411\\u3051\", \"\\u5199\\u771f \\u52d5\\u753b\", \"\\u53c2\\u7167 \\u304f\\u3060\\u3055\\u308b\", \"\\u5411\\u3051 \\u610f\\u56f3\", \"\\u6587\\u66f8 \\u5199\\u771f\", \"\\u69cb\\u6210 \\u30d7\\u30ed\\u30d5\\u30a1\\u30a4\\u30eb\", \"\\u8aac\\u660e \\u30da\\u30fc\\u30b8\"], \"name\": \"\", \"parents\": [\"\", \"\", \"\", \"\", \"\", \"\", \"\", \"\", \"\", \"\", \"\", \"\", \"\", \"\", \"\", \"\", \"\", \"\", \"\", \"\"], \"type\": \"treemap\", \"values\": [4, 4, 4, 4, 5, 6, 9, 4, 4, 6, 4, 5, 4, 4, 4, 5, 4, 4, 4, 4]}],\n",
       "                        {\"height\": 600, \"legend\": {\"tracegroupgap\": 0}, \"margin\": {\"t\": 60}, \"template\": {\"data\": {\"bar\": [{\"error_x\": {\"color\": \"#2a3f5f\"}, \"error_y\": {\"color\": \"#2a3f5f\"}, \"marker\": {\"line\": {\"color\": \"#E5ECF6\", \"width\": 0.5}}, \"type\": \"bar\"}], \"barpolar\": [{\"marker\": {\"line\": {\"color\": \"#E5ECF6\", \"width\": 0.5}}, \"type\": \"barpolar\"}], \"carpet\": [{\"aaxis\": {\"endlinecolor\": \"#2a3f5f\", \"gridcolor\": \"white\", \"linecolor\": \"white\", \"minorgridcolor\": \"white\", \"startlinecolor\": \"#2a3f5f\"}, \"baxis\": {\"endlinecolor\": \"#2a3f5f\", \"gridcolor\": \"white\", \"linecolor\": \"white\", \"minorgridcolor\": \"white\", \"startlinecolor\": \"#2a3f5f\"}, \"type\": \"carpet\"}], \"choropleth\": [{\"colorbar\": {\"outlinewidth\": 0, \"ticks\": \"\"}, \"type\": \"choropleth\"}], \"contour\": [{\"colorbar\": {\"outlinewidth\": 0, \"ticks\": \"\"}, \"colorscale\": [[0.0, \"#0d0887\"], [0.1111111111111111, \"#46039f\"], [0.2222222222222222, \"#7201a8\"], [0.3333333333333333, \"#9c179e\"], [0.4444444444444444, \"#bd3786\"], [0.5555555555555556, \"#d8576b\"], [0.6666666666666666, \"#ed7953\"], [0.7777777777777778, \"#fb9f3a\"], [0.8888888888888888, \"#fdca26\"], [1.0, \"#f0f921\"]], \"type\": \"contour\"}], \"contourcarpet\": [{\"colorbar\": {\"outlinewidth\": 0, \"ticks\": \"\"}, \"type\": \"contourcarpet\"}], \"heatmap\": [{\"colorbar\": {\"outlinewidth\": 0, \"ticks\": \"\"}, \"colorscale\": [[0.0, \"#0d0887\"], [0.1111111111111111, \"#46039f\"], [0.2222222222222222, \"#7201a8\"], [0.3333333333333333, \"#9c179e\"], [0.4444444444444444, \"#bd3786\"], [0.5555555555555556, \"#d8576b\"], [0.6666666666666666, \"#ed7953\"], [0.7777777777777778, \"#fb9f3a\"], [0.8888888888888888, \"#fdca26\"], [1.0, \"#f0f921\"]], \"type\": \"heatmap\"}], \"heatmapgl\": [{\"colorbar\": {\"outlinewidth\": 0, \"ticks\": \"\"}, \"colorscale\": [[0.0, \"#0d0887\"], [0.1111111111111111, \"#46039f\"], [0.2222222222222222, \"#7201a8\"], [0.3333333333333333, \"#9c179e\"], [0.4444444444444444, \"#bd3786\"], [0.5555555555555556, \"#d8576b\"], [0.6666666666666666, \"#ed7953\"], [0.7777777777777778, \"#fb9f3a\"], [0.8888888888888888, \"#fdca26\"], [1.0, \"#f0f921\"]], \"type\": \"heatmapgl\"}], \"histogram\": [{\"marker\": {\"colorbar\": {\"outlinewidth\": 0, \"ticks\": \"\"}}, \"type\": \"histogram\"}], \"histogram2d\": [{\"colorbar\": {\"outlinewidth\": 0, \"ticks\": \"\"}, \"colorscale\": [[0.0, \"#0d0887\"], [0.1111111111111111, \"#46039f\"], [0.2222222222222222, \"#7201a8\"], [0.3333333333333333, \"#9c179e\"], [0.4444444444444444, \"#bd3786\"], [0.5555555555555556, \"#d8576b\"], [0.6666666666666666, \"#ed7953\"], [0.7777777777777778, \"#fb9f3a\"], [0.8888888888888888, \"#fdca26\"], [1.0, \"#f0f921\"]], \"type\": \"histogram2d\"}], \"histogram2dcontour\": [{\"colorbar\": {\"outlinewidth\": 0, \"ticks\": \"\"}, \"colorscale\": [[0.0, \"#0d0887\"], [0.1111111111111111, \"#46039f\"], [0.2222222222222222, \"#7201a8\"], [0.3333333333333333, \"#9c179e\"], [0.4444444444444444, \"#bd3786\"], [0.5555555555555556, \"#d8576b\"], [0.6666666666666666, \"#ed7953\"], [0.7777777777777778, \"#fb9f3a\"], [0.8888888888888888, \"#fdca26\"], [1.0, \"#f0f921\"]], \"type\": \"histogram2dcontour\"}], \"mesh3d\": [{\"colorbar\": {\"outlinewidth\": 0, \"ticks\": \"\"}, \"type\": \"mesh3d\"}], \"parcoords\": [{\"line\": {\"colorbar\": {\"outlinewidth\": 0, \"ticks\": \"\"}}, \"type\": \"parcoords\"}], \"pie\": [{\"automargin\": true, \"type\": \"pie\"}], \"scatter\": [{\"marker\": {\"colorbar\": {\"outlinewidth\": 0, \"ticks\": \"\"}}, \"type\": \"scatter\"}], \"scatter3d\": [{\"line\": {\"colorbar\": {\"outlinewidth\": 0, \"ticks\": \"\"}}, \"marker\": {\"colorbar\": {\"outlinewidth\": 0, \"ticks\": \"\"}}, \"type\": \"scatter3d\"}], \"scattercarpet\": [{\"marker\": {\"colorbar\": {\"outlinewidth\": 0, \"ticks\": \"\"}}, \"type\": \"scattercarpet\"}], \"scattergeo\": [{\"marker\": {\"colorbar\": {\"outlinewidth\": 0, \"ticks\": \"\"}}, \"type\": \"scattergeo\"}], \"scattergl\": [{\"marker\": {\"colorbar\": {\"outlinewidth\": 0, \"ticks\": \"\"}}, \"type\": \"scattergl\"}], \"scattermapbox\": [{\"marker\": {\"colorbar\": {\"outlinewidth\": 0, \"ticks\": \"\"}}, \"type\": \"scattermapbox\"}], \"scatterpolar\": [{\"marker\": {\"colorbar\": {\"outlinewidth\": 0, \"ticks\": \"\"}}, \"type\": \"scatterpolar\"}], \"scatterpolargl\": [{\"marker\": {\"colorbar\": {\"outlinewidth\": 0, \"ticks\": \"\"}}, \"type\": \"scatterpolargl\"}], \"scatterternary\": [{\"marker\": {\"colorbar\": {\"outlinewidth\": 0, \"ticks\": \"\"}}, \"type\": \"scatterternary\"}], \"surface\": [{\"colorbar\": {\"outlinewidth\": 0, \"ticks\": \"\"}, \"colorscale\": [[0.0, \"#0d0887\"], [0.1111111111111111, \"#46039f\"], [0.2222222222222222, \"#7201a8\"], [0.3333333333333333, \"#9c179e\"], [0.4444444444444444, \"#bd3786\"], [0.5555555555555556, \"#d8576b\"], [0.6666666666666666, \"#ed7953\"], [0.7777777777777778, \"#fb9f3a\"], [0.8888888888888888, \"#fdca26\"], [1.0, \"#f0f921\"]], \"type\": \"surface\"}], \"table\": [{\"cells\": {\"fill\": {\"color\": \"#EBF0F8\"}, \"line\": {\"color\": \"white\"}}, \"header\": {\"fill\": {\"color\": \"#C8D4E3\"}, \"line\": {\"color\": \"white\"}}, \"type\": \"table\"}]}, \"layout\": {\"annotationdefaults\": {\"arrowcolor\": \"#2a3f5f\", \"arrowhead\": 0, \"arrowwidth\": 1}, \"coloraxis\": {\"colorbar\": {\"outlinewidth\": 0, \"ticks\": \"\"}}, \"colorscale\": {\"diverging\": [[0, \"#8e0152\"], [0.1, \"#c51b7d\"], [0.2, \"#de77ae\"], [0.3, \"#f1b6da\"], [0.4, \"#fde0ef\"], [0.5, \"#f7f7f7\"], [0.6, \"#e6f5d0\"], [0.7, \"#b8e186\"], [0.8, \"#7fbc41\"], [0.9, \"#4d9221\"], [1, \"#276419\"]], \"sequential\": [[0.0, \"#0d0887\"], [0.1111111111111111, \"#46039f\"], [0.2222222222222222, \"#7201a8\"], [0.3333333333333333, \"#9c179e\"], [0.4444444444444444, \"#bd3786\"], [0.5555555555555556, \"#d8576b\"], [0.6666666666666666, \"#ed7953\"], [0.7777777777777778, \"#fb9f3a\"], [0.8888888888888888, \"#fdca26\"], [1.0, \"#f0f921\"]], \"sequentialminus\": [[0.0, \"#0d0887\"], [0.1111111111111111, \"#46039f\"], [0.2222222222222222, \"#7201a8\"], [0.3333333333333333, \"#9c179e\"], [0.4444444444444444, \"#bd3786\"], [0.5555555555555556, \"#d8576b\"], [0.6666666666666666, \"#ed7953\"], [0.7777777777777778, \"#fb9f3a\"], [0.8888888888888888, \"#fdca26\"], [1.0, \"#f0f921\"]]}, \"colorway\": [\"#636efa\", \"#EF553B\", \"#00cc96\", \"#ab63fa\", \"#FFA15A\", \"#19d3f3\", \"#FF6692\", \"#B6E880\", \"#FF97FF\", \"#FECB52\"], \"font\": {\"color\": \"#2a3f5f\"}, \"geo\": {\"bgcolor\": \"white\", \"lakecolor\": \"white\", \"landcolor\": \"#E5ECF6\", \"showlakes\": true, \"showland\": true, \"subunitcolor\": \"white\"}, \"hoverlabel\": {\"align\": \"left\"}, \"hovermode\": \"closest\", \"mapbox\": {\"style\": \"light\"}, \"paper_bgcolor\": \"white\", \"plot_bgcolor\": \"#E5ECF6\", \"polar\": {\"angularaxis\": {\"gridcolor\": \"white\", \"linecolor\": \"white\", \"ticks\": \"\"}, \"bgcolor\": \"#E5ECF6\", \"radialaxis\": {\"gridcolor\": \"white\", \"linecolor\": \"white\", \"ticks\": \"\"}}, \"scene\": {\"xaxis\": {\"backgroundcolor\": \"#E5ECF6\", \"gridcolor\": \"white\", \"gridwidth\": 2, \"linecolor\": \"white\", \"showbackground\": true, \"ticks\": \"\", \"zerolinecolor\": \"white\"}, \"yaxis\": {\"backgroundcolor\": \"#E5ECF6\", \"gridcolor\": \"white\", \"gridwidth\": 2, \"linecolor\": \"white\", \"showbackground\": true, \"ticks\": \"\", \"zerolinecolor\": \"white\"}, \"zaxis\": {\"backgroundcolor\": \"#E5ECF6\", \"gridcolor\": \"white\", \"gridwidth\": 2, \"linecolor\": \"white\", \"showbackground\": true, \"ticks\": \"\", \"zerolinecolor\": \"white\"}}, \"shapedefaults\": {\"line\": {\"color\": \"#2a3f5f\"}}, \"ternary\": {\"aaxis\": {\"gridcolor\": \"white\", \"linecolor\": \"white\", \"ticks\": \"\"}, \"baxis\": {\"gridcolor\": \"white\", \"linecolor\": \"white\", \"ticks\": \"\"}, \"bgcolor\": \"#E5ECF6\", \"caxis\": {\"gridcolor\": \"white\", \"linecolor\": \"white\", \"ticks\": \"\"}}, \"title\": {\"x\": 0.05}, \"xaxis\": {\"automargin\": true, \"gridcolor\": \"white\", \"linecolor\": \"white\", \"ticks\": \"\", \"title\": {\"standoff\": 15}, \"zerolinecolor\": \"white\", \"zerolinewidth\": 2}, \"yaxis\": {\"automargin\": true, \"gridcolor\": \"white\", \"linecolor\": \"white\", \"ticks\": \"\", \"title\": {\"standoff\": 15}, \"zerolinecolor\": \"white\", \"zerolinewidth\": 2}}}, \"title\": {\"text\": \"Tree of Most Common Words\"}, \"width\": 1300},\n",
       "                        {\"responsive\": true}\n",
       "                    ).then(function(){\n",
       "                            \n",
       "var gd = document.getElementById('7df34627-bab0-47f5-9ffe-b8178d5de221');\n",
       "var x = new MutationObserver(function (mutations, observer) {{\n",
       "        var display = window.getComputedStyle(gd).display;\n",
       "        if (!display || display === 'none') {{\n",
       "            console.log([gd, 'removed!']);\n",
       "            Plotly.purge(gd);\n",
       "            observer.disconnect();\n",
       "        }}\n",
       "}});\n",
       "\n",
       "// Listen for the removal of the full notebook cells\n",
       "var notebookContainer = gd.closest('#notebook-container');\n",
       "if (notebookContainer) {{\n",
       "    x.observe(notebookContainer, {childList: true});\n",
       "}}\n",
       "\n",
       "// Listen for the clearing of the current output cell\n",
       "var outputEl = gd.closest('.output');\n",
       "if (outputEl) {{\n",
       "    x.observe(outputEl, {childList: true});\n",
       "}}\n",
       "\n",
       "                        })\n",
       "                };\n",
       "                });\n",
       "            </script>\n",
       "        </div>"
      ]
     },
     "metadata": {},
     "output_type": "display_data"
    }
   ],
   "source": [
    "# 2. N-gram tree Map\n",
    "npt.treemap(title='Tree of Most Common Words', ngram=2, top_n=20, stopwords=stopwords)\n"
   ]
  },
  {
   "cell_type": "code",
   "execution_count": 57,
   "metadata": {},
   "outputs": [
    {
     "data": {
      "application/vnd.plotly.v1+json": {
       "config": {
        "plotlyServerURL": "https://plot.ly"
       },
       "data": [
        {
         "alignmentgroup": "True",
         "bingroup": "x",
         "hovertemplate": "text_length=%{x}<br>count=%{y}<extra></extra>",
         "legendgroup": "",
         "marker": {
          "color": "#636efa"
         },
         "name": "",
         "offsetgroup": "",
         "orientation": "v",
         "showlegend": false,
         "type": "histogram",
         "x": [
          6,
          6,
          11,
          41,
          9,
          29,
          9,
          6,
          14,
          13,
          8,
          9,
          3,
          6,
          4,
          6,
          23,
          25,
          10,
          7,
          15,
          10,
          3,
          15,
          10,
          16,
          5,
          7,
          15,
          16,
          20,
          9,
          16,
          4,
          12,
          6,
          9,
          14,
          24,
          12,
          12,
          10,
          9,
          4,
          11,
          4,
          6,
          11,
          4,
          7,
          9,
          5,
          15,
          14,
          10,
          8,
          6,
          7,
          6,
          6,
          3,
          4,
          8,
          10,
          9,
          10,
          14,
          25,
          3,
          1,
          7,
          7,
          3,
          9,
          17,
          11,
          4,
          9,
          11,
          11,
          19,
          7,
          4,
          8,
          7,
          11,
          4,
          16,
          41,
          9,
          29,
          9,
          6,
          14,
          13,
          8,
          9,
          3,
          6,
          4,
          6,
          23,
          25,
          10,
          7,
          15,
          10,
          3,
          21,
          20,
          9,
          16,
          4,
          12,
          12,
          4,
          11,
          4,
          6,
          11,
          4,
          7,
          9,
          5,
          15,
          29
         ],
         "xaxis": "x",
         "yaxis": "y"
        }
       ],
       "layout": {
        "barmode": "relative",
        "height": 600,
        "legend": {
         "tracegroupgap": 0
        },
        "margin": {
         "t": 60
        },
        "template": {
         "data": {
          "bar": [
           {
            "error_x": {
             "color": "#2a3f5f"
            },
            "error_y": {
             "color": "#2a3f5f"
            },
            "marker": {
             "line": {
              "color": "#E5ECF6",
              "width": 0.5
             }
            },
            "type": "bar"
           }
          ],
          "barpolar": [
           {
            "marker": {
             "line": {
              "color": "#E5ECF6",
              "width": 0.5
             }
            },
            "type": "barpolar"
           }
          ],
          "carpet": [
           {
            "aaxis": {
             "endlinecolor": "#2a3f5f",
             "gridcolor": "white",
             "linecolor": "white",
             "minorgridcolor": "white",
             "startlinecolor": "#2a3f5f"
            },
            "baxis": {
             "endlinecolor": "#2a3f5f",
             "gridcolor": "white",
             "linecolor": "white",
             "minorgridcolor": "white",
             "startlinecolor": "#2a3f5f"
            },
            "type": "carpet"
           }
          ],
          "choropleth": [
           {
            "colorbar": {
             "outlinewidth": 0,
             "ticks": ""
            },
            "type": "choropleth"
           }
          ],
          "contour": [
           {
            "colorbar": {
             "outlinewidth": 0,
             "ticks": ""
            },
            "colorscale": [
             [
              0,
              "#0d0887"
             ],
             [
              0.1111111111111111,
              "#46039f"
             ],
             [
              0.2222222222222222,
              "#7201a8"
             ],
             [
              0.3333333333333333,
              "#9c179e"
             ],
             [
              0.4444444444444444,
              "#bd3786"
             ],
             [
              0.5555555555555556,
              "#d8576b"
             ],
             [
              0.6666666666666666,
              "#ed7953"
             ],
             [
              0.7777777777777778,
              "#fb9f3a"
             ],
             [
              0.8888888888888888,
              "#fdca26"
             ],
             [
              1,
              "#f0f921"
             ]
            ],
            "type": "contour"
           }
          ],
          "contourcarpet": [
           {
            "colorbar": {
             "outlinewidth": 0,
             "ticks": ""
            },
            "type": "contourcarpet"
           }
          ],
          "heatmap": [
           {
            "colorbar": {
             "outlinewidth": 0,
             "ticks": ""
            },
            "colorscale": [
             [
              0,
              "#0d0887"
             ],
             [
              0.1111111111111111,
              "#46039f"
             ],
             [
              0.2222222222222222,
              "#7201a8"
             ],
             [
              0.3333333333333333,
              "#9c179e"
             ],
             [
              0.4444444444444444,
              "#bd3786"
             ],
             [
              0.5555555555555556,
              "#d8576b"
             ],
             [
              0.6666666666666666,
              "#ed7953"
             ],
             [
              0.7777777777777778,
              "#fb9f3a"
             ],
             [
              0.8888888888888888,
              "#fdca26"
             ],
             [
              1,
              "#f0f921"
             ]
            ],
            "type": "heatmap"
           }
          ],
          "heatmapgl": [
           {
            "colorbar": {
             "outlinewidth": 0,
             "ticks": ""
            },
            "colorscale": [
             [
              0,
              "#0d0887"
             ],
             [
              0.1111111111111111,
              "#46039f"
             ],
             [
              0.2222222222222222,
              "#7201a8"
             ],
             [
              0.3333333333333333,
              "#9c179e"
             ],
             [
              0.4444444444444444,
              "#bd3786"
             ],
             [
              0.5555555555555556,
              "#d8576b"
             ],
             [
              0.6666666666666666,
              "#ed7953"
             ],
             [
              0.7777777777777778,
              "#fb9f3a"
             ],
             [
              0.8888888888888888,
              "#fdca26"
             ],
             [
              1,
              "#f0f921"
             ]
            ],
            "type": "heatmapgl"
           }
          ],
          "histogram": [
           {
            "marker": {
             "colorbar": {
              "outlinewidth": 0,
              "ticks": ""
             }
            },
            "type": "histogram"
           }
          ],
          "histogram2d": [
           {
            "colorbar": {
             "outlinewidth": 0,
             "ticks": ""
            },
            "colorscale": [
             [
              0,
              "#0d0887"
             ],
             [
              0.1111111111111111,
              "#46039f"
             ],
             [
              0.2222222222222222,
              "#7201a8"
             ],
             [
              0.3333333333333333,
              "#9c179e"
             ],
             [
              0.4444444444444444,
              "#bd3786"
             ],
             [
              0.5555555555555556,
              "#d8576b"
             ],
             [
              0.6666666666666666,
              "#ed7953"
             ],
             [
              0.7777777777777778,
              "#fb9f3a"
             ],
             [
              0.8888888888888888,
              "#fdca26"
             ],
             [
              1,
              "#f0f921"
             ]
            ],
            "type": "histogram2d"
           }
          ],
          "histogram2dcontour": [
           {
            "colorbar": {
             "outlinewidth": 0,
             "ticks": ""
            },
            "colorscale": [
             [
              0,
              "#0d0887"
             ],
             [
              0.1111111111111111,
              "#46039f"
             ],
             [
              0.2222222222222222,
              "#7201a8"
             ],
             [
              0.3333333333333333,
              "#9c179e"
             ],
             [
              0.4444444444444444,
              "#bd3786"
             ],
             [
              0.5555555555555556,
              "#d8576b"
             ],
             [
              0.6666666666666666,
              "#ed7953"
             ],
             [
              0.7777777777777778,
              "#fb9f3a"
             ],
             [
              0.8888888888888888,
              "#fdca26"
             ],
             [
              1,
              "#f0f921"
             ]
            ],
            "type": "histogram2dcontour"
           }
          ],
          "mesh3d": [
           {
            "colorbar": {
             "outlinewidth": 0,
             "ticks": ""
            },
            "type": "mesh3d"
           }
          ],
          "parcoords": [
           {
            "line": {
             "colorbar": {
              "outlinewidth": 0,
              "ticks": ""
             }
            },
            "type": "parcoords"
           }
          ],
          "pie": [
           {
            "automargin": true,
            "type": "pie"
           }
          ],
          "scatter": [
           {
            "marker": {
             "colorbar": {
              "outlinewidth": 0,
              "ticks": ""
             }
            },
            "type": "scatter"
           }
          ],
          "scatter3d": [
           {
            "line": {
             "colorbar": {
              "outlinewidth": 0,
              "ticks": ""
             }
            },
            "marker": {
             "colorbar": {
              "outlinewidth": 0,
              "ticks": ""
             }
            },
            "type": "scatter3d"
           }
          ],
          "scattercarpet": [
           {
            "marker": {
             "colorbar": {
              "outlinewidth": 0,
              "ticks": ""
             }
            },
            "type": "scattercarpet"
           }
          ],
          "scattergeo": [
           {
            "marker": {
             "colorbar": {
              "outlinewidth": 0,
              "ticks": ""
             }
            },
            "type": "scattergeo"
           }
          ],
          "scattergl": [
           {
            "marker": {
             "colorbar": {
              "outlinewidth": 0,
              "ticks": ""
             }
            },
            "type": "scattergl"
           }
          ],
          "scattermapbox": [
           {
            "marker": {
             "colorbar": {
              "outlinewidth": 0,
              "ticks": ""
             }
            },
            "type": "scattermapbox"
           }
          ],
          "scatterpolar": [
           {
            "marker": {
             "colorbar": {
              "outlinewidth": 0,
              "ticks": ""
             }
            },
            "type": "scatterpolar"
           }
          ],
          "scatterpolargl": [
           {
            "marker": {
             "colorbar": {
              "outlinewidth": 0,
              "ticks": ""
             }
            },
            "type": "scatterpolargl"
           }
          ],
          "scatterternary": [
           {
            "marker": {
             "colorbar": {
              "outlinewidth": 0,
              "ticks": ""
             }
            },
            "type": "scatterternary"
           }
          ],
          "surface": [
           {
            "colorbar": {
             "outlinewidth": 0,
             "ticks": ""
            },
            "colorscale": [
             [
              0,
              "#0d0887"
             ],
             [
              0.1111111111111111,
              "#46039f"
             ],
             [
              0.2222222222222222,
              "#7201a8"
             ],
             [
              0.3333333333333333,
              "#9c179e"
             ],
             [
              0.4444444444444444,
              "#bd3786"
             ],
             [
              0.5555555555555556,
              "#d8576b"
             ],
             [
              0.6666666666666666,
              "#ed7953"
             ],
             [
              0.7777777777777778,
              "#fb9f3a"
             ],
             [
              0.8888888888888888,
              "#fdca26"
             ],
             [
              1,
              "#f0f921"
             ]
            ],
            "type": "surface"
           }
          ],
          "table": [
           {
            "cells": {
             "fill": {
              "color": "#EBF0F8"
             },
             "line": {
              "color": "white"
             }
            },
            "header": {
             "fill": {
              "color": "#C8D4E3"
             },
             "line": {
              "color": "white"
             }
            },
            "type": "table"
           }
          ]
         },
         "layout": {
          "annotationdefaults": {
           "arrowcolor": "#2a3f5f",
           "arrowhead": 0,
           "arrowwidth": 1
          },
          "coloraxis": {
           "colorbar": {
            "outlinewidth": 0,
            "ticks": ""
           }
          },
          "colorscale": {
           "diverging": [
            [
             0,
             "#8e0152"
            ],
            [
             0.1,
             "#c51b7d"
            ],
            [
             0.2,
             "#de77ae"
            ],
            [
             0.3,
             "#f1b6da"
            ],
            [
             0.4,
             "#fde0ef"
            ],
            [
             0.5,
             "#f7f7f7"
            ],
            [
             0.6,
             "#e6f5d0"
            ],
            [
             0.7,
             "#b8e186"
            ],
            [
             0.8,
             "#7fbc41"
            ],
            [
             0.9,
             "#4d9221"
            ],
            [
             1,
             "#276419"
            ]
           ],
           "sequential": [
            [
             0,
             "#0d0887"
            ],
            [
             0.1111111111111111,
             "#46039f"
            ],
            [
             0.2222222222222222,
             "#7201a8"
            ],
            [
             0.3333333333333333,
             "#9c179e"
            ],
            [
             0.4444444444444444,
             "#bd3786"
            ],
            [
             0.5555555555555556,
             "#d8576b"
            ],
            [
             0.6666666666666666,
             "#ed7953"
            ],
            [
             0.7777777777777778,
             "#fb9f3a"
            ],
            [
             0.8888888888888888,
             "#fdca26"
            ],
            [
             1,
             "#f0f921"
            ]
           ],
           "sequentialminus": [
            [
             0,
             "#0d0887"
            ],
            [
             0.1111111111111111,
             "#46039f"
            ],
            [
             0.2222222222222222,
             "#7201a8"
            ],
            [
             0.3333333333333333,
             "#9c179e"
            ],
            [
             0.4444444444444444,
             "#bd3786"
            ],
            [
             0.5555555555555556,
             "#d8576b"
            ],
            [
             0.6666666666666666,
             "#ed7953"
            ],
            [
             0.7777777777777778,
             "#fb9f3a"
            ],
            [
             0.8888888888888888,
             "#fdca26"
            ],
            [
             1,
             "#f0f921"
            ]
           ]
          },
          "colorway": [
           "#636efa",
           "#EF553B",
           "#00cc96",
           "#ab63fa",
           "#FFA15A",
           "#19d3f3",
           "#FF6692",
           "#B6E880",
           "#FF97FF",
           "#FECB52"
          ],
          "font": {
           "color": "#2a3f5f"
          },
          "geo": {
           "bgcolor": "white",
           "lakecolor": "white",
           "landcolor": "#E5ECF6",
           "showlakes": true,
           "showland": true,
           "subunitcolor": "white"
          },
          "hoverlabel": {
           "align": "left"
          },
          "hovermode": "closest",
          "mapbox": {
           "style": "light"
          },
          "paper_bgcolor": "white",
          "plot_bgcolor": "#E5ECF6",
          "polar": {
           "angularaxis": {
            "gridcolor": "white",
            "linecolor": "white",
            "ticks": ""
           },
           "bgcolor": "#E5ECF6",
           "radialaxis": {
            "gridcolor": "white",
            "linecolor": "white",
            "ticks": ""
           }
          },
          "scene": {
           "xaxis": {
            "backgroundcolor": "#E5ECF6",
            "gridcolor": "white",
            "gridwidth": 2,
            "linecolor": "white",
            "showbackground": true,
            "ticks": "",
            "zerolinecolor": "white"
           },
           "yaxis": {
            "backgroundcolor": "#E5ECF6",
            "gridcolor": "white",
            "gridwidth": 2,
            "linecolor": "white",
            "showbackground": true,
            "ticks": "",
            "zerolinecolor": "white"
           },
           "zaxis": {
            "backgroundcolor": "#E5ECF6",
            "gridcolor": "white",
            "gridwidth": 2,
            "linecolor": "white",
            "showbackground": true,
            "ticks": "",
            "zerolinecolor": "white"
           }
          },
          "shapedefaults": {
           "line": {
            "color": "#2a3f5f"
           }
          },
          "ternary": {
           "aaxis": {
            "gridcolor": "white",
            "linecolor": "white",
            "ticks": ""
           },
           "baxis": {
            "gridcolor": "white",
            "linecolor": "white",
            "ticks": ""
           },
           "bgcolor": "#E5ECF6",
           "caxis": {
            "gridcolor": "white",
            "linecolor": "white",
            "ticks": ""
           }
          },
          "title": {
           "x": 0.05
          },
          "xaxis": {
           "automargin": true,
           "gridcolor": "white",
           "linecolor": "white",
           "ticks": "",
           "title": {
            "standoff": 15
           },
           "zerolinecolor": "white",
           "zerolinewidth": 2
          },
          "yaxis": {
           "automargin": true,
           "gridcolor": "white",
           "linecolor": "white",
           "ticks": "",
           "title": {
            "standoff": 15
           },
           "zerolinecolor": "white",
           "zerolinewidth": 2
          }
         }
        },
        "title": {
         "text": "words distribution"
        },
        "width": 1000,
        "xaxis": {
         "anchor": "y",
         "domain": [
          0,
          1
         ],
         "title": {
          "text": ""
         }
        },
        "yaxis": {
         "anchor": "x",
         "domain": [
          0,
          1
         ],
         "title": {
          "text": ""
         }
        }
       }
      },
      "text/html": [
       "<div>\n",
       "        \n",
       "        \n",
       "            <div id=\"c21f41ad-fd44-456a-98d8-d71fb18d7aa5\" class=\"plotly-graph-div\" style=\"height:600px; width:1000px;\"></div>\n",
       "            <script type=\"text/javascript\">\n",
       "                require([\"plotly\"], function(Plotly) {\n",
       "                    window.PLOTLYENV=window.PLOTLYENV || {};\n",
       "                    \n",
       "                if (document.getElementById(\"c21f41ad-fd44-456a-98d8-d71fb18d7aa5\")) {\n",
       "                    Plotly.newPlot(\n",
       "                        'c21f41ad-fd44-456a-98d8-d71fb18d7aa5',\n",
       "                        [{\"alignmentgroup\": \"True\", \"bingroup\": \"x\", \"hovertemplate\": \"text_length=%{x}<br>count=%{y}<extra></extra>\", \"legendgroup\": \"\", \"marker\": {\"color\": \"#636efa\"}, \"name\": \"\", \"offsetgroup\": \"\", \"orientation\": \"v\", \"showlegend\": false, \"type\": \"histogram\", \"x\": [6, 6, 11, 41, 9, 29, 9, 6, 14, 13, 8, 9, 3, 6, 4, 6, 23, 25, 10, 7, 15, 10, 3, 15, 10, 16, 5, 7, 15, 16, 20, 9, 16, 4, 12, 6, 9, 14, 24, 12, 12, 10, 9, 4, 11, 4, 6, 11, 4, 7, 9, 5, 15, 14, 10, 8, 6, 7, 6, 6, 3, 4, 8, 10, 9, 10, 14, 25, 3, 1, 7, 7, 3, 9, 17, 11, 4, 9, 11, 11, 19, 7, 4, 8, 7, 11, 4, 16, 41, 9, 29, 9, 6, 14, 13, 8, 9, 3, 6, 4, 6, 23, 25, 10, 7, 15, 10, 3, 21, 20, 9, 16, 4, 12, 12, 4, 11, 4, 6, 11, 4, 7, 9, 5, 15, 29], \"xaxis\": \"x\", \"yaxis\": \"y\"}],\n",
       "                        {\"barmode\": \"relative\", \"height\": 600, \"legend\": {\"tracegroupgap\": 0}, \"margin\": {\"t\": 60}, \"template\": {\"data\": {\"bar\": [{\"error_x\": {\"color\": \"#2a3f5f\"}, \"error_y\": {\"color\": \"#2a3f5f\"}, \"marker\": {\"line\": {\"color\": \"#E5ECF6\", \"width\": 0.5}}, \"type\": \"bar\"}], \"barpolar\": [{\"marker\": {\"line\": {\"color\": \"#E5ECF6\", \"width\": 0.5}}, \"type\": \"barpolar\"}], \"carpet\": [{\"aaxis\": {\"endlinecolor\": \"#2a3f5f\", \"gridcolor\": \"white\", \"linecolor\": \"white\", \"minorgridcolor\": \"white\", \"startlinecolor\": \"#2a3f5f\"}, \"baxis\": {\"endlinecolor\": \"#2a3f5f\", \"gridcolor\": \"white\", \"linecolor\": \"white\", \"minorgridcolor\": \"white\", \"startlinecolor\": \"#2a3f5f\"}, \"type\": \"carpet\"}], \"choropleth\": [{\"colorbar\": {\"outlinewidth\": 0, \"ticks\": \"\"}, \"type\": \"choropleth\"}], \"contour\": [{\"colorbar\": {\"outlinewidth\": 0, \"ticks\": \"\"}, \"colorscale\": [[0.0, \"#0d0887\"], [0.1111111111111111, \"#46039f\"], [0.2222222222222222, \"#7201a8\"], [0.3333333333333333, \"#9c179e\"], [0.4444444444444444, \"#bd3786\"], [0.5555555555555556, \"#d8576b\"], [0.6666666666666666, \"#ed7953\"], [0.7777777777777778, \"#fb9f3a\"], [0.8888888888888888, \"#fdca26\"], [1.0, \"#f0f921\"]], \"type\": \"contour\"}], \"contourcarpet\": [{\"colorbar\": {\"outlinewidth\": 0, \"ticks\": \"\"}, \"type\": \"contourcarpet\"}], \"heatmap\": [{\"colorbar\": {\"outlinewidth\": 0, \"ticks\": \"\"}, \"colorscale\": [[0.0, \"#0d0887\"], [0.1111111111111111, \"#46039f\"], [0.2222222222222222, \"#7201a8\"], [0.3333333333333333, \"#9c179e\"], [0.4444444444444444, \"#bd3786\"], [0.5555555555555556, \"#d8576b\"], [0.6666666666666666, \"#ed7953\"], [0.7777777777777778, \"#fb9f3a\"], [0.8888888888888888, \"#fdca26\"], [1.0, \"#f0f921\"]], \"type\": \"heatmap\"}], \"heatmapgl\": [{\"colorbar\": {\"outlinewidth\": 0, \"ticks\": \"\"}, \"colorscale\": [[0.0, \"#0d0887\"], [0.1111111111111111, \"#46039f\"], [0.2222222222222222, \"#7201a8\"], [0.3333333333333333, \"#9c179e\"], [0.4444444444444444, \"#bd3786\"], [0.5555555555555556, \"#d8576b\"], [0.6666666666666666, \"#ed7953\"], [0.7777777777777778, \"#fb9f3a\"], [0.8888888888888888, \"#fdca26\"], [1.0, \"#f0f921\"]], \"type\": \"heatmapgl\"}], \"histogram\": [{\"marker\": {\"colorbar\": {\"outlinewidth\": 0, \"ticks\": \"\"}}, \"type\": \"histogram\"}], \"histogram2d\": [{\"colorbar\": {\"outlinewidth\": 0, \"ticks\": \"\"}, \"colorscale\": [[0.0, \"#0d0887\"], [0.1111111111111111, \"#46039f\"], [0.2222222222222222, \"#7201a8\"], [0.3333333333333333, \"#9c179e\"], [0.4444444444444444, \"#bd3786\"], [0.5555555555555556, \"#d8576b\"], [0.6666666666666666, \"#ed7953\"], [0.7777777777777778, \"#fb9f3a\"], [0.8888888888888888, \"#fdca26\"], [1.0, \"#f0f921\"]], \"type\": \"histogram2d\"}], \"histogram2dcontour\": [{\"colorbar\": {\"outlinewidth\": 0, \"ticks\": \"\"}, \"colorscale\": [[0.0, \"#0d0887\"], [0.1111111111111111, \"#46039f\"], [0.2222222222222222, \"#7201a8\"], [0.3333333333333333, \"#9c179e\"], [0.4444444444444444, \"#bd3786\"], [0.5555555555555556, \"#d8576b\"], [0.6666666666666666, \"#ed7953\"], [0.7777777777777778, \"#fb9f3a\"], [0.8888888888888888, \"#fdca26\"], [1.0, \"#f0f921\"]], \"type\": \"histogram2dcontour\"}], \"mesh3d\": [{\"colorbar\": {\"outlinewidth\": 0, \"ticks\": \"\"}, \"type\": \"mesh3d\"}], \"parcoords\": [{\"line\": {\"colorbar\": {\"outlinewidth\": 0, \"ticks\": \"\"}}, \"type\": \"parcoords\"}], \"pie\": [{\"automargin\": true, \"type\": \"pie\"}], \"scatter\": [{\"marker\": {\"colorbar\": {\"outlinewidth\": 0, \"ticks\": \"\"}}, \"type\": \"scatter\"}], \"scatter3d\": [{\"line\": {\"colorbar\": {\"outlinewidth\": 0, \"ticks\": \"\"}}, \"marker\": {\"colorbar\": {\"outlinewidth\": 0, \"ticks\": \"\"}}, \"type\": \"scatter3d\"}], \"scattercarpet\": [{\"marker\": {\"colorbar\": {\"outlinewidth\": 0, \"ticks\": \"\"}}, \"type\": \"scattercarpet\"}], \"scattergeo\": [{\"marker\": {\"colorbar\": {\"outlinewidth\": 0, \"ticks\": \"\"}}, \"type\": \"scattergeo\"}], \"scattergl\": [{\"marker\": {\"colorbar\": {\"outlinewidth\": 0, \"ticks\": \"\"}}, \"type\": \"scattergl\"}], \"scattermapbox\": [{\"marker\": {\"colorbar\": {\"outlinewidth\": 0, \"ticks\": \"\"}}, \"type\": \"scattermapbox\"}], \"scatterpolar\": [{\"marker\": {\"colorbar\": {\"outlinewidth\": 0, \"ticks\": \"\"}}, \"type\": \"scatterpolar\"}], \"scatterpolargl\": [{\"marker\": {\"colorbar\": {\"outlinewidth\": 0, \"ticks\": \"\"}}, \"type\": \"scatterpolargl\"}], \"scatterternary\": [{\"marker\": {\"colorbar\": {\"outlinewidth\": 0, \"ticks\": \"\"}}, \"type\": \"scatterternary\"}], \"surface\": [{\"colorbar\": {\"outlinewidth\": 0, \"ticks\": \"\"}, \"colorscale\": [[0.0, \"#0d0887\"], [0.1111111111111111, \"#46039f\"], [0.2222222222222222, \"#7201a8\"], [0.3333333333333333, \"#9c179e\"], [0.4444444444444444, \"#bd3786\"], [0.5555555555555556, \"#d8576b\"], [0.6666666666666666, \"#ed7953\"], [0.7777777777777778, \"#fb9f3a\"], [0.8888888888888888, \"#fdca26\"], [1.0, \"#f0f921\"]], \"type\": \"surface\"}], \"table\": [{\"cells\": {\"fill\": {\"color\": \"#EBF0F8\"}, \"line\": {\"color\": \"white\"}}, \"header\": {\"fill\": {\"color\": \"#C8D4E3\"}, \"line\": {\"color\": \"white\"}}, \"type\": \"table\"}]}, \"layout\": {\"annotationdefaults\": {\"arrowcolor\": \"#2a3f5f\", \"arrowhead\": 0, \"arrowwidth\": 1}, \"coloraxis\": {\"colorbar\": {\"outlinewidth\": 0, \"ticks\": \"\"}}, \"colorscale\": {\"diverging\": [[0, \"#8e0152\"], [0.1, \"#c51b7d\"], [0.2, \"#de77ae\"], [0.3, \"#f1b6da\"], [0.4, \"#fde0ef\"], [0.5, \"#f7f7f7\"], [0.6, \"#e6f5d0\"], [0.7, \"#b8e186\"], [0.8, \"#7fbc41\"], [0.9, \"#4d9221\"], [1, \"#276419\"]], \"sequential\": [[0.0, \"#0d0887\"], [0.1111111111111111, \"#46039f\"], [0.2222222222222222, \"#7201a8\"], [0.3333333333333333, \"#9c179e\"], [0.4444444444444444, \"#bd3786\"], [0.5555555555555556, \"#d8576b\"], [0.6666666666666666, \"#ed7953\"], [0.7777777777777778, \"#fb9f3a\"], [0.8888888888888888, \"#fdca26\"], [1.0, \"#f0f921\"]], \"sequentialminus\": [[0.0, \"#0d0887\"], [0.1111111111111111, \"#46039f\"], [0.2222222222222222, \"#7201a8\"], [0.3333333333333333, \"#9c179e\"], [0.4444444444444444, \"#bd3786\"], [0.5555555555555556, \"#d8576b\"], [0.6666666666666666, \"#ed7953\"], [0.7777777777777778, \"#fb9f3a\"], [0.8888888888888888, \"#fdca26\"], [1.0, \"#f0f921\"]]}, \"colorway\": [\"#636efa\", \"#EF553B\", \"#00cc96\", \"#ab63fa\", \"#FFA15A\", \"#19d3f3\", \"#FF6692\", \"#B6E880\", \"#FF97FF\", \"#FECB52\"], \"font\": {\"color\": \"#2a3f5f\"}, \"geo\": {\"bgcolor\": \"white\", \"lakecolor\": \"white\", \"landcolor\": \"#E5ECF6\", \"showlakes\": true, \"showland\": true, \"subunitcolor\": \"white\"}, \"hoverlabel\": {\"align\": \"left\"}, \"hovermode\": \"closest\", \"mapbox\": {\"style\": \"light\"}, \"paper_bgcolor\": \"white\", \"plot_bgcolor\": \"#E5ECF6\", \"polar\": {\"angularaxis\": {\"gridcolor\": \"white\", \"linecolor\": \"white\", \"ticks\": \"\"}, \"bgcolor\": \"#E5ECF6\", \"radialaxis\": {\"gridcolor\": \"white\", \"linecolor\": \"white\", \"ticks\": \"\"}}, \"scene\": {\"xaxis\": {\"backgroundcolor\": \"#E5ECF6\", \"gridcolor\": \"white\", \"gridwidth\": 2, \"linecolor\": \"white\", \"showbackground\": true, \"ticks\": \"\", \"zerolinecolor\": \"white\"}, \"yaxis\": {\"backgroundcolor\": \"#E5ECF6\", \"gridcolor\": \"white\", \"gridwidth\": 2, \"linecolor\": \"white\", \"showbackground\": true, \"ticks\": \"\", \"zerolinecolor\": \"white\"}, \"zaxis\": {\"backgroundcolor\": \"#E5ECF6\", \"gridcolor\": \"white\", \"gridwidth\": 2, \"linecolor\": \"white\", \"showbackground\": true, \"ticks\": \"\", \"zerolinecolor\": \"white\"}}, \"shapedefaults\": {\"line\": {\"color\": \"#2a3f5f\"}}, \"ternary\": {\"aaxis\": {\"gridcolor\": \"white\", \"linecolor\": \"white\", \"ticks\": \"\"}, \"baxis\": {\"gridcolor\": \"white\", \"linecolor\": \"white\", \"ticks\": \"\"}, \"bgcolor\": \"#E5ECF6\", \"caxis\": {\"gridcolor\": \"white\", \"linecolor\": \"white\", \"ticks\": \"\"}}, \"title\": {\"x\": 0.05}, \"xaxis\": {\"automargin\": true, \"gridcolor\": \"white\", \"linecolor\": \"white\", \"ticks\": \"\", \"title\": {\"standoff\": 15}, \"zerolinecolor\": \"white\", \"zerolinewidth\": 2}, \"yaxis\": {\"automargin\": true, \"gridcolor\": \"white\", \"linecolor\": \"white\", \"ticks\": \"\", \"title\": {\"standoff\": 15}, \"zerolinecolor\": \"white\", \"zerolinewidth\": 2}}}, \"title\": {\"text\": \"words distribution\"}, \"width\": 1000, \"xaxis\": {\"anchor\": \"y\", \"domain\": [0.0, 1.0], \"title\": {\"text\": \"\"}}, \"yaxis\": {\"anchor\": \"x\", \"domain\": [0.0, 1.0], \"title\": {\"text\": \"\"}}},\n",
       "                        {\"responsive\": true}\n",
       "                    ).then(function(){\n",
       "                            \n",
       "var gd = document.getElementById('c21f41ad-fd44-456a-98d8-d71fb18d7aa5');\n",
       "var x = new MutationObserver(function (mutations, observer) {{\n",
       "        var display = window.getComputedStyle(gd).display;\n",
       "        if (!display || display === 'none') {{\n",
       "            console.log([gd, 'removed!']);\n",
       "            Plotly.purge(gd);\n",
       "            observer.disconnect();\n",
       "        }}\n",
       "}});\n",
       "\n",
       "// Listen for the removal of the full notebook cells\n",
       "var notebookContainer = gd.closest('#notebook-container');\n",
       "if (notebookContainer) {{\n",
       "    x.observe(notebookContainer, {childList: true});\n",
       "}}\n",
       "\n",
       "// Listen for the clearing of the current output cell\n",
       "var outputEl = gd.closest('.output');\n",
       "if (outputEl) {{\n",
       "    x.observe(outputEl, {childList: true});\n",
       "}}\n",
       "\n",
       "                        })\n",
       "                };\n",
       "                });\n",
       "            </script>\n",
       "        </div>"
      ]
     },
     "metadata": {},
     "output_type": "display_data"
    }
   ],
   "source": [
    "# 3. Histogram of the word count\n",
    "npt.word_distribution(title='words distribution')"
   ]
  },
  {
   "cell_type": "code",
   "execution_count": 58,
   "metadata": {},
   "outputs": [
    {
     "data": {
      "image/png": "[encoded data removed]",
      "text/plain": [
       "<IPython.core.display.Image object>"
      ]
     },
     "metadata": {},
     "output_type": "display_data"
    }
   ],
   "source": [
    "# 4. wordcloud\n",
    "npt.wordcloud(stopwords=stopwords, colormap='tab20_r')"
   ]
  },
  {
   "cell_type": "code",
   "execution_count": 64,
   "metadata": {},
   "outputs": [
    {
     "name": "stdout",
     "output_type": "stream",
     "text": [
      "node_size:27, edge_size:32\n"
     ]
    }
   ],
   "source": [
    "# 5. co-occurrence networks\n",
    "npt.build_graph(stopwords=stopwords, min_edge_frequency=3)\n"
   ]
  },
  {
   "cell_type": "code",
   "execution_count": 65,
   "metadata": {},
   "outputs": [
    {
     "name": "stderr",
     "output_type": "stream",
     "text": [
      "/home/iftekhar/amiebot/experiment_env/lib/python3.6/site-packages/scipy/optimize/lbfgsb.py:339: DeprecationWarning:\n",
      "\n",
      "tostring() is deprecated. Use tobytes() instead.\n",
      "\n",
      "/home/iftekhar/amiebot/experiment_env/lib/python3.6/site-packages/scipy/optimize/lbfgsb.py:339: DeprecationWarning:\n",
      "\n",
      "tostring() is deprecated. Use tobytes() instead.\n",
      "\n",
      "/home/iftekhar/amiebot/experiment_env/lib/python3.6/site-packages/scipy/optimize/lbfgsb.py:339: DeprecationWarning:\n",
      "\n",
      "tostring() is deprecated. Use tobytes() instead.\n",
      "\n",
      "/home/iftekhar/amiebot/experiment_env/lib/python3.6/site-packages/scipy/optimize/lbfgsb.py:339: DeprecationWarning:\n",
      "\n",
      "tostring() is deprecated. Use tobytes() instead.\n",
      "\n",
      "/home/iftekhar/amiebot/experiment_env/lib/python3.6/site-packages/scipy/optimize/lbfgsb.py:339: DeprecationWarning:\n",
      "\n",
      "tostring() is deprecated. Use tobytes() instead.\n",
      "\n",
      "/home/iftekhar/amiebot/experiment_env/lib/python3.6/site-packages/scipy/optimize/lbfgsb.py:339: DeprecationWarning:\n",
      "\n",
      "tostring() is deprecated. Use tobytes() instead.\n",
      "\n",
      "/home/iftekhar/amiebot/experiment_env/lib/python3.6/site-packages/scipy/optimize/lbfgsb.py:339: DeprecationWarning:\n",
      "\n",
      "tostring() is deprecated. Use tobytes() instead.\n",
      "\n",
      "/home/iftekhar/amiebot/experiment_env/lib/python3.6/site-packages/scipy/optimize/lbfgsb.py:339: DeprecationWarning:\n",
      "\n",
      "tostring() is deprecated. Use tobytes() instead.\n",
      "\n",
      "/home/iftekhar/amiebot/experiment_env/lib/python3.6/site-packages/scipy/optimize/lbfgsb.py:339: DeprecationWarning:\n",
      "\n",
      "tostring() is deprecated. Use tobytes() instead.\n",
      "\n",
      "/home/iftekhar/amiebot/experiment_env/lib/python3.6/site-packages/scipy/optimize/lbfgsb.py:339: DeprecationWarning:\n",
      "\n",
      "tostring() is deprecated. Use tobytes() instead.\n",
      "\n",
      "/home/iftekhar/amiebot/experiment_env/lib/python3.6/site-packages/scipy/optimize/lbfgsb.py:339: DeprecationWarning:\n",
      "\n",
      "tostring() is deprecated. Use tobytes() instead.\n",
      "\n",
      "/home/iftekhar/amiebot/experiment_env/lib/python3.6/site-packages/scipy/optimize/lbfgsb.py:339: DeprecationWarning:\n",
      "\n",
      "tostring() is deprecated. Use tobytes() instead.\n",
      "\n",
      "/home/iftekhar/amiebot/experiment_env/lib/python3.6/site-packages/scipy/optimize/lbfgsb.py:339: DeprecationWarning:\n",
      "\n",
      "tostring() is deprecated. Use tobytes() instead.\n",
      "\n",
      "/home/iftekhar/amiebot/experiment_env/lib/python3.6/site-packages/scipy/optimize/lbfgsb.py:339: DeprecationWarning:\n",
      "\n",
      "tostring() is deprecated. Use tobytes() instead.\n",
      "\n",
      "/home/iftekhar/amiebot/experiment_env/lib/python3.6/site-packages/scipy/optimize/lbfgsb.py:339: DeprecationWarning:\n",
      "\n",
      "tostring() is deprecated. Use tobytes() instead.\n",
      "\n",
      "/home/iftekhar/amiebot/experiment_env/lib/python3.6/site-packages/scipy/optimize/lbfgsb.py:339: DeprecationWarning:\n",
      "\n",
      "tostring() is deprecated. Use tobytes() instead.\n",
      "\n",
      "/home/iftekhar/amiebot/experiment_env/lib/python3.6/site-packages/scipy/optimize/lbfgsb.py:339: DeprecationWarning:\n",
      "\n",
      "tostring() is deprecated. Use tobytes() instead.\n",
      "\n",
      "/home/iftekhar/amiebot/experiment_env/lib/python3.6/site-packages/scipy/optimize/lbfgsb.py:339: DeprecationWarning:\n",
      "\n",
      "tostring() is deprecated. Use tobytes() instead.\n",
      "\n",
      "/home/iftekhar/amiebot/experiment_env/lib/python3.6/site-packages/scipy/optimize/lbfgsb.py:339: DeprecationWarning:\n",
      "\n",
      "tostring() is deprecated. Use tobytes() instead.\n",
      "\n",
      "/home/iftekhar/amiebot/experiment_env/lib/python3.6/site-packages/scipy/optimize/lbfgsb.py:339: DeprecationWarning:\n",
      "\n",
      "tostring() is deprecated. Use tobytes() instead.\n",
      "\n",
      "/home/iftekhar/amiebot/experiment_env/lib/python3.6/site-packages/scipy/optimize/lbfgsb.py:339: DeprecationWarning:\n",
      "\n",
      "tostring() is deprecated. Use tobytes() instead.\n",
      "\n",
      "/home/iftekhar/amiebot/experiment_env/lib/python3.6/site-packages/scipy/optimize/lbfgsb.py:339: DeprecationWarning:\n",
      "\n",
      "tostring() is deprecated. Use tobytes() instead.\n",
      "\n",
      "/home/iftekhar/amiebot/experiment_env/lib/python3.6/site-packages/scipy/optimize/lbfgsb.py:360: DeprecationWarning:\n",
      "\n",
      "tostring() is deprecated. Use tobytes() instead.\n",
      "\n"
     ]
    },
    {
     "data": {
      "application/vnd.plotly.v1+json": {
       "config": {
        "linkText": "Export to plot.ly",
        "plotlyServerURL": "https://plot.ly",
        "showLink": false
       },
       "data": [
        {
         "line": {
          "shape": "spline",
          "width": 1.2
         },
         "marker": {
          "color": "#ece8e8"
         },
         "mode": "lines",
         "opacity": 1,
         "type": "scatter",
         "x": [
          0.6734690857850405,
          0.12297196526786293,
          null
         ],
         "y": [
          -0.342627247359837,
          0.6801136536564268,
          null
         ]
        },
        {
         "line": {
          "shape": "spline",
          "width": 1.2
         },
         "marker": {
          "color": "#ece8e8"
         },
         "mode": "lines",
         "opacity": 1,
         "type": "scatter",
         "x": [
          0.6734690857850405,
          -0.11314998252573633,
          null
         ],
         "y": [
          -0.342627247359837,
          -0.1065038963240236,
          null
         ]
        },
        {
         "line": {
          "shape": "spline",
          "width": 1.2
         },
         "marker": {
          "color": "#ece8e8"
         },
         "mode": "lines",
         "opacity": 1,
         "type": "scatter",
         "x": [
          0.6734690857850405,
          0.9095931043562661,
          null
         ],
         "y": [
          -0.342627247359837,
          0.4439846718667988,
          null
         ]
        },
        {
         "line": {
          "shape": "spline",
          "width": 1.2
         },
         "marker": {
          "color": "#ece8e8"
         },
         "mode": "lines",
         "opacity": 1,
         "type": "scatter",
         "x": [
          0.7229146519500168,
          -0.38613609866743376,
          null
         ],
         "y": [
          0.23839477451735452,
          0.43633853518798604,
          null
         ]
        },
        {
         "line": {
          "shape": "spline",
          "width": 1.2
         },
         "marker": {
          "color": "#ece8e8"
         },
         "mode": "lines",
         "opacity": 1,
         "type": "scatter",
         "x": [
          0.7229146519500168,
          0.24031123649004718,
          null
         ],
         "y": [
          0.23839477451735452,
          0.7402410474845426,
          null
         ]
        },
        {
         "line": {
          "shape": "spline",
          "width": 1.2
         },
         "marker": {
          "color": "#ece8e8"
         },
         "mode": "lines",
         "opacity": 1,
         "type": "scatter",
         "x": [
          0.7229146519500168,
          -0.2906458830833705,
          null
         ],
         "y": [
          0.23839477451735452,
          -0.25333551861502995,
          null
         ]
        },
        {
         "line": {
          "shape": "spline",
          "width": 1.2
         },
         "marker": {
          "color": "#ece8e8"
         },
         "mode": "lines",
         "opacity": 1,
         "type": "scatter",
         "x": [
          0.7229146519500168,
          0.3947662082365888,
          null
         ],
         "y": [
          0.23839477451735452,
          -0.37568093082036874,
          null
         ]
        },
        {
         "line": {
          "shape": "spline",
          "width": 1.2
         },
         "marker": {
          "color": "#ece8e8"
         },
         "mode": "lines",
         "opacity": 1,
         "type": "scatter",
         "x": [
          0.9095931043562661,
          0.12297196526786293,
          null
         ],
         "y": [
          0.4439846718667988,
          0.6801136536564268,
          null
         ]
        },
        {
         "line": {
          "shape": "spline",
          "width": 1.2
         },
         "marker": {
          "color": "#ece8e8"
         },
         "mode": "lines",
         "opacity": 1,
         "type": "scatter",
         "x": [
          0.9095931043562661,
          -0.11314998252573633,
          null
         ],
         "y": [
          0.4439846718667988,
          -0.1065038963240236,
          null
         ]
        },
        {
         "line": {
          "shape": "spline",
          "width": 1.2
         },
         "marker": {
          "color": "#ece8e8"
         },
         "mode": "lines",
         "opacity": 1,
         "type": "scatter",
         "x": [
          0.556520274759934,
          0.12468234947703533,
          null
         ],
         "y": [
          0.25887007379022436,
          -0.600993519268212,
          null
         ]
        },
        {
         "line": {
          "shape": "spline",
          "width": 1.2
         },
         "marker": {
          "color": "#ece8e8"
         },
         "mode": "lines",
         "opacity": 1,
         "type": "scatter",
         "x": [
          0.12297196526786293,
          -0.11314998252573633,
          null
         ],
         "y": [
          0.6801136536564268,
          -0.1065038963240236,
          null
         ]
        },
        {
         "line": {
          "shape": "spline",
          "width": 1.2
         },
         "marker": {
          "color": "#ece8e8"
         },
         "mode": "lines",
         "opacity": 1,
         "type": "scatter",
         "x": [
          0.2166082224721594,
          0.5464225002079679,
          null
         ],
         "y": [
          0.7304753726246813,
          -0.17342096974496687,
          null
         ]
        },
        {
         "line": {
          "shape": "spline",
          "width": 1.2
         },
         "marker": {
          "color": "#ece8e8"
         },
         "mode": "lines",
         "opacity": 1,
         "type": "scatter",
         "x": [
          0.2166082224721594,
          -0.4013170998324512,
          null
         ],
         "y": [
          0.7304753726246813,
          -0.007093777160069407,
          null
         ]
        },
        {
         "line": {
          "shape": "spline",
          "width": 1.2
         },
         "marker": {
          "color": "#ece8e8"
         },
         "mode": "lines",
         "opacity": 1,
         "type": "scatter",
         "x": [
          0.05650568683953381,
          -0.16539827367569843,
          null
         ],
         "y": [
          0.4810374571669939,
          -0.4552353996733833,
          null
         ]
        },
        {
         "line": {
          "shape": "spline",
          "width": 1.2
         },
         "marker": {
          "color": "#ece8e8"
         },
         "mode": "lines",
         "opacity": 1,
         "type": "scatter",
         "x": [
          0.24031123649004718,
          0.3947662082365888,
          null
         ],
         "y": [
          0.7402410474845426,
          -0.37568093082036874,
          null
         ]
        },
        {
         "line": {
          "shape": "spline",
          "width": 1.2
         },
         "marker": {
          "color": "#ece8e8"
         },
         "mode": "lines",
         "opacity": 1,
         "type": "scatter",
         "x": [
          0.24031123649004718,
          -0.2906458830833705,
          null
         ],
         "y": [
          0.7402410474845426,
          -0.25333551861502995,
          null
         ]
        },
        {
         "line": {
          "shape": "spline",
          "width": 1.2
         },
         "marker": {
          "color": "#ece8e8"
         },
         "mode": "lines",
         "opacity": 1,
         "type": "scatter",
         "x": [
          0.24031123649004718,
          -0.38613609866743376,
          null
         ],
         "y": [
          0.7402410474845426,
          0.43633853518798604,
          null
         ]
        },
        {
         "line": {
          "shape": "spline",
          "width": 1.2
         },
         "marker": {
          "color": "#ece8e8"
         },
         "mode": "lines",
         "opacity": 1,
         "type": "scatter",
         "x": [
          -0.38613609866743376,
          -0.2906458830833705,
          null
         ],
         "y": [
          0.43633853518798604,
          -0.25333551861502995,
          null
         ]
        },
        {
         "line": {
          "shape": "spline",
          "width": 1.2
         },
         "marker": {
          "color": "#ece8e8"
         },
         "mode": "lines",
         "opacity": 1,
         "type": "scatter",
         "x": [
          -0.38613609866743376,
          0.3947662082365888,
          null
         ],
         "y": [
          0.43633853518798604,
          -0.37568093082036874,
          null
         ]
        },
        {
         "line": {
          "shape": "spline",
          "width": 1.2
         },
         "marker": {
          "color": "#ece8e8"
         },
         "mode": "lines",
         "opacity": 1,
         "type": "scatter",
         "x": [
          -0.2935799952038093,
          -0.731255145004642,
          null
         ],
         "y": [
          0.23891999820384272,
          -0.6179785654473312,
          null
         ]
        },
        {
         "line": {
          "shape": "spline",
          "width": 1.2
         },
         "marker": {
          "color": "#ece8e8"
         },
         "mode": "lines",
         "opacity": 1,
         "type": "scatter",
         "x": [
          -0.2935799952038093,
          0.22965194715432338,
          null
         ],
         "y": [
          0.23891999820384272,
          -0.5686174415700702,
          null
         ]
        },
        {
         "line": {
          "shape": "spline",
          "width": 1.2
         },
         "marker": {
          "color": "#ece8e8"
         },
         "mode": "lines",
         "opacity": 1,
         "type": "scatter",
         "x": [
          -0.40398657819549205,
          0.12475769703101795,
          null
         ],
         "y": [
          0.3101351472427026,
          -0.4937785903380028,
          null
         ]
        },
        {
         "line": {
          "shape": "spline",
          "width": 1.2
         },
         "marker": {
          "color": "#ece8e8"
         },
         "mode": "lines",
         "opacity": 1,
         "type": "scatter",
         "x": [
          -0.2912369630879423,
          -1,
          null
         ],
         "y": [
          0.5860908905501546,
          0.1711133091112063,
          null
         ]
        },
        {
         "line": {
          "shape": "spline",
          "width": 1.2
         },
         "marker": {
          "color": "#ece8e8"
         },
         "mode": "lines",
         "opacity": 1,
         "type": "scatter",
         "x": [
          -0.2912369630879423,
          0.12371385631570521,
          null
         ],
         "y": [
          0.5860908905501546,
          -0.12266293088494941,
          null
         ]
        },
        {
         "line": {
          "shape": "spline",
          "width": 1.2
         },
         "marker": {
          "color": "#ece8e8"
         },
         "mode": "lines",
         "opacity": 1,
         "type": "scatter",
         "x": [
          -0.2912369630879423,
          -0.5850359471813786,
          null
         ],
         "y": [
          0.5860908905501546,
          -0.5376171183798143,
          null
         ]
        },
        {
         "line": {
          "shape": "spline",
          "width": 1.2
         },
         "marker": {
          "color": "#ece8e8"
         },
         "mode": "lines",
         "opacity": 1,
         "type": "scatter",
         "x": [
          -1,
          -0.5850359471813786,
          null
         ],
         "y": [
          0.1711133091112063,
          -0.5376171183798143,
          null
         ]
        },
        {
         "line": {
          "shape": "spline",
          "width": 1.2
         },
         "marker": {
          "color": "#ece8e8"
         },
         "mode": "lines",
         "opacity": 1,
         "type": "scatter",
         "x": [
          -1,
          0.12371385631570521,
          null
         ],
         "y": [
          0.1711133091112063,
          -0.12266293088494941,
          null
         ]
        },
        {
         "line": {
          "shape": "spline",
          "width": 1.2
         },
         "marker": {
          "color": "#ece8e8"
         },
         "mode": "lines",
         "opacity": 1,
         "type": "scatter",
         "x": [
          -0.6072229650827922,
          0.22607614519724742,
          null
         ],
         "y": [
          -0.08953191340463042,
          -0.5706371124122254,
          null
         ]
        },
        {
         "line": {
          "shape": "spline",
          "width": 1.2
         },
         "marker": {
          "color": "#ece8e8"
         },
         "mode": "lines",
         "opacity": 1,
         "type": "scatter",
         "x": [
          -0.4013170998324512,
          0.5464225002079679,
          null
         ],
         "y": [
          -0.007093777160069407,
          -0.17342096974496687,
          null
         ]
        },
        {
         "line": {
          "shape": "spline",
          "width": 1.2
         },
         "marker": {
          "color": "#ece8e8"
         },
         "mode": "lines",
         "opacity": 1,
         "type": "scatter",
         "x": [
          -0.5850359471813786,
          0.12371385631570521,
          null
         ],
         "y": [
          -0.5376171183798143,
          -0.12266293088494941,
          null
         ]
        },
        {
         "line": {
          "shape": "spline",
          "width": 1.2
         },
         "marker": {
          "color": "#ece8e8"
         },
         "mode": "lines",
         "opacity": 1,
         "type": "scatter",
         "x": [
          -0.2906458830833705,
          0.3947662082365888,
          null
         ],
         "y": [
          -0.25333551861502995,
          -0.37568093082036874,
          null
         ]
        },
        {
         "line": {
          "shape": "spline",
          "width": 1.2
         },
         "marker": {
          "color": "#ece8e8"
         },
         "mode": "lines",
         "opacity": 1,
         "type": "scatter",
         "x": [
          -0.731255145004642,
          0.22965194715432338,
          null
         ],
         "y": [
          -0.6179785654473312,
          -0.5686174415700702,
          null
         ]
        },
        {
         "hoverinfo": "text",
         "hovertext": [],
         "marker": {
          "color": [
           "rgb(220.16,183.77386666666666,87.03999999999999)",
           "rgb(220.16,95.0272,87.03999999999999)",
           "rgb(220.16,183.77386666666666,87.03999999999999)",
           "rgb(95.0272,87.03999999999999,220.16)",
           "rgb(220.16,183.77386666666666,87.03999999999999)",
           "rgb(87.03999999999999,220.16,183.77386666666666)",
           "rgb(87.03999999999999,167.7994666666666,220.16)",
           "rgb(220.16,95.0272,87.03999999999999)",
           "rgb(220.16,95.0272,87.03999999999999)",
           "rgb(87.03999999999999,220.16,95.0272)",
           "rgb(183.77386666666652,87.03999999999999,220.16)",
           "rgb(167.7994666666666,220.16,87.03999999999999)",
           "rgb(167.7994666666666,220.16,87.03999999999999)",
           "rgb(220.16,87.03999999999999,167.7994666666666)",
           "rgb(87.03999999999999,220.16,183.77386666666666)",
           "rgb(167.7994666666666,220.16,87.03999999999999)",
           "rgb(220.16,183.77386666666666,87.03999999999999)",
           "rgb(220.16,95.0272,87.03999999999999)",
           "rgb(87.03999999999999,220.16,95.0272)",
           "rgb(87.03999999999999,167.7994666666666,220.16)",
           "rgb(95.0272,87.03999999999999,220.16)",
           "rgb(87.03999999999999,220.16,95.0272)",
           "rgb(183.77386666666652,87.03999999999999,220.16)",
           "rgb(220.16,87.03999999999999,167.7994666666666)",
           "rgb(220.16,95.0272,87.03999999999999)",
           "rgb(167.7994666666666,220.16,87.03999999999999)",
           "rgb(87.03999999999999,220.16,183.77386666666666)"
          ],
          "line": {
           "color": "#ece8e8",
           "width": 0.5
          },
          "size": [
           66.66666666666667,
           100,
           66.66666666666667,
           0,
           66.66666666666667,
           33.33333333333333,
           0,
           100,
           100,
           33.33333333333333,
           0,
           66.66666666666667,
           66.66666666666667,
           0,
           33.33333333333333,
           66.66666666666667,
           66.66666666666667,
           100,
           33.33333333333333,
           0,
           0,
           33.33333333333333,
           0,
           0,
           100,
           66.66666666666667,
           33.33333333333333
          ]
         },
         "mode": "markers+text",
         "text": [
          "ページ",
          "URL",
          "説明",
          "ストア",
          "クリック",
          "詳細",
          "managed",
          "ファイル",
          "ID",
          "動画",
          "参照",
          "モバイル端末",
          "おく",
          "製品",
          "プロファイル",
          "向け",
          "インデックス",
          "Setup",
          "文書",
          "Google",
          "App",
          "写真",
          "くださる",
          "Apple",
          "INI",
          "意図",
          "構成"
         ],
         "textposition": "bottom center",
         "type": "scatter",
         "x": [
          0.6734690857850405,
          0.7229146519500168,
          0.9095931043562661,
          0.556520274759934,
          0.12297196526786293,
          0.2166082224721594,
          0.05650568683953381,
          0.24031123649004718,
          -0.38613609866743376,
          -0.2935799952038093,
          -0.40398657819549205,
          -0.2912369630879423,
          -1,
          -0.6072229650827922,
          -0.4013170998324512,
          -0.5850359471813786,
          -0.11314998252573633,
          -0.2906458830833705,
          -0.731255145004642,
          -0.16539827367569843,
          0.12468234947703533,
          0.22965194715432338,
          0.12475769703101795,
          0.22607614519724742,
          0.3947662082365888,
          0.12371385631570521,
          0.5464225002079679
         ],
         "y": [
          -0.342627247359837,
          0.23839477451735452,
          0.4439846718667988,
          0.25887007379022436,
          0.6801136536564268,
          0.7304753726246813,
          0.4810374571669939,
          0.7402410474845426,
          0.43633853518798604,
          0.23891999820384272,
          0.3101351472427026,
          0.5860908905501546,
          0.1711133091112063,
          -0.08953191340463042,
          -0.007093777160069407,
          -0.5376171183798143,
          -0.1065038963240236,
          -0.25333551861502995,
          -0.6179785654473312,
          -0.4552353996733833,
          -0.600993519268212,
          -0.5686174415700702,
          -0.4937785903380028,
          -0.5706371124122254,
          -0.37568093082036874,
          -0.12266293088494941,
          -0.17342096974496687
         ]
        }
       ],
       "layout": {
        "autosize": true,
        "font": {
         "family": "Arial",
         "size": 12
        },
        "height": 1200,
        "hovermode": "closest",
        "margin": {
         "b": 85,
         "l": 40,
         "pad": 0,
         "r": 40,
         "t": 100
        },
        "plot_bgcolor": "#ffffff",
        "showlegend": false,
        "template": {
         "data": {
          "bar": [
           {
            "error_x": {
             "color": "#2a3f5f"
            },
            "error_y": {
             "color": "#2a3f5f"
            },
            "marker": {
             "line": {
              "color": "#E5ECF6",
              "width": 0.5
             }
            },
            "type": "bar"
           }
          ],
          "barpolar": [
           {
            "marker": {
             "line": {
              "color": "#E5ECF6",
              "width": 0.5
             }
            },
            "type": "barpolar"
           }
          ],
          "carpet": [
           {
            "aaxis": {
             "endlinecolor": "#2a3f5f",
             "gridcolor": "white",
             "linecolor": "white",
             "minorgridcolor": "white",
             "startlinecolor": "#2a3f5f"
            },
            "baxis": {
             "endlinecolor": "#2a3f5f",
             "gridcolor": "white",
             "linecolor": "white",
             "minorgridcolor": "white",
             "startlinecolor": "#2a3f5f"
            },
            "type": "carpet"
           }
          ],
          "choropleth": [
           {
            "colorbar": {
             "outlinewidth": 0,
             "ticks": ""
            },
            "type": "choropleth"
           }
          ],
          "contour": [
           {
            "colorbar": {
             "outlinewidth": 0,
             "ticks": ""
            },
            "colorscale": [
             [
              0,
              "#0d0887"
             ],
             [
              0.1111111111111111,
              "#46039f"
             ],
             [
              0.2222222222222222,
              "#7201a8"
             ],
             [
              0.3333333333333333,
              "#9c179e"
             ],
             [
              0.4444444444444444,
              "#bd3786"
             ],
             [
              0.5555555555555556,
              "#d8576b"
             ],
             [
              0.6666666666666666,
              "#ed7953"
             ],
             [
              0.7777777777777778,
              "#fb9f3a"
             ],
             [
              0.8888888888888888,
              "#fdca26"
             ],
             [
              1,
              "#f0f921"
             ]
            ],
            "type": "contour"
           }
          ],
          "contourcarpet": [
           {
            "colorbar": {
             "outlinewidth": 0,
             "ticks": ""
            },
            "type": "contourcarpet"
           }
          ],
          "heatmap": [
           {
            "colorbar": {
             "outlinewidth": 0,
             "ticks": ""
            },
            "colorscale": [
             [
              0,
              "#0d0887"
             ],
             [
              0.1111111111111111,
              "#46039f"
             ],
             [
              0.2222222222222222,
              "#7201a8"
             ],
             [
              0.3333333333333333,
              "#9c179e"
             ],
             [
              0.4444444444444444,
              "#bd3786"
             ],
             [
              0.5555555555555556,
              "#d8576b"
             ],
             [
              0.6666666666666666,
              "#ed7953"
             ],
             [
              0.7777777777777778,
              "#fb9f3a"
             ],
             [
              0.8888888888888888,
              "#fdca26"
             ],
             [
              1,
              "#f0f921"
             ]
            ],
            "type": "heatmap"
           }
          ],
          "heatmapgl": [
           {
            "colorbar": {
             "outlinewidth": 0,
             "ticks": ""
            },
            "colorscale": [
             [
              0,
              "#0d0887"
             ],
             [
              0.1111111111111111,
              "#46039f"
             ],
             [
              0.2222222222222222,
              "#7201a8"
             ],
             [
              0.3333333333333333,
              "#9c179e"
             ],
             [
              0.4444444444444444,
              "#bd3786"
             ],
             [
              0.5555555555555556,
              "#d8576b"
             ],
             [
              0.6666666666666666,
              "#ed7953"
             ],
             [
              0.7777777777777778,
              "#fb9f3a"
             ],
             [
              0.8888888888888888,
              "#fdca26"
             ],
             [
              1,
              "#f0f921"
             ]
            ],
            "type": "heatmapgl"
           }
          ],
          "histogram": [
           {
            "marker": {
             "colorbar": {
              "outlinewidth": 0,
              "ticks": ""
             }
            },
            "type": "histogram"
           }
          ],
          "histogram2d": [
           {
            "colorbar": {
             "outlinewidth": 0,
             "ticks": ""
            },
            "colorscale": [
             [
              0,
              "#0d0887"
             ],
             [
              0.1111111111111111,
              "#46039f"
             ],
             [
              0.2222222222222222,
              "#7201a8"
             ],
             [
              0.3333333333333333,
              "#9c179e"
             ],
             [
              0.4444444444444444,
              "#bd3786"
             ],
             [
              0.5555555555555556,
              "#d8576b"
             ],
             [
              0.6666666666666666,
              "#ed7953"
             ],
             [
              0.7777777777777778,
              "#fb9f3a"
             ],
             [
              0.8888888888888888,
              "#fdca26"
             ],
             [
              1,
              "#f0f921"
             ]
            ],
            "type": "histogram2d"
           }
          ],
          "histogram2dcontour": [
           {
            "colorbar": {
             "outlinewidth": 0,
             "ticks": ""
            },
            "colorscale": [
             [
              0,
              "#0d0887"
             ],
             [
              0.1111111111111111,
              "#46039f"
             ],
             [
              0.2222222222222222,
              "#7201a8"
             ],
             [
              0.3333333333333333,
              "#9c179e"
             ],
             [
              0.4444444444444444,
              "#bd3786"
             ],
             [
              0.5555555555555556,
              "#d8576b"
             ],
             [
              0.6666666666666666,
              "#ed7953"
             ],
             [
              0.7777777777777778,
              "#fb9f3a"
             ],
             [
              0.8888888888888888,
              "#fdca26"
             ],
             [
              1,
              "#f0f921"
             ]
            ],
            "type": "histogram2dcontour"
           }
          ],
          "mesh3d": [
           {
            "colorbar": {
             "outlinewidth": 0,
             "ticks": ""
            },
            "type": "mesh3d"
           }
          ],
          "parcoords": [
           {
            "line": {
             "colorbar": {
              "outlinewidth": 0,
              "ticks": ""
             }
            },
            "type": "parcoords"
           }
          ],
          "pie": [
           {
            "automargin": true,
            "type": "pie"
           }
          ],
          "scatter": [
           {
            "marker": {
             "colorbar": {
              "outlinewidth": 0,
              "ticks": ""
             }
            },
            "type": "scatter"
           }
          ],
          "scatter3d": [
           {
            "line": {
             "colorbar": {
              "outlinewidth": 0,
              "ticks": ""
             }
            },
            "marker": {
             "colorbar": {
              "outlinewidth": 0,
              "ticks": ""
             }
            },
            "type": "scatter3d"
           }
          ],
          "scattercarpet": [
           {
            "marker": {
             "colorbar": {
              "outlinewidth": 0,
              "ticks": ""
             }
            },
            "type": "scattercarpet"
           }
          ],
          "scattergeo": [
           {
            "marker": {
             "colorbar": {
              "outlinewidth": 0,
              "ticks": ""
             }
            },
            "type": "scattergeo"
           }
          ],
          "scattergl": [
           {
            "marker": {
             "colorbar": {
              "outlinewidth": 0,
              "ticks": ""
             }
            },
            "type": "scattergl"
           }
          ],
          "scattermapbox": [
           {
            "marker": {
             "colorbar": {
              "outlinewidth": 0,
              "ticks": ""
             }
            },
            "type": "scattermapbox"
           }
          ],
          "scatterpolar": [
           {
            "marker": {
             "colorbar": {
              "outlinewidth": 0,
              "ticks": ""
             }
            },
            "type": "scatterpolar"
           }
          ],
          "scatterpolargl": [
           {
            "marker": {
             "colorbar": {
              "outlinewidth": 0,
              "ticks": ""
             }
            },
            "type": "scatterpolargl"
           }
          ],
          "scatterternary": [
           {
            "marker": {
             "colorbar": {
              "outlinewidth": 0,
              "ticks": ""
             }
            },
            "type": "scatterternary"
           }
          ],
          "surface": [
           {
            "colorbar": {
             "outlinewidth": 0,
             "ticks": ""
            },
            "colorscale": [
             [
              0,
              "#0d0887"
             ],
             [
              0.1111111111111111,
              "#46039f"
             ],
             [
              0.2222222222222222,
              "#7201a8"
             ],
             [
              0.3333333333333333,
              "#9c179e"
             ],
             [
              0.4444444444444444,
              "#bd3786"
             ],
             [
              0.5555555555555556,
              "#d8576b"
             ],
             [
              0.6666666666666666,
              "#ed7953"
             ],
             [
              0.7777777777777778,
              "#fb9f3a"
             ],
             [
              0.8888888888888888,
              "#fdca26"
             ],
             [
              1,
              "#f0f921"
             ]
            ],
            "type": "surface"
           }
          ],
          "table": [
           {
            "cells": {
             "fill": {
              "color": "#EBF0F8"
             },
             "line": {
              "color": "white"
             }
            },
            "header": {
             "fill": {
              "color": "#C8D4E3"
             },
             "line": {
              "color": "white"
             }
            },
            "type": "table"
           }
          ]
         },
         "layout": {
          "annotationdefaults": {
           "arrowcolor": "#2a3f5f",
           "arrowhead": 0,
           "arrowwidth": 1
          },
          "coloraxis": {
           "colorbar": {
            "outlinewidth": 0,
            "ticks": ""
           }
          },
          "colorscale": {
           "diverging": [
            [
             0,
             "#8e0152"
            ],
            [
             0.1,
             "#c51b7d"
            ],
            [
             0.2,
             "#de77ae"
            ],
            [
             0.3,
             "#f1b6da"
            ],
            [
             0.4,
             "#fde0ef"
            ],
            [
             0.5,
             "#f7f7f7"
            ],
            [
             0.6,
             "#e6f5d0"
            ],
            [
             0.7,
             "#b8e186"
            ],
            [
             0.8,
             "#7fbc41"
            ],
            [
             0.9,
             "#4d9221"
            ],
            [
             1,
             "#276419"
            ]
           ],
           "sequential": [
            [
             0,
             "#0d0887"
            ],
            [
             0.1111111111111111,
             "#46039f"
            ],
            [
             0.2222222222222222,
             "#7201a8"
            ],
            [
             0.3333333333333333,
             "#9c179e"
            ],
            [
             0.4444444444444444,
             "#bd3786"
            ],
            [
             0.5555555555555556,
             "#d8576b"
            ],
            [
             0.6666666666666666,
             "#ed7953"
            ],
            [
             0.7777777777777778,
             "#fb9f3a"
            ],
            [
             0.8888888888888888,
             "#fdca26"
            ],
            [
             1,
             "#f0f921"
            ]
           ],
           "sequentialminus": [
            [
             0,
             "#0d0887"
            ],
            [
             0.1111111111111111,
             "#46039f"
            ],
            [
             0.2222222222222222,
             "#7201a8"
            ],
            [
             0.3333333333333333,
             "#9c179e"
            ],
            [
             0.4444444444444444,
             "#bd3786"
            ],
            [
             0.5555555555555556,
             "#d8576b"
            ],
            [
             0.6666666666666666,
             "#ed7953"
            ],
            [
             0.7777777777777778,
             "#fb9f3a"
            ],
            [
             0.8888888888888888,
             "#fdca26"
            ],
            [
             1,
             "#f0f921"
            ]
           ]
          },
          "colorway": [
           "#636efa",
           "#EF553B",
           "#00cc96",
           "#ab63fa",
           "#FFA15A",
           "#19d3f3",
           "#FF6692",
           "#B6E880",
           "#FF97FF",
           "#FECB52"
          ],
          "font": {
           "color": "#2a3f5f"
          },
          "geo": {
           "bgcolor": "white",
           "lakecolor": "white",
           "landcolor": "#E5ECF6",
           "showlakes": true,
           "showland": true,
           "subunitcolor": "white"
          },
          "hoverlabel": {
           "align": "left"
          },
          "hovermode": "closest",
          "mapbox": {
           "style": "light"
          },
          "paper_bgcolor": "white",
          "plot_bgcolor": "#E5ECF6",
          "polar": {
           "angularaxis": {
            "gridcolor": "white",
            "linecolor": "white",
            "ticks": ""
           },
           "bgcolor": "#E5ECF6",
           "radialaxis": {
            "gridcolor": "white",
            "linecolor": "white",
            "ticks": ""
           }
          },
          "scene": {
           "xaxis": {
            "backgroundcolor": "#E5ECF6",
            "gridcolor": "white",
            "gridwidth": 2,
            "linecolor": "white",
            "showbackground": true,
            "ticks": "",
            "zerolinecolor": "white"
           },
           "yaxis": {
            "backgroundcolor": "#E5ECF6",
            "gridcolor": "white",
            "gridwidth": 2,
            "linecolor": "white",
            "showbackground": true,
            "ticks": "",
            "zerolinecolor": "white"
           },
           "zaxis": {
            "backgroundcolor": "#E5ECF6",
            "gridcolor": "white",
            "gridwidth": 2,
            "linecolor": "white",
            "showbackground": true,
            "ticks": "",
            "zerolinecolor": "white"
           }
          },
          "shapedefaults": {
           "line": {
            "color": "#2a3f5f"
           }
          },
          "ternary": {
           "aaxis": {
            "gridcolor": "white",
            "linecolor": "white",
            "ticks": ""
           },
           "baxis": {
            "gridcolor": "white",
            "linecolor": "white",
            "ticks": ""
           },
           "bgcolor": "#E5ECF6",
           "caxis": {
            "gridcolor": "white",
            "linecolor": "white",
            "ticks": ""
           }
          },
          "title": {
           "x": 0.05
          },
          "xaxis": {
           "automargin": true,
           "gridcolor": "white",
           "linecolor": "white",
           "ticks": "",
           "title": {
            "standoff": 15
           },
           "zerolinecolor": "white",
           "zerolinewidth": 2
          },
          "yaxis": {
           "automargin": true,
           "gridcolor": "white",
           "linecolor": "white",
           "ticks": "",
           "title": {
            "standoff": 15
           },
           "zerolinecolor": "white",
           "zerolinewidth": 2
          }
         }
        },
        "title": {
         "text": "Co-occurrence network"
        },
        "width": 1700,
        "xaxis": {
         "showgrid": false,
         "showline": false,
         "showticklabels": false,
         "title": {
          "text": ""
         },
         "zeroline": false
        },
        "yaxis": {
         "showgrid": false,
         "showline": false,
         "showticklabels": false,
         "title": {
          "text": ""
         },
         "zeroline": false
        }
       }
      },
      "text/html": [
       "<div>\n",
       "        \n",
       "        \n",
       "            <div id=\"467f68f8-12ab-4bbe-b04f-fc61fb0e2e0f\" class=\"plotly-graph-div\" style=\"height:1200px; width:1700px;\"></div>\n",
       "            <script type=\"text/javascript\">\n",
       "                require([\"plotly\"], function(Plotly) {\n",
       "                    window.PLOTLYENV=window.PLOTLYENV || {};\n",
       "                    \n",
       "                if (document.getElementById(\"467f68f8-12ab-4bbe-b04f-fc61fb0e2e0f\")) {\n",
       "                    Plotly.newPlot(\n",
       "                        '467f68f8-12ab-4bbe-b04f-fc61fb0e2e0f',\n",
       "                        [{\"line\": {\"shape\": \"spline\", \"width\": 1.2}, \"marker\": {\"color\": \"#ece8e8\"}, \"mode\": \"lines\", \"opacity\": 1, \"type\": \"scatter\", \"x\": [0.6734690857850405, 0.12297196526786293, null], \"y\": [-0.342627247359837, 0.6801136536564268, null]}, {\"line\": {\"shape\": \"spline\", \"width\": 1.2}, \"marker\": {\"color\": \"#ece8e8\"}, \"mode\": \"lines\", \"opacity\": 1, \"type\": \"scatter\", \"x\": [0.6734690857850405, -0.11314998252573633, null], \"y\": [-0.342627247359837, -0.1065038963240236, null]}, {\"line\": {\"shape\": \"spline\", \"width\": 1.2}, \"marker\": {\"color\": \"#ece8e8\"}, \"mode\": \"lines\", \"opacity\": 1, \"type\": \"scatter\", \"x\": [0.6734690857850405, 0.9095931043562661, null], \"y\": [-0.342627247359837, 0.4439846718667988, null]}, {\"line\": {\"shape\": \"spline\", \"width\": 1.2}, \"marker\": {\"color\": \"#ece8e8\"}, \"mode\": \"lines\", \"opacity\": 1, \"type\": \"scatter\", \"x\": [0.7229146519500168, -0.38613609866743376, null], \"y\": [0.23839477451735452, 0.43633853518798604, null]}, {\"line\": {\"shape\": \"spline\", \"width\": 1.2}, \"marker\": {\"color\": \"#ece8e8\"}, \"mode\": \"lines\", \"opacity\": 1, \"type\": \"scatter\", \"x\": [0.7229146519500168, 0.24031123649004718, null], \"y\": [0.23839477451735452, 0.7402410474845426, null]}, {\"line\": {\"shape\": \"spline\", \"width\": 1.2}, \"marker\": {\"color\": \"#ece8e8\"}, \"mode\": \"lines\", \"opacity\": 1, \"type\": \"scatter\", \"x\": [0.7229146519500168, -0.2906458830833705, null], \"y\": [0.23839477451735452, -0.25333551861502995, null]}, {\"line\": {\"shape\": \"spline\", \"width\": 1.2}, \"marker\": {\"color\": \"#ece8e8\"}, \"mode\": \"lines\", \"opacity\": 1, \"type\": \"scatter\", \"x\": [0.7229146519500168, 0.3947662082365888, null], \"y\": [0.23839477451735452, -0.37568093082036874, null]}, {\"line\": {\"shape\": \"spline\", \"width\": 1.2}, \"marker\": {\"color\": \"#ece8e8\"}, \"mode\": \"lines\", \"opacity\": 1, \"type\": \"scatter\", \"x\": [0.9095931043562661, 0.12297196526786293, null], \"y\": [0.4439846718667988, 0.6801136536564268, null]}, {\"line\": {\"shape\": \"spline\", \"width\": 1.2}, \"marker\": {\"color\": \"#ece8e8\"}, \"mode\": \"lines\", \"opacity\": 1, \"type\": \"scatter\", \"x\": [0.9095931043562661, -0.11314998252573633, null], \"y\": [0.4439846718667988, -0.1065038963240236, null]}, {\"line\": {\"shape\": \"spline\", \"width\": 1.2}, \"marker\": {\"color\": \"#ece8e8\"}, \"mode\": \"lines\", \"opacity\": 1, \"type\": \"scatter\", \"x\": [0.556520274759934, 0.12468234947703533, null], \"y\": [0.25887007379022436, -0.600993519268212, null]}, {\"line\": {\"shape\": \"spline\", \"width\": 1.2}, \"marker\": {\"color\": \"#ece8e8\"}, \"mode\": \"lines\", \"opacity\": 1, \"type\": \"scatter\", \"x\": [0.12297196526786293, -0.11314998252573633, null], \"y\": [0.6801136536564268, -0.1065038963240236, null]}, {\"line\": {\"shape\": \"spline\", \"width\": 1.2}, \"marker\": {\"color\": \"#ece8e8\"}, \"mode\": \"lines\", \"opacity\": 1, \"type\": \"scatter\", \"x\": [0.2166082224721594, 0.5464225002079679, null], \"y\": [0.7304753726246813, -0.17342096974496687, null]}, {\"line\": {\"shape\": \"spline\", \"width\": 1.2}, \"marker\": {\"color\": \"#ece8e8\"}, \"mode\": \"lines\", \"opacity\": 1, \"type\": \"scatter\", \"x\": [0.2166082224721594, -0.4013170998324512, null], \"y\": [0.7304753726246813, -0.007093777160069407, null]}, {\"line\": {\"shape\": \"spline\", \"width\": 1.2}, \"marker\": {\"color\": \"#ece8e8\"}, \"mode\": \"lines\", \"opacity\": 1, \"type\": \"scatter\", \"x\": [0.05650568683953381, -0.16539827367569843, null], \"y\": [0.4810374571669939, -0.4552353996733833, null]}, {\"line\": {\"shape\": \"spline\", \"width\": 1.2}, \"marker\": {\"color\": \"#ece8e8\"}, \"mode\": \"lines\", \"opacity\": 1, \"type\": \"scatter\", \"x\": [0.24031123649004718, 0.3947662082365888, null], \"y\": [0.7402410474845426, -0.37568093082036874, null]}, {\"line\": {\"shape\": \"spline\", \"width\": 1.2}, \"marker\": {\"color\": \"#ece8e8\"}, \"mode\": \"lines\", \"opacity\": 1, \"type\": \"scatter\", \"x\": [0.24031123649004718, -0.2906458830833705, null], \"y\": [0.7402410474845426, -0.25333551861502995, null]}, {\"line\": {\"shape\": \"spline\", \"width\": 1.2}, \"marker\": {\"color\": \"#ece8e8\"}, \"mode\": \"lines\", \"opacity\": 1, \"type\": \"scatter\", \"x\": [0.24031123649004718, -0.38613609866743376, null], \"y\": [0.7402410474845426, 0.43633853518798604, null]}, {\"line\": {\"shape\": \"spline\", \"width\": 1.2}, \"marker\": {\"color\": \"#ece8e8\"}, \"mode\": \"lines\", \"opacity\": 1, \"type\": \"scatter\", \"x\": [-0.38613609866743376, -0.2906458830833705, null], \"y\": [0.43633853518798604, -0.25333551861502995, null]}, {\"line\": {\"shape\": \"spline\", \"width\": 1.2}, \"marker\": {\"color\": \"#ece8e8\"}, \"mode\": \"lines\", \"opacity\": 1, \"type\": \"scatter\", \"x\": [-0.38613609866743376, 0.3947662082365888, null], \"y\": [0.43633853518798604, -0.37568093082036874, null]}, {\"line\": {\"shape\": \"spline\", \"width\": 1.2}, \"marker\": {\"color\": \"#ece8e8\"}, \"mode\": \"lines\", \"opacity\": 1, \"type\": \"scatter\", \"x\": [-0.2935799952038093, -0.731255145004642, null], \"y\": [0.23891999820384272, -0.6179785654473312, null]}, {\"line\": {\"shape\": \"spline\", \"width\": 1.2}, \"marker\": {\"color\": \"#ece8e8\"}, \"mode\": \"lines\", \"opacity\": 1, \"type\": \"scatter\", \"x\": [-0.2935799952038093, 0.22965194715432338, null], \"y\": [0.23891999820384272, -0.5686174415700702, null]}, {\"line\": {\"shape\": \"spline\", \"width\": 1.2}, \"marker\": {\"color\": \"#ece8e8\"}, \"mode\": \"lines\", \"opacity\": 1, \"type\": \"scatter\", \"x\": [-0.40398657819549205, 0.12475769703101795, null], \"y\": [0.3101351472427026, -0.4937785903380028, null]}, {\"line\": {\"shape\": \"spline\", \"width\": 1.2}, \"marker\": {\"color\": \"#ece8e8\"}, \"mode\": \"lines\", \"opacity\": 1, \"type\": \"scatter\", \"x\": [-0.2912369630879423, -1.0, null], \"y\": [0.5860908905501546, 0.1711133091112063, null]}, {\"line\": {\"shape\": \"spline\", \"width\": 1.2}, \"marker\": {\"color\": \"#ece8e8\"}, \"mode\": \"lines\", \"opacity\": 1, \"type\": \"scatter\", \"x\": [-0.2912369630879423, 0.12371385631570521, null], \"y\": [0.5860908905501546, -0.12266293088494941, null]}, {\"line\": {\"shape\": \"spline\", \"width\": 1.2}, \"marker\": {\"color\": \"#ece8e8\"}, \"mode\": \"lines\", \"opacity\": 1, \"type\": \"scatter\", \"x\": [-0.2912369630879423, -0.5850359471813786, null], \"y\": [0.5860908905501546, -0.5376171183798143, null]}, {\"line\": {\"shape\": \"spline\", \"width\": 1.2}, \"marker\": {\"color\": \"#ece8e8\"}, \"mode\": \"lines\", \"opacity\": 1, \"type\": \"scatter\", \"x\": [-1.0, -0.5850359471813786, null], \"y\": [0.1711133091112063, -0.5376171183798143, null]}, {\"line\": {\"shape\": \"spline\", \"width\": 1.2}, \"marker\": {\"color\": \"#ece8e8\"}, \"mode\": \"lines\", \"opacity\": 1, \"type\": \"scatter\", \"x\": [-1.0, 0.12371385631570521, null], \"y\": [0.1711133091112063, -0.12266293088494941, null]}, {\"line\": {\"shape\": \"spline\", \"width\": 1.2}, \"marker\": {\"color\": \"#ece8e8\"}, \"mode\": \"lines\", \"opacity\": 1, \"type\": \"scatter\", \"x\": [-0.6072229650827922, 0.22607614519724742, null], \"y\": [-0.08953191340463042, -0.5706371124122254, null]}, {\"line\": {\"shape\": \"spline\", \"width\": 1.2}, \"marker\": {\"color\": \"#ece8e8\"}, \"mode\": \"lines\", \"opacity\": 1, \"type\": \"scatter\", \"x\": [-0.4013170998324512, 0.5464225002079679, null], \"y\": [-0.007093777160069407, -0.17342096974496687, null]}, {\"line\": {\"shape\": \"spline\", \"width\": 1.2}, \"marker\": {\"color\": \"#ece8e8\"}, \"mode\": \"lines\", \"opacity\": 1, \"type\": \"scatter\", \"x\": [-0.5850359471813786, 0.12371385631570521, null], \"y\": [-0.5376171183798143, -0.12266293088494941, null]}, {\"line\": {\"shape\": \"spline\", \"width\": 1.2}, \"marker\": {\"color\": \"#ece8e8\"}, \"mode\": \"lines\", \"opacity\": 1, \"type\": \"scatter\", \"x\": [-0.2906458830833705, 0.3947662082365888, null], \"y\": [-0.25333551861502995, -0.37568093082036874, null]}, {\"line\": {\"shape\": \"spline\", \"width\": 1.2}, \"marker\": {\"color\": \"#ece8e8\"}, \"mode\": \"lines\", \"opacity\": 1, \"type\": \"scatter\", \"x\": [-0.731255145004642, 0.22965194715432338, null], \"y\": [-0.6179785654473312, -0.5686174415700702, null]}, {\"hoverinfo\": \"text\", \"hovertext\": [], \"marker\": {\"color\": [\"rgb(220.16,183.77386666666666,87.03999999999999)\", \"rgb(220.16,95.0272,87.03999999999999)\", \"rgb(220.16,183.77386666666666,87.03999999999999)\", \"rgb(95.0272,87.03999999999999,220.16)\", \"rgb(220.16,183.77386666666666,87.03999999999999)\", \"rgb(87.03999999999999,220.16,183.77386666666666)\", \"rgb(87.03999999999999,167.7994666666666,220.16)\", \"rgb(220.16,95.0272,87.03999999999999)\", \"rgb(220.16,95.0272,87.03999999999999)\", \"rgb(87.03999999999999,220.16,95.0272)\", \"rgb(183.77386666666652,87.03999999999999,220.16)\", \"rgb(167.7994666666666,220.16,87.03999999999999)\", \"rgb(167.7994666666666,220.16,87.03999999999999)\", \"rgb(220.16,87.03999999999999,167.7994666666666)\", \"rgb(87.03999999999999,220.16,183.77386666666666)\", \"rgb(167.7994666666666,220.16,87.03999999999999)\", \"rgb(220.16,183.77386666666666,87.03999999999999)\", \"rgb(220.16,95.0272,87.03999999999999)\", \"rgb(87.03999999999999,220.16,95.0272)\", \"rgb(87.03999999999999,167.7994666666666,220.16)\", \"rgb(95.0272,87.03999999999999,220.16)\", \"rgb(87.03999999999999,220.16,95.0272)\", \"rgb(183.77386666666652,87.03999999999999,220.16)\", \"rgb(220.16,87.03999999999999,167.7994666666666)\", \"rgb(220.16,95.0272,87.03999999999999)\", \"rgb(167.7994666666666,220.16,87.03999999999999)\", \"rgb(87.03999999999999,220.16,183.77386666666666)\"], \"line\": {\"color\": \"#ece8e8\", \"width\": 0.5}, \"size\": [66.66666666666667, 100.0, 66.66666666666667, 0.0, 66.66666666666667, 33.33333333333333, 0.0, 100.0, 100.0, 33.33333333333333, 0.0, 66.66666666666667, 66.66666666666667, 0.0, 33.33333333333333, 66.66666666666667, 66.66666666666667, 100.0, 33.33333333333333, 0.0, 0.0, 33.33333333333333, 0.0, 0.0, 100.0, 66.66666666666667, 33.33333333333333]}, \"mode\": \"markers+text\", \"text\": [\"\\u30da\\u30fc\\u30b8\", \"URL\", \"\\u8aac\\u660e\", \"\\u30b9\\u30c8\\u30a2\", \"\\u30af\\u30ea\\u30c3\\u30af\", \"\\u8a73\\u7d30\", \"managed\", \"\\u30d5\\u30a1\\u30a4\\u30eb\", \"ID\", \"\\u52d5\\u753b\", \"\\u53c2\\u7167\", \"\\u30e2\\u30d0\\u30a4\\u30eb\\u7aef\\u672b\", \"\\u304a\\u304f\", \"\\u88fd\\u54c1\", \"\\u30d7\\u30ed\\u30d5\\u30a1\\u30a4\\u30eb\", \"\\u5411\\u3051\", \"\\u30a4\\u30f3\\u30c7\\u30c3\\u30af\\u30b9\", \"Setup\", \"\\u6587\\u66f8\", \"Google\", \"App\", \"\\u5199\\u771f\", \"\\u304f\\u3060\\u3055\\u308b\", \"Apple\", \"INI\", \"\\u610f\\u56f3\", \"\\u69cb\\u6210\"], \"textposition\": \"bottom center\", \"type\": \"scatter\", \"x\": [0.6734690857850405, 0.7229146519500168, 0.9095931043562661, 0.556520274759934, 0.12297196526786293, 0.2166082224721594, 0.05650568683953381, 0.24031123649004718, -0.38613609866743376, -0.2935799952038093, -0.40398657819549205, -0.2912369630879423, -1.0, -0.6072229650827922, -0.4013170998324512, -0.5850359471813786, -0.11314998252573633, -0.2906458830833705, -0.731255145004642, -0.16539827367569843, 0.12468234947703533, 0.22965194715432338, 0.12475769703101795, 0.22607614519724742, 0.3947662082365888, 0.12371385631570521, 0.5464225002079679], \"y\": [-0.342627247359837, 0.23839477451735452, 0.4439846718667988, 0.25887007379022436, 0.6801136536564268, 0.7304753726246813, 0.4810374571669939, 0.7402410474845426, 0.43633853518798604, 0.23891999820384272, 0.3101351472427026, 0.5860908905501546, 0.1711133091112063, -0.08953191340463042, -0.007093777160069407, -0.5376171183798143, -0.1065038963240236, -0.25333551861502995, -0.6179785654473312, -0.4552353996733833, -0.600993519268212, -0.5686174415700702, -0.4937785903380028, -0.5706371124122254, -0.37568093082036874, -0.12266293088494941, -0.17342096974496687]}],\n",
       "                        {\"autosize\": true, \"font\": {\"family\": \"Arial\", \"size\": 12}, \"height\": 1200, \"hovermode\": \"closest\", \"margin\": {\"b\": 85, \"l\": 40, \"pad\": 0, \"r\": 40, \"t\": 100}, \"plot_bgcolor\": \"#ffffff\", \"showlegend\": false, \"template\": {\"data\": {\"bar\": [{\"error_x\": {\"color\": \"#2a3f5f\"}, \"error_y\": {\"color\": \"#2a3f5f\"}, \"marker\": {\"line\": {\"color\": \"#E5ECF6\", \"width\": 0.5}}, \"type\": \"bar\"}], \"barpolar\": [{\"marker\": {\"line\": {\"color\": \"#E5ECF6\", \"width\": 0.5}}, \"type\": \"barpolar\"}], \"carpet\": [{\"aaxis\": {\"endlinecolor\": \"#2a3f5f\", \"gridcolor\": \"white\", \"linecolor\": \"white\", \"minorgridcolor\": \"white\", \"startlinecolor\": \"#2a3f5f\"}, \"baxis\": {\"endlinecolor\": \"#2a3f5f\", \"gridcolor\": \"white\", \"linecolor\": \"white\", \"minorgridcolor\": \"white\", \"startlinecolor\": \"#2a3f5f\"}, \"type\": \"carpet\"}], \"choropleth\": [{\"colorbar\": {\"outlinewidth\": 0, \"ticks\": \"\"}, \"type\": \"choropleth\"}], \"contour\": [{\"colorbar\": {\"outlinewidth\": 0, \"ticks\": \"\"}, \"colorscale\": [[0.0, \"#0d0887\"], [0.1111111111111111, \"#46039f\"], [0.2222222222222222, \"#7201a8\"], [0.3333333333333333, \"#9c179e\"], [0.4444444444444444, \"#bd3786\"], [0.5555555555555556, \"#d8576b\"], [0.6666666666666666, \"#ed7953\"], [0.7777777777777778, \"#fb9f3a\"], [0.8888888888888888, \"#fdca26\"], [1.0, \"#f0f921\"]], \"type\": \"contour\"}], \"contourcarpet\": [{\"colorbar\": {\"outlinewidth\": 0, \"ticks\": \"\"}, \"type\": \"contourcarpet\"}], \"heatmap\": [{\"colorbar\": {\"outlinewidth\": 0, \"ticks\": \"\"}, \"colorscale\": [[0.0, \"#0d0887\"], [0.1111111111111111, \"#46039f\"], [0.2222222222222222, \"#7201a8\"], [0.3333333333333333, \"#9c179e\"], [0.4444444444444444, \"#bd3786\"], [0.5555555555555556, \"#d8576b\"], [0.6666666666666666, \"#ed7953\"], [0.7777777777777778, \"#fb9f3a\"], [0.8888888888888888, \"#fdca26\"], [1.0, \"#f0f921\"]], \"type\": \"heatmap\"}], \"heatmapgl\": [{\"colorbar\": {\"outlinewidth\": 0, \"ticks\": \"\"}, \"colorscale\": [[0.0, \"#0d0887\"], [0.1111111111111111, \"#46039f\"], [0.2222222222222222, \"#7201a8\"], [0.3333333333333333, \"#9c179e\"], [0.4444444444444444, \"#bd3786\"], [0.5555555555555556, \"#d8576b\"], [0.6666666666666666, \"#ed7953\"], [0.7777777777777778, \"#fb9f3a\"], [0.8888888888888888, \"#fdca26\"], [1.0, \"#f0f921\"]], \"type\": \"heatmapgl\"}], \"histogram\": [{\"marker\": {\"colorbar\": {\"outlinewidth\": 0, \"ticks\": \"\"}}, \"type\": \"histogram\"}], \"histogram2d\": [{\"colorbar\": {\"outlinewidth\": 0, \"ticks\": \"\"}, \"colorscale\": [[0.0, \"#0d0887\"], [0.1111111111111111, \"#46039f\"], [0.2222222222222222, \"#7201a8\"], [0.3333333333333333, \"#9c179e\"], [0.4444444444444444, \"#bd3786\"], [0.5555555555555556, \"#d8576b\"], [0.6666666666666666, \"#ed7953\"], [0.7777777777777778, \"#fb9f3a\"], [0.8888888888888888, \"#fdca26\"], [1.0, \"#f0f921\"]], \"type\": \"histogram2d\"}], \"histogram2dcontour\": [{\"colorbar\": {\"outlinewidth\": 0, \"ticks\": \"\"}, \"colorscale\": [[0.0, \"#0d0887\"], [0.1111111111111111, \"#46039f\"], [0.2222222222222222, \"#7201a8\"], [0.3333333333333333, \"#9c179e\"], [0.4444444444444444, \"#bd3786\"], [0.5555555555555556, \"#d8576b\"], [0.6666666666666666, \"#ed7953\"], [0.7777777777777778, \"#fb9f3a\"], [0.8888888888888888, \"#fdca26\"], [1.0, \"#f0f921\"]], \"type\": \"histogram2dcontour\"}], \"mesh3d\": [{\"colorbar\": {\"outlinewidth\": 0, \"ticks\": \"\"}, \"type\": \"mesh3d\"}], \"parcoords\": [{\"line\": {\"colorbar\": {\"outlinewidth\": 0, \"ticks\": \"\"}}, \"type\": \"parcoords\"}], \"pie\": [{\"automargin\": true, \"type\": \"pie\"}], \"scatter\": [{\"marker\": {\"colorbar\": {\"outlinewidth\": 0, \"ticks\": \"\"}}, \"type\": \"scatter\"}], \"scatter3d\": [{\"line\": {\"colorbar\": {\"outlinewidth\": 0, \"ticks\": \"\"}}, \"marker\": {\"colorbar\": {\"outlinewidth\": 0, \"ticks\": \"\"}}, \"type\": \"scatter3d\"}], \"scattercarpet\": [{\"marker\": {\"colorbar\": {\"outlinewidth\": 0, \"ticks\": \"\"}}, \"type\": \"scattercarpet\"}], \"scattergeo\": [{\"marker\": {\"colorbar\": {\"outlinewidth\": 0, \"ticks\": \"\"}}, \"type\": \"scattergeo\"}], \"scattergl\": [{\"marker\": {\"colorbar\": {\"outlinewidth\": 0, \"ticks\": \"\"}}, \"type\": \"scattergl\"}], \"scattermapbox\": [{\"marker\": {\"colorbar\": {\"outlinewidth\": 0, \"ticks\": \"\"}}, \"type\": \"scattermapbox\"}], \"scatterpolar\": [{\"marker\": {\"colorbar\": {\"outlinewidth\": 0, \"ticks\": \"\"}}, \"type\": \"scatterpolar\"}], \"scatterpolargl\": [{\"marker\": {\"colorbar\": {\"outlinewidth\": 0, \"ticks\": \"\"}}, \"type\": \"scatterpolargl\"}], \"scatterternary\": [{\"marker\": {\"colorbar\": {\"outlinewidth\": 0, \"ticks\": \"\"}}, \"type\": \"scatterternary\"}], \"surface\": [{\"colorbar\": {\"outlinewidth\": 0, \"ticks\": \"\"}, \"colorscale\": [[0.0, \"#0d0887\"], [0.1111111111111111, \"#46039f\"], [0.2222222222222222, \"#7201a8\"], [0.3333333333333333, \"#9c179e\"], [0.4444444444444444, \"#bd3786\"], [0.5555555555555556, \"#d8576b\"], [0.6666666666666666, \"#ed7953\"], [0.7777777777777778, \"#fb9f3a\"], [0.8888888888888888, \"#fdca26\"], [1.0, \"#f0f921\"]], \"type\": \"surface\"}], \"table\": [{\"cells\": {\"fill\": {\"color\": \"#EBF0F8\"}, \"line\": {\"color\": \"white\"}}, \"header\": {\"fill\": {\"color\": \"#C8D4E3\"}, \"line\": {\"color\": \"white\"}}, \"type\": \"table\"}]}, \"layout\": {\"annotationdefaults\": {\"arrowcolor\": \"#2a3f5f\", \"arrowhead\": 0, \"arrowwidth\": 1}, \"coloraxis\": {\"colorbar\": {\"outlinewidth\": 0, \"ticks\": \"\"}}, \"colorscale\": {\"diverging\": [[0, \"#8e0152\"], [0.1, \"#c51b7d\"], [0.2, \"#de77ae\"], [0.3, \"#f1b6da\"], [0.4, \"#fde0ef\"], [0.5, \"#f7f7f7\"], [0.6, \"#e6f5d0\"], [0.7, \"#b8e186\"], [0.8, \"#7fbc41\"], [0.9, \"#4d9221\"], [1, \"#276419\"]], \"sequential\": [[0.0, \"#0d0887\"], [0.1111111111111111, \"#46039f\"], [0.2222222222222222, \"#7201a8\"], [0.3333333333333333, \"#9c179e\"], [0.4444444444444444, \"#bd3786\"], [0.5555555555555556, \"#d8576b\"], [0.6666666666666666, \"#ed7953\"], [0.7777777777777778, \"#fb9f3a\"], [0.8888888888888888, \"#fdca26\"], [1.0, \"#f0f921\"]], \"sequentialminus\": [[0.0, \"#0d0887\"], [0.1111111111111111, \"#46039f\"], [0.2222222222222222, \"#7201a8\"], [0.3333333333333333, \"#9c179e\"], [0.4444444444444444, \"#bd3786\"], [0.5555555555555556, \"#d8576b\"], [0.6666666666666666, \"#ed7953\"], [0.7777777777777778, \"#fb9f3a\"], [0.8888888888888888, \"#fdca26\"], [1.0, \"#f0f921\"]]}, \"colorway\": [\"#636efa\", \"#EF553B\", \"#00cc96\", \"#ab63fa\", \"#FFA15A\", \"#19d3f3\", \"#FF6692\", \"#B6E880\", \"#FF97FF\", \"#FECB52\"], \"font\": {\"color\": \"#2a3f5f\"}, \"geo\": {\"bgcolor\": \"white\", \"lakecolor\": \"white\", \"landcolor\": \"#E5ECF6\", \"showlakes\": true, \"showland\": true, \"subunitcolor\": \"white\"}, \"hoverlabel\": {\"align\": \"left\"}, \"hovermode\": \"closest\", \"mapbox\": {\"style\": \"light\"}, \"paper_bgcolor\": \"white\", \"plot_bgcolor\": \"#E5ECF6\", \"polar\": {\"angularaxis\": {\"gridcolor\": \"white\", \"linecolor\": \"white\", \"ticks\": \"\"}, \"bgcolor\": \"#E5ECF6\", \"radialaxis\": {\"gridcolor\": \"white\", \"linecolor\": \"white\", \"ticks\": \"\"}}, \"scene\": {\"xaxis\": {\"backgroundcolor\": \"#E5ECF6\", \"gridcolor\": \"white\", \"gridwidth\": 2, \"linecolor\": \"white\", \"showbackground\": true, \"ticks\": \"\", \"zerolinecolor\": \"white\"}, \"yaxis\": {\"backgroundcolor\": \"#E5ECF6\", \"gridcolor\": \"white\", \"gridwidth\": 2, \"linecolor\": \"white\", \"showbackground\": true, \"ticks\": \"\", \"zerolinecolor\": \"white\"}, \"zaxis\": {\"backgroundcolor\": \"#E5ECF6\", \"gridcolor\": \"white\", \"gridwidth\": 2, \"linecolor\": \"white\", \"showbackground\": true, \"ticks\": \"\", \"zerolinecolor\": \"white\"}}, \"shapedefaults\": {\"line\": {\"color\": \"#2a3f5f\"}}, \"ternary\": {\"aaxis\": {\"gridcolor\": \"white\", \"linecolor\": \"white\", \"ticks\": \"\"}, \"baxis\": {\"gridcolor\": \"white\", \"linecolor\": \"white\", \"ticks\": \"\"}, \"bgcolor\": \"#E5ECF6\", \"caxis\": {\"gridcolor\": \"white\", \"linecolor\": \"white\", \"ticks\": \"\"}}, \"title\": {\"x\": 0.05}, \"xaxis\": {\"automargin\": true, \"gridcolor\": \"white\", \"linecolor\": \"white\", \"ticks\": \"\", \"title\": {\"standoff\": 15}, \"zerolinecolor\": \"white\", \"zerolinewidth\": 2}, \"yaxis\": {\"automargin\": true, \"gridcolor\": \"white\", \"linecolor\": \"white\", \"ticks\": \"\", \"title\": {\"standoff\": 15}, \"zerolinecolor\": \"white\", \"zerolinewidth\": 2}}}, \"title\": {\"text\": \"Co-occurrence network\"}, \"width\": 1700, \"xaxis\": {\"showgrid\": false, \"showline\": false, \"showticklabels\": false, \"title\": {\"text\": \"\"}, \"zeroline\": false}, \"yaxis\": {\"showgrid\": false, \"showline\": false, \"showticklabels\": false, \"title\": {\"text\": \"\"}, \"zeroline\": false}},\n",
       "                        {\"responsive\": true}\n",
       "                    ).then(function(){\n",
       "                            \n",
       "var gd = document.getElementById('467f68f8-12ab-4bbe-b04f-fc61fb0e2e0f');\n",
       "var x = new MutationObserver(function (mutations, observer) {{\n",
       "        var display = window.getComputedStyle(gd).display;\n",
       "        if (!display || display === 'none') {{\n",
       "            console.log([gd, 'removed!']);\n",
       "            Plotly.purge(gd);\n",
       "            observer.disconnect();\n",
       "        }}\n",
       "}});\n",
       "\n",
       "// Listen for the removal of the full notebook cells\n",
       "var notebookContainer = gd.closest('#notebook-container');\n",
       "if (notebookContainer) {{\n",
       "    x.observe(notebookContainer, {childList: true});\n",
       "}}\n",
       "\n",
       "// Listen for the clearing of the current output cell\n",
       "var outputEl = gd.closest('.output');\n",
       "if (outputEl) {{\n",
       "    x.observe(outputEl, {childList: true});\n",
       "}}\n",
       "\n",
       "                        })\n",
       "                };\n",
       "                });\n",
       "            </script>\n",
       "        </div>"
      ]
     },
     "metadata": {},
     "output_type": "display_data"
    }
   ],
   "source": [
    "npt.co_network(title='Co-occurrence network')\n"
   ]
  },
  {
   "cell_type": "code",
   "execution_count": 62,
   "metadata": {},
   "outputs": [
    {
     "data": {
      "text/html": [
       "\n",
       "<link rel=\"stylesheet\" type=\"text/css\" href=\"https://cdn.rawgit.com/bmabey/pyLDAvis/files/ldavis.v1.0.0.css\">\n",
       "\n",
       "\n",
       "<div id=\"ldavis_el172331400436895407284256299699\"></div>\n",
       "<script type=\"text/javascript\">\n",
       "\n",
       "var ldavis_el172331400436895407284256299699_data = {\"mdsDat\": {\"x\": [0.12502071242306537, 0.11231967834082462, -0.006492931228968733, -0.03352962144537932, -0.1973178380895418], \"y\": [-0.021110778628254664, 0.11509046610371271, -0.12676013343600762, -0.028344637633297188, 0.06112508359384681], \"topics\": [1, 2, 3, 4, 5], \"cluster\": [1, 1, 1, 1, 1], \"Freq\": [27.236661911010742, 20.20273780822754, 19.232437133789062, 18.74017333984375, 14.587993621826172]}, \"tinfo\": {\"Term\": [\"\\u30b3\\u30f3\\u30c6\\u30f3\\u30c4\", \"\\u7aef\\u672b\", \"\\u30a2\\u30d7\\u30ea\", \"\\u767b\\u9332\", \"\\u914d\\u5e03\", \"\\u5fc5\\u8981\", \"AD\", \"\\u307e\\u3059\", \"\\u30eb\\u30fc\\u30eb\", \"\\u793e\\u5185\", \"\\u5fc5\\u9808\", \"URL\", \"\\u9593\", \"\\u5bfe\\u8c61\", \"\\u304a\\u304f\", \"\\u8a2d\\u5b9a\", \"\\u30c0\\u30a6\\u30f3\\u30ed\\u30fc\\u30c9\", \"\\u30b0\\u30eb\\u30fc\\u30d7\", \"Setup\", \"\\u30d5\\u30a1\\u30a4\\u30eb\", \"INI\", \"\\u3042\\u308b\", \"\\u3067\\u3059\", \"\\u30e2\\u30d0\\u30a4\\u30eb\\u7aef\\u672b\", \"OS\", \"\\u4f5c\\u6210\", \"Google\", \"\\u6587\\u66f8\", \"\\u5199\\u771f\", \"Windows\", \"\\u914d\\u4ed8\", \"\\u30b0\\u30eb\\u30fc\\u30d7\", \"\\u69cb\\u6210\", \"\\u8a73\\u7d30\", \"WebDAV\", \"SharePoint\", \"\\u88fd\\u54c1\", \"\\u76ee\\u7684\", \"\\u30eb\\u30fc\\u30eb\", \"\\u9664\\u304f\", \"\\u968e\\u5c64\", \"\\u4f5c\\u696d\", \"\\u753b\\u50cf\", \"\\u30c9\\u30ad\\u30e5\\u30e1\\u30f3\\u30c8\", \"\\u6cbf\\u3046\", \"\\u7d44\\u7e54\", \"\\u56e3\\u4f53\", \"\\u7d44\\u7e54\\u540d\", \"\\u4f01\\u696d\", \"\\u306b\\u5bfe\\u3057\", \"\\u9805\\u76ee\", \"\\u8ffd\\u52a0\", \"\\u5909\\u3048\\u308b\", \"\\u5909\\u66f4\", \"\\u4ed5\\u69d8\", \"\\u7d50\\u69cb\", \"WiFi\", \"\\u30e1\\u30fc\\u30eb\", \"VPN\", \"\\u60c5\\u5831\\u6f0f\\u6d29\", \"Apple\", \"\\u6240\\u5b9a\", \"\\u4f5c\\u6210\", \"\\u5bfe\\u8c61\", \"\\u7aef\\u672b\", \"\\u767b\\u9332\", \"OS\", \"\\u3067\\u3059\", \"\\u5165\\u529b\", \"\\u30d7\\u30ed\\u30d5\\u30a1\\u30a4\\u30eb\", \"\\u8a2d\\u5b9a\", \"\\u30b5\\u30fc\\u30d0\", \"\\u30a2\\u30af\\u30bb\\u30b9\", \"MobiControl\", \"\\u53ef\\u80fd\", \"\\u9806\\u5e8f\", \"\\u307e\\u3059\", \"\\u30a2\\u30d7\\u30ea\\u30ab\\u30bf\\u30ed\\u30b0\", \"\\u307e\\u305f\\u306f\", \"\\u307e\\u305f\", \"iOS\", \"Android\", \"\\u9593\", \"AD\", \"\\u6319\\u52d5\", \"\\u9001\\u53d7\", \"Service\", \"Active\", \"Directory\", \"\\u5fc5\\u9808\", \"\\u8a8d\\u8a3c\", \"DS\", \"\\u578b\\u5f0f\", \"\\u7570\\u306a\\u308b\", \"\\u306b\\u95a2\\u3059\\u308b\", \"\\u4e0d\\u8981\", \"\\u4f46\\u3057\", \"\\u4f1a\\u793e\", \"\\u5f93\\u696d\\u54e1\", \"\\u5171\\u7528\", \"\\u652f\\u7d66\", \"\\u30b9\\u30b1\\u30b8\\u30e5\\u30fc\\u30eb\", \"\\u57fa\\u3065\\u304f\", \"\\u81ea\\u52d5\\u7684\", \"\\u3068\\u306e\", \"\\u904b\\u7528\\u65b9\\u6cd5\", \"\\u7279\\u5b9a\", \"Federation\", \"Azure\", \"\\u63a5\\u7d9a\", \"macOS\", \"\\u4e8b\\u9805\", \"Modern\", \"\\u8a2d\\u5b9a\", \"Android\", \"\\u7aef\\u672b\", \"\\u30b5\\u30fc\\u30d0\", \"iOS\", \"\\u30aa\\u30d7\\u30b7\\u30e7\\u30f3\", \"\\u3044\\u308b\", \"OS\", \"\\u4f5c\\u6210\", \"Windows\", \"\\u30e6\\u30fc\\u30b6\", \"MobiControl\", \"\\u307e\\u3059\", \"\\u307e\\u305f\\u306f\", \"\\u30a2\\u30ab\\u30a6\\u30f3\\u30c8\", \"\\u5bfe\\u8c61\", \"\\u3042\\u308b\", \"\\u5fc5\\u8981\", \"\\u767b\\u9332\", \"\\u30b9\\u30c8\\u30a2\", \"\\u8aac\\u660e\", \"\\u30af\\u30ea\\u30c3\\u30af\", \"\\u30da\\u30fc\\u30b8\", \"\\u30a4\\u30f3\\u30c7\\u30c3\\u30af\\u30b9\", \"App\", \"\\u6a29\\u9650\", \"\\u4efb\\u610f\", \"\\u6307\\u5b9a\", \"\\u5098\\u4e0b\", \"On\", \"Play\\u30b9\\u30c8\\u30a2\", \"\\u7cfb\", \"Add\", \"\\u30e1\\u30cb\\u30e5\\u30fc\", \"\\u53c2\\u7167\", \"\\u304f\\u3060\\u3055\\u308b\", \"\\u73fe\\u308c\\u308b\", \"\\u306b\\u95a2\\u3057\\u3066\", \"\\u30bb\\u30c3\\u30c8\\u30a2\\u30c3\\u30d7\", \"\\u8a73\\u3057\\u3044\", \"\\u64cd\\u4f5c\", \"Google\", \"\\u30bf\\u30a4\\u30d7\", \"\\u76e3\\u8996\", \"\\u5951\\u7d04\", \"VPP\", \"\\u6307\\u3059\", \"\\u6a5f\\u80fd\", \"\\u30d0\\u30fc\\u30b8\\u30e7\\u30f3\\u30a2\\u30c3\\u30d7\", \"\\u30b5\\u30a4\\u30c8\", \"\\u30c0\\u30a6\\u30f3\\u30ed\\u30fc\\u30c9\", \"\\u30e6\\u30fc\\u30b6\", \"\\u30a2\\u30d7\\u30ea\", \"\\u30c7\\u30fc\\u30bf\", \"managed\", \"\\u30a4\\u30f3\\u30b9\\u30c8\\u30fc\\u30eb\", \"\\u53ef\\u80fd\", \"\\u7aef\\u672b\", \"\\u3067\\u3059\", \"Folder\", \"\\u4f7f\\u3046\", \"iOS\", \"\\u5bfe\\u8c61\", \"\\u307e\\u3059\", \"\\u307e\\u305f\\u306f\", \"OS\", \"\\u30b5\\u30a4\\u30ec\\u30f3\\u30c8\", \"\\u30a2\\u30ab\\u30a6\\u30f3\\u30c8\", \"\\u8a2d\\u5b9a\", \"Windows\", \"\\u767b\\u9332\", \"Setup\", \"\\u30d5\\u30a1\\u30a4\\u30eb\", \"INI\", \"URL\", \"\\u30ea\\u30e2\\u30fc\\u30c8\", \"\\u30a8\\u30fc\\u30b8\\u30a7\\u30f3\\u30c8\", \"ID\", \"\\u7533\\u544a\", \"\\u7d9a\\u3051\\u308b\", \"\\u5bfe\\u5fdc\", \"\\u30b7\\u30ea\\u30a2\\u30eb\\u756a\\u53f7\", \"\\u4e00\\u610f\\u7684\", \"\\u81ea\\u3089\", \"WNS\", \"\\u540c\\u3058\", \"\\u4f7f\\u7528\", \"\\u30ab\\u30b9\\u30bf\\u30de\\u30a4\\u30b6\\u30fc\", \"\\u6982\\u8981\", \"Linux\", \"\\u30c7\\u30d7\\u30ed\\u30a4\\u30e1\\u30f3\\u30c8\\u30b5\\u30fc\\u30d0\", \"\\u77e5\\u308b\", \"\\u3053\\u306e\", \"\\u8868\\u793a\", \"\\u30d0\\u30fc\\u30b8\\u30e7\\u30f3\", \"\\u4f8b\\u3048\\u3070\", \"\\u30a2\\u30f3\\u30a4\\u30f3\\u30b9\\u30c8\\u30fc\\u30eb\", \"\\u884c\\u3046\", \"\\u7d1b\\u5931\", \"\\u540c\\u6642\\u306b\", \"\\u5236\\u5fa1\", \"PC\", \"\\u3067\\u304d\\u308b\", \"\\u306b\\u3088\\u308a\", \"\\u751f\\u6210\", \"Windows\", \"\\u307e\\u3059\", \"Embedded\", \"\\u767b\\u9332\", \"MobiControl\", \"\\u9806\\u5e8f\", \"\\u307e\\u305f\\u306f\", \"\\u30a2\\u30d7\\u30ea\", \"\\u7aef\\u672b\", \"\\u8a2d\\u5b9a\", \"Android\", \"\\u30a4\\u30f3\\u30b9\\u30c8\\u30fc\\u30eb\", \"\\u30b5\\u30fc\\u30d0\", \"\\u793e\\u5185\", \"\\u30a2\\u30d7\\u30ea\\u30ab\\u30bf\\u30ed\\u30b0\", \"\\u30eb\\u30fc\\u30eb\", \"\\u4f7f\\u3046\", \"\\u30c0\\u30a6\\u30f3\\u30ed\\u30fc\\u30c9\", \"\\u5c5e\\u6027\\u60c5\\u5831\", \"\\u30b3\\u30f3\\u30c6\\u30f3\\u30c4\", \"\\u304a\\u304f\", \"\\u6587\\u66f8\", \"\\u5199\\u771f\", \"\\u914d\\u5e03\", \"\\u30e2\\u30d0\\u30a4\\u30eb\\u7aef\\u672b\", \"\\u610f\\u56f3\", \"\\u5411\\u3051\", \"\\u7528\\u610f\", \"\\u610f\\u8b58\", \"\\u3088\\u3044\", \"\\u30e9\\u30a4\\u30d6\\u30e9\\u30ea\", \"\\u3069\\u306e\", \"\\u554f\\u3046\", \"\\u5f62\\u5f0f\", \"\\u5fc5\\u8981\", \"\\u30d1\\u30c3\\u30b1\\u30fc\\u30b8\", \"\\u793e\\u5185\", \"\\u30e2\\u30d0\\u30a4\\u30eb\", \"\\u9001\\u308b\", \"\\u52d5\\u753b\", \"\\u914d\\u616e\", \"\\u9650\\u5b9a\", \"\\u6ce8\", \"\\u53c2\\u8003\", \"\\u60c5\\u5831\", \"\\u624b\\u6bb5\", \"\\u958b\\u767a\", \"\\u30d5\\u30a1\\u30a4\\u30eb\\u30b5\\u30fc\\u30d0\", \"\\u30ea\\u30dd\\u30b8\\u30c8\\u30ea\", \"\\u3042\\u308b\", \"\\u30a2\\u30d7\\u30ea\\u30ab\\u30bf\\u30ed\\u30b0\", \"\\u307e\\u3059\", \"\\u30a2\\u30d7\\u30ea\", \"\\u4fdd\\u5b58\", \"\\u30c0\\u30a6\\u30f3\\u30ed\\u30fc\\u30c9\", \"\\u306a\\u3044\", \"\\u3044\\u308b\", \"MobiControl\", \"\\u3067\\u304d\\u308b\", \"PC\", \"\\u30c7\\u30fc\\u30bf\", \"\\u4f7f\\u3046\", \"\\u30b5\\u30fc\\u30d0\", \"\\u30a4\\u30f3\\u30b9\\u30c8\\u30fc\\u30eb\"], \"Freq\": [14.0, 104.0, 29.0, 36.0, 8.0, 10.0, 9.0, 38.0, 20.0, 9.0, 9.0, 7.0, 7.0, 20.0, 5.0, 37.0, 11.0, 11.0, 5.0, 5.0, 5.0, 12.0, 11.0, 4.0, 18.0, 11.0, 7.0, 3.0, 3.0, 13.0, 3.460908889770508, 9.66141414642334, 3.4477670192718506, 3.4435458183288574, 2.636575698852539, 2.636561393737793, 3.2925426959991455, 3.1966991424560547, 15.62867546081543, 1.812809944152832, 1.8128083944320679, 1.8128069639205933, 1.8128045797348022, 1.812798261642456, 1.8127837181091309, 1.8127820491790771, 1.8127650022506714, 1.812761902809143, 1.8127413988113403, 1.8126927614212036, 1.8126863241195679, 1.8126386404037476, 1.8126360177993774, 1.8126165866851807, 1.8126106262207031, 1.812589168548584, 1.8098114728927612, 1.8095650672912598, 1.8090635538101196, 1.8090472221374512, 4.087082386016846, 4.555673122406006, 7.5186309814453125, 12.666210174560547, 52.76774978637695, 19.74199867248535, 10.543871879577637, 6.749868869781494, 2.787461042404175, 3.473491907119751, 13.583280563354492, 6.699705123901367, 3.6594691276550293, 5.021983623504639, 3.497488260269165, 2.6348726749420166, 4.864755630493164, 2.7785017490386963, 3.102684736251831, 2.179269552230835, 2.7660512924194336, 2.6940739154815674, 6.647604942321777, 7.948940277099609, 3.4735517501831055, 3.41719913482666, 3.40891695022583, 3.4011523723602295, 3.3997247219085693, 7.45063591003418, 3.3605737686157227, 3.252810001373291, 1.82465398311615, 1.82456374168396, 1.824489951133728, 1.8061035871505737, 1.805410623550415, 1.7980015277862549, 1.797851324081421, 1.7976922988891602, 1.797505259513855, 1.7943388223648071, 1.7943191528320312, 1.7942708730697632, 1.7890053987503052, 1.7885879278182983, 1.7885396480560303, 1.7876343727111816, 1.7865417003631592, 1.7855280637741089, 1.7844011783599854, 1.783626914024353, 2.303886890411377, 13.766257286071777, 6.717929840087891, 25.49614715576172, 5.8964996337890625, 5.040069580078125, 2.6541011333465576, 2.645817995071411, 4.282883167266846, 3.450674295425415, 3.6763548851013184, 2.6627655029296875, 3.5618152618408203, 4.026658535003662, 2.8516957759857178, 2.2694694995880127, 2.5469255447387695, 2.0326597690582275, 1.9317506551742554, 1.964988350868225, 4.214599609375, 3.421632766723633, 3.421196699142456, 3.4204139709472656, 3.4203741550445557, 3.390443801879883, 2.504875421524048, 3.0525784492492676, 1.8112763166427612, 1.8095264434814453, 1.808919906616211, 1.808648943901062, 1.8079856634140015, 1.8067573308944702, 1.800937294960022, 3.5809414386749268, 3.580782175064087, 1.7983750104904175, 1.7862412929534912, 1.786229133605957, 1.7858836650848389, 3.2846014499664307, 4.9197516441345215, 0.9907494187355042, 0.9907454252243042, 0.9907394051551819, 0.9907363653182983, 0.9907138347625732, 0.9906854033470154, 0.9906845688819885, 1.4609709978103638, 6.107803821563721, 4.063134670257568, 14.23136043548584, 3.3886821269989014, 2.589925765991211, 5.060215473175049, 4.22666597366333, 16.00543975830078, 4.299919605255127, 3.456934928894043, 3.1092464923858643, 4.256717205047607, 5.053844451904297, 6.304314613342285, 3.8342537879943848, 3.7950167655944824, 2.3243114948272705, 2.669337749481201, 4.252367973327637, 2.7045013904571533, 2.693474531173706, 5.0254716873168945, 5.0223708152771, 5.020876884460449, 6.419100284576416, 2.6171112060546875, 2.615649461746216, 4.3328046798706055, 1.799364686012268, 1.7993621826171875, 1.7993576526641846, 1.7993501424789429, 1.7993478775024414, 1.7993401288986206, 1.7991724014282227, 1.7986117601394653, 1.7512938976287842, 1.7499562501907349, 1.7476725578308105, 1.7355893850326538, 1.7041040658950806, 1.6886850595474243, 2.578632354736328, 1.4953384399414062, 0.9814170002937317, 0.9814170598983765, 0.9814121127128601, 0.9814121723175049, 0.9813777804374695, 0.981374979019165, 0.9813739061355591, 3.9197349548339844, 5.108359336853027, 2.264248847961426, 2.60147762298584, 6.348652362823486, 13.96652603149414, 1.751962423324585, 12.411778450012207, 7.019204616546631, 2.6190459728240967, 4.0378336906433105, 5.2584662437438965, 9.088042259216309, 5.260973930358887, 3.368924140930176, 2.613070011138916, 2.61584734916687, 2.2635107040405273, 2.0492141246795654, 2.05033016204834, 1.8842238187789917, 1.8535964488983154, 1.815039038658142, 12.911480903625488, 4.66622257232666, 3.286038398742676, 3.285846471786499, 7.069826126098633, 3.845067262649536, 2.9835000038146973, 2.9812395572662354, 1.7155648469924927, 1.6895108222961426, 1.6884702444076538, 2.235661029815674, 1.6746340990066528, 1.6576051712036133, 1.6565383672714233, 6.881606578826904, 3.1135175228118896, 5.791593074798584, 1.438050627708435, 0.9389594197273254, 3.286094903945923, 0.9389474391937256, 0.93892902135849, 0.9387863278388977, 0.9383420348167419, 0.938340961933136, 0.9322149753570557, 0.9286791682243347, 3.2099225521087646, 1.6757599115371704, 6.189297676086426, 3.3562188148498535, 9.023874282836914, 7.351736068725586, 1.6897422075271606, 3.054182291030884, 1.6051925420761108, 1.7115683555603027, 3.563774824142456, 2.203688144683838, 1.9833911657333374, 1.882686734199524, 1.782331109046936, 1.8301042318344116, 1.7534631490707397], \"Total\": [14.0, 104.0, 29.0, 36.0, 8.0, 10.0, 9.0, 38.0, 20.0, 9.0, 9.0, 7.0, 7.0, 20.0, 5.0, 37.0, 11.0, 11.0, 5.0, 5.0, 5.0, 12.0, 11.0, 4.0, 18.0, 11.0, 7.0, 3.0, 3.0, 13.0, 4.11214542388916, 11.522916793823242, 4.112228870391846, 4.1122517585754395, 3.2880725860595703, 3.288072347640991, 4.11135721206665, 4.111601829528809, 20.546152114868164, 2.4640159606933594, 2.464016914367676, 2.4640164375305176, 2.4640159606933594, 2.4640145301818848, 2.464015245437622, 2.464015483856201, 2.464014768600464, 2.4640142917633057, 2.4640135765075684, 2.4640119075775146, 2.464010238647461, 2.4640095233917236, 2.4640095233917236, 2.464010238647461, 2.464008092880249, 2.464007616043091, 2.464036464691162, 2.464038372039795, 2.464040517807007, 2.464040756225586, 5.760323524475098, 6.578543663024902, 11.549480438232422, 20.617856979370117, 104.71402740478516, 36.9980354309082, 18.978927612304688, 11.536802291870117, 4.11342191696167, 5.770819187164307, 37.12762451171875, 17.227401733398438, 7.324702262878418, 19.559755325317383, 9.897363662719727, 5.741837024688721, 38.186126708984375, 8.873882293701172, 13.995889663696289, 4.8827738761901855, 14.024310111999512, 15.666998863220215, 7.4505295753479, 9.104620933532715, 4.1337971687316895, 4.133397579193115, 4.13322114944458, 4.133133411407471, 4.133167743682861, 9.062215805053711, 4.132286071777344, 4.130952835083008, 2.474877119064331, 2.4748733043670654, 2.474869728088379, 2.4746150970458984, 2.4746062755584717, 2.4746978282928467, 2.4746975898742676, 2.474695920944214, 2.474693775177002, 2.474665641784668, 2.474666118621826, 2.474663496017456, 2.47455096244812, 2.474619150161743, 2.474618911743164, 2.474531412124634, 2.474540948867798, 2.4745190143585205, 2.474536657333374, 2.474515438079834, 3.299860954284668, 37.12762451171875, 15.666998863220215, 104.71402740478516, 17.227401733398438, 14.024310111999512, 4.871148109436035, 4.869931221008301, 18.978927612304688, 11.549480438232422, 13.978442192077637, 7.422091484069824, 19.559755325317383, 38.186126708984375, 13.995889663696289, 7.41652250289917, 20.617856979370117, 12.861388206481934, 10.359442710876465, 36.9980354309082, 4.943550109863281, 4.116945266723633, 4.116940498352051, 4.11693000793457, 4.1169328689575195, 4.11764669418335, 3.29184889793396, 4.098396301269531, 2.4670212268829346, 2.4669296741485596, 2.466897964477539, 2.467271327972412, 2.466848850250244, 2.4667842388153076, 2.467141628265381, 4.908405303955078, 4.908401966094971, 2.4671175479888916, 2.465707778930664, 2.465708017349243, 2.4669835567474365, 4.8916192054748535, 7.404425621032715, 1.6415948867797852, 1.641594648361206, 1.6415941715240479, 1.6415942907333374, 1.641593098640442, 1.6415915489196777, 1.6415905952453613, 2.465522050857544, 11.374126434326172, 7.422091484069824, 29.266136169433594, 6.503333568572998, 4.9284515380859375, 11.43518352508545, 9.897363662719727, 104.71402740478516, 11.536802291870117, 8.242277145385742, 7.314974308013916, 14.024310111999512, 20.617856979370117, 38.186126708984375, 13.995889663696289, 18.978927612304688, 4.891353130340576, 7.41652250289917, 37.12762451171875, 13.978442192077637, 36.9980354309082, 5.724177837371826, 5.724221706390381, 5.72423791885376, 7.362757682800293, 3.2697231769561768, 3.269737482070923, 5.730731964111328, 2.4517862796783447, 2.4517860412597656, 2.4517860412597656, 2.4517860412597656, 2.4517858028411865, 2.4517855644226074, 2.4517812728881836, 2.451791286468506, 2.4522271156311035, 2.452134609222412, 2.4524874687194824, 2.4491288661956787, 2.4531123638153076, 2.453324317932129, 4.052536964416504, 2.4557621479034424, 1.6338411569595337, 1.6338413953781128, 1.6338410377502441, 1.6338411569595337, 1.6338396072387695, 1.6338396072387695, 1.63383948802948, 7.288870334625244, 9.740028381347656, 4.103893280029297, 4.921109676361084, 13.978442192077637, 38.186126708984375, 3.2737679481506348, 36.9980354309082, 19.559755325317383, 5.741837024688721, 13.995889663696289, 29.266136169433594, 104.71402740478516, 37.12762451171875, 15.666998863220215, 11.43518352508545, 17.227401733398438, 9.567795753479004, 8.873882293701172, 20.546152114868164, 7.314974308013916, 11.374126434326172, 4.0997090339660645, 14.150460243225098, 5.520942687988281, 3.94610857963562, 3.946117401123047, 8.68912410736084, 4.7404255867004395, 3.962078094482422, 3.962204933166504, 2.3813276290893555, 2.3826262950897217, 2.382683277130127, 3.1777539253234863, 2.383646249771118, 2.383871078491211, 2.383920192718506, 10.359442710876465, 4.771880149841309, 9.567795753479004, 2.3965959548950195, 1.5984569787979126, 5.594175338745117, 1.5984570980072021, 1.5984578132629395, 1.5984587669372559, 1.598479986190796, 1.5984797477722168, 1.5988264083862305, 1.5989174842834473, 5.598168849945068, 3.207423210144043, 12.861388206481934, 8.873882293701172, 38.186126708984375, 29.266136169433594, 4.030585765838623, 11.374126434326172, 4.045140743255615, 4.869931221008301, 19.559755325317383, 9.740028381347656, 7.288870334625244, 6.503333568572998, 7.314974308013916, 17.227401733398438, 11.43518352508545], \"Category\": [\"Default\", \"Default\", \"Default\", \"Default\", \"Default\", \"Default\", \"Default\", \"Default\", \"Default\", \"Default\", \"Default\", \"Default\", \"Default\", \"Default\", \"Default\", \"Default\", \"Default\", \"Default\", \"Default\", \"Default\", \"Default\", \"Default\", \"Default\", \"Default\", \"Default\", \"Default\", \"Default\", \"Default\", \"Default\", \"Default\", \"Topic1\", \"Topic1\", \"Topic1\", \"Topic1\", \"Topic1\", \"Topic1\", \"Topic1\", \"Topic1\", \"Topic1\", \"Topic1\", \"Topic1\", \"Topic1\", \"Topic1\", \"Topic1\", \"Topic1\", \"Topic1\", \"Topic1\", \"Topic1\", \"Topic1\", \"Topic1\", \"Topic1\", \"Topic1\", \"Topic1\", \"Topic1\", \"Topic1\", \"Topic1\", \"Topic1\", \"Topic1\", \"Topic1\", \"Topic1\", \"Topic1\", \"Topic1\", \"Topic1\", \"Topic1\", \"Topic1\", \"Topic1\", \"Topic1\", \"Topic1\", \"Topic1\", \"Topic1\", \"Topic1\", \"Topic1\", \"Topic1\", \"Topic1\", \"Topic1\", \"Topic1\", \"Topic1\", \"Topic1\", \"Topic1\", \"Topic1\", \"Topic1\", \"Topic1\", \"Topic2\", \"Topic2\", \"Topic2\", \"Topic2\", \"Topic2\", \"Topic2\", \"Topic2\", \"Topic2\", \"Topic2\", \"Topic2\", \"Topic2\", \"Topic2\", \"Topic2\", \"Topic2\", \"Topic2\", \"Topic2\", \"Topic2\", \"Topic2\", \"Topic2\", \"Topic2\", \"Topic2\", \"Topic2\", \"Topic2\", \"Topic2\", \"Topic2\", \"Topic2\", \"Topic2\", \"Topic2\", \"Topic2\", \"Topic2\", \"Topic2\", \"Topic2\", \"Topic2\", \"Topic2\", \"Topic2\", \"Topic2\", \"Topic2\", \"Topic2\", \"Topic2\", \"Topic2\", \"Topic2\", \"Topic2\", \"Topic2\", \"Topic2\", \"Topic2\", \"Topic2\", \"Topic2\", \"Topic2\", \"Topic2\", \"Topic2\", \"Topic3\", \"Topic3\", \"Topic3\", \"Topic3\", \"Topic3\", \"Topic3\", \"Topic3\", \"Topic3\", \"Topic3\", \"Topic3\", \"Topic3\", \"Topic3\", \"Topic3\", \"Topic3\", \"Topic3\", \"Topic3\", \"Topic3\", \"Topic3\", \"Topic3\", \"Topic3\", \"Topic3\", \"Topic3\", \"Topic3\", \"Topic3\", \"Topic3\", \"Topic3\", \"Topic3\", \"Topic3\", \"Topic3\", \"Topic3\", \"Topic3\", \"Topic3\", \"Topic3\", \"Topic3\", \"Topic3\", \"Topic3\", \"Topic3\", \"Topic3\", \"Topic3\", \"Topic3\", \"Topic3\", \"Topic3\", \"Topic3\", \"Topic3\", \"Topic3\", \"Topic3\", \"Topic3\", \"Topic3\", \"Topic3\", \"Topic3\", \"Topic3\", \"Topic3\", \"Topic4\", \"Topic4\", \"Topic4\", \"Topic4\", \"Topic4\", \"Topic4\", \"Topic4\", \"Topic4\", \"Topic4\", \"Topic4\", \"Topic4\", \"Topic4\", \"Topic4\", \"Topic4\", \"Topic4\", \"Topic4\", \"Topic4\", \"Topic4\", \"Topic4\", \"Topic4\", \"Topic4\", \"Topic4\", \"Topic4\", \"Topic4\", \"Topic4\", \"Topic4\", \"Topic4\", \"Topic4\", \"Topic4\", \"Topic4\", \"Topic4\", \"Topic4\", \"Topic4\", \"Topic4\", \"Topic4\", \"Topic4\", \"Topic4\", \"Topic4\", \"Topic4\", \"Topic4\", \"Topic4\", \"Topic4\", \"Topic4\", \"Topic4\", \"Topic4\", \"Topic4\", \"Topic4\", \"Topic4\", \"Topic4\", \"Topic4\", \"Topic4\", \"Topic4\", \"Topic4\", \"Topic5\", \"Topic5\", \"Topic5\", \"Topic5\", \"Topic5\", \"Topic5\", \"Topic5\", \"Topic5\", \"Topic5\", \"Topic5\", \"Topic5\", \"Topic5\", \"Topic5\", \"Topic5\", \"Topic5\", \"Topic5\", \"Topic5\", \"Topic5\", \"Topic5\", \"Topic5\", \"Topic5\", \"Topic5\", \"Topic5\", \"Topic5\", \"Topic5\", \"Topic5\", \"Topic5\", \"Topic5\", \"Topic5\", \"Topic5\", \"Topic5\", \"Topic5\", \"Topic5\", \"Topic5\", \"Topic5\", \"Topic5\", \"Topic5\", \"Topic5\", \"Topic5\", \"Topic5\", \"Topic5\", \"Topic5\", \"Topic5\", \"Topic5\", \"Topic5\"], \"logprob\": [30.0, 29.0, 28.0, 27.0, 26.0, 25.0, 24.0, 23.0, 22.0, 21.0, 20.0, 19.0, 18.0, 17.0, 16.0, 15.0, 14.0, 13.0, 12.0, 11.0, 10.0, 9.0, 8.0, 7.0, 6.0, 5.0, 4.0, 3.0, 2.0, 1.0, -4.6641998291015625, -3.6375999450683594, -4.668000221252441, -4.669300079345703, -4.936299800872803, -4.936299800872803, -4.714099884033203, -4.74370002746582, -3.1566998958587646, -5.3109002113342285, -5.3109002113342285, -5.3109002113342285, -5.3109002113342285, -5.3109002113342285, -5.3109002113342285, -5.3109002113342285, -5.3109002113342285, -5.3109002113342285, -5.3109002113342285, -5.310999870300293, -5.310999870300293, -5.310999870300293, -5.310999870300293, -5.310999870300293, -5.310999870300293, -5.310999870300293, -5.3125, -5.312699794769287, -5.313000202178955, -5.313000202178955, -4.497900009155273, -4.389400005340576, -3.888400077819824, -3.36680006980896, -1.9399000406265259, -2.9230000972747803, -3.5501999855041504, -3.9962000846862793, -4.8805999755859375, -4.660600185394287, -3.2969000339508057, -4.003699779510498, -4.608500003814697, -4.291900157928467, -4.65369987487793, -4.9369001388549805, -4.323800086975098, -4.883900165557861, -4.773499965667725, -5.126800060272217, -4.888400077819824, -4.914700031280518, -3.7128000259399414, -3.5339999198913574, -4.361800193786621, -4.378200054168701, -4.3805999755859375, -4.382900238037109, -4.383299827575684, -3.5987000465393066, -4.394899845123291, -4.427499771118164, -5.0055999755859375, -5.00570011138916, -5.00570011138916, -5.015900135040283, -5.016200065612793, -5.020299911499023, -5.020400047302246, -5.020500183105469, -5.020599842071533, -5.02239990234375, -5.02239990234375, -5.02239990234375, -5.025400161743164, -5.025599956512451, -5.025599956512451, -5.026100158691406, -5.026700019836426, -5.027299880981445, -5.027900218963623, -5.02839994430542, -4.77239990234375, -2.984800100326538, -3.702199935913086, -2.368499994277954, -3.83270001411438, -3.9895999431610107, -4.630899906158447, -4.633999824523926, -4.152400016784668, -4.368500232696533, -4.305099964141846, -4.627699851989746, -4.3368000984191895, -4.214099884033203, -4.559100151062012, -4.787499904632568, -4.672100067138672, -4.89769983291626, -4.948599815368652, -4.93149995803833, -4.11929988861084, -4.327700138092041, -4.3277997970581055, -4.328000068664551, -4.328100204467773, -4.3368000984191895, -4.639599800109863, -4.441800117492676, -4.963799953460693, -4.964700222015381, -4.965099811553955, -4.965199947357178, -4.96560001373291, -4.966300010681152, -4.9695000648498535, -4.282199859619141, -4.282199859619141, -4.970900058746338, -4.977700233459473, -4.977700233459473, -4.97790002822876, -4.368599891662598, -3.9644999504089355, -5.5671000480651855, -5.5671000480651855, -5.5671000480651855, -5.5671000480651855, -5.5671000480651855, -5.567200183868408, -5.567200183868408, -5.178699970245361, -3.748199939727783, -4.155900001525879, -2.902400016784668, -4.337399959564209, -4.606200218200684, -3.9363999366760254, -4.116399765014648, -2.784899950027466, -4.0991997718811035, -4.317399978637695, -4.423399925231934, -4.109300136566162, -3.937700033187866, -3.716599941253662, -4.213799953460693, -4.224100112915039, -4.714399814605713, -4.576000213623047, -4.110300064086914, -4.562900066375732, -4.566999912261963, -3.9173998832702637, -3.9179999828338623, -3.918299913406372, -3.672600030899048, -4.569799900054932, -4.570400238037109, -4.065700054168701, -4.944399833679199, -4.944399833679199, -4.944399833679199, -4.944499969482422, -4.944499969482422, -4.944499969482422, -4.944499969482422, -4.944900035858154, -4.971499919891357, -4.972300052642822, -4.973599910736084, -4.980500221252441, -4.998799800872803, -5.007900238037109, -4.58459997177124, -5.129499912261963, -5.550600051879883, -5.550600051879883, -5.550600051879883, -5.550600051879883, -5.5507001876831055, -5.5507001876831055, -5.5507001876831055, -4.165900230407715, -3.9010000228881836, -4.714600086212158, -4.575799942016602, -3.6835999488830566, -2.89520001411438, -4.971099853515625, -3.013200044631958, -3.583199977874756, -4.5690999031066895, -4.136199951171875, -3.871999979019165, -3.324899911880493, -3.8715999126434326, -4.317299842834473, -4.571400165557861, -4.570300102233887, -4.715000152587891, -4.8144001960754395, -4.813899993896484, -4.898399829864502, -4.914700031280518, -4.935800075531006, -2.723299980163574, -3.7411000728607178, -4.091700077056885, -4.091800212860107, -3.3255999088287354, -3.9346001148223877, -4.188300132751465, -4.1890997886657715, -4.741700172424316, -4.756999969482422, -4.757599830627441, -4.476900100708008, -4.7657999992370605, -4.776000022888184, -4.776700019836426, -3.35260009765625, -4.145699977874756, -3.5250000953674316, -4.918099880218506, -5.344399929046631, -4.091700077056885, -5.344399929046631, -5.344399929046631, -5.344600200653076, -5.34499979019165, -5.34499979019165, -5.351600170135498, -5.355400085449219, -4.115200042724609, -4.765100002288818, -3.4586000442504883, -4.0706000328063965, -3.0815000534057617, -3.2864999771118164, -4.756800174713135, -4.164899826049805, -4.808199882507324, -4.74399995803833, -4.0106000900268555, -4.491300106048584, -4.59660005569458, -4.64870023727417, -4.703499794006348, -4.677000045776367, -4.719799995422363], \"loglift\": [30.0, 29.0, 28.0, 27.0, 26.0, 25.0, 24.0, 23.0, 22.0, 21.0, 20.0, 19.0, 18.0, 17.0, 16.0, 15.0, 14.0, 13.0, 12.0, 11.0, 10.0, 9.0, 8.0, 7.0, 6.0, 5.0, 4.0, 3.0, 2.0, 1.0, 1.1282000541687012, 1.124400019645691, 1.124400019645691, 1.1231000423431396, 1.079800009727478, 1.079800009727478, 1.0785000324249268, 1.0489000082015991, 1.0269999504089355, 0.9937000274658203, 0.9937000274658203, 0.9937000274658203, 0.9937000274658203, 0.9937000274658203, 0.9937000274658203, 0.9937000274658203, 0.9937000274658203, 0.9937000274658203, 0.9937000274658203, 0.9936000108718872, 0.9936000108718872, 0.9936000108718872, 0.9936000108718872, 0.9936000108718872, 0.9936000108718872, 0.9936000108718872, 0.9919999837875366, 0.9919000267982483, 0.991599977016449, 0.991599977016449, 0.9574000239372253, 0.9332000017166138, 0.871399998664856, 0.8133999705314636, 0.6152999997138977, 0.6725000143051147, 0.7128000259399414, 0.7645999789237976, 0.9114999771118164, 0.7929999828338623, 0.29510000348091125, 0.3562000095844269, 0.6067000031471252, -0.05900000035762787, 0.2603999972343445, 0.5217000246047974, -0.7598000168800354, 0.13940000534057617, -0.20589999854564667, 0.49390000104904175, -0.32280001044273376, -0.45989999175071716, 1.4852999448776245, 1.4636000394821167, 1.4253000020980835, 1.40910005569458, 1.4067000150680542, 1.4043999910354614, 1.4040000438690186, 1.403499960899353, 1.3926000595092773, 1.3603999614715576, 1.294600009918213, 1.2944999933242798, 1.2944999933242798, 1.2843999862670898, 1.28410005569458, 1.2798999547958374, 1.2798000574111938, 1.2797000408172607, 1.2796000242233276, 1.277899980545044, 1.277899980545044, 1.2777999639511108, 1.274999976158142, 1.2747000455856323, 1.2747000455856323, 1.2741999626159668, 1.2735999822616577, 1.2730000019073486, 1.2724000215530396, 1.2719999551773071, 1.2401000261306763, 0.607200026512146, 0.7526000142097473, 0.186599999666214, 0.5271999835968018, 0.5759999752044678, 0.9921000003814697, 0.989300012588501, 0.11060000211000443, 0.3912999927997589, 0.2637999951839447, 0.5742999911308289, -0.1039000004529953, -0.6502000093460083, 0.008500000461935997, 0.41519999504089355, -0.4918999969959259, -0.24549999833106995, -0.08009999990463257, -1.3359999656677246, 1.4889999628067017, 1.4636000394821167, 1.4635000228881836, 1.4631999731063843, 1.4631999731063843, 1.454300045967102, 1.3753999471664429, 1.3539999723434448, 1.3395999670028687, 1.3387000560760498, 1.3382999897003174, 1.3380000591278076, 1.3378000259399414, 1.3372000455856323, 1.333799958229065, 1.3331999778747559, 1.3331999778747559, 1.3323999643325806, 1.326200008392334, 1.326200008392334, 1.3255000114440918, 1.2503000497817993, 1.239799976348877, 1.1435999870300293, 1.1435999870300293, 1.1435999870300293, 1.1435999870300293, 1.1435999870300293, 1.1434999704360962, 1.1434999704360962, 1.1253000497817993, 1.0268000364303589, 1.0461000204086304, 0.9276000261306763, 0.9966999888420105, 1.0052000284194946, 0.833299994468689, 0.7976999878883362, -0.2296999990940094, 0.6615999937057495, 0.779699981212616, 0.7929999828338623, 0.4562999904155731, 0.2425999939441681, -0.1527000069618225, 0.3537999987602234, 0.03889999911189079, 0.9045000076293945, 0.6266999840736389, -0.5182999968528748, 0.006000000052154064, -0.9714999794960022, 1.5442999601364136, 1.5436999797821045, 1.5434000492095947, 1.5372999906539917, 1.4519000053405762, 1.451300024986267, 1.3948999643325806, 1.3651000261306763, 1.3651000261306763, 1.3651000261306763, 1.3651000261306763, 1.3651000261306763, 1.3651000261306763, 1.3650000095367432, 1.3646999597549438, 1.3379000425338745, 1.3371000289916992, 1.3357000350952148, 1.3301000595092773, 1.3101999759674072, 1.3009999990463257, 1.2223999500274658, 1.1784000396728516, 1.1648000478744507, 1.1648000478744507, 1.1648000478744507, 1.1648000478744507, 1.1648000478744507, 1.1648000478744507, 1.1648000478744507, 1.0542000532150269, 1.029099941253662, 1.079800009727478, 1.0369999408721924, 0.885200023651123, 0.6686999797821045, 1.049299955368042, 0.5823000073432922, 0.6496999859809875, 0.8895000219345093, 0.43140000104904175, -0.042100001126527786, -0.7698000073432922, -0.27950000762939453, 0.13750000298023224, 0.19830000400543213, -0.21040000021457672, 0.2329999953508377, 0.20880000293254852, -0.6302000284194946, 0.3181000053882599, -0.1396999955177307, 0.8597000241279602, 1.833299994468689, 1.7568000555038452, 1.7418999671936035, 1.7418999671936035, 1.7187000513076782, 1.7156000137329102, 1.6412999629974365, 1.6404999494552612, 1.597100019454956, 1.5812000036239624, 1.5806000232696533, 1.5733000040054321, 1.5719000101089478, 1.5615999698638916, 1.5609999895095825, 1.5159000158309937, 1.4980000257492065, 1.4229999780654907, 1.414199948310852, 1.392899990081787, 1.392899990081787, 1.392899990081787, 1.392899990081787, 1.392799973487854, 1.392300009727478, 1.392300009727478, 1.3854999542236328, 1.381700038909912, 1.3688000440597534, 1.2757999897003174, 1.193600058555603, 0.9527000188827515, 0.48240000009536743, 0.5435000061988831, 1.0556000471115112, 0.6100999712944031, 1.0006999969482422, 0.8792999982833862, 0.2222999930381775, 0.4388999938964844, 0.6233999729156494, 0.6854000091552734, 0.5130000114440918, -0.3172000050544739, 0.04989999905228615]}, \"token.table\": {\"Topic\": [2, 4, 2, 3, 1, 2, 3, 4, 3, 1, 3, 2, 2, 2, 1, 4, 2, 1, 2, 3, 4, 3, 4, 3, 4, 4, 4, 1, 2, 4, 5, 2, 1, 2, 3, 3, 2, 4, 5, 3, 2, 4, 1, 4, 1, 3, 4, 1, 1, 1, 2, 3, 4, 1, 2, 3, 4, 2, 3, 4, 1, 2, 3, 4, 5, 2, 5, 5, 3, 5, 4, 5, 1, 2, 4, 5, 1, 3, 2, 5, 2, 5, 2, 4, 1, 3, 2, 1, 2, 3, 4, 5, 1, 3, 5, 1, 2, 3, 4, 5, 1, 2, 3, 4, 1, 4, 5, 1, 3, 4, 5, 1, 4, 5, 4, 1, 3, 4, 5, 3, 4, 2, 5, 4, 3, 1, 3, 4, 2, 5, 3, 3, 4, 5, 1, 2, 4, 5, 4, 2, 3, 3, 3, 3, 4, 5, 4, 2, 3, 5, 1, 4, 3, 4, 5, 4, 1, 5, 1, 2, 3, 3, 1, 5, 5, 2, 3, 5, 1, 5, 4, 1, 2, 4, 5, 4, 2, 2, 1, 3, 5, 1, 2, 2, 1, 2, 1, 3, 4, 5, 4, 4, 1, 5, 3, 1, 3, 2, 5, 4, 1, 5, 3, 5, 5, 1, 2, 3, 4, 4, 5, 5, 1, 2, 2, 1, 1, 3, 4, 1, 2, 3, 1, 4, 5, 2, 1, 2, 5, 2, 5, 5, 1, 5, 5, 1, 3, 4, 5, 3, 3, 2, 2, 3, 5, 2, 5, 4, 1, 3, 3, 1, 5, 2, 3, 3, 4, 5, 4, 1, 2, 1, 2, 3, 4, 3, 1, 4, 3, 4, 5, 1, 2, 3, 4, 5, 3, 4, 1, 1, 1, 4, 4, 2, 4, 4, 1, 1, 2, 3, 4, 3, 1, 2, 3, 1, 5, 2, 2, 1, 3, 5, 5, 5, 2, 5, 1, 1, 1, 1, 4], \"Freq\": [0.8786746859550476, 0.10983433574438095, 0.7258415818214417, 0.810772180557251, 0.19148530066013336, 0.44679903984069824, 0.19148530066013336, 0.19148530066013336, 0.7285714745521545, 0.6944054365158081, 0.17360135912895203, 0.8082306981086731, 0.7262247204780579, 0.7258355021476746, 0.3054584264755249, 0.6109168529510498, 0.8082338571548462, 0.24265138804912567, 0.24265138804912567, 0.3639770746231079, 0.12132569402456284, 0.6752718091011047, 0.27010872960090637, 0.1744977831840515, 0.697991132736206, 0.8734787106513977, 0.8166168928146362, 0.255626916885376, 0.20450153946876526, 0.3578777015209198, 0.20450153946876526, 0.6060861349105835, 0.5795902013778687, 0.21076005697250366, 0.21076005697250366, 0.8107348084449768, 0.13719546794891357, 0.5487818717956543, 0.27439093589782715, 0.8106120824813843, 0.7258261442184448, 0.8734878897666931, 0.9123886823654175, 0.8149120807647705, 0.811674952507019, 0.6091639399528503, 0.8157334327697754, 0.9123886227607727, 0.8116763234138489, 0.07153873145580292, 0.28615492582321167, 0.21461619436740875, 0.4292323887348175, 0.21391426026821136, 0.3565237820148468, 0.2852190136909485, 0.14260950684547424, 0.8082321286201477, 0.6087104678153992, 0.4058069586753845, 0.15550421178340912, 0.15550421178340912, 0.07775210589170456, 0.07775210589170456, 0.46651262044906616, 0.6160251498222351, 0.41068342328071594, 0.9056424498558044, 0.814929187297821, 0.20373229682445526, 0.7402770519256592, 0.24675901234149933, 0.10266910493373871, 0.10266910493373871, 0.5133455395698547, 0.20533820986747742, 0.606753945350647, 0.3467165231704712, 0.8082274198532104, 0.8390506505966187, 0.4944203794002533, 0.4944203794002533, 0.24367105960845947, 0.48734211921691895, 0.8116843700408936, 0.8111261129379272, 0.8081233501434326, 0.1309376060962677, 0.10475008189678192, 0.15712513029575348, 0.3666253089904785, 0.23568768799304962, 0.4096032381057739, 0.20480161905288696, 0.20480161905288696, 0.21434864401817322, 0.21434864401817322, 0.28579819202423096, 0.28579819202423096, 0.8393898010253906, 0.13483408093452454, 0.2696681618690491, 0.4045022428035736, 0.13483408093452454, 0.5460972785949707, 0.27304863929748535, 0.27304863929748535, 0.06833837181329727, 0.4783685803413391, 0.17084592580795288, 0.23918429017066956, 0.33807075023651123, 0.22538049519062042, 0.33807075023651123, 0.6120546460151672, 0.17489881813526154, 0.43724703788757324, 0.2623482048511505, 0.17489881813526154, 0.7286978363990784, 0.9175048470497131, 0.615871250629425, 0.4105808138847351, 0.8156158924102783, 0.7286964654922485, 0.8678358197212219, 0.08678358048200607, 0.08678358048200607, 0.07066907733678818, 0.9186980128288269, 0.405593603849411, 0.40888482332229614, 0.20444241166114807, 0.20444241166114807, 0.4063294231891632, 0.3482823669910431, 0.17414118349552155, 0.11609411984682083, 0.8157318830490112, 0.8081899881362915, 0.8091351389884949, 0.8111260533332825, 0.6091637015342712, 0.5275130271911621, 0.1758376806974411, 0.26375651359558105, 0.8152908086776733, 0.15376728773117065, 0.46130189299583435, 0.3075345754623413, 0.8116835355758667, 0.6120545864105225, 0.6091653108596802, 0.20956100523471832, 0.6286830306053162, 0.8734812140464783, 0.35725969076156616, 0.5358895063400269, 0.519856870174408, 0.3465712368488312, 0.7286983132362366, 0.8106546998023987, 0.8116756677627563, 0.41725847125053406, 0.8438060879707336, 0.4041987359523773, 0.538931667804718, 0.6293753385543823, 0.3117767572402954, 0.6235535144805908, 0.9175088405609131, 0.7787346243858337, 0.09734182804822922, 0.09734182804822922, 0.04867091402411461, 0.815731942653656, 0.8082064986228943, 0.8082390427589417, 0.8116856217384338, 0.7319936156272888, 0.24399787187576294, 0.8116838335990906, 0.808179497718811, 0.8082093596458435, 0.6926718354225159, 0.25975194573402405, 0.8116828799247742, 0.41011762619018555, 0.27341175079345703, 0.27341175079345703, 0.8155851364135742, 0.6120545268058777, 0.49620577692985535, 0.49620577692985535, 0.8107243776321411, 0.7293198108673096, 0.24310658872127533, 0.8081800937652588, 0.760240912437439, 0.612055242061615, 0.35751470923423767, 0.5362720489501953, 0.8149286508560181, 0.20373216271400452, 0.6255943179130554, 0.3031110167503357, 0.20207402110099792, 0.40414804220199585, 0.815730094909668, 0.6120551824569702, 0.7571541666984558, 0.8389715552330017, 0.8116834759712219, 0.8081209063529968, 0.8081898093223572, 0.8116851449012756, 0.8116849660873413, 0.6091639399528503, 0.8157318830490112, 0.6305214166641235, 0.1455049365758896, 0.24250823259353638, 0.4878394901752472, 0.4878394901752472, 0.8389542698860168, 0.8081795573234558, 0.09653028845787048, 0.19306057691574097, 0.6757120490074158, 0.7724379897117615, 0.11034829169511795, 0.625594437122345, 0.8116748929023743, 0.7571784257888794, 0.8394098281860352, 0.760046660900116, 0.15200932323932648, 0.15200932323932648, 0.6254587769508362, 0.6091643571853638, 0.8106942772865295, 0.725724995136261, 0.8082378506660461, 0.6132938265800476, 0.20443128049373627, 0.8081808090209961, 0.7602426409721375, 0.8154985308647156, 0.7295314073562622, 0.9113419651985168, 0.6091649532318115, 0.8116832971572876, 0.6256026029586792, 0.808205246925354, 0.8106626272201538, 0.40641239285469055, 0.609618604183197, 0.8398676514625549, 0.8157317638397217, 0.8116830587387085, 0.8081221580505371, 0.5405692458152771, 0.05405692383646965, 0.08108538389205933, 0.3243415355682373, 0.609163761138916, 0.7296426296234131, 0.8152204155921936, 0.10451728105545044, 0.20903456211090088, 0.6271036863327026, 0.506140410900116, 0.23874546587467194, 0.15279710292816162, 0.08594837039709091, 0.009549818933010101, 0.8107509016990662, 0.6120551824569702, 0.8116832375526428, 0.8116835951805115, 0.8116858005523682, 0.8157318830490112, 0.8157320022583008, 0.8081907033920288, 0.6120545864105225, 0.4072055518627167, 0.7296860218048096, 0.37707772850990295, 0.37707772850990295, 0.1077364906668663, 0.13467061519622803, 0.8107066750526428, 0.7295272946357727, 0.7259904146194458, 0.7286956310272217, 0.8116851449012756, 0.6256033182144165, 0.7257951498031616, 0.8082051873207092, 0.7295461893081665, 0.1150863990187645, 0.8056048154830933, 0.6256032586097717, 0.6254231333732605, 0.9395305514335632, 0.6256030201911926, 0.8116830587387085, 0.8116827607154846, 0.8116849660873413, 0.522480845451355, 0.522480845451355], \"Term\": [\"AD\", \"AD\", \"Active\", \"Add\", \"Android\", \"Android\", \"Android\", \"Android\", \"App\", \"Apple\", \"Apple\", \"Azure\", \"DS\", \"Directory\", \"Embedded\", \"Embedded\", \"Federation\", \"Folder\", \"Folder\", \"Folder\", \"Folder\", \"Google\", \"Google\", \"ID\", \"ID\", \"INI\", \"Linux\", \"MobiControl\", \"MobiControl\", \"MobiControl\", \"MobiControl\", \"Modern\", \"OS\", \"OS\", \"OS\", \"On\", \"PC\", \"PC\", \"PC\", \"Play\\u30b9\\u30c8\\u30a2\", \"Service\", \"Setup\", \"SharePoint\", \"URL\", \"VPN\", \"VPP\", \"WNS\", \"WebDAV\", \"WiFi\", \"Windows\", \"Windows\", \"Windows\", \"Windows\", \"iOS\", \"iOS\", \"iOS\", \"iOS\", \"macOS\", \"managed\", \"managed\", \"\\u3042\\u308b\", \"\\u3042\\u308b\", \"\\u3042\\u308b\", \"\\u3042\\u308b\", \"\\u3042\\u308b\", \"\\u3044\\u308b\", \"\\u3044\\u308b\", \"\\u304a\\u304f\", \"\\u304f\\u3060\\u3055\\u308b\", \"\\u304f\\u3060\\u3055\\u308b\", \"\\u3053\\u306e\", \"\\u3053\\u306e\", \"\\u3067\\u304d\\u308b\", \"\\u3067\\u304d\\u308b\", \"\\u3067\\u304d\\u308b\", \"\\u3067\\u304d\\u308b\", \"\\u3067\\u3059\", \"\\u3067\\u3059\", \"\\u3068\\u306e\", \"\\u3069\\u306e\", \"\\u306a\\u3044\", \"\\u306a\\u3044\", \"\\u306b\\u3088\\u308a\", \"\\u306b\\u3088\\u308a\", \"\\u306b\\u5bfe\\u3057\", \"\\u306b\\u95a2\\u3057\\u3066\", \"\\u306b\\u95a2\\u3059\\u308b\", \"\\u307e\\u3059\", \"\\u307e\\u3059\", \"\\u307e\\u3059\", \"\\u307e\\u3059\", \"\\u307e\\u3059\", \"\\u307e\\u305f\", \"\\u307e\\u305f\", \"\\u307e\\u305f\", \"\\u307e\\u305f\\u306f\", \"\\u307e\\u305f\\u306f\", \"\\u307e\\u305f\\u306f\", \"\\u307e\\u305f\\u306f\", \"\\u3088\\u3044\", \"\\u30a2\\u30ab\\u30a6\\u30f3\\u30c8\", \"\\u30a2\\u30ab\\u30a6\\u30f3\\u30c8\", \"\\u30a2\\u30ab\\u30a6\\u30f3\\u30c8\", \"\\u30a2\\u30ab\\u30a6\\u30f3\\u30c8\", \"\\u30a2\\u30af\\u30bb\\u30b9\", \"\\u30a2\\u30af\\u30bb\\u30b9\", \"\\u30a2\\u30af\\u30bb\\u30b9\", \"\\u30a2\\u30d7\\u30ea\", \"\\u30a2\\u30d7\\u30ea\", \"\\u30a2\\u30d7\\u30ea\", \"\\u30a2\\u30d7\\u30ea\", \"\\u30a2\\u30d7\\u30ea\\u30ab\\u30bf\\u30ed\\u30b0\", \"\\u30a2\\u30d7\\u30ea\\u30ab\\u30bf\\u30ed\\u30b0\", \"\\u30a2\\u30d7\\u30ea\\u30ab\\u30bf\\u30ed\\u30b0\", \"\\u30a2\\u30f3\\u30a4\\u30f3\\u30b9\\u30c8\\u30fc\\u30eb\", \"\\u30a4\\u30f3\\u30b9\\u30c8\\u30fc\\u30eb\", \"\\u30a4\\u30f3\\u30b9\\u30c8\\u30fc\\u30eb\", \"\\u30a4\\u30f3\\u30b9\\u30c8\\u30fc\\u30eb\", \"\\u30a4\\u30f3\\u30b9\\u30c8\\u30fc\\u30eb\", \"\\u30a4\\u30f3\\u30c7\\u30c3\\u30af\\u30b9\", \"\\u30a8\\u30fc\\u30b8\\u30a7\\u30f3\\u30c8\", \"\\u30aa\\u30d7\\u30b7\\u30e7\\u30f3\", \"\\u30aa\\u30d7\\u30b7\\u30e7\\u30f3\", \"\\u30ab\\u30b9\\u30bf\\u30de\\u30a4\\u30b6\\u30fc\", \"\\u30af\\u30ea\\u30c3\\u30af\", \"\\u30b0\\u30eb\\u30fc\\u30d7\", \"\\u30b0\\u30eb\\u30fc\\u30d7\", \"\\u30b0\\u30eb\\u30fc\\u30d7\", \"\\u30b3\\u30f3\\u30c6\\u30f3\\u30c4\", \"\\u30b3\\u30f3\\u30c6\\u30f3\\u30c4\", \"\\u30b5\\u30a4\\u30c8\", \"\\u30b5\\u30a4\\u30ec\\u30f3\\u30c8\", \"\\u30b5\\u30a4\\u30ec\\u30f3\\u30c8\", \"\\u30b5\\u30a4\\u30ec\\u30f3\\u30c8\", \"\\u30b5\\u30fc\\u30d0\", \"\\u30b5\\u30fc\\u30d0\", \"\\u30b5\\u30fc\\u30d0\", \"\\u30b5\\u30fc\\u30d0\", \"\\u30b7\\u30ea\\u30a2\\u30eb\\u756a\\u53f7\", \"\\u30b9\\u30b1\\u30b8\\u30e5\\u30fc\\u30eb\", \"\\u30b9\\u30c8\\u30a2\", \"\\u30bb\\u30c3\\u30c8\\u30a2\\u30c3\\u30d7\", \"\\u30bf\\u30a4\\u30d7\", \"\\u30c0\\u30a6\\u30f3\\u30ed\\u30fc\\u30c9\", \"\\u30c0\\u30a6\\u30f3\\u30ed\\u30fc\\u30c9\", \"\\u30c0\\u30a6\\u30f3\\u30ed\\u30fc\\u30c9\", \"\\u30c7\\u30d7\\u30ed\\u30a4\\u30e1\\u30f3\\u30c8\\u30b5\\u30fc\\u30d0\", \"\\u30c7\\u30fc\\u30bf\", \"\\u30c7\\u30fc\\u30bf\", \"\\u30c7\\u30fc\\u30bf\", \"\\u30c9\\u30ad\\u30e5\\u30e1\\u30f3\\u30c8\", \"\\u30d0\\u30fc\\u30b8\\u30e7\\u30f3\", \"\\u30d0\\u30fc\\u30b8\\u30e7\\u30f3\\u30a2\\u30c3\\u30d7\", \"\\u30d1\\u30c3\\u30b1\\u30fc\\u30b8\", \"\\u30d1\\u30c3\\u30b1\\u30fc\\u30b8\", \"\\u30d5\\u30a1\\u30a4\\u30eb\", \"\\u30d5\\u30a1\\u30a4\\u30eb\\u30b5\\u30fc\\u30d0\", \"\\u30d5\\u30a1\\u30a4\\u30eb\\u30b5\\u30fc\\u30d0\", \"\\u30d7\\u30ed\\u30d5\\u30a1\\u30a4\\u30eb\", \"\\u30d7\\u30ed\\u30d5\\u30a1\\u30a4\\u30eb\", \"\\u30da\\u30fc\\u30b8\", \"\\u30e1\\u30cb\\u30e5\\u30fc\", \"\\u30e1\\u30fc\\u30eb\", \"\\u30e2\\u30d0\\u30a4\\u30eb\", \"\\u30e2\\u30d0\\u30a4\\u30eb\\u7aef\\u672b\", \"\\u30e6\\u30fc\\u30b6\", \"\\u30e6\\u30fc\\u30b6\", \"\\u30e9\\u30a4\\u30d6\\u30e9\\u30ea\", \"\\u30ea\\u30dd\\u30b8\\u30c8\\u30ea\", \"\\u30ea\\u30dd\\u30b8\\u30c8\\u30ea\", \"\\u30ea\\u30e2\\u30fc\\u30c8\", \"\\u30eb\\u30fc\\u30eb\", \"\\u30eb\\u30fc\\u30eb\", \"\\u30eb\\u30fc\\u30eb\", \"\\u30eb\\u30fc\\u30eb\", \"\\u4e00\\u610f\\u7684\", \"\\u4e0d\\u8981\", \"\\u4e8b\\u9805\", \"\\u4ed5\\u69d8\", \"\\u4efb\\u610f\", \"\\u4efb\\u610f\", \"\\u4f01\\u696d\", \"\\u4f1a\\u793e\", \"\\u4f46\\u3057\", \"\\u4f5c\\u6210\", \"\\u4f5c\\u6210\", \"\\u4f5c\\u696d\", \"\\u4f7f\\u3046\", \"\\u4f7f\\u3046\", \"\\u4f7f\\u3046\", \"\\u4f7f\\u7528\", \"\\u4f8b\\u3048\\u3070\", \"\\u4fdd\\u5b58\", \"\\u4fdd\\u5b58\", \"\\u5098\\u4e0b\", \"\\u5165\\u529b\", \"\\u5165\\u529b\", \"\\u5171\\u7528\", \"\\u5199\\u771f\", \"\\u5236\\u5fa1\", \"\\u52d5\\u753b\", \"\\u52d5\\u753b\", \"\\u53c2\\u7167\", \"\\u53c2\\u7167\", \"\\u53c2\\u8003\", \"\\u53ef\\u80fd\", \"\\u53ef\\u80fd\", \"\\u53ef\\u80fd\", \"\\u540c\\u3058\", \"\\u540c\\u6642\\u306b\", \"\\u5411\\u3051\", \"\\u554f\\u3046\", \"\\u56e3\\u4f53\", \"\\u578b\\u5f0f\", \"\\u57fa\\u3065\\u304f\", \"\\u5909\\u3048\\u308b\", \"\\u5909\\u66f4\", \"\\u5951\\u7d04\", \"\\u5bfe\\u5fdc\", \"\\u5bfe\\u8c61\", \"\\u5bfe\\u8c61\", \"\\u5bfe\\u8c61\", \"\\u5c5e\\u6027\\u60c5\\u5831\", \"\\u5c5e\\u6027\\u60c5\\u5831\", \"\\u5f62\\u5f0f\", \"\\u5f93\\u696d\\u54e1\", \"\\u5fc5\\u8981\", \"\\u5fc5\\u8981\", \"\\u5fc5\\u8981\", \"\\u5fc5\\u9808\", \"\\u5fc5\\u9808\", \"\\u60c5\\u5831\", \"\\u60c5\\u5831\\u6f0f\\u6d29\", \"\\u610f\\u56f3\", \"\\u610f\\u8b58\", \"\\u6240\\u5b9a\", \"\\u6240\\u5b9a\", \"\\u6240\\u5b9a\", \"\\u624b\\u6bb5\", \"\\u6307\\u3059\", \"\\u6307\\u5b9a\", \"\\u6319\\u52d5\", \"\\u63a5\\u7d9a\", \"\\u64cd\\u4f5c\", \"\\u64cd\\u4f5c\", \"\\u652f\\u7d66\", \"\\u6587\\u66f8\", \"\\u6982\\u8981\", \"\\u69cb\\u6210\", \"\\u6a29\\u9650\", \"\\u6a5f\\u80fd\", \"\\u6cbf\\u3046\", \"\\u6ce8\", \"\\u7279\\u5b9a\", \"\\u73fe\\u308c\\u308b\", \"\\u751f\\u6210\", \"\\u751f\\u6210\", \"\\u7528\\u610f\", \"\\u7533\\u544a\", \"\\u753b\\u50cf\", \"\\u7570\\u306a\\u308b\", \"\\u767b\\u9332\", \"\\u767b\\u9332\", \"\\u767b\\u9332\", \"\\u767b\\u9332\", \"\\u76e3\\u8996\", \"\\u76ee\\u7684\", \"\\u77e5\\u308b\", \"\\u793e\\u5185\", \"\\u793e\\u5185\", \"\\u793e\\u5185\", \"\\u7aef\\u672b\", \"\\u7aef\\u672b\", \"\\u7aef\\u672b\", \"\\u7aef\\u672b\", \"\\u7aef\\u672b\", \"\\u7cfb\", \"\\u7d1b\\u5931\", \"\\u7d44\\u7e54\", \"\\u7d44\\u7e54\\u540d\", \"\\u7d50\\u69cb\", \"\\u7d9a\\u3051\\u308b\", \"\\u81ea\\u3089\", \"\\u81ea\\u52d5\\u7684\", \"\\u884c\\u3046\", \"\\u8868\\u793a\", \"\\u88fd\\u54c1\", \"\\u8a2d\\u5b9a\", \"\\u8a2d\\u5b9a\", \"\\u8a2d\\u5b9a\", \"\\u8a2d\\u5b9a\", \"\\u8a73\\u3057\\u3044\", \"\\u8a73\\u7d30\", \"\\u8a8d\\u8a3c\", \"\\u8aac\\u660e\", \"\\u8ffd\\u52a0\", \"\\u9001\\u308b\", \"\\u9001\\u53d7\", \"\\u904b\\u7528\\u65b9\\u6cd5\", \"\\u914d\\u4ed8\", \"\\u914d\\u5e03\", \"\\u914d\\u5e03\", \"\\u914d\\u616e\", \"\\u958b\\u767a\", \"\\u9593\", \"\\u9650\\u5b9a\", \"\\u9664\\u304f\", \"\\u968e\\u5c64\", \"\\u9805\\u76ee\", \"\\u9806\\u5e8f\", \"\\u9806\\u5e8f\"]}, \"R\": 30, \"lambda.step\": 0.01, \"plot.opts\": {\"xlab\": \"PC1\", \"ylab\": \"PC2\"}, \"topic.order\": [4, 5, 3, 1, 2]};\n",
       "\n",
       "function LDAvis_load_lib(url, callback){\n",
       "  var s = document.createElement('script');\n",
       "  s.src = url;\n",
       "  s.async = true;\n",
       "  s.onreadystatechange = s.onload = callback;\n",
       "  s.onerror = function(){console.warn(\"failed to load library \" + url);};\n",
       "  document.getElementsByTagName(\"head\")[0].appendChild(s);\n",
       "}\n",
       "\n",
       "if(typeof(LDAvis) !== \"undefined\"){\n",
       "   // already loaded: just create the visualization\n",
       "   !function(LDAvis){\n",
       "       new LDAvis(\"#\" + \"ldavis_el172331400436895407284256299699\", ldavis_el172331400436895407284256299699_data);\n",
       "   }(LDAvis);\n",
       "}else if(typeof define === \"function\" && define.amd){\n",
       "   // require.js is available: use it to load d3/LDAvis\n",
       "   require.config({paths: {d3: \"https://cdnjs.cloudflare.com/ajax/libs/d3/3.5.5/d3.min\"}});\n",
       "   require([\"d3\"], function(d3){\n",
       "      window.d3 = d3;\n",
       "      LDAvis_load_lib(\"https://cdn.rawgit.com/bmabey/pyLDAvis/files/ldavis.v1.0.0.js\", function(){\n",
       "        new LDAvis(\"#\" + \"ldavis_el172331400436895407284256299699\", ldavis_el172331400436895407284256299699_data);\n",
       "      });\n",
       "    });\n",
       "}else{\n",
       "    // require.js not available: dynamically load d3 & LDAvis\n",
       "    LDAvis_load_lib(\"https://cdnjs.cloudflare.com/ajax/libs/d3/3.5.5/d3.min.js\", function(){\n",
       "         LDAvis_load_lib(\"https://cdn.rawgit.com/bmabey/pyLDAvis/files/ldavis.v1.0.0.js\", function(){\n",
       "                 new LDAvis(\"#\" + \"ldavis_el172331400436895407284256299699\", ldavis_el172331400436895407284256299699_data);\n",
       "            })\n",
       "         });\n",
       "}\n",
       "</script>"
      ],
      "text/plain": [
       "PreparedData(topic_coordinates=              x         y  topics  cluster       Freq\n",
       "topic                                                \n",
       "3      0.125021 -0.021111       1        1  27.236662\n",
       "4      0.112320  0.115090       2        1  20.202738\n",
       "2     -0.006493 -0.126760       3        1  19.232437\n",
       "0     -0.033530 -0.028345       4        1  18.740173\n",
       "1     -0.197318  0.061125       5        1  14.587994, topic_info=       Term        Freq       Total Category  logprob  loglift\n",
       "173   コンテンツ   14.000000   14.000000  Default  30.0000  30.0000\n",
       "35       端末  104.000000  104.000000  Default  29.0000  29.0000\n",
       "52      アプリ   29.000000   29.000000  Default  28.0000  28.0000\n",
       "83       登録   36.000000   36.000000  Default  27.0000  27.0000\n",
       "64       配布    8.000000    8.000000  Default  26.0000  26.0000\n",
       "..      ...         ...         ...      ...      ...      ...\n",
       "69       PC    1.983391    7.288870   Topic5  -4.5966   0.6234\n",
       "175     データ    1.882687    6.503334   Topic5  -4.6487   0.6854\n",
       "57       使う    1.782331    7.314974   Topic5  -4.7035   0.5130\n",
       "27      サーバ    1.830104   17.227402   Topic5  -4.6770  -0.3172\n",
       "107  インストール    1.753463   11.435184   Topic5  -4.7198   0.0499\n",
       "\n",
       "[282 rows x 6 columns], token_table=      Topic      Freq     Term\n",
       "term                          \n",
       "10        2  0.878675       AD\n",
       "10        4  0.109834       AD\n",
       "11        2  0.725842   Active\n",
       "213       3  0.810772      Add\n",
       "38        1  0.191485  Android\n",
       "...     ...       ...      ...\n",
       "112       1  0.811683       除く\n",
       "80        1  0.811683       階層\n",
       "99        1  0.811685       項目\n",
       "9         1  0.522481       順序\n",
       "9         4  0.522481       順序\n",
       "\n",
       "[311 rows x 3 columns], R=30, lambda_step=0.01, plot_opts={'xlab': 'PC1', 'ylab': 'PC2'}, topic_order=[4, 5, 3, 1, 2])"
      ]
     },
     "execution_count": 62,
     "metadata": {},
     "output_type": "execute_result"
    }
   ],
   "source": [
    "\n",
    "\n",
    "# The number of nodes and edges to which this output is plotted.\n",
    "# If this number is too large, plotting will take a long time, so adjust the [min_edge_frequency] well.\n",
    "#>> node_size:70, edge_size:166\n",
    "\n",
    "\n",
    "# 7. pyLDAvis\n",
    "# If you want to run it in a notebook environment, you need to use the import and magic commands\n",
    "import pyLDAvis\n",
    "pyLDAvis.enable_notebook()\n",
    "npt.ldavis(num_topics=5, passes=5, save=False)"
   ]
  },
  {
   "cell_type": "code",
   "execution_count": 63,
   "metadata": {},
   "outputs": [
    {
     "ename": "ZeroDivisionError",
     "evalue": "Weights sum to zero, can't be normalized",
     "output_type": "error",
     "traceback": [
      "\u001b[0;31m---------------------------------------------------------------------------\u001b[0m",
      "\u001b[0;31mZeroDivisionError\u001b[0m                         Traceback (most recent call last)",
      "\u001b[0;32m<ipython-input-63-5b4aff576f95>\u001b[0m in \u001b[0;36m<module>\u001b[0;34m\u001b[0m\n\u001b[1;32m      1\u001b[0m \u001b[0;31m# 6. sunburst chart\u001b[0m\u001b[0;34m\u001b[0m\u001b[0;34m\u001b[0m\u001b[0;34m\u001b[0m\u001b[0m\n\u001b[0;32m----> 2\u001b[0;31m \u001b[0mnpt\u001b[0m\u001b[0;34m.\u001b[0m\u001b[0msunburst\u001b[0m\u001b[0;34m(\u001b[0m\u001b[0mtitle\u001b[0m\u001b[0;34m=\u001b[0m\u001b[0;34m'sunburst chart'\u001b[0m\u001b[0;34m,\u001b[0m \u001b[0mcolorscale\u001b[0m\u001b[0;34m=\u001b[0m\u001b[0;32mTrue\u001b[0m\u001b[0;34m)\u001b[0m\u001b[0;34m\u001b[0m\u001b[0;34m\u001b[0m\u001b[0m\n\u001b[0m",
      "\u001b[0;32m~/AI-system/visualizer/nlplot/nlplot.py\u001b[0m in \u001b[0;36msunburst\u001b[0;34m(self, title, colorscale, color_col, color_continuous_scale, width, height, save)\u001b[0m\n\u001b[1;32m    690\u001b[0m                               \u001b[0mcolor_continuous_scale\u001b[0m\u001b[0;34m=\u001b[0m\u001b[0mcolor_continuous_scale\u001b[0m\u001b[0;34m,\u001b[0m\u001b[0;34m\u001b[0m\u001b[0;34m\u001b[0m\u001b[0m\n\u001b[1;32m    691\u001b[0m                               color_continuous_midpoint=np.average(_df[color_col],\n\u001b[0;32m--> 692\u001b[0;31m                               weights=_df[color_col]))\n\u001b[0m\u001b[1;32m    693\u001b[0m \u001b[0;34m\u001b[0m\u001b[0m\n\u001b[1;32m    694\u001b[0m         fig.update_layout(\n",
      "\u001b[0;32m<__array_function__ internals>\u001b[0m in \u001b[0;36maverage\u001b[0;34m(*args, **kwargs)\u001b[0m\n",
      "\u001b[0;32m~/amiebot/experiment_env/lib/python3.6/site-packages/numpy/lib/function_base.py\u001b[0m in \u001b[0;36maverage\u001b[0;34m(a, axis, weights, returned)\u001b[0m\n\u001b[1;32m    408\u001b[0m         \u001b[0;32mif\u001b[0m \u001b[0mnp\u001b[0m\u001b[0;34m.\u001b[0m\u001b[0many\u001b[0m\u001b[0;34m(\u001b[0m\u001b[0mscl\u001b[0m \u001b[0;34m==\u001b[0m \u001b[0;36m0.0\u001b[0m\u001b[0;34m)\u001b[0m\u001b[0;34m:\u001b[0m\u001b[0;34m\u001b[0m\u001b[0;34m\u001b[0m\u001b[0m\n\u001b[1;32m    409\u001b[0m             raise ZeroDivisionError(\n\u001b[0;32m--> 410\u001b[0;31m                 \"Weights sum to zero, can't be normalized\")\n\u001b[0m\u001b[1;32m    411\u001b[0m \u001b[0;34m\u001b[0m\u001b[0m\n\u001b[1;32m    412\u001b[0m         \u001b[0mavg\u001b[0m \u001b[0;34m=\u001b[0m \u001b[0mnp\u001b[0m\u001b[0;34m.\u001b[0m\u001b[0mmultiply\u001b[0m\u001b[0;34m(\u001b[0m\u001b[0ma\u001b[0m\u001b[0;34m,\u001b[0m \u001b[0mwgt\u001b[0m\u001b[0;34m,\u001b[0m \u001b[0mdtype\u001b[0m\u001b[0;34m=\u001b[0m\u001b[0mresult_dtype\u001b[0m\u001b[0;34m)\u001b[0m\u001b[0;34m.\u001b[0m\u001b[0msum\u001b[0m\u001b[0;34m(\u001b[0m\u001b[0maxis\u001b[0m\u001b[0;34m)\u001b[0m\u001b[0;34m/\u001b[0m\u001b[0mscl\u001b[0m\u001b[0;34m\u001b[0m\u001b[0;34m\u001b[0m\u001b[0m\n",
      "\u001b[0;31mZeroDivisionError\u001b[0m: Weights sum to zero, can't be normalized"
     ]
    }
   ],
   "source": [
    "# 6. sunburst chart\n",
    "npt.sunburst(title='sunburst chart', colorscale=True)\n"
   ]
  }
 ],
 "metadata": {
  "kernelspec": {
   "display_name": "Python 3",
   "language": "python",
   "name": "python3"
  },
  "language_info": {
   "codemirror_mode": {
    "name": "ipython",
    "version": 3
   },
   "file_extension": ".py",
   "mimetype": "text/x-python",
   "name": "python",
   "nbconvert_exporter": "python",
   "pygments_lexer": "ipython3",
   "version": "3.6.9"
  }
 },
 "nbformat": 4,
 "nbformat_minor": 4
}
