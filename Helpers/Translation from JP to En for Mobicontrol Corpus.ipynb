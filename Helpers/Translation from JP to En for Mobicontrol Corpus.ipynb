{
 "cells": [
  {
   "cell_type": "code",
   "execution_count": 40,
   "metadata": {},
   "outputs": [],
   "source": [
    "import html\n",
    "from urllib.parse import quote\n",
    "import json\n",
    "import re\n",
    "import requests\n",
    "from googletrans import Translator\n"
   ]
  },
  {
   "cell_type": "code",
   "execution_count": 41,
   "metadata": {},
   "outputs": [],
   "source": [
    "import pandas as pd\n",
    "\n",
    "df = pd.read_csv(\"/home/ifte/amiebot_project/Large_files/mobicontrol_data/processed_perPage_perLine.csv\", \n",
    "                 header=0, usecols=[\"Data\", \"PageID\"])"
   ]
  },
  {
   "cell_type": "code",
   "execution_count": 45,
   "metadata": {},
   "outputs": [
    {
     "data": {
      "text/html": [
       "<div>\n",
       "<style scoped>\n",
       "    .dataframe tbody tr th:only-of-type {\n",
       "        vertical-align: middle;\n",
       "    }\n",
       "\n",
       "    .dataframe tbody tr th {\n",
       "        vertical-align: top;\n",
       "    }\n",
       "\n",
       "    .dataframe thead th {\n",
       "        text-align: right;\n",
       "    }\n",
       "</style>\n",
       "<table border=\"1\" class=\"dataframe\">\n",
       "  <thead>\n",
       "    <tr style=\"text-align: right;\">\n",
       "      <th></th>\n",
       "      <th>Data</th>\n",
       "      <th>PageID</th>\n",
       "    </tr>\n",
       "  </thead>\n",
       "  <tbody>\n",
       "    <tr>\n",
       "      <th>0</th>\n",
       "      <td>カスタマイザーからこのタイトルを設定できます。カスタマイザーからこのサブタイトルを設定できま...</td>\n",
       "      <td>0</td>\n",
       "    </tr>\n",
       "    <tr>\n",
       "      <th>1</th>\n",
       "      <td>Apple製品MobiControl v14 ManualApple製品をMobiContr...</td>\n",
       "      <td>1</td>\n",
       "    </tr>\n",
       "    <tr>\n",
       "      <th>2</th>\n",
       "      <td>Android端末MobiControl v14 ManualAndroidの設定モードA....</td>\n",
       "      <td>2</td>\n",
       "    </tr>\n",
       "    <tr>\n",
       "      <th>3</th>\n",
       "      <td>Windows PCMobiControl v14 ManualWindows PCの根本的...</td>\n",
       "      <td>3</td>\n",
       "    </tr>\n",
       "    <tr>\n",
       "      <th>4</th>\n",
       "      <td>Windows EmbeddedMobiControl v14 ManualWindows ...</td>\n",
       "      <td>4</td>\n",
       "    </tr>\n",
       "  </tbody>\n",
       "</table>\n",
       "</div>"
      ],
      "text/plain": [
       "                                                Data  PageID\n",
       "0  カスタマイザーからこのタイトルを設定できます。カスタマイザーからこのサブタイトルを設定できま...       0\n",
       "1  Apple製品MobiControl v14 ManualApple製品をMobiContr...       1\n",
       "2  Android端末MobiControl v14 ManualAndroidの設定モードA....       2\n",
       "3  Windows PCMobiControl v14 ManualWindows PCの根本的...       3\n",
       "4  Windows EmbeddedMobiControl v14 ManualWindows ...       4"
      ]
     },
     "execution_count": 45,
     "metadata": {},
     "output_type": "execute_result"
    }
   ],
   "source": [
    "df.head()\n"
   ]
  },
  {
   "cell_type": "code",
   "execution_count": null,
   "metadata": {},
   "outputs": [],
   "source": [
    "corpus_en = []\n",
    "for index, row in df.iterrows():\n",
    "    # print(row['Data'])\n",
    "    text=row['Data']\n",
    "    corpus_en.append(convert_to_eng(text))\n",
    "    \n",
    "corpus_en"
   ]
  },
  {
   "cell_type": "code",
   "execution_count": null,
   "metadata": {},
   "outputs": [],
   "source": [
    "len(corpus_en)\n",
    "''.join(corpus_en[0])\n",
    "text = ''.join([str(elem) for elem in corpus_en])\n",
    "#text = re.sub(\"\\\\\",\"\",text)\n",
    "text"
   ]
  },
  {
   "cell_type": "code",
   "execution_count": 64,
   "metadata": {},
   "outputs": [],
   "source": [
    "f = open('Translated_text_mobicontrol_JP_to_En.txt', 'w')\n",
    "f.write(text)\n",
    "f.close()"
   ]
  },
  {
   "cell_type": "code",
   "execution_count": 47,
   "metadata": {},
   "outputs": [],
   "source": [
    "def convert_to_eng(text):\n",
    "\n",
    "    translator = Translator()  # initalize the Translator object\n",
    "    translations = translator.translate(text.split('。'), dest='en')  # translate two phrases to Hindi\n",
    "    \n",
    "    temp = []\n",
    "    \n",
    "    for translation in translations:  # print every translation\n",
    "        #print(translation.text)\n",
    "        temp.append(translation.text)\n",
    "        \n",
    "    return temp\n"
   ]
  },
  {
   "cell_type": "code",
   "execution_count": 48,
   "metadata": {},
   "outputs": [
    {
     "data": {
      "text/plain": [
       "['You can set this title from customizer']"
      ]
     },
     "execution_count": 48,
     "metadata": {},
     "output_type": "execute_result"
    }
   ],
   "source": [
    "text = \"カスタマイザーからこのタイトルを設定できます\"\n",
    "\n",
    "convert_to_eng(text)"
   ]
  }
 ],
 "metadata": {
  "kernelspec": {
   "display_name": "Python 3",
   "language": "python",
   "name": "python3"
  },
  "language_info": {
   "codemirror_mode": {
    "name": "ipython",
    "version": 3
   },
   "file_extension": ".py",
   "mimetype": "text/x-python",
   "name": "python",
   "nbconvert_exporter": "python",
   "pygments_lexer": "ipython3",
   "version": "3.6.9"
  }
 },
 "nbformat": 4,
 "nbformat_minor": 2
}
