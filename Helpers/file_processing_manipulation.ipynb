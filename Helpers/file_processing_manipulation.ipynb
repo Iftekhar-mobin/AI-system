{
 "cells": [
  {
   "cell_type": "code",
   "execution_count": null,
   "metadata": {},
   "outputs": [],
   "source": [
    "import re\n",
    "file = open('conversation_ja.md').read()\n",
    "pos = 0\n",
    "match_pos = 0\n",
    "for line in file.splitlines():\n",
    "    #print(line)\n",
    "    match = re.search('##', line)\n",
    "    if match:\n",
    "        match_pos = pos + match.start() #exact pos\n",
    "        print(match_pos)\n",
    "        #print file.count('\\n', 0, match_pos) #lineno\n",
    "    #break"
   ]
  },
  {
   "cell_type": "code",
   "execution_count": 22,
   "metadata": {},
   "outputs": [
    {
     "data": {
      "text/plain": [
       "[2,\n",
       " 70,\n",
       " 102,\n",
       " 163,\n",
       " 265,\n",
       " 592,\n",
       " 632,\n",
       " 786,\n",
       " 1737,\n",
       " 2196,\n",
       " 2665,\n",
       " 3120,\n",
       " 3582,\n",
       " 3953,\n",
       " 4025,\n",
       " 4277,\n",
       " 4475,\n",
       " 4684,\n",
       " 4784,\n",
       " 4853,\n",
       " 4910,\n",
       " 4976,\n",
       " 5024,\n",
       " 5087,\n",
       " 5153,\n",
       " 5340,\n",
       " 5519]"
      ]
     },
     "execution_count": 22,
     "metadata": {},
     "output_type": "execute_result"
    }
   ],
   "source": [
    "import re\n",
    "fh = open('conversation_ja.md', 'rb' )\n",
    "data = str(fh.read())\n",
    "fh.close()\n",
    "[m.start() for m in re.finditer('##', str(data))]"
   ]
  }
 ],
 "metadata": {
  "kernelspec": {
   "display_name": "Python 3",
   "language": "python",
   "name": "python3"
  },
  "language_info": {
   "codemirror_mode": {
    "name": "ipython",
    "version": 3
   },
   "file_extension": ".py",
   "mimetype": "text/x-python",
   "name": "python",
   "nbconvert_exporter": "python",
   "pygments_lexer": "ipython3",
   "version": "3.6.9"
  }
 },
 "nbformat": 4,
 "nbformat_minor": 4
}
