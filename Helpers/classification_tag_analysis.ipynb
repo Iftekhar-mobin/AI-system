{
 "cells": [
  {
   "cell_type": "code",
   "execution_count": 11,
   "metadata": {},
   "outputs": [],
   "source": [
    "import re\n",
    "import pandas as pd\n",
    "import requests \n",
    "import json"
   ]
  },
  {
   "cell_type": "markdown",
   "metadata": {},
   "source": [
    "### Starting of classification Tag evaluation API"
   ]
  },
  {
   "cell_type": "code",
   "execution_count": 12,
   "metadata": {},
   "outputs": [],
   "source": [
    "# raw_corpus = pd.read_csv('/home/ifte/resource/docomo_dic/data/corpus.csv')\n",
    "# raw_corpus = pd.read_csv('/home/iftekhar/docomodezwhu/5495/data/corpus.csv')\n",
    "raw_corpus = pd.read_csv('/home/hduser_/Downloads/1810/data/corpus.csv')"
   ]
  },
  {
   "cell_type": "code",
   "execution_count": null,
   "metadata": {},
   "outputs": [],
   "source": []
  },
  {
   "cell_type": "markdown",
   "metadata": {},
   "source": [
    "### Converter DocID => URLs"
   ]
  },
  {
   "cell_type": "code",
   "execution_count": 4,
   "metadata": {},
   "outputs": [],
   "source": [
    "# defining the api-endpoint  \n",
    "API_ENDPOINT = \"http://127.0.0.1:5000/api/v1.0/predict/\"\n",
    "headers = {'Content-type': 'application/json', 'Accept': 'text/plain'}\n",
    "result = []\n",
    "data = {\n",
    "# \"output_dir\": \"/home/ifte/resource/docomo_dic/model\", \n",
    "# \"output_dir\": \"/home/iftekhar/docomodezwhu/model\", \n",
    "\"output_dir\": \"/home/hduser_/Downloads/1810/model/\",    \n",
    "\"agent_id\": -1, \n",
    "\"query\": \"メールサービスの利用にあたっての注意点を教えてください。\",\n",
    "\"classification\": \"dトラベル\",\n",
    "\"max_answer\": 5, \n",
    "# \"data_dir\": \"/home/ifte/resource/docomo_dic/data\", \n",
    "\"data_dir\": \"/home/hduser_/Downloads/1810/data\", \n",
    "\"keyphrase_extraction\": 0\n",
    "}\n",
    "\n",
    "r = requests.post(url = API_ENDPOINT, data=json.dumps(data), headers = headers) \n",
    "\n"
   ]
  },
  {
   "cell_type": "code",
   "execution_count": 5,
   "metadata": {},
   "outputs": [
    {
     "name": "stdout",
     "output_type": "stream",
     "text": [
      "https://travel.dmkt-sp.jp/faq/106/ 941\n",
      "https://travel.dmkt-sp.jp/faq/176/ 924\n",
      "https://travel.dmkt-sp.jp/faq/21/ 763\n",
      "https://travel.dmkt-sp.jp/faq/82/ 1080\n",
      "https://travel.dmkt-sp.jp/faq/82 1020\n"
     ]
    }
   ],
   "source": [
    "# json.loads(r.text)\n",
    "for i in json.loads(r.text)['page_relevance']:\n",
    "    print(list(set(raw_corpus[raw_corpus['page'] == i['doc_id']].url.values))[0], i['doc_id'])\n",
    "\n",
    "\n",
    "list(set(raw_corpus[raw_corpus['page'] == 760].url.values))[0]\n"
   ]
  },
  {
   "cell_type": "code",
   "execution_count": 52,
   "metadata": {},
   "outputs": [
    {
     "data": {
      "text/plain": [
       "'宿泊代金の支払方法について教えてください。 宿泊代金の支払方法について教えてください。|よくあるご質問 Q.宿泊代金の支払方法について教えてください。 A. 商品によって異なります。以下をご確認ください。 【宿提供マークのついているプラン】 宿泊当日に宿泊施設現地でお支払いください。 現金以外のお支払い方法の可否については宿泊施設へお問い合わせください。 ※各施設で利用できるクレジットカードについては各施設の「宿・ホテル詳細」をご覧下さい。 【手配マークのついているプラン】／【エースJTBマークのついているプラン】／【サン＆サンマークのついているプラン】 ドコモ払い、dカード払い、クレジットカード払いをご利用いただけます。 ※ｄトラベルでは海外発行のクレジットカードのご利用はできません。あらかじめご了承ください。 ※iD、d払いはご利用いただけません。 キーワード検索 お困りの内容 (c)NTT DOCOMO, INC. All Rights Reserved.'"
      ]
     },
     "execution_count": 52,
     "metadata": {},
     "output_type": "execute_result"
    }
   ],
   "source": [
    "' '.join(raw_corpus[raw_corpus['page'] == 760].text.values)"
   ]
  },
  {
   "cell_type": "code",
   "execution_count": 13,
   "metadata": {},
   "outputs": [],
   "source": [
    "def mean_reciprocal_rank_score(actual_value, predicted_values):\n",
    "    if not actual_value:\n",
    "        return 0\n",
    "    pos = 0\n",
    "    val = 0\n",
    "    for i in predicted_values:\n",
    "        if i == actual_value and pos == 0:\n",
    "            val = 1\n",
    "            break\n",
    "        elif i == actual_value and pos == 1:\n",
    "            val = 0.5\n",
    "            break\n",
    "        elif i == actual_value and pos == 2:\n",
    "            val = 0.33\n",
    "            break\n",
    "        else:\n",
    "            val = 0\n",
    "        pos += 1\n",
    "\n",
    "    return val\n",
    "\n",
    "def cut_string(text):\n",
    "    try:\n",
    "        # print(text[:text.index(\"?\")])\n",
    "        return text[:text.index(\"?\")]\n",
    "    except (ValueError, AttributeError):\n",
    "        # print(text)\n",
    "        return text"
   ]
  },
  {
   "cell_type": "code",
   "execution_count": 14,
   "metadata": {},
   "outputs": [],
   "source": [
    "# test_data = '/home/iftekhar/Documents/test_data_docomo_07.12.2020_red.csv'\n",
    "# test_data = '/home/iftekhar/Documents/test_data_docomo_07.12.2020.csv'\n",
    "# test_data = '/home/ifte/Documents/test_data_docomo_nai_form.csv'\n",
    "# test_data = '/home/ifte/Documents/test_data_few_exceptional.csv'\n",
    "# test_data = '/home/iftekhar/Documents/test_data_docomo_21.12.2020.csv'\n",
    "# test_data = '/home/hduser_/Downloads/test_data_latest_Docomo_OOC240_successful.csv'\n",
    "# test_data = '/home/hduser_/Downloads/test_data_latest_Docomo_OOC240_unsuccessful.csv'\n",
    "test_data = '/home/hduser_/Downloads/test_data_latest_Docomo_OOC240_successful_headline_check.csv'\n",
    "test_df = pd.read_csv(test_data)"
   ]
  },
  {
   "cell_type": "code",
   "execution_count": 15,
   "metadata": {},
   "outputs": [],
   "source": [
    "test_df.rename(columns={'correct_url': 'url'}, inplace=True)\n",
    "\n",
    "test_df.url = test_df.url.apply(lambda x: cut_string(x))"
   ]
  },
  {
   "cell_type": "code",
   "execution_count": null,
   "metadata": {},
   "outputs": [
    {
     "name": "stdout",
     "output_type": "stream",
     "text": [
      "Request count: 1\n",
      "Request count: 2\n"
     ]
    }
   ],
   "source": [
    "# defining the api-endpoint  \n",
    "API_ENDPOINT = \"http://127.0.0.1:5000/api/v1.0/predict/\"\n",
    "headers = {'Content-type': 'application/json', 'Accept': 'text/plain'}\n",
    "result = []\n",
    "i = 1\n",
    "for index, col in test_df.iterrows():\n",
    "    # data to be sent to api \n",
    "#     data = {'output_dir':'/home/ifte/resource/docomo_dic/model', \n",
    "#             'data_dir':'/home/ifte/resource/docomo_dic/data', \n",
    "#             'agent_id':-1, \n",
    "#             'query':col['question'],\n",
    "#             'classification': col['tag'],\n",
    "#             'max_answer':5\n",
    "#            } \n",
    "\n",
    "#     data = {'output_dir':'/home/iftekhar/docomodezwhu/5495/model', \n",
    "#             'data_dir':'/home/iftekhar/docomodezwhu/5495/data', \n",
    "#             'agent_id':-1, \n",
    "#             'query':col['question'],\n",
    "#             'classification': col['tag'],\n",
    "#             'max_answer':5\n",
    "#            } \n",
    "    \n",
    "    data = {'output_dir':'/home/hduser_/Downloads/1810/model', \n",
    "        'data_dir':'/home/hduser_/Downloads/1810/data', \n",
    "        'agent_id':-1, \n",
    "        'query':col['question'],\n",
    "        'classification': col['tag'],\n",
    "        'max_answer':5\n",
    "       } \n",
    "    \n",
    "    r = requests.post(url = API_ENDPOINT, data=json.dumps(data), headers = headers)\n",
    "    print('Request count:', i)\n",
    "    i += 1\n",
    "    result.append(r.text)\n",
    "    "
   ]
  },
  {
   "cell_type": "code",
   "execution_count": null,
   "metadata": {},
   "outputs": [],
   "source": [
    "result[46]"
   ]
  },
  {
   "cell_type": "code",
   "execution_count": 7,
   "metadata": {},
   "outputs": [],
   "source": [
    "from collections import defaultdict\n",
    "saver = defaultdict(list)\n",
    "\n",
    "j = 0\n",
    "for items in result:\n",
    "    if 'Error: Failed' not in items or 'Error: Response' not in items:\n",
    "        val = json.loads(items)['page_relevance']\n",
    "        for i in val:\n",
    "            saver[j].append(list(set(raw_corpus[raw_corpus['page'] == i['doc_id']].url.values))[0])\n",
    "            saver[str(str(j)+'doc_id')].append(i['doc_id'])\n",
    "#         print('page: ', j)\n",
    "    j += 1\n",
    "        "
   ]
  },
  {
   "cell_type": "code",
   "execution_count": 8,
   "metadata": {},
   "outputs": [],
   "source": [
    "collector = defaultdict(list)\n",
    "i = 0\n",
    "\n",
    "for index, col in test_df.iterrows():\n",
    "    collector['question'].append(col['question'])\n",
    "    collector['tag'].append(col['tag'])\n",
    "    collector['correct_url'].append(col['url'])\n",
    "    collector_correct = []\n",
    "    try:\n",
    "        collector_correct = list(set(raw_corpus[raw_corpus['url'] == col['url']].page.values))[0]\n",
    "    except IndexError:\n",
    "        continue\n",
    "        pass\n",
    "    collector['correct_id'].append(collector_correct)\n",
    "    collector['returned_id'].append(saver[str(str(i)+'doc_id')])\n",
    "    score = mean_reciprocal_rank_score(collector_correct, saver[str(str(i)+'doc_id')])\n",
    "    if score:\n",
    "        collector['mrr_score'].append(score)\n",
    "    else:\n",
    "        try:\n",
    "            url_loc = saver[i].index(col['url'])\n",
    "            if url_loc == 1:\n",
    "                collector['mrr_score'].append(0.5)\n",
    "            elif url_loc == 2:\n",
    "                collector['mrr_score'].append(0.33)\n",
    "            elif url_loc == 0:\n",
    "                collector['mrr_score'].append(1)\n",
    "            elif url_loc >= 3:\n",
    "                collector['mrr_score'].append('LOW_RANK')\n",
    "    \n",
    "        except ValueError:\n",
    "            collector['mrr_score'].append('NOT_MATCHED')\n",
    "            pass\n",
    "\n",
    "    collector['urls'].append(saver[i])\n",
    "#         print('ok ', i)\n",
    "    i += 1\n",
    "\n",
    "    "
   ]
  },
  {
   "cell_type": "code",
   "execution_count": 9,
   "metadata": {},
   "outputs": [],
   "source": [
    "new_df = pd.DataFrame.from_dict(collector, orient='index').T\n",
    "\n",
    "# new_df.to_csv('nai_form_with_classification_tag_23.12.2020.csv')\n",
    "\n",
    "new_df.to_csv('/home/iftekhar/Downloads/test_data_latest_Docomo_OOC240_result_BMreplace_fasttext_model_300.csv')"
   ]
  },
  {
   "cell_type": "code",
   "execution_count": null,
   "metadata": {},
   "outputs": [],
   "source": []
  }
 ],
 "metadata": {
  "kernelspec": {
   "display_name": "Python 3",
   "language": "python",
   "name": "python3"
  },
  "language_info": {
   "codemirror_mode": {
    "name": "ipython",
    "version": 3
   },
   "file_extension": ".py",
   "mimetype": "text/x-python",
   "name": "python",
   "nbconvert_exporter": "python",
   "pygments_lexer": "ipython3",
   "version": "3.6.9"
  }
 },
 "nbformat": 4,
 "nbformat_minor": 4
}
