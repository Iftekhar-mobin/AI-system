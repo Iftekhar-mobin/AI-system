{
 "cells": [
  {
   "cell_type": "code",
   "execution_count": 1,
   "metadata": {},
   "outputs": [],
   "source": [
    "import re\n",
    "import pandas as pd\n",
    "import requests \n",
    "import json"
   ]
  },
  {
   "cell_type": "markdown",
   "metadata": {},
   "source": [
    "### Starting of classification Tag evaluation API"
   ]
  },
  {
   "cell_type": "code",
   "execution_count": 16,
   "metadata": {},
   "outputs": [],
   "source": [
    "merged_corpus = pd.read_csv('/home/ifte/resource/docomo_dic/data/merged_corpus.csv')"
   ]
  },
  {
   "cell_type": "code",
   "execution_count": 18,
   "metadata": {},
   "outputs": [
    {
     "data": {
      "text/plain": [
       "'BMWのレンタカー利用時に事故や車両の故障・不具合が発生した場合はどこに連絡すればいいですか？ | よくあるご質問| カーシェアならdカーシェア | ドコモのカーシェアリングサービス'"
      ]
     },
     "execution_count": 18,
     "metadata": {},
     "output_type": "execute_result"
    }
   ],
   "source": [
    "merged_corpus.iloc[519].title"
   ]
  },
  {
   "cell_type": "code",
   "execution_count": 2,
   "metadata": {},
   "outputs": [],
   "source": [
    "# raw_corpus = pd.read_csv('/home/ifte/resource/docomo_dic/data/corpus.csv')\n",
    "raw_corpus = pd.read_csv('/home/iftekhar/docomodezwhu/5495/data/corpus.csv')"
   ]
  },
  {
   "cell_type": "markdown",
   "metadata": {},
   "source": [
    "### Converter DocID => URLs"
   ]
  },
  {
   "cell_type": "code",
   "execution_count": 18,
   "metadata": {},
   "outputs": [],
   "source": [
    "# defining the api-endpoint  \n",
    "API_ENDPOINT = \"http://127.0.0.1:5000/api/v1.0/predict/\"\n",
    "headers = {'Content-type': 'application/json', 'Accept': 'text/plain'}\n",
    "result = []\n",
    "data = {\n",
    "# \"output_dir\": \"/home/ifte/resource/docomo_dic/model\", \n",
    "\"output_dir\": \"/home/iftekhar/docomodezwhu/model\", \n",
    "\"agent_id\": -1, \n",
    "\"query\": \"メールサービスの利用にあたっての注意点を教えてください。\",\n",
    "\"classification\": \"dトラベル\",\n",
    "\"max_answer\": 5, \n",
    "# \"data_dir\": \"/home/ifte/resource/docomo_dic/data\", \n",
    "\"data_dir\": \"/home/iftekhar/docomodezwhu/data\", \n",
    "\"keyphrase_extraction\": 0\n",
    "}\n",
    "\n",
    "r = requests.post(url = API_ENDPOINT, data=json.dumps(data), headers = headers) \n",
    "\n"
   ]
  },
  {
   "cell_type": "code",
   "execution_count": 19,
   "metadata": {},
   "outputs": [
    {
     "name": "stdout",
     "output_type": "stream",
     "text": [
      "https://travel.dmkt-sp.jp/faq/176/ 337\n",
      "https://travel.dmkt-sp.jp/faq/106/ 323\n",
      "https://travel.dmkt-sp.jp/faq/21/ 129\n",
      "https://travel.dmkt-sp.jp/faq/82 396\n",
      "https://travel.dmkt-sp.jp/campaign/point_car 221\n"
     ]
    }
   ],
   "source": [
    "# json.loads(r.text)\n",
    "for i in json.loads(r.text)['page_relevance']:\n",
    "    print(list(set(raw_corpus[raw_corpus['page'] == i['doc_id']].url.values))[0], i['doc_id'])\n"
   ]
  },
  {
   "cell_type": "code",
   "execution_count": 17,
   "metadata": {},
   "outputs": [
    {
     "name": "stdout",
     "output_type": "stream",
     "text": [
      "https://travel.dmkt-sp.jp/faq/176/ 337\n",
      "https://travel.dmkt-sp.jp/faq/106/ 323\n",
      "https://travel.dmkt-sp.jp/faq/21/ 129\n",
      "https://travel.dmkt-sp.jp/faq/82 396\n",
      "https://travel.dmkt-sp.jp/campaign/point_car 221\n"
     ]
    }
   ],
   "source": [
    "# json.loads(r.text)\n",
    "for i in json.loads(r.text)['page_relevance']:\n",
    "    print(list(set(raw_corpus[raw_corpus['page'] == i['doc_id']].url.values))[0], i['doc_id'])\n",
    "\n",
    "    "
   ]
  },
  {
   "cell_type": "code",
   "execution_count": 40,
   "metadata": {},
   "outputs": [
    {
     "data": {
      "text/plain": [
       "'https://travel.dmkt-sp.jp/faq/3/'"
      ]
     },
     "execution_count": 40,
     "metadata": {},
     "output_type": "execute_result"
    }
   ],
   "source": [
    "list(set(raw_corpus[raw_corpus['page'] == 760].url.values))[0]\n"
   ]
  },
  {
   "cell_type": "code",
   "execution_count": 52,
   "metadata": {},
   "outputs": [
    {
     "data": {
      "text/plain": [
       "'宿泊代金の支払方法について教えてください。 宿泊代金の支払方法について教えてください。|よくあるご質問 Q.宿泊代金の支払方法について教えてください。 A. 商品によって異なります。以下をご確認ください。 【宿提供マークのついているプラン】 宿泊当日に宿泊施設現地でお支払いください。 現金以外のお支払い方法の可否については宿泊施設へお問い合わせください。 ※各施設で利用できるクレジットカードについては各施設の「宿・ホテル詳細」をご覧下さい。 【手配マークのついているプラン】／【エースJTBマークのついているプラン】／【サン＆サンマークのついているプラン】 ドコモ払い、dカード払い、クレジットカード払いをご利用いただけます。 ※ｄトラベルでは海外発行のクレジットカードのご利用はできません。あらかじめご了承ください。 ※iD、d払いはご利用いただけません。 キーワード検索 お困りの内容 (c)NTT DOCOMO, INC. All Rights Reserved.'"
      ]
     },
     "execution_count": 52,
     "metadata": {},
     "output_type": "execute_result"
    }
   ],
   "source": [
    "' '.join(raw_corpus[raw_corpus['page'] == 760].text.values)"
   ]
  },
  {
   "cell_type": "code",
   "execution_count": 44,
   "metadata": {},
   "outputs": [],
   "source": [
    "with open('/home/iftekhar/docomodezwhu/data/processed_texts.txt') as f:\n",
    "    data = f.readlines()"
   ]
  },
  {
   "cell_type": "code",
   "execution_count": 51,
   "metadata": {},
   "outputs": [
    {
     "data": {
      "text/plain": [
       "'ある ご 質問 検索 結果 ある ご 質問 ドコモ dトラベル 宿泊代金 支払 方法 教える 宿泊代金 支払 方法 教える ある ご 質問 q 宿泊 料金 支払 方法 教える 商品 異なる ご 確認 くださる 旅館 提供 マーク つく プラン 宿泊 当日 宿泊施設 現地 お 支払い くださる 金 お 支払い 方法 可否 宿泊施設 お 問い合わせ 各 施設 利用 できる クレジットカード 各 施設 旅館 ホテル 詳細 ご覧 下さる 手配 マーク つく プラン エース jtb マーク つく プラン サン サンマーク つく プラン ドコモ 払う d カード払い クレジットカード 払い ご 利用 いただける dトラベル 外国 発行 クレジットカード ご 利用 できる ご 了承 id d払い ご 利用 いただける\\n'"
      ]
     },
     "execution_count": 51,
     "metadata": {},
     "output_type": "execute_result"
    }
   ],
   "source": [
    "data[759]"
   ]
  },
  {
   "cell_type": "code",
   "execution_count": 3,
   "metadata": {},
   "outputs": [],
   "source": [
    "def mean_reciprocal_rank_score(actual_value, predicted_values):\n",
    "    if not actual_value:\n",
    "        return 0\n",
    "    pos = 0\n",
    "    val = 0\n",
    "    for i in predicted_values:\n",
    "        if i == actual_value and pos == 0:\n",
    "            val = 1\n",
    "            break\n",
    "        elif i == actual_value and pos == 1:\n",
    "            val = 0.5\n",
    "            break\n",
    "        elif i == actual_value and pos == 2:\n",
    "            val = 0.33\n",
    "            break\n",
    "        else:\n",
    "            val = 0\n",
    "        pos += 1\n",
    "\n",
    "    return val\n",
    "\n",
    "def cut_string(text):\n",
    "    try:\n",
    "        # print(text[:text.index(\"?\")])\n",
    "        return text[:text.index(\"?\")]\n",
    "    except ValueError:\n",
    "        # print(text)\n",
    "        return text"
   ]
  },
  {
   "cell_type": "code",
   "execution_count": 4,
   "metadata": {},
   "outputs": [],
   "source": [
    "# test_data = '/home/iftekhar/Documents/test_data_docomo_07.12.2020_red.csv'\n",
    "# test_data = '/home/iftekhar/Documents/test_data_docomo_07.12.2020.csv'\n",
    "# test_data = '/home/ifte/Documents/test_data_docomo_except.csv'\n",
    "# test_data = '/home/ifte/Documents/test_data_few_exceptional.csv'\n",
    "test_data = '/home/iftekhar/Documents/test_data_docomo_21.12.2020.csv'\n",
    "test_df = pd.read_csv(test_data)"
   ]
  },
  {
   "cell_type": "code",
   "execution_count": 5,
   "metadata": {},
   "outputs": [],
   "source": [
    "test_df.rename(columns={'correct_url': 'url'}, inplace=True)"
   ]
  },
  {
   "cell_type": "code",
   "execution_count": 6,
   "metadata": {},
   "outputs": [],
   "source": [
    "test_df.url = test_df.url.apply(lambda x: cut_string(x))"
   ]
  },
  {
   "cell_type": "code",
   "execution_count": null,
   "metadata": {},
   "outputs": [],
   "source": [
    "test_df.url"
   ]
  },
  {
   "cell_type": "code",
   "execution_count": null,
   "metadata": {},
   "outputs": [],
   "source": [
    "# defining the api-endpoint  \n",
    "API_ENDPOINT = \"http://127.0.0.1:5000/api/v1.0/predict/\"\n",
    "headers = {'Content-type': 'application/json', 'Accept': 'text/plain'}\n",
    "result = []\n",
    "i = 1\n",
    "for index, col in test_df.iterrows():\n",
    "    # data to be sent to api \n",
    "#     data = {'output_dir':'/home/ifte/resource/docomo_dic/model', \n",
    "#             'data_dir':'/home/ifte/resource/docomo_dic/data', \n",
    "#             'agent_id':-1, \n",
    "#             'query':col['question'],\n",
    "#             'classification': col['tag'],\n",
    "#             'max_answer':5\n",
    "#            } \n",
    "\n",
    "    data = {'output_dir':'/home/iftekhar/docomodezwhu/5495/model', \n",
    "            'data_dir':'/home/iftekhar/docomodezwhu/5495/data', \n",
    "            'agent_id':-1, \n",
    "            'query':col['question'],\n",
    "            'classification': col['tag'],\n",
    "            'max_answer':5\n",
    "           } \n",
    "    \n",
    "    r = requests.post(url = API_ENDPOINT, data=json.dumps(data), headers = headers)\n",
    "    print('Request count:', i)\n",
    "    i += 1\n",
    "    result.append(r.text)\n",
    "    "
   ]
  },
  {
   "cell_type": "code",
   "execution_count": 9,
   "metadata": {},
   "outputs": [],
   "source": [
    "from collections import defaultdict\n",
    "saver = defaultdict(list)\n",
    "\n",
    "j = 0\n",
    "for items in result:\n",
    "    for i in json.loads(items)['page_relevance']:\n",
    "        saver[j].append(list(set(raw_corpus[raw_corpus['page'] == i['doc_id']].url.values))[0])\n",
    "        saver[str(str(j)+'doc_id')].append(i['doc_id'])\n",
    "    j += 1\n",
    "        "
   ]
  },
  {
   "cell_type": "code",
   "execution_count": null,
   "metadata": {},
   "outputs": [],
   "source": [
    "saver"
   ]
  },
  {
   "cell_type": "code",
   "execution_count": 10,
   "metadata": {},
   "outputs": [],
   "source": [
    "collector = defaultdict(list)\n",
    "i = 0\n",
    "\n",
    "for index, col in test_df.iterrows():\n",
    "    collector['question'].append(col['question'])\n",
    "    collector['tag'].append(col['tag'])\n",
    "    collector['correct_url'].append(col['url'])\n",
    "    collector_correct = []\n",
    "    try:\n",
    "        collector_correct = list(set(raw_corpus[raw_corpus['url'] == col['url']].page.values))[0]\n",
    "    except IndexError:\n",
    "        continue\n",
    "        pass\n",
    "    collector['correct_id'].append(collector_correct)\n",
    "    collector['returned_id'].append(saver[str(str(i)+'doc_id')])\n",
    "    score = mean_reciprocal_rank_score(collector_correct, saver[str(str(i)+'doc_id')])\n",
    "    if score:\n",
    "        collector['mrr_score'].append(score)\n",
    "    else:\n",
    "        try:\n",
    "            url_loc = saver[i].index(col['url'])\n",
    "            if url_loc == 1:\n",
    "                collector['mrr_score'].append(0.5)\n",
    "            elif url_loc == 2:\n",
    "                collector['mrr_score'].append(0.33)\n",
    "            elif url_loc == 0:\n",
    "                collector['mrr_score'].append(1)\n",
    "            elif url_loc >= 3:\n",
    "                collector['mrr_score'].append('LOW_RANK')\n",
    "    \n",
    "        except ValueError:\n",
    "            collector['mrr_score'].append('NOT_MATCHED')\n",
    "            pass\n",
    "\n",
    "    collector['urls'].append(saver[i])\n",
    "#         print('ok ', i)\n",
    "    i += 1\n",
    "\n",
    "    "
   ]
  },
  {
   "cell_type": "code",
   "execution_count": 11,
   "metadata": {},
   "outputs": [
    {
     "data": {
      "text/plain": [
       "dict_keys(['question', 'tag', 'correct_url', 'correct_id', 'returned_id', 'mrr_score', 'urls'])"
      ]
     },
     "execution_count": 11,
     "metadata": {},
     "output_type": "execute_result"
    }
   ],
   "source": [
    "collector.keys()"
   ]
  },
  {
   "cell_type": "code",
   "execution_count": 11,
   "metadata": {},
   "outputs": [],
   "source": [
    "new_df = pd.DataFrame.from_dict(collector, orient='index').T"
   ]
  },
  {
   "cell_type": "code",
   "execution_count": 12,
   "metadata": {},
   "outputs": [
    {
     "data": {
      "text/html": [
       "<div>\n",
       "<style scoped>\n",
       "    .dataframe tbody tr th:only-of-type {\n",
       "        vertical-align: middle;\n",
       "    }\n",
       "\n",
       "    .dataframe tbody tr th {\n",
       "        vertical-align: top;\n",
       "    }\n",
       "\n",
       "    .dataframe thead th {\n",
       "        text-align: right;\n",
       "    }\n",
       "</style>\n",
       "<table border=\"1\" class=\"dataframe\">\n",
       "  <thead>\n",
       "    <tr style=\"text-align: right;\">\n",
       "      <th></th>\n",
       "      <th>question</th>\n",
       "      <th>tag</th>\n",
       "      <th>correct_url</th>\n",
       "      <th>correct_id</th>\n",
       "      <th>returned_id</th>\n",
       "      <th>mrr_score</th>\n",
       "      <th>urls</th>\n",
       "    </tr>\n",
       "  </thead>\n",
       "  <tbody>\n",
       "    <tr>\n",
       "      <th>0</th>\n",
       "      <td>宿泊代金の支払方法について教えてください。</td>\n",
       "      <td>dトラベル</td>\n",
       "      <td>https://travel.dmkt-sp.jp/faq/3/</td>\n",
       "      <td>93</td>\n",
       "      <td>[93, 325, 102, 262, 120]</td>\n",
       "      <td>1</td>\n",
       "      <td>[https://travel.dmkt-sp.jp/faq/3/, https://tra...</td>\n",
       "    </tr>\n",
       "    <tr>\n",
       "      <th>1</th>\n",
       "      <td>セキュリティコードについて教えてください。</td>\n",
       "      <td>dトラベル</td>\n",
       "      <td>https://travel.dmkt-sp.jp/faq/4/</td>\n",
       "      <td>99</td>\n",
       "      <td>[99, 172, 108, 176, 165]</td>\n",
       "      <td>1</td>\n",
       "      <td>[https://travel.dmkt-sp.jp/faq/4/, https://tra...</td>\n",
       "    </tr>\n",
       "    <tr>\n",
       "      <th>2</th>\n",
       "      <td>カード情報の保存について教えてください。</td>\n",
       "      <td>dトラベル</td>\n",
       "      <td>https://travel.dmkt-sp.jp/faq/5/</td>\n",
       "      <td>101</td>\n",
       "      <td>[101, 132, 138, 325, 96]</td>\n",
       "      <td>1</td>\n",
       "      <td>[https://travel.dmkt-sp.jp/faq/5/, https://tra...</td>\n",
       "    </tr>\n",
       "    <tr>\n",
       "      <th>3</th>\n",
       "      <td>3Dセキュアについて教えてください。</td>\n",
       "      <td>dトラベル</td>\n",
       "      <td>https://travel.dmkt-sp.jp/faq/6/</td>\n",
       "      <td>79</td>\n",
       "      <td>[172, 108, 176, 165, 141]</td>\n",
       "      <td>NOT_MATCHED</td>\n",
       "      <td>[https://travel.dmkt-sp.jp/faq/100/, https://t...</td>\n",
       "    </tr>\n",
       "    <tr>\n",
       "      <th>4</th>\n",
       "      <td>3Dセキュアの登録方法を教えてください。</td>\n",
       "      <td>dトラベル</td>\n",
       "      <td>https://travel.dmkt-sp.jp/faq/7/</td>\n",
       "      <td>132</td>\n",
       "      <td>[132, 172, 108, 176, 165]</td>\n",
       "      <td>1</td>\n",
       "      <td>[https://travel.dmkt-sp.jp/faq/7/, https://tra...</td>\n",
       "    </tr>\n",
       "    <tr>\n",
       "      <th>5</th>\n",
       "      <td>3Dセキュアの登録・利用は無料ですか。</td>\n",
       "      <td>dトラベル</td>\n",
       "      <td>https://travel.dmkt-sp.jp/faq/8/</td>\n",
       "      <td>319</td>\n",
       "      <td>[319, 79, 3, 139, 253]</td>\n",
       "      <td>1</td>\n",
       "      <td>[https://travel.dmkt-sp.jp/faq/8/, https://tra...</td>\n",
       "    </tr>\n",
       "    <tr>\n",
       "      <th>6</th>\n",
       "      <td>ポイントの獲得タイミングについて教えてください。（国内宿泊）</td>\n",
       "      <td>dトラベル</td>\n",
       "      <td>https://travel.dmkt-sp.jp/faq/11/</td>\n",
       "      <td>143</td>\n",
       "      <td>[143, 120, 363, 81, 362]</td>\n",
       "      <td>1</td>\n",
       "      <td>[https://travel.dmkt-sp.jp/faq/11/, https://tr...</td>\n",
       "    </tr>\n",
       "    <tr>\n",
       "      <th>7</th>\n",
       "      <td>ポイントの獲得について教えてください。（国内宿泊）</td>\n",
       "      <td>dトラベル</td>\n",
       "      <td>https://travel.dmkt-sp.jp/faq/12/</td>\n",
       "      <td>120</td>\n",
       "      <td>[143, 120, 81, 363, 352]</td>\n",
       "      <td>0.5</td>\n",
       "      <td>[https://travel.dmkt-sp.jp/faq/11/, https://tr...</td>\n",
       "    </tr>\n",
       "    <tr>\n",
       "      <th>8</th>\n",
       "      <td>ポイントでの支払いについて教えてください。（国内宿泊）</td>\n",
       "      <td>dトラベル</td>\n",
       "      <td>https://travel.dmkt-sp.jp/faq/13/</td>\n",
       "      <td>81</td>\n",
       "      <td>[81, 120, 143, 361, 325]</td>\n",
       "      <td>1</td>\n",
       "      <td>[https://travel.dmkt-sp.jp/faq/13/, https://tr...</td>\n",
       "    </tr>\n",
       "    <tr>\n",
       "      <th>9</th>\n",
       "      <td>ポイントが利用できません。</td>\n",
       "      <td>dトラベル</td>\n",
       "      <td>https://travel.dmkt-sp.jp/faq/14/</td>\n",
       "      <td>139</td>\n",
       "      <td>[326, 311, 124, 139, 328]</td>\n",
       "      <td>LOW_RANK</td>\n",
       "      <td>[https://travel.dmkt-sp.jp/faq/53/, https://tr...</td>\n",
       "    </tr>\n",
       "  </tbody>\n",
       "</table>\n",
       "</div>"
      ],
      "text/plain": [
       "                         question    tag                        correct_url  \\\n",
       "0           宿泊代金の支払方法について教えてください。  dトラベル   https://travel.dmkt-sp.jp/faq/3/   \n",
       "1           セキュリティコードについて教えてください。  dトラベル   https://travel.dmkt-sp.jp/faq/4/   \n",
       "2            カード情報の保存について教えてください。  dトラベル   https://travel.dmkt-sp.jp/faq/5/   \n",
       "3              3Dセキュアについて教えてください。  dトラベル   https://travel.dmkt-sp.jp/faq/6/   \n",
       "4            3Dセキュアの登録方法を教えてください。  dトラベル   https://travel.dmkt-sp.jp/faq/7/   \n",
       "5             3Dセキュアの登録・利用は無料ですか。  dトラベル   https://travel.dmkt-sp.jp/faq/8/   \n",
       "6  ポイントの獲得タイミングについて教えてください。（国内宿泊）  dトラベル  https://travel.dmkt-sp.jp/faq/11/   \n",
       "7       ポイントの獲得について教えてください。（国内宿泊）  dトラベル  https://travel.dmkt-sp.jp/faq/12/   \n",
       "8     ポイントでの支払いについて教えてください。（国内宿泊）  dトラベル  https://travel.dmkt-sp.jp/faq/13/   \n",
       "9                   ポイントが利用できません。  dトラベル  https://travel.dmkt-sp.jp/faq/14/   \n",
       "\n",
       "  correct_id                returned_id    mrr_score  \\\n",
       "0         93   [93, 325, 102, 262, 120]            1   \n",
       "1         99   [99, 172, 108, 176, 165]            1   \n",
       "2        101   [101, 132, 138, 325, 96]            1   \n",
       "3         79  [172, 108, 176, 165, 141]  NOT_MATCHED   \n",
       "4        132  [132, 172, 108, 176, 165]            1   \n",
       "5        319     [319, 79, 3, 139, 253]            1   \n",
       "6        143   [143, 120, 363, 81, 362]            1   \n",
       "7        120   [143, 120, 81, 363, 352]          0.5   \n",
       "8         81   [81, 120, 143, 361, 325]            1   \n",
       "9        139  [326, 311, 124, 139, 328]     LOW_RANK   \n",
       "\n",
       "                                                urls  \n",
       "0  [https://travel.dmkt-sp.jp/faq/3/, https://tra...  \n",
       "1  [https://travel.dmkt-sp.jp/faq/4/, https://tra...  \n",
       "2  [https://travel.dmkt-sp.jp/faq/5/, https://tra...  \n",
       "3  [https://travel.dmkt-sp.jp/faq/100/, https://t...  \n",
       "4  [https://travel.dmkt-sp.jp/faq/7/, https://tra...  \n",
       "5  [https://travel.dmkt-sp.jp/faq/8/, https://tra...  \n",
       "6  [https://travel.dmkt-sp.jp/faq/11/, https://tr...  \n",
       "7  [https://travel.dmkt-sp.jp/faq/11/, https://tr...  \n",
       "8  [https://travel.dmkt-sp.jp/faq/13/, https://tr...  \n",
       "9  [https://travel.dmkt-sp.jp/faq/53/, https://tr...  "
      ]
     },
     "execution_count": 12,
     "metadata": {},
     "output_type": "execute_result"
    }
   ],
   "source": [
    "new_df.head(10)"
   ]
  },
  {
   "cell_type": "code",
   "execution_count": 64,
   "metadata": {},
   "outputs": [
    {
     "data": {
      "text/plain": [
       "Index(['question', 'tag', 'correct_url'], dtype='object')"
      ]
     },
     "execution_count": 64,
     "metadata": {},
     "output_type": "execute_result"
    }
   ],
   "source": [
    "new_df.columns"
   ]
  },
  {
   "cell_type": "code",
   "execution_count": 13,
   "metadata": {},
   "outputs": [],
   "source": [
    "new_df.to_csv('classification_tag_21.12.2020.csv')"
   ]
  },
  {
   "cell_type": "markdown",
   "metadata": {},
   "source": [
    "## corpus analysis"
   ]
  },
  {
   "cell_type": "code",
   "execution_count": 21,
   "metadata": {},
   "outputs": [],
   "source": [
    "# 会員登録時にsmsにて電話番号認証をするのはなぜですか\n",
    "merged = pd.read_csv('/home/ifte/resource/docomo_dic/data/corpus.csv')"
   ]
  },
  {
   "cell_type": "code",
   "execution_count": null,
   "metadata": {},
   "outputs": [],
   "source": [
    "merged[merged.page == 591].text.values"
   ]
  },
  {
   "cell_type": "code",
   "execution_count": 10,
   "metadata": {},
   "outputs": [],
   "source": [
    "merged_all = pd.read_csv('/home/ifte/resource/docomo_dic/data/merged_corpus.csv')"
   ]
  },
  {
   "cell_type": "code",
   "execution_count": null,
   "metadata": {},
   "outputs": [],
   "source": [
    "merged_all[merged_all.page == 591].text.values"
   ]
  },
  {
   "cell_type": "code",
   "execution_count": 13,
   "metadata": {},
   "outputs": [
    {
     "data": {
      "text/plain": [
       "Int64Index([591], dtype='int64')"
      ]
     },
     "execution_count": 13,
     "metadata": {},
     "output_type": "execute_result"
    }
   ],
   "source": [
    "merged_all[merged_all.page == 591].index"
   ]
  },
  {
   "cell_type": "code",
   "execution_count": 14,
   "metadata": {},
   "outputs": [],
   "source": [
    "processed = '/home/ifte/resource/docomo_dic/data/processed_texts.txt'\n",
    "with open(processed) as f:\n",
    "    data = f.readlines()"
   ]
  },
  {
   "cell_type": "code",
   "execution_count": 20,
   "metadata": {},
   "outputs": [
    {
     "name": "stdout",
     "output_type": "stream",
     "text": [
      "特典 ご 注意事項 dマーケット 特典 ご 注意事項 マスチャレ 特典 ポイント ご 注意事項 キャンペーン 内容 マスターチャレンジパスポート 獲得 dマーケット マスター お客様 本 キャンペーン 対象 サービス お 買い物  dポイント  期間 用途 限定 進呈 dマーケット マスター チャレンジャー なす 通常 d ポイント キャンペーン 対象 なる お 買い物 期間 毎月 毎月 末 キャンペーン 対象 サービス  dショッピング   dブック   dトラベル  d fashion  dミュージック   dデリバリー   dカーシェア  dtv レンタル  dアニメストア  レンタル グッズ  dエンジョイパス   dフォト   dゲーム  d ゲームプレイ チケット  dミュージック  dtv dアニメストア 月額 サービス 対象外  dポイント  期間 用途 限定 進呈 対象者 dマーケット マスター お客様 キャンペーン期間 対象 サービス 対象商品 コンテンツ ご 購入 マスターチャレンジパスポート 獲得 商品 コンテンツ ご 購入 ドコモ ご 契約 携帯電話 回線 d アカウント  dポイント  期間 用途 限定 進呈 マスターチャレンジパスポート dマーケット マスター お客様 マスターチャレンジパスポート 獲得 ダクト 本 キャンペーン 対象 サービス お 買い物 最大 倍  dポイント  期間 用途 限定 進呈 パスポート 獲得 同 月内 購入 商品 point-up 対象 なる パスポート 獲得 いただく 翌月 獲得 不要 獲得 方法 詳細 ご 確認 くださる 同 月内 商品 購入 マスターチャレンジパスポート 獲得 ポイント 進呈 対象 なる dマーケット マスター お客様 パスポート 獲得 いただける  dポイント  期間 用途 限定 進呈 進呈 期限 進呈 ご 購入 商品 コンテンツ お 支払い 確定 翌月 中旬 頃 ご 利用 期限  dポイント  期間 用途 限定 進呈 進呈 末 商品 注文 商品 発送 お 支払い 確定 当該 商品 かかる ポイント 中旬 頃 進呈 雅語 利用 期限 失効 なる 本 キャンペーン 進呈 ポイント 上限 ポイント 期間 用途 限定 なる 進呈 ポイント 数 計算 原則 お 支払い 確定 翌月 初旬 頃 実施 お 支払い 確定 翌月 中旬 頃 計算 お 支払い 確定 翌々月 繰り越す 進呈 ある  dポイント  期間 用途 限定 進呈 対象外 お 支払い  dポイント  期間 用途 限定 進呈 対象外 なる マスターチャレンジパスポート 商品 購入 同月 末 獲得 購入 dポイント 進呈 対象 月日 d ショッピング 商品 購入 月日 マスターチャレンジパスポート 取得 同 月内 パスポート 取得 購入 dポイント 進呈 対象外 月日 d ショッピング 商品 購入 月日 マスターチャレンジパスポート 取得 翌月 パスポート 取得  dポイント   dコイン  クーポン 利用 ご 購入 円 商品 ポイント 使用 円 対象 円 商品 円 クーポン 使用 円 対象 d コイン ご 購入 d ゲーム内 アイテム ご 購入 消費税 送料 ラッピング 代金引換 手数料 家電 設置 費用 dトラベル 国内 ツアー 海外ツアー レジャー チケット コンビニ チケット 費用 レンタカー 高速バス 外部 サイト ご 利用 d カーシェア 取消 マイカー シェア ご 利用 保険料 カーシェア ご 利用 違約金 罰金 追加 料金 d エンジョイ パス サイト お 申込 いただく レンタカー チケット ご 購入 iモード ご 利用 正常 購入 完了 なる 商品 コンテンツ ご 購入 取消 返品 商品 コンテンツ ご 購入 dポイント クラブ 会員 ない ご 購入 ビジネス プレミア クラブ 会員 対象外 ゲスト ドコモ ご 契約 携帯電話 回線 d アカウント 認証 ない 状態 ご 購入  dポイント  期間 用途 限定 加算 ドコモ ご 契約 携帯電話 回線 解約 d アカウント 退会 ご 購入 不正行為 利用 規則違反 運営上 趣旨 反す 弊社 判断 ご 購入 ご 購入 月後れ 末 お 支払い 確定 ポイント 進呈 対象 なる ある  dポイント  期間 用途 限定 随時 ジ ご 確認 いただける 進呈 ポイント 明細 個別 ご 案内 ご 了承 くださる 本 キャンペーン  dポイント  期間 用途 限定 通常 dポイント % 進呈 率 小数点 扱い 施策 異なる ある 除く 残り お 買い物 料金 % 小数点 切り捨て 進呈 本 キャンペーン 期間 内容 適用 条件 予告 ない 変更 中止 ある おすすめ 抽選 ご 注意事項 エントリー 抽選 さま ポイント 期間 用途 限定 プレゼント dマーケット マスター お客様 エントリー いただける メールマガジン 登録 応募 条件 なる ご 了承 くださる エントリー 期間 毎月 ランク 確定 毎月 末 ランク 未 確定 状態 毎月 初 本 キャンペーン エントリー できる キャンペーン期間 エントリー いただき 当選 エントリー できる エントリー ドコモ ご 契約 携帯電話 回線 d アカウント ポイント 進呈  dポイント  期間 用途 限定 進呈 ご 利用 期限 進呈 エントリー 翌月 中旬 頃 ご 利用 期限  dポイント  期間 用途 限定 進呈 進呈 翌々月 末 エントリー いただき 当選 中旬 頃 進呈 雅語 利用 期限 失効 なる  dポイント  期間 用途 限定 進呈 対象 外股 ポイント 進呈 取消 なる 正常 エントリー 完了 なる ドコモ ご 契約 携帯電話 回線 d アカウント 認証 できる 状態 dポイント クラブ 会員 ない ビジネス プレミア クラブ 会員 対象外  dポイント  期間 用途 限定 加算 ドコモ ご 契約 携帯電話 回線 解約 d アカウント 退会 当選 結果 関わる 同 一人物 複数回 応募 発覚 毎月 お 一人 さま ドコモ ご 契約 携帯電話 回線 お 持つ 回線 つく お 持つ d アカウント エントリー いただける 不正行為 利用 規則違反 運営上 趣旨 反す 弊社 判断 特典 ご 注意事項  dポイント  期間 用途 限定  dポイント  期間 用途 限定 ドコモ 提供 サービス 対象外 サービス ある ローソン 街 お 店 利用 ドコモ smartphone 購入 幅広い 用途 ご 利用 いただける 通常 d ポイント 異なる 利用 用途 限定 進呈 固有 有効 期間 設定 ポイント 有効期限 過ぎる 自動的 失効 ご 注意 くださる お 問い合わせ dマーケット web お 問い合わせ ご 回答 翌 営業日 なる 土日 祝 年末年始 休む お 問い合わせ 内容 お 時間 いただく お答え できる ござる ご 了承\n",
      "\n"
     ]
    }
   ],
   "source": [
    "for index, line in enumerate(data):\n",
    "    if index == 146:\n",
    "        print(line)"
   ]
  }
 ],
 "metadata": {
  "kernelspec": {
   "display_name": "Python 3",
   "language": "python",
   "name": "python3"
  },
  "language_info": {
   "codemirror_mode": {
    "name": "ipython",
    "version": 3
   },
   "file_extension": ".py",
   "mimetype": "text/x-python",
   "name": "python",
   "nbconvert_exporter": "python",
   "pygments_lexer": "ipython3",
   "version": "3.6.9"
  }
 },
 "nbformat": 4,
 "nbformat_minor": 4
}
