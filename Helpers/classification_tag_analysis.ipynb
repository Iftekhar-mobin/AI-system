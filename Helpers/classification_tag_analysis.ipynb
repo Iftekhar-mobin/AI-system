{
 "cells": [
  {
   "cell_type": "code",
   "execution_count": 1,
   "metadata": {},
   "outputs": [],
   "source": [
    "import re\n",
    "import pandas as pd\n",
    "import requests \n",
    "import json"
   ]
  },
  {
   "cell_type": "code",
   "execution_count": 7,
   "metadata": {},
   "outputs": [],
   "source": [
    "import pandas as pd\n",
    "corpus_df = pd.read_csv('/home/iftekhar/amiebot/Resources/876/data/corpus_shinzuku_whole.csv')"
   ]
  },
  {
   "cell_type": "code",
   "execution_count": 8,
   "metadata": {},
   "outputs": [
    {
     "data": {
      "text/plain": [
       "Index(['page', 'file', 'file_page', 'url', 'title', 'text'], dtype='object')"
      ]
     },
     "execution_count": 8,
     "metadata": {},
     "output_type": "execute_result"
    }
   ],
   "source": [
    "corpus_df.columns"
   ]
  },
  {
   "cell_type": "code",
   "execution_count": 9,
   "metadata": {},
   "outputs": [
    {
     "data": {
      "text/html": [
       "<div>\n",
       "<style scoped>\n",
       "    .dataframe tbody tr th:only-of-type {\n",
       "        vertical-align: middle;\n",
       "    }\n",
       "\n",
       "    .dataframe tbody tr th {\n",
       "        vertical-align: top;\n",
       "    }\n",
       "\n",
       "    .dataframe thead th {\n",
       "        text-align: right;\n",
       "    }\n",
       "</style>\n",
       "<table border=\"1\" class=\"dataframe\">\n",
       "  <thead>\n",
       "    <tr style=\"text-align: right;\">\n",
       "      <th></th>\n",
       "      <th>page</th>\n",
       "      <th>file</th>\n",
       "      <th>file_page</th>\n",
       "      <th>url</th>\n",
       "      <th>title</th>\n",
       "      <th>text</th>\n",
       "    </tr>\n",
       "  </thead>\n",
       "  <tbody>\n",
       "    <tr>\n",
       "      <th>0</th>\n",
       "      <td>0</td>\n",
       "      <td>NaN</td>\n",
       "      <td>0</td>\n",
       "      <td>https://d.dmkt-sp.jp</td>\n",
       "      <td>dマーケット｜もっと、みつかる、たのしめる。｜NTTドコモ公式</td>\n",
       "      <td>メニュー</td>\n",
       "    </tr>\n",
       "    <tr>\n",
       "      <th>1</th>\n",
       "      <td>0</td>\n",
       "      <td>NaN</td>\n",
       "      <td>0</td>\n",
       "      <td>https://d.dmkt-sp.jp</td>\n",
       "      <td>dマーケット｜もっと、みつかる、たのしめる。｜NTTドコモ公式</td>\n",
       "      <td>人気メニュー</td>\n",
       "    </tr>\n",
       "    <tr>\n",
       "      <th>2</th>\n",
       "      <td>0</td>\n",
       "      <td>NaN</td>\n",
       "      <td>0</td>\n",
       "      <td>https://d.dmkt-sp.jp</td>\n",
       "      <td>dマーケット｜もっと、みつかる、たのしめる。｜NTTドコモ公式</td>\n",
       "      <td>その他のメニュー</td>\n",
       "    </tr>\n",
       "    <tr>\n",
       "      <th>3</th>\n",
       "      <td>0</td>\n",
       "      <td>NaN</td>\n",
       "      <td>0</td>\n",
       "      <td>https://d.dmkt-sp.jp</td>\n",
       "      <td>dマーケット｜もっと、みつかる、たのしめる。｜NTTドコモ公式</td>\n",
       "      <td>dマーケットサービス一覧</td>\n",
       "    </tr>\n",
       "    <tr>\n",
       "      <th>4</th>\n",
       "      <td>0</td>\n",
       "      <td>NaN</td>\n",
       "      <td>0</td>\n",
       "      <td>https://d.dmkt-sp.jp</td>\n",
       "      <td>dマーケット｜もっと、みつかる、たのしめる。｜NTTドコモ公式</td>\n",
       "      <td>dアカウント関連メニュー</td>\n",
       "    </tr>\n",
       "  </tbody>\n",
       "</table>\n",
       "</div>"
      ],
      "text/plain": [
       "   page  file  file_page                   url  \\\n",
       "0     0   NaN          0  https://d.dmkt-sp.jp   \n",
       "1     0   NaN          0  https://d.dmkt-sp.jp   \n",
       "2     0   NaN          0  https://d.dmkt-sp.jp   \n",
       "3     0   NaN          0  https://d.dmkt-sp.jp   \n",
       "4     0   NaN          0  https://d.dmkt-sp.jp   \n",
       "\n",
       "                             title          text  \n",
       "0  dマーケット｜もっと、みつかる、たのしめる。｜NTTドコモ公式          メニュー  \n",
       "1  dマーケット｜もっと、みつかる、たのしめる。｜NTTドコモ公式        人気メニュー  \n",
       "2  dマーケット｜もっと、みつかる、たのしめる。｜NTTドコモ公式      その他のメニュー  \n",
       "3  dマーケット｜もっと、みつかる、たのしめる。｜NTTドコモ公式  dマーケットサービス一覧  \n",
       "4  dマーケット｜もっと、みつかる、たのしめる。｜NTTドコモ公式  dアカウント関連メニュー  "
      ]
     },
     "execution_count": 9,
     "metadata": {},
     "output_type": "execute_result"
    }
   ],
   "source": [
    "corpus_df.head()"
   ]
  },
  {
   "cell_type": "code",
   "execution_count": 99,
   "metadata": {},
   "outputs": [],
   "source": [
    "if 'page' not in corpus_df.columns:\n",
    "    print('ok')"
   ]
  },
  {
   "cell_type": "code",
   "execution_count": 5,
   "metadata": {},
   "outputs": [],
   "source": [
    "test_df = pd.read_csv('/home/iftekhar/Documents/test.csv')\n",
    "urls = test_df.iloc[:, 1:].values.tolist()\n",
    "questions = test_df['question'].values.tolist()"
   ]
  },
  {
   "cell_type": "code",
   "execution_count": null,
   "metadata": {},
   "outputs": [],
   "source": [
    "urls"
   ]
  },
  {
   "cell_type": "code",
   "execution_count": 30,
   "metadata": {},
   "outputs": [
    {
     "data": {
      "text/plain": [
       "['dカーシェアで利用できるカーシェアサービスは何がありますか？',\n",
       " 'dカーシェアで利用できるカーシェアサービス',\n",
       " 'カーシェアサービスは何がありますか？',\n",
       " 'オリックスカーシェア',\n",
       " 'ｄカーシェアで予約']"
      ]
     },
     "execution_count": 30,
     "metadata": {},
     "output_type": "execute_result"
    }
   ],
   "source": [
    "questions"
   ]
  },
  {
   "cell_type": "code",
   "execution_count": 8,
   "metadata": {},
   "outputs": [],
   "source": [
    "corpus_df_url = corpus_df.url.values.tolist()"
   ]
  },
  {
   "cell_type": "code",
   "execution_count": 28,
   "metadata": {},
   "outputs": [
    {
     "ename": "NameError",
     "evalue": "name 'questions' is not defined",
     "output_type": "error",
     "traceback": [
      "\u001b[0;31m---------------------------------------------------------------------------\u001b[0m",
      "\u001b[0;31mNameError\u001b[0m                                 Traceback (most recent call last)",
      "\u001b[0;32m<ipython-input-28-8f8787e0a139>\u001b[0m in \u001b[0;36m<module>\u001b[0;34m\u001b[0m\n\u001b[1;32m      9\u001b[0m             \u001b[0mtest_corpus\u001b[0m\u001b[0;34m[\u001b[0m\u001b[0;34m'page'\u001b[0m\u001b[0;34m]\u001b[0m\u001b[0;34m.\u001b[0m\u001b[0mappend\u001b[0m\u001b[0;34m(\u001b[0m\u001b[0mpage_id\u001b[0m\u001b[0;34m)\u001b[0m\u001b[0;34m\u001b[0m\u001b[0;34m\u001b[0m\u001b[0m\n\u001b[1;32m     10\u001b[0m             \u001b[0mtest_corpus\u001b[0m\u001b[0;34m[\u001b[0m\u001b[0;34m'url'\u001b[0m\u001b[0;34m]\u001b[0m\u001b[0;34m.\u001b[0m\u001b[0mappend\u001b[0m\u001b[0;34m(\u001b[0m\u001b[0murl\u001b[0m\u001b[0;34m)\u001b[0m\u001b[0;34m\u001b[0m\u001b[0;34m\u001b[0m\u001b[0m\n\u001b[0;32m---> 11\u001b[0;31m             \u001b[0mtest_corpus\u001b[0m\u001b[0;34m[\u001b[0m\u001b[0;34m'question'\u001b[0m\u001b[0;34m]\u001b[0m\u001b[0;34m.\u001b[0m\u001b[0mappend\u001b[0m\u001b[0;34m(\u001b[0m\u001b[0mquestions\u001b[0m\u001b[0;34m[\u001b[0m\u001b[0mcount\u001b[0m\u001b[0;34m]\u001b[0m\u001b[0;34m)\u001b[0m\u001b[0;34m\u001b[0m\u001b[0;34m\u001b[0m\u001b[0m\n\u001b[0m\u001b[1;32m     12\u001b[0m         \u001b[0;32mexcept\u001b[0m \u001b[0mIndexError\u001b[0m\u001b[0;34m:\u001b[0m\u001b[0;34m\u001b[0m\u001b[0;34m\u001b[0m\u001b[0m\n\u001b[1;32m     13\u001b[0m             \u001b[0mprint\u001b[0m\u001b[0;34m(\u001b[0m\u001b[0murl\u001b[0m\u001b[0;34m,\u001b[0m \u001b[0;34m'url not found'\u001b[0m\u001b[0;34m)\u001b[0m\u001b[0;34m\u001b[0m\u001b[0;34m\u001b[0m\u001b[0m\n",
      "\u001b[0;31mNameError\u001b[0m: name 'questions' is not defined"
     ]
    }
   ],
   "source": [
    "from collections import defaultdict\n",
    "test_corpus = defaultdict(list)\n",
    "count = 0\n",
    "for url_list in urls:\n",
    "    for url in url_list:\n",
    "        # print(url)\n",
    "        try:\n",
    "            page_id = list(set(corpus_df[(corpus_df['url'] == url)].page.values))[0]\n",
    "            test_corpus['page'].append(page_id)\n",
    "            test_corpus['url'].append(url)\n",
    "            test_corpus['question'].append(questions[count])\n",
    "        except IndexError:\n",
    "            print(url, 'url not found')\n",
    "    count += 1"
   ]
  },
  {
   "cell_type": "code",
   "execution_count": null,
   "metadata": {},
   "outputs": [],
   "source": [
    "pd.DataFrame(test_corpus)"
   ]
  },
  {
   "cell_type": "code",
   "execution_count": 122,
   "metadata": {},
   "outputs": [],
   "source": [
    "a=1"
   ]
  },
  {
   "cell_type": "code",
   "execution_count": 124,
   "metadata": {},
   "outputs": [],
   "source": [
    "b = [a]"
   ]
  },
  {
   "cell_type": "markdown",
   "metadata": {},
   "source": [
    "### Starting of classification Tag evaluation API"
   ]
  },
  {
   "cell_type": "code",
   "execution_count": 41,
   "metadata": {},
   "outputs": [],
   "source": [
    "raw_corpus = pd.read_csv('/home/iftekhar/2343/data/corpus.csv')"
   ]
  },
  {
   "cell_type": "code",
   "execution_count": 5,
   "metadata": {},
   "outputs": [],
   "source": [
    "test_df = pd.read_csv('/home/iftekhar/Downloads/test.csv')"
   ]
  },
  {
   "cell_type": "code",
   "execution_count": 6,
   "metadata": {},
   "outputs": [
    {
     "data": {
      "text/html": [
       "<div>\n",
       "<style scoped>\n",
       "    .dataframe tbody tr th:only-of-type {\n",
       "        vertical-align: middle;\n",
       "    }\n",
       "\n",
       "    .dataframe tbody tr th {\n",
       "        vertical-align: top;\n",
       "    }\n",
       "\n",
       "    .dataframe thead th {\n",
       "        text-align: right;\n",
       "    }\n",
       "</style>\n",
       "<table border=\"1\" class=\"dataframe\">\n",
       "  <thead>\n",
       "    <tr style=\"text-align: right;\">\n",
       "      <th></th>\n",
       "      <th>url</th>\n",
       "      <th>question</th>\n",
       "      <th>tag</th>\n",
       "    </tr>\n",
       "  </thead>\n",
       "  <tbody>\n",
       "    <tr>\n",
       "      <th>0</th>\n",
       "      <td>https://faq.carshare.dmkt-sp.jp/faq/show/9?bac...</td>\n",
       "      <td>利用規約に違反した場合、どの様な対応が取られますか？</td>\n",
       "      <td>なし</td>\n",
       "    </tr>\n",
       "    <tr>\n",
       "      <th>1</th>\n",
       "      <td>https://faq.carshare.dmkt-sp.jp/faq/show/9?bac...</td>\n",
       "      <td>料金の未払い</td>\n",
       "      <td>なし</td>\n",
       "    </tr>\n",
       "    <tr>\n",
       "      <th>2</th>\n",
       "      <td>https://faq.carshare.dmkt-sp.jp/faq/show/9?bac...</td>\n",
       "      <td>サービスの利用停止</td>\n",
       "      <td>なし</td>\n",
       "    </tr>\n",
       "    <tr>\n",
       "      <th>3</th>\n",
       "      <td>https://faq.carshare.dmkt-sp.jp/faq/show/9?bac...</td>\n",
       "      <td>利用規約に違反</td>\n",
       "      <td>なし</td>\n",
       "    </tr>\n",
       "    <tr>\n",
       "      <th>4</th>\n",
       "      <td>https://d.dmkt-sp.jp/common/qa/category/dmarke...</td>\n",
       "      <td>dマーケットとはどのようなサイトですか？</td>\n",
       "      <td>dマーケット</td>\n",
       "    </tr>\n",
       "  </tbody>\n",
       "</table>\n",
       "</div>"
      ],
      "text/plain": [
       "                                                 url  \\\n",
       "0  https://faq.carshare.dmkt-sp.jp/faq/show/9?bac...   \n",
       "1  https://faq.carshare.dmkt-sp.jp/faq/show/9?bac...   \n",
       "2  https://faq.carshare.dmkt-sp.jp/faq/show/9?bac...   \n",
       "3  https://faq.carshare.dmkt-sp.jp/faq/show/9?bac...   \n",
       "4  https://d.dmkt-sp.jp/common/qa/category/dmarke...   \n",
       "\n",
       "                     question     tag  \n",
       "0  利用規約に違反した場合、どの様な対応が取られますか？      なし  \n",
       "1                      料金の未払い      なし  \n",
       "2                   サービスの利用停止      なし  \n",
       "3                     利用規約に違反      なし  \n",
       "4        dマーケットとはどのようなサイトですか？  dマーケット  "
      ]
     },
     "execution_count": 6,
     "metadata": {},
     "output_type": "execute_result"
    }
   ],
   "source": [
    "test_df.head()"
   ]
  },
  {
   "cell_type": "code",
   "execution_count": 10,
   "metadata": {},
   "outputs": [],
   "source": [
    "url_list = []\n",
    "ques = []\n",
    "ind = 1\n",
    "collect = []\n",
    "for index, col in test_df.iterrows():\n",
    "    url_list.append(col['url'])\n",
    "    ques.append(col['question'])\n",
    "    page_id = list(set(corpus_df[(corpus_df['url'] == col['url'])].page.values))\n",
    "    # print(col['url'], page_id, col['question'], col['tag'])\n",
    "    if page_id:\n",
    "        collect.append(page_id[0])\n",
    "    else:\n",
    "        collect.append(99999)\n",
    "    ind += 1"
   ]
  },
  {
   "cell_type": "code",
   "execution_count": null,
   "metadata": {},
   "outputs": [],
   "source": [
    "collect"
   ]
  },
  {
   "cell_type": "code",
   "execution_count": 58,
   "metadata": {},
   "outputs": [
    {
     "name": "stdout",
     "output_type": "stream",
     "text": [
      "https://www.softbank.jp/biz/cloud/paas/kony\n",
      "https://www.softbank.jp/corp/group/sbm/news/press/2015/20150415_02\n",
      "https://www.softbank.jp/corp/news/press/sbkk/2019/20190416_02\n"
     ]
    }
   ],
   "source": [
    "# defining the api-endpoint  \n",
    "API_ENDPOINT = \"http://127.0.0.1:5000/api/v1.0/predict/\"\n",
    "headers = {'Content-type': 'application/json', 'Accept': 'text/plain'}\n",
    "result = []\n",
    "data = {'output_dir':'/home/iftekhar/2343/model', \n",
    "        'data_dir':'/home/iftekhar/2343/data', \n",
    "        'agent_id':-1, \n",
    "        'query': 'kony mobility platform', \n",
    "        'max_answer':5,\n",
    "        'classification': 'バージョンアップ'\n",
    "       } \n",
    "r = requests.post(url = API_ENDPOINT, data=json.dumps(data), headers = headers) \n",
    "\n",
    "# json.loads(r.text)\n",
    "\n",
    "for i in json.loads(r.text)['page_relevance']:\n",
    "    print(list(set(raw_corpus[raw_corpus['page'] == i['doc_id']].url.values))[0])\n",
    "    "
   ]
  },
  {
   "cell_type": "code",
   "execution_count": 61,
   "metadata": {},
   "outputs": [],
   "source": [
    "# defining the api-endpoint  \n",
    "API_ENDPOINT = \"http://127.0.0.1:5000/api/v1.0/predict/\"\n",
    "headers = {'Content-type': 'application/json', 'Accept': 'text/plain'}\n",
    "result = []\n",
    "for index, col in test_df.iterrows():\n",
    "    # data to be sent to api \n",
    "    data = {'output_dir':'/home/iftekhar/amiebot/Resources/876/model', \n",
    "            'data_dir':'/home/iftekhar/amiebot/Resources/876/data', \n",
    "            'agent_id':-1, \n",
    "            'query':col['question'], \n",
    "            'max_answer':5,\n",
    "            'classification': col['tag']\n",
    "           } \n",
    "    \n",
    "    r = requests.post(url = API_ENDPOINT, data=json.dumps(data), headers = headers) \n",
    "    result.append(r.text)\n",
    "    "
   ]
  },
  {
   "cell_type": "code",
   "execution_count": 62,
   "metadata": {},
   "outputs": [
    {
     "data": {
      "text/plain": [
       "154"
      ]
     },
     "execution_count": 62,
     "metadata": {},
     "output_type": "execute_result"
    }
   ],
   "source": [
    "len(result)"
   ]
  },
  {
   "cell_type": "code",
   "execution_count": null,
   "metadata": {},
   "outputs": [],
   "source": [
    "result"
   ]
  },
  {
   "cell_type": "code",
   "execution_count": 203,
   "metadata": {},
   "outputs": [],
   "source": [
    "r = json.dumps(result)"
   ]
  },
  {
   "cell_type": "code",
   "execution_count": 204,
   "metadata": {},
   "outputs": [],
   "source": [
    "file = open(path.join('/home/iftekhar/Downloads/', \"output.json\"), \"w\", encoding='utf-8')\n",
    "json.dump(r, file, ensure_ascii=False)\n",
    "file.close()\n",
    "    "
   ]
  },
  {
   "cell_type": "code",
   "execution_count": null,
   "metadata": {
    "scrolled": false
   },
   "outputs": [],
   "source": [
    "j = 0\n",
    "s = 0\n",
    "for items in saver.values():\n",
    "    #print(items)\n",
    "    if items:\n",
    "        z = [x for x in items.keys()][1:]\n",
    "        score = mean_reciprocal_rank_score(items['actual'], z)\n",
    "        if not score > 0:\n",
    "            s += 1\n",
    "            print(\"Not Found: \", ques[j], \"\\nCorrect\", url_list[j])\n",
    "            for ii in z:\n",
    "                print('Predict:', ' '.join(list(set(corpus_df[(corpus_df['page'] == ii)].url.values))))\n",
    "        print(j,':', items['actual'], '->', z, '->', score)\n",
    "    j += 1\n",
    "print('Failed ', s )"
   ]
  },
  {
   "cell_type": "code",
   "execution_count": null,
   "metadata": {},
   "outputs": [],
   "source": []
  },
  {
   "cell_type": "code",
   "execution_count": 25,
   "metadata": {},
   "outputs": [],
   "source": [
    "def mean_reciprocal_rank_score(actual_value, predicted_values):\n",
    "    if not actual_value:\n",
    "        return 0\n",
    "    pos = 0\n",
    "    val = 0\n",
    "    for i in predicted_values:\n",
    "        if i == actual_value and pos == 0:\n",
    "            val = 1\n",
    "            break\n",
    "        elif i == actual_value and pos == 1:\n",
    "            val = 0.5\n",
    "            break\n",
    "        elif i == actual_value and pos == 2:\n",
    "            val = 0.33\n",
    "            break\n",
    "        else:\n",
    "            val = 0\n",
    "        pos += 1\n",
    "\n",
    "    return val\n",
    "\n",
    "def cut_string(text):\n",
    "    try:\n",
    "        # print(text[:text.index(\"?\")])\n",
    "        return text[:text.index(\"?\")]\n",
    "    except ValueError:\n",
    "        # print(text)\n",
    "        return text"
   ]
  },
  {
   "cell_type": "code",
   "execution_count": 22,
   "metadata": {},
   "outputs": [],
   "source": [
    "# test_data = '/home/iftekhar/Documents/test_data_docomo_07.12.2020_red.csv'\n",
    "# test_data = '/home/iftekhar/Documents/test_data_docomo_07.12.2020.csv'\n",
    "# test_data = '/home/ifte/Documents/test_data_docomo_except.csv'\n",
    "# test_data = '/home/ifte/Documents/test_data_few_exceptional.csv'\n",
    "test_data = 'classification_tag_10.12.2020_part2.csv'\n",
    "test_df = pd.read_csv(test_data)"
   ]
  },
  {
   "cell_type": "code",
   "execution_count": 23,
   "metadata": {},
   "outputs": [],
   "source": [
    "test_df.rename(columns={'correct_url': 'url'}, inplace=True)"
   ]
  },
  {
   "cell_type": "code",
   "execution_count": null,
   "metadata": {},
   "outputs": [],
   "source": [
    "test_df.url.values"
   ]
  },
  {
   "cell_type": "code",
   "execution_count": 26,
   "metadata": {},
   "outputs": [],
   "source": [
    "test_df.url = test_df.url.apply(lambda x: cut_string(x))"
   ]
  },
  {
   "cell_type": "code",
   "execution_count": 27,
   "metadata": {},
   "outputs": [],
   "source": [
    "# defining the api-endpoint  \n",
    "API_ENDPOINT = \"http://127.0.0.1:5000/api/v1.0/predict/\"\n",
    "headers = {'Content-type': 'application/json', 'Accept': 'text/plain'}\n",
    "result = []\n",
    "for index, col in test_df.iterrows():\n",
    "    # data to be sent to api \n",
    "    data = {'output_dir':'/home/ifte/resource/docomo_dic/model', \n",
    "            'data_dir':'/home/ifte/resource/docomo_dic/data', \n",
    "            'agent_id':-1, \n",
    "            'query':col['question'],\n",
    "            'classification': col['tag'],\n",
    "            'max_answer':5\n",
    "           } \n",
    "    \n",
    "    r = requests.post(url = API_ENDPOINT, data=json.dumps(data), headers = headers) \n",
    "    result.append(r.text)\n",
    "    "
   ]
  },
  {
   "cell_type": "code",
   "execution_count": 28,
   "metadata": {},
   "outputs": [],
   "source": [
    "raw_corpus = pd.read_csv('/home/ifte/resource/docomo_dic/data/corpus.csv')"
   ]
  },
  {
   "cell_type": "code",
   "execution_count": 29,
   "metadata": {},
   "outputs": [],
   "source": [
    "from collections import defaultdict\n",
    "saver = defaultdict(list)\n",
    "\n",
    "j = 0\n",
    "for items in result:\n",
    "    for i in json.loads(items)['page_relevance']:\n",
    "        saver[j].append(list(set(raw_corpus[raw_corpus['page'] == i['doc_id']].url.values))[0])\n",
    "        saver[str(str(j)+'doc_id')].append(i['doc_id'])\n",
    "    j += 1\n",
    "        "
   ]
  },
  {
   "cell_type": "code",
   "execution_count": 30,
   "metadata": {},
   "outputs": [],
   "source": [
    "collector = defaultdict(list)\n",
    "i = 0\n",
    "\n",
    "for index, col in test_df.iterrows():\n",
    "    collector['question'].append(col['question'])\n",
    "    collector['tag'].append(col['tag'])\n",
    "    collector['correct_url'].append(col['url'])\n",
    "    collector_correct = []\n",
    "    try:\n",
    "        collector_correct = list(set(raw_corpus[raw_corpus['url'] == col['url']].page.values))[0]\n",
    "    except IndexError:\n",
    "        continue\n",
    "        pass\n",
    "    collector['correct_id'].append(collector_correct)\n",
    "    collector['returned_id'].append(saver[str(str(i)+'doc_id')])\n",
    "    score = mean_reciprocal_rank_score(collector_correct, saver[str(str(i)+'doc_id')])\n",
    "    if score:\n",
    "        collector['mrr_score'].append(score)\n",
    "    else:\n",
    "        try:\n",
    "            url_loc = saver[i].index(col['url'])\n",
    "            if url_loc == 1:\n",
    "                collector['mrr_score'].append(0.5)\n",
    "            elif url_loc == 2:\n",
    "                collector['mrr_score'].append(0.33)\n",
    "            elif url_loc == 0:\n",
    "                collector['mrr_score'].append(1)\n",
    "            elif url_loc >= 3:\n",
    "                collector['mrr_score'].append('LOW_RANK')\n",
    "    \n",
    "        except ValueError:\n",
    "            collector['mrr_score'].append('NOT_MATCHED')\n",
    "            pass\n",
    "\n",
    "    collector['urls'].append(saver[i])\n",
    "#         print('ok ', i)\n",
    "    i += 1\n",
    "\n",
    "    "
   ]
  },
  {
   "cell_type": "code",
   "execution_count": 31,
   "metadata": {},
   "outputs": [],
   "source": [
    "new_df = pd.DataFrame.from_dict(collector, orient='index').T"
   ]
  },
  {
   "cell_type": "code",
   "execution_count": 32,
   "metadata": {},
   "outputs": [
    {
     "data": {
      "text/html": [
       "<div>\n",
       "<style scoped>\n",
       "    .dataframe tbody tr th:only-of-type {\n",
       "        vertical-align: middle;\n",
       "    }\n",
       "\n",
       "    .dataframe tbody tr th {\n",
       "        vertical-align: top;\n",
       "    }\n",
       "\n",
       "    .dataframe thead th {\n",
       "        text-align: right;\n",
       "    }\n",
       "</style>\n",
       "<table border=\"1\" class=\"dataframe\">\n",
       "  <thead>\n",
       "    <tr style=\"text-align: right;\">\n",
       "      <th></th>\n",
       "      <th>question</th>\n",
       "      <th>tag</th>\n",
       "      <th>correct_url</th>\n",
       "      <th>correct_id</th>\n",
       "      <th>returned_id</th>\n",
       "      <th>mrr_score</th>\n",
       "      <th>urls</th>\n",
       "    </tr>\n",
       "  </thead>\n",
       "  <tbody>\n",
       "    <tr>\n",
       "      <th>0</th>\n",
       "      <td>dポイントとは何ですか？</td>\n",
       "      <td>ｄマーケット</td>\n",
       "      <td>https://d.dmkt-sp.jp/common/qa/category/dpoint...</td>\n",
       "      <td>137</td>\n",
       "      <td>[137, 3, 140, 95, 104]</td>\n",
       "      <td>1</td>\n",
       "      <td>[https://d.dmkt-sp.jp/common/qa/category/dpoin...</td>\n",
       "    </tr>\n",
       "    <tr>\n",
       "      <th>1</th>\n",
       "      <td>ポイントが利用できません。</td>\n",
       "      <td>ｄトラベル</td>\n",
       "      <td>https://travel.dmkt-sp.jp/faq/14/</td>\n",
       "      <td>769</td>\n",
       "      <td>[816, 938, 666, 677, 1272]</td>\n",
       "      <td>NOT_MATCHED</td>\n",
       "      <td>[https://travel.dmkt-sp.jp/faq/87/, https://tr...</td>\n",
       "    </tr>\n",
       "    <tr>\n",
       "      <th>2</th>\n",
       "      <td>ポイントについて教えてください。</td>\n",
       "      <td>ｄトラベル</td>\n",
       "      <td>https://travel.dmkt-sp.jp/faq/15/</td>\n",
       "      <td>942</td>\n",
       "      <td>[801, 1009, 962, 940, 783]</td>\n",
       "      <td>NOT_MATCHED</td>\n",
       "      <td>[https://travel.dmkt-sp.jp/faq/56/, https://tr...</td>\n",
       "    </tr>\n",
       "    <tr>\n",
       "      <th>3</th>\n",
       "      <td>予約した後にクーポンを利用できますか。</td>\n",
       "      <td>ｄトラベル</td>\n",
       "      <td>https://travel.dmkt-sp.jp/faq/25/</td>\n",
       "      <td>923</td>\n",
       "      <td>[712, 993, 706, 705, 710]</td>\n",
       "      <td>NOT_MATCHED</td>\n",
       "      <td>[https://travel.dmkt-sp.jp/coupon/20201118/, h...</td>\n",
       "    </tr>\n",
       "    <tr>\n",
       "      <th>4</th>\n",
       "      <td>何日先の予約まで可能ですか。</td>\n",
       "      <td>ｄトラベル</td>\n",
       "      <td>https://travel.dmkt-sp.jp/faq/73/</td>\n",
       "      <td>1022</td>\n",
       "      <td>[1278, 815, 1252, 674, 619]</td>\n",
       "      <td>NOT_MATCHED</td>\n",
       "      <td>[nan, https://travel.dmkt-sp.jp/faq/151/, nan,...</td>\n",
       "    </tr>\n",
       "    <tr>\n",
       "      <th>5</th>\n",
       "      <td>何枚まで購入できますか。</td>\n",
       "      <td>ｄトラベル</td>\n",
       "      <td>https://travel.dmkt-sp.jp/faq/119/</td>\n",
       "      <td>1037</td>\n",
       "      <td>[677, 156, 90, 783, 997]</td>\n",
       "      <td>NOT_MATCHED</td>\n",
       "      <td>[https://travel.dmkt-sp.jp/howto/lecoupon/, ht...</td>\n",
       "    </tr>\n",
       "    <tr>\n",
       "      <th>6</th>\n",
       "      <td>dカーシェアで利用できるレンタカーサービスは何がありますか？</td>\n",
       "      <td>ｄカーシェア</td>\n",
       "      <td>https://faq.carshare.dmkt-sp.jp/faq/show/4</td>\n",
       "      <td>536</td>\n",
       "      <td>[536, 323, 470, 221, 468]</td>\n",
       "      <td>1</td>\n",
       "      <td>[https://faq.carshare.dmkt-sp.jp/faq/show/4, h...</td>\n",
       "    </tr>\n",
       "    <tr>\n",
       "      <th>7</th>\n",
       "      <td>利用規約に違反した場合、どの様な対応が取られますか？</td>\n",
       "      <td>ｄカーシェア</td>\n",
       "      <td>https://faq.carshare.dmkt-sp.jp/faq/show/9</td>\n",
       "      <td>551</td>\n",
       "      <td>[551, 228, 1057, 221, 1054]</td>\n",
       "      <td>1</td>\n",
       "      <td>[https://faq.carshare.dmkt-sp.jp/faq/show/9, h...</td>\n",
       "    </tr>\n",
       "    <tr>\n",
       "      <th>8</th>\n",
       "      <td>マイカーシェアとは、どんなサービスですか？</td>\n",
       "      <td>ｄカーシェア</td>\n",
       "      <td>https://faq.carshare.dmkt-sp.jp/faq/show/3</td>\n",
       "      <td>383</td>\n",
       "      <td>[383, 501, 569, 325, 329]</td>\n",
       "      <td>1</td>\n",
       "      <td>[https://faq.carshare.dmkt-sp.jp/faq/show/3, h...</td>\n",
       "    </tr>\n",
       "    <tr>\n",
       "      <th>9</th>\n",
       "      <td>BMWのレンタカーとは、どんなサービスですか？</td>\n",
       "      <td>ｄカーシェア</td>\n",
       "      <td>https://faq.carshare.dmkt-sp.jp/faq/show/5</td>\n",
       "      <td>303</td>\n",
       "      <td>[320, 286, 321, 289, 319]</td>\n",
       "      <td>NOT_MATCHED</td>\n",
       "      <td>[https://faq.carshare.dmkt-sp.jp/faq/show/393,...</td>\n",
       "    </tr>\n",
       "  </tbody>\n",
       "</table>\n",
       "</div>"
      ],
      "text/plain": [
       "                          question     tag  \\\n",
       "0                     dポイントとは何ですか？  ｄマーケット   \n",
       "1                    ポイントが利用できません。   ｄトラベル   \n",
       "2                 ポイントについて教えてください。   ｄトラベル   \n",
       "3              予約した後にクーポンを利用できますか。   ｄトラベル   \n",
       "4                   何日先の予約まで可能ですか。   ｄトラベル   \n",
       "5                     何枚まで購入できますか。   ｄトラベル   \n",
       "6  dカーシェアで利用できるレンタカーサービスは何がありますか？   ｄカーシェア   \n",
       "7      利用規約に違反した場合、どの様な対応が取られますか？   ｄカーシェア   \n",
       "8           マイカーシェアとは、どんなサービスですか？   ｄカーシェア   \n",
       "9         BMWのレンタカーとは、どんなサービスですか？   ｄカーシェア   \n",
       "\n",
       "                                         correct_url correct_id  \\\n",
       "0  https://d.dmkt-sp.jp/common/qa/category/dpoint...        137   \n",
       "1                  https://travel.dmkt-sp.jp/faq/14/        769   \n",
       "2                  https://travel.dmkt-sp.jp/faq/15/        942   \n",
       "3                  https://travel.dmkt-sp.jp/faq/25/        923   \n",
       "4                  https://travel.dmkt-sp.jp/faq/73/       1022   \n",
       "5                 https://travel.dmkt-sp.jp/faq/119/       1037   \n",
       "6         https://faq.carshare.dmkt-sp.jp/faq/show/4        536   \n",
       "7         https://faq.carshare.dmkt-sp.jp/faq/show/9        551   \n",
       "8         https://faq.carshare.dmkt-sp.jp/faq/show/3        383   \n",
       "9         https://faq.carshare.dmkt-sp.jp/faq/show/5        303   \n",
       "\n",
       "                   returned_id    mrr_score  \\\n",
       "0       [137, 3, 140, 95, 104]            1   \n",
       "1   [816, 938, 666, 677, 1272]  NOT_MATCHED   \n",
       "2   [801, 1009, 962, 940, 783]  NOT_MATCHED   \n",
       "3    [712, 993, 706, 705, 710]  NOT_MATCHED   \n",
       "4  [1278, 815, 1252, 674, 619]  NOT_MATCHED   \n",
       "5     [677, 156, 90, 783, 997]  NOT_MATCHED   \n",
       "6    [536, 323, 470, 221, 468]            1   \n",
       "7  [551, 228, 1057, 221, 1054]            1   \n",
       "8    [383, 501, 569, 325, 329]            1   \n",
       "9    [320, 286, 321, 289, 319]  NOT_MATCHED   \n",
       "\n",
       "                                                urls  \n",
       "0  [https://d.dmkt-sp.jp/common/qa/category/dpoin...  \n",
       "1  [https://travel.dmkt-sp.jp/faq/87/, https://tr...  \n",
       "2  [https://travel.dmkt-sp.jp/faq/56/, https://tr...  \n",
       "3  [https://travel.dmkt-sp.jp/coupon/20201118/, h...  \n",
       "4  [nan, https://travel.dmkt-sp.jp/faq/151/, nan,...  \n",
       "5  [https://travel.dmkt-sp.jp/howto/lecoupon/, ht...  \n",
       "6  [https://faq.carshare.dmkt-sp.jp/faq/show/4, h...  \n",
       "7  [https://faq.carshare.dmkt-sp.jp/faq/show/9, h...  \n",
       "8  [https://faq.carshare.dmkt-sp.jp/faq/show/3, h...  \n",
       "9  [https://faq.carshare.dmkt-sp.jp/faq/show/393,...  "
      ]
     },
     "execution_count": 32,
     "metadata": {},
     "output_type": "execute_result"
    }
   ],
   "source": [
    "new_df.head(10)"
   ]
  },
  {
   "cell_type": "code",
   "execution_count": 33,
   "metadata": {},
   "outputs": [],
   "source": [
    "new_df.to_csv('classification_tag_10.12.2020.csv')"
   ]
  },
  {
   "cell_type": "markdown",
   "metadata": {},
   "source": [
    "## corpus analysis"
   ]
  },
  {
   "cell_type": "code",
   "execution_count": 21,
   "metadata": {},
   "outputs": [],
   "source": [
    "# 会員登録時にsmsにて電話番号認証をするのはなぜですか\n",
    "merged = pd.read_csv('/home/ifte/resource/docomo_dic/data/corpus.csv')"
   ]
  },
  {
   "cell_type": "code",
   "execution_count": null,
   "metadata": {},
   "outputs": [],
   "source": [
    "merged[merged.page == 591].text.values"
   ]
  },
  {
   "cell_type": "code",
   "execution_count": 10,
   "metadata": {},
   "outputs": [],
   "source": [
    "merged_all = pd.read_csv('/home/ifte/resource/docomo_dic/data/merged_corpus.csv')"
   ]
  },
  {
   "cell_type": "code",
   "execution_count": null,
   "metadata": {},
   "outputs": [],
   "source": [
    "merged_all[merged_all.page == 591].text.values"
   ]
  },
  {
   "cell_type": "code",
   "execution_count": 13,
   "metadata": {},
   "outputs": [
    {
     "data": {
      "text/plain": [
       "Int64Index([591], dtype='int64')"
      ]
     },
     "execution_count": 13,
     "metadata": {},
     "output_type": "execute_result"
    }
   ],
   "source": [
    "merged_all[merged_all.page == 591].index"
   ]
  },
  {
   "cell_type": "code",
   "execution_count": 14,
   "metadata": {},
   "outputs": [],
   "source": [
    "processed = '/home/ifte/resource/docomo_dic/data/processed_texts.txt'\n",
    "with open(processed) as f:\n",
    "    data = f.readlines()"
   ]
  },
  {
   "cell_type": "code",
   "execution_count": 20,
   "metadata": {},
   "outputs": [
    {
     "name": "stdout",
     "output_type": "stream",
     "text": [
      "特典 ご 注意事項 dマーケット 特典 ご 注意事項 マスチャレ 特典 ポイント ご 注意事項 キャンペーン 内容 マスターチャレンジパスポート 獲得 dマーケット マスター お客様 本 キャンペーン 対象 サービス お 買い物  dポイント  期間 用途 限定 進呈 dマーケット マスター チャレンジャー なす 通常 d ポイント キャンペーン 対象 なる お 買い物 期間 毎月 毎月 末 キャンペーン 対象 サービス  dショッピング   dブック   dトラベル  d fashion  dミュージック   dデリバリー   dカーシェア  dtv レンタル  dアニメストア  レンタル グッズ  dエンジョイパス   dフォト   dゲーム  d ゲームプレイ チケット  dミュージック  dtv dアニメストア 月額 サービス 対象外  dポイント  期間 用途 限定 進呈 対象者 dマーケット マスター お客様 キャンペーン期間 対象 サービス 対象商品 コンテンツ ご 購入 マスターチャレンジパスポート 獲得 商品 コンテンツ ご 購入 ドコモ ご 契約 携帯電話 回線 d アカウント  dポイント  期間 用途 限定 進呈 マスターチャレンジパスポート dマーケット マスター お客様 マスターチャレンジパスポート 獲得 ダクト 本 キャンペーン 対象 サービス お 買い物 最大 倍  dポイント  期間 用途 限定 進呈 パスポート 獲得 同 月内 購入 商品 point-up 対象 なる パスポート 獲得 いただく 翌月 獲得 不要 獲得 方法 詳細 ご 確認 くださる 同 月内 商品 購入 マスターチャレンジパスポート 獲得 ポイント 進呈 対象 なる dマーケット マスター お客様 パスポート 獲得 いただける  dポイント  期間 用途 限定 進呈 進呈 期限 進呈 ご 購入 商品 コンテンツ お 支払い 確定 翌月 中旬 頃 ご 利用 期限  dポイント  期間 用途 限定 進呈 進呈 末 商品 注文 商品 発送 お 支払い 確定 当該 商品 かかる ポイント 中旬 頃 進呈 雅語 利用 期限 失効 なる 本 キャンペーン 進呈 ポイント 上限 ポイント 期間 用途 限定 なる 進呈 ポイント 数 計算 原則 お 支払い 確定 翌月 初旬 頃 実施 お 支払い 確定 翌月 中旬 頃 計算 お 支払い 確定 翌々月 繰り越す 進呈 ある  dポイント  期間 用途 限定 進呈 対象外 お 支払い  dポイント  期間 用途 限定 進呈 対象外 なる マスターチャレンジパスポート 商品 購入 同月 末 獲得 購入 dポイント 進呈 対象 月日 d ショッピング 商品 購入 月日 マスターチャレンジパスポート 取得 同 月内 パスポート 取得 購入 dポイント 進呈 対象外 月日 d ショッピング 商品 購入 月日 マスターチャレンジパスポート 取得 翌月 パスポート 取得  dポイント   dコイン  クーポン 利用 ご 購入 円 商品 ポイント 使用 円 対象 円 商品 円 クーポン 使用 円 対象 d コイン ご 購入 d ゲーム内 アイテム ご 購入 消費税 送料 ラッピング 代金引換 手数料 家電 設置 費用 dトラベル 国内 ツアー 海外ツアー レジャー チケット コンビニ チケット 費用 レンタカー 高速バス 外部 サイト ご 利用 d カーシェア 取消 マイカー シェア ご 利用 保険料 カーシェア ご 利用 違約金 罰金 追加 料金 d エンジョイ パス サイト お 申込 いただく レンタカー チケット ご 購入 iモード ご 利用 正常 購入 完了 なる 商品 コンテンツ ご 購入 取消 返品 商品 コンテンツ ご 購入 dポイント クラブ 会員 ない ご 購入 ビジネス プレミア クラブ 会員 対象外 ゲスト ドコモ ご 契約 携帯電話 回線 d アカウント 認証 ない 状態 ご 購入  dポイント  期間 用途 限定 加算 ドコモ ご 契約 携帯電話 回線 解約 d アカウント 退会 ご 購入 不正行為 利用 規則違反 運営上 趣旨 反す 弊社 判断 ご 購入 ご 購入 月後れ 末 お 支払い 確定 ポイント 進呈 対象 なる ある  dポイント  期間 用途 限定 随時 ジ ご 確認 いただける 進呈 ポイント 明細 個別 ご 案内 ご 了承 くださる 本 キャンペーン  dポイント  期間 用途 限定 通常 dポイント % 進呈 率 小数点 扱い 施策 異なる ある 除く 残り お 買い物 料金 % 小数点 切り捨て 進呈 本 キャンペーン 期間 内容 適用 条件 予告 ない 変更 中止 ある おすすめ 抽選 ご 注意事項 エントリー 抽選 さま ポイント 期間 用途 限定 プレゼント dマーケット マスター お客様 エントリー いただける メールマガジン 登録 応募 条件 なる ご 了承 くださる エントリー 期間 毎月 ランク 確定 毎月 末 ランク 未 確定 状態 毎月 初 本 キャンペーン エントリー できる キャンペーン期間 エントリー いただき 当選 エントリー できる エントリー ドコモ ご 契約 携帯電話 回線 d アカウント ポイント 進呈  dポイント  期間 用途 限定 進呈 ご 利用 期限 進呈 エントリー 翌月 中旬 頃 ご 利用 期限  dポイント  期間 用途 限定 進呈 進呈 翌々月 末 エントリー いただき 当選 中旬 頃 進呈 雅語 利用 期限 失効 なる  dポイント  期間 用途 限定 進呈 対象 外股 ポイント 進呈 取消 なる 正常 エントリー 完了 なる ドコモ ご 契約 携帯電話 回線 d アカウント 認証 できる 状態 dポイント クラブ 会員 ない ビジネス プレミア クラブ 会員 対象外  dポイント  期間 用途 限定 加算 ドコモ ご 契約 携帯電話 回線 解約 d アカウント 退会 当選 結果 関わる 同 一人物 複数回 応募 発覚 毎月 お 一人 さま ドコモ ご 契約 携帯電話 回線 お 持つ 回線 つく お 持つ d アカウント エントリー いただける 不正行為 利用 規則違反 運営上 趣旨 反す 弊社 判断 特典 ご 注意事項  dポイント  期間 用途 限定  dポイント  期間 用途 限定 ドコモ 提供 サービス 対象外 サービス ある ローソン 街 お 店 利用 ドコモ smartphone 購入 幅広い 用途 ご 利用 いただける 通常 d ポイント 異なる 利用 用途 限定 進呈 固有 有効 期間 設定 ポイント 有効期限 過ぎる 自動的 失効 ご 注意 くださる お 問い合わせ dマーケット web お 問い合わせ ご 回答 翌 営業日 なる 土日 祝 年末年始 休む お 問い合わせ 内容 お 時間 いただく お答え できる ござる ご 了承\n",
      "\n"
     ]
    }
   ],
   "source": [
    "for index, line in enumerate(data):\n",
    "    if index == 146:\n",
    "        print(line)"
   ]
  }
 ],
 "metadata": {
  "kernelspec": {
   "display_name": "Python 3",
   "language": "python",
   "name": "python3"
  },
  "language_info": {
   "codemirror_mode": {
    "name": "ipython",
    "version": 3
   },
   "file_extension": ".py",
   "mimetype": "text/x-python",
   "name": "python",
   "nbconvert_exporter": "python",
   "pygments_lexer": "ipython3",
   "version": "3.6.9"
  }
 },
 "nbformat": 4,
 "nbformat_minor": 4
}
