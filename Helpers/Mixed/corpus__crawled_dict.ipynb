{
 "cells": [
  {
   "cell_type": "code",
   "execution_count": 1,
   "metadata": {},
   "outputs": [],
   "source": [
    "file = '/home/iftekhar/WebMaster/app/data/crawled_corpus.txt'"
   ]
  },
  {
   "cell_type": "code",
   "execution_count": 2,
   "metadata": {},
   "outputs": [],
   "source": [
    "import ast\n",
    "\n",
    "def loading_snippet_dict(file_name):\n",
    "    file = open(file_name, \"r\")\n",
    "    contents = file.read()\n",
    "    corpus_dict = ast.literal_eval(contents)\n",
    "    file.close()\n",
    "    return corpus_dict"
   ]
  },
  {
   "cell_type": "code",
   "execution_count": 3,
   "metadata": {},
   "outputs": [],
   "source": [
    "data = loading_snippet_dict(file) "
   ]
  },
  {
   "cell_type": "code",
   "execution_count": 16,
   "metadata": {},
   "outputs": [
    {
     "name": "stdout",
     "output_type": "stream",
     "text": [
      "keys:   values:  {}\n"
     ]
    }
   ],
   "source": [
    "corpus = {}\n",
    "index = 0\n",
    "for keys, values in data.items():\n",
    "    try:\n",
    "        corpus[keys] = values['text']\n",
    "    except KeyError:\n",
    "        print('keys: ', keys, 'values: ', values)\n",
    "        pass\n",
    "    index += 1"
   ]
  },
  {
   "cell_type": "code",
   "execution_count": 5,
   "metadata": {},
   "outputs": [],
   "source": [
    "import pandas as pd"
   ]
  },
  {
   "cell_type": "code",
   "execution_count": 33,
   "metadata": {},
   "outputs": [],
   "source": [
    "df = pd.DataFrame(zip(corpus.keys(), corpus.values()), columns=['link', 'text'])"
   ]
  },
  {
   "cell_type": "code",
   "execution_count": 34,
   "metadata": {},
   "outputs": [
    {
     "data": {
      "text/html": [
       "<div>\n",
       "<style scoped>\n",
       "    .dataframe tbody tr th:only-of-type {\n",
       "        vertical-align: middle;\n",
       "    }\n",
       "\n",
       "    .dataframe tbody tr th {\n",
       "        vertical-align: top;\n",
       "    }\n",
       "\n",
       "    .dataframe thead th {\n",
       "        text-align: right;\n",
       "    }\n",
       "</style>\n",
       "<table border=\"1\" class=\"dataframe\">\n",
       "  <thead>\n",
       "    <tr style=\"text-align: right;\">\n",
       "      <th></th>\n",
       "      <th>link</th>\n",
       "      <th>text</th>\n",
       "    </tr>\n",
       "  </thead>\n",
       "  <tbody>\n",
       "    <tr>\n",
       "      <th>0</th>\n",
       "      <td>https://en.wikipedia.org/wiki/Wikipedia</td>\n",
       "      <td>Wikipedia - Wikipedia\\nWikipedia\\nFrom Wikiped...</td>\n",
       "    </tr>\n",
       "    <tr>\n",
       "      <th>1</th>\n",
       "      <td>https://en.wikipedia.org/wiki/Free_content</td>\n",
       "      <td>Free content - Wikipedia\\nFree content\\nFrom W...</td>\n",
       "    </tr>\n",
       "    <tr>\n",
       "      <th>2</th>\n",
       "      <td>https://en.wikipedia.org/wiki/Encyclopedia</td>\n",
       "      <td>Encyclopedia - Wikipedia\\nEncyclopedia\\nFrom W...</td>\n",
       "    </tr>\n",
       "    <tr>\n",
       "      <th>3</th>\n",
       "      <td>https://en.wikipedia.org/wiki/Help:Introductio...</td>\n",
       "      <td>Help:Introduction to Wikipedia - Wikipedia\\nHe...</td>\n",
       "    </tr>\n",
       "    <tr>\n",
       "      <th>4</th>\n",
       "      <td>https://en.wikipedia.org/wiki/Portal:Arts</td>\n",
       "      <td>Portal:Arts - Wikipedia\\nPortal:Arts\\nFrom Wik...</td>\n",
       "    </tr>\n",
       "  </tbody>\n",
       "</table>\n",
       "</div>"
      ],
      "text/plain": [
       "                                                link  \\\n",
       "0            https://en.wikipedia.org/wiki/Wikipedia   \n",
       "1         https://en.wikipedia.org/wiki/Free_content   \n",
       "2         https://en.wikipedia.org/wiki/Encyclopedia   \n",
       "3  https://en.wikipedia.org/wiki/Help:Introductio...   \n",
       "4          https://en.wikipedia.org/wiki/Portal:Arts   \n",
       "\n",
       "                                                text  \n",
       "0  Wikipedia - Wikipedia\\nWikipedia\\nFrom Wikiped...  \n",
       "1  Free content - Wikipedia\\nFree content\\nFrom W...  \n",
       "2  Encyclopedia - Wikipedia\\nEncyclopedia\\nFrom W...  \n",
       "3  Help:Introduction to Wikipedia - Wikipedia\\nHe...  \n",
       "4  Portal:Arts - Wikipedia\\nPortal:Arts\\nFrom Wik...  "
      ]
     },
     "execution_count": 34,
     "metadata": {},
     "output_type": "execute_result"
    }
   ],
   "source": [
    "df.head()"
   ]
  },
  {
   "cell_type": "code",
   "execution_count": 35,
   "metadata": {},
   "outputs": [],
   "source": [
    "df = df.reset_index()"
   ]
  },
  {
   "cell_type": "code",
   "execution_count": 38,
   "metadata": {},
   "outputs": [],
   "source": [
    "df.rename(columns={'index': 'page'}, inplace=True)"
   ]
  },
  {
   "cell_type": "code",
   "execution_count": 39,
   "metadata": {},
   "outputs": [
    {
     "data": {
      "text/html": [
       "<div>\n",
       "<style scoped>\n",
       "    .dataframe tbody tr th:only-of-type {\n",
       "        vertical-align: middle;\n",
       "    }\n",
       "\n",
       "    .dataframe tbody tr th {\n",
       "        vertical-align: top;\n",
       "    }\n",
       "\n",
       "    .dataframe thead th {\n",
       "        text-align: right;\n",
       "    }\n",
       "</style>\n",
       "<table border=\"1\" class=\"dataframe\">\n",
       "  <thead>\n",
       "    <tr style=\"text-align: right;\">\n",
       "      <th></th>\n",
       "      <th>page</th>\n",
       "      <th>link</th>\n",
       "      <th>text</th>\n",
       "    </tr>\n",
       "  </thead>\n",
       "  <tbody>\n",
       "    <tr>\n",
       "      <th>0</th>\n",
       "      <td>0</td>\n",
       "      <td>https://en.wikipedia.org/wiki/Wikipedia</td>\n",
       "      <td>Wikipedia - Wikipedia\\nWikipedia\\nFrom Wikiped...</td>\n",
       "    </tr>\n",
       "    <tr>\n",
       "      <th>1</th>\n",
       "      <td>1</td>\n",
       "      <td>https://en.wikipedia.org/wiki/Free_content</td>\n",
       "      <td>Free content - Wikipedia\\nFree content\\nFrom W...</td>\n",
       "    </tr>\n",
       "    <tr>\n",
       "      <th>2</th>\n",
       "      <td>2</td>\n",
       "      <td>https://en.wikipedia.org/wiki/Encyclopedia</td>\n",
       "      <td>Encyclopedia - Wikipedia\\nEncyclopedia\\nFrom W...</td>\n",
       "    </tr>\n",
       "    <tr>\n",
       "      <th>3</th>\n",
       "      <td>3</td>\n",
       "      <td>https://en.wikipedia.org/wiki/Help:Introductio...</td>\n",
       "      <td>Help:Introduction to Wikipedia - Wikipedia\\nHe...</td>\n",
       "    </tr>\n",
       "    <tr>\n",
       "      <th>4</th>\n",
       "      <td>4</td>\n",
       "      <td>https://en.wikipedia.org/wiki/Portal:Arts</td>\n",
       "      <td>Portal:Arts - Wikipedia\\nPortal:Arts\\nFrom Wik...</td>\n",
       "    </tr>\n",
       "  </tbody>\n",
       "</table>\n",
       "</div>"
      ],
      "text/plain": [
       "   page                                               link  \\\n",
       "0     0            https://en.wikipedia.org/wiki/Wikipedia   \n",
       "1     1         https://en.wikipedia.org/wiki/Free_content   \n",
       "2     2         https://en.wikipedia.org/wiki/Encyclopedia   \n",
       "3     3  https://en.wikipedia.org/wiki/Help:Introductio...   \n",
       "4     4          https://en.wikipedia.org/wiki/Portal:Arts   \n",
       "\n",
       "                                                text  \n",
       "0  Wikipedia - Wikipedia\\nWikipedia\\nFrom Wikiped...  \n",
       "1  Free content - Wikipedia\\nFree content\\nFrom W...  \n",
       "2  Encyclopedia - Wikipedia\\nEncyclopedia\\nFrom W...  \n",
       "3  Help:Introduction to Wikipedia - Wikipedia\\nHe...  \n",
       "4  Portal:Arts - Wikipedia\\nPortal:Arts\\nFrom Wik...  "
      ]
     },
     "execution_count": 39,
     "metadata": {},
     "output_type": "execute_result"
    }
   ],
   "source": [
    "df.head()"
   ]
  },
  {
   "cell_type": "code",
   "execution_count": 40,
   "metadata": {},
   "outputs": [],
   "source": [
    "df.to_csv('corpus.csv')"
   ]
  }
 ],
 "metadata": {
  "kernelspec": {
   "display_name": "Python 3",
   "language": "python",
   "name": "python3"
  },
  "language_info": {
   "codemirror_mode": {
    "name": "ipython",
    "version": 3
   },
   "file_extension": ".py",
   "mimetype": "text/x-python",
   "name": "python",
   "nbconvert_exporter": "python",
   "pygments_lexer": "ipython3",
   "version": "3.6.9"
  }
 },
 "nbformat": 4,
 "nbformat_minor": 4
}
