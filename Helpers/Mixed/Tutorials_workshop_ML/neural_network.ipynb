{
 "cells": [
  {
   "cell_type": "code",
   "execution_count": 47,
   "metadata": {
    "scrolled": false
   },
   "outputs": [
    {
     "data": {
      "text/plain": [
       "[<matplotlib.lines.Line2D at 0x7f91fc1495f8>]"
      ]
     },
     "execution_count": 47,
     "metadata": {},
     "output_type": "execute_result"
    },
    {
     "data": {
      "image/png": "[encoded data removed]",
      "text/plain": [
       "<Figure size 432x288 with 1 Axes>"
      ]
     },
     "metadata": {
      "needs_background": "light"
     },
     "output_type": "display_data"
    }
   ],
   "source": [
    "import numpy as np\n",
    "from matplotlib import pyplot as plt  \n",
    "\n",
    "var = np.linspace(-10, 10, 100)\n",
    "\n",
    "def sigmoid(x):  \n",
    "    return 1/(1+np.exp(-x))\n",
    "\n",
    "plt.plot(var, sigmoid(var), c=\"r\")   "
   ]
  },
  {
   "cell_type": "code",
   "execution_count": 9,
   "metadata": {},
   "outputs": [],
   "source": [
    "feature_set = np.array([[0,1,0],[0,0,1],[1,0,0],[1,1,0],[1,1,1]])  \n",
    "labels = np.array([[1,0,0,1,1]])  "
   ]
  },
  {
   "cell_type": "code",
   "execution_count": 10,
   "metadata": {},
   "outputs": [
    {
     "name": "stdout",
     "output_type": "stream",
     "text": [
      "[[1 0 0 1 1]] (1, 5)\n"
     ]
    }
   ],
   "source": [
    "print(labels, labels.shape)"
   ]
  },
  {
   "cell_type": "code",
   "execution_count": 11,
   "metadata": {},
   "outputs": [],
   "source": [
    "labels = labels.reshape(5,1) "
   ]
  },
  {
   "cell_type": "code",
   "execution_count": 12,
   "metadata": {},
   "outputs": [
    {
     "data": {
      "text/plain": [
       "array([[1],\n",
       "       [0],\n",
       "       [0],\n",
       "       [1],\n",
       "       [1]])"
      ]
     },
     "execution_count": 12,
     "metadata": {},
     "output_type": "execute_result"
    }
   ],
   "source": [
    "labels"
   ]
  },
  {
   "cell_type": "code",
   "execution_count": 13,
   "metadata": {},
   "outputs": [],
   "source": [
    "np.random.seed(42)  \n",
    "weights = np.random.rand(3,1)  \n",
    "bias = np.random.rand(1)  \n",
    "lr = 0.05  "
   ]
  },
  {
   "cell_type": "code",
   "execution_count": 14,
   "metadata": {},
   "outputs": [
    {
     "name": "stdout",
     "output_type": "stream",
     "text": [
      "[[0.37454012]\n",
      " [0.95071431]\n",
      " [0.73199394]] [0.59865848]\n"
     ]
    }
   ],
   "source": [
    "print(weights, bias)"
   ]
  },
  {
   "cell_type": "code",
   "execution_count": 17,
   "metadata": {},
   "outputs": [],
   "source": [
    "def sigmoid(x):  \n",
    "    return 1/(1+np.exp(-x))\n",
    "def sigmoid_der(x):  \n",
    "    return sigmoid(x)*(1-sigmoid(x))"
   ]
  },
  {
   "cell_type": "code",
   "execution_count": 25,
   "metadata": {},
   "outputs": [],
   "source": [
    "collector = []\n",
    "for epoch in range(20000):  \n",
    "    inputs = feature_set\n",
    "\n",
    "    # feedforward step1\n",
    "    XW = np.dot(feature_set, weights) + bias\n",
    "    #feedforward step2\n",
    "    z = sigmoid(XW)\n",
    "    \n",
    "    # backpropagation step 1\n",
    "    error = z - labels\n",
    "    collector.append(error.sum())\n",
    "    # print(error.sum())\n",
    "    \n",
    "    # backpropagation step 2\n",
    "    dpred_dz = sigmoid_der(z)\n",
    "    z_delta = error * dpred_dz\n",
    "\n",
    "    inputs = feature_set.T\n",
    "    weights -= lr * np.dot(inputs, z_delta)\n",
    "\n",
    "    for num in z_delta:\n",
    "        bias -= lr * num"
   ]
  },
  {
   "cell_type": "code",
   "execution_count": 26,
   "metadata": {},
   "outputs": [
    {
     "data": {
      "image/png": "[encoded data removed]",
      "text/plain": [
       "<Figure size 432x288 with 1 Axes>"
      ]
     },
     "metadata": {
      "needs_background": "light"
     },
     "output_type": "display_data"
    }
   ],
   "source": [
    "plt.plot(collector, c=\"r\")   \n",
    "plt.show()"
   ]
  },
  {
   "cell_type": "code",
   "execution_count": 27,
   "metadata": {},
   "outputs": [
    {
     "name": "stdout",
     "output_type": "stream",
     "text": [
      "[0.00175443]\n"
     ]
    }
   ],
   "source": [
    "single_point = np.array([1,0,0])  # Smoking 1, Obesity 0, Exercise 0 \n",
    "result = sigmoid(np.dot(single_point, weights) + bias)  \n",
    "print(result) "
   ]
  },
  {
   "cell_type": "markdown",
   "metadata": {},
   "source": [
    "## This part is for Usage of Libraries"
   ]
  },
  {
   "cell_type": "code",
   "execution_count": 32,
   "metadata": {},
   "outputs": [],
   "source": [
    "from keras.models import Sequential\n",
    "from keras.layers import Dense\n",
    "from keras.utils import np_utils\n",
    "import numpy\n",
    "import pandas as pd\n"
   ]
  },
  {
   "cell_type": "code",
   "execution_count": 33,
   "metadata": {},
   "outputs": [],
   "source": [
    "from sklearn.datasets import load_iris\n",
    "\n",
    "data = load_iris()\n",
    "X = data.data\n",
    "y = data.target\n",
    "class_name = data.target_names\n",
    "feature_name = data.feature_names"
   ]
  },
  {
   "cell_type": "code",
   "execution_count": 34,
   "metadata": {},
   "outputs": [
    {
     "name": "stdout",
     "output_type": "stream",
     "text": [
      "['setosa' 'versicolor' 'virginica'] ['sepal length (cm)', 'sepal width (cm)', 'petal length (cm)', 'petal width (cm)'] \n",
      "Data Sample [5.1 3.5 1.4 0.2] \n",
      "Label [0 0 0 0 0 0 0 0 0 0 0 0 0 0 0 0 0 0 0 0 0 0 0 0 0 0 0 0 0 0 0 0 0 0 0 0 0\n",
      " 0 0 0 0 0 0 0 0 0 0 0 0 0 1 1 1 1 1 1 1 1 1 1 1 1 1 1 1 1 1 1 1 1 1 1 1 1\n",
      " 1 1 1 1 1 1 1 1 1 1 1 1 1 1 1 1 1 1 1 1 1 1 1 1 1 1 2 2 2 2 2 2 2 2 2 2 2\n",
      " 2 2 2 2 2 2 2 2 2 2 2 2 2 2 2 2 2 2 2 2 2 2 2 2 2 2 2 2 2 2 2 2 2 2 2 2 2\n",
      " 2 2]\n"
     ]
    }
   ],
   "source": [
    "print(class_name, feature_name, \"\\nData Sample\", X[0], \"\\nLabel\", y)"
   ]
  },
  {
   "cell_type": "markdown",
   "metadata": {},
   "source": [
    "## To understand the distribution of data"
   ]
  },
  {
   "cell_type": "code",
   "execution_count": 82,
   "metadata": {},
   "outputs": [
    {
     "data": {
      "text/plain": [
       "<seaborn.axisgrid.PairGrid at 0x7f91e8682fd0>"
      ]
     },
     "execution_count": 82,
     "metadata": {},
     "output_type": "execute_result"
    },
    {
     "data": {
      "image/png": "[encoded data removed]",
      "text/plain": [
       "<Figure size 813.85x720 with 20 Axes>"
      ]
     },
     "metadata": {},
     "output_type": "display_data"
    }
   ],
   "source": [
    "import seaborn as sns\n",
    "sns.set(style=\"ticks\")\n",
    "df = sns.load_dataset(\"iris\")\n",
    "# http://seaborn.pydata.org/generated/seaborn.pairplot.html\n",
    "sns.pairplot(df, hue='species', markers=[\"o\", \"s\", \"+\"])"
   ]
  },
  {
   "cell_type": "code",
   "execution_count": 37,
   "metadata": {},
   "outputs": [],
   "source": [
    "from sklearn.model_selection import train_test_split\n",
    "X_train, X_test, y_train, y_test = train_test_split(X, y, test_size=0.20, random_state=42)"
   ]
  },
  {
   "cell_type": "code",
   "execution_count": 38,
   "metadata": {},
   "outputs": [
    {
     "name": "stdout",
     "output_type": "stream",
     "text": [
      "[4.6 3.6 1.  0.2] (120, 4) (30, 4) (120,) (30,)\n"
     ]
    }
   ],
   "source": [
    "print(X_train[0], X_train.shape, X_test.shape, y_train.shape, y_test.shape)"
   ]
  },
  {
   "cell_type": "code",
   "execution_count": 39,
   "metadata": {},
   "outputs": [],
   "source": [
    "# Encoding training dataset\n",
    "encoding_train_y = np_utils.to_categorical(y_train)\n",
    "\n",
    "# Encoding training dataset\n",
    "encoding_test_y = np_utils.to_categorical(y_test)\n"
   ]
  },
  {
   "cell_type": "code",
   "execution_count": 40,
   "metadata": {},
   "outputs": [
    {
     "name": "stdout",
     "output_type": "stream",
     "text": [
      "Epoch 1/300\n",
      "12/12 [==============================] - 0s 4ms/step - loss: 1.8665 - accuracy: 0.3417\n",
      "Epoch 2/300\n",
      "12/12 [==============================] - 0s 2ms/step - loss: 1.5488 - accuracy: 0.2250\n",
      "Epoch 3/300\n",
      "12/12 [==============================] - 0s 1ms/step - loss: 1.3460 - accuracy: 0.0167\n",
      "Epoch 4/300\n",
      "12/12 [==============================] - 0s 803us/step - loss: 1.2471 - accuracy: 0.0750\n",
      "Epoch 5/300\n",
      "12/12 [==============================] - 0s 677us/step - loss: 1.1820 - accuracy: 0.1167\n",
      "Epoch 6/300\n",
      "12/12 [==============================] - 0s 542us/step - loss: 1.1383 - accuracy: 0.1417\n",
      "Epoch 7/300\n",
      "12/12 [==============================] - 0s 778us/step - loss: 1.1051 - accuracy: 0.1083\n",
      "Epoch 8/300\n",
      "12/12 [==============================] - 0s 632us/step - loss: 1.0884 - accuracy: 0.1833\n",
      "Epoch 9/300\n",
      "12/12 [==============================] - 0s 789us/step - loss: 1.0746 - accuracy: 0.3083\n",
      "Epoch 10/300\n",
      "12/12 [==============================] - 0s 855us/step - loss: 1.0610 - accuracy: 0.3083\n",
      "Epoch 11/300\n",
      "12/12 [==============================] - 0s 554us/step - loss: 1.0476 - accuracy: 0.3167\n",
      "Epoch 12/300\n",
      "12/12 [==============================] - 0s 648us/step - loss: 1.0330 - accuracy: 0.3250\n",
      "Epoch 13/300\n",
      "12/12 [==============================] - 0s 571us/step - loss: 1.0082 - accuracy: 0.3500\n",
      "Epoch 14/300\n",
      "12/12 [==============================] - 0s 660us/step - loss: 0.9871 - accuracy: 0.3667\n",
      "Epoch 15/300\n",
      "12/12 [==============================] - 0s 722us/step - loss: 0.9642 - accuracy: 0.3667\n",
      "Epoch 16/300\n",
      "12/12 [==============================] - 0s 681us/step - loss: 0.9430 - accuracy: 0.4167\n",
      "Epoch 17/300\n",
      "12/12 [==============================] - 0s 570us/step - loss: 0.9208 - accuracy: 0.6250\n",
      "Epoch 18/300\n",
      "12/12 [==============================] - 0s 598us/step - loss: 0.8881 - accuracy: 0.7250\n",
      "Epoch 19/300\n",
      "12/12 [==============================] - 0s 622us/step - loss: 0.8498 - accuracy: 0.6833\n",
      "Epoch 20/300\n",
      "12/12 [==============================] - 0s 1ms/step - loss: 0.7886 - accuracy: 0.8083\n",
      "Epoch 21/300\n",
      "12/12 [==============================] - 0s 767us/step - loss: 0.7284 - accuracy: 0.8667\n",
      "Epoch 22/300\n",
      "12/12 [==============================] - 0s 551us/step - loss: 0.6759 - accuracy: 0.9000\n",
      "Epoch 23/300\n",
      "12/12 [==============================] - 0s 801us/step - loss: 0.6400 - accuracy: 0.9167\n",
      "Epoch 24/300\n",
      "12/12 [==============================] - 0s 633us/step - loss: 0.6128 - accuracy: 0.9167\n",
      "Epoch 25/300\n",
      "12/12 [==============================] - 0s 704us/step - loss: 0.5868 - accuracy: 0.9167\n",
      "Epoch 26/300\n",
      "12/12 [==============================] - 0s 747us/step - loss: 0.5644 - accuracy: 0.9333\n",
      "Epoch 27/300\n",
      "12/12 [==============================] - 0s 571us/step - loss: 0.5379 - accuracy: 0.9333\n",
      "Epoch 28/300\n",
      "12/12 [==============================] - 0s 856us/step - loss: 0.5173 - accuracy: 0.9333\n",
      "Epoch 29/300\n",
      "12/12 [==============================] - 0s 999us/step - loss: 0.4964 - accuracy: 0.9417\n",
      "Epoch 30/300\n",
      "12/12 [==============================] - 0s 630us/step - loss: 0.4753 - accuracy: 0.9500\n",
      "Epoch 31/300\n",
      "12/12 [==============================] - 0s 736us/step - loss: 0.4552 - accuracy: 0.9417\n",
      "Epoch 32/300\n",
      "12/12 [==============================] - 0s 741us/step - loss: 0.4373 - accuracy: 0.9583\n",
      "Epoch 33/300\n",
      "12/12 [==============================] - 0s 563us/step - loss: 0.4186 - accuracy: 0.9583\n",
      "Epoch 34/300\n",
      "12/12 [==============================] - 0s 684us/step - loss: 0.4015 - accuracy: 0.9500\n",
      "Epoch 35/300\n",
      "12/12 [==============================] - 0s 557us/step - loss: 0.3851 - accuracy: 0.9500\n",
      "Epoch 36/300\n",
      "12/12 [==============================] - 0s 767us/step - loss: 0.3738 - accuracy: 0.9667\n",
      "Epoch 37/300\n",
      "12/12 [==============================] - 0s 746us/step - loss: 0.3565 - accuracy: 0.9500\n",
      "Epoch 38/300\n",
      "12/12 [==============================] - 0s 569us/step - loss: 0.3510 - accuracy: 0.9583\n",
      "Epoch 39/300\n",
      "12/12 [==============================] - 0s 794us/step - loss: 0.3341 - accuracy: 0.9417\n",
      "Epoch 40/300\n",
      "12/12 [==============================] - 0s 1ms/step - loss: 0.3164 - accuracy: 0.9667\n",
      "Epoch 41/300\n",
      "12/12 [==============================] - 0s 676us/step - loss: 0.3069 - accuracy: 0.9667\n",
      "Epoch 42/300\n",
      "12/12 [==============================] - 0s 571us/step - loss: 0.2977 - accuracy: 0.9500\n",
      "Epoch 43/300\n",
      "12/12 [==============================] - 0s 731us/step - loss: 0.2862 - accuracy: 0.9667\n",
      "Epoch 44/300\n",
      "12/12 [==============================] - 0s 577us/step - loss: 0.2735 - accuracy: 0.9667\n",
      "Epoch 45/300\n",
      "12/12 [==============================] - 0s 641us/step - loss: 0.2636 - accuracy: 0.9583\n",
      "Epoch 46/300\n",
      "12/12 [==============================] - 0s 564us/step - loss: 0.2549 - accuracy: 0.9667\n",
      "Epoch 47/300\n",
      "12/12 [==============================] - 0s 703us/step - loss: 0.2474 - accuracy: 0.9583\n",
      "Epoch 48/300\n",
      "12/12 [==============================] - 0s 578us/step - loss: 0.2430 - accuracy: 0.9667\n",
      "Epoch 49/300\n",
      "12/12 [==============================] - 0s 655us/step - loss: 0.2317 - accuracy: 0.9667\n",
      "Epoch 50/300\n",
      "12/12 [==============================] - 0s 769us/step - loss: 0.2298 - accuracy: 0.9667\n",
      "Epoch 51/300\n",
      "12/12 [==============================] - 0s 560us/step - loss: 0.2222 - accuracy: 0.9667\n",
      "Epoch 52/300\n",
      "12/12 [==============================] - 0s 669us/step - loss: 0.2146 - accuracy: 0.9667\n",
      "Epoch 53/300\n",
      "12/12 [==============================] - 0s 1ms/step - loss: 0.2107 - accuracy: 0.9667\n",
      "Epoch 54/300\n",
      "12/12 [==============================] - 0s 577us/step - loss: 0.2047 - accuracy: 0.9667\n",
      "Epoch 55/300\n",
      "12/12 [==============================] - 0s 772us/step - loss: 0.2006 - accuracy: 0.9667\n",
      "Epoch 56/300\n",
      "12/12 [==============================] - 0s 751us/step - loss: 0.2048 - accuracy: 0.9583\n",
      "Epoch 57/300\n",
      "12/12 [==============================] - 0s 547us/step - loss: 0.2070 - accuracy: 0.9500\n",
      "Epoch 58/300\n",
      "12/12 [==============================] - 0s 610us/step - loss: 0.1866 - accuracy: 0.9583\n",
      "Epoch 59/300\n",
      "12/12 [==============================] - 0s 532us/step - loss: 0.1908 - accuracy: 0.9583\n",
      "Epoch 60/300\n",
      "12/12 [==============================] - 0s 568us/step - loss: 0.1823 - accuracy: 0.9667\n",
      "Epoch 61/300\n",
      "12/12 [==============================] - 0s 587us/step - loss: 0.1795 - accuracy: 0.9667\n",
      "Epoch 62/300\n",
      "12/12 [==============================] - 0s 644us/step - loss: 0.1761 - accuracy: 0.9583\n",
      "Epoch 63/300\n",
      "12/12 [==============================] - 0s 534us/step - loss: 0.1715 - accuracy: 0.9833\n",
      "Epoch 64/300\n",
      "12/12 [==============================] - 0s 550us/step - loss: 0.1715 - accuracy: 0.9750\n",
      "Epoch 65/300\n",
      "12/12 [==============================] - 0s 564us/step - loss: 0.1666 - accuracy: 0.9667\n",
      "Epoch 66/300\n",
      "12/12 [==============================] - 0s 554us/step - loss: 0.1664 - accuracy: 0.9667\n",
      "Epoch 67/300\n",
      "12/12 [==============================] - 0s 572us/step - loss: 0.1610 - accuracy: 0.9667\n",
      "Epoch 68/300\n",
      "12/12 [==============================] - 0s 729us/step - loss: 0.1643 - accuracy: 0.9417\n",
      "Epoch 69/300\n",
      "12/12 [==============================] - 0s 555us/step - loss: 0.1534 - accuracy: 0.9667\n",
      "Epoch 70/300\n",
      "12/12 [==============================] - 0s 542us/step - loss: 0.1542 - accuracy: 0.9667\n",
      "Epoch 71/300\n",
      "12/12 [==============================] - 0s 759us/step - loss: 0.1505 - accuracy: 0.9667\n",
      "Epoch 72/300\n",
      "12/12 [==============================] - 0s 585us/step - loss: 0.1485 - accuracy: 0.9667\n",
      "Epoch 73/300\n",
      "12/12 [==============================] - 0s 637us/step - loss: 0.1487 - accuracy: 0.9667\n",
      "Epoch 74/300\n",
      "12/12 [==============================] - 0s 563us/step - loss: 0.1452 - accuracy: 0.9750\n",
      "Epoch 75/300\n",
      "12/12 [==============================] - 0s 569us/step - loss: 0.1472 - accuracy: 0.9667\n",
      "Epoch 76/300\n",
      "12/12 [==============================] - 0s 687us/step - loss: 0.1419 - accuracy: 0.9750\n",
      "Epoch 77/300\n",
      "12/12 [==============================] - 0s 603us/step - loss: 0.1393 - accuracy: 0.9667\n",
      "Epoch 78/300\n",
      "12/12 [==============================] - 0s 583us/step - loss: 0.1430 - accuracy: 0.9750\n",
      "Epoch 79/300\n",
      "12/12 [==============================] - 0s 544us/step - loss: 0.1359 - accuracy: 0.9667\n",
      "Epoch 80/300\n",
      "12/12 [==============================] - 0s 534us/step - loss: 0.1353 - accuracy: 0.9667\n",
      "Epoch 81/300\n"
     ]
    },
    {
     "name": "stdout",
     "output_type": "stream",
     "text": [
      "12/12 [==============================] - 0s 757us/step - loss: 0.1371 - accuracy: 0.9667\n",
      "Epoch 82/300\n",
      "12/12 [==============================] - 0s 559us/step - loss: 0.1307 - accuracy: 0.9667\n",
      "Epoch 83/300\n",
      "12/12 [==============================] - ETA: 0s - loss: 0.1734 - accuracy: 1.00 - 0s 915us/step - loss: 0.1339 - accuracy: 0.9750\n",
      "Epoch 84/300\n",
      "12/12 [==============================] - 0s 654us/step - loss: 0.1316 - accuracy: 0.9667\n",
      "Epoch 85/300\n",
      "12/12 [==============================] - 0s 530us/step - loss: 0.1296 - accuracy: 0.9667\n",
      "Epoch 86/300\n",
      "12/12 [==============================] - 0s 626us/step - loss: 0.1247 - accuracy: 0.9833\n",
      "Epoch 87/300\n",
      "12/12 [==============================] - 0s 558us/step - loss: 0.1316 - accuracy: 0.9667\n",
      "Epoch 88/300\n",
      "12/12 [==============================] - 0s 657us/step - loss: 0.1216 - accuracy: 0.9667\n",
      "Epoch 89/300\n",
      "12/12 [==============================] - 0s 536us/step - loss: 0.1303 - accuracy: 0.9583\n",
      "Epoch 90/300\n",
      "12/12 [==============================] - 0s 566us/step - loss: 0.1206 - accuracy: 0.9667\n",
      "Epoch 91/300\n",
      "12/12 [==============================] - 0s 611us/step - loss: 0.1207 - accuracy: 0.9667\n",
      "Epoch 92/300\n",
      "12/12 [==============================] - 0s 519us/step - loss: 0.1190 - accuracy: 0.9750\n",
      "Epoch 93/300\n",
      "12/12 [==============================] - 0s 585us/step - loss: 0.1199 - accuracy: 0.9750\n",
      "Epoch 94/300\n",
      "12/12 [==============================] - 0s 618us/step - loss: 0.1173 - accuracy: 0.9750\n",
      "Epoch 95/300\n",
      "12/12 [==============================] - 0s 628us/step - loss: 0.1164 - accuracy: 0.9667\n",
      "Epoch 96/300\n",
      "12/12 [==============================] - 0s 556us/step - loss: 0.1174 - accuracy: 0.9667\n",
      "Epoch 97/300\n",
      "12/12 [==============================] - 0s 620us/step - loss: 0.1135 - accuracy: 0.9667\n",
      "Epoch 98/300\n",
      "12/12 [==============================] - 0s 568us/step - loss: 0.1142 - accuracy: 0.9833\n",
      "Epoch 99/300\n",
      "12/12 [==============================] - 0s 585us/step - loss: 0.1120 - accuracy: 0.9833\n",
      "Epoch 100/300\n",
      "12/12 [==============================] - 0s 677us/step - loss: 0.1140 - accuracy: 0.9750\n",
      "Epoch 101/300\n",
      "12/12 [==============================] - 0s 548us/step - loss: 0.1204 - accuracy: 0.9500\n",
      "Epoch 102/300\n",
      "12/12 [==============================] - 0s 774us/step - loss: 0.1112 - accuracy: 0.9750\n",
      "Epoch 103/300\n",
      "12/12 [==============================] - 0s 506us/step - loss: 0.1113 - accuracy: 0.9667\n",
      "Epoch 104/300\n",
      "12/12 [==============================] - 0s 574us/step - loss: 0.1172 - accuracy: 0.9667\n",
      "Epoch 105/300\n",
      "12/12 [==============================] - 0s 590us/step - loss: 0.1140 - accuracy: 0.9667\n",
      "Epoch 106/300\n",
      "12/12 [==============================] - 0s 574us/step - loss: 0.1073 - accuracy: 0.9667\n",
      "Epoch 107/300\n",
      "12/12 [==============================] - 0s 708us/step - loss: 0.1061 - accuracy: 0.9833\n",
      "Epoch 108/300\n",
      "12/12 [==============================] - 0s 532us/step - loss: 0.1060 - accuracy: 0.9833\n",
      "Epoch 109/300\n",
      "12/12 [==============================] - 0s 631us/step - loss: 0.1086 - accuracy: 0.9667\n",
      "Epoch 110/300\n",
      "12/12 [==============================] - 0s 635us/step - loss: 0.1077 - accuracy: 0.9667\n",
      "Epoch 111/300\n",
      "12/12 [==============================] - 0s 605us/step - loss: 0.1082 - accuracy: 0.9583\n",
      "Epoch 112/300\n",
      "12/12 [==============================] - 0s 557us/step - loss: 0.1071 - accuracy: 0.9750\n",
      "Epoch 113/300\n",
      "12/12 [==============================] - 0s 635us/step - loss: 0.1018 - accuracy: 0.9833\n",
      "Epoch 114/300\n",
      "12/12 [==============================] - 0s 563us/step - loss: 0.1060 - accuracy: 0.9750\n",
      "Epoch 115/300\n",
      "12/12 [==============================] - 0s 582us/step - loss: 0.1058 - accuracy: 0.9750\n",
      "Epoch 116/300\n",
      "12/12 [==============================] - 0s 578us/step - loss: 0.1055 - accuracy: 0.9667\n",
      "Epoch 117/300\n",
      "12/12 [==============================] - 0s 526us/step - loss: 0.1118 - accuracy: 0.9500\n",
      "Epoch 118/300\n",
      "12/12 [==============================] - 0s 691us/step - loss: 0.0965 - accuracy: 0.9750\n",
      "Epoch 119/300\n",
      "12/12 [==============================] - 0s 531us/step - loss: 0.1009 - accuracy: 0.9667\n",
      "Epoch 120/300\n",
      "12/12 [==============================] - 0s 609us/step - loss: 0.1048 - accuracy: 0.9750\n",
      "Epoch 121/300\n",
      "12/12 [==============================] - 0s 573us/step - loss: 0.1009 - accuracy: 0.9750\n",
      "Epoch 122/300\n",
      "12/12 [==============================] - 0s 638us/step - loss: 0.1004 - accuracy: 0.9750\n",
      "Epoch 123/300\n",
      "12/12 [==============================] - 0s 583us/step - loss: 0.0997 - accuracy: 0.9667\n",
      "Epoch 124/300\n",
      "12/12 [==============================] - 0s 646us/step - loss: 0.0966 - accuracy: 0.9750\n",
      "Epoch 125/300\n",
      "12/12 [==============================] - 0s 536us/step - loss: 0.0980 - accuracy: 0.9583\n",
      "Epoch 126/300\n",
      "12/12 [==============================] - 0s 623us/step - loss: 0.1015 - accuracy: 0.9750\n",
      "Epoch 127/300\n",
      "12/12 [==============================] - 0s 585us/step - loss: 0.1003 - accuracy: 0.9750\n",
      "Epoch 128/300\n",
      "12/12 [==============================] - 0s 592us/step - loss: 0.0931 - accuracy: 0.9833\n",
      "Epoch 129/300\n",
      "12/12 [==============================] - 0s 529us/step - loss: 0.0960 - accuracy: 0.9667\n",
      "Epoch 130/300\n",
      "12/12 [==============================] - 0s 598us/step - loss: 0.0933 - accuracy: 0.9750\n",
      "Epoch 131/300\n",
      "12/12 [==============================] - 0s 605us/step - loss: 0.0925 - accuracy: 0.9833\n",
      "Epoch 132/300\n",
      "12/12 [==============================] - 0s 566us/step - loss: 0.0946 - accuracy: 0.9833\n",
      "Epoch 133/300\n",
      "12/12 [==============================] - 0s 719us/step - loss: 0.0932 - accuracy: 0.9750\n",
      "Epoch 134/300\n",
      "12/12 [==============================] - 0s 513us/step - loss: 0.0914 - accuracy: 0.9750\n",
      "Epoch 135/300\n",
      "12/12 [==============================] - 0s 697us/step - loss: 0.0940 - accuracy: 0.9750\n",
      "Epoch 136/300\n",
      "12/12 [==============================] - 0s 586us/step - loss: 0.0921 - accuracy: 0.9667\n",
      "Epoch 137/300\n",
      "12/12 [==============================] - 0s 587us/step - loss: 0.0916 - accuracy: 0.9750\n",
      "Epoch 138/300\n",
      "12/12 [==============================] - 0s 548us/step - loss: 0.0903 - accuracy: 0.9750\n",
      "Epoch 139/300\n",
      "12/12 [==============================] - 0s 625us/step - loss: 0.0910 - accuracy: 0.9750\n",
      "Epoch 140/300\n",
      "12/12 [==============================] - 0s 594us/step - loss: 0.0929 - accuracy: 0.9667\n",
      "Epoch 141/300\n",
      "12/12 [==============================] - 0s 569us/step - loss: 0.0888 - accuracy: 0.9750\n",
      "Epoch 142/300\n",
      "12/12 [==============================] - 0s 634us/step - loss: 0.0910 - accuracy: 0.9667\n",
      "Epoch 143/300\n",
      "12/12 [==============================] - 0s 594us/step - loss: 0.0892 - accuracy: 0.9750\n",
      "Epoch 144/300\n",
      "12/12 [==============================] - 0s 653us/step - loss: 0.0891 - accuracy: 0.9833\n",
      "Epoch 145/300\n",
      "12/12 [==============================] - 0s 608us/step - loss: 0.0928 - accuracy: 0.9667\n",
      "Epoch 146/300\n",
      "12/12 [==============================] - 0s 631us/step - loss: 0.0912 - accuracy: 0.9667\n",
      "Epoch 147/300\n",
      "12/12 [==============================] - 0s 536us/step - loss: 0.0857 - accuracy: 0.9667\n",
      "Epoch 148/300\n",
      "12/12 [==============================] - 0s 614us/step - loss: 0.0871 - accuracy: 0.9750\n",
      "Epoch 149/300\n",
      "12/12 [==============================] - 0s 575us/step - loss: 0.0896 - accuracy: 0.9750\n",
      "Epoch 150/300\n",
      "12/12 [==============================] - 0s 695us/step - loss: 0.0897 - accuracy: 0.9750\n",
      "Epoch 151/300\n",
      "12/12 [==============================] - 0s 541us/step - loss: 0.0843 - accuracy: 0.9833\n",
      "Epoch 152/300\n",
      "12/12 [==============================] - 0s 540us/step - loss: 0.0903 - accuracy: 0.9750\n",
      "Epoch 153/300\n",
      "12/12 [==============================] - 0s 673us/step - loss: 0.0847 - accuracy: 0.9917\n",
      "Epoch 154/300\n",
      "12/12 [==============================] - 0s 556us/step - loss: 0.0880 - accuracy: 0.9667\n",
      "Epoch 155/300\n",
      "12/12 [==============================] - 0s 652us/step - loss: 0.0882 - accuracy: 0.9750\n",
      "Epoch 156/300\n",
      "12/12 [==============================] - 0s 586us/step - loss: 0.0854 - accuracy: 0.9750\n",
      "Epoch 157/300\n",
      "12/12 [==============================] - 0s 617us/step - loss: 0.0853 - accuracy: 0.9667\n",
      "Epoch 158/300\n",
      "12/12 [==============================] - 0s 619us/step - loss: 0.0856 - accuracy: 0.9667\n",
      "Epoch 159/300\n",
      "12/12 [==============================] - 0s 668us/step - loss: 0.0882 - accuracy: 0.9750\n",
      "Epoch 160/300\n"
     ]
    },
    {
     "name": "stdout",
     "output_type": "stream",
     "text": [
      "12/12 [==============================] - 0s 1ms/step - loss: 0.0844 - accuracy: 0.9917\n",
      "Epoch 161/300\n",
      "12/12 [==============================] - 0s 552us/step - loss: 0.0849 - accuracy: 0.9833\n",
      "Epoch 162/300\n",
      "12/12 [==============================] - 0s 1ms/step - loss: 0.0828 - accuracy: 0.9833\n",
      "Epoch 163/300\n",
      "12/12 [==============================] - 0s 692us/step - loss: 0.0834 - accuracy: 0.9833\n",
      "Epoch 164/300\n",
      "12/12 [==============================] - 0s 616us/step - loss: 0.0852 - accuracy: 0.9750\n",
      "Epoch 165/300\n",
      "12/12 [==============================] - 0s 508us/step - loss: 0.0793 - accuracy: 0.9833\n",
      "Epoch 166/300\n",
      "12/12 [==============================] - 0s 569us/step - loss: 0.0882 - accuracy: 0.9583\n",
      "Epoch 167/300\n",
      "12/12 [==============================] - 0s 541us/step - loss: 0.0872 - accuracy: 0.9750\n",
      "Epoch 168/300\n",
      "12/12 [==============================] - 0s 547us/step - loss: 0.0822 - accuracy: 0.9750\n",
      "Epoch 169/300\n",
      "12/12 [==============================] - 0s 566us/step - loss: 0.0837 - accuracy: 0.9750\n",
      "Epoch 170/300\n",
      "12/12 [==============================] - 0s 632us/step - loss: 0.0793 - accuracy: 0.9750\n",
      "Epoch 171/300\n",
      "12/12 [==============================] - 0s 540us/step - loss: 0.0825 - accuracy: 0.9750\n",
      "Epoch 172/300\n",
      "12/12 [==============================] - 0s 829us/step - loss: 0.0829 - accuracy: 0.9667\n",
      "Epoch 173/300\n",
      "12/12 [==============================] - 0s 626us/step - loss: 0.0795 - accuracy: 0.9750\n",
      "Epoch 174/300\n",
      "12/12 [==============================] - 0s 571us/step - loss: 0.0814 - accuracy: 0.9667\n",
      "Epoch 175/300\n",
      "12/12 [==============================] - 0s 547us/step - loss: 0.0800 - accuracy: 0.9917\n",
      "Epoch 176/300\n",
      "12/12 [==============================] - 0s 574us/step - loss: 0.0821 - accuracy: 0.9750\n",
      "Epoch 177/300\n",
      "12/12 [==============================] - 0s 618us/step - loss: 0.0796 - accuracy: 0.9750\n",
      "Epoch 178/300\n",
      "12/12 [==============================] - 0s 576us/step - loss: 0.0796 - accuracy: 0.9750\n",
      "Epoch 179/300\n",
      "12/12 [==============================] - 0s 628us/step - loss: 0.0794 - accuracy: 0.9750\n",
      "Epoch 180/300\n",
      "12/12 [==============================] - 0s 545us/step - loss: 0.0789 - accuracy: 0.9833\n",
      "Epoch 181/300\n",
      "12/12 [==============================] - 0s 697us/step - loss: 0.0811 - accuracy: 0.9833\n",
      "Epoch 182/300\n",
      "12/12 [==============================] - 0s 576us/step - loss: 0.0803 - accuracy: 0.9750\n",
      "Epoch 183/300\n",
      "12/12 [==============================] - 0s 653us/step - loss: 0.0813 - accuracy: 0.9750\n",
      "Epoch 184/300\n",
      "12/12 [==============================] - 0s 573us/step - loss: 0.0799 - accuracy: 0.9833\n",
      "Epoch 185/300\n",
      "12/12 [==============================] - 0s 574us/step - loss: 0.0823 - accuracy: 0.9750\n",
      "Epoch 186/300\n",
      "12/12 [==============================] - 0s 572us/step - loss: 0.0799 - accuracy: 0.9667\n",
      "Epoch 187/300\n",
      "12/12 [==============================] - 0s 596us/step - loss: 0.0882 - accuracy: 0.9583\n",
      "Epoch 188/300\n",
      "12/12 [==============================] - 0s 619us/step - loss: 0.0959 - accuracy: 0.9583\n",
      "Epoch 189/300\n",
      "12/12 [==============================] - 0s 612us/step - loss: 0.0771 - accuracy: 0.9833\n",
      "Epoch 190/300\n",
      "12/12 [==============================] - 0s 683us/step - loss: 0.0792 - accuracy: 0.9833\n",
      "Epoch 191/300\n",
      "12/12 [==============================] - 0s 719us/step - loss: 0.0803 - accuracy: 0.9750\n",
      "Epoch 192/300\n",
      "12/12 [==============================] - 0s 543us/step - loss: 0.0760 - accuracy: 0.9917\n",
      "Epoch 193/300\n",
      "12/12 [==============================] - 0s 577us/step - loss: 0.0771 - accuracy: 0.9667\n",
      "Epoch 194/300\n",
      "12/12 [==============================] - 0s 644us/step - loss: 0.0764 - accuracy: 0.9750\n",
      "Epoch 195/300\n",
      "12/12 [==============================] - 0s 666us/step - loss: 0.0771 - accuracy: 0.9750\n",
      "Epoch 196/300\n",
      "12/12 [==============================] - 0s 537us/step - loss: 0.0764 - accuracy: 0.9833\n",
      "Epoch 197/300\n",
      "12/12 [==============================] - 0s 678us/step - loss: 0.0782 - accuracy: 0.9750\n",
      "Epoch 198/300\n",
      "12/12 [==============================] - 0s 580us/step - loss: 0.0781 - accuracy: 0.9750\n",
      "Epoch 199/300\n",
      "12/12 [==============================] - 0s 639us/step - loss: 0.0774 - accuracy: 0.9750\n",
      "Epoch 200/300\n",
      "12/12 [==============================] - 0s 563us/step - loss: 0.0763 - accuracy: 0.9750\n",
      "Epoch 201/300\n",
      "12/12 [==============================] - 0s 657us/step - loss: 0.0788 - accuracy: 0.9750\n",
      "Epoch 202/300\n",
      "12/12 [==============================] - 0s 614us/step - loss: 0.0755 - accuracy: 0.9750\n",
      "Epoch 203/300\n",
      "12/12 [==============================] - 0s 544us/step - loss: 0.0758 - accuracy: 0.9750\n",
      "Epoch 204/300\n",
      "12/12 [==============================] - 0s 693us/step - loss: 0.0789 - accuracy: 0.9667\n",
      "Epoch 205/300\n",
      "12/12 [==============================] - 0s 571us/step - loss: 0.0751 - accuracy: 0.9917\n",
      "Epoch 206/300\n",
      "12/12 [==============================] - 0s 708us/step - loss: 0.0761 - accuracy: 0.9750\n",
      "Epoch 207/300\n",
      "12/12 [==============================] - 0s 559us/step - loss: 0.0770 - accuracy: 0.9750\n",
      "Epoch 208/300\n",
      "12/12 [==============================] - 0s 565us/step - loss: 0.0729 - accuracy: 0.9750\n",
      "Epoch 209/300\n",
      "12/12 [==============================] - 0s 701us/step - loss: 0.0752 - accuracy: 0.9750\n",
      "Epoch 210/300\n",
      "12/12 [==============================] - 0s 615us/step - loss: 0.0760 - accuracy: 0.9750\n",
      "Epoch 211/300\n",
      "12/12 [==============================] - ETA: 0s - loss: 0.0162 - accuracy: 1.00 - 0s 709us/step - loss: 0.0734 - accuracy: 0.9750\n",
      "Epoch 212/300\n",
      "12/12 [==============================] - 0s 560us/step - loss: 0.0758 - accuracy: 0.9667\n",
      "Epoch 213/300\n",
      "12/12 [==============================] - 0s 644us/step - loss: 0.0741 - accuracy: 0.9833\n",
      "Epoch 214/300\n",
      "12/12 [==============================] - 0s 585us/step - loss: 0.0738 - accuracy: 0.9917\n",
      "Epoch 215/300\n",
      "12/12 [==============================] - 0s 588us/step - loss: 0.0772 - accuracy: 0.9750\n",
      "Epoch 216/300\n",
      "12/12 [==============================] - 0s 695us/step - loss: 0.0773 - accuracy: 0.9833\n",
      "Epoch 217/300\n",
      "12/12 [==============================] - 0s 594us/step - loss: 0.0731 - accuracy: 0.9833\n",
      "Epoch 218/300\n",
      "12/12 [==============================] - 0s 651us/step - loss: 0.0754 - accuracy: 0.9667\n",
      "Epoch 219/300\n",
      "12/12 [==============================] - 0s 552us/step - loss: 0.0739 - accuracy: 0.9750\n",
      "Epoch 220/300\n",
      "12/12 [==============================] - 0s 707us/step - loss: 0.0729 - accuracy: 0.9833\n",
      "Epoch 221/300\n",
      "12/12 [==============================] - 0s 563us/step - loss: 0.0745 - accuracy: 0.9833\n",
      "Epoch 222/300\n",
      "12/12 [==============================] - 0s 604us/step - loss: 0.0838 - accuracy: 0.9750\n",
      "Epoch 223/300\n",
      "12/12 [==============================] - 0s 692us/step - loss: 0.0710 - accuracy: 0.9833\n",
      "Epoch 224/300\n",
      "12/12 [==============================] - 0s 554us/step - loss: 0.0768 - accuracy: 0.9667\n",
      "Epoch 225/300\n",
      "12/12 [==============================] - 0s 614us/step - loss: 0.0719 - accuracy: 0.9750\n",
      "Epoch 226/300\n",
      "12/12 [==============================] - 0s 587us/step - loss: 0.0723 - accuracy: 0.9833\n",
      "Epoch 227/300\n",
      "12/12 [==============================] - 0s 604us/step - loss: 0.0720 - accuracy: 0.9833\n",
      "Epoch 228/300\n",
      "12/12 [==============================] - 0s 553us/step - loss: 0.0735 - accuracy: 0.9750\n",
      "Epoch 229/300\n",
      "12/12 [==============================] - 0s 654us/step - loss: 0.0725 - accuracy: 0.9833\n",
      "Epoch 230/300\n",
      "12/12 [==============================] - 0s 652us/step - loss: 0.0736 - accuracy: 0.9750\n",
      "Epoch 231/300\n",
      "12/12 [==============================] - 0s 563us/step - loss: 0.0713 - accuracy: 0.9917\n",
      "Epoch 232/300\n",
      "12/12 [==============================] - 0s 800us/step - loss: 0.0722 - accuracy: 0.9833\n",
      "Epoch 233/300\n",
      "12/12 [==============================] - 0s 990us/step - loss: 0.0813 - accuracy: 0.9750\n",
      "Epoch 234/300\n",
      "12/12 [==============================] - 0s 624us/step - loss: 0.0766 - accuracy: 0.9750\n",
      "Epoch 235/300\n",
      "12/12 [==============================] - 0s 622us/step - loss: 0.0746 - accuracy: 0.9667\n",
      "Epoch 236/300\n",
      "12/12 [==============================] - 0s 548us/step - loss: 0.0723 - accuracy: 0.9833\n",
      "Epoch 237/300\n",
      "12/12 [==============================] - 0s 595us/step - loss: 0.0749 - accuracy: 0.9667\n",
      "Epoch 238/300\n",
      "12/12 [==============================] - 0s 559us/step - loss: 0.0726 - accuracy: 0.9750\n",
      "Epoch 239/300\n"
     ]
    },
    {
     "name": "stdout",
     "output_type": "stream",
     "text": [
      "12/12 [==============================] - 0s 639us/step - loss: 0.0703 - accuracy: 0.9750\n",
      "Epoch 240/300\n",
      "12/12 [==============================] - 0s 548us/step - loss: 0.0789 - accuracy: 0.9667\n",
      "Epoch 241/300\n",
      "12/12 [==============================] - 0s 526us/step - loss: 0.0711 - accuracy: 0.9750\n",
      "Epoch 242/300\n",
      "12/12 [==============================] - 0s 781us/step - loss: 0.0776 - accuracy: 0.9667\n",
      "Epoch 243/300\n",
      "12/12 [==============================] - 0s 528us/step - loss: 0.0713 - accuracy: 0.9833\n",
      "Epoch 244/300\n",
      "12/12 [==============================] - 0s 773us/step - loss: 0.0729 - accuracy: 0.9833\n",
      "Epoch 245/300\n",
      "12/12 [==============================] - 0s 548us/step - loss: 0.0751 - accuracy: 0.9750\n",
      "Epoch 246/300\n",
      "12/12 [==============================] - 0s 618us/step - loss: 0.0698 - accuracy: 0.9833\n",
      "Epoch 247/300\n",
      "12/12 [==============================] - 0s 597us/step - loss: 0.0715 - accuracy: 0.9833\n",
      "Epoch 248/300\n",
      "12/12 [==============================] - 0s 610us/step - loss: 0.0735 - accuracy: 0.9750\n",
      "Epoch 249/300\n",
      "12/12 [==============================] - 0s 596us/step - loss: 0.0759 - accuracy: 0.9667\n",
      "Epoch 250/300\n",
      "12/12 [==============================] - 0s 589us/step - loss: 0.0755 - accuracy: 0.9833\n",
      "Epoch 251/300\n",
      "12/12 [==============================] - 0s 668us/step - loss: 0.0734 - accuracy: 0.9750\n",
      "Epoch 252/300\n",
      "12/12 [==============================] - 0s 589us/step - loss: 0.0704 - accuracy: 0.9750\n",
      "Epoch 253/300\n",
      "12/12 [==============================] - 0s 637us/step - loss: 0.0721 - accuracy: 0.9667\n",
      "Epoch 254/300\n",
      "12/12 [==============================] - 0s 556us/step - loss: 0.0709 - accuracy: 0.9750\n",
      "Epoch 255/300\n",
      "12/12 [==============================] - 0s 641us/step - loss: 0.0844 - accuracy: 0.9500\n",
      "Epoch 256/300\n",
      "12/12 [==============================] - 0s 550us/step - loss: 0.0705 - accuracy: 0.9750\n",
      "Epoch 257/300\n",
      "12/12 [==============================] - 0s 652us/step - loss: 0.0713 - accuracy: 0.9750\n",
      "Epoch 258/300\n",
      "12/12 [==============================] - 0s 588us/step - loss: 0.0717 - accuracy: 0.9833\n",
      "Epoch 259/300\n",
      "12/12 [==============================] - 0s 552us/step - loss: 0.0803 - accuracy: 0.9500\n",
      "Epoch 260/300\n",
      "12/12 [==============================] - 0s 656us/step - loss: 0.0735 - accuracy: 0.9750\n",
      "Epoch 261/300\n",
      "12/12 [==============================] - 0s 561us/step - loss: 0.0708 - accuracy: 0.9833\n",
      "Epoch 262/300\n",
      "12/12 [==============================] - 0s 689us/step - loss: 0.0693 - accuracy: 0.9750\n",
      "Epoch 263/300\n",
      "12/12 [==============================] - 0s 575us/step - loss: 0.0690 - accuracy: 0.9750\n",
      "Epoch 264/300\n",
      "12/12 [==============================] - 0s 599us/step - loss: 0.0691 - accuracy: 0.9833\n",
      "Epoch 265/300\n",
      "12/12 [==============================] - 0s 590us/step - loss: 0.0683 - accuracy: 0.9750\n",
      "Epoch 266/300\n",
      "12/12 [==============================] - 0s 603us/step - loss: 0.0690 - accuracy: 0.9833\n",
      "Epoch 267/300\n",
      "12/12 [==============================] - 0s 591us/step - loss: 0.0686 - accuracy: 0.9833\n",
      "Epoch 268/300\n",
      "12/12 [==============================] - 0s 622us/step - loss: 0.0691 - accuracy: 0.9833\n",
      "Epoch 269/300\n",
      "12/12 [==============================] - 0s 543us/step - loss: 0.0680 - accuracy: 0.9750\n",
      "Epoch 270/300\n",
      "12/12 [==============================] - 0s 585us/step - loss: 0.0749 - accuracy: 0.9750\n",
      "Epoch 271/300\n",
      "12/12 [==============================] - 0s 570us/step - loss: 0.0722 - accuracy: 0.9667\n",
      "Epoch 272/300\n",
      "12/12 [==============================] - 0s 576us/step - loss: 0.0695 - accuracy: 0.9750\n",
      "Epoch 273/300\n",
      "12/12 [==============================] - 0s 658us/step - loss: 0.0692 - accuracy: 0.9750\n",
      "Epoch 274/300\n",
      "12/12 [==============================] - 0s 537us/step - loss: 0.0759 - accuracy: 0.9667\n",
      "Epoch 275/300\n",
      "12/12 [==============================] - 0s 624us/step - loss: 0.0692 - accuracy: 0.9833\n",
      "Epoch 276/300\n",
      "12/12 [==============================] - 0s 620us/step - loss: 0.0722 - accuracy: 0.9750\n",
      "Epoch 277/300\n",
      "12/12 [==============================] - 0s 623us/step - loss: 0.0706 - accuracy: 0.9750\n",
      "Epoch 278/300\n",
      "12/12 [==============================] - 0s 586us/step - loss: 0.0717 - accuracy: 0.9833\n",
      "Epoch 279/300\n",
      "12/12 [==============================] - 0s 532us/step - loss: 0.0683 - accuracy: 0.9833\n",
      "Epoch 280/300\n",
      "12/12 [==============================] - 0s 687us/step - loss: 0.0681 - accuracy: 0.9750\n",
      "Epoch 281/300\n",
      "12/12 [==============================] - 0s 562us/step - loss: 0.0674 - accuracy: 0.9833\n",
      "Epoch 282/300\n",
      "12/12 [==============================] - 0s 598us/step - loss: 0.0676 - accuracy: 0.9750\n",
      "Epoch 283/300\n",
      "12/12 [==============================] - 0s 573us/step - loss: 0.0718 - accuracy: 0.9750\n",
      "Epoch 284/300\n",
      "12/12 [==============================] - 0s 746us/step - loss: 0.0675 - accuracy: 0.9833\n",
      "Epoch 285/300\n",
      "12/12 [==============================] - 0s 578us/step - loss: 0.0675 - accuracy: 0.9750\n",
      "Epoch 286/300\n",
      "12/12 [==============================] - 0s 576us/step - loss: 0.0680 - accuracy: 0.9750\n",
      "Epoch 287/300\n",
      "12/12 [==============================] - 0s 678us/step - loss: 0.0749 - accuracy: 0.9583\n",
      "Epoch 288/300\n",
      "12/12 [==============================] - 0s 577us/step - loss: 0.0683 - accuracy: 0.9833\n",
      "Epoch 289/300\n",
      "12/12 [==============================] - 0s 606us/step - loss: 0.0671 - accuracy: 0.9833\n",
      "Epoch 290/300\n",
      "12/12 [==============================] - 0s 545us/step - loss: 0.0704 - accuracy: 0.9750\n",
      "Epoch 291/300\n",
      "12/12 [==============================] - 0s 729us/step - loss: 0.0656 - accuracy: 0.9917\n",
      "Epoch 292/300\n",
      "12/12 [==============================] - 0s 571us/step - loss: 0.0719 - accuracy: 0.9750\n",
      "Epoch 293/300\n",
      "12/12 [==============================] - 0s 686us/step - loss: 0.0703 - accuracy: 0.9750\n",
      "Epoch 294/300\n",
      "12/12 [==============================] - 0s 734us/step - loss: 0.0793 - accuracy: 0.9667\n",
      "Epoch 295/300\n",
      "12/12 [==============================] - 0s 644us/step - loss: 0.0650 - accuracy: 0.9667\n",
      "Epoch 296/300\n",
      "12/12 [==============================] - 0s 738us/step - loss: 0.0713 - accuracy: 0.9667\n",
      "Epoch 297/300\n",
      "12/12 [==============================] - 0s 652us/step - loss: 0.0741 - accuracy: 0.9667\n",
      "Epoch 298/300\n",
      "12/12 [==============================] - 0s 561us/step - loss: 0.0679 - accuracy: 0.9750\n",
      "Epoch 299/300\n",
      "12/12 [==============================] - 0s 739us/step - loss: 0.0716 - accuracy: 0.9667\n",
      "Epoch 300/300\n",
      "12/12 [==============================] - 0s 537us/step - loss: 0.0674 - accuracy: 0.9833\n"
     ]
    },
    {
     "data": {
      "text/plain": [
       "<tensorflow.python.keras.callbacks.History at 0x7f9234118dd8>"
      ]
     },
     "execution_count": 40,
     "metadata": {},
     "output_type": "execute_result"
    }
   ],
   "source": [
    "# Creating a model\n",
    "model = Sequential()\n",
    "model.add(Dense(10, input_dim=4, activation='relu'))\n",
    "model.add(Dense(10, activation='relu'))\n",
    "model.add(Dense(3, activation='softmax'))\n",
    "\n",
    "\n",
    "# Compiling model\n",
    "model.compile(loss='categorical_crossentropy', optimizer='adam', metrics=['accuracy'])\n",
    "# Training a model\n",
    "model.fit(X_train, encoding_train_y, epochs=300, batch_size=10)\n"
   ]
  },
  {
   "cell_type": "code",
   "execution_count": 41,
   "metadata": {},
   "outputs": [
    {
     "name": "stdout",
     "output_type": "stream",
     "text": [
      "1/1 [==============================] - 0s 594us/step - loss: 0.0547 - accuracy: 1.0000\n",
      "\n",
      "Accuracy: 100.00%\n"
     ]
    }
   ],
   "source": [
    "# Evaluate the model\n",
    "scores = model.evaluate(X_test, encoding_test_y)\n",
    "print(\"\\nAccuracy: %.2f%%\" % (scores[1]*100))\n"
   ]
  },
  {
   "cell_type": "code",
   "execution_count": 71,
   "metadata": {},
   "outputs": [
    {
     "name": "stdout",
     "output_type": "stream",
     "text": [
      "[sepallength, sepalwidth, petallength, petalwidth\n",
      "setosa versicolor virginica\n",
      " [[6.1 2.8 4.7 1.2 0.  1.  0. ]\n",
      " [5.7 3.8 1.7 0.3 1.  0.  0. ]\n",
      " [7.7 2.6 6.9 2.3 0.  0.  1. ]\n",
      " [6.  2.9 4.5 1.5 0.  1.  0. ]\n",
      " [6.8 2.8 4.8 1.4 0.  1.  0. ]\n",
      " [5.4 3.4 1.5 0.4 1.  0.  0. ]\n",
      " [5.6 2.9 3.6 1.3 0.  1.  0. ]\n",
      " [6.9 3.1 5.1 2.3 0.  0.  1. ]\n",
      " [6.2 2.2 4.5 1.5 0.  1.  0. ]\n",
      " [5.8 2.7 3.9 1.2 0.  1.  0. ]\n",
      " [6.5 3.2 5.1 2.  0.  0.  1. ]\n",
      " [4.8 3.  1.4 0.1 1.  0.  0. ]\n",
      " [5.5 3.5 1.3 0.2 1.  0.  0. ]\n",
      " [4.9 3.1 1.5 0.1 1.  0.  0. ]\n",
      " [5.1 3.8 1.5 0.3 1.  0.  0. ]\n",
      " [6.3 3.3 4.7 1.6 0.  1.  0. ]\n",
      " [6.5 3.  5.8 2.2 0.  0.  1. ]\n",
      " [5.6 2.5 3.9 1.1 0.  1.  0. ]\n",
      " [5.7 2.8 4.5 1.3 0.  1.  0. ]\n",
      " [6.4 2.8 5.6 2.2 0.  0.  1. ]\n",
      " [4.7 3.2 1.6 0.2 1.  0.  0. ]\n",
      " [6.1 3.  4.9 1.8 0.  0.  1. ]\n",
      " [5.  3.4 1.6 0.4 1.  0.  0. ]\n",
      " [6.4 2.8 5.6 2.1 0.  0.  1. ]\n",
      " [7.9 3.8 6.4 2.  0.  0.  1. ]\n",
      " [6.7 3.  5.2 2.3 0.  0.  1. ]\n",
      " [6.7 2.5 5.8 1.8 0.  0.  1. ]\n",
      " [6.8 3.2 5.9 2.3 0.  0.  1. ]\n",
      " [4.8 3.  1.4 0.3 1.  0.  0. ]\n",
      " [4.8 3.1 1.6 0.2 1.  0.  0. ]]\n"
     ]
    }
   ],
   "source": [
    "print(\"[sepallength, sepalwidth, petallength, petalwidth\\nsetosa versicolor virginica\\n\", np.concatenate((X_test, encoding_test_y), axis=1))\n",
    "#X_test"
   ]
  },
  {
   "cell_type": "code",
   "execution_count": 73,
   "metadata": {},
   "outputs": [
    {
     "data": {
      "text/plain": [
       "array([[9.9917883e-01, 8.2120782e-04, 4.0304154e-16]], dtype=float32)"
      ]
     },
     "execution_count": 73,
     "metadata": {},
     "output_type": "execute_result"
    }
   ],
   "source": [
    "# Create a data for fun\n",
    "# ['sepal length ( 2 cm)', 'sepal width (2 cm)', 'petal length ( 1 cm)', 'petal width (1 cm)']\n",
    "dummy_data = np.array([[1, 10, 1, 1]])\n",
    "dummy_data\n",
    "\n",
    "model.predict(dummy_data)"
   ]
  },
  {
   "cell_type": "code",
   "execution_count": 74,
   "metadata": {},
   "outputs": [
    {
     "data": {
      "text/plain": [
       "0"
      ]
     },
     "execution_count": 74,
     "metadata": {},
     "output_type": "execute_result"
    }
   ],
   "source": [
    "np.argmax(model.predict(dummy_data), axis=None, out=None)"
   ]
  },
  {
   "cell_type": "code",
   "execution_count": 75,
   "metadata": {},
   "outputs": [
    {
     "data": {
      "text/plain": [
       "2"
      ]
     },
     "execution_count": 75,
     "metadata": {},
     "output_type": "execute_result"
    }
   ],
   "source": [
    "# [6.8 3.2 5.9 2.3 0.  0.  1. ]\n",
    "np.argmax(model.predict(np.array([[6.5, 3.1, 5.7, 2]])), axis=None, out=None)"
   ]
  },
  {
   "cell_type": "code",
   "execution_count": 83,
   "metadata": {},
   "outputs": [
    {
     "data": {
      "text/plain": [
       "1"
      ]
     },
     "execution_count": 83,
     "metadata": {},
     "output_type": "execute_result"
    }
   ],
   "source": [
    "# [5.6 2.5 3.9 1.1 0.  1.  0. ]\n",
    "np.argmax(model.predict(np.array([[5, 3, 4, 1]])), axis=None, out=None)"
   ]
  }
 ],
 "metadata": {
  "kernelspec": {
   "display_name": "Python 3",
   "language": "python",
   "name": "python3"
  },
  "language_info": {
   "codemirror_mode": {
    "name": "ipython",
    "version": 3
   },
   "file_extension": ".py",
   "mimetype": "text/x-python",
   "name": "python",
   "nbconvert_exporter": "python",
   "pygments_lexer": "ipython3",
   "version": "3.6.9"
  }
 },
 "nbformat": 4,
 "nbformat_minor": 4
}
