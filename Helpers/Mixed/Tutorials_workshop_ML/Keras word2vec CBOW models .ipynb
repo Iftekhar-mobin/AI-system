{
 "cells": [
  {
   "cell_type": "code",
   "execution_count": 1,
   "metadata": {},
   "outputs": [],
   "source": [
    "import pandas as pd\n",
    "import numpy as np\n",
    "import re\n",
    "import nltk\n",
    "import matplotlib.pyplot as plt\n",
    "%matplotlib inline\n",
    "from nltk.corpus import gutenberg\n",
    "from string import punctuation\n",
    "from keras.preprocessing import text\n",
    "from keras.utils import np_utils\n",
    "from keras.preprocessing import sequence\n",
    "from keras.preprocessing.sequence import skipgrams\n",
    "wpt = nltk.WordPunctTokenizer()\n",
    "stop_words = nltk.corpus.stopwords.words('english')\n"
   ]
  },
  {
   "cell_type": "code",
   "execution_count": 2,
   "metadata": {},
   "outputs": [],
   "source": [
    "def normalize_document(doc):\n",
    "    # lower case and remove special characters\\whitespaces\n",
    "    doc = re.sub(r'[^a-zA-Z\\s]', '', doc, re.I|re.A)\n",
    "    doc = doc.lower()\n",
    "    doc = doc.strip()\n",
    "    # tokenize document\n",
    "    tokens = wpt.tokenize(doc)\n",
    "    # filter stopwords out of document\n",
    "    filtered_tokens = [token for token in tokens if token not in stop_words]\n",
    "    # re-create document from filtered tokens\n",
    "    doc = ' '.join(filtered_tokens)\n",
    "    return doc\n",
    "\n",
    "normalize_corpus = np.vectorize(normalize_document)"
   ]
  },
  {
   "cell_type": "code",
   "execution_count": 3,
   "metadata": {},
   "outputs": [],
   "source": [
    "bible = gutenberg.sents('bible-kjv.txt') "
   ]
  },
  {
   "cell_type": "code",
   "execution_count": 4,
   "metadata": {},
   "outputs": [],
   "source": [
    "bible = bible[:500]"
   ]
  },
  {
   "cell_type": "code",
   "execution_count": 5,
   "metadata": {},
   "outputs": [
    {
     "data": {
      "text/plain": [
       "[['[', 'The', 'King', 'James', 'Bible', ']'], ['The', 'Old', 'Testament', 'of', 'the', 'King', 'James', 'Bible'], ...]"
      ]
     },
     "execution_count": 5,
     "metadata": {},
     "output_type": "execute_result"
    }
   ],
   "source": [
    "bible"
   ]
  },
  {
   "cell_type": "code",
   "execution_count": 6,
   "metadata": {},
   "outputs": [
    {
     "name": "stdout",
     "output_type": "stream",
     "text": [
      "Total lines: 500\n",
      "\n",
      "Sample line: ['1', ':', '6', 'And', 'God', 'said', ',', 'Let', 'there', 'be', 'a', 'firmament', 'in', 'the', 'midst', 'of', 'the', 'waters', ',', 'and', 'let', 'it', 'divide', 'the', 'waters', 'from', 'the', 'waters', '.']\n",
      "\n",
      "Processed line: god said let firmament midst waters let divide waters waters\n"
     ]
    }
   ],
   "source": [
    "remove_terms = punctuation + '0123456789'\n",
    "\n",
    "norm_bible = [[word.lower() for word in sent if word not in remove_terms] for sent in bible]\n",
    "norm_bible = [' '.join(tok_sent) for tok_sent in norm_bible]\n",
    "norm_bible = filter(None, normalize_corpus(norm_bible))\n",
    "norm_bible = [tok_sent for tok_sent in norm_bible if len(tok_sent.split()) > 2]\n",
    "\n",
    "print('Total lines:', len(bible))\n",
    "print('\\nSample line:', bible[10])\n",
    "print('\\nProcessed line:', norm_bible[10])"
   ]
  },
  {
   "cell_type": "code",
   "execution_count": 7,
   "metadata": {},
   "outputs": [
    {
     "name": "stdout",
     "output_type": "stream",
     "text": [
      "Vocabulary Size: 1213\n",
      "Vocabulary Sample: [('unto', 1), ('said', 2), ('god', 3), ('thou', 4), ('shall', 5), ('lord', 6), ('earth', 7), ('thee', 8), ('thy', 9), ('every', 10)]\n"
     ]
    }
   ],
   "source": [
    "tokenizer = text.Tokenizer()\n",
    "tokenizer.fit_on_texts(norm_bible)\n",
    "word2id = tokenizer.word_index\n",
    "\n",
    "word2id['PAD'] = 0\n",
    "id2word = {v:k for k, v in word2id.items()}\n",
    "wids = [[word2id[w] for w in text.text_to_word_sequence(doc)] for doc in norm_bible]\n",
    "\n",
    "vocab_size = len(word2id)\n",
    "\n",
    "print('Vocabulary Size:', vocab_size)\n",
    "print('Vocabulary Sample:', list(word2id.items())[:10])"
   ]
  },
  {
   "cell_type": "code",
   "execution_count": 8,
   "metadata": {},
   "outputs": [],
   "source": [
    "def generate_context_word_pairs(corpus, window_size, vocab_size):\n",
    "    context_length = window_size*2\n",
    "    for words in corpus:\n",
    "        sentence_length = len(words)\n",
    "        for index, word in enumerate(words):\n",
    "            context_words = []\n",
    "            label_word   = []            \n",
    "            start = index - window_size\n",
    "            end = index + window_size + 1\n",
    "            \n",
    "            context_words.append([words[i] \n",
    "                                 for i in range(start, end) \n",
    "                                 if 0 <= i < sentence_length \n",
    "                                 and i != index])\n",
    "            label_word.append(word)\n",
    "\n",
    "            x = sequence.pad_sequences(context_words, maxlen=context_length)\n",
    "            y = np_utils.to_categorical(label_word, vocab_size)\n",
    "            yield (x, y)"
   ]
  },
  {
   "cell_type": "code",
   "execution_count": 10,
   "metadata": {},
   "outputs": [
    {
     "name": "stdout",
     "output_type": "stream",
     "text": [
      "Context (X): ['old', 'testament', 'james', 'bible'] -> Target (Y): king\n",
      "Context (X): ['first', 'book', 'called', 'genesis'] -> Target (Y): moses\n",
      "Context (X): ['beginning', 'god', 'heaven', 'earth'] -> Target (Y): created\n",
      "Context (X): ['earth', 'without', 'void', 'darkness'] -> Target (Y): form\n",
      "Context (X): ['without', 'form', 'darkness', 'upon'] -> Target (Y): void\n",
      "Context (X): ['form', 'void', 'upon', 'face'] -> Target (Y): darkness\n",
      "Context (X): ['void', 'darkness', 'face', 'deep'] -> Target (Y): upon\n",
      "Context (X): ['spirit', 'god', 'upon', 'face'] -> Target (Y): moved\n",
      "Context (X): ['god', 'moved', 'face', 'waters'] -> Target (Y): upon\n",
      "Context (X): ['god', 'said', 'light', 'light'] -> Target (Y): let\n",
      "Context (X): ['god', 'saw', 'good', 'god'] -> Target (Y): light\n"
     ]
    }
   ],
   "source": [
    "embed_size = 100\n",
    "window_size = 2\n",
    "i = 0\n",
    "for x, y in generate_context_word_pairs(corpus=wids, window_size=window_size, vocab_size=vocab_size):\n",
    "    if 0 not in x[0]:\n",
    "        print('Context (X):', [id2word[w] for w in x[0]], '-> Target (Y):', id2word[np.argwhere(y[0])[0][0]])\n",
    "    \n",
    "        if i == 10:\n",
    "            break\n",
    "        i += 1"
   ]
  },
  {
   "cell_type": "code",
   "execution_count": 11,
   "metadata": {},
   "outputs": [
    {
     "name": "stdout",
     "output_type": "stream",
     "text": [
      "Model: \"sequential\"\n",
      "_________________________________________________________________\n",
      "Layer (type)                 Output Shape              Param #   \n",
      "=================================================================\n",
      "embedding (Embedding)        (None, 4, 100)            121300    \n",
      "_________________________________________________________________\n",
      "lambda (Lambda)              (None, 100)               0         \n",
      "_________________________________________________________________\n",
      "dense (Dense)                (None, 1213)              122513    \n",
      "=================================================================\n",
      "Total params: 243,813\n",
      "Trainable params: 243,813\n",
      "Non-trainable params: 0\n",
      "_________________________________________________________________\n",
      "None\n"
     ]
    }
   ],
   "source": [
    "import keras.backend as K\n",
    "from keras.models import Sequential\n",
    "from keras.layers import Dense, Embedding, Lambda\n",
    "\n",
    "cbow = Sequential()\n",
    "cbow.add(Embedding(input_dim=vocab_size, output_dim=embed_size, input_length=window_size*2))\n",
    "cbow.add(Lambda(lambda x: K.mean(x, axis=1), output_shape=(embed_size,)))\n",
    "cbow.add(Dense(vocab_size, activation='softmax'))\n",
    "\n",
    "cbow.compile(loss='categorical_crossentropy', optimizer='rmsprop')\n",
    "print(cbow.summary())"
   ]
  },
  {
   "cell_type": "code",
   "execution_count": 12,
   "metadata": {},
   "outputs": [
    {
     "name": "stdout",
     "output_type": "stream",
     "text": [
      "Epoch: 1 \tLoss: 41279.736198067665\n",
      "\n",
      "Epoch: 2 \tLoss: 38445.25493836403\n",
      "\n",
      "Epoch: 3 \tLoss: 38773.63505089283\n",
      "\n",
      "Epoch: 4 \tLoss: 43138.64250642061\n",
      "\n",
      "Epoch: 5 \tLoss: 47685.427143633366\n",
      "\n"
     ]
    }
   ],
   "source": [
    "for epoch in range(1, 6):\n",
    "    loss = 0.\n",
    "    i = 0\n",
    "    for x, y in generate_context_word_pairs(corpus=wids, window_size=window_size, vocab_size=vocab_size):\n",
    "        i += 1\n",
    "        loss += cbow.train_on_batch(x, y)\n",
    "        if i % 100000 == 0:\n",
    "            print('Processed {} (context, word) pairs'.format(i))\n",
    "\n",
    "    print('Epoch:', epoch, '\\tLoss:', loss)\n",
    "    print()\n"
   ]
  },
  {
   "cell_type": "code",
   "execution_count": 13,
   "metadata": {},
   "outputs": [
    {
     "name": "stdout",
     "output_type": "stream",
     "text": [
      "(1212, 100)\n"
     ]
    },
    {
     "data": {
      "text/html": [
       "<div>\n",
       "<style scoped>\n",
       "    .dataframe tbody tr th:only-of-type {\n",
       "        vertical-align: middle;\n",
       "    }\n",
       "\n",
       "    .dataframe tbody tr th {\n",
       "        vertical-align: top;\n",
       "    }\n",
       "\n",
       "    .dataframe thead th {\n",
       "        text-align: right;\n",
       "    }\n",
       "</style>\n",
       "<table border=\"1\" class=\"dataframe\">\n",
       "  <thead>\n",
       "    <tr style=\"text-align: right;\">\n",
       "      <th></th>\n",
       "      <th>0</th>\n",
       "      <th>1</th>\n",
       "      <th>2</th>\n",
       "      <th>3</th>\n",
       "      <th>4</th>\n",
       "      <th>5</th>\n",
       "      <th>6</th>\n",
       "      <th>7</th>\n",
       "      <th>8</th>\n",
       "      <th>9</th>\n",
       "      <th>...</th>\n",
       "      <th>90</th>\n",
       "      <th>91</th>\n",
       "      <th>92</th>\n",
       "      <th>93</th>\n",
       "      <th>94</th>\n",
       "      <th>95</th>\n",
       "      <th>96</th>\n",
       "      <th>97</th>\n",
       "      <th>98</th>\n",
       "      <th>99</th>\n",
       "    </tr>\n",
       "  </thead>\n",
       "  <tbody>\n",
       "    <tr>\n",
       "      <th>said</th>\n",
       "      <td>-0.128253</td>\n",
       "      <td>0.226968</td>\n",
       "      <td>0.019300</td>\n",
       "      <td>-0.081244</td>\n",
       "      <td>-0.372059</td>\n",
       "      <td>-0.319537</td>\n",
       "      <td>-0.295273</td>\n",
       "      <td>-0.052657</td>\n",
       "      <td>-0.167394</td>\n",
       "      <td>-0.409522</td>\n",
       "      <td>...</td>\n",
       "      <td>-0.319721</td>\n",
       "      <td>-0.143053</td>\n",
       "      <td>-0.229126</td>\n",
       "      <td>0.157050</td>\n",
       "      <td>-0.333871</td>\n",
       "      <td>-0.010607</td>\n",
       "      <td>0.084051</td>\n",
       "      <td>-0.228236</td>\n",
       "      <td>0.141151</td>\n",
       "      <td>-0.190837</td>\n",
       "    </tr>\n",
       "    <tr>\n",
       "      <th>god</th>\n",
       "      <td>-0.084887</td>\n",
       "      <td>0.101451</td>\n",
       "      <td>-0.021281</td>\n",
       "      <td>-0.090714</td>\n",
       "      <td>0.224609</td>\n",
       "      <td>-0.089845</td>\n",
       "      <td>-0.069490</td>\n",
       "      <td>0.066486</td>\n",
       "      <td>0.362365</td>\n",
       "      <td>0.015019</td>\n",
       "      <td>...</td>\n",
       "      <td>-0.147641</td>\n",
       "      <td>0.114957</td>\n",
       "      <td>0.054864</td>\n",
       "      <td>0.138212</td>\n",
       "      <td>-0.008728</td>\n",
       "      <td>0.062342</td>\n",
       "      <td>0.114764</td>\n",
       "      <td>-0.041396</td>\n",
       "      <td>-0.039181</td>\n",
       "      <td>0.057258</td>\n",
       "    </tr>\n",
       "    <tr>\n",
       "      <th>thou</th>\n",
       "      <td>0.174887</td>\n",
       "      <td>-0.062091</td>\n",
       "      <td>-0.170756</td>\n",
       "      <td>0.229444</td>\n",
       "      <td>-0.242916</td>\n",
       "      <td>-0.134692</td>\n",
       "      <td>0.258310</td>\n",
       "      <td>0.048423</td>\n",
       "      <td>0.134819</td>\n",
       "      <td>-0.012863</td>\n",
       "      <td>...</td>\n",
       "      <td>-0.097976</td>\n",
       "      <td>0.171165</td>\n",
       "      <td>-0.205643</td>\n",
       "      <td>0.610108</td>\n",
       "      <td>0.270939</td>\n",
       "      <td>0.122991</td>\n",
       "      <td>0.111601</td>\n",
       "      <td>0.260416</td>\n",
       "      <td>-0.211995</td>\n",
       "      <td>-0.062347</td>\n",
       "    </tr>\n",
       "    <tr>\n",
       "      <th>shall</th>\n",
       "      <td>0.117929</td>\n",
       "      <td>0.396772</td>\n",
       "      <td>-0.307282</td>\n",
       "      <td>-0.276501</td>\n",
       "      <td>0.207303</td>\n",
       "      <td>-0.621406</td>\n",
       "      <td>0.427301</td>\n",
       "      <td>0.458144</td>\n",
       "      <td>-0.015476</td>\n",
       "      <td>-0.683615</td>\n",
       "      <td>...</td>\n",
       "      <td>-0.059427</td>\n",
       "      <td>-0.208191</td>\n",
       "      <td>-0.082685</td>\n",
       "      <td>0.420278</td>\n",
       "      <td>-0.031298</td>\n",
       "      <td>0.021003</td>\n",
       "      <td>-0.279808</td>\n",
       "      <td>0.016808</td>\n",
       "      <td>0.110092</td>\n",
       "      <td>0.156189</td>\n",
       "    </tr>\n",
       "    <tr>\n",
       "      <th>lord</th>\n",
       "      <td>-0.118808</td>\n",
       "      <td>0.017322</td>\n",
       "      <td>0.016953</td>\n",
       "      <td>-0.299371</td>\n",
       "      <td>-0.111125</td>\n",
       "      <td>-0.386646</td>\n",
       "      <td>0.004721</td>\n",
       "      <td>-0.002264</td>\n",
       "      <td>0.270221</td>\n",
       "      <td>-0.513287</td>\n",
       "      <td>...</td>\n",
       "      <td>0.111961</td>\n",
       "      <td>-0.208771</td>\n",
       "      <td>0.175020</td>\n",
       "      <td>-0.360232</td>\n",
       "      <td>-0.378339</td>\n",
       "      <td>-0.247434</td>\n",
       "      <td>-0.066559</td>\n",
       "      <td>0.331395</td>\n",
       "      <td>0.051095</td>\n",
       "      <td>-0.131308</td>\n",
       "    </tr>\n",
       "  </tbody>\n",
       "</table>\n",
       "<p>5 rows × 100 columns</p>\n",
       "</div>"
      ],
      "text/plain": [
       "             0         1         2         3         4         5         6   \\\n",
       "said  -0.128253  0.226968  0.019300 -0.081244 -0.372059 -0.319537 -0.295273   \n",
       "god   -0.084887  0.101451 -0.021281 -0.090714  0.224609 -0.089845 -0.069490   \n",
       "thou   0.174887 -0.062091 -0.170756  0.229444 -0.242916 -0.134692  0.258310   \n",
       "shall  0.117929  0.396772 -0.307282 -0.276501  0.207303 -0.621406  0.427301   \n",
       "lord  -0.118808  0.017322  0.016953 -0.299371 -0.111125 -0.386646  0.004721   \n",
       "\n",
       "             7         8         9   ...        90        91        92  \\\n",
       "said  -0.052657 -0.167394 -0.409522  ... -0.319721 -0.143053 -0.229126   \n",
       "god    0.066486  0.362365  0.015019  ... -0.147641  0.114957  0.054864   \n",
       "thou   0.048423  0.134819 -0.012863  ... -0.097976  0.171165 -0.205643   \n",
       "shall  0.458144 -0.015476 -0.683615  ... -0.059427 -0.208191 -0.082685   \n",
       "lord  -0.002264  0.270221 -0.513287  ...  0.111961 -0.208771  0.175020   \n",
       "\n",
       "             93        94        95        96        97        98        99  \n",
       "said   0.157050 -0.333871 -0.010607  0.084051 -0.228236  0.141151 -0.190837  \n",
       "god    0.138212 -0.008728  0.062342  0.114764 -0.041396 -0.039181  0.057258  \n",
       "thou   0.610108  0.270939  0.122991  0.111601  0.260416 -0.211995 -0.062347  \n",
       "shall  0.420278 -0.031298  0.021003 -0.279808  0.016808  0.110092  0.156189  \n",
       "lord  -0.360232 -0.378339 -0.247434 -0.066559  0.331395  0.051095 -0.131308  \n",
       "\n",
       "[5 rows x 100 columns]"
      ]
     },
     "execution_count": 13,
     "metadata": {},
     "output_type": "execute_result"
    }
   ],
   "source": [
    "weights = cbow.get_weights()[0]\n",
    "weights = weights[1:]\n",
    "print(weights.shape)\n",
    "\n",
    "pd.DataFrame(weights, index=list(id2word.values())[1:]).head()"
   ]
  },
  {
   "cell_type": "code",
   "execution_count": 14,
   "metadata": {},
   "outputs": [
    {
     "name": "stdout",
     "output_type": "stream",
     "text": [
      "(1212, 1212)\n"
     ]
    },
    {
     "data": {
      "text/plain": [
       "{'god': ['midst', 'female', 'stars', 'water', 'sent'],\n",
       " 'noah': ['shem', 'ham', 'japheth', 'families', 'builded'],\n",
       " 'egypt': ['dwelled', 'haran', 'journeyed', 'canaanites', 'ur'],\n",
       " 'moses': ['tops', 'work', 'lambs', 'saving', 'onyx'],\n",
       " 'famine': ['herds', 'sidon', 'entreated', 'riphath', 'separated']}"
      ]
     },
     "execution_count": 14,
     "metadata": {},
     "output_type": "execute_result"
    }
   ],
   "source": [
    "from sklearn.metrics.pairwise import euclidean_distances\n",
    "\n",
    "# compute pairwise distance matrix\n",
    "distance_matrix = euclidean_distances(weights)\n",
    "print(distance_matrix.shape)\n",
    "\n",
    "# view contextually similar words\n",
    "similar_words = {search_term: [id2word[idx] for idx in distance_matrix[word2id[search_term]-1].argsort()[1:6]+1] \n",
    "                   for search_term in ['god', 'noah', 'egypt', 'moses','famine']}\n",
    "\n",
    "similar_words"
   ]
  },
  {
   "cell_type": "code",
   "execution_count": 16,
   "metadata": {},
   "outputs": [
    {
     "name": "stdout",
     "output_type": "stream",
     "text": [
      "(james (445), hear (505)) -> 0\n",
      "(king (45), james (445)) -> 1\n",
      "(james (445), bible (446)) -> 1\n",
      "(king (45), hiddekel (698)) -> 0\n",
      "(james (445), whither (627)) -> 0\n",
      "(king (45), bible (446)) -> 1\n",
      "(bible (446), lands (546)) -> 0\n",
      "(bible (446), feet (635)) -> 0\n",
      "(king (45), break (1137)) -> 0\n",
      "(bible (446), james (445)) -> 1\n"
     ]
    }
   ],
   "source": [
    "# generate skip-grams\n",
    "skip_grams = [skipgrams(wid, vocabulary_size=vocab_size, window_size=2) for wid in wids]\n",
    "\n",
    "# view sample skip-grams\n",
    "pairs, labels = skip_grams[0][0], skip_grams[0][1]\n",
    "for i in range(10):\n",
    "    print(\"({:s} ({:d}), {:s} ({:d})) -> {:d}\".format(\n",
    "          id2word[pairs[i][0]], pairs[i][0], \n",
    "          id2word[pairs[i][1]], pairs[i][1], \n",
    "          labels[i]))"
   ]
  }
 ],
 "metadata": {
  "kernelspec": {
   "display_name": "Python 3",
   "language": "python",
   "name": "python3"
  },
  "language_info": {
   "codemirror_mode": {
    "name": "ipython",
    "version": 3
   },
   "file_extension": ".py",
   "mimetype": "text/x-python",
   "name": "python",
   "nbconvert_exporter": "python",
   "pygments_lexer": "ipython3",
   "version": "3.6.9"
  }
 },
 "nbformat": 4,
 "nbformat_minor": 4
}
