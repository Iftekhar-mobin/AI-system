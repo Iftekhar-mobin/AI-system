{
 "cells": [
  {
   "cell_type": "code",
   "execution_count": 3,
   "metadata": {},
   "outputs": [],
   "source": [
    "import requests\n",
    "from bs4 import BeautifulSoup\n",
    "page = requests.get(\"https://www.mhlw.go.jp/search.html?q=covid-19\")\n",
    "soup = BeautifulSoup(page.content)\n",
    "import re\n",
    "links = soup.findAll(\"a\")\n",
    "for link in  soup.find_all(\"a\",href=re.compile(\"(?<=/url\\?q=)(htt.*://.*)\")):\n",
    "    print(re.split(\":(?=http)\",link[\"href\"].replace(\"/url?q=\",\"\")))"
   ]
  },
  {
   "cell_type": "code",
   "execution_count": null,
   "metadata": {},
   "outputs": [],
   "source": [
    "import sys # Used to add the BeautifulSoup folder the import path\n",
    "import urllib2 # Used to read the html document\n",
    "\n",
    "if __name__ == \"__main__\":\n",
    "    ### Import Beautiful Soup\n",
    "    ### Here, I have the BeautifulSoup folder in the level of this Python script\n",
    "    ### So I need to tell Python where to look.\n",
    "    sys.path.append(\"./BeautifulSoup\")\n",
    "    from BeautifulSoup import BeautifulSoup\n",
    "\n",
    "    ### Create opener with Google-friendly user agent\n",
    "    opener = urllib2.build_opener()\n",
    "    opener.addheaders = [('User-agent', 'Mozilla/5.0')]\n",
    "\n",
    "    ### Open page & generate soup\n",
    "    ### the \"start\" variable will be used to iterate through 10 pages.\n",
    "    for start in range(0,10):\n",
    "        url = \"http://www.google.com/search?q=site:stackoverflow.com&start=\" + str(start*10)\n",
    "        page = opener.open(url)\n",
    "        soup = BeautifulSoup(page)\n",
    "\n",
    "        ### Parse and find\n",
    "        ### Looks like google contains URLs in <cite> tags.\n",
    "        ### So for each cite tag on each page (10), print its contents (url)\n",
    "        for cite in soup.findAll('cite'):\n",
    "            print cite.text"
   ]
  }
 ],
 "metadata": {
  "kernelspec": {
   "display_name": "Python 3",
   "language": "python",
   "name": "python3"
  },
  "language_info": {
   "codemirror_mode": {
    "name": "ipython",
    "version": 3
   },
   "file_extension": ".py",
   "mimetype": "text/x-python",
   "name": "python",
   "nbconvert_exporter": "python",
   "pygments_lexer": "ipython3",
   "version": "3.6.9"
  }
 },
 "nbformat": 4,
 "nbformat_minor": 4
}
