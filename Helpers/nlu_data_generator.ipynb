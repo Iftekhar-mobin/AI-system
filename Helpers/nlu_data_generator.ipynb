{
 "cells": [
  {
   "cell_type": "code",
   "execution_count": 48,
   "metadata": {},
   "outputs": [],
   "source": [
    "import MeCab\n",
    "tokenizer = MeCab.Tagger(\"-Owakati\")\n",
    "import spacy\n",
    "nlp = spacy.load('ja_ginza')\n"
   ]
  },
  {
   "cell_type": "code",
   "execution_count": 35,
   "metadata": {},
   "outputs": [],
   "source": [
    "fname = '/home/iftekhar/amiebot/amieCore/amie_core/core/rasa/data/nlu/amie_nlu_ja.md'"
   ]
  },
  {
   "cell_type": "code",
   "execution_count": 36,
   "metadata": {},
   "outputs": [],
   "source": [
    "def intent_chunks(fname):\n",
    "    with open(fname, encoding='utf-8') as f:\n",
    "        intents = f.read()\n",
    "    return intents"
   ]
  },
  {
   "cell_type": "code",
   "execution_count": 37,
   "metadata": {},
   "outputs": [],
   "source": [
    "file_contents = intent_chunks(fname).split('##')"
   ]
  },
  {
   "cell_type": "code",
   "execution_count": 261,
   "metadata": {},
   "outputs": [
    {
     "name": "stdout",
     "output_type": "stream",
     "text": [
      "['We providers are service 作りたい', 'providers We are service 開発を開始する場所', 'are providers We service どう', 'We providers are service 作りたい', 'We are providers service 始める方法', 'We providers are service 関する情報を教えてください', 'are providers We service どこ', 'providers are We service 入れられますか', 'are providers We service どう', 'providers We are service 何ができますか']\n",
      "['Support Engineering Access workshops 作り方は', 'Access Engineering Support workshops 使うには', 'Access Support Engineering workshops 入れられますか', 'Support Engineering Access workshops 何ですか', 'Engineering Access Support workshops どうでしたか', 'Support Engineering Access workshops 開発を開始する場所', 'Support Engineering Access workshops 何ですか', 'Engineering Access Support workshops 使いたいです', 'Support Engineering Access workshops なにで', 'Access Engineering Support workshops どこですか']\n"
     ]
    }
   ],
   "source": [
    "for lines in file_contents:\n",
    "    if lines:\n",
    "        intents = lines.split('-')\n",
    "        if(len(intents)) < 3 and lines.find('synonym') is -1:\n",
    "            entities = extract_entities(tokenizer.parse(intents[1]))\n",
    "            print(question_maker(entities))"
   ]
  },
  {
   "cell_type": "code",
   "execution_count": 246,
   "metadata": {},
   "outputs": [],
   "source": [
    "def extract_entities(query):\n",
    "    if not isinstance(query, list):\n",
    "        query = query.split()\n",
    "        \n",
    "    entities = []\n",
    "    for items in query:\n",
    "        doc = nlp(items)\n",
    "        for ent in doc.ents:\n",
    "            if ent.text:\n",
    "                entities.append(ent.text)\n",
    "    entity = list(set(entities))\n",
    "    if entity:\n",
    "        return entity\n",
    "    else:\n",
    "        return query"
   ]
  },
  {
   "cell_type": "code",
   "execution_count": 304,
   "metadata": {},
   "outputs": [],
   "source": [
    "import random\n",
    "\n",
    "def question_maker(query):\n",
    "    collector = []\n",
    "    question = query\n",
    "    count = 10\n",
    "    delims = get_questions_delimiter_ja()\n",
    "    while count > 0:\n",
    "        shuffle_slice(question, 1, len(question))\n",
    "        question_delimiter = random.choice(delims)\n",
    "        collector.append(' '.join(question + [question_delimiter]))\n",
    "        question = query\n",
    "        count -=1\n",
    "    return collector"
   ]
  },
  {
   "cell_type": "code",
   "execution_count": 305,
   "metadata": {},
   "outputs": [
    {
     "data": {
      "text/plain": [
       "['we service providers are どこですか',\n",
       " 'we providers are service 使い始める方法を教えてください',\n",
       " 'we are providers service 使用しますか',\n",
       " 'we are service providers どこですか',\n",
       " 'we service providers are 使用しますか',\n",
       " 'we providers service are 使用しますか',\n",
       " 'we providers service are 作りたい',\n",
       " 'we providers service are ついて教えてください',\n",
       " 'we service providers are 始める方法',\n",
       " 'we providers service are 何ができますか']"
      ]
     },
     "execution_count": 305,
     "metadata": {},
     "output_type": "execute_result"
    }
   ],
   "source": [
    "question_maker('we are service providers'.split())"
   ]
  },
  {
   "cell_type": "code",
   "execution_count": 55,
   "metadata": {},
   "outputs": [],
   "source": [
    "import os\n",
    "\n",
    "def get_questions_delimiter_ja():\n",
    "    #dir_path = os.path.dirname(os.path.realpath(__file__))\n",
    "    dir_path = '/home/iftekhar/amiebot/amieCore/amie_core/core/tokenizer/stopwords'\n",
    "    # questions_delimiter_ja = os.path.join(dir_path, 'stopwords', 'questions_delimiter.txt')\n",
    "    questions_delimiter_ja = os.path.join(dir_path, 'questions_delimiter.txt')\n",
    "\n",
    "    with open(questions_delimiter_ja, encoding='utf-8') as fr:\n",
    "        questions_delimiter = fr.read().splitlines()\n",
    "\n",
    "    return questions_delimiter\n"
   ]
  },
  {
   "cell_type": "code",
   "execution_count": 241,
   "metadata": {},
   "outputs": [],
   "source": [
    "def shuffle_slice(a, start, stop):\n",
    "    i = start\n",
    "    while (i < stop-1):\n",
    "        idx = random.randrange(i, stop)\n",
    "        a[i], a[idx] = a[idx], a[i]\n",
    "        i += 1"
   ]
  },
  {
   "cell_type": "code",
   "execution_count": 262,
   "metadata": {},
   "outputs": [],
   "source": [
    "result = {'intent:what is mobicontrol': ['are providers service We 使うには', 'are service providers We 開発を開始する場所', 'are service providers We どこ', 'providers are service We 開発を開始する場所', 'service providers are We 何が', 'are service providers We 使い始めるには', 'service are providers We どの', 'providers are service We どうですか', 'service providers are We どちら', 'service providers are We ことは何ですか'], 'intent:what is SSAP': ['Support Access Engineering workshops 始める方法', 'Engineering Access Support workshops どこですか', 'Access Support Engineering workshops どちら', 'Access Engineering Support workshops どの', 'Engineering Support Access workshops どんな', 'Engineering Access Support workshops 何ですか', 'Support Access Engineering workshops 作りたい', 'Access Support Engineering workshops どの', 'Support Access Engineering workshops 入れられますか', 'Support Access Engineering workshops どの']}"
   ]
  },
  {
   "cell_type": "code",
   "execution_count": 285,
   "metadata": {},
   "outputs": [
    {
     "name": "stdout",
     "output_type": "stream",
     "text": [
      "are providers service We 使うには\n",
      "are service providers We 開発を開始する場所\n",
      "are service providers We どこ\n",
      "providers are service We 開発を開始する場所\n",
      "service providers are We 何が\n",
      "are service providers We 使い始めるには\n",
      "service are providers We どの\n",
      "providers are service We どうですか\n",
      "service providers are We どちら\n",
      "service providers are We ことは何ですか\n",
      "\n"
     ]
    }
   ],
   "source": [
    "for key, values in result.items():\n",
    "    collector = ''\n",
    "    for sentences in values:\n",
    "        collector += sentences + '\\n'\n",
    "    print(collector)\n",
    "    break"
   ]
  },
  {
   "cell_type": "code",
   "execution_count": 273,
   "metadata": {},
   "outputs": [],
   "source": [
    "import re"
   ]
  },
  {
   "cell_type": "code",
   "execution_count": 295,
   "metadata": {},
   "outputs": [],
   "source": [
    "file_contents = intent_chunks(fname)\n",
    "for lines, values in result.items():\n",
    "    for match in re.finditer(lines, file_contents):\n",
    "        collector = '\\n'\n",
    "        end_flag = len(values)\n",
    "        for sentences in values:\n",
    "            if end_flag > 1:\n",
    "                collector += '- ' + sentences + '\\n'\n",
    "            else:\n",
    "                collector += '- ' + sentences \n",
    "            end_flag -= 1\n",
    "        file_contents = (file_contents[:match.end()] + collector + file_contents[match.end():])"
   ]
  },
  {
   "cell_type": "code",
   "execution_count": null,
   "metadata": {},
   "outputs": [],
   "source": [
    "file_contents"
   ]
  },
  {
   "cell_type": "code",
   "execution_count": 297,
   "metadata": {},
   "outputs": [],
   "source": [
    "file = open(fname,\"w\")\n",
    "file.truncate(0)\n",
    "file.write(file_contents)\n",
    "file.close()"
   ]
  }
 ],
 "metadata": {
  "kernelspec": {
   "display_name": "Python 3",
   "language": "python",
   "name": "python3"
  },
  "language_info": {
   "codemirror_mode": {
    "name": "ipython",
    "version": 3
   },
   "file_extension": ".py",
   "mimetype": "text/x-python",
   "name": "python",
   "nbconvert_exporter": "python",
   "pygments_lexer": "ipython3",
   "version": "3.6.9"
  }
 },
 "nbformat": 4,
 "nbformat_minor": 4
}
