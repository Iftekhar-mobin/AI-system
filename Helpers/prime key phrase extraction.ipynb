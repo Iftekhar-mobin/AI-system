{
 "cells": [
  {
   "cell_type": "code",
   "execution_count": 190,
   "metadata": {},
   "outputs": [
    {
     "name": "stdout",
     "output_type": "stream",
     "text": [
      "english 0.017562105594933253\n",
      "today 0.016098557337075728\n",
      "peopl 0.01120039552309215\n",
      "question 0.010543612762686368\n",
      "text 0.00696437725407944\n",
      "day 0.0061829378162664385\n",
      "countri 0.005733187250519013\n",
      "world 0.005715152909352715\n",
      "mother 0.0051854018108124416\n",
      "teacher plan lesson 0.005156034531740706\n"
     ]
    }
   ],
   "source": [
    "from pke.unsupervised import TopicRank\n",
    "\n",
    "# create a TopicRank extractor\n",
    "extractor = TopicRank()\n",
    "\n",
    "# load the content of the document, here in CoreNLP XML format\n",
    "# the input language is set to English (used for the stoplist)\n",
    "# normalization is set to stemming (computed with Porter's stemming algorithm)\n",
    "extractor.load_document(input='/home/iftekhar/AI-system/chatbot/Dataset/English_for_Today.txt',\n",
    "                        language=\"en\",\n",
    "                        normalization='stemming')\n",
    "\n",
    "# select the keyphrase candidates, for TopicRank the longest sequences of \n",
    "# nouns and adjectives\n",
    "extractor.candidate_selection(pos={'NOUN', 'PROPN', 'ADJ'})\n",
    "\n",
    "# weight the candidates using a random walk. The threshold parameter sets the\n",
    "# minimum similarity for clustering, and the method parameter defines the \n",
    "# linkage method\n",
    "extractor.candidate_weighting(threshold=0.74,\n",
    "                              method='average')\n",
    "\n",
    "# print the n-highest (10) scored candidates\n",
    "for (keyphrase, score) in extractor.get_n_best(n=10, stemming=True):\n",
    "    print(keyphrase, score)"
   ]
  },
  {
   "cell_type": "code",
   "execution_count": null,
   "metadata": {},
   "outputs": [],
   "source": []
  },
  {
   "cell_type": "code",
   "execution_count": null,
   "metadata": {},
   "outputs": [],
   "source": []
  },
  {
   "cell_type": "code",
   "execution_count": null,
   "metadata": {},
   "outputs": [],
   "source": []
  },
  {
   "cell_type": "code",
   "execution_count": null,
   "metadata": {},
   "outputs": [],
   "source": []
  },
  {
   "cell_type": "code",
   "execution_count": null,
   "metadata": {},
   "outputs": [],
   "source": []
  },
  {
   "cell_type": "code",
   "execution_count": null,
   "metadata": {},
   "outputs": [],
   "source": []
  },
  {
   "cell_type": "code",
   "execution_count": null,
   "metadata": {},
   "outputs": [],
   "source": []
  },
  {
   "cell_type": "code",
   "execution_count": null,
   "metadata": {},
   "outputs": [],
   "source": []
  },
  {
   "cell_type": "code",
   "execution_count": 5,
   "metadata": {},
   "outputs": [],
   "source": []
  }
 ],
 "metadata": {
  "kernelspec": {
   "display_name": "Python 3",
   "language": "python",
   "name": "python3"
  },
  "language_info": {
   "codemirror_mode": {
    "name": "ipython",
    "version": 3
   },
   "file_extension": ".py",
   "mimetype": "text/x-python",
   "name": "python",
   "nbconvert_exporter": "python",
   "pygments_lexer": "ipython3",
   "version": "3.6.9"
  }
 },
 "nbformat": 4,
 "nbformat_minor": 4
}
