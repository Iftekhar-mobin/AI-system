{
 "cells": [
  {
   "cell_type": "code",
   "execution_count": 193,
   "metadata": {},
   "outputs": [
    {
     "data": {
      "text/html": [
       "<div>\n",
       "<style scoped>\n",
       "    .dataframe tbody tr th:only-of-type {\n",
       "        vertical-align: middle;\n",
       "    }\n",
       "\n",
       "    .dataframe tbody tr th {\n",
       "        vertical-align: top;\n",
       "    }\n",
       "\n",
       "    .dataframe thead th {\n",
       "        text-align: right;\n",
       "    }\n",
       "</style>\n",
       "<table border=\"1\" class=\"dataframe\">\n",
       "  <thead>\n",
       "    <tr style=\"text-align: right;\">\n",
       "      <th></th>\n",
       "      <th>Data</th>\n",
       "      <th>PageID</th>\n",
       "    </tr>\n",
       "  </thead>\n",
       "  <tbody>\n",
       "    <tr>\n",
       "      <th>0</th>\n",
       "      <td>カスタマイザー タイトル 設定 カスタマイザー サブタイトル 設定 MobiControl ...</td>\n",
       "      <td>0</td>\n",
       "    </tr>\n",
       "    <tr>\n",
       "      <th>1</th>\n",
       "      <td>Apple 製品 MobiControl v ManualApple 製品 MobiCont...</td>\n",
       "      <td>1</td>\n",
       "    </tr>\n",
       "    <tr>\n",
       "      <th>2</th>\n",
       "      <td>Android 端末 MobiControl v ManualAndroid 設定 モード ...</td>\n",
       "      <td>2</td>\n",
       "    </tr>\n",
       "    <tr>\n",
       "      <th>3</th>\n",
       "      <td>Windows PCMobiControl v ManualWindows PC 根本 セキ...</td>\n",
       "      <td>3</td>\n",
       "    </tr>\n",
       "    <tr>\n",
       "      <th>4</th>\n",
       "      <td>Windows EmbeddedMobiControl v ManualWindows Em...</td>\n",
       "      <td>4</td>\n",
       "    </tr>\n",
       "  </tbody>\n",
       "</table>\n",
       "</div>"
      ],
      "text/plain": [
       "                                                Data  PageID\n",
       "0  カスタマイザー タイトル 設定 カスタマイザー サブタイトル 設定 MobiControl ...       0\n",
       "1  Apple 製品 MobiControl v ManualApple 製品 MobiCont...       1\n",
       "2  Android 端末 MobiControl v ManualAndroid 設定 モード ...       2\n",
       "3  Windows PCMobiControl v ManualWindows PC 根本 セキ...       3\n",
       "4  Windows EmbeddedMobiControl v ManualWindows Em...       4"
      ]
     },
     "execution_count": 193,
     "metadata": {},
     "output_type": "execute_result"
    }
   ],
   "source": [
    "import pandas as pd\n",
    "import numpy as np\n",
    "\n",
    "df = pd.read_csv(\"/home/iftekhar/AI-system/retrieval_Model/processed_perPage_perLine.csv\")\n",
    "df = df.iloc[:,1:]\n",
    "df.head()"
   ]
  },
  {
   "cell_type": "code",
   "execution_count": 194,
   "metadata": {},
   "outputs": [
    {
     "data": {
      "text/plain": [
       "445"
      ]
     },
     "execution_count": 194,
     "metadata": {},
     "output_type": "execute_result"
    }
   ],
   "source": [
    "len(df)"
   ]
  },
  {
   "cell_type": "code",
   "execution_count": 195,
   "metadata": {},
   "outputs": [],
   "source": [
    "classes = df.PageID.unique()\n",
    "words = 5\n",
    "\n",
    "result = pd.DataFrame()\n",
    "\n",
    "for i in list(classes):\n",
    "    arr_index = df[df.PageID == i].Data.values\n",
    "    data = ''.join(list(arr_index))\n",
    "    arr_words = np.array(data.split())\n",
    "    #print(arr_words) \n",
    "    \n",
    "    num = arr_words.shape[0]//words\n",
    "    full = words * num\n",
    "    rest = arr_words.shape[0] - full\n",
    "    \n",
    "    pad = np.zeros([words-rest], dtype=int)\n",
    "    sc = np.concatenate((arr_words,pad))\n",
    "    features = sc.reshape(num+1, words)\n",
    "    \n",
    "    df_v = pd.DataFrame(features)\n",
    "    df_v[\"cls\"] = i\n",
    "    \n",
    "    result = pd.concat([result, df_v]) \n",
    "\n",
    "    \n",
    "#print(result)\n",
    "#result.to_csv('processed.csv')"
   ]
  },
  {
   "cell_type": "code",
   "execution_count": 196,
   "metadata": {},
   "outputs": [
    {
     "data": {
      "text/plain": [
       "78244"
      ]
     },
     "execution_count": 196,
     "metadata": {},
     "output_type": "execute_result"
    }
   ],
   "source": [
    "len(result)"
   ]
  },
  {
   "cell_type": "code",
   "execution_count": 197,
   "metadata": {},
   "outputs": [],
   "source": [
    "Data_cols = result.iloc[:,:-1]\n",
    "tog = Data_cols.apply(lambda x: ' '.join(x), axis=1)\n",
    "\n",
    "processed_sliced_corpus = pd.DataFrame(zip(list(tog),list(result.cls)))\n",
    "\n",
    "processed_sliced_corpus = processed_sliced_corpus.rename(columns={0:\"Data\",1:\"PageID\"})\n",
    "\n",
    "processed_sliced_corpus.head()"
   ]
  },
  {
   "cell_type": "code",
   "execution_count": 211,
   "metadata": {},
   "outputs": [
    {
     "data": {
      "text/plain": [
       "78244"
      ]
     },
     "execution_count": 211,
     "metadata": {},
     "output_type": "execute_result"
    }
   ],
   "source": [
    "len(processed_sliced_corpus)"
   ]
  },
  {
   "cell_type": "code",
   "execution_count": 212,
   "metadata": {},
   "outputs": [],
   "source": [
    "count = 0\n",
    "collector = []\n",
    "for index, col in processed_sliced_corpus.iterrows():\n",
    "    #print(col[\"Data\"], index)\n",
    "    sentence = col[\"Data\"]\n",
    "    ID = col[\"PageID\"]\n",
    "    sent_list = sentence.split()\n",
    "    gen_list = generator(sent_list, ID)\n",
    "    collector.append(gen_list)\n",
    "    break"
   ]
  },
  {
   "cell_type": "code",
   "execution_count": 213,
   "metadata": {},
   "outputs": [
    {
     "data": {
      "text/plain": [
       "1"
      ]
     },
     "execution_count": 213,
     "metadata": {},
     "output_type": "execute_result"
    }
   ],
   "source": [
    "len(collector)"
   ]
  },
  {
   "cell_type": "code",
   "execution_count": 214,
   "metadata": {},
   "outputs": [
    {
     "data": {
      "text/plain": [
       "[[('カスタマイザー タイトル 設定 カスタマイザー サブタイトル', 0),\n",
       "  ('タイトル カスタマイザー カスタマイザー 設定 サブタイトル', 0),\n",
       "  ('カスタマイザー 設定 タイトル カスタマイザー サブタイトル', 0),\n",
       "  ('設定 カスタマイザー サブタイトル カスタマイザー タイトル', 0),\n",
       "  ('タイトル カスタマイザー 設定 カスタマイザー サブタイトル', 0),\n",
       "  ('カスタマイザー カスタマイザー 設定 タイトル サブタイトル', 0),\n",
       "  ('設定 サブタイトル タイトル カスタマイザー カスタマイザー', 0),\n",
       "  ('設定 タイトル カスタマイザー カスタマイザー サブタイトル', 0),\n",
       "  ('カスタマイザー サブタイトル カスタマイザー タイトル 設定', 0),\n",
       "  ('カスタマイザー 設定 サブタイトル タイトル カスタマイザー', 0),\n",
       "  ('タイトル 設定 カスタマイザー サブタイトル カスタマイザー', 0),\n",
       "  ('サブタイトル カスタマイザー タイトル 設定 カスタマイザー', 0),\n",
       "  ('カスタマイザー カスタマイザー 設定 サブタイトル タイトル', 0),\n",
       "  ('サブタイトル タイトル カスタマイザー カスタマイザー 設定', 0)]]"
      ]
     },
     "execution_count": 214,
     "metadata": {},
     "output_type": "execute_result"
    }
   ],
   "source": [
    "collector"
   ]
  },
  {
   "cell_type": "code",
   "execution_count": 215,
   "metadata": {},
   "outputs": [
    {
     "data": {
      "text/plain": [
       "[('カスタマイザー タイトル 設定 カスタマイザー サブタイトル', 0),\n",
       " ('タイトル カスタマイザー カスタマイザー 設定 サブタイトル', 0),\n",
       " ('カスタマイザー 設定 タイトル カスタマイザー サブタイトル', 0),\n",
       " ('設定 カスタマイザー サブタイトル カスタマイザー タイトル', 0),\n",
       " ('タイトル カスタマイザー 設定 カスタマイザー サブタイトル', 0),\n",
       " ('カスタマイザー カスタマイザー 設定 タイトル サブタイトル', 0),\n",
       " ('設定 サブタイトル タイトル カスタマイザー カスタマイザー', 0),\n",
       " ('設定 タイトル カスタマイザー カスタマイザー サブタイトル', 0),\n",
       " ('カスタマイザー サブタイトル カスタマイザー タイトル 設定', 0),\n",
       " ('カスタマイザー 設定 サブタイトル タイトル カスタマイザー', 0),\n",
       " ('タイトル 設定 カスタマイザー サブタイトル カスタマイザー', 0),\n",
       " ('サブタイトル カスタマイザー タイトル 設定 カスタマイザー', 0),\n",
       " ('カスタマイザー カスタマイザー 設定 サブタイトル タイトル', 0),\n",
       " ('サブタイトル タイトル カスタマイザー カスタマイザー 設定', 0)]"
      ]
     },
     "execution_count": 215,
     "metadata": {},
     "output_type": "execute_result"
    }
   ],
   "source": [
    "gen_list"
   ]
  },
  {
   "cell_type": "code",
   "execution_count": 209,
   "metadata": {},
   "outputs": [],
   "source": [
    "def generator(sent_list, PageID):\n",
    "    saved_list = sent_list\n",
    "    collector = []\n",
    "\n",
    "    for i in sent_list:\n",
    "        var = saved_list[0]\n",
    "        saved_list.remove(saved_list[0])\n",
    "        saved_list.append(var)\n",
    "        collector.append(\" \".join(saved_list))\n",
    "    \n",
    "    for order in range(1,len(sent_list)):\n",
    "        for i in range(len(sent_list)):\n",
    "            var = saved_list[0]\n",
    "            saved_list.remove(saved_list[0])\n",
    "            saved_list.insert(order,var)\n",
    "            collector.append(\" \".join(saved_list))\n",
    "    \n",
    "    collector = list(set(collector))\n",
    "    ID_concat = [PageID]*len(collector)\n",
    "    return list(zip(collector,ID_concat))\n",
    "    \n",
    "\n",
    "sent_list = [\"1\",\"2\",'3','4','5']\n",
    "generator(saved_list,1)"
   ]
  },
  {
   "cell_type": "code",
   "execution_count": 124,
   "metadata": {},
   "outputs": [],
   "source": [
    "collect_text = []\n",
    "collect_ID = []\n",
    "for items in collector:\n",
    "    for text, ID in items:\n",
    "        collect_text.append(text)\n",
    "        collect_ID.append(ID)\n",
    "    "
   ]
  },
  {
   "cell_type": "code",
   "execution_count": 125,
   "metadata": {},
   "outputs": [
    {
     "data": {
      "text/html": [
       "<div>\n",
       "<style scoped>\n",
       "    .dataframe tbody tr th:only-of-type {\n",
       "        vertical-align: middle;\n",
       "    }\n",
       "\n",
       "    .dataframe tbody tr th {\n",
       "        vertical-align: top;\n",
       "    }\n",
       "\n",
       "    .dataframe thead th {\n",
       "        text-align: right;\n",
       "    }\n",
       "</style>\n",
       "<table border=\"1\" class=\"dataframe\">\n",
       "  <thead>\n",
       "    <tr style=\"text-align: right;\">\n",
       "      <th></th>\n",
       "      <th>Data</th>\n",
       "      <th>PageID</th>\n",
       "    </tr>\n",
       "  </thead>\n",
       "  <tbody>\n",
       "    <tr>\n",
       "      <th>0</th>\n",
       "      <td>タイトル 設定 カスタマイザー サブタイトル カスタマイザー</td>\n",
       "      <td>0</td>\n",
       "    </tr>\n",
       "    <tr>\n",
       "      <th>1</th>\n",
       "      <td>設定 カスタマイザー サブタイトル カスタマイザー タイトル</td>\n",
       "      <td>0</td>\n",
       "    </tr>\n",
       "    <tr>\n",
       "      <th>2</th>\n",
       "      <td>カスタマイザー サブタイトル カスタマイザー タイトル 設定</td>\n",
       "      <td>0</td>\n",
       "    </tr>\n",
       "    <tr>\n",
       "      <th>3</th>\n",
       "      <td>サブタイトル カスタマイザー タイトル 設定 カスタマイザー</td>\n",
       "      <td>0</td>\n",
       "    </tr>\n",
       "    <tr>\n",
       "      <th>4</th>\n",
       "      <td>カスタマイザー タイトル 設定 カスタマイザー サブタイトル</td>\n",
       "      <td>0</td>\n",
       "    </tr>\n",
       "  </tbody>\n",
       "</table>\n",
       "</div>"
      ],
      "text/plain": [
       "                             Data  PageID\n",
       "0  タイトル 設定 カスタマイザー サブタイトル カスタマイザー       0\n",
       "1  設定 カスタマイザー サブタイトル カスタマイザー タイトル       0\n",
       "2  カスタマイザー サブタイトル カスタマイザー タイトル 設定       0\n",
       "3  サブタイトル カスタマイザー タイトル 設定 カスタマイザー       0\n",
       "4  カスタマイザー タイトル 設定 カスタマイザー サブタイトル       0"
      ]
     },
     "execution_count": 125,
     "metadata": {},
     "output_type": "execute_result"
    }
   ],
   "source": [
    "df = pd.DataFrame(zip(collect_text, collect_ID), columns=[\"Data\",\"PageID\"])\n",
    "df.head()"
   ]
  },
  {
   "cell_type": "code",
   "execution_count": 126,
   "metadata": {},
   "outputs": [
    {
     "data": {
      "text/plain": [
       "391220"
      ]
     },
     "execution_count": 126,
     "metadata": {},
     "output_type": "execute_result"
    }
   ],
   "source": [
    "len(df)"
   ]
  },
  {
   "cell_type": "code",
   "execution_count": 127,
   "metadata": {},
   "outputs": [],
   "source": [
    "df = df.sample(frac=1)"
   ]
  },
  {
   "cell_type": "code",
   "execution_count": 128,
   "metadata": {},
   "outputs": [
    {
     "data": {
      "text/html": [
       "<div>\n",
       "<style scoped>\n",
       "    .dataframe tbody tr th:only-of-type {\n",
       "        vertical-align: middle;\n",
       "    }\n",
       "\n",
       "    .dataframe tbody tr th {\n",
       "        vertical-align: top;\n",
       "    }\n",
       "\n",
       "    .dataframe thead th {\n",
       "        text-align: right;\n",
       "    }\n",
       "</style>\n",
       "<table border=\"1\" class=\"dataframe\">\n",
       "  <thead>\n",
       "    <tr style=\"text-align: right;\">\n",
       "      <th></th>\n",
       "      <th>Data</th>\n",
       "      <th>PageID</th>\n",
       "    </tr>\n",
       "  </thead>\n",
       "  <tbody>\n",
       "    <tr>\n",
       "      <th>220078</th>\n",
       "      <td>無償 Hub アクセス 拒否 SOTI</td>\n",
       "      <td>239</td>\n",
       "    </tr>\n",
       "    <tr>\n",
       "      <th>33234</th>\n",
       "      <td>階層 構造 グループ 作成 上位</td>\n",
       "      <td>27</td>\n",
       "    </tr>\n",
       "    <tr>\n",
       "      <th>163485</th>\n",
       "      <td>入れる 認証 右端 ドロップ チェック</td>\n",
       "      <td>169</td>\n",
       "    </tr>\n",
       "    <tr>\n",
       "      <th>284580</th>\n",
       "      <td>押す 修正 項目 削除 ボタン</td>\n",
       "      <td>319</td>\n",
       "    </tr>\n",
       "    <tr>\n",
       "      <th>320866</th>\n",
       "      <td>同じ ファイル サーバ 日時 若い</td>\n",
       "      <td>370</td>\n",
       "    </tr>\n",
       "  </tbody>\n",
       "</table>\n",
       "</div>"
      ],
      "text/plain": [
       "                       Data  PageID\n",
       "220078  無償 Hub アクセス 拒否 SOTI     239\n",
       "33234      階層 構造 グループ 作成 上位      27\n",
       "163485  入れる 認証 右端 ドロップ チェック     169\n",
       "284580      押す 修正 項目 削除 ボタン     319\n",
       "320866    同じ ファイル サーバ 日時 若い     370"
      ]
     },
     "execution_count": 128,
     "metadata": {},
     "output_type": "execute_result"
    }
   ],
   "source": [
    "df.head()"
   ]
  },
  {
   "cell_type": "code",
   "execution_count": 130,
   "metadata": {},
   "outputs": [
    {
     "data": {
      "text/html": [
       "<div>\n",
       "<style scoped>\n",
       "    .dataframe tbody tr th:only-of-type {\n",
       "        vertical-align: middle;\n",
       "    }\n",
       "\n",
       "    .dataframe tbody tr th {\n",
       "        vertical-align: top;\n",
       "    }\n",
       "\n",
       "    .dataframe thead th {\n",
       "        text-align: right;\n",
       "    }\n",
       "</style>\n",
       "<table border=\"1\" class=\"dataframe\">\n",
       "  <thead>\n",
       "    <tr style=\"text-align: right;\">\n",
       "      <th></th>\n",
       "      <th>Data</th>\n",
       "      <th>PageID</th>\n",
       "    </tr>\n",
       "  </thead>\n",
       "  <tbody>\n",
       "    <tr>\n",
       "      <th>220078</th>\n",
       "      <td>無償 Hub アクセス 拒否 SOTI</td>\n",
       "      <td>Page_239</td>\n",
       "    </tr>\n",
       "    <tr>\n",
       "      <th>33234</th>\n",
       "      <td>階層 構造 グループ 作成 上位</td>\n",
       "      <td>Page_27</td>\n",
       "    </tr>\n",
       "    <tr>\n",
       "      <th>163485</th>\n",
       "      <td>入れる 認証 右端 ドロップ チェック</td>\n",
       "      <td>Page_169</td>\n",
       "    </tr>\n",
       "    <tr>\n",
       "      <th>284580</th>\n",
       "      <td>押す 修正 項目 削除 ボタン</td>\n",
       "      <td>Page_319</td>\n",
       "    </tr>\n",
       "    <tr>\n",
       "      <th>320866</th>\n",
       "      <td>同じ ファイル サーバ 日時 若い</td>\n",
       "      <td>Page_370</td>\n",
       "    </tr>\n",
       "  </tbody>\n",
       "</table>\n",
       "</div>"
      ],
      "text/plain": [
       "                       Data    PageID\n",
       "220078  無償 Hub アクセス 拒否 SOTI  Page_239\n",
       "33234      階層 構造 グループ 作成 上位   Page_27\n",
       "163485  入れる 認証 右端 ドロップ チェック  Page_169\n",
       "284580      押す 修正 項目 削除 ボタン  Page_319\n",
       "320866    同じ ファイル サーバ 日時 若い  Page_370"
      ]
     },
     "execution_count": 130,
     "metadata": {},
     "output_type": "execute_result"
    }
   ],
   "source": [
    "df = label_concater(df)\n",
    "df.head()"
   ]
  },
  {
   "cell_type": "code",
   "execution_count": 129,
   "metadata": {},
   "outputs": [],
   "source": [
    "def label_concater(dataframe):\n",
    "    dataframe.PageID = dataframe.PageID.apply(lambda x: \"Page_\"+str(x))\n",
    "    return dataframe"
   ]
  },
  {
   "cell_type": "code",
   "execution_count": 159,
   "metadata": {},
   "outputs": [
    {
     "data": {
      "text/plain": [
       "[1, 2, 3]"
      ]
     },
     "execution_count": 159,
     "metadata": {},
     "output_type": "execute_result"
    }
   ],
   "source": [
    "list(range(1,4))"
   ]
  },
  {
   "cell_type": "code",
   "execution_count": 36,
   "metadata": {},
   "outputs": [
    {
     "data": {
      "text/html": [
       "<div>\n",
       "<style scoped>\n",
       "    .dataframe tbody tr th:only-of-type {\n",
       "        vertical-align: middle;\n",
       "    }\n",
       "\n",
       "    .dataframe tbody tr th {\n",
       "        vertical-align: top;\n",
       "    }\n",
       "\n",
       "    .dataframe thead th {\n",
       "        text-align: right;\n",
       "    }\n",
       "</style>\n",
       "<table border=\"1\" class=\"dataframe\">\n",
       "  <thead>\n",
       "    <tr style=\"text-align: right;\">\n",
       "      <th></th>\n",
       "      <th>PageID</th>\n",
       "      <th>Text</th>\n",
       "    </tr>\n",
       "  </thead>\n",
       "  <tbody>\n",
       "    <tr>\n",
       "      <th>0</th>\n",
       "      <td>Page_0</td>\n",
       "      <td>カスタマイザー タイトル 設定 カスタマイザー サブタイトル</td>\n",
       "    </tr>\n",
       "    <tr>\n",
       "      <th>1</th>\n",
       "      <td>Page_0</td>\n",
       "      <td>設定 MobiControl 設定 順序 MobiControl</td>\n",
       "    </tr>\n",
       "    <tr>\n",
       "      <th>2</th>\n",
       "      <td>Page_0</td>\n",
       "      <td>設定 順序 MobiControl 設定 順序</td>\n",
       "    </tr>\n",
       "    <tr>\n",
       "      <th>3</th>\n",
       "      <td>Page_0</td>\n",
       "      <td>行い 端末 OS 対象 オンプレミス</td>\n",
       "    </tr>\n",
       "    <tr>\n",
       "      <th>4</th>\n",
       "      <td>Page_0</td>\n",
       "      <td>MobiControl サーバ 必要 な 設定</td>\n",
       "    </tr>\n",
       "  </tbody>\n",
       "</table>\n",
       "</div>"
      ],
      "text/plain": [
       "   PageID                              Text\n",
       "0  Page_0    カスタマイザー タイトル 設定 カスタマイザー サブタイトル\n",
       "1  Page_0  設定 MobiControl 設定 順序 MobiControl\n",
       "2  Page_0           設定 順序 MobiControl 設定 順序\n",
       "3  Page_0                行い 端末 OS 対象 オンプレミス\n",
       "4  Page_0           MobiControl サーバ 必要 な 設定"
      ]
     },
     "execution_count": 36,
     "metadata": {},
     "output_type": "execute_result"
    }
   ],
   "source": [
    "processed_sliced_corpus[\"Text\"] = processed_sliced_corpus[\"Data\"]\n",
    "processed_sliced_corpus=processed_sliced_corpus.iloc[:,1:]\n",
    "processed_sliced_corpus.head()"
   ]
  },
  {
   "cell_type": "code",
   "execution_count": 37,
   "metadata": {},
   "outputs": [
    {
     "data": {
      "text/plain": [
       "78244"
      ]
     },
     "execution_count": 37,
     "metadata": {},
     "output_type": "execute_result"
    }
   ],
   "source": [
    "len(processed_sliced_corpus)"
   ]
  },
  {
   "cell_type": "code",
   "execution_count": 38,
   "metadata": {},
   "outputs": [],
   "source": [
    "processed_sliced_corpus.to_csv(\"~/AI-system/retrieval_Model/Page_Ranking_Experiment/processed_word5perline_corpus.csv\")"
   ]
  },
  {
   "cell_type": "code",
   "execution_count": 1,
   "metadata": {},
   "outputs": [
    {
     "data": {
      "text/html": [
       "<div>\n",
       "<style scoped>\n",
       "    .dataframe tbody tr th:only-of-type {\n",
       "        vertical-align: middle;\n",
       "    }\n",
       "\n",
       "    .dataframe tbody tr th {\n",
       "        vertical-align: top;\n",
       "    }\n",
       "\n",
       "    .dataframe thead th {\n",
       "        text-align: right;\n",
       "    }\n",
       "</style>\n",
       "<table border=\"1\" class=\"dataframe\">\n",
       "  <thead>\n",
       "    <tr style=\"text-align: right;\">\n",
       "      <th></th>\n",
       "      <th>Unnamed: 0</th>\n",
       "      <th>PageID</th>\n",
       "      <th>Text</th>\n",
       "    </tr>\n",
       "  </thead>\n",
       "  <tbody>\n",
       "    <tr>\n",
       "      <th>0</th>\n",
       "      <td>591414</td>\n",
       "      <td>Page_228</td>\n",
       "      <td>実行 管理 オフライン 端末 MobiControl</td>\n",
       "    </tr>\n",
       "    <tr>\n",
       "      <th>1</th>\n",
       "      <td>102480</td>\n",
       "      <td>Page_28</td>\n",
       "      <td>Active Service Domain Azure Directory</td>\n",
       "    </tr>\n",
       "    <tr>\n",
       "      <th>2</th>\n",
       "      <td>1056287</td>\n",
       "      <td>Page_409</td>\n",
       "      <td>社外 なく 登録 防ぐ セキュリティ</td>\n",
       "    </tr>\n",
       "    <tr>\n",
       "      <th>3</th>\n",
       "      <td>1036182</td>\n",
       "      <td>Page_396</td>\n",
       "      <td>名前 プロファイル ペン 構成 ドラフト</td>\n",
       "    </tr>\n",
       "    <tr>\n",
       "      <th>4</th>\n",
       "      <td>719949</td>\n",
       "      <td>Page_257</td>\n",
       "      <td>WiFi 不 電話 回線 圏外</td>\n",
       "    </tr>\n",
       "  </tbody>\n",
       "</table>\n",
       "</div>"
      ],
      "text/plain": [
       "   Unnamed: 0    PageID                                   Text\n",
       "0      591414  Page_228             実行 管理 オフライン 端末 MobiControl\n",
       "1      102480   Page_28  Active Service Domain Azure Directory\n",
       "2     1056287  Page_409                     社外 なく 登録 防ぐ セキュリティ\n",
       "3     1036182  Page_396                   名前 プロファイル ペン 構成 ドラフト\n",
       "4      719949  Page_257                        WiFi 不 電話 回線 圏外"
      ]
     },
     "execution_count": 1,
     "metadata": {},
     "output_type": "execute_result"
    }
   ],
   "source": [
    "import pandas as pd\n",
    "df = pd.read_csv(\"/home/iftekhar/AI-system/retrieval_Model/Page_Ranking_Experiment/experiment_amplified_dataset.csv\")\n",
    "df.head()"
   ]
  },
  {
   "cell_type": "code",
   "execution_count": 2,
   "metadata": {},
   "outputs": [
    {
     "data": {
      "text/plain": [
       "1158332"
      ]
     },
     "execution_count": 2,
     "metadata": {},
     "output_type": "execute_result"
    }
   ],
   "source": [
    "len(df)"
   ]
  }
 ],
 "metadata": {
  "kernelspec": {
   "display_name": "Python 3",
   "language": "python",
   "name": "python3"
  },
  "language_info": {
   "codemirror_mode": {
    "name": "ipython",
    "version": 3
   },
   "file_extension": ".py",
   "mimetype": "text/x-python",
   "name": "python",
   "nbconvert_exporter": "python",
   "pygments_lexer": "ipython3",
   "version": "3.6.9"
  }
 },
 "nbformat": 4,
 "nbformat_minor": 4
}
