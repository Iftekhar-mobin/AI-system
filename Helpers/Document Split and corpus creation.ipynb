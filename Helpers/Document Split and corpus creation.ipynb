{
 "cells": [
  {
   "cell_type": "code",
   "execution_count": 193,
   "metadata": {},
   "outputs": [
    {
     "data": {
      "text/html": [
       "<div>\n",
       "<style scoped>\n",
       "    .dataframe tbody tr th:only-of-type {\n",
       "        vertical-align: middle;\n",
       "    }\n",
       "\n",
       "    .dataframe tbody tr th {\n",
       "        vertical-align: top;\n",
       "    }\n",
       "\n",
       "    .dataframe thead th {\n",
       "        text-align: right;\n",
       "    }\n",
       "</style>\n",
       "<table border=\"1\" class=\"dataframe\">\n",
       "  <thead>\n",
       "    <tr style=\"text-align: right;\">\n",
       "      <th></th>\n",
       "      <th>Data</th>\n",
       "      <th>PageID</th>\n",
       "    </tr>\n",
       "  </thead>\n",
       "  <tbody>\n",
       "    <tr>\n",
       "      <th>0</th>\n",
       "      <td>カスタマイザー タイトル 設定 カスタマイザー サブタイトル 設定 MobiControl ...</td>\n",
       "      <td>0</td>\n",
       "    </tr>\n",
       "    <tr>\n",
       "      <th>1</th>\n",
       "      <td>Apple 製品 MobiControl v ManualApple 製品 MobiCont...</td>\n",
       "      <td>1</td>\n",
       "    </tr>\n",
       "    <tr>\n",
       "      <th>2</th>\n",
       "      <td>Android 端末 MobiControl v ManualAndroid 設定 モード ...</td>\n",
       "      <td>2</td>\n",
       "    </tr>\n",
       "    <tr>\n",
       "      <th>3</th>\n",
       "      <td>Windows PCMobiControl v ManualWindows PC 根本 セキ...</td>\n",
       "      <td>3</td>\n",
       "    </tr>\n",
       "    <tr>\n",
       "      <th>4</th>\n",
       "      <td>Windows EmbeddedMobiControl v ManualWindows Em...</td>\n",
       "      <td>4</td>\n",
       "    </tr>\n",
       "  </tbody>\n",
       "</table>\n",
       "</div>"
      ],
      "text/plain": [
       "                                                Data  PageID\n",
       "0  カスタマイザー タイトル 設定 カスタマイザー サブタイトル 設定 MobiControl ...       0\n",
       "1  Apple 製品 MobiControl v ManualApple 製品 MobiCont...       1\n",
       "2  Android 端末 MobiControl v ManualAndroid 設定 モード ...       2\n",
       "3  Windows PCMobiControl v ManualWindows PC 根本 セキ...       3\n",
       "4  Windows EmbeddedMobiControl v ManualWindows Em...       4"
      ]
     },
     "execution_count": 193,
     "metadata": {},
     "output_type": "execute_result"
    }
   ],
   "source": [
    "import pandas as pd\n",
    "import numpy as np\n",
    "\n",
    "df = pd.read_csv(\"/home/iftekhar/AI-system/retrieval_Model/processed_perPage_perLine.csv\")\n",
    "df = df.iloc[:,1:]\n",
    "df.head()"
   ]
  },
  {
   "cell_type": "code",
   "execution_count": 194,
   "metadata": {},
   "outputs": [
    {
     "data": {
      "text/plain": [
       "445"
      ]
     },
     "execution_count": 194,
     "metadata": {},
     "output_type": "execute_result"
    }
   ],
   "source": [
    "len(df)"
   ]
  },
  {
   "cell_type": "code",
   "execution_count": 195,
   "metadata": {},
   "outputs": [],
   "source": [
    "classes = df.PageID.unique()\n",
    "words = 5\n",
    "\n",
    "result = pd.DataFrame()\n",
    "\n",
    "for i in list(classes):\n",
    "    arr_index = df[df.PageID == i].Data.values\n",
    "    data = ''.join(list(arr_index))\n",
    "    arr_words = np.array(data.split())\n",
    "    #print(arr_words) \n",
    "    \n",
    "    num = arr_words.shape[0]//words\n",
    "    full = words * num\n",
    "    rest = arr_words.shape[0] - full\n",
    "    \n",
    "    pad = np.zeros([words-rest], dtype=int)\n",
    "    sc = np.concatenate((arr_words,pad))\n",
    "    features = sc.reshape(num+1, words)\n",
    "    \n",
    "    df_v = pd.DataFrame(features)\n",
    "    df_v[\"cls\"] = i\n",
    "    \n",
    "    result = pd.concat([result, df_v]) \n",
    "\n",
    "    \n",
    "#print(result)\n",
    "#result.to_csv('processed.csv')"
   ]
  },
  {
   "cell_type": "code",
   "execution_count": 196,
   "metadata": {},
   "outputs": [
    {
     "data": {
      "text/plain": [
       "78244"
      ]
     },
     "execution_count": 196,
     "metadata": {},
     "output_type": "execute_result"
    }
   ],
   "source": [
    "len(result)"
   ]
  },
  {
   "cell_type": "code",
   "execution_count": 197,
   "metadata": {},
   "outputs": [],
   "source": [
    "Data_cols = result.iloc[:,:-1]\n",
    "tog = Data_cols.apply(lambda x: ' '.join(x), axis=1)\n",
    "\n",
    "processed_sliced_corpus = pd.DataFrame(zip(list(tog),list(result.cls)))\n",
    "\n",
    "processed_sliced_corpus = processed_sliced_corpus.rename(columns={0:\"Data\",1:\"PageID\"})\n",
    "\n",
    "processed_sliced_corpus.head()"
   ]
  },
  {
   "cell_type": "code",
   "execution_count": 211,
   "metadata": {},
   "outputs": [
    {
     "data": {
      "text/plain": [
       "78244"
      ]
     },
     "execution_count": 211,
     "metadata": {},
     "output_type": "execute_result"
    }
   ],
   "source": [
    "len(processed_sliced_corpus)"
   ]
  },
  {
   "cell_type": "code",
   "execution_count": 212,
   "metadata": {},
   "outputs": [],
   "source": [
    "count = 0\n",
    "collector = []\n",
    "for index, col in processed_sliced_corpus.iterrows():\n",
    "    #print(col[\"Data\"], index)\n",
    "    sentence = col[\"Data\"]\n",
    "    ID = col[\"PageID\"]\n",
    "    sent_list = sentence.split()\n",
    "    gen_list = generator(sent_list, ID)\n",
    "    collector.append(gen_list)\n",
    "    break"
   ]
  },
  {
   "cell_type": "code",
   "execution_count": 213,
   "metadata": {},
   "outputs": [
    {
     "data": {
      "text/plain": [
       "1"
      ]
     },
     "execution_count": 213,
     "metadata": {},
     "output_type": "execute_result"
    }
   ],
   "source": [
    "len(collector)"
   ]
  },
  {
   "cell_type": "code",
   "execution_count": 214,
   "metadata": {},
   "outputs": [
    {
     "data": {
      "text/plain": [
       "[[('カスタマイザー タイトル 設定 カスタマイザー サブタイトル', 0),\n",
       "  ('タイトル カスタマイザー カスタマイザー 設定 サブタイトル', 0),\n",
       "  ('カスタマイザー 設定 タイトル カスタマイザー サブタイトル', 0),\n",
       "  ('設定 カスタマイザー サブタイトル カスタマイザー タイトル', 0),\n",
       "  ('タイトル カスタマイザー 設定 カスタマイザー サブタイトル', 0),\n",
       "  ('カスタマイザー カスタマイザー 設定 タイトル サブタイトル', 0),\n",
       "  ('設定 サブタイトル タイトル カスタマイザー カスタマイザー', 0),\n",
       "  ('設定 タイトル カスタマイザー カスタマイザー サブタイトル', 0),\n",
       "  ('カスタマイザー サブタイトル カスタマイザー タイトル 設定', 0),\n",
       "  ('カスタマイザー 設定 サブタイトル タイトル カスタマイザー', 0),\n",
       "  ('タイトル 設定 カスタマイザー サブタイトル カスタマイザー', 0),\n",
       "  ('サブタイトル カスタマイザー タイトル 設定 カスタマイザー', 0),\n",
       "  ('カスタマイザー カスタマイザー 設定 サブタイトル タイトル', 0),\n",
       "  ('サブタイトル タイトル カスタマイザー カスタマイザー 設定', 0)]]"
      ]
     },
     "execution_count": 214,
     "metadata": {},
     "output_type": "execute_result"
    }
   ],
   "source": [
    "collector"
   ]
  },
  {
   "cell_type": "code",
   "execution_count": 215,
   "metadata": {},
   "outputs": [
    {
     "data": {
      "text/plain": [
       "[('カスタマイザー タイトル 設定 カスタマイザー サブタイトル', 0),\n",
       " ('タイトル カスタマイザー カスタマイザー 設定 サブタイトル', 0),\n",
       " ('カスタマイザー 設定 タイトル カスタマイザー サブタイトル', 0),\n",
       " ('設定 カスタマイザー サブタイトル カスタマイザー タイトル', 0),\n",
       " ('タイトル カスタマイザー 設定 カスタマイザー サブタイトル', 0),\n",
       " ('カスタマイザー カスタマイザー 設定 タイトル サブタイトル', 0),\n",
       " ('設定 サブタイトル タイトル カスタマイザー カスタマイザー', 0),\n",
       " ('設定 タイトル カスタマイザー カスタマイザー サブタイトル', 0),\n",
       " ('カスタマイザー サブタイトル カスタマイザー タイトル 設定', 0),\n",
       " ('カスタマイザー 設定 サブタイトル タイトル カスタマイザー', 0),\n",
       " ('タイトル 設定 カスタマイザー サブタイトル カスタマイザー', 0),\n",
       " ('サブタイトル カスタマイザー タイトル 設定 カスタマイザー', 0),\n",
       " ('カスタマイザー カスタマイザー 設定 サブタイトル タイトル', 0),\n",
       " ('サブタイトル タイトル カスタマイザー カスタマイザー 設定', 0)]"
      ]
     },
     "execution_count": 215,
     "metadata": {},
     "output_type": "execute_result"
    }
   ],
   "source": [
    "gen_list"
   ]
  },
  {
   "cell_type": "code",
   "execution_count": 209,
   "metadata": {},
   "outputs": [],
   "source": [
    "def generator(sent_list, PageID):\n",
    "    saved_list = sent_list\n",
    "    collector = []\n",
    "\n",
    "    for i in sent_list:\n",
    "        var = saved_list[0]\n",
    "        saved_list.remove(saved_list[0])\n",
    "        saved_list.append(var)\n",
    "        collector.append(\" \".join(saved_list))\n",
    "    \n",
    "    for order in range(1,len(sent_list)):\n",
    "        for i in range(len(sent_list)):\n",
    "            var = saved_list[0]\n",
    "            saved_list.remove(saved_list[0])\n",
    "            saved_list.insert(order,var)\n",
    "            collector.append(\" \".join(saved_list))\n",
    "    \n",
    "    collector = list(set(collector))\n",
    "    ID_concat = [PageID]*len(collector)\n",
    "    return list(zip(collector,ID_concat))\n",
    "    \n",
    "\n",
    "sent_list = [\"1\",\"2\",'3','4','5']\n",
    "generator(saved_list,1)"
   ]
  },
  {
   "cell_type": "code",
   "execution_count": 124,
   "metadata": {},
   "outputs": [],
   "source": [
    "collect_text = []\n",
    "collect_ID = []\n",
    "for items in collector:\n",
    "    for text, ID in items:\n",
    "        collect_text.append(text)\n",
    "        collect_ID.append(ID)\n",
    "    "
   ]
  },
  {
   "cell_type": "code",
   "execution_count": 125,
   "metadata": {},
   "outputs": [
    {
     "data": {
      "text/html": [
       "<div>\n",
       "<style scoped>\n",
       "    .dataframe tbody tr th:only-of-type {\n",
       "        vertical-align: middle;\n",
       "    }\n",
       "\n",
       "    .dataframe tbody tr th {\n",
       "        vertical-align: top;\n",
       "    }\n",
       "\n",
       "    .dataframe thead th {\n",
       "        text-align: right;\n",
       "    }\n",
       "</style>\n",
       "<table border=\"1\" class=\"dataframe\">\n",
       "  <thead>\n",
       "    <tr style=\"text-align: right;\">\n",
       "      <th></th>\n",
       "      <th>Data</th>\n",
       "      <th>PageID</th>\n",
       "    </tr>\n",
       "  </thead>\n",
       "  <tbody>\n",
       "    <tr>\n",
       "      <th>0</th>\n",
       "      <td>タイトル 設定 カスタマイザー サブタイトル カスタマイザー</td>\n",
       "      <td>0</td>\n",
       "    </tr>\n",
       "    <tr>\n",
       "      <th>1</th>\n",
       "      <td>設定 カスタマイザー サブタイトル カスタマイザー タイトル</td>\n",
       "      <td>0</td>\n",
       "    </tr>\n",
       "    <tr>\n",
       "      <th>2</th>\n",
       "      <td>カスタマイザー サブタイトル カスタマイザー タイトル 設定</td>\n",
       "      <td>0</td>\n",
       "    </tr>\n",
       "    <tr>\n",
       "      <th>3</th>\n",
       "      <td>サブタイトル カスタマイザー タイトル 設定 カスタマイザー</td>\n",
       "      <td>0</td>\n",
       "    </tr>\n",
       "    <tr>\n",
       "      <th>4</th>\n",
       "      <td>カスタマイザー タイトル 設定 カスタマイザー サブタイトル</td>\n",
       "      <td>0</td>\n",
       "    </tr>\n",
       "  </tbody>\n",
       "</table>\n",
       "</div>"
      ],
      "text/plain": [
       "                             Data  PageID\n",
       "0  タイトル 設定 カスタマイザー サブタイトル カスタマイザー       0\n",
       "1  設定 カスタマイザー サブタイトル カスタマイザー タイトル       0\n",
       "2  カスタマイザー サブタイトル カスタマイザー タイトル 設定       0\n",
       "3  サブタイトル カスタマイザー タイトル 設定 カスタマイザー       0\n",
       "4  カスタマイザー タイトル 設定 カスタマイザー サブタイトル       0"
      ]
     },
     "execution_count": 125,
     "metadata": {},
     "output_type": "execute_result"
    }
   ],
   "source": [
    "df = pd.DataFrame(zip(collect_text, collect_ID), columns=[\"Data\",\"PageID\"])\n",
    "df.head()"
   ]
  },
  {
   "cell_type": "code",
   "execution_count": 126,
   "metadata": {},
   "outputs": [
    {
     "data": {
      "text/plain": [
       "391220"
      ]
     },
     "execution_count": 126,
     "metadata": {},
     "output_type": "execute_result"
    }
   ],
   "source": [
    "len(df)"
   ]
  },
  {
   "cell_type": "code",
   "execution_count": 127,
   "metadata": {},
   "outputs": [],
   "source": [
    "df = df.sample(frac=1)"
   ]
  },
  {
   "cell_type": "code",
   "execution_count": 128,
   "metadata": {},
   "outputs": [
    {
     "data": {
      "text/html": [
       "<div>\n",
       "<style scoped>\n",
       "    .dataframe tbody tr th:only-of-type {\n",
       "        vertical-align: middle;\n",
       "    }\n",
       "\n",
       "    .dataframe tbody tr th {\n",
       "        vertical-align: top;\n",
       "    }\n",
       "\n",
       "    .dataframe thead th {\n",
       "        text-align: right;\n",
       "    }\n",
       "</style>\n",
       "<table border=\"1\" class=\"dataframe\">\n",
       "  <thead>\n",
       "    <tr style=\"text-align: right;\">\n",
       "      <th></th>\n",
       "      <th>Data</th>\n",
       "      <th>PageID</th>\n",
       "    </tr>\n",
       "  </thead>\n",
       "  <tbody>\n",
       "    <tr>\n",
       "      <th>220078</th>\n",
       "      <td>無償 Hub アクセス 拒否 SOTI</td>\n",
       "      <td>239</td>\n",
       "    </tr>\n",
       "    <tr>\n",
       "      <th>33234</th>\n",
       "      <td>階層 構造 グループ 作成 上位</td>\n",
       "      <td>27</td>\n",
       "    </tr>\n",
       "    <tr>\n",
       "      <th>163485</th>\n",
       "      <td>入れる 認証 右端 ドロップ チェック</td>\n",
       "      <td>169</td>\n",
       "    </tr>\n",
       "    <tr>\n",
       "      <th>284580</th>\n",
       "      <td>押す 修正 項目 削除 ボタン</td>\n",
       "      <td>319</td>\n",
       "    </tr>\n",
       "    <tr>\n",
       "      <th>320866</th>\n",
       "      <td>同じ ファイル サーバ 日時 若い</td>\n",
       "      <td>370</td>\n",
       "    </tr>\n",
       "  </tbody>\n",
       "</table>\n",
       "</div>"
      ],
      "text/plain": [
       "                       Data  PageID\n",
       "220078  無償 Hub アクセス 拒否 SOTI     239\n",
       "33234      階層 構造 グループ 作成 上位      27\n",
       "163485  入れる 認証 右端 ドロップ チェック     169\n",
       "284580      押す 修正 項目 削除 ボタン     319\n",
       "320866    同じ ファイル サーバ 日時 若い     370"
      ]
     },
     "execution_count": 128,
     "metadata": {},
     "output_type": "execute_result"
    }
   ],
   "source": [
    "df.head()"
   ]
  },
  {
   "cell_type": "code",
   "execution_count": 130,
   "metadata": {},
   "outputs": [
    {
     "data": {
      "text/html": [
       "<div>\n",
       "<style scoped>\n",
       "    .dataframe tbody tr th:only-of-type {\n",
       "        vertical-align: middle;\n",
       "    }\n",
       "\n",
       "    .dataframe tbody tr th {\n",
       "        vertical-align: top;\n",
       "    }\n",
       "\n",
       "    .dataframe thead th {\n",
       "        text-align: right;\n",
       "    }\n",
       "</style>\n",
       "<table border=\"1\" class=\"dataframe\">\n",
       "  <thead>\n",
       "    <tr style=\"text-align: right;\">\n",
       "      <th></th>\n",
       "      <th>Data</th>\n",
       "      <th>PageID</th>\n",
       "    </tr>\n",
       "  </thead>\n",
       "  <tbody>\n",
       "    <tr>\n",
       "      <th>220078</th>\n",
       "      <td>無償 Hub アクセス 拒否 SOTI</td>\n",
       "      <td>Page_239</td>\n",
       "    </tr>\n",
       "    <tr>\n",
       "      <th>33234</th>\n",
       "      <td>階層 構造 グループ 作成 上位</td>\n",
       "      <td>Page_27</td>\n",
       "    </tr>\n",
       "    <tr>\n",
       "      <th>163485</th>\n",
       "      <td>入れる 認証 右端 ドロップ チェック</td>\n",
       "      <td>Page_169</td>\n",
       "    </tr>\n",
       "    <tr>\n",
       "      <th>284580</th>\n",
       "      <td>押す 修正 項目 削除 ボタン</td>\n",
       "      <td>Page_319</td>\n",
       "    </tr>\n",
       "    <tr>\n",
       "      <th>320866</th>\n",
       "      <td>同じ ファイル サーバ 日時 若い</td>\n",
       "      <td>Page_370</td>\n",
       "    </tr>\n",
       "  </tbody>\n",
       "</table>\n",
       "</div>"
      ],
      "text/plain": [
       "                       Data    PageID\n",
       "220078  無償 Hub アクセス 拒否 SOTI  Page_239\n",
       "33234      階層 構造 グループ 作成 上位   Page_27\n",
       "163485  入れる 認証 右端 ドロップ チェック  Page_169\n",
       "284580      押す 修正 項目 削除 ボタン  Page_319\n",
       "320866    同じ ファイル サーバ 日時 若い  Page_370"
      ]
     },
     "execution_count": 130,
     "metadata": {},
     "output_type": "execute_result"
    }
   ],
   "source": [
    "df = label_concater(df)\n",
    "df.head()"
   ]
  },
  {
   "cell_type": "code",
   "execution_count": 129,
   "metadata": {},
   "outputs": [],
   "source": [
    "def label_concater(dataframe):\n",
    "    dataframe.PageID = dataframe.PageID.apply(lambda x: \"Page_\"+str(x))\n",
    "    return dataframe"
   ]
  },
  {
   "cell_type": "code",
   "execution_count": 159,
   "metadata": {},
   "outputs": [
    {
     "data": {
      "text/plain": [
       "[1, 2, 3]"
      ]
     },
     "execution_count": 159,
     "metadata": {},
     "output_type": "execute_result"
    }
   ],
   "source": [
    "list(range(1,4))"
   ]
  },
  {
   "cell_type": "code",
   "execution_count": 36,
   "metadata": {},
   "outputs": [
    {
     "data": {
      "text/html": [
       "<div>\n",
       "<style scoped>\n",
       "    .dataframe tbody tr th:only-of-type {\n",
       "        vertical-align: middle;\n",
       "    }\n",
       "\n",
       "    .dataframe tbody tr th {\n",
       "        vertical-align: top;\n",
       "    }\n",
       "\n",
       "    .dataframe thead th {\n",
       "        text-align: right;\n",
       "    }\n",
       "</style>\n",
       "<table border=\"1\" class=\"dataframe\">\n",
       "  <thead>\n",
       "    <tr style=\"text-align: right;\">\n",
       "      <th></th>\n",
       "      <th>PageID</th>\n",
       "      <th>Text</th>\n",
       "    </tr>\n",
       "  </thead>\n",
       "  <tbody>\n",
       "    <tr>\n",
       "      <th>0</th>\n",
       "      <td>Page_0</td>\n",
       "      <td>カスタマイザー タイトル 設定 カスタマイザー サブタイトル</td>\n",
       "    </tr>\n",
       "    <tr>\n",
       "      <th>1</th>\n",
       "      <td>Page_0</td>\n",
       "      <td>設定 MobiControl 設定 順序 MobiControl</td>\n",
       "    </tr>\n",
       "    <tr>\n",
       "      <th>2</th>\n",
       "      <td>Page_0</td>\n",
       "      <td>設定 順序 MobiControl 設定 順序</td>\n",
       "    </tr>\n",
       "    <tr>\n",
       "      <th>3</th>\n",
       "      <td>Page_0</td>\n",
       "      <td>行い 端末 OS 対象 オンプレミス</td>\n",
       "    </tr>\n",
       "    <tr>\n",
       "      <th>4</th>\n",
       "      <td>Page_0</td>\n",
       "      <td>MobiControl サーバ 必要 な 設定</td>\n",
       "    </tr>\n",
       "  </tbody>\n",
       "</table>\n",
       "</div>"
      ],
      "text/plain": [
       "   PageID                              Text\n",
       "0  Page_0    カスタマイザー タイトル 設定 カスタマイザー サブタイトル\n",
       "1  Page_0  設定 MobiControl 設定 順序 MobiControl\n",
       "2  Page_0           設定 順序 MobiControl 設定 順序\n",
       "3  Page_0                行い 端末 OS 対象 オンプレミス\n",
       "4  Page_0           MobiControl サーバ 必要 な 設定"
      ]
     },
     "execution_count": 36,
     "metadata": {},
     "output_type": "execute_result"
    }
   ],
   "source": [
    "processed_sliced_corpus[\"Text\"] = processed_sliced_corpus[\"Data\"]\n",
    "processed_sliced_corpus=processed_sliced_corpus.iloc[:,1:]\n",
    "processed_sliced_corpus.head()"
   ]
  },
  {
   "cell_type": "code",
   "execution_count": 37,
   "metadata": {},
   "outputs": [
    {
     "data": {
      "text/plain": [
       "78244"
      ]
     },
     "execution_count": 37,
     "metadata": {},
     "output_type": "execute_result"
    }
   ],
   "source": [
    "len(processed_sliced_corpus)"
   ]
  },
  {
   "cell_type": "code",
   "execution_count": 38,
   "metadata": {},
   "outputs": [],
   "source": [
    "processed_sliced_corpus.to_csv(\"~/AI-system/retrieval_Model/Page_Ranking_Experiment/processed_word5perline_corpus.csv\")"
   ]
  },
  {
   "cell_type": "code",
   "execution_count": 9,
   "metadata": {},
   "outputs": [],
   "source": [
    "import numpy as np\n",
    "\n",
    "import pandas as pd\n",
    "df = pd.read_csv(\"/home/iftekhar/AI-system/retrieval_Model/Page_Ranking_Experiment/experiment_amplified_dataset.csv\")\n",
    "df.head()"
   ]
  },
  {
   "cell_type": "code",
   "execution_count": 2,
   "metadata": {},
   "outputs": [
    {
     "data": {
      "text/plain": [
       "1158332"
      ]
     },
     "execution_count": 2,
     "metadata": {},
     "output_type": "execute_result"
    }
   ],
   "source": [
    "len(df)"
   ]
  },
  {
   "cell_type": "code",
   "execution_count": 2,
   "metadata": {},
   "outputs": [
    {
     "data": {
      "text/html": [
       "<div>\n",
       "<style scoped>\n",
       "    .dataframe tbody tr th:only-of-type {\n",
       "        vertical-align: middle;\n",
       "    }\n",
       "\n",
       "    .dataframe tbody tr th {\n",
       "        vertical-align: top;\n",
       "    }\n",
       "\n",
       "    .dataframe thead th {\n",
       "        text-align: right;\n",
       "    }\n",
       "</style>\n",
       "<table border=\"1\" class=\"dataframe\">\n",
       "  <thead>\n",
       "    <tr style=\"text-align: right;\">\n",
       "      <th></th>\n",
       "      <th>Unnamed: 0</th>\n",
       "      <th>Question</th>\n",
       "      <th>PageID</th>\n",
       "    </tr>\n",
       "  </thead>\n",
       "  <tbody>\n",
       "    <tr>\n",
       "      <th>0</th>\n",
       "      <td>0</td>\n",
       "      <td>方法 参照 macOS 端末 構成 プロファイル メニュー 機能 拡張 どうですか</td>\n",
       "      <td>354</td>\n",
       "    </tr>\n",
       "    <tr>\n",
       "      <th>1</th>\n",
       "      <td>1</td>\n",
       "      <td>常時 接続 ない ので 長持ち ログ ファイル 管理 端末 どんな</td>\n",
       "      <td>76</td>\n",
       "    </tr>\n",
       "    <tr>\n",
       "      <th>2</th>\n",
       "      <td>2</td>\n",
       "      <td>証明 書 パスワード 選択肢 から 選択 接続 認証 パスワード なにで</td>\n",
       "      <td>283</td>\n",
       "    </tr>\n",
       "    <tr>\n",
       "      <th>3</th>\n",
       "      <td>3</td>\n",
       "      <td>INI ファイル バロメータ 値 XML ファイル 要素 ノード 入力 何ができますか</td>\n",
       "      <td>232</td>\n",
       "    </tr>\n",
       "    <tr>\n",
       "      <th>4</th>\n",
       "      <td>4</td>\n",
       "      <td>ヶ国 お客様 寄せ られ た 要望 凝縮 い 業務 どの</td>\n",
       "      <td>6</td>\n",
       "    </tr>\n",
       "  </tbody>\n",
       "</table>\n",
       "</div>"
      ],
      "text/plain": [
       "   Unnamed: 0                                     Question  PageID\n",
       "0           0    方法 参照 macOS 端末 構成 プロファイル メニュー 機能 拡張 どうですか     354\n",
       "1           1            常時 接続 ない ので 長持ち ログ ファイル 管理 端末 どんな      76\n",
       "2           2         証明 書 パスワード 選択肢 から 選択 接続 認証 パスワード なにで     283\n",
       "3           3  INI ファイル バロメータ 値 XML ファイル 要素 ノード 入力 何ができますか     232\n",
       "4           4                 ヶ国 お客様 寄せ られ た 要望 凝縮 い 業務 どの       6"
      ]
     },
     "execution_count": 2,
     "metadata": {},
     "output_type": "execute_result"
    }
   ],
   "source": [
    "import pandas as pd\n",
    "df = pd.read_csv(\"/home/iftekhar/myworkplace/AI-system/retrieval_Model/Page_Ranking_Experiment/pipelines/questions_len_10.csv\")\n",
    "df.head()"
   ]
  },
  {
   "cell_type": "code",
   "execution_count": 2,
   "metadata": {},
   "outputs": [
    {
     "data": {
      "text/plain": [
       "39400"
      ]
     },
     "execution_count": 2,
     "metadata": {},
     "output_type": "execute_result"
    }
   ],
   "source": [
    "len(df)"
   ]
  },
  {
   "cell_type": "code",
   "execution_count": 3,
   "metadata": {},
   "outputs": [
    {
     "data": {
      "text/html": [
       "<div>\n",
       "<style scoped>\n",
       "    .dataframe tbody tr th:only-of-type {\n",
       "        vertical-align: middle;\n",
       "    }\n",
       "\n",
       "    .dataframe tbody tr th {\n",
       "        vertical-align: top;\n",
       "    }\n",
       "\n",
       "    .dataframe thead th {\n",
       "        text-align: right;\n",
       "    }\n",
       "</style>\n",
       "<table border=\"1\" class=\"dataframe\">\n",
       "  <thead>\n",
       "    <tr style=\"text-align: right;\">\n",
       "      <th></th>\n",
       "      <th>Unnamed: 0</th>\n",
       "      <th>Question</th>\n",
       "      <th>PageID</th>\n",
       "    </tr>\n",
       "  </thead>\n",
       "  <tbody>\n",
       "    <tr>\n",
       "      <th>0</th>\n",
       "      <td>0</td>\n",
       "      <td>方法 参照 macOS 端末 構成 プロファイル メニュー 機能 拡張 どうですか</td>\n",
       "      <td>354</td>\n",
       "    </tr>\n",
       "    <tr>\n",
       "      <th>1</th>\n",
       "      <td>1</td>\n",
       "      <td>常時 接続 ない ので 長持ち ログ ファイル 管理 端末 どんな</td>\n",
       "      <td>76</td>\n",
       "    </tr>\n",
       "    <tr>\n",
       "      <th>2</th>\n",
       "      <td>2</td>\n",
       "      <td>証明 書 パスワード 選択肢 から 選択 接続 認証 パスワード なにで</td>\n",
       "      <td>283</td>\n",
       "    </tr>\n",
       "    <tr>\n",
       "      <th>3</th>\n",
       "      <td>3</td>\n",
       "      <td>INI ファイル バロメータ 値 XML ファイル 要素 ノード 入力 何ができますか</td>\n",
       "      <td>232</td>\n",
       "    </tr>\n",
       "    <tr>\n",
       "      <th>4</th>\n",
       "      <td>4</td>\n",
       "      <td>ヶ国 お客様 寄せ られ た 要望 凝縮 い 業務 どの</td>\n",
       "      <td>6</td>\n",
       "    </tr>\n",
       "  </tbody>\n",
       "</table>\n",
       "</div>"
      ],
      "text/plain": [
       "   Unnamed: 0                                     Question  PageID\n",
       "0           0    方法 参照 macOS 端末 構成 プロファイル メニュー 機能 拡張 どうですか     354\n",
       "1           1            常時 接続 ない ので 長持ち ログ ファイル 管理 端末 どんな      76\n",
       "2           2         証明 書 パスワード 選択肢 から 選択 接続 認証 パスワード なにで     283\n",
       "3           3  INI ファイル バロメータ 値 XML ファイル 要素 ノード 入力 何ができますか     232\n",
       "4           4                 ヶ国 お客様 寄せ られ た 要望 凝縮 い 業務 どの       6"
      ]
     },
     "execution_count": 3,
     "metadata": {},
     "output_type": "execute_result"
    }
   ],
   "source": [
    "df = pd.read_csv(\"/home/iftekhar/myworkplace/AI-system/retrieval_Model/Page_Ranking_Experiment/pipelines/questions_len_10.csv\")\n",
    "df.head()"
   ]
  },
  {
   "cell_type": "code",
   "execution_count": 1,
   "metadata": {},
   "outputs": [
    {
     "data": {
      "text/html": [
       "<div>\n",
       "<style scoped>\n",
       "    .dataframe tbody tr th:only-of-type {\n",
       "        vertical-align: middle;\n",
       "    }\n",
       "\n",
       "    .dataframe tbody tr th {\n",
       "        vertical-align: top;\n",
       "    }\n",
       "\n",
       "    .dataframe thead th {\n",
       "        text-align: right;\n",
       "    }\n",
       "</style>\n",
       "<table border=\"1\" class=\"dataframe\">\n",
       "  <thead>\n",
       "    <tr style=\"text-align: right;\">\n",
       "      <th></th>\n",
       "      <th>Unnamed: 0</th>\n",
       "      <th>Unnamed: 0.1</th>\n",
       "      <th>Article</th>\n",
       "      <th>Summary</th>\n",
       "      <th>PageID</th>\n",
       "    </tr>\n",
       "  </thead>\n",
       "  <tbody>\n",
       "    <tr>\n",
       "      <th>0</th>\n",
       "      <td>0</td>\n",
       "      <td>0</td>\n",
       "      <td>カスタマイザー から サブタイトル 設定 MobiControl 設定 順序 MobiCon...</td>\n",
       "      <td>MobiControl v14 Manual – MobiControl v14 Manual</td>\n",
       "      <td>0</td>\n",
       "    </tr>\n",
       "    <tr>\n",
       "      <th>1</th>\n",
       "      <td>1</td>\n",
       "      <td>1</td>\n",
       "      <td>MobiControl v Manual Apple 製品 MobiControl 管理 i...</td>\n",
       "      <td>Apple製品 – MobiControl v14 Manual ios overall</td>\n",
       "      <td>1</td>\n",
       "    </tr>\n",
       "    <tr>\n",
       "      <th>2</th>\n",
       "      <td>2</td>\n",
       "      <td>2</td>\n",
       "      <td>MobiControl v Manual Android 設定 モード A MobiCont...</td>\n",
       "      <td>Android端末 – MobiControl v14 Manual plus overall</td>\n",
       "      <td>2</td>\n",
       "    </tr>\n",
       "    <tr>\n",
       "      <th>3</th>\n",
       "      <td>3</td>\n",
       "      <td>3</td>\n",
       "      <td>MobiControl v Manual Windows PC 根本 セキュリティ 対策 リ...</td>\n",
       "      <td>Windows PC – MobiControl v14 Manual wpc overall</td>\n",
       "      <td>3</td>\n",
       "    </tr>\n",
       "    <tr>\n",
       "      <th>4</th>\n",
       "      <td>4</td>\n",
       "      <td>4</td>\n",
       "      <td>MobiControl v Manual Windows Embedded 端末 Windo...</td>\n",
       "      <td>Windows Embedded – MobiControl v14 Manual wm o...</td>\n",
       "      <td>4</td>\n",
       "    </tr>\n",
       "  </tbody>\n",
       "</table>\n",
       "</div>"
      ],
      "text/plain": [
       "   Unnamed: 0  Unnamed: 0.1  \\\n",
       "0           0             0   \n",
       "1           1             1   \n",
       "2           2             2   \n",
       "3           3             3   \n",
       "4           4             4   \n",
       "\n",
       "                                             Article  \\\n",
       "0  カスタマイザー から サブタイトル 設定 MobiControl 設定 順序 MobiCon...   \n",
       "1  MobiControl v Manual Apple 製品 MobiControl 管理 i...   \n",
       "2  MobiControl v Manual Android 設定 モード A MobiCont...   \n",
       "3  MobiControl v Manual Windows PC 根本 セキュリティ 対策 リ...   \n",
       "4  MobiControl v Manual Windows Embedded 端末 Windo...   \n",
       "\n",
       "                                             Summary  PageID  \n",
       "0   MobiControl v14 Manual – MobiControl v14 Manual        0  \n",
       "1      Apple製品 – MobiControl v14 Manual ios overall        1  \n",
       "2   Android端末 – MobiControl v14 Manual plus overall        2  \n",
       "3   Windows PC – MobiControl v14 Manual wpc overall        3  \n",
       "4  Windows Embedded – MobiControl v14 Manual wm o...       4  "
      ]
     },
     "execution_count": 1,
     "metadata": {},
     "output_type": "execute_result"
    }
   ],
   "source": [
    "import pandas as pd\n",
    "summary_df = pd.read_csv(\"/home/iftekhar/myworkplace/AI-system/Helpers/Title_link_merged_corpus.csv\") \n",
    "summary_df.head()"
   ]
  },
  {
   "cell_type": "code",
   "execution_count": null,
   "metadata": {},
   "outputs": [],
   "source": [
    "# looking for following format\n",
    "## intent:ask_howbuilt\n",
    "#- どの よう に 構築 する れる た か"
   ]
  },
  {
   "cell_type": "code",
   "execution_count": 45,
   "metadata": {},
   "outputs": [],
   "source": [
    "s = \"- \"\n",
    "collector = []\n",
    "for index, col in summary_df.iterrows():\n",
    "    questions = df[df.PageID == col['PageID']].Question.values\n",
    "    my_new_list = [s + x for x in questions]\n",
    "    collector.append([\"## intent:\"+col['Summary'], my_new_list])\n",
    "    #print(col['Summary'], col['PageID'])\n",
    "    #break\n",
    "\n",
    "collect = ''\n",
    "for i, j in collector:\n",
    "    #print(i)\n",
    "    collect += i + \"\\n\" \n",
    "    for q in j:\n",
    "        #print(q)\n",
    "        collect += q + \"\\n\"\n",
    "        #break\n",
    "    #break\n",
    "    collect += \"\\n\"\n",
    "\n",
    "text_file = open(\"Output.txt\", \"w\")\n",
    "text_file.write(collect)\n",
    "text_file.close()\n",
    "\n",
    "import re\n",
    "def remove_duplicate(text):        \n",
    "    text = re.sub(r'\\b(\\w+)( \\1\\b)+', r'\\1', text)\n",
    "    return ' '.join(unique_list(text.split()))\n",
    "\n",
    "def unique_list(l):\n",
    "    ulist = []\n",
    "    [ulist.append(x) for x in l if x not in ulist]\n",
    "    return ulist\n",
    "\n",
    "summary_df.Summary = summary_df.Summary.apply(lambda x: remove_duplicate(str(x)))\n",
    "summary_df.head()"
   ]
  },
  {
   "cell_type": "markdown",
   "metadata": {},
   "source": [
    "## Summary and Link are converted as question"
   ]
  },
  {
   "cell_type": "code",
   "execution_count": 18,
   "metadata": {},
   "outputs": [
    {
     "name": "stdout",
     "output_type": "stream",
     "text": [
      "MobiControl v Manual – どの\n",
      "Apple 製品 MobiControl v 14 Manual ios overall 使いたいです\n",
      "Android 端末 – MobiControl v 14 Manual plus 関する情報を教えてください\n",
      "Windows PC – MobiControl v Manual wpc overall 構築するにはどうすればよいですか\n",
      "Windows – MobiControl v 14 Manual wm overall 使い始める方法を教えてください\n",
      "– MobiControl v 14 Manual linux overall 使い始める方法を教えてください\n",
      "MobiControl の – MobiControl v 14 Manual merits どっち\n",
      "MobiControl バージョン と 新 機能 – MobiControl v 14 Manual releasenotes 開発を開始する場所\n",
      "評価 版 の – MobiControl v 14 Manual trial どうでしたか\n",
      "MobiControl の 構成 – MobiControl 14 Manual gettingstarted ことは何ですか\n",
      "MobiControl ライセンス の 更新 – MobiControl v 14 Manual ついて教えてください\n",
      "管理 _ 証明 書 等 の 設定 – MobiControl v 14 Manual serverproperties 入れられますか\n",
      "APNs 証明 書 の 更新 – MobiControl 14 Manual apns certificate どうして\n",
      "証明 書 の テンプレート – MobiControl v 14 Manual certificateauthorities どこ\n",
      "接続 プロファイル の 作成 – MobiControl v 14 Manual ldap profile どの\n",
      "AD _ FS と の プロファイル – MobiControl v 14 Manual ad fs profile なにで\n",
      "端末 OS 共通 の 設定 項目 – MobiControl v Manual commonsettings どんな\n",
      "プロファイル , , 詳細 設定 – MobiControl v 14 Manual policies rules 作りたい\n",
      "Firewall / Proxy へ の – MobiControl v 14 Manual networkports どっち\n",
      "付属 情報 の 定義 – MobiControl 14 Manual custom attributes 構築するにはどうすればよいですか\n",
      "コンテンツ の 運用 – MobiControl v 14 Manual contentlibrary 何ですか\n",
      "ジオフェンス の 作成 と 運用 – MobiControl v 14 Manual どの\n",
      "– MobiControl v 14 Manual erg setup 何ができますか\n",
      "セルフサービスポータル – MobiControl 14 Manual selfserviceportal manual 始める方法\n",
      "Exchange へ の 不法 防止 – MobiControl v 14 Manual secureemailaccess 作り方は\n",
      "端末 削除 後 表示 、 削除 禁止 など – MobiControl v 14 Manual unenroll selfservicebanner 使いたいです\n",
      "管理 コンソール の 構成 – MobiControl v 14 Manual console 関する情報を教えてください\n",
      "端末 グループ の 設定 – MobiControl v 14 adddevicegroup 構築するにはどうすればよいですか\n",
      "端末 を 他 の 端末 グループ 移動 – MobiControl v 14 Manual devicesrelocation 使用しますか\n",
      "コンソール で の フィルタ – MobiControl v 14 Manual devicefiltering どちら\n",
      "端末 一覧 端末 プロパティ の 入替 – MobiControl v 14 Manual deviceproperty column どんな\n",
      "な 端末 を 探す – MobiControl v 14 Manual devicesearch 使い始めるには\n",
      "端末 状況 の グラフ – MobiControl v Manual statuscharts 何ですか\n",
      "びっくり マーク と 上向き 矢印 – MobiControl 14 Manual console icons 作り方は\n",
      "パッケージ ・ スタジオ – MobiControl 14 Manual psoverview 構築するにはどうすればよいですか\n",
      "作成 から ビルド まで – MobiControl v 14 Manual 始める方法\n",
      "スクリプト の 挿入 / 編集 – v 14 Manual addscript 構築するにはどうすればよいですか\n",
      "パッケージ の バージョンアップ – MobiControl 14 Manual revisepackage 作り方は\n",
      "パッケージ の アップ ロード – v 14 Manual addpackage どの\n",
      "プロファイル へ の 積 込 – MobiControl 14 Manual loadonprofile どっち\n",
      "指定 日時 に インストール – MobiControl v 14 packageinstalltiming どこですか\n",
      "アラート ルール ( 全 OS 共通 ) – MobiControl v 14 Manual alertrulesgeneral 使い始めるには\n",
      "管理 サーバ ･ アラート – MobiControl v 14 Manual serverevent 作り方は\n",
      "システム ･ アラート MobiControl v 14 Manual alert systemevent 作りたい\n",
      "電子 メール プロファイル 作成 – MobiControl v Manual noticationprofile 入れられますか\n",
      "アラート 監視 と 管理 – MobiControl v 14 Manual どこですか\n",
      "コンソール 管理 の 登録 – MobiControl v 14 Manual consoleinitial login 使うには\n",
      "コンソール 管理 者 グループ – MobiControl 14 Manual consolepermission 何ですか\n",
      "コンソール 者 の 追加 – MobiControl v 14 Manual consoleusercreate 使うには\n",
      "管理 者 の 認証 条件 – MobiControl 14 Manual consolesecurity どこですか\n",
      "コンソール 管理 の 行動 履歴 – MobiControl v 14 Manual consoleuserstatus 始める方法\n",
      "WNS から 認証 を 得る – MobiControl v 14 ios settings wns setup ついて教えてください\n",
      "設定 を する – MobiControl v 14 wpc settings どうでしたか\n",
      "構成 プロファイル の 設定 – MobiControl v 14 wpc configuredevices 使い始めるには\n",
      "BitLocker – MobiControl 14 Manual bitlocker 関する情報を教えてください\n",
      "SCEP へ 要求 書 – MobiControl v 14 Manual wpc scep 使用しますか\n",
      "端末 ユーザ の 本人 認証 – v 14 Manual wpc authentication どうでしたか\n",
      "端末 証明 書 – MobiControl v 14 Manual certificate 使用しますか\n",
      "Windows 情報 保護 – MobiControl v 14 Manual infoprotection 何ができますか\n",
      "単一 の 指定 – MobiControl v 14 Manual wpc singleapp 使い始めるには\n",
      "アプリ の 制限 – MobiControl v 14 Manual wpc application control どうでしたか\n",
      "エンド ポイント PC の 機能 制限 – v 14 Manual wpc device feature control 開発を開始する場所\n",
      "E メール の 設定 – MobiControl v Manual wpc emailconfig 入れられますか\n",
      "MS Exchange ActiveSync – MobiControl v 14 wpc activesync どこですか\n",
      "IMAP – v 14 Manual wpc imap 使いたいです\n",
      "POP 3 – v 14 Manual wpc pop 3 ことは何ですか\n",
      "の 設定 – MobiControl v 14 Manual wpc apn 始める方法\n",
      "VPN の 設定 – MobiControl v 14 wpc vpn どちら\n",
      "WiFi の 設定 – v 14 Manual wpc wifi 何が\n",
      "ランチャー の 設定 – v 14 Manual wpc lockdown ついて教えてください\n",
      "ランチャーテンプレート – MobiControl v 14 wpc lockdowntemplate 何ができますか\n",
      "Companion – MobiControl v 14 Manual wpc windowscompanion 構築するにはどうすればよいですか\n",
      "端末 詳細 設定 – MobiControl v Manual wpc advancedsettings 使うには\n",
      "リモート 操作 の 設定 – MobiControl v 14 wpc remotecontrolsettings どうですか\n",
      "更新 スケジュール – MobiControl 14 Manual wpc updateschedule 入れられますか\n",
      "正常 性 証明 書 – MobiControl v 14 Manual health attestation どこですか\n",
      "時間 帯 の 設定 – MobiControl v 14 Manual wpc connection period 開発を開始する場所\n",
      "サーバ 群 アクセス 順位 – MobiControl v 14 Manual deploy servers priorities 使い始めるには\n",
      "時刻 の – MobiControl v 14 Manual wpc time sync 関する情報を教えてください\n",
      "監視 データ の 指定 MobiControl v 14 Manual wpc customdata どこですか\n",
      "サポート 担当 者 の 連絡 先 – MobiControl v 14 Manual wpc support contacts 使い始めるには\n",
      "エージェントアップグレード 設定 – MobiControl v Manual wpc agentupgrade 何が\n",
      "ルール 設定 – MobiControl v 14 Manual wpc rules view どんな\n",
      "登録 ルール Modern – MobiControl v 14 Manual wpc add rule modern どの\n",
      "端末 登録 ルール Classic – MobiControl 14 Manual wpc add rule classic 作りたい\n",
      "端末 エージェント の 生成 – MobiControl v 14 Manual wpc agent どうでしたか\n",
      "ファイル 同期 ルール – v 14 Manual wpc filesyncrule どうでしたか\n",
      "端末 の 移動 ルール – MobiControl v 14 Manual wpc どの\n",
      "アプリ ･ カタログ ルール – MobiControl v 14 wpc appcatalog rule 関する情報を教えてください\n",
      "データ 収集 ルール – MobiControl v 14 Manual datacollectionrule なにで\n",
      "アラートルール – MobiControl v 14 Manual wpc alertrules modern どっち\n",
      "アラートルール Classic – v 14 Manual wpc alertrules classic 入れられますか\n",
      "Windows Phone 8 . 1 AET – v 14 Manual winphone aet どこですか\n",
      "端末 に 働きかける – MobiControl 14 Manual wpc - action 何が\n",
      "端末 の リモート 操作 – MobiControl 14 Manual wpc remotecontrol どちら\n",
      "スクリプト 一覧 ( Windows ) – MobiControl v 14 Manual wpc scriptcmd 始める方法\n",
      "端末 状況 を 視る – MobiControl v 14 Manual wpc - tab 構築するにはどうすればよいですか\n",
      "端末 パネル – MobiControl v Manual wpc devicepanel 使用しますか\n",
      "PC ステータス の 詳細 – MobiControl v 14 Manual wpc panel ことは何ですか\n",
      "地理 位置 を 表示 – MobiControl v 14 Manual wpc locationservices どの\n",
      "Windows PC レポート – MobiControl v 14 Manual wpc - 作り方は\n",
      "端末 の 登録 Modern – MobiControl v Manual wpc enrollment modern 作りたい\n",
      "登録 と 操作 Classic – MobiControl v 14 wpc enrollment classic 開発を開始する場所\n",
      "接続 時間 帯 の 設定 – MobiControl v 14 Manual connection period 作りたい\n",
      "設定 する – MobiControl v 14 Manual wm settings 始める方法\n",
      "構成 プロファイル – MobiControl v 14 Manual configuredevices どう\n",
      "ファイル の 暗号 化 – MobiControl v 14 Manual wm file どちら\n",
      "端末 ユーザ の 本人 認証 – MobiControl 14 Manual wm authentication どこですか\n",
      "無 接続 端末 対策 – MobiControl v 14 wm out of contact 使いたいです\n",
      "端末 証明 書 – MobiControl v 14 wm certificate なにで\n",
      "アプリ の 起動 制限 – MobiControl v 14 wm application control 何ですか\n",
      "の 登録 – MobiControl v 14 Manual wm lockdown どうですか\n",
      "ランチャー と テンプレート MobiControl v 14 Manual wm lockdown template どこですか\n",
      "ランチャー と タグ – MobiControl v Manual wm lockdown tags 使用しますか\n",
      "クルマ 運転 中 の ランチャー – MobiControl v 14 wm lockdown speed ついて教えてください\n",
      "発 着信 制限 – v 14 Manual wm phonecalls どうですか\n",
      "端末 機能 制限 – MobiControl v 14 Manual wm feature control ことは何ですか\n",
      "メール – v 14 Manual wm exchangemail 何ですか\n",
      "無線 LAN – MobiControl v Manual wm wifi 開発を開始する場所\n",
      "端末 詳細 設定 – MobiControl v 14 Manual wm どっち\n",
      "リモート の 設定 – MobiControl v 14 Manual wm remotecontrolsettings 何が\n",
      "スケジュール – MobiControl v 14 Manual wm updateschedule 使うには\n",
      "サーバ 群 アクセス 順位 – MobiControl v 14 Manual wm deploy servers 関する情報を教えてください\n",
      "時刻 の 同期 – MobiControl v 14 Manual wm sync 作り方は\n",
      "監視 データ の 指定 – MobiControl v 14 Manual wm なにで\n",
      "サポート 担当 者 へ の 連絡 先 – MobiControl v 14 Manual wm contacts どこ\n",
      "ルール の – MobiControl v 14 Manual wm rules view どこですか\n",
      "端末 登録 ルール – MobiControl v 14 Manual wm add どちら\n",
      "エージェント の 作成 – MobiControl v 14 wm agentmanager 使いたいです\n",
      "同期 ルール – MobiControl v 14 Manual wm filesyncrule どんな\n",
      "端末 の 移動 ルール – MobiControl 14 Manual wm relocationrule どこですか\n",
      "データ 収集 ルール – MobiControl v 14 Manual wm ことは何ですか\n",
      "アラートルール – MobiControl v 14 wm alertrules 作り方は\n",
      "通信 費 管理 – MobiControl v 14 Manual wm expenserule 何ですか\n",
      "端末 に 働きかける – MobiControl v 14 Manual - action 何ですか\n",
      "の リモート 操作 – MobiControl v 14 Manual wm remotecontrol どこですか\n",
      "メッセージ を 送る – MobiControl 14 Manual wm sendmsg どうでしたか\n",
      "スクリプト を 送る – v 14 Manual wm sendscript どっち\n",
      "スクリプト ･ コマンド 一覧 – MobiControl v Manual wm scriptcmd 関する情報を教えてください\n",
      "端末 を 視る – MobiControl v 14 Manual wm devices - tab どう\n",
      "端末 パネル – MobiControl v 14 Manual devicepanel 何ですか\n",
      "端末 の 詳細 MobiControl v 14 Manual wm info panel どうですか\n",
      "的 位置 を 表示 – MobiControl v 14 Manual wm locationservices 使用しますか\n",
      "Win Embedded レポート – MobiControl 14 Manual wm reportstab どうですか\n",
      "登録 と 操作 – MobiControl v Manual wm mobicontrol manual どこ\n",
      "バーコード ・ スキャン で 登録 – MobiControl v 14 barcode generator 作りたい\n",
      "Android – MobiControl v 14 Manual plus agent installation ことは何ですか\n",
      "設定 を する – MobiControl 14 Manual plus settings 始める方法\n",
      "Android Plus プロファイル – MobiControl v 14 Manual plus 作りたい\n",
      "対策 – MobiControl v 14 Manual plus antivirus どこですか\n",
      "端末 の ファイル 暗号 – MobiControl v 14 Manual plus file encryption 何ができますか\n",
      "端末 ユーザ の 本人 認証 MobiControl v 14 Manual plus authentication どこですか\n",
      "無 接続 端末 対策 – MobiControl v 14 Manual plus out of 使い始める方法を教えてください\n",
      "端末 証明 – MobiControl v 14 Manual plus certificate 使い始めるには\n",
      "アプリ の 起動 制限 – MobiControl v Manual plus application control 何ですか\n",
      "ファイア ウォール – MobiControl v 14 Manual plus どうでしたか\n",
      "ランチャー の 登録 – MobiControl v 14 plus lockdown どこ\n",
      "ランチャー と テンプレート – v 14 Manual plus lockdown template 何ですか\n",
      "ランチャー と タグ – MobiControl 14 Manual plus lockdown tags どんな\n",
      "クルマ 運転 中 の ランチャー – MobiControl v 14 plus lockdown speed どこですか\n",
      "発 着信 制限 – MobiControl v 14 Manual plus どの\n",
      "端末 の 機能 制限 – MobiControl v 14 Manual plus feature control 入れられますか\n",
      "E メール の 設定 – MobiControl v 14 plus emailconfig どう\n",
      "MS Exchange – MobiControl v 14 Manual plus activesync 使うには\n",
      "IMAP – v 14 Manual plus imap 何が\n",
      "POP 3 – v 14 Manual plus pop 3 構築するにはどうすればよいですか\n",
      "NitroDesk Trouchdown – MobiControl v 14 Manual nitrodesk 使用しますか\n",
      "APN の 設定 – MobiControl v Manual plus apn ついて教えてください\n",
      "毎 の VPN – MobiControl v 14 Manual plus vpn - per - app どうして\n",
      "VPN 設定 – MobiControl v 14 Manual plus vpn ことは何ですか\n",
      "無線 ホット スポット – MobiControl v 14 Manual plus wifi hotspot どの\n",
      "無線 LAN の 設定 – v 14 Manual plus wifi 始める方法\n",
      "タスクスケジューラ A + – MobiControl v 14 Manual taskscheduler どの\n",
      "ブック マーク – MobiControl v 14 Manual webclip ことは何ですか\n",
      "SOTI Hub – MobiControl v 14 Manual sotihub 使用しますか\n",
      "Surf – MobiControl v 14 Manual plus sotisurf 使うには\n",
      "設定 – MobiControl v 14 Manual plus settingsmanager なにで\n",
      "Android Enterprise プロファイル – v 14 Manual droidenterprise profile ことは何ですか\n",
      "対策 – MobiControl v 14 Manual afw antivirus どうして\n",
      "端末 の 本人 認証 – MobiControl v 14 Manual afw authentication 何が\n",
      "出荷 時 の リセット 防止 – MobiControl v 14 ae resetprotection 使い始める方法を教えてください\n",
      "無 接続 端末 対策 – MobiControl v 14 Manual out of contact どっち\n",
      "端末 証明 書 – MobiControl v 14 Manual afw 作り方は\n",
      "Chrome の Web フィルタ – MobiControl v 14 Manual webfilter どうして\n",
      "アプリ の 起動 – MobiControl v 14 Manual afw application control 使用しますか\n",
      "ブラウザ の セキュリティ 対策 – MobiControl v 14 afw browser 何ですか\n",
      "ブラウザ の プロ キシ – MobiControl v 14 Manual afw どう\n",
      "ランチャー – MobiControl v Manual afw kiosk 作りたい\n",
      "ランチャー と テンプレート – v 14 Manual afw kiosk template 作りたい\n",
      "ランチャー と タグ – MobiControl v 14 plus lockdown tags - 2 どう\n",
      "クルマ 運転 中 の ランチャー – MobiControl 14 Manual afw kiosk speed どう\n",
      "端末 の 機能 制限 – MobiControl v Manual afw device feature control なにで\n",
      "Exchange for Gmail – v 14 Manual afw exchange どの\n",
      "APN – v 14 Manual afw apn 構築するにはどうすればよいですか\n",
      "VPN – MobiControl v Manual afw vpn ことは何ですか\n",
      "無線 – MobiControl v 14 Manual afw wifi どうして\n",
      "アプリ 更新 諾否 – MobiControl v 14 afw app update 開発を開始する場所\n",
      "タスクスケジューラ AE – MobiControl v 14 Manual taskscheduler どうでしたか\n",
      "ブック マーク – MobiControl 14 Manual afw bookmark 始める方法\n",
      "SOTI Hub – MobiControl 14 Manual afw sotihub 入れられますか\n",
      "SOTI Surf – v 14 Manual afw sotisurf 関する情報を教えてください\n",
      "設定 マネージャー – MobiControl v 14 Manual afw 作り方は\n",
      "KNOX プロファイル – MobiControl v 14 knox configuration どちら\n",
      "KNOX ライセンス の 登録 – MobiControl v 14 Manual knox 何ですか\n",
      "シングルサインオン – MobiControl v 14 knox single sign on 使うには\n",
      "パス コード – MobiControl v 14 Manual knox どっち\n",
      "ブラックリスト ･ – MobiControl v 14 Manual knox application control 何ですか\n",
      "ファイア ウォール MobiControl v 14 Manual knox firewall 作り方は\n",
      "ブラウザ の 機能 制限 – MobiControl v Manual knox browser どの\n",
      "端末 の 機能 制限 – MobiControl 14 Manual knox device feature control 開発を開始する場所\n",
      "E メール の 設定 – MobiControl v 14 Manual knox どこですか\n",
      "MS Exchange ActiveSync – MobiControl v 14 Manual knox 使用しますか\n",
      "IMAP – MobiControl v 14 Manual knox 作り方は\n",
      "POP – MobiControl v 14 Manual knox pop 3 なにで\n",
      "NitroDesk Trouchdown MobiControl v 14 Manual knox nitrodesk 始める方法\n",
      "VPN と アプリ の 紐 づけ – MobiControl v 14 Manual vpn 何が\n",
      "請求 書 公私 分割 – MobiControl v 14 Manual knox splitbilling 関する情報を教えてください\n",
      "端末 詳細 設定 – v 14 Manual plus advancedsettings 何ですか\n",
      "監視 データ の 指定 – v 14 Manual plus customdata どこ\n",
      "時刻 の 同期 – MobiControl v 14 Manual plus sync 使用しますか\n",
      "リモート 操作 の 設定 – MobiControl v 14 plus remotecontrolsettings 何ができますか\n",
      "更新 スケジュール – MobiControl v 14 Manual plus 始める方法\n",
      "接続 時間 の 設定 – MobiControl v 14 Manual plus connection period 使い始める方法を教えてください\n",
      "端末 の 共用 – v 14 Manual droid shareddevice どこですか\n",
      "サーバ 群 アクセス 順位 – MobiControl v 14 Manual deploy servers priorities どこ\n",
      "サポート 担当 へ の 連絡 先 – MobiControl v 14 Manual plus support contacts どう\n",
      "エージェントアップグレード 設定 – MobiControl v 14 Manual plus 作りたい\n",
      "端末 の 登録 解除 の 禁止 – MobiControl v 14 Manual plus agentsettings どこですか\n",
      "ルール の 設定 – MobiControl v Manual plus rules view 開発を開始する場所\n",
      "端末 登録 ルール – MobiControl 14 Manual plus add rule どちら\n",
      "アプリ ･ カタログ ルール – MobiControl v 14 Manual plus rule 入れられますか\n",
      "ファイル 同期 ルール MobiControl v 14 Manual plus filesyncrule 入れられますか\n",
      "端末 移動 ルール – MobiControl v 14 Manual plus relocationrule なにで\n",
      "データ 収集 ルール – MobiControl v 14 Manual datacollectionrule 作りたい\n",
      "アラートルール – MobiControl v 14 Manual plus ことは何ですか\n",
      "通信 管理 ルール – MobiControl v 14 Manual plus expenserule 始める方法\n",
      "Google Play Account – MobiControl v 14 Manual googleaccounts 作り方は\n",
      "G Suite Account MobiControl v 14 Manual afw configuration 始める方法\n",
      "3 つ の 設定 モード の 詳細 比較 – MobiControl v 14 droid securitiesfeatures 関する情報を教えてください\n",
      "端末 に 働きかける – v 14 Manual plus - action どちら\n",
      "端末 の リモート – MobiControl v 14 Manual plus remotecontrol なにで\n",
      "を 送る – MobiControl v 14 Manual plus sendmsg どちら\n",
      "スクリプト を 送る – MobiControl v Manual plus sendscript どの\n",
      "スクリプト ･ コマンド – MobiControl v 14 Manual plus scriptcmd どこですか\n",
      "ランチャー を 解除 する – MobiControl v Manual droid launcher closed 始める方法\n",
      "設定 を すぐ 更新 する – MobiControl v 14 Manual immediateupdate 何が\n",
      "端末 状況 を 視る – MobiControl v Manual plus devices - tab どこ\n",
      "端末 パネル – MobiControl v 14 droid devicepanel 作り方は\n",
      "端末 の 詳細 MobiControl v 14 Manual plus info panel 使い始めるには\n",
      "地理 的 位置 表示 – MobiControl v 14 Manual plus locationservices 作りたい\n",
      "Android 端末 レポート – MobiControl 14 Manual plus reportstab ついて教えてください\n",
      "端末 の セットアップ と 操作 – MobiControl v 14 Manual plus agent 入れられますか\n",
      "Device Owner Mode – MobiControl 14 Manual afw device setup 何ですか\n",
      "Profile Owner Mode – MobiControl v 14 Manual afw profile 構築するにはどうすればよいですか\n",
      "バーコード ・ スキャン 登録 – MobiControl v 14 Manual droid barcode generator 何ができますか\n",
      "エージェント の アップデート MobiControl v 14 Manual droid agentupdate 構築するにはどうすればよいですか\n",
      "イン の インストール – MobiControl v 14 Manual droid plugin 使うには\n",
      "常に サーバ と の 接続 を 維持 – MobiControl v 14 Manual undozed 作りたい\n",
      "端末 の 操作 – MobiControl v 14 Manual plus manual なにで\n",
      "サポート 担当 者 へ の 連絡 先 – MobiControl v 14 Manual support contacts 構築するにはどうすればよいですか\n",
      "チェックイン と 接続 – MobiControl v 14 Manual access 2 server どんな\n",
      "設定 する – MobiControl v 14 Manual ios settings 何ですか\n",
      "iOS 構成 プロファイル – MobiControl v 14 ios configuredevices 何が\n",
      "端末 証明 書 – MobiControl v Manual ios configuredevices certificate 何ですか\n",
      "SCEP へ の 要求 書 MobiControl v 14 Manual ios scep 使うには\n",
      "Web コンテンツ フィルタ – MobiControl 14 Manual ios webcontentfilter ついて教えてください\n",
      "iOS アプリ 制限 – MobiControl v 14 Manual application control どうして\n",
      "iOS シングルアプリモード – MobiControl v Manual ios singleappmode 作り方は\n",
      "iOS シングルサインオン MobiControl v 14 Manual ios singlesignon どっち\n",
      "ネットワーク の 制限 – MobiControl v Manual ios networkrestrictions 入れられますか\n",
      "端末 ユーザ の 本人 認証 – v 14 Manual ios authentication どこですか\n",
      "端末 の 機能 制限 – MobiControl v 14 Manual ios device feature どんな\n",
      "E メール の 設定 – MobiControl v 14 Manual ios 使い始める方法を教えてください\n",
      "MS Exchange – MobiControl v 14 Manual ios activesync どこですか\n",
      "IMAP – v 14 Manual ios imap どこ\n",
      "POP 3 – v 14 Manual ios pop 3 どっち\n",
      "から アドレス 入手 – MobiControl v 14 Manual ios ldap 使い始める方法を教えてください\n",
      "カレンダー ( CalDAV ) – MobiControl v 14 ios caldav 始める方法\n",
      "照会 カレンダー MobiControl v 14 Manual ios subscribed cal どう\n",
      "連絡 先 ( CardDAV ) – MobiControl v 14 Manual carddav 開発を開始する場所\n",
      "AirPlay の 設定 – MobiControl v 14 ios airplay どうですか\n",
      "APN の – MobiControl v 14 Manual ios apn 始める方法\n",
      "アプリ 毎 の VPN – MobiControl v 14 Manual ios vpn per - app 入れられますか\n",
      "VPN の 設定 – MobiControl v 14 Manual ios どちら\n",
      "グローバル HTTP プロ – MobiControl v 14 Manual ios http - proxy どちら\n",
      "無線 LAN の 設定 – MobiControl v 14 Manual wifi 使いたいです\n",
      "AirPrint の 設定 – MobiControl v 14 Manual ios どこですか\n",
      "Web クリップ 表示 – MobiControl v 14 Manual ios webclip なにで\n",
      "フォント の 管理 – MobiControl v Manual ios font どうですか\n",
      "プロファイル の 配付 – MobiControl v 14 Manual ios configprofile ことは何ですか\n",
      "管理 対象 ドメイン の 登録 – v 14 Manual ios manageddomains 作りたい\n",
      "SOTI Hub – v 14 Manual ios sotihub どう\n",
      "SOTI Surf – MobiControl 14 Manual ios sotisurf 作り方は\n",
      "macOS プロファイル – MobiControl v 14 Manual macu configuredevices どこですか\n",
      "端末 証明 書 MobiControl v 14 Manual macu certificate 関する情報を教えてください\n",
      "SCEP へ の 要求 書 – MobiControl 14 Manual macu scep どっち\n",
      "ペア レンタル コントロール – v 14 Manual macu parentalcontrol どの\n",
      "– MobiControl v 14 Manual macu finder ついて教えてください\n",
      "端末 ユーザ の 本人 – MobiControl v 14 Manual macu authentication なにで\n",
      "端末 の 機能 制限 – MobiControl v 14 Manual macu device control 使い始める方法を教えてください\n",
      "設定 アシスタント – MobiControl v 14 Manual settingsassistant 入れられますか\n",
      "E の 設定 – MobiControl v 14 Manual macu emailconfig 何ですか\n",
      "MS Exchange ActiveSync – MobiControl v 14 macu activesync 開発を開始する場所\n",
      "– MobiControl v 14 Manual macu imap どこ\n",
      "POP 3 MobiControl v 14 Manual macu pop 3 ことは何ですか\n",
      "LDAP から アドレス 入手 – v 14 Manual macu ldap どこ\n",
      "カレンダー CalDAV ) – MobiControl v 14 Manual macu settingsassistant - 2 何ができますか\n",
      "先 ( CardDAV ) – MobiControl v 14 Manual macu carddav どっち\n",
      "AirPlay の 設定 – MobiControl v 14 Manual macu 何ですか\n",
      "VPN の 設定 – v 14 Manual macu vpn なにで\n",
      "イーサネット – MobiControl v 14 Manual macu 何が\n",
      "プロキシプロファイル – MobiControl v 14 Manual proxyprofile 始める方法\n",
      "無線 LAN 設定 – MobiControl v 14 Manual macu wifi どんな\n",
      "の 設定 – MobiControl v 14 Manual macu airprint 作り方は\n",
      "Web クリップ の 表示 – MobiControl v 14 macu webclip どこですか\n",
      "アクセシビリティ MobiControl v 14 Manual macu accessibility 関する情報を教えてください\n",
      "壁紙 と スクリーンセーバー MobiControl v 14 Manual macu wallpaper 使いたいです\n",
      "Dock MobiControl v 14 Manual macu dock どんな\n",
      "macOS : フォント を 管理 – MobiControl v 14 Manual macu 何ですか\n",
      "ログイン 直後 開く 項目 – MobiControl v 14 Manual macu loginitems どちら\n",
      "プリンタ 設定 – MobiControl v 14 macu printer 始める方法\n",
      "機能 拡張 – MobiControl v 14 macu extentions 開発を開始する場所\n",
      "構成 プロファイル の 配付 – MobiControl 14 Manual macu configprofile 使用しますか\n",
      "管理 ドメイン の 登録 – MobiControl v 14 Manual macu manageddomains 始める方法\n",
      "デバイス プロファイル – MobiControl v 14 Manual macd configuredevices 何が\n",
      "FileVault – MobiControl v 14 Manual macd 何が\n",
      "端末 証明 書 – MobiControl 14 Manual macd certificate 何ができますか\n",
      "SCEP へ の 書 – MobiControl v 14 Manual macd scep どの\n",
      "機能 拡張 – MobiControl v 14 Manual macd kernelextention 構築するにはどうすればよいですか\n",
      "セキュリティ と プライバシー – MobiControl v 14 Manual macd どうして\n",
      "ペア レンタル – MobiControl v 14 Manual macd parentalcontrol 作り方は\n",
      "ファイア ウォール – MobiControl 14 Manual macd firewall 始める方法\n",
      "Finder – MobiControl 14 Manual macd finder どうですか\n",
      "端末 ユーザ の 本人 認証 MobiControl v 14 Manual macd authentication どうして\n",
      "ログイン 画面 MobiControl v 14 Manual macd loginwindow 使いたいです\n",
      "端末 の 機能 制限 MobiControl v 14 Manual macd device feature control ことは何ですか\n",
      "省エネルギー – MobiControl v 14 Manual macd 使うには\n",
      "設定 アシスタント – v 14 Manual macd settingsassistant 使うには\n",
      "AirPlay 設定 – MobiControl v 14 Manual macd airplay 使い始めるには\n",
      "の 設定 – MobiControl v 14 Manual macd vpn どうして\n"
     ]
    },
    {
     "name": "stdout",
     "output_type": "stream",
     "text": [
      "イーサネット MobiControl v 14 Manual macd ethernet どう\n",
      "ディレクトリ ・ サーバ に バインド – MobiControl v Manual macd directoryservers なにで\n",
      "– MobiControl v 14 Manual macd proxyprofile 何ですか\n",
      "無線 LAN の 設定 – MobiControl 14 Manual macd wifi 使い始めるには\n",
      "AirPrint の 設定 – v 14 Manual macd airprint どこですか\n",
      "Xsan – MobiControl v 14 Manual macd どこですか\n",
      "アクセシビリティ MobiControl v 14 Manual macd accessibility 構築するにはどうすればよいですか\n",
      "アップデート サーバ – MobiControl v 14 Manual updateserver どんな\n",
      "Machine サーバ – MobiControl v 14 Manual macd timemachine 構築するにはどうすればよいですか\n",
      "壁紙 と スクリーンセーバー – MobiControl v Manual macd wallpaper 何が\n",
      "Dock – MobiControl v 14 macd dock 入れられますか\n",
      "フォント を 管理 – MobiControl v 14 Manual font 開発を開始する場所\n",
      "ログイン に 開く 項目 – MobiControl v 14 Manual macd loginitems 使い始める方法を教えてください\n",
      "プリンタ 設定 – MobiControl 14 Manual macd printer 入れられますか\n",
      "拡張 – MobiControl v 14 Manual macd extentions 関する情報を教えてください\n",
      "構成 プロファイル の 配付 – MobiControl v 14 macd configprofile どんな\n",
      "管理 ドメイン の 登録 – MobiControl v 14 Manual macd manageddomains 作りたい\n",
      "端末 設定 – MobiControl v 14 Manual ios advancedsettings 入れられますか\n",
      "iOS 端末 の リモート 表示 設定 – MobiControl v 14 Manual viewsettings どっち\n",
      "更新 – MobiControl v 14 Manual ios updateschedule 作り方は\n",
      "ローミング の 制限 MobiControl v 14 Manual ios roaming restriction 作り方は\n",
      "サーバ 群 へ アクセス 順位 – MobiControl v 14 Manual ios deploy servers priorities どう\n",
      "端末 の 共用 – MobiControl v Manual ios shareddevice 使い始める方法を教えてください\n",
      "アクティベーションロック – MobiControl v Manual activation lock 作り方は\n",
      "Bluetooth の 禁止 – MobiControl v Manual ios bluetooth どっち\n",
      "端末 操作 で の 登録 解除 の 禁止 – v 14 Manual ios agentsettings 何が\n",
      "ルール の 作成 – MobiControl v 14 Manual ios rules 何ですか\n",
      "端末 登録 ルール – MobiControl v 14 Manual ios rule 使いたいです\n",
      "アプリ・カタログルール – v 14 Manual ios appcatalog rule どうして\n",
      "VPP トー クン の 入手 – MobiControl v 14 Manual ios purchase 入れられますか\n",
      "ファイル の 同期 ルール – MobiControl v 14 Manual ios 始める方法\n",
      "データ 収集 ルール – v 14 Manual ios datacollectionrule 使い始めるには\n",
      "アラートルール – MobiControl 14 Manual ios alertrules 始める方法\n",
      "通信 費 管理 ルール – MobiControl 14 Manual ios expenserule 使用しますか\n",
      "SDK for iOS – v 14 Manual sdk ios ことは何ですか\n",
      "iOS 端末 に 働きかける – MobiControl v 14 Manual - action ことは何ですか\n",
      "端末 画面 表示 など – MobiControl v 14 Manual remoteview 使い始める方法を教えてください\n",
      "メッセージ 送る – MobiControl v 14 Manual ios - sendmsg 何が\n",
      "紛失 端末 を – MobiControl v 14 Manual ios - lostmode どうですか\n",
      "macOS コンピュータ 働きかける – MobiControl v 14 Manual mac - action 始める方法\n",
      "状況 を 視る – MobiControl v 14 Manual ios devices - tab どんな\n",
      "端末 パネル – v 14 Manual apple devicepanel 構築するにはどうすればよいですか\n",
      "端末 の 詳細 – MobiControl v 14 Manual ios panel どうでしたか\n",
      "地理 的 位置 を 表示 – MobiControl v 14 ios locationservices 何ができますか\n",
      "Apple 製品 レポート – v 14 Manual ios - reportstab どこ\n",
      "端末 の セットアップ と 登録 – MobiControl v 14 Manual ios device 作り方は\n",
      "監視 モード ( 手動 DEP 登録 ) – MobiControl v 14 Manual manual 使い始める方法を教えてください\n",
      "監視 ( 自動 DEP 登録 ) – MobiControl v 14 Manual dep auto どう\n",
      "iOS を 非 監視 モード として 登録 MobiControl v 14 Manual ios agentless enrollment 何が\n",
      "7 端末 の セットアップ – MobiControl v 14 Manual ios agent installation どう\n",
      "macOS の 登録 – MobiControl v 14 Manual enrollment 関する情報を教えてください\n",
      "ABM 担当 者 アカウント の – MobiControl v 14 Manual dep account 作り方は\n",
      "端末 操作 で の 登録 削除 – v 14 Manual ios agent uninstall 開発を開始する場所\n",
      "iOS 端末 の 操作 方法 – MobiControl v Manual ios mobicontrol manual どっち\n",
      "スクリプト ･ コマンド 一覧 – MobiControl v 14 linux scriptcmd どっち\n",
      "設定 を する MobiControl v 14 Manual linux settings どこ\n",
      "構成 プロファイル – MobiControl v 14 Manual linux configuredevices 何ですか\n",
      "無 端末 対策 – MobiControl v 14 Manual linux out of contact 使用しますか\n",
      "端末 証明 書 – MobiControl v Manual linux certificate どうして\n",
      "制限 – MobiControl v 14 Manual linux application control なにで\n",
      "タスクスケジューラー – MobiControl v 14 Manual taskscheduler 何ですか\n",
      "アプリ の 配布 – MobiControl v 14 linux appdeploy ついて教えてください\n",
      "端末 詳細 設定 – MobiControl v 14 Manual advancedsettings 使用しますか\n",
      "操作 の 設定 – MobiControl v 14 Manual linux remotecontrolsettings 入れられますか\n",
      "更新 スケジュール – MobiControl v Manual linux updateschedule 入れられますか\n",
      "時刻 の 同期 – MobiControl v 14 Manual time sync ついて教えてください\n",
      "監視 の 指定 – MobiControl v 14 Manual linux customdata どこですか\n",
      "サーバ 群 アクセス 順位 – MobiControl v 14 Manual linux deploy servers どちら\n",
      "ルール の 設定 – MobiControl v Manual linux rules view 使いたいです\n",
      "登録 ルール – MobiControl v 14 Manual linux add rule 作り方は\n",
      "同期 ルール – MobiControl v 14 Manual linux filesyncrule 使うには\n",
      "端末 の 移動 ルール – MobiControl 14 Manual linux relocationrule 作り方は\n",
      "データ 収集 ルール MobiControl v 14 Manual linux datacollectionrule 開発を開始する場所\n",
      "アラートルール – MobiControl 14 Manual linux alertrules どこですか\n",
      "端末 働きかける – MobiControl v 14 Manual linux - action どこですか\n",
      "端末 の リモート 操作 – v 14 Manual linux remotecontrol 使いたいです\n",
      "スクリプト を 送る – MobiControl v Manual linux sendscript 作り方は\n",
      "端末 状況 を – MobiControl v 14 Manual linux devices - tab 構築するにはどうすればよいですか\n",
      "端末 パネル MobiControl v 14 Manual linux devicepanel 何ですか\n",
      "端末 の 詳細 MobiControl v 14 Manual linux info panel どう\n",
      "Linux レポート – MobiControl v 14 Manual reportstab 作りたい\n",
      "端末 セットアップ と 登録 – MobiControl 14 Manual linux setup どうですか\n",
      "iOS 端末 を リモート 表示 – v 14 Manual remoteview new どっち\n",
      "Windows Defender ATP リモート 設定 – MobiControl 14 Manual defenderatp どうして\n",
      "Firewall / Proxy へ の 配慮 – MobiControl v 14 Manual ことは何ですか\n",
      "管理 サーバ _ 書 等 の 設定 – MobiControl v 14 Manual ServerProperties どこ\n",
      "APNs 証明 書 の – MobiControl v 14 Manual APNS Certificate なにで\n",
      "LDAP 接続 プロファイル の 作成 – MobiControl 14 Manual LDAP Profile どの\n",
      "AD _ と の 接続 プロファイル – MobiControl v 14 Manual AD FS Profile 関する情報を教えてください\n",
      "ABM 担当 者 アカウント 取得 – MobiControl v 14 Manual DEP Account ついて教えてください\n",
      "Apple – MobiControl v 14 Manual iOS OverAll 何が\n",
      "トー クン の 入手 – MobiControl v 14 Manual iOS VPP Purchase どうして\n",
      "managed Google Account – MobiControl v 14 Manual GoogleAccounts 使い始めるには\n",
      "G Suite Account – v 14 Manual AFW Configuration 使うには\n",
      "端末 グループ 設定 – MobiControl v 14 Manual AddDeviceGroup なにで\n",
      "へ の 積 込 – MobiControl v 14 Manual LoadOnProfile どう\n",
      "コンテンツ ライブラリ の 運用 – MobiControl v 14 Manual 作りたい\n",
      "プロファイル , ルール , 詳細 設定 – MobiControl v 14 Policies Rules どんな\n",
      "Android 端末 MobiControl v 14 Manual Plus OverAll どうでしたか\n",
      "イントラネットゲートウェイ MobiControl v 14 Manual ERG Setup 使い始めるには\n",
      "SDK for – MobiControl v 14 Manual 作り方は\n",
      "パッケージ ・ スタジオ – v 14 Manual PSOverview どうして\n",
      "セルフサービスポータル – MobiControl 14 Manual SelfServicePortal 使用しますか\n",
      "Exchange へ の 不法 防止 – MobiControl v 14 Manual SecureEmailAccess 何ですか\n",
      "端末 OS 共通 の 設定 項目 – MobiControl v 14 Manual 開発を開始する場所\n"
     ]
    }
   ],
   "source": [
    "for index, col in summary_df.iterrows():\n",
    "#     questions = df[df.PageID == col['PageID']].Question.values\n",
    "#     my_new_list = [s + x for x in questions]\n",
    "#     collector.append([\"## intent:\"+col['Summary'], my_new_list])\n",
    "    #print(col['Summary'])\n",
    "    print(question_maker.make_question_from_sentence(col['Summary']))\n",
    "    "
   ]
  },
  {
   "cell_type": "markdown",
   "metadata": {},
   "source": [
    "## Draft"
   ]
  },
  {
   "cell_type": "code",
   "execution_count": 1,
   "metadata": {},
   "outputs": [
    {
     "name": "stdout",
     "output_type": "stream",
     "text": [
      "['word', 'word', 'word']\n"
     ]
    }
   ],
   "source": [
    "import re\n",
    "strn = \"word hereword word, there word\"\n",
    "search = \"word\"\n",
    "print(re.findall(r\"\\b\" + search + r\"\\b\", strn))"
   ]
  },
  {
   "cell_type": "code",
   "execution_count": 4,
   "metadata": {},
   "outputs": [
    {
     "name": "stdout",
     "output_type": "stream",
     "text": [
      "[]\n",
      "['is']\n"
     ]
    }
   ],
   "source": [
    "term = 'is'\n",
    "x=\"this is a sample\"\n",
    "y=\"this isis a sample.\"\n",
    "regex=re.compile(r\"\\b\" + term + r\"\\b\")  # For ignore case: re.compile(r\"\\bis\\b\", re.IGNORECASE)\n",
    "\n",
    "print(regex.findall(y))\n",
    "print(regex.findall(x))\n"
   ]
  },
  {
   "cell_type": "code",
   "execution_count": null,
   "metadata": {},
   "outputs": [],
   "source": []
  }
 ],
 "metadata": {
  "kernelspec": {
   "display_name": "Python 3",
   "language": "python",
   "name": "python3"
  },
  "language_info": {
   "codemirror_mode": {
    "name": "ipython",
    "version": 3
   },
   "file_extension": ".py",
   "mimetype": "text/x-python",
   "name": "python",
   "nbconvert_exporter": "python",
   "pygments_lexer": "ipython3",
   "version": "3.6.9"
  }
 },
 "nbformat": 4,
 "nbformat_minor": 4
}
