{
 "cells": [
  {
   "cell_type": "code",
   "execution_count": 2,
   "metadata": {},
   "outputs": [],
   "source": [
    "import re\n",
    "import pandas as pd"
   ]
  },
  {
   "cell_type": "code",
   "execution_count": 3,
   "metadata": {},
   "outputs": [],
   "source": [
    "df = pd.read_csv('/home/iftekhar/docomodezwhu/data/merged_corpus.csv')"
   ]
  },
  {
   "cell_type": "code",
   "execution_count": 5,
   "metadata": {},
   "outputs": [
    {
     "data": {
      "text/plain": [
       "0        トップ サービスを探す ジャンルから探す もっと見る あそんでためる ? × 簡単なゲーム...\n",
       "1        ファッション 検索 もしかして 検索するキーワードを入力してください。 閉じる の検索結果...\n",
       "2        スポーツ 検索 もしかして 検索するキーワードを入力してください。 閉じる の検索結果 ス...\n",
       "3        マイページ - dポイント確認 dアカウントの発行、もしくはログインが必要です。 dマーケ...\n",
       "4        キッズ 検索 もしかして 検索するキーワードを入力してください。 閉じる の検索結果 キッ...\n",
       "                              ...                        \n",
       "1328     回答を見つけることが出来ませんでした。<br>恐れ入りますが、別の言葉で再度質問を入力して...\n",
       "1329     回答を見つけることが出来ませんでした。<br>恐れ入りますが、別の言葉で再度質問を入力して...\n",
       "1330     回答を見つけることが出来ませんでした。<br>恐れ入りますが、別の言葉で再度質問を入力して...\n",
       "1331     回答を見つけることが出来ませんでした。<br>恐れ入りますが、別の言葉で再度質問を入力して...\n",
       "1332     回答を見つけることが出来ませんでした。<br>恐れ入りますが、別の言葉で再度質問を入力して...\n",
       "Name: text, Length: 1333, dtype: object"
      ]
     },
     "execution_count": 5,
     "metadata": {},
     "output_type": "execute_result"
    }
   ],
   "source": [
    "df.text"
   ]
  },
  {
   "cell_type": "code",
   "execution_count": 6,
   "metadata": {},
   "outputs": [],
   "source": [
    "df['email'] = df.text.apply(lambda x: re.findall(r'[\\w\\.-]+@[\\w\\.-]+', x))"
   ]
  },
  {
   "cell_type": "code",
   "execution_count": 9,
   "metadata": {
    "scrolled": true
   },
   "outputs": [
    {
     "data": {
      "text/plain": [
       "[['名前の下にある@以降の'],\n",
       " ['名前の下にある@以降の'],\n",
       " ['soukin_info@mail1.apl.spmode.ne.jp',\n",
       "  'soukin_info@docomosoukin.com',\n",
       "  'soukin@docomo-bill.ne.jp'],\n",
       " ['soukin_info@mail1.apl.spmode.ne.jp',\n",
       "  'soukin_info@docomosoukin.com',\n",
       "  'soukin@docomo-bill.ne.jp',\n",
       "  'info@sw.job.dmkt-sp.jp'],\n",
       " ['message_r@mail2.apl01.spmode.ne.jp']]"
      ]
     },
     "execution_count": 9,
     "metadata": {},
     "output_type": "execute_result"
    }
   ],
   "source": [
    "[x for x in df.email.values if x]"
   ]
  },
  {
   "cell_type": "code",
   "execution_count": null,
   "metadata": {},
   "outputs": [],
   "source": [
    "/\\(?([0-9]{3})\\)?([ .-]?)([0-9]{3})\\2([0-9]{4})/"
   ]
  }
 ],
 "metadata": {
  "kernelspec": {
   "display_name": "Python 3",
   "language": "python",
   "name": "python3"
  },
  "language_info": {
   "codemirror_mode": {
    "name": "ipython",
    "version": 3
   },
   "file_extension": ".py",
   "mimetype": "text/x-python",
   "name": "python",
   "nbconvert_exporter": "python",
   "pygments_lexer": "ipython3",
   "version": "3.6.9"
  }
 },
 "nbformat": 4,
 "nbformat_minor": 4
}
