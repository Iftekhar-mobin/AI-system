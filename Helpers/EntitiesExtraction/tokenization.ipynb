{
 "cells": [
  {
   "cell_type": "code",
   "execution_count": null,
   "metadata": {},
   "outputs": [],
   "source": [
    "from collections import namedtuple\n",
    "ShortUnitWord = namedtuple('ShortUnitWord', ['surface', 'base_form', 'part_of_speech'])\n",
    "node = tagger.parseToNode(query)\n",
    "node = node.next # first node is beginning of sentence and empty, skip it\n",
    "words = []\n",
    "while node.posid != 0:\n",
    "    surface = node.surface\n",
    "    base = surface\n",
    "    parts = node.feature.split(',')\n",
    "    pos = ','.join(parts[0:4])\n",
    "\n",
    "    if len(parts) > 6:\n",
    "        # this information is only available for words in the tokenizer dictionary\n",
    "        reading = parts[6]\n",
    "        base = parts[7]\n",
    "\n",
    "    words.append( ShortUnitWord(surface, base, pos) )\n",
    "    node = node.next"
   ]
  }
 ],
 "metadata": {
  "kernelspec": {
   "display_name": "Python 3",
   "language": "python",
   "name": "python3"
  },
  "language_info": {
   "codemirror_mode": {
    "name": "ipython",
    "version": 3
   },
   "file_extension": ".py",
   "mimetype": "text/x-python",
   "name": "python",
   "nbconvert_exporter": "python",
   "pygments_lexer": "ipython3",
   "version": "3.6.9"
  }
 },
 "nbformat": 4,
 "nbformat_minor": 4
}
