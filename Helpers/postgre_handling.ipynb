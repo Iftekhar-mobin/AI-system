{
 "cells": [
  {
   "cell_type": "code",
   "execution_count": 14,
   "metadata": {},
   "outputs": [],
   "source": [
    "from typing import List\n",
    "import databases\n",
    "import sqlalchemy\n",
    "from pydantic import BaseModel\n",
    "import os\n",
    "import urllib"
   ]
  },
  {
   "cell_type": "code",
   "execution_count": 15,
   "metadata": {},
   "outputs": [],
   "source": [
    " \n",
    "\n",
    "\n",
    "#DATABASE_URL = \"sqlite:///./test.db\"\n",
    "\n",
    "host_server = os.environ.get('host_server', 'localhost')\n",
    "db_server_port = urllib.parse.quote_plus(str(os.environ.get('db_server_port', '5432')))\n",
    "database_name = os.environ.get('database_name', 'alecore')\n",
    "db_username = urllib.parse.quote_plus(str(os.environ.get('db_username', 'alecore')))\n",
    "db_password = urllib.parse.quote_plus(str(os.environ.get('db_password', 'ale_S@cr@t')))\n",
    "ssl_mode = urllib.parse.quote_plus(str(os.environ.get('ssl_mode','prefer')))\n",
    "DATABASE_URL = 'postgresql://{}:{}@{}:{}/{}?sslmode={}'.format(db_username, db_password, host_server, db_server_port, database_name, ssl_mode)\n",
    "\n",
    "database = databases.Database(DATABASE_URL)"
   ]
  },
  {
   "cell_type": "code",
   "execution_count": 16,
   "metadata": {},
   "outputs": [],
   "source": [
    "metadata = sqlalchemy.MetaData()\n",
    "\n",
    "notes = sqlalchemy.Table(\n",
    "    \"user\",\n",
    "    metadata,\n",
    "    sqlalchemy.Column(\"id\", sqlalchemy.Integer, primary_key=True),\n",
    "    sqlalchemy.Column(\"pass\", sqlalchemy.String),\n",
    "    sqlalchemy.Column(\"completed\", sqlalchemy.Boolean),\n",
    ")\n",
    "\n",
    "engine = sqlalchemy.create_engine(\n",
    "    #DATABASE_URL, connect_args={\"check_same_thread\": False}\n",
    "    DATABASE_URL, pool_size=3, max_overflow=0\n",
    ")\n",
    "metadata.create_all(engine)"
   ]
  },
  {
   "cell_type": "code",
   "execution_count": 17,
   "metadata": {},
   "outputs": [],
   "source": [
    "class NoteIn(BaseModel):\n",
    "    text: str\n",
    "    completed: bool\n",
    "\n",
    "class Note(BaseModel):\n",
    "    id: int\n",
    "    text: str\n",
    "    completed: bool"
   ]
  },
  {
   "cell_type": "code",
   "execution_count": 188,
   "metadata": {},
   "outputs": [],
   "source": [
    "d = pd.read_pickle('/home/ifte/alechat_core/core/components/model/output/features_index.pkl')"
   ]
  },
  {
   "cell_type": "code",
   "execution_count": 18,
   "metadata": {},
   "outputs": [
    {
     "name": "stdout",
     "output_type": "stream",
     "text": [
      "Connected to Database\n",
      "Created Table usage created Successfully\n",
      "Disconnecting from Database\n"
     ]
    }
   ],
   "source": [
    "from databases import Database \n",
    "import asyncio \n",
    "  \n",
    "async def create_table(): \n",
    "  \n",
    "    database = databases.Database(DATABASE_URL)\n",
    "    try: \n",
    "        await database.connect() \n",
    "        print('Connected to Database') \n",
    "  \n",
    "        # Create a table. \n",
    "        query = \"\"\"CREATE TABLE usage (id INTEGER PRIMARY KEY, name VARCHAR(100))\"\"\"\n",
    "        print('Created Table usage created Successfully') \n",
    "        await database.execute(query=query) \n",
    "      \n",
    "        await database.disconnect() \n",
    "        print('Disconnecting from Database') \n",
    "    except : \n",
    "        print('Connection to Database Failed') \n",
    "  \n",
    "          \n",
    "if __name__=='__main__': \n",
    "    asyncio.run(create_table())"
   ]
  },
  {
   "cell_type": "code",
   "execution_count": 21,
   "metadata": {},
   "outputs": [
    {
     "name": "stdout",
     "output_type": "stream",
     "text": [
      "there are 1 records. Exec time: 0.012930631637573242\n",
      "there are 1 records. Exec time: 0.013180017471313477\n",
      "there are 1 records. Exec time: 0.013029336929321289\n",
      "number of items: 1\n",
      "number of items: 1\n",
      "number of items: 1\n",
      "total exec time: 0.01427769660949707 secs\n",
      "exiting main\n"
     ]
    },
    {
     "name": "stderr",
     "output_type": "stream",
     "text": [
      "/home/ifte/environments/experiment_env/lib/python3.7/site-packages/aiopg/pool.py:312: ResourceWarning: Unclosed 2 connections in <aiopg.pool.Pool object at 0x7f576c4f3810>\n",
      "  ResourceWarning)\n"
     ]
    },
    {
     "ename": "RuntimeError",
     "evalue": "Cannot close a running event loop",
     "output_type": "error",
     "traceback": [
      "\u001b[0;31m---------------------------------------------------------------------------\u001b[0m",
      "\u001b[0;31mRuntimeError\u001b[0m                              Traceback (most recent call last)",
      "\u001b[0;32m<ipython-input-21-9ef41dd93598>\u001b[0m in \u001b[0;36m<module>\u001b[0;34m\u001b[0m\n\u001b[1;32m     45\u001b[0m \u001b[0mloop\u001b[0m \u001b[0;34m=\u001b[0m \u001b[0masyncio\u001b[0m\u001b[0;34m.\u001b[0m\u001b[0mget_event_loop\u001b[0m\u001b[0;34m(\u001b[0m\u001b[0;34m)\u001b[0m\u001b[0;34m\u001b[0m\u001b[0;34m\u001b[0m\u001b[0m\n\u001b[1;32m     46\u001b[0m \u001b[0mloop\u001b[0m\u001b[0;34m.\u001b[0m\u001b[0mrun_until_complete\u001b[0m\u001b[0;34m(\u001b[0m\u001b[0mmain\u001b[0m\u001b[0;34m(\u001b[0m\u001b[0;34m)\u001b[0m\u001b[0;34m)\u001b[0m\u001b[0;34m\u001b[0m\u001b[0;34m\u001b[0m\u001b[0m\n\u001b[0;32m---> 47\u001b[0;31m \u001b[0mloop\u001b[0m\u001b[0;34m.\u001b[0m\u001b[0mclose\u001b[0m\u001b[0;34m(\u001b[0m\u001b[0;34m)\u001b[0m\u001b[0;34m\u001b[0m\u001b[0;34m\u001b[0m\u001b[0m\n\u001b[0m\u001b[1;32m     48\u001b[0m \u001b[0;34m\u001b[0m\u001b[0m\n\u001b[1;32m     49\u001b[0m \u001b[0mprint\u001b[0m\u001b[0;34m(\u001b[0m\u001b[0;34m'exiting program'\u001b[0m\u001b[0;34m)\u001b[0m\u001b[0;34m\u001b[0m\u001b[0;34m\u001b[0m\u001b[0m\n",
      "\u001b[0;32m/usr/lib/python3.7/asyncio/unix_events.py\u001b[0m in \u001b[0;36mclose\u001b[0;34m(self)\u001b[0m\n\u001b[1;32m     53\u001b[0m \u001b[0;34m\u001b[0m\u001b[0m\n\u001b[1;32m     54\u001b[0m     \u001b[0;32mdef\u001b[0m \u001b[0mclose\u001b[0m\u001b[0;34m(\u001b[0m\u001b[0mself\u001b[0m\u001b[0;34m)\u001b[0m\u001b[0;34m:\u001b[0m\u001b[0;34m\u001b[0m\u001b[0;34m\u001b[0m\u001b[0m\n\u001b[0;32m---> 55\u001b[0;31m         \u001b[0msuper\u001b[0m\u001b[0;34m(\u001b[0m\u001b[0;34m)\u001b[0m\u001b[0;34m.\u001b[0m\u001b[0mclose\u001b[0m\u001b[0;34m(\u001b[0m\u001b[0;34m)\u001b[0m\u001b[0;34m\u001b[0m\u001b[0;34m\u001b[0m\u001b[0m\n\u001b[0m\u001b[1;32m     56\u001b[0m         \u001b[0;32mif\u001b[0m \u001b[0;32mnot\u001b[0m \u001b[0msys\u001b[0m\u001b[0;34m.\u001b[0m\u001b[0mis_finalizing\u001b[0m\u001b[0;34m(\u001b[0m\u001b[0;34m)\u001b[0m\u001b[0;34m:\u001b[0m\u001b[0;34m\u001b[0m\u001b[0;34m\u001b[0m\u001b[0m\n\u001b[1;32m     57\u001b[0m             \u001b[0;32mfor\u001b[0m \u001b[0msig\u001b[0m \u001b[0;32min\u001b[0m \u001b[0mlist\u001b[0m\u001b[0;34m(\u001b[0m\u001b[0mself\u001b[0m\u001b[0;34m.\u001b[0m\u001b[0m_signal_handlers\u001b[0m\u001b[0;34m)\u001b[0m\u001b[0;34m:\u001b[0m\u001b[0;34m\u001b[0m\u001b[0;34m\u001b[0m\u001b[0m\n",
      "\u001b[0;32m/usr/lib/python3.7/asyncio/selector_events.py\u001b[0m in \u001b[0;36mclose\u001b[0;34m(self)\u001b[0m\n\u001b[1;32m     81\u001b[0m     \u001b[0;32mdef\u001b[0m \u001b[0mclose\u001b[0m\u001b[0;34m(\u001b[0m\u001b[0mself\u001b[0m\u001b[0;34m)\u001b[0m\u001b[0;34m:\u001b[0m\u001b[0;34m\u001b[0m\u001b[0;34m\u001b[0m\u001b[0m\n\u001b[1;32m     82\u001b[0m         \u001b[0;32mif\u001b[0m \u001b[0mself\u001b[0m\u001b[0;34m.\u001b[0m\u001b[0mis_running\u001b[0m\u001b[0;34m(\u001b[0m\u001b[0;34m)\u001b[0m\u001b[0;34m:\u001b[0m\u001b[0;34m\u001b[0m\u001b[0;34m\u001b[0m\u001b[0m\n\u001b[0;32m---> 83\u001b[0;31m             \u001b[0;32mraise\u001b[0m \u001b[0mRuntimeError\u001b[0m\u001b[0;34m(\u001b[0m\u001b[0;34m\"Cannot close a running event loop\"\u001b[0m\u001b[0;34m)\u001b[0m\u001b[0;34m\u001b[0m\u001b[0;34m\u001b[0m\u001b[0m\n\u001b[0m\u001b[1;32m     84\u001b[0m         \u001b[0;32mif\u001b[0m \u001b[0mself\u001b[0m\u001b[0;34m.\u001b[0m\u001b[0mis_closed\u001b[0m\u001b[0;34m(\u001b[0m\u001b[0;34m)\u001b[0m\u001b[0;34m:\u001b[0m\u001b[0;34m\u001b[0m\u001b[0;34m\u001b[0m\u001b[0m\n\u001b[1;32m     85\u001b[0m             \u001b[0;32mreturn\u001b[0m\u001b[0;34m\u001b[0m\u001b[0;34m\u001b[0m\u001b[0m\n",
      "\u001b[0;31mRuntimeError\u001b[0m: Cannot close a running event loop"
     ]
    }
   ],
   "source": [
    "from time import time\n",
    "\n",
    "import aiopg\n",
    "import asyncio\n",
    "\n",
    "CONN_INFO = {\n",
    "    'host': 'localhost',\n",
    "    'user': 'alecore',\n",
    "    'port': 5432,\n",
    "    'database': 'alecore',\n",
    "}\n",
    "\n",
    "dsn = DATABASE_URL\n",
    "\n",
    "\n",
    "async def get_data(pool):\n",
    "    start = time()\n",
    "    async with pool.acquire() as conn:\n",
    "        async with conn.cursor() as cur:\n",
    "            await cur.execute('SELECT * FROM usr limit 100000')\n",
    "            result = await cur.fetchall()\n",
    "    print(f'there are {len(result)} records. Exec time: {time() - start}')\n",
    "    return result\n",
    "\n",
    "\n",
    "async def main():\n",
    "    pool = await aiopg.create_pool(dsn)\n",
    "\n",
    "    start = time()\n",
    "    tasks = []\n",
    "\n",
    "    for i in range(3):\n",
    "        tasks.append(loop.create_task(get_data(pool)))\n",
    "\n",
    "    tasks, stat = await asyncio.wait(tasks)\n",
    "\n",
    "    for task in tasks:\n",
    "        print(f'number of items: {len(task.result())}')\n",
    "\n",
    "    print(f'total exec time: {time() - start} secs')\n",
    "\n",
    "    print('exiting main')\n",
    "\n",
    "\n",
    "loop = asyncio.get_event_loop()\n",
    "loop.run_until_complete(main())\n",
    "loop.close()\n",
    "\n",
    "print('exiting program')"
   ]
  },
  {
   "cell_type": "code",
   "execution_count": null,
   "metadata": {},
   "outputs": [],
   "source": []
  },
  {
   "cell_type": "code",
   "execution_count": null,
   "metadata": {},
   "outputs": [],
   "source": []
  },
  {
   "cell_type": "code",
   "execution_count": null,
   "metadata": {},
   "outputs": [],
   "source": []
  }
 ],
 "metadata": {
  "kernelspec": {
   "display_name": "Python 3",
   "language": "python",
   "name": "python3"
  },
  "language_info": {
   "codemirror_mode": {
    "name": "ipython",
    "version": 3
   },
   "file_extension": ".py",
   "mimetype": "text/x-python",
   "name": "python",
   "nbconvert_exporter": "python",
   "pygments_lexer": "ipython3",
   "version": "3.7.5"
  }
 },
 "nbformat": 4,
 "nbformat_minor": 4
}
