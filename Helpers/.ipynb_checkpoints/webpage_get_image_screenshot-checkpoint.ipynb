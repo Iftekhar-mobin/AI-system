{
 "cells": [
  {
   "cell_type": "code",
   "execution_count": 2,
   "metadata": {},
   "outputs": [],
   "source": [
    "import pandas as pd\n",
    "df = pd.read_csv(\"/home/iftekhar/amiebot/Resources/amiebot_dataset/support_team_question_pure.csv\")"
   ]
  },
  {
   "cell_type": "code",
   "execution_count": 3,
   "metadata": {},
   "outputs": [
    {
     "data": {
      "text/html": [
       "<div>\n",
       "<style scoped>\n",
       "    .dataframe tbody tr th:only-of-type {\n",
       "        vertical-align: middle;\n",
       "    }\n",
       "\n",
       "    .dataframe tbody tr th {\n",
       "        vertical-align: top;\n",
       "    }\n",
       "\n",
       "    .dataframe thead th {\n",
       "        text-align: right;\n",
       "    }\n",
       "</style>\n",
       "<table border=\"1\" class=\"dataframe\">\n",
       "  <thead>\n",
       "    <tr style=\"text-align: right;\">\n",
       "      <th></th>\n",
       "      <th>Question</th>\n",
       "      <th>url</th>\n",
       "      <th>PageID</th>\n",
       "    </tr>\n",
       "  </thead>\n",
       "  <tbody>\n",
       "    <tr>\n",
       "      <th>0</th>\n",
       "      <td>位置情報を知りたい</td>\n",
       "      <td>https://pol-japan.co.jp/products/help/v14/plus...</td>\n",
       "      <td>249  99  142</td>\n",
       "    </tr>\n",
       "    <tr>\n",
       "      <th>1</th>\n",
       "      <td>端末を初期化したい</td>\n",
       "      <td>https://pol-japan.co.jp/products/help/v14/plus...</td>\n",
       "      <td>239</td>\n",
       "    </tr>\n",
       "    <tr>\n",
       "      <th>2</th>\n",
       "      <td>ウィルス対策を実施したい</td>\n",
       "      <td>https://pol-japan.co.jp/products/help/v14/plus...</td>\n",
       "      <td>149  178</td>\n",
       "    </tr>\n",
       "    <tr>\n",
       "      <th>3</th>\n",
       "      <td>端末を登録したい</td>\n",
       "      <td>https://pol-japan.co.jp/products/help/v14/plus...</td>\n",
       "      <td>229</td>\n",
       "    </tr>\n",
       "    <tr>\n",
       "      <th>4</th>\n",
       "      <td>アプリの配信を行いたい</td>\n",
       "      <td>https://pol-japan.co.jp/products/help/v14/plus...</td>\n",
       "      <td>230  88  368</td>\n",
       "    </tr>\n",
       "  </tbody>\n",
       "</table>\n",
       "</div>"
      ],
      "text/plain": [
       "       Question                                                url  \\\n",
       "0     位置情報を知りたい  https://pol-japan.co.jp/products/help/v14/plus...   \n",
       "1     端末を初期化したい  https://pol-japan.co.jp/products/help/v14/plus...   \n",
       "2  ウィルス対策を実施したい  https://pol-japan.co.jp/products/help/v14/plus...   \n",
       "3      端末を登録したい  https://pol-japan.co.jp/products/help/v14/plus...   \n",
       "4   アプリの配信を行いたい  https://pol-japan.co.jp/products/help/v14/plus...   \n",
       "\n",
       "         PageID  \n",
       "0  249  99  142  \n",
       "1           239  \n",
       "2      149  178  \n",
       "3           229  \n",
       "4  230  88  368  "
      ]
     },
     "execution_count": 3,
     "metadata": {},
     "output_type": "execute_result"
    }
   ],
   "source": [
    "df.head()"
   ]
  },
  {
   "cell_type": "code",
   "execution_count": 6,
   "metadata": {},
   "outputs": [
    {
     "name": "stdout",
     "output_type": "stream",
     "text": [
      "['249', '99', '142']\n"
     ]
    }
   ],
   "source": [
    "for index, col in df.iterrows():\n",
    "    print(str(col['PageID']).split())  \n",
    "    break"
   ]
  },
  {
   "cell_type": "code",
   "execution_count": 9,
   "metadata": {},
   "outputs": [
    {
     "name": "stdout",
     "output_type": "stream",
     "text": [
      "Hi\n",
      "Hi\n"
     ]
    }
   ],
   "source": [
    "page_answers = [5,99,142]\n",
    "answer_ids = str(col['PageID']).split()\n",
    "if len(answer_ids) > 1:\n",
    "    for items in answer_ids:\n",
    "        for predicted_ids in page_answers:\n",
    "            if items == str(predicted_ids):\n",
    "                print(\"Hi\")"
   ]
  },
  {
   "cell_type": "code",
   "execution_count": 46,
   "metadata": {},
   "outputs": [],
   "source": [
    "page_data = \"地理 位置 表示 MobiControl Manual iOS 端末 位置\"\n",
    "import difflib\n",
    "def sequence_matcher(sequence1, sequence2):\n",
    "    matcher = difflib.SequenceMatcher(None, sequence1, sequence2)\n",
    "    matches = matcher.get_matching_blocks()\n",
    "    matching_result_collection = []\n",
    "    for match in matches:\n",
    "        if len(sequence1[match.a:match.a + match.size]) > 0:\n",
    "            matching_result_collection.append(sequence1[match.a:match.a + match.size])\n",
    "    return matching_result_collection"
   ]
  },
  {
   "cell_type": "code",
   "execution_count": 48,
   "metadata": {},
   "outputs": [
    {
     "data": {
      "text/plain": [
       "522"
      ]
     },
     "execution_count": 48,
     "metadata": {},
     "output_type": "execute_result"
    }
   ],
   "source": [
    "p = \"地理 位置 表示 MobiControl Manual iOS 端末 位置 表示 端末 現在 位置 表示 iOS 端末 現在 地理 位置 コンソール 表示 端末 ユーザ MobiControl サーバ 接続 実行 貰い ます その コンソール 当該 端末 名前 クリック 現われる 画面 タブ 位置 情報 選択 ます 表示 ます 端末 接続 端末 アイコ 緑色 変わり ます iOS 端末 地理 位置 情報 端末 MobiControl サーバ 送ら 設定 おく 必要 あり ます 端末 MobiControl サーバ 接続 貰う 端末 ユーザ お願い 機能 使う 便利 です 端末 通知 センター 着信 通知 表示 タップ または スライド MobiControl エージェント 起動 端末 MobiControl サーバ 接続 ます 過去 位置 位置 ジオフェンス アイコン 表示 ます 現在 位置 表示 端末 ユーザ によって 端末 MobiControl サーバ 接続 貰う 必要 ある 追跡 これから 端末 移動 ルート 表示 端末 MobiControl サーバ 接続 維持 貰う 必要 ある 履歴 過去 端末 位置 表示 端末 MobiControl サーバ 接続 おく 必要 ない ジオフェンス 適用 ジオフェンス 指定 又は 新規 ジオフェンス 作成 追跡 クリック ポップアップ ます 端末 MobiControl エージェント 起動 おく 必要 あり ます 端末 ロック なる 追跡 止まり ます 位置 更新 端末 位置 計測 時間 間隔 秒 最新 表示 位置 画面 表示 位置 数 青い 表示 ます 追跡 停止 端末 MobiControl エージェント 起動 分間 追跡 履歴 端末 MobiControl サーバ 直近 接続 地理 位置 表示 ます 現在 オフライン 構い ませ クリック ポップアップ ます 赤 矢印 クリック カレンダー 表示 ので 表示 期間 指定 ます 端末 MobiControl サーバ オフライン 間 端末 MobiControl エージェント バックグラウンド 取得 位置 情報 青い 表示 ます その 青い クリック その 地点 端末 所在 日時 緯度 経度 ポップアップ 表示 ます 履歴 表示 時点 収集 位置 情報 です 時点 位置 情報 次回 接続 以後 表示 ます ジオフェンス クリック この 端末 に対し ジオフェンス 指定 でき ます ジオフェンス 仮想 境界 線 です 職場 回り 策定 ます ジオフェンス 端末 挙動 変える 設定 可能 です 例えば 職場 Bluetooth 使用 禁ずる 職場 OK 設定 です ジオフェンス に関する 詳細 参照 ください 端末 地図 開く 端末 MobiControl エージェント 起動 端末 現在 位置 端末 地図 表示 でき ます 位置 検索 行き先 住所 入力 行き先 ルート 表示 ます 有名 場所 住所 なく 場所 東京 タワー 行き 検索 くれ ます 行き先 説明 クリック 行き先 ルート 文字 説明 ポップアップ 現われ ます トラフィック クリック 行き先 渋滞 示し ます Copyright Translated by Penetrate Limits Co Ltd Tokyo MobiControl Manual WordPress 構築 現在 位置 表示 端末 ユーザ によって 端末 MobiControl サーバ 接続 貰う 必要 ある 追跡 これから 端末 移動 ルート 表示 端末 MobiControl サーバ 接続 維持 貰う 必要 ある 履歴 過去 端末 位置 表示 端末 MobiControl サーバ 接続 おく 必要 ない ジオフェンス 適用 ジオフェンス 指定 又は 新規 ジオフェンス 作成 クリック ポップアップ ます 端末 MobiControl エージェント 起動 おく 必要 あり ます 端末 ロック なる 追跡 止まり ます 位置 更新 端末 位置 計測 時間 間隔 秒 最新 表示 位置 画面 表示 位置 数 青い 表示 ます 追跡 停止 端末 MobiControl エージェント 起動 分間 追跡 端末 MobiControl サーバ 直近 接続 地理 位置 表示 ます 現在 オフライン 構い ませ クリック ポップアップ ます 赤 矢印 クリック カレンダー 表示 ので 表示 期間 指定 ます 端末 MobiControl サーバ オフライン 間 端末 MobiControl エージェント バックグラウンド\"\n",
    "len(p.split())"
   ]
  },
  {
   "cell_type": "code",
   "execution_count": 50,
   "metadata": {},
   "outputs": [
    {
     "data": {
      "text/plain": [
       "[]"
      ]
     },
     "execution_count": 50,
     "metadata": {},
     "output_type": "execute_result"
    }
   ],
   "source": [
    "sequence_matcher('端末 位置', p)"
   ]
  },
  {
   "cell_type": "code",
   "execution_count": 37,
   "metadata": {},
   "outputs": [
    {
     "data": {
      "text/plain": [
       "32"
      ]
     },
     "execution_count": 37,
     "metadata": {},
     "output_type": "execute_result"
    }
   ],
   "source": [
    "page_data.find('端末 ')"
   ]
  }
 ],
 "metadata": {
  "kernelspec": {
   "display_name": "Python 3",
   "language": "python",
   "name": "python3"
  },
  "language_info": {
   "codemirror_mode": {
    "name": "ipython",
    "version": 3
   },
   "file_extension": ".py",
   "mimetype": "text/x-python",
   "name": "python",
   "nbconvert_exporter": "python",
   "pygments_lexer": "ipython3",
   "version": "3.6.9"
  }
 },
 "nbformat": 4,
 "nbformat_minor": 4
}
