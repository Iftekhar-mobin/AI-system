{
 "cells": [
  {
   "cell_type": "code",
   "execution_count": 48,
   "metadata": {},
   "outputs": [],
   "source": [
    "import MeCab\n",
    "tokenizer = MeCab.Tagger(\"-Owakati\")\n",
    "import spacy\n",
    "nlp = spacy.load('ja_ginza')\n"
   ]
  },
  {
   "cell_type": "code",
   "execution_count": 35,
   "metadata": {},
   "outputs": [],
   "source": [
    "fname = '/home/iftekhar/amiebot/amieCore/amie_core/core/rasa/data/nlu/amie_nlu_ja.md'"
   ]
  },
  {
   "cell_type": "code",
   "execution_count": 36,
   "metadata": {},
   "outputs": [],
   "source": [
    "def intent_chunks(fname):\n",
    "    with open(fname, encoding='utf-8') as f:\n",
    "        intents = f.read()\n",
    "    return intents"
   ]
  },
  {
   "cell_type": "code",
   "execution_count": 37,
   "metadata": {},
   "outputs": [],
   "source": [
    "file_contents = intent_chunks(fname).split('##')"
   ]
  },
  {
   "cell_type": "code",
   "execution_count": 261,
   "metadata": {},
   "outputs": [
    {
     "name": "stdout",
     "output_type": "stream",
     "text": [
      "['We providers are service 作りたい', 'providers We are service 開発を開始する場所', 'are providers We service どう', 'We providers are service 作りたい', 'We are providers service 始める方法', 'We providers are service 関する情報を教えてください', 'are providers We service どこ', 'providers are We service 入れられますか', 'are providers We service どう', 'providers We are service 何ができますか']\n",
      "['Support Engineering Access workshops 作り方は', 'Access Engineering Support workshops 使うには', 'Access Support Engineering workshops 入れられますか', 'Support Engineering Access workshops 何ですか', 'Engineering Access Support workshops どうでしたか', 'Support Engineering Access workshops 開発を開始する場所', 'Support Engineering Access workshops 何ですか', 'Engineering Access Support workshops 使いたいです', 'Support Engineering Access workshops なにで', 'Access Engineering Support workshops どこですか']\n"
     ]
    }
   ],
   "source": [
    "for lines in file_contents:\n",
    "    if lines:\n",
    "        intents = lines.split('-')\n",
    "        if(len(intents)) < 3 and lines.find('synonym') is -1:\n",
    "            entities = extract_entities(tokenizer.parse(intents[1]))\n",
    "            print(question_maker(entities))"
   ]
  },
  {
   "cell_type": "code",
   "execution_count": 246,
   "metadata": {},
   "outputs": [],
   "source": [
    "def extract_entities(query):\n",
    "    if not isinstance(query, list):\n",
    "        query = query.split()\n",
    "        \n",
    "    entities = []\n",
    "    for items in query:\n",
    "        doc = nlp(items)\n",
    "        for ent in doc.ents:\n",
    "            if ent.text:\n",
    "                entities.append(ent.text)\n",
    "    entity = list(set(entities))\n",
    "    if entity:\n",
    "        return entity\n",
    "    else:\n",
    "        return query"
   ]
  },
  {
   "cell_type": "code",
   "execution_count": 260,
   "metadata": {},
   "outputs": [],
   "source": [
    "import random\n",
    "\n",
    "def question_maker(query):\n",
    "    collector = []\n",
    "    question = query\n",
    "    count = 10\n",
    "    delims = get_questions_delimiter_ja()\n",
    "    while count > 0:\n",
    "        shuffle_slice(question, 0, len(question)-1)\n",
    "        question_delimiter = random.choice(delims)\n",
    "        collector.append(' '.join(question + [question_delimiter]))\n",
    "        question = query\n",
    "        count -=1\n",
    "    return collector"
   ]
  },
  {
   "cell_type": "code",
   "execution_count": 55,
   "metadata": {},
   "outputs": [],
   "source": [
    "import os\n",
    "\n",
    "def get_questions_delimiter_ja():\n",
    "    #dir_path = os.path.dirname(os.path.realpath(__file__))\n",
    "    dir_path = '/home/iftekhar/amiebot/amieCore/amie_core/core/tokenizer/stopwords'\n",
    "    # questions_delimiter_ja = os.path.join(dir_path, 'stopwords', 'questions_delimiter.txt')\n",
    "    questions_delimiter_ja = os.path.join(dir_path, 'questions_delimiter.txt')\n",
    "\n",
    "    with open(questions_delimiter_ja, encoding='utf-8') as fr:\n",
    "        questions_delimiter = fr.read().splitlines()\n",
    "\n",
    "    return questions_delimiter\n"
   ]
  },
  {
   "cell_type": "code",
   "execution_count": 241,
   "metadata": {},
   "outputs": [],
   "source": [
    "def shuffle_slice(a, start, stop):\n",
    "    i = start\n",
    "    while (i < stop-1):\n",
    "        idx = random.randrange(i, stop)\n",
    "        a[i], a[idx] = a[idx], a[i]\n",
    "        i += 1"
   ]
  }
 ],
 "metadata": {
  "kernelspec": {
   "display_name": "Python 3",
   "language": "python",
   "name": "python3"
  },
  "language_info": {
   "codemirror_mode": {
    "name": "ipython",
    "version": 3
   },
   "file_extension": ".py",
   "mimetype": "text/x-python",
   "name": "python",
   "nbconvert_exporter": "python",
   "pygments_lexer": "ipython3",
   "version": "3.6.9"
  }
 },
 "nbformat": 4,
 "nbformat_minor": 4
}
