{
 "cells": [
  {
   "cell_type": "code",
   "execution_count": null,
   "metadata": {},
   "outputs": [],
   "source": [
    "import pandas as pd\n",
    "df = pd.read_csv(\"/home/ifte/amiebot_project/Large_files/mobicontrol_data/Train_Test_Data/english/mobicontrol_data_en.csv\")\n",
    "df"
   ]
  },
  {
   "cell_type": "code",
   "execution_count": 10,
   "metadata": {},
   "outputs": [
    {
     "data": {
      "text/plain": [
       "Index(['page', 'file', 'url', 'title', 'text'], dtype='object')"
      ]
     },
     "execution_count": 10,
     "metadata": {},
     "output_type": "execute_result"
    }
   ],
   "source": [
    "df.columns"
   ]
  },
  {
   "cell_type": "code",
   "execution_count": 27,
   "metadata": {},
   "outputs": [],
   "source": [
    "import numpy as np\n",
    "classes = df.page.unique()\n",
    "\n",
    "container = []\n",
    "for i in range(len(classes)):\n",
    "    arr_index = df[df.page == i].text.values\n",
    "    u = df[df.page == i].url.values\n",
    "    t = df[df.page == i].title.values\n",
    "    \n",
    "    x = np.array(u)\n",
    "    y = np.array(t)\n",
    "    \n",
    "    #if list(arr_index):\n",
    "    k = [i] + list(np.unique(x)) + list(np.unique(y)) + list(arr_index)\n",
    "        # print(i,\" \",k)\n",
    "\n",
    "    container.append(k)"
   ]
  },
  {
   "cell_type": "code",
   "execution_count": null,
   "metadata": {},
   "outputs": [],
   "source": [
    "str_list = filter(None, container) # fastest\n",
    "#container\n",
    "list(str_list)"
   ]
  },
  {
   "cell_type": "code",
   "execution_count": null,
   "metadata": {},
   "outputs": [],
   "source": [
    "df_per_page = pd.DataFrame(container)\n",
    "df_per_page"
   ]
  },
  {
   "cell_type": "code",
   "execution_count": 30,
   "metadata": {},
   "outputs": [],
   "source": [
    "Data_cols = df_per_page.iloc[:,4:-1]"
   ]
  },
  {
   "cell_type": "code",
   "execution_count": 31,
   "metadata": {},
   "outputs": [],
   "source": [
    "df_per_page['Merged_text'] = Data_cols.apply(\n",
    "    lambda x: ' '.join(x.dropna().astype(str)),\n",
    "    axis=1\n",
    ")"
   ]
  },
  {
   "cell_type": "code",
   "execution_count": null,
   "metadata": {},
   "outputs": [],
   "source": [
    "df_per_page[['Merged_text']].head()"
   ]
  },
  {
   "cell_type": "code",
   "execution_count": 33,
   "metadata": {},
   "outputs": [],
   "source": [
    "page_link = df_per_page.iloc[:,0:3]\n"
   ]
  },
  {
   "cell_type": "code",
   "execution_count": null,
   "metadata": {},
   "outputs": [],
   "source": [
    "output = pd.concat((page_link,df_per_page[['Merged_text']]), axis=1)\n",
    "output.head()\n"
   ]
  },
  {
   "cell_type": "code",
   "execution_count": null,
   "metadata": {},
   "outputs": [],
   "source": [
    "out = output.rename({0: 'page', 1: 'link', 2: 'title'}, axis='columns')\n",
    "out.head()"
   ]
  },
  {
   "cell_type": "code",
   "execution_count": null,
   "metadata": {},
   "outputs": [],
   "source": [
    "without_nan = out.replace(np.nan, '', regex=True)\n",
    "without_nan"
   ]
  },
  {
   "cell_type": "code",
   "execution_count": 45,
   "metadata": {},
   "outputs": [],
   "source": [
    "from urllib.parse import urlparse\n",
    "import re\n",
    "\n",
    "link_text = []\n",
    "\n",
    "for index, row in without_nan.iterrows():\n",
    "\n",
    "    disassembled = urlparse(row['link'])\n",
    "    only_url = re.sub('/mc/help/v14.0/en/','',disassembled.path)\n",
    "    only_url = re.sub('.html','',only_url)\n",
    "    only_url = re.sub('_',' ',only_url)\n",
    "    only_url = re.sub('/',' ',only_url)\n",
    "    link_text.append(only_url)"
   ]
  },
  {
   "cell_type": "code",
   "execution_count": null,
   "metadata": {},
   "outputs": [],
   "source": [
    "link_text"
   ]
  },
  {
   "cell_type": "code",
   "execution_count": null,
   "metadata": {},
   "outputs": [],
   "source": [
    "without_nan['parsed_link'] = link_text"
   ]
  },
  {
   "cell_type": "code",
   "execution_count": 51,
   "metadata": {},
   "outputs": [],
   "source": [
    "s = without_nan.title + \" \" +without_nan.parsed_link\n",
    "without_nan['Summary'] = s"
   ]
  },
  {
   "cell_type": "code",
   "execution_count": null,
   "metadata": {},
   "outputs": [],
   "source": [
    "without_nan.head()"
   ]
  },
  {
   "cell_type": "code",
   "execution_count": 55,
   "metadata": {},
   "outputs": [],
   "source": [
    "dataset = without_nan.rename(columns={\"Merged_text\":\"Article\"})\n",
    "dataset.to_csv(\"dataset.csv\")"
   ]
  },
  {
   "cell_type": "code",
   "execution_count": 9,
   "metadata": {},
   "outputs": [
    {
     "data": {
      "text/html": [
       "<div>\n",
       "<style scoped>\n",
       "    .dataframe tbody tr th:only-of-type {\n",
       "        vertical-align: middle;\n",
       "    }\n",
       "\n",
       "    .dataframe tbody tr th {\n",
       "        vertical-align: top;\n",
       "    }\n",
       "\n",
       "    .dataframe thead th {\n",
       "        text-align: right;\n",
       "    }\n",
       "</style>\n",
       "<table border=\"1\" class=\"dataframe\">\n",
       "  <thead>\n",
       "    <tr style=\"text-align: right;\">\n",
       "      <th></th>\n",
       "      <th>Article</th>\n",
       "      <th>Summary</th>\n",
       "    </tr>\n",
       "  </thead>\n",
       "  <tbody>\n",
       "    <tr>\n",
       "      <th>0</th>\n",
       "      <td>NaN</td>\n",
       "      <td></td>\n",
       "    </tr>\n",
       "    <tr>\n",
       "      <th>1</th>\n",
       "      <td>Help Version: 14.4 14.3 14.2 14.1 14.0 13 12 1...</td>\n",
       "      <td>banner</td>\n",
       "    </tr>\n",
       "    <tr>\n",
       "      <th>2</th>\n",
       "      <td>NaN</td>\n",
       "      <td>MobiControl Help toc</td>\n",
       "    </tr>\n",
       "    <tr>\n",
       "      <th>3</th>\n",
       "      <td>Find pages containing: Match case Match whole ...</td>\n",
       "      <td>Search search</td>\n",
       "    </tr>\n",
       "    <tr>\n",
       "      <th>4</th>\n",
       "      <td>SOTI MobiControl Help SOTI MobiControl is an e...</td>\n",
       "      <td>Welcome to SOTI MobiControl Help start</td>\n",
       "    </tr>\n",
       "  </tbody>\n",
       "</table>\n",
       "</div>"
      ],
      "text/plain": [
       "                                             Article  \\\n",
       "0                                                NaN   \n",
       "1  Help Version: 14.4 14.3 14.2 14.1 14.0 13 12 1...   \n",
       "2                                                NaN   \n",
       "3  Find pages containing: Match case Match whole ...   \n",
       "4  SOTI MobiControl Help SOTI MobiControl is an e...   \n",
       "\n",
       "                                  Summary  \n",
       "0                                          \n",
       "1                                  banner  \n",
       "2                    MobiControl Help toc  \n",
       "3                           Search search  \n",
       "4  Welcome to SOTI MobiControl Help start  "
      ]
     },
     "execution_count": 9,
     "metadata": {},
     "output_type": "execute_result"
    }
   ],
   "source": [
    "import pandas as pd\n",
    "df = pd.read_csv(\"/home/ifte/amiebot_project/MyAI/AI-system/Helpers/dataset.csv\", usecols=['Article', 'Summary'])\n",
    "df.head()"
   ]
  },
  {
   "cell_type": "code",
   "execution_count": null,
   "metadata": {},
   "outputs": [],
   "source": [
    "def remove_special_characters(text):\n",
    "    regex = r'[^a-zA-Z0-9\\s]'\n",
    "    text = re.sub(regex,'',text)\n",
    "    text = re.sub(\"\\d+\",\"\",text)\n",
    "    return text\n",
    "\n",
    "import re\n",
    "# from nltk.stem import PorterStemmer \n",
    "from nltk.stem import WordNetLemmatizer\n",
    "from nltk.corpus import stopwords\n",
    "from nltk.tokenize import word_tokenize\n",
    "# nltk.download('averaged_perceptron_tagger')\n",
    "Stopwords = set(stopwords.words('english'))\n",
    "wordlemmatizer = WordNetLemmatizer()\n",
    "# ps = PorterStemmer() \n",
    "\n",
    "def preprocess_text(sentence):\n",
    "    sentence = remove_special_characters(sentence)\n",
    "    tokenized_words = word_tokenize(sentence)\n",
    "    tokenized_words = [word for word in tokenized_words if word not in Stopwords]\n",
    "    tokenized_words = [word for word in tokenized_words if len(word) > 1]\n",
    "    tokenized_words = [word.lower() for word in tokenized_words]\n",
    "    tokenized_words = [wordlemmatizer.lemmatize(w) for w in tokenized_words]\n",
    "#     tokenized_words = [ps.stem(w) for w in tokenized_words]\n",
    "    return \" \".join(tokenized_words)\n",
    "\n",
    "df.Summary = df.Summary.apply(lambda x: preprocess_text(str(x)))\n",
    "df.Article = df.Article.apply(lambda x: preprocess_text(str(x)))\n",
    "df.head()\n",
    "\n",
    "df[\"Summary\"][52]"
   ]
  },
  {
   "cell_type": "code",
   "execution_count": 14,
   "metadata": {},
   "outputs": [
    {
     "data": {
      "text/plain": [
       "'managing user console user'"
      ]
     },
     "execution_count": 14,
     "metadata": {},
     "output_type": "execute_result"
    }
   ],
   "source": [
    "def remove_duplicate(text):        \n",
    "    return re.sub(r'\\b(\\w+)( \\1\\b)+', r'\\1', text)\n",
    "\n",
    "df.Summary = df.Summary.apply(lambda x: remove_duplicate(str(x)))\n",
    "df.Article = df.Article.apply(lambda x: remove_duplicate(str(x)))\n",
    "\n",
    "df[\"Summary\"][52]"
   ]
  },
  {
   "cell_type": "code",
   "execution_count": 27,
   "metadata": {},
   "outputs": [
    {
     "data": {
      "text/html": [
       "<div>\n",
       "<style scoped>\n",
       "    .dataframe tbody tr th:only-of-type {\n",
       "        vertical-align: middle;\n",
       "    }\n",
       "\n",
       "    .dataframe tbody tr th {\n",
       "        vertical-align: top;\n",
       "    }\n",
       "\n",
       "    .dataframe thead th {\n",
       "        text-align: right;\n",
       "    }\n",
       "</style>\n",
       "<table border=\"1\" class=\"dataframe\">\n",
       "  <thead>\n",
       "    <tr style=\"text-align: right;\">\n",
       "      <th></th>\n",
       "      <th>Article</th>\n",
       "      <th>Summary</th>\n",
       "    </tr>\n",
       "  </thead>\n",
       "  <tbody>\n",
       "    <tr>\n",
       "      <th>1</th>\n",
       "      <td>help version</td>\n",
       "      <td>banner</td>\n",
       "    </tr>\n",
       "    <tr>\n",
       "      <th>3</th>\n",
       "      <td>find page containing match case match whole wo...</td>\n",
       "      <td>search</td>\n",
       "    </tr>\n",
       "    <tr>\n",
       "      <th>4</th>\n",
       "      <td>soti mobicontrol help soti mobicontrol enterpr...</td>\n",
       "      <td>welcome soti mobicontrol help start</td>\n",
       "    </tr>\n",
       "    <tr>\n",
       "      <th>5</th>\n",
       "      <td>soti mobicontrol this section provides instruc...</td>\n",
       "      <td>setting up soti mobicontrol setup setupindex</td>\n",
       "    </tr>\n",
       "    <tr>\n",
       "      <th>6</th>\n",
       "      <td>soti mobicontrol each soti mobicontrol install...</td>\n",
       "      <td>setting up soti mobicontrol setup installing i...</td>\n",
       "    </tr>\n",
       "  </tbody>\n",
       "</table>\n",
       "</div>"
      ],
      "text/plain": [
       "                                             Article  \\\n",
       "1                                       help version   \n",
       "3  find page containing match case match whole wo...   \n",
       "4  soti mobicontrol help soti mobicontrol enterpr...   \n",
       "5  soti mobicontrol this section provides instruc...   \n",
       "6  soti mobicontrol each soti mobicontrol install...   \n",
       "\n",
       "                                             Summary  \n",
       "1                                             banner  \n",
       "3                                             search  \n",
       "4                welcome soti mobicontrol help start  \n",
       "5       setting up soti mobicontrol setup setupindex  \n",
       "6  setting up soti mobicontrol setup installing i...  "
      ]
     },
     "execution_count": 27,
     "metadata": {},
     "output_type": "execute_result"
    }
   ],
   "source": [
    "df = df[df.Summary != \"\"]\n",
    "df = df[df.Summary != \"nan\"]\n",
    "df = df[df.Article != \"\"]\n",
    "df = df[df.Article != \"nan\"]\n",
    "df.head()"
   ]
  },
  {
   "cell_type": "code",
   "execution_count": 28,
   "metadata": {},
   "outputs": [],
   "source": [
    "df.to_csv(\"processed_dataset.csv\")"
   ]
  },
  {
   "cell_type": "code",
   "execution_count": 2,
   "metadata": {},
   "outputs": [],
   "source": [
    "import pandas as pd\n",
    "\n",
    "df = pd.read_csv(\"/home/ifte/amiebot_project/MyAI/AI-system/Helpers/processed_dataset.csv\")\n",
    "# df.head()"
   ]
  },
  {
   "cell_type": "code",
   "execution_count": 3,
   "metadata": {},
   "outputs": [],
   "source": [
    "df['SP_Tok_summ'] = df['Summary'].apply(lambda x : '_START_ '+ x + ' _END_')"
   ]
  },
  {
   "cell_type": "code",
   "execution_count": 6,
   "metadata": {},
   "outputs": [
    {
     "data": {
      "image/png": "[encoded data removed]",
      "text/plain": [
       "<Figure size 432x288 with 2 Axes>"
      ]
     },
     "metadata": {
      "needs_background": "light"
     },
     "output_type": "display_data"
    }
   ],
   "source": [
    "# df.SP_Tok_summ\n",
    "import matplotlib.pyplot as plt\n",
    "text_word_count = []\n",
    "summary_word_count = []\n",
    "\n",
    "# populate the lists with sentence lengths\n",
    "for i in df['Article']:\n",
    "      text_word_count.append(len(i.split()))\n",
    "\n",
    "for i in df['SP_Tok_summ']:\n",
    "      summary_word_count.append(len(i.split()))\n",
    "\n",
    "length_df = pd.DataFrame({'text':text_word_count, 'summary':summary_word_count})\n",
    "length_df.hist(bins = 30)\n",
    "plt.show()"
   ]
  },
  {
   "cell_type": "code",
   "execution_count": null,
   "metadata": {},
   "outputs": [],
   "source": []
  }
 ],
 "metadata": {
  "kernelspec": {
   "display_name": "Python 3",
   "language": "python",
   "name": "python3"
  },
  "language_info": {
   "codemirror_mode": {
    "name": "ipython",
    "version": 3
   },
   "file_extension": ".py",
   "mimetype": "text/x-python",
   "name": "python",
   "nbconvert_exporter": "python",
   "pygments_lexer": "ipython3",
   "version": "3.6.9"
  }
 },
 "nbformat": 4,
 "nbformat_minor": 2
}
