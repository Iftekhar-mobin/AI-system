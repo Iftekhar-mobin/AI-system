{
 "cells": [
  {
   "cell_type": "code",
   "execution_count": 17,
   "metadata": {},
   "outputs": [],
   "source": [
    "from csv import writer\n",
    "\n",
    "def ProcessLargeTextFile(inputfile, outputfile):\n",
    "    with open(inputfile, \"r\") as r, open(outputfile, 'a+', newline='') as write_obj:\n",
    "        for line in r:\n",
    "            splited_line = page_text_split(line, 10)\n",
    "            csv_writer = writer(write_obj)\n",
    "            csv_writer.writerows(splited_line)"
   ]
  },
  {
   "cell_type": "code",
   "execution_count": 14,
   "metadata": {},
   "outputs": [],
   "source": [
    "def page_text_split(page_text, word_limit):\n",
    "    page_text = page_text.split()\n",
    "    chunks = [' '.join(page_text[i:i + word_limit]) for i in range(0,\n",
    "                                                len(page_text), word_limit)]\n",
    "    collect = []\n",
    "    for items in chunks:\n",
    "        collect.append([items])\n",
    "        \n",
    "    return collect"
   ]
  },
  {
   "cell_type": "code",
   "execution_count": 12,
   "metadata": {},
   "outputs": [
    {
     "data": {
      "text/plain": [
       "[['hello I'], ['am bad'], ['ass']]"
      ]
     },
     "execution_count": 12,
     "metadata": {},
     "output_type": "execute_result"
    }
   ],
   "source": [
    "page_text_split(\"hello I am bad ass\", 2)"
   ]
  },
  {
   "cell_type": "code",
   "execution_count": 15,
   "metadata": {},
   "outputs": [],
   "source": [
    "inputfile = '/home/iftekhar/myworkplace/AI-system/2VECs_models/word2vec/combined_models/combined.seg'\n",
    "outputfile = '/home/iftekhar/myworkplace/AI-system/2VECs_models/word2vec/combined_models/converted.csv'"
   ]
  },
  {
   "cell_type": "code",
   "execution_count": 18,
   "metadata": {},
   "outputs": [],
   "source": [
    "ProcessLargeTextFile(inputfile, outputfile)"
   ]
  }
 ],
 "metadata": {
  "kernelspec": {
   "display_name": "Python 3",
   "language": "python",
   "name": "python3"
  },
  "language_info": {
   "codemirror_mode": {
    "name": "ipython",
    "version": 3
   },
   "file_extension": ".py",
   "mimetype": "text/x-python",
   "name": "python",
   "nbconvert_exporter": "python",
   "pygments_lexer": "ipython3",
   "version": "3.6.9"
  }
 },
 "nbformat": 4,
 "nbformat_minor": 4
}
