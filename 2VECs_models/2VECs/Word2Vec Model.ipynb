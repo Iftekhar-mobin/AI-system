{
 "cells": [
  {
   "cell_type": "code",
   "execution_count": 1,
   "metadata": {},
   "outputs": [],
   "source": [
    "import pandas as pd\n",
    "from gensim.models import Word2Vec\n",
    "import multiprocessing\n",
    "\n",
    "df = pd.read_csv(\"processed.csv\")\n",
    "only_data = df.iloc[:,1:-1]\n",
    "#processed_data = only_data.apply(lambda x: ' '.join(x), axis=1)\n",
    "data = only_data.values.tolist()"
   ]
  },
  {
   "cell_type": "code",
   "execution_count": 2,
   "metadata": {},
   "outputs": [],
   "source": [
    "inp = \"ja.text.seg\" \n",
    "outp1 = \"ja.text.model\" \n",
    "outp2 = \"ja.text.vector\"\n",
    "out3 = \"ja.text.bin\"\n",
    "\n",
    "#model = Word2Vec(LineSentence(inp), size=200, window=5, min_count=5, workers=multiprocessing.cpu_count())\n",
    "model = Word2Vec(data, min_count=1,size=200, window=5, sg=1, workers=multiprocessing.cpu_count(), iter=10)\n",
    "#model.save(outp1)\n",
    "#model.wv.save_word2vec_format(outp2, binary=False)\n",
    "#model.wv.save_word2vec_format(out3, binary=True)"
   ]
  },
  {
   "cell_type": "code",
   "execution_count": 3,
   "metadata": {},
   "outputs": [
    {
     "name": "stdout",
     "output_type": "stream",
     "text": [
      "Enter Query String: database setting\n"
     ]
    }
   ],
   "source": [
    "myinput = input(\"Enter Query String: \")\n",
    "s = myinput.lower().split()"
   ]
  },
  {
   "cell_type": "code",
   "execution_count": 175,
   "metadata": {},
   "outputs": [],
   "source": [
    "row_saver=[]\n",
    "index_saver=[]\n",
    "distance_saver=[]\n",
    "d=0model = Word2Vec(data, min_count=1,size=200, window=5, sg=1, workers=multiprocessing.cpu_count(), iter=10)\n",
    "\n",
    "for i in range(len(df)):\n",
    "    g = only_data.values[i]\n",
    "    distance = model.wv.n_similarity(s,g)\n",
    "    #print(distance)\n",
    "    if d<distance:\n",
    "        d=distance\n",
    "        page_index = df.iloc[i,-1]\n",
    "        distance_saver.append(distance)\n",
    "        row_saver.append(i)\n",
    "        index_saver.append(page_index)"
   ]
  },
  {
   "cell_type": "code",
   "execution_count": 176,
   "metadata": {},
   "outputs": [],
   "source": [
    "mydf=pd.DataFrame(list(zip(index_saver,distance_saver,row_saver)),\n",
    "                  columns=['page_index','distance','Row_index'])"
   ]
  },
  {
   "cell_type": "code",
   "execution_count": 177,
   "metadata": {},
   "outputs": [],
   "source": [
    "allT = []\n",
    "for i in mydf.Row_index.values:\n",
    "    #print(df.iloc[[i]].values)\n",
    "    allT.append(list(df.iloc[i,1:-1].values.ravel()))"
   ]
  },
  {
   "cell_type": "code",
   "execution_count": 178,
   "metadata": {},
   "outputs": [],
   "source": [
    "AllText = pd.DataFrame()\n",
    "AllText['Text'] = allT"
   ]
  },
  {
   "cell_type": "code",
   "execution_count": 179,
   "metadata": {},
   "outputs": [],
   "source": [
    "mydf['Text'] = AllText['Text']"
   ]
  },
  {
   "cell_type": "code",
   "execution_count": 180,
   "metadata": {},
   "outputs": [
    {
     "data": {
      "text/html": [
       "<div>\n",
       "<style scoped>\n",
       "    .dataframe tbody tr th:only-of-type {\n",
       "        vertical-align: middle;\n",
       "    }\n",
       "\n",
       "    .dataframe tbody tr th {\n",
       "        vertical-align: top;\n",
       "    }\n",
       "\n",
       "    .dataframe thead th {\n",
       "        text-align: right;\n",
       "    }\n",
       "</style>\n",
       "<table border=\"1\" class=\"dataframe\">\n",
       "  <thead>\n",
       "    <tr style=\"text-align: right;\">\n",
       "      <th></th>\n",
       "      <th>page_index</th>\n",
       "      <th>distance</th>\n",
       "      <th>Row_index</th>\n",
       "      <th>Text</th>\n",
       "    </tr>\n",
       "  </thead>\n",
       "  <tbody>\n",
       "    <tr>\n",
       "      <td>0</td>\n",
       "      <td>0</td>\n",
       "      <td>0.370014</td>\n",
       "      <td>0</td>\n",
       "      <td>[MobiControl, の, 設定, 順序, 端末, グループ, の, 作成, コンソー...</td>\n",
       "    </tr>\n",
       "    <tr>\n",
       "      <td>1</td>\n",
       "      <td>0</td>\n",
       "      <td>0.406018</td>\n",
       "      <td>1</td>\n",
       "      <td>[の, 接続, プロファイル, を, 作成, し, て, おく, 全て, の, 端末, OS...</td>\n",
       "    </tr>\n",
       "    <tr>\n",
       "      <td>2</td>\n",
       "      <td>0</td>\n",
       "      <td>0.448790</td>\n",
       "      <td>17</td>\n",
       "      <td>[Inc, Canada, Translated, by, Penetrate, of, L...</td>\n",
       "    </tr>\n",
       "    <tr>\n",
       "      <td>3</td>\n",
       "      <td>2</td>\n",
       "      <td>0.464922</td>\n",
       "      <td>71</td>\n",
       "      <td>[の, 移動, ルール, データ, 収集, ルール, アラートルール, 通信, 費, 管理,...</td>\n",
       "    </tr>\n",
       "    <tr>\n",
       "      <td>4</td>\n",
       "      <td>2</td>\n",
       "      <td>0.482667</td>\n",
       "      <td>93</td>\n",
       "      <td>[の, インストール, と, サーバ, へ, の, 登録, 方法, について, は, 下記,...</td>\n",
       "    </tr>\n",
       "  </tbody>\n",
       "</table>\n",
       "</div>"
      ],
      "text/plain": [
       "   page_index  distance  Row_index  \\\n",
       "0           0  0.370014          0   \n",
       "1           0  0.406018          1   \n",
       "2           0  0.448790         17   \n",
       "3           2  0.464922         71   \n",
       "4           2  0.482667         93   \n",
       "\n",
       "                                                Text  \n",
       "0  [MobiControl, の, 設定, 順序, 端末, グループ, の, 作成, コンソー...  \n",
       "1  [の, 接続, プロファイル, を, 作成, し, て, おく, 全て, の, 端末, OS...  \n",
       "2  [Inc, Canada, Translated, by, Penetrate, of, L...  \n",
       "3  [の, 移動, ルール, データ, 収集, ルール, アラートルール, 通信, 費, 管理,...  \n",
       "4  [の, インストール, と, サーバ, へ, の, 登録, 方法, について, は, 下記,...  "
      ]
     },
     "execution_count": 180,
     "metadata": {},
     "output_type": "execute_result"
    }
   ],
   "source": [
    "mydf.head()"
   ]
  },
  {
   "cell_type": "code",
   "execution_count": 182,
   "metadata": {},
   "outputs": [
    {
     "data": {
      "text/html": [
       "<div>\n",
       "<style scoped>\n",
       "    .dataframe tbody tr th:only-of-type {\n",
       "        vertical-align: middle;\n",
       "    }\n",
       "\n",
       "    .dataframe tbody tr th {\n",
       "        vertical-align: top;\n",
       "    }\n",
       "\n",
       "    .dataframe thead th {\n",
       "        text-align: right;\n",
       "    }\n",
       "</style>\n",
       "<table border=\"1\" class=\"dataframe\">\n",
       "  <thead>\n",
       "    <tr style=\"text-align: right;\">\n",
       "      <th></th>\n",
       "      <th>page_index</th>\n",
       "      <th>distance</th>\n",
       "      <th>Row_index</th>\n",
       "      <th>Text</th>\n",
       "    </tr>\n",
       "  </thead>\n",
       "  <tbody>\n",
       "    <tr>\n",
       "      <td>0</td>\n",
       "      <td>0</td>\n",
       "      <td>0.370014</td>\n",
       "      <td>0</td>\n",
       "      <td>'MobiControl', 'の', '設定', '順序', '端末', 'グループ', ...</td>\n",
       "    </tr>\n",
       "    <tr>\n",
       "      <td>1</td>\n",
       "      <td>0</td>\n",
       "      <td>0.406018</td>\n",
       "      <td>1</td>\n",
       "      <td>'の', '接続', 'プロファイル', 'を', '作成', 'し', 'て', 'おく'...</td>\n",
       "    </tr>\n",
       "    <tr>\n",
       "      <td>2</td>\n",
       "      <td>0</td>\n",
       "      <td>0.448790</td>\n",
       "      <td>17</td>\n",
       "      <td>'Inc', 'Canada', 'Translated', 'by', 'Penetrat...</td>\n",
       "    </tr>\n",
       "    <tr>\n",
       "      <td>3</td>\n",
       "      <td>2</td>\n",
       "      <td>0.464922</td>\n",
       "      <td>71</td>\n",
       "      <td>'の', '移動', 'ルール', 'データ', '収集', 'ルール', 'アラートルール...</td>\n",
       "    </tr>\n",
       "    <tr>\n",
       "      <td>4</td>\n",
       "      <td>2</td>\n",
       "      <td>0.482667</td>\n",
       "      <td>93</td>\n",
       "      <td>'の', 'インストール', 'と', 'サーバ', 'へ', 'の', '登録', '方法...</td>\n",
       "    </tr>\n",
       "    <tr>\n",
       "      <td>5</td>\n",
       "      <td>5</td>\n",
       "      <td>0.517063</td>\n",
       "      <td>137</td>\n",
       "      <td>'Android', 'セキュリティ', '対策', '一覧', '」', 'を', '参照...</td>\n",
       "    </tr>\n",
       "    <tr>\n",
       "      <td>6</td>\n",
       "      <td>10</td>\n",
       "      <td>0.589133</td>\n",
       "      <td>246</td>\n",
       "      <td>'プロ', 'キシ', '経由', 'で', 'MobiControl', 'サーバ', '...</td>\n",
       "    </tr>\n",
       "    <tr>\n",
       "      <td>7</td>\n",
       "      <td>10</td>\n",
       "      <td>0.593493</td>\n",
       "      <td>263</td>\n",
       "      <td>'必要', 'は', 'ない', 'から', 'です', 'プロ', 'キシ', '経由',...</td>\n",
       "    </tr>\n",
       "    <tr>\n",
       "      <td>8</td>\n",
       "      <td>25</td>\n",
       "      <td>0.613630</td>\n",
       "      <td>584</td>\n",
       "      <td>'参照', '図', '図', 'で', 'フィルタ', '名', 'として', '\"', ...</td>\n",
       "    </tr>\n",
       "    <tr>\n",
       "      <td>9</td>\n",
       "      <td>28</td>\n",
       "      <td>0.657993</td>\n",
       "      <td>618</td>\n",
       "      <td>'SD', 'カード', 'の', 'Download', 'という', '名前', 'の'...</td>\n",
       "    </tr>\n",
       "    <tr>\n",
       "      <td>10</td>\n",
       "      <td>46</td>\n",
       "      <td>0.686088</td>\n",
       "      <td>925</td>\n",
       "      <td>'端末', '画面', 'の', 'アイコ', 'ン', 'など', 'の', '表示', ...</td>\n",
       "    </tr>\n",
       "    <tr>\n",
       "      <td>11</td>\n",
       "      <td>46</td>\n",
       "      <td>0.715765</td>\n",
       "      <td>935</td>\n",
       "      <td>'を', 'つける', 'と', 'アイテム', 'は', '横', 'に', '並び', ...</td>\n",
       "    </tr>\n",
       "    <tr>\n",
       "      <td>12</td>\n",
       "      <td>64</td>\n",
       "      <td>0.768273</td>\n",
       "      <td>1169</td>\n",
       "      <td>'Device', 'log', 'の', '行', '目', '%', 'TXT', ':...</td>\n",
       "    </tr>\n",
       "    <tr>\n",
       "      <td>13</td>\n",
       "      <td>64</td>\n",
       "      <td>0.771649</td>\n",
       "      <td>1177</td>\n",
       "      <td>'を', '読み取り', 'これ', 'を', '端末', '名', 'の', '一部', ...</td>\n",
       "    </tr>\n",
       "    <tr>\n",
       "      <td>14</td>\n",
       "      <td>74</td>\n",
       "      <td>0.775660</td>\n",
       "      <td>1439</td>\n",
       "      <td>'構文', 'regdelkey', '&lt;', 'レジストリ', 'と', 'キー', '&gt;...</td>\n",
       "    </tr>\n",
       "    <tr>\n",
       "      <td>15</td>\n",
       "      <td>74</td>\n",
       "      <td>0.797303</td>\n",
       "      <td>1441</td>\n",
       "      <td>'の', 'HKEY', 'LOCAL', 'MACHINE', 'subtree', 'を...</td>\n",
       "    </tr>\n",
       "    <tr>\n",
       "      <td>16</td>\n",
       "      <td>74</td>\n",
       "      <td>0.805302</td>\n",
       "      <td>1466</td>\n",
       "      <td>'変数', 'も', 'ある', 'MY', 'Personal', 'User', 'Ce...</td>\n",
       "    </tr>\n",
       "    <tr>\n",
       "      <td>17</td>\n",
       "      <td>193</td>\n",
       "      <td>0.837922</td>\n",
       "      <td>3846</td>\n",
       "      <td>'of', 'the', 'data', 'URI', ';', 'action', ';'...</td>\n",
       "    </tr>\n",
       "    <tr>\n",
       "      <td>18</td>\n",
       "      <td>193</td>\n",
       "      <td>0.843193</td>\n",
       "      <td>3885</td>\n",
       "      <td>'URL', 'その', '型式', 'は', '種類', 'ある', '従来', '型式'...</td>\n",
       "    </tr>\n",
       "  </tbody>\n",
       "</table>\n",
       "</div>"
      ],
      "text/plain": [
       "    page_index  distance  Row_index  \\\n",
       "0            0  0.370014          0   \n",
       "1            0  0.406018          1   \n",
       "2            0  0.448790         17   \n",
       "3            2  0.464922         71   \n",
       "4            2  0.482667         93   \n",
       "5            5  0.517063        137   \n",
       "6           10  0.589133        246   \n",
       "7           10  0.593493        263   \n",
       "8           25  0.613630        584   \n",
       "9           28  0.657993        618   \n",
       "10          46  0.686088        925   \n",
       "11          46  0.715765        935   \n",
       "12          64  0.768273       1169   \n",
       "13          64  0.771649       1177   \n",
       "14          74  0.775660       1439   \n",
       "15          74  0.797303       1441   \n",
       "16          74  0.805302       1466   \n",
       "17         193  0.837922       3846   \n",
       "18         193  0.843193       3885   \n",
       "\n",
       "                                                 Text  \n",
       "0   'MobiControl', 'の', '設定', '順序', '端末', 'グループ', ...  \n",
       "1   'の', '接続', 'プロファイル', 'を', '作成', 'し', 'て', 'おく'...  \n",
       "2   'Inc', 'Canada', 'Translated', 'by', 'Penetrat...  \n",
       "3   'の', '移動', 'ルール', 'データ', '収集', 'ルール', 'アラートルール...  \n",
       "4   'の', 'インストール', 'と', 'サーバ', 'へ', 'の', '登録', '方法...  \n",
       "5   'Android', 'セキュリティ', '対策', '一覧', '」', 'を', '参照...  \n",
       "6   'プロ', 'キシ', '経由', 'で', 'MobiControl', 'サーバ', '...  \n",
       "7   '必要', 'は', 'ない', 'から', 'です', 'プロ', 'キシ', '経由',...  \n",
       "8   '参照', '図', '図', 'で', 'フィルタ', '名', 'として', '\"', ...  \n",
       "9   'SD', 'カード', 'の', 'Download', 'という', '名前', 'の'...  \n",
       "10  '端末', '画面', 'の', 'アイコ', 'ン', 'など', 'の', '表示', ...  \n",
       "11  'を', 'つける', 'と', 'アイテム', 'は', '横', 'に', '並び', ...  \n",
       "12  'Device', 'log', 'の', '行', '目', '%', 'TXT', ':...  \n",
       "13  'を', '読み取り', 'これ', 'を', '端末', '名', 'の', '一部', ...  \n",
       "14  '構文', 'regdelkey', '<', 'レジストリ', 'と', 'キー', '>...  \n",
       "15  'の', 'HKEY', 'LOCAL', 'MACHINE', 'subtree', 'を...  \n",
       "16  '変数', 'も', 'ある', 'MY', 'Personal', 'User', 'Ce...  \n",
       "17  'of', 'the', 'data', 'URI', ';', 'action', ';'...  \n",
       "18  'URL', 'その', '型式', 'は', '種類', 'ある', '従来', '型式'...  "
      ]
     },
     "execution_count": 182,
     "metadata": {},
     "output_type": "execute_result"
    }
   ],
   "source": [
    "mydf.Text=mydf.Text.apply(lambda x: ''.join(str(x).strip(\"[]\")))\n",
    "mydf"
   ]
  },
  {
   "cell_type": "code",
   "execution_count": 7,
   "metadata": {},
   "outputs": [
    {
     "data": {
      "text/plain": [
       "0.85121775"
      ]
     },
     "execution_count": 7,
     "metadata": {},
     "output_type": "execute_result"
    }
   ],
   "source": [
    "s1=\"database\"\n",
    "s2=\"setting\"\n",
    "\n",
    "distance = model.wv.n_similarity(s1.lower().split(), s2.lower().split())\n",
    "distance"
   ]
  },
  {
   "cell_type": "code",
   "execution_count": 8,
   "metadata": {},
   "outputs": [
    {
     "name": "stdout",
     "output_type": "stream",
     "text": [
      "info 0.9775955677032471\n",
      "bp 0.905902624130249\n",
      "LN 0.9040426015853882\n",
      "ProgramStore 0.9007756114006042\n",
      "software 0.8951877355575562\n",
      "USER 0.8909461498260498\n",
      "MCSetup 0.8896690607070923\n",
      "My 0.873677670955658\n",
      "program 0.873622477054596\n",
      "CURRENT 0.87295001745224\n"
     ]
    },
    {
     "name": "stderr",
     "output_type": "stream",
     "text": [
      "/home/ifte/amiebot_project/lib/python3.6/site-packages/ipykernel_launcher.py:2: DeprecationWarning: Call to deprecated `most_similar` (Method will be removed in 4.0.0, use self.wv.most_similar() instead).\n",
      "  \n"
     ]
    }
   ],
   "source": [
    "# model.most_similar(u\"database\")\n",
    "for element in model.most_similar(u\"database\"):\n",
    "    print(element[0], element[1])"
   ]
  },
  {
   "cell_type": "code",
   "execution_count": 44,
   "metadata": {},
   "outputs": [],
   "source": [
    "import gensim\n",
    "model = gensim.models.Word2Vec.load(\"ja.text.model\")"
   ]
  },
  {
   "cell_type": "code",
   "execution_count": 84,
   "metadata": {},
   "outputs": [],
   "source": [
    "from scipy import spatial\n",
    "\n",
    "index2word_set = set(model.wv.index2word)\n",
    "\n",
    "def avg_feature_vector(sentence, model, num_features, index2word_set):\n",
    "    words = sentence.split()\n",
    "    feature_vec = np.zeros((num_features, ), dtype='float32')\n",
    "    n_words = 0\n",
    "    for word in words:\n",
    "        if word in index2word_set:\n",
    "            n_words += 1\n",
    "            feature_vec = np.add(feature_vec, model[word])\n",
    "    if (n_words > 0):\n",
    "        feature_vec = np.divide(feature_vec, n_words)\n",
    "    return feature_vec"
   ]
  },
  {
   "cell_type": "code",
   "execution_count": 89,
   "metadata": {},
   "outputs": [
    {
     "name": "stdout",
     "output_type": "stream",
     "text": [
      "0.7063971757888794\n"
     ]
    },
    {
     "name": "stderr",
     "output_type": "stream",
     "text": [
      "/home/ifte/amiebot_project/lib/python3.6/site-packages/ipykernel_launcher.py:12: DeprecationWarning: Call to deprecated `__getitem__` (Method will be removed in 4.0.0, use self.wv.__getitem__() instead).\n",
      "  if sys.path[0] == '':\n"
     ]
    }
   ],
   "source": [
    "s1_afv = avg_feature_vector('mobicontrol setting', model=model, num_features=50, index2word_set=index2word_set)\n",
    "s2_afv = avg_feature_vector('DRA Recovery', model=model, num_features=50, index2word_set=index2word_set)\n",
    "sim = 1 - spatial.distance.cosine(s1_afv, s2_afv)\n",
    "print(sim)"
   ]
  },
  {
   "cell_type": "code",
   "execution_count": 101,
   "metadata": {},
   "outputs": [
    {
     "name": "stdout",
     "output_type": "stream",
     "text": [
      "distance = 0.924\n"
     ]
    }
   ],
   "source": [
    "#load word2vec model, here GoogleNews is used\n",
    "Binmodel = gensim.models.KeyedVectors.load_word2vec_format('ja.text.bin', binary=True)\n",
    "#two sample sentences \n",
    "s1 = 'database setting'\n",
    "\n",
    "row_saver=[]\n",
    "index_saver=[]\n",
    "distance_saver=[]\n",
    "d=0\n",
    "for i in range(len(df)):\n",
    "    g = only_data.values[i]\n",
    "    #calculate distance between two sentences using WMD algorithm\n",
    "    distance = Binmodel.wmdistance(s1, g)\n",
    "    #print(distance)\n",
    "    if d<distance:\n",
    "        d=distance\n",
    "        page_index = df.iloc[i,-1]\n",
    "        distance_saver.append(distance)\n",
    "        row_saver.append(i)\n",
    "        index_saver.append(page_index)\n",
    "        \n",
    "print ('distance = %.3f' % distance)"
   ]
  },
  {
   "cell_type": "code",
   "execution_count": 108,
   "metadata": {},
   "outputs": [
    {
     "name": "stdout",
     "output_type": "stream",
     "text": [
      "0.99999994\n"
     ]
    }
   ],
   "source": [
    "from gensim.models import KeyedVectors\n",
    "from gensim.utils import simple_preprocess    \n",
    "\n",
    "model = gensim.models.Word2Vec.load(\"ja.text.model\")\n",
    "\n",
    "def tidy_sentence(sentence, vocabulary):\n",
    "    return [word for word in simple_preprocess(sentence) if word in vocabulary]    \n",
    "\n",
    "def compute_sentence_similarity(sentence_1, sentence_2, model_wv):\n",
    "    vocabulary = set(model_wv.index2word)    \n",
    "    tokens_1 = tidy_sentence(sentence_1, vocabulary)    \n",
    "    tokens_2 = tidy_sentence(sentence_2, vocabulary)    \n",
    "    return model_wv.n_similarity(tokens_1, tokens_2)\n",
    "\n",
    "wv = KeyedVectors.load('ja.text.model', mmap='r')\n",
    "sim = compute_sentence_similarity('this is a sentence', 'this is also a sentence', model.wv)\n",
    "print(sim)"
   ]
  },
  {
   "cell_type": "code",
   "execution_count": 50,
   "metadata": {},
   "outputs": [
    {
     "name": "stderr",
     "output_type": "stream",
     "text": [
      "/home/ifte/amiebot_project/lib/python3.6/site-packages/ipykernel_launcher.py:1: DeprecationWarning: Call to deprecated `similarity` (Method will be removed in 4.0.0, use self.wv.similarity() instead).\n",
      "  \"\"\"Entry point for launching an IPython kernel.\n"
     ]
    },
    {
     "data": {
      "text/plain": [
       "0.746703"
      ]
     },
     "execution_count": 50,
     "metadata": {},
     "output_type": "execute_result"
    }
   ],
   "source": [
    "model.similarity('database','google')"
   ]
  },
  {
   "cell_type": "code",
   "execution_count": 69,
   "metadata": {},
   "outputs": [
    {
     "name": "stdout",
     "output_type": "stream",
     "text": [
      "Word2Vec(vocab=5940, size=50, alpha=0.025)\n"
     ]
    }
   ],
   "source": [
    "print(model)"
   ]
  }
 ],
 "metadata": {
  "kernelspec": {
   "display_name": "Python 3",
   "language": "python",
   "name": "python3"
  },
  "language_info": {
   "codemirror_mode": {
    "name": "ipython",
    "version": 3
   },
   "file_extension": ".py",
   "mimetype": "text/x-python",
   "name": "python",
   "nbconvert_exporter": "python",
   "pygments_lexer": "ipython3",
   "version": "3.6.9"
  }
 },
 "nbformat": 4,
 "nbformat_minor": 2
}
