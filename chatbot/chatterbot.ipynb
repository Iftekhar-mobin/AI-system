{
 "cells": [
  {
   "cell_type": "code",
   "execution_count": 13,
   "metadata": {},
   "outputs": [
    {
     "name": "stdout",
     "output_type": "stream",
     "text": [
      "\u001b[38;5;2m✔ Download and installation successful\u001b[0m\n",
      "You can now load the model via spacy.load('en_core_web_sm')\n",
      "\u001b[38;5;2m✔ Linking successful\u001b[0m\n",
      "/home/ifte/environments/experiment_env/lib/python3.6/site-packages/en_core_web_sm\n",
      "-->\n",
      "/home/ifte/environments/experiment_env/lib/python3.6/site-packages/spacy/data/en\n",
      "You can now load the model via spacy.load('en')\n"
     ]
    }
   ],
   "source": [
    "import spacy\n",
    "try:\n",
    "    nlp = spacy.load(\"en\")\n",
    "    nlp = ''\n",
    "except OSError:\n",
    "    spacy.cli.download(\"en\")\n",
    "    nlp = spacy.load(\"en\")\n",
    "    nlp = ''"
   ]
  },
  {
   "cell_type": "code",
   "execution_count": 41,
   "metadata": {},
   "outputs": [
    {
     "name": "stdout",
     "output_type": "stream",
     "text": [
      "List Trainer: [####################] 100%\n",
      "List Trainer: [####################] 100%\n",
      "List Trainer: [####################] 100%\n"
     ]
    }
   ],
   "source": [
    "from chatterbot import ChatBot\n",
    "from chatterbot.trainers import ListTrainer\n",
    "\n",
    "\n",
    "# Create a new instance of a ChatBot\n",
    "bot = ChatBot(\n",
    "    'Example Bot',\n",
    "    logic_adapters=[\n",
    "        {\n",
    "            'import_path': 'chatterbot.logic.BestMatch',\n",
    "            \"statement_comparison_function\": 'chatterbot.comparisons.levenshtein_distance',\n",
    "            'default_response': 'I am sorry, but I do not understand.',\n",
    "            'maximum_similarity_threshold': 0.95\n",
    "        }\n",
    "    ]\n",
    ")\n",
    "\n",
    "trainer = ListTrainer(bot)\n",
    "trainer.train(\n",
    "    \"chatterbot.corpus.english.greetings\"\n",
    ")\n",
    "trainer.train(\n",
    "    \"chatterbot.corpus.english.humor\"\n",
    ")\n",
    "trainer.train(\n",
    "    \"chatterbot.corpus.bangla.greetings\"\n",
    ")\n",
    "  \n",
    "# Train the chat bot with a few responses\n",
    "# trainer.train([\n",
    "#     'How can I help you?',\n",
    "#     'I want to create a chat bot',\n",
    "#     'Have you read the documentation?',\n",
    "#     'No, I have not',\n",
    "#     'This should help get you started: http://chatterbot.rtfd.org/en/latest/quickstart.html'\n",
    "# ])\n",
    "\n"
   ]
  },
  {
   "cell_type": "code",
   "execution_count": 45,
   "metadata": {},
   "outputs": [
    {
     "name": "stdout",
     "output_type": "stream",
     "text": [
      "Hi there!\n"
     ]
    }
   ],
   "source": [
    "# Get a response for some unexpected input\n",
    "response = bot.get_response('hello')\n",
    "print(response)"
   ]
  },
  {
   "cell_type": "code",
   "execution_count": 40,
   "metadata": {},
   "outputs": [
    {
     "name": "stdout",
     "output_type": "stream",
     "text": [
      "yes\n"
     ]
    }
   ],
   "source": [
    "if str(response).find('I am sorry') is not -1:\n",
    "    print('yes')"
   ]
  },
  {
   "cell_type": "code",
   "execution_count": 3,
   "metadata": {},
   "outputs": [
    {
     "name": "stdout",
     "output_type": "stream",
     "text": [
      "USER: How are you doing?\n",
      "BOT:I'm doing great.\n",
      "USER: Hello\n",
      "BOT:Hi there!\n",
      "USER: Good morning!\n",
      "BOT:Good morning!\n",
      "USER: Do you like machine learning?\n",
      "BOT:Yes, I like machine learning\n",
      "USER: How do I make a neural network?\n",
      "BOTI am sorry, but I do not understand.\n",
      "USER: Let us talk about current activities\n",
      "BOT:What are you working on now?\n",
      "USER: I am just browsing Internet for news\n",
      "BOT:I am sorry, but I do not understand.\n",
      "USER: I am working on python script to make new bot\n",
      "BOT:I am sorry, but I do not understand.\n",
      "USER: Bye\n",
      "BOT:I am sorry, but I do not understand.\n"
     ]
    }
   ],
   "source": [
    "\n",
    " \n",
    "  \n",
    "print (\"USER: How are you doing?\")\n",
    "  \n",
    "response = bot.get_response(\"How are you doing?\")\n",
    "print(\"BOT:\" + str(response))\n",
    "print (\"USER: Hello\")\n",
    "  \n",
    "response = bot.get_response(\"Hello\")\n",
    "print(\"BOT:\" + str(response))\n",
    "print (\"USER: Good morning!\")\n",
    "  \n",
    "response = bot.get_response(\"Good morning!\")\n",
    "print(\"BOT:\" + str(response))\n",
    "  \n",
    "  \n",
    "  \n",
    "print (\"USER: Do you like machine learning?\")\n",
    "  \n",
    "response = bot.get_response(\"Do you like machine learning?\")\n",
    "print (\"BOT:\" + str(response))\n",
    "print (\"USER: How do I make a neural network?\")\n",
    "  \n",
    "response = bot.get_response('How do I make a neural network?')\n",
    "print(\"BOT\" + str(response))\n",
    "print (\"USER: Let us talk about current activities\")\n",
    "  \n",
    "response = bot.get_response(\"Let us talk about current activities\")\n",
    "print(\"BOT:\"+str(response))\n",
    "  \n",
    "print (\"USER: I am just browsing Internet for news\")\n",
    "  \n",
    "response = bot.get_response(\"BOT: I am just browsing Internet for news\")\n",
    "print(\"BOT:\" + str(response))\n",
    "  \n",
    "print (\"USER: I am working on python script to make new bot\")\n",
    "  \n",
    "response = bot.get_response(\"I am working on python script to make new bot\")\n",
    "print(\"BOT:\"+str(response))\n",
    "  \n",
    "  \n",
    "print (\"USER: Bye\")\n",
    "  \n",
    "response = bot.get_response(\"Bye\")\n",
    "print(\"BOT:\" + str(response))\n",
    "\n"
   ]
  },
  {
   "cell_type": "code",
   "execution_count": 8,
   "metadata": {},
   "outputs": [
    {
     "name": "stdout",
     "output_type": "stream",
     "text": [
      "BOT:I am sorry, but I do not understand.\n"
     ]
    }
   ],
   "source": [
    "response = bot.get_response(\"Help me!\")\n",
    "print(\"BOT:\" + str(response))"
   ]
  }
 ],
 "metadata": {
  "kernelspec": {
   "display_name": "Python 3",
   "language": "python",
   "name": "python3"
  },
  "language_info": {
   "codemirror_mode": {
    "name": "ipython",
    "version": 3
   },
   "file_extension": ".py",
   "mimetype": "text/x-python",
   "name": "python",
   "nbconvert_exporter": "python",
   "pygments_lexer": "ipython3",
   "version": "3.6.9"
  }
 },
 "nbformat": 4,
 "nbformat_minor": 4
}
