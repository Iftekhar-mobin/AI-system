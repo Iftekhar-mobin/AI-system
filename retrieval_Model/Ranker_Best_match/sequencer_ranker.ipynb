{
 "cells": [
  {
   "cell_type": "code",
   "execution_count": 1,
   "metadata": {},
   "outputs": [],
   "source": [
    "import json\n",
    "import os\n",
    "import numpy as np\n",
    "\n",
    "from gensim.models import Word2Vec\n",
    "from gensim.utils import simple_preprocess\n",
    "from keras.engine import Input\n",
    "from keras.layers import Embedding, merge\n",
    "from keras.models import Model"
   ]
  },
  {
   "cell_type": "code",
   "execution_count": 13,
   "metadata": {},
   "outputs": [],
   "source": [
    "# tokenizer: can change this as needed\n",
    "tokenize = lambda x: simple_preprocess(x)"
   ]
  },
  {
   "cell_type": "code",
   "execution_count": 14,
   "metadata": {},
   "outputs": [],
   "source": [
    "def create_embeddings(data_dir,\n",
    "                      embeddings_path='embeddings.npz',\n",
    "                      vocab_path='map.json',\n",
    "                      **params):\n",
    "    \"\"\"\n",
    "    Generate embeddings from a batch of text\n",
    "    :param embeddings_path: where to save the embeddings\n",
    "    :param vocab_path: where to save the word-index map\n",
    "    \"\"\"\n",
    "\n",
    "    class SentenceGenerator(object):\n",
    "        def __init__(self, dirname):\n",
    "            self.dirname = dirname\n",
    "\n",
    "        def __iter__(self):\n",
    "            for fname in os.listdir(self.dirname):\n",
    "                for line in open(os.path.join(self.dirname, fname)):\n",
    "                    yield tokenize(line)\n",
    "\n",
    "    sentences = SentenceGenerator(data_dir)\n",
    "\n",
    "    model = Word2Vec(sentences, **params)\n",
    "    weights = model.syn0\n",
    "    np.save(open(embeddings_path, 'wb'), weights)\n",
    "\n",
    "    vocab = dict([(k, v.index) for k, v in model.vocab.items()])\n",
    "    with open(vocab_path, 'w') as f:\n",
    "        f.write(json.dumps(vocab))"
   ]
  },
  {
   "cell_type": "code",
   "execution_count": 15,
   "metadata": {},
   "outputs": [],
   "source": [
    "def load_vocab(vocab_path='map.json'):\n",
    "    \"\"\"\n",
    "    Load word -> index and index -> word mappings\n",
    "    :param vocab_path: where the word-index map is saved\n",
    "    :return: word2idx, idx2word\n",
    "    \"\"\"\n",
    "\n",
    "    with open(vocab_path, 'r') as f:\n",
    "        data = json.loads(f.read())\n",
    "    word2idx = data\n",
    "    idx2word = dict([(v, k) for k, v in data.items()])\n",
    "    return word2idx, idx2word\n",
    "\n",
    "\n",
    "def word2vec_embedding_layer(embeddings_path='embeddings.npz'):\n",
    "    \"\"\"\n",
    "    Generate an embedding layer word2vec embeddings\n",
    "    :param embeddings_path: where the embeddings are saved (as a numpy file)\n",
    "    :return: the generated embedding layer\n",
    "    \"\"\"\n",
    "    \n",
    "    weights = np.load(open(embeddings_path, 'rb'))\n",
    "    layer = Embedding(input_dim=weights.shape[0],\n",
    "                      output_dim=weights.shape[1],\n",
    "                      weights=[weights])\n",
    "    return layer\n"
   ]
  },
  {
   "cell_type": "code",
   "execution_count": 16,
   "metadata": {},
   "outputs": [
    {
     "ename": "KeyError",
     "evalue": "'EMBEDDINGS_TEXT_PATH'",
     "output_type": "error",
     "traceback": [
      "\u001b[0;31m---------------------------------------------------------------------------\u001b[0m",
      "\u001b[0;31mKeyError\u001b[0m                                  Traceback (most recent call last)",
      "\u001b[0;32m<ipython-input-16-74c1550ebed1>\u001b[0m in \u001b[0;36m<module>\u001b[0;34m\u001b[0m\n\u001b[1;32m      1\u001b[0m \u001b[0;31m# specify embeddings in this environment variable\u001b[0m\u001b[0;34m\u001b[0m\u001b[0;34m\u001b[0m\u001b[0;34m\u001b[0m\u001b[0m\n\u001b[0;32m----> 2\u001b[0;31m \u001b[0mdata_path\u001b[0m \u001b[0;34m=\u001b[0m \u001b[0mos\u001b[0m\u001b[0;34m.\u001b[0m\u001b[0menviron\u001b[0m\u001b[0;34m[\u001b[0m\u001b[0;34m'EMBEDDINGS_TEXT_PATH'\u001b[0m\u001b[0;34m]\u001b[0m\u001b[0;34m\u001b[0m\u001b[0;34m\u001b[0m\u001b[0m\n\u001b[0m\u001b[1;32m      3\u001b[0m \u001b[0;34m\u001b[0m\u001b[0m\n\u001b[1;32m      4\u001b[0m \u001b[0;31m# variable arguments are passed to gensim's word2vec model\u001b[0m\u001b[0;34m\u001b[0m\u001b[0;34m\u001b[0m\u001b[0;34m\u001b[0m\u001b[0m\n\u001b[1;32m      5\u001b[0m create_embeddings(data_path, size=100, min_count=5,\n",
      "\u001b[0;32m/usr/lib/python3.6/os.py\u001b[0m in \u001b[0;36m__getitem__\u001b[0;34m(self, key)\u001b[0m\n\u001b[1;32m    667\u001b[0m         \u001b[0;32mexcept\u001b[0m \u001b[0mKeyError\u001b[0m\u001b[0;34m:\u001b[0m\u001b[0;34m\u001b[0m\u001b[0;34m\u001b[0m\u001b[0m\n\u001b[1;32m    668\u001b[0m             \u001b[0;31m# raise KeyError with the original key value\u001b[0m\u001b[0;34m\u001b[0m\u001b[0;34m\u001b[0m\u001b[0;34m\u001b[0m\u001b[0m\n\u001b[0;32m--> 669\u001b[0;31m             \u001b[0;32mraise\u001b[0m \u001b[0mKeyError\u001b[0m\u001b[0;34m(\u001b[0m\u001b[0mkey\u001b[0m\u001b[0;34m)\u001b[0m \u001b[0;32mfrom\u001b[0m \u001b[0;32mNone\u001b[0m\u001b[0;34m\u001b[0m\u001b[0;34m\u001b[0m\u001b[0m\n\u001b[0m\u001b[1;32m    670\u001b[0m         \u001b[0;32mreturn\u001b[0m \u001b[0mself\u001b[0m\u001b[0;34m.\u001b[0m\u001b[0mdecodevalue\u001b[0m\u001b[0;34m(\u001b[0m\u001b[0mvalue\u001b[0m\u001b[0;34m)\u001b[0m\u001b[0;34m\u001b[0m\u001b[0;34m\u001b[0m\u001b[0m\n\u001b[1;32m    671\u001b[0m \u001b[0;34m\u001b[0m\u001b[0m\n",
      "\u001b[0;31mKeyError\u001b[0m: 'EMBEDDINGS_TEXT_PATH'"
     ]
    }
   ],
   "source": [
    "# specify embeddings in this environment variable\n",
    "data_path = os.environ['EMBEDDINGS_TEXT_PATH']\n",
    "\n",
    "# variable arguments are passed to gensim's word2vec model\n",
    "create_embeddings(data_path, size=100, min_count=5,\n",
    "                  window=5, sg=1, iter=25)\n",
    "\n",
    "word2idx, idx2word = load_vocab()\n",
    "\n",
    "# cosine similarity model\n",
    "input_a = Input(shape=(1,), dtype='int32', name='input_a')\n",
    "input_b = Input(shape=(1,), dtype='int32', name='input_b')\n",
    "embeddings = word2vec_embedding_layer()\n",
    "embedding_a = embeddings(input_a)\n",
    "embedding_b = embeddings(input_b)\n",
    "similarity = merge([embedding_a, embedding_b],\n",
    "                   mode='cos', dot_axes=2)\n",
    "\n",
    "model = Model(input=[input_a, input_b], output=[similarity])\n",
    "model.compile(optimizer='sgd', loss='mse')"
   ]
  },
  {
   "cell_type": "code",
   "execution_count": null,
   "metadata": {},
   "outputs": [],
   "source": []
  },
  {
   "cell_type": "code",
   "execution_count": null,
   "metadata": {},
   "outputs": [],
   "source": [
    "\n",
    "\n",
    "while True:\n",
    "    word_a = raw_input('First word: ')\n",
    "    if word_a not in word2idx:\n",
    "        print('Word \"%s\" is not in the index' % word_a)\n",
    "        continue\n",
    "    word_b = raw_input('Second word: ')\n",
    "    if word_b not in word2idx:\n",
    "        print('Word \"%s\" is not in the index' % word_b)\n",
    "        continue\n",
    "    output = model.predict([np.asarray([word2idx[word_a]]),\n",
    "                            np.asarray([word2idx[word_b]])])\n",
    "    print(output)"
   ]
  }
 ],
 "metadata": {
  "kernelspec": {
   "display_name": "Python 3",
   "language": "python",
   "name": "python3"
  },
  "language_info": {
   "codemirror_mode": {
    "name": "ipython",
    "version": 3
   },
   "file_extension": ".py",
   "mimetype": "text/x-python",
   "name": "python",
   "nbconvert_exporter": "python",
   "pygments_lexer": "ipython3",
   "version": "3.6.9"
  }
 },
 "nbformat": 4,
 "nbformat_minor": 4
}
