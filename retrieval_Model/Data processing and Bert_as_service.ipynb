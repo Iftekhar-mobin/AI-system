{
 "cells": [
  {
   "cell_type": "code",
   "execution_count": 2,
   "metadata": {},
   "outputs": [],
   "source": [
    "import numpy as np\n",
    "import re\n",
    "import pandas as pd\n",
    "from pathlib import Path\n",
    "import MeCab\n",
    "import json\n",
    "import requests\n",
    "\n",
    "\n",
    "def clean_text(text):\n",
    "    replaced_text = re.sub(r'[【】]', ' ', text)       # 【】の除去\n",
    "    replaced_text = re.sub(r'[・_]', '', replaced_text)       # ・ の除去\n",
    "    replaced_text = re.sub(r'[（）()]', ' ', replaced_text)     # （）の除去\n",
    "    replaced_text = re.sub(r'[［］\\[\\]]', ' ', replaced_text)   # ［］の除去\n",
    "    replaced_text = re.sub(r'[@＠]\\w+', '', replaced_text)  # メンションの除去\n",
    "    replaced_text = re.sub(r'https?:\\/\\/.*?[\\r\\n ]', '', replaced_text)  # URLの除去\n",
    "    replaced_text = re.sub(r'　', ' ', replaced_text)  # 全角空白の除去\n",
    "    replaced_text = re.sub(r'\\d+', '', replaced_text) # 数字の除去\n",
    "    replaced_text = re.sub(r'[-/。,、.=]', ' ', replaced_text)\n",
    "    return replaced_text\n",
    "\n",
    "stop_words_ja = []\n",
    "STOPWORD_FILE = Path(\"/home/iftekhar/amiebot/Helpbot/amie-HelpBot/amie_helpbot/assets/learning/stop_word.txt\")\n",
    "with open(STOPWORD_FILE, encoding='utf-8') as fr:\n",
    "    stop_w = fr.read().splitlines()\n",
    "\n",
    "newlist = ['ます',  'する', 'でき',  'です', 'ad', 'ください', 'この', 'あり',  'または', 'なり', 'その', 'ルール',]\n",
    "stop_words_ja = stop_w + newlist"
   ]
  },
  {
   "cell_type": "code",
   "execution_count": 2,
   "metadata": {},
   "outputs": [],
   "source": [
    "questions_word = []\n",
    "questions_word_file = Path(\"/home/iftekhar/AI-system/JPBERT/questions_delimiter.txt\")\n",
    "with open(questions_word_file, encoding='utf-8') as f:\n",
    "    questions_word_list = f.read().splitlines()\n"
   ]
  },
  {
   "cell_type": "code",
   "execution_count": 247,
   "metadata": {},
   "outputs": [],
   "source": [
    "from bert_serving.client import BertClient\n",
    "bc = BertClient()"
   ]
  },
  {
   "cell_type": "markdown",
   "metadata": {},
   "source": [
    "### Just Example how does it do the encode"
   ]
  },
  {
   "cell_type": "code",
   "execution_count": 148,
   "metadata": {},
   "outputs": [
    {
     "data": {
      "text/plain": [
       "array([[ 0.4426878 , -0.27872354, -2.2957592 , ...,  0.06125256,\n",
       "        -0.03483357, -0.7257217 ]], dtype=float32)"
      ]
     },
     "execution_count": 148,
     "metadata": {},
     "output_type": "execute_result"
    }
   ],
   "source": [
    "# bc.encode(['Hello World','How are you'])\n",
    "bc.encode(['こんにちわ'])"
   ]
  },
  {
   "cell_type": "code",
   "execution_count": 3,
   "metadata": {},
   "outputs": [
    {
     "data": {
      "text/html": [
       "<div>\n",
       "<style scoped>\n",
       "    .dataframe tbody tr th:only-of-type {\n",
       "        vertical-align: middle;\n",
       "    }\n",
       "\n",
       "    .dataframe tbody tr th {\n",
       "        vertical-align: top;\n",
       "    }\n",
       "\n",
       "    .dataframe thead th {\n",
       "        text-align: right;\n",
       "    }\n",
       "</style>\n",
       "<table border=\"1\" class=\"dataframe\">\n",
       "  <thead>\n",
       "    <tr style=\"text-align: right;\">\n",
       "      <th></th>\n",
       "      <th>Data</th>\n",
       "      <th>PageID</th>\n",
       "    </tr>\n",
       "  </thead>\n",
       "  <tbody>\n",
       "    <tr>\n",
       "      <th>0</th>\n",
       "      <td>カスタマイザーからこのタイトルを設定できます。カスタマイザーからこのサブタイトルを設定できま...</td>\n",
       "      <td>0</td>\n",
       "    </tr>\n",
       "    <tr>\n",
       "      <th>1</th>\n",
       "      <td>Apple製品MobiControl v14 ManualApple製品をMobiContr...</td>\n",
       "      <td>1</td>\n",
       "    </tr>\n",
       "    <tr>\n",
       "      <th>2</th>\n",
       "      <td>Android端末MobiControl v14 ManualAndroidの設定モードA....</td>\n",
       "      <td>2</td>\n",
       "    </tr>\n",
       "    <tr>\n",
       "      <th>3</th>\n",
       "      <td>Windows PCMobiControl v14 ManualWindows PCの根本的...</td>\n",
       "      <td>3</td>\n",
       "    </tr>\n",
       "    <tr>\n",
       "      <th>4</th>\n",
       "      <td>Windows EmbeddedMobiControl v14 ManualWindows ...</td>\n",
       "      <td>4</td>\n",
       "    </tr>\n",
       "  </tbody>\n",
       "</table>\n",
       "</div>"
      ],
      "text/plain": [
       "                                                Data  PageID\n",
       "0  カスタマイザーからこのタイトルを設定できます。カスタマイザーからこのサブタイトルを設定できま...       0\n",
       "1  Apple製品MobiControl v14 ManualApple製品をMobiContr...       1\n",
       "2  Android端末MobiControl v14 ManualAndroidの設定モードA....       2\n",
       "3  Windows PCMobiControl v14 ManualWindows PCの根本的...       3\n",
       "4  Windows EmbeddedMobiControl v14 ManualWindows ...       4"
      ]
     },
     "execution_count": 3,
     "metadata": {},
     "output_type": "execute_result"
    }
   ],
   "source": [
    "df = pd.read_csv(\"~/AI-system/retrieval_Model/processed_perPage_perLine.csv\")\n",
    "df.head()"
   ]
  },
  {
   "cell_type": "code",
   "execution_count": 4,
   "metadata": {},
   "outputs": [],
   "source": [
    "# df = df.sample(frac=1).reset_index(drop=True)"
   ]
  },
  {
   "cell_type": "code",
   "execution_count": 5,
   "metadata": {},
   "outputs": [
    {
     "data": {
      "text/html": [
       "<div>\n",
       "<style scoped>\n",
       "    .dataframe tbody tr th:only-of-type {\n",
       "        vertical-align: middle;\n",
       "    }\n",
       "\n",
       "    .dataframe tbody tr th {\n",
       "        vertical-align: top;\n",
       "    }\n",
       "\n",
       "    .dataframe thead th {\n",
       "        text-align: right;\n",
       "    }\n",
       "</style>\n",
       "<table border=\"1\" class=\"dataframe\">\n",
       "  <thead>\n",
       "    <tr style=\"text-align: right;\">\n",
       "      <th></th>\n",
       "      <th>Data</th>\n",
       "      <th>PageID</th>\n",
       "    </tr>\n",
       "  </thead>\n",
       "  <tbody>\n",
       "    <tr>\n",
       "      <th>0</th>\n",
       "      <td>カスタマイザーからこのタイトルを設定できます。カスタマイザーからこのサブタイトルを設定できま...</td>\n",
       "      <td>0</td>\n",
       "    </tr>\n",
       "    <tr>\n",
       "      <th>1</th>\n",
       "      <td>Apple製品MobiControl v14 ManualApple製品をMobiContr...</td>\n",
       "      <td>1</td>\n",
       "    </tr>\n",
       "    <tr>\n",
       "      <th>2</th>\n",
       "      <td>Android端末MobiControl v14 ManualAndroidの設定モードA....</td>\n",
       "      <td>2</td>\n",
       "    </tr>\n",
       "    <tr>\n",
       "      <th>3</th>\n",
       "      <td>Windows PCMobiControl v14 ManualWindows PCの根本的...</td>\n",
       "      <td>3</td>\n",
       "    </tr>\n",
       "    <tr>\n",
       "      <th>4</th>\n",
       "      <td>Windows EmbeddedMobiControl v14 ManualWindows ...</td>\n",
       "      <td>4</td>\n",
       "    </tr>\n",
       "  </tbody>\n",
       "</table>\n",
       "</div>"
      ],
      "text/plain": [
       "                                                Data  PageID\n",
       "0  カスタマイザーからこのタイトルを設定できます。カスタマイザーからこのサブタイトルを設定できま...       0\n",
       "1  Apple製品MobiControl v14 ManualApple製品をMobiContr...       1\n",
       "2  Android端末MobiControl v14 ManualAndroidの設定モードA....       2\n",
       "3  Windows PCMobiControl v14 ManualWindows PCの根本的...       3\n",
       "4  Windows EmbeddedMobiControl v14 ManualWindows ...       4"
      ]
     },
     "execution_count": 5,
     "metadata": {},
     "output_type": "execute_result"
    }
   ],
   "source": [
    "df.head()"
   ]
  },
  {
   "cell_type": "code",
   "execution_count": 6,
   "metadata": {},
   "outputs": [],
   "source": [
    "#sample = df.head(20)\n",
    "#sample"
   ]
  },
  {
   "cell_type": "code",
   "execution_count": null,
   "metadata": {},
   "outputs": [],
   "source": [
    "df.iloc[[0]]\n",
    "df.loc[0][0]"
   ]
  },
  {
   "cell_type": "code",
   "execution_count": 8,
   "metadata": {},
   "outputs": [],
   "source": [
    "particles = ['る', '「 」', '「', '」', 'が', 'て', 'を', 'し', 'は', \n",
    "                   'か','に','の', 'へ', 'と', 'や', 'も', 'で'] \n",
    "df.Data = df.Data.apply(lambda x: clean_text(str(x)))\n",
    "\n",
    "wakati = MeCab.Tagger(\"-Owakati\")\n",
    "df.Data = df.Data.apply(lambda x: wakati.parse(x).strip(\"\\n\"))\n",
    "df.Data = df.Data.apply(lambda x: ' '.join([word for word in x.split() if word not in stop_words_ja]))\n",
    "df.Data = df.Data.apply(lambda x: ' '.join(ch for ch in x.split() if ch not in particles))\n"
   ]
  },
  {
   "cell_type": "code",
   "execution_count": 10,
   "metadata": {},
   "outputs": [],
   "source": [
    "df.head()\n",
    "df.to_csv(\"/home/iftekhar/AI-system/retrieval_Model/processed_perPage_perLine.csv\")"
   ]
  },
  {
   "cell_type": "code",
   "execution_count": 10,
   "metadata": {},
   "outputs": [],
   "source": [
    "corpus_list = []\n",
    "whole_corpus = []\n",
    "n=100\n",
    "word_limit = 10\n",
    "count = 0\n",
    "for index, row in df.iterrows():\n",
    "    var = str(row['Data']).split('。')\n",
    "    \n",
    "    for elements in var:\n",
    "        if len(elements) > n:\n",
    "            elements = elements.split()\n",
    "            # print(elements)\n",
    "            # break\n",
    "            chunks = [' '.join(elements[i:i+word_limit]) for i in range(0, len(elements), word_limit)]\n",
    "            # print(\"splitted\", chunks)\n",
    "            # break\n",
    "            for items in chunks:\n",
    "                corpus_list.append([items,row['PageID']])            \n",
    "        else:\n",
    "            # print(\"not split\",elements)\n",
    "            corpus_list.append([elements,row['PageID']])\n",
    "        # break\n",
    "        \n",
    "    # break    \n",
    "    whole_corpus.append(corpus_list)\n",
    "    corpus_list = []"
   ]
  },
  {
   "cell_type": "code",
   "execution_count": 11,
   "metadata": {},
   "outputs": [
    {
     "data": {
      "text/plain": [
       "[['Apple 製品 MobiControl v ManualApple 製品 MobiControl 管理 iOS 端末', 1],\n",
       " ['業務 アプリ 管理 MobiControl 業務 アプリ 管理 最適 ソリューション iOS', 1],\n",
       " ['端末 提供 端末 ユーザ 操作 なく アプリ サイレント インストール サイレント', 1],\n",
       " ['バージョンアップ 実現 端末 ユーザ 操作 待つ 必要 ない ので 短', 1],\n",
       " ['かい 時間 数 千 端末 アプリ 配布 バージョンアップ 業務 改善', 1],\n",
       " ['スピード 速め 社内 開発 App ストア 公開 たく ない アプリ', 1],\n",
       " ['端末 配布 インストールアプリ ホワイト リスト 作成 業務 関係 ない アプリ', 1],\n",
       " ['起動 禁止 社内 WiFi VPN リモート 設定 iOS 端末 画面', 1],\n",
       " ['リモートビューリモート iOS 端末 画面 コンソール 表示 端末 ユーザ アプリ 操作', 1],\n",
       " ['戸惑っ た アプリ 不具合 あっ た コンソール 画面 表示 対応', 1],\n",
       " ['v アドオン た アプリ リモートビュー 実現 ませ ん でし た', 1],\n",
       " ['v どの アプリ リモートビュー 可能 まし た macOS コンピュータ システム', 1],\n",
       " ['環境 設定 一括 設定 業務 アプリ サイレント インストール システム 環境', 1],\n",
       " ['設定 コンソール 一括 設定 ログイン 画面 設計 FileVault Dock Finder', 1],\n",
       " ['プリンタ Xsan 機能 拡張 面倒 な 設定 コンソール 一括 設定', 1],\n",
       " ['Active Directory Open Directory ネットワーク アカウント コンソール リモート 設定 ユーザ', 1],\n",
       " ['ホームフォルダ Time Machine による ファイル バックアップ サーバ リモート 設定 情報', 1],\n",
       " ['漏洩 対策 参照 例えば My Mac 禁止 職場 コンピュータ 自宅', 1],\n",
       " ['コンピュータ 情報 流出 防げ ネットワーク インフラ に対する アカウント 自動 設定', 1],\n",
       " ['社内 WiFi VPN 一斉 設定 iOS 端末 情報 漏洩 対策', 1],\n",
       " ['充実 利用 対策 iOS 端末 様々 な 情報 漏洩 対策', 1],\n",
       " ['用意 れ い しかし 適切 な 設定 いる 前提 MobiControl', 1],\n",
       " ['適正 な 設定 強制 適用 例えば : パス コード 設定', 1],\n",
       " ['強制 複雑 性 無効 パス コード 入力 許容 回数 制限', 1],\n",
       " ['ロック Siri 禁止 禁止 ない ロック Siri 連絡 電話 番号', 1],\n",
       " ['知る iCloud ドキュメント 同期 禁止 私物 PC デバイス iCloud アクセス', 1],\n",
       " ['会社 ドキュメント ダウンロード 私物 PC デバイス 情報 漏洩 うる Cookie', 1],\n",
       " ['制限 過去 訪問 た サイト Cookie 制限 端末 証明 書', 1],\n",
       " ['インストール メール サーバ VPN 利用 認証 会社 定め た WiFi', 1],\n",
       " ['アクセス せ ない 機能 MobiControl v 追加 れ た 新', 1],\n",
       " ['機能 別途 無償 提供 いる ブラウザ 利用 Web サイト フィルタ', 1],\n",
       " ['リング 併せ Safari 利用 禁止 紛失 対策 アクティベーションロック 仮に 端末', 1],\n",
       " ['アクティベーションロック 無効 おく パス コード Apple ID パスワード 知ら なく', 1],\n",
       " ['拾得 端末 iTunes 起動 た PC 接続 リカバリーモード 使っ 初期', 1],\n",
       " ['自分 物 使う 通常 端末 アクティベーションロック 有効 拾得 方法 適用', 1],\n",
       " ['ませ ん リモート Wipe コンソール 端末 工場 出荷 状態 戻せ', 1],\n",
       " ['端末 画面 メッセージ 端末 連絡 記し た メッセージ 送り 端末', 1],\n",
       " ['画面 表示 端末 紛失 た ユーザ 自身 PC タブレット アクセス', 1],\n",
       " ['b 項 c 項 実施 監視 モード 会社 支給 端末', 1],\n",
       " ['監視 モード セット アップ お 勧め 監視 モード セット アップ', 1],\n",
       " ['Apple サーバ 経由 初期 設定 必要 iOS 端末 監視 モード', 1],\n",
       " ['な メリット 得 られ 情報 漏洩 対策 及び 目的 端末', 1],\n",
       " ['設定 強制 できる 詳しく 参照 App ストアアプリ サイレント インストール できる', 1],\n",
       " ['詳しく 参照 また App ストア ユーザ Apple ID なく 端末', 1],\n",
       " ['紐 づける できる 端末 ユーザ 変わっ 同じ アプリ 継承 できる', 1],\n",
       " ['有償 アプリ 新規 購入 不要 Apple ID 管理 不要 端末', 1],\n",
       " ['監視 モード アクティベーション 初期 設定 Apple Apple ID 登録 ない', 1],\n",
       " ['そして 監視 モード 端末 Apple ID 登録 せ ず 使用', 1],\n",
       " ['できる App ストア アプリ デバイス ベース VPP アプリ アプリカタログ 掲載', 1],\n",
       " ['配布 できる iCloud アクセス なく 同等 操作 できる 煩雑 な', 1],\n",
       " ['端末 Apple ID 管理 回避 できる 端末 操作 により 端末', 1],\n",
       " ['ユーザ Apple ID 登録 続け iCloud アクセス Apple ID パスワード', 1],\n",
       " ['できる 端末 地理 位置 表示 iPhone 探す 同等 機能 使える', 1],\n",
       " ['アクティベーションロック 強制 端末 ユーザ による アクティベーションロック 無効 禁止 できる 参照', 1],\n",
       " ['アクティベーションロック バイパス 盗難 紛失 れ ない 端末 Wipe 再 アクティベーション', 1],\n",
       " ['Apple ID パスワード 入力 なく MobiControl 再 登録 できる 端末', 1],\n",
       " ['設定 リセット 便利 盗難 紛失 可能 性 ある 端末 に対して', 1],\n",
       " ['バイパス 端末 要求 ない アクティベーションプロセス Apple ID パスワード 又は アクティベーションロック', 1],\n",
       " ['バイパス コード 入力 必須 できる 参照 端末 操作 MobiControl 登録', 1],\n",
       " ['解除 禁止 参照 但し 手動 DEP 登録 端末 アクティベーション 日間', 1],\n",
       " ['登録 解除 可能 APNs 端末 通常 MobiControl サーバ 接続 い', 1],\n",
       " ['ませ ん また MobiControl サーバ 端末 アクセス 通信 セッション 張る', 1],\n",
       " ['ませ ん iOS 端末 出荷 MDM プロトコル という 名前 プログラム', 1],\n",
       " ['標準 搭載 れ い MDM プロトコル APNs Apple Push Notification', 1],\n",
       " ['service 通知 Notice 常時 受ける 設定 れ い 端末 リモート', 1],\n",
       " ['ロック 紛失 モード Wipe 初期 コマンド 送る まず APNs 経由', 1],\n",
       " ['チェックイン 要求 送り 端末 チェックイン 要求 応え MobiControl サーバ チェックイン', 1],\n",
       " ['コマンド 受け取り 端末 に対し 構成 プロファイル 送っ 展開 端末 チェックイン', 1],\n",
       " ['要求 送る 実現 端末 MobiControl サーバ チェックイン 通常 https TCP', 1],\n",
       " ['コール アプリカタログルール インストール べき アプリ に関する 情報 送り 送る べき', 1],\n",
       " ['オブジェクト 送り 終わる 端末 すぐ チェック アウト MobiControl エージェントアプリ 一つ', 1],\n",
       " ['MobiControl エージェント 追加 インストール 端末 付加 な 機能 追加 端末', 1],\n",
       " ['ユーザ MobiControl エージェント 起動 MobiControl サーバ 接続 端末 MobiControl サーバ', 1],\n",
       " ['接続 通常 https TCP コール 端末 画像 イメージ 送り コンソール', 1],\n",
       " ['表示 画像 変化 リアルタイム 表示 端末 地理 位置 送り コンソール', 1],\n",
       " ['地図 表示 MDM プロトコル 送れ ない 端末 ステータス 情報 送り', 1],\n",
       " ['長文 メッセージ 端末 送れ MDM プロトコル による チェックイン MobiControl エージェント', 1],\n",
       " ['による 接続 送受 オブジェクト 異なり 詳しく 参照 VPP アプリカタログルール 適用', 1],\n",
       " ['た iOS 端末 App Catalog という 名前 アイコ ン ホーム', 1],\n",
       " ['画面 表示 れ アプリ 名前 アイコ ン 表示 れ い', 1],\n",
       " ['アプリ ダウンロード URL 埋め込ま れ い 端末 ユーザ タップ 業務', 1],\n",
       " ['アプリ ダウンロード インストール アプリ App ストア アプリ あれ ば 社内', 1],\n",
       " ['限り 社内 サーバ ダウンロード アプリ エンタープライズアプリ え App ストア アプリ', 1],\n",
       " ['企業 団体 VPP Volume Purchase Planning まとめ買い 契約 VPP 契約', 1],\n",
       " ['購入 た アプリ 個別 端末 ユーザ 費用 負担 なく 企業', 1],\n",
       " ['団体 まとめ 費用 負担 VPP アプリ 帰属 端末 デバイス ユーザ', 1],\n",
       " ['選択肢 デバイス ベース だ 端末 ユーザ 変わっ 端末 Apple ID', 1],\n",
       " ['変わっ 当該 アプリ 続ける ユーザ ベース だ ユーザ 端末 変え', 1],\n",
       " ['当該 アプリ 続ける 有償 アプリ 新規 購入 不要 App ストア', 1],\n",
       " ['アプリ ダウンロード に当たって 端末 ポップアップ な 違い 監視 モード 端末', 1],\n",
       " ['非 監視 モード 端末 VPP 契約 アプリポップアップ 無し サイレント インストール', 1],\n",
       " ['可能 注 インストール 促す メッセージ ポップアップ VPP 契約 ない アプリ', 1],\n",
       " ['Apple ID パスワード 入力 ポップアップ つ ポップアップ インストール 促す メッセージ', 1],\n",
       " ['Apple ID パスワード 入力 注 ユーザ ベース アプリ ユーザ Apple', 1],\n",
       " ['ID VPP 契約 紐 づける ポップアップ 現れる 但し 初回 詳しく', 1],\n",
       " ['DEP Device Enrollment Program iOS 端末 監視 モード 仕組み 監視', 1],\n",
       " ['モード 端末 初期 設定 アクティベーション 端末 工場 出荷 固有 シリアル', 1],\n",
       " ['番号 れ い シリアル 番号 Apple アクティベーションサーバ 登録 れ い', 1],\n",
       " ['通常 初期 設定 シリアル 番号 MDM サーバ URL 紐 づけ', 1],\n",
       " ['られ ない ので Apple ID 登録 初期 設定 終わり シリアル', 1],\n",
       " ['番号 MDM サーバ URL 紐 づけ られ いる 端末 MDM', 1],\n",
       " ['サーバ 自動的 アクセス リダイレクト そして MDM サーバ 登録 れ 続け', 1],\n",
       " ['端末 用意 れ いる 構成 プロファイル ダウンロード れ DEP 実現', 1],\n",
       " ['当該 端末 シリアル 番号 DEP 対象 ある Apple アクティベーションサーバ 登録', 1],\n",
       " ['必要 登録 誰 によって DEP 登録 方法 種類 ABM Apple', 1],\n",
       " ['Business Manager 略 対象 なる 端末 携帯 電話 会社 直接', 1],\n",
       " ['購入 端末 DEP 販売 店 ID 持っ いる 販売 店', 1],\n",
       " ['購入 端末 DEP 販売 店 ID 持っ い ない 販売', 1],\n",
       " ['店 購入 端末 購入 済 端末 非 監視 モード だ', 1],\n",
       " ['監視 モード 変更 端末 端末 シリアル 番号 DEP サーバ 登録', 1],\n",
       " ['販売 店 購入 利用 企業 団体 保有 端末 シリアル 番号', 1],\n",
       " ['端末 登録 再 配置 MobiControl コンソール アクセス 権限 実行 不要', 1],\n",
       " ['DEP サーバ 登録 予定 端末 端末 シリアル 番号 MobiControl サーバ', 1],\n",
       " ['URL 紐 利用 企業 団体 保有 通常 端末 初期 再', 1],\n",
       " ['アクティベーション Apple アクティベーションサーバ に対し Apple ID パスワード 入力 要求 れ', 1],\n",
       " ['監視 モード 端末 Apple ID 管理 不要 オプション 当該 端末', 1],\n",
       " ['リモート Wipe 初期 再 アクティベーション MobiControl サーバ アクティベーションバイパスコード 端末 送り', 1],\n",
       " ['端末 Apple アクティベーションサーバ 送る Apple ID パスワード 入力 代替 SDK', 1],\n",
       " ['iOSOS 端末 インストール アプリ アドオン iOS 端末 業務 活用度 高まり', 1],\n",
       " ['アプリ 操作 動く 端末 画面 コンソール PC 画面 リモート 表示', 1],\n",
       " ['アプリ 操作 指導 不具合 発見 つながり アプリ 配下 サブフォルダ データファイル', 1],\n",
       " ['ファイル サーバ 吸い上げ ファイル サーバ 端末 必要 な データ 送る', 1],\n",
       " ['アプリ 作成 において サーバ ファイル 同期 手配 簡単 サーバ 端末', 1],\n",
       " ['サブフォルダ 自動的 作り コンソール PC エクスプロラツール 端末 アプリ 配下 サブフォルダ', 1],\n",
       " ['表示 れ コンソール PC 間 ファイル 送受 更新 アプリ デバッグ', 1],\n",
       " ['役立ち 無償 AD Active Directory 連携 iOS 端末 MobiControl サーバ', 1],\n",
       " ['登録 本人 認証 端末 ユーザ ADDS Active Directory Domain Service', 1],\n",
       " ['ユーザ パスワード 入力 要求 ADDS 認証 端末 登録 メリット ADDS', 1],\n",
       " ['認証 得 た 端末 構成 プロファイル 作成 マクロ 文字 %', 1],\n",
       " ['ENROLLEDUPN % 使う できる メール 並びに ADDS 認証 要求 VPN', 1],\n",
       " ['及び WiFi 構成 プロファイル 端末 ユーザ 実際 UPN 変更 れ', 1],\n",
       " ['端末 配布 れ マクロ 文字 % ENROLLEDUPN % 使える により', 1],\n",
       " ['個別 端末 構成 プロファイル 作成 不要 端末 ユーザ 端末 紛失', 1],\n",
       " ['デバイス スマホ タブレット PC アクセス iPhone 探す 同じ 操作 紛失', 1],\n",
       " ['モード リモート Wipe iPhone 探す 実行 MobiControl v 端末 登録', 1],\n",
       " ['ADDS 認証 なく 端末 モード 監視 モード 非 監視 モード', 1],\n",
       " ['AD 認証 ユーザ 属性 把握 ない MobiControl 管理 領域 最も', 1],\n",
       " ['広く 管理 領域 最も 少なく 非 監視 モード 設定 ADDS', 1],\n",
       " ['なく 本人 認証 可能 ADFS SSO Single Sign On 適用', 1],\n",
       " ['ので 端末 登録 ユーザ ID パスワード 入力 要求 れ ませ', 1],\n",
       " ['ん 監視 モード 設定 ADFS 認証 ませ ん なぜなら 初期', 1],\n",
       " ['れ た 端末 DEP サーバ アクセス 直後 MobiControl サーバ 登録', 1],\n",
       " ['プロセス 進む 仕組み な ので ADFS による 認証 ませ ん', 1],\n",
       " ['監視 モード 機能 メリット 説明 セキュリティ 対策 業務 効率 機能', 1],\n",
       " ['提供 赤 文字 項目 MobiControl v 追加 れ た 機能', 1],\n",
       " ['アプリ 管理 アプリ サイレント インストール 及び サイレントバージョンアップアプリ ホワイト リスト 作り', 1],\n",
       " ['リスト アプリ 起動 禁止 アプリ ブラックリスト 作り リスト れ た', 1],\n",
       " ['アプリ 機能 禁止 App ストア アプリ 追加 ダウンロード 禁止 App', 1],\n",
       " ['ストア アプリ 追加 ダウンロード 禁止 シングルアプリモード つ アプリ アプリ 削除', 1],\n",
       " ['禁止 AirPlay リモート 設定 AirPrint リモート 設定 更に 機能 制限', 1],\n",
       " ['端末 操作 MobiControl 登録 解除 禁止 ホストペアリング 許可 禁止 iTunes', 1],\n",
       " ['起動 パソコン データ iOS 端末 移動 禁止 WiFi 専用 端末', 1],\n",
       " ['プロキシサーバ 経由 ない インターネット 接続 ない 指定 た URL ブラウザ', 1],\n",
       " ['アクセス ない 会社 定め た WiFi アクセス せ ない Bluetooth', 1],\n",
       " ['禁止 Apple Music 禁止 iMessage 利用 禁止 SIRI ユーザ 生成', 1],\n",
       " ['た コンテンツ 非 表示 SIRI 悪口 誹謗 フィルタ iBook Store', 1],\n",
       " ['利用 禁止 Erotica コンテンツ 禁止 AirDrop 利用 禁止 AirPrint TLS', 1],\n",
       " ['通信 要求 AirPrint 利用 禁止 ロック 画面 通知 センター 非', 1],\n",
       " ['表示 ロック 画面 ビュー 非 表示 Exchange アカウント 変更 禁止', 1],\n",
       " ['携帯 電話 回線 パケット 使用 量 記録 変更 禁止 iCloud', 1],\n",
       " ['Keychain Sync 禁止 データ 共有 管理 対象 管理 対象 変更', 1],\n",
       " ['無効 データ 共有 管理 対象 管理 対象 変更 無効 OTA', 1],\n",
       " ['による PKI 更新 禁止 端末 コンテンツ 設定 削除 禁止 構成', 1],\n",
       " ['プロファイル 手動 インストール せ ない パス コード 変更 禁止 Apple', 1],\n",
       " ['Watch ペア リング 禁止 Spotlight 検索 無効 予測 キーボード 無効', 1],\n",
       " ['文字 入力 予想 単語 表示 機能 無効 スペル チェック 無効', 1],\n",
       " ['定義 辞書 検索 無効 友達 探す アプリ 変更 禁止 ゲームセンター', 1],\n",
       " ['アクセス 禁止 ホーム 画面 ゲームセンター アイコン 削除 ゲームセンター 友達 登録', 1],\n",
       " ['禁止 PodCast 禁止 また iOS バージョンアップ 遅らせる 日数 指定 できる', 1],\n",
       " ['機能 MobiControl v 追加 れ まし た Copyright © Translated', 1],\n",
       " ['by Penetrate Limits Co Ltd Tokyo © MobiControl v Manual', 1],\n",
       " ['WordPress 構築 利用 対策 iOS 端末 様々 な 情報 漏洩', 1],\n",
       " ['対策 用意 れ い しかし 適切 な 設定 いる 前提', 1],\n",
       " ['MobiControl 適正 な 設定 強制 適用 例えば : パス コード', 1],\n",
       " ['設定 強制 複雑 性 無効 パス コード 入力 許容 回数', 1],\n",
       " ['制限 ロック Siri 禁止 禁止 ない ロック Siri 連絡 電話', 1],\n",
       " ['番号 知る iCloud ドキュメント 同期 禁止 私物 PC デバイス iCloud', 1],\n",
       " ['アクセス 会社 ドキュメント ダウンロード 私物 PC デバイス 情報 漏洩 うる', 1],\n",
       " ['Cookie 制限 過去 訪問 た サイト Cookie 制限 端末 証明', 1],\n",
       " ['書 インストール メール サーバ VPN 利用 認証 会社 定め た', 1],\n",
       " ['WiFi アクセス せ ない 機能 MobiControl v 追加 れ た', 1],\n",
       " ['新 機能 別途 無償 提供 いる ブラウザ 利用 Web サイト', 1],\n",
       " ['フィルタ リング 併せ Safari 利用 禁止 iOS 端末 出荷 MDM', 1],\n",
       " ['プロトコル という 名前 プログラム 標準 搭載 れ い MDM プロトコル', 1],\n",
       " ['APNs Apple Push Notification service 通知 Notice 常時 受ける 設定', 1],\n",
       " ['れ い 端末 リモート ロック 紛失 モード Wipe 初期 コマンド', 1],\n",
       " ['送る まず APNs 経由 チェックイン 要求 送り 端末 チェックイン 要求', 1],\n",
       " ['応え MobiControl サーバ チェックイン コマンド 受け取り 端末 に対し 構成 プロファイル', 1],\n",
       " ['送っ 展開 端末 チェックイン 要求 送る 実現 端末 MobiControl サーバ', 1],\n",
       " ['チェックイン 通常 https TCP コール アプリカタログルール インストール べき アプリ に関する', 1],\n",
       " ['情報 送り 送る べき オブジェクト 送り 終わる 端末 すぐ チェック', 1],\n",
       " ['アウト アプリ 一つ MobiControl エージェント 追加 インストール 端末 付加 な', 1],\n",
       " ['機能 追加 端末 ユーザ MobiControl エージェント 起動 MobiControl サーバ 接続', 1],\n",
       " ['端末 MobiControl サーバ 接続 通常 https TCP コール 端末 画像', 1],\n",
       " ['イメージ 送り コンソール 表示 画像 変化 リアルタイム 表示 端末 地理', 1],\n",
       " ['位置 送り コンソール 地図 表示 MDM プロトコル 送れ ない 端末', 1],\n",
       " ['ステータス 情報 送り 長文 メッセージ 端末 送れ 監視 モード 端末', 1],\n",
       " ['非 監視 モード 端末 VPP 契約 アプリポップアップ 無し サイレント インストール', 1],\n",
       " ['可能 注 インストール 促す メッセージ ポップアップ VPP 契約 ない アプリ', 1],\n",
       " ['Apple ID パスワード 入力 ポップアップ つ ポップアップ インストール 促す メッセージ', 1],\n",
       " ['Apple ID パスワード 入力 DEP Device Enrollment Program iOS 端末', 1],\n",
       " ['監視 モード 仕組み 監視 モード 端末 初期 設定 アクティベーション 端末', 1],\n",
       " ['工場 出荷 固有 シリアル 番号 れ い シリアル 番号 Apple', 1],\n",
       " ['アクティベーションサーバ 登録 れ い 通常 初期 設定 シリアル 番号 MDM', 1],\n",
       " ['サーバ URL 紐 づけ られ ない ので Apple ID 登録', 1],\n",
       " ['初期 設定 終わり シリアル 番号 MDM サーバ URL 紐 づけ', 1],\n",
       " ['られ いる 端末 MDM サーバ 自動的 アクセス リダイレクト そして MDM', 1],\n",
       " ['サーバ 登録 れ 続け 端末 用意 れ いる 構成 プロファイル', 1],\n",
       " ['ダウンロード れ 対象 なる 端末 携帯 電話 会社 直接 購入', 1],\n",
       " ['端末 DEP 販売 店 ID 持っ いる 販売 店 購入', 1],\n",
       " ['端末 DEP 販売 店 ID 持っ い ない 販売 店', 1],\n",
       " ['購入 端末 購入 済 端末 非 監視 モード だ 監視', 1],\n",
       " ['モード 変更 端末 端末 シリアル 番号 DEP サーバ 登録 販売', 1],\n",
       " ['店 購入 利用 企業 団体 保有 端末 シリアル 番号 端末', 1],\n",
       " ['登録 再 配置 MobiControl コンソール アクセス 権限 実行 不要 DEP', 1],\n",
       " ['サーバ 登録 予定 端末 端末 シリアル 番号 MobiControl サーバ URL', 1],\n",
       " ['紐 利用 企業 団体 保有 端末 モード 監視 モード 非', 1],\n",
       " ['監視 モード AD 認証 ユーザ 属性 把握 ない MobiControl 管理', 1],\n",
       " ['領域 最も 広く 管理 領域 最も 少なく', 1]]"
      ]
     },
     "execution_count": 11,
     "metadata": {},
     "output_type": "execute_result"
    }
   ],
   "source": [
    "whole_corpus[1]"
   ]
  },
  {
   "cell_type": "code",
   "execution_count": 16,
   "metadata": {},
   "outputs": [],
   "source": [
    "pages_list = []\n",
    "content_list = []\n",
    "\n",
    "count=0\n",
    "for pages in whole_corpus:\n",
    "    for sentences in pages:\n",
    "        pages_list.append(sentences[0])\n",
    "    content_list.append(pages_list)\n",
    "    pages_list = []    \n",
    "    "
   ]
  },
  {
   "cell_type": "code",
   "execution_count": 46,
   "metadata": {},
   "outputs": [
    {
     "data": {
      "text/html": [
       "<div>\n",
       "<style scoped>\n",
       "    .dataframe tbody tr th:only-of-type {\n",
       "        vertical-align: middle;\n",
       "    }\n",
       "\n",
       "    .dataframe tbody tr th {\n",
       "        vertical-align: top;\n",
       "    }\n",
       "\n",
       "    .dataframe thead th {\n",
       "        text-align: right;\n",
       "    }\n",
       "</style>\n",
       "<table border=\"1\" class=\"dataframe\">\n",
       "  <thead>\n",
       "    <tr style=\"text-align: right;\">\n",
       "      <th></th>\n",
       "      <th>IDs</th>\n",
       "      <th>Content</th>\n",
       "    </tr>\n",
       "  </thead>\n",
       "  <tbody>\n",
       "    <tr>\n",
       "      <th>39089</th>\n",
       "      <td>443</td>\n",
       "      <td>端末 拾得 によって Exchange サーバ アクセス な 情報 漏洩 リスク</td>\n",
       "    </tr>\n",
       "    <tr>\n",
       "      <th>39090</th>\n",
       "      <td>443</td>\n",
       "      <td>無くす Exchange ActiveSync Filter インストール コンソール 該当...</td>\n",
       "    </tr>\n",
       "    <tr>\n",
       "      <th>39091</th>\n",
       "      <td>443</td>\n",
       "      <td>現われ た 画面 アイコ ン プルダウン 現われ Exchange アクセス 阻止</td>\n",
       "    </tr>\n",
       "    <tr>\n",
       "      <th>39092</th>\n",
       "      <td>443</td>\n",
       "      <td>クリック MobiControl サーバ Exchange ActiveSync Filte...</td>\n",
       "    </tr>\n",
       "    <tr>\n",
       "      <th>39093</th>\n",
       "      <td>443</td>\n",
       "      <td>送ら れ バー 全 OS タブ 選択 タブ サーバ タブ</td>\n",
       "    </tr>\n",
       "    <tr>\n",
       "      <th>...</th>\n",
       "      <td>...</td>\n",
       "      <td>...</td>\n",
       "    </tr>\n",
       "    <tr>\n",
       "      <th>39184</th>\n",
       "      <td>444</td>\n",
       "      <td>ページ 参照 オプション サーバ 機能 設定 端末 設定 端末 業務</td>\n",
       "    </tr>\n",
       "    <tr>\n",
       "      <th>39185</th>\n",
       "      <td>444</td>\n",
       "      <td>アプリ バージョンアップ VPP アカウント 設定 セキュリティ 対策 設定 分野 構成</td>\n",
       "    </tr>\n",
       "    <tr>\n",
       "      <th>39186</th>\n",
       "      <td>444</td>\n",
       "      <td>プロファイル 詳細 設定 端末 働きかける 端末 画面 メッセージ 表示 リモート</td>\n",
       "    </tr>\n",
       "    <tr>\n",
       "      <th>39187</th>\n",
       "      <td>444</td>\n",
       "      <td>ロック 紛失 モード リモート Wipe 初期 端末 働きかける 端末 状況</td>\n",
       "    </tr>\n",
       "    <tr>\n",
       "      <th>39188</th>\n",
       "      <td>444</td>\n",
       "      <td>視る 端末 位置 地図 表示 アプリ 活用 状況 監視</td>\n",
       "    </tr>\n",
       "  </tbody>\n",
       "</table>\n",
       "<p>100 rows × 2 columns</p>\n",
       "</div>"
      ],
      "text/plain": [
       "       IDs                                            Content\n",
       "39089  443           端末 拾得 によって Exchange サーバ アクセス な 情報 漏洩 リスク\n",
       "39090  443  無くす Exchange ActiveSync Filter インストール コンソール 該当...\n",
       "39091  443          現われ た 画面 アイコ ン プルダウン 現われ Exchange アクセス 阻止\n",
       "39092  443  クリック MobiControl サーバ Exchange ActiveSync Filte...\n",
       "39093  443                       送ら れ バー 全 OS タブ 選択 タブ サーバ タブ\n",
       "...    ...                                                ...\n",
       "39184  444                 ページ 参照 オプション サーバ 機能 設定 端末 設定 端末 業務\n",
       "39185  444       アプリ バージョンアップ VPP アカウント 設定 セキュリティ 対策 設定 分野 構成\n",
       "39186  444          プロファイル 詳細 設定 端末 働きかける 端末 画面 メッセージ 表示 リモート\n",
       "39187  444             ロック 紛失 モード リモート Wipe 初期 端末 働きかける 端末 状況\n",
       "39188  444                        視る 端末 位置 地図 表示 アプリ 活用 状況 監視\n",
       "\n",
       "[100 rows x 2 columns]"
      ]
     },
     "execution_count": 46,
     "metadata": {},
     "output_type": "execute_result"
    }
   ],
   "source": [
    "# This portion for splitting the corpus\n",
    "split_content_corpus=[]\n",
    "for pages in whole_corpus:\n",
    "    for sentences in pages:\n",
    "        pages_list.append([sentences[0],sentences[1]])\n",
    "    split_content_corpus.append(pages_list)\n",
    "    pages_list = []\n",
    "\n",
    "\n",
    "len(split_content_corpus)\n",
    "# for saving my split lines corpus\n",
    "ids=[]\n",
    "contents=[]\n",
    "for i in range(len(split_content_corpus)):\n",
    "    j=0\n",
    "    for j in range(len(split_content_corpus[i])):\n",
    "        ids.append(split_content_corpus[i][j][0])\n",
    "        contents.append(split_content_corpus[i][j][1])\n",
    "\n",
    "corpus_dataframe = pd.DataFrame(zip(contents, ids), columns=['IDs', 'Content'])\n",
    "corpus_dataframe.to_csv(\"10words_line_corpus.csv\")\n",
    "corpus_dataframe.tail(100)"
   ]
  },
  {
   "cell_type": "code",
   "execution_count": 15,
   "metadata": {},
   "outputs": [
    {
     "data": {
      "text/plain": [
       "['カスタマイザー タイトル 設定 カスタマイザー サブタイトル 設定 MobiControl 設定 順序 MobiControl',\n",
       " '設定 順序 MobiControl 設定 順序 行い 端末 OS 対象 オンプレミス',\n",
       " 'MobiControl サーバ 必要 な 設定 事項 iOS 端末 macOS コンピュータ',\n",
       " '必須 接続 プロファイル 作成 ADDS Active Directory Domain Service サーバ',\n",
       " '間 ADFS Active Directory Federation Service 間 Azure AD 間',\n",
       " 'Windows Windows Modern 管理 必須 会社 支給 端末 iOS Android',\n",
       " '複数 従業 共用 必須 Apple Google Microsoft 管理 アカウント 取得',\n",
       " '目的 Apple 社 サイト サインイン できる 権限 Apple 製品 設定',\n",
       " 'App ストア アプリ 購入 managed Google Play アプリ アプリカタログ 使っ',\n",
       " '配布 つ アカウント 必要 但し Android 端末 Android Plus モード',\n",
       " '設定 アカウント 不要 WNS 使っ Windows PC リモート 管理 企業',\n",
       " '団体 組織 沿っ 階層 端末 グループ 作成 組織 入力 な',\n",
       " '作業 端末 OS 対象 端末 登録 作成 端末 所定 端末',\n",
       " 'グループ 登録 端末 登録 目的 端末 ユーザ 認証 端末 型式',\n",
       " '設定 オプション ある つ 端末 グループ に対し 複数 端末 登録',\n",
       " '設定 可能 端末 OS 対象 端末 OS によって 作成 方法',\n",
       " '異なる 端末 挙動 に関する 設定 項目 設定 順序 変え 結構',\n",
       " '構成 プロファイル 作成 情報 漏洩 対策 WiFi VPN メール 設定',\n",
       " '端末 OS 対象 詳細 設定 設定 端末 OS 対象 端末',\n",
       " '登録 アプリカタログルール 作成 端末 OS 対象 アプリ 端末 配付 インストール',\n",
       " 'Apple 製品 除く 端末 OS 対象 ドキュメント 画像 動画 端末',\n",
       " '配付 iOS 端末 Android 端末 対象 項 端末 挙動 設定',\n",
       " '完了 い なく 端末 登録 可能 また 端末 登録 項',\n",
       " '追加 変更 可能 端末 OS 対象 端末 OS 設定 方法',\n",
       " 'インデックス 設定 クリック 説明 ページ メニュー 現れ 端末 設定 分野',\n",
       " '構成 プロファイル 詳細 設定 詳しく 参照 端末 MobiControl サーバ 登録',\n",
       " '概要 端末 登録 作成 登録 ID 登録 URL 生成 れ',\n",
       " '登録 URL ブラウザ 入力 端末 所定 端末 グループ 登録 れ',\n",
       " 'また 端末 OS によって MobiControl エージェント ソフト ダウンロード 登録 ID',\n",
       " '入力 端末 所定 端末 グループ 登録 れ コンソール エージェント 生成',\n",
       " 'Setup INI ファイル 同時に 生成 れ エージェント インストーラ 同じ フォルダ',\n",
       " 'Setup INI ファイル 配置 エージェント インストール 所定 端末 グループ 登録',\n",
       " 'れ 登録 ID 登録 URL Setup INI ファイル により 端末',\n",
       " 'MobiControl デプロイメントサーバ URL 知り アクセス 続け 登録 ID 登録 URL',\n",
       " 'Setup INI ファイル 一意的 対応 端末 登録 自ら 端末 シリアル',\n",
       " '番号 属性 情報 申告 つ 端末 登録 端末 登録 なる',\n",
       " '端末 グループ はつ 端末 登録 アクセス き た 端末 属性',\n",
       " '情報 MobiControl マネージメント サーバ 所定 端末 グループ フォルダ 保存 端末',\n",
       " '登録 完了 端末 登録 に関して インデックス 端末 セットアップ 操作 クリック',\n",
       " '説明 ページ 参照 端末 初期 設定 必要 初期 設定 により',\n",
       " 'OS レベル MobiControl 管理 対象 iOS 端末 Android 端末 設定',\n",
       " 'ADDS ADFS 認証 受ける 必須 い Windows PC Windows Modern',\n",
       " '設定 Google 管理 アカウント managed Google アカウント 使用 一方 managed',\n",
       " 'GooglePlay アカウント 使用 ADDS ADFS 認証 必須 ませ ん データ',\n",
       " 'コンテンツ 送付 モバイル デバイス PC データ コンテンツ 送る 必要 また',\n",
       " 'モバイル デバイス 操作 社内 コンテンツ 入手 たい という 要望 MobiControl',\n",
       " 'ファイル 同期 コンテンツ ライブラリ イントラネットゲートウェイ 用意 い ファイル 同期 運用',\n",
       " '方法 端末 サーバ 特定 フォルダ 間 送受 スケジュール 基づき 自動的',\n",
       " '送受 iOS 端末 アプリ 使う データ 端末 アプリ 生成 データ',\n",
       " '対象 文書 写真 動画 コンテンツ どの コンテンツ ダウンロード 端末 ユーザ',\n",
       " '任意 モバイル 端末 向け 意図 持っ コンテンツ 予め ライブラリ アップ',\n",
       " 'ロード おく 必要 ある 文書 写真 動画 コンテンツ 社内 ファイル',\n",
       " 'サーバ リポジトリサーバ 端末 アクセス ダウンロード モバイル 端末 向け 意図 意識',\n",
       " 'せ ず コンテンツ ファイル サーバ 保存 おけ ば よい ファイル',\n",
       " 'サーバ 仕様 WebDAV SharePoint iOS アドオン た アプリ 傘下 フォルダ',\n",
       " '対象 AndroidWindows 系 任意 フォルダ ダウンロード 指定 可能 コンテンツ 形式',\n",
       " '問わ ない アプリ 配布 モバイル 端末 PC 業務 アプリ 配布',\n",
       " '必要 アプリ 配布 手段 MobiControl アプリカタログ MobiControl パッケージ 用意 い',\n",
       " 'アプリカタログ 端末 開く アプリ 名前 アイコ ン 表示 れ アプリ',\n",
       " 'ダウンロード リンク 張っ 端末 ユーザ アプリ 選択 ダウンロード インストール MobiControl',\n",
       " 'パッケージ 使っ アプリ パッケージ アプリインストーラ スクリプト コマンド 挿入 により アプリ',\n",
       " 'サイレント インストール 可能 また インストール 前 必要 な 操作 実行',\n",
       " '例えば 同じ アプリ 前 バージョン アンインストール インストール 実行 インストール 終了',\n",
       " '端末 画面 メッセージ 表示 公開 アプリ 社内 開発 た 社内',\n",
       " '限り アプリ 配布 公開 アプリ App ストア Google Play ストア',\n",
       " 'Windows ストア ダウンロード なる アプリ 指し アプリカタログ MobiControl パッケージ 公開',\n",
       " 'アプリ 社内 限り アプリダウンロード 社内 サーバ iOSAndroid PlusAndroid EnterpriseWindows PCWindows',\n",
       " 'EmbeddedLinux 表 背景 色 黄色 サイレント インストール 可能 サイレント インストール',\n",
       " '端末 ユーザ 操作 せ ず ダウンロード インストール れ 業務 アプリ',\n",
       " '迅速 な 展開 バージョンアップ 有用 注 アプリカタログ サイレント インストール アプリ',\n",
       " '配布 オプション 必須 おく 必要 公開 アプリ iOS サイレント インストール',\n",
       " '端末 監視 モード アプリ App ストア VPP 契約 デバイス タイプ',\n",
       " 'Android Enterprise 社内 限り アプリ managed Google Play ストア アップ',\n",
       " 'ロード 可能 アプリカタログ 使っ 配布 配布 社内 限定 配慮 おく',\n",
       " '必要 オプション 設定 サーバ 設定 必須 ませ ん 設定 MobiControl',\n",
       " '可用性 拡がり 社外 イントラネット 内部 リポジトリサーバ WebDAV SharePoint サーバ アクセス',\n",
       " 'ゲート ウェイ iOS 端末 Android 端末 適用 自分 端末 ステータス',\n",
       " '端末 ユーザ 自身 対象 端末 スマホ タブレット PC 視る 端末',\n",
       " '紛失 モード リモート 制御 サーバ MobiControl サーバ コンソール 権限 端末',\n",
       " 'ユーザ 付託 機能 MS Exchange サーバ 不法 アクセス 防止 対象',\n",
       " '端末 iOS 端末 Android 端末 及び Windows Embedded 端末 参考',\n",
       " '情報 ご 参照 Copyright © Translated by Penetrate Limits Co',\n",
       " 'Ltd Tokyo © MobiControl v Manual WordPress 構築 MobiControl 設定',\n",
       " '順序 端末 OS 対象 オンプレミス MobiControl サーバ 必要 な 設定',\n",
       " '事項 iOS 端末 macOS コンピュータ 必須 接続 プロファイル 作成 ADDS',\n",
       " 'Active Directory Domain Service サーバ 間 ADFS Active Directory Federation',\n",
       " 'Service 間 Azure AD 間 Windows Windows Modern 管理 必須',\n",
       " '会社 支給 端末 iOS Android 複数 従業 共用 必須 Apple',\n",
       " 'Google Microsoft 管理 アカウント 取得 目的 Apple 社 サイト サインイン',\n",
       " 'できる 権限 Apple 製品 設定 App ストア アプリ 購入 managed',\n",
       " 'Google Play アプリ アプリカタログ 使っ 配布 つ アカウント 必要 但し',\n",
       " 'Android 端末 Android Plus モード 設定 アカウント 不要 WNS 使っ',\n",
       " 'Windows PC リモート 管理 企業 団体 組織 沿っ 階層 端末',\n",
       " 'グループ 作成 組織 入力 な 作業 端末 OS 対象 端末',\n",
       " '登録 作成 端末 所定 端末 グループ 登録 端末 登録 目的',\n",
       " '端末 ユーザ 認証 端末 型式 設定 オプション ある つ 端末',\n",
       " 'グループ に対し 複数 端末 登録 設定 可能 端末 OS 対象',\n",
       " '端末 OS によって 作成 方法 異なる 端末 挙動 に関する 設定',\n",
       " '項目 設定 順序 変え 結構 構成 プロファイル 作成 情報 漏洩',\n",
       " '対策 WiFi VPN メール 設定 端末 OS 対象 詳細 設定',\n",
       " '設定 端末 OS 対象 端末 登録 アプリカタログルール 作成 端末 OS',\n",
       " '対象 アプリ 端末 配付 インストール Apple 製品 除く 端末 OS',\n",
       " '対象 ドキュメント 画像 動画 端末 配付 iOS 端末 Android 端末',\n",
       " '対象 項 端末 挙動 設定 完了 い なく 端末 登録',\n",
       " '可能 また 端末 登録 項 追加 変更 可能 端末 OS',\n",
       " '対象 端末 OS 設定 方法 インデックス 設定 クリック 説明 ページ',\n",
       " 'メニュー 現れ 端末 設定 分野 構成 プロファイル 詳細 設定 詳しく',\n",
       " '参照 端末 MobiControl サーバ 登録 概要 登録 ID 登録 URL',\n",
       " 'Setup INI ファイル により 端末 MobiControl デプロイメントサーバ URL 知り アクセス',\n",
       " '続け 登録 ID 登録 URL Setup INI ファイル 一意的 対応',\n",
       " '端末 登録 自ら 端末 シリアル 番号 属性 情報 申告 つ',\n",
       " '端末 登録 端末 登録 なる 端末 グループ はつ 端末 登録',\n",
       " 'アクセス き た 端末 属性 情報 MobiControl マネージメント サーバ 所定',\n",
       " '端末 グループ フォルダ 保存 端末 登録 完了 端末 登録 に関して',\n",
       " 'インデックス 端末 セットアップ 操作 クリック 説明 ページ 参照 データ コンテンツ',\n",
       " '送付 ファイル 同期 運用 方法 端末 サーバ 特定 フォルダ 間',\n",
       " '送受 スケジュール 基づき 自動的 送受 iOS 端末 アプリ 使う データ',\n",
       " '端末 アプリ 生成 データ 対象 文書 写真 動画 コンテンツ どの',\n",
       " 'コンテンツ ダウンロード 端末 ユーザ 任意 モバイル 端末 向け 意図 持っ',\n",
       " 'コンテンツ 予め ライブラリ アップ ロード おく 必要 ある 文書 写真',\n",
       " '動画 コンテンツ 社内 ファイル サーバ リポジトリサーバ 端末 アクセス ダウンロード モバイル',\n",
       " '端末 向け 意図 意識 せ ず コンテンツ ファイル サーバ 保存',\n",
       " 'おけ ば よい ファイル サーバ 仕様 WebDAV SharePoint iOS アドオン',\n",
       " 'た アプリ 傘下 フォルダ 対象 AndroidWindows 系 任意 フォルダ ダウンロード',\n",
       " '指定 可能 コンテンツ 形式 問わ ない アプリ 配布 アプリカタログ MobiControl',\n",
       " 'パッケージ 公開 アプリ 社内 限り アプリダウンロード 社内 サーバ iOSAndroid PlusAndroid',\n",
       " 'EnterpriseWindows PCWindows EmbeddedLinux オプション 設定']"
      ]
     },
     "execution_count": 15,
     "metadata": {},
     "output_type": "execute_result"
    }
   ],
   "source": [
    "content_list[0]"
   ]
  },
  {
   "cell_type": "code",
   "execution_count": 54,
   "metadata": {},
   "outputs": [
    {
     "data": {
      "text/plain": [
       "219"
      ]
     },
     "execution_count": 54,
     "metadata": {},
     "output_type": "execute_result"
    }
   ],
   "source": [
    "len(content_list[1])"
   ]
  },
  {
   "cell_type": "code",
   "execution_count": 55,
   "metadata": {},
   "outputs": [
    {
     "data": {
      "text/plain": [
       "20"
      ]
     },
     "execution_count": 55,
     "metadata": {},
     "output_type": "execute_result"
    }
   ],
   "source": [
    "    len(content_list[5])"
   ]
  },
  {
   "cell_type": "code",
   "execution_count": 56,
   "metadata": {},
   "outputs": [
    {
     "data": {
      "text/plain": [
       "445"
      ]
     },
     "execution_count": 56,
     "metadata": {},
     "output_type": "execute_result"
    }
   ],
   "source": [
    "len(content_list)"
   ]
  },
  {
   "cell_type": "code",
   "execution_count": 132,
   "metadata": {},
   "outputs": [],
   "source": [
    "count = 0\n",
    "all_question_list = []\n",
    "for pages in content_list:\n",
    "    question_list = []\n",
    "    \n",
    "    for sent in pages:\n",
    "        sent = str(sent)\n",
    "        \n",
    "        if re.search(r'\\w+', sent):\n",
    "            #  print(count,\"___\",sent)\n",
    "            item_list = []\n",
    "            content = wakati.parse(sent).strip(\"\\n\").rstrip()\n",
    "            item_list = content.split()\n",
    "            item_list = list(set(item_list))\n",
    "            #print(item_list)\n",
    "            random_item_from_list = random.choice(item_list)\n",
    "            item_list.remove(random_item_from_list)\n",
    "            \n",
    "            question = random.choice(questions_word_list)\n",
    "            random.shuffle(item_list)\n",
    "            item_list.append(question)\n",
    "            question = ' '.join(item_list)\n",
    "            question_list.append([question,count])\n",
    "    count+=1\n",
    "    all_question_list.append(question_list)\n",
    "            \n",
    "#         break   \n",
    "#     break\n",
    "        \n",
    "        "
   ]
  },
  {
   "cell_type": "code",
   "execution_count": 133,
   "metadata": {},
   "outputs": [
    {
     "data": {
      "text/plain": [
       "445"
      ]
     },
     "execution_count": 133,
     "metadata": {},
     "output_type": "execute_result"
    }
   ],
   "source": [
    "len(all_question_list)"
   ]
  },
  {
   "cell_type": "code",
   "execution_count": 134,
   "metadata": {},
   "outputs": [
    {
     "data": {
      "text/plain": [
       "127"
      ]
     },
     "execution_count": 134,
     "metadata": {},
     "output_type": "execute_result"
    }
   ],
   "source": [
    "len(all_question_list[0])"
   ]
  },
  {
   "cell_type": "code",
   "execution_count": 135,
   "metadata": {},
   "outputs": [
    {
     "data": {
      "text/plain": [
       "[['タイトル 順序 MobiControl 設定 サブタイトル 関する情報を教えてください', 0],\n",
       " ['設定 対象 順序 端末 オンプレミス 行い OS 入れられますか', 0],\n",
       " ['MobiControl 設定 コンピュータ iOS 端末 必要 事項 macOS サーバ どうして', 0],\n",
       " ['Domain 必須 Service 接続 サーバ 作成 Directory プロファイル ADDS どちら', 0],\n",
       " ['ADFS AD Service Federation Azure Directory 間 入れられますか', 0],\n",
       " ['Android iOS Modern 支給 Windows 端末 必須 管理 何ですか', 0],\n",
       " ['Microsoft 管理 Apple アカウント 取得 複数 Google 共用 必須 ことは何ですか', 0],\n",
       " ['できる イン 設定 社 Apple 目的 権限 サイト 製品 どの', 0],\n",
       " ['アプリカタログ 購入 使っ App アプリ Play Google ストア 何ですか', 0],\n",
       " ['つ 但し 端末 モード 配布 アカウント Android 必要 なにで', 0],\n",
       " ['WNS PC Windows 企業 不要 管理 アカウント 使っ リモート 使い始めるには', 0],\n",
       " ['沿っ 階層 グループ な 入力 端末 作成 組織 始める方法', 0],\n",
       " ['登録 所定 対象 作成 作業 OS 関する情報を教えてください', 0],\n",
       " ['認証 ユーザ 登録 型式 グループ 端末 ついて教えてください', 0],\n",
       " ['ある つ オプション グループ 登録 設定 に対し 端末 どう', 0],\n",
       " ['作成 対象 方法 設定 によって 可能 OS どこ', 0],\n",
       " ['結構 に関する 異なる 端末 順序 項目 変え 設定 どちら', 0],\n",
       " ['作成 メール 情報 設定 構成 対策 WiFi 漏洩 プロファイル 入れられますか', 0],\n",
       " ['対象 OS 端末 設定 どこですか', 0],\n",
       " ['アプリ 登録 対象 インストール 端末 作成 アプリカタログルール OS 始める方法', 0],\n",
       " ['OS 除く ドキュメント 端末 画像 Apple 対象 動画 どっち', 0],\n",
       " ['配付 Android 挙動 iOS 設定 項 端末 使いたいです', 0],\n",
       " ['また 項 なく 完了 登録 可能 端末 どんな', 0],\n",
       " ['OS 追加 設定 対象 変更 可能 端末 使うには', 0],\n",
       " ['分野 クリック メニュー 設定 ページ インデックス 端末 説明 使い始める方法を教えてください', 0],\n",
       " ['プロファイル 登録 端末 MobiControl サーバ 詳しく 構成 設定 詳細 何が', 0],\n",
       " ['作成 ID URL 生成 概要 端末 登録 何ですか', 0],\n",
       " ['れ 端末 所定 入力 グループ 登録 URL 何ですか', 0],\n",
       " ['ID また ソフト MobiControl によって エージェント ダウンロード 端末 OS 何が', 0],\n",
       " ['登録 入力 エージェント 端末 グループ コンソール 生成 れ ことは何ですか', 0],\n",
       " ['フォルダ ファイル れ INI 同時に インストーラ Setup エージェント 同じ どっち', 0],\n",
       " ['INI ファイル 所定 エージェント 配置 インストール Setup グループ 登録 どこ', 0],\n",
       " ['登録 URL ファイル Setup INI により 端末 れ どちら', 0],\n",
       " ['続け MobiControl アクセス デプロイメントサーバ 知り 登録 URL 使い始める方法を教えてください', 0],\n",
       " ['自ら 端末 一意的 Setup シリアル INI 対応 登録 使いたいです', 0],\n",
       " ['端末 番号 なる 属性 登録 情報 申告 開発を開始する場所', 0],\n",
       " ['登録 属性 き グループ アクセス 端末 はつ 入れられますか', 0],\n",
       " ['グループ 端末 サーバ MobiControl 情報 所定 保存 フォルダ 使いたいです', 0],\n",
       " ['に関して セットアップ クリック インデックス 登録 完了 操作 使い始めるには', 0],\n",
       " ['説明 初期 必要 設定 ページ 参照 端末 なにで', 0],\n",
       " ['設定 対象 Android OS 端末 レベル 管理 iOS ことは何ですか', 0],\n",
       " ['Modern PC ADFS Windows ADDS 必須 認証 い 何ですか', 0],\n",
       " ['一方 使用 managed 設定 アカウント Google どんな', 0],\n",
       " ['必須 データ ませ ADDS 認証 アカウント ん GooglePlay ADFS どうでしたか', 0],\n",
       " ['必要 送付 デバイス コンテンツ また モバイル PC データ どんな', 0],\n",
       " ['コンテンツ MobiControl デバイス モバイル 入手 という たい 社内 操作 ついて教えてください', 0],\n",
       " ['ファイル コンテンツ イントラネットゲートウェイ 同期 運用 用意 ライブラリ どこですか', 0],\n",
       " ['サーバ スケジュール 間 特定 端末 自動的 送受 方法 フォルダ どんな', 0],\n",
       " ['端末 iOS アプリ データ 生成 使う 使い始める方法を教えてください', 0],\n",
       " ['ユーザ コンテンツ 対象 動画 写真 どの 文書 ダウンロード どうでしたか', 0],\n",
       " ['持っ コンテンツ 意図 向け ライブラリ アップ モバイル 任意 端末 何ですか', 0],\n",
       " ['おく 写真 ある 必要 コンテンツ 社内 文書 動画 ファイル 使い始めるには', 0],\n",
       " ['意図 サーバ 端末 モバイル リポジトリサーバ 意識 ダウンロード アクセス 始める方法', 0],\n",
       " ['コンテンツ 保存 ファイル よい ば せ サーバ おけ どの', 0],\n",
       " ['た iOS サーバ 仕様 WebDAV 傘下 フォルダ アドオン アプリ 何ですか', 0],\n",
       " ['コンテンツ 対象 形式 任意 指定 AndroidWindows ダウンロード フォルダ 可能 作りたい', 0],\n",
       " ['モバイル 問わ 業務 PC 端末 配布 アプリ 使用しますか', 0],\n",
       " ['MobiControl 配布 アプリ い アプリカタログ 必要 パッケージ 用意 使いたいです', 0],\n",
       " ['れ ン アプリ 端末 名前 表示 開く アイコ 使い始めるには', 0],\n",
       " ['ユーザ リンク アプリ インストール ダウンロード 選択 端末 MobiControl どうでしたか', 0],\n",
       " ['アプリインストーラ スクリプト アプリ により 挿入 使っ パッケージ 何が', 0],\n",
       " ['前 操作 必要 インストール な 可能 また 実行 ことは何ですか', 0],\n",
       " ['終了 アプリ 例えば 実行 前 アン 同じ バージョン 始める方法', 0],\n",
       " ['アプリ 表示 開発 メッセージ 社内 公開 画面 端末 どうですか', 0],\n",
       " ['限り アプリ ストア 配布 Play Google 公開 どこ', 0],\n",
       " ['指し MobiControl アプリカタログ なる 公開 パッケージ Windows ダウンロード アプリ 何ができますか', 0],\n",
       " ['PCWindows 社内 EnterpriseWindows アプリダウンロード アプリ iOSAndroid PlusAndroid サーバ 作りたい',\n",
       "  0],\n",
       " ['色 EmbeddedLinux インストール サイレント 可能 背景 表 使いたいです', 0],\n",
       " ['ダウンロード ず れ 端末 インストール ユーザ 操作 アプリ 業務 どうでしたか', 0],\n",
       " ['アプリカタログ 展開 な 迅速 サイレント 注 アプリ バージョンアップ インストール ことは何ですか', 0],\n",
       " ['配布 公開 必須 必要 サイレント オプション インストール おく アプリ 使うには', 0],\n",
       " ['VPP 監視 契約 デバイス タイプ モード 端末 App ストア ついて教えてください', 0],\n",
       " ['ストア Google Android Enterprise アプリ 限り アップ Play 社内 使い始めるには', 0],\n",
       " ['社内 使っ 配布 限定 ロード おく 配慮 アプリカタログ 使い始めるには', 0],\n",
       " ['ん 必須 必要 ませ 設定 MobiControl オプション ことは何ですか', 0],\n",
       " ['内部 WebDAV 可用性 拡がり イントラネット SharePoint リポジトリサーバ 社外 アクセス ことは何ですか', 0],\n",
       " ['ステータス 端末 Android 自分 適用 iOS ウェイ どんな', 0],\n",
       " ['タブレット 視る ユーザ 自身 スマホ PC 対象 どこ', 0],\n",
       " ['制御 端末 MobiControl 権限 紛失 サーバ リモート コンソール どっち', 0],\n",
       " ['MS 機能 付託 アクセス サーバ 対象 Exchange ユーザ 不法 構築するにはどうすればよいですか', 0],\n",
       " ['及び Android 参考 Embedded 端末 Windows 使い始める方法を教えてください', 0],\n",
       " ['Co ご Translated by Limits Copyright © 情報 Penetrate どの', 0],\n",
       " ['MobiControl WordPress Manual Tokyo v Ltd © 設定 どう', 0],\n",
       " ['端末 対象 な MobiControl 必要 サーバ オンプレミス 順序 OS 作りたい', 0],\n",
       " ['作成 接続 iOS 事項 macOS プロファイル 端末 ADDS コンピュータ 使い始めるには', 0],\n",
       " ['Directory Active ADFS Service サーバ Domain Federation どうして', 0],\n",
       " ['Service Windows Modern Azure AD 必須 間 何ですか', 0],\n",
       " ['支給 会社 Android 必須 Apple 複数 共用 従業 端末 使い始めるには', 0],\n",
       " ['社 Google 取得 目的 サイト イン Microsoft サイン Apple 管理 開発を開始する場所', 0],\n",
       " ['アプリ 設定 Apple App 権限 できる 購入 managed 製品 どの', 0],\n",
       " ['アカウント アプリ 必要 アプリカタログ 但し つ Google 使っ Play 使い始める方法を教えてください', 0],\n",
       " ['不要 使っ 設定 WNS Plus アカウント Android モード ついて教えてください', 0],\n",
       " ['組織 団体 企業 Windows 管理 階層 リモート PC 沿っ ついて教えてください', 0],\n",
       " ['OS 作業 端末 作成 入力 グループ 組織 対象 どうでしたか', 0],\n",
       " ['目的 グループ 登録 所定 端末 どっち', 0],\n",
       " ['ユーザ つ ある 端末 オプション 設定 認証 関する情報を教えてください', 0],\n",
       " ['端末 複数 対象 OS グループ 可能 登録 設定 なにで', 0],\n",
       " ['OS 端末 設定 に関する 作成 異なる 方法 によって 作りたい', 0],\n",
       " ['項目 結構 設定 プロファイル 順序 作成 変え 漏洩 情報 どこ', 0],\n",
       " ['VPN 対策 OS 端末 詳細 設定 メール WiFi ことは何ですか', 0],\n",
       " ['設定 登録 作成 アプリカタログルール 対象 端末 どちら', 0],\n",
       " ['インストール OS Apple 対象 除く アプリ 端末 製品 使い始めるには', 0],\n",
       " ['端末 対象 Android iOS 配付 ドキュメント 動画 何が', 0],\n",
       " ['登録 なく い 端末 対象 挙動 項 完了 ついて教えてください', 0],\n",
       " ['追加 端末 項 登録 可能 変更 また 使うには', 0],\n",
       " ['設定 インデックス 対象 説明 端末 ページ 方法 クリック 何が', 0],\n",
       " ['構成 設定 詳しく メニュー 詳細 端末 分野 プロファイル どんな', 0],\n",
       " ['MobiControl 参照 概要 ID 端末 登録 URL 使用しますか', 0],\n",
       " ['知り Setup により デプロイメントサーバ INI URL アクセス 端末 ファイル ことは何ですか', 0],\n",
       " ['INI 続け Setup URL ID ファイル 対応 登録 何が', 0],\n",
       " ['情報 属性 つ 番号 シリアル 申告 自ら 登録 入れられますか', 0],\n",
       " ['はつ 端末 なる グループ 始める方法', 0],\n",
       " ['所定 マネージメント 属性 き 端末 た サーバ 情報 MobiControl どこですか', 0],\n",
       " ['端末 に関して 完了 フォルダ グループ 保存 開発を開始する場所', 0],\n",
       " ['インデックス セットアップ 操作 クリック データ 説明 参照 端末 ページ どこですか', 0],\n",
       " ['運用 ファイル 方法 サーバ フォルダ 送付 特定 端末 間 入れられますか', 0],\n",
       " ['使う iOS スケジュール 基づき アプリ 送受 自動的 端末 使い始める方法を教えてください', 0],\n",
       " ['文書 端末 データ 動画 コンテンツ 対象 どの アプリ 生成 使い始めるには', 0],\n",
       " ['コンテンツ 端末 モバイル 持っ 意図 ダウンロード 向け ユーザ どうですか', 0],\n",
       " ['必要 コンテンツ 写真 ライブラリ おく 文書 予め ロード ある どの', 0],\n",
       " ['ダウンロード ファイル 動画 アクセス 社内 リポジトリサーバ モバイル コンテンツ 端末 どこですか', 0],\n",
       " ['せ 意識 ず 端末 保存 意図 サーバ ファイル コンテンツ どんな', 0],\n",
       " ['iOS ば おけ WebDAV アドオン よい SharePoint ファイル 仕様 使い始めるには', 0],\n",
       " ['任意 対象 た フォルダ アプリ 系 AndroidWindows ダウンロード 入れられますか', 0],\n",
       " ['ない コンテンツ 配布 アプリ アプリカタログ 問わ 形式 可能 指定 使い始める方法を教えてください', 0],\n",
       " ['サーバ 限り アプリダウンロード パッケージ 公開 社内 PlusAndroid アプリ なにで', 0],\n",
       " ['PCWindows EnterpriseWindows EmbeddedLinux 設定 どうですか', 0]]"
      ]
     },
     "execution_count": 135,
     "metadata": {},
     "output_type": "execute_result"
    }
   ],
   "source": [
    "all_question_list[0]"
   ]
  },
  {
   "cell_type": "code",
   "execution_count": 140,
   "metadata": {},
   "outputs": [
    {
     "data": {
      "text/html": [
       "<div>\n",
       "<style scoped>\n",
       "    .dataframe tbody tr th:only-of-type {\n",
       "        vertical-align: middle;\n",
       "    }\n",
       "\n",
       "    .dataframe tbody tr th {\n",
       "        vertical-align: top;\n",
       "    }\n",
       "\n",
       "    .dataframe thead th {\n",
       "        text-align: right;\n",
       "    }\n",
       "</style>\n",
       "<table border=\"1\" class=\"dataframe\">\n",
       "  <thead>\n",
       "    <tr style=\"text-align: right;\">\n",
       "      <th></th>\n",
       "      <th>Question</th>\n",
       "      <th>PageID</th>\n",
       "    </tr>\n",
       "  </thead>\n",
       "  <tbody>\n",
       "    <tr>\n",
       "      <th>0</th>\n",
       "      <td>タイトル 順序 MobiControl 設定 サブタイトル 関する情報を教えてください</td>\n",
       "      <td>0</td>\n",
       "    </tr>\n",
       "    <tr>\n",
       "      <th>1</th>\n",
       "      <td>設定 対象 順序 端末 オンプレミス 行い OS 入れられますか</td>\n",
       "      <td>0</td>\n",
       "    </tr>\n",
       "    <tr>\n",
       "      <th>2</th>\n",
       "      <td>MobiControl 設定 コンピュータ iOS 端末 必要 事項 macOS サーバ どうして</td>\n",
       "      <td>0</td>\n",
       "    </tr>\n",
       "    <tr>\n",
       "      <th>3</th>\n",
       "      <td>Domain 必須 Service 接続 サーバ 作成 Directory プロファイル A...</td>\n",
       "      <td>0</td>\n",
       "    </tr>\n",
       "    <tr>\n",
       "      <th>4</th>\n",
       "      <td>ADFS AD Service Federation Azure Directory 間 入...</td>\n",
       "      <td>0</td>\n",
       "    </tr>\n",
       "  </tbody>\n",
       "</table>\n",
       "</div>"
      ],
      "text/plain": [
       "                                            Question  PageID\n",
       "0        タイトル 順序 MobiControl 設定 サブタイトル 関する情報を教えてください       0\n",
       "1                   設定 対象 順序 端末 オンプレミス 行い OS 入れられますか       0\n",
       "2  MobiControl 設定 コンピュータ iOS 端末 必要 事項 macOS サーバ どうして       0\n",
       "3  Domain 必須 Service 接続 サーバ 作成 Directory プロファイル A...       0\n",
       "4  ADFS AD Service Federation Azure Directory 間 入...       0"
      ]
     },
     "execution_count": 140,
     "metadata": {},
     "output_type": "execute_result"
    }
   ],
   "source": [
    "labels = []\n",
    "text_list = []\n",
    "for i in all_question_list:\n",
    "    for j in i:\n",
    "        text_list.append(j[0])\n",
    "        labels.append(j[1])\n",
    "dataset = pd.DataFrame(zip(text_list, labels), columns=['Question','PageID'])\n",
    "dataset.head()"
   ]
  },
  {
   "cell_type": "code",
   "execution_count": null,
   "metadata": {},
   "outputs": [],
   "source": [
    "len(dataset)"
   ]
  },
  {
   "cell_type": "code",
   "execution_count": 204,
   "metadata": {},
   "outputs": [],
   "source": [
    "\n",
    "def api_request(query):\n",
    "    api_url = 'http://127.0.0.1:5000/api/v1.0/predict/'\n",
    "\n",
    "    response = requests.post(api_url, \n",
    "                  data=[('output_dir', '/home/iftekhar/amiebot/Resources/876/model'),\n",
    "                        ('data_dir', '/home/iftekhar/amiebot/Resources/876/data'),\n",
    "                        ('agent_id', '-1'),\n",
    "                        ('query', query),\n",
    "                        ('max_answer', '3'),\n",
    "                        ('user_nm', 'abc')\n",
    "                       ]\n",
    "                 )\n",
    "    return response"
   ]
  },
  {
   "cell_type": "markdown",
   "metadata": {},
   "source": [
    "#### Mean Reciprocal Rank is a measure to evaluate systems that return a ranked list of answers to queries. Actual_answer = [10] Predicted_answer=[20, 10, 100], Score=1/2,  if Predicted_answer=[10, 20, 100], score = 1, if Predicted_answer=[20, 100, 10], score = 1/3, and Predicted_answer=[20, 1020, 100], score=0, Then cumulative score is the total_accuracy https://en.wikipedia.org/wiki/Mean_reciprocal_rank\n"
   ]
  },
  {
   "cell_type": "code",
   "execution_count": 241,
   "metadata": {},
   "outputs": [],
   "source": [
    "def Mean_reciprocal_rank_score(actual_answer, predicted_answers):\n",
    "    pos = 0\n",
    "    val = 0\n",
    "    for i in predicted_answers:\n",
    "        if i == actual_answer and pos==0:\n",
    "            val = 1\n",
    "            break\n",
    "        elif i == actual_answer and pos==1:\n",
    "            val = 0.5\n",
    "            break\n",
    "        elif i == actual_answer and pos==2:\n",
    "            val = 0.33\n",
    "            break\n",
    "        else:\n",
    "            val = 0\n",
    "        pos+=1\n",
    "    \n",
    "    return val"
   ]
  },
  {
   "cell_type": "code",
   "execution_count": 243,
   "metadata": {},
   "outputs": [
    {
     "ename": "KeyboardInterrupt",
     "evalue": "",
     "output_type": "error",
     "traceback": [
      "\u001b[0;31m---------------------------------------------------------------------------\u001b[0m",
      "\u001b[0;31mKeyboardInterrupt\u001b[0m                         Traceback (most recent call last)",
      "\u001b[0;32m<ipython-input-243-87d25b159a97>\u001b[0m in \u001b[0;36m<module>\u001b[0;34m\u001b[0m\n\u001b[1;32m      4\u001b[0m \u001b[0mcontainer\u001b[0m\u001b[0;34m=\u001b[0m\u001b[0;34m[\u001b[0m\u001b[0;34m]\u001b[0m\u001b[0;34m\u001b[0m\u001b[0;34m\u001b[0m\u001b[0m\n\u001b[1;32m      5\u001b[0m \u001b[0;32mfor\u001b[0m \u001b[0mindex\u001b[0m\u001b[0;34m,\u001b[0m \u001b[0mcol\u001b[0m \u001b[0;32min\u001b[0m \u001b[0mdataset\u001b[0m\u001b[0;34m.\u001b[0m\u001b[0miterrows\u001b[0m\u001b[0;34m(\u001b[0m\u001b[0;34m)\u001b[0m\u001b[0;34m:\u001b[0m\u001b[0;34m\u001b[0m\u001b[0;34m\u001b[0m\u001b[0m\n\u001b[0;32m----> 6\u001b[0;31m     \u001b[0mresponse\u001b[0m \u001b[0;34m=\u001b[0m \u001b[0mapi_request\u001b[0m\u001b[0;34m(\u001b[0m\u001b[0mstr\u001b[0m\u001b[0;34m(\u001b[0m\u001b[0mcol\u001b[0m\u001b[0;34m[\u001b[0m\u001b[0;34m'Question'\u001b[0m\u001b[0;34m]\u001b[0m\u001b[0;34m)\u001b[0m\u001b[0;34m)\u001b[0m\u001b[0;34m\u001b[0m\u001b[0;34m\u001b[0m\u001b[0m\n\u001b[0m\u001b[1;32m      7\u001b[0m \u001b[0;31m#     time.sleep(1)\u001b[0m\u001b[0;34m\u001b[0m\u001b[0;34m\u001b[0m\u001b[0;34m\u001b[0m\u001b[0m\n\u001b[1;32m      8\u001b[0m     \u001b[0mresponse\u001b[0m\u001b[0;34m.\u001b[0m\u001b[0mencoding\u001b[0m\u001b[0;34m=\u001b[0m\u001b[0;34m'utf-8'\u001b[0m\u001b[0;34m\u001b[0m\u001b[0;34m\u001b[0m\u001b[0m\n",
      "\u001b[0;32m<ipython-input-204-95002a654149>\u001b[0m in \u001b[0;36mapi_request\u001b[0;34m(query)\u001b[0m\n\u001b[1;32m      8\u001b[0m                         \u001b[0;34m(\u001b[0m\u001b[0;34m'query'\u001b[0m\u001b[0;34m,\u001b[0m \u001b[0mquery\u001b[0m\u001b[0;34m)\u001b[0m\u001b[0;34m,\u001b[0m\u001b[0;34m\u001b[0m\u001b[0;34m\u001b[0m\u001b[0m\n\u001b[1;32m      9\u001b[0m                         \u001b[0;34m(\u001b[0m\u001b[0;34m'max_answer'\u001b[0m\u001b[0;34m,\u001b[0m \u001b[0;34m'3'\u001b[0m\u001b[0;34m)\u001b[0m\u001b[0;34m,\u001b[0m\u001b[0;34m\u001b[0m\u001b[0;34m\u001b[0m\u001b[0m\n\u001b[0;32m---> 10\u001b[0;31m                         \u001b[0;34m(\u001b[0m\u001b[0;34m'user_nm'\u001b[0m\u001b[0;34m,\u001b[0m \u001b[0;34m'abc'\u001b[0m\u001b[0;34m)\u001b[0m\u001b[0;34m\u001b[0m\u001b[0;34m\u001b[0m\u001b[0m\n\u001b[0m\u001b[1;32m     11\u001b[0m                        ]\n\u001b[1;32m     12\u001b[0m                  )\n",
      "\u001b[0;32m~/amiebot/experiment_env/lib/python3.6/site-packages/requests/api.py\u001b[0m in \u001b[0;36mpost\u001b[0;34m(url, data, json, **kwargs)\u001b[0m\n\u001b[1;32m    117\u001b[0m     \"\"\"\n\u001b[1;32m    118\u001b[0m \u001b[0;34m\u001b[0m\u001b[0m\n\u001b[0;32m--> 119\u001b[0;31m     \u001b[0;32mreturn\u001b[0m \u001b[0mrequest\u001b[0m\u001b[0;34m(\u001b[0m\u001b[0;34m'post'\u001b[0m\u001b[0;34m,\u001b[0m \u001b[0murl\u001b[0m\u001b[0;34m,\u001b[0m \u001b[0mdata\u001b[0m\u001b[0;34m=\u001b[0m\u001b[0mdata\u001b[0m\u001b[0;34m,\u001b[0m \u001b[0mjson\u001b[0m\u001b[0;34m=\u001b[0m\u001b[0mjson\u001b[0m\u001b[0;34m,\u001b[0m \u001b[0;34m**\u001b[0m\u001b[0mkwargs\u001b[0m\u001b[0;34m)\u001b[0m\u001b[0;34m\u001b[0m\u001b[0;34m\u001b[0m\u001b[0m\n\u001b[0m\u001b[1;32m    120\u001b[0m \u001b[0;34m\u001b[0m\u001b[0m\n\u001b[1;32m    121\u001b[0m \u001b[0;34m\u001b[0m\u001b[0m\n",
      "\u001b[0;32m~/amiebot/experiment_env/lib/python3.6/site-packages/requests/api.py\u001b[0m in \u001b[0;36mrequest\u001b[0;34m(method, url, **kwargs)\u001b[0m\n\u001b[1;32m     59\u001b[0m     \u001b[0;31m# cases, and look like a memory leak in others.\u001b[0m\u001b[0;34m\u001b[0m\u001b[0;34m\u001b[0m\u001b[0;34m\u001b[0m\u001b[0m\n\u001b[1;32m     60\u001b[0m     \u001b[0;32mwith\u001b[0m \u001b[0msessions\u001b[0m\u001b[0;34m.\u001b[0m\u001b[0mSession\u001b[0m\u001b[0;34m(\u001b[0m\u001b[0;34m)\u001b[0m \u001b[0;32mas\u001b[0m \u001b[0msession\u001b[0m\u001b[0;34m:\u001b[0m\u001b[0;34m\u001b[0m\u001b[0;34m\u001b[0m\u001b[0m\n\u001b[0;32m---> 61\u001b[0;31m         \u001b[0;32mreturn\u001b[0m \u001b[0msession\u001b[0m\u001b[0;34m.\u001b[0m\u001b[0mrequest\u001b[0m\u001b[0;34m(\u001b[0m\u001b[0mmethod\u001b[0m\u001b[0;34m=\u001b[0m\u001b[0mmethod\u001b[0m\u001b[0;34m,\u001b[0m \u001b[0murl\u001b[0m\u001b[0;34m=\u001b[0m\u001b[0murl\u001b[0m\u001b[0;34m,\u001b[0m \u001b[0;34m**\u001b[0m\u001b[0mkwargs\u001b[0m\u001b[0;34m)\u001b[0m\u001b[0;34m\u001b[0m\u001b[0;34m\u001b[0m\u001b[0m\n\u001b[0m\u001b[1;32m     62\u001b[0m \u001b[0;34m\u001b[0m\u001b[0m\n\u001b[1;32m     63\u001b[0m \u001b[0;34m\u001b[0m\u001b[0m\n",
      "\u001b[0;32m~/amiebot/experiment_env/lib/python3.6/site-packages/requests/sessions.py\u001b[0m in \u001b[0;36mrequest\u001b[0;34m(self, method, url, params, data, headers, cookies, files, auth, timeout, allow_redirects, proxies, hooks, stream, verify, cert, json)\u001b[0m\n\u001b[1;32m    528\u001b[0m         }\n\u001b[1;32m    529\u001b[0m         \u001b[0msend_kwargs\u001b[0m\u001b[0;34m.\u001b[0m\u001b[0mupdate\u001b[0m\u001b[0;34m(\u001b[0m\u001b[0msettings\u001b[0m\u001b[0;34m)\u001b[0m\u001b[0;34m\u001b[0m\u001b[0;34m\u001b[0m\u001b[0m\n\u001b[0;32m--> 530\u001b[0;31m         \u001b[0mresp\u001b[0m \u001b[0;34m=\u001b[0m \u001b[0mself\u001b[0m\u001b[0;34m.\u001b[0m\u001b[0msend\u001b[0m\u001b[0;34m(\u001b[0m\u001b[0mprep\u001b[0m\u001b[0;34m,\u001b[0m \u001b[0;34m**\u001b[0m\u001b[0msend_kwargs\u001b[0m\u001b[0;34m)\u001b[0m\u001b[0;34m\u001b[0m\u001b[0;34m\u001b[0m\u001b[0m\n\u001b[0m\u001b[1;32m    531\u001b[0m \u001b[0;34m\u001b[0m\u001b[0m\n\u001b[1;32m    532\u001b[0m         \u001b[0;32mreturn\u001b[0m \u001b[0mresp\u001b[0m\u001b[0;34m\u001b[0m\u001b[0;34m\u001b[0m\u001b[0m\n",
      "\u001b[0;32m~/amiebot/experiment_env/lib/python3.6/site-packages/requests/sessions.py\u001b[0m in \u001b[0;36msend\u001b[0;34m(self, request, **kwargs)\u001b[0m\n\u001b[1;32m    641\u001b[0m \u001b[0;34m\u001b[0m\u001b[0m\n\u001b[1;32m    642\u001b[0m         \u001b[0;31m# Send the request\u001b[0m\u001b[0;34m\u001b[0m\u001b[0;34m\u001b[0m\u001b[0;34m\u001b[0m\u001b[0m\n\u001b[0;32m--> 643\u001b[0;31m         \u001b[0mr\u001b[0m \u001b[0;34m=\u001b[0m \u001b[0madapter\u001b[0m\u001b[0;34m.\u001b[0m\u001b[0msend\u001b[0m\u001b[0;34m(\u001b[0m\u001b[0mrequest\u001b[0m\u001b[0;34m,\u001b[0m \u001b[0;34m**\u001b[0m\u001b[0mkwargs\u001b[0m\u001b[0;34m)\u001b[0m\u001b[0;34m\u001b[0m\u001b[0;34m\u001b[0m\u001b[0m\n\u001b[0m\u001b[1;32m    644\u001b[0m \u001b[0;34m\u001b[0m\u001b[0m\n\u001b[1;32m    645\u001b[0m         \u001b[0;31m# Total elapsed time of the request (approximately)\u001b[0m\u001b[0;34m\u001b[0m\u001b[0;34m\u001b[0m\u001b[0;34m\u001b[0m\u001b[0m\n",
      "\u001b[0;32m~/amiebot/experiment_env/lib/python3.6/site-packages/requests/adapters.py\u001b[0m in \u001b[0;36msend\u001b[0;34m(self, request, stream, timeout, verify, cert, proxies)\u001b[0m\n\u001b[1;32m    447\u001b[0m                     \u001b[0mdecode_content\u001b[0m\u001b[0;34m=\u001b[0m\u001b[0;32mFalse\u001b[0m\u001b[0;34m,\u001b[0m\u001b[0;34m\u001b[0m\u001b[0;34m\u001b[0m\u001b[0m\n\u001b[1;32m    448\u001b[0m                     \u001b[0mretries\u001b[0m\u001b[0;34m=\u001b[0m\u001b[0mself\u001b[0m\u001b[0;34m.\u001b[0m\u001b[0mmax_retries\u001b[0m\u001b[0;34m,\u001b[0m\u001b[0;34m\u001b[0m\u001b[0;34m\u001b[0m\u001b[0m\n\u001b[0;32m--> 449\u001b[0;31m                     \u001b[0mtimeout\u001b[0m\u001b[0;34m=\u001b[0m\u001b[0mtimeout\u001b[0m\u001b[0;34m\u001b[0m\u001b[0;34m\u001b[0m\u001b[0m\n\u001b[0m\u001b[1;32m    450\u001b[0m                 )\n\u001b[1;32m    451\u001b[0m \u001b[0;34m\u001b[0m\u001b[0m\n",
      "\u001b[0;32m~/amiebot/experiment_env/lib/python3.6/site-packages/urllib3/connectionpool.py\u001b[0m in \u001b[0;36murlopen\u001b[0;34m(self, method, url, body, headers, retries, redirect, assert_same_host, timeout, pool_timeout, release_conn, chunked, body_pos, **response_kw)\u001b[0m\n\u001b[1;32m    670\u001b[0m                 \u001b[0mbody\u001b[0m\u001b[0;34m=\u001b[0m\u001b[0mbody\u001b[0m\u001b[0;34m,\u001b[0m\u001b[0;34m\u001b[0m\u001b[0;34m\u001b[0m\u001b[0m\n\u001b[1;32m    671\u001b[0m                 \u001b[0mheaders\u001b[0m\u001b[0;34m=\u001b[0m\u001b[0mheaders\u001b[0m\u001b[0;34m,\u001b[0m\u001b[0;34m\u001b[0m\u001b[0;34m\u001b[0m\u001b[0m\n\u001b[0;32m--> 672\u001b[0;31m                 \u001b[0mchunked\u001b[0m\u001b[0;34m=\u001b[0m\u001b[0mchunked\u001b[0m\u001b[0;34m,\u001b[0m\u001b[0;34m\u001b[0m\u001b[0;34m\u001b[0m\u001b[0m\n\u001b[0m\u001b[1;32m    673\u001b[0m             )\n\u001b[1;32m    674\u001b[0m \u001b[0;34m\u001b[0m\u001b[0m\n",
      "\u001b[0;32m~/amiebot/experiment_env/lib/python3.6/site-packages/urllib3/connectionpool.py\u001b[0m in \u001b[0;36m_make_request\u001b[0;34m(self, conn, method, url, timeout, chunked, **httplib_request_kw)\u001b[0m\n\u001b[1;32m    419\u001b[0m                     \u001b[0;31m# Python 3 (including for exceptions like SystemExit).\u001b[0m\u001b[0;34m\u001b[0m\u001b[0;34m\u001b[0m\u001b[0;34m\u001b[0m\u001b[0m\n\u001b[1;32m    420\u001b[0m                     \u001b[0;31m# Otherwise it looks like a bug in the code.\u001b[0m\u001b[0;34m\u001b[0m\u001b[0;34m\u001b[0m\u001b[0;34m\u001b[0m\u001b[0m\n\u001b[0;32m--> 421\u001b[0;31m                     \u001b[0msix\u001b[0m\u001b[0;34m.\u001b[0m\u001b[0mraise_from\u001b[0m\u001b[0;34m(\u001b[0m\u001b[0me\u001b[0m\u001b[0;34m,\u001b[0m \u001b[0;32mNone\u001b[0m\u001b[0;34m)\u001b[0m\u001b[0;34m\u001b[0m\u001b[0;34m\u001b[0m\u001b[0m\n\u001b[0m\u001b[1;32m    422\u001b[0m         \u001b[0;32mexcept\u001b[0m \u001b[0;34m(\u001b[0m\u001b[0mSocketTimeout\u001b[0m\u001b[0;34m,\u001b[0m \u001b[0mBaseSSLError\u001b[0m\u001b[0;34m,\u001b[0m \u001b[0mSocketError\u001b[0m\u001b[0;34m)\u001b[0m \u001b[0;32mas\u001b[0m \u001b[0me\u001b[0m\u001b[0;34m:\u001b[0m\u001b[0;34m\u001b[0m\u001b[0;34m\u001b[0m\u001b[0m\n\u001b[1;32m    423\u001b[0m             \u001b[0mself\u001b[0m\u001b[0;34m.\u001b[0m\u001b[0m_raise_timeout\u001b[0m\u001b[0;34m(\u001b[0m\u001b[0merr\u001b[0m\u001b[0;34m=\u001b[0m\u001b[0me\u001b[0m\u001b[0;34m,\u001b[0m \u001b[0murl\u001b[0m\u001b[0;34m=\u001b[0m\u001b[0murl\u001b[0m\u001b[0;34m,\u001b[0m \u001b[0mtimeout_value\u001b[0m\u001b[0;34m=\u001b[0m\u001b[0mread_timeout\u001b[0m\u001b[0;34m)\u001b[0m\u001b[0;34m\u001b[0m\u001b[0;34m\u001b[0m\u001b[0m\n",
      "\u001b[0;32m~/amiebot/experiment_env/lib/python3.6/site-packages/urllib3/packages/six.py\u001b[0m in \u001b[0;36mraise_from\u001b[0;34m(value, from_value)\u001b[0m\n",
      "\u001b[0;32m~/amiebot/experiment_env/lib/python3.6/site-packages/urllib3/connectionpool.py\u001b[0m in \u001b[0;36m_make_request\u001b[0;34m(self, conn, method, url, timeout, chunked, **httplib_request_kw)\u001b[0m\n\u001b[1;32m    414\u001b[0m                 \u001b[0;31m# Python 3\u001b[0m\u001b[0;34m\u001b[0m\u001b[0;34m\u001b[0m\u001b[0;34m\u001b[0m\u001b[0m\n\u001b[1;32m    415\u001b[0m                 \u001b[0;32mtry\u001b[0m\u001b[0;34m:\u001b[0m\u001b[0;34m\u001b[0m\u001b[0;34m\u001b[0m\u001b[0m\n\u001b[0;32m--> 416\u001b[0;31m                     \u001b[0mhttplib_response\u001b[0m \u001b[0;34m=\u001b[0m \u001b[0mconn\u001b[0m\u001b[0;34m.\u001b[0m\u001b[0mgetresponse\u001b[0m\u001b[0;34m(\u001b[0m\u001b[0;34m)\u001b[0m\u001b[0;34m\u001b[0m\u001b[0;34m\u001b[0m\u001b[0m\n\u001b[0m\u001b[1;32m    417\u001b[0m                 \u001b[0;32mexcept\u001b[0m \u001b[0mBaseException\u001b[0m \u001b[0;32mas\u001b[0m \u001b[0me\u001b[0m\u001b[0;34m:\u001b[0m\u001b[0;34m\u001b[0m\u001b[0;34m\u001b[0m\u001b[0m\n\u001b[1;32m    418\u001b[0m                     \u001b[0;31m# Remove the TypeError from the exception chain in\u001b[0m\u001b[0;34m\u001b[0m\u001b[0;34m\u001b[0m\u001b[0;34m\u001b[0m\u001b[0m\n",
      "\u001b[0;32m/usr/lib/python3.6/http/client.py\u001b[0m in \u001b[0;36mgetresponse\u001b[0;34m(self)\u001b[0m\n\u001b[1;32m   1344\u001b[0m         \u001b[0;32mtry\u001b[0m\u001b[0;34m:\u001b[0m\u001b[0;34m\u001b[0m\u001b[0;34m\u001b[0m\u001b[0m\n\u001b[1;32m   1345\u001b[0m             \u001b[0;32mtry\u001b[0m\u001b[0;34m:\u001b[0m\u001b[0;34m\u001b[0m\u001b[0;34m\u001b[0m\u001b[0m\n\u001b[0;32m-> 1346\u001b[0;31m                 \u001b[0mresponse\u001b[0m\u001b[0;34m.\u001b[0m\u001b[0mbegin\u001b[0m\u001b[0;34m(\u001b[0m\u001b[0;34m)\u001b[0m\u001b[0;34m\u001b[0m\u001b[0;34m\u001b[0m\u001b[0m\n\u001b[0m\u001b[1;32m   1347\u001b[0m             \u001b[0;32mexcept\u001b[0m \u001b[0mConnectionError\u001b[0m\u001b[0;34m:\u001b[0m\u001b[0;34m\u001b[0m\u001b[0;34m\u001b[0m\u001b[0m\n\u001b[1;32m   1348\u001b[0m                 \u001b[0mself\u001b[0m\u001b[0;34m.\u001b[0m\u001b[0mclose\u001b[0m\u001b[0;34m(\u001b[0m\u001b[0;34m)\u001b[0m\u001b[0;34m\u001b[0m\u001b[0;34m\u001b[0m\u001b[0m\n",
      "\u001b[0;32m/usr/lib/python3.6/http/client.py\u001b[0m in \u001b[0;36mbegin\u001b[0;34m(self)\u001b[0m\n\u001b[1;32m    305\u001b[0m         \u001b[0;31m# read until we get a non-100 response\u001b[0m\u001b[0;34m\u001b[0m\u001b[0;34m\u001b[0m\u001b[0;34m\u001b[0m\u001b[0m\n\u001b[1;32m    306\u001b[0m         \u001b[0;32mwhile\u001b[0m \u001b[0;32mTrue\u001b[0m\u001b[0;34m:\u001b[0m\u001b[0;34m\u001b[0m\u001b[0;34m\u001b[0m\u001b[0m\n\u001b[0;32m--> 307\u001b[0;31m             \u001b[0mversion\u001b[0m\u001b[0;34m,\u001b[0m \u001b[0mstatus\u001b[0m\u001b[0;34m,\u001b[0m \u001b[0mreason\u001b[0m \u001b[0;34m=\u001b[0m \u001b[0mself\u001b[0m\u001b[0;34m.\u001b[0m\u001b[0m_read_status\u001b[0m\u001b[0;34m(\u001b[0m\u001b[0;34m)\u001b[0m\u001b[0;34m\u001b[0m\u001b[0;34m\u001b[0m\u001b[0m\n\u001b[0m\u001b[1;32m    308\u001b[0m             \u001b[0;32mif\u001b[0m \u001b[0mstatus\u001b[0m \u001b[0;34m!=\u001b[0m \u001b[0mCONTINUE\u001b[0m\u001b[0;34m:\u001b[0m\u001b[0;34m\u001b[0m\u001b[0;34m\u001b[0m\u001b[0m\n\u001b[1;32m    309\u001b[0m                 \u001b[0;32mbreak\u001b[0m\u001b[0;34m\u001b[0m\u001b[0;34m\u001b[0m\u001b[0m\n",
      "\u001b[0;32m/usr/lib/python3.6/http/client.py\u001b[0m in \u001b[0;36m_read_status\u001b[0;34m(self)\u001b[0m\n\u001b[1;32m    266\u001b[0m \u001b[0;34m\u001b[0m\u001b[0m\n\u001b[1;32m    267\u001b[0m     \u001b[0;32mdef\u001b[0m \u001b[0m_read_status\u001b[0m\u001b[0;34m(\u001b[0m\u001b[0mself\u001b[0m\u001b[0;34m)\u001b[0m\u001b[0;34m:\u001b[0m\u001b[0;34m\u001b[0m\u001b[0;34m\u001b[0m\u001b[0m\n\u001b[0;32m--> 268\u001b[0;31m         \u001b[0mline\u001b[0m \u001b[0;34m=\u001b[0m \u001b[0mstr\u001b[0m\u001b[0;34m(\u001b[0m\u001b[0mself\u001b[0m\u001b[0;34m.\u001b[0m\u001b[0mfp\u001b[0m\u001b[0;34m.\u001b[0m\u001b[0mreadline\u001b[0m\u001b[0;34m(\u001b[0m\u001b[0m_MAXLINE\u001b[0m \u001b[0;34m+\u001b[0m \u001b[0;36m1\u001b[0m\u001b[0;34m)\u001b[0m\u001b[0;34m,\u001b[0m \u001b[0;34m\"iso-8859-1\"\u001b[0m\u001b[0;34m)\u001b[0m\u001b[0;34m\u001b[0m\u001b[0;34m\u001b[0m\u001b[0m\n\u001b[0m\u001b[1;32m    269\u001b[0m         \u001b[0;32mif\u001b[0m \u001b[0mlen\u001b[0m\u001b[0;34m(\u001b[0m\u001b[0mline\u001b[0m\u001b[0;34m)\u001b[0m \u001b[0;34m>\u001b[0m \u001b[0m_MAXLINE\u001b[0m\u001b[0;34m:\u001b[0m\u001b[0;34m\u001b[0m\u001b[0;34m\u001b[0m\u001b[0m\n\u001b[1;32m    270\u001b[0m             \u001b[0;32mraise\u001b[0m \u001b[0mLineTooLong\u001b[0m\u001b[0;34m(\u001b[0m\u001b[0;34m\"status line\"\u001b[0m\u001b[0;34m)\u001b[0m\u001b[0;34m\u001b[0m\u001b[0;34m\u001b[0m\u001b[0m\n",
      "\u001b[0;32m/usr/lib/python3.6/socket.py\u001b[0m in \u001b[0;36mreadinto\u001b[0;34m(self, b)\u001b[0m\n\u001b[1;32m    584\u001b[0m         \u001b[0;32mwhile\u001b[0m \u001b[0;32mTrue\u001b[0m\u001b[0;34m:\u001b[0m\u001b[0;34m\u001b[0m\u001b[0;34m\u001b[0m\u001b[0m\n\u001b[1;32m    585\u001b[0m             \u001b[0;32mtry\u001b[0m\u001b[0;34m:\u001b[0m\u001b[0;34m\u001b[0m\u001b[0;34m\u001b[0m\u001b[0m\n\u001b[0;32m--> 586\u001b[0;31m                 \u001b[0;32mreturn\u001b[0m \u001b[0mself\u001b[0m\u001b[0;34m.\u001b[0m\u001b[0m_sock\u001b[0m\u001b[0;34m.\u001b[0m\u001b[0mrecv_into\u001b[0m\u001b[0;34m(\u001b[0m\u001b[0mb\u001b[0m\u001b[0;34m)\u001b[0m\u001b[0;34m\u001b[0m\u001b[0;34m\u001b[0m\u001b[0m\n\u001b[0m\u001b[1;32m    587\u001b[0m             \u001b[0;32mexcept\u001b[0m \u001b[0mtimeout\u001b[0m\u001b[0;34m:\u001b[0m\u001b[0;34m\u001b[0m\u001b[0;34m\u001b[0m\u001b[0m\n\u001b[1;32m    588\u001b[0m                 \u001b[0mself\u001b[0m\u001b[0;34m.\u001b[0m\u001b[0m_timeout_occurred\u001b[0m \u001b[0;34m=\u001b[0m \u001b[0;32mTrue\u001b[0m\u001b[0;34m\u001b[0m\u001b[0;34m\u001b[0m\u001b[0m\n",
      "\u001b[0;31mKeyboardInterrupt\u001b[0m: "
     ]
    }
   ],
   "source": [
    "import time \n",
    "c=0\n",
    "sum_score=0\n",
    "container=[]\n",
    "for index, col in dataset.iterrows():\n",
    "    response = api_request(str(col['Question']))\n",
    "#     time.sleep(1)\n",
    "    response.encoding='utf-8'\n",
    "    res = response.json()\n",
    "    y = json.loads(res)\n",
    "    \n",
    "    page_answers = [] \n",
    "    prediction_scores = []\n",
    "    \n",
    "#     print(\"Line: \", c)\n",
    "    \n",
    "    for i in y['page_relevance']:\n",
    "        parsed_text = ' '.join(i['keywords'])       \n",
    "        page_answers.append(i['doc_id'])\n",
    "        prediction_scores.append(i['score'])\n",
    "    \n",
    "    MRR_score = Mean_reciprocal_rank_score(col['PageID'], page_answers)\n",
    "    sum_score+=MRR_score\n",
    "    container.append([MRR_score, col['PageID'], page_answers, prediction_scores, parsed_text, col['Question']])\n",
    "#     print(MRR_score,\",\", col['PageID'], \",\",page_answers,\",\",prediction_scores,\",\", parsed_text, \",\", col['Question'])\n",
    "    \n",
    "#     if c>10:\n",
    "#         break\n",
    "    c+=1\n",
    "Total_accuracy = sum_score/c  "
   ]
  },
  {
   "cell_type": "code",
   "execution_count": 250,
   "metadata": {},
   "outputs": [],
   "source": [
    "    score_list=[]\n",
    "    actual_answer_list = []\n",
    "    page_answers_list = []\n",
    "    prediction_scores = []\n",
    "    prediction_text = []\n",
    "    query_list = []\n",
    "\n",
    "    for items in container:\n",
    "        score_list.append(items[0])\n",
    "        actual_answer_list.append(items[1])\n",
    "        page_answers_list.append(items[2])\n",
    "        prediction_scores.append(items[3])\n",
    "        prediction_text.append(items[4])\n",
    "        query_list.append(items[5])\n",
    "\n",
    "    d = pd.DataFrame()\n",
    "    d['score'] = score_list \n",
    "    d['actual_answer'] = actual_answer_list\n",
    "    d['page_answers'] = page_answers_list\n",
    "    d['prediction_scores'] = prediction_scores\n",
    "    d['prediction_text'] = prediction_text\n",
    "    d['query_list'] = query_list\n"
   ]
  },
  {
   "cell_type": "code",
   "execution_count": 252,
   "metadata": {},
   "outputs": [],
   "source": [
    "d.head()\n",
    "    d.to_csv('performance.csv')"
   ]
  },
  {
   "cell_type": "code",
   "execution_count": 248,
   "metadata": {},
   "outputs": [
    {
     "data": {
      "text/plain": [
       "[1,\n",
       " 0,\n",
       " [0, 188, 112],\n",
       " [21.047790171749877, 14.66680545792326, 14.636287632112722],\n",
       " 'タイトル 順序 mobicontrol 設定 情報',\n",
       " 'タイトル 順序 MobiControl 設定 サブタイトル 関する情報を教えてください']"
      ]
     },
     "execution_count": 248,
     "metadata": {},
     "output_type": "execute_result"
    }
   ],
   "source": [
    "container[0]"
   ]
  },
  {
   "cell_type": "code",
   "execution_count": 213,
   "metadata": {},
   "outputs": [
    {
     "data": {
      "text/plain": [
       "[15, 362, 223]"
      ]
     },
     "execution_count": 213,
     "metadata": {},
     "output_type": "execute_result"
    }
   ],
   "source": [
    "page_answers"
   ]
  },
  {
   "cell_type": "markdown",
   "metadata": {},
   "source": [
    "# I will work later from below\n"
   ]
  },
  {
   "cell_type": "code",
   "execution_count": null,
   "metadata": {},
   "outputs": [],
   "source": [
    "count=0\n",
    "encoded_vectors = []\n",
    "pages_vector = []\n",
    "for page_list in content_list:\n",
    "    sentences_vector = bc.encode(page_list)\n",
    "    pages_vector.append(sentences_vector)                   "
   ]
  },
  {
   "cell_type": "code",
   "execution_count": 2,
   "metadata": {},
   "outputs": [
    {
     "data": {
      "text/plain": [
       "445"
      ]
     },
     "execution_count": 2,
     "metadata": {},
     "output_type": "execute_result"
    }
   ],
   "source": [
    "import pickle\n",
    "\n",
    "# Not writing on disk because already it is present there\n",
    "# with open('Bert_vec_per_page.pkl', 'wb') as f:\n",
    "#     pickle.dump(pages_vector ,f)\n",
    "    \n",
    "with open('Bert_vec_per_page.pkl', 'rb') as f:\n",
    "    vector = pickle.load(f)\n",
    "    \n",
    "len(vector)    "
   ]
  },
  {
   "cell_type": "code",
   "execution_count": 6,
   "metadata": {
    "scrolled": false
   },
   "outputs": [
    {
     "name": "stdout",
     "output_type": "stream",
     "text": [
      "Please enter a question: \n",
      "下記の項目の設定順序を変えても結構です\n"
     ]
    }
   ],
   "source": [
    "from sklearn.metrics.pairwise import cosine_similarity\n",
    "\n",
    "# Read a question from the user\n",
    "ori_question = [input('Please enter a question: \\n')]\n",
    "question = bc.encode(ori_question)"
   ]
  },
  {
   "cell_type": "code",
   "execution_count": 115,
   "metadata": {},
   "outputs": [
    {
     "data": {
      "text/plain": [
       "2"
      ]
     },
     "execution_count": 115,
     "metadata": {},
     "output_type": "execute_result"
    }
   ],
   "source": [
    "question\n",
    "type(question)\n",
    "question.ndim"
   ]
  },
  {
   "cell_type": "code",
   "execution_count": 7,
   "metadata": {},
   "outputs": [
    {
     "ename": "ValueError",
     "evalue": "Incompatible dimension for X and Y matrices: X.shape[1] == 1024 while Y.shape[1] == 768",
     "output_type": "error",
     "traceback": [
      "\u001b[0;31m---------------------------------------------------------------------------\u001b[0m",
      "\u001b[0;31mValueError\u001b[0m                                Traceback (most recent call last)",
      "\u001b[0;32m<ipython-input-7-ccbccf0fc007>\u001b[0m in \u001b[0;36m<module>\u001b[0;34m\u001b[0m\n\u001b[1;32m      4\u001b[0m     \u001b[0;32mfor\u001b[0m \u001b[0mj\u001b[0m \u001b[0;32min\u001b[0m \u001b[0mi\u001b[0m\u001b[0;34m:\u001b[0m\u001b[0;34m\u001b[0m\u001b[0;34m\u001b[0m\u001b[0m\n\u001b[1;32m      5\u001b[0m         \u001b[0mj\u001b[0m\u001b[0;34m=\u001b[0m\u001b[0mj\u001b[0m\u001b[0;34m.\u001b[0m\u001b[0mreshape\u001b[0m\u001b[0;34m(\u001b[0m\u001b[0;36m1\u001b[0m\u001b[0;34m,\u001b[0m \u001b[0;34m-\u001b[0m\u001b[0;36m1\u001b[0m\u001b[0;34m)\u001b[0m\u001b[0;34m\u001b[0m\u001b[0;34m\u001b[0m\u001b[0m\n\u001b[0;32m----> 6\u001b[0;31m         \u001b[0msentence_score\u001b[0m \u001b[0;34m=\u001b[0m \u001b[0mcosine_similarity\u001b[0m\u001b[0;34m(\u001b[0m\u001b[0mquestion\u001b[0m\u001b[0;34m,\u001b[0m \u001b[0mj\u001b[0m\u001b[0;34m)\u001b[0m\u001b[0;34m\u001b[0m\u001b[0;34m\u001b[0m\u001b[0m\n\u001b[0m\u001b[1;32m      7\u001b[0m         \u001b[0msent_score_list\u001b[0m\u001b[0;34m.\u001b[0m\u001b[0mappend\u001b[0m\u001b[0;34m(\u001b[0m\u001b[0msentence_score\u001b[0m\u001b[0;34m)\u001b[0m\u001b[0;34m\u001b[0m\u001b[0;34m\u001b[0m\u001b[0m\n\u001b[1;32m      8\u001b[0m     \u001b[0mpage_score_list\u001b[0m\u001b[0;34m.\u001b[0m\u001b[0mappend\u001b[0m\u001b[0;34m(\u001b[0m\u001b[0msent_score_list\u001b[0m\u001b[0;34m)\u001b[0m\u001b[0;34m\u001b[0m\u001b[0;34m\u001b[0m\u001b[0m\n",
      "\u001b[0;32m~/amiebot/experiment_env/lib/python3.6/site-packages/sklearn/metrics/pairwise.py\u001b[0m in \u001b[0;36mcosine_similarity\u001b[0;34m(X, Y, dense_output)\u001b[0m\n\u001b[1;32m   1165\u001b[0m     \u001b[0;31m# to avoid recursive import\u001b[0m\u001b[0;34m\u001b[0m\u001b[0;34m\u001b[0m\u001b[0;34m\u001b[0m\u001b[0m\n\u001b[1;32m   1166\u001b[0m \u001b[0;34m\u001b[0m\u001b[0m\n\u001b[0;32m-> 1167\u001b[0;31m     \u001b[0mX\u001b[0m\u001b[0;34m,\u001b[0m \u001b[0mY\u001b[0m \u001b[0;34m=\u001b[0m \u001b[0mcheck_pairwise_arrays\u001b[0m\u001b[0;34m(\u001b[0m\u001b[0mX\u001b[0m\u001b[0;34m,\u001b[0m \u001b[0mY\u001b[0m\u001b[0;34m)\u001b[0m\u001b[0;34m\u001b[0m\u001b[0;34m\u001b[0m\u001b[0m\n\u001b[0m\u001b[1;32m   1168\u001b[0m \u001b[0;34m\u001b[0m\u001b[0m\n\u001b[1;32m   1169\u001b[0m     \u001b[0mX_normalized\u001b[0m \u001b[0;34m=\u001b[0m \u001b[0mnormalize\u001b[0m\u001b[0;34m(\u001b[0m\u001b[0mX\u001b[0m\u001b[0;34m,\u001b[0m \u001b[0mcopy\u001b[0m\u001b[0;34m=\u001b[0m\u001b[0;32mTrue\u001b[0m\u001b[0;34m)\u001b[0m\u001b[0;34m\u001b[0m\u001b[0;34m\u001b[0m\u001b[0m\n",
      "\u001b[0;32m~/amiebot/experiment_env/lib/python3.6/site-packages/sklearn/metrics/pairwise.py\u001b[0m in \u001b[0;36mcheck_pairwise_arrays\u001b[0;34m(X, Y, precomputed, dtype, accept_sparse, force_all_finite, copy)\u001b[0m\n\u001b[1;32m    153\u001b[0m         raise ValueError(\"Incompatible dimension for X and Y matrices: \"\n\u001b[1;32m    154\u001b[0m                          \"X.shape[1] == %d while Y.shape[1] == %d\" % (\n\u001b[0;32m--> 155\u001b[0;31m                              X.shape[1], Y.shape[1]))\n\u001b[0m\u001b[1;32m    156\u001b[0m \u001b[0;34m\u001b[0m\u001b[0m\n\u001b[1;32m    157\u001b[0m     \u001b[0;32mreturn\u001b[0m \u001b[0mX\u001b[0m\u001b[0;34m,\u001b[0m \u001b[0mY\u001b[0m\u001b[0;34m\u001b[0m\u001b[0;34m\u001b[0m\u001b[0m\n",
      "\u001b[0;31mValueError\u001b[0m: Incompatible dimension for X and Y matrices: X.shape[1] == 1024 while Y.shape[1] == 768"
     ]
    }
   ],
   "source": [
    "sent_score_list = []\n",
    "page_score_list = []\n",
    "for i in vector:\n",
    "    for j in i:\n",
    "        j=j.reshape(1, -1)\n",
    "        sentence_score = cosine_similarity(question, j)\n",
    "        sent_score_list.append(sentence_score)\n",
    "    page_score_list.append(sent_score_list)\n",
    "    sent_score_list = []"
   ]
  },
  {
   "cell_type": "code",
   "execution_count": 1,
   "metadata": {},
   "outputs": [
    {
     "ename": "NameError",
     "evalue": "name 'page_score_list' is not defined",
     "output_type": "error",
     "traceback": [
      "\u001b[0;31m---------------------------------------------------------------------------\u001b[0m",
      "\u001b[0;31mNameError\u001b[0m                                 Traceback (most recent call last)",
      "\u001b[0;32m<ipython-input-1-a2d89792c95e>\u001b[0m in \u001b[0;36m<module>\u001b[0;34m\u001b[0m\n\u001b[0;32m----> 1\u001b[0;31m \u001b[0mlen\u001b[0m\u001b[0;34m(\u001b[0m\u001b[0mpage_score_list\u001b[0m\u001b[0;34m[\u001b[0m\u001b[0;36m0\u001b[0m\u001b[0;34m]\u001b[0m\u001b[0;34m)\u001b[0m\u001b[0;34m\u001b[0m\u001b[0;34m\u001b[0m\u001b[0m\n\u001b[0m",
      "\u001b[0;31mNameError\u001b[0m: name 'page_score_list' is not defined"
     ]
    }
   ],
   "source": [
    "len(page_score_list[0])"
   ]
  },
  {
   "cell_type": "code",
   "execution_count": 125,
   "metadata": {},
   "outputs": [
    {
     "name": "stdout",
     "output_type": "stream",
     "text": [
      "(1, 768)\n"
     ]
    },
    {
     "data": {
      "text/plain": [
       "(1, 768)"
      ]
     },
     "execution_count": 125,
     "metadata": {},
     "output_type": "execute_result"
    }
   ],
   "source": [
    "print(question.shape)\n",
    "j=j.reshape(1,-1)\n",
    "j.shape"
   ]
  },
  {
   "cell_type": "markdown",
   "metadata": {},
   "source": [
    "### This part was recommended in the BERT service github\n"
   ]
  },
  {
   "cell_type": "markdown",
   "metadata": {},
   "source": [
    "##### Running the server  bert-serving-start -model_dir /tmp/english_L-12_H-768_A-12/ -num_worker=4 \n",
    "https://github.com/hanxiao/bert-as-service"
   ]
  },
  {
   "cell_type": "code",
   "execution_count": null,
   "metadata": {},
   "outputs": [],
   "source": [
    "# Rank all the questions using dot product to the input question\n",
    "while True:\n",
    "    query = input('your question: ')\n",
    "    query_vec = bc.encode([query])[0]\n",
    "    # compute normalized dot product as score\n",
    "    score = np.sum(query_vec * doc_vecs, axis=1) / np.linalg.norm(doc_vecs, axis=1)\n",
    "    topk_idx = np.argsort(score)[::-1][:topk]\n",
    "    for idx in topk_idx:\n",
    "        print('> %s\\t%s' % (score[idx], questions[idx]))\n"
   ]
  },
  {
   "cell_type": "code",
   "execution_count": 13,
   "metadata": {},
   "outputs": [
    {
     "name": "stdout",
     "output_type": "stream",
     "text": [
      "3\n",
      "2\n",
      "0\n",
      "1\n"
     ]
    }
   ],
   "source": [
    "\n",
    "\n",
    "\n",
    "# Grab the top 5\n",
    "top = np.argsort(rank, axis=-1).T[-10:]\n",
    "#print(top)\n",
    "また、端末OSによっては、MobiControlエージェントソフトをダウンロードし、これに「登録ID」を 入力することでも、端末は所定の端末グループに登録されます\n",
    "for item in range(len(top)):\n",
    "    idx = top[item,0]\n",
    "    print(idx)\n",
    "    \n",
    "#     # if the dataset file structure \"Quesition | Answer\" then use following line  \n",
    "#     #print(data['Answer'].iloc[item].values[0])\n",
    "#     print(\"PageID: \",result.iloc[idx,-1],\"idx\",idx,\"=\",tog.values[idx])\n",
    "#     print(\"\\n ########## \\n\")"
   ]
  },
  {
   "cell_type": "code",
   "execution_count": 14,
   "metadata": {},
   "outputs": [
    {
     "data": {
      "text/plain": [
       "array([[3],\n",
       "       [2],\n",
       "       [0],\n",
       "       [1]])"
      ]
     },
     "execution_count": 14,
     "metadata": {},
     "output_type": "execute_result"
    }
   ],
   "source": [
    "top"
   ]
  },
  {
   "cell_type": "code",
   "execution_count": 15,
   "metadata": {},
   "outputs": [
    {
     "data": {
      "text/plain": [
       "array([[0.92932934, 0.93377185, 0.8743946 , 0.86578614]], dtype=float32)"
      ]
     },
     "execution_count": 15,
     "metadata": {},
     "output_type": "execute_result"
    }
   ],
   "source": [
    "rank"
   ]
  },
  {
   "cell_type": "code",
   "execution_count": 138,
   "metadata": {},
   "outputs": [
    {
     "name": "stdout",
     "output_type": "stream",
     "text": [
      "Question: ['また、端末OSによっては、MobiControlエージェントソフトをダウンロードし、これに「登録ID」を 入力することでも、端末は所定の端末グループに登録されます']\n",
      "0.92932934 - カスタマイザーからこのタイトルを設定できます\n",
      "0.93377185 - カスタマイザーからこのサブタイトルを設定できます\n",
      "0.8743946 - MobiControlの設定順序MobiControlの設定順序MobiControlの設定は次の順序で行います\n",
      "0.86578614 - 端末の挙動に関する設定\n"
     ]
    }
   ],
   "source": [
    "print('Question:', ori_question)\n",
    "print('Answers:')\n",
    "count=0\n",
    "score = []\n",
    "text = []\n",
    "for i in rank:\n",
    "    for j in i:\n",
    "        print(j,\"-\",input_array[count])\n",
    "        score.append(j)\n",
    "        text.append(input_array[count])\n",
    "        count+=1"
   ]
  },
  {
   "cell_type": "code",
   "execution_count": 33,
   "metadata": {},
   "outputs": [
    {
     "data": {
      "text/html": [
       "<div>\n",
       "<style scoped>\n",
       "    .dataframe tbody tr th:only-of-type {\n",
       "        vertical-align: middle;\n",
       "    }\n",
       "\n",
       "    .dataframe tbody tr th {\n",
       "        vertical-align: top;\n",
       "    }\n",
       "\n",
       "    .dataframe thead th {\n",
       "        text-align: right;\n",
       "    }\n",
       "</style>\n",
       "<table border=\"1\" class=\"dataframe\">\n",
       "  <thead>\n",
       "    <tr style=\"text-align: right;\">\n",
       "      <th></th>\n",
       "      <th>a</th>\n",
       "      <th>b</th>\n",
       "    </tr>\n",
       "  </thead>\n",
       "  <tbody>\n",
       "    <tr>\n",
       "      <th>0</th>\n",
       "      <td>0.929329</td>\n",
       "      <td>カスタマイザーからこのタイトルを設定できます</td>\n",
       "    </tr>\n",
       "    <tr>\n",
       "      <th>1</th>\n",
       "      <td>0.933772</td>\n",
       "      <td>カスタマイザーからこのサブタイトルを設定できます</td>\n",
       "    </tr>\n",
       "    <tr>\n",
       "      <th>2</th>\n",
       "      <td>0.874395</td>\n",
       "      <td>MobiControlの設定順序MobiControlの設定順序MobiControlの設定...</td>\n",
       "    </tr>\n",
       "    <tr>\n",
       "      <th>3</th>\n",
       "      <td>0.865786</td>\n",
       "      <td>端末の挙動に関する設定</td>\n",
       "    </tr>\n",
       "  </tbody>\n",
       "</table>\n",
       "</div>"
      ],
      "text/plain": [
       "          a                                                  b\n",
       "0  0.929329                             カスタマイザーからこのタイトルを設定できます\n",
       "1  0.933772                           カスタマイザーからこのサブタイトルを設定できます\n",
       "2  0.874395  MobiControlの設定順序MobiControlの設定順序MobiControlの設定...\n",
       "3  0.865786                                        端末の挙動に関する設定"
      ]
     },
     "execution_count": 33,
     "metadata": {},
     "output_type": "execute_result"
    }
   ],
   "source": [
    "import pandas as pd\n",
    "df = pd.DataFrame(zip(score,text), columns=['a','b'])\n",
    "df.head()"
   ]
  },
  {
   "cell_type": "code",
   "execution_count": 35,
   "metadata": {},
   "outputs": [
    {
     "data": {
      "text/html": [
       "<div>\n",
       "<style scoped>\n",
       "    .dataframe tbody tr th:only-of-type {\n",
       "        vertical-align: middle;\n",
       "    }\n",
       "\n",
       "    .dataframe tbody tr th {\n",
       "        vertical-align: top;\n",
       "    }\n",
       "\n",
       "    .dataframe thead th {\n",
       "        text-align: right;\n",
       "    }\n",
       "</style>\n",
       "<table border=\"1\" class=\"dataframe\">\n",
       "  <thead>\n",
       "    <tr style=\"text-align: right;\">\n",
       "      <th></th>\n",
       "      <th>a</th>\n",
       "      <th>b</th>\n",
       "    </tr>\n",
       "  </thead>\n",
       "  <tbody>\n",
       "    <tr>\n",
       "      <th>1</th>\n",
       "      <td>0.933772</td>\n",
       "      <td>カスタマイザーからこのサブタイトルを設定できます</td>\n",
       "    </tr>\n",
       "    <tr>\n",
       "      <th>0</th>\n",
       "      <td>0.929329</td>\n",
       "      <td>カスタマイザーからこのタイトルを設定できます</td>\n",
       "    </tr>\n",
       "    <tr>\n",
       "      <th>2</th>\n",
       "      <td>0.874395</td>\n",
       "      <td>MobiControlの設定順序MobiControlの設定順序MobiControlの設定...</td>\n",
       "    </tr>\n",
       "    <tr>\n",
       "      <th>3</th>\n",
       "      <td>0.865786</td>\n",
       "      <td>端末の挙動に関する設定</td>\n",
       "    </tr>\n",
       "  </tbody>\n",
       "</table>\n",
       "</div>"
      ],
      "text/plain": [
       "          a                                                  b\n",
       "1  0.933772                           カスタマイザーからこのサブタイトルを設定できます\n",
       "0  0.929329                             カスタマイザーからこのタイトルを設定できます\n",
       "2  0.874395  MobiControlの設定順序MobiControlの設定順序MobiControlの設定...\n",
       "3  0.865786                                        端末の挙動に関する設定"
      ]
     },
     "execution_count": 35,
     "metadata": {},
     "output_type": "execute_result"
    }
   ],
   "source": [
    "df.sort_values(by=['a'], ascending=False)"
   ]
  }
 ],
 "metadata": {
  "kernelspec": {
   "display_name": "Python 3",
   "language": "python",
   "name": "python3"
  },
  "language_info": {
   "codemirror_mode": {
    "name": "ipython",
    "version": 3
   },
   "file_extension": ".py",
   "mimetype": "text/x-python",
   "name": "python",
   "nbconvert_exporter": "python",
   "pygments_lexer": "ipython3",
   "version": "3.6.9"
  }
 },
 "nbformat": 4,
 "nbformat_minor": 4
}
