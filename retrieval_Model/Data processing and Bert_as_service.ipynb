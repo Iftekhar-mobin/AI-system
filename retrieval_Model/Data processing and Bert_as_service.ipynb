{
 "cells": [
  {
   "cell_type": "code",
   "execution_count": 2,
   "metadata": {},
   "outputs": [],
   "source": [
    "import numpy as np\n",
    "import re\n",
    "import pandas as pd\n",
    "from pathlib import Path\n",
    "import MeCab\n",
    "import json\n",
    "import requests\n",
    "\n",
    "\n",
    "def clean_text(text):\n",
    "    replaced_text = re.sub(r'[【】]', ' ', text)       # 【】の除去\n",
    "    replaced_text = re.sub(r'[・_]', '', replaced_text)       # ・ の除去\n",
    "    replaced_text = re.sub(r'[（）()]', ' ', replaced_text)     # （）の除去\n",
    "    replaced_text = re.sub(r'[［］\\[\\]]', ' ', replaced_text)   # ［］の除去\n",
    "    replaced_text = re.sub(r'[@＠]\\w+', '', replaced_text)  # メンションの除去\n",
    "    replaced_text = re.sub(r'https?:\\/\\/.*?[\\r\\n ]', '', replaced_text)  # URLの除去\n",
    "    replaced_text = re.sub(r'　', ' ', replaced_text)  # 全角空白の除去\n",
    "    replaced_text = re.sub(r'\\d+', '', replaced_text) # 数字の除去\n",
    "    replaced_text = re.sub(r'[-/。,、.=]', ' ', replaced_text)\n",
    "    return replaced_text\n",
    "\n",
    "stop_words_ja = []\n",
    "STOPWORD_FILE = Path(\"/home/iftekhar/amiebot/Helpbot/amie-HelpBot/amie_helpbot/assets/learning/stop_word.txt\")\n",
    "with open(STOPWORD_FILE, encoding='utf-8') as fr:\n",
    "    stop_w = fr.read().splitlines()\n",
    "\n",
    "newlist = ['ます',  'する', 'でき',  'です', 'ad', 'ください', 'この', 'あり',  'または', 'なり', 'その', 'ルール',]\n",
    "stop_words_ja = stop_w + newlist"
   ]
  },
  {
   "cell_type": "code",
   "execution_count": 2,
   "metadata": {},
   "outputs": [],
   "source": [
    "questions_word = []\n",
    "questions_word_file = Path(\"/home/iftekhar/AI-system/JPBERT/questions_delimiter.txt\")\n",
    "with open(questions_word_file, encoding='utf-8') as f:\n",
    "    questions_word_list = f.read().splitlines()\n"
   ]
  },
  {
   "cell_type": "code",
   "execution_count": 247,
   "metadata": {},
   "outputs": [],
   "source": []
  },
  {
   "cell_type": "markdown",
   "metadata": {},
   "source": [
    "### Just Example how does it do the encode"
   ]
  },
  {
   "cell_type": "code",
   "execution_count": 3,
   "metadata": {},
   "outputs": [
    {
     "data": {
      "text/html": [
       "<div>\n",
       "<style scoped>\n",
       "    .dataframe tbody tr th:only-of-type {\n",
       "        vertical-align: middle;\n",
       "    }\n",
       "\n",
       "    .dataframe tbody tr th {\n",
       "        vertical-align: top;\n",
       "    }\n",
       "\n",
       "    .dataframe thead th {\n",
       "        text-align: right;\n",
       "    }\n",
       "</style>\n",
       "<table border=\"1\" class=\"dataframe\">\n",
       "  <thead>\n",
       "    <tr style=\"text-align: right;\">\n",
       "      <th></th>\n",
       "      <th>Data</th>\n",
       "      <th>PageID</th>\n",
       "    </tr>\n",
       "  </thead>\n",
       "  <tbody>\n",
       "    <tr>\n",
       "      <th>0</th>\n",
       "      <td>カスタマイザーからこのタイトルを設定できます。カスタマイザーからこのサブタイトルを設定できま...</td>\n",
       "      <td>0</td>\n",
       "    </tr>\n",
       "    <tr>\n",
       "      <th>1</th>\n",
       "      <td>Apple製品MobiControl v14 ManualApple製品をMobiContr...</td>\n",
       "      <td>1</td>\n",
       "    </tr>\n",
       "    <tr>\n",
       "      <th>2</th>\n",
       "      <td>Android端末MobiControl v14 ManualAndroidの設定モードA....</td>\n",
       "      <td>2</td>\n",
       "    </tr>\n",
       "    <tr>\n",
       "      <th>3</th>\n",
       "      <td>Windows PCMobiControl v14 ManualWindows PCの根本的...</td>\n",
       "      <td>3</td>\n",
       "    </tr>\n",
       "    <tr>\n",
       "      <th>4</th>\n",
       "      <td>Windows EmbeddedMobiControl v14 ManualWindows ...</td>\n",
       "      <td>4</td>\n",
       "    </tr>\n",
       "  </tbody>\n",
       "</table>\n",
       "</div>"
      ],
      "text/plain": [
       "                                                Data  PageID\n",
       "0  カスタマイザーからこのタイトルを設定できます。カスタマイザーからこのサブタイトルを設定できま...       0\n",
       "1  Apple製品MobiControl v14 ManualApple製品をMobiContr...       1\n",
       "2  Android端末MobiControl v14 ManualAndroidの設定モードA....       2\n",
       "3  Windows PCMobiControl v14 ManualWindows PCの根本的...       3\n",
       "4  Windows EmbeddedMobiControl v14 ManualWindows ...       4"
      ]
     },
     "execution_count": 3,
     "metadata": {},
     "output_type": "execute_result"
    }
   ],
   "source": [
    "df = pd.read_csv(\"~/AI-system/retrieval_Model/processed_perPage_perLine.csv\")\n",
    "df.head()"
   ]
  },
  {
   "cell_type": "code",
   "execution_count": 4,
   "metadata": {},
   "outputs": [],
   "source": [
    "# df = df.sample(frac=1).reset_index(drop=True)"
   ]
  },
  {
   "cell_type": "code",
   "execution_count": 5,
   "metadata": {},
   "outputs": [
    {
     "data": {
      "text/html": [
       "<div>\n",
       "<style scoped>\n",
       "    .dataframe tbody tr th:only-of-type {\n",
       "        vertical-align: middle;\n",
       "    }\n",
       "\n",
       "    .dataframe tbody tr th {\n",
       "        vertical-align: top;\n",
       "    }\n",
       "\n",
       "    .dataframe thead th {\n",
       "        text-align: right;\n",
       "    }\n",
       "</style>\n",
       "<table border=\"1\" class=\"dataframe\">\n",
       "  <thead>\n",
       "    <tr style=\"text-align: right;\">\n",
       "      <th></th>\n",
       "      <th>Data</th>\n",
       "      <th>PageID</th>\n",
       "    </tr>\n",
       "  </thead>\n",
       "  <tbody>\n",
       "    <tr>\n",
       "      <th>0</th>\n",
       "      <td>カスタマイザーからこのタイトルを設定できます。カスタマイザーからこのサブタイトルを設定できま...</td>\n",
       "      <td>0</td>\n",
       "    </tr>\n",
       "    <tr>\n",
       "      <th>1</th>\n",
       "      <td>Apple製品MobiControl v14 ManualApple製品をMobiContr...</td>\n",
       "      <td>1</td>\n",
       "    </tr>\n",
       "    <tr>\n",
       "      <th>2</th>\n",
       "      <td>Android端末MobiControl v14 ManualAndroidの設定モードA....</td>\n",
       "      <td>2</td>\n",
       "    </tr>\n",
       "    <tr>\n",
       "      <th>3</th>\n",
       "      <td>Windows PCMobiControl v14 ManualWindows PCの根本的...</td>\n",
       "      <td>3</td>\n",
       "    </tr>\n",
       "    <tr>\n",
       "      <th>4</th>\n",
       "      <td>Windows EmbeddedMobiControl v14 ManualWindows ...</td>\n",
       "      <td>4</td>\n",
       "    </tr>\n",
       "  </tbody>\n",
       "</table>\n",
       "</div>"
      ],
      "text/plain": [
       "                                                Data  PageID\n",
       "0  カスタマイザーからこのタイトルを設定できます。カスタマイザーからこのサブタイトルを設定できま...       0\n",
       "1  Apple製品MobiControl v14 ManualApple製品をMobiContr...       1\n",
       "2  Android端末MobiControl v14 ManualAndroidの設定モードA....       2\n",
       "3  Windows PCMobiControl v14 ManualWindows PCの根本的...       3\n",
       "4  Windows EmbeddedMobiControl v14 ManualWindows ...       4"
      ]
     },
     "execution_count": 5,
     "metadata": {},
     "output_type": "execute_result"
    }
   ],
   "source": [
    "df.head()"
   ]
  },
  {
   "cell_type": "code",
   "execution_count": 6,
   "metadata": {},
   "outputs": [],
   "source": [
    "#sample = df.head(20)\n",
    "#sample"
   ]
  },
  {
   "cell_type": "code",
   "execution_count": null,
   "metadata": {},
   "outputs": [],
   "source": [
    "df.iloc[[0]]\n",
    "df.loc[0][0]"
   ]
  },
  {
   "cell_type": "code",
   "execution_count": 8,
   "metadata": {},
   "outputs": [],
   "source": [
    "particles = ['る', '「 」', '「', '」', 'が', 'て', 'を', 'し', 'は', \n",
    "                   'か','に','の', 'へ', 'と', 'や', 'も', 'で'] \n",
    "df.Data = df.Data.apply(lambda x: clean_text(str(x)))\n",
    "\n",
    "wakati = MeCab.Tagger(\"-Owakati\")\n",
    "df.Data = df.Data.apply(lambda x: wakati.parse(x).strip(\"\\n\"))\n",
    "df.Data = df.Data.apply(lambda x: ' '.join([word for word in x.split() if word not in stop_words_ja]))\n",
    "df.Data = df.Data.apply(lambda x: ' '.join(ch for ch in x.split() if ch not in particles))\n"
   ]
  },
  {
   "cell_type": "code",
   "execution_count": 10,
   "metadata": {},
   "outputs": [],
   "source": [
    "df.head()\n",
    "df.to_csv(\"/home/iftekhar/AI-system/retrieval_Model/processed_perPage_perLine.csv\")"
   ]
  },
  {
   "cell_type": "code",
   "execution_count": 10,
   "metadata": {},
   "outputs": [],
   "source": [
    "corpus_list = []\n",
    "whole_corpus = []\n",
    "n=100\n",
    "word_limit = 10\n",
    "count = 0\n",
    "for index, row in df.iterrows():\n",
    "    var = str(row['Data']).split('。')\n",
    "    \n",
    "    for elements in var:\n",
    "        if len(elements) > n:\n",
    "            elements = elements.split()\n",
    "            # print(elements)\n",
    "            # break\n",
    "            chunks = [' '.join(elements[i:i+word_limit]) for i in range(0, len(elements), word_limit)]\n",
    "            # print(\"splitted\", chunks)\n",
    "            # break\n",
    "            for items in chunks:\n",
    "                corpus_list.append([items,row['PageID']])            \n",
    "        else:\n",
    "            # print(\"not split\",elements)\n",
    "            corpus_list.append([elements,row['PageID']])\n",
    "        # break\n",
    "        \n",
    "    # break    \n",
    "    whole_corpus.append(corpus_list)\n",
    "    corpus_list = []"
   ]
  },
  {
   "cell_type": "code",
   "execution_count": null,
   "metadata": {},
   "outputs": [],
   "source": [
    "whole_corpus[1]"
   ]
  },
  {
   "cell_type": "code",
   "execution_count": 16,
   "metadata": {},
   "outputs": [],
   "source": [
    "pages_list = []\n",
    "content_list = []\n",
    "\n",
    "count=0\n",
    "for pages in whole_corpus:\n",
    "    for sentences in pages:\n",
    "        pages_list.append(sentences[0])\n",
    "    content_list.append(pages_list)\n",
    "    pages_list = []    \n",
    "    "
   ]
  },
  {
   "cell_type": "code",
   "execution_count": 46,
   "metadata": {},
   "outputs": [
    {
     "data": {
      "text/html": [
       "<div>\n",
       "<style scoped>\n",
       "    .dataframe tbody tr th:only-of-type {\n",
       "        vertical-align: middle;\n",
       "    }\n",
       "\n",
       "    .dataframe tbody tr th {\n",
       "        vertical-align: top;\n",
       "    }\n",
       "\n",
       "    .dataframe thead th {\n",
       "        text-align: right;\n",
       "    }\n",
       "</style>\n",
       "<table border=\"1\" class=\"dataframe\">\n",
       "  <thead>\n",
       "    <tr style=\"text-align: right;\">\n",
       "      <th></th>\n",
       "      <th>IDs</th>\n",
       "      <th>Content</th>\n",
       "    </tr>\n",
       "  </thead>\n",
       "  <tbody>\n",
       "    <tr>\n",
       "      <th>39089</th>\n",
       "      <td>443</td>\n",
       "      <td>端末 拾得 によって Exchange サーバ アクセス な 情報 漏洩 リスク</td>\n",
       "    </tr>\n",
       "    <tr>\n",
       "      <th>39090</th>\n",
       "      <td>443</td>\n",
       "      <td>無くす Exchange ActiveSync Filter インストール コンソール 該当...</td>\n",
       "    </tr>\n",
       "    <tr>\n",
       "      <th>39091</th>\n",
       "      <td>443</td>\n",
       "      <td>現われ た 画面 アイコ ン プルダウン 現われ Exchange アクセス 阻止</td>\n",
       "    </tr>\n",
       "    <tr>\n",
       "      <th>39092</th>\n",
       "      <td>443</td>\n",
       "      <td>クリック MobiControl サーバ Exchange ActiveSync Filte...</td>\n",
       "    </tr>\n",
       "    <tr>\n",
       "      <th>39093</th>\n",
       "      <td>443</td>\n",
       "      <td>送ら れ バー 全 OS タブ 選択 タブ サーバ タブ</td>\n",
       "    </tr>\n",
       "    <tr>\n",
       "      <th>...</th>\n",
       "      <td>...</td>\n",
       "      <td>...</td>\n",
       "    </tr>\n",
       "    <tr>\n",
       "      <th>39184</th>\n",
       "      <td>444</td>\n",
       "      <td>ページ 参照 オプション サーバ 機能 設定 端末 設定 端末 業務</td>\n",
       "    </tr>\n",
       "    <tr>\n",
       "      <th>39185</th>\n",
       "      <td>444</td>\n",
       "      <td>アプリ バージョンアップ VPP アカウント 設定 セキュリティ 対策 設定 分野 構成</td>\n",
       "    </tr>\n",
       "    <tr>\n",
       "      <th>39186</th>\n",
       "      <td>444</td>\n",
       "      <td>プロファイル 詳細 設定 端末 働きかける 端末 画面 メッセージ 表示 リモート</td>\n",
       "    </tr>\n",
       "    <tr>\n",
       "      <th>39187</th>\n",
       "      <td>444</td>\n",
       "      <td>ロック 紛失 モード リモート Wipe 初期 端末 働きかける 端末 状況</td>\n",
       "    </tr>\n",
       "    <tr>\n",
       "      <th>39188</th>\n",
       "      <td>444</td>\n",
       "      <td>視る 端末 位置 地図 表示 アプリ 活用 状況 監視</td>\n",
       "    </tr>\n",
       "  </tbody>\n",
       "</table>\n",
       "<p>100 rows × 2 columns</p>\n",
       "</div>"
      ],
      "text/plain": [
       "       IDs                                            Content\n",
       "39089  443           端末 拾得 によって Exchange サーバ アクセス な 情報 漏洩 リスク\n",
       "39090  443  無くす Exchange ActiveSync Filter インストール コンソール 該当...\n",
       "39091  443          現われ た 画面 アイコ ン プルダウン 現われ Exchange アクセス 阻止\n",
       "39092  443  クリック MobiControl サーバ Exchange ActiveSync Filte...\n",
       "39093  443                       送ら れ バー 全 OS タブ 選択 タブ サーバ タブ\n",
       "...    ...                                                ...\n",
       "39184  444                 ページ 参照 オプション サーバ 機能 設定 端末 設定 端末 業務\n",
       "39185  444       アプリ バージョンアップ VPP アカウント 設定 セキュリティ 対策 設定 分野 構成\n",
       "39186  444          プロファイル 詳細 設定 端末 働きかける 端末 画面 メッセージ 表示 リモート\n",
       "39187  444             ロック 紛失 モード リモート Wipe 初期 端末 働きかける 端末 状況\n",
       "39188  444                        視る 端末 位置 地図 表示 アプリ 活用 状況 監視\n",
       "\n",
       "[100 rows x 2 columns]"
      ]
     },
     "execution_count": 46,
     "metadata": {},
     "output_type": "execute_result"
    }
   ],
   "source": [
    "# This portion for splitting the corpus\n",
    "split_content_corpus=[]\n",
    "for pages in whole_corpus:\n",
    "    for sentences in pages:\n",
    "        pages_list.append([sentences[0],sentences[1]])\n",
    "    split_content_corpus.append(pages_list)\n",
    "    pages_list = []\n",
    "\n",
    "\n",
    "len(split_content_corpus)\n",
    "# for saving my split lines corpus\n",
    "ids=[]\n",
    "contents=[]\n",
    "for i in range(len(split_content_corpus)):\n",
    "    j=0\n",
    "    for j in range(len(split_content_corpus[i])):\n",
    "        ids.append(split_content_corpus[i][j][0])\n",
    "        contents.append(split_content_corpus[i][j][1])\n",
    "\n",
    "corpus_dataframe = pd.DataFrame(zip(contents, ids), columns=['IDs', 'Content'])\n",
    "corpus_dataframe.to_csv(\"10words_line_corpus.csv\")\n",
    "corpus_dataframe.tail(100)"
   ]
  },
  {
   "cell_type": "code",
   "execution_count": null,
   "metadata": {},
   "outputs": [],
   "source": [
    "content_list[0]"
   ]
  },
  {
   "cell_type": "code",
   "execution_count": 54,
   "metadata": {},
   "outputs": [
    {
     "data": {
      "text/plain": [
       "219"
      ]
     },
     "execution_count": 54,
     "metadata": {},
     "output_type": "execute_result"
    }
   ],
   "source": [
    "len(content_list[1])"
   ]
  },
  {
   "cell_type": "code",
   "execution_count": 55,
   "metadata": {},
   "outputs": [
    {
     "data": {
      "text/plain": [
       "20"
      ]
     },
     "execution_count": 55,
     "metadata": {},
     "output_type": "execute_result"
    }
   ],
   "source": [
    "    len(content_list[5])"
   ]
  },
  {
   "cell_type": "code",
   "execution_count": 56,
   "metadata": {},
   "outputs": [
    {
     "data": {
      "text/plain": [
       "445"
      ]
     },
     "execution_count": 56,
     "metadata": {},
     "output_type": "execute_result"
    }
   ],
   "source": [
    "len(content_list)"
   ]
  },
  {
   "cell_type": "code",
   "execution_count": 132,
   "metadata": {},
   "outputs": [],
   "source": [
    "count = 0\n",
    "all_question_list = []\n",
    "for pages in content_list:\n",
    "    question_list = []\n",
    "    \n",
    "    for sent in pages:\n",
    "        sent = str(sent)\n",
    "        \n",
    "        if re.search(r'\\w+', sent):\n",
    "            #  print(count,\"___\",sent)\n",
    "            item_list = []\n",
    "            content = wakati.parse(sent).strip(\"\\n\").rstrip()\n",
    "            item_list = content.split()\n",
    "            item_list = list(set(item_list))\n",
    "            #print(item_list)\n",
    "            random_item_from_list = random.choice(item_list)\n",
    "            item_list.remove(random_item_from_list)\n",
    "            \n",
    "            question = random.choice(questions_word_list)\n",
    "            random.shuffle(item_list)\n",
    "            item_list.append(question)\n",
    "            question = ' '.join(item_list)\n",
    "            question_list.append([question,count])\n",
    "    count+=1\n",
    "    all_question_list.append(question_list)\n",
    "            \n",
    "#         break   \n",
    "#     break\n",
    "        \n",
    "        "
   ]
  },
  {
   "cell_type": "code",
   "execution_count": 133,
   "metadata": {},
   "outputs": [
    {
     "data": {
      "text/plain": [
       "445"
      ]
     },
     "execution_count": 133,
     "metadata": {},
     "output_type": "execute_result"
    }
   ],
   "source": [
    "len(all_question_list)"
   ]
  },
  {
   "cell_type": "code",
   "execution_count": 134,
   "metadata": {},
   "outputs": [
    {
     "data": {
      "text/plain": [
       "127"
      ]
     },
     "execution_count": 134,
     "metadata": {},
     "output_type": "execute_result"
    }
   ],
   "source": [
    "len(all_question_list[0])"
   ]
  },
  {
   "cell_type": "code",
   "execution_count": null,
   "metadata": {},
   "outputs": [],
   "source": [
    "all_question_list[0]"
   ]
  },
  {
   "cell_type": "code",
   "execution_count": 140,
   "metadata": {},
   "outputs": [
    {
     "data": {
      "text/html": [
       "<div>\n",
       "<style scoped>\n",
       "    .dataframe tbody tr th:only-of-type {\n",
       "        vertical-align: middle;\n",
       "    }\n",
       "\n",
       "    .dataframe tbody tr th {\n",
       "        vertical-align: top;\n",
       "    }\n",
       "\n",
       "    .dataframe thead th {\n",
       "        text-align: right;\n",
       "    }\n",
       "</style>\n",
       "<table border=\"1\" class=\"dataframe\">\n",
       "  <thead>\n",
       "    <tr style=\"text-align: right;\">\n",
       "      <th></th>\n",
       "      <th>Question</th>\n",
       "      <th>PageID</th>\n",
       "    </tr>\n",
       "  </thead>\n",
       "  <tbody>\n",
       "    <tr>\n",
       "      <th>0</th>\n",
       "      <td>タイトル 順序 MobiControl 設定 サブタイトル 関する情報を教えてください</td>\n",
       "      <td>0</td>\n",
       "    </tr>\n",
       "    <tr>\n",
       "      <th>1</th>\n",
       "      <td>設定 対象 順序 端末 オンプレミス 行い OS 入れられますか</td>\n",
       "      <td>0</td>\n",
       "    </tr>\n",
       "    <tr>\n",
       "      <th>2</th>\n",
       "      <td>MobiControl 設定 コンピュータ iOS 端末 必要 事項 macOS サーバ どうして</td>\n",
       "      <td>0</td>\n",
       "    </tr>\n",
       "    <tr>\n",
       "      <th>3</th>\n",
       "      <td>Domain 必須 Service 接続 サーバ 作成 Directory プロファイル A...</td>\n",
       "      <td>0</td>\n",
       "    </tr>\n",
       "    <tr>\n",
       "      <th>4</th>\n",
       "      <td>ADFS AD Service Federation Azure Directory 間 入...</td>\n",
       "      <td>0</td>\n",
       "    </tr>\n",
       "  </tbody>\n",
       "</table>\n",
       "</div>"
      ],
      "text/plain": [
       "                                            Question  PageID\n",
       "0        タイトル 順序 MobiControl 設定 サブタイトル 関する情報を教えてください       0\n",
       "1                   設定 対象 順序 端末 オンプレミス 行い OS 入れられますか       0\n",
       "2  MobiControl 設定 コンピュータ iOS 端末 必要 事項 macOS サーバ どうして       0\n",
       "3  Domain 必須 Service 接続 サーバ 作成 Directory プロファイル A...       0\n",
       "4  ADFS AD Service Federation Azure Directory 間 入...       0"
      ]
     },
     "execution_count": 140,
     "metadata": {},
     "output_type": "execute_result"
    }
   ],
   "source": [
    "labels = []\n",
    "text_list = []\n",
    "for i in all_question_list:\n",
    "    for j in i:\n",
    "        text_list.append(j[0])\n",
    "        labels.append(j[1])\n",
    "dataset = pd.DataFrame(zip(text_list, labels), columns=['Question','PageID'])\n",
    "dataset.head()"
   ]
  },
  {
   "cell_type": "code",
   "execution_count": null,
   "metadata": {},
   "outputs": [],
   "source": [
    "len(dataset)"
   ]
  },
  {
   "cell_type": "code",
   "execution_count": 204,
   "metadata": {},
   "outputs": [],
   "source": [
    "\n",
    "def api_request(query):\n",
    "    api_url = 'http://127.0.0.1:5000/api/v1.0/predict/'\n",
    "\n",
    "    response = requests.post(api_url, \n",
    "                  data=[('output_dir', '/home/iftekhar/amiebot/Resources/876/model'),\n",
    "                        ('data_dir', '/home/iftekhar/amiebot/Resources/876/data'),\n",
    "                        ('agent_id', '-1'),\n",
    "                        ('query', query),\n",
    "                        ('max_answer', '3'),\n",
    "                        ('user_nm', 'abc')\n",
    "                       ]\n",
    "                 )\n",
    "    return response"
   ]
  },
  {
   "cell_type": "markdown",
   "metadata": {},
   "source": [
    "#### Mean Reciprocal Rank is a measure to evaluate systems that return a ranked list of answers to queries. Actual_answer = [10] Predicted_answer=[20, 10, 100], Score=1/2,  if Predicted_answer=[10, 20, 100], score = 1, if Predicted_answer=[20, 100, 10], score = 1/3, and Predicted_answer=[20, 1020, 100], score=0, Then cumulative score is the total_accuracy https://en.wikipedia.org/wiki/Mean_reciprocal_rank\n"
   ]
  },
  {
   "cell_type": "code",
   "execution_count": 241,
   "metadata": {},
   "outputs": [],
   "source": [
    "def Mean_reciprocal_rank_score(actual_answer, predicted_answers):\n",
    "    pos = 0\n",
    "    val = 0\n",
    "    for i in predicted_answers:\n",
    "        if i == actual_answer and pos==0:\n",
    "            val = 1\n",
    "            break\n",
    "        elif i == actual_answer and pos==1:\n",
    "            val = 0.5\n",
    "            break\n",
    "        elif i == actual_answer and pos==2:\n",
    "            val = 0.33\n",
    "            break\n",
    "        else:\n",
    "            val = 0\n",
    "        pos+=1\n",
    "    \n",
    "    return val"
   ]
  },
  {
   "cell_type": "code",
   "execution_count": null,
   "metadata": {},
   "outputs": [],
   "source": [
    "import time \n",
    "c=0\n",
    "sum_score=0\n",
    "container=[]\n",
    "for index, col in dataset.iterrows():\n",
    "    response = api_request(str(col['Question']))\n",
    "#     time.sleep(1)\n",
    "    response.encoding='utf-8'\n",
    "    res = response.json()\n",
    "    y = json.loads(res)\n",
    "    \n",
    "    page_answers = [] \n",
    "    prediction_scores = []\n",
    "    \n",
    "#     print(\"Line: \", c)\n",
    "    \n",
    "    for i in y['page_relevance']:\n",
    "        parsed_text = ' '.join(i['keywords'])       \n",
    "        page_answers.append(i['doc_id'])\n",
    "        prediction_scores.append(i['score'])\n",
    "    \n",
    "    MRR_score = Mean_reciprocal_rank_score(col['PageID'], page_answers)\n",
    "    sum_score+=MRR_score\n",
    "    container.append([MRR_score, col['PageID'], page_answers, prediction_scores, parsed_text, col['Question']])\n",
    "#     print(MRR_score,\",\", col['PageID'], \",\",page_answers,\",\",prediction_scores,\",\", parsed_text, \",\", col['Question'])\n",
    "    \n",
    "#     if c>10:\n",
    "#         break\n",
    "    c+=1\n",
    "Total_accuracy = sum_score/c  "
   ]
  },
  {
   "cell_type": "code",
   "execution_count": 250,
   "metadata": {},
   "outputs": [],
   "source": [
    "    score_list=[]\n",
    "    actual_answer_list = []\n",
    "    page_answers_list = []\n",
    "    prediction_scores = []\n",
    "    prediction_text = []\n",
    "    query_list = []\n",
    "\n",
    "    for items in container:\n",
    "        score_list.append(items[0])\n",
    "        actual_answer_list.append(items[1])\n",
    "        page_answers_list.append(items[2])\n",
    "        prediction_scores.append(items[3])\n",
    "        prediction_text.append(items[4])\n",
    "        query_list.append(items[5])\n",
    "\n",
    "    d = pd.DataFrame()\n",
    "    d['score'] = score_list \n",
    "    d['actual_answer'] = actual_answer_list\n",
    "    d['page_answers'] = page_answers_list\n",
    "    d['prediction_scores'] = prediction_scores\n",
    "    d['prediction_text'] = prediction_text\n",
    "    d['query_list'] = query_list\n"
   ]
  },
  {
   "cell_type": "code",
   "execution_count": 252,
   "metadata": {},
   "outputs": [],
   "source": [
    "d.head()\n",
    "    d.to_csv('performance.csv')"
   ]
  },
  {
   "cell_type": "code",
   "execution_count": 248,
   "metadata": {},
   "outputs": [
    {
     "data": {
      "text/plain": [
       "[1,\n",
       " 0,\n",
       " [0, 188, 112],\n",
       " [21.047790171749877, 14.66680545792326, 14.636287632112722],\n",
       " 'タイトル 順序 mobicontrol 設定 情報',\n",
       " 'タイトル 順序 MobiControl 設定 サブタイトル 関する情報を教えてください']"
      ]
     },
     "execution_count": 248,
     "metadata": {},
     "output_type": "execute_result"
    }
   ],
   "source": [
    "container[0]"
   ]
  },
  {
   "cell_type": "code",
   "execution_count": 213,
   "metadata": {},
   "outputs": [
    {
     "data": {
      "text/plain": [
       "[15, 362, 223]"
      ]
     },
     "execution_count": 213,
     "metadata": {},
     "output_type": "execute_result"
    }
   ],
   "source": [
    "page_answers"
   ]
  },
  {
   "cell_type": "markdown",
   "metadata": {},
   "source": [
    "### This part was recommended in the BERT service github\n"
   ]
  },
  {
   "cell_type": "markdown",
   "metadata": {},
   "source": [
    "##### Running the server  bert-serving-start -model_dir /tmp/english_L-12_H-768_A-12/ -num_worker=4 \n",
    "https://github.com/hanxiao/bert-as-service"
   ]
  }
 ],
 "metadata": {
  "kernelspec": {
   "display_name": "Python 3",
   "language": "python",
   "name": "python3"
  },
  "language_info": {
   "codemirror_mode": {
    "name": "ipython",
    "version": 3
   },
   "file_extension": ".py",
   "mimetype": "text/x-python",
   "name": "python",
   "nbconvert_exporter": "python",
   "pygments_lexer": "ipython3",
   "version": "3.6.9"
  }
 },
 "nbformat": 4,
 "nbformat_minor": 4
}
