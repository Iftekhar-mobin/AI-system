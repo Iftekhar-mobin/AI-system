{
 "cells": [
  {
   "cell_type": "code",
   "execution_count": 1,
   "metadata": {},
   "outputs": [],
   "source": [
    "import fasttext"
   ]
  },
  {
   "cell_type": "code",
   "execution_count": 11,
   "metadata": {},
   "outputs": [],
   "source": [
    "model = fasttext.train_unsupervised('/home/iftekhar/AI-system/retrieval_Model/2VECs_models/wikidata/cleaned_fresh.txt', dim=100)"
   ]
  },
  {
   "cell_type": "code",
   "execution_count": 13,
   "metadata": {},
   "outputs": [],
   "source": [
    "model.save_model('/home/iftekhar/AI-system/retrieval_Model/2VECs_models/wikidata/fastext_exp.model')"
   ]
  },
  {
   "cell_type": "code",
   "execution_count": 9,
   "metadata": {},
   "outputs": [
    {
     "name": "stderr",
     "output_type": "stream",
     "text": [
      "\n"
     ]
    }
   ],
   "source": [
    "fn = fasttext.load_model('/home/iftekhar/AI-system/retrieval_Model/2VECs_models/wikidata/fasttext.model.bin')"
   ]
  },
  {
   "cell_type": "code",
   "execution_count": 10,
   "metadata": {},
   "outputs": [
    {
     "ename": "AttributeError",
     "evalue": "'_FastText' object has no attribute 'get_nearest_neighbors'",
     "output_type": "error",
     "traceback": [
      "\u001b[0;31m---------------------------------------------------------------------------\u001b[0m",
      "\u001b[0;31mAttributeError\u001b[0m                            Traceback (most recent call last)",
      "\u001b[0;32m<ipython-input-10-7dcdd34bca0f>\u001b[0m in \u001b[0;36m<module>\u001b[0;34m\u001b[0m\n\u001b[0;32m----> 1\u001b[0;31m \u001b[0mfn\u001b[0m\u001b[0;34m.\u001b[0m\u001b[0mget_nearest_neighbors\u001b[0m\u001b[0;34m(\u001b[0m\u001b[0;34m'asparagus'\u001b[0m\u001b[0;34m)\u001b[0m\u001b[0;34m\u001b[0m\u001b[0;34m\u001b[0m\u001b[0m\n\u001b[0m",
      "\u001b[0;31mAttributeError\u001b[0m: '_FastText' object has no attribute 'get_nearest_neighbors'"
     ]
    }
   ],
   "source": [
    "fn.get_nearest_neighbors('asparagus')"
   ]
  },
  {
   "cell_type": "code",
   "execution_count": 1,
   "metadata": {},
   "outputs": [],
   "source": [
    "from gensim.models.fasttext import load_facebook_model\n",
    "# model = load_facebook_model('/home/iftekhar/myworkplace/AI-system/2VECs_models/word2vec/fasttext_model.bin')\n",
    "model = load_facebook_model('/home/iftekhar/AI-system/retrieval_Model/2VECs_models/wikidata/fasttext.model.bin')"
   ]
  },
  {
   "cell_type": "code",
   "execution_count": 4,
   "metadata": {},
   "outputs": [
    {
     "name": "stderr",
     "output_type": "stream",
     "text": [
      "/home/iftekhar/amiebot/experiment_env/lib/python3.6/site-packages/ipykernel_launcher.py:1: DeprecationWarning: Call to deprecated `most_similar` (Method will be removed in 4.0.0, use self.wv.most_similar() instead).\n",
      "  \"\"\"Entry point for launching an IPython kernel.\n"
     ]
    },
    {
     "data": {
      "text/plain": [
       "[('辞し', 0.8098264932632446),\n",
       " ('役職', 0.8092032074928284),\n",
       " ('同職', 0.7878521680831909),\n",
       " ('辞する', 0.7719898223876953),\n",
       " ('就く', 0.7515608072280884),\n",
       " ('名誉職', 0.7405569553375244),\n",
       " ('復職', 0.7396392822265625),\n",
       " ('職務', 0.737042248249054),\n",
       " ('職位', 0.7357713580131531),\n",
       " ('就い', 0.7335347533226013)]"
      ]
     },
     "execution_count": 4,
     "metadata": {},
     "output_type": "execute_result"
    }
   ],
   "source": [
    "model.most_similar('職')"
   ]
  },
  {
   "cell_type": "code",
   "execution_count": 2,
   "metadata": {},
   "outputs": [
    {
     "data": {
      "text/plain": [
       "[('AMobiControl', 0.9892257452011108),\n",
       " ('SCEPMobiControl', 0.9887818098068237),\n",
       " ('MobiControlMyWeb', 0.9823577404022217),\n",
       " ('ManualMobiControl', 0.977141261100769),\n",
       " ('MObiControl', 0.9649999141693115),\n",
       " ('ActiveSyncMobiControl', 0.9644508361816406),\n",
       " ('MobiControlWindowsUtility', 0.9632450342178345),\n",
       " ('mobileconfigMobiControl', 0.9280022382736206),\n",
       " ('Control', 0.9104872941970825),\n",
       " ('ManualApple', 0.9095331430435181)]"
      ]
     },
     "execution_count": 2,
     "metadata": {},
     "output_type": "execute_result"
    }
   ],
   "source": [
    "model.wv.similar_by_word(\"MobiControl\")"
   ]
  },
  {
   "cell_type": "code",
   "execution_count": 3,
   "metadata": {},
   "outputs": [
    {
     "data": {
      "text/plain": [
       "'EOS\\n'"
      ]
     },
     "execution_count": 3,
     "metadata": {},
     "output_type": "execute_result"
    }
   ],
   "source": [
    "import MeCab\n",
    "mt = MeCab.Tagger('')\n",
    "mt.parse('')"
   ]
  },
  {
   "cell_type": "code",
   "execution_count": 8,
   "metadata": {},
   "outputs": [],
   "source": [
    "def cos_sim(v1, v2):\n",
    "    return np.dot(v1, v2) / (np.linalg.norm(v1) * np.linalg.norm(v2))\n"
   ]
  },
  {
   "cell_type": "code",
   "execution_count": null,
   "metadata": {},
   "outputs": [],
   "source": [
    "import numpy as np\n",
    "query = 'CE 後継 ある Windows Embedded プラットフォーム 電話機 なにで'\n"
   ]
  },
  {
   "cell_type": "code",
   "execution_count": 13,
   "metadata": {},
   "outputs": [],
   "source": [
    "X = model.wv.get_vector(query)"
   ]
  },
  {
   "cell_type": "code",
   "execution_count": 11,
   "metadata": {},
   "outputs": [],
   "source": [
    "Y = model.wv.get_vector('インストール べき に関する 情報 送り 送る べき どうでしたか')"
   ]
  },
  {
   "cell_type": "code",
   "execution_count": 15,
   "metadata": {},
   "outputs": [
    {
     "data": {
      "text/plain": [
       "0.7527098"
      ]
     },
     "execution_count": 15,
     "metadata": {},
     "output_type": "execute_result"
    }
   ],
   "source": [
    "cos_sim(X,Y)"
   ]
  },
  {
   "cell_type": "markdown",
   "metadata": {},
   "source": [
    "## Compression"
   ]
  },
  {
   "cell_type": "code",
   "execution_count": null,
   "metadata": {},
   "outputs": [],
   "source": [
    "from gensim.models.fasttext import load_facebook_model \n",
    "import compress_fasttext\n",
    "big_model = load_facebook_model('/home/iftekhar/myworkplace/AI-system/2VECs_models/word2vec/fasttext_model.model')\n"
   ]
  },
  {
   "cell_type": "code",
   "execution_count": null,
   "metadata": {},
   "outputs": [],
   "source": [
    "small_model = compress_fasttext.svd_ft(big_model)\n",
    "small_model.save('/home/iftekhar/myworkplace/AI-system/2VECs_models/word2vec/fasttext_model_compressed.bin')"
   ]
  },
  {
   "cell_type": "markdown",
   "metadata": {},
   "source": [
    "## Convertion"
   ]
  },
  {
   "cell_type": "code",
   "execution_count": null,
   "metadata": {},
   "outputs": [],
   "source": [
    "# Now instead of 16Gb of RAM, our model will take only 10Gb.\n",
    "from gensim.models import FastText\n",
    "# Original fasttext embeddings from https://fasttext.cc/\n",
    "ft = FastText.load_fasttext_format('/home/iftekhar/myworkplace/AI-system/2VECs_models/word2vec/fasttext_model.model')\n",
    "# we are not saving trainables here\n",
    "#big_model.wv.save('/home/iftekhar/myworkplace/AI-system/2VECs_models/word2vec/fasttext_model.model')\n"
   ]
  },
  {
   "cell_type": "markdown",
   "metadata": {},
   "source": [
    "## Training Fasttext"
   ]
  },
  {
   "cell_type": "code",
   "execution_count": 11,
   "metadata": {},
   "outputs": [],
   "source": [
    "from gensim.models.fasttext import FastText\n",
    "from gensim.models.word2vec import LineSentence"
   ]
  },
  {
   "cell_type": "code",
   "execution_count": 12,
   "metadata": {},
   "outputs": [],
   "source": [
    "sentences = LineSentence('/home/ifte/resource/wikiextractor/wikidata/eng/wikidata_all_processed_cleaned.txt')\n"
   ]
  },
  {
   "cell_type": "code",
   "execution_count": null,
   "metadata": {},
   "outputs": [],
   "source": [
    "model = FastText(size=100, window=10, max_vocab_size=1000000, workers=4) \n",
    "\n",
    "# build the vocabulary\n",
    "model.build_vocab(sentences=sentences)\n",
    "\n",
    "# train the model\n",
    "model.train(sentences=sentences, total_examples=len(sentences))\n",
    "model.save('/home/ifte/resource/wikiextractor/wikidata/eng/wikidata/en_fasttext_model.bin')"
   ]
  },
  {
   "cell_type": "code",
   "execution_count": null,
   "metadata": {},
   "outputs": [],
   "source": [
    "model = FastText(vector_size=4, window=3, min_count=1)  # instantiate\n",
    "model.build_vocab(sentences=common_texts)\n",
    "model.train(sentences=common_texts, total_examples=len(common_texts), epochs=10)  # train"
   ]
  }
 ],
 "metadata": {
  "kernelspec": {
   "display_name": "Python 3",
   "language": "python",
   "name": "python3"
  },
  "language_info": {
   "codemirror_mode": {
    "name": "ipython",
    "version": 3
   },
   "file_extension": ".py",
   "mimetype": "text/x-python",
   "name": "python",
   "nbconvert_exporter": "python",
   "pygments_lexer": "ipython3",
   "version": "3.6.9"
  }
 },
 "nbformat": 4,
 "nbformat_minor": 4
}
