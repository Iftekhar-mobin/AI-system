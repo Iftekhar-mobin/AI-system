{
 "cells": [
  {
   "cell_type": "code",
   "execution_count": 1,
   "metadata": {},
   "outputs": [],
   "source": [
    "from gensim.models import KeyedVectors"
   ]
  },
  {
   "cell_type": "code",
   "execution_count": 2,
   "metadata": {},
   "outputs": [],
   "source": [
    "reloaded_word_vectors = KeyedVectors.load_word2vec_format('/home/ifte/resource/wikiextractor/wikidata/eng/fasttext.model.vec')"
   ]
  },
  {
   "cell_type": "code",
   "execution_count": 4,
   "metadata": {},
   "outputs": [
    {
     "data": {
      "text/plain": [
       "[('rabbit', 0.9152181148529053),\n",
       " ('cats', 0.8983903527259827),\n",
       " ('dog', 0.8909062743186951),\n",
       " ('beagle', 0.8861765265464783),\n",
       " ('fox', 0.8854076266288757),\n",
       " ('weasel', 0.8816766738891602),\n",
       " ('raccoon', 0.8808371424674988),\n",
       " ('kitten', 0.8751438856124878),\n",
       " ('monkey', 0.8721661567687988),\n",
       " ('pet', 0.867721438407898)]"
      ]
     },
     "execution_count": 4,
     "metadata": {},
     "output_type": "execute_result"
    }
   ],
   "source": [
    "reloaded_word_vectors.most_similar('cat')"
   ]
  },
  {
   "cell_type": "code",
   "execution_count": 1,
   "metadata": {},
   "outputs": [],
   "source": [
    "from gensim.models import fasttext\n"
   ]
  },
  {
   "cell_type": "code",
   "execution_count": 2,
   "metadata": {},
   "outputs": [],
   "source": [
    "m = fasttext.load_facebook_model('/home/ifte/resource/wikiextractor/wikidata/eng/fasttext.model.bin')"
   ]
  },
  {
   "cell_type": "code",
   "execution_count": 3,
   "metadata": {},
   "outputs": [
    {
     "name": "stderr",
     "output_type": "stream",
     "text": [
      "/home/ifte/environments/experiment_env/lib/python3.6/site-packages/ipykernel_launcher.py:1: DeprecationWarning: Call to deprecated `most_similar` (Method will be removed in 4.0.0, use self.wv.most_similar() instead).\n",
      "  \"\"\"Entry point for launching an IPython kernel.\n"
     ]
    },
    {
     "data": {
      "text/plain": [
       "[('rabbit', 0.9152184128761292),\n",
       " ('cats', 0.8983899354934692),\n",
       " ('dog', 0.8909075260162354),\n",
       " ('beagle', 0.8861777186393738),\n",
       " ('fox', 0.8854079842567444),\n",
       " ('weasel', 0.8816766738891602),\n",
       " ('raccoon', 0.8808373212814331),\n",
       " ('kitten', 0.875144898891449),\n",
       " ('monkey', 0.872164249420166),\n",
       " ('pet', 0.8677222728729248)]"
      ]
     },
     "execution_count": 3,
     "metadata": {},
     "output_type": "execute_result"
    }
   ],
   "source": [
    "m.most_similar('cat')"
   ]
  }
 ],
 "metadata": {
  "kernelspec": {
   "display_name": "Python 3",
   "language": "python",
   "name": "python3"
  },
  "language_info": {
   "codemirror_mode": {
    "name": "ipython",
    "version": 3
   },
   "file_extension": ".py",
   "mimetype": "text/x-python",
   "name": "python",
   "nbconvert_exporter": "python",
   "pygments_lexer": "ipython3",
   "version": "3.6.9"
  }
 },
 "nbformat": 4,
 "nbformat_minor": 4
}
