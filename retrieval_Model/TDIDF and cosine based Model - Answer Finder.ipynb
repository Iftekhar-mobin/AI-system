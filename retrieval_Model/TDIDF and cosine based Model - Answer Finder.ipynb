{
 "cells": [
  {
   "cell_type": "code",
   "execution_count": 1,
   "metadata": {},
   "outputs": [],
   "source": [
    "import pandas as pd\n",
    "from pathlib import Path\n",
    "from sklearn.model_selection import train_test_split\n",
    "from sklearn.feature_extraction.text import TfidfVectorizer \n",
    "import random\n",
    "import io\n",
    "import string\n",
    "from sklearn.metrics.pairwise import cosine_similarity\n",
    "import MeCab \n",
    "import numpy as np"
   ]
  },
  {
   "cell_type": "code",
   "execution_count": 4,
   "metadata": {},
   "outputs": [],
   "source": [
    "mecab = MeCab.Tagger('-Owakati')\n",
    "\n",
    "p = Path(\"/home/ifte/amiebot_project/amie-HelpBot/mobicontrol_data/corpus_mobicontrol.csv\")\n",
    "df = pd.read_csv(p, header=0, usecols=[\"page\", \"text\"])"
   ]
  },
  {
   "cell_type": "code",
   "execution_count": 5,
   "metadata": {},
   "outputs": [],
   "source": [
    "# Keyword Matching\n",
    "GREETING_INPUTS = (\"hello\", \"hi\", \"greetings\", \"sup\", \"what's up\",\"hey\",)\n",
    "GREETING_RESPONSES = [\"hi\", \"hey\", \"*nods*\", \"hi there\", \"hello\", \"I am glad! You are talking to me\"]\n",
    "\n",
    "def greeting(sentence):\n",
    "    \"\"\"If user's input is a greeting, return a greeting response\"\"\"\n",
    "    for word in sentence.split():\n",
    "        if word.lower() in GREETING_INPUTS:\n",
    "            return random.choice(GREETING_RESPONSES)"
   ]
  },
  {
   "cell_type": "code",
   "execution_count": 6,
   "metadata": {},
   "outputs": [],
   "source": [
    "import re\n",
    "\n",
    "def clean_text(text):\n",
    "    replaced_text = re.sub(r'[【】]', ' ', text)       # 【】の除去\n",
    "    replaced_text = re.sub(r'[・_]', '', replaced_text)       # ・ の除去\n",
    "    replaced_text = re.sub(r'[（）()]', ' ', replaced_text)     # （）の除去\n",
    "    replaced_text = re.sub(r'[［］\\[\\]]', ' ', replaced_text)   # ［］の除去\n",
    "    replaced_text = re.sub(r'[@＠]\\w+', '', replaced_text)  # メンションの除去\n",
    "    replaced_text = re.sub(r'https?:\\/\\/.*?[\\r\\n ]', '', replaced_text)  # URLの除去\n",
    "    replaced_text = re.sub(r'　', ' ', replaced_text)  # 全角空白の除去\n",
    "    replaced_text = re.sub(r'\\d+', '', replaced_text) # 数字の除去\n",
    "    replaced_text = re.sub(r'[-/。,、.=]', ' ', replaced_text)\n",
    "    return replaced_text"
   ]
  },
  {
   "cell_type": "code",
   "execution_count": 7,
   "metadata": {},
   "outputs": [],
   "source": [
    "stop_words_ja = []\n",
    "STOPWORD_FILE = Path(\"/home/ifte/amiebot_project/amie-HelpBot/amie_helpbot/\" + '/assets/learning/stopword_ja.txt')\n",
    "with open(STOPWORD_FILE, encoding='utf-8') as fr:\n",
    "    stop_words_ja = fr.read().splitlines()"
   ]
  },
  {
   "cell_type": "code",
   "execution_count": 8,
   "metadata": {},
   "outputs": [],
   "source": [
    "y = df[[\"page\"]]\n",
    "X = df[\"text\"].apply(lambda x: mecab.parse(x).strip(\"\\n\"))\n",
    "df['parsed'] = X "
   ]
  },
  {
   "cell_type": "code",
   "execution_count": 9,
   "metadata": {},
   "outputs": [],
   "source": [
    "classes = df.page.unique()\n",
    "c_size = 100\n",
    "\n",
    "result = pd.DataFrame()\n",
    "\n",
    "for i in list(classes):\n",
    "    arr_index = df[df.page == i].parsed.values\n",
    "    data = ''.join(list(arr_index))\n",
    "    \n",
    "    all_data = clean_text(data)\n",
    "    \n",
    "    arr_words = np.array(all_data.split())\n",
    "    #print(arr_words) \n",
    "    \n",
    "    num = arr_words.shape[0]//c_size\n",
    "    full = c_size * num\n",
    "    rest = arr_words.shape[0] - full\n",
    "    \n",
    "    pad = np.zeros([c_size-rest], dtype=int)\n",
    "    sc = np.concatenate((arr_words,pad))\n",
    "    features = sc.reshape(num+1, c_size)\n",
    "    \n",
    "    df_v = pd.DataFrame(features)\n",
    "    df_v[\"cls\"] = i\n",
    "    \n",
    "    result = pd.concat([result, df_v]) \n",
    "\n",
    "    \n",
    "#print(result)\n",
    "#result.to_csv('processed.csv')"
   ]
  },
  {
   "cell_type": "code",
   "execution_count": 10,
   "metadata": {},
   "outputs": [
    {
     "name": "stderr",
     "output_type": "stream",
     "text": [
      "/home/ifte/amiebot_project/lib/python3.6/site-packages/ipykernel_launcher.py:3: FutureWarning: The signature of `Series.to_csv` was aligned to that of `DataFrame.to_csv`, and argument 'header' will change its default value from False to True: please pass an explicit value to suppress this warning.\n",
      "  This is separate from the ipykernel package so we can avoid doing imports until\n"
     ]
    }
   ],
   "source": [
    "Data_cols = result.iloc[:,:-1]\n",
    "tog = Data_cols.apply(lambda x: ' '.join(x), axis=1)\n",
    "tog.to_csv(\"tog.csv\")\n",
    "sent = list(tog.values)"
   ]
  },
  {
   "cell_type": "code",
   "execution_count": 14,
   "metadata": {},
   "outputs": [
    {
     "data": {
      "text/plain": [
       "TfidfVectorizer(analyzer='word', binary=False, decode_error='strict',\n",
       "                dtype=<class 'numpy.float64'>, encoding='utf-8',\n",
       "                input='content', lowercase=True, max_df=0.95, max_features=None,\n",
       "                min_df=1, ngram_range=(1, 2), norm='l2', preprocessor=None,\n",
       "                smooth_idf=True,\n",
       "                stop_words=['あそこ', 'あたり', 'あちら', 'あっち', 'あと', 'あな', 'あなた', 'あれ',\n",
       "                            'いくつ', 'いつ', 'いま', 'いや', 'いろいろ', 'うち', 'おおまか',\n",
       "                            'おまえ', 'おれ', 'がい', 'かく', 'かたち', 'かやの', 'から', 'がら',\n",
       "                            'きた', 'くせ', 'ここ', 'こっち', 'こと', 'ごと', 'こちら', ...],\n",
       "                strip_accents=None, sublinear_tf=False,\n",
       "                token_pattern='(?u)\\\\b\\\\w\\\\w+\\\\b', tokenizer=None, use_idf=True,\n",
       "                vocabulary=None)"
      ]
     },
     "execution_count": 14,
     "metadata": {},
     "output_type": "execute_result"
    }
   ],
   "source": [
    "vectorizer = TfidfVectorizer(ngram_range=(1, 2), stop_words=stop_words_ja, max_df=0.95)\n",
    "vectorizer.fit(sent)"
   ]
  },
  {
   "cell_type": "code",
   "execution_count": 15,
   "metadata": {
    "scrolled": true
   },
   "outputs": [
    {
     "name": "stdout",
     "output_type": "stream",
     "text": [
      "Please enter a question: \n",
      "mobicontrol database\n"
     ]
    }
   ],
   "source": [
    "# Read a question from the user\n",
    "question = [input('Please enter a question: \\n')]\n",
    "question = vectorizer.transform(question)\n",
    "\n",
    "# Rank all the questions using cosine similarity to the input question\n",
    "rank = cosine_similarity(question, vectorizer.transform(sent))\n"
   ]
  },
  {
   "cell_type": "code",
   "execution_count": 16,
   "metadata": {},
   "outputs": [
    {
     "name": "stdout",
     "output_type": "stream",
     "text": [
      "PageID:  24 idx 575 = 入力 欄 に MobiControl サーバ の ドメイン に ssp を つけ て 入力 し ます 仮に MobiControl サーバ の URL が https : mobicontrol nippon co jp MobiControl だっ た と し ます https : mobicontrol nippon co jp ssp と 入力 し ます MobiControl の 最初 の インストール が V 以前 の 場合 ブラウザ の URL 入力 欄 に MobiControl サーバ の URL に サブフォルダ m を つけ て 入力 し ます 仮に MobiControl サーバ の URL が https : mobicontrol nippon co jp MobiControl だっ た と し ます https : mobicontrol nippon co jp MobiControl m と\n",
      "\n",
      " ########## \n",
      "\n",
      "PageID:  24 idx 566 = の ドメイン に ssp を つけ て 入力 し ます 仮に MobiControl サーバ の URL が https : mobicontrol nippon co jp MobiControl だっ た と し ます https : mobicontrol nippon co jp ssp と 入力 し ます MobiControl の 最初 の インストール が V 以前 の 場合 ブラウザ の URL 入力 欄 に MobiControl サーバ の URL に サブフォルダ m を つけ て 入力 し ます 仮に MobiControl サーバ の URL が https : mobicontrol nippon co jp MobiControl だっ た と し ます https : mobicontrol nippon co jp MobiControl m と 入力 し ます 現在 MobiControl\n",
      "\n",
      " ########## \n",
      "\n",
      "PageID:  324 idx 6728 = ファイル として の 指定 解除 Archive ファイル は 前回 の バックアップ 以降 に 変更 さ れ た ファイル attrib + S ドライブ パス ファイル 名 System ファイル として 設定 attrib S ドライブ パス ファイル 名 System ファイル として の 指定 解除 attrib + H ドライブ パス ファイル 名 Hidden ファイル 隠し ファイル として 設定 attrib H ドライブ パス ファイル 名 Hidden ファイル として の 指定 解除 サンプル attrib + A C : \\ Document \\ database info txt cd 説明 Directory フォルダ を 変更 構文 cd 変更 先 の ディレクトリ 名 サンプル cd download download という 名前 の ディレクトリ に\n",
      "\n",
      " ########## \n",
      "\n",
      "PageID:  324 idx 6768 = として の 指定 解除 Archive ファイル は 前回 の バックアップ 以降 に 変更 さ れ た ファイル attrib + S ドライブ パス ファイル 名 System ファイル として 設定 attrib S ドライブ パス ファイル 名 System ファイル として の 指定 解除 attrib + H ドライブ パス ファイル 名 Hidden ファイル 隠し ファイル として 設定 attrib H ドライブ パス ファイル 名 Hidden ファイル として の 指定 解除 サンプル attrib + A C : \\ Document \\ database info txt cd 説明 Directory フォルダ を 変更 構文 cd 変更 先 の ディレクトリ 名 サンプル cd download download という 名前 の ディレクトリ に セッション\n",
      "\n",
      " ########## \n",
      "\n",
      "PageID:  74 idx 1413 = ファイル として の 指定 解除 サンプル attrib + A : \\ database info txt cd 説明 Directory フォルダ を 変更 構文 cd 変更 先 の ディレクトリ 名 サンプル cd download download という 名前 の ディレクトリ に セッション を 移す certdelete 説明 端末 に ある 端末 証明 書 を 削除 する 構文 certdelete issuer \"< 発行 者 名 >\" sn \"< 証明 書 の シリアル 番号 >\" サンプル certdelete issuer \"* apache org \" sn A DB A AFF certimport 説明 X 形式 の 証明 書 を 端末 に イン ポート し ます 証明 書 は DER または Base の エン\n",
      "\n",
      " ########## \n",
      "\n"
     ]
    }
   ],
   "source": [
    "# Grab the top 5\n",
    "top = np.argsort(rank, axis=-1).T[-5:]\n",
    "#print(top)\n",
    "\n",
    "# Print top 5\n",
    "for item in range(len(top)):\n",
    "    idx = top[item,0]\n",
    "    \n",
    "    # if the dataset file structure \"Quesition | Answer\" then use following line  \n",
    "    #print(data['Answer'].iloc[item].values[0])\n",
    "    print(\"PageID: \",result.iloc[idx,-1],\"idx\",idx,\"=\",tog.values[idx])\n",
    "    print(\"\\n ########## \\n\")"
   ]
  },
  {
   "cell_type": "code",
   "execution_count": 97,
   "metadata": {},
   "outputs": [
    {
     "data": {
      "text/plain": [
       "array([['SDK', 'for', 'iOS', ..., 'の', '表示', 261],\n",
       "       ['フォント', 'の', '管理', ..., 'リモート', '表示', 261],\n",
       "       ['など', 'メッセージ', 'を', ..., 'MobiControl', 'で', 261],\n",
       "       ...,\n",
       "       ['MobiControl', 'サーバ', 'に', ..., 'jp', 'DS', 261],\n",
       "       ['MC', 'ROOT', 'CERTS', ..., 'サーバ', 'の', 261],\n",
       "       ['サイト', '名', 'を', ..., '0', '0', 261]], dtype=object)"
      ]
     },
     "execution_count": 97,
     "metadata": {},
     "output_type": "execute_result"
    }
   ],
   "source": [
    "result.loc[(result['cls'] == result.iloc[idx,-1])].values"
   ]
  }
 ],
 "metadata": {
  "kernelspec": {
   "display_name": "Python 3",
   "language": "python",
   "name": "python3"
  },
  "language_info": {
   "codemirror_mode": {
    "name": "ipython",
    "version": 3
   },
   "file_extension": ".py",
   "mimetype": "text/x-python",
   "name": "python",
   "nbconvert_exporter": "python",
   "pygments_lexer": "ipython3",
   "version": "3.6.8"
  }
 },
 "nbformat": 4,
 "nbformat_minor": 2
}
