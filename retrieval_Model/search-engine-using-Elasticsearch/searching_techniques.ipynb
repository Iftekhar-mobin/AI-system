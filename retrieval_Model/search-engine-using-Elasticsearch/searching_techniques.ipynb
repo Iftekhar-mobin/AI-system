{
 "cells": [
  {
   "cell_type": "code",
   "execution_count": 1,
   "metadata": {},
   "outputs": [],
   "source": [
    "from elasticsearch import Elasticsearch\n",
    "from elasticsearch_dsl import Search\n",
    "\n",
    "client = Elasticsearch('localhost:9200')"
   ]
  },
  {
   "cell_type": "code",
   "execution_count": null,
   "metadata": {},
   "outputs": [],
   "source": [
    "s = Search(using=client, index=\"dataset\") \\\n",
    "    .filter(\"term\", category=\"search\") \\\n",
    "    .query(\"match\", title=\"python\")   \\\n",
    "    .exclude(\"match\", description=\"beta\")"
   ]
  },
  {
   "cell_type": "code",
   "execution_count": 4,
   "metadata": {},
   "outputs": [],
   "source": [
    "s = Search(using=client, index=\"dataset\").query(\"match\", text=\"DVD\")   "
   ]
  },
  {
   "cell_type": "code",
   "execution_count": 5,
   "metadata": {},
   "outputs": [
    {
     "data": {
      "text/plain": [
       "<Response: [<Hit(dataset/12): {'Unnamed: 0': 12, 'page': 12, 'title': '映画 ドラマ  マーケット', 'te...}>, <Hit(dataset/11): {'Unnamed: 0': 11, 'page': 11, 'title': 'エン タメ  マーケット', 'tex...}>, <Hit(dataset/3): {'Unnamed: 0': 3, 'page': 3, 'title': ' 買い物  マーケット', 'text':...}>, <Hit(dataset/6): {'Unnamed: 0': 6, 'page': 6, 'title': '習う  マーケット', 'text': '...}>, <Hit(dataset/2): {'Unnamed: 0': 2, 'page': 2, 'title': '音楽  マーケット', 'text': '...}>, <Hit(dataset/893): {'Unnamed: 0': 893, 'page': 893, 'title': '乗り物  便利 赤ちゃん 旅行  ...}>]>"
      ]
     },
     "execution_count": 5,
     "metadata": {},
     "output_type": "execute_result"
    }
   ],
   "source": [
    "response = s.execute()\n",
    "response"
   ]
  },
  {
   "cell_type": "code",
   "execution_count": 6,
   "metadata": {},
   "outputs": [
    {
     "name": "stdout",
     "output_type": "stream",
     "text": [
      "8.678354 映画 ドラマ  マーケット\n",
      "8.516943 エン タメ  マーケット\n",
      "7.8591595  買い物  マーケット\n",
      "7.08802 習う  マーケット\n",
      "6.9799786 音楽  マーケット\n",
      "5.2839513 乗り物  便利 赤ちゃん 旅行  持ち物 リスト  トラベル\n"
     ]
    }
   ],
   "source": [
    "for hit in response:\n",
    "    print(hit.meta.score, hit.title)"
   ]
  },
  {
   "cell_type": "code",
   "execution_count": 10,
   "metadata": {},
   "outputs": [],
   "source": [
    "import json"
   ]
  },
  {
   "cell_type": "code",
   "execution_count": 32,
   "metadata": {},
   "outputs": [],
   "source": [
    "search_param = {\n",
    "    \"query\": {\n",
    "        \"match\": {\n",
    "            \"text\": \"DVD\",\n",
    "#             \"fuzziness\": \"AUTO\",\n",
    "#             \"fuzzy_transpositions\": True,\n",
    "#             \"operator\":  \"or\",\n",
    "#             \"minimum_should_match\": 1,\n",
    "#             \"analyzer\": \"my_kuromoji_analyzer\"\n",
    "        }\n",
    "    }\n",
    "}"
   ]
  },
  {
   "cell_type": "code",
   "execution_count": 43,
   "metadata": {},
   "outputs": [],
   "source": [
    "# give high importance to specific fileds, here 4 times than text\n",
    "search_param = {\n",
    "  \"query\": {\n",
    "    \"multi_match\": {\n",
    "      \"query\": \"DVD\",\n",
    "      \"fields\": [\"title^4\", \"text\"]\n",
    "    }\n",
    "  }\n",
    "}"
   ]
  },
  {
   "cell_type": "code",
   "execution_count": 49,
   "metadata": {},
   "outputs": [],
   "source": [
    "## SELECT * FROM table in SQL.\n",
    "{ \"match_all\": {} }\n",
    "{ \"match\": { \"description\": \"Fourier analysis signals processing\" }}\n",
    "{ \"match\": { \"date\": \"2014-09-01\" }}\n",
    "{ \"match\": { \"visible\": true }}\n",
    "\n",
    "## all documents with the tag “math”. \n",
    "## The second query finds all documents with the tags “math” or “statistics”.\n",
    "{ \"term\": { \"tag\": \"math\" }}\n",
    "{ \"terms\": { \"tag\": [\"math\", \"statistics\"] }}\n",
    "\n",
    "## run across multiple fields instead of just one.\n",
    "{\n",
    "  \"multi_match\": {\n",
    "    \"query\": \"probability theory\",\n",
    "    \"fields\": [\"title\", \"body\"]\n",
    "  }\n",
    "}\n",
    "\n",
    "{\n",
    "    \"bool\": {\n",
    "        \"must\":     { \"term\": { \"tag\":    \"math\" }},\n",
    "        \"must_not\": { \"term\": { \"tag\":    \"probability\"  }},\n",
    "        \"should\": [\n",
    "                    { \"term\": { \"favorite\": true   }},\n",
    "                    { \"term\": { \"unread\":  true   }}\n",
    "        ]\n",
    "    }\n",
    "}\n",
    "\n",
    "{\n",
    "   \"filtered\": {\n",
    "     \"query\": { \"match\": { \"body\": \"Probability Theory\" }},\n",
    "     \"filter\": { \n",
    "        \"bool\": {\n",
    "          \"must\": {\n",
    "            \"range\":  { \"upvotes\" : { \"gt\" : 20 } } \n",
    "           },\n",
    "          \"must_not\": { \"term\":  { \"tag\": \"frequentist\" } }\n",
    "        }\n",
    "     }\n",
    "  }\n",
    "}"
   ]
  },
  {
   "cell_type": "code",
   "execution_count": 50,
   "metadata": {},
   "outputs": [],
   "source": [
    "res= client.search(index='dataset', body=search_param)\n",
    "for hit in res['hits']['hits']:\n",
    "    print(hit['_source']['text'])\n",
    "    print(hit['_score'])\n",
    "    print('**********************')"
   ]
  },
  {
   "cell_type": "code",
   "execution_count": null,
   "metadata": {},
   "outputs": [],
   "source": [
    "res= es.search(index='megacorp',body={\n",
    "        'query':{\n",
    "            'bool':{\n",
    "                'must':[{\n",
    "                        'match':{\n",
    "                            'first_name':'nitin'\n",
    "                        }\n",
    "                    }]\n",
    "            }\n",
    "        }\n",
    "    })"
   ]
  },
  {
   "cell_type": "code",
   "execution_count": null,
   "metadata": {},
   "outputs": [],
   "source": [
    "res= es.search(index='megacorp',body={\n",
    "        'query':{\n",
    "            'bool':{\n",
    "                'must':{\n",
    "                    'match':{\n",
    "                        'first_name':'nitin'\n",
    "                    }\n",
    "                },\n",
    "                \"filter\":{\n",
    "                    \"range\":{\n",
    "                        \"age\":{\n",
    "                            \"gt\":25\n",
    "                        }\n",
    "                    }\n",
    "                }\n",
    "            }\n",
    "        }\n",
    "    })\n",
    "print res['hits']['hits']"
   ]
  },
  {
   "cell_type": "code",
   "execution_count": 22,
   "metadata": {},
   "outputs": [
    {
     "name": "stdout",
     "output_type": "stream",
     "text": [
      " マガジン 資格 スキル アップ  ショッピング 雑誌 本 初回 日間 無料  ためし 各種 設定  前  ただいま 検索 結果  取得 でき ませ  時間  改めて 再度 検索   ください  指定  検索 条件  該当 商品  あり ませ  でし  あなた  おすすめ ビジネス ランキング  検索 結果 検索 キーワード  入力   ください もしかして 検索 ビジネス 使え  使う あなた  合っ  コンテンツ  表示   ます 閉じる\n",
      "16.442574\n",
      "**********************\n",
      "初回 日間 無料  ためし  ミュージック 音楽 洋楽  POP  ヒッツ  POP 前  各種 設定  ただいま 検索 結果  取得 でき ませ  時間  改めて 再度 検索   ください  指定  検索 条件  該当 商品  あり ませ  でし  アニメ 使え  使う あなた  合っ  コンテンツ  表示   ます 芸能 アイドル ランキング  検索 結果 閉じる 検索 キーワード  入力   ください もしかして 芸能 アイドル 検索 あなた  おすすめ  ショッピング テレビ\n",
      "16.442574\n",
      "**********************\n",
      "CD DVD 音楽  ショッピング 洋楽  POP  ミュージック  POP  ヒッツ アニメ 初回 日間 無料  ためし 各種 設定  前  ただいま 検索 結果  取得 でき ませ  時間  改めて 再度 検索   ください  指定  検索 条件  該当 商品  あり ませ  でし  ヒップ ホップ   レゲエ 使え  使う あなた  合っ  コンテンツ  表示   ます あなた  おすすめ 音楽 ランキング  検索 結果 閉じる 検索 キーワード  入力   ください もしかして 検索 雑誌 本\n",
      "16.290785\n",
      "**********************\n",
      "スポーツ ウェア 用品 雑誌 本 趣味 アウトドア スポーツ  マガジン 初回 日間 無料  ためし  ショッピング  ブック スポーツ  ゲーム ただいま 検索 結果  取得 でき ませ  時間  改めて 再度 検索   ください 動画 ゲーム 各種 設定  前   指定  検索 条件  該当 商品  あり ませ  でし   アニメ ストア あなた  おすすめ スポーツ ランキング  検索 結果 閉じる 検索 キーワード  入力   ください もしかして 検索 使え  使う あなた  合っ  コンテンツ  表示   ます\n",
      "16.290785\n",
      "**********************\n",
      "初回 日間 無料  ためし dTV ドラマ 韓 流 華 流 洋画 恋愛 青春 映画 各種 設定  前  ただいま 検索 結果  取得 でき ませ  時間  改めて 再度 検索   ください  指定  検索 条件  該当 商品  あり ませ  でし  SF ファンタジー 邦画 恋愛 ランキング  検索 結果 閉じる 検索 キーワード  入力   ください 検索 恋愛 もしかして あなた  おすすめ 海外 ドラマ 使え  使う あなた  合っ  コンテンツ  表示   ます\n",
      "16.290785\n",
      "**********************\n",
      " マガジン 雑誌 本 初回 日間 無料  ためし  トラベル 東北 ホテル 旅館 首都 圏 北関東 各種 設定  前  ただいま 検索 結果  取得 でき ませ  時間  改めて 再度 検索   ください 九州  指定  検索 条件  該当 商品  あり ませ  でし  あなた  おすすめ  でかけ ランキング 閉じる 検索 キーワード  入力   ください 検索  でかけ もしかして 使え  使う あなた  合っ  コンテンツ  表示   ます  検索 結果 近畿\n",
      "16.142706\n",
      "**********************\n",
      "アニメ 初回 日間 無料  ためし ドラマ dTV  ショッピング 韓 流 華 流 CD DVD DVD 映画 キッズ 洋画 邦画 恋愛 青春  指定  検索 条件  該当 商品  あり ませ  でし  ただいま 検索 結果  取得 でき ませ  時間  改めて 再度 検索   ください 前  各種 設定  SF ファンタジー 使え  使う あなた  合っ  コンテンツ  表示   ます 映画 ドラマ あなた  おすすめ  しかして 検索 キーワード  入力   ください 閉じる 映画 ドラマ ランキング 検索  検索 結果\n",
      "16.142706\n",
      "**********************\n",
      "教育  キッズ 初回 日間 無料  ためし アニメ  POP  ヒッツ マタニティ ベビー キッズ 音楽 dTV キッズ  ショッピング 育児 おむつ ただいま 検索 結果  取得 でき ませ  時間  改めて 再度 検索   ください 各種 設定  前   指定  検索 条件  該当 商品  あり ませ  でし  使え  使う あなた  合っ  コンテンツ  表示   ます あなた  おすすめ キッズランキング  検索 結果 検索 キーワード  入力   ください もしかして 検索 閉じる 水 ソフトドリンク 季節  食品 食品\n",
      "16.142706\n",
      "**********************\n",
      "初回 日間 無料  ためし 恋愛  アニメ ストア 雑誌 本  ブック SF ファンタジー コメディ スポーツ アクション バトル 動画 ただいま 検索 結果  取得 でき ませ  時間  改めて 再度 検索   ください ほのぼの 各種 設定  前   指定  検索 条件  該当 商品  あり ませ  でし  ホラー サスペンス 推理 使え  使う あなた  合っ  コンテンツ  表示   ます 漫画 アニメ ランキング  検索 結果 閉じる 検索 キーワード  入力   ください もしかして 検索 漫画 アニメ あなた  おすすめ\n",
      "16.142706\n",
      "**********************\n",
      " ショッピング 資格 スキル アップ  ブック 雑誌 本 自己 啓発 音楽 各種 設定  前  ただいま 検索 結果  取得 でき ませ  時間  改めて 再度 検索   ください  指定  検索 条件  該当 商品  あり ませ  でし  あなた  おすすめ 習う ランキング  検索 結果 閉じる 検索 キーワード  入力   ください もしかして 検索 習う 使え  使う あなた  合っ  コンテンツ  表示   ます CD DVD\n",
      "16.11793\n",
      "**********************\n"
     ]
    }
   ],
   "source": [
    "res= client.search(index='dataset', body={\n",
    "        'query':{\n",
    "            'match':{\n",
    "                \"text\":\"検索 時間 再度\"\n",
    "            }\n",
    "        }\n",
    "    })\n",
    "for hit in res['hits']['hits']:\n",
    "    print(hit['_source']['text'])\n",
    "    print(hit['_score'])\n",
    "    print('**********************')"
   ]
  },
  {
   "cell_type": "code",
   "execution_count": 17,
   "metadata": {},
   "outputs": [],
   "source": [
    "response = client.search(index=\"dataset\", body=search_param)"
   ]
  },
  {
   "cell_type": "code",
   "execution_count": null,
   "metadata": {},
   "outputs": [],
   "source": [
    "print(response['hits']['hits'])"
   ]
  },
  {
   "cell_type": "code",
   "execution_count": null,
   "metadata": {},
   "outputs": [],
   "source": [
    "response"
   ]
  },
  {
   "cell_type": "code",
   "execution_count": null,
   "metadata": {},
   "outputs": [],
   "source": [
    "## Phrase Search\n",
    "## match exact sequence of words of phrases.\n",
    "res= es.search(index='megacorp',doc_type='employee',body={\n",
    "        'query':{\n",
    "            'match_phrase':{\n",
    "                \"about\":\"play cricket\"\n",
    "            }\n",
    "        }\n",
    "    })"
   ]
  }
 ],
 "metadata": {
  "kernelspec": {
   "display_name": "Python 3",
   "language": "python",
   "name": "python3"
  },
  "language_info": {
   "codemirror_mode": {
    "name": "ipython",
    "version": 3
   },
   "file_extension": ".py",
   "mimetype": "text/x-python",
   "name": "python",
   "nbconvert_exporter": "python",
   "pygments_lexer": "ipython3",
   "version": "3.6.9"
  }
 },
 "nbformat": 4,
 "nbformat_minor": 4
}
