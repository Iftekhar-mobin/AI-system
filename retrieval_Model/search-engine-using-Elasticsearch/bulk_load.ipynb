{
 "cells": [
  {
   "cell_type": "code",
   "execution_count": 1,
   "metadata": {},
   "outputs": [],
   "source": [
    "from datetime import datetime\n",
    "from elasticsearch import Elasticsearch\n",
    "from elasticsearch import helpers"
   ]
  },
  {
   "cell_type": "code",
   "execution_count": 24,
   "metadata": {},
   "outputs": [],
   "source": [
    "es = Elasticsearch(\"localhost:9200\", http_compress=True)"
   ]
  },
  {
   "cell_type": "code",
   "execution_count": 23,
   "metadata": {},
   "outputs": [
    {
     "data": {
      "text/plain": [
       "['page', 'title', 'text', 'key_phrase']"
      ]
     },
     "execution_count": 23,
     "metadata": {},
     "output_type": "execute_result"
    }
   ],
   "source": [
    "df.columns.values.tolist()"
   ]
  },
  {
   "cell_type": "code",
   "execution_count": 55,
   "metadata": {},
   "outputs": [],
   "source": [
    "import pandas as pd\n",
    "df = pd.read_csv('docomo_cleaned.csv')"
   ]
  },
  {
   "cell_type": "code",
   "execution_count": 62,
   "metadata": {},
   "outputs": [],
   "source": [
    "df['key_phrase'] = df['key_phrase'].fillna('0')"
   ]
  },
  {
   "cell_type": "code",
   "execution_count": 64,
   "metadata": {},
   "outputs": [
    {
     "data": {
      "text/plain": [
       "Unnamed: 0    0\n",
       "page          0\n",
       "title         0\n",
       "text          0\n",
       "key_phrase    0\n",
       "dtype: int64"
      ]
     },
     "execution_count": 64,
     "metadata": {},
     "output_type": "execute_result"
    }
   ],
   "source": [
    "df.isnull().sum()"
   ]
  },
  {
   "cell_type": "code",
   "execution_count": 65,
   "metadata": {},
   "outputs": [],
   "source": [
    "use_these_keys = df.columns.values.tolist()\n",
    "def filterKeys(document):\n",
    "    return {key: document[key] for key in use_these_keys }"
   ]
  },
  {
   "cell_type": "code",
   "execution_count": 66,
   "metadata": {},
   "outputs": [],
   "source": [
    "def doc_generator(df):\n",
    "    df_iter = df.iterrows()\n",
    "    i = 0\n",
    "    for index, document in df_iter:\n",
    "        yield {\n",
    "                \"_index\": 'dataset',\n",
    "                \"_type\": \"_doc\",\n",
    "                \"_id\" : f\"{document['page']}\",\n",
    "                \"_source\": filterKeys(document),\n",
    "            }\n",
    "#         print('ok:', i)\n",
    "        i += 1 \n",
    "#     raise StopIteration\n"
   ]
  },
  {
   "cell_type": "code",
   "execution_count": 67,
   "metadata": {},
   "outputs": [
    {
     "name": "stderr",
     "output_type": "stream",
     "text": [
      "/home/iftekhar/amiebot/experiment_env/lib/python3.6/site-packages/elasticsearch/connection/base.py:200: ElasticsearchWarning: [types removal] Specifying types in bulk requests is deprecated.\n",
      "  warnings.warn(message, category=ElasticsearchWarning)\n"
     ]
    },
    {
     "data": {
      "text/plain": [
       "(1364, [])"
      ]
     },
     "execution_count": 67,
     "metadata": {},
     "output_type": "execute_result"
    }
   ],
   "source": [
    "helpers.bulk(es, doc_generator(df))"
   ]
  },
  {
   "cell_type": "markdown",
   "metadata": {},
   "source": [
    "### Preprocessing is happening below"
   ]
  },
  {
   "cell_type": "code",
   "execution_count": 42,
   "metadata": {},
   "outputs": [],
   "source": [
    "import pandas as pd\n",
    "import MeCab\n",
    "import re\n",
    "import random\n",
    "from pathlib import Path\n",
    "\n",
    "\n",
    "mecab = MeCab.Tagger('-Owakati')"
   ]
  },
  {
   "cell_type": "code",
   "execution_count": 46,
   "metadata": {},
   "outputs": [],
   "source": [
    "def single_character_remover(text):\n",
    "    collector = []\n",
    "    for items in text.split():\n",
    "        if len(items) < 2:\n",
    "            replaced = re.sub(r'[ぁ-んァ-ン]', '', items)\n",
    "            replaced = re.sub(r'[A-Za-z]', '', replaced)\n",
    "            replaced = re.sub(r'[0-9]', '', replaced)\n",
    "            collector.append(replaced)\n",
    "        else:\n",
    "            collector.append(items)\n",
    "\n",
    "    return ' '.join([temp.strip(' ') for temp in collector])\n",
    "\n",
    "def get_stop_word_ja():\n",
    "    stop_word_file = Path(\"/home/iftekhar/amiecore_fresh/amieCore/amie_core/core/tokenizer/stopwords/stop_word_ja.txt\")\n",
    "    with open(stop_word_file, encoding='utf-8') as f:\n",
    "        stop_word_list = f.read().splitlines()\n",
    "    return stop_word_list\n",
    "\n",
    "def mecab_tokenization(text):\n",
    "    q = mecab.parse(text)\n",
    "    q_parts = q.split()\n",
    "    return ' '.join([word for word in q_parts if not word in get_stop_word_ja()])\n",
    "\n",
    "def cleaner(text):\n",
    "    collector = []\n",
    "    for items in text.split():\n",
    "        cleaned = clean_text(items)\n",
    "        cleaned = re.sub(r\"\\s+\", '', cleaned)\n",
    "        if cleaned is not '' or cleaned is not ' ':\n",
    "            collector.append(clean_text(items))\n",
    "    return ' '.join(collector)\n",
    "\n",
    "def clean_text(text):\n",
    "    replaced = text.replace(\"\\\\\", \"\")\n",
    "    replaced = replaced.replace(\"+\", \"\")\n",
    "    replaced = re.sub('_', '', replaced)\n",
    "    replaced = re.sub('\\W+', ' ', replaced)\n",
    "    replaced = re.sub(r'￥', '', replaced)  # 【】の除去\n",
    "    replaced = re.sub(r'．', '', replaced)  # ・ の除去\n",
    "    replaced = re.sub(r'｣', '', replaced)  # （）の除去\n",
    "    replaced = re.sub(r'｢', '', replaced)  # ［］の除去\n",
    "    replaced = re.sub(r'～', '', replaced)  # メンションの除去\n",
    "    replaced = re.sub(r'｜', '', replaced)  # URLの除去\n",
    "    replaced = re.sub(r'＠', '', replaced)  # 全角空白の除去\n",
    "    replaced = re.sub(r'？', '', replaced)  # 数字の除去\n",
    "    replaced = re.sub(r'％', '', replaced)\n",
    "    replaced = re.sub(r'＝', '', replaced)\n",
    "    replaced = re.sub(r'！', '', replaced)\n",
    "    replaced = re.sub(r'｝', '', replaced)\n",
    "    replaced = re.sub(r'：', '', replaced)\n",
    "    replaced = re.sub(r'－', '', replaced)\n",
    "    replaced = re.sub(r'･', '', replaced)\n",
    "    replaced = re.sub(r'ｔ', '', replaced)\n",
    "    replaced = re.sub(r'ｋ', '', replaced)\n",
    "    replaced = re.sub(r'ｄ', '', replaced)\n",
    "    replaced = re.sub(r'\\d+', '', replaced)\n",
    "    return replaced\n",
    "\n",
    "def corpus_preprocessing(dataset):\n",
    "    dataset.text = dataset.text.apply(lambda x: mecab_tokenization(x))\n",
    "    dataset.text = dataset.text.apply(lambda x: cleaner(x))\n",
    "    dataset.text = dataset.text.apply(lambda x: single_character_remover(x))\n",
    "    dataset.title = dataset.title.apply(lambda x: mecab_tokenization(x))\n",
    "    dataset.title = dataset.title.apply(lambda x: cleaner(x))\n",
    "    dataset.title = dataset.title.apply(lambda x: single_character_remover(x))\n",
    "    return dataset"
   ]
  },
  {
   "cell_type": "code",
   "execution_count": 47,
   "metadata": {},
   "outputs": [],
   "source": [
    "df = corpus_preprocessing(df)"
   ]
  },
  {
   "cell_type": "code",
   "execution_count": 49,
   "metadata": {},
   "outputs": [],
   "source": [
    "df.to_csv('docomo_cleaned.csv')"
   ]
  },
  {
   "cell_type": "code",
   "execution_count": 53,
   "metadata": {},
   "outputs": [
    {
     "data": {
      "text/plain": [
       "1364"
      ]
     },
     "execution_count": 53,
     "metadata": {},
     "output_type": "execute_result"
    }
   ],
   "source": [
    "df = pd.read_csv('docomo_cleaned.csv')\n",
    "len(df)"
   ]
  }
 ],
 "metadata": {
  "kernelspec": {
   "display_name": "Python 3",
   "language": "python",
   "name": "python3"
  },
  "language_info": {
   "codemirror_mode": {
    "name": "ipython",
    "version": 3
   },
   "file_extension": ".py",
   "mimetype": "text/x-python",
   "name": "python",
   "nbconvert_exporter": "python",
   "pygments_lexer": "ipython3",
   "version": "3.6.9"
  }
 },
 "nbformat": 4,
 "nbformat_minor": 4
}
