{
 "cells": [
  {
   "cell_type": "code",
   "execution_count": 1,
   "metadata": {},
   "outputs": [
    {
     "data": {
      "text/html": [
       "<div>\n",
       "<style scoped>\n",
       "    .dataframe tbody tr th:only-of-type {\n",
       "        vertical-align: middle;\n",
       "    }\n",
       "\n",
       "    .dataframe tbody tr th {\n",
       "        vertical-align: top;\n",
       "    }\n",
       "\n",
       "    .dataframe thead th {\n",
       "        text-align: right;\n",
       "    }\n",
       "</style>\n",
       "<table border=\"1\" class=\"dataframe\">\n",
       "  <thead>\n",
       "    <tr style=\"text-align: right;\">\n",
       "      <th></th>\n",
       "      <th>PageID</th>\n",
       "      <th>Data</th>\n",
       "    </tr>\n",
       "  </thead>\n",
       "  <tbody>\n",
       "    <tr>\n",
       "      <th>0</th>\n",
       "      <td>228</td>\n",
       "      <td>実行 管理 オフライン 端末 MobiControl</td>\n",
       "    </tr>\n",
       "    <tr>\n",
       "      <th>1</th>\n",
       "      <td>28</td>\n",
       "      <td>Active Service Domain Azure Directory</td>\n",
       "    </tr>\n",
       "    <tr>\n",
       "      <th>2</th>\n",
       "      <td>409</td>\n",
       "      <td>社外 なく 登録 防ぐ セキュリティ</td>\n",
       "    </tr>\n",
       "    <tr>\n",
       "      <th>3</th>\n",
       "      <td>396</td>\n",
       "      <td>名前 プロファイル ペン 構成 ドラフト</td>\n",
       "    </tr>\n",
       "    <tr>\n",
       "      <th>4</th>\n",
       "      <td>257</td>\n",
       "      <td>WiFi 不 電話 回線 圏外</td>\n",
       "    </tr>\n",
       "  </tbody>\n",
       "</table>\n",
       "</div>"
      ],
      "text/plain": [
       "  PageID                                   Data\n",
       "0    228             実行 管理 オフライン 端末 MobiControl\n",
       "1     28  Active Service Domain Azure Directory\n",
       "2    409                     社外 なく 登録 防ぐ セキュリティ\n",
       "3    396                   名前 プロファイル ペン 構成 ドラフト\n",
       "4    257                        WiFi 不 電話 回線 圏外"
      ]
     },
     "execution_count": 1,
     "metadata": {},
     "output_type": "execute_result"
    }
   ],
   "source": [
    "import pandas as pd\n",
    "import numpy as np\n",
    "\n",
    "df = pd.read_csv(\"/home/iftekhar/AI-system/retrieval_Model/Page_Ranking_Experiment/experiment_amplified_dataset.csv\")\n",
    "df = df.iloc[:,1:]\n",
    "df = df.rename(columns={\"Text\":\"Data\"})\n",
    "df.PageID = df.PageID.apply(lambda x: str(x).replace(\"Page_\",\"\"))\n",
    "df.head()"
   ]
  },
  {
   "cell_type": "code",
   "execution_count": 2,
   "metadata": {},
   "outputs": [],
   "source": [
    "from make_question import make_question_from_sentence\n"
   ]
  },
  {
   "cell_type": "code",
   "execution_count": 3,
   "metadata": {},
   "outputs": [],
   "source": [
    "question_saver = []\n",
    "PageID_saver = []\n",
    "\n",
    "count = 0\n",
    "for index, col in df.iterrows():\n",
    "    question_saver.append(make_question_from_sentence(col[\"Data\"]))\n",
    "    PageID_saver.append(col[\"PageID\"])\n",
    "    if count > 1000:\n",
    "        break\n",
    "    count += 1"
   ]
  },
  {
   "cell_type": "code",
   "execution_count": 4,
   "metadata": {},
   "outputs": [
    {
     "data": {
      "text/html": [
       "<div>\n",
       "<style scoped>\n",
       "    .dataframe tbody tr th:only-of-type {\n",
       "        vertical-align: middle;\n",
       "    }\n",
       "\n",
       "    .dataframe tbody tr th {\n",
       "        vertical-align: top;\n",
       "    }\n",
       "\n",
       "    .dataframe thead th {\n",
       "        text-align: right;\n",
       "    }\n",
       "</style>\n",
       "<table border=\"1\" class=\"dataframe\">\n",
       "  <thead>\n",
       "    <tr style=\"text-align: right;\">\n",
       "      <th></th>\n",
       "      <th>Question</th>\n",
       "      <th>PageID</th>\n",
       "    </tr>\n",
       "  </thead>\n",
       "  <tbody>\n",
       "    <tr>\n",
       "      <th>0</th>\n",
       "      <td>実行 管理 オフライン MobiControl 何ですか</td>\n",
       "      <td>228</td>\n",
       "    </tr>\n",
       "    <tr>\n",
       "      <th>1</th>\n",
       "      <td>Active Service Domain Directory どちら</td>\n",
       "      <td>28</td>\n",
       "    </tr>\n",
       "    <tr>\n",
       "      <th>2</th>\n",
       "      <td>社外 登録 防ぐ セキュリティ 作りたい</td>\n",
       "      <td>409</td>\n",
       "    </tr>\n",
       "    <tr>\n",
       "      <th>3</th>\n",
       "      <td>プロファイル ペン 構成 ドラフト 何ですか</td>\n",
       "      <td>396</td>\n",
       "    </tr>\n",
       "    <tr>\n",
       "      <th>4</th>\n",
       "      <td>WiFi 電話 回線 圏外 ついて教えてください</td>\n",
       "      <td>257</td>\n",
       "    </tr>\n",
       "  </tbody>\n",
       "</table>\n",
       "</div>"
      ],
      "text/plain": [
       "                              Question PageID\n",
       "0         実行 管理 オフライン MobiControl 何ですか    228\n",
       "1  Active Service Domain Directory どちら     28\n",
       "2                 社外 登録 防ぐ セキュリティ 作りたい    409\n",
       "3               プロファイル ペン 構成 ドラフト 何ですか    396\n",
       "4             WiFi 電話 回線 圏外 ついて教えてください    257"
      ]
     },
     "execution_count": 4,
     "metadata": {},
     "output_type": "execute_result"
    }
   ],
   "source": [
    "questions_samples = pd.DataFrame(zip(question_saver, PageID_saver), columns=['Question', 'PageID'])\n",
    "questions_samples.head()\n"
   ]
  },
  {
   "cell_type": "code",
   "execution_count": 9,
   "metadata": {},
   "outputs": [
    {
     "data": {
      "text/plain": [
       "1002"
      ]
     },
     "execution_count": 9,
     "metadata": {},
     "output_type": "execute_result"
    }
   ],
   "source": [
    "len(questions_samples)"
   ]
  },
  {
   "cell_type": "code",
   "execution_count": 6,
   "metadata": {},
   "outputs": [
    {
     "name": "stderr",
     "output_type": "stream",
     "text": [
      "\n"
     ]
    }
   ],
   "source": [
    "import fasttext\n",
    "fast_model = fasttext.load_model(\"page_ranker.bin\")"
   ]
  },
  {
   "cell_type": "code",
   "execution_count": 5,
   "metadata": {},
   "outputs": [],
   "source": [
    "from make_question import make_question_from_sentence"
   ]
  },
  {
   "cell_type": "code",
   "execution_count": 6,
   "metadata": {},
   "outputs": [],
   "source": [
    "query = make_question_from_sentence(\"という 環境 変数 値 DoCoMo ない なら ば : next\")"
   ]
  },
  {
   "cell_type": "code",
   "execution_count": 7,
   "metadata": {},
   "outputs": [],
   "source": [
    "def rank_result_collection(query, fast_model):\n",
    "    result = fast_model.predict(query,k=3)\n",
    "    ID_collect = []\n",
    "    score_collect = []\n",
    "    for items in result:\n",
    "        for item in items:\n",
    "            if str(item).find(\"__label\") != -1:\n",
    "                ID_collect.append(str(item).replace(\"__label__Page_\",\"\"))\n",
    "            else:\n",
    "                score_collect.append(item)\n",
    "                \n",
    "    return zip(ID_collect, score_collect) "
   ]
  },
  {
   "cell_type": "code",
   "execution_count": 50,
   "metadata": {},
   "outputs": [
    {
     "data": {
      "text/plain": [
       "1158258"
      ]
     },
     "execution_count": 50,
     "metadata": {},
     "output_type": "execute_result"
    }
   ],
   "source": [
    "len(questions_corpus)"
   ]
  },
  {
   "cell_type": "code",
   "execution_count": 12,
   "metadata": {},
   "outputs": [],
   "source": [
    "from ranking_help_methods import mean_reciprocal_rank_score"
   ]
  },
  {
   "cell_type": "code",
   "execution_count": 13,
   "metadata": {},
   "outputs": [
    {
     "data": {
      "text/plain": [
       "0.29750499001996017"
      ]
     },
     "execution_count": 13,
     "metadata": {},
     "output_type": "execute_result"
    }
   ],
   "source": [
    "def get_score_details_record(df, questions_samples, fast_model):\n",
    "    sample_count = 0\n",
    "    sum_score = 0\n",
    "    container = []\n",
    "\n",
    "    for index, col in questions_samples.iterrows():\n",
    "        query = str(col['Question'])\n",
    "        #print(query)\n",
    "        rank_list = rank_result_collection(query, fast_model)\n",
    "        \n",
    "        page_answers = []\n",
    "        prediction_scores = []\n",
    "        for ids, score in rank_list:\n",
    "            #print(ids, score, col[\"PageID\"])\n",
    "            page_answers.append(ids)\n",
    "            prediction_scores.append(score)\n",
    "        \n",
    "        MRR_score = mean_reciprocal_rank_score(col['PageID'], page_answers)\n",
    "        sum_score += MRR_score\n",
    "\n",
    "        container.append([MRR_score, col['PageID'], page_answers, prediction_scores, col['Question']])\n",
    "        sample_count += 1\n",
    "        \n",
    "    result = pd.DataFrame(container, columns=['score', 'actual_answer', 'page_answers', 'prediction_scores',\n",
    "                                              'query'])\n",
    "    result.to_csv('performance.csv')\n",
    "    score = sum_score / sample_count\n",
    "\n",
    "    return score\n",
    "\n",
    "\n",
    "ranks = get_score_details_record(df, questions_samples, fast_model)\n",
    "ranks"
   ]
  },
  {
   "cell_type": "code",
   "execution_count": 14,
   "metadata": {},
   "outputs": [
    {
     "ename": "NameError",
     "evalue": "name 'result' is not defined",
     "output_type": "error",
     "traceback": [
      "\u001b[0;31m---------------------------------------------------------------------------\u001b[0m",
      "\u001b[0;31mNameError\u001b[0m                                 Traceback (most recent call last)",
      "\u001b[0;32m<ipython-input-14-8931c1f4f079>\u001b[0m in \u001b[0;36m<module>\u001b[0;34m\u001b[0m\n\u001b[0;32m----> 1\u001b[0;31m \u001b[0mresult\u001b[0m\u001b[0;34m.\u001b[0m\u001b[0mhead\u001b[0m\u001b[0;34m(\u001b[0m\u001b[0;34m)\u001b[0m\u001b[0;34m\u001b[0m\u001b[0;34m\u001b[0m\u001b[0m\n\u001b[0m",
      "\u001b[0;31mNameError\u001b[0m: name 'result' is not defined"
     ]
    }
   ],
   "source": []
  }
 ],
 "metadata": {
  "kernelspec": {
   "display_name": "Python 3 (ipykernel)",
   "language": "python",
   "name": "python3"
  },
  "language_info": {
   "codemirror_mode": {
    "name": "ipython",
    "version": 3
   },
   "file_extension": ".py",
   "mimetype": "text/x-python",
   "name": "python",
   "nbconvert_exporter": "python",
   "pygments_lexer": "ipython3",
   "version": "3.7.15"
  }
 },
 "nbformat": 4,
 "nbformat_minor": 4
}
