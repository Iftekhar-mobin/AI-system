{
 "cells": [
  {
   "cell_type": "code",
   "execution_count": 1,
   "metadata": {},
   "outputs": [],
   "source": [
    "import sys  \n",
    "sys.path.insert(0, '/home/iftekhar/myworkplace/AI-system/retrieval_Model/Page_Ranking_Experiment/methods_collection/')\n",
    "import ranking_help_methods as help_methods\n",
    "import make_question as question_maker\n",
    "import pandas as pd\n",
    "import re\n",
    "from sklearn.feature_extraction.text import CountVectorizer, TfidfVectorizer\n",
    "vectorizer = CountVectorizer()\n",
    "TFIDF_vectorizer = TfidfVectorizer()"
   ]
  },
  {
   "cell_type": "code",
   "execution_count": 2,
   "metadata": {},
   "outputs": [
    {
     "data": {
      "text/html": [
       "<div>\n",
       "<style scoped>\n",
       "    .dataframe tbody tr th:only-of-type {\n",
       "        vertical-align: middle;\n",
       "    }\n",
       "\n",
       "    .dataframe tbody tr th {\n",
       "        vertical-align: top;\n",
       "    }\n",
       "\n",
       "    .dataframe thead th {\n",
       "        text-align: right;\n",
       "    }\n",
       "</style>\n",
       "<table border=\"1\" class=\"dataframe\">\n",
       "  <thead>\n",
       "    <tr style=\"text-align: right;\">\n",
       "      <th></th>\n",
       "      <th>PageID</th>\n",
       "      <th>Data</th>\n",
       "    </tr>\n",
       "  </thead>\n",
       "  <tbody>\n",
       "    <tr>\n",
       "      <th>0</th>\n",
       "      <td>0</td>\n",
       "      <td>カスタマイザー タイトル 設定 カスタマイザー サブタイトル</td>\n",
       "    </tr>\n",
       "    <tr>\n",
       "      <th>1</th>\n",
       "      <td>0</td>\n",
       "      <td>設定 MobiControl 設定 順序 MobiControl</td>\n",
       "    </tr>\n",
       "    <tr>\n",
       "      <th>2</th>\n",
       "      <td>0</td>\n",
       "      <td>設定 順序 MobiControl 設定 順序</td>\n",
       "    </tr>\n",
       "    <tr>\n",
       "      <th>3</th>\n",
       "      <td>0</td>\n",
       "      <td>行い 端末 OS 対象 オンプレミス</td>\n",
       "    </tr>\n",
       "    <tr>\n",
       "      <th>4</th>\n",
       "      <td>0</td>\n",
       "      <td>MobiControl サーバ 必要 な 設定</td>\n",
       "    </tr>\n",
       "  </tbody>\n",
       "</table>\n",
       "</div>"
      ],
      "text/plain": [
       "  PageID                              Data\n",
       "0      0    カスタマイザー タイトル 設定 カスタマイザー サブタイトル\n",
       "1      0  設定 MobiControl 設定 順序 MobiControl\n",
       "2      0           設定 順序 MobiControl 設定 順序\n",
       "3      0                行い 端末 OS 対象 オンプレミス\n",
       "4      0           MobiControl サーバ 必要 な 設定"
      ]
     },
     "execution_count": 2,
     "metadata": {},
     "output_type": "execute_result"
    }
   ],
   "source": [
    "dataset = pd.read_csv('varieties_corpus/processed_word5perline_corpus.csv')\n",
    "dataset = dataset.iloc[:,1:]\n",
    "dataset = dataset.rename(columns={\"Text\": \"Data\"})\n",
    "dataset.PageID = dataset.PageID.apply(lambda x: x.replace(\"Page_\",\"\"))\n",
    "dataset.Data = dataset.Data.apply(lambda x: help_methods.clean_text(str(x)))\n",
    "dataset.head()"
   ]
  },
  {
   "cell_type": "code",
   "execution_count": 151,
   "metadata": {},
   "outputs": [
    {
     "data": {
      "text/plain": [
       "array(['カスタマイザー タイトル 設定 カスタマイザー サブタイトル',\n",
       "       '設定 MobiControl 設定 順序 MobiControl', '設定 順序 MobiControl 設定 順序', ...,\n",
       "       '初期 端末 働きかける 端末 状況', '視る 端末 位置 地図 表示', 'アプリ 活用 状況 監視 0'],\n",
       "      dtype=object)"
      ]
     },
     "execution_count": 151,
     "metadata": {},
     "output_type": "execute_result"
    }
   ],
   "source": [
    "dataset.Data.values.tolist()"
   ]
  },
  {
   "cell_type": "code",
   "execution_count": 152,
   "metadata": {},
   "outputs": [],
   "source": [
    "def TFIDF_vector_fit(vectorizer, dataset):\n",
    "    vec = vectorizer.fit(dataset.Data.values.tolist())\n",
    "    return vec"
   ]
  },
  {
   "cell_type": "code",
   "execution_count": 153,
   "metadata": {},
   "outputs": [],
   "source": [
    "vec = TFIDF_vector_fit(TFIDF_vectorizer, dataset)"
   ]
  },
  {
   "cell_type": "code",
   "execution_count": 3,
   "metadata": {},
   "outputs": [
    {
     "data": {
      "text/plain": [
       "78244"
      ]
     },
     "execution_count": 3,
     "metadata": {},
     "output_type": "execute_result"
    }
   ],
   "source": [
    "#help_methods.build_voc(dataset)\n",
    "with open('customized_model/vocabulary.pkl', 'rb') as f:\n",
    "    word_ids = pickle.load(f)\n",
    "\n",
    "#help_methods.make_vector(dataset, word_ids)    \n",
    "with open('customized_model/vectormodel_perpage_v1.pkl', 'rb') as f:\n",
    "    vector = pickle.load(f)\n",
    "    \n",
    "len(vector)   "
   ]
  },
  {
   "cell_type": "code",
   "execution_count": 46,
   "metadata": {},
   "outputs": [],
   "source": [
    "sample_size = 100\n",
    "questions_samples = question_maker.question_dataframe_generator_1000(dataset, sample_size)\n",
    "corpus_per_page = help_methods.corpus_per_page(dataset)"
   ]
  },
  {
   "cell_type": "code",
   "execution_count": 48,
   "metadata": {},
   "outputs": [
    {
     "data": {
      "text/html": [
       "<div>\n",
       "<style scoped>\n",
       "    .dataframe tbody tr th:only-of-type {\n",
       "        vertical-align: middle;\n",
       "    }\n",
       "\n",
       "    .dataframe tbody tr th {\n",
       "        vertical-align: top;\n",
       "    }\n",
       "\n",
       "    .dataframe thead th {\n",
       "        text-align: right;\n",
       "    }\n",
       "</style>\n",
       "<table border=\"1\" class=\"dataframe\">\n",
       "  <thead>\n",
       "    <tr style=\"text-align: right;\">\n",
       "      <th></th>\n",
       "      <th>Data</th>\n",
       "      <th>PageID</th>\n",
       "    </tr>\n",
       "  </thead>\n",
       "  <tbody>\n",
       "    <tr>\n",
       "      <th>0</th>\n",
       "      <td>カスタマイザー タイトル 設定 カスタマイザー サブタイトル 設定 MobiControl ...</td>\n",
       "      <td>0</td>\n",
       "    </tr>\n",
       "    <tr>\n",
       "      <th>1</th>\n",
       "      <td>Apple 製品 MobiControl v ManualApple 製品 MobiCont...</td>\n",
       "      <td>1</td>\n",
       "    </tr>\n",
       "    <tr>\n",
       "      <th>2</th>\n",
       "      <td>Android 端末 MobiControl v ManualAndroid 設定 モード ...</td>\n",
       "      <td>2</td>\n",
       "    </tr>\n",
       "    <tr>\n",
       "      <th>3</th>\n",
       "      <td>Windows PCMobiControl v ManualWindows PC 根本 セキ...</td>\n",
       "      <td>3</td>\n",
       "    </tr>\n",
       "    <tr>\n",
       "      <th>4</th>\n",
       "      <td>Windows EmbeddedMobiControl v ManualWindows Em...</td>\n",
       "      <td>4</td>\n",
       "    </tr>\n",
       "  </tbody>\n",
       "</table>\n",
       "</div>"
      ],
      "text/plain": [
       "                                                Data PageID\n",
       "0  カスタマイザー タイトル 設定 カスタマイザー サブタイトル 設定 MobiControl ...      0\n",
       "1  Apple 製品 MobiControl v ManualApple 製品 MobiCont...      1\n",
       "2  Android 端末 MobiControl v ManualAndroid 設定 モード ...      2\n",
       "3  Windows PCMobiControl v ManualWindows PC 根本 セキ...      3\n",
       "4  Windows EmbeddedMobiControl v ManualWindows Em...      4"
      ]
     },
     "execution_count": 48,
     "metadata": {},
     "output_type": "execute_result"
    }
   ],
   "source": [
    "len(corpus_per_page)\n",
    "corpus_per_page.head()"
   ]
  },
  {
   "cell_type": "code",
   "execution_count": 5,
   "metadata": {},
   "outputs": [
    {
     "name": "stdout",
     "output_type": "stream",
     "text": [
      "managed アカウント アカウント 取得 使用しますか 252\n"
     ]
    }
   ],
   "source": [
    "for index, col in questions_samples.iterrows():\n",
    "    print(col['Question'], col['PageID'])\n",
    "    query = str(col['Question'])\n",
    "#     input_vector = list(set(str(query).split()))\n",
    "#     query_vector = help_methods.custom_vectorizer(input_vector, word_ids)\n",
    "    break"
   ]
  },
  {
   "cell_type": "code",
   "execution_count": 19,
   "metadata": {},
   "outputs": [
    {
     "name": "stdout",
     "output_type": "stream",
     "text": [
      "Debug for Collector:  ['391', '387', '51', '0', '252', '92', '229', '236', '368', '386', '2', '431', '147', '369', '438', '385', '429', '432', '427', '14']\n"
     ]
    }
   ],
   "source": [
    "    question_parts = question_maker.making_query_collection(query)\n",
    "    collector = help_methods.sequence_searcher(corpus_per_page, question_parts)"
   ]
  },
  {
   "cell_type": "code",
   "execution_count": 32,
   "metadata": {},
   "outputs": [
    {
     "data": {
      "text/plain": [
       "['managed アカウント',\n",
       " 'managed アカウント アカウント',\n",
       " 'アカウント アカウント',\n",
       " 'アカウント アカウント 取得',\n",
       " 'アカウント 取得',\n",
       " 'アカウント 取得 使用しますか',\n",
       " '取得 使用しますか']"
      ]
     },
     "execution_count": 32,
     "metadata": {},
     "output_type": "execute_result"
    }
   ],
   "source": [
    "question_parts"
   ]
  },
  {
   "cell_type": "code",
   "execution_count": 12,
   "metadata": {},
   "outputs": [
    {
     "data": {
      "text/html": [
       "<div>\n",
       "<style scoped>\n",
       "    .dataframe tbody tr th:only-of-type {\n",
       "        vertical-align: middle;\n",
       "    }\n",
       "\n",
       "    .dataframe tbody tr th {\n",
       "        vertical-align: top;\n",
       "    }\n",
       "\n",
       "    .dataframe thead th {\n",
       "        text-align: right;\n",
       "    }\n",
       "</style>\n",
       "<table border=\"1\" class=\"dataframe\">\n",
       "  <thead>\n",
       "    <tr style=\"text-align: right;\">\n",
       "      <th></th>\n",
       "      <th>Data</th>\n",
       "      <th>Summary</th>\n",
       "      <th>PageID</th>\n",
       "    </tr>\n",
       "  </thead>\n",
       "  <tbody>\n",
       "    <tr>\n",
       "      <th>0</th>\n",
       "      <td>カスタマイザー から サブタイトル 設定 MobiControl 設定 順序 MobiCon...</td>\n",
       "      <td>MobiControl v14 Manual – MobiControl v14 Manual</td>\n",
       "      <td>0</td>\n",
       "    </tr>\n",
       "    <tr>\n",
       "      <th>1</th>\n",
       "      <td>MobiControl v Manual Apple 製品 MobiControl 管理 i...</td>\n",
       "      <td>Apple製品 – MobiControl v14 Manual ios overall</td>\n",
       "      <td>1</td>\n",
       "    </tr>\n",
       "    <tr>\n",
       "      <th>2</th>\n",
       "      <td>MobiControl v Manual Android 設定 モード A MobiCont...</td>\n",
       "      <td>Android端末 – MobiControl v14 Manual plus overall</td>\n",
       "      <td>2</td>\n",
       "    </tr>\n",
       "    <tr>\n",
       "      <th>3</th>\n",
       "      <td>MobiControl v Manual Windows PC 根本 セキュリティ 対策 リ...</td>\n",
       "      <td>Windows PC – MobiControl v14 Manual wpc overall</td>\n",
       "      <td>3</td>\n",
       "    </tr>\n",
       "    <tr>\n",
       "      <th>4</th>\n",
       "      <td>MobiControl v Manual Windows Embedded 端末 Windo...</td>\n",
       "      <td>Windows Embedded – MobiControl v14 Manual wm o...</td>\n",
       "      <td>4</td>\n",
       "    </tr>\n",
       "  </tbody>\n",
       "</table>\n",
       "</div>"
      ],
      "text/plain": [
       "                                                Data  \\\n",
       "0  カスタマイザー から サブタイトル 設定 MobiControl 設定 順序 MobiCon...   \n",
       "1  MobiControl v Manual Apple 製品 MobiControl 管理 i...   \n",
       "2  MobiControl v Manual Android 設定 モード A MobiCont...   \n",
       "3  MobiControl v Manual Windows PC 根本 セキュリティ 対策 リ...   \n",
       "4  MobiControl v Manual Windows Embedded 端末 Windo...   \n",
       "\n",
       "                                             Summary  PageID  \n",
       "0   MobiControl v14 Manual – MobiControl v14 Manual        0  \n",
       "1      Apple製品 – MobiControl v14 Manual ios overall        1  \n",
       "2   Android端末 – MobiControl v14 Manual plus overall        2  \n",
       "3   Windows PC – MobiControl v14 Manual wpc overall        3  \n",
       "4  Windows Embedded – MobiControl v14 Manual wm o...       4  "
      ]
     },
     "execution_count": 12,
     "metadata": {},
     "output_type": "execute_result"
    }
   ],
   "source": [
    "merged = pd.read_csv('../../Helpers/Title_link_merged_corpus.csv')\n",
    "merged = merged.iloc[:,2:]\n",
    "merged = merged.rename(columns={\"Article\": \"Data\"})\n",
    "merged.head()\n"
   ]
  },
  {
   "cell_type": "code",
   "execution_count": 66,
   "metadata": {},
   "outputs": [],
   "source": [
    "q = query.split()\n",
    "q = [items for items in q if items not in question_maker.get_questions_delimiter_ja()] \n",
    "q = ' '.join(q)"
   ]
  },
  {
   "cell_type": "code",
   "execution_count": 144,
   "metadata": {},
   "outputs": [
    {
     "data": {
      "text/plain": [
       "'managed アカウント アカウント 取得'"
      ]
     },
     "execution_count": 144,
     "metadata": {},
     "output_type": "execute_result"
    }
   ],
   "source": [
    "q"
   ]
  },
  {
   "cell_type": "code",
   "execution_count": 113,
   "metadata": {},
   "outputs": [],
   "source": [
    "from difflib import SequenceMatcher\n",
    "rat = []\n",
    "smr = []\n",
    "result = []\n",
    "for pages_id in collector:\n",
    "    page_data = corpus_per_page[(corpus_per_page['PageID']==str(pages_id))].Data.values\n",
    "    result.append([help_methods.sequence_matcher(str(q), str(page_data)), pages_id, rat])    \n",
    "    "
   ]
  },
  {
   "cell_type": "code",
   "execution_count": 156,
   "metadata": {},
   "outputs": [],
   "source": [
    "res = []\n",
    "freq_words = ['使', 'し', 'ま', 'す', 'か', 'しま', 'カ']\n",
    "for items, ids, rat in result:\n",
    "    contents = [terms for terms in items if terms not in freq_words]\n",
    "    contents = [temp.strip(' ') for temp in contents]\n",
    "    if len(contents) > 1:\n",
    "        #res.append([ids, ' '.join(contents)])\n",
    "        res.append(ids)"
   ]
  },
  {
   "cell_type": "code",
   "execution_count": null,
   "metadata": {},
   "outputs": [],
   "source": [
    "#sorted(res, key=lambda l:l[1] , reverse=True)"
   ]
  },
  {
   "cell_type": "code",
   "execution_count": 175,
   "metadata": {},
   "outputs": [],
   "source": [
    "match_collection = []\n",
    "for ids in res:\n",
    "    page_data = dataset[(dataset['PageID']==str(ids))].Data.values\n",
    "    for lines in page_data:\n",
    "        for parts in question_parts:\n",
    "            if lines.find(parts) !=-1:\n",
    "                match_collection.append([ids, lines])"
   ]
  },
  {
   "cell_type": "code",
   "execution_count": null,
   "metadata": {},
   "outputs": [],
   "source": [
    "sorted_list = help_methods.get_unique_2Dlist(match_collection)"
   ]
  },
  {
   "cell_type": "code",
   "execution_count": 208,
   "metadata": {},
   "outputs": [],
   "source": [
    "X = vec.transform([str(query)])\n",
    "rank = []\n",
    "ids_list = []\n",
    "for ids, items in sorted_list:\n",
    "    for sentences in items:\n",
    "        #print(sentences)\n",
    "        Y = vec.transform([sentences])\n",
    "        ids_list.append(ids)\n",
    "        rank.append(cosine_similarity(X, Y))"
   ]
  },
  {
   "cell_type": "code",
   "execution_count": 209,
   "metadata": {},
   "outputs": [
    {
     "data": {
      "text/plain": [
       "[('252', array([0.93032916])),\n",
       " ('252', array([0.75009422])),\n",
       " ('229', array([0.73883448]))]"
      ]
     },
     "execution_count": 209,
     "metadata": {},
     "output_type": "execute_result"
    }
   ],
   "source": [
    "    flat = [x for sublist in rank for x in sublist]\n",
    "    result = sorted(zip(ids_list, flat), key=lambda l:l[1], reverse=True)[:3]\n",
    "    result"
   ]
  },
  {
   "cell_type": "code",
   "execution_count": 204,
   "metadata": {},
   "outputs": [
    {
     "data": {
      "text/plain": [
       "['managed アカウント アカウント 取得 使用しますか']"
      ]
     },
     "execution_count": 204,
     "metadata": {},
     "output_type": "execute_result"
    }
   ],
   "source": [
    "[str(query)]"
   ]
  },
  {
   "cell_type": "code",
   "execution_count": null,
   "metadata": {},
   "outputs": [],
   "source": []
  },
  {
   "cell_type": "code",
   "execution_count": 73,
   "metadata": {},
   "outputs": [],
   "source": [
    "corpus_fit = list(dataset.Data.values)"
   ]
  },
  {
   "cell_type": "code",
   "execution_count": 93,
   "metadata": {},
   "outputs": [],
   "source": [
    "def ranking_result_collection(query, text_collections, ids_list, vec):\n",
    "    X = vec.transform([str(query)])\n",
    "\n",
    "    rank=[]\n",
    "    for contents in text_collections:\n",
    "        Y = vec.transform([contents])\n",
    "        rank.append(cosine_similarity(X, Y))\n",
    "    flat = [x for sublist in rank for x in sublist]\n",
    "    result = sorted(zip(ids_list, flat), key=lambda l:l[1], reverse=True)[:10]\n",
    "    return result"
   ]
  },
  {
   "cell_type": "code",
   "execution_count": null,
   "metadata": {},
   "outputs": [],
   "source": []
  },
  {
   "cell_type": "code",
   "execution_count": null,
   "metadata": {},
   "outputs": [],
   "source": []
  }
 ],
 "metadata": {
  "kernelspec": {
   "display_name": "Python 3",
   "language": "python",
   "name": "python3"
  },
  "language_info": {
   "codemirror_mode": {
    "name": "ipython",
    "version": 3
   },
   "file_extension": ".py",
   "mimetype": "text/x-python",
   "name": "python",
   "nbconvert_exporter": "python",
   "pygments_lexer": "ipython3",
   "version": "3.6.9"
  }
 },
 "nbformat": 4,
 "nbformat_minor": 4
}
