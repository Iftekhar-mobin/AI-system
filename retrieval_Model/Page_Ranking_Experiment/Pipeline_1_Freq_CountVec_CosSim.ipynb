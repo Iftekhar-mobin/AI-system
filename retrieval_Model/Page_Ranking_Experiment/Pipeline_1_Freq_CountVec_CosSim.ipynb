{
 "cells": [
  {
   "cell_type": "code",
   "execution_count": 1,
   "metadata": {},
   "outputs": [],
   "source": [
    "import pandas as pd\n",
    "import methods_collection.make_question as question_maker\n",
    "import methods_collection.ranking_help_methods as help_methods\n",
    "import pickle\n",
    "import difflib\n",
    "from sklearn.feature_extraction.text import CountVectorizer\n",
    "vectorizer = CountVectorizer()"
   ]
  },
  {
   "cell_type": "code",
   "execution_count": 2,
   "metadata": {},
   "outputs": [
    {
     "data": {
      "text/html": [
       "<div>\n",
       "<style scoped>\n",
       "    .dataframe tbody tr th:only-of-type {\n",
       "        vertical-align: middle;\n",
       "    }\n",
       "\n",
       "    .dataframe tbody tr th {\n",
       "        vertical-align: top;\n",
       "    }\n",
       "\n",
       "    .dataframe thead th {\n",
       "        text-align: right;\n",
       "    }\n",
       "</style>\n",
       "<table border=\"1\" class=\"dataframe\">\n",
       "  <thead>\n",
       "    <tr style=\"text-align: right;\">\n",
       "      <th></th>\n",
       "      <th>PageID</th>\n",
       "      <th>Data</th>\n",
       "    </tr>\n",
       "  </thead>\n",
       "  <tbody>\n",
       "    <tr>\n",
       "      <th>0</th>\n",
       "      <td>0</td>\n",
       "      <td>カスタマイザー タイトル 設定 カスタマイザー サブタイトル</td>\n",
       "    </tr>\n",
       "    <tr>\n",
       "      <th>1</th>\n",
       "      <td>0</td>\n",
       "      <td>設定 MobiControl 設定 順序 MobiControl</td>\n",
       "    </tr>\n",
       "    <tr>\n",
       "      <th>2</th>\n",
       "      <td>0</td>\n",
       "      <td>設定 順序 MobiControl 設定 順序</td>\n",
       "    </tr>\n",
       "    <tr>\n",
       "      <th>3</th>\n",
       "      <td>0</td>\n",
       "      <td>行い 端末 OS 対象 オンプレミス</td>\n",
       "    </tr>\n",
       "    <tr>\n",
       "      <th>4</th>\n",
       "      <td>0</td>\n",
       "      <td>MobiControl サーバ 必要 な 設定</td>\n",
       "    </tr>\n",
       "  </tbody>\n",
       "</table>\n",
       "</div>"
      ],
      "text/plain": [
       "  PageID                              Data\n",
       "0      0    カスタマイザー タイトル 設定 カスタマイザー サブタイトル\n",
       "1      0  設定 MobiControl 設定 順序 MobiControl\n",
       "2      0           設定 順序 MobiControl 設定 順序\n",
       "3      0                行い 端末 OS 対象 オンプレミス\n",
       "4      0           MobiControl サーバ 必要 な 設定"
      ]
     },
     "execution_count": 2,
     "metadata": {},
     "output_type": "execute_result"
    }
   ],
   "source": [
    "dataset = pd.read_csv('varieties_corpus/processed_word5perline_corpus.csv')\n",
    "dataset = dataset.iloc[:,1:]\n",
    "dataset = dataset.rename(columns={\"Text\": \"Data\"})\n",
    "dataset.PageID = dataset.PageID.apply(lambda x: x.replace(\"Page_\",\"\"))\n",
    "dataset.Data = dataset.Data.apply(lambda x: help_methods.clean_text(str(x)))\n",
    "dataset.head()"
   ]
  },
  {
   "cell_type": "code",
   "execution_count": 3,
   "metadata": {},
   "outputs": [
    {
     "data": {
      "text/plain": [
       "78244"
      ]
     },
     "execution_count": 3,
     "metadata": {},
     "output_type": "execute_result"
    }
   ],
   "source": [
    "#help_methods.build_voc(dataset)\n",
    "with open('customized_model/vocabulary.pkl', 'rb') as f:\n",
    "    word_ids = pickle.load(f)\n",
    "\n",
    "#help_methods.make_vector(dataset, word_ids)    \n",
    "with open('customized_model/vectormodel_perpage_v1.pkl', 'rb') as f:\n",
    "    vector = pickle.load(f)\n",
    "    \n",
    "len(vector)   "
   ]
  },
  {
   "cell_type": "code",
   "execution_count": 11,
   "metadata": {},
   "outputs": [
    {
     "data": {
      "text/html": [
       "<div>\n",
       "<style scoped>\n",
       "    .dataframe tbody tr th:only-of-type {\n",
       "        vertical-align: middle;\n",
       "    }\n",
       "\n",
       "    .dataframe tbody tr th {\n",
       "        vertical-align: top;\n",
       "    }\n",
       "\n",
       "    .dataframe thead th {\n",
       "        text-align: right;\n",
       "    }\n",
       "</style>\n",
       "<table border=\"1\" class=\"dataframe\">\n",
       "  <thead>\n",
       "    <tr style=\"text-align: right;\">\n",
       "      <th></th>\n",
       "      <th>Question</th>\n",
       "      <th>PageID</th>\n",
       "    </tr>\n",
       "  </thead>\n",
       "  <tbody>\n",
       "    <tr>\n",
       "      <th>0</th>\n",
       "      <td>選択 できる 認証 れ 入れられますか</td>\n",
       "      <td>13</td>\n",
       "    </tr>\n",
       "    <tr>\n",
       "      <th>1</th>\n",
       "      <td>切断 表 端末 Mobicontrol 何ができますか</td>\n",
       "      <td>239</td>\n",
       "    </tr>\n",
       "    <tr>\n",
       "      <th>2</th>\n",
       "      <td>端末 一斉 送る ん 何ですか</td>\n",
       "      <td>245</td>\n",
       "    </tr>\n",
       "    <tr>\n",
       "      <th>3</th>\n",
       "      <td>管理 変更 追加 適用 何ができますか</td>\n",
       "      <td>324</td>\n",
       "    </tr>\n",
       "    <tr>\n",
       "      <th>4</th>\n",
       "      <td>cd ディレクトリ サンプル cd 何ですか</td>\n",
       "      <td>95</td>\n",
       "    </tr>\n",
       "  </tbody>\n",
       "</table>\n",
       "</div>"
      ],
      "text/plain": [
       "                      Question PageID\n",
       "0          選択 できる 認証 れ 入れられますか     13\n",
       "1  切断 表 端末 Mobicontrol 何ができますか    239\n",
       "2              端末 一斉 送る ん 何ですか    245\n",
       "3          管理 変更 追加 適用 何ができますか    324\n",
       "4       cd ディレクトリ サンプル cd 何ですか     95"
      ]
     },
     "execution_count": 11,
     "metadata": {},
     "output_type": "execute_result"
    }
   ],
   "source": [
    "sample_size = 5\n",
    "questions_samples = question_maker.question_dataframe_generator_1000(dataset, sample_size)\n",
    "questions_samples.head()"
   ]
  },
  {
   "cell_type": "code",
   "execution_count": 12,
   "metadata": {},
   "outputs": [
    {
     "name": "stdout",
     "output_type": "stream",
     "text": [
      "選択 できる 認証 れ 入れられますか 13\n"
     ]
    }
   ],
   "source": [
    "for index, col in questions_samples.iterrows():\n",
    "    print(col['Question'], col['PageID'])\n",
    "    query = str(col['Question'])\n",
    "    input_vector = list(set(str(query).split()))\n",
    "    query_vector = help_methods.custom_vectorizer(input_vector, word_ids)\n",
    "    break"
   ]
  },
  {
   "cell_type": "code",
   "execution_count": 137,
   "metadata": {},
   "outputs": [
    {
     "data": {
      "text/plain": [
       "['管理 変更 追加 適用 何ができますか', '端末 一斉 送る ん 何ですか']"
      ]
     },
     "execution_count": 137,
     "metadata": {},
     "output_type": "execute_result"
    }
   ],
   "source": [
    "elements = '管理 変更 追加 適用 何ができますか 端末 一斉 送る ん 何ですか'\n",
    "word_limit = 5\n",
    "elements = elements.split()\n",
    "chunks = [' '.join(elements[i:i + word_limit]) for i in range(0, len(elements), word_limit)]\n",
    "chunks"
   ]
  },
  {
   "cell_type": "code",
   "execution_count": 146,
   "metadata": {},
   "outputs": [
    {
     "data": {
      "text/plain": [
       "['管理 変更 追加 適用 何ができますか',\n",
       " '端末 一斉 送る ん 何ですか',\n",
       " 'abc',\n",
       " 'abc',\n",
       " 'abc',\n",
       " 'abc',\n",
       " 'abc',\n",
       " 'abc',\n",
       " 'abc',\n",
       " 234,\n",
       " 'abc',\n",
       " 234]"
      ]
     },
     "execution_count": 146,
     "metadata": {},
     "output_type": "execute_result"
    }
   ],
   "source": [
    "chunks += ['abc', 234]\n",
    "\n",
    "chunks"
   ]
  },
  {
   "cell_type": "code",
   "execution_count": null,
   "metadata": {},
   "outputs": [],
   "source": []
  }
 ],
 "metadata": {
  "kernelspec": {
   "display_name": "Python 3",
   "language": "python",
   "name": "python3"
  },
  "language_info": {
   "codemirror_mode": {
    "name": "ipython",
    "version": 3
   },
   "file_extension": ".py",
   "mimetype": "text/x-python",
   "name": "python",
   "nbconvert_exporter": "python",
   "pygments_lexer": "ipython3",
   "version": "3.6.9"
  }
 },
 "nbformat": 4,
 "nbformat_minor": 4
}
