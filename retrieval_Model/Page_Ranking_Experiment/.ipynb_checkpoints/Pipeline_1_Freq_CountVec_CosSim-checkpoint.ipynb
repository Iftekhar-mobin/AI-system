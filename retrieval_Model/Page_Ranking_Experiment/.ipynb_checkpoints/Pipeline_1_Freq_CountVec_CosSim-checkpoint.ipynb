{
 "cells": [
  {
   "cell_type": "code",
   "execution_count": 1,
   "metadata": {},
   "outputs": [],
   "source": [
    "import pandas as pd\n",
    "import methods_collection.make_question as question_maker\n",
    "import methods_collection.ranking_help_methods as help_methods\n",
    "import pickle\n",
    "import difflib\n",
    "from sklearn.feature_extraction.text import CountVectorizer\n",
    "vectorizer = CountVectorizer()"
   ]
  },
  {
   "cell_type": "code",
   "execution_count": 2,
   "metadata": {},
   "outputs": [
    {
     "data": {
      "text/html": [
       "<div>\n",
       "<style scoped>\n",
       "    .dataframe tbody tr th:only-of-type {\n",
       "        vertical-align: middle;\n",
       "    }\n",
       "\n",
       "    .dataframe tbody tr th {\n",
       "        vertical-align: top;\n",
       "    }\n",
       "\n",
       "    .dataframe thead th {\n",
       "        text-align: right;\n",
       "    }\n",
       "</style>\n",
       "<table border=\"1\" class=\"dataframe\">\n",
       "  <thead>\n",
       "    <tr style=\"text-align: right;\">\n",
       "      <th></th>\n",
       "      <th>PageID</th>\n",
       "      <th>Data</th>\n",
       "    </tr>\n",
       "  </thead>\n",
       "  <tbody>\n",
       "    <tr>\n",
       "      <th>0</th>\n",
       "      <td>0</td>\n",
       "      <td>カスタマイザー タイトル 設定 カスタマイザー サブタイトル</td>\n",
       "    </tr>\n",
       "    <tr>\n",
       "      <th>1</th>\n",
       "      <td>0</td>\n",
       "      <td>設定 MobiControl 設定 順序 MobiControl</td>\n",
       "    </tr>\n",
       "    <tr>\n",
       "      <th>2</th>\n",
       "      <td>0</td>\n",
       "      <td>設定 順序 MobiControl 設定 順序</td>\n",
       "    </tr>\n",
       "    <tr>\n",
       "      <th>3</th>\n",
       "      <td>0</td>\n",
       "      <td>行い 端末 OS 対象 オンプレミス</td>\n",
       "    </tr>\n",
       "    <tr>\n",
       "      <th>4</th>\n",
       "      <td>0</td>\n",
       "      <td>MobiControl サーバ 必要 な 設定</td>\n",
       "    </tr>\n",
       "  </tbody>\n",
       "</table>\n",
       "</div>"
      ],
      "text/plain": [
       "  PageID                              Data\n",
       "0      0    カスタマイザー タイトル 設定 カスタマイザー サブタイトル\n",
       "1      0  設定 MobiControl 設定 順序 MobiControl\n",
       "2      0           設定 順序 MobiControl 設定 順序\n",
       "3      0                行い 端末 OS 対象 オンプレミス\n",
       "4      0           MobiControl サーバ 必要 な 設定"
      ]
     },
     "execution_count": 2,
     "metadata": {},
     "output_type": "execute_result"
    }
   ],
   "source": [
    "dataset = pd.read_csv('varieties_corpus/processed_word5perline_corpus.csv')\n",
    "dataset = dataset.iloc[:,1:]\n",
    "dataset = dataset.rename(columns={\"Text\": \"Data\"})\n",
    "dataset.PageID = dataset.PageID.apply(lambda x: x.replace(\"Page_\",\"\"))\n",
    "dataset.Data = dataset.Data.apply(lambda x: help_methods.clean_text(str(x)))\n",
    "dataset.head()"
   ]
  },
  {
   "cell_type": "code",
   "execution_count": 3,
   "metadata": {},
   "outputs": [
    {
     "data": {
      "text/plain": [
       "78244"
      ]
     },
     "execution_count": 3,
     "metadata": {},
     "output_type": "execute_result"
    }
   ],
   "source": [
    "#help_methods.build_voc(dataset)\n",
    "with open('customized_model/vocabulary.pkl', 'rb') as f:\n",
    "    word_ids = pickle.load(f)\n",
    "\n",
    "#help_methods.make_vector(dataset, word_ids)    \n",
    "with open('customized_model/vectormodel_perpage_v1.pkl', 'rb') as f:\n",
    "    vector = pickle.load(f)\n",
    "    \n",
    "len(vector)   "
   ]
  },
  {
   "cell_type": "code",
   "execution_count": 11,
   "metadata": {},
   "outputs": [
    {
     "data": {
      "text/html": [
       "<div>\n",
       "<style scoped>\n",
       "    .dataframe tbody tr th:only-of-type {\n",
       "        vertical-align: middle;\n",
       "    }\n",
       "\n",
       "    .dataframe tbody tr th {\n",
       "        vertical-align: top;\n",
       "    }\n",
       "\n",
       "    .dataframe thead th {\n",
       "        text-align: right;\n",
       "    }\n",
       "</style>\n",
       "<table border=\"1\" class=\"dataframe\">\n",
       "  <thead>\n",
       "    <tr style=\"text-align: right;\">\n",
       "      <th></th>\n",
       "      <th>Question</th>\n",
       "      <th>PageID</th>\n",
       "    </tr>\n",
       "  </thead>\n",
       "  <tbody>\n",
       "    <tr>\n",
       "      <th>0</th>\n",
       "      <td>選択 できる 認証 れ 入れられますか</td>\n",
       "      <td>13</td>\n",
       "    </tr>\n",
       "    <tr>\n",
       "      <th>1</th>\n",
       "      <td>切断 表 端末 Mobicontrol 何ができますか</td>\n",
       "      <td>239</td>\n",
       "    </tr>\n",
       "    <tr>\n",
       "      <th>2</th>\n",
       "      <td>端末 一斉 送る ん 何ですか</td>\n",
       "      <td>245</td>\n",
       "    </tr>\n",
       "    <tr>\n",
       "      <th>3</th>\n",
       "      <td>管理 変更 追加 適用 何ができますか</td>\n",
       "      <td>324</td>\n",
       "    </tr>\n",
       "    <tr>\n",
       "      <th>4</th>\n",
       "      <td>cd ディレクトリ サンプル cd 何ですか</td>\n",
       "      <td>95</td>\n",
       "    </tr>\n",
       "  </tbody>\n",
       "</table>\n",
       "</div>"
      ],
      "text/plain": [
       "                      Question PageID\n",
       "0          選択 できる 認証 れ 入れられますか     13\n",
       "1  切断 表 端末 Mobicontrol 何ができますか    239\n",
       "2              端末 一斉 送る ん 何ですか    245\n",
       "3          管理 変更 追加 適用 何ができますか    324\n",
       "4       cd ディレクトリ サンプル cd 何ですか     95"
      ]
     },
     "execution_count": 11,
     "metadata": {},
     "output_type": "execute_result"
    }
   ],
   "source": [
    "sample_size = 5\n",
    "questions_samples = question_maker.question_dataframe_generator_1000(dataset, sample_size)\n",
    "questions_samples.head()"
   ]
  },
  {
   "cell_type": "code",
   "execution_count": null,
   "metadata": {},
   "outputs": [],
   "source": [
    "sequence = True\n",
    "ranks = help_methods.get_score_details_record(dataset, questions_samples, \n",
    "                                              vectorizer, vector, word_ids, True)\n",
    "ranks"
   ]
  },
  {
   "cell_type": "code",
   "execution_count": 12,
   "metadata": {},
   "outputs": [
    {
     "name": "stdout",
     "output_type": "stream",
     "text": [
      "選択 できる 認証 れ 入れられますか 13\n"
     ]
    }
   ],
   "source": [
    "for index, col in questions_samples.iterrows():\n",
    "    print(col['Question'], col['PageID'])\n",
    "    query = str(col['Question'])\n",
    "    input_vector = list(set(str(query).split()))\n",
    "    query_vector = help_methods.custom_vectorizer(input_vector, word_ids)\n",
    "    break"
   ]
  },
  {
   "cell_type": "code",
   "execution_count": 45,
   "metadata": {},
   "outputs": [
    {
     "data": {
      "text/html": [
       "<div>\n",
       "<style scoped>\n",
       "    .dataframe tbody tr th:only-of-type {\n",
       "        vertical-align: middle;\n",
       "    }\n",
       "\n",
       "    .dataframe tbody tr th {\n",
       "        vertical-align: top;\n",
       "    }\n",
       "\n",
       "    .dataframe thead th {\n",
       "        text-align: right;\n",
       "    }\n",
       "</style>\n",
       "<table border=\"1\" class=\"dataframe\">\n",
       "  <thead>\n",
       "    <tr style=\"text-align: right;\">\n",
       "      <th></th>\n",
       "      <th>Data</th>\n",
       "      <th>PageID</th>\n",
       "    </tr>\n",
       "  </thead>\n",
       "  <tbody>\n",
       "    <tr>\n",
       "      <th>0</th>\n",
       "      <td>カスタマイザー タイトル 設定 カスタマイザー サブタイトル 設定 MobiControl ...</td>\n",
       "      <td>0</td>\n",
       "    </tr>\n",
       "    <tr>\n",
       "      <th>1</th>\n",
       "      <td>Apple 製品 MobiControl v ManualApple 製品 MobiCont...</td>\n",
       "      <td>1</td>\n",
       "    </tr>\n",
       "    <tr>\n",
       "      <th>2</th>\n",
       "      <td>Android 端末 MobiControl v ManualAndroid 設定 モード ...</td>\n",
       "      <td>2</td>\n",
       "    </tr>\n",
       "    <tr>\n",
       "      <th>3</th>\n",
       "      <td>Windows PCMobiControl v ManualWindows PC 根本 セキ...</td>\n",
       "      <td>3</td>\n",
       "    </tr>\n",
       "    <tr>\n",
       "      <th>4</th>\n",
       "      <td>Windows EmbeddedMobiControl v ManualWindows Em...</td>\n",
       "      <td>4</td>\n",
       "    </tr>\n",
       "  </tbody>\n",
       "</table>\n",
       "</div>"
      ],
      "text/plain": [
       "                                                Data PageID\n",
       "0  カスタマイザー タイトル 設定 カスタマイザー サブタイトル 設定 MobiControl ...      0\n",
       "1  Apple 製品 MobiControl v ManualApple 製品 MobiCont...      1\n",
       "2  Android 端末 MobiControl v ManualAndroid 設定 モード ...      2\n",
       "3  Windows PCMobiControl v ManualWindows PC 根本 セキ...      3\n",
       "4  Windows EmbeddedMobiControl v ManualWindows Em...      4"
      ]
     },
     "execution_count": 45,
     "metadata": {},
     "output_type": "execute_result"
    }
   ],
   "source": [
    "corpus_per_page = help_methods.corpus_per_page(dataset)\n",
    "corpus_per_page.head()"
   ]
  },
  {
   "cell_type": "code",
   "execution_count": 27,
   "metadata": {},
   "outputs": [],
   "source": [
    "query_parts = query.split()"
   ]
  },
  {
   "cell_type": "code",
   "execution_count": 40,
   "metadata": {},
   "outputs": [],
   "source": [
    "question_parts = []\n",
    "for i in range(len(query_parts)):\n",
    "    if len(query_parts)-1 > i:\n",
    "        question_parts.append(query_parts[i]+\" \"+query_parts[i+1])\n",
    "        if len(query_parts)-2 > i:\n",
    "            question_parts.append(query_parts[i]+\" \"+query_parts[i+1]+\" \"+query_parts[i+2])\n",
    "    i += 1"
   ]
  },
  {
   "cell_type": "code",
   "execution_count": 34,
   "metadata": {},
   "outputs": [
    {
     "data": {
      "text/plain": [
       "['選択', 'できる', '認証', 'れ', '入れられますか']"
      ]
     },
     "execution_count": 34,
     "metadata": {},
     "output_type": "execute_result"
    }
   ],
   "source": [
    "query_parts"
   ]
  },
  {
   "cell_type": "code",
   "execution_count": 41,
   "metadata": {},
   "outputs": [
    {
     "data": {
      "text/plain": [
       "['選択 できる',\n",
       " '選択 できる 認証',\n",
       " 'できる 認証',\n",
       " 'できる 認証 れ',\n",
       " '認証 れ',\n",
       " '認証 れ 入れられますか',\n",
       " 'れ 入れられますか']"
      ]
     },
     "execution_count": 41,
     "metadata": {},
     "output_type": "execute_result"
    }
   ],
   "source": [
    "question_parts"
   ]
  },
  {
   "cell_type": "code",
   "execution_count": 74,
   "metadata": {},
   "outputs": [],
   "source": [
    "collector = []\n",
    "for index, col in corpus_per_page.iterrows():\n",
    "    for items in question_parts:\n",
    "         if re.search(items, col['Data']):\n",
    "            collector.append(col['PageID'])\n",
    "            \n",
    "\n",
    "\n",
    "\n"
   ]
  },
  {
   "cell_type": "code",
   "execution_count": 100,
   "metadata": {},
   "outputs": [],
   "source": [
    "seq_match_score = []\n",
    "for ids in collector:\n",
    "    matched_out = help_methods.sequence_matcher(query, \n",
    "                                ''.join(list(corpus_per_page[corpus_per_page.PageID == str(ids)].Data.values)))\n",
    "    matched_out = [matched for matched in matched_out if matched not in freq_words]\n",
    "    seq_match_score.append([matched_out, ids])"
   ]
  },
  {
   "cell_type": "code",
   "execution_count": 101,
   "metadata": {},
   "outputs": [
    {
     "data": {
      "text/plain": [
       "[[[' できる ', '認証 '], '7'],\n",
       " [['選択', ' できる '], '13'],\n",
       " [['選択', ' できる '], '13'],\n",
       " [['選択', ' できる '], '13'],\n",
       " [['選択', ' できる '], '13'],\n",
       " [['選択', ' できる '], '13'],\n",
       " [['選択', ' できる ', '認証 '], '15'],\n",
       " [['選択 できる ', '認証 '], '19'],\n",
       " [['選択', ' できる ', '認証 '], '61'],\n",
       " [['選択 できる '], '128'],\n",
       " [[], '176'],\n",
       " [['選択 できる ', '認証 '], '187'],\n",
       " [[], '201'],\n",
       " [['選択', ' できる '], '202'],\n",
       " [[' できる ', '認証 '], '229'],\n",
       " [[' できる ', '認証 '], '229'],\n",
       " [['選択 できる ', '認証 '], '273'],\n",
       " [['選択', ' できる ', '認証 '], '274'],\n",
       " [['選択', ' できる ', '認証 '], '275'],\n",
       " [['選択 ', 'できる ', '認'], '315'],\n",
       " [['選択 できる '], '317'],\n",
       " [['選択', ' できる ', '認証 れ ', '入れ'], '319'],\n",
       " [['選択', ' できる ', '認証 れ ', '入れ'], '319'],\n",
       " [['選択', ' できる ', '認証 れ ', '入れ'], '319'],\n",
       " [['選択 ', 'できる '], '334'],\n",
       " [['選択 ', 'できる ', '認'], '346'],\n",
       " [['選択 できる '], '350'],\n",
       " [['選択', ' できる ', '認証 れ ', '入れ'], '352'],\n",
       " [['選択', ' できる ', '認証 れ ', '入れ'], '352'],\n",
       " [['選択', ' できる ', '認証 れ ', '入れ'], '352'],\n",
       " [['選択 できる ', '認証 '], '367'],\n",
       " [['選択 できる '], '401'],\n",
       " [['選択', ' できる ', '認証 '], '428']]"
      ]
     },
     "execution_count": 101,
     "metadata": {},
     "output_type": "execute_result"
    }
   ],
   "source": [
    "seq_match_score"
   ]
  },
  {
   "cell_type": "code",
   "execution_count": 98,
   "metadata": {},
   "outputs": [
    {
     "ename": "ValueError",
     "evalue": "max() arg is an empty sequence",
     "output_type": "error",
     "traceback": [
      "\u001b[0;31m---------------------------------------------------------------------------\u001b[0m",
      "\u001b[0;31mValueError\u001b[0m                                Traceback (most recent call last)",
      "\u001b[0;32m<ipython-input-98-a44057bc62da>\u001b[0m in \u001b[0;36m<module>\u001b[0;34m\u001b[0m\n\u001b[1;32m      1\u001b[0m \u001b[0mmarger\u001b[0m \u001b[0;34m=\u001b[0m \u001b[0;34m[\u001b[0m\u001b[0;34m]\u001b[0m\u001b[0;34m\u001b[0m\u001b[0;34m\u001b[0m\u001b[0m\n\u001b[1;32m      2\u001b[0m \u001b[0;32mfor\u001b[0m \u001b[0mseq\u001b[0m\u001b[0;34m,\u001b[0m \u001b[0mids\u001b[0m \u001b[0;32min\u001b[0m \u001b[0mseq_match_score\u001b[0m\u001b[0;34m:\u001b[0m\u001b[0;34m\u001b[0m\u001b[0;34m\u001b[0m\u001b[0m\n\u001b[0;32m----> 3\u001b[0;31m     \u001b[0mmax_item_1st\u001b[0m \u001b[0;34m=\u001b[0m \u001b[0mmax\u001b[0m\u001b[0;34m(\u001b[0m\u001b[0mseq\u001b[0m\u001b[0;34m,\u001b[0m \u001b[0mkey\u001b[0m \u001b[0;34m=\u001b[0m \u001b[0mlen\u001b[0m\u001b[0;34m)\u001b[0m\u001b[0;34m\u001b[0m\u001b[0;34m\u001b[0m\u001b[0m\n\u001b[0m\u001b[1;32m      4\u001b[0m     \u001b[0mmarger\u001b[0m\u001b[0;34m.\u001b[0m\u001b[0mappend\u001b[0m\u001b[0;34m(\u001b[0m\u001b[0;34m[\u001b[0m\u001b[0mmax_item_1st\u001b[0m\u001b[0;34m,\u001b[0m \u001b[0mids\u001b[0m\u001b[0;34m]\u001b[0m\u001b[0;34m)\u001b[0m\u001b[0;34m\u001b[0m\u001b[0;34m\u001b[0m\u001b[0m\n\u001b[1;32m      5\u001b[0m \u001b[0mrank_seq\u001b[0m \u001b[0;34m=\u001b[0m \u001b[0msorted\u001b[0m\u001b[0;34m(\u001b[0m\u001b[0mmarger\u001b[0m\u001b[0;34m,\u001b[0m \u001b[0mkey\u001b[0m\u001b[0;34m=\u001b[0m\u001b[0;32mlambda\u001b[0m \u001b[0ml\u001b[0m\u001b[0;34m:\u001b[0m\u001b[0mlen\u001b[0m\u001b[0;34m(\u001b[0m\u001b[0ml\u001b[0m\u001b[0;34m[\u001b[0m\u001b[0;36m0\u001b[0m\u001b[0;34m]\u001b[0m\u001b[0;34m)\u001b[0m\u001b[0;34m,\u001b[0m \u001b[0mreverse\u001b[0m\u001b[0;34m=\u001b[0m\u001b[0;32mTrue\u001b[0m\u001b[0;34m)\u001b[0m\u001b[0;34m[\u001b[0m\u001b[0;34m:\u001b[0m\u001b[0;36m50\u001b[0m\u001b[0;34m]\u001b[0m\u001b[0;34m\u001b[0m\u001b[0;34m\u001b[0m\u001b[0m\n",
      "\u001b[0;31mValueError\u001b[0m: max() arg is an empty sequence"
     ]
    }
   ],
   "source": [
    "    marger = []\n",
    "    for seq, ids in seq_match_score:\n",
    "        max_item_1st = max(seq, key = len)\n",
    "        marger.append([max_item_1st, ids])\n",
    "    rank_seq = sorted(marger, key=lambda l:len(l[0]), reverse=True)[:50]\n",
    "    rank_seq"
   ]
  },
  {
   "cell_type": "code",
   "execution_count": null,
   "metadata": {},
   "outputs": [],
   "source": []
  },
  {
   "cell_type": "code",
   "execution_count": null,
   "metadata": {},
   "outputs": [],
   "source": []
  },
  {
   "cell_type": "code",
   "execution_count": null,
   "metadata": {},
   "outputs": [],
   "source": []
  },
  {
   "cell_type": "code",
   "execution_count": 99,
   "metadata": {},
   "outputs": [],
   "source": [
    "freq_words = ['ど', 'こ', 'で', 'す', 'か', 'ー', '後', '入れ', '入れ '\n",
    "              ' 入れ', 'られ', 'ま', 'ら', 'れ ', ' れ', 'れ', '入', ' 入', '入 ']\n",
    "def seq_mapping(whole_page_copus, query):\n",
    "    seq_match_score = []\n",
    "    for index, col in whole_page_copus.iterrows():\n",
    "        matched_out = help_methods.sequence_matcher( query, col['Data'])\n",
    "        matched_out = [matched for matched in matched_out if matched not in freq_words]\n",
    "        seq_match_score.append([matched_out, col['PageID']])\n",
    "    marger = []\n",
    "    for seq, ids in seq_match_score:\n",
    "        max_item_1st = max(seq, key = len)\n",
    "        marger.append([max_item_1st, ids])\n",
    "    rank_seq = sorted(marger, key=lambda l:len(l[0]), reverse=True)[:50]\n",
    "    return rank_seq"
   ]
  },
  {
   "cell_type": "code",
   "execution_count": 14,
   "metadata": {},
   "outputs": [],
   "source": [
    "seq_match_score = seq_mapping(corpus_per_page, query)"
   ]
  },
  {
   "cell_type": "code",
   "execution_count": 71,
   "metadata": {},
   "outputs": [],
   "source": []
  },
  {
   "cell_type": "code",
   "execution_count": 15,
   "metadata": {},
   "outputs": [
    {
     "data": {
      "text/plain": [
       "[['選択 できる ', '19'],\n",
       " ['選択 できる ', '128'],\n",
       " ['選択 できる ', '187'],\n",
       " ['選択 できる ', '273'],\n",
       " ['選択 できる ', '317'],\n",
       " ['選択 できる ', '350'],\n",
       " ['選択 できる ', '367'],\n",
       " ['選択 できる ', '401'],\n",
       " [' できる ', '0'],\n",
       " [' できる ', '1'],\n",
       " [' できる ', '2'],\n",
       " [' できる ', '3'],\n",
       " [' できる ', '4'],\n",
       " [' できる ', '5'],\n",
       " [' できる ', '6'],\n",
       " [' できる ', '7'],\n",
       " [' できる ', '8'],\n",
       " [' できる ', '9'],\n",
       " [' できる ', '10'],\n",
       " [' できる ', '11'],\n",
       " [' できる ', '13'],\n",
       " ['る 認証 ', '14'],\n",
       " [' できる ', '15'],\n",
       " [' できる ', '16'],\n",
       " [' できる ', '17'],\n",
       " [' できる ', '18'],\n",
       " [' できる ', '20'],\n",
       " [' できる ', '24'],\n",
       " [' できる ', '26'],\n",
       " [' できる ', '27'],\n",
       " [' できる ', '29'],\n",
       " [' できる ', '30'],\n",
       " [' できる ', '31'],\n",
       " [' できる ', '32'],\n",
       " [' できる ', '34'],\n",
       " [' できる ', '35'],\n",
       " [' できる ', '37'],\n",
       " [' できる ', '39'],\n",
       " [' できる ', '43'],\n",
       " [' できる ', '46'],\n",
       " [' できる ', '47'],\n",
       " [' できる ', '49'],\n",
       " [' できる ', '51'],\n",
       " [' できる ', '52'],\n",
       " [' できる ', '53'],\n",
       " [' できる ', '57'],\n",
       " [' できる ', '58'],\n",
       " [' できる ', '60'],\n",
       " [' できる ', '61'],\n",
       " [' できる ', '62']]"
      ]
     },
     "execution_count": 15,
     "metadata": {},
     "output_type": "execute_result"
    }
   ],
   "source": [
    "seq_match_score"
   ]
  },
  {
   "cell_type": "code",
   "execution_count": 29,
   "metadata": {},
   "outputs": [
    {
     "data": {
      "text/plain": [
       "[['表示 ', ' 端末 ユーザ ', 'ど'], 0]"
      ]
     },
     "execution_count": 29,
     "metadata": {},
     "output_type": "execute_result"
    }
   ],
   "source": [
    "max(seq_match_score, key=len)"
   ]
  },
  {
   "cell_type": "code",
   "execution_count": 25,
   "metadata": {},
   "outputs": [
    {
     "data": {
      "text/plain": [
       "[[['表示 ', ' 端末 ユーザ ', 'ど'], 0],\n",
       " [['表示 ', '後', ' ユーザ ', 'で', 'す'], 1],\n",
       " [['表示 ', ' 端末 ユーザ ', 'ど', 'で', 'す', 'か'], 2],\n",
       " [['表示 ', ' 端末 ', 'ユーザ ', 'で', 'す', 'か'], 3],\n",
       " [['表', 'で'], 4],\n",
       " [['表示 ', ' 端末 ', 'ユーザ ', 'す'], 5],\n",
       " [['表示 ', ' 端末 ユーザ ', 'で', 'す', 'か'], 6],\n",
       " [['表示 ', '刻 ', ' ユーザ ', 'ど', 'で', 'す', 'か'], 7],\n",
       " [['表示 ', ' 端末 ユーザ ', 'で', 'す', 'か'], 8],\n",
       " [['表示 ', 'ザ', 'ど'], 9],\n",
       " [['表示 ', ' 端末 '], 10],\n",
       " [['表示 ', '後', ' ユーザ ', 'ど', 'で', 'す'], 11],\n",
       " [['表示 ', ' 端末 ', 'で'], 12],\n",
       " [['表示 ', ' ユーザ ', 'ど', 'で', 'す'], 13],\n",
       " [['表示 ', ' 端末 ', 'ユーザ ', 'す'], 14],\n",
       " [['表示 ', '後', ' ユーザ', 'で', 'す'], 15],\n",
       " [['表示 ', ' 端末 ユーザ ', 'で', 'か'], 16],\n",
       " [['表示 ', ' 端末 ユーザ ', 'ど', 'で', 'す', 'か'], 17],\n",
       " [['表示 ', ' ユーザ ', 'ど', 'か'], 18],\n",
       " [['表示 ', ' 端末 ユーザ ', 'ど'], 19],\n",
       " [['表示 ', ' 端末 ', 'ユーザ ', 'で', 'す'], 20],\n",
       " [['表示 ', 'こで', 'す'], 21],\n",
       " [[' 端末 ', 'す'], 22],\n",
       " [['表示 ', ' ユーザ ', 'す', 'か'], 23],\n",
       " [['表示 ', ' 端末 ', 'で', 'す'], 24],\n",
       " [['表示 ', ' ユーザ', 'す'], 25],\n",
       " [['表示 ', '刻 ', ' ユーザ', 'す'], 26],\n",
       " [['ザ ', 'で', 'す'], 27],\n",
       " [['表示 ', '端末 ユーザ ', 'で', 'す'], 28],\n",
       " [['表示 ', 'で', 'す', 'か'], 29],\n",
       " [['表示 ', '後', '刻 ', '端末 ユーザ ', 'ど', 'で', 'か'], 30],\n",
       " [['表示 ', ' 端末 ユーザ ', 'で', 'す'], 31],\n",
       " [['表示 ', ' 端末 ', 'ユーザ', 'で', 'す'], 32],\n",
       " [['表示 ', '刻 ', '端末 ユーザ ', 'で'], 33],\n",
       " [[' 端末 ', 'ユーザ ', 'ど', 'で'], 34],\n",
       " [['表示 ', ' 端末 ', 'ユーザ ', 'ど', 'で', 'す'], 35],\n",
       " [[' 端末 ', 'ユーザ ', 'で', 'す', 'か'], 36],\n",
       " [['表示 ', ' 端末 ユーザ ', 'ど', 'こ', 'で'], 37],\n",
       " [['表示 ', ' 端末 ', 'ユーザ ', 'す'], 38],\n",
       " [['表示 ', ' 端末 ', 'で', 'す', 'か'], 39],\n",
       " [['表示 ', '刻 ', '端末 ユーザ ', 'こで', 'す'], 40],\n",
       " [['表示 ', ' 端末 ', 'す'], 41],\n",
       " [['表示 ', ' 端末 ', 'で', 'す', 'か'], 42],\n",
       " [['表示 ', ' 端末 ', 'ユーザ', ' ど', 'で'], 43],\n",
       " [['表示 ', ' 端末 '], 44],\n",
       " [[' 端末 ', 'で', 'す'], 45],\n",
       " [[' 端末 ', 'ユーザ ', 'で', 'す', 'か'], 46],\n",
       " [['表示 ', ' 端末 ユーザ ', 'ど', 'で', 'す'], 47],\n",
       " [['表示 ', '後', 'で', 'す'], 48],\n",
       " [['表示 ', ' 端末 ユーザ ', 'で', 'す'], 49]]"
      ]
     },
     "execution_count": 25,
     "metadata": {},
     "output_type": "execute_result"
    }
   ],
   "source": [
    "sorted(seq_match_score, key=len, reverse=True)[:50]"
   ]
  },
  {
   "cell_type": "code",
   "execution_count": 21,
   "metadata": {},
   "outputs": [
    {
     "data": {
      "text/plain": [
       "[[['表示 ', '端末 ユーザ ', 'で', 'す'], 28],\n",
       " [['表示 ', '端末 ユーザ ', 'す'], 136],\n",
       " [['表示 ', '端', ' ユーザ ', 'ど', 'で', 'す'], 95],\n",
       " [['表示 ', '端', ' ユーザ ', 'で', 'す', 'か'], 51],\n",
       " [['表示 ', '端'], 62],\n",
       " [['表示 ', '後刻 端末 ユーザ ', 'ど', 'で', 'す', 'か'], 258],\n",
       " [['表示 ', '後刻 ', '端末 ユーザ ', 'で', 'す'], 202],\n",
       " [['表示 ', '後', '刻 ', '端末 ユーザ ', 'ど', 'で', 'か'], 30],\n",
       " [['表示 ', '後', '刻 ', '端末 ユーザ ', 'ど', 'こ', 'で', 'す'], 410],\n",
       " [['表示 ', '後', '刻 ', '端末 ユーザ ', 'す'], 232],\n",
       " [['表示 ', '後', '刻 ', 'こで', 'す', 'か'], 396],\n",
       " [['表示 ', '後', '刻 ', 'こで', 'す', 'か'], 177],\n",
       " [['表示 ', '後', '刻 ', 'こで', 'す', 'か'], 148],\n",
       " [['表示 ', '後', '刻 ', 'こで', 'す', 'か'], 105],\n",
       " [['表示 ', '後', '刻 ', 'か'], 228],\n",
       " [['表示 ', '後', '刻 ', ' ユーザ ', 'で', 'す'], 241],\n",
       " [['表示 ', '後', '刻 ', ' ど', 'で', 'す', 'か'], 231],\n",
       " [['表示 ', '後', '刻 '], 260],\n",
       " [['表示 ', '後', 'で', 'す'], 48],\n",
       " [['表示 ', '後', 'こで', 'す', 'か'], 324],\n",
       " [['表示 ', '後', 'こで', 'す', 'か'], 293],\n",
       " [['表示 ', '後', 'こで', 'す', 'か'], 262],\n",
       " [['表示 ', '後', 'こで', 'す'], 242],\n",
       " [['表示 ', '後', 'か'], 411],\n",
       " [['表示 ', '後', 'か'], 130],\n",
       " [['表示 ', '後', ' 端末 ユーザ ', 'ど', 'で', 'す', 'か'], 370],\n",
       " [['表示 ', '後', ' 端末 ユーザ ', 'ど', 'こで', 'す', 'か'], 229],\n",
       " [['表示 ', '後', ' 端末 ユーザ ', 'ど', 'こ', 'で', 'す', 'か'], 367],\n",
       " [['表示 ', '後', ' 端末 ユーザ ', 'ど', 'こ', 'で', 'す', 'か'], 129],\n",
       " [['表示 ', '後', ' 端末 ユーザ ', 'で', 'す', 'か'], 151],\n",
       " [['表示 ', '後', ' 端末 ユーザ ', 'で', 'す'], 393],\n",
       " [['表示 ', '後', ' 端末 ユーザ ', 'で'], 267],\n",
       " [['表示 ', '後', ' 端末 ユーザ ', 'す', 'か'], 377],\n",
       " [['表示 ', '後', ' 端末 ', ' ど', 'す'], 421],\n",
       " [['表示 ', '後', ' 端末 '], 319],\n",
       " [['表示 ', '後', ' ユーザ ', 'ど', 'で', 'す'], 425],\n",
       " [['表示 ', '後', ' ユーザ ', 'ど', 'で', 'す'], 11],\n",
       " [['表示 ', '後', ' ユーザ ', 'ど', 'こ', 'で'], 146],\n",
       " [['表示 ', '後', ' ユーザ ', 'で', 'す', 'か'], 179],\n",
       " [['表示 ', '後', ' ユーザ ', 'で', 'す'], 430],\n",
       " [['表示 ', '後', ' ユーザ ', 'で', 'す'], 1],\n",
       " [['表示 ', '後', ' ユーザ', 'で', 'す'], 428],\n",
       " [['表示 ', '後', ' ユーザ', 'で', 'す'], 15],\n",
       " [['表示 ', '刻 端末 ', 'ユーザ ', 'ど', 'で', 'す', 'か'], 372],\n",
       " [['表示 ', '刻 端末 ', 'ユーザ ', 'ど', 'で', 'す', 'か'], 132],\n",
       " [['表示 ', '刻 端末 ', 'ユーザ ', 'で'], 413],\n",
       " [['表示 ', '刻 端末 ', 'ユーザ', ' ど', 'で', 'す', 'か'], 234],\n",
       " [['表示 ', '刻 端末 ', 'ど', 'す', 'か'], 91],\n",
       " [['表示 ', '刻 ', '端末 ユーザ ', 'ど', 'で', 'す'], 211],\n",
       " [['表示 ', '刻 ', '端末 ユーザ ', 'ど', 'で', 'す'], 163]]"
      ]
     },
     "execution_count": 21,
     "metadata": {},
     "output_type": "execute_result"
    }
   ],
   "source": [
    "sorted(seq_match_score, reverse=True)[:50]"
   ]
  },
  {
   "cell_type": "code",
   "execution_count": null,
   "metadata": {},
   "outputs": [],
   "source": []
  },
  {
   "cell_type": "code",
   "execution_count": null,
   "metadata": {},
   "outputs": [],
   "source": []
  },
  {
   "cell_type": "code",
   "execution_count": null,
   "metadata": {},
   "outputs": [],
   "source": []
  },
  {
   "cell_type": "code",
   "execution_count": 6,
   "metadata": {},
   "outputs": [],
   "source": [
    "    result_collection = []\n",
    "    for words_vector, page_id in vector:\n",
    "        result_collection.append([help_methods.return_match_length(words_vector, query_vector), page_id])\n",
    "\n"
   ]
  },
  {
   "cell_type": "code",
   "execution_count": 7,
   "metadata": {},
   "outputs": [
    {
     "data": {
      "text/plain": [
       "78244"
      ]
     },
     "execution_count": 7,
     "metadata": {},
     "output_type": "execute_result"
    }
   ],
   "source": [
    "len(result_collection)"
   ]
  },
  {
   "cell_type": "code",
   "execution_count": 8,
   "metadata": {},
   "outputs": [
    {
     "data": {
      "text/plain": [
       "[(2, '87'),\n",
       " (2, '6'),\n",
       " (2, '59'),\n",
       " (2, '443'),\n",
       " (2, '44'),\n",
       " (2, '437'),\n",
       " (2, '428'),\n",
       " (2, '424'),\n",
       " (2, '387'),\n",
       " (2, '368'),\n",
       " (2, '362'),\n",
       " (2, '29'),\n",
       " (2, '253'),\n",
       " (2, '24'),\n",
       " (2, '223'),\n",
       " (2, '203'),\n",
       " (2, '18'),\n",
       " (2, '17'),\n",
       " (2, '15'),\n",
       " (0, '99'),\n",
       " (0, '98'),\n",
       " (0, '97'),\n",
       " (0, '96'),\n",
       " (0, '95'),\n",
       " (0, '94'),\n",
       " (0, '93'),\n",
       " (0, '92'),\n",
       " (0, '91'),\n",
       " (0, '90'),\n",
       " (0, '9'),\n",
       " (0, '89'),\n",
       " (0, '88'),\n",
       " (0, '87'),\n",
       " (0, '86'),\n",
       " (0, '85'),\n",
       " (0, '84'),\n",
       " (0, '83'),\n",
       " (0, '82'),\n",
       " (0, '81'),\n",
       " (0, '80'),\n",
       " (0, '8'),\n",
       " (0, '79'),\n",
       " (0, '78'),\n",
       " (0, '77'),\n",
       " (0, '76'),\n",
       " (0, '75'),\n",
       " (0, '74'),\n",
       " (0, '73'),\n",
       " (0, '72'),\n",
       " (0, '71'),\n",
       " (0, '70'),\n",
       " (0, '7'),\n",
       " (0, '69'),\n",
       " (0, '68'),\n",
       " (0, '67'),\n",
       " (0, '66'),\n",
       " (0, '65'),\n",
       " (0, '64'),\n",
       " (0, '63'),\n",
       " (0, '62'),\n",
       " (0, '61'),\n",
       " (0, '60'),\n",
       " (0, '6'),\n",
       " (0, '59'),\n",
       " (0, '58'),\n",
       " (0, '57'),\n",
       " (0, '56'),\n",
       " (0, '55'),\n",
       " (0, '54'),\n",
       " (0, '53'),\n",
       " (0, '52'),\n",
       " (0, '51'),\n",
       " (0, '50'),\n",
       " (0, '5'),\n",
       " (0, '49'),\n",
       " (0, '48'),\n",
       " (0, '47'),\n",
       " (0, '46'),\n",
       " (0, '45'),\n",
       " (0, '444'),\n",
       " (0, '443'),\n",
       " (0, '442'),\n",
       " (0, '441'),\n",
       " (0, '440'),\n",
       " (0, '44'),\n",
       " (0, '439'),\n",
       " (0, '438'),\n",
       " (0, '437'),\n",
       " (0, '436'),\n",
       " (0, '435'),\n",
       " (0, '434'),\n",
       " (0, '433'),\n",
       " (0, '432'),\n",
       " (0, '431'),\n",
       " (0, '430'),\n",
       " (0, '43'),\n",
       " (0, '429'),\n",
       " (0, '428'),\n",
       " (0, '427'),\n",
       " (0, '426'),\n",
       " (0, '425'),\n",
       " (0, '424'),\n",
       " (0, '423'),\n",
       " (0, '422'),\n",
       " (0, '421'),\n",
       " (0, '420'),\n",
       " (0, '42'),\n",
       " (0, '419'),\n",
       " (0, '418'),\n",
       " (0, '417'),\n",
       " (0, '416'),\n",
       " (0, '415'),\n",
       " (0, '414'),\n",
       " (0, '413'),\n",
       " (0, '412'),\n",
       " (0, '411'),\n",
       " (0, '410'),\n",
       " (0, '41'),\n",
       " (0, '409'),\n",
       " (0, '408'),\n",
       " (0, '407'),\n",
       " (0, '406'),\n",
       " (0, '405'),\n",
       " (0, '404'),\n",
       " (0, '403'),\n",
       " (0, '402'),\n",
       " (0, '401'),\n",
       " (0, '400'),\n",
       " (0, '40'),\n",
       " (0, '4'),\n",
       " (0, '399'),\n",
       " (0, '398'),\n",
       " (0, '397'),\n",
       " (0, '396'),\n",
       " (0, '395'),\n",
       " (0, '394'),\n",
       " (0, '393'),\n",
       " (0, '392'),\n",
       " (0, '391'),\n",
       " (0, '390'),\n",
       " (0, '39'),\n",
       " (0, '389'),\n",
       " (0, '388'),\n",
       " (0, '387'),\n",
       " (0, '386'),\n",
       " (0, '385'),\n",
       " (0, '384'),\n",
       " (0, '383'),\n",
       " (0, '382'),\n",
       " (0, '381'),\n",
       " (0, '380'),\n",
       " (0, '38'),\n",
       " (0, '379'),\n",
       " (0, '378'),\n",
       " (0, '377'),\n",
       " (0, '376'),\n",
       " (0, '375'),\n",
       " (0, '374'),\n",
       " (0, '373'),\n",
       " (0, '372'),\n",
       " (0, '371'),\n",
       " (0, '370'),\n",
       " (0, '37'),\n",
       " (0, '369'),\n",
       " (0, '368'),\n",
       " (0, '367'),\n",
       " (0, '366'),\n",
       " (0, '365'),\n",
       " (0, '364'),\n",
       " (0, '363'),\n",
       " (0, '362'),\n",
       " (0, '361'),\n",
       " (0, '360'),\n",
       " (0, '36'),\n",
       " (0, '359'),\n",
       " (0, '358'),\n",
       " (0, '357'),\n",
       " (0, '356'),\n",
       " (0, '355'),\n",
       " (0, '354'),\n",
       " (0, '353'),\n",
       " (0, '352'),\n",
       " (0, '351'),\n",
       " (0, '350'),\n",
       " (0, '35'),\n",
       " (0, '349'),\n",
       " (0, '348'),\n",
       " (0, '347'),\n",
       " (0, '346'),\n",
       " (0, '345'),\n",
       " (0, '344'),\n",
       " (0, '343'),\n",
       " (0, '342'),\n",
       " (0, '341'),\n",
       " (0, '340'),\n",
       " (0, '34'),\n",
       " (0, '339'),\n",
       " (0, '338'),\n",
       " (0, '337'),\n",
       " (0, '336'),\n",
       " (0, '335'),\n",
       " (0, '334'),\n",
       " (0, '333'),\n",
       " (0, '332'),\n",
       " (0, '331'),\n",
       " (0, '330'),\n",
       " (0, '33'),\n",
       " (0, '329'),\n",
       " (0, '328'),\n",
       " (0, '327'),\n",
       " (0, '326'),\n",
       " (0, '325'),\n",
       " (0, '324'),\n",
       " (0, '323'),\n",
       " (0, '322'),\n",
       " (0, '321'),\n",
       " (0, '320'),\n",
       " (0, '32'),\n",
       " (0, '319'),\n",
       " (0, '318'),\n",
       " (0, '317'),\n",
       " (0, '316'),\n",
       " (0, '315'),\n",
       " (0, '314'),\n",
       " (0, '313'),\n",
       " (0, '312'),\n",
       " (0, '311'),\n",
       " (0, '310'),\n",
       " (0, '31'),\n",
       " (0, '309'),\n",
       " (0, '308'),\n",
       " (0, '307'),\n",
       " (0, '306'),\n",
       " (0, '305'),\n",
       " (0, '304'),\n",
       " (0, '303'),\n",
       " (0, '302'),\n",
       " (0, '301'),\n",
       " (0, '300'),\n",
       " (0, '30'),\n",
       " (0, '3'),\n",
       " (0, '299'),\n",
       " (0, '298'),\n",
       " (0, '297'),\n",
       " (0, '296'),\n",
       " (0, '295'),\n",
       " (0, '294'),\n",
       " (0, '293'),\n",
       " (0, '292'),\n",
       " (0, '291'),\n",
       " (0, '290'),\n",
       " (0, '29'),\n",
       " (0, '289'),\n",
       " (0, '288'),\n",
       " (0, '287'),\n",
       " (0, '286'),\n",
       " (0, '285'),\n",
       " (0, '284'),\n",
       " (0, '283'),\n",
       " (0, '282'),\n",
       " (0, '281'),\n",
       " (0, '280'),\n",
       " (0, '28'),\n",
       " (0, '279'),\n",
       " (0, '278'),\n",
       " (0, '277'),\n",
       " (0, '276'),\n",
       " (0, '275'),\n",
       " (0, '274'),\n",
       " (0, '273'),\n",
       " (0, '272'),\n",
       " (0, '271'),\n",
       " (0, '270'),\n",
       " (0, '27'),\n",
       " (0, '269'),\n",
       " (0, '268'),\n",
       " (0, '267'),\n",
       " (0, '266'),\n",
       " (0, '265'),\n",
       " (0, '264'),\n",
       " (0, '263'),\n",
       " (0, '262'),\n",
       " (0, '261'),\n",
       " (0, '260'),\n",
       " (0, '26'),\n",
       " (0, '259'),\n",
       " (0, '258'),\n",
       " (0, '257'),\n",
       " (0, '256'),\n",
       " (0, '255'),\n",
       " (0, '254'),\n",
       " (0, '253'),\n",
       " (0, '252'),\n",
       " (0, '251'),\n",
       " (0, '250'),\n",
       " (0, '25'),\n",
       " (0, '249'),\n",
       " (0, '248'),\n",
       " (0, '247'),\n",
       " (0, '246'),\n",
       " (0, '245'),\n",
       " (0, '244'),\n",
       " (0, '243'),\n",
       " (0, '242'),\n",
       " (0, '241'),\n",
       " (0, '240'),\n",
       " (0, '24'),\n",
       " (0, '239'),\n",
       " (0, '238'),\n",
       " (0, '237'),\n",
       " (0, '236'),\n",
       " (0, '235'),\n",
       " (0, '234'),\n",
       " (0, '233'),\n",
       " (0, '232'),\n",
       " (0, '231'),\n",
       " (0, '230'),\n",
       " (0, '23'),\n",
       " (0, '229'),\n",
       " (0, '228'),\n",
       " (0, '227'),\n",
       " (0, '226'),\n",
       " (0, '225'),\n",
       " (0, '224'),\n",
       " (0, '223'),\n",
       " (0, '222'),\n",
       " (0, '221'),\n",
       " (0, '220'),\n",
       " (0, '22'),\n",
       " (0, '219'),\n",
       " (0, '218'),\n",
       " (0, '217'),\n",
       " (0, '216'),\n",
       " (0, '215'),\n",
       " (0, '214'),\n",
       " (0, '213'),\n",
       " (0, '212'),\n",
       " (0, '211'),\n",
       " (0, '210'),\n",
       " (0, '21'),\n",
       " (0, '209'),\n",
       " (0, '208'),\n",
       " (0, '207'),\n",
       " (0, '206'),\n",
       " (0, '205'),\n",
       " (0, '204'),\n",
       " (0, '203'),\n",
       " (0, '202'),\n",
       " (0, '201'),\n",
       " (0, '200'),\n",
       " (0, '20'),\n",
       " (0, '2'),\n",
       " (0, '199'),\n",
       " (0, '198'),\n",
       " (0, '197'),\n",
       " (0, '196'),\n",
       " (0, '195'),\n",
       " (0, '194'),\n",
       " (0, '193'),\n",
       " (0, '192'),\n",
       " (0, '191'),\n",
       " (0, '190'),\n",
       " (0, '19'),\n",
       " (0, '189'),\n",
       " (0, '188'),\n",
       " (0, '187'),\n",
       " (0, '186'),\n",
       " (0, '185'),\n",
       " (0, '184'),\n",
       " (0, '183'),\n",
       " (0, '182'),\n",
       " (0, '181'),\n",
       " (0, '180'),\n",
       " (0, '18'),\n",
       " (0, '179'),\n",
       " (0, '178'),\n",
       " (0, '177'),\n",
       " (0, '176'),\n",
       " (0, '175'),\n",
       " (0, '174'),\n",
       " (0, '173'),\n",
       " (0, '172'),\n",
       " (0, '171'),\n",
       " (0, '170'),\n",
       " (0, '17'),\n",
       " (0, '169'),\n",
       " (0, '168'),\n",
       " (0, '167'),\n",
       " (0, '166'),\n",
       " (0, '165'),\n",
       " (0, '164'),\n",
       " (0, '163'),\n",
       " (0, '162'),\n",
       " (0, '161'),\n",
       " (0, '160'),\n",
       " (0, '16'),\n",
       " (0, '159'),\n",
       " (0, '158'),\n",
       " (0, '157'),\n",
       " (0, '156'),\n",
       " (0, '155'),\n",
       " (0, '154'),\n",
       " (0, '153'),\n",
       " (0, '152'),\n",
       " (0, '151'),\n",
       " (0, '150'),\n",
       " (0, '15'),\n",
       " (0, '149'),\n",
       " (0, '148'),\n",
       " (0, '147'),\n",
       " (0, '146'),\n",
       " (0, '145'),\n",
       " (0, '144'),\n",
       " (0, '143'),\n",
       " (0, '142'),\n",
       " (0, '141'),\n",
       " (0, '140'),\n",
       " (0, '14'),\n",
       " (0, '139'),\n",
       " (0, '138'),\n",
       " (0, '137'),\n",
       " (0, '136'),\n",
       " (0, '135'),\n",
       " (0, '134'),\n",
       " (0, '133'),\n",
       " (0, '132'),\n",
       " (0, '131'),\n",
       " (0, '130'),\n",
       " (0, '13'),\n",
       " (0, '129'),\n",
       " (0, '128'),\n",
       " (0, '127'),\n",
       " (0, '126'),\n",
       " (0, '125'),\n",
       " (0, '124'),\n",
       " (0, '123'),\n",
       " (0, '122'),\n",
       " (0, '121'),\n",
       " (0, '120'),\n",
       " (0, '12'),\n",
       " (0, '119'),\n",
       " (0, '118'),\n",
       " (0, '117'),\n",
       " (0, '116'),\n",
       " (0, '115'),\n",
       " (0, '114'),\n",
       " (0, '113'),\n",
       " (0, '112'),\n",
       " (0, '111'),\n",
       " (0, '110'),\n",
       " (0, '11'),\n",
       " (0, '109'),\n",
       " (0, '108'),\n",
       " (0, '107'),\n",
       " (0, '106'),\n",
       " (0, '105'),\n",
       " (0, '104'),\n",
       " (0, '103'),\n",
       " (0, '102'),\n",
       " (0, '101'),\n",
       " (0, '100'),\n",
       " (0, '10'),\n",
       " (0, '1'),\n",
       " (0, '0')]"
      ]
     },
     "execution_count": 8,
     "metadata": {},
     "output_type": "execute_result"
    }
   ],
   "source": [
    "    rank_list = help_methods.rank_list_collection(result_collection, dataset)\n",
    "    rank_list\n"
   ]
  },
  {
   "cell_type": "code",
   "execution_count": 9,
   "metadata": {},
   "outputs": [
    {
     "data": {
      "text/plain": [
       "[[2, '87'],\n",
       " [2, '6'],\n",
       " [2, '59'],\n",
       " [2, '443'],\n",
       " [2, '44'],\n",
       " [2, '437'],\n",
       " [2, '428'],\n",
       " [2, '424'],\n",
       " [2, '387'],\n",
       " [2, '368'],\n",
       " [2, '362'],\n",
       " [2, '29'],\n",
       " [2, '253'],\n",
       " [2, '24'],\n",
       " [2, '223'],\n",
       " [2, '203'],\n",
       " [2, '18'],\n",
       " [2, '17'],\n",
       " [2, '15']]"
      ]
     },
     "execution_count": 9,
     "metadata": {},
     "output_type": "execute_result"
    }
   ],
   "source": [
    "    collectors = help_methods.collecting_few_results(rank_list)\n",
    "    collectors\n"
   ]
  },
  {
   "cell_type": "code",
   "execution_count": 10,
   "metadata": {},
   "outputs": [],
   "source": [
    "    vector_collections=[]\n",
    "    ids_list=[]\n",
    "    for match, ids in collectors:\n",
    "        flag = 0\n",
    "        for v, i in vector:\n",
    "            if int(i) == int(ids):\n",
    "                vector_collections.append([v, i])\n",
    "                flag = 1\n",
    "            elif flag == 1:\n",
    "                break\n",
    "#     sequence_wise_rank = sequence_wise_ranking(match_list_collection)\n",
    "#     sequence_wise_rank = get_unique_2Dlist(sequence_wise_rank)"
   ]
  },
  {
   "cell_type": "markdown",
   "metadata": {},
   "source": [
    "## Experiment from below"
   ]
  },
  {
   "cell_type": "code",
   "execution_count": 14,
   "metadata": {},
   "outputs": [],
   "source": [
    "    match_list_collection = []\n",
    "    for items_vector, ids in vector_collections:\n",
    "        #print(items_vector)\n",
    "        match_list_collection.append([sequence_matcher(items_vector, query_vector),ids])\n",
    "        "
   ]
  },
  {
   "cell_type": "code",
   "execution_count": 16,
   "metadata": {},
   "outputs": [
    {
     "ename": "TypeError",
     "evalue": "unhashable type: 'list'",
     "output_type": "error",
     "traceback": [
      "\u001b[0;31m---------------------------------------------------------------------------\u001b[0m",
      "\u001b[0;31mTypeError\u001b[0m                                 Traceback (most recent call last)",
      "\u001b[0;32m<ipython-input-16-7e13a2b944ae>\u001b[0m in \u001b[0;36m<module>\u001b[0;34m\u001b[0m\n\u001b[0;32m----> 1\u001b[0;31m \u001b[0mset\u001b[0m\u001b[0;34m(\u001b[0m\u001b[0mmatch_list_collection\u001b[0m\u001b[0;34m)\u001b[0m\u001b[0;34m\u001b[0m\u001b[0;34m\u001b[0m\u001b[0m\n\u001b[0m",
      "\u001b[0;31mTypeError\u001b[0m: unhashable type: 'list'"
     ]
    }
   ],
   "source": [
    "set(match_list_collection)"
   ]
  },
  {
   "cell_type": "code",
   "execution_count": 17,
   "metadata": {},
   "outputs": [
    {
     "data": {
      "text/plain": [
       "[[0.3, '87'],\n",
       " [0.3, '6'],\n",
       " [0.3, '59'],\n",
       " [0.3, '443'],\n",
       " [0.3, '44'],\n",
       " [0.3, '437'],\n",
       " [0.3, '428'],\n",
       " [0.3, '424'],\n",
       " [0.3, '387'],\n",
       " [0.3, '368'],\n",
       " [0.3, '362'],\n",
       " [0.3, '29'],\n",
       " [0.3, '253'],\n",
       " [0.3, '24'],\n",
       " [0.3, '223'],\n",
       " [0.3, '203'],\n",
       " [0.3, '18'],\n",
       " [0.3, '17'],\n",
       " [0.3, '15']]"
      ]
     },
     "execution_count": 17,
     "metadata": {},
     "output_type": "execute_result"
    }
   ],
   "source": [
    "def sequence_wise_ranking(match_list_collection):\n",
    "    adder = 0\n",
    "    score_collection = []\n",
    "    for i, ids in match_list_collection:\n",
    "        for items in i:\n",
    "            if len(items) > 1:\n",
    "                adder += len(items)\n",
    "            else:\n",
    "                adder += 0.3\n",
    "        score_collection.append([adder,ids])\n",
    "        adder = 0\n",
    "    \n",
    "    score_collection = help_methods.get_unique_2Dlist((sorted(score_collection, reverse=True)[:100]))\n",
    "    return score_collection\n",
    "sequence_wise_ranking(match_list_collection)"
   ]
  },
  {
   "cell_type": "code",
   "execution_count": null,
   "metadata": {},
   "outputs": [],
   "source": []
  },
  {
   "cell_type": "code",
   "execution_count": 11,
   "metadata": {},
   "outputs": [],
   "source": [
    " sequence_wise_rank = help_methods.sequence_handler(collectors, vector, query_vector)"
   ]
  },
  {
   "cell_type": "code",
   "execution_count": 12,
   "metadata": {},
   "outputs": [
    {
     "data": {
      "text/plain": [
       "[[0.3, '194'],\n",
       " [0.3, '97'],\n",
       " [0.3, '95'],\n",
       " [0.3, '91'],\n",
       " [0.3, '8'],\n",
       " [0.3, '69'],\n",
       " [0.3, '67'],\n",
       " [0.3, '65'],\n",
       " [0.3, '64'],\n",
       " [0.3, '63'],\n",
       " [0.3, '61'],\n",
       " [0.3, '53'],\n",
       " [0.3, '439']]"
      ]
     },
     "execution_count": 12,
     "metadata": {},
     "output_type": "execute_result"
    }
   ],
   "source": [
    "sequence_wise_rank"
   ]
  },
  {
   "cell_type": "code",
   "execution_count": 66,
   "metadata": {},
   "outputs": [],
   "source": [
    "vec, text_collections, ids_list = help_methods.filtered_vector(sequence_wise_rank, vectorizer, dataset)"
   ]
  },
  {
   "cell_type": "code",
   "execution_count": 68,
   "metadata": {},
   "outputs": [
    {
     "data": {
      "text/plain": [
       "[('8', array([0.47150116])),\n",
       " ('430', array([0.4362591])),\n",
       " ('387', array([0.42394369]))]"
      ]
     },
     "execution_count": 68,
     "metadata": {},
     "output_type": "execute_result"
    }
   ],
   "source": [
    "help_methods.ranking_result_collection(query, text_collections, ids_list, vec)"
   ]
  },
  {
   "cell_type": "code",
   "execution_count": 11,
   "metadata": {},
   "outputs": [],
   "source": [
    "vec, text_collections, ids_list = help_methods.filtered_vector(collectors, vectorizer, dataset)"
   ]
  },
  {
   "cell_type": "code",
   "execution_count": 13,
   "metadata": {},
   "outputs": [
    {
     "data": {
      "text/plain": [
       "11"
      ]
     },
     "execution_count": 13,
     "metadata": {},
     "output_type": "execute_result"
    }
   ],
   "source": [
    "len(text_collections)"
   ]
  },
  {
   "cell_type": "code",
   "execution_count": 28,
   "metadata": {},
   "outputs": [
    {
     "data": {
      "text/plain": [
       "[('130', array([0.41231823])),\n",
       " ('132', array([0.37959872])),\n",
       " ('90', array([0.34974372]))]"
      ]
     },
     "execution_count": 28,
     "metadata": {},
     "output_type": "execute_result"
    }
   ],
   "source": [
    "ranks = help_methods.ranking_result_collection(query, text_collections, ids_list, vec)\n",
    "ranks"
   ]
  }
 ],
 "metadata": {
  "kernelspec": {
   "display_name": "Python 3",
   "language": "python",
   "name": "python3"
  },
  "language_info": {
   "codemirror_mode": {
    "name": "ipython",
    "version": 3
   },
   "file_extension": ".py",
   "mimetype": "text/x-python",
   "name": "python",
   "nbconvert_exporter": "python",
   "pygments_lexer": "ipython3",
   "version": "3.6.9"
  }
 },
 "nbformat": 4,
 "nbformat_minor": 4
}
