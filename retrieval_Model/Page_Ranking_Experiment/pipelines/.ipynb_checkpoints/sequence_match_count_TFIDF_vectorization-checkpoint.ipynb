{
 "cells": [
  {
   "cell_type": "code",
   "execution_count": 1,
   "metadata": {},
   "outputs": [],
   "source": [
    "import sys  \n",
    "sys.path.insert(0, '/home/iftekhar/myworkplace/AI-system/retrieval_Model/Page_Ranking_Experiment/methods_collection/')\n",
    "import ranking_help_methods \n",
    "import make_question as question_maker\n",
    "import vectorization\n",
    "import sequence_handler\n",
    "import corpus_handling_methods\n",
    "import pandas as pd\n",
    "import ranking\n",
    "import re\n",
    "from sklearn.metrics.pairwise import cosine_similarity\n",
    "from sklearn.feature_extraction.text import CountVectorizer, TfidfVectorizer\n",
    "vectorizer = CountVectorizer()\n",
    "TFIDF_vectorizer = TfidfVectorizer()"
   ]
  },
  {
   "cell_type": "code",
   "execution_count": 2,
   "metadata": {},
   "outputs": [
    {
     "data": {
      "text/html": [
       "<div>\n",
       "<style scoped>\n",
       "    .dataframe tbody tr th:only-of-type {\n",
       "        vertical-align: middle;\n",
       "    }\n",
       "\n",
       "    .dataframe tbody tr th {\n",
       "        vertical-align: top;\n",
       "    }\n",
       "\n",
       "    .dataframe thead th {\n",
       "        text-align: right;\n",
       "    }\n",
       "</style>\n",
       "<table border=\"1\" class=\"dataframe\">\n",
       "  <thead>\n",
       "    <tr style=\"text-align: right;\">\n",
       "      <th></th>\n",
       "      <th>Data</th>\n",
       "      <th>Summary</th>\n",
       "      <th>PageID</th>\n",
       "    </tr>\n",
       "  </thead>\n",
       "  <tbody>\n",
       "    <tr>\n",
       "      <th>0</th>\n",
       "      <td>カスタマイザー から サブタイトル 設定 MobiControl 設定 順序 MobiCon...</td>\n",
       "      <td>MobiControl v14 Manual – MobiControl v14 Manual</td>\n",
       "      <td>0</td>\n",
       "    </tr>\n",
       "    <tr>\n",
       "      <th>1</th>\n",
       "      <td>MobiControl v Manual Apple 製品 MobiControl 管理 i...</td>\n",
       "      <td>Apple製品 – MobiControl v14 Manual ios overall</td>\n",
       "      <td>1</td>\n",
       "    </tr>\n",
       "    <tr>\n",
       "      <th>2</th>\n",
       "      <td>MobiControl v Manual Android 設定 モード A MobiCont...</td>\n",
       "      <td>Android端末 – MobiControl v14 Manual plus overall</td>\n",
       "      <td>2</td>\n",
       "    </tr>\n",
       "    <tr>\n",
       "      <th>3</th>\n",
       "      <td>MobiControl v Manual Windows PC 根本 セキュリティ 対策 リ...</td>\n",
       "      <td>Windows PC – MobiControl v14 Manual wpc overall</td>\n",
       "      <td>3</td>\n",
       "    </tr>\n",
       "    <tr>\n",
       "      <th>4</th>\n",
       "      <td>MobiControl v Manual Windows Embedded 端末 Windo...</td>\n",
       "      <td>Windows Embedded – MobiControl v14 Manual wm o...</td>\n",
       "      <td>4</td>\n",
       "    </tr>\n",
       "  </tbody>\n",
       "</table>\n",
       "</div>"
      ],
      "text/plain": [
       "                                                Data  \\\n",
       "0  カスタマイザー から サブタイトル 設定 MobiControl 設定 順序 MobiCon...   \n",
       "1  MobiControl v Manual Apple 製品 MobiControl 管理 i...   \n",
       "2  MobiControl v Manual Android 設定 モード A MobiCont...   \n",
       "3  MobiControl v Manual Windows PC 根本 セキュリティ 対策 リ...   \n",
       "4  MobiControl v Manual Windows Embedded 端末 Windo...   \n",
       "\n",
       "                                             Summary  PageID  \n",
       "0   MobiControl v14 Manual – MobiControl v14 Manual        0  \n",
       "1      Apple製品 – MobiControl v14 Manual ios overall        1  \n",
       "2   Android端末 – MobiControl v14 Manual plus overall        2  \n",
       "3   Windows PC – MobiControl v14 Manual wpc overall        3  \n",
       "4  Windows Embedded – MobiControl v14 Manual wm o...       4  "
      ]
     },
     "execution_count": 2,
     "metadata": {},
     "output_type": "execute_result"
    }
   ],
   "source": [
    "dataset = pd.read_csv(\"../../../Helpers/Title_link_merged_corpus.csv\")\n",
    "dataset = dataset.iloc[:,2:]\n",
    "dataset = dataset.rename(columns={\"Article\": \"Data\"})\n",
    "dataset.Data = dataset.Data.apply(lambda x: corpus_handling_methods.clean_text(x))\n",
    "dataset.head()"
   ]
  },
  {
   "cell_type": "code",
   "execution_count": 3,
   "metadata": {},
   "outputs": [
    {
     "data": {
      "text/html": [
       "<div>\n",
       "<style scoped>\n",
       "    .dataframe tbody tr th:only-of-type {\n",
       "        vertical-align: middle;\n",
       "    }\n",
       "\n",
       "    .dataframe tbody tr th {\n",
       "        vertical-align: top;\n",
       "    }\n",
       "\n",
       "    .dataframe thead th {\n",
       "        text-align: right;\n",
       "    }\n",
       "</style>\n",
       "<table border=\"1\" class=\"dataframe\">\n",
       "  <thead>\n",
       "    <tr style=\"text-align: right;\">\n",
       "      <th></th>\n",
       "      <th>Data</th>\n",
       "      <th>PageID</th>\n",
       "    </tr>\n",
       "  </thead>\n",
       "  <tbody>\n",
       "    <tr>\n",
       "      <th>0</th>\n",
       "      <td>カスタマイザー から サブタイトル 設定 MobiControl 設定 順序 MobiCon...</td>\n",
       "      <td>0</td>\n",
       "    </tr>\n",
       "    <tr>\n",
       "      <th>1</th>\n",
       "      <td>設定 順序 MobiControl 設定 順序 行い 端末 OS</td>\n",
       "      <td>0</td>\n",
       "    </tr>\n",
       "    <tr>\n",
       "      <th>2</th>\n",
       "      <td>対象 オンプレミス MobiControl サーバ のみ 必要 な 設定</td>\n",
       "      <td>0</td>\n",
       "    </tr>\n",
       "    <tr>\n",
       "      <th>3</th>\n",
       "      <td>事項 iOS 端末 macOS コンピュータ 必須 接続 プロファイル</td>\n",
       "      <td>0</td>\n",
       "    </tr>\n",
       "    <tr>\n",
       "      <th>4</th>\n",
       "      <td>作成 ADDS Active Directory Domain Service サーバ 間</td>\n",
       "      <td>0</td>\n",
       "    </tr>\n",
       "  </tbody>\n",
       "</table>\n",
       "</div>"
      ],
      "text/plain": [
       "                                                Data  PageID\n",
       "0  カスタマイザー から サブタイトル 設定 MobiControl 設定 順序 MobiCon...       0\n",
       "1                   設定 順序 MobiControl 設定 順序 行い 端末 OS       0\n",
       "2               対象 オンプレミス MobiControl サーバ のみ 必要 な 設定       0\n",
       "3                事項 iOS 端末 macOS コンピュータ 必須 接続 プロファイル       0\n",
       "4      作成 ADDS Active Directory Domain Service サーバ 間       0"
      ]
     },
     "execution_count": 3,
     "metadata": {},
     "output_type": "execute_result"
    }
   ],
   "source": [
    "split_corpus = corpus_handling_methods.corpus_split(dataset, 8)\n",
    "split_corpus.head()"
   ]
  },
  {
   "cell_type": "code",
   "execution_count": 4,
   "metadata": {},
   "outputs": [
    {
     "data": {
      "text/html": [
       "<div>\n",
       "<style scoped>\n",
       "    .dataframe tbody tr th:only-of-type {\n",
       "        vertical-align: middle;\n",
       "    }\n",
       "\n",
       "    .dataframe tbody tr th {\n",
       "        vertical-align: top;\n",
       "    }\n",
       "\n",
       "    .dataframe thead th {\n",
       "        text-align: right;\n",
       "    }\n",
       "</style>\n",
       "<table border=\"1\" class=\"dataframe\">\n",
       "  <thead>\n",
       "    <tr style=\"text-align: right;\">\n",
       "      <th></th>\n",
       "      <th>Data</th>\n",
       "      <th>PageID</th>\n",
       "    </tr>\n",
       "  </thead>\n",
       "  <tbody>\n",
       "    <tr>\n",
       "      <th>0</th>\n",
       "      <td>カスタマイザー から サブタイトル 設定 MobiControl 設定 順序 MobiCon...</td>\n",
       "      <td>0</td>\n",
       "    </tr>\n",
       "    <tr>\n",
       "      <th>1</th>\n",
       "      <td>MobiControl v Manual Apple 製品 MobiControl 管理 i...</td>\n",
       "      <td>1</td>\n",
       "    </tr>\n",
       "    <tr>\n",
       "      <th>2</th>\n",
       "      <td>MobiControl v Manual Android 設定 モード A MobiCont...</td>\n",
       "      <td>2</td>\n",
       "    </tr>\n",
       "    <tr>\n",
       "      <th>3</th>\n",
       "      <td>MobiControl v Manual Windows PC 根本 セキュリティ 対策 リ...</td>\n",
       "      <td>3</td>\n",
       "    </tr>\n",
       "    <tr>\n",
       "      <th>4</th>\n",
       "      <td>MobiControl v Manual Windows Embedded 端末 Windo...</td>\n",
       "      <td>4</td>\n",
       "    </tr>\n",
       "  </tbody>\n",
       "</table>\n",
       "</div>"
      ],
      "text/plain": [
       "                                                Data  PageID\n",
       "0  カスタマイザー から サブタイトル 設定 MobiControl 設定 順序 MobiCon...       0\n",
       "1  MobiControl v Manual Apple 製品 MobiControl 管理 i...       1\n",
       "2  MobiControl v Manual Android 設定 モード A MobiCont...       2\n",
       "3  MobiControl v Manual Windows PC 根本 セキュリティ 対策 リ...       3\n",
       "4  MobiControl v Manual Windows Embedded 端末 Windo...       4"
      ]
     },
     "execution_count": 4,
     "metadata": {},
     "output_type": "execute_result"
    }
   ],
   "source": [
    "perpage_dataset = corpus_handling_methods.corpus_per_page(split_corpus)\n",
    "perpage_dataset.head() "
   ]
  },
  {
   "cell_type": "code",
   "execution_count": 5,
   "metadata": {},
   "outputs": [
    {
     "data": {
      "text/html": [
       "<div>\n",
       "<style scoped>\n",
       "    .dataframe tbody tr th:only-of-type {\n",
       "        vertical-align: middle;\n",
       "    }\n",
       "\n",
       "    .dataframe tbody tr th {\n",
       "        vertical-align: top;\n",
       "    }\n",
       "\n",
       "    .dataframe thead th {\n",
       "        text-align: right;\n",
       "    }\n",
       "</style>\n",
       "<table border=\"1\" class=\"dataframe\">\n",
       "  <thead>\n",
       "    <tr style=\"text-align: right;\">\n",
       "      <th></th>\n",
       "      <th>Question</th>\n",
       "      <th>PageID</th>\n",
       "    </tr>\n",
       "  </thead>\n",
       "  <tbody>\n",
       "    <tr>\n",
       "      <th>0</th>\n",
       "      <td>EMM あっ た 端末 ユーザー 機種 変更 なにで</td>\n",
       "      <td>273</td>\n",
       "    </tr>\n",
       "    <tr>\n",
       "      <th>1</th>\n",
       "      <td>端末 解除 MobiControl コンソール から 端末 表示 どこ</td>\n",
       "      <td>25</td>\n",
       "    </tr>\n",
       "    <tr>\n",
       "      <th>2</th>\n",
       "      <td>画面 現れ プロファイル 選択 設定 済み プロファイル 何ができますか</td>\n",
       "      <td>262</td>\n",
       "    </tr>\n",
       "    <tr>\n",
       "      <th>3</th>\n",
       "      <td>開い た 状態 閉じ た 状態 各 使い始める方法を教えてください</td>\n",
       "      <td>20</td>\n",
       "    </tr>\n",
       "    <tr>\n",
       "      <th>4</th>\n",
       "      <td>端末 MobiControl 登録 た iOS 端末 APNs ついて教えてください</td>\n",
       "      <td>12</td>\n",
       "    </tr>\n",
       "  </tbody>\n",
       "</table>\n",
       "</div>"
      ],
      "text/plain": [
       "                                     Question  PageID\n",
       "0                  EMM あっ た 端末 ユーザー 機種 変更 なにで     273\n",
       "1         端末 解除 MobiControl コンソール から 端末 表示 どこ      25\n",
       "2        画面 現れ プロファイル 選択 設定 済み プロファイル 何ができますか     262\n",
       "3           開い た 状態 閉じ た 状態 各 使い始める方法を教えてください      20\n",
       "4  端末 MobiControl 登録 た iOS 端末 APNs ついて教えてください      12"
      ]
     },
     "execution_count": 5,
     "metadata": {},
     "output_type": "execute_result"
    }
   ],
   "source": [
    "sample_size = 10\n",
    "questions_samples = question_maker.question_dataframe_generator_1000(split_corpus, sample_size)\n",
    "questions_samples.head()"
   ]
  },
  {
   "cell_type": "code",
   "execution_count": 6,
   "metadata": {},
   "outputs": [],
   "source": [
    "vec = vectorization.vector_fit(TFIDF_vectorizer, split_corpus)"
   ]
  },
  {
   "cell_type": "code",
   "execution_count": 22,
   "metadata": {},
   "outputs": [
    {
     "name": "stdout",
     "output_type": "stream",
     "text": [
      "EMM あっ た 端末 ユーザー 機種 変更 なにで 273\n"
     ]
    }
   ],
   "source": [
    "sample_count = 0\n",
    "sum_score = 0\n",
    "container = []\n",
    "\n",
    "for index, col in questions_samples.iterrows():\n",
    "    print(col['Question'], col['PageID'])\n",
    "    query = str(col['Question'])\n",
    "    question_parts = question_maker.making_query_collection(query)\n",
    "    collector = sequence_handler.sequence_searcher(perpage_dataset, question_parts)\n",
    "    perpage_sequence_match = sequence_handler.perpage_sequence_match(collector, \n",
    "                                        perpage_dataset, split_corpus, query)\n",
    "    ranks = ranking.crude_ranks(perpage_sequence_match, query, vec)\n",
    "    filtered_ranks = ranking.filtering_ranks(ranks, perpage_sequence_match, query, vec)\n",
    "    break\n",
    "    \n",
    "#     page_answers = []\n",
    "#     prediction_scores = []\n",
    "#     for ids, score in ranks:\n",
    "#         page_answers.append(ids)\n",
    "#         prediction_scores.append(score)\n",
    "#     MRR_score = ranking.mean_reciprocal_rank_score(col['PageID'], page_answers)\n",
    "#     sum_score += MRR_score\n",
    "#     container.append([MRR_score, col['PageID'], page_answers, prediction_scores, col['Question']])\n",
    "#     sample_count += 1\n",
    "    \n",
    "# result = pd.DataFrame(container, columns=['score', 'actual_answer',\n",
    "# 'page_answers', 'prediction_scores', 'query'])\n",
    "# result.to_csv('seq_matcher_TFIDF_Vectorizer_performance.csv')\n",
    "# score = sum_score/sample_count\n",
    "# score\n"
   ]
  },
  {
   "cell_type": "code",
   "execution_count": 23,
   "metadata": {},
   "outputs": [
    {
     "data": {
      "text/plain": [
       "[[366, 0.46372821], [202, 0.37339478], [413, 0.36959965]]"
      ]
     },
     "execution_count": 23,
     "metadata": {},
     "output_type": "execute_result"
    }
   ],
   "source": [
    "filtered_ranks"
   ]
  },
  {
   "cell_type": "code",
   "execution_count": null,
   "metadata": {},
   "outputs": [],
   "source": []
  },
  {
   "cell_type": "raw",
   "metadata": {},
   "source": []
  }
 ],
 "metadata": {
  "kernelspec": {
   "display_name": "Python 3",
   "language": "python",
   "name": "python3"
  },
  "language_info": {
   "codemirror_mode": {
    "name": "ipython",
    "version": 3
   },
   "file_extension": ".py",
   "mimetype": "text/x-python",
   "name": "python",
   "nbconvert_exporter": "python",
   "pygments_lexer": "ipython3",
   "version": "3.6.9"
  }
 },
 "nbformat": 4,
 "nbformat_minor": 4
}
