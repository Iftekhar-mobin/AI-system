{
 "cells": [
  {
   "cell_type": "code",
   "execution_count": 1,
   "metadata": {},
   "outputs": [],
   "source": [
    "import sys  \n",
    "sys.path.insert(0, '/home/iftekhar/myworkplace/AI-system/retrieval_Model/Page_Ranking_Experiment/methods_collection/')\n",
    "import ranking_help_methods \n",
    "import make_question as question_maker\n",
    "import vectorization\n",
    "import sequence_handler\n",
    "import corpus_handling_methods\n",
    "import pandas as pd\n",
    "import ranking\n",
    "import re\n",
    "from sklearn.metrics.pairwise import cosine_similarity\n",
    "from sklearn.feature_extraction.text import CountVectorizer, TfidfVectorizer\n",
    "vectorizer = CountVectorizer()\n",
    "TFIDF_vectorizer = TfidfVectorizer()\n",
    "\n",
    "import numpy as np\n",
    "from bert_serving.client import BertClient\n",
    "bc = BertClient()"
   ]
  },
  {
   "cell_type": "code",
   "execution_count": 2,
   "metadata": {},
   "outputs": [
    {
     "data": {
      "text/html": [
       "<div>\n",
       "<style scoped>\n",
       "    .dataframe tbody tr th:only-of-type {\n",
       "        vertical-align: middle;\n",
       "    }\n",
       "\n",
       "    .dataframe tbody tr th {\n",
       "        vertical-align: top;\n",
       "    }\n",
       "\n",
       "    .dataframe thead th {\n",
       "        text-align: right;\n",
       "    }\n",
       "</style>\n",
       "<table border=\"1\" class=\"dataframe\">\n",
       "  <thead>\n",
       "    <tr style=\"text-align: right;\">\n",
       "      <th></th>\n",
       "      <th>Data</th>\n",
       "      <th>Summary</th>\n",
       "      <th>PageID</th>\n",
       "    </tr>\n",
       "  </thead>\n",
       "  <tbody>\n",
       "    <tr>\n",
       "      <th>0</th>\n",
       "      <td>カスタマイザー から サブタイトル 設定 MobiControl 設定 順序 MobiCon...</td>\n",
       "      <td>MobiControl v14 Manual – MobiControl v14 Manual</td>\n",
       "      <td>0</td>\n",
       "    </tr>\n",
       "    <tr>\n",
       "      <th>1</th>\n",
       "      <td>MobiControl v Manual Apple 製品 MobiControl 管理 i...</td>\n",
       "      <td>Apple製品 – MobiControl v14 Manual ios overall</td>\n",
       "      <td>1</td>\n",
       "    </tr>\n",
       "    <tr>\n",
       "      <th>2</th>\n",
       "      <td>MobiControl v Manual Android 設定 モード A MobiCont...</td>\n",
       "      <td>Android端末 – MobiControl v14 Manual plus overall</td>\n",
       "      <td>2</td>\n",
       "    </tr>\n",
       "    <tr>\n",
       "      <th>3</th>\n",
       "      <td>MobiControl v Manual Windows PC 根本 セキュリティ 対策 リ...</td>\n",
       "      <td>Windows PC – MobiControl v14 Manual wpc overall</td>\n",
       "      <td>3</td>\n",
       "    </tr>\n",
       "    <tr>\n",
       "      <th>4</th>\n",
       "      <td>MobiControl v Manual Windows Embedded 端末 Windo...</td>\n",
       "      <td>Windows Embedded – MobiControl v14 Manual wm o...</td>\n",
       "      <td>4</td>\n",
       "    </tr>\n",
       "  </tbody>\n",
       "</table>\n",
       "</div>"
      ],
      "text/plain": [
       "                                                Data  \\\n",
       "0  カスタマイザー から サブタイトル 設定 MobiControl 設定 順序 MobiCon...   \n",
       "1  MobiControl v Manual Apple 製品 MobiControl 管理 i...   \n",
       "2  MobiControl v Manual Android 設定 モード A MobiCont...   \n",
       "3  MobiControl v Manual Windows PC 根本 セキュリティ 対策 リ...   \n",
       "4  MobiControl v Manual Windows Embedded 端末 Windo...   \n",
       "\n",
       "                                             Summary  PageID  \n",
       "0   MobiControl v14 Manual – MobiControl v14 Manual        0  \n",
       "1      Apple製品 – MobiControl v14 Manual ios overall        1  \n",
       "2   Android端末 – MobiControl v14 Manual plus overall        2  \n",
       "3   Windows PC – MobiControl v14 Manual wpc overall        3  \n",
       "4  Windows Embedded – MobiControl v14 Manual wm o...       4  "
      ]
     },
     "execution_count": 2,
     "metadata": {},
     "output_type": "execute_result"
    }
   ],
   "source": [
    "dataset = pd.read_csv(\"../../../Helpers/Title_link_merged_corpus.csv\")\n",
    "dataset = dataset.iloc[:,2:]\n",
    "dataset = dataset.rename(columns={\"Article\": \"Data\"})\n",
    "dataset.Data = dataset.Data.apply(lambda x: corpus_handling_methods.clean_text(x))\n",
    "dataset.head()"
   ]
  },
  {
   "cell_type": "code",
   "execution_count": 3,
   "metadata": {},
   "outputs": [
    {
     "data": {
      "text/html": [
       "<div>\n",
       "<style scoped>\n",
       "    .dataframe tbody tr th:only-of-type {\n",
       "        vertical-align: middle;\n",
       "    }\n",
       "\n",
       "    .dataframe tbody tr th {\n",
       "        vertical-align: top;\n",
       "    }\n",
       "\n",
       "    .dataframe thead th {\n",
       "        text-align: right;\n",
       "    }\n",
       "</style>\n",
       "<table border=\"1\" class=\"dataframe\">\n",
       "  <thead>\n",
       "    <tr style=\"text-align: right;\">\n",
       "      <th></th>\n",
       "      <th>Data</th>\n",
       "      <th>PageID</th>\n",
       "    </tr>\n",
       "  </thead>\n",
       "  <tbody>\n",
       "    <tr>\n",
       "      <th>0</th>\n",
       "      <td>カスタマイザー から サブタイトル 設定 MobiControl 設定 順序 MobiCon...</td>\n",
       "      <td>0</td>\n",
       "    </tr>\n",
       "    <tr>\n",
       "      <th>1</th>\n",
       "      <td>設定 順序 MobiControl 設定 順序 行い 端末 OS</td>\n",
       "      <td>0</td>\n",
       "    </tr>\n",
       "    <tr>\n",
       "      <th>2</th>\n",
       "      <td>対象 オンプレミス MobiControl サーバ のみ 必要 な 設定</td>\n",
       "      <td>0</td>\n",
       "    </tr>\n",
       "    <tr>\n",
       "      <th>3</th>\n",
       "      <td>事項 iOS 端末 macOS コンピュータ 必須 接続 プロファイル</td>\n",
       "      <td>0</td>\n",
       "    </tr>\n",
       "    <tr>\n",
       "      <th>4</th>\n",
       "      <td>作成 ADDS Active Directory Domain Service サーバ 間</td>\n",
       "      <td>0</td>\n",
       "    </tr>\n",
       "  </tbody>\n",
       "</table>\n",
       "</div>"
      ],
      "text/plain": [
       "                                                Data  PageID\n",
       "0  カスタマイザー から サブタイトル 設定 MobiControl 設定 順序 MobiCon...       0\n",
       "1                   設定 順序 MobiControl 設定 順序 行い 端末 OS       0\n",
       "2               対象 オンプレミス MobiControl サーバ のみ 必要 な 設定       0\n",
       "3                事項 iOS 端末 macOS コンピュータ 必須 接続 プロファイル       0\n",
       "4      作成 ADDS Active Directory Domain Service サーバ 間       0"
      ]
     },
     "execution_count": 3,
     "metadata": {},
     "output_type": "execute_result"
    }
   ],
   "source": [
    "split_corpus = corpus_handling_methods.corpus_split(dataset, 8)\n",
    "split_corpus.head()"
   ]
  },
  {
   "cell_type": "code",
   "execution_count": 4,
   "metadata": {},
   "outputs": [
    {
     "data": {
      "text/html": [
       "<div>\n",
       "<style scoped>\n",
       "    .dataframe tbody tr th:only-of-type {\n",
       "        vertical-align: middle;\n",
       "    }\n",
       "\n",
       "    .dataframe tbody tr th {\n",
       "        vertical-align: top;\n",
       "    }\n",
       "\n",
       "    .dataframe thead th {\n",
       "        text-align: right;\n",
       "    }\n",
       "</style>\n",
       "<table border=\"1\" class=\"dataframe\">\n",
       "  <thead>\n",
       "    <tr style=\"text-align: right;\">\n",
       "      <th></th>\n",
       "      <th>Data</th>\n",
       "      <th>PageID</th>\n",
       "    </tr>\n",
       "  </thead>\n",
       "  <tbody>\n",
       "    <tr>\n",
       "      <th>0</th>\n",
       "      <td>カスタマイザー から サブタイトル 設定 MobiControl 設定 順序 MobiCon...</td>\n",
       "      <td>0</td>\n",
       "    </tr>\n",
       "    <tr>\n",
       "      <th>1</th>\n",
       "      <td>MobiControl v Manual Apple 製品 MobiControl 管理 i...</td>\n",
       "      <td>1</td>\n",
       "    </tr>\n",
       "    <tr>\n",
       "      <th>2</th>\n",
       "      <td>MobiControl v Manual Android 設定 モード A MobiCont...</td>\n",
       "      <td>2</td>\n",
       "    </tr>\n",
       "    <tr>\n",
       "      <th>3</th>\n",
       "      <td>MobiControl v Manual Windows PC 根本 セキュリティ 対策 リ...</td>\n",
       "      <td>3</td>\n",
       "    </tr>\n",
       "    <tr>\n",
       "      <th>4</th>\n",
       "      <td>MobiControl v Manual Windows Embedded 端末 Windo...</td>\n",
       "      <td>4</td>\n",
       "    </tr>\n",
       "  </tbody>\n",
       "</table>\n",
       "</div>"
      ],
      "text/plain": [
       "                                                Data  PageID\n",
       "0  カスタマイザー から サブタイトル 設定 MobiControl 設定 順序 MobiCon...       0\n",
       "1  MobiControl v Manual Apple 製品 MobiControl 管理 i...       1\n",
       "2  MobiControl v Manual Android 設定 モード A MobiCont...       2\n",
       "3  MobiControl v Manual Windows PC 根本 セキュリティ 対策 リ...       3\n",
       "4  MobiControl v Manual Windows Embedded 端末 Windo...       4"
      ]
     },
     "execution_count": 4,
     "metadata": {},
     "output_type": "execute_result"
    }
   ],
   "source": [
    "perpage_dataset = corpus_handling_methods.corpus_per_page(split_corpus)\n",
    "perpage_dataset.head() "
   ]
  },
  {
   "cell_type": "code",
   "execution_count": 5,
   "metadata": {},
   "outputs": [
    {
     "data": {
      "text/html": [
       "<div>\n",
       "<style scoped>\n",
       "    .dataframe tbody tr th:only-of-type {\n",
       "        vertical-align: middle;\n",
       "    }\n",
       "\n",
       "    .dataframe tbody tr th {\n",
       "        vertical-align: top;\n",
       "    }\n",
       "\n",
       "    .dataframe thead th {\n",
       "        text-align: right;\n",
       "    }\n",
       "</style>\n",
       "<table border=\"1\" class=\"dataframe\">\n",
       "  <thead>\n",
       "    <tr style=\"text-align: right;\">\n",
       "      <th></th>\n",
       "      <th>Question</th>\n",
       "      <th>PageID</th>\n",
       "    </tr>\n",
       "  </thead>\n",
       "  <tbody>\n",
       "    <tr>\n",
       "      <th>0</th>\n",
       "      <td>など メモ 当該 端末 備忘録 メモ 残し 何ができますか</td>\n",
       "      <td>247</td>\n",
       "    </tr>\n",
       "    <tr>\n",
       "      <th>1</th>\n",
       "      <td>MobiControl Manual WordPress 構築 アラートイベント 発生 たら...</td>\n",
       "      <td>41</td>\n",
       "    </tr>\n",
       "    <tr>\n",
       "      <th>2</th>\n",
       "      <td>から 入力 なけれ ば 有効 期間 切れ 関する情報を教えてください</td>\n",
       "      <td>433</td>\n",
       "    </tr>\n",
       "    <tr>\n",
       "      <th>3</th>\n",
       "      <td>有効 期間 少なく なっ たら 再 発行 なにで</td>\n",
       "      <td>13</td>\n",
       "    </tr>\n",
       "    <tr>\n",
       "      <th>4</th>\n",
       "      <td>ケーブル Bluetooth 接続 ファイル 取り出し ない ウィルス 使うには</td>\n",
       "      <td>238</td>\n",
       "    </tr>\n",
       "  </tbody>\n",
       "</table>\n",
       "</div>"
      ],
      "text/plain": [
       "                                            Question  PageID\n",
       "0                      など メモ 当該 端末 備忘録 メモ 残し 何ができますか     247\n",
       "1  MobiControl Manual WordPress 構築 アラートイベント 発生 たら...      41\n",
       "2                 から 入力 なけれ ば 有効 期間 切れ 関する情報を教えてください     433\n",
       "3                           有効 期間 少なく なっ たら 再 発行 なにで      13\n",
       "4           ケーブル Bluetooth 接続 ファイル 取り出し ない ウィルス 使うには     238"
      ]
     },
     "execution_count": 5,
     "metadata": {},
     "output_type": "execute_result"
    }
   ],
   "source": [
    "sample_size = 10\n",
    "questions_samples = question_maker.question_dataframe_generator_1000(split_corpus, sample_size)\n",
    "questions_samples.head()"
   ]
  },
  {
   "cell_type": "code",
   "execution_count": 6,
   "metadata": {},
   "outputs": [],
   "source": [
    "vec = vectorization.vector_fit(TFIDF_vectorizer, split_corpus)"
   ]
  },
  {
   "cell_type": "code",
   "execution_count": 30,
   "metadata": {},
   "outputs": [
    {
     "name": "stdout",
     "output_type": "stream",
     "text": [
      "など メモ 当該 端末 備忘録 メモ 残し 何ができますか 247\n"
     ]
    },
    {
     "name": "stderr",
     "output_type": "stream",
     "text": [
      "/home/iftekhar/myworkplace/environments/experiment_env/lib/python3.6/site-packages/bert_serving/client/__init__.py:290: UserWarning: server does not put a restriction on \"max_seq_len\", it will determine \"max_seq_len\" dynamically according to the sequences in the batch. you can restrict the sequence length on the client side for better efficiency\n",
      "  warnings.warn('server does not put a restriction on \"max_seq_len\", '\n"
     ]
    },
    {
     "name": "stdout",
     "output_type": "stream",
     "text": [
      "MobiControl Manual WordPress 構築 アラートイベント 発生 たら どうでしたか 41\n",
      "から 入力 なけれ ば 有効 期間 切れ 関する情報を教えてください 433\n",
      "有効 期間 少なく なっ たら 再 発行 なにで 13\n",
      "ケーブル Bluetooth 接続 ファイル 取り出し ない ウィルス 使うには 238\n",
      "遷移 画面 れ デプロイメントサーバー 項 デプロイメントサーバ 名前 使用しますか 425\n",
      "by Penetrate Limits Co Tokyo MobiControl v どうでしたか 124\n",
      "有効 期間 残り 日数 指定 LDAP 証明 使いたいです 13\n",
      "Catalog authentication 補足 iOS 端末 本人 認証 関する情報を教えてください 43\n",
      "Shift 項目 説明 スティッキーキー 有効 キー 有効 何ですか 315\n",
      "実行 複数 スクリプト 文 入力 可能 スクリプト どうですか 400\n",
      "jp com アクセス ログイン 画面 な ログイン 何ですか 230\n"
     ]
    },
    {
     "data": {
      "text/plain": [
       "0.19416666666666668"
      ]
     },
     "execution_count": 30,
     "metadata": {},
     "output_type": "execute_result"
    }
   ],
   "source": [
    "sample_count = 0\n",
    "sum_score = 0\n",
    "container = []\n",
    "\n",
    "for index, col in questions_samples.iterrows():\n",
    "    print(col['Question'], col['PageID'])\n",
    "    query = str(col['Question'])\n",
    "    question_parts = question_maker.making_query_collection(query)\n",
    "    collector = sequence_handler.sequence_searcher(perpage_dataset, question_parts)\n",
    "    perpage_sequence_match = sequence_handler.perpage_sequence_match(collector, \n",
    "                                        perpage_dataset, split_corpus, query)\n",
    "    #ranks = ranking.crude_ranks(perpage_sequence_match, query, vec)\n",
    "    #filtered_ranks = ranking.filtering_ranks(ranks, perpage_sequence_match, query, vec)\n",
    "    \n",
    "    ranks = bert_vector_to_rank(perpage_sequence_match)\n",
    "    \n",
    "    page_answers = []\n",
    "    prediction_scores = []\n",
    "    for ids, score in ranks:\n",
    "        page_answers.append(ids)\n",
    "        prediction_scores.append(score)\n",
    "    MRR_score = ranking.mean_reciprocal_rank_score(col['PageID'], page_answers)\n",
    "    sum_score += MRR_score\n",
    "    container.append([MRR_score, col['PageID'], page_answers, prediction_scores, col['Question']])\n",
    "    sample_count += 1\n",
    "    \n",
    "result = pd.DataFrame(container, columns=['score', 'actual_answer',\n",
    "'page_answers', 'prediction_scores', 'query'])\n",
    "result.to_csv('seq_matcher_TFIDF_Vectorizer_performance.csv')\n",
    "score = sum_score/sample_count\n",
    "score\n"
   ]
  },
  {
   "cell_type": "code",
   "execution_count": 7,
   "metadata": {},
   "outputs": [
    {
     "name": "stdout",
     "output_type": "stream",
     "text": [
      "など メモ 当該 端末 備忘録 メモ 残し 何ができますか 247\n"
     ]
    }
   ],
   "source": [
    "sample_count = 0\n",
    "sum_score = 0\n",
    "container = []\n",
    "\n",
    "for index, col in questions_samples.iterrows():\n",
    "    print(col['Question'], col['PageID'])\n",
    "    query = str(col['Question'])\n",
    "    question_parts = question_maker.making_query_collection(query)\n",
    "    collector = sequence_handler.sequence_searcher(perpage_dataset, question_parts)\n",
    "    perpage_sequence_match = sequence_handler.perpage_sequence_match(collector, \n",
    "                                        perpage_dataset, split_corpus, query)\n",
    "    break"
   ]
  },
  {
   "cell_type": "code",
   "execution_count": null,
   "metadata": {},
   "outputs": [],
   "source": [
    "perpage_sequence_match"
   ]
  },
  {
   "cell_type": "code",
   "execution_count": 29,
   "metadata": {},
   "outputs": [],
   "source": [
    "def bert_vector_to_rank(perpage_sequence_match, topk = 3):\n",
    "    sentence_list = []\n",
    "    ids_list = []\n",
    "    rank = []\n",
    "    for ids, items in perpage_sequence_match:\n",
    "        for sentences in items:\n",
    "            sentence_list.append(sentences)\n",
    "            ids_list.append(ids)\n",
    "    selected_vectors = bc.encode(sentence_list) \n",
    "    score = np.sum(X * selected_vectors, axis=1) / np.linalg.norm(selected_vectors, axis=1)\n",
    "    topk_idx = np.argsort(score)[::-1][:topk]\n",
    "    for idx in topk_idx:\n",
    "        rank.append([ids_list[idx], score[idx]])\n",
    "    return rank"
   ]
  }
 ],
 "metadata": {
  "kernelspec": {
   "display_name": "Python 3",
   "language": "python",
   "name": "python3"
  },
  "language_info": {
   "codemirror_mode": {
    "name": "ipython",
    "version": 3
   },
   "file_extension": ".py",
   "mimetype": "text/x-python",
   "name": "python",
   "nbconvert_exporter": "python",
   "pygments_lexer": "ipython3",
   "version": "3.6.9"
  }
 },
 "nbformat": 4,
 "nbformat_minor": 4
}
