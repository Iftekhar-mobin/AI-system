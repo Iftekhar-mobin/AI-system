{
 "cells": [
  {
   "cell_type": "markdown",
   "metadata": {},
   "source": [
    "### Project requirements/Details are Given below"
   ]
  },
  {
   "cell_type": "code",
   "execution_count": null,
   "metadata": {},
   "outputs": [],
   "source": [
    "# Coding Project: digits generation in sequence\n",
    "\n",
    "# The goal of this project is to write a program that can generate images\n",
    "# representing sequences of numbers, for data augmentation purposes.\n",
    "# seq of number 1 3 9 4 5 .... \n",
    "# seq of number 2 1 2 3 9 5 .... \n",
    "\n",
    "# Hence  input => image [1 3 9 4 5 6]  ==> class [1 3 9 4 5 6]\n",
    "# Hence input => image [2 1 2 3 9 5 ]  ==> class [2 1 2 3 9 5]\n",
    "\n",
    "# digits have to be stacked horizontally\n",
    "\n",
    "# spacing uniform distribution over a range determined by two user specified numbers\n",
    "# {that means it will take the best/optimal spacing automatically}\n",
    "\n",
    "# The numerical values of the digits themselves are provided by the user [1 3 9 4 5 6]\n",
    "# each digit chosen randomly from one of its representations in the MNIST dataset\n",
    "\n",
    "#The width of the output image in pixels is specified by the user.\n",
    "# {it will take the space from the user predefined space range before}\n",
    "\n",
    "#while the height should be 28 pixels (i.e. identical to that of the MNIST digits).  The\n",
    "#code should contain both an API and a script."
   ]
  },
  {
   "cell_type": "code",
   "execution_count": 8,
   "metadata": {},
   "outputs": [],
   "source": [
    "import os\n",
    "from mlxtend.data import loadlocal_mnist\n",
    "from random import choice\n",
    "from PIL import Image\n",
    "import numpy as np"
   ]
  },
  {
   "cell_type": "markdown",
   "metadata": {},
   "source": [
    "### Handling dataset (Download + loading)"
   ]
  },
  {
   "cell_type": "code",
   "execution_count": null,
   "metadata": {},
   "outputs": [],
   "source": [
    "#### Download data from  http://yann.lecun.com/exdb/mnist/ ###"
   ]
  },
  {
   "cell_type": "code",
   "execution_count": 2,
   "metadata": {},
   "outputs": [],
   "source": [
    "# http://rasbt.github.io/mlxtend/user_guide/data/loadlocal_mnist/\n",
    "# mlxtend-0.18.0\n",
    "# return lebel and Image Map\n",
    "def load_data(path, img_file, lbl_file):\n",
    "    path_img = os.path.join(os.getcwd(), path, img_file)\n",
    "    path_lbl = os.path.join(os.getcwd(), path, lbl_file)\n",
    "    \n",
    "    images, labels = loadlocal_mnist(\n",
    "            images_path=path_img, \n",
    "            labels_path=path_lbl\n",
    "    )\n",
    "    # convering data to 32 bit floating point\n",
    "    images = images.reshape(10000, 28, 28).astype('float32')\n",
    "    \n",
    "    return images, labels"
   ]
  },
  {
   "cell_type": "code",
   "execution_count": 3,
   "metadata": {},
   "outputs": [],
   "source": [
    "## Load data API\n",
    "x , y = load_data('MNIST-Sequence-master/data', 't10k-images.idx3-ubyte', 't10k-labels.idx1-ubyte')"
   ]
  },
  {
   "cell_type": "code",
   "execution_count": 4,
   "metadata": {},
   "outputs": [
    {
     "data": {
      "text/plain": [
       "<matplotlib.colorbar.Colorbar at 0x7f4c2b64ab38>"
      ]
     },
     "execution_count": 4,
     "metadata": {},
     "output_type": "execute_result"
    },
    {
     "data": {
      "image/png": "[encoded data removed]",
      "text/plain": [
       "<Figure size 432x288 with 2 Axes>"
      ]
     },
     "metadata": {
      "needs_background": "light"
     },
     "output_type": "display_data"
    }
   ],
   "source": [
    "# visualization tools\n",
    "%matplotlib inline\n",
    "import matplotlib.pyplot as plt\n",
    "# Looking at the first Image in dataset\n",
    "plt.imshow(x[0])\n",
    "plt.colorbar()\n"
   ]
  },
  {
   "cell_type": "markdown",
   "metadata": {},
   "source": [
    "### Mapping labels (class) position with values of class"
   ]
  },
  {
   "cell_type": "code",
   "execution_count": 5,
   "metadata": {},
   "outputs": [],
   "source": [
    "def label_mapping(dataset_labels):\n",
    "    # since we have 10 labels 0~9\n",
    "    class_map = [[] for i in range(10)]\n",
    "    \n",
    "    # For i=0 it will be [[], [], [], [], [], [], [], [0], [], []]\n",
    "    # Since dataset_labels[0] = 7 \n",
    "    for i in range(len(dataset_labels)):\n",
    "        class_map[dataset_labels[i]].append(i)\n",
    "    \n",
    "    return class_map"
   ]
  },
  {
   "cell_type": "code",
   "execution_count": 6,
   "metadata": {},
   "outputs": [],
   "source": [
    "def generate_image(dataset_images, label_mapping, input_sequence, spacing, image_height=28):\n",
    "    # generate a ndarray for space (image_height=28, space)  \n",
    "    spacing = np.ones(image_height * spacing, dtype='float32').reshape(image_height, spacing)\n",
    "\n",
    "    # find the index of the given class - label\n",
    "    # We are choosing samples index randomly \n",
    "    label_index = choice(label_mapping[input_sequence[0]])\n",
    "    \n",
    "    # get the image mapping from dataset [28x28] matrix \n",
    "    image = dataset_images[label_index]\n",
    "    \n",
    "    # stacking one after another [28x28] + [28x5] = [28x33]\n",
    "    whole_image = np.hstack((image, spacing))\n",
    "    \n",
    "    \n",
    "    # Making an array like this: [28x33] + [28x33] + [28x33] + [28x28]\n",
    "    sequence_length = len(input_sequence)\n",
    "    for i in range(1, sequence_length):\n",
    "        label_index = choice(label_mapping[input_sequence[i]])\n",
    "        if i < sequence_length-1:\n",
    "            dataset_image = dataset_images[label_index]\n",
    "            temp_image = np.hstack((dataset_image, spacing))\n",
    "            whole_image = np.hstack((whole_image, temp_image))\n",
    "        else:\n",
    "            dataset_image = dataset_images[label_index]\n",
    "            whole_image = np.hstack((whole_image, dataset_image))\n",
    "    \n",
    "    return whole_image"
   ]
  },
  {
   "cell_type": "code",
   "execution_count": 66,
   "metadata": {},
   "outputs": [],
   "source": [
    "# Define the parameters for the function\n",
    "label_map = label_mapping(y) \n",
    "spacing = 10\n",
    "dataset_images = x\n",
    "image_height = 28"
   ]
  },
  {
   "cell_type": "code",
   "execution_count": 67,
   "metadata": {},
   "outputs": [],
   "source": [
    "# generate a ndarray (image_height=28, space) to allocate pixel \n",
    "spacing = np.ones(image_height * spacing, dtype='float32').reshape(image_height, spacing)\n",
    "\n",
    "# find the index of the given class - label\n",
    "# We are choosing samples index randomly \n",
    "label_index = choice(label_map[input_sequence[0]])\n",
    "\n",
    "# get the image mapping [28x28] matrix \n",
    "image = dataset_images[label_index]\n",
    "\n",
    "# stacking one after another [28x28] + [28x space 5] = [28x33]\n",
    "whole_image = np.hstack((image, spacing))"
   ]
  },
  {
   "cell_type": "code",
   "execution_count": 69,
   "metadata": {},
   "outputs": [
    {
     "data": {
      "text/plain": [
       "(28, 38)"
      ]
     },
     "execution_count": 69,
     "metadata": {},
     "output_type": "execute_result"
    }
   ],
   "source": [
    "whole_image.shape"
   ]
  },
  {
   "cell_type": "code",
   "execution_count": 9,
   "metadata": {},
   "outputs": [],
   "source": [
    "input_sequence = [3, 8, 9, 1, 5]\n",
    "whole_image_array = generate_image(x, label_mapping(y), input_sequence, 10)"
   ]
  },
  {
   "cell_type": "code",
   "execution_count": 10,
   "metadata": {},
   "outputs": [
    {
     "data": {
      "text/plain": [
       "array([[0., 0., 0., ..., 0., 0., 0.],\n",
       "       [0., 0., 0., ..., 0., 0., 0.],\n",
       "       [0., 0., 0., ..., 0., 0., 0.],\n",
       "       ...,\n",
       "       [0., 0., 0., ..., 0., 0., 0.],\n",
       "       [0., 0., 0., ..., 0., 0., 0.],\n",
       "       [0., 0., 0., ..., 0., 0., 0.]], dtype=float32)"
      ]
     },
     "execution_count": 10,
     "metadata": {},
     "output_type": "execute_result"
    }
   ],
   "source": [
    "whole_image_array"
   ]
  },
  {
   "cell_type": "code",
   "execution_count": 11,
   "metadata": {},
   "outputs": [
    {
     "data": {
      "text/plain": [
       "<matplotlib.image.AxesImage at 0x7f4c2b0977b8>"
      ]
     },
     "execution_count": 11,
     "metadata": {},
     "output_type": "execute_result"
    },
    {
     "data": {
      "image/png": "[encoded data removed]",
      "text/plain": [
       "<Figure size 432x288 with 1 Axes>"
      ]
     },
     "metadata": {
      "needs_background": "light"
     },
     "output_type": "display_data"
    }
   ],
   "source": [
    "plt.imshow(whole_image_array)"
   ]
  },
  {
   "cell_type": "code",
   "execution_count": 47,
   "metadata": {},
   "outputs": [],
   "source": [
    "def save_image(whole_image_array, input_sequence):\n",
    "    img_name = \"\".join(list(map(str, input_sequence)))\n",
    "    image = Image.fromarray(whole_image_array)\n",
    "    if image.mode != 'RGB':\n",
    "        image = image.convert('RGB')\n",
    "    image.save(img_name + \".jpg\")\n",
    "    print(img_name + \".jpg\" + ' saved')"
   ]
  },
  {
   "cell_type": "code",
   "execution_count": 21,
   "metadata": {},
   "outputs": [],
   "source": [
    "num_samples = 10\n",
    "seq_len = 5"
   ]
  },
  {
   "cell_type": "code",
   "execution_count": 31,
   "metadata": {},
   "outputs": [],
   "source": [
    "def generate_random_sequence(num_samples, seq_len, dataset_images, label_mapping, spacing):\n",
    "    inputs = []\n",
    "    labels = []\n",
    "    for i in range(num_samples):\n",
    "        seq_values = np.random.randint(0, 10, seq_len)\n",
    "        seq = generate_image(dataset_images, label_mapping, seq_values, spacing)\n",
    "        inputs.append(seq)\n",
    "        labels.append(seq_values)\n",
    "    return np.array(inputs), np.array(labels)"
   ]
  },
  {
   "cell_type": "code",
   "execution_count": 34,
   "metadata": {},
   "outputs": [],
   "source": [
    "num_samples = 7\n",
    "seq_len = 5\n",
    "dataset_images = x\n",
    "label_idex_mapping = label_mapping(y)\n",
    "spacing = 10"
   ]
  },
  {
   "cell_type": "code",
   "execution_count": 35,
   "metadata": {},
   "outputs": [],
   "source": [
    "inputs, labels = generate_random_sequence(num_samples, seq_len, dataset_images, label_idex_mapping, spacing)"
   ]
  },
  {
   "cell_type": "code",
   "execution_count": 48,
   "metadata": {},
   "outputs": [
    {
     "data": {
      "text/plain": [
       "array([[7, 2, 0, 5, 8],\n",
       "       [3, 6, 3, 3, 7],\n",
       "       [4, 8, 1, 0, 4],\n",
       "       [8, 2, 6, 1, 9],\n",
       "       [4, 3, 2, 6, 7],\n",
       "       [5, 5, 2, 2, 0],\n",
       "       [9, 2, 8, 5, 7]])"
      ]
     },
     "execution_count": 48,
     "metadata": {},
     "output_type": "execute_result"
    }
   ],
   "source": [
    "labels"
   ]
  },
  {
   "cell_type": "code",
   "execution_count": 37,
   "metadata": {},
   "outputs": [
    {
     "data": {
      "text/plain": [
       "<matplotlib.image.AxesImage at 0x7f4c29bceb00>"
      ]
     },
     "execution_count": 37,
     "metadata": {},
     "output_type": "execute_result"
    },
    {
     "data": {
      "image/png": "[encoded data removed]",
      "text/plain": [
       "<Figure size 432x288 with 1 Axes>"
      ]
     },
     "metadata": {
      "needs_background": "light"
     },
     "output_type": "display_data"
    }
   ],
   "source": [
    "plt.imshow(inputs[0])"
   ]
  },
  {
   "cell_type": "code",
   "execution_count": 38,
   "metadata": {},
   "outputs": [
    {
     "data": {
      "text/plain": [
       "<matplotlib.image.AxesImage at 0x7f4c29d1c9e8>"
      ]
     },
     "execution_count": 38,
     "metadata": {},
     "output_type": "execute_result"
    },
    {
     "data": {
      "image/png": "[encoded data removed]",
      "text/plain": [
       "<Figure size 432x288 with 1 Axes>"
      ]
     },
     "metadata": {
      "needs_background": "light"
     },
     "output_type": "display_data"
    }
   ],
   "source": [
    "plt.imshow(inputs[1])"
   ]
  },
  {
   "cell_type": "code",
   "execution_count": 49,
   "metadata": {},
   "outputs": [
    {
     "name": "stdout",
     "output_type": "stream",
     "text": [
      "72058.jpg saved\n",
      "36337.jpg saved\n",
      "48104.jpg saved\n",
      "82619.jpg saved\n",
      "43267.jpg saved\n",
      "55220.jpg saved\n",
      "92857.jpg saved\n"
     ]
    }
   ],
   "source": [
    "for i in range(num_samples):\n",
    "    save_image(inputs[i], labels[i])"
   ]
  },
  {
   "cell_type": "code",
   "execution_count": 67,
   "metadata": {},
   "outputs": [],
   "source": [
    "# np.save('./pixel_mapping', inputs)\n",
    "# np.save('./label_mapping', labels)\n",
    "np.savez('generated_dataset', inputs, labels)"
   ]
  },
  {
   "cell_type": "code",
   "execution_count": null,
   "metadata": {},
   "outputs": [],
   "source": [
    "np.load(os.path.join(os.getcwd(),'pixel_mapping.npy'))"
   ]
  },
  {
   "cell_type": "code",
   "execution_count": 68,
   "metadata": {},
   "outputs": [],
   "source": [
    "def load_generated_data(path, dataset_name):\n",
    "    dataset = os.path.join(path, dataset_name)\n",
    "#     return np.load(px_file), np.load(lbl_file)\n",
    "    return np.load(dataset)"
   ]
  },
  {
   "cell_type": "code",
   "execution_count": 69,
   "metadata": {},
   "outputs": [],
   "source": [
    "generated_data = load_generated_data(os.getcwd(), 'generated_dataset.npz')"
   ]
  },
  {
   "cell_type": "code",
   "execution_count": 76,
   "metadata": {},
   "outputs": [
    {
     "data": {
      "text/plain": [
       "array([[7, 2, 0, 5, 8],\n",
       "       [3, 6, 3, 3, 7],\n",
       "       [4, 8, 1, 0, 4],\n",
       "       [8, 2, 6, 1, 9],\n",
       "       [4, 3, 2, 6, 7],\n",
       "       [5, 5, 2, 2, 0],\n",
       "       [9, 2, 8, 5, 7]])"
      ]
     },
     "execution_count": 76,
     "metadata": {},
     "output_type": "execute_result"
    }
   ],
   "source": [
    "generated_data['arr_1']"
   ]
  },
  {
   "cell_type": "code",
   "execution_count": 75,
   "metadata": {},
   "outputs": [
    {
     "data": {
      "text/plain": [
       "<matplotlib.image.AxesImage at 0x7f4c290ae6a0>"
      ]
     },
     "execution_count": 75,
     "metadata": {},
     "output_type": "execute_result"
    },
    {
     "data": {
      "image/png": "[encoded data removed]",
      "text/plain": [
       "<Figure size 432x288 with 1 Axes>"
      ]
     },
     "metadata": {
      "needs_background": "light"
     },
     "output_type": "display_data"
    }
   ],
   "source": [
    "plt.imshow(generated_data['arr_0'][0])"
   ]
  }
 ],
 "metadata": {
  "kernelspec": {
   "display_name": "Python 3",
   "language": "python",
   "name": "python3"
  },
  "language_info": {
   "codemirror_mode": {
    "name": "ipython",
    "version": 3
   },
   "file_extension": ".py",
   "mimetype": "text/x-python",
   "name": "python",
   "nbconvert_exporter": "python",
   "pygments_lexer": "ipython3",
   "version": "3.6.9"
  }
 },
 "nbformat": 4,
 "nbformat_minor": 4
}
