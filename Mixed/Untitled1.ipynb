{
 "cells": [
  {
   "cell_type": "code",
   "execution_count": 1,
   "metadata": {},
   "outputs": [],
   "source": [
    "import _pickle as pickle"
   ]
  },
  {
   "cell_type": "code",
   "execution_count": 2,
   "metadata": {},
   "outputs": [],
   "source": [
    "def load_from_file(file_path):\n",
    "    with open(file_path, \"rb\") as input_file:\n",
    "        data = pickle.load(input_file)\n",
    "    return data"
   ]
  },
  {
   "cell_type": "code",
   "execution_count": 3,
   "metadata": {},
   "outputs": [],
   "source": [
    "word_dic = load_from_file('/home/ifte/resource/model/retrieve_word_dic.pk')"
   ]
  },
  {
   "cell_type": "code",
   "execution_count": 4,
   "metadata": {},
   "outputs": [
    {
     "data": {
      "text/plain": [
       "['の', '対応', '端末', '対', '末', '5', '', '端']"
      ]
     },
     "execution_count": 4,
     "metadata": {},
     "output_type": "execute_result"
    }
   ],
   "source": [
    "[x for x in word_dic if x in '5G対応の端末']"
   ]
  },
  {
   "cell_type": "code",
   "execution_count": 1,
   "metadata": {},
   "outputs": [],
   "source": [
    "def make_list_to_dict(data_list):\n",
    "    dataset_dict = {}\n",
    "    dataset_dict.update(enumerate(data_list))\n",
    "    return dataset_dict"
   ]
  },
  {
   "cell_type": "code",
   "execution_count": 2,
   "metadata": {},
   "outputs": [],
   "source": [
    "def save_dict_to_csv(dic, directory, file_name):\n",
    "    df = pd.DataFrame(dic.values(), index=dic.keys(), columns=['text'])\n",
    "    df.to_csv(path.join(directory, file_name))"
   ]
  },
  {
   "cell_type": "code",
   "execution_count": 3,
   "metadata": {},
   "outputs": [],
   "source": [
    "def load_text_file_as_list(f_name):\n",
    "    with open(f_name, 'r') as f:\n",
    "        content_list = f.readlines()\n",
    "    return content_list"
   ]
  },
  {
   "cell_type": "code",
   "execution_count": 8,
   "metadata": {},
   "outputs": [],
   "source": [
    "import pandas as pd\n",
    "from os import path"
   ]
  },
  {
   "cell_type": "code",
   "execution_count": 9,
   "metadata": {},
   "outputs": [],
   "source": [
    "save_dict_to_csv(make_list_to_dict(load_text_file_as_list('/home/ifte/resource/data/processed_texts.txt')),\n",
    "                 '/home/ifte/resource/data/', 'processed_texts.csv')"
   ]
  },
  {
   "cell_type": "code",
   "execution_count": 124,
   "metadata": {},
   "outputs": [],
   "source": [
    "df = pd.read_csv('/home/ifte/resource/data/merged_corpus.csv', index_col=[0])"
   ]
  },
  {
   "cell_type": "code",
   "execution_count": 38,
   "metadata": {},
   "outputs": [],
   "source": [
    "df = df.reset_index()"
   ]
  },
  {
   "cell_type": "code",
   "execution_count": 128,
   "metadata": {},
   "outputs": [],
   "source": [
    "t = '5G対応'"
   ]
  },
  {
   "cell_type": "code",
   "execution_count": 129,
   "metadata": {},
   "outputs": [],
   "source": [
    "collector = []\n",
    "flag = 0\n",
    "i = 0\n",
    "while i < len(t)-1:\n",
    "    if len(t) > 2:\n",
    "        if flag:\n",
    "            break\n",
    "        for index, col in df.iterrows():\n",
    "            pos = [m.start() for m in re.finditer(t[:len(t)-i], col['text'])]\n",
    "            if pos:\n",
    "                collector.append([index, pos])\n",
    "                flag = 1\n",
    "    i += 1"
   ]
  },
  {
   "cell_type": "code",
   "execution_count": null,
   "metadata": {},
   "outputs": [],
   "source": [
    "collector"
   ]
  },
  {
   "cell_type": "code",
   "execution_count": 136,
   "metadata": {},
   "outputs": [],
   "source": [
    "res = sorted(collector, key=lambda x: len(x[1]), reverse=True)[:2]"
   ]
  },
  {
   "cell_type": "code",
   "execution_count": 137,
   "metadata": {},
   "outputs": [
    {
     "data": {
      "text/plain": [
       "[[4661, [3, 70, 184, 278, 372, 576, 782, 842, 905, 1639, 1679, 2195, 3231]],\n",
       " [4555, [44, 1608, 1655, 1797, 1841, 2178, 2367, 2407, 2498, 2635]]]"
      ]
     },
     "execution_count": 137,
     "metadata": {},
     "output_type": "execute_result"
    }
   ],
   "source": [
    "result"
   ]
  },
  {
   "cell_type": "code",
   "execution_count": 138,
   "metadata": {},
   "outputs": [
    {
     "name": "stdout",
     "output_type": "stream",
     "text": [
      "3\n",
      "70\n",
      "184\n",
      "278\n",
      "372\n",
      "576\n",
      "782\n",
      "842\n",
      "905\n",
      "1639\n",
      "1679\n",
      "2195\n",
      "3231\n",
      "44\n",
      "1608\n",
      "1655\n",
      "1797\n",
      "1841\n",
      "2178\n",
      "2367\n",
      "2407\n",
      "2498\n",
      "2635\n"
     ]
    }
   ],
   "source": [
    "    page_relevance = []\n",
    "    for result in res:\n",
    "        for pos in result[1]:\n",
    "            print(pos)"
   ]
  },
  {
   "cell_type": "code",
   "execution_count": 96,
   "metadata": {},
   "outputs": [],
   "source": [
    "i = 0\n",
    "snippet = '.....'\n",
    "for pos in result[1]:\n",
    "    if i > 2:\n",
    "        break\n",
    "    snippet += df.loc[result[0]].text[pos-50:pos+50] + '.....'\n",
    "    i += 1"
   ]
  },
  {
   "cell_type": "code",
   "execution_count": 97,
   "metadata": {},
   "outputs": [
    {
     "data": {
      "text/plain": [
       "'.....は、5Gの商用サービス「SoftBank 5G」を、2020年3月27日に開始します 。今回発売する5G対応のスマホ4機種によって、5Gの特長である高速・大容量などの通信体験をお楽しみいただけます。 .....Bank 5G」の商用サービス開始については、 のプレスリリースをご覧ください。 なお、今回発売する5G対応のスマホ4機種は、3月27日に提供を開始する「トクするサポート＋（プラス）」の対象機種です。.....'"
      ]
     },
     "execution_count": 97,
     "metadata": {},
     "output_type": "execute_result"
    }
   ],
   "source": [
    "snippet"
   ]
  },
  {
   "cell_type": "code",
   "execution_count": 87,
   "metadata": {},
   "outputs": [
    {
     "data": {
      "text/plain": [
       "'は、5Gの商用サービス「SoftBank 5G」を、2020年3月27日に開始します 。今回発売する5G対応のスマホ4機種によって、5Gの特長である高速・大容量などの通信体験をお楽しみいただけます。  .... Bank 5G」の商用サービス開始については、 のプレスリリースをご覧ください。 なお、今回発売する5G対応のスマホ4機種は、3月27日に提供を開始する「トクするサポート＋（プラス）」の対象機種です。'"
      ]
     },
     "execution_count": 87,
     "metadata": {},
     "output_type": "execute_result"
    }
   ],
   "source": [
    "df.loc[841].text[481-50:481+50] + ' .... ' + df.loc[841].text[586-50:586+50]"
   ]
  },
  {
   "cell_type": "code",
   "execution_count": 26,
   "metadata": {},
   "outputs": [],
   "source": [
    "import re"
   ]
  },
  {
   "cell_type": "code",
   "execution_count": 48,
   "metadata": {},
   "outputs": [
    {
     "name": "stdout",
     "output_type": "stream",
     "text": [
      "[4081]\n",
      "[3768]\n",
      "[2708]\n",
      "[481, 586]\n",
      "[3236]\n",
      "[2326]\n",
      "[2708]\n",
      "[2708]\n",
      "[1869]\n",
      "[2938]\n",
      "[2708]\n",
      "[1109]\n",
      "[1054]\n",
      "[485]\n",
      "[1384]\n",
      "[1383]\n",
      "[1679]\n",
      "[105]\n",
      "[3342]\n",
      "[1869]\n"
     ]
    }
   ],
   "source": [
    "for index, col in df.iterrows():\n",
    "    matched = []\n",
    "    text = [m.start() for m in re.finditer('5G対応の', col['text'])]\n",
    "    if text:\n",
    "        print(text)"
   ]
  },
  {
   "cell_type": "code",
   "execution_count": 44,
   "metadata": {},
   "outputs": [
    {
     "data": {
      "text/plain": [
       "[]"
      ]
     },
     "execution_count": 44,
     "metadata": {},
     "output_type": "execute_result"
    }
   ],
   "source": [
    "    \"page_relevance\": [\n",
    "        {\n",
    "            \"doc_id\": 16792,\n",
    "            \"score\": 11.53667557858219,\n",
    "            \"keywords\": [\n",
    "                \"対応\",\n",
    "                \"端末\"\n",
    "            ],\n",
    "            \"snippet\": \"...業種 金融 規模 1,001〜5,000人 MRのタブレット端末をソフトバンクのSIMに対応した2 in 1端末「Let’s note XZ6」に変更。モバ… SmartVPN、USIM対応PC 製造...\"\n",
    "        }\n",
    "    ]"
   ]
  },
  {
   "cell_type": "code",
   "execution_count": null,
   "metadata": {},
   "outputs": [],
   "source": []
  }
 ],
 "metadata": {
  "kernelspec": {
   "display_name": "Python 3",
   "language": "python",
   "name": "python3"
  },
  "language_info": {
   "codemirror_mode": {
    "name": "ipython",
    "version": 3
   },
   "file_extension": ".py",
   "mimetype": "text/x-python",
   "name": "python",
   "nbconvert_exporter": "python",
   "pygments_lexer": "ipython3",
   "version": "3.6.9"
  }
 },
 "nbformat": 4,
 "nbformat_minor": 4
}
