{
 "cells": [
  {
   "cell_type": "code",
   "execution_count": 16,
   "metadata": {},
   "outputs": [],
   "source": [
    "from rapidfuzz import fuzz\n",
    "from rapidfuzz import process"
   ]
  },
  {
   "cell_type": "code",
   "execution_count": 30,
   "metadata": {},
   "outputs": [
    {
     "name": "stdout",
     "output_type": "stream",
     "text": [
      "51.61290322580645\n",
      "68.9655172413793\n",
      "77.77777777777777\n",
      "80.0\n"
     ]
    }
   ],
   "source": [
    "print(fuzz.ratio(\"morning hey!\", \"hello good morning!\"))\n",
    "print(fuzz.token_sort_ratio(\"morning hey!\", \"hello good morning!\"))\n",
    "print(fuzz.token_set_ratio(\"morning hey!\", \"hello good morning!\"))\n",
    "print(fuzz.partial_ratio(\"morning hey!\", \"hello good morning!\"))"
   ]
  },
  {
   "cell_type": "code",
   "execution_count": 44,
   "metadata": {},
   "outputs": [
    {
     "data": {
      "text/plain": [
       "[('good morning', 90.0),\n",
       " ('hello good morning', 90.0),\n",
       " ('morning hey!', 90.0),\n",
       " ('hello good morning!', 90.0)]"
      ]
     },
     "execution_count": 44,
     "metadata": {},
     "output_type": "execute_result"
    }
   ],
   "source": [
    "process.extract(\"morning\", [\"good morning\", \"hello good morning\", \"morning hey!\", \"hello good morning!\"])"
   ]
  },
  {
   "cell_type": "code",
   "execution_count": 53,
   "metadata": {},
   "outputs": [
    {
     "name": "stdout",
     "output_type": "stream",
     "text": [
      "next 5 characters are in common\n"
     ]
    }
   ],
   "source": [
    "from diff_match_patch import diff\n",
    "\n",
    "changes = diff(\"Hello world.\", \"Hello. good morning!\",\n",
    "        timelimit=0, checklines=False)\n",
    "\n",
    "for op, length in changes:\n",
    "#         if op == \"-\": print (\"next\", length, \"characters are deleted\")\n",
    "        if op == \"=\": print (\"next\", length, \"characters are in common\")\n",
    "#         if op == \"+\": print (\"next\", length, \"characters are inserted\")"
   ]
  },
  {
   "cell_type": "code",
   "execution_count": 11,
   "metadata": {},
   "outputs": [
    {
     "name": "stdout",
     "output_type": "stream",
     "text": [
      "[(-1, 'Helloworld.'), (1, 'Goodbyeworldc sdfsdfsd sedf sdf')]\n"
     ]
    }
   ],
   "source": [
    "import diff_match_patch as dmp_module\n",
    "\n",
    "dmp = dmp_module.diff_match_patch()\n",
    "diff = dmp.diff_main(\"Helloworld.\", \"Goodbyeworldc sdfsdfsd sedf sdf\")\n",
    "# Result: [(-1, \"Hell\"), (1, \"G\"), (0, \"o\"), (1, \"odbye\"), (0, \" World.\")]\n",
    "dmp.diff_cleanupSemantic(diff)\n",
    "# Result: [(-1, \"Hello\"), (1, \"Goodbye\"), (0, \" World.\")]\n",
    "print(diff)"
   ]
  },
  {
   "cell_type": "code",
   "execution_count": 12,
   "metadata": {},
   "outputs": [
    {
     "data": {
      "text/plain": [
       "[{'match': 'hI',\n",
       "  'norm': 'hI',\n",
       "  'case': 'mixed',\n",
       "  'exact': True,\n",
       "  'start': 0,\n",
       "  'end': 2}]"
      ]
     },
     "execution_count": 12,
     "metadata": {},
     "output_type": "execute_result"
    }
   ],
   "source": [
    "from textsearch import TextSearch\n",
    "\n",
    "ts = TextSearch(case=\"ignore\", returns=\"match\")\n",
    "ts.add(\"hi\")\n",
    "ts.findall(\"hello, hi\")\n",
    "# [\"hi\"]\n",
    "\n",
    "ts = TextSearch(case=\"ignore\", returns=\"norm\")\n",
    "ts.add(\"hi\", \"greeting\")\n",
    "ts.add(\"hello\", \"greeting\")\n",
    "ts.findall(\"hello, hi\")\n",
    "# [\"greeting\", \"greeting\"]\n",
    "\n",
    "ts = TextSearch(case=\"ignore\", returns=\"match\")\n",
    "ts.add([\"hi\", \"bye\"])\n",
    "ts.findall(\"hi! bye! HI\")\n",
    "# [\"hi\", \"bye\", \"hi\"]\n",
    "\n",
    "ts = TextSearch(case=\"insensitive\", returns=\"match\")\n",
    "ts.add([\"hi\", \"bye\"])\n",
    "ts.findall(\"hi! bye! HI\")\n",
    "# [\"hi\", \"bye\", \"HI\"]\n",
    "\n",
    "ts = TextSearch(\"sensitive\", \"object\")\n",
    "ts.add(\"HI\")\n",
    "ts.findall(\"hi\")\n",
    "# []\n",
    "ts.findall(\"HI\")\n",
    "# [TSResult(match='HI', norm='HI', start=0, end=2, case='upper', is_exact=True)]\n",
    "\n",
    "ts = TextSearch(\"sensitive\", dict)\n",
    "ts.add(\"hI\")\n",
    "ts.findall(\"hI\")\n",
    "# [{'case': 'mixed', 'end': 2, 'exact': True, 'match': 'hI', 'norm': 'hI', 'start': 0}]"
   ]
  }
 ],
 "metadata": {
  "kernelspec": {
   "display_name": "Python 3",
   "language": "python",
   "name": "python3"
  },
  "language_info": {
   "codemirror_mode": {
    "name": "ipython",
    "version": 3
   },
   "file_extension": ".py",
   "mimetype": "text/x-python",
   "name": "python",
   "nbconvert_exporter": "python",
   "pygments_lexer": "ipython3",
   "version": "3.6.9"
  }
 },
 "nbformat": 4,
 "nbformat_minor": 4
}
