{
 "cells": [
  {
   "cell_type": "code",
   "execution_count": 7,
   "metadata": {},
   "outputs": [
    {
     "data": {
      "text/plain": [
       "'ETC 車載 器 は 搭載 さ れ て い ます か ？ \\n'"
      ]
     },
     "execution_count": 7,
     "metadata": {},
     "output_type": "execute_result"
    }
   ],
   "source": [
    "import pandas as pd\n",
    "import MeCab\n",
    "wakati = MeCab.Tagger('-Owakati')\n",
    "wakati.parse(\"ETC車載器は搭載されていますか？\")"
   ]
  },
  {
   "cell_type": "code",
   "execution_count": 16,
   "metadata": {},
   "outputs": [
    {
     "data": {
      "text/plain": [
       "'d\\t名詞,固有名詞,組織,*,*,*,*\\nカー\\t名詞,一般,*,*,*,*,カー,カー,カー\\nシェア\\t名詞,一般,*,*,*,*,シェア,シェア,シェア\\nEOS\\n'"
      ]
     },
     "execution_count": 16,
     "metadata": {},
     "output_type": "execute_result"
    }
   ],
   "source": [
    "wakati = MeCab.Tagger()\n",
    "wakati.parse(\"dカーシェア\")"
   ]
  },
  {
   "cell_type": "code",
   "execution_count": 17,
   "metadata": {},
   "outputs": [
    {
     "data": {
      "text/plain": [
       "'d\\t名詞,固有名詞,組織,*,*,*,*\\nカーシェア\\t名詞,固有名詞,一般,*,*,*,カーシェア,カーシェア,カーシェア\\nEOS\\n'"
      ]
     },
     "execution_count": 17,
     "metadata": {},
     "output_type": "execute_result"
    }
   ],
   "source": [
    "wakati = MeCab.Tagger(\"-d /usr/lib/x86_64-linux-gnu/mecab/dic/mecab-ipadic-neologd\")\n",
    "wakati.parse(\"dカーシェア\")"
   ]
  },
  {
   "cell_type": "code",
   "execution_count": 39,
   "metadata": {},
   "outputs": [],
   "source": [
    "import ast\n",
    "def loading_processed_data():\n",
    "    file = open('/home/iftekhar/WebMaster/app/data/features_index.txt', \"r\")\n",
    "    contents = file.read()\n",
    "    corpus_dict = ast.literal_eval(contents)\n",
    "    file.close()\n",
    "    return corpus_dict\n"
   ]
  },
  {
   "cell_type": "code",
   "execution_count": 40,
   "metadata": {},
   "outputs": [],
   "source": [
    "dic = loading_processed_data()"
   ]
  },
  {
   "cell_type": "code",
   "execution_count": 49,
   "metadata": {},
   "outputs": [
    {
     "data": {
      "text/plain": [
       "True"
      ]
     },
     "execution_count": 49,
     "metadata": {},
     "output_type": "execute_result"
    }
   ],
   "source": [
    "'travel' in list(dic.values())"
   ]
  },
  {
   "cell_type": "code",
   "execution_count": 22,
   "metadata": {},
   "outputs": [],
   "source": [
    "query = '標準'\n",
    "q = ''"
   ]
  },
  {
   "cell_type": "code",
   "execution_count": 61,
   "metadata": {},
   "outputs": [],
   "source": [
    "word_dic = '/home/iftekhar/amiebot/Resources/876/model/retrieve_word_dic.pk'"
   ]
  },
  {
   "cell_type": "code",
   "execution_count": 78,
   "metadata": {},
   "outputs": [
    {
     "data": {
      "text/plain": [
       "['標準',\n",
       " 'r',\n",
       " '施工管理',\n",
       " '住友ゴム工業',\n",
       " '変色',\n",
       " '可塑剤',\n",
       " '対',\n",
       " '温度',\n",
       " '検討',\n",
       " 'ウレタン',\n",
       " '結露',\n",
       " '耐熱',\n",
       " '目次',\n",
       " '仕様',\n",
       " 'abc',\n",
       " '改正',\n",
       " '測定',\n",
       " '気',\n",
       " 'シート',\n",
       " '誘発',\n",
       " '工程',\n",
       " '表面',\n",
       " '移行',\n",
       " '目安',\n",
       " '水性',\n",
       " '打',\n",
       " '材料',\n",
       " '同士',\n",
       " '設定',\n",
       " '早見',\n",
       " '下地',\n",
       " '床',\n",
       " '不具合',\n",
       " '相性',\n",
       " '案',\n",
       " '工期',\n",
       " '書式',\n",
       " '紫外線',\n",
       " '工事',\n",
       " 'エポキシ樹脂',\n",
       " 'pd',\n",
       " '高分子',\n",
       " 'フロー',\n",
       " '湿度',\n",
       " '是正',\n",
       " '適正',\n",
       " '推奨',\n",
       " '事前',\n",
       " '作業',\n",
       " '処理',\n",
       " '雨',\n",
       " '施工',\n",
       " '目地',\n",
       " '確認',\n",
       " '樹脂',\n",
       " '管理',\n",
       " '耐',\n",
       " '硬質',\n",
       " 'コンクリート',\n",
       " '発生',\n",
       " '点検',\n",
       " 'ひび割れ',\n",
       " 'メーカー',\n",
       " 'チェックシート',\n",
       " 'リスクアセスメント',\n",
       " 'アイカ工業',\n",
       " '商会',\n",
       " '性',\n",
       " '養生',\n",
       " '付録',\n",
       " '温',\n",
       " '塗',\n",
       " '水分',\n",
       " '用水',\n",
       " '記録',\n",
       " '年月日',\n",
       " '制定',\n",
       " '強度',\n",
       " '合成',\n",
       " '接着',\n",
       " '完了検査',\n",
       " '編',\n",
       " '水',\n",
       " '記入',\n",
       " 'ap',\n",
       " '継',\n",
       " '表',\n",
       " '荷重',\n",
       " '物性',\n",
       " 'm・m',\n",
       " '扱い',\n",
       " '参考',\n",
       " '重量',\n",
       " '混合比',\n",
       " 'の',\n",
       " 'メタ',\n",
       " '外部',\n",
       " '要注意',\n",
       " '見本',\n",
       " '混合',\n",
       " 'アク',\n",
       " 'スパナ',\n",
       " '走行',\n",
       " '改善',\n",
       " '把握',\n",
       " '必要性',\n",
       " '溜塗',\n",
       " '現場',\n",
       " '油',\n",
       " 'アミノ',\n",
       " 'リスク',\n",
       " '記載',\n",
       " '劣化',\n",
       " '機能',\n",
       " '発がん性',\n",
       " '変更',\n",
       " '洗浄剤',\n",
       " '量',\n",
       " '転倒',\n",
       " '種',\n",
       " 'チェック',\n",
       " '種類',\n",
       " '影響',\n",
       " 'ケース',\n",
       " '技術',\n",
       " '質感',\n",
       " '強度不足',\n",
       " '数',\n",
       " '障害',\n",
       " '労働基準監督署',\n",
       " '可能',\n",
       " '余裕',\n",
       " '熱水',\n",
       " '凍結防止',\n",
       " '舳艫',\n",
       " 'ag',\n",
       " '検査',\n",
       " '負荷',\n",
       " 'オープン',\n",
       " '建築',\n",
       " '則',\n",
       " '作業標準',\n",
       " '防滑',\n",
       " '静電気',\n",
       " '含有',\n",
       " '特殊',\n",
       " 'chill',\n",
       " '仕上がり',\n",
       " '補修',\n",
       " '工法',\n",
       " '傾向',\n",
       " '業者',\n",
       " '衝撃',\n",
       " '健康診断',\n",
       " '作成',\n",
       " '頻度',\n",
       " '正確',\n",
       " '頁',\n",
       " '工場',\n",
       " '内容',\n",
       " 'ジフェニルメタン',\n",
       " '保管',\n",
       " '疑い',\n",
       " '黄',\n",
       " '承認',\n",
       " '耐候性',\n",
       " '食',\n",
       " '所属',\n",
       " '国土交通省',\n",
       " '詳細',\n",
       " '洗浄',\n",
       " 'ビニルエステル樹脂',\n",
       " '物質',\n",
       " '各種',\n",
       " '緊急',\n",
       " '殺菌剤',\n",
       " '条件',\n",
       " '優位',\n",
       " '帯電',\n",
       " '太陽光',\n",
       " '扉',\n",
       " '試験',\n",
       " '項目',\n",
       " '差',\n",
       " '使用',\n",
       " '塗膜',\n",
       " '氷点',\n",
       " '硬化',\n",
       " 'タイム',\n",
       " '半導体',\n",
       " '落下',\n",
       " '接地',\n",
       " '対応',\n",
       " '参照',\n",
       " '内部',\n",
       " '商品',\n",
       " '特に',\n",
       " '場所',\n",
       " '実施',\n",
       " '認',\n",
       " '滑り',\n",
       " '程度',\n",
       " '年間',\n",
       " '有機酸',\n",
       " '要求',\n",
       " '期間',\n",
       " '適切',\n",
       " '比較',\n",
       " 'トップコート',\n",
       " '確',\n",
       " '十分',\n",
       " 'アルカリ',\n",
       " '蛍光灯',\n",
       " 'moca',\n",
       " 'サンプル',\n",
       " '有',\n",
       " '対象',\n",
       " '光沢',\n",
       " '導',\n",
       " '目的',\n",
       " '方法',\n",
       " '該当',\n",
       " '埋設',\n",
       " 'モカ',\n",
       " '一',\n",
       " '会',\n",
       " '事項',\n",
       " '材質',\n",
       " '冷凍',\n",
       " '反応',\n",
       " '商',\n",
       " '要領',\n",
       " '出端',\n",
       " '塗布',\n",
       " 'roji',\n",
       " '有無',\n",
       " 'breed',\n",
       " '接触',\n",
       " 'リレー',\n",
       " '監理',\n",
       " '範囲',\n",
       " '濃度',\n",
       " '特化',\n",
       " '時期',\n",
       " '個別',\n",
       " '適用範囲',\n",
       " 'レンチ',\n",
       " '物',\n",
       " '理解',\n",
       " '開催',\n",
       " 'フォークリフト',\n",
       " '積み下ろし',\n",
       " '光源',\n",
       " '部屋',\n",
       " '殺菌灯',\n",
       " '工具',\n",
       " '生産',\n",
       " '清水建設',\n",
       " '当該',\n",
       " '特性',\n",
       " '整理',\n",
       " '判断',\n",
       " '頻繁',\n",
       " '変',\n",
       " '是正勧告',\n",
       " '評価',\n",
       " '材',\n",
       " '改修',\n",
       " '指示',\n",
       " '施工図',\n",
       " '提案',\n",
       " '受診',\n",
       " '防止',\n",
       " '物件',\n",
       " '提出',\n",
       " '酸',\n",
       " 'le',\n",
       " '設計図書',\n",
       " '薬品',\n",
       " 'エリア',\n",
       " '選定',\n",
       " '用途',\n",
       " '必要',\n",
       " '割れ',\n",
       " '漂白剤',\n",
       " '電',\n",
       " '車両',\n",
       " '精密機器',\n",
       " '仕様書',\n",
       " 'できるだけ',\n",
       " '解説',\n",
       " '特定化学物質障害予防規則',\n",
       " '食品',\n",
       " 'ヒーター',\n",
       " '成分',\n",
       " '剥離',\n",
       " '可能性',\n",
       " '災害',\n",
       " '美観',\n",
       " '防食',\n",
       " '注意',\n",
       " '特徴',\n",
       " '有機溶剤',\n",
       " '特記',\n",
       " '厨房',\n",
       " '書',\n",
       " '厚',\n",
       " '流',\n",
       " '型',\n",
       " '塗料',\n",
       " '年版',\n",
       " '品質',\n",
       " '章',\n",
       " '系',\n",
       " '官庁',\n",
       " '弾性',\n",
       " '検',\n",
       " '建築工事',\n",
       " '膜',\n",
       " 'a',\n",
       " '平滑',\n",
       " '合成樹脂',\n",
       " '適用',\n",
       " '作',\n",
       " '薄膜',\n",
       " '監修',\n",
       " '平成',\n",
       " '仕上げ',\n",
       " '様',\n",
       " '節',\n",
       " '公共',\n",
       " '営繕',\n",
       " '国土交通省大臣官房',\n",
       " '成時',\n",
       " '内装',\n",
       " '抜粋']"
      ]
     },
     "execution_count": 78,
     "metadata": {},
     "output_type": "execute_result"
    }
   ],
   "source": [
    "list(w_dict.keys())"
   ]
  },
  {
   "cell_type": "code",
   "execution_count": 62,
   "metadata": {},
   "outputs": [],
   "source": [
    "import pickle"
   ]
  },
  {
   "cell_type": "code",
   "execution_count": 63,
   "metadata": {},
   "outputs": [],
   "source": [
    "def load_from_file(file_path):\n",
    "    with open(file_path, \"rb\") as input_file:\n",
    "        data = pickle.load(input_file)\n",
    "    return data"
   ]
  },
  {
   "cell_type": "code",
   "execution_count": 64,
   "metadata": {},
   "outputs": [],
   "source": [
    "w_dict = load_from_file(word_dic)"
   ]
  },
  {
   "cell_type": "code",
   "execution_count": 74,
   "metadata": {},
   "outputs": [
    {
     "data": {
      "text/plain": [
       "[[0, [5]], [1, [267, 2301]], [2, [102, 252]]]"
      ]
     },
     "execution_count": 74,
     "metadata": {},
     "output_type": "execute_result"
    }
   ],
   "source": [
    "x = w_dict[query]\n",
    "x"
   ]
  },
  {
   "cell_type": "code",
   "execution_count": 75,
   "metadata": {},
   "outputs": [
    {
     "data": {
      "text/plain": [
       "[[1, [8, 302, 1328]]]"
      ]
     },
     "execution_count": 75,
     "metadata": {},
     "output_type": "execute_result"
    }
   ],
   "source": [
    "y = w_dict['会']\n",
    "y"
   ]
  },
  {
   "cell_type": "code",
   "execution_count": 76,
   "metadata": {},
   "outputs": [
    {
     "data": {
      "text/plain": [
       "[[0, [5]], [1, [267, 2301]], [2, [102, 252]], [1, [8, 302, 1328]]]"
      ]
     },
     "execution_count": 76,
     "metadata": {},
     "output_type": "execute_result"
    }
   ],
   "source": [
    "x + y + []"
   ]
  },
  {
   "cell_type": "code",
   "execution_count": 77,
   "metadata": {},
   "outputs": [
    {
     "data": {
      "text/plain": [
       "[[0, [5]], [1, [267, 2301]], [2, [102, 252]], [1, [8, 302, 1328]]]"
      ]
     },
     "execution_count": 77,
     "metadata": {},
     "output_type": "execute_result"
    }
   ],
   "source": [
    "x + y"
   ]
  },
  {
   "cell_type": "code",
   "execution_count": 24,
   "metadata": {},
   "outputs": [],
   "source": [
    "toppers = sorted(w_dict[query], key=lambda x: len(x[1]), reverse=True)[:10]"
   ]
  },
  {
   "cell_type": "code",
   "execution_count": 39,
   "metadata": {},
   "outputs": [
    {
     "data": {
      "text/plain": [
       "[[1, [267, 2301]], [2, [102, 252]], [0, [5]]]"
      ]
     },
     "execution_count": 39,
     "metadata": {},
     "output_type": "execute_result"
    }
   ],
   "source": [
    "toppers"
   ]
  },
  {
   "cell_type": "code",
   "execution_count": 56,
   "metadata": {},
   "outputs": [
    {
     "name": "stdout",
     "output_type": "stream",
     "text": [
      "yes\n"
     ]
    }
   ],
   "source": [
    "if query in w_dict.keys():\n",
    "    print('yes')"
   ]
  },
  {
   "cell_type": "code",
   "execution_count": 60,
   "metadata": {},
   "outputs": [
    {
     "ename": "NameError",
     "evalue": "name 'self' is not defined",
     "output_type": "error",
     "traceback": [
      "\u001b[0;31m---------------------------------------------------------------------------\u001b[0m",
      "\u001b[0;31mNameError\u001b[0m                                 Traceback (most recent call last)",
      "\u001b[0;32m<ipython-input-60-e99d9e612db3>\u001b[0m in \u001b[0;36m<module>\u001b[0;34m\u001b[0m\n\u001b[1;32m      1\u001b[0m \u001b[0mx\u001b[0m\u001b[0;34m=\u001b[0m \u001b[0;34m[\u001b[0m\u001b[0;34m]\u001b[0m\u001b[0;34m\u001b[0m\u001b[0;34m\u001b[0m\u001b[0m\n\u001b[1;32m      2\u001b[0m \u001b[0mitems\u001b[0m \u001b[0;34m=\u001b[0m \u001b[0mquery\u001b[0m\u001b[0;34m\u001b[0m\u001b[0;34m\u001b[0m\u001b[0m\n\u001b[0;32m----> 3\u001b[0;31m \u001b[0mx\u001b[0m\u001b[0;34m.\u001b[0m\u001b[0mappend\u001b[0m\u001b[0;34m(\u001b[0m\u001b[0;34m[\u001b[0m\u001b[0mitems\u001b[0m \u001b[0;32mfor\u001b[0m \u001b[0mitems\u001b[0m \u001b[0;32min\u001b[0m \u001b[0mquery\u001b[0m\u001b[0;34m.\u001b[0m\u001b[0msplit\u001b[0m\u001b[0;34m(\u001b[0m\u001b[0;34m)\u001b[0m \u001b[0;32mif\u001b[0m \u001b[0mitems\u001b[0m \u001b[0;32min\u001b[0m \u001b[0mself\u001b[0m\u001b[0;34m.\u001b[0m\u001b[0mword_dic\u001b[0m\u001b[0;34m.\u001b[0m\u001b[0mkeys\u001b[0m\u001b[0;34m(\u001b[0m\u001b[0;34m)\u001b[0m\u001b[0;34m]\u001b[0m\u001b[0;34m)\u001b[0m\u001b[0;34m\u001b[0m\u001b[0;34m\u001b[0m\u001b[0m\n\u001b[0m",
      "\u001b[0;32m<ipython-input-60-e99d9e612db3>\u001b[0m in \u001b[0;36m<listcomp>\u001b[0;34m(.0)\u001b[0m\n\u001b[1;32m      1\u001b[0m \u001b[0mx\u001b[0m\u001b[0;34m=\u001b[0m \u001b[0;34m[\u001b[0m\u001b[0;34m]\u001b[0m\u001b[0;34m\u001b[0m\u001b[0;34m\u001b[0m\u001b[0m\n\u001b[1;32m      2\u001b[0m \u001b[0mitems\u001b[0m \u001b[0;34m=\u001b[0m \u001b[0mquery\u001b[0m\u001b[0;34m\u001b[0m\u001b[0;34m\u001b[0m\u001b[0m\n\u001b[0;32m----> 3\u001b[0;31m \u001b[0mx\u001b[0m\u001b[0;34m.\u001b[0m\u001b[0mappend\u001b[0m\u001b[0;34m(\u001b[0m\u001b[0;34m[\u001b[0m\u001b[0mitems\u001b[0m \u001b[0;32mfor\u001b[0m \u001b[0mitems\u001b[0m \u001b[0;32min\u001b[0m \u001b[0mquery\u001b[0m\u001b[0;34m.\u001b[0m\u001b[0msplit\u001b[0m\u001b[0;34m(\u001b[0m\u001b[0;34m)\u001b[0m \u001b[0;32mif\u001b[0m \u001b[0mitems\u001b[0m \u001b[0;32min\u001b[0m \u001b[0mself\u001b[0m\u001b[0;34m.\u001b[0m\u001b[0mword_dic\u001b[0m\u001b[0;34m.\u001b[0m\u001b[0mkeys\u001b[0m\u001b[0;34m(\u001b[0m\u001b[0;34m)\u001b[0m\u001b[0;34m]\u001b[0m\u001b[0;34m)\u001b[0m\u001b[0;34m\u001b[0m\u001b[0;34m\u001b[0m\u001b[0m\n\u001b[0m",
      "\u001b[0;31mNameError\u001b[0m: name 'self' is not defined"
     ]
    }
   ],
   "source": [
    "x= []\n",
    "items = query\n",
    "x.append([items for items in query.split() if items in self.word_dic.keys()])"
   ]
  },
  {
   "cell_type": "code",
   "execution_count": 58,
   "metadata": {},
   "outputs": [
    {
     "data": {
      "text/plain": [
       "[<generator object <genexpr> at 0x7f784b2e0e08>]"
      ]
     },
     "execution_count": 58,
     "metadata": {},
     "output_type": "execute_result"
    }
   ],
   "source": [
    "x"
   ]
  },
  {
   "cell_type": "code",
   "execution_count": 40,
   "metadata": {},
   "outputs": [],
   "source": [
    "collect = []\n",
    "for page, items in toppers:\n",
    "    collect.append(page)"
   ]
  },
  {
   "cell_type": "code",
   "execution_count": 41,
   "metadata": {},
   "outputs": [
    {
     "data": {
      "text/plain": [
       "[1, 2, 0]"
      ]
     },
     "execution_count": 41,
     "metadata": {},
     "output_type": "execute_result"
    }
   ],
   "source": [
    "collect"
   ]
  },
  {
   "cell_type": "code",
   "execution_count": 27,
   "metadata": {},
   "outputs": [],
   "source": [
    "import pandas as pd\n",
    "df = pd.read_csv('/home/iftekhar/amiebot/Resources/876/data/merged_corpus.csv')"
   ]
  },
  {
   "cell_type": "code",
   "execution_count": null,
   "metadata": {},
   "outputs": [],
   "source": [
    "df.loc[(df['page'] == 1)].text.values"
   ]
  },
  {
   "cell_type": "code",
   "execution_count": null,
   "metadata": {},
   "outputs": [],
   "source": [
    "# MyString(' '.join(df.loc[(df['page'] == 1)].text.values)).find_all(query)"
   ]
  },
  {
   "cell_type": "code",
   "execution_count": 33,
   "metadata": {},
   "outputs": [
    {
     "data": {
      "text/plain": [
       "[267, 2301]"
      ]
     },
     "execution_count": 33,
     "metadata": {},
     "output_type": "execute_result"
    }
   ],
   "source": [
    "# MyString(df.loc[1].text).find_all(query)"
   ]
  },
  {
   "cell_type": "code",
   "execution_count": 43,
   "metadata": {},
   "outputs": [],
   "source": [
    "df = df.loc[df['page'].isin(collect)]"
   ]
  },
  {
   "cell_type": "code",
   "execution_count": 45,
   "metadata": {},
   "outputs": [
    {
     "data": {
      "text/html": [
       "<div>\n",
       "<style scoped>\n",
       "    .dataframe tbody tr th:only-of-type {\n",
       "        vertical-align: middle;\n",
       "    }\n",
       "\n",
       "    .dataframe tbody tr th {\n",
       "        vertical-align: top;\n",
       "    }\n",
       "\n",
       "    .dataframe thead th {\n",
       "        text-align: right;\n",
       "    }\n",
       "</style>\n",
       "<table border=\"1\" class=\"dataframe\">\n",
       "  <thead>\n",
       "    <tr style=\"text-align: right;\">\n",
       "      <th></th>\n",
       "      <th>page</th>\n",
       "      <th>title</th>\n",
       "      <th>text</th>\n",
       "    </tr>\n",
       "  </thead>\n",
       "  <tbody>\n",
       "    <tr>\n",
       "      <th>0</th>\n",
       "      <td>0</td>\n",
       "      <td>0254001.pdf</td>\n",
       "      <td>施工管理標準   AP  合成高分子塗床工事編    年 月 日  第２回改正R   制 ...</td>\n",
       "    </tr>\n",
       "    <tr>\n",
       "      <th>1</th>\n",
       "      <td>1</td>\n",
       "      <td>0254001.pdf</td>\n",
       "      <td>例 ㈱ＡＢＣ商会の場合  アイカ工業㈱及び住友ゴム工業㈱仕様の場合は各メーカーへ確認する ...</td>\n",
       "    </tr>\n",
       "    <tr>\n",
       "      <th>2</th>\n",
       "      <td>2</td>\n",
       "      <td>0254001.pdf</td>\n",
       "      <td>業者の 検査  清水 建設 検査 ○  記録方法  保管  施工管理の内容  同 解説  ...</td>\n",
       "    </tr>\n",
       "  </tbody>\n",
       "</table>\n",
       "</div>"
      ],
      "text/plain": [
       "   page        title                                               text\n",
       "0     0  0254001.pdf   施工管理標準   AP  合成高分子塗床工事編    年 月 日  第２回改正R   制 ...\n",
       "1     1  0254001.pdf   例 ㈱ＡＢＣ商会の場合  アイカ工業㈱及び住友ゴム工業㈱仕様の場合は各メーカーへ確認する ...\n",
       "2     2  0254001.pdf   業者の 検査  清水 建設 検査 ○  記録方法  保管  施工管理の内容  同 解説  ..."
      ]
     },
     "execution_count": 45,
     "metadata": {},
     "output_type": "execute_result"
    }
   ],
   "source": [
    "df.head()"
   ]
  },
  {
   "cell_type": "code",
   "execution_count": 80,
   "metadata": {},
   "outputs": [
    {
     "data": {
      "text/plain": [
       "[1, 3]"
      ]
     },
     "execution_count": 80,
     "metadata": {},
     "output_type": "execute_result"
    }
   ],
   "source": [
    "x = [1, 2 ,3]\n",
    "y = [1, 4 , 5, 3]\n",
    "[i for i in x if i in y]\n"
   ]
  },
  {
   "cell_type": "code",
   "execution_count": 48,
   "metadata": {},
   "outputs": [
    {
     "data": {
      "text/plain": [
       "[[1, [267, 2301]], [2, [102, 252]], [0, [5]]]"
      ]
     },
     "execution_count": 48,
     "metadata": {},
     "output_type": "execute_result"
    }
   ],
   "source": [
    "toppers"
   ]
  },
  {
   "cell_type": "code",
   "execution_count": 55,
   "metadata": {},
   "outputs": [
    {
     "name": "stdout",
     "output_type": "stream",
     "text": [
      "267 領書 作業標準 を提\n",
      "2301  交通省の標準仕様書\n",
      "102 共建築工事標準仕様書\n",
      "252 共建築工事標準仕様書\n",
      "5  施工管理標準   \n"
     ]
    }
   ],
   "source": [
    "for page, items in toppers:\n",
    "    for row, col in df.iterrows():\n",
    "        if page == col['page']:\n",
    "            for ids in items:\n",
    "                print(ids, col['text'][ids-5:ids+5])\n",
    "#             print(page, items)\n",
    "#     break\n",
    "    \n",
    "        "
   ]
  },
  {
   "cell_type": "code",
   "execution_count": 54,
   "metadata": {},
   "outputs": [
    {
     "data": {
      "text/plain": [
       "'標準'"
      ]
     },
     "execution_count": 54,
     "metadata": {},
     "output_type": "execute_result"
    }
   ],
   "source": [
    "query"
   ]
  },
  {
   "cell_type": "code",
   "execution_count": 31,
   "metadata": {},
   "outputs": [],
   "source": [
    "import re\n",
    "\n",
    "class MyString(str):\n",
    "    def find_all(self, pattern):\n",
    "        return [m.start() for m in re.finditer(re.escape(pattern), self, re.IGNORECASE)]"
   ]
  }
 ],
 "metadata": {
  "kernelspec": {
   "display_name": "Python 3",
   "language": "python",
   "name": "python3"
  },
  "language_info": {
   "codemirror_mode": {
    "name": "ipython",
    "version": 3
   },
   "file_extension": ".py",
   "mimetype": "text/x-python",
   "name": "python",
   "nbconvert_exporter": "python",
   "pygments_lexer": "ipython3",
   "version": "3.6.9"
  }
 },
 "nbformat": 4,
 "nbformat_minor": 4
}
