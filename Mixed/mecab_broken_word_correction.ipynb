{
 "cells": [
  {
   "cell_type": "code",
   "execution_count": 31,
   "metadata": {},
   "outputs": [
    {
     "name": "stdout",
     "output_type": "stream",
     "text": [
      "the quick brown fox jumps over the lazy dog, 8, -34.491167981910635\n"
     ]
    }
   ],
   "source": [
    "from symspellpy.symspellpy import SymSpell\n",
    "import pkg_resources\n",
    "\n",
    "# Set max_dictionary_edit_distance to avoid spelling correction\n",
    "sym_spell = SymSpell(max_dictionary_edit_distance=0, prefix_length=7)\n",
    "dictionary_path = pkg_resources.resource_filename(\"symspellpy\", \"frequency_dictionary_en_82_765.txt\")\n",
    "# term_index is the column of the term and count_index is the\n",
    "# column of the term frequency\n",
    "sym_spell.load_dictionary(dictionary_path, term_index=0, count_index=1)\n",
    "\n",
    "# a sentence without any spaces\n",
    "input_term = \"thequickbrownfoxjumpsoverthelazydog\"\n",
    "result = sym_spell.word_segmentation(input_term)\n",
    "print(\"{}, {}, {}\".format(result.corrected_string, result.distance_sum,\n",
    "                          result.log_prob_sum))"
   ]
  },
  {
   "cell_type": "code",
   "execution_count": 4,
   "metadata": {},
   "outputs": [],
   "source": [
    "from collections import defaultdict"
   ]
  },
  {
   "cell_type": "code",
   "execution_count": 5,
   "metadata": {},
   "outputs": [],
   "source": [
    "import re"
   ]
  },
  {
   "cell_type": "code",
   "execution_count": 12,
   "metadata": {},
   "outputs": [],
   "source": [
    "text = \"ソフトバンク, 現在の 支援活動 製品の お知らせ TOPICS トピックス HOT WORD MENU メニュー インターネット・固定電話 でんき ロボット 法人のお客さま1,Google Pixel | スマートフォン・携帯電話 | ソフトバンク, Google Pixel Previous Next Google Pixel 4a (5G) Google Pixel 5 Google Pixel 4a Google Pixel Buds マカロニえんぴつの音楽×トークライブイベント YouTube Premium Google のプレミアム会員サービス Google Pixel 一覧 Google Pixel を彩る豊富なアクセサリー お見積もり・ご購入 購入サポート に関するよくあるご質問 （別ウィンドウで開きます） PDF （モーダルで開きます\""
   ]
  },
  {
   "cell_type": "code",
   "execution_count": 38,
   "metadata": {},
   "outputs": [
    {
     "data": {
      "text/plain": [
       "True"
      ]
     },
     "execution_count": 38,
     "metadata": {},
     "output_type": "execute_result"
    }
   ],
   "source": [
    "d.check('hello')"
   ]
  },
  {
   "cell_type": "code",
   "execution_count": 49,
   "metadata": {},
   "outputs": [],
   "source": [
    "import enchant\n",
    "checker = enchant.DictWithPWL(\"en\",\"correction_vocab.txt\")\n"
   ]
  },
  {
   "cell_type": "code",
   "execution_count": 11,
   "metadata": {},
   "outputs": [],
   "source": [
    "d = enchant.DictWithPWL(\"en\",\"correction_vocab1.txt\")"
   ]
  },
  {
   "cell_type": "code",
   "execution_count": 19,
   "metadata": {},
   "outputs": [],
   "source": [
    "import re"
   ]
  },
  {
   "cell_type": "code",
   "execution_count": 12,
   "metadata": {},
   "outputs": [],
   "source": [
    "import pandas as pd\n",
    "df = pd.read_csv('/home/iftekhar/amiebot/Resources/test/data/corpus.csv')"
   ]
  },
  {
   "cell_type": "code",
   "execution_count": 17,
   "metadata": {},
   "outputs": [],
   "source": [
    "text = ' '.join(df.text.values)"
   ]
  },
  {
   "cell_type": "code",
   "execution_count": 24,
   "metadata": {},
   "outputs": [],
   "source": [
    "collector = []\n",
    "for items in text.split():\n",
    "    if bool(re.compile('.*[A-Za-z].*').match(items)):\n",
    "        clean = re.sub(r'[^A-Za-z]','', items)\n",
    "        if len(clean) > 1:\n",
    "            collector.append(clean)"
   ]
  },
  {
   "cell_type": "code",
   "execution_count": 25,
   "metadata": {},
   "outputs": [],
   "source": [
    "collector = list(set([x.lower() for x in collector]))"
   ]
  },
  {
   "cell_type": "code",
   "execution_count": 39,
   "metadata": {},
   "outputs": [],
   "source": [
    "joint_words = []\n",
    "for items in collector:\n",
    "    if len(items) > 10:\n",
    "        result = sym_spell.word_segmentation(items)\n",
    "        joint_words.extend(result.corrected_string.split())\n",
    "    else:\n",
    "        joint_words.append(items)"
   ]
  },
  {
   "cell_type": "code",
   "execution_count": 47,
   "metadata": {},
   "outputs": [],
   "source": [
    "collector = list(set([x for x in joint_words if len(x) > 2]))"
   ]
  },
  {
   "cell_type": "code",
   "execution_count": 48,
   "metadata": {},
   "outputs": [],
   "source": [
    "with open('correction_vocab.txt', 'w') as out:\n",
    "    out.writelines(\"%s\\n\" % vocab for vocab in collector)"
   ]
  },
  {
   "cell_type": "code",
   "execution_count": 1,
   "metadata": {},
   "outputs": [],
   "source": [
    "words = ['t', 'HIS', 'web', 'SIT', 'e', 'u', 'SES', 'JavaScript', 'p', 'l', 'ease', 'l', 'e', 't', 'YOU', 'r', 'browser', 's', 'Ett', 'ING', 's', 'Enable', 'JavaScript', 'mobile', 'SEA', 'r', 'c', 'h', 'CLOSE', 'p', 'l', 'ease', 'c', 'h', 'o', 'OSE', 'the', 'SE', 'r', 'vice', 'YOU', 'w', 'ant', 't', 'o', 'k', 'NOW', 'p', 'r', 'eViO', 'us', 'NeXT', 'iPhone SE', 'iPhone', 'iPhone', 'p', 'r', 'o', 'iPad Pro', 'Google Pixel', 'a', 'GET', 't', 'ING', 'a', 'h', 'ANDS', 'e', 't', 'i', 'n', 'Japan', 'ViS', 'i', 't', 'a', 'SoftBank', 'SHO', 'p', 'w', 'e', 'WILL', 'b', 'e', 'HAPPY', 't', 'o', 'h', 'ELP', 'YOU', 'for', 'n', 'e', 'w', 'c', 'o', 'NTR', 'a', 'CTS', 'SWITCH']"
   ]
  },
  {
   "cell_type": "code",
   "execution_count": null,
   "metadata": {},
   "outputs": [],
   "source": [
    "['t', 'HIS', 'web', 'SIT', 'e', 'u', 'SES', 'JavaScript', 'p', 'l', 'ease', 'l', 'e', 't', 'YOU', 'r', 'browser', 's', 'Ett', 'ING', 's', 'Enable', 'JavaScript', 'mobile', 'SEA', 'r', 'c', 'h', 'CLOSE', 'p', 'l', 'ease', 'c', 'h', 'o', 'OSE', 'the', 'SE', 'r', 'vice', 'YOU', 'w', 'ant', 't', 'o', 'k', 'NOW', 'p', 'r', 'eViO', 'us', 'NeXT', 'iPhone SE', 'iPhone', 'iPhone', 'p', 'r', 'o', 'iPad Pro', 'Google Pixel', 'a', 'GET', 't', 'ING', 'a', 'h', 'ANDS', 'e', 't', 'i', 'n', 'Japan', 'ViS', 'i', 't', 'a', 'SoftBank', 'SHO', 'p', 'w', 'e', 'WILL', 'b', 'e', 'HAPPY', 't', 'o', 'h', 'ELP', 'YOU', 'for', 'n', 'e', 'w', 'c', 'o', 'NTR', 'a', 'CTS', 'SWITCH'..."
   ]
  },
  {
   "cell_type": "code",
   "execution_count": 3,
   "metadata": {},
   "outputs": [
    {
     "ename": "NameError",
     "evalue": "name 'defaultdict' is not defined",
     "output_type": "error",
     "traceback": [
      "\u001b[0;31m---------------------------------------------------------------------------\u001b[0m",
      "\u001b[0;31mNameError\u001b[0m                                 Traceback (most recent call last)",
      "\u001b[0;32m<ipython-input-3-254eb925b951>\u001b[0m in \u001b[0;36m<module>\u001b[0;34m\u001b[0m\n\u001b[1;32m      1\u001b[0m \u001b[0mwords\u001b[0m \u001b[0;34m=\u001b[0m \u001b[0;34m[\u001b[0m\u001b[0mx\u001b[0m\u001b[0;34m.\u001b[0m\u001b[0mlower\u001b[0m\u001b[0;34m(\u001b[0m\u001b[0;34m)\u001b[0m \u001b[0;32mfor\u001b[0m \u001b[0mx\u001b[0m \u001b[0;32min\u001b[0m \u001b[0mwords\u001b[0m\u001b[0;34m]\u001b[0m\u001b[0;34m\u001b[0m\u001b[0;34m\u001b[0m\u001b[0m\n\u001b[0;32m----> 2\u001b[0;31m \u001b[0mcorrection\u001b[0m \u001b[0;34m=\u001b[0m \u001b[0mdefaultdict\u001b[0m\u001b[0;34m(\u001b[0m\u001b[0mlist\u001b[0m\u001b[0;34m)\u001b[0m\u001b[0;34m\u001b[0m\u001b[0;34m\u001b[0m\u001b[0m\n\u001b[0m\u001b[1;32m      3\u001b[0m \u001b[0mi\u001b[0m \u001b[0;34m=\u001b[0m \u001b[0;36m0\u001b[0m\u001b[0;34m\u001b[0m\u001b[0;34m\u001b[0m\u001b[0m\n\u001b[1;32m      4\u001b[0m \u001b[0;32mfor\u001b[0m \u001b[0mitems\u001b[0m \u001b[0;32min\u001b[0m \u001b[0mwords\u001b[0m\u001b[0;34m:\u001b[0m\u001b[0;34m\u001b[0m\u001b[0;34m\u001b[0m\u001b[0m\n\u001b[1;32m      5\u001b[0m     \u001b[0mflag\u001b[0m \u001b[0;34m=\u001b[0m \u001b[0;36m1\u001b[0m\u001b[0;34m\u001b[0m\u001b[0;34m\u001b[0m\u001b[0m\n",
      "\u001b[0;31mNameError\u001b[0m: name 'defaultdict' is not defined"
     ]
    }
   ],
   "source": [
    "words = [x.lower() for x in words]\n",
    "correction = defaultdict(list)\n",
    "i = 0\n",
    "for items in words:\n",
    "    flag = 1\n",
    "    if len(items) < 3 and bool(re.compile('[a-z]').match(items)):\n",
    "        # print(items, '=', i)\n",
    "        try:\n",
    "            j = 0\n",
    "            while j < 2:\n",
    "                if checker.check(str(words[i - 1 + j] + words[i + j])):\n",
    "                    correction[str(words[i - 1 + j] + words[i + j])].append([i - 1 + j, i + j])\n",
    "                    flag = 0\n",
    "                    break\n",
    "                j += 1\n",
    "            if flag:\n",
    "                k = 0\n",
    "                while k < 3:\n",
    "                    if checker.check(str(words[i - 2 + k] + words[i - 1 + k] + words[i + k])):\n",
    "                        correction[str(words[i - 2 + k] + words[i - 1 + k] + words[i + k])]. \\\n",
    "                            append([i - 2 + k, i - 1 + k, i + k])\n",
    "                        flag = 0\n",
    "                        break\n",
    "                    k += 1\n",
    "            if flag:\n",
    "                k = 0\n",
    "                while k < 4:\n",
    "                    if checker.check(str(words[i - 3 + k] + words[i - 2 + k] + words[i - 1 + k] + words[i + k])):\n",
    "                        correction[str(words[i - 3 + k] + words[i - 2 + k] + words[i - 1 + k] + words[i + k])]. \\\n",
    "                            append([i - 3 + k, i - 2 + k, i - 1 + k, i + k])\n",
    "                        break\n",
    "                    k += 1\n",
    "        except IndexError:\n",
    "            pass\n",
    "    i += 1\n",
    "\n",
    "for key, val in correction.items():\n",
    "    flag = 1\n",
    "    for items in val[0]:\n",
    "        if flag:\n",
    "            words[items] = key\n",
    "            flag = 0\n",
    "        else:\n",
    "            words[items] = ''\n",
    "\n",
    "# return [x for x in words if x is not '']\n"
   ]
  },
  {
   "cell_type": "code",
   "execution_count": 53,
   "metadata": {},
   "outputs": [
    {
     "data": {
      "text/plain": [
       "defaultdict(list,\n",
       "            {'hot': [[8, 9], [8, 9]],\n",
       "             'menu': [[11, 12]],\n",
       "             'previous': [[25, 26, 27], [25, 26, 27]],\n",
       "             'pdf': [[64, 65], [64, 65]]})"
      ]
     },
     "execution_count": 53,
     "metadata": {},
     "output_type": "execute_result"
    }
   ],
   "source": [
    "correction"
   ]
  },
  {
   "cell_type": "code",
   "execution_count": 109,
   "metadata": {},
   "outputs": [
    {
     "data": {
      "text/plain": [
       "True"
      ]
     },
     "execution_count": 109,
     "metadata": {},
     "output_type": "execute_result"
    }
   ],
   "source": [
    "d.check('pdf')"
   ]
  },
  {
   "cell_type": "code",
   "execution_count": 55,
   "metadata": {},
   "outputs": [],
   "source": [
    "for key, val in correction.items():\n",
    "    flag = 1\n",
    "    for items in val[0]:\n",
    "        if flag:\n",
    "            words[items] = key\n",
    "            flag = 0\n",
    "        else:\n",
    "            words[items] = ''"
   ]
  },
  {
   "cell_type": "code",
   "execution_count": 57,
   "metadata": {},
   "outputs": [
    {
     "data": {
      "text/plain": [
       "['ソフトバンク',\n",
       " '現在',\n",
       " '支援',\n",
       " '活動',\n",
       " '製品',\n",
       " 'お知らせ',\n",
       " 'topics',\n",
       " 'トピックス',\n",
       " 'hot',\n",
       " 'WORD',\n",
       " 'menu',\n",
       " 'メニュー',\n",
       " 'インターネット',\n",
       " '固定電話',\n",
       " 'でんき',\n",
       " 'ロボット',\n",
       " '法人',\n",
       " 'お客様',\n",
       " 'Google Pixel',\n",
       " 'smartphone',\n",
       " '携帯電話',\n",
       " 'ソフトバンク',\n",
       " 'Google Pixel',\n",
       " 'previous',\n",
       " 'NeXT',\n",
       " 'Google Pixel',\n",
       " 'a',\n",
       " 'g',\n",
       " 'Google Pixel',\n",
       " 'Google Pixel',\n",
       " 'a',\n",
       " 'Google Pixel',\n",
       " 'buds',\n",
       " 'マカロニえんぴつ',\n",
       " '音楽',\n",
       " 'トーク',\n",
       " 'ライブイベント',\n",
       " 'YouTube Premium',\n",
       " 'Google',\n",
       " 'プレミアム',\n",
       " '会員',\n",
       " 'サービス',\n",
       " 'Google Pixel',\n",
       " '一覧',\n",
       " 'Google Pixel',\n",
       " '彩る',\n",
       " '豊富',\n",
       " 'アクセサリー',\n",
       " 'お',\n",
       " '見積',\n",
       " 'ご',\n",
       " '購入',\n",
       " '購入',\n",
       " 'サポート',\n",
       " 'ある',\n",
       " 'ご',\n",
       " '質問',\n",
       " '別',\n",
       " 'ウィンドウ',\n",
       " '開く',\n",
       " 'pdf',\n",
       " 'モーダル',\n",
       " '開く']"
      ]
     },
     "execution_count": 57,
     "metadata": {},
     "output_type": "execute_result"
    }
   ],
   "source": [
    "[x for x in words if x is not '']"
   ]
  },
  {
   "cell_type": "code",
   "execution_count": 59,
   "metadata": {},
   "outputs": [
    {
     "data": {
      "text/plain": [
       "'mecab/abc.txt'"
      ]
     },
     "execution_count": 59,
     "metadata": {},
     "output_type": "execute_result"
    }
   ],
   "source": [
    "import os\n",
    "os.path.join('mecab', 'abc.txt')"
   ]
  }
 ],
 "metadata": {
  "kernelspec": {
   "display_name": "Python 3",
   "language": "python",
   "name": "python3"
  },
  "language_info": {
   "codemirror_mode": {
    "name": "ipython",
    "version": 3
   },
   "file_extension": ".py",
   "mimetype": "text/x-python",
   "name": "python",
   "nbconvert_exporter": "python",
   "pygments_lexer": "ipython3",
   "version": "3.6.9"
  }
 },
 "nbformat": 4,
 "nbformat_minor": 4
}
