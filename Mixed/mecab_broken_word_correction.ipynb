{
 "cells": [
  {
   "cell_type": "code",
   "execution_count": 1,
   "metadata": {},
   "outputs": [],
   "source": [
    "import re"
   ]
  },
  {
   "cell_type": "code",
   "execution_count": 12,
   "metadata": {},
   "outputs": [],
   "source": [
    "text = \"ソフトバンク, 現在の 支援活動 製品の お知らせ TOPICS トピックス HOT WORD MENU メニュー インターネット・固定電話 でんき ロボット 法人のお客さま1,Google Pixel | スマートフォン・携帯電話 | ソフトバンク, Google Pixel Previous Next Google Pixel 4a (5G) Google Pixel 5 Google Pixel 4a Google Pixel Buds マカロニえんぴつの音楽×トークライブイベント YouTube Premium Google のプレミアム会員サービス Google Pixel 一覧 Google Pixel を彩る豊富なアクセサリー お見積もり・ご購入 購入サポート に関するよくあるご質問 （別ウィンドウで開きます） PDF （モーダルで開きます\""
   ]
  },
  {
   "cell_type": "code",
   "execution_count": 38,
   "metadata": {},
   "outputs": [
    {
     "data": {
      "text/plain": [
       "True"
      ]
     },
     "execution_count": 38,
     "metadata": {},
     "output_type": "execute_result"
    }
   ],
   "source": [
    "d.check('hello')"
   ]
  },
  {
   "cell_type": "code",
   "execution_count": 108,
   "metadata": {},
   "outputs": [],
   "source": [
    "import enchant\n",
    "d = enchant.DictWithPWL(\"en\",\"correction_vocab.txt\")\n"
   ]
  },
  {
   "cell_type": "code",
   "execution_count": 26,
   "metadata": {},
   "outputs": [],
   "source": [
    "collector = []\n",
    "for items in text.split():\n",
    "    if bool(re.compile('[A-Za-z]').match(items)):\n",
    "        collector.append(items)\n",
    "    elif bool(re.compile('.*[A-Za-z].*').match(items)):\n",
    "        clean = re.sub(r'[^A-Za-z]','', items)\n",
    "        if len(clean) > 1:\n",
    "            collector.append(clean)"
   ]
  },
  {
   "cell_type": "code",
   "execution_count": 98,
   "metadata": {},
   "outputs": [],
   "source": [
    "collector = list(set([x.lower() for x in collector]))"
   ]
  },
  {
   "cell_type": "code",
   "execution_count": 106,
   "metadata": {},
   "outputs": [
    {
     "data": {
      "text/plain": [
       "['topics',\n",
       " 'youtube',\n",
       " 'previous',\n",
       " 'buds',\n",
       " 'word',\n",
       " 'premium',\n",
       " 'pdf',\n",
       " 'google',\n",
       " 'hot',\n",
       " 'pixel',\n",
       " 'next',\n",
       " 'menu']"
      ]
     },
     "execution_count": 106,
     "metadata": {},
     "output_type": "execute_result"
    }
   ],
   "source": [
    "collector"
   ]
  },
  {
   "cell_type": "code",
   "execution_count": 107,
   "metadata": {},
   "outputs": [],
   "source": [
    "with open('correction_vocab.txt', 'w') as out:\n",
    "    out.writelines(\"%s\\n\" % vocab for vocab in collector)"
   ]
  },
  {
   "cell_type": "code",
   "execution_count": 144,
   "metadata": {},
   "outputs": [],
   "source": [
    "parsed_word = ['ソフトバンク', '現在', '支援', '活動', '製品', 'お知らせ', 'topics', 'トピックス', 'HO', 't', 'WORD', 'm', 'ENU', 'メニュー', 'インターネット', '固定電話', 'でんき', 'ロボット', '法人', 'お客様', 'Google Pixel', 'smartphone', '携帯電話', 'ソフトバンク', 'Google Pixel', 'pr', 'eviou', 's', 'NeXT', 'Google Pixel', 'a', 'g', 'Google Pixel', 'Google Pixel', 'a', 'Google Pixel', 'buds', 'マカロニえんぴつ', '音楽', 'トーク', 'ライブイベント', 'YouTube Premium', 'Google', 'プレミアム', '会員', 'サービス', 'Google Pixel', '一覧', 'Google Pixel', '彩る', '豊富', 'アクセサリー', 'お', '見積', 'ご', '購入', '購入', 'サポート', 'ある', 'ご', '質問', '別', 'ウィンドウ', '開く', 'pd', 'f', 'モーダル', '開く']"
   ]
  },
  {
   "cell_type": "code",
   "execution_count": 145,
   "metadata": {},
   "outputs": [
    {
     "name": "stdout",
     "output_type": "stream",
     "text": [
      "HO = 8\n",
      "t = 9\n",
      "m = 11\n",
      "pr = 25\n",
      "s = 27\n",
      "a = 30\n",
      "g = 31\n",
      "a = 34\n",
      "pd = 64\n",
      "f = 65\n"
     ]
    }
   ],
   "source": [
    "from collections import defaultdict\n",
    "correction = defaultdict(list)\n",
    "index = 0\n",
    "for items in parsed_word:\n",
    "    if len(items) < 3 and bool(re.compile('[A-Za-z]').match(items)):\n",
    "        print(items,'=', index)\n",
    "        \n",
    "        # x + x+1\n",
    "        if d.check(str(parsed_word[index] + parsed_word[index+1]).lower()):\n",
    "            correction[str(parsed_word[index] + parsed_word[index+1]).lower()].append([index, index+1]) \n",
    "        # x-1 + x\n",
    "        elif d.check(str(parsed_word[index-1] + parsed_word[index]).lower()):\n",
    "            correction[str(parsed_word[index-1] + parsed_word[index]).lower()].append([index-1, index])\n",
    "        # x-2 + x-1 + x\n",
    "        elif d.check(str(parsed_word[index-2] + parsed_word[index-1] + parsed_word[index]).lower()):\n",
    "            correction[str(parsed_word[index-2] + parsed_word[index-1] + parsed_word[index]).lower()].append([index-2, index-1, index])\n",
    "        # x-1 + x + x+1\n",
    "        elif d.check(str(parsed_word[index-1] + parsed_word[index] + parsed_word[index+1]).lower()):\n",
    "            correction[str(parsed_word[index-1] + parsed_word[index]).lower()].append([index-1, index, index+1])\n",
    "        # x + x+1 + x+2\n",
    "        elif d.check(str(parsed_word[index] + parsed_word[index+1] + parsed_word[index+2]).lower()):\n",
    "            correction[str(parsed_word[index] + parsed_word[index+1] + parsed_word[index+2]).lower()].append([index, index+1, index+2])\n",
    "\n",
    "    index += 1"
   ]
  },
  {
   "cell_type": "code",
   "execution_count": 146,
   "metadata": {},
   "outputs": [
    {
     "data": {
      "text/plain": [
       "defaultdict(list,\n",
       "            {'hot': [[8, 9], [8, 9]],\n",
       "             'menu': [[11, 12]],\n",
       "             'previous': [[25, 26, 27], [25, 26, 27]],\n",
       "             'pdf': [[64, 65], [64, 65]]})"
      ]
     },
     "execution_count": 146,
     "metadata": {},
     "output_type": "execute_result"
    }
   ],
   "source": [
    "correction"
   ]
  },
  {
   "cell_type": "code",
   "execution_count": 109,
   "metadata": {},
   "outputs": [
    {
     "data": {
      "text/plain": [
       "True"
      ]
     },
     "execution_count": 109,
     "metadata": {},
     "output_type": "execute_result"
    }
   ],
   "source": [
    "d.check('pdf')"
   ]
  },
  {
   "cell_type": "code",
   "execution_count": 147,
   "metadata": {},
   "outputs": [],
   "source": [
    "for key, val in correction.items():\n",
    "    flag = 1\n",
    "    for items in val[0]:\n",
    "        if flag:\n",
    "            parsed_word[items] = key\n",
    "            flag = 0\n",
    "        else:\n",
    "            parsed_word[items] = ''"
   ]
  },
  {
   "cell_type": "code",
   "execution_count": 148,
   "metadata": {},
   "outputs": [
    {
     "data": {
      "text/plain": [
       "['ソフトバンク',\n",
       " '現在',\n",
       " '支援',\n",
       " '活動',\n",
       " '製品',\n",
       " 'お知らせ',\n",
       " 'topics',\n",
       " 'トピックス',\n",
       " 'hot',\n",
       " 'WORD',\n",
       " 'menu',\n",
       " 'メニュー',\n",
       " 'インターネット',\n",
       " '固定電話',\n",
       " 'でんき',\n",
       " 'ロボット',\n",
       " '法人',\n",
       " 'お客様',\n",
       " 'Google Pixel',\n",
       " 'smartphone',\n",
       " '携帯電話',\n",
       " 'ソフトバンク',\n",
       " 'Google Pixel',\n",
       " 'previous',\n",
       " 'NeXT',\n",
       " 'Google Pixel',\n",
       " 'a',\n",
       " 'g',\n",
       " 'Google Pixel',\n",
       " 'Google Pixel',\n",
       " 'a',\n",
       " 'Google Pixel',\n",
       " 'buds',\n",
       " 'マカロニえんぴつ',\n",
       " '音楽',\n",
       " 'トーク',\n",
       " 'ライブイベント',\n",
       " 'YouTube Premium',\n",
       " 'Google',\n",
       " 'プレミアム',\n",
       " '会員',\n",
       " 'サービス',\n",
       " 'Google Pixel',\n",
       " '一覧',\n",
       " 'Google Pixel',\n",
       " '彩る',\n",
       " '豊富',\n",
       " 'アクセサリー',\n",
       " 'お',\n",
       " '見積',\n",
       " 'ご',\n",
       " '購入',\n",
       " '購入',\n",
       " 'サポート',\n",
       " 'ある',\n",
       " 'ご',\n",
       " '質問',\n",
       " '別',\n",
       " 'ウィンドウ',\n",
       " '開く',\n",
       " 'pdf',\n",
       " 'モーダル',\n",
       " '開く']"
      ]
     },
     "execution_count": 148,
     "metadata": {},
     "output_type": "execute_result"
    }
   ],
   "source": [
    "[x for x in parsed_word if x is not '']"
   ]
  }
 ],
 "metadata": {
  "kernelspec": {
   "display_name": "Python 3",
   "language": "python",
   "name": "python3"
  },
  "language_info": {
   "codemirror_mode": {
    "name": "ipython",
    "version": 3
   },
   "file_extension": ".py",
   "mimetype": "text/x-python",
   "name": "python",
   "nbconvert_exporter": "python",
   "pygments_lexer": "ipython3",
   "version": "3.6.9"
  }
 },
 "nbformat": 4,
 "nbformat_minor": 4
}
