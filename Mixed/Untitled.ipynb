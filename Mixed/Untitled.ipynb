{
 "cells": [
  {
   "cell_type": "code",
   "execution_count": 23,
   "metadata": {},
   "outputs": [],
   "source": [
    "import unicodedata"
   ]
  },
  {
   "cell_type": "code",
   "execution_count": 27,
   "metadata": {},
   "outputs": [],
   "source": [
    "def _is_japanese(text):\n",
    "    for ch in text:\n",
    "        try:\n",
    "            name = unicodedata.name(ch)\n",
    "            print(name)\n",
    "            if \"HIRAGANA\" in name \\\n",
    "                    or \"KATAKANA\" in name:\n",
    "                return True\n",
    "        except Exception as e:\n",
    "            print(str(e))\n",
    "    return False"
   ]
  },
  {
   "cell_type": "code",
   "execution_count": 30,
   "metadata": {},
   "outputs": [
    {
     "name": "stdout",
     "output_type": "stream",
     "text": [
      "CJK UNIFIED IDEOGRAPH-6709\n",
      "CJK UNIFIED IDEOGRAPH-7D66\n",
      "CJK UNIFIED IDEOGRAPH-4F11\n",
      "CJK UNIFIED IDEOGRAPH-6687\n",
      "IDEOGRAPHIC COMMA\n",
      "CJK UNIFIED IDEOGRAPH-9031\n",
      "CJK UNIFIED IDEOGRAPH-4F11\n",
      "CJK UNIFIED IDEOGRAPH-4E8C\n",
      "CJK UNIFIED IDEOGRAPH-65E5\n",
      "CJK UNIFIED IDEOGRAPH-5236\n",
      "IDEOGRAPHIC COMMA\n",
      "CJK UNIFIED IDEOGRAPH-9031\n",
      "CJK UNIFIED IDEOGRAPH-4F11\n",
      "CJK UNIFIED IDEOGRAPH-4E8C\n",
      "CJK UNIFIED IDEOGRAPH-65E5\n",
      "CJK UNIFIED IDEOGRAPH-5236\n",
      "HIRAGANA LETTER NO\n"
     ]
    },
    {
     "data": {
      "text/plain": [
       "True"
      ]
     },
     "execution_count": 30,
     "metadata": {},
     "output_type": "execute_result"
    }
   ],
   "source": [
    "_is_japanese('有給休暇、週休二日制、週休二日制の概念')"
   ]
  },
  {
   "cell_type": "code",
   "execution_count": 33,
   "metadata": {},
   "outputs": [
    {
     "name": "stdout",
     "output_type": "stream",
     "text": [
      "有給休暇、週休二日制、週休二日制 expected: ja actual: zh\n",
      "健康の油切 好吃の涼麵 expected: zh actual: ja\n",
      "鐵腕・都鐸王朝（五）：文藝復興最懂穿搭的高富帥——亨利八世 expected: zh actual: ja\n"
     ]
    }
   ],
   "source": [
    "import re\n",
    "\n",
    "\n",
    "def cjk_detect(texts):\n",
    "    # korean\n",
    "    if re.search(\"[\\uac00-\\ud7a3]\", texts):\n",
    "        return \"ko\"\n",
    "    # japanese\n",
    "    if re.search(\"[\\u3040-\\u30ff]\", texts):\n",
    "        return \"ja\"\n",
    "    # chinese\n",
    "    if re.search(\"[\\u4e00-\\u9FFF]\", texts):\n",
    "        return \"zh\"\n",
    "    return None\n",
    "\n",
    "\n",
    "def test_cjk_detect():\n",
    "    # Simplified Chinese\n",
    "    assert cjk_detect(\n",
    "        \"2009年，波音公司(Boeing)在查尔斯顿附近的新厂破土动工时，曾宣扬这里是最先进的制造中心\"\n",
    "        \"，将制造一款世界上最先进的飞机。但在接下来的十年里，这家生产787梦想客机的工厂一直受到做\"\n",
    "        \"工粗糙和监管不力的困扰，危及航空安全。\") == \"zh\"\n",
    "    # Traditional Chinese\n",
    "    assert cjk_detect(\n",
    "        \"北查爾斯頓工廠的安全漏洞已經引起了航空公司和監管機構的密切關注。\") == \"zh\"\n",
    "    # Japanese\n",
    "    assert cjk_detect(\n",
    "        \"日産自動車は24日、2019年3月期の連結業績予想を下方修正した。\") == \"ja\"\n",
    "    # Korean\n",
    "    assert cjk_detect(\n",
    "        \"투서로 뜨고 투서에 지나\") == \"ko\"\n",
    "    # Korean with a Chinese character\n",
    "    assert cjk_detect(\n",
    "        \"北 외무성 간부 총살설 주민들 사이서 확산…하노이 회담 실패 때문\") == \"ko\"\n",
    "\n",
    "\n",
    "def print_incorrect_cases():\n",
    "    # Japanese\n",
    "    texts = \"日産自動車、営業益45%減　前期下方修正\"\n",
    "    texts = '有給休暇、週休二日制、週休二日制'\n",
    "    print(texts, \"expected: ja actual:\", cjk_detect(texts))\n",
    "    # Traditional Chinese with Japanese hiragana\n",
    "    texts = \"健康の油切 好吃の涼麵\"\n",
    "    print(texts, \"expected: zh actual:\", cjk_detect(texts))\n",
    "    # Traditional Chinese with Japanese katakana punctuation\n",
    "    texts = \"鐵腕・都鐸王朝（五）：文藝復興最懂穿搭的高富帥——亨利八世\"\n",
    "    print(texts, \"expected: zh actual:\", cjk_detect(texts))\n",
    "\n",
    "\n",
    "if __name__ == \"__main__\":\n",
    "    # Correct cases\n",
    "    test_cjk_detect()\n",
    "    # Incorrect cases\n",
    "    print_incorrect_cases()"
   ]
  },
  {
   "cell_type": "code",
   "execution_count": 9,
   "metadata": {},
   "outputs": [],
   "source": [
    "import cld3"
   ]
  },
  {
   "cell_type": "code",
   "execution_count": 22,
   "metadata": {},
   "outputs": [
    {
     "data": {
      "text/plain": [
       "'zh'"
      ]
     },
     "execution_count": 22,
     "metadata": {},
     "output_type": "execute_result"
    }
   ],
   "source": [
    "lang = cld3.get_language('有給休暇、週休二日制、週休二日制')[0]\n",
    "lang"
   ]
  },
  {
   "cell_type": "code",
   "execution_count": null,
   "metadata": {},
   "outputs": [],
   "source": [
    "#t= \"有給休暇、週休二日制、週休二日制\"\n",
    "t=\"Yes I\"\n",
    "#t=\"有給休暇\"\n",
    "#t = '防水層'"
   ]
  },
  {
   "cell_type": "code",
   "execution_count": 59,
   "metadata": {},
   "outputs": [],
   "source": [
    "import _pickle as pickle"
   ]
  },
  {
   "cell_type": "code",
   "execution_count": 60,
   "metadata": {},
   "outputs": [],
   "source": [
    "def load_from_file(file_path):\n",
    "    with open(file_path, \"rb\") as input_file:\n",
    "        data = pickle.load(input_file)\n",
    "    return data"
   ]
  },
  {
   "cell_type": "code",
   "execution_count": 64,
   "metadata": {},
   "outputs": [],
   "source": [
    "word_dic = load_from_file('/home/iftekhar/2343/model/retrieve_word_dic.pk')"
   ]
  },
  {
   "cell_type": "code",
   "execution_count": 65,
   "metadata": {},
   "outputs": [
    {
     "data": {
      "text/plain": [
       "['プラン', '容量', '量', 'ラン', 'ン', '', '大', '容', 'ラ', 'プラ', 'プ']"
      ]
     },
     "execution_count": 65,
     "metadata": {},
     "output_type": "execute_result"
    }
   ],
   "source": [
    "[x for x in word_dic.keys() if x in '大容量プラン']"
   ]
  },
  {
   "cell_type": "code",
   "execution_count": 42,
   "metadata": {},
   "outputs": [],
   "source": [
    "import pandas as pd"
   ]
  },
  {
   "cell_type": "code",
   "execution_count": 52,
   "metadata": {},
   "outputs": [],
   "source": [
    "df = pd.read_csv('/home/iftekhar/WebMaster/app/faq/data/nlu_dict_raw_data_frame.csv')"
   ]
  },
  {
   "cell_type": "code",
   "execution_count": 53,
   "metadata": {},
   "outputs": [
    {
     "data": {
      "text/html": [
       "<div>\n",
       "<style scoped>\n",
       "    .dataframe tbody tr th:only-of-type {\n",
       "        vertical-align: middle;\n",
       "    }\n",
       "\n",
       "    .dataframe tbody tr th {\n",
       "        vertical-align: top;\n",
       "    }\n",
       "\n",
       "    .dataframe thead th {\n",
       "        text-align: right;\n",
       "    }\n",
       "</style>\n",
       "<table border=\"1\" class=\"dataframe\">\n",
       "  <thead>\n",
       "    <tr style=\"text-align: right;\">\n",
       "      <th></th>\n",
       "      <th>Unnamed: 0</th>\n",
       "      <th>query</th>\n",
       "      <th>tag</th>\n",
       "    </tr>\n",
       "  </thead>\n",
       "  <tbody>\n",
       "    <tr>\n",
       "      <th>0</th>\n",
       "      <td>1019</td>\n",
       "      <td>That is as good as I expected.</td>\n",
       "      <td>praise</td>\n",
       "    </tr>\n",
       "    <tr>\n",
       "      <th>1</th>\n",
       "      <td>705</td>\n",
       "      <td>can you connect me to sales</td>\n",
       "      <td>contact_staffs</td>\n",
       "    </tr>\n",
       "    <tr>\n",
       "      <th>2</th>\n",
       "      <td>389</td>\n",
       "      <td>oh are you chatbot?</td>\n",
       "      <td>ask_isbot</td>\n",
       "    </tr>\n",
       "    <tr>\n",
       "      <th>3</th>\n",
       "      <td>1077</td>\n",
       "      <td>How creative</td>\n",
       "      <td>praise</td>\n",
       "    </tr>\n",
       "    <tr>\n",
       "      <th>4</th>\n",
       "      <td>393</td>\n",
       "      <td>what is the time in Tokyo?</td>\n",
       "      <td>ask_time</td>\n",
       "    </tr>\n",
       "  </tbody>\n",
       "</table>\n",
       "</div>"
      ],
      "text/plain": [
       "   Unnamed: 0                           query             tag\n",
       "0        1019  That is as good as I expected.          praise\n",
       "1         705     can you connect me to sales  contact_staffs\n",
       "2         389             oh are you chatbot?       ask_isbot\n",
       "3        1077                    How creative          praise\n",
       "4         393      what is the time in Tokyo?        ask_time"
      ]
     },
     "execution_count": 53,
     "metadata": {},
     "output_type": "execute_result"
    }
   ],
   "source": [
    "df.head()"
   ]
  },
  {
   "cell_type": "code",
   "execution_count": 45,
   "metadata": {},
   "outputs": [
    {
     "data": {
      "text/plain": [
       "1238"
      ]
     },
     "execution_count": 45,
     "metadata": {},
     "output_type": "execute_result"
    }
   ],
   "source": [
    "len(df['query'])"
   ]
  },
  {
   "cell_type": "code",
   "execution_count": 46,
   "metadata": {},
   "outputs": [],
   "source": [
    "text = ['abcd']"
   ]
  },
  {
   "cell_type": "code",
   "execution_count": 50,
   "metadata": {},
   "outputs": [],
   "source": [
    "x = len(df) * ['abcd']"
   ]
  },
  {
   "cell_type": "code",
   "execution_count": 58,
   "metadata": {},
   "outputs": [
    {
     "data": {
      "text/plain": [
       "['Bay Area']"
      ]
     },
     "execution_count": 58,
     "metadata": {},
     "output_type": "execute_result"
    }
   ],
   "source": [
    "from flashtext import KeywordProcessor\n",
    "keyword_processor = KeywordProcessor()\n",
    "# keyword_processor.add_keyword(<unclean name>, <standardised name>)\n",
    "keyword_processor.add_keyword('Big Apple')\n",
    "keyword_processor.add_keyword('Bay Area')\n",
    "keywords_found = keyword_processor.extract_keywords('I love bigApple and Bay Area.')\n",
    "keywords_found"
   ]
  }
 ],
 "metadata": {
  "kernelspec": {
   "display_name": "Python 3",
   "language": "python",
   "name": "python3"
  },
  "language_info": {
   "codemirror_mode": {
    "name": "ipython",
    "version": 3
   },
   "file_extension": ".py",
   "mimetype": "text/x-python",
   "name": "python",
   "nbconvert_exporter": "python",
   "pygments_lexer": "ipython3",
   "version": "3.6.9"
  }
 },
 "nbformat": 4,
 "nbformat_minor": 4
}
