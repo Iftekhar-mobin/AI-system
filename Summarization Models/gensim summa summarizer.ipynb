{
 "cells": [
  {
   "cell_type": "code",
   "execution_count": 1,
   "metadata": {},
   "outputs": [],
   "source": [
    "  \n",
    "text = 'Generating Reports SOTI MobiControl provides an extensive range of device and system reports to analyze your SOTI MobiControl deployment. The default reports cover many aspects of SOTI MobiControl, including but not limited to, device status and information, deployment server status and information, and administrative topics. Furthermore, you can create custom reports on other statistics that SOTI MobiControl tracks. The deployment server database is a standard SQL database that can be queried using a custom query. For more information on creating custom reports, contact SOTI MobiControl support. Reports can be generated in the following formats: Adobe PDF (.pdf) Comma separated values (.csv) Excel (.xls) Plain text (.txt) You can set SOTI MobiControl to automatically generate and disseminate reports. If you experience difficulties generating reports, make sure you have correctly activated SOTI MobiControl and that you have enabled TCP/IP in your SQL Server network configuration. Additionally, authentication of SQL Server must be performed using SQL Server Authentication; Windows Authentication is no longer supported. Tip: For a more flexible alternative, consider executing an Advanced Search and exporting the search results to a .csv file.'\n"
   ]
  },
  {
   "cell_type": "markdown",
   "metadata": {},
   "source": [
    "# gensim.summarization offers TextRank summarization"
   ]
  },
  {
   "cell_type": "code",
   "execution_count": 5,
   "metadata": {},
   "outputs": [
    {
     "name": "stdout",
     "output_type": "stream",
     "text": [
      "Percent summary\n",
      "The default reports cover many aspects of SOTI MobiControl, including but not limited to, device status and information, deployment server status and information, and administrative topics.\n",
      "Furthermore, you can create custom reports on other statistics that SOTI MobiControl tracks.\n",
      "For more information on creating custom reports, contact SOTI MobiControl support.\n",
      "If you experience difficulties generating reports, make sure you have correctly activated SOTI MobiControl and that you have enabled TCP/IP in your SQL Server network configuration.\n"
     ]
    }
   ],
   "source": [
    "from gensim.summarization.summarizer import summarize \n",
    "from gensim.summarization import keywords \n",
    "\n",
    "#nlp = en_core_web_sm.load() \n",
    "#doc = nlp(text) \n",
    "  \n",
    "# Summary (0.5% of the original content). \n",
    "summ_per = summarize(str(text), ratio = 0.5) \n",
    "print(\"Percent summary\") \n",
    "print(summ_per) "
   ]
  },
  {
   "cell_type": "code",
   "execution_count": 6,
   "metadata": {},
   "outputs": [
    {
     "name": "stdout",
     "output_type": "stream",
     "text": [
      "Word count summary\n",
      "The default reports cover many aspects of SOTI MobiControl, including but not limited to, device status and information, deployment server status and information, and administrative topics.\n",
      "Furthermore, you can create custom reports on other statistics that SOTI MobiControl tracks.\n",
      "The deployment server database is a standard SQL database that can be queried using a custom query.\n",
      "For more information on creating custom reports, contact SOTI MobiControl support.\n",
      "If you experience difficulties generating reports, make sure you have correctly activated SOTI MobiControl and that you have enabled TCP/IP in your SQL Server network configuration.\n"
     ]
    }
   ],
   "source": [
    "# Summary (200 words) \n",
    "summ_words = summarize(str(text), word_count = 100) \n",
    "print(\"Word count summary\") \n",
    "print(summ_words) \n"
   ]
  },
  {
   "cell_type": "code",
   "execution_count": null,
   "metadata": {},
   "outputs": [],
   "source": [
    "from gensim.summarization import keywords\n",
    "\n",
    "print('Keywords:')\n",
    "print(keywords(text))"
   ]
  },
  {
   "cell_type": "code",
   "execution_count": null,
   "metadata": {},
   "outputs": [],
   "source": [
    "print('Keywords:')\n",
    "print(keywords(text, ratio=0.1))"
   ]
  },
  {
   "cell_type": "code",
   "execution_count": 8,
   "metadata": {},
   "outputs": [
    {
     "data": {
      "text/plain": [
       "'The default reports cover many aspects of SOTI MobiControl, including but not limited to, device status and information, deployment server status and information, and administrative topics.\\nFor more information on creating custom reports, contact SOTI MobiControl support.\\nIf you experience difficulties generating reports, make sure you have correctly activated SOTI MobiControl and that you have enabled TCP/IP in your SQL Server network configuration.'"
      ]
     },
     "execution_count": 8,
     "metadata": {},
     "output_type": "execute_result"
    }
   ],
   "source": [
    "from summa.summarizer import summarize\n",
    "summarize(text, ratio=0.4)"
   ]
  },
  {
   "cell_type": "code",
   "execution_count": null,
   "metadata": {},
   "outputs": [],
   "source": [
    "from summa import keywords\n",
    "print(keywords.keywords(text))"
   ]
  },
  {
   "cell_type": "code",
   "execution_count": null,
   "metadata": {},
   "outputs": [],
   "source": []
  }
 ],
 "metadata": {
  "kernelspec": {
   "display_name": "Python 3",
   "language": "python",
   "name": "python3"
  },
  "language_info": {
   "codemirror_mode": {
    "name": "ipython",
    "version": 3
   },
   "file_extension": ".py",
   "mimetype": "text/x-python",
   "name": "python",
   "nbconvert_exporter": "python",
   "pygments_lexer": "ipython3",
   "version": "3.6.8"
  }
 },
 "nbformat": 4,
 "nbformat_minor": 2
}
