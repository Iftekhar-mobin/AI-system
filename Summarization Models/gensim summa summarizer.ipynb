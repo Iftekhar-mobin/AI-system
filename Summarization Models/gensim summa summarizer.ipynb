{
 "cells": [
  {
   "cell_type": "code",
   "execution_count": 1,
   "metadata": {},
   "outputs": [],
   "source": [
    "  \n",
    "text = \"Japan, island country lying off the east coast of Asia. It consists of a great string of islands in a northeast-southwest arc that stretches for approximately 1,500 miles (2,400 km) through the western North Pacific Ocean. Nearly the entire land area is taken up by the country’s four main islands; from north to south these are Hokkaido (Hokkaidō), Honshu (Honshū), Shikoku, and Kyushu (Kyūshū). Honshu is the largest of the four, followed in size by Hokkaido, Kyushu, and Shikoku. In addition, there are numerous smaller islands, the major groups of which are the Ryukyu (Nansei) Islands (including the island of Okinawa) to the south and west of Kyushu and the Izu, Bonin (Ogasawara), and Volcano (Kazan) islands to the south and east of central Honshu. The national capital, Tokyo (Tōkyō), in east-central Honshu, is one of the world’s most populous cities. The Japanese landscape is rugged, with more than four-fifths of the land surface consisting of mountains. There are many active and dormant volcanoes, including Mount Fuji (Fuji-san), which, at an elevation of 12,388 feet (3,776 metres), is Japan’s highest mountain. Abundant precipitation and the generally mild temperatures throughout most of the country have produced a lush vegetation cover and, despite the mountainous terrain and generally poor soils, have made it possible to raise a variety of crops. Japan has a large and, to a great extent, ethnically homogeneous population, which is heavily concentrated in the low-lying areas along the Pacific coast of Honshu.Complexity and contrast are the keynotes of life in Japan—a country possessing an intricate and ancient cultural tradition yet one that, since 1950, has emerged as one of the world’s most economically and technologically advanced societies. Heavy emphasis is placed on education, and Japan is one of the world’s most literate countries. Tension between old and new is apparent in all phases of Japanese life. A characteristic sensitivity to natural beauty and a concern with form and balance are evident in such cities as Kyōto and Nara, as well as in Japan’s ubiquitous gardens. Even in the countryside, however, the impact of rapid Westernization is evident in many aspects of Japanese life. The agricultural regions are characterized by low population densities and well-ordered rice fields and fruit orchards, whereas the industrial and urbanized belt along the Pacific coast of Honshu is noted for its highly concentrated population, heavy industrialization, and environmental pollution.Humans have occupied Japan for tens of thousands of years, but Japan’s recorded history begins only in the 1st century bce, with mention in Chinese sources. Contact with China and Korea in the early centuries ce brought profound changes to Japan, including the Chinese writing system, Buddhism, and many artistic forms from the continent. The first steps at political unification of the country occurred in the late 4th and early 5th centuries ce under the Yamato court. A great civilization then developed first at Nara in the 8th century and then at Heian-kyō (now Kyōto) from the late 8th to the late 12th century. The seven centuries thereafter were a period of domination by military rulers culminating in near isolation from the outside world from the early 17th to the mid-19th century.\""
   ]
  },
  {
   "cell_type": "code",
   "execution_count": 13,
   "metadata": {},
   "outputs": [
    {
     "data": {
      "text/plain": [
       "'Japan, island country lying off the east coast of Asia. It consists of a great string of islands in a northeast-southwest arc that stretches for approximately 1,500 miles (2,400 km) through the western North Pacific Ocean. Nearly the entire land area is taken up by the country’s four main islands; from north to south these are Hokkaido (Hokkaidō), Honshu (Honshū), Shikoku, and Kyushu (Kyūshū). Honshu is the largest of the four, followed in size by Hokkaido, Kyushu, and Shikoku. In addition, there are numerous smaller islands, the major groups of which are the Ryukyu (Nansei) Islands (including the island of Okinawa) to the south and west of Kyushu and the Izu, Bonin (Ogasawara), and Volcano (Kazan) islands to the south and east of central Honshu. The national capital, Tokyo (Tōkyō), in east-central Honshu, is one of the world’s most populous cities. The Japanese landscape is rugged, with more than four-fifths of the land surface consisting of mountains. There are many active and dormant volcanoes, including Mount Fuji (Fuji-san), which, at an elevation of 12,388 feet (3,776 metres), is Japan’s highest mountain. Abundant precipitation and the generally mild temperatures throughout most of the country have produced a lush vegetation cover and, despite the mountainous terrain and generally poor soils, have made it possible to raise a variety of crops. Japan has a large and, to a great extent, ethnically homogeneous population, which is heavily concentrated in the low-lying areas along the Pacific coast of Honshu.Complexity and contrast are the keynotes of life in Japan—a country possessing an intricate and ancient cultural tradition yet one that, since 1950, has emerged as one of the world’s most economically and technologically advanced societies. Heavy emphasis is placed on education, and Japan is one of the world’s most literate countries. Tension between old and new is apparent in all phases of Japanese life. A characteristic sensitivity to natural beauty and a concern with form and balance are evident in such cities as Kyōto and Nara, as well as in Japan’s ubiquitous gardens. Even in the countryside, however, the impact of rapid Westernization is evident in many aspects of Japanese life. The agricultural regions are characterized by low population densities and well-ordered rice fields and fruit orchards, whereas the industrial and urbanized belt along the Pacific coast of Honshu is noted for its highly concentrated population, heavy industrialization, and environmental pollution.Humans have occupied Japan for tens of thousands of years, but Japan’s recorded history begins only in the 1st century bce, with mention in Chinese sources. Contact with China and Korea in the early centuries ce brought profound changes to Japan, including the Chinese writing system, Buddhism, and many artistic forms from the continent. The first steps at political unification of the country occurred in the late 4th and early 5th centuries ce under the Yamato court. A great civilization then developed first at Nara in the 8th century and then at Heian-kyō (now Kyōto) from the late 8th to the late 12th century. The seven centuries thereafter were a period of domination by military rulers culminating in near isolation from the outside world from the early 17th to the mid-19th century.'"
      ]
     },
     "execution_count": 13,
     "metadata": {},
     "output_type": "execute_result"
    }
   ],
   "source": [
    "text"
   ]
  },
  {
   "cell_type": "markdown",
   "metadata": {},
   "source": [
    "# gensim.summarization offers TextRank summarization"
   ]
  },
  {
   "cell_type": "code",
   "execution_count": null,
   "metadata": {},
   "outputs": [],
   "source": [
    "from gensim.summarization.summarizer import summarize \n",
    "from gensim.summarization import keywords \n",
    "\n",
    "#nlp = en_core_web_sm.load() \n",
    "#doc = nlp(text) \n",
    "  \n",
    "# Summary (0.5% of the original content). \n",
    "summ_per = summarize(str(text), ratio = 0.2) \n",
    "print(\"Percent summary\") \n",
    "print(summ_per) "
   ]
  },
  {
   "cell_type": "code",
   "execution_count": 5,
   "metadata": {},
   "outputs": [
    {
     "name": "stdout",
     "output_type": "stream",
     "text": [
      "Word count summary\n",
      "Nearly the entire land area is taken up by the country’s four main islands; from north to south these are Hokkaido (Hokkaidō), Honshu (Honshū), Shikoku, and Kyushu (Kyūshū).\n",
      "Japan has a large and, to a great extent, ethnically homogeneous population, which is heavily concentrated in the low-lying areas along the Pacific coast of Honshu.Complexity and contrast are the keynotes of life in Japan—a country possessing an intricate and ancient cultural tradition yet one that, since 1950, has emerged as one of the world’s most economically and technologically advanced societies.\n"
     ]
    }
   ],
   "source": [
    "# Summary (200 words) \n",
    "summ_words = summarize(str(text), word_count = 100) \n",
    "print(\"Word count summary\") \n",
    "print(summ_words) \n"
   ]
  },
  {
   "cell_type": "code",
   "execution_count": null,
   "metadata": {},
   "outputs": [],
   "source": [
    "from gensim.summarization import keywords\n",
    "\n",
    "print('Keywords:')\n",
    "print(keywords(text))"
   ]
  },
  {
   "cell_type": "code",
   "execution_count": null,
   "metadata": {},
   "outputs": [],
   "source": [
    "print('Keywords:')\n",
    "print(keywords(text, ratio=0.1))"
   ]
  },
  {
   "cell_type": "code",
   "execution_count": 12,
   "metadata": {},
   "outputs": [
    {
     "data": {
      "text/plain": [
       "'Japan, island country lying off the east coast of Asia.\\nNearly the entire land area is taken up by the country’s four main islands; from north to south these are Hokkaido (Hokkaidō), Honshu (Honshū), Shikoku, and Kyushu (Kyūshū).\\nJapan has a large and, to a great extent, ethnically homogeneous population, which is heavily concentrated in the low-lying areas along the Pacific coast of Honshu.Complexity and contrast are the keynotes of life in Japan—a country possessing an intricate and ancient cultural tradition yet one that, since 1950, has emerged as one of the world’s most economically and technologically advanced societies.'"
      ]
     },
     "execution_count": 12,
     "metadata": {},
     "output_type": "execute_result"
    }
   ],
   "source": [
    "from summa.summarizer import summarize\n",
    "summarize(text, ratio=0.2)"
   ]
  },
  {
   "cell_type": "code",
   "execution_count": null,
   "metadata": {},
   "outputs": [],
   "source": [
    "from summa import keywords\n",
    "print(keywords.keywords(text))"
   ]
  },
  {
   "cell_type": "code",
   "execution_count": null,
   "metadata": {},
   "outputs": [],
   "source": []
  }
 ],
 "metadata": {
  "kernelspec": {
   "display_name": "Python 3",
   "language": "python",
   "name": "python3"
  },
  "language_info": {
   "codemirror_mode": {
    "name": "ipython",
    "version": 3
   },
   "file_extension": ".py",
   "mimetype": "text/x-python",
   "name": "python",
   "nbconvert_exporter": "python",
   "pygments_lexer": "ipython3",
   "version": "3.6.8"
  }
 },
 "nbformat": 4,
 "nbformat_minor": 2
}
