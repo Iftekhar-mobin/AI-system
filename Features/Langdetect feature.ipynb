{
 "cells": [
  {
   "cell_type": "code",
   "execution_count": 66,
   "metadata": {
    "scrolled": true
   },
   "outputs": [],
   "source": [
    "lang_name = {\n",
    "\"Abkhazian\":\"ab\",\n",
    "\"Afar\":\"aa\",\n",
    "\"Afrikaans\":\"af\",\n",
    "\"Akan\":\"ak\",\n",
    "\"Albanian\":\"sq\",\n",
    "\"Amharic\":\"am\",\n",
    "\"Arabic\":\"ar\",\n",
    "\"Aragonese\":\"an\",\n",
    "\"Armenian\":\"hy\",\n",
    "\"Assamese\":\"as\",\n",
    "\"Avaric\":\"av\",\n",
    "\"Avestan\":\"ae\",\n",
    "\"Aymara\":\"ay\",\n",
    "\"Azerbaijani\":\"az\",\n",
    "\"Bambara\":\"bm\",\n",
    "\"Bashkir\":\"ba\",\n",
    "\"Basque\":\"eu\",\n",
    "\"Belarusian\":\"be\",\n",
    "\"Bengali\":\"bn\",\n",
    "\"Bihari languages\":\"bh\",\n",
    "\"Bislama\":\"bi\",\n",
    "\"Bosnian\":\"bs\",\n",
    "\"Breton\":\"br\",\n",
    "\"Bulgarian\":\"bg\",\n",
    "\"Burmese\":\"my\",\n",
    "\"Catalan\":\"ca\",\n",
    "\"Chamorro\":\"ch\",\n",
    "\"Chechen\":\"ce\",\n",
    "\"Chichewa\":\"ny\",\n",
    "\"Chinese\":\"zh\",\n",
    "\"Chuvash\":\"cv\",\n",
    "\"Cornish\":\"kw\",\n",
    "\"Corsican\":\"co\",\n",
    "\"Cree\":\"cr\",\n",
    "\"Croatian\":\"hr\",\n",
    "\"Czech\":\"cs\",\n",
    "\"Danish\":\"da\",\n",
    "\"Divehi\":\"dv\",\n",
    "\"Dutch\":\"nl\",\n",
    "\"Dzongkha\":\"dz\",\n",
    "\"English\":\"en\",\n",
    "\"Esperanto\":\"eo\",\n",
    "\"Estonian\":\"et\",\n",
    "\"Ewe\":\"ee\",\n",
    "\"Faroese\":\"fo\",\n",
    "\"Fijian\":\"fj\",\n",
    "\"Finnish\":\"fi\",\n",
    "\"French\":\"fr\",\n",
    "\"Fulah\":\"ff\",\n",
    "\"Galician\":\"gl\",\n",
    "\"Georgian\":\"ka\",\n",
    "\"German\":\"de\",\n",
    "\"Greek\":\"el\",\n",
    "\"Guarani\":\"gn\",\n",
    "\"Gujarati\":\"gu\",\n",
    "\"Hausa\":\"ha\",\n",
    "\"Hebrew\":\"he\",\n",
    "\"Herero\":\"hz\",\n",
    "\"Hindi\":\"hi\",\n",
    "\"Hiri Motu\":\"ho\",\n",
    "\"Hungarian\":\"hu\",\n",
    "\"Indonesian\":\"id\",\n",
    "\"Irish\":\"ga\",\n",
    "\"Igbo\":\"ig\",\n",
    "\"Inupiaq\":\"ik\",\n",
    "\"Ido\":\"io\",\n",
    "\"Icelandic\":\"is\",\n",
    "\"Italian\":\"it\",\n",
    "\"Inuktitut\":\"iu\",\n",
    "\"Japanese\":\"ja\",\n",
    "\"Javanese\":\"jv\",\n",
    "\"Kalaallisut\":\"kl\",\n",
    "\"Kannada\":\"kn\",\n",
    "\"Kanuri\":\"kr\",\n",
    "\"Kashmiri\":\"ks\",\n",
    "\"Kazakh\":\"kk\",\n",
    "\"Central Khmer\":\"km\",\n",
    "\"Kikuyu\":\"ki\",\n",
    "\"Kinyarwanda\":\"rw\",\n",
    "\"Kirghiz\":\"ky\",\n",
    "\"Komi\":\"kv\",\n",
    "\"Kongo\":\"kg\",\n",
    "\"Korean\":\"ko\",\n",
    "\"Kurdish\":\"ku\",\n",
    "\"Kuanyama\":\"kj\",\n",
    "\"Latin\":\"la\",\n",
    "\"Ganda\":\"lg\",\n",
    "\"Limburgan\":\"li\",\n",
    "\"Lingala\":\"ln\",\n",
    "\"Lao\":\"lo\",\n",
    "\"Lithuanian\":\"lt\",\n",
    "\"Luba-Katanga\":\"lu\",\n",
    "\"Latvian\":\"lv\",\n",
    "\"Manx\":\"gv\",\n",
    "\"Macedonian\":\"mk\",\n",
    "\"Malagasy\":\"mg\",\n",
    "\"Malay\":\"ms\",\n",
    "\"Malayalam\":\"ml\",\n",
    "\"Maltese\":\"mt\",\n",
    "\"Maori\":\"mi\",\n",
    "\"Marathi\":\"mr\",\n",
    "\"Marshallese\":\"mh\",\n",
    "\"Mongolian\":\"mn\",\n",
    "\"Nauru\":\"na\",\n",
    "\"Navajo\":\"nv\",\n",
    "\"North Ndebele\":\"nd\",\n",
    "\"Nepali\":\"ne\",\n",
    "\"Ndonga\":\"ng\",\n",
    "\"Norwegian Bokmål\":\"nb\",\n",
    "\"Norwegian Nynorsk\":\"nn\",\n",
    "\"Norwegian\":\"no\",\n",
    "\"Sichuan Yi\":\"ii\",\n",
    "\"South Ndebele\":\"nr\",\n",
    "\"Occitan\":\"oc\",\n",
    "\"Ojibwa\":\"oj\",\n",
    "\"Oromo\":\"om\",\n",
    "\"Oriya\":\"or\",\n",
    "\"Ossetian\":\"os\",\n",
    "\"Punjabi\":\"pa\",\n",
    "\"Pali\":\"pi\",\n",
    "\"Persian\":\"fa\",\n",
    "\"Polish\":\"pl\",\n",
    "\"Pashto\":\"ps\",\n",
    "\"Portuguese\":\"pt\",\n",
    "\"Quechua\":\"qu\",\n",
    "\"Romansh\":\"rm\",\n",
    "\"Rundi\":\"rn\",\n",
    "\"Romanian\":\"ro\",\n",
    "\"Russian\":\"ru\",\n",
    "\"Sanskrit\":\"sa\",\n",
    "\"Sardinian\":\"sc\",\n",
    "\"Sindhi\":\"sd\",\n",
    "\"Northern Sami\":\"se\",\n",
    "\"Samoan\":\"sm\",\n",
    "\"Sango\":\"sg\",\n",
    "\"Serbian\":\"sr\",\n",
    "\"Gaelic\":\"gd\",\n",
    "\"Shona\":\"sn\",\n",
    "\"Sinhala\":\"si\",\n",
    "\"Slovak\":\"sk\",\n",
    "\"Slovenian\":\"sl\",\n",
    "\"Somali\":\"so\",\n",
    "\"Southern Sotho\":\"st\",\n",
    "\"Spanish\":\"es\",\n",
    "\"Sundanese\":\"su\",\n",
    "\"Swahili\":\"sw\",\n",
    "\"Swati\":\"ss\",\n",
    "\"Swedish\":\"sv\",\n",
    "\"Tamil\":\"ta\",\n",
    "\"Telugu\":\"te\",\n",
    "\"Tajik\":\"tg\",\n",
    "\"Thai\":\"th\",\n",
    "\"Tigrinya\":\"ti\",\n",
    "\"Tibetan\":\"bo\",\n",
    "\"Turkmen\":\"tk\",\n",
    "\"Tagalog\":\"tl\",\n",
    "\"Tswana\":\"tn\",\n",
    "\"Tonga\":\"to\",\n",
    "\"Turkish\":\"tr\",\n",
    "\"Tsonga\":\"ts\",\n",
    "\"Tatar\":\"tt\",\n",
    "\"Twi\":\"tw\",\n",
    "\"Tahitian\":\"ty\",\n",
    "\"Uighur\":\"ug\",\n",
    "\"Ukrainian\":\"uk\",\n",
    "\"Urdu\":\"ur\",\n",
    "\"Uzbek\":\"uz\",\n",
    "\"Venda\":\"ve\",\n",
    "\"Vietnamese\":\"vi\",\n",
    "\"Volapük\":\"vo\",\n",
    "\"Walloon\":\"wa\",\n",
    "\"Welsh\":\"cy\",\n",
    "\"Wolof\":\"wo\",\n",
    "\"Western Frisian\":\"fy\",\n",
    "\"Xhosa\":\"xh\",\n",
    "\"Yiddish\":\"yi\",\n",
    "\"Yoruba\":\"yo\",\n",
    "\"Zhuang\":\"za\",\n",
    "\"Zulu\":\"zu\"\n",
    "}"
   ]
  },
  {
   "cell_type": "code",
   "execution_count": null,
   "metadata": {
    "scrolled": true
   },
   "outputs": [],
   "source": [
    "import spacy\n",
    "from spacy_cld import LanguageDetector\n",
    "nlp = spacy.load('en')\n",
    "language_detector = LanguageDetector()\n",
    "nlp.add_pipe(language_detector)"
   ]
  },
  {
   "cell_type": "code",
   "execution_count": 110,
   "metadata": {
    "scrolled": true
   },
   "outputs": [],
   "source": [
    "import MeCab\n",
    "mecab = MeCab.Tagger('-Owakati')\n",
    "\n",
    "text = 'AndroidEnteriseの登録方法は？'\n",
    "text = mecab.parse(text).strip(\"\\n\").rstrip()\n",
    "\n",
    "doc = nlp(text)"
   ]
  },
  {
   "cell_type": "code",
   "execution_count": 111,
   "metadata": {
    "scrolled": true
   },
   "outputs": [
    {
     "name": "stdout",
     "output_type": "stream",
     "text": [
      "['ja']\n",
      "{'ja': 0.55}\n"
     ]
    }
   ],
   "source": [
    "print(doc._.languages)  # ['en']\n",
    "print(doc._.language_scores)  # 0.96"
   ]
  },
  {
   "cell_type": "code",
   "execution_count": 118,
   "metadata": {
    "scrolled": true
   },
   "outputs": [
    {
     "name": "stdout",
     "output_type": "stream",
     "text": [
      "0 {'language': 'fr', 'score': 0.5719975178367189}\n",
      "1 {'language': 'ko', 'score': 0.7142840380109836}\n",
      "2 {'language': 'UNKNOWN', 'score': 0.0}\n"
     ]
    }
   ],
   "source": [
    "for i, sent in enumerate(doc.sents):\n",
    "    print(i,sent._.language)"
   ]
  },
  {
   "cell_type": "code",
   "execution_count": 113,
   "metadata": {
    "scrolled": true
   },
   "outputs": [
    {
     "name": "stdout",
     "output_type": "stream",
     "text": [
      "Text: <start> AndroidEnterise の <End> : \n",
      "French : {}\n",
      "Text: <start> 登録 方法 は <End> : \n",
      "Korean : {'ja': 0.94}\n",
      "Text: <start> ？ <End> : \n",
      "Korean : {}\n"
     ]
    }
   ],
   "source": [
    "for i, sent in enumerate(doc.sents):\n",
    "    print('Text: <start>',sent,\"<End> : \")\n",
    "    l = sent._.language['language']\n",
    "    \n",
    "    for name, code in lang_name.items():\n",
    "        if code == l:\n",
    "            n = name\n",
    "    \n",
    "    print(n,\":\",sent._.language_scores)"
   ]
  },
  {
   "cell_type": "code",
   "execution_count": null,
   "metadata": {},
   "outputs": [],
   "source": []
  }
 ],
 "metadata": {
  "kernelspec": {
   "display_name": "Python 3",
   "language": "python",
   "name": "python3"
  },
  "language_info": {
   "codemirror_mode": {
    "name": "ipython",
    "version": 3
   },
   "file_extension": ".py",
   "mimetype": "text/x-python",
   "name": "python",
   "nbconvert_exporter": "python",
   "pygments_lexer": "ipython3",
   "version": "3.6.8"
  }
 },
 "nbformat": 4,
 "nbformat_minor": 2
}
